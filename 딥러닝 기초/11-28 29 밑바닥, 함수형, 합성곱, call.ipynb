{
 "cells": [
  {
   "cell_type": "markdown",
   "id": "d66381fc-452b-4d7a-9545-02d48355e4cc",
   "metadata": {},
   "source": [
    "# 케라스 모델 완전 정복"
   ]
  },
  {
   "cell_type": "code",
   "execution_count": 2,
   "id": "3708fca1-9b0b-477c-b201-4a84c22c9a1a",
   "metadata": {},
   "outputs": [],
   "source": [
    "import keras \n",
    "from tensorflow.keras import layers\n",
    "from keras import Sequential"
   ]
  },
  {
   "cell_type": "code",
   "execution_count": 3,
   "id": "581cb1b4-a573-4635-95d4-e6db2adb5f8a",
   "metadata": {},
   "outputs": [],
   "source": [
    "model=keras.Sequential([layers.Dense(64, activation='relu'), layers.Dense(10, activation='softmax')])"
   ]
  },
  {
   "cell_type": "code",
   "execution_count": 76,
   "id": "31e868d6-9ea0-40f0-8dc0-ab08c0b8f1ae",
   "metadata": {},
   "outputs": [],
   "source": [
    "model.build(input_shape=(None,3)) # 인풋을 3개넣음 "
   ]
  },
  {
   "cell_type": "code",
   "execution_count": 77,
   "id": "c3cdb1cc-19df-4186-b2a9-8664a4d3320c",
   "metadata": {
    "collapsed": true,
    "jupyter": {
     "outputs_hidden": true
    },
    "tags": []
   },
   "outputs": [
    {
     "data": {
      "text/plain": [
       "[<tf.Variable 'dense/kernel:0' shape=(3, 64) dtype=float32, numpy=\n",
       " array([[ 0.03547117, -0.28570142, -0.19022843, -0.08068509,  0.24469328,\n",
       "          0.14530918, -0.03066292,  0.2729991 ,  0.29905653, -0.03663284,\n",
       "          0.25495028, -0.14815308,  0.07243699, -0.02474144,  0.19431058,\n",
       "          0.11671355,  0.26555628, -0.07676812, -0.24377534,  0.18770218,\n",
       "          0.14192075,  0.27225095, -0.24806595, -0.12336984, -0.20938915,\n",
       "          0.00794512,  0.22464979,  0.02260372,  0.09634501, -0.28018677,\n",
       "         -0.04208186, -0.08086133,  0.03901157,  0.14152962,  0.1316804 ,\n",
       "          0.07935134, -0.10433492, -0.21948823,  0.05915281, -0.11264932,\n",
       "         -0.23927444, -0.27352107, -0.0913322 ,  0.01581645, -0.22122312,\n",
       "          0.2687208 ,  0.06786552, -0.27041495, -0.098482  , -0.2555679 ,\n",
       "          0.00418139, -0.13177207, -0.25077367,  0.01200157, -0.13274446,\n",
       "         -0.04105109,  0.02092171, -0.21761864,  0.01727828, -0.05338785,\n",
       "          0.25756586,  0.15882981,  0.15836382,  0.13038915],\n",
       "        [ 0.13457239,  0.27311534,  0.13650697,  0.29032236, -0.04940289,\n",
       "          0.0880172 ,  0.28140688, -0.07287227,  0.09671465, -0.04963355,\n",
       "         -0.21160677,  0.2285536 ,  0.22124022, -0.13862564, -0.0437018 ,\n",
       "          0.21314889,  0.17211062, -0.27389002, -0.13924158, -0.25609618,\n",
       "          0.04901576, -0.15269013,  0.1769163 , -0.13855228, -0.1963935 ,\n",
       "          0.10594538, -0.12366472,  0.17102078, -0.08816537, -0.11903462,\n",
       "         -0.04797402, -0.04582852, -0.04742843, -0.10734463,  0.06199065,\n",
       "          0.1733729 , -0.22078626, -0.29732022,  0.1564109 ,  0.01136678,\n",
       "          0.04200453, -0.14517789,  0.14064577, -0.23627657,  0.06968454,\n",
       "          0.25765455,  0.27414572,  0.04678187, -0.02432218, -0.26435077,\n",
       "          0.06580132,  0.09292147,  0.02346751,  0.29362708, -0.17082858,\n",
       "          0.18181837,  0.10772064, -0.2186499 ,  0.24752969, -0.10103296,\n",
       "         -0.09368816, -0.14350444,  0.08921131,  0.23973095],\n",
       "        [-0.2411362 , -0.26984248, -0.02079692,  0.13567999,  0.12463909,\n",
       "         -0.22953017, -0.2108619 ,  0.02591568,  0.11184466, -0.08956151,\n",
       "         -0.21674186,  0.00304404, -0.02651712,  0.16816089, -0.25847197,\n",
       "          0.2915889 ,  0.28582394, -0.10822642, -0.08741529,  0.26794094,\n",
       "         -0.23562032, -0.11177117,  0.14646721,  0.29111165,  0.17329586,\n",
       "          0.09183791,  0.18811828,  0.27649015,  0.18901554,  0.13587418,\n",
       "          0.00075871, -0.1403302 ,  0.2587275 ,  0.13027927,  0.18063834,\n",
       "          0.1597259 ,  0.01432192,  0.21472555, -0.07206832,  0.25159615,\n",
       "         -0.07024254, -0.24544136,  0.28515667,  0.05443731,  0.07333973,\n",
       "         -0.1699595 , -0.2673272 ,  0.0160653 , -0.02436623, -0.27062324,\n",
       "          0.16304657,  0.26153576,  0.24515343,  0.1773319 , -0.17517963,\n",
       "         -0.06924525,  0.24978936,  0.12814257, -0.09565829, -0.18461283,\n",
       "         -0.26908204, -0.18891779,  0.11051124, -0.03901049]],\n",
       "       dtype=float32)>,\n",
       " <tf.Variable 'dense/bias:0' shape=(64,) dtype=float32, numpy=\n",
       " array([0., 0., 0., 0., 0., 0., 0., 0., 0., 0., 0., 0., 0., 0., 0., 0., 0.,\n",
       "        0., 0., 0., 0., 0., 0., 0., 0., 0., 0., 0., 0., 0., 0., 0., 0., 0.,\n",
       "        0., 0., 0., 0., 0., 0., 0., 0., 0., 0., 0., 0., 0., 0., 0., 0., 0.,\n",
       "        0., 0., 0., 0., 0., 0., 0., 0., 0., 0., 0., 0., 0.], dtype=float32)>,\n",
       " <tf.Variable 'dense_1/kernel:0' shape=(64, 10) dtype=float32, numpy=\n",
       " array([[ 1.03222817e-01, -1.77511185e-01, -1.52756780e-01,\n",
       "          5.04571795e-02, -2.38673523e-01, -1.16849378e-01,\n",
       "         -2.57373422e-01, -2.15398312e-01, -1.70437410e-01,\n",
       "         -1.36721790e-01],\n",
       "        [-1.40742958e-02,  1.13191307e-02, -1.82559475e-01,\n",
       "         -4.09896523e-02, -7.26227015e-02,  1.59792393e-01,\n",
       "          1.35855108e-01, -1.81083158e-01,  2.46277958e-01,\n",
       "         -2.54585981e-01],\n",
       "        [-1.51497304e-01, -1.34547442e-01, -1.78083420e-01,\n",
       "          9.09557939e-02,  9.84597206e-02,  4.30983007e-02,\n",
       "          2.83452570e-02,  2.33185440e-01,  1.63957596e-01,\n",
       "          7.19180703e-02],\n",
       "        [ 1.77312344e-01,  2.38012344e-01,  2.43560404e-01,\n",
       "          1.61556900e-02, -1.11597821e-01, -1.50011763e-01,\n",
       "          1.28188074e-01,  1.54603571e-01, -9.33783650e-02,\n",
       "         -1.01582006e-01],\n",
       "        [-6.04157746e-02,  2.83455402e-01,  2.80163199e-01,\n",
       "          1.82325542e-02, -1.60496071e-01,  4.55161035e-02,\n",
       "          1.19603634e-01, -2.35351577e-01, -9.08137113e-02,\n",
       "          2.30526894e-01],\n",
       "        [-6.16555661e-02,  1.78921372e-01, -1.14335373e-01,\n",
       "          2.03851730e-01, -1.94668978e-01, -2.49243319e-01,\n",
       "          1.34530336e-01, -1.93204492e-01,  2.79765695e-01,\n",
       "          1.78083271e-01],\n",
       "        [-1.55334264e-01,  1.48250759e-02, -2.68906027e-01,\n",
       "         -2.48545200e-01, -2.30877683e-01, -2.25425243e-01,\n",
       "          6.04225695e-02,  8.06025267e-02, -2.26232722e-01,\n",
       "         -7.26483613e-02],\n",
       "        [-2.05555066e-01,  5.33186495e-02,  1.18734598e-01,\n",
       "         -2.26450443e-01,  1.88736558e-01,  8.31884146e-03,\n",
       "         -7.33787864e-02,  2.89584994e-02,  2.36298114e-01,\n",
       "          7.77657032e-02],\n",
       "        [ 2.23425776e-01,  2.68959731e-01,  3.92344594e-03,\n",
       "          1.60157710e-01,  1.70527101e-01, -3.91405672e-02,\n",
       "          1.09138131e-01,  7.43454695e-02,  1.75915658e-02,\n",
       "         -7.82400370e-03],\n",
       "        [ 1.20713949e-01,  8.27780962e-02,  2.70191580e-01,\n",
       "         -1.78300530e-01,  2.15255588e-01, -1.53532967e-01,\n",
       "         -2.22916603e-01, -2.46748596e-01, -5.44065088e-02,\n",
       "          1.64432824e-01],\n",
       "        [-2.72861779e-01,  1.91235960e-01,  5.51644862e-02,\n",
       "         -2.33614698e-01, -1.17917955e-02, -2.69044638e-01,\n",
       "          1.39569253e-01,  2.69487292e-01, -8.13872516e-02,\n",
       "         -7.91148692e-02],\n",
       "        [-2.43972406e-01,  1.77151501e-01,  1.02631629e-01,\n",
       "          1.55244708e-01, -7.19371587e-02, -1.07409060e-01,\n",
       "          1.59023702e-01, -4.83243167e-02, -5.82677126e-03,\n",
       "          5.52214980e-02],\n",
       "        [ 7.13022649e-02, -5.69198877e-02, -2.57484168e-01,\n",
       "         -2.44387954e-01,  1.02391452e-01,  2.11261421e-01,\n",
       "         -1.76763505e-01,  8.85763466e-02, -3.88190150e-03,\n",
       "          3.11595201e-02],\n",
       "        [ 2.77148753e-01, -1.67291969e-01,  1.87385708e-01,\n",
       "          2.10082799e-01,  6.16593659e-02,  1.22809708e-01,\n",
       "          1.80598497e-02, -2.53408968e-01, -4.84381020e-02,\n",
       "          1.76856667e-01],\n",
       "        [ 7.92645514e-02,  2.57452458e-01,  2.63608724e-01,\n",
       "          1.29924715e-02, -8.71959329e-03,  8.31438005e-02,\n",
       "          1.55689597e-01,  2.30603844e-01,  1.98534518e-01,\n",
       "          6.02727830e-02],\n",
       "        [-4.74522114e-02,  1.38659954e-01,  2.37827450e-01,\n",
       "          5.05239964e-02, -1.61082909e-01, -4.85692024e-02,\n",
       "          1.56605959e-01,  2.13774204e-01,  1.63577497e-02,\n",
       "          2.60401636e-01],\n",
       "        [-1.57993615e-01,  2.62550741e-01, -5.12030870e-02,\n",
       "         -1.67851776e-01, -5.27099520e-02,  1.72591805e-02,\n",
       "          1.92745745e-01,  3.96270454e-02, -6.44975305e-02,\n",
       "         -1.10192508e-01],\n",
       "        [ 1.33408904e-02, -1.10095426e-01, -2.49275863e-02,\n",
       "          2.37968951e-01, -9.69886333e-02, -1.26436263e-01,\n",
       "         -4.26330417e-02,  2.70522803e-01, -2.69778877e-01,\n",
       "         -1.71121806e-01],\n",
       "        [-1.64207965e-01,  2.16043502e-01, -4.96111661e-02,\n",
       "         -2.30948627e-01,  2.26115793e-01,  8.42061639e-03,\n",
       "          2.19142884e-01,  9.32220817e-02, -1.33513764e-01,\n",
       "          1.30337924e-01],\n",
       "        [ 7.07588792e-02, -1.49524525e-01, -9.45664197e-02,\n",
       "         -1.53513208e-01, -1.19811103e-01, -4.34615016e-02,\n",
       "          2.51737922e-01,  1.98200852e-01,  2.35651165e-01,\n",
       "          4.01083231e-02],\n",
       "        [ 2.61465579e-01, -7.13810176e-02,  1.65866971e-01,\n",
       "          2.60384381e-02, -1.44920006e-01, -1.64397448e-01,\n",
       "          1.26660496e-01,  2.83994824e-01, -7.67283589e-02,\n",
       "          1.87998265e-01],\n",
       "        [-7.96712786e-02,  3.10327113e-02, -2.15017378e-01,\n",
       "          1.59993500e-01, -1.31940231e-01, -2.38192528e-01,\n",
       "          1.61131322e-02,  8.11471343e-02,  9.54350829e-03,\n",
       "         -1.46836653e-01],\n",
       "        [-2.19754279e-02, -2.23509416e-01,  4.00105715e-02,\n",
       "          1.16703421e-01, -2.19126225e-01, -2.50086218e-01,\n",
       "          1.59247726e-01,  2.74381250e-01, -2.70041615e-01,\n",
       "         -1.41710415e-01],\n",
       "        [ 2.65471011e-01,  2.78932899e-01,  2.46201158e-02,\n",
       "          1.75949126e-01,  2.37969607e-01, -1.18091062e-01,\n",
       "         -1.05914965e-01,  2.56170303e-01,  1.51037842e-01,\n",
       "         -2.37943172e-01],\n",
       "        [-9.35864449e-02,  2.56312758e-01, -9.66656208e-02,\n",
       "          5.18931746e-02, -2.67565966e-01, -6.39752597e-02,\n",
       "         -1.14163816e-01,  2.28235930e-01,  2.79833376e-02,\n",
       "         -5.17225266e-03],\n",
       "        [-1.77817762e-01,  3.45114768e-02,  1.44721925e-01,\n",
       "         -2.22548515e-01,  1.92565918e-02, -2.02796757e-02,\n",
       "          3.31428647e-03, -1.88821837e-01,  2.58186162e-02,\n",
       "          1.51091278e-01],\n",
       "        [-5.87809980e-02, -1.99483335e-01,  1.71742380e-01,\n",
       "          1.03729069e-01,  1.17235124e-01, -1.11985192e-01,\n",
       "         -2.65952975e-01,  2.49309093e-01,  1.16036206e-01,\n",
       "          3.64909172e-02],\n",
       "        [ 1.51373804e-01,  2.60633558e-01,  2.21524209e-01,\n",
       "          7.09438622e-02, -4.33084667e-02,  9.23183560e-03,\n",
       "          9.41899419e-03, -1.68786287e-01,  2.57138401e-01,\n",
       "         -1.20946407e-01],\n",
       "        [ 2.47997493e-01, -2.71733403e-01, -8.16877186e-02,\n",
       "          2.64323145e-01, -2.27609634e-01, -1.63641840e-01,\n",
       "          2.00542271e-01,  2.79056102e-01, -2.17430145e-01,\n",
       "         -9.92369801e-02],\n",
       "        [-1.91910788e-01,  5.06155789e-02, -1.51006877e-01,\n",
       "          9.10238326e-02,  2.23448902e-01, -2.79740244e-01,\n",
       "         -2.53648639e-01,  2.57459313e-01,  1.43845975e-02,\n",
       "          1.27516866e-01],\n",
       "        [-1.33487582e-02, -1.46376565e-01, -3.87317389e-02,\n",
       "         -2.87096798e-02, -1.24006584e-01,  8.48667026e-02,\n",
       "         -1.03210866e-01, -1.41200304e-01, -7.12754428e-02,\n",
       "         -1.54543146e-01],\n",
       "        [ 1.97262824e-01,  8.67376626e-02, -1.43228084e-01,\n",
       "         -2.10538864e-01,  5.76467812e-02,  2.32289046e-01,\n",
       "         -3.92031670e-03,  1.31810367e-01, -9.87222791e-03,\n",
       "         -2.51120448e-01],\n",
       "        [-2.83001274e-01,  1.34822458e-01, -2.44644567e-01,\n",
       "          4.02932465e-02,  1.99948847e-01,  1.45698905e-01,\n",
       "          2.97085941e-02, -2.52027035e-01, -2.12019935e-01,\n",
       "          2.12856859e-01],\n",
       "        [-3.75765264e-02,  1.42295003e-01, -2.38739520e-01,\n",
       "          1.62217259e-01,  1.43449277e-01,  7.72857964e-02,\n",
       "         -2.57890403e-01,  1.80970997e-01, -5.86188138e-02,\n",
       "          2.14006454e-01],\n",
       "        [ 6.24145567e-02, -5.30023575e-02,  1.69717252e-01,\n",
       "         -2.38454103e-01, -8.76140296e-02,  2.84523994e-01,\n",
       "         -1.00442827e-01,  2.31397748e-02,  2.53086299e-01,\n",
       "         -2.02191710e-01],\n",
       "        [ 1.97798669e-01, -1.04719087e-01, -2.20336214e-01,\n",
       "         -1.78978741e-02, -1.12007871e-01,  1.44992173e-01,\n",
       "         -1.60416514e-01, -1.49686709e-01, -1.84627116e-01,\n",
       "         -6.01690561e-02],\n",
       "        [ 1.84148550e-02,  9.39385891e-02,  1.60806745e-01,\n",
       "         -7.75106400e-02,  9.88804400e-02,  5.88767827e-02,\n",
       "          1.19916946e-01, -1.89997345e-01,  1.68794006e-01,\n",
       "          1.24118537e-01],\n",
       "        [-7.86596537e-03,  9.47081745e-02,  1.80296451e-01,\n",
       "          2.74086267e-01, -2.10392237e-01,  1.32605731e-02,\n",
       "          1.85794920e-01,  3.79393399e-02,  8.30873847e-03,\n",
       "          2.10472256e-01],\n",
       "        [ 2.12971002e-01, -8.95361155e-02,  6.32840097e-02,\n",
       "          2.06716239e-01,  4.44543064e-02, -8.67104977e-02,\n",
       "         -2.24574208e-02,  1.80246085e-01,  2.00847149e-01,\n",
       "          4.79064584e-02],\n",
       "        [-8.22820961e-02,  1.30388558e-01, -1.77993178e-01,\n",
       "          6.22648597e-02, -2.03143030e-01,  2.63445288e-01,\n",
       "          8.48593116e-02,  1.56717300e-01, -1.19356185e-01,\n",
       "          1.19958341e-01],\n",
       "        [ 8.29847455e-02, -8.56538713e-02,  1.85386300e-01,\n",
       "         -3.57162952e-03,  1.09242141e-01,  1.90771133e-01,\n",
       "         -2.33371928e-01, -3.77264321e-02, -1.87871724e-01,\n",
       "         -8.61727446e-02],\n",
       "        [ 4.29780483e-02, -5.95223904e-03, -2.32043743e-01,\n",
       "          1.04271621e-01, -2.55530179e-01, -1.87181830e-02,\n",
       "          1.53830260e-01, -2.93430686e-02,  1.49666339e-01,\n",
       "         -2.10164398e-01],\n",
       "        [ 8.09488893e-02,  1.32268816e-01, -1.64828479e-01,\n",
       "         -3.90618742e-02, -8.17425102e-02,  1.01066738e-01,\n",
       "         -2.38701403e-02, -1.82981610e-01,  7.94874430e-02,\n",
       "          1.42264456e-01],\n",
       "        [ 4.03980613e-02,  2.27869123e-01, -5.75500429e-02,\n",
       "          2.95528471e-02, -1.14719629e-01, -1.82176515e-01,\n",
       "          2.55238414e-02,  1.53241307e-01, -2.08553180e-01,\n",
       "         -1.76135063e-01],\n",
       "        [-1.70533746e-01, -1.15642443e-01, -2.23291293e-01,\n",
       "         -1.24810040e-02,  1.12696320e-01, -8.17871094e-02,\n",
       "         -2.17754051e-01,  7.65136182e-02, -1.89331472e-01,\n",
       "         -3.56083661e-02],\n",
       "        [-3.85168642e-02, -1.43725634e-01, -2.79400706e-01,\n",
       "          1.80202782e-01,  4.25264537e-02,  2.01210767e-01,\n",
       "          1.11665487e-01, -1.93022400e-01,  3.97959650e-02,\n",
       "          1.97353959e-03],\n",
       "        [ 2.24971741e-01, -2.39956558e-01,  1.51425809e-01,\n",
       "          2.52482504e-01, -2.12831348e-01, -7.55781829e-02,\n",
       "          1.55771732e-01,  1.74429774e-01, -1.20307922e-01,\n",
       "         -1.09754696e-01],\n",
       "        [-1.50496483e-01,  1.25070274e-01,  2.20101207e-01,\n",
       "          2.61552423e-01, -5.06656766e-02,  1.25553161e-01,\n",
       "         -1.73587188e-01, -1.06002063e-01, -1.03153288e-02,\n",
       "          1.80049479e-01],\n",
       "        [-1.64708853e-01, -7.40956217e-02, -2.28971705e-01,\n",
       "          2.70243078e-01,  1.73879176e-01, -2.75277197e-02,\n",
       "          1.93388939e-01,  2.16724873e-02,  1.50219500e-01,\n",
       "          2.40663737e-01],\n",
       "        [-1.12371475e-01,  1.22268021e-01,  7.29881525e-02,\n",
       "         -1.79916218e-01,  2.46421069e-01,  1.66264892e-01,\n",
       "          1.05648011e-01,  2.52842098e-01,  2.38423049e-02,\n",
       "         -2.63842791e-01],\n",
       "        [ 7.45332241e-02,  2.23280221e-01,  1.36935025e-01,\n",
       "          2.22501755e-02, -2.78474838e-01, -2.20987409e-01,\n",
       "         -2.04028368e-01,  2.34361559e-01,  1.99906707e-01,\n",
       "          1.13916904e-01],\n",
       "        [ 3.20013463e-02,  9.70892310e-02,  6.93967938e-03,\n",
       "         -1.57769918e-01,  2.24887699e-01, -1.25199556e-04,\n",
       "         -1.08003840e-01,  2.73751348e-01, -1.26250520e-01,\n",
       "          1.35739982e-01],\n",
       "        [-1.02777064e-01,  3.20260525e-02, -2.03013837e-01,\n",
       "         -1.20877579e-01,  2.53886968e-01, -3.36244404e-02,\n",
       "          2.29321986e-01, -8.31718445e-02, -2.37109095e-01,\n",
       "          2.22328097e-01],\n",
       "        [-2.48749480e-01, -1.20421290e-01,  2.37684876e-01,\n",
       "         -2.53535807e-02,  2.37621695e-01,  7.76965320e-02,\n",
       "          1.17183924e-02, -2.42947415e-01, -2.56725907e-01,\n",
       "         -3.23610306e-02],\n",
       "        [ 1.13333613e-01,  1.58748060e-01, -2.53483593e-01,\n",
       "          2.29284257e-01, -2.70814240e-01,  2.56722659e-01,\n",
       "         -2.32810691e-01, -1.92545891e-01,  1.86850190e-01,\n",
       "          8.84779096e-02],\n",
       "        [ 2.11570978e-01, -8.24615955e-02,  1.37437820e-01,\n",
       "          1.60317332e-01, -9.03535634e-02, -1.39534026e-01,\n",
       "         -2.52324462e-01, -1.18728474e-01,  4.88698781e-02,\n",
       "          1.94018602e-01],\n",
       "        [ 1.46890223e-01,  1.48590922e-01, -7.47324228e-02,\n",
       "          1.62503630e-01, -5.23282140e-02, -9.98776555e-02,\n",
       "         -2.63157785e-02, -2.36569643e-02, -7.43682683e-02,\n",
       "          1.09445542e-01],\n",
       "        [ 1.25184655e-01, -2.51729399e-01, -2.05912977e-01,\n",
       "          1.24619901e-01, -9.87305343e-02,  2.10906357e-01,\n",
       "         -1.32414907e-01, -7.54784495e-02,  7.50843585e-02,\n",
       "          4.79118824e-02],\n",
       "        [ 2.57110506e-01, -2.16088533e-01,  1.44018769e-01,\n",
       "         -2.14586884e-01,  2.56289095e-01,  4.38406467e-02,\n",
       "         -5.68440557e-02,  2.22406358e-01,  1.16087496e-02,\n",
       "          2.12639421e-01],\n",
       "        [ 1.12927616e-01,  2.84301072e-01, -7.05346316e-02,\n",
       "          1.91433460e-01, -2.16013491e-02, -1.61348417e-01,\n",
       "         -4.55785543e-02, -9.51035619e-02,  2.69231766e-01,\n",
       "         -2.33827740e-01],\n",
       "        [ 1.85182452e-01,  2.53632069e-02,  6.68465495e-02,\n",
       "         -2.17012644e-01, -2.75180399e-01, -2.51158923e-01,\n",
       "         -1.17540479e-01, -1.54521763e-01, -2.34560072e-02,\n",
       "         -1.84063554e-01],\n",
       "        [ 2.35168606e-01, -6.67359084e-02,  1.13585800e-01,\n",
       "          5.18692732e-02, -6.31332397e-02, -5.74118793e-02,\n",
       "         -2.02848732e-01,  1.53667241e-01, -2.44325399e-03,\n",
       "         -8.81585032e-02],\n",
       "        [ 2.47449368e-01, -2.79194802e-01, -2.73431838e-01,\n",
       "         -3.14211845e-03,  8.15296769e-02,  1.11811399e-01,\n",
       "          2.28123575e-01,  1.27324671e-01, -9.04304832e-02,\n",
       "          2.23931283e-01],\n",
       "        [-5.40385395e-02, -1.53028756e-01,  2.55069464e-01,\n",
       "          8.96354318e-02, -2.67414898e-01, -4.85144109e-02,\n",
       "          2.14048028e-02,  5.50823510e-02, -1.26810670e-01,\n",
       "          2.24295646e-01]], dtype=float32)>,\n",
       " <tf.Variable 'dense_1/bias:0' shape=(10,) dtype=float32, numpy=array([0., 0., 0., 0., 0., 0., 0., 0., 0., 0.], dtype=float32)>]"
      ]
     },
     "execution_count": 77,
     "metadata": {},
     "output_type": "execute_result"
    }
   ],
   "source": [
    "model.weights # 3행 64열 +64 + 64*10+ 10"
   ]
  },
  {
   "cell_type": "code",
   "execution_count": 78,
   "id": "76ffc27b-d475-4443-87de-d6cf2aab55f1",
   "metadata": {},
   "outputs": [
    {
     "name": "stdout",
     "output_type": "stream",
     "text": [
      "Model: \"sequential\"\n",
      "_________________________________________________________________\n",
      " Layer (type)                Output Shape              Param #   \n",
      "=================================================================\n",
      " dense (Dense)               (None, 64)                256       \n",
      "                                                                 \n",
      " dense_1 (Dense)             (None, 10)                650       \n",
      "                                                                 \n",
      "=================================================================\n",
      "Total params: 906\n",
      "Trainable params: 906\n",
      "Non-trainable params: 0\n",
      "_________________________________________________________________\n"
     ]
    }
   ],
   "source": [
    "model.summary() # 64는 숨겨친 층의 개수 none은 몇개가 들어올지 모름  출력10게 나옴 \n",
    "# 64*3= 192 +1*64 = 256 바이어스가 하나 들어감 \n",
    "# 65*10 --바이어스 하나 처움 파람스는 가중치이다. \n",
    "# 도합 906개의 가중치를 가짐 "
   ]
  },
  {
   "cell_type": "code",
   "execution_count": 79,
   "id": "d9b04357-76f5-49fd-9e3e-2e674e575867",
   "metadata": {},
   "outputs": [
    {
     "name": "stdout",
     "output_type": "stream",
     "text": [
      "Model: \"my_example_model\"\n",
      "_________________________________________________________________\n",
      " Layer (type)                Output Shape              Param #   \n",
      "=================================================================\n",
      " my_first_layer (Dense)      (None, 64)                256       \n",
      "                                                                 \n",
      " my_last_layer (Dense)       (None, 10)                650       \n",
      "                                                                 \n",
      "=================================================================\n",
      "Total params: 906\n",
      "Trainable params: 906\n",
      "Non-trainable params: 0\n",
      "_________________________________________________________________\n"
     ]
    }
   ],
   "source": [
    "model=keras.Sequential(name=\"my_example_model\")\n",
    "model.add(layers.Dense(64, activation=\"relu\", name=\"my_first_layer\"))\n",
    "model.add(layers.Dense(10, activation=\"softmax\", name=\"my_last_layer\"))\n",
    "model.build((None, 3))\n",
    "model.summary()"
   ]
  },
  {
   "cell_type": "code",
   "execution_count": 80,
   "id": "ad43e68c-f86f-470c-8070-e7f5f183f015",
   "metadata": {
    "collapsed": true,
    "jupyter": {
     "outputs_hidden": true
    },
    "tags": []
   },
   "outputs": [
    {
     "ename": "ValueError",
     "evalue": "All layers added to a Sequential model should have unique names. Name \"my_first_layer\" is already the name of a layer in this model. Update the `name` argument to pass a unique name.",
     "output_type": "error",
     "traceback": [
      "\u001b[1;31m---------------------------------------------------------------------------\u001b[0m",
      "\u001b[1;31mValueError\u001b[0m                                Traceback (most recent call last)",
      "Input \u001b[1;32mIn [80]\u001b[0m, in \u001b[0;36m<cell line: 2>\u001b[1;34m()\u001b[0m\n\u001b[0;32m      1\u001b[0m \u001b[38;5;28;01mfrom\u001b[39;00m \u001b[38;5;21;01mkeras\u001b[39;00m\u001b[38;5;21;01m.\u001b[39;00m\u001b[38;5;21;01mlayers\u001b[39;00m \u001b[38;5;28;01mimport\u001b[39;00m Dense\n\u001b[1;32m----> 2\u001b[0m \u001b[43mmodel\u001b[49m\u001b[38;5;241;43m.\u001b[39;49m\u001b[43madd\u001b[49m\u001b[43m(\u001b[49m\u001b[43mDense\u001b[49m\u001b[43m(\u001b[49m\u001b[38;5;241;43m64\u001b[39;49m\u001b[43m,\u001b[49m\u001b[43m \u001b[49m\u001b[43mactivation\u001b[49m\u001b[38;5;241;43m=\u001b[39;49m\u001b[38;5;124;43m\"\u001b[39;49m\u001b[38;5;124;43mrelu\u001b[39;49m\u001b[38;5;124;43m\"\u001b[39;49m\u001b[43m,\u001b[49m\u001b[43m \u001b[49m\u001b[43mname\u001b[49m\u001b[38;5;241;43m=\u001b[39;49m\u001b[38;5;124;43m\"\u001b[39;49m\u001b[38;5;124;43mmy_first_layer\u001b[39;49m\u001b[38;5;124;43m\"\u001b[39;49m\u001b[43m)\u001b[49m\u001b[43m)\u001b[49m \u001b[38;5;66;03m# input이 1개라서 그럼  64*10+ 64\u001b[39;00m\n\u001b[0;32m      3\u001b[0m model\u001b[38;5;241m.\u001b[39madd(Dense(\u001b[38;5;241m10\u001b[39m, activation\u001b[38;5;241m=\u001b[39m\u001b[38;5;124m\"\u001b[39m\u001b[38;5;124msoftmax\u001b[39m\u001b[38;5;124m\"\u001b[39m, name\u001b[38;5;241m=\u001b[39m\u001b[38;5;124m\"\u001b[39m\u001b[38;5;124mmy_last_layer\u001b[39m\u001b[38;5;124m\"\u001b[39m)) \u001b[38;5;66;03m# 65*10\u001b[39;00m\n\u001b[0;32m      4\u001b[0m model\u001b[38;5;241m.\u001b[39msummary()\n",
      "File \u001b[1;32m~\\anaconda3\\lib\\site-packages\\tensorflow\\python\\trackable\\base.py:205\u001b[0m, in \u001b[0;36mno_automatic_dependency_tracking.<locals>._method_wrapper\u001b[1;34m(self, *args, **kwargs)\u001b[0m\n\u001b[0;32m    203\u001b[0m \u001b[38;5;28mself\u001b[39m\u001b[38;5;241m.\u001b[39m_self_setattr_tracking \u001b[38;5;241m=\u001b[39m \u001b[38;5;28;01mFalse\u001b[39;00m  \u001b[38;5;66;03m# pylint: disable=protected-access\u001b[39;00m\n\u001b[0;32m    204\u001b[0m \u001b[38;5;28;01mtry\u001b[39;00m:\n\u001b[1;32m--> 205\u001b[0m   result \u001b[38;5;241m=\u001b[39m method(\u001b[38;5;28mself\u001b[39m, \u001b[38;5;241m*\u001b[39margs, \u001b[38;5;241m*\u001b[39m\u001b[38;5;241m*\u001b[39mkwargs)\n\u001b[0;32m    206\u001b[0m \u001b[38;5;28;01mfinally\u001b[39;00m:\n\u001b[0;32m    207\u001b[0m   \u001b[38;5;28mself\u001b[39m\u001b[38;5;241m.\u001b[39m_self_setattr_tracking \u001b[38;5;241m=\u001b[39m previous_value  \u001b[38;5;66;03m# pylint: disable=protected-access\u001b[39;00m\n",
      "File \u001b[1;32m~\\anaconda3\\lib\\site-packages\\keras\\utils\\traceback_utils.py:70\u001b[0m, in \u001b[0;36mfilter_traceback.<locals>.error_handler\u001b[1;34m(*args, **kwargs)\u001b[0m\n\u001b[0;32m     67\u001b[0m     filtered_tb \u001b[38;5;241m=\u001b[39m _process_traceback_frames(e\u001b[38;5;241m.\u001b[39m__traceback__)\n\u001b[0;32m     68\u001b[0m     \u001b[38;5;66;03m# To get the full stack trace, call:\u001b[39;00m\n\u001b[0;32m     69\u001b[0m     \u001b[38;5;66;03m# `tf.debugging.disable_traceback_filtering()`\u001b[39;00m\n\u001b[1;32m---> 70\u001b[0m     \u001b[38;5;28;01mraise\u001b[39;00m e\u001b[38;5;241m.\u001b[39mwith_traceback(filtered_tb) \u001b[38;5;28;01mfrom\u001b[39;00m \u001b[38;5;28mNone\u001b[39m\n\u001b[0;32m     71\u001b[0m \u001b[38;5;28;01mfinally\u001b[39;00m:\n\u001b[0;32m     72\u001b[0m     \u001b[38;5;28;01mdel\u001b[39;00m filtered_tb\n",
      "File \u001b[1;32m~\\anaconda3\\lib\\site-packages\\keras\\engine\\sequential.py:190\u001b[0m, in \u001b[0;36mSequential.add\u001b[1;34m(self, layer)\u001b[0m\n\u001b[0;32m    188\u001b[0m tf_utils\u001b[38;5;241m.\u001b[39massert_no_legacy_layers([layer])\n\u001b[0;32m    189\u001b[0m \u001b[38;5;28;01mif\u001b[39;00m \u001b[38;5;129;01mnot\u001b[39;00m \u001b[38;5;28mself\u001b[39m\u001b[38;5;241m.\u001b[39m_is_layer_name_unique(layer):\n\u001b[1;32m--> 190\u001b[0m     \u001b[38;5;28;01mraise\u001b[39;00m \u001b[38;5;167;01mValueError\u001b[39;00m(\n\u001b[0;32m    191\u001b[0m         \u001b[38;5;124m\"\u001b[39m\u001b[38;5;124mAll layers added to a Sequential model \u001b[39m\u001b[38;5;124m\"\u001b[39m\n\u001b[0;32m    192\u001b[0m         \u001b[38;5;124mf\u001b[39m\u001b[38;5;124m'\u001b[39m\u001b[38;5;124mshould have unique names. Name \u001b[39m\u001b[38;5;124m\"\u001b[39m\u001b[38;5;132;01m{\u001b[39;00mlayer\u001b[38;5;241m.\u001b[39mname\u001b[38;5;132;01m}\u001b[39;00m\u001b[38;5;124m\"\u001b[39m\u001b[38;5;124m is already \u001b[39m\u001b[38;5;124m'\u001b[39m\n\u001b[0;32m    193\u001b[0m         \u001b[38;5;124m\"\u001b[39m\u001b[38;5;124mthe name of a layer in this model. Update the `name` argument \u001b[39m\u001b[38;5;124m\"\u001b[39m\n\u001b[0;32m    194\u001b[0m         \u001b[38;5;124m\"\u001b[39m\u001b[38;5;124mto pass a unique name.\u001b[39m\u001b[38;5;124m\"\u001b[39m\n\u001b[0;32m    195\u001b[0m     )\n\u001b[0;32m    197\u001b[0m \u001b[38;5;28mself\u001b[39m\u001b[38;5;241m.\u001b[39mbuilt \u001b[38;5;241m=\u001b[39m \u001b[38;5;28;01mFalse\u001b[39;00m\n\u001b[0;32m    198\u001b[0m set_inputs \u001b[38;5;241m=\u001b[39m \u001b[38;5;28;01mFalse\u001b[39;00m\n",
      "\u001b[1;31mValueError\u001b[0m: All layers added to a Sequential model should have unique names. Name \"my_first_layer\" is already the name of a layer in this model. Update the `name` argument to pass a unique name."
     ]
    }
   ],
   "source": [
    "from keras.layers import Dense\n",
    "model.add(Dense(64, activation=\"relu\", name=\"my_first_layer\")) # input이 1개라서 그럼  64*10+ 64\n",
    "model.add(Dense(10, activation=\"softmax\", name=\"my_last_layer\")) # 65*10\n",
    "model.summary()"
   ]
  },
  {
   "cell_type": "code",
   "execution_count": 81,
   "id": "3f4073f4-0646-45dd-98d6-04fe7ae99672",
   "metadata": {},
   "outputs": [
    {
     "name": "stdout",
     "output_type": "stream",
     "text": [
      "Model: \"sequential_1\"\n",
      "_________________________________________________________________\n",
      " Layer (type)                Output Shape              Param #   \n",
      "=================================================================\n",
      " my_first_layer (Dense)      (None, 64)                256       \n",
      "                                                                 \n",
      " my_last_layer (Dense)       (None, 10)                650       \n",
      "                                                                 \n",
      "=================================================================\n",
      "Total params: 906\n",
      "Trainable params: 906\n",
      "Non-trainable params: 0\n",
      "_________________________________________________________________\n"
     ]
    }
   ],
   "source": [
    "model=Sequential()\n",
    "model.add(keras.Input(shape=(3, )))\n",
    "model.add(Dense(64, activation=\"relu\", name=\"my_first_layer\")) # input이 1개라서 그럼  64*10+ 64\n",
    "model.add(Dense(10, activation=\"softmax\", name=\"my_last_layer\")) # 65*10\n",
    "model.summary()"
   ]
  },
  {
   "cell_type": "markdown",
   "id": "5f9ac35c-d367-47b2-b29f-9e546fe43c79",
   "metadata": {},
   "source": [
    "# 함수형 API"
   ]
  },
  {
   "cell_type": "code",
   "execution_count": 82,
   "id": "de919365-c0f6-4f2b-b337-0c25767af205",
   "metadata": {},
   "outputs": [],
   "source": [
    "# 함수형 api는 입력이 여러개 출력이 여러개 가능 \n",
    "# 시퀀셜은 입력이 한개, 출력이 한개"
   ]
  },
  {
   "cell_type": "code",
   "execution_count": 86,
   "id": "00765cee-8bd9-4499-9d10-19245c23f8bf",
   "metadata": {},
   "outputs": [],
   "source": [
    "inputs = keras.Input(shape=(3, )) # 피처가 3개들어오고 샘플개수는 상관없다.\n",
    "f =Dense(64, activation=\"relu\")(inputs) # input이 1개라서 그럼  64*10+ 64\n",
    "outputs =Dense(10, activation=\"softmax\")(f) # 65*10\n",
    "model = keras.Model(inputs,outputs) # input의 x가 들어가야 함 "
   ]
  },
  {
   "cell_type": "code",
   "execution_count": 84,
   "id": "d80ec0dc-5f61-45db-90b5-49d39c720ee0",
   "metadata": {},
   "outputs": [
    {
     "name": "stdout",
     "output_type": "stream",
     "text": [
      "Model: \"model\"\n",
      "_________________________________________________________________\n",
      " Layer (type)                Output Shape              Param #   \n",
      "=================================================================\n",
      " input_3 (InputLayer)        [(None, 3)]               0         \n",
      "                                                                 \n",
      " dense_2 (Dense)             (None, 64)                256       \n",
      "                                                                 \n",
      " dense_3 (Dense)             (None, 10)                650       \n",
      "                                                                 \n",
      "=================================================================\n",
      "Total params: 906\n",
      "Trainable params: 906\n",
      "Non-trainable params: 0\n",
      "_________________________________________________________________\n"
     ]
    }
   ],
   "source": [
    "model.summary()"
   ]
  },
  {
   "cell_type": "code",
   "execution_count": 55,
   "id": "8277c252-0c76-45e4-a546-63434fa7ae31",
   "metadata": {},
   "outputs": [
    {
     "name": "stdout",
     "output_type": "stream",
     "text": [
      "^C\n",
      "Note: you may need to restart the kernel to use updated packages.\n"
     ]
    }
   ],
   "source": [
    "#pip install pydot"
   ]
  },
  {
   "cell_type": "code",
   "execution_count": 56,
   "id": "11d16e30-d505-4c50-9ea8-5b537471292d",
   "metadata": {},
   "outputs": [
    {
     "name": "stdout",
     "output_type": "stream",
     "text": [
      "Requirement already satisfied: pydot in c:\\users\\admin\\anaconda3\\lib\\site-packages (1.4.2)\n",
      "Requirement already satisfied: pyparsing>=2.1.4 in c:\\users\\admin\\anaconda3\\lib\\site-packages (from pydot) (3.0.4)\n",
      "^C\n",
      "Note: you may need to restart the kernel to use updated packages.\n"
     ]
    }
   ],
   "source": [
    "#pip install pydot graphviz"
   ]
  },
  {
   "cell_type": "code",
   "execution_count": 57,
   "id": "ceeddfa0-d575-4bd2-a23f-bbd3a1c9fc8b",
   "metadata": {},
   "outputs": [
    {
     "name": "stdout",
     "output_type": "stream",
     "text": [
      "Requirement already satisfied: pydot in c:\\users\\admin\\anaconda3\\lib\\site-packages (1.4.2)\n",
      "Requirement already satisfied: graphviz in c:\\users\\admin\\anaconda3\\lib\\site-packages (0.20.1)\n",
      "Requirement already satisfied: pyparsing>=2.1.4 in c:\\users\\admin\\anaconda3\\lib\\site-packages (from pydot) (3.0.4)\n"
     ]
    },
    {
     "data": {
      "image/png": "[encoded data removed]",
      "text/plain": [
       "<IPython.core.display.Image object>"
      ]
     },
     "execution_count": 57,
     "metadata": {},
     "output_type": "execute_result"
    }
   ],
   "source": [
    "from keras.utils import plot_model\n",
    "keras.utils.plot_model(model)"
   ]
  },
  {
   "cell_type": "code",
   "execution_count": 58,
   "id": "076cb2e3-a064-424e-b0fa-158e6945542c",
   "metadata": {},
   "outputs": [
    {
     "data": {
      "image/png": "[encoded data removed]",
      "text/plain": [
       "<IPython.core.display.Image object>"
      ]
     },
     "execution_count": 58,
     "metadata": {},
     "output_type": "execute_result"
    }
   ],
   "source": [
    "plot_model(model, show_shapes= True)"
   ]
  },
  {
   "cell_type": "code",
   "execution_count": 19,
   "id": "462d2420-7209-43dd-a151-77dd81520341",
   "metadata": {},
   "outputs": [
    {
     "data": {
      "text/plain": [
       "[<keras.layers.core.dense.Dense at 0x2d32470ff10>,\n",
       " <keras.layers.core.dense.Dense at 0x2d324626820>]"
      ]
     },
     "execution_count": 19,
     "metadata": {},
     "output_type": "execute_result"
    }
   ],
   "source": [
    "model.layers"
   ]
  },
  {
   "cell_type": "code",
   "execution_count": 20,
   "id": "970cf9fd-a69d-40c3-b6fc-2b5240cf7207",
   "metadata": {},
   "outputs": [
    {
     "data": {
      "text/plain": [
       "<KerasTensor: shape=(None, 512) dtype=float32 (created by layer 'dense_4')>"
      ]
     },
     "execution_count": 20,
     "metadata": {},
     "output_type": "execute_result"
    }
   ],
   "source": [
    "model.layers[1].input"
   ]
  },
  {
   "cell_type": "code",
   "execution_count": 21,
   "id": "b5f89937-ab6f-4f39-a4cf-2bb23c757236",
   "metadata": {},
   "outputs": [
    {
     "data": {
      "text/plain": [
       "<KerasTensor: shape=(None, 10) dtype=float32 (created by layer 'dense_5')>"
      ]
     },
     "execution_count": 21,
     "metadata": {},
     "output_type": "execute_result"
    }
   ],
   "source": [
    "model.layers[1].output"
   ]
  },
  {
   "cell_type": "code",
   "execution_count": 10,
   "id": "676ad0c3-a588-4212-92ca-cc9a7ab0bc38",
   "metadata": {},
   "outputs": [],
   "source": [
    "from keras.datasets import mnist\n",
    "from keras.utils import to_categorical\n",
    "(train_data, train_labels), (test_data, test_labels) =mnist.load_data()\n",
    "train_data = train_data.reshape(60000, 28*28)\n",
    "test_data = test_data.reshape(10000, 28*28)\n",
    "\n",
    "train_labels= to_categorical(train_labels)\n",
    "test_labels= to_categorical(test_labels)"
   ]
  },
  {
   "cell_type": "code",
   "execution_count": 11,
   "id": "d10cabf3-7464-402e-be83-1fbc0936c6df",
   "metadata": {
    "collapsed": true,
    "jupyter": {
     "outputs_hidden": true
    },
    "tags": []
   },
   "outputs": [
    {
     "ename": "TypeError",
     "evalue": "Invalid keyword argument(s) in `compile()`: ({'optimizers'},). Valid keyword arguments include \"cloning\", \"experimental_run_tf_function\", \"distribute\", \"target_tensors\", or \"sample_weight_mode\".",
     "output_type": "error",
     "traceback": [
      "\u001b[1;31m---------------------------------------------------------------------------\u001b[0m",
      "\u001b[1;31mTypeError\u001b[0m                                 Traceback (most recent call last)",
      "Input \u001b[1;32mIn [11]\u001b[0m, in \u001b[0;36m<cell line: 1>\u001b[1;34m()\u001b[0m\n\u001b[1;32m----> 1\u001b[0m \u001b[43mmodel\u001b[49m\u001b[38;5;241;43m.\u001b[39;49m\u001b[43mcompile\u001b[49m\u001b[43m(\u001b[49m\u001b[43moptimizers\u001b[49m\u001b[38;5;241;43m=\u001b[39;49m\u001b[38;5;124;43m'\u001b[39;49m\u001b[38;5;124;43mRMSprop\u001b[39;49m\u001b[38;5;124;43m'\u001b[39;49m\u001b[43m,\u001b[49m\u001b[43m \u001b[49m\u001b[43mloss\u001b[49m\u001b[38;5;241;43m=\u001b[39;49m\u001b[38;5;124;43m'\u001b[39;49m\u001b[38;5;124;43mMSE\u001b[39;49m\u001b[38;5;124;43m'\u001b[39;49m\u001b[43m)\u001b[49m\n\u001b[0;32m      2\u001b[0m model\u001b[38;5;241m.\u001b[39mfit(train_data, train_labels, epoch\u001b[38;5;241m=\u001b[39m\u001b[38;5;241m10\u001b[39m, batch_size\u001b[38;5;241m=\u001b[39m\u001b[38;5;241m256\u001b[39m)\n",
      "File \u001b[1;32m~\\anaconda3\\lib\\site-packages\\keras\\utils\\traceback_utils.py:70\u001b[0m, in \u001b[0;36mfilter_traceback.<locals>.error_handler\u001b[1;34m(*args, **kwargs)\u001b[0m\n\u001b[0;32m     67\u001b[0m     filtered_tb \u001b[38;5;241m=\u001b[39m _process_traceback_frames(e\u001b[38;5;241m.\u001b[39m__traceback__)\n\u001b[0;32m     68\u001b[0m     \u001b[38;5;66;03m# To get the full stack trace, call:\u001b[39;00m\n\u001b[0;32m     69\u001b[0m     \u001b[38;5;66;03m# `tf.debugging.disable_traceback_filtering()`\u001b[39;00m\n\u001b[1;32m---> 70\u001b[0m     \u001b[38;5;28;01mraise\u001b[39;00m e\u001b[38;5;241m.\u001b[39mwith_traceback(filtered_tb) \u001b[38;5;28;01mfrom\u001b[39;00m \u001b[38;5;28mNone\u001b[39m\n\u001b[0;32m     71\u001b[0m \u001b[38;5;28;01mfinally\u001b[39;00m:\n\u001b[0;32m     72\u001b[0m     \u001b[38;5;28;01mdel\u001b[39;00m filtered_tb\n",
      "File \u001b[1;32m~\\anaconda3\\lib\\site-packages\\keras\\engine\\training.py:3524\u001b[0m, in \u001b[0;36mModel._validate_compile\u001b[1;34m(self, optimizer, metrics, **kwargs)\u001b[0m\n\u001b[0;32m   3522\u001b[0m invalid_kwargs \u001b[38;5;241m=\u001b[39m \u001b[38;5;28mset\u001b[39m(kwargs) \u001b[38;5;241m-\u001b[39m {\u001b[38;5;124m\"\u001b[39m\u001b[38;5;124msample_weight_mode\u001b[39m\u001b[38;5;124m\"\u001b[39m}\n\u001b[0;32m   3523\u001b[0m \u001b[38;5;28;01mif\u001b[39;00m invalid_kwargs:\n\u001b[1;32m-> 3524\u001b[0m     \u001b[38;5;28;01mraise\u001b[39;00m \u001b[38;5;167;01mTypeError\u001b[39;00m(\n\u001b[0;32m   3525\u001b[0m         \u001b[38;5;124m\"\u001b[39m\u001b[38;5;124mInvalid keyword argument(s) in `compile()`: \u001b[39m\u001b[38;5;124m\"\u001b[39m\n\u001b[0;32m   3526\u001b[0m         \u001b[38;5;124mf\u001b[39m\u001b[38;5;124m\"\u001b[39m\u001b[38;5;132;01m{\u001b[39;00m(invalid_kwargs,)\u001b[38;5;132;01m}\u001b[39;00m\u001b[38;5;124m. Valid keyword arguments include \u001b[39m\u001b[38;5;124m\"\u001b[39m\n\u001b[0;32m   3527\u001b[0m         \u001b[38;5;124m'\u001b[39m\u001b[38;5;124m\"\u001b[39m\u001b[38;5;124mcloning\u001b[39m\u001b[38;5;124m\"\u001b[39m\u001b[38;5;124m, \u001b[39m\u001b[38;5;124m\"\u001b[39m\u001b[38;5;124mexperimental_run_tf_function\u001b[39m\u001b[38;5;124m\"\u001b[39m\u001b[38;5;124m, \u001b[39m\u001b[38;5;124m\"\u001b[39m\u001b[38;5;124mdistribute\u001b[39m\u001b[38;5;124m\"\u001b[39m\u001b[38;5;124m,\u001b[39m\u001b[38;5;124m'\u001b[39m\n\u001b[0;32m   3528\u001b[0m         \u001b[38;5;124m'\u001b[39m\u001b[38;5;124m \u001b[39m\u001b[38;5;124m\"\u001b[39m\u001b[38;5;124mtarget_tensors\u001b[39m\u001b[38;5;124m\"\u001b[39m\u001b[38;5;124m, or \u001b[39m\u001b[38;5;124m\"\u001b[39m\u001b[38;5;124msample_weight_mode\u001b[39m\u001b[38;5;124m\"\u001b[39m\u001b[38;5;124m.\u001b[39m\u001b[38;5;124m'\u001b[39m\n\u001b[0;32m   3529\u001b[0m     )\n\u001b[0;32m   3531\u001b[0m \u001b[38;5;66;03m# Model must be created and compiled with the same DistStrat.\u001b[39;00m\n\u001b[0;32m   3532\u001b[0m \u001b[38;5;28;01mif\u001b[39;00m \u001b[38;5;28mself\u001b[39m\u001b[38;5;241m.\u001b[39mbuilt \u001b[38;5;129;01mand\u001b[39;00m tf\u001b[38;5;241m.\u001b[39mdistribute\u001b[38;5;241m.\u001b[39mhas_strategy():\n",
      "\u001b[1;31mTypeError\u001b[0m: Invalid keyword argument(s) in `compile()`: ({'optimizers'},). Valid keyword arguments include \"cloning\", \"experimental_run_tf_function\", \"distribute\", \"target_tensors\", or \"sample_weight_mode\"."
     ]
    }
   ],
   "source": [
    "model.compile(optimizers='RMSprop', loss='MSE')\n",
    "model.fit(train_data, train_labels, epoch=10, batch_size=256)"
   ]
  },
  {
   "cell_type": "markdown",
   "id": "b987a742-ab11-4f47-aa9e-84fd6ce31204",
   "metadata": {},
   "source": [
    "## 다중입력 다중출력"
   ]
  },
  {
   "cell_type": "code",
   "execution_count": 1,
   "id": "d50bfc3a-1264-4176-95fe-d654fe5cbe3b",
   "metadata": {},
   "outputs": [],
   "source": [
    "from keras import layers\n",
    "import keras"
   ]
  },
  {
   "cell_type": "code",
   "execution_count": 2,
   "id": "3384f01f-0778-44a6-8d08-854d896659f4",
   "metadata": {
    "tags": []
   },
   "outputs": [],
   "source": [
    "vocabulary_size = 10000 # 시퀀셜에 뭐쌓는 것 처럼 쌓음 \n",
    "num_tags = 100\n",
    "num_departments = 4\n",
    "\n",
    "title = keras.Input(shape=(vocabulary_size,), name=\"title\")\n",
    "text_body = keras.Input(shape=(vocabulary_size,), name=\"text_body\")\n",
    "tags = keras.Input(shape=(num_tags,), name=\"tags\")\n",
    "\n",
    "features = layers.Concatenate()([title, text_body, tags])# 입력정의 \n",
    "features = layers.Dense(64, activation=\"relu\")(features)\n",
    "\n",
    "priority = layers.Dense(1, activation=\"sigmoid\", name=\"priority\")(features) # yes no 출력\n",
    "department = layers.Dense(\n",
    "    num_departments, activation=\"softmax\", name=\"department\")(features) # 분류 출력\n",
    "\n",
    "model = keras.Model(inputs=[title, text_body, tags], outputs=[priority, department])"
   ]
  },
  {
   "cell_type": "code",
   "execution_count": 3,
   "id": "929498c0-ca08-4424-9337-e6750742c1de",
   "metadata": {},
   "outputs": [
    {
     "name": "stdout",
     "output_type": "stream",
     "text": [
      "40/40 [==============================] - 2s 12ms/step - loss: 33.5801 - priority_loss: 0.3208 - department_loss: 33.2593 - priority_mean_absolute_error: 0.4868 - department_accuracy: 0.1648\n",
      "40/40 [==============================] - 0s 4ms/step - loss: 18.0186 - priority_loss: 0.3274 - department_loss: 17.6912 - priority_mean_absolute_error: 0.4945 - department_accuracy: 0.2523\n",
      "40/40 [==============================] - 0s 4ms/step\n"
     ]
    }
   ],
   "source": [
    "import numpy as np # 위의 시퀀셜한 것을 쓴다. \n",
    "\n",
    "num_samples = 1280\n",
    "\n",
    "title_data = np.random.randint(0, 2, size=(num_samples, vocabulary_size)) # 1280 ,10000\n",
    "text_body_data = np.random.randint(0, 2, size=(num_samples, vocabulary_size))\n",
    "tags_data = np.random.randint(0, 2, size=(num_samples, num_tags))\n",
    "\n",
    "priority_data = np.random.random(size=(num_samples, 1)) # 1280, 1\n",
    "department_data = np.random.randint(0, 2, size=(num_samples, num_departments))#1280, 4\n",
    "\n",
    "model.compile(optimizer=\"rmsprop\",\n",
    "              loss=[\"mean_squared_error\", \"categorical_crossentropy\"],\n",
    "              metrics=[[\"mean_absolute_error\"], [\"accuracy\"]])\n",
    "model.fit([title_data, text_body_data, tags_data],\n",
    "          [priority_data, department_data],\n",
    "          epochs=1)\n",
    "model.evaluate([title_data, text_body_data, tags_data],\n",
    "               [priority_data, department_data])\n",
    "priority_preds, department_preds = model.predict([title_data, text_body_data, tags_data]) "
   ]
  },
  {
   "cell_type": "code",
   "execution_count": 27,
   "id": "3c71d173-9e66-42be-b5d1-b666a42d340c",
   "metadata": {},
   "outputs": [
    {
     "data": {
      "image/png": "[encoded data removed]",
      "text/plain": [
       "<IPython.core.display.Image object>"
      ]
     },
     "execution_count": 27,
     "metadata": {},
     "output_type": "execute_result"
    }
   ],
   "source": [
    "plot_model(model, show_shapes= True)"
   ]
  },
  {
   "cell_type": "code",
   "execution_count": 32,
   "id": "6a00f60b-98d2-48fa-b51d-86e442fe828f",
   "metadata": {},
   "outputs": [
    {
     "name": "stdout",
     "output_type": "stream",
     "text": [
      "Model: \"model_6\"\n",
      "_________________________________________________________________\n",
      " Layer (type)                Output Shape              Param #   \n",
      "=================================================================\n",
      " input_4 (InputLayer)        [(None, 3)]               0         \n",
      "                                                                 \n",
      " dense_13 (Dense)            (None, 64)                256       \n",
      "                                                                 \n",
      " dense_14 (Dense)            (None, 10)                650       \n",
      "                                                                 \n",
      "=================================================================\n",
      "Total params: 906\n",
      "Trainable params: 906\n",
      "Non-trainable params: 0\n",
      "_________________________________________________________________\n"
     ]
    }
   ],
   "source": [
    "x = keras.Input(shape=(3, ))\n",
    "y =Dense(64, activation=\"relu\")(x) # input이 1개라서 그럼  64*10+ 64\n",
    "y =Dense(10, activation=\"softmax\")(y) # 65*10\n",
    "model = keras.Model(x,y) # input의 x가 들어가야 함 \n",
    "model.summary()"
   ]
  },
  {
   "cell_type": "code",
   "execution_count": 34,
   "id": "49d3cdc5-045f-44f5-b412-1cce6bc14e8a",
   "metadata": {},
   "outputs": [
    {
     "name": "stdout",
     "output_type": "stream",
     "text": [
      "Model: \"model_7\"\n",
      "_________________________________________________________________\n",
      " Layer (type)                Output Shape              Param #   \n",
      "=================================================================\n",
      " input_6 (InputLayer)        [(None, 3)]               0         \n",
      "                                                                 \n",
      " dense_18 (Dense)            (None, 10)                40        \n",
      "                                                                 \n",
      "=================================================================\n",
      "Total params: 40\n",
      "Trainable params: 40\n",
      "Non-trainable params: 0\n",
      "_________________________________________________________________\n"
     ]
    }
   ],
   "source": [
    "x = keras.Input(shape=(3, ))\n",
    "y =Dense(64, activation=\"relu\")(x)\n",
    "y =Dense(10, activation=\"softmax\")(x)  # input이 두군데 들어가서 아래것만 살아남음\n",
    "model = keras.Model(x,y) \n",
    "model.summary()"
   ]
  },
  {
   "cell_type": "code",
   "execution_count": 35,
   "id": "51d729ce-a275-4a0a-adad-525d681f027e",
   "metadata": {},
   "outputs": [
    {
     "name": "stdout",
     "output_type": "stream",
     "text": [
      "Model: \"model_8\"\n",
      "_________________________________________________________________\n",
      " Layer (type)                Output Shape              Param #   \n",
      "=================================================================\n",
      " input_8 (InputLayer)        [(None, 64)]              0         \n",
      "                                                                 \n",
      " dense_20 (Dense)            (None, 10)                650       \n",
      "                                                                 \n",
      "=================================================================\n",
      "Total params: 650\n",
      "Trainable params: 650\n",
      "Non-trainable params: 0\n",
      "_________________________________________________________________\n"
     ]
    }
   ],
   "source": [
    "x = keras.Input(shape=(3, )) # 인풋이 안먹음 \n",
    "x =Dense(64, activation=\"relu\")(x)\n",
    "y =Dense(10, activation=\"softmax\")(x)  # 두군데 들어가서 아래것만 살아남음\n",
    "model = keras.Model(x,y) \n",
    "model.summary()"
   ]
  },
  {
   "cell_type": "code",
   "execution_count": 36,
   "id": "55488629-6daa-49ef-8bbd-c5aa8ffa8542",
   "metadata": {},
   "outputs": [
    {
     "name": "stdout",
     "output_type": "stream",
     "text": [
      "Model: \"model_9\"\n",
      "_________________________________________________________________\n",
      " Layer (type)                Output Shape              Param #   \n",
      "=================================================================\n",
      " input_9 (InputLayer)        [(None, 3)]               0         \n",
      "                                                                 \n",
      " dense_21 (Dense)            (None, 64)                256       \n",
      "                                                                 \n",
      " dense_22 (Dense)            (None, 10)                650       \n",
      "                                                                 \n",
      "=================================================================\n",
      "Total params: 906\n",
      "Trainable params: 906\n",
      "Non-trainable params: 0\n",
      "_________________________________________________________________\n"
     ]
    }
   ],
   "source": [
    "inputs = keras.Input(shape=(3, )) # 인풋이 먹음 \n",
    "f =Dense(64, activation=\"relu\")(inputs) # input이 1개라서 그럼  64*10+ 64\n",
    "outputs =Dense(10, activation=\"softmax\")(f) # 65*10\n",
    "model = keras.Model(inputs,outputs) # input의 x가 들어가야 함 \n",
    "model.summary()"
   ]
  },
  {
   "cell_type": "markdown",
   "id": "8dbf95f5-9736-42ed-b330-7d55c920b38e",
   "metadata": {},
   "source": [
    "# 밑바닥 부터 다시 구현"
   ]
  },
  {
   "cell_type": "code",
   "execution_count": 7,
   "id": "838910c0-9fc2-44d3-b369-7e63bb281b16",
   "metadata": {},
   "outputs": [],
   "source": [
    "import tensorflow as tf"
   ]
  },
  {
   "cell_type": "code",
   "execution_count": 13,
   "id": "81878e71-da68-48ed-867a-1977bd2a0212",
   "metadata": {},
   "outputs": [
    {
     "data": {
      "text/plain": [
       "tensorflow.python.ops.variables.Variable"
      ]
     },
     "execution_count": 13,
     "metadata": {},
     "output_type": "execute_result"
    }
   ],
   "source": [
    "tf.Variable # 변수 만드는 것"
   ]
  },
  {
   "cell_type": "code",
   "execution_count": 14,
   "id": "832618be-28d3-4036-817d-9e6d010945dd",
   "metadata": {},
   "outputs": [
    {
     "data": {
      "text/plain": [
       "TensorShape([10])"
      ]
     },
     "execution_count": 14,
     "metadata": {},
     "output_type": "execute_result"
    }
   ],
   "source": [
    "a=tf.Variable(tf.zeros(shape=(10, )))\n",
    "a.shape"
   ]
  },
  {
   "cell_type": "code",
   "execution_count": 27,
   "id": "6b7e8742-f154-4445-a1f7-6483c7025e5d",
   "metadata": {},
   "outputs": [],
   "source": [
    "class NaiveDense:\n",
    "    def __init__(self, input_size, output_size, activation): # 초기값으로 갖고 있음 \n",
    "        self.activation = activation\n",
    "        self.W =tf.Variable(tf.random.uniform(shape=(input_size, output_size), minval=0, maxval=0.1))\n",
    "        self.b = tf.Variable(tf.zeros(shape=(output_size, )))\n",
    "        \n",
    "    def __call__(self,inputs): # 정방향전파 \n",
    "        return self.activation(tf.matmul(inputs, self.W)+self.b)# matmul 행렬의 곱셈 one step training에서 가중치 업데이트 된것 씀 \n",
    "    \n",
    "    @property\n",
    "    def weights(self):\n",
    "        return [self.W, self.b] # 처음 가중치이다."
   ]
  },
  {
   "cell_type": "code",
   "execution_count": 28,
   "id": "d0a45b4c-edbb-4da1-a849-b2bab56db41d",
   "metadata": {},
   "outputs": [],
   "source": [
    "class NaiveSequential:\n",
    "    def __init__(self, layers):\n",
    "        self.layers= layers # self는 만들어진 객체이름 naiveDense 2개 \n",
    "        \n",
    "    def __call__(self, inputs):\n",
    "        x= inputs\n",
    "        for layer in self.layers: # layers가 밑에 naiveDense 2개이다.\n",
    "            x=layer(x) # 레이어를 돌면서 층을 두개 통과한다 .weight로 가중치를 불러올수 있다.\n",
    "        return x \n",
    "    \n",
    "    @property   # 메소드를 속성처럼 코딩할수 있게 해준다. 속성이에요 몇가지 기능을하게 함 len이라든지# @ <- annotation : 어노테이션, 애너테이션, 데코레이터 ,decorator\n",
    "    def weights(self):\n",
    "        weights =[]\n",
    "        for layer in self.layers: \n",
    "            weights +=layer.weights # 뒤에 가중치 더한 것 추가\n",
    "        return weights\n",
    "    \n",
    "\n",
    "    \n",
    "#     def __len__(self):\n",
    "#         return len(self.Weights)\n",
    "        "
   ]
  },
  {
   "cell_type": "code",
   "execution_count": 29,
   "id": "8a2cfb83-f720-4f59-ad2a-b969e5b209de",
   "metadata": {
    "collapsed": true,
    "jupyter": {
     "outputs_hidden": true
    },
    "tags": []
   },
   "outputs": [
    {
     "ename": "InvalidArgumentError",
     "evalue": "cannot compute MatMul as input #1(zero-based) was expected to be a int32 tensor but is a float tensor [Op:MatMul]",
     "output_type": "error",
     "traceback": [
      "\u001b[1;31m---------------------------------------------------------------------------\u001b[0m",
      "\u001b[1;31mInvalidArgumentError\u001b[0m                      Traceback (most recent call last)",
      "Input \u001b[1;32mIn [29]\u001b[0m, in \u001b[0;36m<cell line: 2>\u001b[1;34m()\u001b[0m\n\u001b[0;32m      1\u001b[0m b \u001b[38;5;241m=\u001b[39mNaiveDense(input_size\u001b[38;5;241m=\u001b[39m\u001b[38;5;241m28\u001b[39m\u001b[38;5;241m*\u001b[39m\u001b[38;5;241m28\u001b[39m, output_size\u001b[38;5;241m=\u001b[39m\u001b[38;5;241m512\u001b[39m, activation \u001b[38;5;241m=\u001b[39m tf\u001b[38;5;241m.\u001b[39mnn\u001b[38;5;241m.\u001b[39mrelu)\n\u001b[1;32m----> 2\u001b[0m \u001b[43mb\u001b[49m\u001b[43m(\u001b[49m\u001b[38;5;241;43m10\u001b[39;49m\u001b[43m)\u001b[49m\n",
      "Input \u001b[1;32mIn [27]\u001b[0m, in \u001b[0;36mNaiveDense.__call__\u001b[1;34m(self, inputs)\u001b[0m\n\u001b[0;32m      7\u001b[0m \u001b[38;5;28;01mdef\u001b[39;00m \u001b[38;5;21m__call__\u001b[39m(\u001b[38;5;28mself\u001b[39m,inputs): \u001b[38;5;66;03m# 정방향전파 \u001b[39;00m\n\u001b[1;32m----> 8\u001b[0m     \u001b[38;5;28;01mreturn\u001b[39;00m \u001b[38;5;28mself\u001b[39m\u001b[38;5;241m.\u001b[39mactivation(\u001b[43mtf\u001b[49m\u001b[38;5;241;43m.\u001b[39;49m\u001b[43mmatmul\u001b[49m\u001b[43m(\u001b[49m\u001b[43minputs\u001b[49m\u001b[43m,\u001b[49m\u001b[43m \u001b[49m\u001b[38;5;28;43mself\u001b[39;49m\u001b[38;5;241;43m.\u001b[39;49m\u001b[43mW\u001b[49m\u001b[43m)\u001b[49m\u001b[38;5;241m+\u001b[39m\u001b[38;5;28mself\u001b[39m\u001b[38;5;241m.\u001b[39mb)\n",
      "File \u001b[1;32m~\\anaconda3\\lib\\site-packages\\tensorflow\\python\\util\\traceback_utils.py:153\u001b[0m, in \u001b[0;36mfilter_traceback.<locals>.error_handler\u001b[1;34m(*args, **kwargs)\u001b[0m\n\u001b[0;32m    151\u001b[0m \u001b[38;5;28;01mexcept\u001b[39;00m \u001b[38;5;167;01mException\u001b[39;00m \u001b[38;5;28;01mas\u001b[39;00m e:\n\u001b[0;32m    152\u001b[0m   filtered_tb \u001b[38;5;241m=\u001b[39m _process_traceback_frames(e\u001b[38;5;241m.\u001b[39m__traceback__)\n\u001b[1;32m--> 153\u001b[0m   \u001b[38;5;28;01mraise\u001b[39;00m e\u001b[38;5;241m.\u001b[39mwith_traceback(filtered_tb) \u001b[38;5;28;01mfrom\u001b[39;00m \u001b[38;5;28mNone\u001b[39m\n\u001b[0;32m    154\u001b[0m \u001b[38;5;28;01mfinally\u001b[39;00m:\n\u001b[0;32m    155\u001b[0m   \u001b[38;5;28;01mdel\u001b[39;00m filtered_tb\n",
      "File \u001b[1;32m~\\anaconda3\\lib\\site-packages\\tensorflow\\python\\framework\\ops.py:7209\u001b[0m, in \u001b[0;36mraise_from_not_ok_status\u001b[1;34m(e, name)\u001b[0m\n\u001b[0;32m   7207\u001b[0m \u001b[38;5;28;01mdef\u001b[39;00m \u001b[38;5;21mraise_from_not_ok_status\u001b[39m(e, name):\n\u001b[0;32m   7208\u001b[0m   e\u001b[38;5;241m.\u001b[39mmessage \u001b[38;5;241m+\u001b[39m\u001b[38;5;241m=\u001b[39m (\u001b[38;5;124m\"\u001b[39m\u001b[38;5;124m name: \u001b[39m\u001b[38;5;124m\"\u001b[39m \u001b[38;5;241m+\u001b[39m name \u001b[38;5;28;01mif\u001b[39;00m name \u001b[38;5;129;01mis\u001b[39;00m \u001b[38;5;129;01mnot\u001b[39;00m \u001b[38;5;28;01mNone\u001b[39;00m \u001b[38;5;28;01melse\u001b[39;00m \u001b[38;5;124m\"\u001b[39m\u001b[38;5;124m\"\u001b[39m)\n\u001b[1;32m-> 7209\u001b[0m   \u001b[38;5;28;01mraise\u001b[39;00m core\u001b[38;5;241m.\u001b[39m_status_to_exception(e) \u001b[38;5;28;01mfrom\u001b[39;00m \u001b[38;5;28mNone\u001b[39m\n",
      "\u001b[1;31mInvalidArgumentError\u001b[0m: cannot compute MatMul as input #1(zero-based) was expected to be a int32 tensor but is a float tensor [Op:MatMul]"
     ]
    }
   ],
   "source": [
    "b =NaiveDense(input_size=28*28, output_size=512, activation = tf.nn.relu)\n",
    "b(10)"
   ]
  },
  {
   "cell_type": "code",
   "execution_count": 30,
   "id": "2db21c4e-8788-407c-9404-5ddedd56bdc4",
   "metadata": {},
   "outputs": [],
   "source": [
    "model=NaiveSequential([\n",
    "    NaiveDense(input_size=28*28, output_size=512, activation = tf.nn.relu),\n",
    "   NaiveDense(input_size=512, output_size=10, activation = tf.nn.softmax)\n",
    "                ])\n",
    "\n"
   ]
  },
  {
   "cell_type": "code",
   "execution_count": 31,
   "id": "d03b6df1-b2d6-42d5-8d53-ee3738888f7b",
   "metadata": {
    "collapsed": true,
    "jupyter": {
     "outputs_hidden": true
    },
    "tags": []
   },
   "outputs": [
    {
     "data": {
      "text/plain": [
       "[<tf.Variable 'Variable:0' shape=(784, 512) dtype=float32, numpy=\n",
       " array([[0.02733306, 0.07187628, 0.06152232, ..., 0.00737488, 0.00740362,\n",
       "         0.01799923],\n",
       "        [0.07872055, 0.04105444, 0.03207464, ..., 0.03355869, 0.09268755,\n",
       "         0.00572829],\n",
       "        [0.09860039, 0.02265686, 0.08688148, ..., 0.09668159, 0.02821158,\n",
       "         0.09135003],\n",
       "        ...,\n",
       "        [0.00224903, 0.09995206, 0.06862459, ..., 0.03184724, 0.00882165,\n",
       "         0.04583011],\n",
       "        [0.01698284, 0.00748147, 0.08277766, ..., 0.02937065, 0.01416551,\n",
       "         0.08041634],\n",
       "        [0.02412868, 0.06801397, 0.03320024, ..., 0.01563323, 0.07424487,\n",
       "         0.01977861]], dtype=float32)>,\n",
       " <tf.Variable 'Variable:0' shape=(512,) dtype=float32, numpy=\n",
       " array([0., 0., 0., 0., 0., 0., 0., 0., 0., 0., 0., 0., 0., 0., 0., 0., 0.,\n",
       "        0., 0., 0., 0., 0., 0., 0., 0., 0., 0., 0., 0., 0., 0., 0., 0., 0.,\n",
       "        0., 0., 0., 0., 0., 0., 0., 0., 0., 0., 0., 0., 0., 0., 0., 0., 0.,\n",
       "        0., 0., 0., 0., 0., 0., 0., 0., 0., 0., 0., 0., 0., 0., 0., 0., 0.,\n",
       "        0., 0., 0., 0., 0., 0., 0., 0., 0., 0., 0., 0., 0., 0., 0., 0., 0.,\n",
       "        0., 0., 0., 0., 0., 0., 0., 0., 0., 0., 0., 0., 0., 0., 0., 0., 0.,\n",
       "        0., 0., 0., 0., 0., 0., 0., 0., 0., 0., 0., 0., 0., 0., 0., 0., 0.,\n",
       "        0., 0., 0., 0., 0., 0., 0., 0., 0., 0., 0., 0., 0., 0., 0., 0., 0.,\n",
       "        0., 0., 0., 0., 0., 0., 0., 0., 0., 0., 0., 0., 0., 0., 0., 0., 0.,\n",
       "        0., 0., 0., 0., 0., 0., 0., 0., 0., 0., 0., 0., 0., 0., 0., 0., 0.,\n",
       "        0., 0., 0., 0., 0., 0., 0., 0., 0., 0., 0., 0., 0., 0., 0., 0., 0.,\n",
       "        0., 0., 0., 0., 0., 0., 0., 0., 0., 0., 0., 0., 0., 0., 0., 0., 0.,\n",
       "        0., 0., 0., 0., 0., 0., 0., 0., 0., 0., 0., 0., 0., 0., 0., 0., 0.,\n",
       "        0., 0., 0., 0., 0., 0., 0., 0., 0., 0., 0., 0., 0., 0., 0., 0., 0.,\n",
       "        0., 0., 0., 0., 0., 0., 0., 0., 0., 0., 0., 0., 0., 0., 0., 0., 0.,\n",
       "        0., 0., 0., 0., 0., 0., 0., 0., 0., 0., 0., 0., 0., 0., 0., 0., 0.,\n",
       "        0., 0., 0., 0., 0., 0., 0., 0., 0., 0., 0., 0., 0., 0., 0., 0., 0.,\n",
       "        0., 0., 0., 0., 0., 0., 0., 0., 0., 0., 0., 0., 0., 0., 0., 0., 0.,\n",
       "        0., 0., 0., 0., 0., 0., 0., 0., 0., 0., 0., 0., 0., 0., 0., 0., 0.,\n",
       "        0., 0., 0., 0., 0., 0., 0., 0., 0., 0., 0., 0., 0., 0., 0., 0., 0.,\n",
       "        0., 0., 0., 0., 0., 0., 0., 0., 0., 0., 0., 0., 0., 0., 0., 0., 0.,\n",
       "        0., 0., 0., 0., 0., 0., 0., 0., 0., 0., 0., 0., 0., 0., 0., 0., 0.,\n",
       "        0., 0., 0., 0., 0., 0., 0., 0., 0., 0., 0., 0., 0., 0., 0., 0., 0.,\n",
       "        0., 0., 0., 0., 0., 0., 0., 0., 0., 0., 0., 0., 0., 0., 0., 0., 0.,\n",
       "        0., 0., 0., 0., 0., 0., 0., 0., 0., 0., 0., 0., 0., 0., 0., 0., 0.,\n",
       "        0., 0., 0., 0., 0., 0., 0., 0., 0., 0., 0., 0., 0., 0., 0., 0., 0.,\n",
       "        0., 0., 0., 0., 0., 0., 0., 0., 0., 0., 0., 0., 0., 0., 0., 0., 0.,\n",
       "        0., 0., 0., 0., 0., 0., 0., 0., 0., 0., 0., 0., 0., 0., 0., 0., 0.,\n",
       "        0., 0., 0., 0., 0., 0., 0., 0., 0., 0., 0., 0., 0., 0., 0., 0., 0.,\n",
       "        0., 0., 0., 0., 0., 0., 0., 0., 0., 0., 0., 0., 0., 0., 0., 0., 0.,\n",
       "        0., 0.], dtype=float32)>,\n",
       " <tf.Variable 'Variable:0' shape=(512, 10) dtype=float32, numpy=\n",
       " array([[0.01124127, 0.0568478 , 0.01573573, ..., 0.01138108, 0.07327249,\n",
       "         0.03398889],\n",
       "        [0.00364165, 0.05831865, 0.06911378, ..., 0.07077861, 0.07079045,\n",
       "         0.00136287],\n",
       "        [0.03551055, 0.09705764, 0.03381727, ..., 0.00409303, 0.04991809,\n",
       "         0.02421406],\n",
       "        ...,\n",
       "        [0.05062234, 0.02419385, 0.03410504, ..., 0.08942194, 0.08219457,\n",
       "         0.0384588 ],\n",
       "        [0.0168449 , 0.0013667 , 0.02108793, ..., 0.03924327, 0.06119703,\n",
       "         0.08170708],\n",
       "        [0.01400101, 0.02136078, 0.06511171, ..., 0.08938364, 0.05808013,\n",
       "         0.06250595]], dtype=float32)>,\n",
       " <tf.Variable 'Variable:0' shape=(10,) dtype=float32, numpy=array([0., 0., 0., 0., 0., 0., 0., 0., 0., 0.], dtype=float32)>]"
      ]
     },
     "execution_count": 31,
     "metadata": {},
     "output_type": "execute_result"
    }
   ],
   "source": [
    "model.weights # 가중치를 불러온 모습"
   ]
  },
  {
   "cell_type": "code",
   "execution_count": 32,
   "id": "75846891-7e46-404f-8b5b-f139c0c25e78",
   "metadata": {
    "collapsed": true,
    "jupyter": {
     "outputs_hidden": true
    },
    "tags": []
   },
   "outputs": [
    {
     "ename": "AttributeError",
     "evalue": "'NaiveSequential' object has no attribute 'compile'",
     "output_type": "error",
     "traceback": [
      "\u001b[1;31m---------------------------------------------------------------------------\u001b[0m",
      "\u001b[1;31mAttributeError\u001b[0m                            Traceback (most recent call last)",
      "Input \u001b[1;32mIn [32]\u001b[0m, in \u001b[0;36m<cell line: 1>\u001b[1;34m()\u001b[0m\n\u001b[1;32m----> 1\u001b[0m \u001b[43mmodel\u001b[49m\u001b[38;5;241;43m.\u001b[39;49m\u001b[43mcompile\u001b[49m(optimizer\u001b[38;5;241m=\u001b[39m\u001b[38;5;124m\"\u001b[39m\u001b[38;5;124mrmsprop\u001b[39m\u001b[38;5;124m\"\u001b[39m,\n\u001b[0;32m      2\u001b[0m               loss\u001b[38;5;241m=\u001b[39m[\u001b[38;5;124m\"\u001b[39m\u001b[38;5;124mmean_squared_error\u001b[39m\u001b[38;5;124m\"\u001b[39m, \u001b[38;5;124m\"\u001b[39m\u001b[38;5;124mcategorical_crossentropy\u001b[39m\u001b[38;5;124m\"\u001b[39m],\n\u001b[0;32m      3\u001b[0m               metrics\u001b[38;5;241m=\u001b[39m[[\u001b[38;5;124m\"\u001b[39m\u001b[38;5;124mmean_absolute_error\u001b[39m\u001b[38;5;124m\"\u001b[39m], [\u001b[38;5;124m\"\u001b[39m\u001b[38;5;124maccuracy\u001b[39m\u001b[38;5;124m\"\u001b[39m]])\n",
      "\u001b[1;31mAttributeError\u001b[0m: 'NaiveSequential' object has no attribute 'compile'"
     ]
    }
   ],
   "source": [
    "model.compile(optimizer=\"rmsprop\",\n",
    "              loss=[\"mean_squared_error\", \"categorical_crossentropy\"],\n",
    "              metrics=[[\"mean_absolute_error\"], [\"accuracy\"]])"
   ]
  },
  {
   "cell_type": "code",
   "execution_count": 33,
   "id": "72dd7804-9bc4-4584-b59d-f02783a6837d",
   "metadata": {},
   "outputs": [],
   "source": [
    "import math\n",
    "\n",
    "class BatchGenerator:\n",
    "    def __init__(self, images, labels, batch_size=128):\n",
    "        assert len(images) == len(labels)\n",
    "        self.index =0\n",
    "        self.images = images\n",
    "        self.labels = labels\n",
    "        self.batch_size = batch_size\n",
    "        self.num_batchs = math.ceil(len(images)/batch_size) # 128로 나눈 것에서 하나 더한 것 \n",
    "        \n",
    "    def next(self):\n",
    "        images =self.images[self.index :self.index+self.batch_size] # 128로 계속감 \n",
    "        labels =self.labels[self.index :self.index+self.batch_size]\n",
    "        self.index += self.batch_size\n",
    "        return images, labels"
   ]
  },
  {
   "cell_type": "code",
   "execution_count": 34,
   "id": "ed8f6aa6-7231-43df-8a6e-0b5d41e64b59",
   "metadata": {},
   "outputs": [],
   "source": [
    "learning_rate= 0.001\n",
    "def update_weights(gradients , weights): # 기울기는 아래 one step training에 있다.\n",
    "    for g, w in zip(gradients, weights): # 기울기랑 가중치가 나온다. 묶여서  기울기에서 러닝레이트 곱한것\n",
    "        w.assign_sub(g*learning_rate) # 빼준다. 기울기가 감소하는 것은 점점 아래로 가고 있다는 뜻이다.\\\n",
    "                                      # 수동으로 구동하는 방식이다."
   ]
  },
  {
   "cell_type": "code",
   "execution_count": 35,
   "id": "eb2bf7af-7cb5-4e4a-94f5-a3d05d354bdc",
   "metadata": {},
   "outputs": [],
   "source": [
    "from tensorflow.keras import optimizers\n",
    "optimizers =optimizers.SGD(learning_rate=1e-3)\n",
    "def update_weights(gradients , weights):\n",
    "    optimizers.apply_gradients(zip(gradients, weights)) #가중치 없데이트 하는 것은 apply_gradients하는 것\n"
   ]
  },
  {
   "cell_type": "code",
   "execution_count": 39,
   "id": "aea691c0-4f8e-4e66-8b4a-49d6e6b960b2",
   "metadata": {},
   "outputs": [],
   "source": [
    "def one_training_step(model, images_batch, labels_batch): # 이미지 배치는 아래에 나온다.\n",
    "    with tf.GradientTape() as tape:\n",
    "        predictions =model(images_batch) # 시퀀셜 , 즉 덴스 층이다.\n",
    "        per_batch_losses = tf.keras.losses.sparse_categorical_crossentropy(labels_batch, predictions)# 분류해서 손실 구함\n",
    "        average_loss = tf.reduce_mean(per_batch_losses)# 배치당 손실의 평균을 구함\n",
    "    gradients = tape.gradient(average_loss, model.weights)  #손실함수 그래프가 만들어짐 # 이 기울기는 위에서 업데이트됨\n",
    "    update_weights(gradients, model.weights) #위의 정의 내린것 \n",
    "    return average_loss # 손실한 것이다. "
   ]
  },
  {
   "cell_type": "code",
   "execution_count": 49,
   "id": "9069322e-aec7-451d-9255-78115628577a",
   "metadata": {},
   "outputs": [],
   "source": [
    "def f(x):\n",
    "    return 3*x**2"
   ]
  },
  {
   "cell_type": "code",
   "execution_count": 50,
   "id": "a10054c3-240f-442b-a054-d605533e215c",
   "metadata": {},
   "outputs": [],
   "source": [
    "h= 0.00001\n",
    "def diff(x):\n",
    "   return ( f(x+h) - f(x-h) ) / (2*h)   "
   ]
  },
  {
   "cell_type": "code",
   "execution_count": 51,
   "id": "f4d3d6af-5c93-40ac-82d9-2d95481ecacf",
   "metadata": {},
   "outputs": [
    {
     "data": {
      "text/plain": [
       "5.999999999994897"
      ]
     },
     "execution_count": 51,
     "metadata": {},
     "output_type": "execute_result"
    }
   ],
   "source": [
    "diff(1)"
   ]
  },
  {
   "cell_type": "code",
   "execution_count": null,
   "id": "ddea9e2d-3216-46d8-92aa-dd2f16a51821",
   "metadata": {},
   "outputs": [],
   "source": []
  },
  {
   "cell_type": "code",
   "execution_count": 40,
   "id": "7d0271fc-4ccd-4574-9174-bf6d1dcac223",
   "metadata": {},
   "outputs": [],
   "source": [
    "def fit(model, images, labels, epochs, batch_size=128):\n",
    "    for epochs_counter in range(epochs):\n",
    "        print(f\"{epochs_counter}번째 에포크\")\n",
    "        batch_generator = BatchGenerator(images, labels) #\n",
    "        for batch_counter in range(batch_generator.num_batchs): # 최대 배치\n",
    "            images_batch, labels_batch =batch_generator.next() # 처음 128 두번째 128로 batch가 들어감\n",
    "            loss =one_training_step(model, images_batch, labels_batch)\n",
    "            if batch_counter %100==0:\n",
    "                print(f\"{batch_counter}번째 배치 손실 : {loss:2f}\")"
   ]
  },
  {
   "cell_type": "code",
   "execution_count": 41,
   "id": "a0444e23-23c3-413b-833c-b41f9d404fe2",
   "metadata": {
    "tags": []
   },
   "outputs": [
    {
     "name": "stdout",
     "output_type": "stream",
     "text": [
      "0번째 에포크\n",
      "0번째 배치 손실 : 0.628003\n",
      "100번째 배치 손실 : 0.644153\n",
      "200번째 배치 손실 : 0.559694\n",
      "300번째 배치 손실 : 0.619475\n",
      "400번째 배치 손실 : 0.694502\n",
      "1번째 에포크\n",
      "0번째 배치 손실 : 0.594844\n",
      "100번째 배치 손실 : 0.606475\n",
      "200번째 배치 손실 : 0.526901\n",
      "300번째 배치 손실 : 0.588834\n",
      "400번째 배치 손실 : 0.668227\n",
      "2번째 에포크\n",
      "0번째 배치 손실 : 0.567071\n",
      "100번째 배치 손실 : 0.574533\n",
      "200번째 배치 손실 : 0.499382\n",
      "300번째 배치 손실 : 0.562872\n",
      "400번째 배치 손실 : 0.646376\n",
      "3번째 에포크\n",
      "0번째 배치 손실 : 0.543442\n",
      "100번째 배치 손실 : 0.547143\n",
      "200번째 배치 손실 : 0.476006\n",
      "300번째 배치 손실 : 0.540596\n",
      "400번째 배치 손실 : 0.627936\n",
      "4번째 에포크\n",
      "0번째 배치 손실 : 0.523064\n",
      "100번째 배치 손실 : 0.523420\n",
      "200번째 배치 손실 : 0.455938\n",
      "300번째 배치 손실 : 0.521275\n",
      "400번째 배치 손실 : 0.612171\n",
      "5번째 에포크\n",
      "0번째 배치 손실 : 0.505286\n",
      "100번째 배치 손실 : 0.502686\n",
      "200번째 배치 손실 : 0.438546\n",
      "300번째 배치 손실 : 0.504362\n",
      "400번째 배치 손실 : 0.598533\n",
      "6번째 에포크\n",
      "0번째 배치 손실 : 0.489620\n",
      "100번째 배치 손실 : 0.484418\n",
      "200번째 배치 손실 : 0.423345\n",
      "300번째 배치 손실 : 0.489433\n",
      "400번째 배치 손실 : 0.586602\n",
      "7번째 에포크\n",
      "0번째 배치 손실 : 0.475697\n",
      "100번째 배치 손실 : 0.468206\n",
      "200번째 배치 손실 : 0.409959\n",
      "300번째 배치 손실 : 0.476164\n",
      "400번째 배치 손실 : 0.576062\n",
      "8번째 에포크\n",
      "0번째 배치 손실 : 0.463229\n",
      "100번째 배치 손실 : 0.453723\n",
      "200번째 배치 손실 : 0.398090\n",
      "300번째 배치 손실 : 0.464296\n",
      "400번째 배치 손실 : 0.566665\n",
      "9번째 에포크\n",
      "0번째 배치 손실 : 0.451991\n",
      "100번째 배치 손실 : 0.440708\n",
      "200번째 배치 손실 : 0.387500\n",
      "300번째 배치 손실 : 0.453623\n",
      "400번째 배치 손실 : 0.558220\n"
     ]
    }
   ],
   "source": [
    "from keras.datasets import mnist # 숫자 구별이다..\n",
    "\n",
    "(train_images, train_labels),(test_images, test_labels)=mnist.load_data()\n",
    "\n",
    "train_images=train_images.reshape(60000, 28*28) \n",
    "train_images=train_images.astype(\"float32\")/255\n",
    "test_images=test_images.reshape(10000, 28*28) \n",
    "test_images=test_images.astype(\"float32\")/255\n",
    "\n",
    "fit(model, train_images, train_labels, epochs=10, batch_size=128)\n"
   ]
  },
  {
   "cell_type": "code",
   "execution_count": 43,
   "id": "2b589ef3-97c9-4f9e-86c4-5431785461f2",
   "metadata": {},
   "outputs": [
    {
     "name": "stdout",
     "output_type": "stream",
     "text": [
      "정확도: 0.86\n"
     ]
    }
   ],
   "source": [
    "import numpy as np\n",
    "predictions = model(test_images)\n",
    "predictions= predictions.numpy()\n",
    "predictions_labels=np.argmax(predictions, axis=1)\n",
    "matchs= predictions_labels==test_labels\n",
    "print(f\"정확도: {matchs.mean():.2f}\")"
   ]
  },
  {
   "cell_type": "code",
   "execution_count": 46,
   "id": "3e5c6f4e-aa50-4a3f-a69d-91c2e0685530",
   "metadata": {},
   "outputs": [
    {
     "ename": "AttributeError",
     "evalue": "'numpy.ndarray' object has no attribute 'numpy'",
     "output_type": "error",
     "traceback": [
      "\u001b[1;31m---------------------------------------------------------------------------\u001b[0m",
      "\u001b[1;31mAttributeError\u001b[0m                            Traceback (most recent call last)",
      "Input \u001b[1;32mIn [46]\u001b[0m, in \u001b[0;36m<cell line: 1>\u001b[1;34m()\u001b[0m\n\u001b[1;32m----> 1\u001b[0m predictions\u001b[38;5;241m=\u001b[39m \u001b[43mpredictions\u001b[49m\u001b[38;5;241;43m.\u001b[39;49m\u001b[43mnumpy\u001b[49m()\n",
      "\u001b[1;31mAttributeError\u001b[0m: 'numpy.ndarray' object has no attribute 'numpy'"
     ]
    }
   ],
   "source": [
    "predictions= predictions.numpy()"
   ]
  },
  {
   "cell_type": "code",
   "execution_count": null,
   "id": "2df6a534-ff11-4c09-a57a-a7f14a081cdc",
   "metadata": {},
   "outputs": [],
   "source": [
    "최종적으로 아웃풋은 무엇일까요? W, b, grad?"
   ]
  },
  {
   "cell_type": "markdown",
   "id": "9587f898-cdee-4cf2-9e0c-820ad81ad842",
   "metadata": {},
   "source": [
    "# assert란?"
   ]
  },
  {
   "cell_type": "code",
   "execution_count": 53,
   "id": "62c1b0ff-5232-48f0-bcc1-4f5897df81bf",
   "metadata": {
    "collapsed": true,
    "jupyter": {
     "outputs_hidden": true
    },
    "tags": []
   },
   "outputs": [
    {
     "data": {
      "text/plain": [
       "[<tf.Variable 'Variable:0' shape=(784, 512) dtype=float32, numpy=\n",
       " array([[0.02152106, 0.05621797, 0.08557785, ..., 0.03730115, 0.03895609,\n",
       "         0.02670261],\n",
       "        [0.09711033, 0.07275806, 0.01541866, ..., 0.00301406, 0.00939682,\n",
       "         0.06961242],\n",
       "        [0.0907691 , 0.00259045, 0.06203457, ..., 0.01208957, 0.04745017,\n",
       "         0.00870152],\n",
       "        ...,\n",
       "        [0.04087188, 0.00158097, 0.04747703, ..., 0.08890098, 0.07597794,\n",
       "         0.04695396],\n",
       "        [0.02071707, 0.00896482, 0.08411171, ..., 0.0508314 , 0.0593798 ,\n",
       "         0.08858289],\n",
       "        [0.02028164, 0.07641822, 0.05916404, ..., 0.03987962, 0.05512508,\n",
       "         0.08841991]], dtype=float32)>,\n",
       " <tf.Variable 'Variable:0' shape=(512,) dtype=float32, numpy=\n",
       " array([0., 0., 0., 0., 0., 0., 0., 0., 0., 0., 0., 0., 0., 0., 0., 0., 0.,\n",
       "        0., 0., 0., 0., 0., 0., 0., 0., 0., 0., 0., 0., 0., 0., 0., 0., 0.,\n",
       "        0., 0., 0., 0., 0., 0., 0., 0., 0., 0., 0., 0., 0., 0., 0., 0., 0.,\n",
       "        0., 0., 0., 0., 0., 0., 0., 0., 0., 0., 0., 0., 0., 0., 0., 0., 0.,\n",
       "        0., 0., 0., 0., 0., 0., 0., 0., 0., 0., 0., 0., 0., 0., 0., 0., 0.,\n",
       "        0., 0., 0., 0., 0., 0., 0., 0., 0., 0., 0., 0., 0., 0., 0., 0., 0.,\n",
       "        0., 0., 0., 0., 0., 0., 0., 0., 0., 0., 0., 0., 0., 0., 0., 0., 0.,\n",
       "        0., 0., 0., 0., 0., 0., 0., 0., 0., 0., 0., 0., 0., 0., 0., 0., 0.,\n",
       "        0., 0., 0., 0., 0., 0., 0., 0., 0., 0., 0., 0., 0., 0., 0., 0., 0.,\n",
       "        0., 0., 0., 0., 0., 0., 0., 0., 0., 0., 0., 0., 0., 0., 0., 0., 0.,\n",
       "        0., 0., 0., 0., 0., 0., 0., 0., 0., 0., 0., 0., 0., 0., 0., 0., 0.,\n",
       "        0., 0., 0., 0., 0., 0., 0., 0., 0., 0., 0., 0., 0., 0., 0., 0., 0.,\n",
       "        0., 0., 0., 0., 0., 0., 0., 0., 0., 0., 0., 0., 0., 0., 0., 0., 0.,\n",
       "        0., 0., 0., 0., 0., 0., 0., 0., 0., 0., 0., 0., 0., 0., 0., 0., 0.,\n",
       "        0., 0., 0., 0., 0., 0., 0., 0., 0., 0., 0., 0., 0., 0., 0., 0., 0.,\n",
       "        0., 0., 0., 0., 0., 0., 0., 0., 0., 0., 0., 0., 0., 0., 0., 0., 0.,\n",
       "        0., 0., 0., 0., 0., 0., 0., 0., 0., 0., 0., 0., 0., 0., 0., 0., 0.,\n",
       "        0., 0., 0., 0., 0., 0., 0., 0., 0., 0., 0., 0., 0., 0., 0., 0., 0.,\n",
       "        0., 0., 0., 0., 0., 0., 0., 0., 0., 0., 0., 0., 0., 0., 0., 0., 0.,\n",
       "        0., 0., 0., 0., 0., 0., 0., 0., 0., 0., 0., 0., 0., 0., 0., 0., 0.,\n",
       "        0., 0., 0., 0., 0., 0., 0., 0., 0., 0., 0., 0., 0., 0., 0., 0., 0.,\n",
       "        0., 0., 0., 0., 0., 0., 0., 0., 0., 0., 0., 0., 0., 0., 0., 0., 0.,\n",
       "        0., 0., 0., 0., 0., 0., 0., 0., 0., 0., 0., 0., 0., 0., 0., 0., 0.,\n",
       "        0., 0., 0., 0., 0., 0., 0., 0., 0., 0., 0., 0., 0., 0., 0., 0., 0.,\n",
       "        0., 0., 0., 0., 0., 0., 0., 0., 0., 0., 0., 0., 0., 0., 0., 0., 0.,\n",
       "        0., 0., 0., 0., 0., 0., 0., 0., 0., 0., 0., 0., 0., 0., 0., 0., 0.,\n",
       "        0., 0., 0., 0., 0., 0., 0., 0., 0., 0., 0., 0., 0., 0., 0., 0., 0.,\n",
       "        0., 0., 0., 0., 0., 0., 0., 0., 0., 0., 0., 0., 0., 0., 0., 0., 0.,\n",
       "        0., 0., 0., 0., 0., 0., 0., 0., 0., 0., 0., 0., 0., 0., 0., 0., 0.,\n",
       "        0., 0., 0., 0., 0., 0., 0., 0., 0., 0., 0., 0., 0., 0., 0., 0., 0.,\n",
       "        0., 0.], dtype=float32)>,\n",
       " <tf.Variable 'Variable:0' shape=(512, 10) dtype=float32, numpy=\n",
       " array([[0.09099136, 0.0069913 , 0.04173876, ..., 0.01565036, 0.02333491,\n",
       "         0.06681786],\n",
       "        [0.07824341, 0.08271318, 0.07462839, ..., 0.03543229, 0.03098207,\n",
       "         0.06387641],\n",
       "        [0.0132599 , 0.0946454 , 0.06682322, ..., 0.00464425, 0.08036508,\n",
       "         0.07658185],\n",
       "        ...,\n",
       "        [0.03725395, 0.09674609, 0.03610016, ..., 0.09044748, 0.09007557,\n",
       "         0.01772689],\n",
       "        [0.04770237, 0.06925843, 0.03150915, ..., 0.0542715 , 0.05060373,\n",
       "         0.03497623],\n",
       "        [0.02100785, 0.02134206, 0.06047995, ..., 0.08699139, 0.03982626,\n",
       "         0.06618998]], dtype=float32)>,\n",
       " <tf.Variable 'Variable:0' shape=(10,) dtype=float32, numpy=array([0., 0., 0., 0., 0., 0., 0., 0., 0., 0.], dtype=float32)>]"
      ]
     },
     "execution_count": 53,
     "metadata": {},
     "output_type": "execute_result"
    }
   ],
   "source": [
    "model.weights"
   ]
  },
  {
   "cell_type": "code",
   "execution_count": 54,
   "id": "114559bd-e5d6-46ea-b802-f4d1cab57c49",
   "metadata": {},
   "outputs": [],
   "source": [
    "assert len(model.weights)==4 # assert는 뒤에가 맞는지 확인함 \n",
    "# 각 레이어 마다 w,b 한개씩 총 2개니 4개 "
   ]
  },
  {
   "cell_type": "code",
   "execution_count": null,
   "id": "8013d576-0c85-45e7-a7b7-1d8f0543780b",
   "metadata": {},
   "outputs": [],
   "source": [
    "if len(model.weights)==4 :\n",
    "    pass\n",
    "else:\n",
    "    print('False')"
   ]
  },
  {
   "cell_type": "code",
   "execution_count": 22,
   "id": "ab30fdb9-0c04-46de-9715-6e98c5a89e05",
   "metadata": {},
   "outputs": [
    {
     "data": {
      "text/plain": [
       "4"
      ]
     },
     "execution_count": 22,
     "metadata": {},
     "output_type": "execute_result"
    }
   ],
   "source": [
    "len(model.weights)"
   ]
  },
  {
   "cell_type": "markdown",
   "id": "200b4f29-5dbc-4321-92bc-1468a0f7978e",
   "metadata": {},
   "source": [
    "# @property"
   ]
  },
  {
   "cell_type": "code",
   "execution_count": null,
   "id": "097ca06f-206b-437d-a739-5a39e794f39b",
   "metadata": {},
   "outputs": [
    {
     "data": {
      "text/plain": [
       "4"
      ]
     },
     "execution_count": 23,
     "metadata": {},
     "output_type": "execute_result"
    }
   ],
   "source": [
    "model.weights.__len__() # 스페셜 메소드 정의 됨 "
   ]
  },
  {
   "cell_type": "code",
   "execution_count": 21,
   "id": "7c5718e2-6cc0-40ec-99ad-b66e4c5acc21",
   "metadata": {
    "collapsed": true,
    "jupyter": {
     "outputs_hidden": true
    },
    "tags": []
   },
   "outputs": [
    {
     "data": {
      "text/plain": [
       "['__add__',\n",
       " '__class__',\n",
       " '__class_getitem__',\n",
       " '__contains__',\n",
       " '__delattr__',\n",
       " '__delitem__',\n",
       " '__dir__',\n",
       " '__doc__',\n",
       " '__eq__',\n",
       " '__format__',\n",
       " '__ge__',\n",
       " '__getattribute__',\n",
       " '__getitem__',\n",
       " '__gt__',\n",
       " '__hash__',\n",
       " '__iadd__',\n",
       " '__imul__',\n",
       " '__init__',\n",
       " '__init_subclass__',\n",
       " '__iter__',\n",
       " '__le__',\n",
       " '__len__',\n",
       " '__lt__',\n",
       " '__mul__',\n",
       " '__ne__',\n",
       " '__new__',\n",
       " '__reduce__',\n",
       " '__reduce_ex__',\n",
       " '__repr__',\n",
       " '__reversed__',\n",
       " '__rmul__',\n",
       " '__setattr__',\n",
       " '__setitem__',\n",
       " '__sizeof__',\n",
       " '__str__',\n",
       " '__subclasshook__',\n",
       " 'append',\n",
       " 'clear',\n",
       " 'copy',\n",
       " 'count',\n",
       " 'extend',\n",
       " 'index',\n",
       " 'insert',\n",
       " 'pop',\n",
       " 'remove',\n",
       " 'reverse',\n",
       " 'sort']"
      ]
     },
     "execution_count": 21,
     "metadata": {},
     "output_type": "execute_result"
    }
   ],
   "source": [
    "dir(model.weights) #쓸수있는 함수 나옴"
   ]
  },
  {
   "cell_type": "markdown",
   "id": "9b5744fd-2eb4-447f-a640-6bea8bac6b4c",
   "metadata": {},
   "source": [
    "# __call__() 역할"
   ]
  },
  {
   "cell_type": "code",
   "execution_count": 68,
   "id": "4e9c4746-2ad7-480b-b4b6-9a2133943d0b",
   "metadata": {},
   "outputs": [
    {
     "name": "stdout",
     "output_type": "stream",
     "text": [
      "Hello\n"
     ]
    }
   ],
   "source": [
    "class Test: # 호출 가능한 객체로 만들어줌..\n",
    "    def __call__(self, num):\n",
    "        if num ==1:\n",
    "            print(\"Hello\")\n",
    "        else:\n",
    "            raise\n",
    "test = Test() \n",
    "test(1) #함수 # class를 함수로 만들고  call안에 있는 것을 사용하는 것이다...."
   ]
  },
  {
   "cell_type": "code",
   "execution_count": 69,
   "id": "165ba130-3e11-40f2-b9c6-7a320db30f0b",
   "metadata": {},
   "outputs": [
    {
     "name": "stdout",
     "output_type": "stream",
     "text": [
      "Hello\n"
     ]
    }
   ],
   "source": [
    "Test()(1) # call은 받아들임 #\n",
    "# 기본 내장함수를 만드는 느낌이다. \n",
    "# 다른 것은 self.red()= red인데 call은 바로간다."
   ]
  },
  {
   "cell_type": "code",
   "execution_count": 70,
   "id": "452ca3dd-72c2-4a71-9629-7fbd76bed20d",
   "metadata": {},
   "outputs": [
    {
     "name": "stdout",
     "output_type": "stream",
     "text": [
      "init\n",
      "call\n",
      "my\n"
     ]
    }
   ],
   "source": [
    "class A:\n",
    "    def __init__(self):\n",
    "        print('init')\n",
    "    def __call__(self):\n",
    "        print('call')\n",
    "    def myfunc(self):\n",
    "        print('my')\n",
    "\n",
    "a = A()\n",
    "a()\n",
    "a.myfunc()"
   ]
  },
  {
   "cell_type": "markdown",
   "id": "2bb70a74-1189-467d-ae9b-97e34b1a6f20",
   "metadata": {},
   "source": [
    "# 함수형으로 숫자"
   ]
  },
  {
   "cell_type": "code",
   "execution_count": 32,
   "id": "b07fe68e-00c4-460d-a494-9874f5541c29",
   "metadata": {},
   "outputs": [
    {
     "name": "stdout",
     "output_type": "stream",
     "text": [
      "Epoch 1/5\n",
      "938/938 [==============================] - 5s 5ms/step - loss: 0.2220 - acc: 0.9350\n",
      "Epoch 2/5\n",
      "938/938 [==============================] - 4s 5ms/step - loss: 0.0929 - acc: 0.9724\n",
      "Epoch 3/5\n",
      "938/938 [==============================] - 4s 4ms/step - loss: 0.0630 - acc: 0.9811\n",
      "Epoch 4/5\n",
      "938/938 [==============================] - 4s 4ms/step - loss: 0.0468 - acc: 0.9859\n",
      "Epoch 5/5\n",
      "938/938 [==============================] - 4s 4ms/step - loss: 0.0352 - acc: 0.9900\n"
     ]
    },
    {
     "data": {
      "text/plain": [
       "<keras.callbacks.History at 0x1a780693b50>"
      ]
     },
     "execution_count": 32,
     "metadata": {},
     "output_type": "execute_result"
    }
   ],
   "source": [
    "import keras\n",
    "from keras.datasets import mnist\n",
    "from keras.layers import Dense\n",
    "from keras import Sequential # 대문자는 class다.\n",
    "\n",
    "(train_images, train_labels),(test_images, test_labels)=mnist.load_data()\n",
    "\n",
    "train_images=train_images.reshape(60000, 28*28) \n",
    "train_images=train_images/255.0\n",
    "test_images=test_images.reshape(10000, 28*28) \n",
    "test_images=test_images/255.0     \n",
    "\n",
    "model = Sequential()\n",
    "model.add(Dense(512, activation='relu'))\n",
    "model.add(Dense(10, activation='softmax'))\n",
    "\n",
    "\n",
    "model.compile(optimizer='rmsprop', loss='sparse_categorical_crossentropy', metrics='acc')\n",
    "model.fit(train_images, train_labels, epochs=5, batch_size=64) "
   ]
  },
  {
   "cell_type": "code",
   "execution_count": 34,
   "id": "8e3bd729-c217-4a73-92da-0cdc706c845c",
   "metadata": {},
   "outputs": [
    {
     "name": "stdout",
     "output_type": "stream",
     "text": [
      "313/313 [==============================] - 1s 1ms/step - loss: 0.0773 - acc: 0.9780\n"
     ]
    },
    {
     "data": {
      "text/plain": [
       "[0.07732157409191132, 0.9779999852180481]"
      ]
     },
     "execution_count": 34,
     "metadata": {},
     "output_type": "execute_result"
    }
   ],
   "source": [
    "model.evaluate(test_images, test_labels)"
   ]
  },
  {
   "cell_type": "code",
   "execution_count": 65,
   "id": "88d30c44-2163-4903-9e4c-750cc900b9e9",
   "metadata": {},
   "outputs": [
    {
     "name": "stdout",
     "output_type": "stream",
     "text": [
      "Epoch 1/5\n",
      "469/469 [==============================] - 3s 5ms/step - loss: 0.2583 - acc: 0.9247\n",
      "Epoch 2/5\n",
      "469/469 [==============================] - 2s 5ms/step - loss: 0.1053 - acc: 0.9693\n",
      "Epoch 3/5\n",
      "469/469 [==============================] - 2s 5ms/step - loss: 0.0693 - acc: 0.9792\n",
      "Epoch 4/5\n",
      "469/469 [==============================] - 2s 5ms/step - loss: 0.0508 - acc: 0.9845\n",
      "Epoch 5/5\n",
      "469/469 [==============================] - 2s 5ms/step - loss: 0.0372 - acc: 0.9889\n",
      "313/313 [==============================] - 1s 1ms/step - loss: 0.0827 - acc: 0.9733\n"
     ]
    },
    {
     "data": {
      "text/plain": [
       "[0.08269445598125458, 0.9732999801635742]"
      ]
     },
     "execution_count": 65,
     "metadata": {},
     "output_type": "execute_result"
    }
   ],
   "source": [
    "(train_images, train_labels),(test_images, test_labels)=mnist.load_data()\n",
    "\n",
    "train_images=train_images.reshape(60000, 28*28) \n",
    "train_images=train_images/255.0\n",
    "test_images=test_images.reshape(10000, 28*28) \n",
    "test_images=test_images/255.0     \n",
    "\n",
    "inputs = keras.Input(shape=(784, )) # 인풋이 먹음 \n",
    "f =Dense(512, activation=\"relu\")(inputs) # input이 1개라서 그럼  64*10+ 64\n",
    "outputs =Dense(10, activation=\"softmax\")(f) # 65*10\n",
    "model = keras.Model(inputs,outputs) # input의 x가 들어가야 함 \n",
    "model.compile(optimizer='rmsprop', loss='sparse_categorical_crossentropy', metrics='acc')\n",
    "model.fit(train_images, train_labels, epochs=5, batch_size=128)\n",
    "model.evaluate(test_images, test_labels)"
   ]
  },
  {
   "cell_type": "code",
   "execution_count": 66,
   "id": "746a6f3c-9371-4556-ab90-2d69bab9a94a",
   "metadata": {},
   "outputs": [
    {
     "name": "stdout",
     "output_type": "stream",
     "text": [
      "Model: \"model_13\"\n",
      "_________________________________________________________________\n",
      " Layer (type)                Output Shape              Param #   \n",
      "=================================================================\n",
      " input_16 (InputLayer)       [(None, 784)]             0         \n",
      "                                                                 \n",
      " dense_29 (Dense)            (None, 512)               401920    \n",
      "                                                                 \n",
      " dense_30 (Dense)            (None, 10)                5130      \n",
      "                                                                 \n",
      "=================================================================\n",
      "Total params: 407,050\n",
      "Trainable params: 407,050\n",
      "Non-trainable params: 0\n",
      "_________________________________________________________________\n"
     ]
    }
   ],
   "source": [
    "model.summary() #몇개가 들어와도 상관 없음 .."
   ]
  },
  {
   "cell_type": "markdown",
   "id": "82545fb4-2b4c-4bee-9431-86d0758dcd80",
   "metadata": {},
   "source": [
    "# 합성곱 신경망"
   ]
  },
  {
   "cell_type": "code",
   "execution_count": null,
   "id": "0f35a395-8bf0-4200-9333-7f086ed9fb7d",
   "metadata": {},
   "outputs": [],
   "source": [
    "합성곱 연산은 특성맵 feature map이라고 불리는 rgb3ckdnjsdlehlsek. \n",
    "한번하면 색이아닌 필터를 의미하게 된다. \n",
    "합성곱 커널이나 필터나 같다."
   ]
  },
  {
   "cell_type": "code",
   "execution_count": 63,
   "id": "e2dfc451-60bc-482f-b62a-70e4762ce4cd",
   "metadata": {},
   "outputs": [
    {
     "name": "stdout",
     "output_type": "stream",
     "text": [
      "Epoch 1/5\n",
      "469/469 [==============================] - 15s 31ms/step - loss: 0.2047 - acc: 0.9373\n",
      "Epoch 2/5\n",
      "469/469 [==============================] - 15s 32ms/step - loss: 0.0492 - acc: 0.9848\n",
      "Epoch 3/5\n",
      "469/469 [==============================] - 15s 31ms/step - loss: 0.0341 - acc: 0.9896\n",
      "Epoch 4/5\n",
      "469/469 [==============================] - 15s 31ms/step - loss: 0.0254 - acc: 0.9921\n",
      "Epoch 5/5\n",
      "469/469 [==============================] - 15s 32ms/step - loss: 0.0197 - acc: 0.9941\n",
      "313/313 [==============================] - 1s 3ms/step - loss: 0.0237 - acc: 0.9930\n"
     ]
    },
    {
     "data": {
      "text/plain": [
       "[0.02365841157734394, 0.9929999709129333]"
      ]
     },
     "execution_count": 63,
     "metadata": {},
     "output_type": "execute_result"
    }
   ],
   "source": [
    "model.summary()import keras\n",
    "from keras.layers import Dense, Input, Conv2D, MaxPooling2D, Flatten\n",
    "\n",
    "(train_images, train_labels),(test_images, test_labels)=mnist.load_data()\n",
    "\n",
    "train_images=train_images.reshape(60000, 28,28,1) \n",
    "train_images=train_images/255.0\n",
    "test_images=test_images.reshape(10000, 28,28,1) \n",
    "test_images=test_images/255.0     \n",
    "\n",
    "inputs = keras.Input(shape=(28, 28, 1)) # 흑백은 1이다. \n",
    "\n",
    "x =Conv2D(filters=32, kernel_size=3, activation=\"relu\")(inputs) # input이 1개라서 그럼  64*10+ 64\n",
    "x= MaxPooling2D(pool_size=2)(x)\n",
    "x =Conv2D(filters=64, kernel_size=3, activation=\"relu\")(x) # input이 1개라서 그럼  64*10+ 64\n",
    "x= MaxPooling2D(pool_size=2)(x)\n",
    "x =Conv2D(filters=128, kernel_size=3, activation=\"relu\")(x) # input이 1개라서 그럼  64*10+ 64\n",
    "x= Flatten()(x)\n",
    "\n",
    "outputs =Dense(10, activation=\"softmax\")(x) # 65*10\n",
    "\n",
    "model = keras.Model(inputs=inputs, outputs=outputs) # input의 x가 들어가야 함 \n",
    "model.compile(optimizer='rmsprop', loss='sparse_categorical_crossentropy', metrics='acc')\n",
    "model.fit(train_images, train_labels, epochs=5, batch_size=128)\n",
    "model.evaluate(test_images, test_labels)"
   ]
  },
  {
   "cell_type": "code",
   "execution_count": 64,
   "id": "51913793-907d-4d52-88da-765b3f55f818",
   "metadata": {},
   "outputs": [
    {
     "name": "stdout",
     "output_type": "stream",
     "text": [
      "Model: \"model_12\"\n",
      "_________________________________________________________________\n",
      " Layer (type)                Output Shape              Param #   \n",
      "=================================================================\n",
      " input_15 (InputLayer)       [(None, 28, 28, 1)]       0         \n",
      "                                                                 \n",
      " conv2d_27 (Conv2D)          (None, 26, 26, 32)        320       \n",
      "                                                                 \n",
      " max_pooling2d_18 (MaxPoolin  (None, 13, 13, 32)       0         \n",
      " g2D)                                                            \n",
      "                                                                 \n",
      " conv2d_28 (Conv2D)          (None, 11, 11, 64)        18496     \n",
      "                                                                 \n",
      " max_pooling2d_19 (MaxPoolin  (None, 5, 5, 64)         0         \n",
      " g2D)                                                            \n",
      "                                                                 \n",
      " conv2d_29 (Conv2D)          (None, 3, 3, 128)         73856     \n",
      "                                                                 \n",
      " flatten_8 (Flatten)         (None, 1152)              0         \n",
      "                                                                 \n",
      " dense_28 (Dense)            (None, 10)                11530     \n",
      "                                                                 \n",
      "=================================================================\n",
      "Total params: 104,202\n",
      "Trainable params: 104,202\n",
      "Non-trainable params: 0\n",
      "_________________________________________________________________\n"
     ]
    }
   ],
   "source": [
    "model.summary()"
   ]
  },
  {
   "cell_type": "code",
   "execution_count": null,
   "id": "36fc2357-30de-417a-b436-c3faddaa0225",
   "metadata": {},
   "outputs": [],
   "source": [
    "# 이미지 -> 숫자배열.....784\n",
    "# 이미지 -> 이미지 숫자(28,28,1) 사진은 사진으로 처리 흑백은 1이다.  >> 숫자\n",
    "\n",
    "# DNN >> 1\n",
    "# CNN >> DNN >>1 \n",
    "\n",
    "\n",
    "첫번째 인자(units): 출력 뉴런의 수를 설정합니다.\n",
    "input_dim : 입력 뉴련의 수를 설정합니다.\n",
    "kernel_initializer : 가중치를 초기화하는 방법을 설정합니다.\n",
    "uniform : 균일 분포\n",
    "normal : 가우시안 분포\n",
    "activation : 활성화함수를 설정합니다.\n",
    "linear : 디폴트 값으로 입력값과 가중치로 계산된 결과 값이 그대로 출력으로 나옵니다\n",
    "sigmoid : 시그모이드 함수로 이진분류에서 출력층에 주로 쓰입니다\n",
    "softmax : 소프드맥스 함수로 다중클래스 분류문제에서 출력층에 주로 쓰입니다.\n",
    "relu: Rectified Linear Unit 함수로 은닉층에서 주로 쓰입니다.\n",
    "\n",
    "\n",
    "\n",
    "퍼셉트론(Perceptron)은 인공 신경망(Aritificial Neural Network, ANN)의\n",
    "구성 요소(unit)로서 다수의 값을 입력받아 하나의 값으로 출력하는 알고리즘입니다. \n",
    "Perceptron은 perception과 neuron의 합성어이며 인공 뉴런이라고도 부릅니다.\n",
    "즉, 퍼셉트론은 생물학적인 신경계(Neual Network)의 기본 단위인 신경세포(=뉴런)의\n",
    "동작 과정을 통계학적으로 모델링한 알고리즘입니다.\n",
    "생물학 관점에서의 뉴런과 컴퓨터사이언스 관점에서 퍼셉트론의 역할과 동작 과정을 알아봅니다.\n",
    "퍼셉트론은 아래 그림 3과 같이 도식화했습니다.\n",
    "퍼셉트론은 뉴런이 다른 뉴런으로부터 신호를 입력받듯 다수의 값 을 입력받고,\n",
    "입력된 값마다 가중치()를 곱합니다. 여기서 가중치는 생물학 뉴런에서 뉴런 간 \n",
    "시냅스를 통한 결합의 세기와 같은 역할이며 가중치가 클수록 입력값이 중요하다는 것을 의미합니다. \n",
    "입력값으로써  외에도 편향(bias, )은 딥러닝 모델 최적화의 중요 변수 중 하나입니다.\n",
    "일반적으로 입력값을 로 고정하고 편향 를 곱한 변수로 표현합니다. 입력값과 가중치의 곱,\n",
    "편향은 퍼셉트론으로 전달됩니다. 퍼셉트론은 입력받은 값을 모두 합산하는데, 합산된 결괏값을 \n",
    "가중합이라 부릅니다.\n",
    "퍼셉트론의 종류는 입력층(Input Layer)과 출력층(Output Layer) 사이에 은닉층(Hidden Layer)의 \n",
    "존재 여부에 따라 단층(Single-Layer) 퍼셉트론과 다층(Multi-Layer) 퍼셉트론으로 나뉩니다. \n",
    "각각에 대해 알아봅니다.\n",
    "\n",
    "3. 퍼셉트론 학습 방법\n",
    "x는 입력값, b는 편향, w는 가중치, y는 출력값입니다. 출력값 를 수식화하면 다음과 같이 나타낼 수 있습니다\n",
    "여기서 입력값  x자체는 변경하지 않고 2가지 클래스를 잘 분류하는 기준선을 찾는 방법은 크게 2가지가 있습니다.\n",
    "1) 편향() 조정\n",
    "첫 번째 방법은 상수값 편향()을 조정하는 것입니다. 편향은 직선의 절편을 의미하기 때문에, 편향 값을 조정함으로써 직선 자체를 이동시킬 수 있습니다.\n",
    "\n",
    "2) 가중치() 조정\n",
    "두 번째 방법은 가중치()를 조정하는 것입니다. 가중치를 쉽게 생각해서 직선의 기울기라 생각하시면 됩니다. \n",
    "조정한 가중치는 아래와 같은 수식에 따라 산출됩니다.\n",
    "\n",
    "\n",
    "(1) : Time Step\n",
    "는 시간 순서를 구분하기 위한 값입니다. 즉, 은 의 다음 Time Step을 의미합니다.\n",
    "\n",
    "4) : 학습률\n",
    "는 '에타(eta)'라 읽고 학습률(Learning Rate)을 의미합니다. \n",
    "학습률은 Time Step마다 정답과 모델의 예측값 간의 차이를 어떤 비율만큼 고려하여 \n",
    "가중치를 업데이트할지 결정하며, 0과 1사이의 값을 갖습니다. 즉, 학습률이 클수록 \n",
    "ime Step마다 가중치가 많이 업데이트되므로 학습 속도가 빠릅니다. 하지만, 학습률이 \n",
    "크면 가중치를 미세하게 조정하진 못하기 때문에 최적의 가중치를 찾는 데 어려울 수 있습니다. \n",
    "학습률은 하이퍼파라미터(hyper-parameter)로 사용자가 직접 지정해야 하는 값이므로,\n",
    "어떤 값을 모델 학습에 사용하느냐에 따라 모델 성능이 좌지우지됩니다.\n",
    "\n",
    "퍼셉트론은 아래와 같은 절차로 최적의 직선을 찾아나갑니다.\n",
    "\n",
    "1) 좌표평면에 임의의 직선을 긋습니다.\n",
    "2) 좌표평면에 데이터를 하나씩 입력합니다.\n",
    "3) 입력값에 따른 모델의 예측값과 정답을 비교하여 틀린 경우 직선을 다시 긋습니다.\n",
    "4) 모든 학습용 데이터에 대해 2~3) 과정을 반복합니다.\n",
    "\n",
    "1.  활성화 함수의 개념\n",
    "활성화 함수(Activation Function)란 퍼셉트론(Perceptron)의 출력값을 결정하는 \n",
    "비선형(non-linear) 함수입니다. 즉, 활성화 함수는 퍼셉트론에서 입력값의 총합을 출력할지 말지 결정하고, \n",
    "출력한다면 어떤 값으로 변환하여 출력할지 결정하는 함수입니다. 퍼셉트론에 대한 자세한\n",
    "내용은 이곳을 참고해 주세요.\n",
    "아래 그림 1에 노란색으로 색칠한 부분이 퍼셉트론의 활성화 함수 부분입니다. \n",
    "2.1.  Sign 함수\n",
    "위의 퍼셉트론에서는 Sign 함수를 활성화 함수로써 활용하였습니다(그림 2 참고).\n",
    "즉, Sign 함수의 활성화 함수는 퍼셉트론 내 입력값의 총합이0 보다 작을 경우 -1을 출력하고,\n",
    "반대로 0보다 클 경우 1을 출력하는 역할을 합니다. \n",
    "이처럼 활성화 함수는 비선형 함수입니다.\n",
    "Sign 함수는 데이터와 결정경계(Decision Boundary) 간 거리 정보를 고려하지 않는 한계가 존재합니다.\n",
    "그 이유에 대해 자세히 알아봅니다. 아래의 그림 3과 같이, 녹색과 파란색 동그라미 클래스가\n",
    "있다고 가정해 보겠습니다. 두 클래스를 분류하는 기준이 되는 선을 결정경계(Decision Boundary)라고 부릅니다.\n",
    "그림 3에서는 빨간색 직선이 이에 해당합니다. \n",
    "그렇다면 좌측 그림과 우측 그림에서 어떤 결정경계가 더 좋다고 말할 수 있을까요?\n",
    "정답은 우측입니다. 아래의 그림 4와 같이 결정경계와 클래스별로 가장 가까운 데이터 간 거리를 마진(margin)이라고 부르는데, 이 마진의 크기가 클수록 좋은 결정경계입니다. \n",
    "즉, 좌측 그림의 마진보다 우측 그림의 마진이 더 크기 때문에 우측 그림의 결정경계가 더 좋다고 볼 수 있습니다.\n",
    "Sigmoid 함수는 아래 그림 5와 같은 모양의 함수입니다. \n",
    "본래 Sigmoid 함수라 하면 S자 모양의 함수를 모두 가리키는데, 딥러닝 분야에서는 \n",
    "일반적으로 지금 다루는 특징을 갖는 함수로 통용됩니다.\n",
    "2.4.  Softmax 함수\n",
    "Softmax 함수는 n가지 출력값을 갖는 함수로써 입력값을 n 가지 클래스 중 하나로 분류하는 \n",
    "Multi-class Classification에 주로 사용됩니다. 수식은 아래와 같습니다.\n",
    "\n",
    "Softmax 함수의 특징은 다음과 같습니다.\n",
    "\n",
    "출력값이 n개\n",
    "입력값을 각각 지수함수로 취하고, 이를 정규화(=총합을 1로 만듦)\n",
    "정규화로 인해 각 출력값은 0 ~ 1 값을 가짐\n",
    "모든 출력값의 합은 반드시 1\n",
    "n가지 중 한 가지에 속할 확률 표현 가능(=Multi-class Classification)\n",
    "\n",
    "2.5.  ReLU 함수\n",
    "렐루(Rectified Linear Unit, ReLU) 함수는 인 선형함수가 입력값  0이하에서부터 \n",
    "rectified(정류)된 함수입니다(그림 8 참고).\n",
    "즉, ReLU 함수의 수식은 다음과 같습니다.\n",
    "입력값이 음수일 경우 출력값과 미분값을 모두 0으로 강제하므로 죽은 \n",
    "뉴런을 회생하는 데 어려움 존재(a.ka., Dying ReLU)\n",
    "\n",
    "1. MSE 개념\n",
    "평균제곱오차(Mean Squared Error, MSE)는 이름에서 알 수 있듯이 오차(error)를 제곱한 값의 평균입니다. \n",
    "오차란 알고리즘이 예측한 값과 실제 정답과의 차이를 의미합니다.\n",
    "즉, 알고리즘이 정답을 잘 맞출수록 MSE 값은 작겠죠.\n",
    "즉, MSE 값은 작을수록 알고리즘의 성능이 좋다고 볼 수 있습니다. 수식을 살펴보겠습니다.\n",
    "\n",
    "MSE는 오차가 커질수록 손실 함수 값이 빠르게 증가하는 특징이 있습니다. 그림 2는 MSE를 좌표평면에 \n",
    "나타낸 것입니다. 손실 함수()의 크기는 오차의 제곱에 비례하여 변하는 것을 볼 수 있습니다. \n",
    "그만큼 미분값이 일정하지 않고 오차가 커질수록 미분값 역시 커지는 것을 알 수 있습니다.\n",
    "MSE와는 다르게, 평균절대오차(MAE)는 오차가 커질수록 손실 함수가 선형적으로 증가합\n",
    "니다. MAE와 비교했을 때, MSE가 비교적 오차의 변화량에 따라 손실 함수\n",
    "값이 크게 변한다는 것을 알 수 있습니다.\n",
    "\n",
    "MSE는 회귀(Regression) 문제에 자주 활용됩니다.  제곱한것\n",
    "예를 들어, 아래 그림 2와 같이 사진을 통해 강아지의 키와 몸무게를 예측하는 알고리즘이 있다고\n",
    "가정해 보겠습니다. 사진 속 강아지의 키와 몸무게는 실제로 40 21각각 라고 해보겠습니다. \n",
    "이제 알고리즘은 강아지의 키와 몸무게를 예측합니다. 처\n",
    "음에 키와 몸무게를 각각 39 19로 예측했다고 가정하겠습니다. MSE를 계산해 보면 4.25입니다.\n",
    "다음 예측에서는 40 210로 출력했다면 MSE는 1.16입니다. 이처럼 MSE를 활용하여 를 변경해 가며 \n",
    "오차를 줄여갈 수 있습니다.\n",
    "\n",
    "1.  MAE 개념\n",
    "평균절대오차(Mean Absolute Error, MAE)는 모든 절대 오차(Error)의 평균입니다. \n",
    "여기서 오차란 알고리즘이 예측한 값과 실제 정답과의 차이를 의미합니다.\n",
    "즉, 알고리즘이 정답을 잘 맞힐수록 MSE \n",
    "값은 작습니다. 따라서, MAE가 작을수록 알고리즘의 성능이 좋다고 볼 수 있습니다.\n",
    "MAE의 수식을 살펴보겠습니다.\n",
    "MAE는 손실 함수가 오차와 비례하여 일정하게 증가하는 특징이 있습니다(그림 1 참고).\n",
    "MAE와 달리, 평균제곱오차(MSE)는 오차 제곱의 평균값이므로 오차가 커질수록 손실 함수의 \n",
    "값이 빠르게 증가한다는 특징이 있습니다. 평균제곱오차 관련 포스팅은 이곳을 참고해 주세요.\n",
    "이와 같은 특징 덕분에, MAE는 Outlier에 강건하다는(Robust) 특징이 있습니다. \n",
    "다음 섹션에서 이에 대해 자세히 알아봅니다.\n",
    "MAE는 회귀(Regression) 문제에 자주 활용됩니다\n",
    "1. 최적화 개념\n",
    "딥러닝 분야에서 최적화(Optimization)란 손실 함수(Loss Function) 값을 최소화하는\n",
    "파라미터를 구하는 과정입니다(아래 그림 1 참고). 딥러닝에서는 학습 데이터를 입력하여 \n",
    "네트워크 구조를 거쳐 예측값(\n",
    ")을 얻습니다. 이 예측값과 실제 정답()과의 차이를 비교하는 함수가 손실 함수입니다.\n",
    "즉, 모델이 예측한 값과 실젯값의 차이를 최소화하는 네트워크 구조의 파라미터\n",
    "(a.k.a., Feature)를 찾는 과정이 최적화입니다. 최적화 기법에는 여러 가지가 있으며\n",
    ", 본 포스팅에서는 경사 하강법(Gradient Descent)에 대해 알아봅니다.\n",
    "경사 하강법(Gradient Descent)이란 딥러닝 알고리즘 학습 시 사용되는 최적화 방법 중 하나입니다.\n",
    "딥러닝 알고리즘 학습 시 목표는 예측값과 정답값 간의 차이인 손실 함수의 크기를 최소화시키는\n",
    "파라미터를 찾는 것입니다. \n",
    "학습 데이터 입력을 변경할 수 없기 때문에, \n",
    "손실 함수 값의 변화에 따라 가중치(weight) 혹은 편향(bias)을 업데이트해야 합니다. \n",
    "\n",
    "RMSProp는 딥러닝 최적화 기법 중 하나로써 Root Mean Sqaure Propagation의 약자로, \n",
    "알엠에스프롭(R.M.S.Prop)이라고 읽습니다.\n",
    "RMSProp은 AdaGrad와 마찬가지로 변수(feature)별로 학습률을 조절하되 기울기 업데이트 방식에서 차이가 있습니다. 이전 time step에서의 기울기를 단순히 \n",
    "같은 비율로 누적하지 않고 지수이동평균(Exponential Moving Average, EMA)을\n",
    "활용하여 기울기를 업데이트합니다"
   ]
  },
  {
   "cell_type": "code",
   "execution_count": null,
   "id": "efa54038-390b-4d4c-89d0-efdcad19e3cc",
   "metadata": {},
   "outputs": [],
   "source": [
    "1. 클래스 Class\n",
    "\n",
    "​\n",
    "\n",
    "클래스는 하나의 틀이라고 볼 수 있습니다. \n",
    "\n",
    "​\n",
    "\n",
    "​\n",
    "\n",
    "얼음틀에 액체를 담아 얼리면 틀 모양을 따라 얼음이 만들어지듯\n",
    "\n",
    "클래스를 설계할 때 정의한 속성과 메소드(메서드)가 기본 틀의 요소가 됩니다.\n",
    "\n",
    "​\n",
    "\n",
    "​\n",
    "\n",
    "이때 속성은 해당 클래스의 특징적인 데이터를 담고 있으며\n",
    "\n",
    "메소드는 클래스로 찍어낸 얼음(객체)가 할 수 있는 기능을 의미합니다.\n",
    "\n",
    "​\n",
    "\n",
    "​\n",
    "\n",
    "예를 들어, 펜을 의미하는 클래스를 만들면\n",
    "\n",
    "속성에서는 펜의 색상, 굵기 등을 지정하여 담을 수 있으며\n",
    "\n",
    "메서드는 뚜껑 열기, 쓰기, 뚜껑 닫기 등의 기능을 포함시킬 수 있습니다.\n",
    "\n",
    "​\n",
    "\n",
    "​\n",
    "\n",
    "그 중 색상 지정과 쓰기 기능을 구현한 코드는 아래와 같습니다.\n",
    "\n",
    "setColour( ) 를 통해 색상 속성값을 설정할 수 있게 설정해주며 \n",
    "\n",
    "write( ) 을 통해 주어진 문장을 출력하도록 만들 수 있습니다.\n",
    "\n",
    "2. 객체 Object\n",
    "\n",
    "​\n",
    "\n",
    "객체는 얼음틀(클래스)로 찍어낸 실제 얼음과 같습니다.\n",
    "\n",
    "​\n",
    "\n",
    "​\n",
    "\n",
    "다 만들어진 얼음들은 서로 독립적이며 \n",
    "\n",
    "프로그램에서 실제로 구현에 사용하기 위해서는 \n",
    "\n",
    "클래스로 찍어낸 후의 객체들을 다루게 됩니다.\n",
    "\n",
    "\n",
    "예를 들어, 위에서 살펴보았던 펜 클래스를 이용하여 \n",
    "\n",
    "빨간색을 속성으로 가지는 객체 하나를 만들어보겠습니다.\n",
    "객체를 생성할 때에는 객체이름 = 클래스이름( ) 의 형태로 선언합니다.\n",
    "\n",
    "이때 클래스 이름 뒤의 괄호에는 인자가 전달되기도 하는데, \n",
    "\n",
    "이는 다음에 생성자에 대해 학습할 때 설명드리도록 하겠습니다.^^\n",
    "\n",
    "\n",
    "red라는 이름의 객체를 생성하고 \n",
    "\n",
    "red가 가지고 있는 메소드인 setColour( ) 를 호출한다는 의미로 앞에 red. 을 붙여줍니다.\n",
    "\n",
    "\"red\"값을 인자로 전달하여 색상을 지정했으며 \n",
    "\n",
    "이후 red.write( ) 을 통해 전달된 문장이 출력되는 것을 보실 수 있습니다.\n",
    "\n",
    "3. 인스턴스 Instance\n",
    "\n",
    "​\n",
    "\n",
    "인스턴스는 종종 객체와 혼용되는 단어입니다.\n",
    "\n",
    "​\n",
    "\n",
    "​\n",
    "\n",
    "객체와 같이 클래스로 만들어낸 상태를 의미하는 것은 동일하지만 \n",
    "\n",
    "특정 객체가 어느 클래스의 객체인지 \n",
    "\n",
    "관계를 위주로 설명할 때 사용되는 용어입니다.\n",
    "\n",
    "​\n",
    "\n",
    "​\n",
    "\n",
    "이때 한 인스턴스가 어떤 클래스로부터 만들어진 것인지 확인하기 위해 \n",
    "\n",
    "isinstance( ) 라는 명령어를 사용할 수 있습니다.\n",
    "\n",
    "​\n",
    "\n",
    "​\n",
    "\n",
    "예를 들어, 위의 펜 클래스와 더불어 지우개, 연필도 클래스로 정의하고\n",
    "\n",
    "각각의 객체가 어느 클래스에 속하는지 확인하기 위해 isinstance( ) 를 사용해보겠습니다.\n",
    "​\n",
    "\n",
    "isinstance( )는 첫 번째 인자가 두 번째 인자의 인스턴스인지 확인하여 bool형 결괏값을 반환합니다.\n",
    "\n",
    "모든 객체와 클래스를 isinstance에서 확인하여 출력시킨 결과는 위와 같습니다.\n",
    "\n",
    "자신이 속한 클래스가 함께 전달되었을 때, 즉 자신이 인스턴스일 때 True가 출력되는 것을 보실 수 있습니다.\n",
    "4. 객체와 인스턴스\n",
    "\n",
    "​\n",
    "\n",
    "객체와 인스턴스는 앞서 말씀드렸듯 종종 혼용됩니다.\n",
    "\n",
    "두 가지 모두 클래스를 통해 만들어낸 하나의 실체를 가리키기 때문입니다.\n",
    "\n",
    "엄밀히 따지면 인스턴스는 객체에 포함되는 개념이라 할 수 있습니다.\n",
    "\n",
    "​\n",
    "\n",
    "​\n",
    "\n",
    "앞서 보여드렸던 예시를 이용하여 객체와 인스턴스를 표현하자면,\n",
    "\n",
    "Pen 클래스의 객체로 red가 선언되었으며,\n",
    "\n",
    "red는 Pen 클래스의 인스턴스라고 표현할 수 있습니다.\n"
   ]
  }
 ],
 "metadata": {
  "kernelspec": {
   "display_name": "Python 3 (ipykernel)",
   "language": "python",
   "name": "python3"
  },
  "language_info": {
   "codemirror_mode": {
    "name": "ipython",
    "version": 3
   },
   "file_extension": ".py",
   "mimetype": "text/x-python",
   "name": "python",
   "nbconvert_exporter": "python",
   "pygments_lexer": "ipython3",
   "version": "3.9.12"
  }
 },
 "nbformat": 4,
 "nbformat_minor": 5
}
