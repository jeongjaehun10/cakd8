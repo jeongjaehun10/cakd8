{
 "cells": [
  {
   "cell_type": "markdown",
   "id": "f153ba3f-8f80-4ddd-94ad-735cac6ae5ec",
   "metadata": {},
   "source": [
    "# 정리"
   ]
  },
  {
   "cell_type": "code",
   "execution_count": null,
   "id": "788eb709-4b42-41c6-a1c8-1d360a8f57ed",
   "metadata": {},
   "outputs": [],
   "source": [
    "from selenium.webdriver.common.by import By\n",
    "driver= webdriver.Chrome('chromedriver.exe')\n",
    "url = \"https://nid.naver.com/nidlogin.login\"\n",
    "driver.get(url) # 위에 것을 새로 실행 시켜야함\n",
    "e=driver.find_element(By.ID, \"id\")                             \n",
    "e.send_keys(\"snfns\") \n",
    "e=driver.find_element(By.ID, \"pw\")  # input type =password는 문자 노출 방지                    \n",
    "e.send_keys(\"snfns\") \n",
    "from selenium.webdriver.common.keys import Keys\n",
    "e.send_keys(Keys.ENTER)\n",
    "e= driver.find_element(By.ID, \"subject\")\n",
    "e.send_keys(Keys.TAB, \"문제와 정답입니다.\")  # 제목칸에서 TAB키를 눌러서 내용칸으로 넘어감"
   ]
  },
  {
   "cell_type": "markdown",
   "id": "ef0b3387-6a17-496d-8443-ae41f19b2533",
   "metadata": {},
   "source": [
    "# 복습문제"
   ]
  },
  {
   "cell_type": "code",
   "execution_count": null,
   "id": "bd28fcea-0161-446b-b53e-a974e1ca0717",
   "metadata": {},
   "outputs": [],
   "source": [
    "soup.select('dl.mileage_section1 > dd> span')(_____)\n",
    "[0]get_text(), string , text - 가로 안붙는 것은 에트리뷰트 \n",
    "\n",
    "e =driver.find_elements(By.CLASS_NAME, 'input_text')\n",
    "e[0].clear\n",
    "e[0].send_keys(\"princess\")\n",
    "e[1].clear()\n",
    "e[1].send_keys(\"passwd\")"
   ]
  },
  {
   "cell_type": "code",
   "execution_count": 6,
   "id": "beff6550-8fde-4669-af1a-799763f1188c",
   "metadata": {},
   "outputs": [
    {
     "data": {
      "text/plain": [
       "[<b><a href=\"/wiki/%EC%9D%B4%EC%8A%B9%EB%A7%8C\" title=\"이승만\">이승만</a></b>,\n",
       " <b><a href=\"/wiki/%EC%9C%A4%EB%B3%B4%EC%84%A0\" title=\"윤보선\">윤보선</a></b>,\n",
       " <b><a href=\"/wiki/%EB%B0%95%EC%A0%95%ED%9D%AC\" title=\"박정희\">박정희</a></b>,\n",
       " <b><a href=\"/wiki/%EC%B5%9C%EA%B7%9C%ED%95%98\" title=\"최규하\">최규하</a></b>,\n",
       " <b><a href=\"/wiki/%EC%A0%84%EB%91%90%ED%99%98\" title=\"전두환\">전두환</a></b>,\n",
       " <b><a href=\"/wiki/%EB%85%B8%ED%83%9C%EC%9A%B0\" title=\"노태우\">노태우</a></b>,\n",
       " <b><a href=\"/wiki/%EA%B9%80%EC%98%81%EC%82%BC\" title=\"김영삼\">김영삼</a></b>,\n",
       " <b><a href=\"/wiki/%EA%B9%80%EB%8C%80%EC%A4%91\" title=\"김대중\">김대중</a></b>,\n",
       " <b><a href=\"/wiki/%EB%85%B8%EB%AC%B4%ED%98%84\" title=\"노무현\">노무현</a></b>,\n",
       " <b><a href=\"/wiki/%EC%9D%B4%EB%AA%85%EB%B0%95\" title=\"이명박\">이명박</a></b>,\n",
       " <b><a href=\"/wiki/%EB%B0%95%EA%B7%BC%ED%98%9C\" title=\"박근혜\">박근혜</a></b>,\n",
       " <b><a href=\"/wiki/%EB%AC%B8%EC%9E%AC%EC%9D%B8\" title=\"문재인\">문재인</a></b>,\n",
       " <b><a href=\"/wiki/%EC%9C%A4%EC%84%9D%EC%97%B4\" title=\"윤석열\">윤석열</a></b>]"
      ]
     },
     "execution_count": 6,
     "metadata": {},
     "output_type": "execute_result"
    }
   ],
   "source": [
    "import requests\n",
    "from bs4 import BeautifulSoup\n",
    "\n",
    "url = \"https://ko.wikipedia.org/wiki/%EB%8C%80%ED%95%9C%EB%AF%BC%EA%B5%AD%EC%9D%98_%EB%8C%80%ED%86%B5%EB%A0%B9_%EB%AA%A9%EB%A1%9D\"\n",
    "html =requests.get(url).text # 네이버 \n",
    "soup = BeautifulSoup(html, 'html.parser')\n",
    "names = soup.select('td:nth-child(3) > b > a ')\n",
    "names"
   ]
  },
  {
   "cell_type": "code",
   "execution_count": 7,
   "id": "9e1810f4-b8c8-4311-96f8-867cf07c2069",
   "metadata": {},
   "outputs": [
    {
     "data": {
      "text/plain": [
       "[<a href=\"/wiki/%EC%9D%B4%EC%8A%B9%EB%A7%8C\" title=\"이승만\">이승만</a>,\n",
       " <a href=\"/wiki/%EC%9C%A4%EB%B3%B4%EC%84%A0\" title=\"윤보선\">윤보선</a>,\n",
       " <a href=\"/wiki/%EB%B0%95%EC%A0%95%ED%9D%AC\" title=\"박정희\">박정희</a>,\n",
       " <a href=\"/wiki/%EC%B5%9C%EA%B7%9C%ED%95%98\" title=\"최규하\">최규하</a>,\n",
       " <a href=\"/wiki/%EC%A0%84%EB%91%90%ED%99%98\" title=\"전두환\">전두환</a>,\n",
       " <a href=\"/wiki/%EB%85%B8%ED%83%9C%EC%9A%B0\" title=\"노태우\">노태우</a>,\n",
       " <a href=\"/wiki/%EA%B9%80%EC%98%81%EC%82%BC\" title=\"김영삼\">김영삼</a>,\n",
       " <a href=\"/wiki/%EA%B9%80%EB%8C%80%EC%A4%91\" title=\"김대중\">김대중</a>,\n",
       " <a href=\"/wiki/%EB%85%B8%EB%AC%B4%ED%98%84\" title=\"노무현\">노무현</a>,\n",
       " <a href=\"/wiki/%EC%9D%B4%EB%AA%85%EB%B0%95\" title=\"이명박\">이명박</a>,\n",
       " <a href=\"/wiki/%EB%B0%95%EA%B7%BC%ED%98%9C\" title=\"박근혜\">박근혜</a>,\n",
       " <a href=\"/wiki/%EB%AC%B8%EC%9E%AC%EC%9D%B8\" title=\"문재인\">문재인</a>,\n",
       " <a href=\"/wiki/%EC%9C%A4%EC%84%9D%EC%97%B4\" title=\"윤석열\">윤석열</a>]"
      ]
     },
     "execution_count": 7,
     "metadata": {},
     "output_type": "execute_result"
    }
   ],
   "source": [
    "url = \"https://ko.wikipedia.org/wiki/%EB%8C%80%ED%95%9C%EB%AF%BC%EA%B5%AD%EC%9D%98_%EB%8C%80%ED%86%B5%EB%A0%B9_%EB%AA%A9%EB%A1%9D\"\n",
    "html =requests.get(url).text # 네이버 \n",
    "soup = BeautifulSoup(html, 'html.parser')\n",
    "names = soup.select('td > b > a ')\n",
    "names"
   ]
  },
  {
   "cell_type": "code",
   "execution_count": 9,
   "id": "5066e139-cc35-40ba-b760-73e8cfbf7a34",
   "metadata": {},
   "outputs": [],
   "source": [
    "import selenium\n",
    "from selenium import webdriver #webdriver 구글 서치 후 다운\n",
    "from selenium.webdriver.common.by import By\n",
    "driver= webdriver.Chrome('chromedriver.exe')\n",
    "url = \"https://accounts.google.com/ServiceLogin/identifier?hl=ko&passive=true&continue=https%3A%2F%2Fwww.google.co.kr%2F&ec=GAZAmgQ&flowName=GlifWebSignIn&flowEntry=ServiceLogin\"\n",
    "driver.get(url) # 위에 것을 새로 실행 시켜야함\n",
    "\n",
    "e=driver.find_element(By.CLASS , \"gLFyf.gsfi\") # 빈칸은 . 있어야됨\n",
    "                                               # 셀레니움을 띄운 상태에서 해야함 \n",
    "e.clear() # 아이디칸 싹 지움            # 네이버 검색창 id 들어가면됨\n",
    "e.send_keys(\"우크라이나\") # 검색어 쓰기 \n",
    "e.send_keys(Keys.ENTER)  # 엔터키로 들어가기 "
   ]
  },
  {
   "cell_type": "code",
   "execution_count": null,
   "id": "54c7e14f-bead-41c5-a3d8-bbe3d79ab4bd",
   "metadata": {},
   "outputs": [],
   "source": [
    "CSS에서 \n",
    "클래스 : find_all(class_ : \" \") . \n",
    "아이디 : #"
   ]
  },
  {
   "cell_type": "code",
   "execution_count": 10,
   "id": "31f314df-d944-4f94-a8d1-c3237708339b",
   "metadata": {
    "collapsed": true,
    "jupyter": {
     "outputs_hidden": true
    },
    "tags": []
   },
   "outputs": [
    {
     "ename": "SyntaxError",
     "evalue": "invalid syntax (3472211182.py, line 1)",
     "output_type": "error",
     "traceback": [
      "\u001b[1;36m  Input \u001b[1;32mIn [10]\u001b[1;36m\u001b[0m\n\u001b[1;33m    아침 문제를 보낼 때, 매번 로그인 하는 과정이 귀찮아 로그린과 메일 발송을 한번에 하는\u001b[0m\n\u001b[1;37m       ^\u001b[0m\n\u001b[1;31mSyntaxError\u001b[0m\u001b[1;31m:\u001b[0m invalid syntax\n"
     ]
    }
   ],
   "source": [
    "아침 문제를 보낼 때, 매번 로그인 하는 과정이 귀찮아 로그린과 메일 발송을 한번에 하는 \n",
    "프로그램을 작성하려고 한다. 아래 질문에 답하시오. \n",
    "RPA : "
   ]
  },
  {
   "cell_type": "markdown",
   "id": "4e610dd7-0dfd-4736-89dc-ddfade206285",
   "metadata": {},
   "source": [
    "# 메일 보내기"
   ]
  },
  {
   "cell_type": "code",
   "execution_count": 20,
   "id": "271a886a-3dd6-49b0-83f9-26f7b619acee",
   "metadata": {
    "tags": []
   },
   "outputs": [
    {
     "name": "stderr",
     "output_type": "stream",
     "text": [
      "C:\\Users\\admin\\AppData\\Local\\Temp\\ipykernel_7768\\2342577170.py:2: DeprecationWarning: executable_path has been deprecated, please pass in a Service object\n",
      "  driver= webdriver.Chrome('chromedriver.exe')\n"
     ]
    }
   ],
   "source": [
    "from selenium.webdriver.common.by import By\n",
    "driver= webdriver.Chrome('chromedriver.exe')\n",
    "url = \"https://nid.naver.com/nidlogin.login\"\n",
    "driver.get(url) # 위에 것을 새로 실행 시켜야함"
   ]
  },
  {
   "cell_type": "code",
   "execution_count": 19,
   "id": "aced10f1-a292-4557-9580-3f40aeb74f25",
   "metadata": {
    "collapsed": true,
    "jupyter": {
     "outputs_hidden": true
    },
    "tags": []
   },
   "outputs": [
    {
     "ename": "NoSuchWindowException",
     "evalue": "Message: no such window: target window already closed\nfrom unknown error: web view not found\n  (Session info: chrome=107.0.5304.88)\nStacktrace:\nBacktrace:\n\tOrdinal0 [0x006AACD3+2075859]\n\tOrdinal0 [0x0063EE61+1633889]\n\tOrdinal0 [0x0053B7BD+571325]\n\tOrdinal0 [0x00522E1A+470554]\n\tOrdinal0 [0x0058AA0B+895499]\n\tOrdinal0 [0x0059AC96+961686]\n\tOrdinal0 [0x00587136+880950]\n\tOrdinal0 [0x0055FEFD+720637]\n\tOrdinal0 [0x00560F3F+724799]\n\tGetHandleVerifier [0x0095EED2+2769538]\n\tGetHandleVerifier [0x00950D95+2711877]\n\tGetHandleVerifier [0x0073A03A+521194]\n\tGetHandleVerifier [0x00738DA0+516432]\n\tOrdinal0 [0x0064682C+1665068]\n\tOrdinal0 [0x0064B128+1683752]\n\tOrdinal0 [0x0064B215+1683989]\n\tOrdinal0 [0x00656484+1729668]\n\tBaseThreadInitThunk [0x750DFA29+25]\n\tRtlGetAppContainerNamedObjectPath [0x77207BBE+286]\n\tRtlGetAppContainerNamedObjectPath [0x77207B8E+238]\n",
     "output_type": "error",
     "traceback": [
      "\u001b[1;31m---------------------------------------------------------------------------\u001b[0m",
      "\u001b[1;31mNoSuchWindowException\u001b[0m                     Traceback (most recent call last)",
      "Input \u001b[1;32mIn [19]\u001b[0m, in \u001b[0;36m<cell line: 1>\u001b[1;34m()\u001b[0m\n\u001b[1;32m----> 1\u001b[0m e\u001b[38;5;241m=\u001b[39m\u001b[43mdriver\u001b[49m\u001b[38;5;241;43m.\u001b[39;49m\u001b[43mfind_element\u001b[49m\u001b[43m(\u001b[49m\u001b[43mBy\u001b[49m\u001b[38;5;241;43m.\u001b[39;49m\u001b[43mID\u001b[49m\u001b[43m,\u001b[49m\u001b[43m \u001b[49m\u001b[38;5;124;43m\"\u001b[39;49m\u001b[38;5;124;43mid\u001b[39;49m\u001b[38;5;124;43m\"\u001b[39;49m\u001b[43m)\u001b[49m                             \n\u001b[0;32m      2\u001b[0m e\u001b[38;5;241m.\u001b[39msend_keys(\u001b[38;5;124m\"\u001b[39m\u001b[38;5;124msnfns\u001b[39m\u001b[38;5;124m\"\u001b[39m) \n\u001b[0;32m      3\u001b[0m e\u001b[38;5;241m=\u001b[39mdriver\u001b[38;5;241m.\u001b[39mfind_element(By\u001b[38;5;241m.\u001b[39mID, \u001b[38;5;124m\"\u001b[39m\u001b[38;5;124mpw\u001b[39m\u001b[38;5;124m\"\u001b[39m)  \u001b[38;5;66;03m# input type =password는 문자 노출 방지                    \u001b[39;00m\n",
      "File \u001b[1;32m~\\anaconda3\\lib\\site-packages\\selenium\\webdriver\\remote\\webdriver.py:856\u001b[0m, in \u001b[0;36mWebDriver.find_element\u001b[1;34m(self, by, value)\u001b[0m\n\u001b[0;32m    853\u001b[0m     by \u001b[38;5;241m=\u001b[39m By\u001b[38;5;241m.\u001b[39mCSS_SELECTOR\n\u001b[0;32m    854\u001b[0m     value \u001b[38;5;241m=\u001b[39m \u001b[38;5;124m'\u001b[39m\u001b[38;5;124m[name=\u001b[39m\u001b[38;5;124m\"\u001b[39m\u001b[38;5;132;01m%s\u001b[39;00m\u001b[38;5;124m\"\u001b[39m\u001b[38;5;124m]\u001b[39m\u001b[38;5;124m'\u001b[39m \u001b[38;5;241m%\u001b[39m value\n\u001b[1;32m--> 856\u001b[0m \u001b[38;5;28;01mreturn\u001b[39;00m \u001b[38;5;28;43mself\u001b[39;49m\u001b[38;5;241;43m.\u001b[39;49m\u001b[43mexecute\u001b[49m\u001b[43m(\u001b[49m\u001b[43mCommand\u001b[49m\u001b[38;5;241;43m.\u001b[39;49m\u001b[43mFIND_ELEMENT\u001b[49m\u001b[43m,\u001b[49m\u001b[43m \u001b[49m\u001b[43m{\u001b[49m\n\u001b[0;32m    857\u001b[0m \u001b[43m    \u001b[49m\u001b[38;5;124;43m'\u001b[39;49m\u001b[38;5;124;43musing\u001b[39;49m\u001b[38;5;124;43m'\u001b[39;49m\u001b[43m:\u001b[49m\u001b[43m \u001b[49m\u001b[43mby\u001b[49m\u001b[43m,\u001b[49m\n\u001b[0;32m    858\u001b[0m \u001b[43m    \u001b[49m\u001b[38;5;124;43m'\u001b[39;49m\u001b[38;5;124;43mvalue\u001b[39;49m\u001b[38;5;124;43m'\u001b[39;49m\u001b[43m:\u001b[49m\u001b[43m \u001b[49m\u001b[43mvalue\u001b[49m\u001b[43m}\u001b[49m\u001b[43m)\u001b[49m[\u001b[38;5;124m'\u001b[39m\u001b[38;5;124mvalue\u001b[39m\u001b[38;5;124m'\u001b[39m]\n",
      "File \u001b[1;32m~\\anaconda3\\lib\\site-packages\\selenium\\webdriver\\remote\\webdriver.py:429\u001b[0m, in \u001b[0;36mWebDriver.execute\u001b[1;34m(self, driver_command, params)\u001b[0m\n\u001b[0;32m    427\u001b[0m response \u001b[38;5;241m=\u001b[39m \u001b[38;5;28mself\u001b[39m\u001b[38;5;241m.\u001b[39mcommand_executor\u001b[38;5;241m.\u001b[39mexecute(driver_command, params)\n\u001b[0;32m    428\u001b[0m \u001b[38;5;28;01mif\u001b[39;00m response:\n\u001b[1;32m--> 429\u001b[0m     \u001b[38;5;28;43mself\u001b[39;49m\u001b[38;5;241;43m.\u001b[39;49m\u001b[43merror_handler\u001b[49m\u001b[38;5;241;43m.\u001b[39;49m\u001b[43mcheck_response\u001b[49m\u001b[43m(\u001b[49m\u001b[43mresponse\u001b[49m\u001b[43m)\u001b[49m\n\u001b[0;32m    430\u001b[0m     response[\u001b[38;5;124m'\u001b[39m\u001b[38;5;124mvalue\u001b[39m\u001b[38;5;124m'\u001b[39m] \u001b[38;5;241m=\u001b[39m \u001b[38;5;28mself\u001b[39m\u001b[38;5;241m.\u001b[39m_unwrap_value(\n\u001b[0;32m    431\u001b[0m         response\u001b[38;5;241m.\u001b[39mget(\u001b[38;5;124m'\u001b[39m\u001b[38;5;124mvalue\u001b[39m\u001b[38;5;124m'\u001b[39m, \u001b[38;5;28;01mNone\u001b[39;00m))\n\u001b[0;32m    432\u001b[0m     \u001b[38;5;28;01mreturn\u001b[39;00m response\n",
      "File \u001b[1;32m~\\anaconda3\\lib\\site-packages\\selenium\\webdriver\\remote\\errorhandler.py:243\u001b[0m, in \u001b[0;36mErrorHandler.check_response\u001b[1;34m(self, response)\u001b[0m\n\u001b[0;32m    241\u001b[0m         alert_text \u001b[38;5;241m=\u001b[39m value[\u001b[38;5;124m'\u001b[39m\u001b[38;5;124malert\u001b[39m\u001b[38;5;124m'\u001b[39m]\u001b[38;5;241m.\u001b[39mget(\u001b[38;5;124m'\u001b[39m\u001b[38;5;124mtext\u001b[39m\u001b[38;5;124m'\u001b[39m)\n\u001b[0;32m    242\u001b[0m     \u001b[38;5;28;01mraise\u001b[39;00m exception_class(message, screen, stacktrace, alert_text)  \u001b[38;5;66;03m# type: ignore[call-arg]  # mypy is not smart enough here\u001b[39;00m\n\u001b[1;32m--> 243\u001b[0m \u001b[38;5;28;01mraise\u001b[39;00m exception_class(message, screen, stacktrace)\n",
      "\u001b[1;31mNoSuchWindowException\u001b[0m: Message: no such window: target window already closed\nfrom unknown error: web view not found\n  (Session info: chrome=107.0.5304.88)\nStacktrace:\nBacktrace:\n\tOrdinal0 [0x006AACD3+2075859]\n\tOrdinal0 [0x0063EE61+1633889]\n\tOrdinal0 [0x0053B7BD+571325]\n\tOrdinal0 [0x00522E1A+470554]\n\tOrdinal0 [0x0058AA0B+895499]\n\tOrdinal0 [0x0059AC96+961686]\n\tOrdinal0 [0x00587136+880950]\n\tOrdinal0 [0x0055FEFD+720637]\n\tOrdinal0 [0x00560F3F+724799]\n\tGetHandleVerifier [0x0095EED2+2769538]\n\tGetHandleVerifier [0x00950D95+2711877]\n\tGetHandleVerifier [0x0073A03A+521194]\n\tGetHandleVerifier [0x00738DA0+516432]\n\tOrdinal0 [0x0064682C+1665068]\n\tOrdinal0 [0x0064B128+1683752]\n\tOrdinal0 [0x0064B215+1683989]\n\tOrdinal0 [0x00656484+1729668]\n\tBaseThreadInitThunk [0x750DFA29+25]\n\tRtlGetAppContainerNamedObjectPath [0x77207BBE+286]\n\tRtlGetAppContainerNamedObjectPath [0x77207B8E+238]\n"
     ]
    }
   ],
   "source": [
    "e=driver.find_element(By.ID, \"id\")                             \n",
    "e.send_keys(\"snfns\") \n",
    "e=driver.find_element(By.ID, \"pw\")  # input type =password는 문자 노출 방지                    \n",
    "e.send_keys(\"snfns\") \n",
    "from selenium.webdriver.common.keys import Keys\n",
    "e.send_keys(Keys.ENTER)"
   ]
  },
  {
   "cell_type": "code",
   "execution_count": 14,
   "id": "7256c981-1a5c-4b57-8eb5-48d78c72f714",
   "metadata": {},
   "outputs": [],
   "source": [
    "e = driver.find_element(By.CLASS_NAME, 'nav')\n",
    "e.click() "
   ]
  },
  {
   "cell_type": "code",
   "execution_count": 16,
   "id": "7c9204bb-1d05-43f5-894c-203e8b5256dd",
   "metadata": {
    "collapsed": true,
    "jupyter": {
     "outputs_hidden": true
    },
    "tags": []
   },
   "outputs": [
    {
     "ename": "NoSuchElementException",
     "evalue": "Message: no such element: Unable to locate element: {\"method\":\"css selector\",\"selector\":\".skin_corp_bg.skin_corp_txt\"}\n  (Session info: chrome=107.0.5304.88)\nStacktrace:\nBacktrace:\n\tOrdinal0 [0x006AACD3+2075859]\n\tOrdinal0 [0x0063EE61+1633889]\n\tOrdinal0 [0x0053B7BD+571325]\n\tOrdinal0 [0x0056AC2F+764975]\n\tOrdinal0 [0x0056AE1B+765467]\n\tOrdinal0 [0x0059D0F2+970994]\n\tOrdinal0 [0x00587364+881508]\n\tOrdinal0 [0x0059B56A+963946]\n\tOrdinal0 [0x00587136+880950]\n\tOrdinal0 [0x0055FEFD+720637]\n\tOrdinal0 [0x00560F3F+724799]\n\tGetHandleVerifier [0x0095EED2+2769538]\n\tGetHandleVerifier [0x00950D95+2711877]\n\tGetHandleVerifier [0x0073A03A+521194]\n\tGetHandleVerifier [0x00738DA0+516432]\n\tOrdinal0 [0x0064682C+1665068]\n\tOrdinal0 [0x0064B128+1683752]\n\tOrdinal0 [0x0064B215+1683989]\n\tOrdinal0 [0x00656484+1729668]\n\tBaseThreadInitThunk [0x750DFA29+25]\n\tRtlGetAppContainerNamedObjectPath [0x77207BBE+286]\n\tRtlGetAppContainerNamedObjectPath [0x77207B8E+238]\n",
     "output_type": "error",
     "traceback": [
      "\u001b[1;31m---------------------------------------------------------------------------\u001b[0m",
      "\u001b[1;31mNoSuchElementException\u001b[0m                    Traceback (most recent call last)",
      "Input \u001b[1;32mIn [16]\u001b[0m, in \u001b[0;36m<cell line: 1>\u001b[1;34m()\u001b[0m\n\u001b[1;32m----> 1\u001b[0m e \u001b[38;5;241m=\u001b[39m \u001b[43mdriver\u001b[49m\u001b[38;5;241;43m.\u001b[39;49m\u001b[43mfind_element\u001b[49m\u001b[43m(\u001b[49m\u001b[43mBy\u001b[49m\u001b[38;5;241;43m.\u001b[39;49m\u001b[43mCLASS_NAME\u001b[49m\u001b[43m,\u001b[49m\u001b[43m \u001b[49m\u001b[38;5;124;43m\"\u001b[39;49m\u001b[38;5;124;43mskin_corp_bg.skin_corp_txt\u001b[39;49m\u001b[38;5;124;43m\"\u001b[39;49m\u001b[43m)\u001b[49m\n\u001b[0;32m      2\u001b[0m e\u001b[38;5;241m.\u001b[39mclick()\n",
      "File \u001b[1;32m~\\anaconda3\\lib\\site-packages\\selenium\\webdriver\\remote\\webdriver.py:856\u001b[0m, in \u001b[0;36mWebDriver.find_element\u001b[1;34m(self, by, value)\u001b[0m\n\u001b[0;32m    853\u001b[0m     by \u001b[38;5;241m=\u001b[39m By\u001b[38;5;241m.\u001b[39mCSS_SELECTOR\n\u001b[0;32m    854\u001b[0m     value \u001b[38;5;241m=\u001b[39m \u001b[38;5;124m'\u001b[39m\u001b[38;5;124m[name=\u001b[39m\u001b[38;5;124m\"\u001b[39m\u001b[38;5;132;01m%s\u001b[39;00m\u001b[38;5;124m\"\u001b[39m\u001b[38;5;124m]\u001b[39m\u001b[38;5;124m'\u001b[39m \u001b[38;5;241m%\u001b[39m value\n\u001b[1;32m--> 856\u001b[0m \u001b[38;5;28;01mreturn\u001b[39;00m \u001b[38;5;28;43mself\u001b[39;49m\u001b[38;5;241;43m.\u001b[39;49m\u001b[43mexecute\u001b[49m\u001b[43m(\u001b[49m\u001b[43mCommand\u001b[49m\u001b[38;5;241;43m.\u001b[39;49m\u001b[43mFIND_ELEMENT\u001b[49m\u001b[43m,\u001b[49m\u001b[43m \u001b[49m\u001b[43m{\u001b[49m\n\u001b[0;32m    857\u001b[0m \u001b[43m    \u001b[49m\u001b[38;5;124;43m'\u001b[39;49m\u001b[38;5;124;43musing\u001b[39;49m\u001b[38;5;124;43m'\u001b[39;49m\u001b[43m:\u001b[49m\u001b[43m \u001b[49m\u001b[43mby\u001b[49m\u001b[43m,\u001b[49m\n\u001b[0;32m    858\u001b[0m \u001b[43m    \u001b[49m\u001b[38;5;124;43m'\u001b[39;49m\u001b[38;5;124;43mvalue\u001b[39;49m\u001b[38;5;124;43m'\u001b[39;49m\u001b[43m:\u001b[49m\u001b[43m \u001b[49m\u001b[43mvalue\u001b[49m\u001b[43m}\u001b[49m\u001b[43m)\u001b[49m[\u001b[38;5;124m'\u001b[39m\u001b[38;5;124mvalue\u001b[39m\u001b[38;5;124m'\u001b[39m]\n",
      "File \u001b[1;32m~\\anaconda3\\lib\\site-packages\\selenium\\webdriver\\remote\\webdriver.py:429\u001b[0m, in \u001b[0;36mWebDriver.execute\u001b[1;34m(self, driver_command, params)\u001b[0m\n\u001b[0;32m    427\u001b[0m response \u001b[38;5;241m=\u001b[39m \u001b[38;5;28mself\u001b[39m\u001b[38;5;241m.\u001b[39mcommand_executor\u001b[38;5;241m.\u001b[39mexecute(driver_command, params)\n\u001b[0;32m    428\u001b[0m \u001b[38;5;28;01mif\u001b[39;00m response:\n\u001b[1;32m--> 429\u001b[0m     \u001b[38;5;28;43mself\u001b[39;49m\u001b[38;5;241;43m.\u001b[39;49m\u001b[43merror_handler\u001b[49m\u001b[38;5;241;43m.\u001b[39;49m\u001b[43mcheck_response\u001b[49m\u001b[43m(\u001b[49m\u001b[43mresponse\u001b[49m\u001b[43m)\u001b[49m\n\u001b[0;32m    430\u001b[0m     response[\u001b[38;5;124m'\u001b[39m\u001b[38;5;124mvalue\u001b[39m\u001b[38;5;124m'\u001b[39m] \u001b[38;5;241m=\u001b[39m \u001b[38;5;28mself\u001b[39m\u001b[38;5;241m.\u001b[39m_unwrap_value(\n\u001b[0;32m    431\u001b[0m         response\u001b[38;5;241m.\u001b[39mget(\u001b[38;5;124m'\u001b[39m\u001b[38;5;124mvalue\u001b[39m\u001b[38;5;124m'\u001b[39m, \u001b[38;5;28;01mNone\u001b[39;00m))\n\u001b[0;32m    432\u001b[0m     \u001b[38;5;28;01mreturn\u001b[39;00m response\n",
      "File \u001b[1;32m~\\anaconda3\\lib\\site-packages\\selenium\\webdriver\\remote\\errorhandler.py:243\u001b[0m, in \u001b[0;36mErrorHandler.check_response\u001b[1;34m(self, response)\u001b[0m\n\u001b[0;32m    241\u001b[0m         alert_text \u001b[38;5;241m=\u001b[39m value[\u001b[38;5;124m'\u001b[39m\u001b[38;5;124malert\u001b[39m\u001b[38;5;124m'\u001b[39m]\u001b[38;5;241m.\u001b[39mget(\u001b[38;5;124m'\u001b[39m\u001b[38;5;124mtext\u001b[39m\u001b[38;5;124m'\u001b[39m)\n\u001b[0;32m    242\u001b[0m     \u001b[38;5;28;01mraise\u001b[39;00m exception_class(message, screen, stacktrace, alert_text)  \u001b[38;5;66;03m# type: ignore[call-arg]  # mypy is not smart enough here\u001b[39;00m\n\u001b[1;32m--> 243\u001b[0m \u001b[38;5;28;01mraise\u001b[39;00m exception_class(message, screen, stacktrace)\n",
      "\u001b[1;31mNoSuchElementException\u001b[0m: Message: no such element: Unable to locate element: {\"method\":\"css selector\",\"selector\":\".skin_corp_bg.skin_corp_txt\"}\n  (Session info: chrome=107.0.5304.88)\nStacktrace:\nBacktrace:\n\tOrdinal0 [0x006AACD3+2075859]\n\tOrdinal0 [0x0063EE61+1633889]\n\tOrdinal0 [0x0053B7BD+571325]\n\tOrdinal0 [0x0056AC2F+764975]\n\tOrdinal0 [0x0056AE1B+765467]\n\tOrdinal0 [0x0059D0F2+970994]\n\tOrdinal0 [0x00587364+881508]\n\tOrdinal0 [0x0059B56A+963946]\n\tOrdinal0 [0x00587136+880950]\n\tOrdinal0 [0x0055FEFD+720637]\n\tOrdinal0 [0x00560F3F+724799]\n\tGetHandleVerifier [0x0095EED2+2769538]\n\tGetHandleVerifier [0x00950D95+2711877]\n\tGetHandleVerifier [0x0073A03A+521194]\n\tGetHandleVerifier [0x00738DA0+516432]\n\tOrdinal0 [0x0064682C+1665068]\n\tOrdinal0 [0x0064B128+1683752]\n\tOrdinal0 [0x0064B215+1683989]\n\tOrdinal0 [0x00656484+1729668]\n\tBaseThreadInitThunk [0x750DFA29+25]\n\tRtlGetAppContainerNamedObjectPath [0x77207BBE+286]\n\tRtlGetAppContainerNamedObjectPath [0x77207B8E+238]\n"
     ]
    }
   ],
   "source": [
    "e = driver.find_element(By.CLASS_NAME, \"skin_corp_bg.skin_corp_txt\")\n",
    "e.click() "
   ]
  },
  {
   "cell_type": "code",
   "execution_count": 18,
   "id": "3d96f129-90f7-40ff-90c0-dca42a7344dc",
   "metadata": {
    "collapsed": true,
    "jupyter": {
     "outputs_hidden": true
    },
    "tags": []
   },
   "outputs": [
    {
     "ename": "InvalidSelectorException",
     "evalue": "Message: invalid selector: An invalid or illegal selector was specified\n  (Session info: chrome=107.0.5304.88)\nStacktrace:\nBacktrace:\n\tOrdinal0 [0x006AACD3+2075859]\n\tOrdinal0 [0x0063EE61+1633889]\n\tOrdinal0 [0x0053B7BD+571325]\n\tOrdinal0 [0x0053E374+582516]\n\tOrdinal0 [0x0053E225+582181]\n\tOrdinal0 [0x0053E4C0+582848]\n\tOrdinal0 [0x0056A9A2+764322]\n\tOrdinal0 [0x0056AE1B+765467]\n\tOrdinal0 [0x0059D0F2+970994]\n\tOrdinal0 [0x00587364+881508]\n\tOrdinal0 [0x0059B56A+963946]\n\tOrdinal0 [0x00587136+880950]\n\tOrdinal0 [0x0055FEFD+720637]\n\tOrdinal0 [0x00560F3F+724799]\n\tGetHandleVerifier [0x0095EED2+2769538]\n\tGetHandleVerifier [0x00950D95+2711877]\n\tGetHandleVerifier [0x0073A03A+521194]\n\tGetHandleVerifier [0x00738DA0+516432]\n\tOrdinal0 [0x0064682C+1665068]\n\tOrdinal0 [0x0064B128+1683752]\n\tOrdinal0 [0x0064B215+1683989]\n\tOrdinal0 [0x00656484+1729668]\n\tBaseThreadInitThunk [0x750DFA29+25]\n\tRtlGetAppContainerNamedObjectPath [0x77207BBE+286]\n\tRtlGetAppContainerNamedObjectPath [0x77207B8E+238]\n",
     "output_type": "error",
     "traceback": [
      "\u001b[1;31m---------------------------------------------------------------------------\u001b[0m",
      "\u001b[1;31mInvalidSelectorException\u001b[0m                  Traceback (most recent call last)",
      "Input \u001b[1;32mIn [18]\u001b[0m, in \u001b[0;36m<cell line: 1>\u001b[1;34m()\u001b[0m\n\u001b[1;32m----> 1\u001b[0m \u001b[43mdriver\u001b[49m\u001b[38;5;241;43m.\u001b[39;49m\u001b[43mfind_element\u001b[49m\u001b[43m(\u001b[49m\u001b[43mBy\u001b[49m\u001b[38;5;241;43m.\u001b[39;49m\u001b[43mCSS_SELECTOR\u001b[49m\u001b[43m,\u001b[49m\u001b[43m \u001b[49m\u001b[38;5;124;43m'\u001b[39;49m\u001b[38;5;124;43m//*[@id=\u001b[39;49m\u001b[38;5;124;43m\"\u001b[39;49m\u001b[38;5;124;43mnav_snb\u001b[39;49m\u001b[38;5;124;43m\"\u001b[39;49m\u001b[38;5;124;43m]\u001b[39;49m\u001b[38;5;124;43m'\u001b[39;49m\u001b[43m)\u001b[49m\u001b[38;5;241m.\u001b[39mclick()\n",
      "File \u001b[1;32m~\\anaconda3\\lib\\site-packages\\selenium\\webdriver\\remote\\webdriver.py:856\u001b[0m, in \u001b[0;36mWebDriver.find_element\u001b[1;34m(self, by, value)\u001b[0m\n\u001b[0;32m    853\u001b[0m     by \u001b[38;5;241m=\u001b[39m By\u001b[38;5;241m.\u001b[39mCSS_SELECTOR\n\u001b[0;32m    854\u001b[0m     value \u001b[38;5;241m=\u001b[39m \u001b[38;5;124m'\u001b[39m\u001b[38;5;124m[name=\u001b[39m\u001b[38;5;124m\"\u001b[39m\u001b[38;5;132;01m%s\u001b[39;00m\u001b[38;5;124m\"\u001b[39m\u001b[38;5;124m]\u001b[39m\u001b[38;5;124m'\u001b[39m \u001b[38;5;241m%\u001b[39m value\n\u001b[1;32m--> 856\u001b[0m \u001b[38;5;28;01mreturn\u001b[39;00m \u001b[38;5;28;43mself\u001b[39;49m\u001b[38;5;241;43m.\u001b[39;49m\u001b[43mexecute\u001b[49m\u001b[43m(\u001b[49m\u001b[43mCommand\u001b[49m\u001b[38;5;241;43m.\u001b[39;49m\u001b[43mFIND_ELEMENT\u001b[49m\u001b[43m,\u001b[49m\u001b[43m \u001b[49m\u001b[43m{\u001b[49m\n\u001b[0;32m    857\u001b[0m \u001b[43m    \u001b[49m\u001b[38;5;124;43m'\u001b[39;49m\u001b[38;5;124;43musing\u001b[39;49m\u001b[38;5;124;43m'\u001b[39;49m\u001b[43m:\u001b[49m\u001b[43m \u001b[49m\u001b[43mby\u001b[49m\u001b[43m,\u001b[49m\n\u001b[0;32m    858\u001b[0m \u001b[43m    \u001b[49m\u001b[38;5;124;43m'\u001b[39;49m\u001b[38;5;124;43mvalue\u001b[39;49m\u001b[38;5;124;43m'\u001b[39;49m\u001b[43m:\u001b[49m\u001b[43m \u001b[49m\u001b[43mvalue\u001b[49m\u001b[43m}\u001b[49m\u001b[43m)\u001b[49m[\u001b[38;5;124m'\u001b[39m\u001b[38;5;124mvalue\u001b[39m\u001b[38;5;124m'\u001b[39m]\n",
      "File \u001b[1;32m~\\anaconda3\\lib\\site-packages\\selenium\\webdriver\\remote\\webdriver.py:429\u001b[0m, in \u001b[0;36mWebDriver.execute\u001b[1;34m(self, driver_command, params)\u001b[0m\n\u001b[0;32m    427\u001b[0m response \u001b[38;5;241m=\u001b[39m \u001b[38;5;28mself\u001b[39m\u001b[38;5;241m.\u001b[39mcommand_executor\u001b[38;5;241m.\u001b[39mexecute(driver_command, params)\n\u001b[0;32m    428\u001b[0m \u001b[38;5;28;01mif\u001b[39;00m response:\n\u001b[1;32m--> 429\u001b[0m     \u001b[38;5;28;43mself\u001b[39;49m\u001b[38;5;241;43m.\u001b[39;49m\u001b[43merror_handler\u001b[49m\u001b[38;5;241;43m.\u001b[39;49m\u001b[43mcheck_response\u001b[49m\u001b[43m(\u001b[49m\u001b[43mresponse\u001b[49m\u001b[43m)\u001b[49m\n\u001b[0;32m    430\u001b[0m     response[\u001b[38;5;124m'\u001b[39m\u001b[38;5;124mvalue\u001b[39m\u001b[38;5;124m'\u001b[39m] \u001b[38;5;241m=\u001b[39m \u001b[38;5;28mself\u001b[39m\u001b[38;5;241m.\u001b[39m_unwrap_value(\n\u001b[0;32m    431\u001b[0m         response\u001b[38;5;241m.\u001b[39mget(\u001b[38;5;124m'\u001b[39m\u001b[38;5;124mvalue\u001b[39m\u001b[38;5;124m'\u001b[39m, \u001b[38;5;28;01mNone\u001b[39;00m))\n\u001b[0;32m    432\u001b[0m     \u001b[38;5;28;01mreturn\u001b[39;00m response\n",
      "File \u001b[1;32m~\\anaconda3\\lib\\site-packages\\selenium\\webdriver\\remote\\errorhandler.py:243\u001b[0m, in \u001b[0;36mErrorHandler.check_response\u001b[1;34m(self, response)\u001b[0m\n\u001b[0;32m    241\u001b[0m         alert_text \u001b[38;5;241m=\u001b[39m value[\u001b[38;5;124m'\u001b[39m\u001b[38;5;124malert\u001b[39m\u001b[38;5;124m'\u001b[39m]\u001b[38;5;241m.\u001b[39mget(\u001b[38;5;124m'\u001b[39m\u001b[38;5;124mtext\u001b[39m\u001b[38;5;124m'\u001b[39m)\n\u001b[0;32m    242\u001b[0m     \u001b[38;5;28;01mraise\u001b[39;00m exception_class(message, screen, stacktrace, alert_text)  \u001b[38;5;66;03m# type: ignore[call-arg]  # mypy is not smart enough here\u001b[39;00m\n\u001b[1;32m--> 243\u001b[0m \u001b[38;5;28;01mraise\u001b[39;00m exception_class(message, screen, stacktrace)\n",
      "\u001b[1;31mInvalidSelectorException\u001b[0m: Message: invalid selector: An invalid or illegal selector was specified\n  (Session info: chrome=107.0.5304.88)\nStacktrace:\nBacktrace:\n\tOrdinal0 [0x006AACD3+2075859]\n\tOrdinal0 [0x0063EE61+1633889]\n\tOrdinal0 [0x0053B7BD+571325]\n\tOrdinal0 [0x0053E374+582516]\n\tOrdinal0 [0x0053E225+582181]\n\tOrdinal0 [0x0053E4C0+582848]\n\tOrdinal0 [0x0056A9A2+764322]\n\tOrdinal0 [0x0056AE1B+765467]\n\tOrdinal0 [0x0059D0F2+970994]\n\tOrdinal0 [0x00587364+881508]\n\tOrdinal0 [0x0059B56A+963946]\n\tOrdinal0 [0x00587136+880950]\n\tOrdinal0 [0x0055FEFD+720637]\n\tOrdinal0 [0x00560F3F+724799]\n\tGetHandleVerifier [0x0095EED2+2769538]\n\tGetHandleVerifier [0x00950D95+2711877]\n\tGetHandleVerifier [0x0073A03A+521194]\n\tGetHandleVerifier [0x00738DA0+516432]\n\tOrdinal0 [0x0064682C+1665068]\n\tOrdinal0 [0x0064B128+1683752]\n\tOrdinal0 [0x0064B215+1683989]\n\tOrdinal0 [0x00656484+1729668]\n\tBaseThreadInitThunk [0x750DFA29+25]\n\tRtlGetAppContainerNamedObjectPath [0x77207BBE+286]\n\tRtlGetAppContainerNamedObjectPath [0x77207B8E+238]\n"
     ]
    }
   ],
   "source": [
    "driver.find_element(By.CSS_SELECTOR, '//*[@id=\"nav_snb\"]').click() \n"
   ]
  },
  {
   "cell_type": "code",
   "execution_count": 21,
   "id": "2e75349b-6dac-4f2d-ae86-ca1f6fa67ff2",
   "metadata": {},
   "outputs": [],
   "source": [
    "e = driver.find_element(By.ID, \"toInput\")\n",
    "e.clear()\n",
    "e.send_keys(\"princessria@naver.com\") "
   ]
  },
  {
   "cell_type": "code",
   "execution_count": null,
   "id": "ea469fe2-ee11-4649-b4f9-00a213d7b21c",
   "metadata": {},
   "outputs": [],
   "source": [
    "날짜와 시간(datetime)을 문자열로 출력하려면 strftime\n",
    "\n",
    "날짜와 시간 형식의 문자열을 datetime으로 변환하려면 strptime을 사용하면 된다."
   ]
  },
  {
   "cell_type": "code",
   "execution_count": 33,
   "id": "6951bf41-7eb3-445c-a3b2-bf6006610ea7",
   "metadata": {},
   "outputs": [],
   "source": [
    "from datetime import datetime\n",
    "e = driver.find_element(By.ID, \"subject\")\n",
    "e.clear()\n",
    "now = datetime.now()  #  datetime.now().strftime('%Y-%m-%d')\n",
    "date = now.strftime('%Y-%m-%d') # string이니까 된다.\n",
    "date\n",
    "e.send_keys(f\"{date}홍길동 문제 제출입니다.\") # e.send_keys(now + \" 윤예은 문제 제출입니다.\")"
   ]
  },
  {
   "cell_type": "code",
   "execution_count": 44,
   "id": "3dd67744-422e-439c-b769-237efe8d1018",
   "metadata": {},
   "outputs": [],
   "source": [
    "from selenium.webdriver.common.keys import Keys\n",
    "\n"
   ]
  },
  {
   "cell_type": "code",
   "execution_count": 48,
   "id": "ae972b5f-936f-4ad3-893a-37fdbc92ccba",
   "metadata": {},
   "outputs": [],
   "source": [
    "e= driver.find_element(By.ID, \"subject\")\n",
    "e.send_keys(Keys.TAB, \"문제와 정답입니다.\")  # 제목칸에서 TAB키를 눌러서 내용칸으로 넘어감"
   ]
  },
  {
   "cell_type": "code",
   "execution_count": 49,
   "id": "658a553f-04ae-46d0-b131-0db79325b742",
   "metadata": {
    "tags": []
   },
   "outputs": [],
   "source": [
    "driver.find_element(By.ID, \"sendBtn\").click()"
   ]
  },
  {
   "cell_type": "code",
   "execution_count": 31,
   "id": "17fbe58b-d5b7-44a9-b00a-139fa39503ee",
   "metadata": {},
   "outputs": [
    {
     "data": {
      "text/plain": [
       "'2022-10-31'"
      ]
     },
     "execution_count": 31,
     "metadata": {},
     "output_type": "execute_result"
    }
   ],
   "source": []
  },
  {
   "cell_type": "code",
   "execution_count": null,
   "id": "2d2bd476-3c90-4a73-95ef-746bdaed582c",
   "metadata": {},
   "outputs": [],
   "source": []
  }
 ],
 "metadata": {
  "kernelspec": {
   "display_name": "Python 3 (ipykernel)",
   "language": "python",
   "name": "python3"
  },
  "language_info": {
   "codemirror_mode": {
    "name": "ipython",
    "version": 3
   },
   "file_extension": ".py",
   "mimetype": "text/x-python",
   "name": "python",
   "nbconvert_exporter": "python",
   "pygments_lexer": "ipython3",
   "version": "3.9.12"
  }
 },
 "nbformat": 4,
 "nbformat_minor": 5
}
