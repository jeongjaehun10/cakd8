{
 "cells": [
  {
   "cell_type": "markdown",
   "id": "7f29331c-d5de-4cc8-b2d9-795e2eb466f9",
   "metadata": {},
   "source": [
    "# 정리"
   ]
  },
  {
   "cell_type": "code",
   "execution_count": null,
   "id": "7ac2caff-a9cb-4f10-bd77-b06c98591ee2",
   "metadata": {},
   "outputs": [],
   "source": [
    "pct75=mpg.displ.quantile(.75)\n",
    "pct25=mpg.displ.quantile(.25)\n",
    "pct50=mpg.displ.quantile(.50)\n",
    "pct100=mpg.displ.quantile(1.00)\n",
    "pct00=mpg.displ.quantile(0)\n",
    "\n",
    "(x**2 for x in range(10)) # 제너레이터 만들면 출력안함 메모리 덜씀 \n",
    "# 엘리멘트 와이즈 원소별로 더해짐 \n",
    "import numpy as np\n",
    "a[1,1][2]\n",
    "np.empty((8,4)) # 아무거나 넣음\n",
    "np.arange(8).reshape(8,-1) * np.array([1,1,1,1]) \n",
    "np.zeros(4) + np.arange(8).reshape(8,1) \n",
    "\n",
    "for x in range(-5,6):\n",
    "     print(np.maximum(0,x), end=\" \") # 음수면 0이 계속크고 양수면 양수가 큼\n",
    "random.seed(12345)\n",
    "position=0\n",
    "walk =[position]\n",
    "steps= 100\n",
    "for i in range(steps):\n",
    "    step=1 if random.randint(0,1) else -1 # 1이면 한칸가고 0이면 -1 #4. 0과 1랜덤 그렇지 않으면 -1 ?\n",
    "    position +=step\n",
    "    walk.append(position)"
   ]
  },
  {
   "cell_type": "markdown",
   "id": "47f6b0bc-3968-4b52-bc30-94be4a84fd02",
   "metadata": {},
   "source": [
    "# 복습문제 "
   ]
  },
  {
   "cell_type": "code",
   "execution_count": null,
   "id": "9ee75a8c-e024-496e-8377-a5f0e473c050",
   "metadata": {},
   "outputs": [],
   "source": [
    "df.iloc[1:2] 1행 추출 \n",
    "df.loc[1:2] 1열 추출 # 숫자면 iloc\n",
    "df.loc[]"
   ]
  },
  {
   "cell_type": "code",
   "execution_count": 5,
   "id": "7d99866b-2f6c-4da2-8bb9-d5270561db0e",
   "metadata": {},
   "outputs": [],
   "source": [
    "import pandas as pd"
   ]
  },
  {
   "cell_type": "code",
   "execution_count": 9,
   "id": "c2a38b7d-f901-4bfc-bcc1-d3fc0f28a426",
   "metadata": {},
   "outputs": [],
   "source": [
    "mpg= pd.read_csv(\"mpg.csv\")"
   ]
  },
  {
   "cell_type": "code",
   "execution_count": 15,
   "id": "ed404848-bd04-4c09-90c4-581aa1f80ccd",
   "metadata": {},
   "outputs": [],
   "source": [
    "pct75=mpg.displ.quantile(.75)\n",
    "pct25=mpg.displ.quantile(.25)\n",
    "pct50=mpg.displ.quantile(.50)\n",
    "pct100=mpg.displ.quantile(1.00)\n",
    "pct00=mpg.displ.quantile(0)\n",
    "\n"
   ]
  },
  {
   "cell_type": "code",
   "execution_count": 16,
   "id": "58e047ec-cb60-4bda-88ad-f2c1940d2f37",
   "metadata": {},
   "outputs": [
    {
     "data": {
      "text/plain": [
       "0.00    1.6\n",
       "0.25    2.4\n",
       "0.50    3.3\n",
       "0.75    4.6\n",
       "1.00    7.0\n",
       "Name: displ, dtype: float64"
      ]
     },
     "execution_count": 16,
     "metadata": {},
     "output_type": "execute_result"
    }
   ],
   "source": [
    "mpg.displ.quantile([0,0.25,0.5,.75,1]) \n",
    "mpg['displ'].quantile([0,0.25,0.5,0.75,1]) \n"
   ]
  },
  {
   "cell_type": "code",
   "execution_count": 17,
   "id": "5bb282dd-7316-4771-a475-a137a2b06135",
   "metadata": {},
   "outputs": [],
   "source": [
    "import time"
   ]
  },
  {
   "cell_type": "code",
   "execution_count": 21,
   "id": "d294bbc1-2877-4f4f-aa57-51d50365f1e9",
   "metadata": {},
   "outputs": [
    {
     "name": "stdout",
     "output_type": "stream",
     "text": [
      "retire\n"
     ]
    }
   ],
   "source": [
    "i=3\n",
    "while True:\n",
    "    time.sleep(1)\n",
    "    i-=1\n",
    "    if i ==0:\n",
    "        print(\"retire\")\n",
    "        break\n",
    "    \n",
    "    "
   ]
  },
  {
   "cell_type": "code",
   "execution_count": 236,
   "id": "dd9d1eed-a5e1-4c4d-b17c-2b0a0a218bdf",
   "metadata": {},
   "outputs": [
    {
     "name": "stdout",
     "output_type": "stream",
     "text": [
      "retire\n"
     ]
    }
   ],
   "source": [
    "time.sleep(10)\n",
    "print('retire')"
   ]
  },
  {
   "cell_type": "code",
   "execution_count": 22,
   "id": "6c2230df-d192-4258-b554-a8f46b37a535",
   "metadata": {},
   "outputs": [
    {
     "name": "stdout",
     "output_type": "stream",
     "text": [
      "3\n",
      "2\n",
      "1\n"
     ]
    }
   ],
   "source": [
    "i = 3\n",
    "while i > 0 :\n",
    "    time.sleep(3) # 3초 후에 리타이어 하라\n",
    "    print(i) \n",
    "    i -= 1 "
   ]
  },
  {
   "cell_type": "code",
   "execution_count": 25,
   "id": "0d769241-7de4-4881-8597-e8ec69ece33f",
   "metadata": {},
   "outputs": [
    {
     "name": "stdout",
     "output_type": "stream",
     "text": [
      "0\n"
     ]
    }
   ],
   "source": [
    "i = 3\n",
    "while True:\n",
    "    time.sleep(1)\n",
    "    i = i-1\n",
    "    if i == 0:\n",
    "        break\n",
    "print(i) "
   ]
  },
  {
   "cell_type": "code",
   "execution_count": 26,
   "id": "f7943c1b-5f72-4fe9-9b7c-0c08eaefd3bc",
   "metadata": {},
   "outputs": [],
   "source": [
    "import pydataset"
   ]
  },
  {
   "cell_type": "code",
   "execution_count": 238,
   "id": "e0fec09d-65f9-4179-ab06-4c06acc1be55",
   "metadata": {},
   "outputs": [],
   "source": [
    "di=pydataset.data('diamonds')"
   ]
  },
  {
   "cell_type": "code",
   "execution_count": 239,
   "id": "b2923158-3212-4e24-a734-fb119dc99bd3",
   "metadata": {},
   "outputs": [
    {
     "data": {
      "text/html": [
       "<div>\n",
       "<style scoped>\n",
       "    .dataframe tbody tr th:only-of-type {\n",
       "        vertical-align: middle;\n",
       "    }\n",
       "\n",
       "    .dataframe tbody tr th {\n",
       "        vertical-align: top;\n",
       "    }\n",
       "\n",
       "    .dataframe thead th {\n",
       "        text-align: right;\n",
       "    }\n",
       "</style>\n",
       "<table border=\"1\" class=\"dataframe\">\n",
       "  <thead>\n",
       "    <tr style=\"text-align: right;\">\n",
       "      <th></th>\n",
       "      <th>carat</th>\n",
       "      <th>cut</th>\n",
       "      <th>color</th>\n",
       "      <th>clarity</th>\n",
       "      <th>depth</th>\n",
       "      <th>table</th>\n",
       "      <th>price</th>\n",
       "      <th>x</th>\n",
       "      <th>y</th>\n",
       "      <th>z</th>\n",
       "    </tr>\n",
       "  </thead>\n",
       "  <tbody>\n",
       "    <tr>\n",
       "      <th>1</th>\n",
       "      <td>0.23</td>\n",
       "      <td>Ideal</td>\n",
       "      <td>E</td>\n",
       "      <td>SI2</td>\n",
       "      <td>61.5</td>\n",
       "      <td>55.0</td>\n",
       "      <td>326</td>\n",
       "      <td>3.95</td>\n",
       "      <td>3.98</td>\n",
       "      <td>2.43</td>\n",
       "    </tr>\n",
       "    <tr>\n",
       "      <th>2</th>\n",
       "      <td>0.21</td>\n",
       "      <td>Premium</td>\n",
       "      <td>E</td>\n",
       "      <td>SI1</td>\n",
       "      <td>59.8</td>\n",
       "      <td>61.0</td>\n",
       "      <td>326</td>\n",
       "      <td>3.89</td>\n",
       "      <td>3.84</td>\n",
       "      <td>2.31</td>\n",
       "    </tr>\n",
       "    <tr>\n",
       "      <th>3</th>\n",
       "      <td>0.23</td>\n",
       "      <td>Good</td>\n",
       "      <td>E</td>\n",
       "      <td>VS1</td>\n",
       "      <td>56.9</td>\n",
       "      <td>65.0</td>\n",
       "      <td>327</td>\n",
       "      <td>4.05</td>\n",
       "      <td>4.07</td>\n",
       "      <td>2.31</td>\n",
       "    </tr>\n",
       "    <tr>\n",
       "      <th>4</th>\n",
       "      <td>0.29</td>\n",
       "      <td>Premium</td>\n",
       "      <td>I</td>\n",
       "      <td>VS2</td>\n",
       "      <td>62.4</td>\n",
       "      <td>58.0</td>\n",
       "      <td>334</td>\n",
       "      <td>4.20</td>\n",
       "      <td>4.23</td>\n",
       "      <td>2.63</td>\n",
       "    </tr>\n",
       "    <tr>\n",
       "      <th>5</th>\n",
       "      <td>0.31</td>\n",
       "      <td>Good</td>\n",
       "      <td>J</td>\n",
       "      <td>SI2</td>\n",
       "      <td>63.3</td>\n",
       "      <td>58.0</td>\n",
       "      <td>335</td>\n",
       "      <td>4.34</td>\n",
       "      <td>4.35</td>\n",
       "      <td>2.75</td>\n",
       "    </tr>\n",
       "    <tr>\n",
       "      <th>...</th>\n",
       "      <td>...</td>\n",
       "      <td>...</td>\n",
       "      <td>...</td>\n",
       "      <td>...</td>\n",
       "      <td>...</td>\n",
       "      <td>...</td>\n",
       "      <td>...</td>\n",
       "      <td>...</td>\n",
       "      <td>...</td>\n",
       "      <td>...</td>\n",
       "    </tr>\n",
       "    <tr>\n",
       "      <th>53936</th>\n",
       "      <td>0.72</td>\n",
       "      <td>Ideal</td>\n",
       "      <td>D</td>\n",
       "      <td>SI1</td>\n",
       "      <td>60.8</td>\n",
       "      <td>57.0</td>\n",
       "      <td>2757</td>\n",
       "      <td>5.75</td>\n",
       "      <td>5.76</td>\n",
       "      <td>3.50</td>\n",
       "    </tr>\n",
       "    <tr>\n",
       "      <th>53937</th>\n",
       "      <td>0.72</td>\n",
       "      <td>Good</td>\n",
       "      <td>D</td>\n",
       "      <td>SI1</td>\n",
       "      <td>63.1</td>\n",
       "      <td>55.0</td>\n",
       "      <td>2757</td>\n",
       "      <td>5.69</td>\n",
       "      <td>5.75</td>\n",
       "      <td>3.61</td>\n",
       "    </tr>\n",
       "    <tr>\n",
       "      <th>53938</th>\n",
       "      <td>0.70</td>\n",
       "      <td>Very Good</td>\n",
       "      <td>D</td>\n",
       "      <td>SI1</td>\n",
       "      <td>62.8</td>\n",
       "      <td>60.0</td>\n",
       "      <td>2757</td>\n",
       "      <td>5.66</td>\n",
       "      <td>5.68</td>\n",
       "      <td>3.56</td>\n",
       "    </tr>\n",
       "    <tr>\n",
       "      <th>53939</th>\n",
       "      <td>0.86</td>\n",
       "      <td>Premium</td>\n",
       "      <td>H</td>\n",
       "      <td>SI2</td>\n",
       "      <td>61.0</td>\n",
       "      <td>58.0</td>\n",
       "      <td>2757</td>\n",
       "      <td>6.15</td>\n",
       "      <td>6.12</td>\n",
       "      <td>3.74</td>\n",
       "    </tr>\n",
       "    <tr>\n",
       "      <th>53940</th>\n",
       "      <td>0.75</td>\n",
       "      <td>Ideal</td>\n",
       "      <td>D</td>\n",
       "      <td>SI2</td>\n",
       "      <td>62.2</td>\n",
       "      <td>55.0</td>\n",
       "      <td>2757</td>\n",
       "      <td>5.83</td>\n",
       "      <td>5.87</td>\n",
       "      <td>3.64</td>\n",
       "    </tr>\n",
       "  </tbody>\n",
       "</table>\n",
       "<p>53940 rows × 10 columns</p>\n",
       "</div>"
      ],
      "text/plain": [
       "       carat        cut color clarity  depth  table  price     x     y     z\n",
       "1       0.23      Ideal     E     SI2   61.5   55.0    326  3.95  3.98  2.43\n",
       "2       0.21    Premium     E     SI1   59.8   61.0    326  3.89  3.84  2.31\n",
       "3       0.23       Good     E     VS1   56.9   65.0    327  4.05  4.07  2.31\n",
       "4       0.29    Premium     I     VS2   62.4   58.0    334  4.20  4.23  2.63\n",
       "5       0.31       Good     J     SI2   63.3   58.0    335  4.34  4.35  2.75\n",
       "...      ...        ...   ...     ...    ...    ...    ...   ...   ...   ...\n",
       "53936   0.72      Ideal     D     SI1   60.8   57.0   2757  5.75  5.76  3.50\n",
       "53937   0.72       Good     D     SI1   63.1   55.0   2757  5.69  5.75  3.61\n",
       "53938   0.70  Very Good     D     SI1   62.8   60.0   2757  5.66  5.68  3.56\n",
       "53939   0.86    Premium     H     SI2   61.0   58.0   2757  6.15  6.12  3.74\n",
       "53940   0.75      Ideal     D     SI2   62.2   55.0   2757  5.83  5.87  3.64\n",
       "\n",
       "[53940 rows x 10 columns]"
      ]
     },
     "execution_count": 239,
     "metadata": {},
     "output_type": "execute_result"
    }
   ],
   "source": [
    "di"
   ]
  },
  {
   "cell_type": "code",
   "execution_count": 240,
   "id": "6c7eaa22-0fef-497f-9785-c9b459b83ee8",
   "metadata": {},
   "outputs": [],
   "source": [
    "import seaborn as sns"
   ]
  },
  {
   "cell_type": "code",
   "execution_count": 241,
   "id": "1ccc63fe-ce89-46a9-b73f-71c1c346ea6b",
   "metadata": {},
   "outputs": [
    {
     "data": {
      "text/plain": [
       "<AxesSubplot:xlabel='carat', ylabel='price'>"
      ]
     },
     "execution_count": 241,
     "metadata": {},
     "output_type": "execute_result"
    },
    {
     "data": {
      "image/png": "[encoded data removed]",
      "text/plain": [
       "<Figure size 432x288 with 1 Axes>"
      ]
     },
     "metadata": {
      "needs_background": "light"
     },
     "output_type": "display_data"
    }
   ],
   "source": [
    "sns.scatterplot(data=di, x='carat', y='price', hue='color')"
   ]
  },
  {
   "cell_type": "code",
   "execution_count": 242,
   "id": "dd246e56-cf87-4e3b-aaf3-e9f71bd9ecca",
   "metadata": {},
   "outputs": [
    {
     "data": {
      "text/html": [
       "<div>\n",
       "<style scoped>\n",
       "    .dataframe tbody tr th:only-of-type {\n",
       "        vertical-align: middle;\n",
       "    }\n",
       "\n",
       "    .dataframe tbody tr th {\n",
       "        vertical-align: top;\n",
       "    }\n",
       "\n",
       "    .dataframe thead th {\n",
       "        text-align: right;\n",
       "    }\n",
       "</style>\n",
       "<table border=\"1\" class=\"dataframe\">\n",
       "  <thead>\n",
       "    <tr style=\"text-align: right;\">\n",
       "      <th></th>\n",
       "      <th>depth</th>\n",
       "      <th>table</th>\n",
       "      <th>price</th>\n",
       "      <th>x</th>\n",
       "      <th>y</th>\n",
       "      <th>z</th>\n",
       "    </tr>\n",
       "    <tr>\n",
       "      <th>carat</th>\n",
       "      <th></th>\n",
       "      <th></th>\n",
       "      <th></th>\n",
       "      <th></th>\n",
       "      <th></th>\n",
       "      <th></th>\n",
       "    </tr>\n",
       "  </thead>\n",
       "  <tbody>\n",
       "    <tr>\n",
       "      <th>0.20</th>\n",
       "      <td>61.100000</td>\n",
       "      <td>59.333333</td>\n",
       "      <td>365.166667</td>\n",
       "      <td>3.786667</td>\n",
       "      <td>3.753333</td>\n",
       "      <td>2.303333</td>\n",
       "    </tr>\n",
       "    <tr>\n",
       "      <th>0.21</th>\n",
       "      <td>60.511111</td>\n",
       "      <td>58.444444</td>\n",
       "      <td>380.222222</td>\n",
       "      <td>3.874444</td>\n",
       "      <td>3.837778</td>\n",
       "      <td>2.332222</td>\n",
       "    </tr>\n",
       "    <tr>\n",
       "      <th>0.22</th>\n",
       "      <td>61.620000</td>\n",
       "      <td>60.400000</td>\n",
       "      <td>391.400000</td>\n",
       "      <td>3.898000</td>\n",
       "      <td>3.848000</td>\n",
       "      <td>2.386000</td>\n",
       "    </tr>\n",
       "    <tr>\n",
       "      <th>0.23</th>\n",
       "      <td>61.426621</td>\n",
       "      <td>58.034130</td>\n",
       "      <td>486.143345</td>\n",
       "      <td>3.946382</td>\n",
       "      <td>3.973379</td>\n",
       "      <td>2.431468</td>\n",
       "    </tr>\n",
       "    <tr>\n",
       "      <th>0.24</th>\n",
       "      <td>61.599213</td>\n",
       "      <td>57.488189</td>\n",
       "      <td>505.185039</td>\n",
       "      <td>3.990157</td>\n",
       "      <td>4.019331</td>\n",
       "      <td>2.465591</td>\n",
       "    </tr>\n",
       "    <tr>\n",
       "      <th>...</th>\n",
       "      <td>...</td>\n",
       "      <td>...</td>\n",
       "      <td>...</td>\n",
       "      <td>...</td>\n",
       "      <td>...</td>\n",
       "      <td>...</td>\n",
       "    </tr>\n",
       "    <tr>\n",
       "      <th>4.00</th>\n",
       "      <td>63.300000</td>\n",
       "      <td>58.000000</td>\n",
       "      <td>15984.000000</td>\n",
       "      <td>10.010000</td>\n",
       "      <td>9.940000</td>\n",
       "      <td>6.310000</td>\n",
       "    </tr>\n",
       "    <tr>\n",
       "      <th>4.01</th>\n",
       "      <td>61.750000</td>\n",
       "      <td>61.500000</td>\n",
       "      <td>15223.000000</td>\n",
       "      <td>10.080000</td>\n",
       "      <td>10.020000</td>\n",
       "      <td>6.205000</td>\n",
       "    </tr>\n",
       "    <tr>\n",
       "      <th>4.13</th>\n",
       "      <td>64.800000</td>\n",
       "      <td>61.000000</td>\n",
       "      <td>17329.000000</td>\n",
       "      <td>10.000000</td>\n",
       "      <td>9.850000</td>\n",
       "      <td>6.430000</td>\n",
       "    </tr>\n",
       "    <tr>\n",
       "      <th>4.50</th>\n",
       "      <td>65.800000</td>\n",
       "      <td>58.000000</td>\n",
       "      <td>18531.000000</td>\n",
       "      <td>10.230000</td>\n",
       "      <td>10.160000</td>\n",
       "      <td>6.720000</td>\n",
       "    </tr>\n",
       "    <tr>\n",
       "      <th>5.01</th>\n",
       "      <td>65.500000</td>\n",
       "      <td>59.000000</td>\n",
       "      <td>18018.000000</td>\n",
       "      <td>10.740000</td>\n",
       "      <td>10.540000</td>\n",
       "      <td>6.980000</td>\n",
       "    </tr>\n",
       "  </tbody>\n",
       "</table>\n",
       "<p>273 rows × 6 columns</p>\n",
       "</div>"
      ],
      "text/plain": [
       "           depth      table         price          x          y         z\n",
       "carat                                                                    \n",
       "0.20   61.100000  59.333333    365.166667   3.786667   3.753333  2.303333\n",
       "0.21   60.511111  58.444444    380.222222   3.874444   3.837778  2.332222\n",
       "0.22   61.620000  60.400000    391.400000   3.898000   3.848000  2.386000\n",
       "0.23   61.426621  58.034130    486.143345   3.946382   3.973379  2.431468\n",
       "0.24   61.599213  57.488189    505.185039   3.990157   4.019331  2.465591\n",
       "...          ...        ...           ...        ...        ...       ...\n",
       "4.00   63.300000  58.000000  15984.000000  10.010000   9.940000  6.310000\n",
       "4.01   61.750000  61.500000  15223.000000  10.080000  10.020000  6.205000\n",
       "4.13   64.800000  61.000000  17329.000000  10.000000   9.850000  6.430000\n",
       "4.50   65.800000  58.000000  18531.000000  10.230000  10.160000  6.720000\n",
       "5.01   65.500000  59.000000  18018.000000  10.740000  10.540000  6.980000\n",
       "\n",
       "[273 rows x 6 columns]"
      ]
     },
     "execution_count": 242,
     "metadata": {},
     "output_type": "execute_result"
    }
   ],
   "source": [
    "di.groupby(di.carat).mean() # 1. 왜 캐럿별 평균을 구하는지? # 0.23인거는 끼리끼리 맞춰서 "
   ]
  },
  {
   "cell_type": "code",
   "execution_count": 39,
   "id": "e5f3419c-802f-4ac9-8b73-893311e1e98e",
   "metadata": {},
   "outputs": [
    {
     "ename": "ValueError",
     "evalue": "invalid literal for int() with base 10: 'di.carat'",
     "output_type": "error",
     "traceback": [
      "\u001b[1;31m---------------------------------------------------------------------------\u001b[0m",
      "\u001b[1;31mValueError\u001b[0m                                Traceback (most recent call last)",
      "Input \u001b[1;32mIn [39]\u001b[0m, in \u001b[0;36m<cell line: 1>\u001b[1;34m()\u001b[0m\n\u001b[1;32m----> 1\u001b[0m \u001b[38;5;28;43mint\u001b[39;49m\u001b[43m(\u001b[49m\u001b[38;5;124;43m'\u001b[39;49m\u001b[38;5;124;43mdi.carat\u001b[39;49m\u001b[38;5;124;43m'\u001b[39;49m\u001b[43m)\u001b[49m\n",
      "\u001b[1;31mValueError\u001b[0m: invalid literal for int() with base 10: 'di.carat'"
     ]
    }
   ],
   "source": [
    "df = diamonds.copy()\n",
    "df.carat=df.carat.astype('int')\n",
    "df.groupby(['carat']).mean()"
   ]
  },
  {
   "cell_type": "code",
   "execution_count": 243,
   "id": "d6349301-f1ec-4b94-984a-29f53f1d17eb",
   "metadata": {},
   "outputs": [
    {
     "data": {
      "text/html": [
       "<div>\n",
       "<style scoped>\n",
       "    .dataframe tbody tr th:only-of-type {\n",
       "        vertical-align: middle;\n",
       "    }\n",
       "\n",
       "    .dataframe tbody tr th {\n",
       "        vertical-align: top;\n",
       "    }\n",
       "\n",
       "    .dataframe thead th {\n",
       "        text-align: right;\n",
       "    }\n",
       "</style>\n",
       "<table border=\"1\" class=\"dataframe\">\n",
       "  <thead>\n",
       "    <tr style=\"text-align: right;\">\n",
       "      <th></th>\n",
       "      <th>carat</th>\n",
       "      <th>cut</th>\n",
       "      <th>color</th>\n",
       "      <th>clarity</th>\n",
       "      <th>depth</th>\n",
       "      <th>table</th>\n",
       "      <th>price</th>\n",
       "      <th>x</th>\n",
       "      <th>y</th>\n",
       "      <th>z</th>\n",
       "    </tr>\n",
       "  </thead>\n",
       "  <tbody>\n",
       "    <tr>\n",
       "      <th>1</th>\n",
       "      <td>0</td>\n",
       "      <td>Ideal</td>\n",
       "      <td>E</td>\n",
       "      <td>SI2</td>\n",
       "      <td>61.5</td>\n",
       "      <td>55.0</td>\n",
       "      <td>326</td>\n",
       "      <td>3.95</td>\n",
       "      <td>3.98</td>\n",
       "      <td>2.43</td>\n",
       "    </tr>\n",
       "    <tr>\n",
       "      <th>2</th>\n",
       "      <td>0</td>\n",
       "      <td>Premium</td>\n",
       "      <td>E</td>\n",
       "      <td>SI1</td>\n",
       "      <td>59.8</td>\n",
       "      <td>61.0</td>\n",
       "      <td>326</td>\n",
       "      <td>3.89</td>\n",
       "      <td>3.84</td>\n",
       "      <td>2.31</td>\n",
       "    </tr>\n",
       "    <tr>\n",
       "      <th>3</th>\n",
       "      <td>0</td>\n",
       "      <td>Good</td>\n",
       "      <td>E</td>\n",
       "      <td>VS1</td>\n",
       "      <td>56.9</td>\n",
       "      <td>65.0</td>\n",
       "      <td>327</td>\n",
       "      <td>4.05</td>\n",
       "      <td>4.07</td>\n",
       "      <td>2.31</td>\n",
       "    </tr>\n",
       "    <tr>\n",
       "      <th>4</th>\n",
       "      <td>0</td>\n",
       "      <td>Premium</td>\n",
       "      <td>I</td>\n",
       "      <td>VS2</td>\n",
       "      <td>62.4</td>\n",
       "      <td>58.0</td>\n",
       "      <td>334</td>\n",
       "      <td>4.20</td>\n",
       "      <td>4.23</td>\n",
       "      <td>2.63</td>\n",
       "    </tr>\n",
       "    <tr>\n",
       "      <th>5</th>\n",
       "      <td>0</td>\n",
       "      <td>Good</td>\n",
       "      <td>J</td>\n",
       "      <td>SI2</td>\n",
       "      <td>63.3</td>\n",
       "      <td>58.0</td>\n",
       "      <td>335</td>\n",
       "      <td>4.34</td>\n",
       "      <td>4.35</td>\n",
       "      <td>2.75</td>\n",
       "    </tr>\n",
       "    <tr>\n",
       "      <th>...</th>\n",
       "      <td>...</td>\n",
       "      <td>...</td>\n",
       "      <td>...</td>\n",
       "      <td>...</td>\n",
       "      <td>...</td>\n",
       "      <td>...</td>\n",
       "      <td>...</td>\n",
       "      <td>...</td>\n",
       "      <td>...</td>\n",
       "      <td>...</td>\n",
       "    </tr>\n",
       "    <tr>\n",
       "      <th>53936</th>\n",
       "      <td>0</td>\n",
       "      <td>Ideal</td>\n",
       "      <td>D</td>\n",
       "      <td>SI1</td>\n",
       "      <td>60.8</td>\n",
       "      <td>57.0</td>\n",
       "      <td>2757</td>\n",
       "      <td>5.75</td>\n",
       "      <td>5.76</td>\n",
       "      <td>3.50</td>\n",
       "    </tr>\n",
       "    <tr>\n",
       "      <th>53937</th>\n",
       "      <td>0</td>\n",
       "      <td>Good</td>\n",
       "      <td>D</td>\n",
       "      <td>SI1</td>\n",
       "      <td>63.1</td>\n",
       "      <td>55.0</td>\n",
       "      <td>2757</td>\n",
       "      <td>5.69</td>\n",
       "      <td>5.75</td>\n",
       "      <td>3.61</td>\n",
       "    </tr>\n",
       "    <tr>\n",
       "      <th>53938</th>\n",
       "      <td>0</td>\n",
       "      <td>Very Good</td>\n",
       "      <td>D</td>\n",
       "      <td>SI1</td>\n",
       "      <td>62.8</td>\n",
       "      <td>60.0</td>\n",
       "      <td>2757</td>\n",
       "      <td>5.66</td>\n",
       "      <td>5.68</td>\n",
       "      <td>3.56</td>\n",
       "    </tr>\n",
       "    <tr>\n",
       "      <th>53939</th>\n",
       "      <td>0</td>\n",
       "      <td>Premium</td>\n",
       "      <td>H</td>\n",
       "      <td>SI2</td>\n",
       "      <td>61.0</td>\n",
       "      <td>58.0</td>\n",
       "      <td>2757</td>\n",
       "      <td>6.15</td>\n",
       "      <td>6.12</td>\n",
       "      <td>3.74</td>\n",
       "    </tr>\n",
       "    <tr>\n",
       "      <th>53940</th>\n",
       "      <td>0</td>\n",
       "      <td>Ideal</td>\n",
       "      <td>D</td>\n",
       "      <td>SI2</td>\n",
       "      <td>62.2</td>\n",
       "      <td>55.0</td>\n",
       "      <td>2757</td>\n",
       "      <td>5.83</td>\n",
       "      <td>5.87</td>\n",
       "      <td>3.64</td>\n",
       "    </tr>\n",
       "  </tbody>\n",
       "</table>\n",
       "<p>53940 rows × 10 columns</p>\n",
       "</div>"
      ],
      "text/plain": [
       "       carat        cut color clarity  depth  table  price     x     y     z\n",
       "1          0      Ideal     E     SI2   61.5   55.0    326  3.95  3.98  2.43\n",
       "2          0    Premium     E     SI1   59.8   61.0    326  3.89  3.84  2.31\n",
       "3          0       Good     E     VS1   56.9   65.0    327  4.05  4.07  2.31\n",
       "4          0    Premium     I     VS2   62.4   58.0    334  4.20  4.23  2.63\n",
       "5          0       Good     J     SI2   63.3   58.0    335  4.34  4.35  2.75\n",
       "...      ...        ...   ...     ...    ...    ...    ...   ...   ...   ...\n",
       "53936      0      Ideal     D     SI1   60.8   57.0   2757  5.75  5.76  3.50\n",
       "53937      0       Good     D     SI1   63.1   55.0   2757  5.69  5.75  3.61\n",
       "53938      0  Very Good     D     SI1   62.8   60.0   2757  5.66  5.68  3.56\n",
       "53939      0    Premium     H     SI2   61.0   58.0   2757  6.15  6.12  3.74\n",
       "53940      0      Ideal     D     SI2   62.2   55.0   2757  5.83  5.87  3.64\n",
       "\n",
       "[53940 rows x 10 columns]"
      ]
     },
     "execution_count": 243,
     "metadata": {},
     "output_type": "execute_result"
    }
   ],
   "source": [
    "di['carat'] = di['carat'].astype('int')\n",
    "di"
   ]
  },
  {
   "cell_type": "code",
   "execution_count": 48,
   "id": "e88bcbd0-d176-4718-8932-fe1567c624d6",
   "metadata": {},
   "outputs": [],
   "source": [
    "di['diff']= di.groupby(di.carat).mean().diff()['price']"
   ]
  },
  {
   "cell_type": "code",
   "execution_count": 51,
   "id": "70eb37e6-f956-4298-ac09-83b0d45966fb",
   "metadata": {},
   "outputs": [
    {
     "ename": "SyntaxError",
     "evalue": "invalid syntax (2579232896.py, line 1)",
     "output_type": "error",
     "traceback": [
      "\u001b[1;36m  Input \u001b[1;32mIn [51]\u001b[1;36m\u001b[0m\n\u001b[1;33m    di['diff']=  di.groupby(di.carat)max(di.price)-min(di.price)\u001b[0m\n\u001b[1;37m                                     ^\u001b[0m\n\u001b[1;31mSyntaxError\u001b[0m\u001b[1;31m:\u001b[0m invalid syntax\n"
     ]
    }
   ],
   "source": [
    "di['diff']=  di.groupby(di.carat)max(di.price)-min(di.price)"
   ]
  },
  {
   "cell_type": "code",
   "execution_count": 53,
   "id": "32001b5c-cd76-4020-83ca-a82742368d23",
   "metadata": {},
   "outputs": [
    {
     "ename": "AttributeError",
     "evalue": "'Series' object has no attribute 'price'",
     "output_type": "error",
     "traceback": [
      "\u001b[1;31m---------------------------------------------------------------------------\u001b[0m",
      "\u001b[1;31mAttributeError\u001b[0m                            Traceback (most recent call last)",
      "Input \u001b[1;32mIn [53]\u001b[0m, in \u001b[0;36m<cell line: 1>\u001b[1;34m()\u001b[0m\n\u001b[1;32m----> 1\u001b[0m \u001b[38;5;28mmax\u001b[39m(\u001b[43mdi\u001b[49m\u001b[38;5;241;43m.\u001b[39;49m\u001b[43mcarat\u001b[49m\u001b[38;5;241;43m.\u001b[39;49m\u001b[43mprice\u001b[49m)\n",
      "File \u001b[1;32m~\\anaconda3\\lib\\site-packages\\pandas\\core\\generic.py:5575\u001b[0m, in \u001b[0;36mNDFrame.__getattr__\u001b[1;34m(self, name)\u001b[0m\n\u001b[0;32m   5568\u001b[0m \u001b[38;5;28;01mif\u001b[39;00m (\n\u001b[0;32m   5569\u001b[0m     name \u001b[38;5;129;01mnot\u001b[39;00m \u001b[38;5;129;01min\u001b[39;00m \u001b[38;5;28mself\u001b[39m\u001b[38;5;241m.\u001b[39m_internal_names_set\n\u001b[0;32m   5570\u001b[0m     \u001b[38;5;129;01mand\u001b[39;00m name \u001b[38;5;129;01mnot\u001b[39;00m \u001b[38;5;129;01min\u001b[39;00m \u001b[38;5;28mself\u001b[39m\u001b[38;5;241m.\u001b[39m_metadata\n\u001b[0;32m   5571\u001b[0m     \u001b[38;5;129;01mand\u001b[39;00m name \u001b[38;5;129;01mnot\u001b[39;00m \u001b[38;5;129;01min\u001b[39;00m \u001b[38;5;28mself\u001b[39m\u001b[38;5;241m.\u001b[39m_accessors\n\u001b[0;32m   5572\u001b[0m     \u001b[38;5;129;01mand\u001b[39;00m \u001b[38;5;28mself\u001b[39m\u001b[38;5;241m.\u001b[39m_info_axis\u001b[38;5;241m.\u001b[39m_can_hold_identifiers_and_holds_name(name)\n\u001b[0;32m   5573\u001b[0m ):\n\u001b[0;32m   5574\u001b[0m     \u001b[38;5;28;01mreturn\u001b[39;00m \u001b[38;5;28mself\u001b[39m[name]\n\u001b[1;32m-> 5575\u001b[0m \u001b[38;5;28;01mreturn\u001b[39;00m \u001b[38;5;28;43mobject\u001b[39;49m\u001b[38;5;241;43m.\u001b[39;49m\u001b[38;5;21;43m__getattribute__\u001b[39;49m\u001b[43m(\u001b[49m\u001b[38;5;28;43mself\u001b[39;49m\u001b[43m,\u001b[49m\u001b[43m \u001b[49m\u001b[43mname\u001b[49m\u001b[43m)\u001b[49m\n",
      "\u001b[1;31mAttributeError\u001b[0m: 'Series' object has no attribute 'price'"
     ]
    }
   ],
   "source": [
    "max(di['carat']price)"
   ]
  },
  {
   "cell_type": "code",
   "execution_count": 56,
   "id": "f8ecb89c-0589-4ba2-b432-8901c53f342d",
   "metadata": {},
   "outputs": [
    {
     "data": {
      "text/html": [
       "<div>\n",
       "<style scoped>\n",
       "    .dataframe tbody tr th:only-of-type {\n",
       "        vertical-align: middle;\n",
       "    }\n",
       "\n",
       "    .dataframe tbody tr th {\n",
       "        vertical-align: top;\n",
       "    }\n",
       "\n",
       "    .dataframe thead th {\n",
       "        text-align: right;\n",
       "    }\n",
       "</style>\n",
       "<table border=\"1\" class=\"dataframe\">\n",
       "  <thead>\n",
       "    <tr style=\"text-align: right;\">\n",
       "      <th></th>\n",
       "      <th>depth</th>\n",
       "      <th>table</th>\n",
       "      <th>price</th>\n",
       "      <th>x</th>\n",
       "      <th>y</th>\n",
       "      <th>z</th>\n",
       "      <th>diff</th>\n",
       "    </tr>\n",
       "    <tr>\n",
       "      <th>carat</th>\n",
       "      <th></th>\n",
       "      <th></th>\n",
       "      <th></th>\n",
       "      <th></th>\n",
       "      <th></th>\n",
       "      <th></th>\n",
       "      <th></th>\n",
       "    </tr>\n",
       "  </thead>\n",
       "  <tbody>\n",
       "    <tr>\n",
       "      <th>0</th>\n",
       "      <td>61.732477</td>\n",
       "      <td>57.208214</td>\n",
       "      <td>1632.640826</td>\n",
       "      <td>5.047323</td>\n",
       "      <td>5.055794</td>\n",
       "      <td>3.118780</td>\n",
       "      <td>3277.071835</td>\n",
       "    </tr>\n",
       "    <tr>\n",
       "      <th>1</th>\n",
       "      <td>61.774607</td>\n",
       "      <td>57.862398</td>\n",
       "      <td>7288.267538</td>\n",
       "      <td>6.823315</td>\n",
       "      <td>6.816617</td>\n",
       "      <td>4.209824</td>\n",
       "      <td>NaN</td>\n",
       "    </tr>\n",
       "    <tr>\n",
       "      <th>2</th>\n",
       "      <td>61.810549</td>\n",
       "      <td>58.301939</td>\n",
       "      <td>14846.948912</td>\n",
       "      <td>8.209967</td>\n",
       "      <td>8.211377</td>\n",
       "      <td>5.056698</td>\n",
       "      <td>NaN</td>\n",
       "    </tr>\n",
       "    <tr>\n",
       "      <th>3</th>\n",
       "      <td>62.417647</td>\n",
       "      <td>58.441176</td>\n",
       "      <td>14308.705882</td>\n",
       "      <td>9.295000</td>\n",
       "      <td>9.209706</td>\n",
       "      <td>5.772941</td>\n",
       "      <td>NaN</td>\n",
       "    </tr>\n",
       "    <tr>\n",
       "      <th>4</th>\n",
       "      <td>63.480000</td>\n",
       "      <td>60.000000</td>\n",
       "      <td>16458.000000</td>\n",
       "      <td>10.080000</td>\n",
       "      <td>9.998000</td>\n",
       "      <td>6.374000</td>\n",
       "      <td>NaN</td>\n",
       "    </tr>\n",
       "    <tr>\n",
       "      <th>5</th>\n",
       "      <td>65.500000</td>\n",
       "      <td>59.000000</td>\n",
       "      <td>18018.000000</td>\n",
       "      <td>10.740000</td>\n",
       "      <td>10.540000</td>\n",
       "      <td>6.980000</td>\n",
       "      <td>NaN</td>\n",
       "    </tr>\n",
       "  </tbody>\n",
       "</table>\n",
       "</div>"
      ],
      "text/plain": [
       "           depth      table         price          x          y         z  \\\n",
       "carat                                                                       \n",
       "0      61.732477  57.208214   1632.640826   5.047323   5.055794  3.118780   \n",
       "1      61.774607  57.862398   7288.267538   6.823315   6.816617  4.209824   \n",
       "2      61.810549  58.301939  14846.948912   8.209967   8.211377  5.056698   \n",
       "3      62.417647  58.441176  14308.705882   9.295000   9.209706  5.772941   \n",
       "4      63.480000  60.000000  16458.000000  10.080000   9.998000  6.374000   \n",
       "5      65.500000  59.000000  18018.000000  10.740000  10.540000  6.980000   \n",
       "\n",
       "              diff  \n",
       "carat               \n",
       "0      3277.071835  \n",
       "1              NaN  \n",
       "2              NaN  \n",
       "3              NaN  \n",
       "4              NaN  \n",
       "5              NaN  "
      ]
     },
     "execution_count": 56,
     "metadata": {},
     "output_type": "execute_result"
    }
   ],
   "source": [
    "df=di.groupby('carat').mean()\n",
    "df"
   ]
  },
  {
   "cell_type": "code",
   "execution_count": 57,
   "id": "f483c204-305f-4d50-8a5b-793aa9ab9a37",
   "metadata": {},
   "outputs": [
    {
     "data": {
      "text/html": [
       "<div>\n",
       "<style scoped>\n",
       "    .dataframe tbody tr th:only-of-type {\n",
       "        vertical-align: middle;\n",
       "    }\n",
       "\n",
       "    .dataframe tbody tr th {\n",
       "        vertical-align: top;\n",
       "    }\n",
       "\n",
       "    .dataframe thead th {\n",
       "        text-align: right;\n",
       "    }\n",
       "</style>\n",
       "<table border=\"1\" class=\"dataframe\">\n",
       "  <thead>\n",
       "    <tr style=\"text-align: right;\">\n",
       "      <th></th>\n",
       "      <th>depth</th>\n",
       "      <th>table</th>\n",
       "      <th>price</th>\n",
       "      <th>x</th>\n",
       "      <th>y</th>\n",
       "      <th>z</th>\n",
       "      <th>diff</th>\n",
       "    </tr>\n",
       "    <tr>\n",
       "      <th>carat</th>\n",
       "      <th></th>\n",
       "      <th></th>\n",
       "      <th></th>\n",
       "      <th></th>\n",
       "      <th></th>\n",
       "      <th></th>\n",
       "      <th></th>\n",
       "    </tr>\n",
       "  </thead>\n",
       "  <tbody>\n",
       "    <tr>\n",
       "      <th>0</th>\n",
       "      <td>61.732477</td>\n",
       "      <td>57.208214</td>\n",
       "      <td>1632.640826</td>\n",
       "      <td>5.047323</td>\n",
       "      <td>5.055794</td>\n",
       "      <td>3.118780</td>\n",
       "      <td>3277.071835</td>\n",
       "    </tr>\n",
       "    <tr>\n",
       "      <th>1</th>\n",
       "      <td>61.774607</td>\n",
       "      <td>57.862398</td>\n",
       "      <td>7288.267538</td>\n",
       "      <td>6.823315</td>\n",
       "      <td>6.816617</td>\n",
       "      <td>4.209824</td>\n",
       "      <td>5655.626712</td>\n",
       "    </tr>\n",
       "    <tr>\n",
       "      <th>2</th>\n",
       "      <td>61.810549</td>\n",
       "      <td>58.301939</td>\n",
       "      <td>14846.948912</td>\n",
       "      <td>8.209967</td>\n",
       "      <td>8.211377</td>\n",
       "      <td>5.056698</td>\n",
       "      <td>7558.681374</td>\n",
       "    </tr>\n",
       "    <tr>\n",
       "      <th>3</th>\n",
       "      <td>62.417647</td>\n",
       "      <td>58.441176</td>\n",
       "      <td>14308.705882</td>\n",
       "      <td>9.295000</td>\n",
       "      <td>9.209706</td>\n",
       "      <td>5.772941</td>\n",
       "      <td>-538.243030</td>\n",
       "    </tr>\n",
       "    <tr>\n",
       "      <th>4</th>\n",
       "      <td>63.480000</td>\n",
       "      <td>60.000000</td>\n",
       "      <td>16458.000000</td>\n",
       "      <td>10.080000</td>\n",
       "      <td>9.998000</td>\n",
       "      <td>6.374000</td>\n",
       "      <td>2149.294118</td>\n",
       "    </tr>\n",
       "    <tr>\n",
       "      <th>5</th>\n",
       "      <td>65.500000</td>\n",
       "      <td>59.000000</td>\n",
       "      <td>18018.000000</td>\n",
       "      <td>10.740000</td>\n",
       "      <td>10.540000</td>\n",
       "      <td>6.980000</td>\n",
       "      <td>1560.000000</td>\n",
       "    </tr>\n",
       "  </tbody>\n",
       "</table>\n",
       "</div>"
      ],
      "text/plain": [
       "           depth      table         price          x          y         z  \\\n",
       "carat                                                                       \n",
       "0      61.732477  57.208214   1632.640826   5.047323   5.055794  3.118780   \n",
       "1      61.774607  57.862398   7288.267538   6.823315   6.816617  4.209824   \n",
       "2      61.810549  58.301939  14846.948912   8.209967   8.211377  5.056698   \n",
       "3      62.417647  58.441176  14308.705882   9.295000   9.209706  5.772941   \n",
       "4      63.480000  60.000000  16458.000000  10.080000   9.998000  6.374000   \n",
       "5      65.500000  59.000000  18018.000000  10.740000  10.540000  6.980000   \n",
       "\n",
       "              diff  \n",
       "carat               \n",
       "0      3277.071835  \n",
       "1      5655.626712  \n",
       "2      7558.681374  \n",
       "3      -538.243030  \n",
       "4      2149.294118  \n",
       "5      1560.000000  "
      ]
     },
     "execution_count": 57,
     "metadata": {},
     "output_type": "execute_result"
    }
   ],
   "source": [
    "for i in range(5):\n",
    "    df['diff'][i+1]=df['price'][i+1]-df['price'][i] # 1행-0행을 1행에 써줌 \n",
    "df    "
   ]
  },
  {
   "cell_type": "code",
   "execution_count": 60,
   "id": "acbc29ef-a465-487e-8d6b-87e04ad5f376",
   "metadata": {},
   "outputs": [
    {
     "data": {
      "text/html": [
       "<div>\n",
       "<style scoped>\n",
       "    .dataframe tbody tr th:only-of-type {\n",
       "        vertical-align: middle;\n",
       "    }\n",
       "\n",
       "    .dataframe tbody tr th {\n",
       "        vertical-align: top;\n",
       "    }\n",
       "\n",
       "    .dataframe thead th {\n",
       "        text-align: right;\n",
       "    }\n",
       "</style>\n",
       "<table border=\"1\" class=\"dataframe\">\n",
       "  <thead>\n",
       "    <tr style=\"text-align: right;\">\n",
       "      <th></th>\n",
       "      <th>depth</th>\n",
       "      <th>table</th>\n",
       "      <th>price</th>\n",
       "      <th>x</th>\n",
       "      <th>y</th>\n",
       "      <th>z</th>\n",
       "      <th>diff</th>\n",
       "      <th>price2</th>\n",
       "    </tr>\n",
       "    <tr>\n",
       "      <th>carat</th>\n",
       "      <th></th>\n",
       "      <th></th>\n",
       "      <th></th>\n",
       "      <th></th>\n",
       "      <th></th>\n",
       "      <th></th>\n",
       "      <th></th>\n",
       "      <th></th>\n",
       "    </tr>\n",
       "  </thead>\n",
       "  <tbody>\n",
       "    <tr>\n",
       "      <th>0</th>\n",
       "      <td>61.732477</td>\n",
       "      <td>57.208214</td>\n",
       "      <td>1632.640826</td>\n",
       "      <td>5.047323</td>\n",
       "      <td>5.055794</td>\n",
       "      <td>3.118780</td>\n",
       "      <td>3277.071835</td>\n",
       "      <td>NaN</td>\n",
       "    </tr>\n",
       "    <tr>\n",
       "      <th>1</th>\n",
       "      <td>61.774607</td>\n",
       "      <td>57.862398</td>\n",
       "      <td>7288.267538</td>\n",
       "      <td>6.823315</td>\n",
       "      <td>6.816617</td>\n",
       "      <td>4.209824</td>\n",
       "      <td>5655.626712</td>\n",
       "      <td>1632.640826</td>\n",
       "    </tr>\n",
       "    <tr>\n",
       "      <th>2</th>\n",
       "      <td>61.810549</td>\n",
       "      <td>58.301939</td>\n",
       "      <td>14846.948912</td>\n",
       "      <td>8.209967</td>\n",
       "      <td>8.211377</td>\n",
       "      <td>5.056698</td>\n",
       "      <td>7558.681374</td>\n",
       "      <td>7288.267538</td>\n",
       "    </tr>\n",
       "    <tr>\n",
       "      <th>3</th>\n",
       "      <td>62.417647</td>\n",
       "      <td>58.441176</td>\n",
       "      <td>14308.705882</td>\n",
       "      <td>9.295000</td>\n",
       "      <td>9.209706</td>\n",
       "      <td>5.772941</td>\n",
       "      <td>-538.243030</td>\n",
       "      <td>14846.948912</td>\n",
       "    </tr>\n",
       "    <tr>\n",
       "      <th>4</th>\n",
       "      <td>63.480000</td>\n",
       "      <td>60.000000</td>\n",
       "      <td>16458.000000</td>\n",
       "      <td>10.080000</td>\n",
       "      <td>9.998000</td>\n",
       "      <td>6.374000</td>\n",
       "      <td>2149.294118</td>\n",
       "      <td>14308.705882</td>\n",
       "    </tr>\n",
       "    <tr>\n",
       "      <th>5</th>\n",
       "      <td>65.500000</td>\n",
       "      <td>59.000000</td>\n",
       "      <td>18018.000000</td>\n",
       "      <td>10.740000</td>\n",
       "      <td>10.540000</td>\n",
       "      <td>6.980000</td>\n",
       "      <td>1560.000000</td>\n",
       "      <td>16458.000000</td>\n",
       "    </tr>\n",
       "  </tbody>\n",
       "</table>\n",
       "</div>"
      ],
      "text/plain": [
       "           depth      table         price          x          y         z  \\\n",
       "carat                                                                       \n",
       "0      61.732477  57.208214   1632.640826   5.047323   5.055794  3.118780   \n",
       "1      61.774607  57.862398   7288.267538   6.823315   6.816617  4.209824   \n",
       "2      61.810549  58.301939  14846.948912   8.209967   8.211377  5.056698   \n",
       "3      62.417647  58.441176  14308.705882   9.295000   9.209706  5.772941   \n",
       "4      63.480000  60.000000  16458.000000  10.080000   9.998000  6.374000   \n",
       "5      65.500000  59.000000  18018.000000  10.740000  10.540000  6.980000   \n",
       "\n",
       "              diff        price2  \n",
       "carat                             \n",
       "0      3277.071835           NaN  \n",
       "1      5655.626712   1632.640826  \n",
       "2      7558.681374   7288.267538  \n",
       "3      -538.243030  14846.948912  \n",
       "4      2149.294118  14308.705882  \n",
       "5      1560.000000  16458.000000  "
      ]
     },
     "execution_count": 60,
     "metadata": {},
     "output_type": "execute_result"
    }
   ],
   "source": [
    "df['price2']= df['price'].shift(1) # 임시로 한칸 만듬 열에서 열을 뺌 # 한칸내려서감 \n",
    "df['diff']=df['price']-df['price2']\n",
    "df['diff']=df['price']-df['price'].shift(1)"
   ]
  },
  {
   "cell_type": "code",
   "execution_count": 61,
   "id": "17aef046-6375-4369-acd5-1bcd492aa4a4",
   "metadata": {},
   "outputs": [],
   "source": [
    "di['diff']= di.groupby(di.carat).mean().diff()['price'] #diff는 모든 열의 차이를 봄 \n",
    "#모든 열의 차이중 price만 봄 "
   ]
  },
  {
   "cell_type": "code",
   "execution_count": 63,
   "id": "23ae81e2-97ac-4909-b591-61c8a42791ab",
   "metadata": {},
   "outputs": [
    {
     "ename": "NameError",
     "evalue": "name 'data' is not defined",
     "output_type": "error",
     "traceback": [
      "\u001b[1;31m---------------------------------------------------------------------------\u001b[0m",
      "\u001b[1;31mNameError\u001b[0m                                 Traceback (most recent call last)",
      "Input \u001b[1;32mIn [63]\u001b[0m, in \u001b[0;36m<cell line: 1>\u001b[1;34m()\u001b[0m\n\u001b[1;32m----> 1\u001b[0m \u001b[38;5;28;01mfor\u001b[39;00m i \u001b[38;5;129;01min\u001b[39;00m \u001b[38;5;28mrange\u001b[39m(\u001b[38;5;28mlen\u001b[39m(\u001b[43mdata\u001b[49m\u001b[38;5;241m.\u001b[39mprice)):\n\u001b[0;32m      2\u001b[0m   \u001b[38;5;28;01mif\u001b[39;00m i \u001b[38;5;241m==\u001b[39m \u001b[38;5;241m0\u001b[39m :\n\u001b[0;32m      3\u001b[0m     data[\u001b[38;5;124m'\u001b[39m\u001b[38;5;124mdiff\u001b[39m\u001b[38;5;124m'\u001b[39m]\u001b[38;5;241m.\u001b[39miloc[\u001b[38;5;241m0\u001b[39m] \u001b[38;5;241m=\u001b[39m np\u001b[38;5;241m.\u001b[39mnan\n",
      "\u001b[1;31mNameError\u001b[0m: name 'data' is not defined"
     ]
    }
   ],
   "source": [
    "\n",
    "for i in range(len(data.price)):\n",
    "  if i == 0 :\n",
    "    data['diff'].iloc[0] = np.nan\n",
    "  else:\n",
    "    data['diff'].iloc[i] = data.price.iloc[i]-data.price.iloc[i-1] # diff 의 1행은 price 1행 - 0 행 이다. "
   ]
  },
  {
   "cell_type": "code",
   "execution_count": 74,
   "id": "2ca213a9-c1a3-45b7-a98b-f1ee33937f4e",
   "metadata": {},
   "outputs": [],
   "source": [
    "li=['A', 'B', 'C'] # list 라하면 큰일 남 del list 해야함 "
   ]
  },
  {
   "cell_type": "code",
   "execution_count": 68,
   "id": "31f643b6-1ce7-40cd-ae8f-5c20f16ccc4b",
   "metadata": {},
   "outputs": [
    {
     "data": {
      "text/plain": [
       "{0: 'A', 1: 'B', 2: 'C'}"
      ]
     },
     "execution_count": 68,
     "metadata": {},
     "output_type": "execute_result"
    }
   ],
   "source": [
    "d={}\n",
    "for i,j in enumerate(li):\n",
    "    d[i]=j\n",
    "d    "
   ]
  },
  {
   "cell_type": "code",
   "execution_count": 69,
   "id": "ffcd59d2-b6bd-40f4-a7f2-aceb85e8c676",
   "metadata": {},
   "outputs": [
    {
     "data": {
      "text/plain": [
       "{'A': 0, 'B': 1, 'C': 2}"
      ]
     },
     "execution_count": 69,
     "metadata": {},
     "output_type": "execute_result"
    }
   ],
   "source": [
    "d={}\n",
    "for i,j in enumerate(li):\n",
    "    d[j]=i\n",
    "d    "
   ]
  },
  {
   "cell_type": "code",
   "execution_count": 72,
   "id": "c7ca222f-151f-47bf-97e7-fc81205a5f2b",
   "metadata": {},
   "outputs": [
    {
     "data": {
      "text/plain": [
       "[0, 2, 4, 6]"
      ]
     },
     "execution_count": 72,
     "metadata": {},
     "output_type": "execute_result"
    }
   ],
   "source": [
    "li=[1,2,3,4]\n",
    "li1=[]\n",
    "for i in range(len(li)):\n",
    "    li1.append(i*2)\n",
    "li1    "
   ]
  },
  {
   "cell_type": "code",
   "execution_count": 73,
   "id": "0a27d785-bbad-43dd-b648-d7d0a9fa88b3",
   "metadata": {},
   "outputs": [
    {
     "data": {
      "text/plain": [
       "[0, 2, 4, 6]"
      ]
     },
     "execution_count": 73,
     "metadata": {},
     "output_type": "execute_result"
    }
   ],
   "source": [
    "[i*2 for i in range(len(li))]# 리스트 컴플리션"
   ]
  },
  {
   "cell_type": "code",
   "execution_count": 76,
   "id": "62f31d61-d61f-4acf-8eaf-06425b0df92e",
   "metadata": {},
   "outputs": [
    {
     "data": {
      "text/plain": [
       "{'A': 0, 'B': 1, 'C': 2}"
      ]
     },
     "execution_count": 76,
     "metadata": {},
     "output_type": "execute_result"
    }
   ],
   "source": [
    "{i:j for i, j in enumerate(li)}\n",
    "d"
   ]
  },
  {
   "cell_type": "code",
   "execution_count": 77,
   "id": "ee2ecccb-d2cf-45a9-9053-0bde6e823a4f",
   "metadata": {},
   "outputs": [
    {
     "name": "stdout",
     "output_type": "stream",
     "text": [
      "2,  4,  6,  8,  10,  12,  14,  16,  18,  3,  6,  9,  12,  15,  18,  21,  24,  27,  4,  8,  12,  16,  20,  24,  28,  32,  36,  5,  10,  15,  20,  25,  30,  35,  40,  45,  6,  12,  18,  24,  30,  36,  42,  48,  54,  7,  14,  21,  28,  35,  42,  49,  56,  63,  8,  16,  24,  32,  40,  48,  56,  64,  72,  9,  18,  27,  36,  45,  54,  63,  72,  81,  "
     ]
    }
   ],
   "source": [
    "for i in range(2,10):\n",
    "    for j in range(1,10):\n",
    "        print(i*j, end=\",  \")"
   ]
  },
  {
   "cell_type": "code",
   "execution_count": 296,
   "id": "36204486-c2e5-45d8-8da6-b91979724b84",
   "metadata": {
    "tags": []
   },
   "outputs": [
    {
     "ename": "SyntaxError",
     "evalue": "invalid syntax (1827202273.py, line 1)",
     "output_type": "error",
     "traceback": [
      "\u001b[1;36m  Input \u001b[1;32mIn [296]\u001b[1;36m\u001b[0m\n\u001b[1;33m    [i*j, end=\"  \"  for i in range(2,10)  for j in range(1,10)] # 중첩리스트 표현\u001b[0m\n\u001b[1;37m             ^\u001b[0m\n\u001b[1;31mSyntaxError\u001b[0m\u001b[1;31m:\u001b[0m invalid syntax\n"
     ]
    }
   ],
   "source": [
    "[i*j, for i in range(2,10)  for j in range(1,10)] # 중첩리스트 표현"
   ]
  },
  {
   "cell_type": "code",
   "execution_count": 83,
   "id": "d3819af5-3905-4a76-a1a1-45782142defb",
   "metadata": {},
   "outputs": [
    {
     "name": "stdout",
     "output_type": "stream",
     "text": [
      "2,  4,  6,  8,  3,  6,  9,  4,  8,  5,  6,  7,  8,  9,  "
     ]
    }
   ],
   "source": [
    "for i in range(2,10):\n",
    "    for j in range(1,10):\n",
    "        if i*j<10:\n",
    "            print(i*j, end=\",  \")"
   ]
  },
  {
   "cell_type": "code",
   "execution_count": 84,
   "id": "26b59c04-d551-4f92-8cf4-6929e8a54f20",
   "metadata": {},
   "outputs": [
    {
     "data": {
      "text/plain": [
       "[2, 4, 6, 8, 3, 6, 9, 4, 8, 5, 6, 7, 8, 9]"
      ]
     },
     "execution_count": 84,
     "metadata": {},
     "output_type": "execute_result"
    }
   ],
   "source": [
    "[i*j  for i in range(2,10)  for j in range(1,10) if i*j<10] # 중첩리스트 표현"
   ]
  },
  {
   "cell_type": "code",
   "execution_count": 297,
   "id": "05a59f07-f8a8-4e58-b22d-04774d10a8b4",
   "metadata": {},
   "outputs": [
    {
     "data": {
      "text/plain": [
       "[2,\n",
       " 4,\n",
       " 6,\n",
       " 8,\n",
       " 10,\n",
       " 12,\n",
       " 14,\n",
       " 16,\n",
       " 18,\n",
       " 6,\n",
       " 12,\n",
       " 18,\n",
       " 24,\n",
       " 4,\n",
       " 8,\n",
       " 12,\n",
       " 16,\n",
       " 20,\n",
       " 24,\n",
       " 28,\n",
       " 32,\n",
       " 36,\n",
       " 10,\n",
       " 20,\n",
       " 30,\n",
       " 40,\n",
       " 6,\n",
       " 12,\n",
       " 18,\n",
       " 24,\n",
       " 30,\n",
       " 36,\n",
       " 42,\n",
       " 48,\n",
       " 54,\n",
       " 14,\n",
       " 28,\n",
       " 42,\n",
       " 56,\n",
       " 8,\n",
       " 16,\n",
       " 24,\n",
       " 32,\n",
       " 40,\n",
       " 48,\n",
       " 56,\n",
       " 64,\n",
       " 72,\n",
       " 18,\n",
       " 36,\n",
       " 54,\n",
       " 72]"
      ]
     },
     "execution_count": 297,
     "metadata": {},
     "output_type": "execute_result"
    }
   ],
   "source": [
    "[i*j  for i in range(2,10)  for j in range(1,10) if i*j%2==0]"
   ]
  },
  {
   "cell_type": "code",
   "execution_count": 85,
   "id": "02730b52-9e96-4efc-9344-b1a3d99b5a66",
   "metadata": {},
   "outputs": [],
   "source": [
    "# 예약어 def 디파인 \n",
    "# 바깥에 있는 함수 쓸려면 global 함수 씀 "
   ]
  },
  {
   "cell_type": "code",
   "execution_count": 86,
   "id": "f3ce3590-3ff2-46f0-943b-0d79cbe6d631",
   "metadata": {},
   "outputs": [],
   "source": [
    "# map(함수이름 , 리스트) 함수도 객체가 될 수 있다. \n",
    "# 제너레이터 만드믄 방법\n",
    "# 함수를 만드는 것이랑 똑같지만 yield를 씀 \n",
    "# 실행되지 않고 for 문안에서 작동 \n"
   ]
  },
  {
   "cell_type": "code",
   "execution_count": 87,
   "id": "b24668e8-9af9-41a1-8914-601a922d91f3",
   "metadata": {},
   "outputs": [
    {
     "data": {
      "text/plain": [
       "[]"
      ]
     },
     "execution_count": 87,
     "metadata": {},
     "output_type": "execute_result"
    }
   ],
   "source": [
    "list()"
   ]
  },
  {
   "cell_type": "code",
   "execution_count": 88,
   "id": "c5bfdaa6-8fe7-4d76-bb94-530c2001962b",
   "metadata": {},
   "outputs": [
    {
     "data": {
      "text/plain": [
       "{}"
      ]
     },
     "execution_count": 88,
     "metadata": {},
     "output_type": "execute_result"
    }
   ],
   "source": [
    "dict()"
   ]
  },
  {
   "cell_type": "code",
   "execution_count": 89,
   "id": "004e7e40-2c95-4f27-b23e-a20f26a5eae1",
   "metadata": {},
   "outputs": [
    {
     "data": {
      "text/plain": [
       "set()"
      ]
     },
     "execution_count": 89,
     "metadata": {},
     "output_type": "execute_result"
    }
   ],
   "source": [
    "set()"
   ]
  },
  {
   "cell_type": "code",
   "execution_count": 90,
   "id": "b75a3e1a-1808-4a9a-b638-705f2fe04a9b",
   "metadata": {},
   "outputs": [
    {
     "data": {
      "text/plain": [
       "()"
      ]
     },
     "execution_count": 90,
     "metadata": {},
     "output_type": "execute_result"
    }
   ],
   "source": [
    "tuple()"
   ]
  },
  {
   "cell_type": "code",
   "execution_count": 104,
   "id": "a72d2b74-297c-4383-b5e7-c2977e3f38eb",
   "metadata": {},
   "outputs": [
    {
     "ename": "SyntaxError",
     "evalue": "invalid syntax (4215233445.py, line 1)",
     "output_type": "error",
     "traceback": [
      "\u001b[1;36m  Input \u001b[1;32mIn [104]\u001b[1;36m\u001b[0m\n\u001b[1;33m    list [].append\u001b[0m\n\u001b[1;37m          ^\u001b[0m\n\u001b[1;31mSyntaxError\u001b[0m\u001b[1;31m:\u001b[0m invalid syntax\n"
     ]
    }
   ],
   "source": [
    "list [].append\n",
    "dict {:} d['i']=j\n",
    "set {}.add()   # 만드는 기호 씀 \n",
    "tupe (, )#  튜플은 수정이 안됨 제너레이터 만듬 "
   ]
  },
  {
   "cell_type": "code",
   "execution_count": 103,
   "id": "314b8b52-c05d-47a1-b426-76e5e4c3f8d9",
   "metadata": {},
   "outputs": [
    {
     "data": {
      "text/plain": [
       "{'a': '라면', 'b': '김치'}"
      ]
     },
     "execution_count": 103,
     "metadata": {},
     "output_type": "execute_result"
    }
   ],
   "source": [
    "{'a':'라면', 'b':'김치'}"
   ]
  },
  {
   "cell_type": "code",
   "execution_count": 105,
   "id": "aba7de64-daf4-44ce-842f-c522951aca24",
   "metadata": {},
   "outputs": [
    {
     "data": {
      "text/plain": [
       "[0, 1, 4, 9, 16, 25, 36, 49, 64, 81]"
      ]
     },
     "execution_count": 105,
     "metadata": {},
     "output_type": "execute_result"
    }
   ],
   "source": [
    "[x**2 for x in range(10)]"
   ]
  },
  {
   "cell_type": "code",
   "execution_count": 107,
   "id": "e7ab375f-ccf8-4a72-9e67-c345f0f7afa3",
   "metadata": {},
   "outputs": [
    {
     "data": {
      "text/plain": [
       "<generator object <genexpr> at 0x0000014F71B3CA50>"
      ]
     },
     "execution_count": 107,
     "metadata": {},
     "output_type": "execute_result"
    }
   ],
   "source": [
    "(x**2 for x in range(10)) # 제너레이터 만들면 출력안함 메모리 덜씀 "
   ]
  },
  {
   "cell_type": "code",
   "execution_count": 109,
   "id": "7bf380b0-6e0f-4873-a662-ed100d994154",
   "metadata": {},
   "outputs": [
    {
     "name": "stdout",
     "output_type": "stream",
     "text": [
      "0\n",
      "1\n",
      "4\n",
      "9\n",
      "16\n",
      "25\n",
      "36\n",
      "49\n",
      "64\n",
      "81\n"
     ]
    }
   ],
   "source": [
    "for i in (x**2 for x in range(10)):\n",
    "    print(i)"
   ]
  },
  {
   "cell_type": "code",
   "execution_count": 110,
   "id": "bb2ff124-7569-43b7-b046-2ae3a8d271ec",
   "metadata": {},
   "outputs": [
    {
     "name": "stdout",
     "output_type": "stream",
     "text": [
      "0\n",
      "1\n",
      "4\n",
      "9\n",
      "16\n",
      "25\n",
      "36\n",
      "49\n",
      "64\n",
      "81\n"
     ]
    }
   ],
   "source": [
    "g =(x**2 for x in range(10)) \n",
    "for i in g:\n",
    "    print(i)"
   ]
  },
  {
   "cell_type": "markdown",
   "id": "bebdaf21-e2f4-496f-95fa-9f25aaea2f44",
   "metadata": {},
   "source": [
    "# numpy\n"
   ]
  },
  {
   "cell_type": "code",
   "execution_count": null,
   "id": "884db1b4-aeda-4d8f-bedd-5b3369732cdb",
   "metadata": {},
   "outputs": [],
   "source": [
    "# 엘리멘트 와이즈 원소별로 더해짐 \n",
    "import numpy as np\n"
   ]
  },
  {
   "cell_type": "code",
   "execution_count": 299,
   "id": "e1f5c458-1c44-4412-94c8-023abccfeb26",
   "metadata": {},
   "outputs": [
    {
     "data": {
      "text/plain": [
       "array([[[ 1,  2,  3],\n",
       "        [ 4,  5,  6]],\n",
       "\n",
       "       [[ 7,  8,  9],\n",
       "        [10, 11, 12]]])"
      ]
     },
     "execution_count": 299,
     "metadata": {},
     "output_type": "execute_result"
    }
   ],
   "source": [
    "a= np.arange(1,13).reshape(2,2,3) # 2장인데 왜 3차원인지? 처음에 크게 두개 나누고 그다음 행나누고 그다음 열로 3개나누니 3차원 \n",
    "a"
   ]
  },
  {
   "cell_type": "code",
   "execution_count": 301,
   "id": "e49841a6-1007-4daa-8221-4b3a0d70d566",
   "metadata": {},
   "outputs": [
    {
     "data": {
      "text/plain": [
       "array([[[ 1,  2,  3],\n",
       "        [ 4,  5,  6]],\n",
       "\n",
       "       [[ 0,  0,  0],\n",
       "        [10, 11, 12]]])"
      ]
     },
     "execution_count": 301,
     "metadata": {},
     "output_type": "execute_result"
    }
   ],
   "source": [
    "a[1,0]=0\n",
    "a"
   ]
  },
  {
   "cell_type": "code",
   "execution_count": 276,
   "id": "480c4b9f-9119-4091-a214-6791b13e0c80",
   "metadata": {},
   "outputs": [
    {
     "data": {
      "text/plain": [
       "1"
      ]
     },
     "execution_count": 276,
     "metadata": {},
     "output_type": "execute_result"
    }
   ],
   "source": [
    "a[0,0,0]"
   ]
  },
  {
   "cell_type": "code",
   "execution_count": 117,
   "id": "92928beb-be8e-43dd-b073-f94345edf0e0",
   "metadata": {},
   "outputs": [
    {
     "data": {
      "text/plain": [
       "array([10, 11, 12])"
      ]
     },
     "execution_count": 117,
     "metadata": {},
     "output_type": "execute_result"
    }
   ],
   "source": [
    "a[1,1] #2번째장에서 2번째 행 zyx         #2. 왜 여기서는 1,1행이 아닌지? 처음에는 큰 틀인 장을 찾고 두번쨰로는 행을 찾는것이다. "
   ]
  },
  {
   "cell_type": "code",
   "execution_count": 277,
   "id": "8d86635c-f861-4e47-9883-de3b8deed678",
   "metadata": {
    "tags": []
   },
   "outputs": [
    {
     "data": {
      "text/plain": [
       "12"
      ]
     },
     "execution_count": 277,
     "metadata": {},
     "output_type": "execute_result"
    }
   ],
   "source": [
    "a[1,1][2]"
   ]
  },
  {
   "cell_type": "code",
   "execution_count": 278,
   "id": "03643b0f-2c22-4e3c-9079-053b90cc1e25",
   "metadata": {},
   "outputs": [
    {
     "data": {
      "text/plain": [
       "12"
      ]
     },
     "execution_count": 278,
     "metadata": {},
     "output_type": "execute_result"
    }
   ],
   "source": [
    "a[1,1,2]"
   ]
  },
  {
   "cell_type": "code",
   "execution_count": 119,
   "id": "ce53e5d8-981f-4cf9-8c5c-c8003e5ebe27",
   "metadata": {},
   "outputs": [
    {
     "data": {
      "text/plain": [
       "array([[[ 1,  2,  3],\n",
       "        [ 4,  5,  6]],\n",
       "\n",
       "       [[ 7,  8,  9],\n",
       "        [10, 11, 12]]])"
      ]
     },
     "execution_count": 119,
     "metadata": {},
     "output_type": "execute_result"
    }
   ],
   "source": [
    "a"
   ]
  },
  {
   "cell_type": "code",
   "execution_count": 120,
   "id": "8fdf61b1-d27c-4328-891e-36037d65d008",
   "metadata": {},
   "outputs": [
    {
     "data": {
      "text/plain": [
       "array([[10, 11, 12]])"
      ]
     },
     "execution_count": 120,
     "metadata": {},
     "output_type": "execute_result"
    }
   ],
   "source": [
    "b=a[1,1:]\n",
    "b"
   ]
  },
  {
   "cell_type": "code",
   "execution_count": 123,
   "id": "a7f9ef6a-3da0-44a5-838a-80279837a3ff",
   "metadata": {},
   "outputs": [
    {
     "data": {
      "text/plain": [
       "array([[100, 100, 100]])"
      ]
     },
     "execution_count": 123,
     "metadata": {},
     "output_type": "execute_result"
    }
   ],
   "source": [
    "b[0]=100 # 0헹이 100     0행은  10, 11, 12가 있으니 그 전체가 다 바뀜 "
   ]
  },
  {
   "cell_type": "code",
   "execution_count": 124,
   "id": "bd5b3aad-6a8f-4c66-bb2e-d8f4846f73d5",
   "metadata": {},
   "outputs": [
    {
     "data": {
      "text/plain": [
       "array([[[  1,   2,   3],\n",
       "        [  4,   5,   6]],\n",
       "\n",
       "       [[  7,   8,   9],\n",
       "        [100, 100, 100]]])"
      ]
     },
     "execution_count": 124,
     "metadata": {},
     "output_type": "execute_result"
    }
   ],
   "source": [
    "a"
   ]
  },
  {
   "cell_type": "code",
   "execution_count": 130,
   "id": "e5efddc2-32e2-4d1c-b152-b188e521b009",
   "metadata": {},
   "outputs": [
    {
     "ename": "TypeError",
     "evalue": "can only concatenate list (not \"int\") to list",
     "output_type": "error",
     "traceback": [
      "\u001b[1;31m---------------------------------------------------------------------------\u001b[0m",
      "\u001b[1;31mTypeError\u001b[0m                                 Traceback (most recent call last)",
      "Input \u001b[1;32mIn [130]\u001b[0m, in \u001b[0;36m<cell line: 4>\u001b[1;34m()\u001b[0m\n\u001b[0;32m      4\u001b[0m \u001b[38;5;28;01mfor\u001b[39;00m i \u001b[38;5;129;01min\u001b[39;00m \u001b[38;5;28mrange\u001b[39m(\u001b[38;5;241m1\u001b[39m,\u001b[38;5;241m4\u001b[39m):\n\u001b[0;32m      5\u001b[0m     i\u001b[38;5;241m+\u001b[39m\u001b[38;5;241m=\u001b[39m\u001b[38;5;241m1\u001b[39m\n\u001b[1;32m----> 6\u001b[0m     array \u001b[38;5;241m=\u001b[39mnp\u001b[38;5;241m.\u001b[39mvstack((array, \u001b[43ma\u001b[49m\u001b[38;5;241;43m*\u001b[39;49m\u001b[43mi\u001b[49m\u001b[38;5;241;43m+\u001b[39;49m\u001b[38;5;241;43m1\u001b[39;49m))\n\u001b[0;32m      7\u001b[0m array\n",
      "\u001b[1;31mTypeError\u001b[0m: can only concatenate list (not \"int\") to list"
     ]
    }
   ],
   "source": [
    "import numpy as np\n",
    "a= [1,1,1,1]\n",
    "array = a.copy()\n",
    "for i in range(1,4):\n",
    "    i+=1\n",
    "    array =np.vstack((array, a*i+1))\n",
    "array    "
   ]
  },
  {
   "cell_type": "code",
   "execution_count": 304,
   "id": "9e9123fa-07f6-4874-80f5-8791376caaf2",
   "metadata": {
    "tags": []
   },
   "outputs": [
    {
     "data": {
      "text/plain": [
       "array([[0., 0., 0., 0.],\n",
       "       [1., 1., 1., 1.],\n",
       "       [2., 2., 2., 2.],\n",
       "       [3., 3., 3., 3.],\n",
       "       [4., 4., 4., 4.],\n",
       "       [5., 5., 5., 5.],\n",
       "       [6., 6., 6., 6.],\n",
       "       [7., 7., 7., 7.]])"
      ]
     },
     "execution_count": 304,
     "metadata": {},
     "output_type": "execute_result"
    }
   ],
   "source": [
    "arr=np.empty((8,4))\n",
    "for i in range(8):\n",
    "    arr[i]=i # 0행은 0이다. \n",
    "arr    "
   ]
  },
  {
   "cell_type": "code",
   "execution_count": 309,
   "id": "a6ab0ee4-ee1b-4265-9730-3371a1c4853a",
   "metadata": {},
   "outputs": [
    {
     "data": {
      "text/plain": [
       "array([[0., 0., 0., 0.],\n",
       "       [1., 1., 1., 1.],\n",
       "       [2., 2., 2., 2.],\n",
       "       [3., 3., 3., 3.],\n",
       "       [4., 4., 4., 4.],\n",
       "       [5., 5., 5., 5.],\n",
       "       [6., 6., 6., 6.],\n",
       "       [7., 7., 7., 7.]])"
      ]
     },
     "execution_count": 309,
     "metadata": {},
     "output_type": "execute_result"
    }
   ],
   "source": [
    "np.empty((8,4)) # 아무거나 넣음\n"
   ]
  },
  {
   "cell_type": "code",
   "execution_count": 131,
   "id": "bd05c1e0-f4c9-4041-9cd7-26b5c15328e1",
   "metadata": {},
   "outputs": [
    {
     "data": {
      "text/plain": [
       "array([[0, 0, 0, 0],\n",
       "       [1, 1, 1, 1],\n",
       "       [2, 2, 2, 2],\n",
       "       [3, 3, 3, 3],\n",
       "       [4, 4, 4, 4],\n",
       "       [5, 5, 5, 5],\n",
       "       [6, 6, 6, 6],\n",
       "       [7, 7, 7, 7]])"
      ]
     },
     "execution_count": 131,
     "metadata": {},
     "output_type": "execute_result"
    }
   ],
   "source": [
    "np.arange(8).reshape(8,-1) * np.array([1,1,1,1]) \n"
   ]
  },
  {
   "cell_type": "code",
   "execution_count": 132,
   "id": "1d826246-d113-4bd3-b486-8171b45e25f3",
   "metadata": {},
   "outputs": [
    {
     "data": {
      "text/plain": [
       "array([[0., 0., 0., 0.],\n",
       "       [1., 1., 1., 1.],\n",
       "       [2., 2., 2., 2.],\n",
       "       [3., 3., 3., 3.],\n",
       "       [4., 4., 4., 4.],\n",
       "       [5., 5., 5., 5.],\n",
       "       [6., 6., 6., 6.],\n",
       "       [7., 7., 7., 7.]])"
      ]
     },
     "execution_count": 132,
     "metadata": {},
     "output_type": "execute_result"
    }
   ],
   "source": [
    "np.zeros(4) + np.arange(8).reshape(8,1) \n"
   ]
  },
  {
   "cell_type": "code",
   "execution_count": 137,
   "id": "d3c55165-f931-4c9c-a5d7-8b386cc23450",
   "metadata": {},
   "outputs": [],
   "source": [
    "arr=np.array([0,0,0,0] + np.arange(8).reshape(8,-1)) \n"
   ]
  },
  {
   "cell_type": "code",
   "execution_count": 134,
   "id": "10d74a43-0e1e-40f9-bae1-3246b0b3fa1d",
   "metadata": {},
   "outputs": [
    {
     "data": {
      "text/plain": [
       "array([0, 1, 2, 3, 4, 5, 6, 7])"
      ]
     },
     "execution_count": 134,
     "metadata": {},
     "output_type": "execute_result"
    }
   ],
   "source": [
    "np.arange(8)"
   ]
  },
  {
   "cell_type": "code",
   "execution_count": 136,
   "id": "6ebb756b-0b47-4926-9092-1c016eb410fc",
   "metadata": {},
   "outputs": [
    {
     "data": {
      "text/plain": [
       "array([[0],\n",
       "       [1],\n",
       "       [2],\n",
       "       [3],\n",
       "       [4],\n",
       "       [5],\n",
       "       [6],\n",
       "       [7]])"
      ]
     },
     "execution_count": 136,
     "metadata": {},
     "output_type": "execute_result"
    }
   ],
   "source": [
    " np.arange(8).reshape(8,-1)"
   ]
  },
  {
   "cell_type": "code",
   "execution_count": 139,
   "id": "5b1f1b7b-78c1-4ca4-925d-51dbf108a820",
   "metadata": {},
   "outputs": [
    {
     "data": {
      "text/plain": [
       "array([[4, 4, 4, 4],\n",
       "       [3, 3, 3, 3],\n",
       "       [0, 0, 0, 0],\n",
       "       [6, 6, 6, 6]])"
      ]
     },
     "execution_count": 139,
     "metadata": {},
     "output_type": "execute_result"
    }
   ],
   "source": [
    "arr[[4,3,0,6]] #순서를 말함 "
   ]
  },
  {
   "cell_type": "code",
   "execution_count": 141,
   "id": "8dcdb0a6-e33a-49f3-b882-506e6f325202",
   "metadata": {},
   "outputs": [
    {
     "data": {
      "text/plain": [
       "array([0, 1, 2])"
      ]
     },
     "execution_count": 141,
     "metadata": {},
     "output_type": "execute_result"
    }
   ],
   "source": [
    "arr[[0,1,2], [1,2,3]] # 대각선으로 표현 "
   ]
  },
  {
   "cell_type": "code",
   "execution_count": 245,
   "id": "92b35e8e-cb19-4ed4-91f0-0785df348d17",
   "metadata": {},
   "outputs": [
    {
     "data": {
      "text/plain": [
       "array([[ 1,  2,  3,  4],\n",
       "       [ 5,  6,  7,  8],\n",
       "       [ 9, 10, 11, 12],\n",
       "       [13, 14, 15, 16]])"
      ]
     },
     "execution_count": 245,
     "metadata": {},
     "output_type": "execute_result"
    }
   ],
   "source": [
    "a=np.arange(1,17).reshape(4,4)\n",
    "a"
   ]
  },
  {
   "cell_type": "code",
   "execution_count": 145,
   "id": "d1e1e7bd-9c5a-4aeb-be9b-bfc7dfca6ed9",
   "metadata": {},
   "outputs": [
    {
     "data": {
      "text/plain": [
       "array([[ 1.,  2.,  3.,  4.],\n",
       "       [ 5.,  6.,  7.,  8.],\n",
       "       [ 9., 10., 11., 12.],\n",
       "       [13., 14., 15., 16.]])"
      ]
     },
     "execution_count": 145,
     "metadata": {},
     "output_type": "execute_result"
    }
   ],
   "source": [
    "np.sqrt(a**2)"
   ]
  },
  {
   "cell_type": "code",
   "execution_count": 146,
   "id": "2a5ac293-8429-41dd-a68c-539c8449d1aa",
   "metadata": {},
   "outputs": [
    {
     "ename": "ValueError",
     "evalue": "cannot reshape array of size 0 into shape (4,4)",
     "output_type": "error",
     "traceback": [
      "\u001b[1;31m---------------------------------------------------------------------------\u001b[0m",
      "\u001b[1;31mValueError\u001b[0m                                Traceback (most recent call last)",
      "Input \u001b[1;32mIn [146]\u001b[0m, in \u001b[0;36m<cell line: 1>\u001b[1;34m()\u001b[0m\n\u001b[1;32m----> 1\u001b[0m b\u001b[38;5;241m=\u001b[39m\u001b[43mnp\u001b[49m\u001b[38;5;241;43m.\u001b[39;49m\u001b[43marange\u001b[49m\u001b[43m(\u001b[49m\u001b[38;5;241;43m1\u001b[39;49m\u001b[43m,\u001b[49m\u001b[38;5;241;43m17\u001b[39;49m\u001b[43m,\u001b[49m\u001b[43m \u001b[49m\u001b[38;5;241;43m-\u001b[39;49m\u001b[38;5;241;43m1\u001b[39;49m\u001b[43m)\u001b[49m\u001b[38;5;241;43m.\u001b[39;49m\u001b[43mreshape\u001b[49m\u001b[43m(\u001b[49m\u001b[38;5;241;43m4\u001b[39;49m\u001b[43m,\u001b[49m\u001b[38;5;241;43m4\u001b[39;49m\u001b[43m)\u001b[49m\n",
      "\u001b[1;31mValueError\u001b[0m: cannot reshape array of size 0 into shape (4,4)"
     ]
    }
   ],
   "source": [
    "b=np.arange(1,17, -1).reshape(4,4)\n"
   ]
  },
  {
   "cell_type": "code",
   "execution_count": 244,
   "id": "eb488704-486c-45ae-bf2e-5e912aa241db",
   "metadata": {},
   "outputs": [],
   "source": [
    "b=np.arange(16,0,-1).reshape(4,4) \n"
   ]
  },
  {
   "cell_type": "code",
   "execution_count": 148,
   "id": "e26b5825-e6dc-4565-adb3-e5722bfff4cb",
   "metadata": {},
   "outputs": [
    {
     "data": {
      "text/plain": [
       "array([[13, 14, 15, 16],\n",
       "       [ 9, 10, 11, 12],\n",
       "       [ 5,  6,  7,  8],\n",
       "       [ 1,  2,  3,  4]])"
      ]
     },
     "execution_count": 148,
     "metadata": {},
     "output_type": "execute_result"
    }
   ],
   "source": [
    "b=np.arange(1,17).reshape(4,4)[::-1]\n",
    "b \n"
   ]
  },
  {
   "cell_type": "code",
   "execution_count": 246,
   "id": "f7fdd32a-9b0f-4d10-b7b8-f0e318992f5d",
   "metadata": {},
   "outputs": [
    {
     "name": "stdout",
     "output_type": "stream",
     "text": [
      "[[ 1  2  3  4]\n",
      " [ 5  6  7  8]\n",
      " [ 9 10 11 12]\n",
      " [13 14 15 16]]\n",
      "[[16 15 14 13]\n",
      " [12 11 10  9]\n",
      " [ 8  7  6  5]\n",
      " [ 4  3  2  1]]\n"
     ]
    }
   ],
   "source": [
    "print(a)\n",
    "print(b)"
   ]
  },
  {
   "cell_type": "code",
   "execution_count": 151,
   "id": "d831943f-49ad-47d5-88c0-55d5c091754a",
   "metadata": {},
   "outputs": [
    {
     "data": {
      "text/plain": [
       "array([[16, 15, 14, 13],\n",
       "       [12, 11, 10,  9],\n",
       "       [ 9, 10, 11, 12],\n",
       "       [13, 14, 15, 16]])"
      ]
     },
     "execution_count": 151,
     "metadata": {},
     "output_type": "execute_result"
    }
   ],
   "source": [
    "np.maximum(a,b) #각 칸에서 큰수 "
   ]
  },
  {
   "cell_type": "code",
   "execution_count": 153,
   "id": "db95587a-e279-42bc-aec3-e94aa845616f",
   "metadata": {},
   "outputs": [
    {
     "name": "stdout",
     "output_type": "stream",
     "text": [
      "0 0 0 0 0 0 1 2 3 4 5 "
     ]
    }
   ],
   "source": [
    "for x in range(-5,6):\n",
    "     print(np.maximum(0,x), end=\" \") # 음수면 0이 계속크고 양수면 양수가 큼"
   ]
  },
  {
   "cell_type": "code",
   "execution_count": 154,
   "id": "8f8932b8-713e-49ca-a8db-02e1f9d68189",
   "metadata": {},
   "outputs": [
    {
     "data": {
      "text/plain": [
       "(3, 1)"
      ]
     },
     "execution_count": 154,
     "metadata": {},
     "output_type": "execute_result"
    }
   ],
   "source": [
    "divmod(16,5)"
   ]
  },
  {
   "cell_type": "code",
   "execution_count": 253,
   "id": "093414d4-de78-43fa-b22b-03e44b27d356",
   "metadata": {},
   "outputs": [
    {
     "data": {
      "text/plain": [
       "array([-1.01741634])"
      ]
     },
     "execution_count": 253,
     "metadata": {},
     "output_type": "execute_result"
    }
   ],
   "source": [
    "np.random.randn(1) # 평균이 0이고 표준편차가 1인 정규분포를 생성해준다 # 표준편차는 0에 가까울 수록 덜퍼짐 "
   ]
  },
  {
   "cell_type": "code",
   "execution_count": 158,
   "id": "5245e6ef-5747-4713-bb08-c6aaff367d39",
   "metadata": {},
   "outputs": [
    {
     "data": {
      "text/plain": [
       "array([[-0.57278061,  1.01940631, -1.72217982],\n",
       "       [ 0.35594361,  0.43344056, -0.67197428],\n",
       "       [-0.48534732,  0.23586364, -2.26584997]])"
      ]
     },
     "execution_count": 158,
     "metadata": {},
     "output_type": "execute_result"
    }
   ],
   "source": [
    "a=np.random.randn(3,3)\n",
    "a"
   ]
  },
  {
   "cell_type": "code",
   "execution_count": 160,
   "id": "8dd147dc-75c4-481b-a0a1-928b781b6898",
   "metadata": {},
   "outputs": [
    {
     "data": {
      "text/plain": [
       "(array([[-0.57278061,  0.01940631, -0.72217982],\n",
       "        [ 0.35594361,  0.43344056, -0.67197428],\n",
       "        [-0.48534732,  0.23586364, -0.26584997]]),\n",
       " array([[-0.,  1., -1.],\n",
       "        [ 0.,  0., -0.],\n",
       "        [-0.,  0., -2.]]))"
      ]
     },
     "execution_count": 160,
     "metadata": {},
     "output_type": "execute_result"
    }
   ],
   "source": [
    "np.modf(a) # 정수와 소수 나눔 "
   ]
  },
  {
   "cell_type": "code",
   "execution_count": 255,
   "id": "42200576-baf0-4310-8d4f-62ce6838211a",
   "metadata": {},
   "outputs": [
    {
     "data": {
      "text/plain": [
       "[array([[1, 2, 3],\n",
       "        [1, 2, 3],\n",
       "        [1, 2, 3]]),\n",
       " array([[1, 1, 1],\n",
       "        [2, 2, 2],\n",
       "        [3, 3, 3]])]"
      ]
     },
     "execution_count": 255,
     "metadata": {},
     "output_type": "execute_result"
    }
   ],
   "source": [
    "points =np.arange(1,4)\n",
    "np.meshgrid(points, points) # 열로 1,2,3 행으로 1,2,3"
   ]
  },
  {
   "cell_type": "code",
   "execution_count": 163,
   "id": "00170ea2-18a7-42b6-b474-2bd5a1258860",
   "metadata": {},
   "outputs": [
    {
     "data": {
      "text/plain": [
       "array([1, 2, 3])"
      ]
     },
     "execution_count": 163,
     "metadata": {},
     "output_type": "execute_result"
    }
   ],
   "source": [
    "np.arange(1,4)"
   ]
  },
  {
   "cell_type": "code",
   "execution_count": 257,
   "id": "6e8e75bb-e5e2-45d0-9f6e-ee266c6403c9",
   "metadata": {},
   "outputs": [],
   "source": [
    "xs, ys=np.meshgrid(points, points)"
   ]
  },
  {
   "cell_type": "code",
   "execution_count": 258,
   "id": "72ebdfbb-4201-48c5-8cce-a4ec2e2c3e3d",
   "metadata": {
    "tags": []
   },
   "outputs": [
    {
     "data": {
      "text/plain": [
       "array([[1, 2, 3],\n",
       "       [1, 2, 3],\n",
       "       [1, 2, 3]])"
      ]
     },
     "execution_count": 258,
     "metadata": {},
     "output_type": "execute_result"
    }
   ],
   "source": [
    "xs"
   ]
  },
  {
   "cell_type": "code",
   "execution_count": 260,
   "id": "0f724fd1-1dd0-45e6-abdd-7df924f7a875",
   "metadata": {},
   "outputs": [
    {
     "data": {
      "text/plain": [
       "array([[1, 1, 1],\n",
       "       [4, 4, 4],\n",
       "       [9, 9, 9]], dtype=int32)"
      ]
     },
     "execution_count": 260,
     "metadata": {},
     "output_type": "execute_result"
    }
   ],
   "source": [
    "ys**2"
   ]
  },
  {
   "cell_type": "code",
   "execution_count": 166,
   "id": "cdd44219-5884-45fd-9a5d-2d90f21d9b7b",
   "metadata": {
    "tags": []
   },
   "outputs": [
    {
     "data": {
      "text/plain": [
       "array([[ 2,  5, 10],\n",
       "       [ 5,  8, 13],\n",
       "       [10, 13, 18]], dtype=int32)"
      ]
     },
     "execution_count": 166,
     "metadata": {},
     "output_type": "execute_result"
    }
   ],
   "source": [
    "xs**2+ys**2"
   ]
  },
  {
   "cell_type": "code",
   "execution_count": 171,
   "id": "5355fc22-6fd3-480c-8bc1-c40864b59294",
   "metadata": {},
   "outputs": [
    {
     "data": {
      "text/plain": [
       "array([[1.41421356, 2.23606798, 3.16227766],\n",
       "       [2.23606798, 2.82842712, 3.60555128],\n",
       "       [3.16227766, 3.60555128, 4.24264069]])"
      ]
     },
     "execution_count": 171,
     "metadata": {},
     "output_type": "execute_result"
    }
   ],
   "source": [
    "z=np.sqrt(xs**2+ys**2)\n",
    "z"
   ]
  },
  {
   "cell_type": "code",
   "execution_count": 173,
   "id": "1442e3de-5d35-4391-b862-2b73dd2888da",
   "metadata": {},
   "outputs": [
    {
     "data": {
      "text/plain": [
       "<matplotlib.image.AxesImage at 0x14f725e8af0>"
      ]
     },
     "execution_count": 173,
     "metadata": {},
     "output_type": "execute_result"
    },
    {
     "data": {
      "image/png": "[encoded data removed]",
      "text/plain": [
       "<Figure size 432x288 with 1 Axes>"
      ]
     },
     "metadata": {
      "needs_background": "light"
     },
     "output_type": "display_data"
    }
   ],
   "source": [
    "import matplotlib.pyplot as plt \n",
    "plt.imshow(z,cmap= plt.cm.gray)"
   ]
  },
  {
   "cell_type": "code",
   "execution_count": 175,
   "id": "ca747835-1df4-459b-add7-321852dede7a",
   "metadata": {},
   "outputs": [
    {
     "data": {
      "text/plain": [
       "<matplotlib.image.AxesImage at 0x14f73d67ca0>"
      ]
     },
     "execution_count": 175,
     "metadata": {},
     "output_type": "execute_result"
    },
    {
     "data": {
      "image/png": "[encoded data removed]",
      "text/plain": [
       "<Figure size 432x288 with 1 Axes>"
      ]
     },
     "metadata": {
      "needs_background": "light"
     },
     "output_type": "display_data"
    }
   ],
   "source": [
    "points =np.arange(-5,5, 0.01) # -5에서 5까지 0.01씩이동 \n",
    "xs, ys=np.meshgrid(points, points)\n",
    "z=np.sqrt(xs**2+ys**2)\n",
    "plt.imshow(z,cmap= plt.cm.gray)"
   ]
  },
  {
   "cell_type": "code",
   "execution_count": 264,
   "id": "d6348507-2f1d-4e31-86a6-0c94cb3a1eb8",
   "metadata": {},
   "outputs": [
    {
     "data": {
      "text/plain": [
       "3"
      ]
     },
     "execution_count": 264,
     "metadata": {},
     "output_type": "execute_result"
    }
   ],
   "source": [
    "np.random.randint(3,5) #랜덤한 정수 한개 생성 "
   ]
  },
  {
   "cell_type": "code",
   "execution_count": 273,
   "id": "df052bfa-2ff3-4ed2-9464-7edf15b1e88a",
   "metadata": {},
   "outputs": [
    {
     "data": {
      "text/plain": [
       "array([[9, 4, 7],\n",
       "       [3, 3, 3]])"
      ]
     },
     "execution_count": 273,
     "metadata": {},
     "output_type": "execute_result"
    }
   ],
   "source": [
    "np.random.randint(3,10, size=(2,3)) # 2행 3열을 말함 "
   ]
  },
  {
   "cell_type": "code",
   "execution_count": 290,
   "id": "fb670337-5bd2-440f-9691-ff8a429b6b65",
   "metadata": {},
   "outputs": [
    {
     "data": {
      "text/plain": [
       "array([[171.24288045, 173.24955094, 177.42506948],\n",
       "       [167.71943413, 163.06410914, 171.50941451]])"
      ]
     },
     "execution_count": 290,
     "metadata": {},
     "output_type": "execute_result"
    }
   ],
   "source": [
    "a = np.random.normal(173,5, (2,3))\n",
    "a"
   ]
  },
  {
   "cell_type": "code",
   "execution_count": 291,
   "id": "cce001f2-075f-497d-873c-64df595a9802",
   "metadata": {},
   "outputs": [
    {
     "data": {
      "text/plain": [
       "array([[-0.35142391,  0.04991019,  0.8850139 ],\n",
       "       [-1.05611317, -1.98717817, -0.2981171 ]])"
      ]
     },
     "execution_count": 291,
     "metadata": {},
     "output_type": "execute_result"
    }
   ],
   "source": [
    "(a - 173)/5"
   ]
  },
  {
   "cell_type": "code",
   "execution_count": 294,
   "id": "aae9645d-72f4-4f0b-9229-0301d43f18be",
   "metadata": {},
   "outputs": [
    {
     "data": {
      "text/plain": [
       "array([[ 0.72099669,  1.01892213,  1.76904899],\n",
       "       [-1.04447866,  0.97735826,  0.64756273]])"
      ]
     },
     "execution_count": 294,
     "metadata": {},
     "output_type": "execute_result"
    }
   ],
   "source": [
    "b = np.random.randn(2,3)\n",
    "b"
   ]
  },
  {
   "cell_type": "code",
   "execution_count": 295,
   "id": "12fc0360-c721-4fbd-9557-3c207661d571",
   "metadata": {},
   "outputs": [
    {
     "data": {
      "text/plain": [
       "array([[176.60498346, 178.09461063, 181.84524497],\n",
       "       [167.77760668, 177.8867913 , 176.23781365]])"
      ]
     },
     "execution_count": 295,
     "metadata": {},
     "output_type": "execute_result"
    }
   ],
   "source": [
    "np.random.randn(2,3)*5 + 173"
   ]
  },
  {
   "cell_type": "code",
   "execution_count": 178,
   "id": "5a2cbe3a-f109-429f-8ce5-b4441b56ce7d",
   "metadata": {},
   "outputs": [
    {
     "data": {
      "text/plain": [
       "array([[ 0.46221098,  0.20180254, -0.47919374],\n",
       "       [-2.24947262,  1.18481613, -0.65751911]])"
      ]
     },
     "execution_count": 178,
     "metadata": {},
     "output_type": "execute_result"
    }
   ],
   "source": [
    "np.random.randn(2,3)"
   ]
  },
  {
   "cell_type": "code",
   "execution_count": 235,
   "id": "1ca79f0b-623d-46ca-a742-666d13925d88",
   "metadata": {},
   "outputs": [
    {
     "data": {
      "text/plain": [
       "array([[ 0.09360169,  0.30087522,  1.1949769 ],\n",
       "       [-2.76597859,  0.08431945,  0.58921154]])"
      ]
     },
     "execution_count": 235,
     "metadata": {},
     "output_type": "execute_result"
    }
   ],
   "source": [
    "(np.random.normal(172, 3, (2,3)) -172)/3 # 이게 뭔뜻인디? # 평균172 표준편차 3 2행 3열 -172하고 3으로 나눔 "
   ]
  },
  {
   "cell_type": "code",
   "execution_count": 233,
   "id": "ec33d6ce-1a4e-4fdf-a259-ec814f53b460",
   "metadata": {},
   "outputs": [
    {
     "data": {
      "text/plain": [
       "array([[177.60347516, 170.54256185, 167.07618771],\n",
       "       [171.60600078, 167.08051159, 172.66420578]])"
      ]
     },
     "execution_count": 233,
     "metadata": {},
     "output_type": "execute_result"
    }
   ],
   "source": [
    "np.random.randn(2,3)*3+172 #2행 3열 표준편차 1이니 *3을하고 +172를 해준다. "
   ]
  },
  {
   "cell_type": "code",
   "execution_count": 192,
   "id": "aa2d0125-7860-4cd6-bc4c-d7c7496da741",
   "metadata": {},
   "outputs": [
    {
     "data": {
      "text/plain": [
       "array([[0.07212028, 0.15488952, 0.8397983 ],\n",
       "       [0.96575306, 0.3518853 , 0.43707492]])"
      ]
     },
     "execution_count": 192,
     "metadata": {},
     "output_type": "execute_result"
    }
   ],
   "source": [
    "np.random.uniform( size= (2, 3) ) # 균등분포함수를 만듬 "
   ]
  },
  {
   "cell_type": "code",
   "execution_count": 288,
   "id": "6524d6fc-5638-418a-91f6-261da7cc8cb6",
   "metadata": {},
   "outputs": [
    {
     "data": {
      "text/plain": [
       "0.5051671769471715"
      ]
     },
     "execution_count": 288,
     "metadata": {},
     "output_type": "execute_result"
    }
   ],
   "source": [
    "random.random() # 유니폼과 같음 random.random() 함수는 0.0에서부터 1.0 사이의 실수(float)를 반환합니다"
   ]
  },
  {
   "cell_type": "code",
   "execution_count": 282,
   "id": "aa90780a-8616-40b2-a64e-172b359452f4",
   "metadata": {},
   "outputs": [],
   "source": [
    "import random"
   ]
  },
  {
   "cell_type": "markdown",
   "id": "fdd9ef2d-6e3b-4e94-9b04-ef44117c2890",
   "metadata": {},
   "source": [
    "## 계단 오르내리기 예제"
   ]
  },
  {
   "cell_type": "code",
   "execution_count": 215,
   "id": "11cf4faf-12aa-49ae-8c3d-306ef3a523ee",
   "metadata": {},
   "outputs": [],
   "source": [
    "random.seed(12345)\n",
    "position=0\n",
    "walk =[position]\n",
    "steps= 100\n",
    "for i in range(steps):\n",
    "    step=1 if random.randint(0,1) else -1 # 1이면 한칸가고 0이면 -1 #4. 0과 1랜덤 그렇지 않으면 -1 ?\n",
    "    position +=step\n",
    "    walk.append(position)"
   ]
  },
  {
   "cell_type": "code",
   "execution_count": 197,
   "id": "7d850a5c-e862-4410-8615-26c6789559a3",
   "metadata": {
    "collapsed": true,
    "jupyter": {
     "outputs_hidden": true
    },
    "tags": []
   },
   "outputs": [
    {
     "data": {
      "text/plain": [
       "[0,\n",
       " 1,\n",
       " 0,\n",
       " -1,\n",
       " -2,\n",
       " -3,\n",
       " -4,\n",
       " -5,\n",
       " -4,\n",
       " -5,\n",
       " -6,\n",
       " -7,\n",
       " -8,\n",
       " -7,\n",
       " -6,\n",
       " -5,\n",
       " -6,\n",
       " -7,\n",
       " -8,\n",
       " -9,\n",
       " -10,\n",
       " -9,\n",
       " -10,\n",
       " -11,\n",
       " -10,\n",
       " -11,\n",
       " -12,\n",
       " -13,\n",
       " -12,\n",
       " -13,\n",
       " -12,\n",
       " -11,\n",
       " -10,\n",
       " -9,\n",
       " -10,\n",
       " -11,\n",
       " -10,\n",
       " -11,\n",
       " -12,\n",
       " -13,\n",
       " -12,\n",
       " -13,\n",
       " -12,\n",
       " -11,\n",
       " -12,\n",
       " -13,\n",
       " -14,\n",
       " -13,\n",
       " -14,\n",
       " -15,\n",
       " -16,\n",
       " -17,\n",
       " -18,\n",
       " -17,\n",
       " -18,\n",
       " -19,\n",
       " -18,\n",
       " -17,\n",
       " -18,\n",
       " -17,\n",
       " -16,\n",
       " -17,\n",
       " -18,\n",
       " -17,\n",
       " -18,\n",
       " -17,\n",
       " -18,\n",
       " -17,\n",
       " -18,\n",
       " -17,\n",
       " -16,\n",
       " -15,\n",
       " -14,\n",
       " -13,\n",
       " -12,\n",
       " -13,\n",
       " -12,\n",
       " -13,\n",
       " -12,\n",
       " -11,\n",
       " -10,\n",
       " -9,\n",
       " -10,\n",
       " -11,\n",
       " -10,\n",
       " -9,\n",
       " -10,\n",
       " -11,\n",
       " -10,\n",
       " -9,\n",
       " -8,\n",
       " -9,\n",
       " -8,\n",
       " -9,\n",
       " -10,\n",
       " -9,\n",
       " -10,\n",
       " -9,\n",
       " -8,\n",
       " -9,\n",
       " -10]"
      ]
     },
     "execution_count": 197,
     "metadata": {},
     "output_type": "execute_result"
    }
   ],
   "source": [
    "walk"
   ]
  },
  {
   "cell_type": "code",
   "execution_count": 216,
   "id": "874e0ff7-c4dd-463b-9b4a-97c1bed748bf",
   "metadata": {},
   "outputs": [
    {
     "data": {
      "text/plain": [
       "[<matplotlib.lines.Line2D at 0x14f74677b80>]"
      ]
     },
     "execution_count": 216,
     "metadata": {},
     "output_type": "execute_result"
    },
    {
     "data": {
      "image/png": "[encoded data removed]",
      "text/plain": [
       "<Figure size 432x288 with 1 Axes>"
      ]
     },
     "metadata": {
      "needs_background": "light"
     },
     "output_type": "display_data"
    }
   ],
   "source": [
    "plt.plot(walk)"
   ]
  },
  {
   "cell_type": "code",
   "execution_count": 214,
   "id": "feab6f0d-a7a2-4e76-9173-fe488fb28431",
   "metadata": {},
   "outputs": [
    {
     "data": {
      "text/plain": [
       "0"
      ]
     },
     "execution_count": 214,
     "metadata": {},
     "output_type": "execute_result"
    }
   ],
   "source": [
    "random.randint(0,1) # 랜덤에서는 1 포함 "
   ]
  },
  {
   "cell_type": "code",
   "execution_count": 219,
   "id": "89557621-d300-4523-96a8-4a6beeda24f8",
   "metadata": {
    "collapsed": true,
    "jupyter": {
     "outputs_hidden": true
    },
    "tags": []
   },
   "outputs": [
    {
     "data": {
      "text/plain": [
       "array([0, 0, 0, 0, 1, 0, 1, 0, 1, 1, 1, 1, 1, 0, 1, 1, 1, 0, 1, 1, 1, 0,\n",
       "       0, 0, 1, 1, 1, 1, 1, 1, 1, 1, 0, 1, 0, 1, 0, 0, 1, 1, 1, 1, 1, 1,\n",
       "       0, 1, 0, 1, 1, 0, 1, 0, 0, 0, 0, 0, 0, 1, 1, 1, 1, 0, 0, 0, 1, 1,\n",
       "       1, 0, 1, 0, 0, 0, 0, 1, 0, 1, 1, 0, 1, 0, 1, 0, 0, 0, 0, 1, 0, 0,\n",
       "       0, 0, 1, 1, 0, 0, 1, 0, 1, 0, 1, 1, 1, 0, 0, 0, 0, 1, 0, 1, 1, 0,\n",
       "       0, 0, 0, 0, 0, 1, 0, 0, 0, 1, 0, 0, 1, 1, 0, 1, 1, 1, 1, 0, 1, 1,\n",
       "       0, 1, 1, 1, 1, 0, 1, 1, 1, 1, 1, 1, 1, 0, 1, 1, 0, 0, 1, 1, 0, 0,\n",
       "       1, 1, 1, 0, 0, 1, 1, 0, 0, 0, 1, 0, 0, 1, 0, 0, 1, 1, 1, 1, 0, 0,\n",
       "       1, 0, 1, 0, 0, 1, 0, 1, 1, 0, 1, 0, 0, 1, 1, 0, 1, 1, 0, 1, 1, 1,\n",
       "       1, 0, 0, 1, 1, 0, 1, 0, 0, 1, 1, 1, 1, 0, 0, 0, 1, 1, 0, 0, 1, 0,\n",
       "       0, 1, 0, 0, 0, 1, 0, 1, 0, 1, 0, 1, 0, 0, 1, 1, 0, 0, 0, 0, 1, 1,\n",
       "       0, 1, 0, 0, 1, 1, 0, 1, 0, 1, 1, 0, 1, 0, 1, 0, 0, 0, 0, 1, 1, 1,\n",
       "       0, 0, 1, 1, 0, 1, 0, 1, 0, 1, 1, 1, 0, 0, 0, 1, 0, 1, 0, 1, 1, 1,\n",
       "       1, 0, 0, 0, 1, 1, 1, 1, 1, 1, 1, 0, 0, 0, 1, 0, 0, 1, 0, 0, 0, 0,\n",
       "       0, 0, 0, 1, 0, 0, 0, 0, 1, 0, 1, 1, 0, 1, 1, 1, 1, 1, 1, 1, 1, 0,\n",
       "       0, 0, 1, 0, 1, 0, 0, 1, 0, 1, 1, 1, 0, 1, 0, 0, 1, 0, 1, 0, 1, 0,\n",
       "       0, 0, 1, 1, 0, 1, 1, 0, 1, 0, 1, 0, 0, 1, 0, 1, 1, 1, 0, 0, 0, 1,\n",
       "       1, 0, 1, 1, 0, 0, 1, 0, 1, 1, 0, 1, 1, 1, 1, 0, 0, 1, 0, 0, 0, 1,\n",
       "       1, 1, 0, 1, 1, 0, 0, 1, 0, 1, 1, 1, 0, 0, 1, 0, 1, 0, 1, 0, 0, 0,\n",
       "       1, 1, 1, 1, 0, 1, 0, 1, 1, 1, 0, 0, 0, 0, 1, 0, 0, 1, 1, 1, 0, 1,\n",
       "       1, 1, 0, 1, 1, 0, 0, 1, 0, 0, 1, 1, 1, 1, 1, 1, 0, 0, 1, 1, 1, 0,\n",
       "       0, 0, 0, 0, 1, 0, 0, 0, 0, 1, 1, 1, 1, 1, 1, 1, 1, 0, 1, 1, 0, 0,\n",
       "       1, 1, 0, 1, 0, 0, 0, 1, 1, 1, 1, 0, 1, 1, 0, 0, 0, 0, 0, 1, 0, 0,\n",
       "       0, 0, 1, 0, 0, 0, 1, 1, 0, 1, 0, 0, 1, 0, 1, 0, 1, 0, 1, 0, 1, 1,\n",
       "       1, 0, 0, 0, 0, 1, 0, 1, 0, 0, 1, 0, 1, 0, 0, 1, 0, 1, 1, 1, 1, 0,\n",
       "       0, 1, 0, 0, 1, 1, 0, 0, 1, 1, 1, 0, 1, 0, 0, 1, 1, 0, 1, 1, 1, 0,\n",
       "       1, 1, 0, 0, 1, 1, 1, 0, 1, 1, 1, 1, 1, 0, 1, 1, 1, 0, 1, 1, 0, 1,\n",
       "       1, 0, 1, 1, 0, 0, 0, 1, 1, 1, 0, 1, 0, 1, 1, 1, 0, 1, 0, 1, 1, 0,\n",
       "       0, 1, 1, 1, 0, 1, 0, 0, 1, 1, 1, 0, 1, 0, 1, 0, 1, 0, 0, 0, 0, 0,\n",
       "       1, 0, 1, 0, 1, 1, 0, 1, 1, 0, 0, 0, 0, 0, 0, 0, 0, 0, 1, 1, 1, 1,\n",
       "       0, 1, 1, 1, 0, 0, 1, 0, 0, 0, 0, 1, 1, 0, 0, 0, 1, 1, 1, 0, 0, 1,\n",
       "       1, 0, 1, 0, 1, 1, 0, 0, 1, 1, 0, 0, 0, 0, 1, 0, 1, 0, 0, 0, 1, 1,\n",
       "       1, 0, 0, 1, 1, 0, 1, 1, 0, 1, 0, 0, 1, 1, 0, 0, 0, 0, 0, 1, 0, 0,\n",
       "       0, 1, 0, 1, 1, 1, 1, 0, 1, 0, 1, 1, 1, 0, 1, 1, 1, 1, 1, 1, 1, 0,\n",
       "       1, 0, 1, 0, 1, 1, 0, 0, 0, 0, 0, 0, 0, 0, 0, 0, 0, 0, 1, 0, 1, 1,\n",
       "       1, 0, 1, 1, 1, 0, 0, 0, 1, 0, 1, 0, 1, 1, 1, 0, 1, 1, 1, 1, 0, 0,\n",
       "       0, 1, 0, 1, 0, 1, 1, 0, 0, 0, 1, 1, 0, 0, 0, 0, 1, 1, 0, 1, 0, 0,\n",
       "       0, 0, 1, 0, 1, 0, 1, 0, 0, 1, 1, 0, 1, 0, 0, 0, 1, 0, 1, 1, 1, 0,\n",
       "       1, 0, 0, 0, 1, 1, 0, 0, 0, 0, 1, 0, 1, 1, 1, 0, 1, 1, 1, 0, 0, 1,\n",
       "       0, 1, 1, 0, 0, 1, 0, 0, 1, 0, 0, 0, 1, 1, 0, 0, 1, 1, 0, 0, 1, 0,\n",
       "       1, 1, 0, 1, 0, 0, 1, 0, 1, 0, 0, 0, 0, 1, 0, 0, 1, 0, 1, 0, 1, 1,\n",
       "       0, 0, 1, 0, 1, 0, 1, 1, 1, 1, 1, 1, 1, 1, 1, 1, 1, 0, 0, 1, 1, 0,\n",
       "       0, 1, 0, 0, 0, 1, 0, 0, 0, 1, 0, 1, 1, 0, 1, 0, 1, 1, 1, 1, 1, 1,\n",
       "       0, 1, 0, 0, 1, 1, 0, 1, 0, 0, 0, 0, 1, 0, 1, 1, 1, 1, 1, 1, 0, 1,\n",
       "       1, 1, 0, 0, 0, 0, 0, 1, 0, 0, 0, 1, 1, 0, 0, 1, 0, 1, 1, 0, 1, 0,\n",
       "       1, 0, 1, 0, 1, 0, 1, 1, 0, 0])"
      ]
     },
     "execution_count": 219,
     "metadata": {},
     "output_type": "execute_result"
    }
   ],
   "source": [
    "nsteps =1000\n",
    "draws= np.random.randint(0,2, size=nsteps) #np랜덤에서는 2 제외 \n",
    "draws"
   ]
  },
  {
   "cell_type": "code",
   "execution_count": 226,
   "id": "655a1aa2-0729-4f59-be61-58514880c405",
   "metadata": {
    "collapsed": true,
    "jupyter": {
     "outputs_hidden": true
    },
    "tags": []
   },
   "outputs": [
    {
     "data": {
      "text/plain": [
       "array([-1, -2, -3, -4, -3, -4, -3, -4, -3, -2, -1,  0,  1,  0,  1,  2,  3,\n",
       "        2,  3,  4,  5,  4,  3,  2,  3,  4,  5,  6,  7,  8,  9, 10,  9, 10,\n",
       "        9, 10,  9,  8,  9, 10, 11, 12, 13, 14, 13, 14, 13, 14, 15, 14, 15,\n",
       "       14, 13, 12, 11, 10,  9, 10, 11, 12, 13, 12, 11, 10, 11, 12, 13, 12,\n",
       "       13, 12, 11, 10,  9, 10,  9, 10, 11, 10, 11, 10, 11, 10,  9,  8,  7,\n",
       "        8,  7,  6,  5,  4,  5,  6,  5,  4,  5,  4,  5,  4,  5,  6,  7,  6,\n",
       "        5,  4,  3,  4,  3,  4,  5,  4,  3,  2,  1,  0, -1,  0, -1, -2, -3,\n",
       "       -2, -3, -4, -3, -2, -3, -2, -1,  0,  1,  0,  1,  2,  1,  2,  3,  4,\n",
       "        5,  4,  5,  6,  7,  8,  9, 10, 11, 10, 11, 12, 11, 10, 11, 12, 11,\n",
       "       10, 11, 12, 13, 12, 11, 12, 13, 12, 11, 10, 11, 10,  9, 10,  9,  8,\n",
       "        9, 10, 11, 12, 11, 10, 11, 10, 11, 10,  9, 10,  9, 10, 11, 10, 11,\n",
       "       10,  9, 10, 11, 10, 11, 12, 11, 12, 13, 14, 15, 14, 13, 14, 15, 14,\n",
       "       15, 14, 13, 14, 15, 16, 17, 16, 15, 14, 15, 16, 15, 14, 15, 14, 13,\n",
       "       14, 13, 12, 11, 12, 11, 12, 11, 12, 11, 12, 11, 10, 11, 12, 11, 10,\n",
       "        9,  8,  9, 10,  9, 10,  9,  8,  9, 10,  9, 10,  9, 10, 11, 10, 11,\n",
       "       10, 11, 10,  9,  8,  7,  8,  9, 10,  9,  8,  9, 10,  9, 10,  9, 10,\n",
       "        9, 10, 11, 12, 11, 10,  9, 10,  9, 10,  9, 10, 11, 12, 13, 12, 11,\n",
       "       10, 11, 12, 13, 14, 15, 16, 17, 16, 15, 14, 15, 14, 13, 14, 13, 12,\n",
       "       11, 10,  9,  8,  7,  8,  7,  6,  5,  4,  5,  4,  5,  6,  5,  6,  7,\n",
       "        8,  9, 10, 11, 12, 13, 12, 11, 10, 11, 10, 11, 10,  9, 10,  9, 10,\n",
       "       11, 12, 11, 12, 11, 10, 11, 10, 11, 10, 11, 10,  9,  8,  9, 10,  9,\n",
       "       10, 11, 10, 11, 10, 11, 10,  9, 10,  9, 10, 11, 12, 11, 10,  9, 10,\n",
       "       11, 10, 11, 12, 11, 10, 11, 10, 11, 12, 11, 12, 13, 14, 15, 14, 13,\n",
       "       14, 13, 12, 11, 12, 13, 14, 13, 14, 15, 14, 13, 14, 13, 14, 15, 16,\n",
       "       15, 14, 15, 14, 15, 14, 15, 14, 13, 12, 13, 14, 15, 16, 15, 16, 15,\n",
       "       16, 17, 18, 17, 16, 15, 14, 15, 14, 13, 14, 15, 16, 15, 16, 17, 18,\n",
       "       17, 18, 19, 18, 17, 18, 17, 16, 17, 18, 19, 20, 21, 22, 21, 20, 21,\n",
       "       22, 23, 22, 21, 20, 19, 18, 19, 18, 17, 16, 15, 16, 17, 18, 19, 20,\n",
       "       21, 22, 23, 22, 23, 24, 23, 22, 23, 24, 23, 24, 23, 22, 21, 22, 23,\n",
       "       24, 25, 24, 25, 26, 25, 24, 23, 22, 21, 22, 21, 20, 19, 18, 19, 18,\n",
       "       17, 16, 17, 18, 17, 18, 17, 16, 17, 16, 17, 16, 17, 16, 17, 16, 17,\n",
       "       18, 19, 18, 17, 16, 15, 16, 15, 16, 15, 14, 15, 14, 15, 14, 13, 14,\n",
       "       13, 14, 15, 16, 17, 16, 15, 16, 15, 14, 15, 16, 15, 14, 15, 16, 17,\n",
       "       16, 17, 16, 15, 16, 17, 16, 17, 18, 19, 18, 19, 20, 19, 18, 19, 20,\n",
       "       21, 20, 21, 22, 23, 24, 25, 24, 25, 26, 27, 26, 27, 28, 27, 28, 29,\n",
       "       28, 29, 30, 29, 28, 27, 28, 29, 30, 29, 30, 29, 30, 31, 32, 31, 32,\n",
       "       31, 32, 33, 32, 31, 32, 33, 34, 33, 34, 33, 32, 33, 34, 35, 34, 35,\n",
       "       34, 35, 34, 35, 34, 33, 32, 31, 30, 31, 30, 31, 30, 31, 32, 31, 32,\n",
       "       33, 32, 31, 30, 29, 28, 27, 26, 25, 24, 25, 26, 27, 28, 27, 28, 29,\n",
       "       30, 29, 28, 29, 28, 27, 26, 25, 26, 27, 26, 25, 24, 25, 26, 27, 26,\n",
       "       25, 26, 27, 26, 27, 26, 27, 28, 27, 26, 27, 28, 27, 26, 25, 24, 25,\n",
       "       24, 25, 24, 23, 22, 23, 24, 25, 24, 23, 24, 25, 24, 25, 26, 25, 26,\n",
       "       25, 24, 25, 26, 25, 24, 23, 22, 21, 22, 21, 20, 19, 20, 19, 20, 21,\n",
       "       22, 23, 22, 23, 22, 23, 24, 25, 24, 25, 26, 27, 28, 29, 30, 31, 30,\n",
       "       31, 30, 31, 30, 31, 32, 31, 30, 29, 28, 27, 26, 25, 24, 23, 22, 21,\n",
       "       20, 21, 20, 21, 22, 23, 22, 23, 24, 25, 24, 23, 22, 23, 22, 23, 22,\n",
       "       23, 24, 25, 24, 25, 26, 27, 28, 27, 26, 25, 26, 25, 26, 25, 26, 27,\n",
       "       26, 25, 24, 25, 26, 25, 24, 23, 22, 23, 24, 23, 24, 23, 22, 21, 20,\n",
       "       21, 20, 21, 20, 21, 20, 19, 20, 21, 20, 21, 20, 19, 18, 19, 18, 19,\n",
       "       20, 21, 20, 21, 20, 19, 18, 19, 20, 19, 18, 17, 16, 17, 16, 17, 18,\n",
       "       19, 18, 19, 20, 21, 20, 19, 20, 19, 20, 21, 20, 19, 20, 19, 18, 19,\n",
       "       18, 17, 16, 17, 18, 17, 16, 17, 18, 17, 16, 17, 16, 17, 18, 17, 18,\n",
       "       17, 16, 17, 16, 17, 16, 15, 14, 13, 14, 13, 12, 13, 12, 13, 12, 13,\n",
       "       14, 13, 12, 13, 12, 13, 12, 13, 14, 15, 16, 17, 18, 19, 20, 21, 22,\n",
       "       23, 22, 21, 22, 23, 22, 21, 22, 21, 20, 19, 20, 19, 18, 17, 18, 17,\n",
       "       18, 19, 18, 19, 18, 19, 20, 21, 22, 23, 24, 23, 24, 23, 22, 23, 24,\n",
       "       23, 24, 23, 22, 21, 20, 21, 20, 21, 22, 23, 24, 25, 26, 25, 26, 27,\n",
       "       28, 27, 26, 25, 24, 23, 24, 23, 22, 21, 22, 23, 22, 21, 22, 21, 22,\n",
       "       23, 22, 23, 22, 23, 22, 23, 22, 23, 22, 23, 24, 23, 22],\n",
       "      dtype=int32)"
      ]
     },
     "execution_count": 226,
     "metadata": {},
     "output_type": "execute_result"
    }
   ],
   "source": [
    "steps= np.where(draws>0, 1, -1)\n",
    "walk=steps.cumsum()\n",
    "walk"
   ]
  },
  {
   "cell_type": "code",
   "execution_count": 227,
   "id": "9c6127cd-8cf4-454b-b525-aa07b63a5995",
   "metadata": {},
   "outputs": [
    {
     "data": {
      "text/plain": [
       "35"
      ]
     },
     "execution_count": 227,
     "metadata": {},
     "output_type": "execute_result"
    }
   ],
   "source": [
    "walk.max()"
   ]
  },
  {
   "cell_type": "code",
   "execution_count": 228,
   "id": "e2797b81-1835-4c15-8274-9a31cf43f0f0",
   "metadata": {},
   "outputs": [
    {
     "data": {
      "text/plain": [
       "[<matplotlib.lines.Line2D at 0x14f74736730>]"
      ]
     },
     "execution_count": 228,
     "metadata": {},
     "output_type": "execute_result"
    },
    {
     "data": {
      "image/png": "[encoded data removed]",
      "text/plain": [
       "<Figure size 432x288 with 1 Axes>"
      ]
     },
     "metadata": {
      "needs_background": "light"
     },
     "output_type": "display_data"
    }
   ],
   "source": [
    "plt.plot(walk)"
   ]
  },
  {
   "cell_type": "code",
   "execution_count": 229,
   "id": "08a187dd-bf9a-422a-b842-33d3eae09202",
   "metadata": {},
   "outputs": [
    {
     "data": {
      "text/plain": [
       "<bound method Random.seed of <random.Random object at 0x0000014F61966200>>"
      ]
     },
     "execution_count": 229,
     "metadata": {},
     "output_type": "execute_result"
    }
   ],
   "source": [
    "random.seed # 랜덤하게 숫자를 뽑아내는것은 사실상 알고리즘이 있음 \n",
    "# 랜덤을 할때 출발 숫자를 주면 그다음에는 똑같은 패턴을 반복할 수 있음 \n",
    "# 한번 시드를 주면 계속 남아있음 \n",
    "#random.RandomState는 그때만 딱 사용 "
   ]
  },
  {
   "cell_type": "code",
   "execution_count": null,
   "id": "29506197-3f10-40e6-8fa7-777bb16993f9",
   "metadata": {},
   "outputs": [],
   "source": []
  }
 ],
 "metadata": {
  "kernelspec": {
   "display_name": "Python 3 (ipykernel)",
   "language": "python",
   "name": "python3"
  },
  "language_info": {
   "codemirror_mode": {
    "name": "ipython",
    "version": 3
   },
   "file_extension": ".py",
   "mimetype": "text/x-python",
   "name": "python",
   "nbconvert_exporter": "python",
   "pygments_lexer": "ipython3",
   "version": "3.9.12"
  }
 },
 "nbformat": 4,
 "nbformat_minor": 5
}
