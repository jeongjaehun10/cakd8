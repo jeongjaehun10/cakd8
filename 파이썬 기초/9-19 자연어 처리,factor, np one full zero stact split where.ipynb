{
 "cells": [
  {
   "cell_type": "markdown",
   "id": "19ccc443-959a-4392-b1d4-fb962f64801f",
   "metadata": {},
   "source": [
    "# 정리"
   ]
  },
  {
   "cell_type": "code",
   "execution_count": null,
   "id": "b687448c-ca72-413e-b12e-e0449dccb10a",
   "metadata": {},
   "outputs": [],
   "source": [
    "li =[\"\", \"1\", \"12\", \"123\", \"1234\", \"abc\", \"1a\"]\n",
    "for string in li: \n",
    "    print(re.sub(r\"[0-9]?\", \"A\", string), end =\",   \")\n",
    "    \n",
    "data = '''\n",
    "  <head>\n",
    "    <title>hello world</title>\n",
    "  </head>\n",
    "''' \n",
    "\n",
    "p= re.compile('(?<=>).*(?=</)')\n",
    "p.findall(data)\n",
    "\n",
    "def fac(n):\n",
    "    if n ==1:\n",
    "        return 1\n",
    "    return n*fac(n-1) # 54321\n",
    "\n",
    "def factorial(n):\n",
    "    sum=1\n",
    "    for i in range(n):\n",
    "         sum = sum*(i+1)# 1*1 , 1*2/*3 /*4 /*5~ 10\n",
    "    return sum\n",
    "\n",
    "np.ones((2,3)) # 2행 3열을 1로 가득채움 shape 형태로 채움\n",
    "np.full((10,10),3) # 3으로 가득 채움\n",
    "np.eye(4,3)\n",
    "np.eye(4)\n",
    "a= np.array([0,1,2])\n",
    "np.tile(a,(3,2)) # 행은 3번 열은 2번 반복 a= np.arange(6).reshape(2,3)\n",
    "np.zeros_like(a) # 형태와 데이터 타입유지하면서 0으로 채움\n",
    "\n",
    "# 수직으로 쌓음np.vstack((a, b)) \n",
    "\n",
    "np.dstack((a,b))#3차원\n",
    "np.hsplit(a,2) # 수평분리\n",
    "np.vsplit(a,2) #수직분리\n",
    "\n",
    "a.flatten() #평평하게 \n",
    "a.ravel() #복사함 # 바뀌면 원본도 바뀜\n",
    "np.where(a>7, \"pass\", \"fail\")# ifelse문과 같음\n",
    "a[np.where(a<10)]"
   ]
  },
  {
   "cell_type": "code",
   "execution_count": 1,
   "id": "09dee2c1-d420-4f6f-9604-b8639f2c3a71",
   "metadata": {},
   "outputs": [
    {
     "ename": "SyntaxError",
     "evalue": "invalid syntax (1426567158.py, line 1)",
     "output_type": "error",
     "traceback": [
      "\u001b[1;36m  Input \u001b[1;32mIn [1]\u001b[1;36m\u001b[0m\n\u001b[1;33m    dot[.] 이 의미하지 않는 것은 ? /n\u001b[0m\n\u001b[1;37m        ^\u001b[0m\n\u001b[1;31mSyntaxError\u001b[0m\u001b[1;31m:\u001b[0m invalid syntax\n"
     ]
    }
   ],
   "source": [
    "dot[.] 이 의미하지 않는 것은 ? /n \n"
   ]
  },
  {
   "cell_type": "code",
   "execution_count": 2,
   "id": "7c85e477-0c2f-4938-bda6-f63911f06cb9",
   "metadata": {},
   "outputs": [],
   "source": [
    "import re"
   ]
  },
  {
   "cell_type": "code",
   "execution_count": 3,
   "id": "3de308ee-42da-40fd-a522-6d3f7da0a226",
   "metadata": {},
   "outputs": [
    {
     "name": "stdout",
     "output_type": "stream",
     "text": [
      "A,   AA,   AAA,   AAAA,   AAAAA,   AaAbAcA,   AAaA,   "
     ]
    }
   ],
   "source": [
    "li =[\"\", \"1\", \"12\", \"123\", \"1234\", \"abc\", \"1a\"]\n",
    "for string in li: \n",
    "    print(re.sub(r\"[0-9]?\", \"A\", string), end =\",   \")"
   ]
  },
  {
   "cell_type": "code",
   "execution_count": 5,
   "id": "9af04469-922d-44cc-818e-966faa70f365",
   "metadata": {},
   "outputs": [
    {
     "data": {
      "text/plain": [
       "'AAaA'"
      ]
     },
     "execution_count": 5,
     "metadata": {},
     "output_type": "execute_result"
    }
   ],
   "source": [
    "li =[\"\", \"1\", \"12\", \"123\", \"1234\", \"abc\", \"1a\"]\n",
    "re.sub(r\"[0-9]?\", \"A\", string)"
   ]
  },
  {
   "cell_type": "code",
   "execution_count": 6,
   "id": "06fbce2a-17c4-4da2-a525-1315b0311ce8",
   "metadata": {},
   "outputs": [
    {
     "ename": "TypeError",
     "evalue": "sub() missing 3 required positional arguments: 'pattern', 'repl', and 'string'",
     "output_type": "error",
     "traceback": [
      "\u001b[1;31m---------------------------------------------------------------------------\u001b[0m",
      "\u001b[1;31mTypeError\u001b[0m                                 Traceback (most recent call last)",
      "Input \u001b[1;32mIn [6]\u001b[0m, in \u001b[0;36m<cell line: 1>\u001b[1;34m()\u001b[0m\n\u001b[1;32m----> 1\u001b[0m \u001b[43mre\u001b[49m\u001b[38;5;241;43m.\u001b[39;49m\u001b[43msub\u001b[49m\u001b[43m(\u001b[49m\u001b[43m)\u001b[49m\n",
      "\u001b[1;31mTypeError\u001b[0m: sub() missing 3 required positional arguments: 'pattern', 'repl', and 'string'"
     ]
    }
   ],
   "source": [
    "re.sub()"
   ]
  },
  {
   "cell_type": "code",
   "execution_count": 47,
   "id": "4d448ecf-6651-421a-9cf6-421c1f24e21a",
   "metadata": {},
   "outputs": [
    {
     "name": "stdout",
     "output_type": "stream",
     "text": [
      "[[44 46]\n",
      " [74 76]]\n"
     ]
    }
   ],
   "source": [
    "import numpy as np\n",
    "a= np.arange(1,101).reshape(10,10)\n",
    "\n",
    "print(a[4::3, 3:6:2])# 중간에는 숫자가 +1 이여야 함"
   ]
  },
  {
   "cell_type": "code",
   "execution_count": 22,
   "id": "e705e593-d191-4143-88a8-3193ee1bb97e",
   "metadata": {},
   "outputs": [
    {
     "data": {
      "text/plain": [
       "array([44, 46, 74, 76])"
      ]
     },
     "execution_count": 22,
     "metadata": {},
     "output_type": "execute_result"
    }
   ],
   "source": [
    "import numpy as np\n",
    "a = np.arange(1,101).reshape((10, 10)) \n",
    "a[[4, 4, 7,7 ], [3,5,3,5]] # 인덱싱번호줌 "
   ]
  },
  {
   "cell_type": "code",
   "execution_count": 23,
   "id": "59ee2ba0-3829-4c00-87b5-464bfd84428a",
   "metadata": {},
   "outputs": [
    {
     "data": {
      "text/plain": [
       "array([ 7, 18, 29, 40])"
      ]
     },
     "execution_count": 23,
     "metadata": {},
     "output_type": "execute_result"
    }
   ],
   "source": [
    "a[[0,1,2,3],[6,7,8,9]] #계단으로 내려가기 좋음"
   ]
  },
  {
   "cell_type": "code",
   "execution_count": 42,
   "id": "18cf9568-a068-4e22-8724-19402827e62a",
   "metadata": {},
   "outputs": [
    {
     "data": {
      "text/plain": [
       "['hello world']"
      ]
     },
     "execution_count": 42,
     "metadata": {},
     "output_type": "execute_result"
    }
   ],
   "source": [
    "data = '''\n",
    "  <head>\n",
    "    <title>hello world</title>\n",
    "  </head>\n",
    "''' \n",
    "\n",
    "p= re.compile('(?<=>).*(?=</)')\n",
    "p.findall(data)"
   ]
  },
  {
   "cell_type": "code",
   "execution_count": 36,
   "id": "10737649-ef6d-4d6b-88a2-688d8e248c91",
   "metadata": {},
   "outputs": [
    {
     "data": {
      "text/plain": [
       "['hello world']"
      ]
     },
     "execution_count": 36,
     "metadata": {},
     "output_type": "execute_result"
    }
   ],
   "source": [
    "p = re.compile('(?<=<title>).*(?=</title>)')\n",
    "p.findall(data) "
   ]
  },
  {
   "cell_type": "code",
   "execution_count": 43,
   "id": "181300b5-0d6d-4354-8ec7-b580d69072fb",
   "metadata": {},
   "outputs": [
    {
     "data": {
      "text/plain": [
       "['hello world']"
      ]
     },
     "execution_count": 43,
     "metadata": {},
     "output_type": "execute_result"
    }
   ],
   "source": [
    "a = re.compile(r\"(?<=>).+(?=<)\")\n",
    "a.findall(data) "
   ]
  },
  {
   "cell_type": "code",
   "execution_count": 44,
   "id": "ff8c828a-8319-4166-bd07-47bed3e65154",
   "metadata": {},
   "outputs": [
    {
     "data": {
      "text/plain": [
       "(re.compile(r'(?<=>).+(?=<)', re.UNICODE),\n",
       " '\\n  <head>\\n    <title>hello world</title>\\n  </head>\\n')"
      ]
     },
     "execution_count": 44,
     "metadata": {},
     "output_type": "execute_result"
    }
   ],
   "source": [
    "p = re.compile(\"(?<=>).+(?=<)\")\n",
    "re.search\n",
    "(p, data) "
   ]
  },
  {
   "cell_type": "code",
   "execution_count": 50,
   "id": "611f1088-6d29-42e7-831c-d6c95bf9d3b5",
   "metadata": {},
   "outputs": [],
   "source": [
    "import numpy as np\n",
    "a = np.arange(1,37).reshape(6, 6) "
   ]
  },
  {
   "cell_type": "code",
   "execution_count": 51,
   "id": "9f7d1718-a11a-4c88-91f4-f037439bcc17",
   "metadata": {},
   "outputs": [
    {
     "data": {
      "text/plain": [
       "array([[ 1,  2,  3,  4,  5,  6],\n",
       "       [ 7,  8,  9, 10, 11, 12],\n",
       "       [13, 14, 15, 16, 17, 18],\n",
       "       [19, 20, 21, 22, 23, 24],\n",
       "       [25, 26, 27, 28, 29, 30],\n",
       "       [31, 32, 33, 34, 35, 36]])"
      ]
     },
     "execution_count": 51,
     "metadata": {},
     "output_type": "execute_result"
    }
   ],
   "source": [
    "a"
   ]
  },
  {
   "cell_type": "code",
   "execution_count": 53,
   "id": "8c9f0999-9200-4af9-a418-4ec502930545",
   "metadata": {},
   "outputs": [
    {
     "data": {
      "text/plain": [
       "array([[ 2,  4,  6],\n",
       "       [14, 16, 18],\n",
       "       [26, 28, 30]])"
      ]
     },
     "execution_count": 53,
     "metadata": {},
     "output_type": "execute_result"
    }
   ],
   "source": [
    "a[0::2 ,1::2] # 모든 열이 아님"
   ]
  },
  {
   "cell_type": "code",
   "execution_count": 54,
   "id": "da8fc0fa-323b-40d1-8417-362df8bcc22a",
   "metadata": {},
   "outputs": [
    {
     "data": {
      "text/plain": [
       "array([[ 2,  4,  6],\n",
       "       [ 8, 10, 12],\n",
       "       [14, 16, 18],\n",
       "       [20, 22, 24],\n",
       "       [26, 28, 30],\n",
       "       [32, 34, 36]])"
      ]
     },
     "execution_count": 54,
     "metadata": {},
     "output_type": "execute_result"
    }
   ],
   "source": [
    "a[: ,1::2] "
   ]
  },
  {
   "cell_type": "code",
   "execution_count": 56,
   "id": "68325d69-c986-480e-8bc9-06f2c5a09d35",
   "metadata": {},
   "outputs": [],
   "source": [
    "a = np.arange(1,100).reshape(3, 3, -1) "
   ]
  },
  {
   "cell_type": "code",
   "execution_count": 57,
   "id": "21aea5ef-371f-48ed-ae58-ea1f8496ad59",
   "metadata": {},
   "outputs": [
    {
     "data": {
      "text/plain": [
       "array([[[ 1,  2,  3,  4,  5,  6,  7,  8,  9, 10, 11],\n",
       "        [12, 13, 14, 15, 16, 17, 18, 19, 20, 21, 22],\n",
       "        [23, 24, 25, 26, 27, 28, 29, 30, 31, 32, 33]],\n",
       "\n",
       "       [[34, 35, 36, 37, 38, 39, 40, 41, 42, 43, 44],\n",
       "        [45, 46, 47, 48, 49, 50, 51, 52, 53, 54, 55],\n",
       "        [56, 57, 58, 59, 60, 61, 62, 63, 64, 65, 66]],\n",
       "\n",
       "       [[67, 68, 69, 70, 71, 72, 73, 74, 75, 76, 77],\n",
       "        [78, 79, 80, 81, 82, 83, 84, 85, 86, 87, 88],\n",
       "        [89, 90, 91, 92, 93, 94, 95, 96, 97, 98, 99]]])"
      ]
     },
     "execution_count": 57,
     "metadata": {},
     "output_type": "execute_result"
    }
   ],
   "source": [
    "a"
   ]
  },
  {
   "cell_type": "code",
   "execution_count": 58,
   "id": "c76f7913-c43d-4caf-b205-3c0f98f43e55",
   "metadata": {},
   "outputs": [
    {
     "data": {
      "text/plain": [
       "str"
      ]
     },
     "execution_count": 58,
     "metadata": {},
     "output_type": "execute_result"
    }
   ],
   "source": [
    "type(\"100.0\")\n"
   ]
  },
  {
   "cell_type": "code",
   "execution_count": 61,
   "id": "8ca50983-9d08-4399-917b-e260b5cab81f",
   "metadata": {},
   "outputs": [],
   "source": [
    "def fac(n):\n",
    "    if n ==1:\n",
    "        return 1\n",
    "    return n*fac(n-1) # 54321"
   ]
  },
  {
   "cell_type": "code",
   "execution_count": 62,
   "id": "e5998a2f-cd7c-47a5-9d88-35af69ff4839",
   "metadata": {},
   "outputs": [],
   "source": [
    "def fac(n):\n",
    "    multi =1"
   ]
  },
  {
   "cell_type": "code",
   "execution_count": 75,
   "id": "cb3a77d5-4ff4-465d-aba5-19d5905f79df",
   "metadata": {},
   "outputs": [],
   "source": [
    "def factorial(n):\n",
    "    sum=1\n",
    "    for i in range(n):\n",
    "         sum = sum*(i+1)# 1*1 , 1*2/ 2*3 6*4 24*5\n",
    "    return sum"
   ]
  },
  {
   "cell_type": "code",
   "execution_count": 76,
   "id": "aba70b00-fd79-4eaf-88f5-f342097f86d1",
   "metadata": {},
   "outputs": [
    {
     "data": {
      "text/plain": [
       "120"
      ]
     },
     "execution_count": 76,
     "metadata": {},
     "output_type": "execute_result"
    }
   ],
   "source": [
    "factorial(5)"
   ]
  },
  {
   "cell_type": "code",
   "execution_count": 303,
   "id": "7bb10750-a009-4099-910e-f8ad612f4914",
   "metadata": {},
   "outputs": [
    {
     "data": {
      "text/plain": [
       "array([[1, 2, 3, 4],\n",
       "       [5, 6, 7, 8]])"
      ]
     },
     "execution_count": 303,
     "metadata": {},
     "output_type": "execute_result"
    }
   ],
   "source": [
    "a"
   ]
  },
  {
   "cell_type": "code",
   "execution_count": 301,
   "id": "9a1b2134-b781-44d3-9fbe-ebab143ef89d",
   "metadata": {},
   "outputs": [
    {
     "ename": "TypeError",
     "evalue": "Field elements must be 2- or 3-tuples, got '2'",
     "output_type": "error",
     "traceback": [
      "\u001b[1;31m---------------------------------------------------------------------------\u001b[0m",
      "\u001b[1;31mTypeError\u001b[0m                                 Traceback (most recent call last)",
      "Input \u001b[1;32mIn [301]\u001b[0m, in \u001b[0;36m<cell line: 2>\u001b[1;34m()\u001b[0m\n\u001b[0;32m      1\u001b[0m a \u001b[38;5;241m=\u001b[39m np\u001b[38;5;241m.\u001b[39marray([[\u001b[38;5;241m1\u001b[39m,\u001b[38;5;241m2\u001b[39m,\u001b[38;5;241m3\u001b[39m,\u001b[38;5;241m4\u001b[39m], [\u001b[38;5;241m5\u001b[39m,\u001b[38;5;241m6\u001b[39m,\u001b[38;5;241m7\u001b[39m,\u001b[38;5;241m8\u001b[39m]])\n\u001b[1;32m----> 2\u001b[0m b\u001b[38;5;241m=\u001b[39m \u001b[43mnp\u001b[49m\u001b[38;5;241;43m.\u001b[39;49m\u001b[43marray\u001b[49m\u001b[43m(\u001b[49m\u001b[43m[\u001b[49m\u001b[38;5;241;43m1\u001b[39;49m\u001b[43m]\u001b[49m\u001b[43m,\u001b[49m\u001b[43m \u001b[49m\u001b[43m[\u001b[49m\u001b[38;5;241;43m2\u001b[39;49m\u001b[43m]\u001b[49m\u001b[43m)\u001b[49m \u001b[38;5;66;03m# 행과 열 한개일때만 괜춘\u001b[39;00m\n\u001b[0;32m      3\u001b[0m a\u001b[38;5;241m+\u001b[39mb\n",
      "\u001b[1;31mTypeError\u001b[0m: Field elements must be 2- or 3-tuples, got '2'"
     ]
    }
   ],
   "source": [
    "a = np.array([[1,2,3,4], [5,6,7,8]])\n",
    "b= np.array([1], [2]) # 행과 열 한개일때만 괜춘\n",
    "a+b"
   ]
  },
  {
   "cell_type": "code",
   "execution_count": 302,
   "id": "4931462b-4d29-4618-84f2-a16a73889ad6",
   "metadata": {},
   "outputs": [
    {
     "data": {
      "text/plain": [
       "array([[2, 3, 4, 5],\n",
       "       [6, 7, 8, 9]])"
      ]
     },
     "execution_count": 302,
     "metadata": {},
     "output_type": "execute_result"
    }
   ],
   "source": [
    "a = np.array([[1,2,3,4], [5,6,7,8]])\n",
    "b= np.array([1]) # 행과 열 한개일때만 괜춘\n",
    "a+b"
   ]
  },
  {
   "cell_type": "code",
   "execution_count": 82,
   "id": "d0bd8393-a463-4f7b-8869-f46885b43e9c",
   "metadata": {},
   "outputs": [
    {
     "data": {
      "text/plain": [
       "array([ 1.,  2.,  3.,  4.,  5.,  6.,  7.,  8.,  9., 10.])"
      ]
     },
     "execution_count": 82,
     "metadata": {},
     "output_type": "execute_result"
    }
   ],
   "source": [
    "np.linspace(1,10, 10)"
   ]
  },
  {
   "cell_type": "code",
   "execution_count": 86,
   "id": "1d010974-e534-4406-912e-858c33241b26",
   "metadata": {},
   "outputs": [
    {
     "data": {
      "text/plain": [
       "array([1., 3., 5., 7., 9.])"
      ]
     },
     "execution_count": 86,
     "metadata": {},
     "output_type": "execute_result"
    }
   ],
   "source": [
    "np.linspace(1, 9, 5)"
   ]
  },
  {
   "cell_type": "code",
   "execution_count": 89,
   "id": "4685038a-de34-47a7-83de-b71ca64c12b6",
   "metadata": {},
   "outputs": [
    {
     "data": {
      "text/plain": [
       "array([[1., 1., 1.],\n",
       "       [1., 1., 1.]])"
      ]
     },
     "execution_count": 89,
     "metadata": {},
     "output_type": "execute_result"
    }
   ],
   "source": [
    "np.ones((2,3)) # 2행 3열을 1로 가득채움 shape 형태로 채움"
   ]
  },
  {
   "cell_type": "code",
   "execution_count": 91,
   "id": "d1309008-fa95-480b-94e7-784046e9e7dd",
   "metadata": {},
   "outputs": [
    {
     "data": {
      "text/plain": [
       "array([[1, 1, 1],\n",
       "       [1, 1, 1]], dtype=int16)"
      ]
     },
     "execution_count": 91,
     "metadata": {},
     "output_type": "execute_result"
    }
   ],
   "source": [
    "np.ones((2,3), dtype='int16')"
   ]
  },
  {
   "cell_type": "code",
   "execution_count": 92,
   "id": "63cbbbec-7b3c-40fd-be29-81e532f83469",
   "metadata": {},
   "outputs": [
    {
     "data": {
      "text/plain": [
       "array([[0., 0., 0.],\n",
       "       [0., 0., 0.]])"
      ]
     },
     "execution_count": 92,
     "metadata": {},
     "output_type": "execute_result"
    }
   ],
   "source": [
    "np.zeros((2,3))"
   ]
  },
  {
   "cell_type": "code",
   "execution_count": 97,
   "id": "0c595748-94f1-4bab-b909-d2ee55b47136",
   "metadata": {},
   "outputs": [],
   "source": [
    "#sparse matrix 드문 매트릭스 희귀행렬  \n",
    "a= np.zeros((10,10))\n",
    "a[3,3]= 1\n",
    "a[5,6]=1"
   ]
  },
  {
   "cell_type": "code",
   "execution_count": 98,
   "id": "ad8b3db6-92af-4a76-b5ca-05d5cedcd051",
   "metadata": {},
   "outputs": [
    {
     "data": {
      "text/plain": [
       "array([[0., 0., 0., 0., 0., 0., 0., 0., 0., 0.],\n",
       "       [0., 0., 0., 0., 0., 0., 0., 0., 0., 0.],\n",
       "       [0., 0., 0., 0., 0., 0., 0., 0., 0., 0.],\n",
       "       [0., 0., 0., 1., 0., 0., 0., 0., 0., 0.],\n",
       "       [0., 0., 0., 0., 0., 0., 0., 0., 0., 0.],\n",
       "       [0., 0., 0., 0., 0., 0., 1., 0., 0., 0.],\n",
       "       [0., 0., 0., 0., 0., 0., 0., 0., 0., 0.],\n",
       "       [0., 0., 0., 0., 0., 0., 0., 0., 0., 0.],\n",
       "       [0., 0., 0., 0., 0., 0., 0., 0., 0., 0.],\n",
       "       [0., 0., 0., 0., 0., 0., 0., 0., 0., 0.]])"
      ]
     },
     "execution_count": 98,
     "metadata": {},
     "output_type": "execute_result"
    }
   ],
   "source": [
    "a"
   ]
  },
  {
   "cell_type": "code",
   "execution_count": 100,
   "id": "a62aab56-ac8e-468d-9c35-40278eb30eed",
   "metadata": {},
   "outputs": [
    {
     "data": {
      "text/plain": [
       "array([[3., 3., 3., 3., 3., 3., 3., 3., 3., 3.],\n",
       "       [3., 3., 3., 3., 3., 3., 3., 3., 3., 3.],\n",
       "       [3., 3., 3., 3., 3., 3., 3., 3., 3., 3.],\n",
       "       [3., 3., 3., 3., 3., 3., 3., 3., 3., 3.],\n",
       "       [3., 3., 3., 3., 3., 3., 3., 3., 3., 3.],\n",
       "       [3., 3., 3., 3., 3., 3., 3., 3., 3., 3.],\n",
       "       [3., 3., 3., 3., 3., 3., 3., 3., 3., 3.],\n",
       "       [3., 3., 3., 3., 3., 3., 3., 3., 3., 3.],\n",
       "       [3., 3., 3., 3., 3., 3., 3., 3., 3., 3.],\n",
       "       [3., 3., 3., 3., 3., 3., 3., 3., 3., 3.]])"
      ]
     },
     "execution_count": 100,
     "metadata": {},
     "output_type": "execute_result"
    }
   ],
   "source": [
    "a= np.ones((10,10))\n",
    "a*3"
   ]
  },
  {
   "cell_type": "code",
   "execution_count": 101,
   "id": "b4950428-3301-4ce8-9c7c-b69df328d6f7",
   "metadata": {},
   "outputs": [
    {
     "data": {
      "text/plain": [
       "array([[3., 3., 3., 3., 3., 3., 3., 3., 3., 3.],\n",
       "       [3., 3., 3., 3., 3., 3., 3., 3., 3., 3.],\n",
       "       [3., 3., 3., 3., 3., 3., 3., 3., 3., 3.],\n",
       "       [3., 3., 3., 3., 3., 3., 3., 3., 3., 3.],\n",
       "       [3., 3., 3., 3., 3., 3., 3., 3., 3., 3.],\n",
       "       [3., 3., 3., 3., 3., 3., 3., 3., 3., 3.],\n",
       "       [3., 3., 3., 3., 3., 3., 3., 3., 3., 3.],\n",
       "       [3., 3., 3., 3., 3., 3., 3., 3., 3., 3.],\n",
       "       [3., 3., 3., 3., 3., 3., 3., 3., 3., 3.],\n",
       "       [3., 3., 3., 3., 3., 3., 3., 3., 3., 3.]])"
      ]
     },
     "execution_count": 101,
     "metadata": {},
     "output_type": "execute_result"
    }
   ],
   "source": [
    "np.ones((10,10))*3"
   ]
  },
  {
   "cell_type": "code",
   "execution_count": 304,
   "id": "7314e957-a579-4d1e-b3ae-f0c5ec5e7597",
   "metadata": {},
   "outputs": [],
   "source": [
    "a=np.ones((10,10))*np.array([3])"
   ]
  },
  {
   "cell_type": "code",
   "execution_count": 102,
   "id": "762145e8-7a88-4c48-8489-fcaee17837c4",
   "metadata": {},
   "outputs": [
    {
     "data": {
      "text/plain": [
       "array([[3, 3, 3, 3, 3, 3, 3, 3, 3, 3],\n",
       "       [3, 3, 3, 3, 3, 3, 3, 3, 3, 3],\n",
       "       [3, 3, 3, 3, 3, 3, 3, 3, 3, 3],\n",
       "       [3, 3, 3, 3, 3, 3, 3, 3, 3, 3],\n",
       "       [3, 3, 3, 3, 3, 3, 3, 3, 3, 3],\n",
       "       [3, 3, 3, 3, 3, 3, 3, 3, 3, 3],\n",
       "       [3, 3, 3, 3, 3, 3, 3, 3, 3, 3],\n",
       "       [3, 3, 3, 3, 3, 3, 3, 3, 3, 3],\n",
       "       [3, 3, 3, 3, 3, 3, 3, 3, 3, 3],\n",
       "       [3, 3, 3, 3, 3, 3, 3, 3, 3, 3]])"
      ]
     },
     "execution_count": 102,
     "metadata": {},
     "output_type": "execute_result"
    }
   ],
   "source": [
    "np.full((10,10),3)"
   ]
  },
  {
   "cell_type": "code",
   "execution_count": 104,
   "id": "c364419d-03bb-4f6d-8ba7-1720d0d77ca0",
   "metadata": {},
   "outputs": [
    {
     "ename": "NameError",
     "evalue": "name 'diag' is not defined",
     "output_type": "error",
     "traceback": [
      "\u001b[1;31m---------------------------------------------------------------------------\u001b[0m",
      "\u001b[1;31mNameError\u001b[0m                                 Traceback (most recent call last)",
      "Input \u001b[1;32mIn [104]\u001b[0m, in \u001b[0;36m<cell line: 1>\u001b[1;34m()\u001b[0m\n\u001b[1;32m----> 1\u001b[0m a\u001b[38;5;241m=\u001b[39m \u001b[43mdiag\u001b[49m([\u001b[38;5;241m1\u001b[39m,\u001b[38;5;241m2\u001b[39m,\u001b[38;5;241m3\u001b[39m])\n\u001b[0;32m      2\u001b[0m a\n",
      "\u001b[1;31mNameError\u001b[0m: name 'diag' is not defined"
     ]
    }
   ],
   "source": [
    "a= diag([1,2,3])\n",
    "a"
   ]
  },
  {
   "cell_type": "code",
   "execution_count": 105,
   "id": "58a1f7fa-b300-4c41-a953-bd5a42b55701",
   "metadata": {},
   "outputs": [
    {
     "data": {
      "text/plain": [
       "array([[1., 0., 0., 0.],\n",
       "       [0., 1., 0., 0.],\n",
       "       [0., 0., 1., 0.],\n",
       "       [0., 0., 0., 1.]])"
      ]
     },
     "execution_count": 105,
     "metadata": {},
     "output_type": "execute_result"
    }
   ],
   "source": [
    "d= np.identity(4)\n",
    "d"
   ]
  },
  {
   "cell_type": "code",
   "execution_count": 106,
   "id": "aa8d8a50-5518-43a3-a1bf-b2ed430dc757",
   "metadata": {},
   "outputs": [
    {
     "data": {
      "text/plain": [
       "array([[1., 0., 0., 0.],\n",
       "       [0., 1., 0., 0.],\n",
       "       [0., 0., 1., 0.],\n",
       "       [0., 0., 0., 1.]])"
      ]
     },
     "execution_count": 106,
     "metadata": {},
     "output_type": "execute_result"
    }
   ],
   "source": [
    "np.eye(4)"
   ]
  },
  {
   "cell_type": "code",
   "execution_count": 107,
   "id": "5150c7e6-a82c-4c8e-afe5-cab3bbe9dd84",
   "metadata": {},
   "outputs": [
    {
     "data": {
      "text/plain": [
       "array([[1., 0., 0.],\n",
       "       [0., 1., 0.],\n",
       "       [0., 0., 1.],\n",
       "       [0., 0., 0.]])"
      ]
     },
     "execution_count": 107,
     "metadata": {},
     "output_type": "execute_result"
    }
   ],
   "source": [
    "np.eye(4,3)"
   ]
  },
  {
   "cell_type": "code",
   "execution_count": 109,
   "id": "16cd013e-c656-429b-a474-fc499e332411",
   "metadata": {},
   "outputs": [
    {
     "data": {
      "text/plain": [
       "array([0, 1, 2, 0, 1, 2])"
      ]
     },
     "execution_count": 109,
     "metadata": {},
     "output_type": "execute_result"
    }
   ],
   "source": [
    "a= np.array([0,1,2])\n",
    "np.tile(a,2) # 2번반복"
   ]
  },
  {
   "cell_type": "code",
   "execution_count": 305,
   "id": "2c85acc4-8d55-45a6-97b4-bb794d54ba3b",
   "metadata": {},
   "outputs": [
    {
     "data": {
      "text/plain": [
       "array([[0, 1, 2, 0, 1, 2],\n",
       "       [0, 1, 2, 0, 1, 2],\n",
       "       [0, 1, 2, 0, 1, 2]])"
      ]
     },
     "execution_count": 305,
     "metadata": {},
     "output_type": "execute_result"
    }
   ],
   "source": [
    "a= np.array([0,1,2])\n",
    "np.tile(a,(3,2)) # 행은 3번 열은 2번 반복 "
   ]
  },
  {
   "cell_type": "code",
   "execution_count": 317,
   "id": "5a6f9ebb-fc9e-4d36-84df-543fe413200c",
   "metadata": {},
   "outputs": [
    {
     "data": {
      "text/plain": [
       "array([[2.12199579e-314, 6.36598737e-314, 1.06099790e-313],\n",
       "       [2.33419537e-313, 2.75859453e-313, 3.18299369e-313]])"
      ]
     },
     "execution_count": 317,
     "metadata": {},
     "output_type": "execute_result"
    }
   ],
   "source": [
    "np.empty((2,3)) #null에 해당하는 주소값 2행 3열"
   ]
  },
  {
   "cell_type": "code",
   "execution_count": 114,
   "id": "10e1c7f2-0f7e-4217-a4dc-d737b5b5f696",
   "metadata": {},
   "outputs": [
    {
     "data": {
      "text/plain": [
       "array([[0, 0, 0],\n",
       "       [0, 0, 0]])"
      ]
     },
     "execution_count": 114,
     "metadata": {},
     "output_type": "execute_result"
    }
   ],
   "source": [
    "a= np.arange(6).reshape(2,3)\n",
    "np.zeros_like(a) # 형태와 데이터 타입유지하면서 0으로 채움"
   ]
  },
  {
   "cell_type": "code",
   "execution_count": 117,
   "id": "7e973e98-ffa9-4d88-8533-e99b63f5a60e",
   "metadata": {},
   "outputs": [
    {
     "data": {
      "text/plain": [
       "[1, 2, 3, 4]"
      ]
     },
     "execution_count": 117,
     "metadata": {},
     "output_type": "execute_result"
    }
   ],
   "source": [
    "a=[1,2,3,4]\n",
    "b=a\n",
    "a.copy()\n",
    "import copy# 카피라는 모듈 가져와 사용\n",
    "copy.copy(a)"
   ]
  },
  {
   "cell_type": "code",
   "execution_count": 125,
   "id": "5c7617e4-5257-4d81-9141-8e3c51906fc3",
   "metadata": {},
   "outputs": [],
   "source": [
    "a=np.array([1,2,3,4])\n",
    "b=a\n",
    "c= a.copy()\n",
    "d= copy.copy(a)"
   ]
  },
  {
   "cell_type": "code",
   "execution_count": 119,
   "id": "271d06be-6401-4bce-873d-13d33b50de80",
   "metadata": {},
   "outputs": [],
   "source": [
    "b[0]=100"
   ]
  },
  {
   "cell_type": "code",
   "execution_count": 120,
   "id": "b14f942e-0d39-4688-9b20-23cee38f37da",
   "metadata": {},
   "outputs": [
    {
     "data": {
      "text/plain": [
       "array([100,   2,   3,   4])"
      ]
     },
     "execution_count": 120,
     "metadata": {},
     "output_type": "execute_result"
    }
   ],
   "source": [
    "b"
   ]
  },
  {
   "cell_type": "code",
   "execution_count": 121,
   "id": "edf4464e-cdad-4f3b-804c-2ae77d55e87b",
   "metadata": {},
   "outputs": [
    {
     "data": {
      "text/plain": [
       "<function ndarray.copy>"
      ]
     },
     "execution_count": 121,
     "metadata": {},
     "output_type": "execute_result"
    }
   ],
   "source": [
    "c"
   ]
  },
  {
   "cell_type": "code",
   "execution_count": 122,
   "id": "5bf647bd-7239-4f21-8423-99fad57fd993",
   "metadata": {},
   "outputs": [
    {
     "data": {
      "text/plain": [
       "array([1, 2, 3, 4])"
      ]
     },
     "execution_count": 122,
     "metadata": {},
     "output_type": "execute_result"
    }
   ],
   "source": [
    "d"
   ]
  },
  {
   "cell_type": "code",
   "execution_count": 310,
   "id": "47f0d093-d885-4a24-b35d-97e5b0f710fa",
   "metadata": {},
   "outputs": [
    {
     "data": {
      "text/plain": [
       "array([1, 3, 5, 7])"
      ]
     },
     "execution_count": 310,
     "metadata": {},
     "output_type": "execute_result"
    }
   ],
   "source": [
    "np.arange(1,9,2) # 9는 제외"
   ]
  },
  {
   "cell_type": "code",
   "execution_count": 127,
   "id": "92cedc0d-37c8-42d1-b0ec-b8108fc7b004",
   "metadata": {},
   "outputs": [
    {
     "data": {
      "text/plain": [
       "array([0.        , 0.02040816, 0.04081633, 0.06122449, 0.08163265,\n",
       "       0.10204082, 0.12244898, 0.14285714, 0.16326531, 0.18367347,\n",
       "       0.20408163, 0.2244898 , 0.24489796, 0.26530612, 0.28571429,\n",
       "       0.30612245, 0.32653061, 0.34693878, 0.36734694, 0.3877551 ,\n",
       "       0.40816327, 0.42857143, 0.44897959, 0.46938776, 0.48979592,\n",
       "       0.51020408, 0.53061224, 0.55102041, 0.57142857, 0.59183673,\n",
       "       0.6122449 , 0.63265306, 0.65306122, 0.67346939, 0.69387755,\n",
       "       0.71428571, 0.73469388, 0.75510204, 0.7755102 , 0.79591837,\n",
       "       0.81632653, 0.83673469, 0.85714286, 0.87755102, 0.89795918,\n",
       "       0.91836735, 0.93877551, 0.95918367, 0.97959184, 1.        ])"
      ]
     },
     "execution_count": 311,
     "metadata": {},
     "output_type": "execute_result"
    }
   ],
   "source": [
    "np.linspace(0,1,6) # 1은 포함 함수가 다름"
   ]
  },
  {
   "cell_type": "code",
   "execution_count": 313,
   "id": "9bdb94f2-0bdb-4aa3-b094-cbd76370acfc",
   "metadata": {},
   "outputs": [
    {
     "data": {
      "text/plain": [
       "array([[1, 1, 1],\n",
       "       [1, 1, 1],\n",
       "       [1, 1, 1]])"
      ]
     },
     "execution_count": 313,
     "metadata": {},
     "output_type": "execute_result"
    }
   ],
   "source": [
    "np.ones((3,3),int)"
   ]
  },
  {
   "cell_type": "code",
   "execution_count": 129,
   "id": "fadc9150-5917-4c8e-9013-07862e1706d7",
   "metadata": {},
   "outputs": [
    {
     "ename": "SyntaxError",
     "evalue": "invalid syntax (1701443209.py, line 1)",
     "output_type": "error",
     "traceback": [
      "\u001b[1;36m  Input \u001b[1;32mIn [129]\u001b[1;36m\u001b[0m\n\u001b[1;33m    stack 맨처음 들어간게 맨막자막\u001b[0m\n\u001b[1;37m          ^\u001b[0m\n\u001b[1;31mSyntaxError\u001b[0m\u001b[1;31m:\u001b[0m invalid syntax\n"
     ]
    }
   ],
   "source": [
    "stack 맨처음 들어간게 맨막자막\n",
    "stack이란 FIL 선착순 반대\n",
    "ctrl -  z  쌓여있으니까 맨마지막이 처음"
   ]
  },
  {
   "cell_type": "code",
   "execution_count": 130,
   "id": "d32763a4-bf2c-4f02-872d-34ea98843e44",
   "metadata": {},
   "outputs": [
    {
     "data": {
      "text/plain": [
       "[0, 10, 20, 30, 40, 50, 60, 70, 80, 90]"
      ]
     },
     "execution_count": 130,
     "metadata": {},
     "output_type": "execute_result"
    }
   ],
   "source": [
    "[0,10,20,30,40,50,60,70,80,90]\n"
   ]
  },
  {
   "cell_type": "code",
   "execution_count": 315,
   "id": "c2fba4ff-3cd0-4163-9786-b93a1cd523c5",
   "metadata": {},
   "outputs": [],
   "source": [
    "a= np.arange(10)*10\n",
    "a= np.arange(10)*20"
   ]
  },
  {
   "cell_type": "code",
   "execution_count": 137,
   "id": "497fbde8-ebc8-4f10-a262-71bd5f3c5e77",
   "metadata": {},
   "outputs": [
    {
     "ename": "ValueError",
     "evalue": "all the input array dimensions for the concatenation axis must match exactly, but along dimension 1, the array at index 0 has size 10 and the array at index 1 has size 4",
     "output_type": "error",
     "traceback": [
      "\u001b[1;31m---------------------------------------------------------------------------\u001b[0m",
      "\u001b[1;31mValueError\u001b[0m                                Traceback (most recent call last)",
      "Input \u001b[1;32mIn [137]\u001b[0m, in \u001b[0;36m<cell line: 1>\u001b[1;34m()\u001b[0m\n\u001b[1;32m----> 1\u001b[0m \u001b[43mnp\u001b[49m\u001b[38;5;241;43m.\u001b[39;49m\u001b[43mvstack\u001b[49m\u001b[43m(\u001b[49m\u001b[43m(\u001b[49m\u001b[43ma\u001b[49m\u001b[43m,\u001b[49m\u001b[43m \u001b[49m\u001b[43mb\u001b[49m\u001b[43m)\u001b[49m\u001b[43m)\u001b[49m\n",
      "File \u001b[1;32m<__array_function__ internals>:180\u001b[0m, in \u001b[0;36mvstack\u001b[1;34m(*args, **kwargs)\u001b[0m\n",
      "File \u001b[1;32m~\\AppData\\Local\\Programs\\Python\\Python310\\lib\\site-packages\\numpy\\core\\shape_base.py:282\u001b[0m, in \u001b[0;36mvstack\u001b[1;34m(tup)\u001b[0m\n\u001b[0;32m    280\u001b[0m \u001b[38;5;28;01mif\u001b[39;00m \u001b[38;5;129;01mnot\u001b[39;00m \u001b[38;5;28misinstance\u001b[39m(arrs, \u001b[38;5;28mlist\u001b[39m):\n\u001b[0;32m    281\u001b[0m     arrs \u001b[38;5;241m=\u001b[39m [arrs]\n\u001b[1;32m--> 282\u001b[0m \u001b[38;5;28;01mreturn\u001b[39;00m \u001b[43m_nx\u001b[49m\u001b[38;5;241;43m.\u001b[39;49m\u001b[43mconcatenate\u001b[49m\u001b[43m(\u001b[49m\u001b[43marrs\u001b[49m\u001b[43m,\u001b[49m\u001b[43m \u001b[49m\u001b[38;5;241;43m0\u001b[39;49m\u001b[43m)\u001b[49m\n",
      "File \u001b[1;32m<__array_function__ internals>:180\u001b[0m, in \u001b[0;36mconcatenate\u001b[1;34m(*args, **kwargs)\u001b[0m\n",
      "\u001b[1;31mValueError\u001b[0m: all the input array dimensions for the concatenation axis must match exactly, but along dimension 1, the array at index 0 has size 10 and the array at index 1 has size 4"
     ]
    }
   ],
   "source": [
    "# 수직으로 쌓음np.vstack((a, b)) "
   ]
  },
  {
   "cell_type": "code",
   "execution_count": 316,
   "id": "2c2ce05c-bcb1-488a-92db-adc482b0fbc0",
   "metadata": {},
   "outputs": [
    {
     "data": {
      "text/plain": [
       "array([  0,  20,  40,  60,  80, 100, 120, 140, 160, 180,   1])"
      ]
     },
     "execution_count": 316,
     "metadata": {},
     "output_type": "execute_result"
    }
   ],
   "source": [
    "np.hstack((a, b)) "
   ]
  },
  {
   "cell_type": "code",
   "execution_count": 140,
   "id": "270e23ee-edea-4de0-bb42-7b69e813fe3f",
   "metadata": {},
   "outputs": [
    {
     "data": {
      "text/plain": [
       "(14,)"
      ]
     },
     "execution_count": 140,
     "metadata": {},
     "output_type": "execute_result"
    }
   ],
   "source": [
    "np.hstack((a, b)).shape # shape는 몇행 몇열인지 알려줌 "
   ]
  },
  {
   "cell_type": "code",
   "execution_count": 318,
   "id": "7e1b6bd1-36a2-4269-863d-1e4a65f57e28",
   "metadata": {},
   "outputs": [],
   "source": [
    "a=np.array([[1],[2],[3]])\n"
   ]
  },
  {
   "cell_type": "code",
   "execution_count": 319,
   "id": "d8631ae9-170e-482c-9d9c-2c3434f2ad33",
   "metadata": {},
   "outputs": [
    {
     "data": {
      "text/plain": [
       "array([[1],\n",
       "       [2],\n",
       "       [3]])"
      ]
     },
     "execution_count": 319,
     "metadata": {},
     "output_type": "execute_result"
    }
   ],
   "source": [
    "a"
   ]
  },
  {
   "cell_type": "code",
   "execution_count": 321,
   "id": "a30e706e-0530-4af9-9081-5fd642034953",
   "metadata": {},
   "outputs": [
    {
     "name": "stdout",
     "output_type": "stream",
     "text": [
      "(3, 1)\n"
     ]
    }
   ],
   "source": [
    "a=np.array([[1],[2],[3]])\n",
    "print(a.shape)\n",
    "b=np.array([[1],[2],[3]])\n"
   ]
  },
  {
   "cell_type": "code",
   "execution_count": 323,
   "id": "c82ea1e0-1d17-41f5-aa04-be3be5fd3427",
   "metadata": {},
   "outputs": [
    {
     "data": {
      "text/plain": [
       "array([[1, 1],\n",
       "       [2, 2],\n",
       "       [3, 3]])"
      ]
     },
     "execution_count": 323,
     "metadata": {},
     "output_type": "execute_result"
    }
   ],
   "source": [
    "np.hstack((a,b))"
   ]
  },
  {
   "cell_type": "code",
   "execution_count": 322,
   "id": "640831a7-64c4-46ef-bfdf-5878d600a8fb",
   "metadata": {},
   "outputs": [
    {
     "data": {
      "text/plain": [
       "array([[1],\n",
       "       [2],\n",
       "       [3],\n",
       "       [1],\n",
       "       [2],\n",
       "       [3]])"
      ]
     },
     "execution_count": 322,
     "metadata": {},
     "output_type": "execute_result"
    }
   ],
   "source": [
    "np.vstack((a,b))"
   ]
  },
  {
   "cell_type": "code",
   "execution_count": 149,
   "id": "ec6995bb-2fd7-496c-b92d-e94ee509509b",
   "metadata": {},
   "outputs": [
    {
     "data": {
      "text/plain": [
       "array([[[1, 1]],\n",
       "\n",
       "       [[2, 2]],\n",
       "\n",
       "       [[3, 3]]])"
      ]
     },
     "execution_count": 149,
     "metadata": {},
     "output_type": "execute_result"
    }
   ],
   "source": [
    "np.dstack((a,b))#3차원"
   ]
  },
  {
   "cell_type": "code",
   "execution_count": 380,
   "id": "44c2ddb2-3bd8-4793-9268-82150d88dd95",
   "metadata": {},
   "outputs": [
    {
     "data": {
      "text/plain": [
       "array([[ 0,  1,  2,  3,  4,  5,  6,  7],\n",
       "       [ 8,  9, 10, 11, 12, 13, 14, 15],\n",
       "       [16, 17, 18, 19, 20, 21, 22, 23],\n",
       "       [24, 25, 26, 27, 28, 29, 30, 31]])"
      ]
     },
     "execution_count": 380,
     "metadata": {},
     "output_type": "execute_result"
    }
   ],
   "source": [
    "a =np.arange(32).reshape(4,8)\n",
    "a"
   ]
  },
  {
   "cell_type": "code",
   "execution_count": 152,
   "id": "aed4fea4-2234-4b39-a460-f5e0807da9c7",
   "metadata": {},
   "outputs": [
    {
     "data": {
      "text/plain": [
       "[array([[ 0,  1,  2,  3],\n",
       "        [ 8,  9, 10, 11],\n",
       "        [16, 17, 18, 19],\n",
       "        [24, 25, 26, 27]]),\n",
       " array([[ 4,  5,  6,  7],\n",
       "        [12, 13, 14, 15],\n",
       "        [20, 21, 22, 23],\n",
       "        [28, 29, 30, 31]])]"
      ]
     },
     "execution_count": 152,
     "metadata": {},
     "output_type": "execute_result"
    }
   ],
   "source": [
    "np.hsplit(a,2) # 수평분리"
   ]
  },
  {
   "cell_type": "code",
   "execution_count": 354,
   "id": "336a3ba8-a50c-4e4a-9294-d2e4ec94d6c3",
   "metadata": {},
   "outputs": [
    {
     "data": {
      "text/plain": [
       "[array([[ 0,  1,  2,  3,  4,  5,  6,  7],\n",
       "        [ 8,  9, 10, 11, 12, 13, 14, 15]]),\n",
       " array([[16, 17, 18, 19, 20, 21, 22, 23],\n",
       "        [24, 25, 26, 27, 28, 29, 30, 31]])]"
      ]
     },
     "execution_count": 354,
     "metadata": {},
     "output_type": "execute_result"
    }
   ],
   "source": [
    "np.vsplit(a,2) #수직분리"
   ]
  },
  {
   "cell_type": "code",
   "execution_count": 355,
   "id": "8c47c72b-ce9a-45a2-b585-2c1cd1e063da",
   "metadata": {},
   "outputs": [
    {
     "data": {
      "text/plain": [
       "(4, 8)"
      ]
     },
     "execution_count": 355,
     "metadata": {},
     "output_type": "execute_result"
    }
   ],
   "source": [
    "a.shape"
   ]
  },
  {
   "cell_type": "code",
   "execution_count": 382,
   "id": "5a3d009b-c1eb-44d3-b2f7-1a6854d83868",
   "metadata": {},
   "outputs": [
    {
     "data": {
      "text/plain": [
       "array([ 0,  1,  2,  3,  4,  5,  6,  7,  8,  9, 10, 11, 12, 13, 14, 15, 16,\n",
       "       17, 18, 19, 20, 21, 22, 23, 24, 25, 26, 27, 28, 29, 30, 31])"
      ]
     },
     "execution_count": 382,
     "metadata": {},
     "output_type": "execute_result"
    }
   ],
   "source": [
    "a.flatten() #평평하게 "
   ]
  },
  {
   "cell_type": "code",
   "execution_count": 383,
   "id": "7ff33146-f7cd-45b8-bacc-4bc5dc13e439",
   "metadata": {},
   "outputs": [
    {
     "data": {
      "text/plain": [
       "(32,)"
      ]
     },
     "execution_count": 383,
     "metadata": {},
     "output_type": "execute_result"
    }
   ],
   "source": [
    "a.flatten().shape "
   ]
  },
  {
   "cell_type": "code",
   "execution_count": 384,
   "id": "93c18705-16e5-4bd0-9d5b-139662c24ecf",
   "metadata": {},
   "outputs": [
    {
     "data": {
      "text/plain": [
       "array([ 0,  1,  2,  3,  4,  5,  6,  7,  8,  9, 10, 11, 12, 13, 14, 15, 16,\n",
       "       17, 18, 19, 20, 21, 22, 23, 24, 25, 26, 27, 28, 29, 30, 31])"
      ]
     },
     "execution_count": 384,
     "metadata": {},
     "output_type": "execute_result"
    }
   ],
   "source": [
    "a.ravel() #복사함 # 바뀌면 원본도 바뀜"
   ]
  },
  {
   "cell_type": "code",
   "execution_count": 386,
   "id": "859bb5cb-d1fc-42a9-97a7-ef762b82bec5",
   "metadata": {},
   "outputs": [
    {
     "data": {
      "text/plain": [
       "array([[ 0,  8, 16, 24],\n",
       "       [ 1,  9, 17, 25],\n",
       "       [ 2, 10, 18, 26],\n",
       "       [ 3, 11, 19, 27],\n",
       "       [ 4, 12, 20, 28],\n",
       "       [ 5, 13, 21, 29],\n",
       "       [ 6, 14, 22, 30],\n",
       "       [ 7, 15, 23, 31]])"
      ]
     },
     "execution_count": 386,
     "metadata": {},
     "output_type": "execute_result"
    }
   ],
   "source": [
    "a.T # 4행 8열에서 8행 4열로 바꿈 "
   ]
  },
  {
   "cell_type": "code",
   "execution_count": 162,
   "id": "7e75140d-b892-4dac-ad5a-47f5296bacbe",
   "metadata": {},
   "outputs": [
    {
     "data": {
      "text/plain": [
       "array([[ 0,  8, 16, 24],\n",
       "       [ 1,  9, 17, 25],\n",
       "       [ 2, 10, 18, 26],\n",
       "       [ 3, 11, 19, 27],\n",
       "       [ 4, 12, 20, 28],\n",
       "       [ 5, 13, 21, 29],\n",
       "       [ 6, 14, 22, 30],\n",
       "       [ 7, 15, 23, 31]])"
      ]
     },
     "execution_count": 162,
     "metadata": {},
     "output_type": "execute_result"
    }
   ],
   "source": [
    "np.transpose(a)"
   ]
  },
  {
   "cell_type": "code",
   "execution_count": 163,
   "id": "635d0253-d519-4303-9c80-a18ada6d532e",
   "metadata": {},
   "outputs": [
    {
     "data": {
      "text/plain": [
       "array([[1, 3],\n",
       "       [2, 4]])"
      ]
     },
     "execution_count": 163,
     "metadata": {},
     "output_type": "execute_result"
    }
   ],
   "source": [
    "a = np.arange(1,5).reshape(2,2)\n",
    "a.T \n"
   ]
  },
  {
   "cell_type": "code",
   "execution_count": 364,
   "id": "bf423db7-b659-4c08-92d1-8fb0f0fbadc5",
   "metadata": {},
   "outputs": [
    {
     "data": {
      "text/plain": [
       "[array([[ 0,  1,  2,  3,  4,  5,  6,  7],\n",
       "        [ 8,  9, 10, 11, 12, 13, 14, 15],\n",
       "        [16, 17, 18, 19, 20, 21, 22, 23],\n",
       "        [24, 25, 26, 27, 28, 29, 30, 31]]),\n",
       " array([[ 0,  1,  2,  3,  4,  5,  6,  7],\n",
       "        [ 8,  9, 10, 11, 12, 13, 14, 15],\n",
       "        [16, 17, 18, 19, 20, 21, 22, 23],\n",
       "        [24, 25, 26, 27, 28, 29, 30, 31]])]"
      ]
     },
     "execution_count": 364,
     "metadata": {},
     "output_type": "execute_result"
    }
   ],
   "source": [
    "c = np.vstack((a,a))\n",
    "np.vsplit(c,2) "
   ]
  },
  {
   "cell_type": "code",
   "execution_count": 365,
   "id": "c9b96aac-59e7-40e2-a1bf-1c6b85d4d749",
   "metadata": {},
   "outputs": [],
   "source": [
    "#비교 \n",
    "a = np.array([1,2,3,4])\n",
    "b= np.array([1,2,3,4])              "
   ]
  },
  {
   "cell_type": "code",
   "execution_count": 169,
   "id": "7fadbd73-fedb-45f9-8434-a8c1d1cc8088",
   "metadata": {},
   "outputs": [
    {
     "data": {
      "text/plain": [
       "array([1, 2, 3, 4])"
      ]
     },
     "execution_count": 169,
     "metadata": {},
     "output_type": "execute_result"
    }
   ],
   "source": [
    "a[ :]"
   ]
  },
  {
   "cell_type": "code",
   "execution_count": 171,
   "id": "d53fa41a-3772-4f7f-8fc0-11ca4686a19d",
   "metadata": {},
   "outputs": [
    {
     "data": {
      "text/plain": [
       "array([4, 3, 2, 1])"
      ]
     },
     "execution_count": 171,
     "metadata": {},
     "output_type": "execute_result"
    }
   ],
   "source": [
    "a[::-1]"
   ]
  },
  {
   "cell_type": "code",
   "execution_count": 366,
   "id": "2840173f-1ab4-465f-9596-b03ba19b5038",
   "metadata": {},
   "outputs": [
    {
     "data": {
      "text/plain": [
       "array([[2, 1, 6],\n",
       "       [0, 7, 4],\n",
       "       [5, 3, 2]])"
      ]
     },
     "execution_count": 366,
     "metadata": {},
     "output_type": "execute_result"
    }
   ],
   "source": [
    "a= np.array([[2,1,6],[0,7,4], [5,3,2]])\n",
    "a"
   ]
  },
  {
   "cell_type": "code",
   "execution_count": 182,
   "id": "96975ce8-8540-499c-8f1f-46aeb03127b3",
   "metadata": {},
   "outputs": [
    {
     "data": {
      "text/plain": [
       "array([[1, 2, 6],\n",
       "       [0, 4, 7],\n",
       "       [2, 3, 5]])"
      ]
     },
     "execution_count": 182,
     "metadata": {},
     "output_type": "execute_result"
    }
   ],
   "source": [
    "np.sort(a) # 세로를 기준으로 바꿈 "
   ]
  },
  {
   "cell_type": "code",
   "execution_count": 184,
   "id": "7205290d-dd90-4d9b-ab67-3d1d7c4bbbb0",
   "metadata": {},
   "outputs": [
    {
     "data": {
      "text/plain": [
       "array([[0, 1, 2],\n",
       "       [2, 3, 4],\n",
       "       [5, 7, 6]])"
      ]
     },
     "execution_count": 184,
     "metadata": {},
     "output_type": "execute_result"
    }
   ],
   "source": [
    "np.sort(a, axis=0) #가로를 기준으로 열만 생각해서 바뀜 "
   ]
  },
  {
   "cell_type": "code",
   "execution_count": 186,
   "id": "c340c141-ea61-4fdc-a990-dc2857f51be7",
   "metadata": {},
   "outputs": [
    {
     "data": {
      "text/plain": [
       "array([[1, 2, 6],\n",
       "       [0, 4, 7],\n",
       "       [2, 3, 5]])"
      ]
     },
     "execution_count": 186,
     "metadata": {},
     "output_type": "execute_result"
    }
   ],
   "source": [
    "np.sort(a, axis=1) # 1이 기본값"
   ]
  },
  {
   "cell_type": "code",
   "execution_count": 187,
   "id": "a3915bda-0f42-4934-ba73-a35b052b6595",
   "metadata": {},
   "outputs": [
    {
     "data": {
      "text/plain": [
       "array([[ 0,  1,  2,  3,  4,  5],\n",
       "       [10, 11, 12, 13, 14, 15],\n",
       "       [20, 21, 22, 23, 24, 25],\n",
       "       [30, 31, 32, 33, 34, 35],\n",
       "       [40, 41, 42, 43, 44, 45],\n",
       "       [50, 51, 52, 53, 54, 55]])"
      ]
     },
     "execution_count": 187,
     "metadata": {},
     "output_type": "execute_result"
    }
   ],
   "source": [
    "a = np.arange(6).reshape(1,-1)\n",
    "b = np.arange(10,16).reshape(1,-1)\n",
    "c = np.arange(20,26).reshape(1,-1)\n",
    "d = np.arange(30,36).reshape(1,-1)\n",
    "e = np.arange(40,46).reshape(1,-1)\n",
    "f = np.arange(50,56).reshape(1,-1)\n",
    "np.vstack((a,b,c,d,e,f)) "
   ]
  },
  {
   "cell_type": "code",
   "execution_count": 230,
   "id": "d41ac73f-6981-4218-88e8-b26a8c7285d7",
   "metadata": {},
   "outputs": [],
   "source": [
    "a = np.arange(100).reshape(10,10)\n",
    "a = a[0:6:1,0:6:1] # 전체를 한다음 자름 "
   ]
  },
  {
   "cell_type": "code",
   "execution_count": 217,
   "id": "a0ada76b-a7a0-444b-905f-46532f4a50b4",
   "metadata": {},
   "outputs": [
    {
     "data": {
      "text/plain": [
       "array([[ 0,  1,  2,  3,  4,  5],\n",
       "       [10, 11, 12, 13, 14, 15],\n",
       "       [20, 21, 22, 23, 24, 25],\n",
       "       [30, 31, 32, 33, 34, 35],\n",
       "       [40, 41, 42, 43, 44, 45],\n",
       "       [50, 51, 52, 53, 54, 55]])"
      ]
     },
     "execution_count": 217,
     "metadata": {},
     "output_type": "execute_result"
    }
   ],
   "source": [
    "a"
   ]
  },
  {
   "cell_type": "code",
   "execution_count": 229,
   "id": "3e7c0449-be19-4b08-b872-140ac9ca8a72",
   "metadata": {},
   "outputs": [
    {
     "data": {
      "text/plain": [
       "array([[ 0,  1,  2,  3,  4,  5],\n",
       "       [10, 11, 12, 13, 14, 15],\n",
       "       [20, 21, 22, 23, 24, 25],\n",
       "       [30, 31, 32, 33, 34, 35],\n",
       "       [40, 41, 42, 43, 44, 45],\n",
       "       [50, 51, 52, 53, 54, 55]])"
      ]
     },
     "execution_count": 229,
     "metadata": {},
     "output_type": "execute_result"
    }
   ],
   "source": [
    "a = np.array([0,1,2,3,4,5])\n",
    "b = np.array([[0],[10],[20],[30],[40],[50]])\n",
    "a+b "
   ]
  },
  {
   "cell_type": "code",
   "execution_count": 248,
   "id": "e95bd374-0edd-43f1-971c-fd051694c1af",
   "metadata": {},
   "outputs": [
    {
     "data": {
      "text/plain": [
       "array([[ 0,  1,  2,  3,  4,  5],\n",
       "       [10, 11, 12, 13, 14, 15],\n",
       "       [20, 21, 22, 23, 24, 25],\n",
       "       [30, 31, 32, 33, 34, 35],\n",
       "       [40, 41, 42, 43, 44, 45],\n",
       "       [50, 51, 52, 53, 54, 55]])"
      ]
     },
     "execution_count": 248,
     "metadata": {},
     "output_type": "execute_result"
    }
   ],
   "source": [
    "a = np.arange(6)\n",
    "array = a.copy()\n",
    "for i in range(5):\n",
    "    i+=1\n",
    "    array = np.vstack((array, a+10*i))# array랑 쌓는것 뒤에씀 10부터 50까지 쌓음 \n",
    "array                         #i가 0이면 array가 두개 쌓임"
   ]
  },
  {
   "cell_type": "code",
   "execution_count": 395,
   "id": "188c0ee0-ed55-4eab-8e95-368ea3bda234",
   "metadata": {},
   "outputs": [
    {
     "data": {
      "text/plain": [
       "array([[  1,   2,   3,   4],\n",
       "       [ 10,  20,  30,  40],\n",
       "       [ 20,  40,  60,  80],\n",
       "       [ 30,  60,  90, 120]])"
      ]
     },
     "execution_count": 395,
     "metadata": {},
     "output_type": "execute_result"
    }
   ],
   "source": [
    "a= np.arange(1,5)\n",
    "array = a.copy()\n",
    "for i in range(3):\n",
    "    i+=1\n",
    "    array =np.vstack((array, a*10*i))\n",
    "array    "
   ]
  },
  {
   "cell_type": "code",
   "execution_count": 397,
   "id": "c8df91eb-1c6b-4085-86a8-bf719fa8b88d",
   "metadata": {},
   "outputs": [
    {
     "data": {
      "text/plain": [
       "array([ 30,  40,  40,  60,  80,  30,  60,  90, 120])"
      ]
     },
     "execution_count": 397,
     "metadata": {},
     "output_type": "execute_result"
    }
   ],
   "source": [
    "array[np.where(array>20)]"
   ]
  },
  {
   "cell_type": "code",
   "execution_count": 368,
   "id": "3bf5d74f-58a0-4c3e-bb6c-474fd91ff303",
   "metadata": {},
   "outputs": [
    {
     "name": "stdout",
     "output_type": "stream",
     "text": [
      "[[ 0  1  2  3  4  5]\n",
      " [10 11 12 13 14 15]]\n",
      "--------------------\n",
      "[[ 0  1  2  3  4  5]\n",
      " [10 11 12 13 14 15]\n",
      " [20 21 22 23 24 25]]\n",
      "--------------------\n",
      "[[ 0  1  2  3  4  5]\n",
      " [10 11 12 13 14 15]\n",
      " [20 21 22 23 24 25]\n",
      " [30 31 32 33 34 35]]\n",
      "--------------------\n",
      "[[ 0  1  2  3  4  5]\n",
      " [10 11 12 13 14 15]\n",
      " [20 21 22 23 24 25]\n",
      " [30 31 32 33 34 35]\n",
      " [40 41 42 43 44 45]]\n",
      "--------------------\n",
      "[[ 0  1  2  3  4  5]\n",
      " [10 11 12 13 14 15]\n",
      " [20 21 22 23 24 25]\n",
      " [30 31 32 33 34 35]\n",
      " [40 41 42 43 44 45]\n",
      " [50 51 52 53 54 55]]\n",
      "--------------------\n"
     ]
    },
    {
     "data": {
      "text/plain": [
       "array([[ 0,  1,  2,  3,  4,  5],\n",
       "       [10, 11, 12, 13, 14, 15],\n",
       "       [20, 21, 22, 23, 24, 25],\n",
       "       [30, 31, 32, 33, 34, 35],\n",
       "       [40, 41, 42, 43, 44, 45],\n",
       "       [50, 51, 52, 53, 54, 55]])"
      ]
     },
     "execution_count": 368,
     "metadata": {},
     "output_type": "execute_result"
    }
   ],
   "source": [
    "a = np.arange(6)\n",
    "array = a.copy()\n",
    "for i in range(1,6):\n",
    "    array = np.vstack((array, a+10*i))# 만약 a라면 두줄 더하기 두줄이됨 \n",
    "    print(array)                      # 계속 급수적으로 늘어남 \n",
    "    print(\"--\"*10)                    # array여야 a가 아니니 한줄씩 추가 \n",
    "array    \n",
    "    "
   ]
  },
  {
   "cell_type": "code",
   "execution_count": 373,
   "id": "f62eb38c-0345-4f9e-ac81-d9d0f7171b77",
   "metadata": {},
   "outputs": [
    {
     "data": {
      "text/plain": [
       "array([0, 1, 2, 3, 4, 5])"
      ]
     },
     "execution_count": 373,
     "metadata": {},
     "output_type": "execute_result"
    }
   ],
   "source": [
    "a = np.arange(6)\n",
    "a"
   ]
  },
  {
   "cell_type": "code",
   "execution_count": 372,
   "id": "804d7fd6-057b-4537-b4f6-fb27ae1b9080",
   "metadata": {},
   "outputs": [
    {
     "data": {
      "text/plain": [
       "array([[ 0,  1,  2,  3,  4,  5,  6,  7,  8,  9, 10],\n",
       "       [11, 12, 13, 14, 15, 16, 17, 18, 19, 20, 21],\n",
       "       [22, 23, 24, 25, 26, 27, 28, 29, 30, 31, 32],\n",
       "       [33, 34, 35, 36, 37, 38, 39, 40, 41, 42, 43],\n",
       "       [44, 45, 46, 47, 48, 49, 50, 51, 52, 53, 54]])"
      ]
     },
     "execution_count": 372,
     "metadata": {},
     "output_type": "execute_result"
    }
   ],
   "source": [
    "np.arange(0,55).reshape(5,-1) # reshape이 안됨"
   ]
  },
  {
   "cell_type": "code",
   "execution_count": 209,
   "id": "dfc7fc62-f5f7-4082-86bb-02f374c4a2d3",
   "metadata": {},
   "outputs": [
    {
     "ename": "IndexError",
     "evalue": "too many indices for array: array is 1-dimensional, but 2 were indexed",
     "output_type": "error",
     "traceback": [
      "\u001b[1;31m---------------------------------------------------------------------------\u001b[0m",
      "\u001b[1;31mIndexError\u001b[0m                                Traceback (most recent call last)",
      "Input \u001b[1;32mIn [209]\u001b[0m, in \u001b[0;36m<cell line: 1>\u001b[1;34m()\u001b[0m\n\u001b[1;32m----> 1\u001b[0m \u001b[43ma\u001b[49m\u001b[43m[\u001b[49m\u001b[38;5;241;43m4\u001b[39;49m\u001b[43m:\u001b[49m\u001b[43m \u001b[49m\u001b[43m,\u001b[49m\u001b[43m \u001b[49m\u001b[38;5;241;43m4\u001b[39;49m\u001b[43m:\u001b[49m\u001b[43m]\u001b[49m\n\u001b[0;32m      2\u001b[0m a[\u001b[38;5;241m0\u001b[39m,\u001b[38;5;241m3\u001b[39m:\u001b[38;5;241m5\u001b[39m]\n\u001b[0;32m      3\u001b[0m a[::,\u001b[38;5;241m2\u001b[39m]\n",
      "\u001b[1;31mIndexError\u001b[0m: too many indices for array: array is 1-dimensional, but 2 were indexed"
     ]
    }
   ],
   "source": [
    "a[4: , 4:]\n",
    "a[0,3:5]\n",
    "a[::,2]\n",
    "a[2::2,0::2] "
   ]
  },
  {
   "cell_type": "code",
   "execution_count": 207,
   "id": "fd02dabf-86dc-4f12-8b51-930b0f945ab8",
   "metadata": {},
   "outputs": [
    {
     "ename": "IndexError",
     "evalue": "too many indices for array: array is 1-dimensional, but 2 were indexed",
     "output_type": "error",
     "traceback": [
      "\u001b[1;31m---------------------------------------------------------------------------\u001b[0m",
      "\u001b[1;31mIndexError\u001b[0m                                Traceback (most recent call last)",
      "Input \u001b[1;32mIn [207]\u001b[0m, in \u001b[0;36m<cell line: 1>\u001b[1;34m()\u001b[0m\n\u001b[1;32m----> 1\u001b[0m \u001b[43ma\u001b[49m\u001b[43m[\u001b[49m\u001b[43m:\u001b[49m\u001b[43m,\u001b[49m\u001b[43m \u001b[49m\u001b[38;5;241;43m2\u001b[39;49m\u001b[43m]\u001b[49m\n\u001b[0;32m      2\u001b[0m a[\u001b[38;5;241m0\u001b[39m, \u001b[38;5;241m3\u001b[39m:\u001b[38;5;241m5\u001b[39m]\n\u001b[0;32m      3\u001b[0m a[\u001b[38;5;241m2\u001b[39m:\u001b[38;5;241m5\u001b[39m:\u001b[38;5;241m2\u001b[39m, \u001b[38;5;241m0\u001b[39m:\u001b[38;5;241m5\u001b[39m:\u001b[38;5;241m2\u001b[39m]\n",
      "\u001b[1;31mIndexError\u001b[0m: too many indices for array: array is 1-dimensional, but 2 were indexed"
     ]
    }
   ],
   "source": [
    "a[:, 2]\n",
    "a[0, 3:5]\n",
    "a[2:5:2, 0:5:2]\n",
    "a[4:, 4:] "
   ]
  },
  {
   "cell_type": "code",
   "execution_count": 210,
   "id": "e564caa8-8b69-402f-a949-fbc8db26b20e",
   "metadata": {},
   "outputs": [
    {
     "ename": "SyntaxError",
     "evalue": "invalid syntax (2280169642.py, line 1)",
     "output_type": "error",
     "traceback": [
      "\u001b[1;36m  Input \u001b[1;32mIn [210]\u001b[1;36m\u001b[0m\n\u001b[1;33m    arr[2] -행 전체를 가리킴\u001b[0m\n\u001b[1;37m              ^\u001b[0m\n\u001b[1;31mSyntaxError\u001b[0m\u001b[1;31m:\u001b[0m invalid syntax\n"
     ]
    }
   ],
   "source": [
    "arr[2] -행 전체를 가리킴 "
   ]
  },
  {
   "cell_type": "code",
   "execution_count": 370,
   "id": "ff360d88-8f46-40b5-9c77-9f8d889e0ab3",
   "metadata": {},
   "outputs": [
    {
     "data": {
      "text/plain": [
       "array([0, 1])"
      ]
     },
     "execution_count": 370,
     "metadata": {},
     "output_type": "execute_result"
    }
   ],
   "source": [
    "a[:2] #0과 1행 보여줌"
   ]
  },
  {
   "cell_type": "code",
   "execution_count": 374,
   "id": "d0396ebf-d2e0-485c-8958-450cdf4033d6",
   "metadata": {},
   "outputs": [
    {
     "data": {
      "text/plain": [
       "array([0, 1, 2, 3, 4, 5])"
      ]
     },
     "execution_count": 374,
     "metadata": {},
     "output_type": "execute_result"
    }
   ],
   "source": [
    "a = np.arange(6)\n",
    "a"
   ]
  },
  {
   "cell_type": "code",
   "execution_count": 375,
   "id": "f2f28dd3-1901-449d-95e5-7f3a16f5db85",
   "metadata": {},
   "outputs": [
    {
     "data": {
      "text/plain": [
       "array([1, 2, 1])"
      ]
     },
     "execution_count": 375,
     "metadata": {},
     "output_type": "execute_result"
    }
   ],
   "source": [
    "a[[1,2,-5]]"
   ]
  },
  {
   "cell_type": "code",
   "execution_count": 376,
   "id": "ae914369-6efe-4d2c-8b2f-c34e47fae7fa",
   "metadata": {},
   "outputs": [
    {
     "data": {
      "text/plain": [
       "array([1, 2, 3])"
      ]
     },
     "execution_count": 376,
     "metadata": {},
     "output_type": "execute_result"
    }
   ],
   "source": [
    "indices = [1,2,-3] # 인덱스번호만 따로 묶음\n",
    "a[indices]"
   ]
  },
  {
   "cell_type": "code",
   "execution_count": 242,
   "id": "fbe152f9-4932-4d2a-aeec-d223d9174d20",
   "metadata": {},
   "outputs": [
    {
     "data": {
      "text/plain": [
       "array([10, 11, 12, 13, 14, 15, 16, 17])"
      ]
     },
     "execution_count": 242,
     "metadata": {},
     "output_type": "execute_result"
    }
   ],
   "source": [
    "a =np.arange(8)+10\n",
    "a"
   ]
  },
  {
   "cell_type": "code",
   "execution_count": 243,
   "id": "7648d494-4d8a-4176-873d-0f9670cbed51",
   "metadata": {},
   "outputs": [
    {
     "data": {
      "text/plain": [
       "array([ 0, 10, 20, 30, 40, 50, 60, 70])"
      ]
     },
     "execution_count": 243,
     "metadata": {},
     "output_type": "execute_result"
    }
   ],
   "source": [
    "a =np.arange(8)*10\n",
    "a"
   ]
  },
  {
   "cell_type": "code",
   "execution_count": 237,
   "id": "ad968cce-927c-4d64-b2d8-f468329efc4c",
   "metadata": {},
   "outputs": [
    {
     "data": {
      "text/plain": [
       "array([0, 1, 2, 3, 4, 5, 6, 7])"
      ]
     },
     "execution_count": 237,
     "metadata": {},
     "output_type": "execute_result"
    }
   ],
   "source": [
    "np.arange(8)"
   ]
  },
  {
   "cell_type": "code",
   "execution_count": 224,
   "id": "75545432-00e7-4979-b2ef-54628b58f0f4",
   "metadata": {},
   "outputs": [
    {
     "data": {
      "text/plain": [
       "array([10, 20, 50])"
      ]
     },
     "execution_count": 224,
     "metadata": {},
     "output_type": "execute_result"
    }
   ],
   "source": [
    "a[[1,2,-3]]"
   ]
  },
  {
   "cell_type": "code",
   "execution_count": 225,
   "id": "3cf76734-3cb5-48de-bd1b-a88d083ad08f",
   "metadata": {},
   "outputs": [
    {
     "data": {
      "text/plain": [
       "array([10, 20, 50])"
      ]
     },
     "execution_count": 225,
     "metadata": {},
     "output_type": "execute_result"
    }
   ],
   "source": [
    "indices = [1,2,-3] # 인덱스번호만 따로 묶음\n",
    "a[indices]"
   ]
  },
  {
   "cell_type": "code",
   "execution_count": 226,
   "id": "fff68fdc-a9b3-41de-9246-fbcbbc5e3811",
   "metadata": {},
   "outputs": [
    {
     "data": {
      "text/plain": [
       "array([10, 20, 50])"
      ]
     },
     "execution_count": 226,
     "metadata": {},
     "output_type": "execute_result"
    }
   ],
   "source": [
    "mask=[False, True, True, False,False,True,False,False ]\n",
    "a[mask]"
   ]
  },
  {
   "cell_type": "code",
   "execution_count": 377,
   "id": "793f82f8-2faf-4390-bdbb-6d5a85b3e9b7",
   "metadata": {},
   "outputs": [
    {
     "data": {
      "text/plain": [
       "array([0, 1, 1, 0, 0, 1, 0, 0])"
      ]
     },
     "execution_count": 377,
     "metadata": {},
     "output_type": "execute_result"
    }
   ],
   "source": [
    "np.array([0,1,1,0,0,1,0,0])"
   ]
  },
  {
   "cell_type": "code",
   "execution_count": 227,
   "id": "54b73e19-8b4d-4222-96a4-cbd4c09732ba",
   "metadata": {},
   "outputs": [
    {
     "data": {
      "text/plain": [
       "array([False,  True,  True, False, False,  True, False, False])"
      ]
     },
     "execution_count": 227,
     "metadata": {},
     "output_type": "execute_result"
    }
   ],
   "source": [
    "mask =np.array([0,1,1,0,0,1,0,0], dtype=bool)#false =0 \n",
    "mask             "
   ]
  },
  {
   "cell_type": "code",
   "execution_count": 232,
   "id": "120333b9-2058-47ef-946d-29e7ad0b0ada",
   "metadata": {},
   "outputs": [
    {
     "data": {
      "text/plain": [
       "[1, 12, 20, 23]"
      ]
     },
     "execution_count": 232,
     "metadata": {},
     "output_type": "execute_result"
    }
   ],
   "source": [
    "[a[0,1], a[1,2], a[2,0] ,a[2,3]]"
   ]
  },
  {
   "cell_type": "code",
   "execution_count": 233,
   "id": "ef91f6ff-bc93-41cc-8c07-f517892325f8",
   "metadata": {},
   "outputs": [
    {
     "data": {
      "text/plain": [
       "array([ 1, 12, 20, 23])"
      ]
     },
     "execution_count": 233,
     "metadata": {},
     "output_type": "execute_result"
    }
   ],
   "source": [
    "a[[0,1,2,2], [1,2,0,3]]"
   ]
  },
  {
   "cell_type": "code",
   "execution_count": 378,
   "id": "f0650d07-ed0b-4e72-ac24-9a65fdd273bb",
   "metadata": {},
   "outputs": [
    {
     "data": {
      "text/plain": [
       "array([ 1,  7, 13, 19])"
      ]
     },
     "execution_count": 378,
     "metadata": {},
     "output_type": "execute_result"
    }
   ],
   "source": [
    "b= np.arange(25).reshape(5,5)\n",
    "b[[0,1,2,3],[1,2,3,4]]"
   ]
  },
  {
   "cell_type": "code",
   "execution_count": 255,
   "id": "b4b44695-43d2-4ef8-bc65-c7dbd814e869",
   "metadata": {},
   "outputs": [],
   "source": [
    "a = np.array([[1,2,3],[4,5,6]])"
   ]
  },
  {
   "cell_type": "code",
   "execution_count": 256,
   "id": "4dd4366a-7df4-49b7-a957-a7f040f840ee",
   "metadata": {},
   "outputs": [
    {
     "data": {
      "text/plain": [
       "array([[1, 2, 3],\n",
       "       [4, 5, 6]])"
      ]
     },
     "execution_count": 256,
     "metadata": {},
     "output_type": "execute_result"
    }
   ],
   "source": [
    "a"
   ]
  },
  {
   "cell_type": "code",
   "execution_count": 259,
   "id": "1dda2ef1-9f3c-4b84-afb2-a0994b482c58",
   "metadata": {},
   "outputs": [
    {
     "ename": "TypeError",
     "evalue": "'numpy.ndarray' object is not callable",
     "output_type": "error",
     "traceback": [
      "\u001b[1;31m---------------------------------------------------------------------------\u001b[0m",
      "\u001b[1;31mTypeError\u001b[0m                                 Traceback (most recent call last)",
      "Input \u001b[1;32mIn [259]\u001b[0m, in \u001b[0;36m<cell line: 2>\u001b[1;34m()\u001b[0m\n\u001b[0;32m      1\u001b[0m \u001b[38;5;28;01mimport\u001b[39;00m \u001b[38;5;21;01mnumpy\u001b[39;00m\n\u001b[1;32m----> 2\u001b[0m \u001b[38;5;28;43msum\u001b[39;49m\u001b[43m(\u001b[49m\u001b[43ma\u001b[49m\u001b[43m)\u001b[49m\n",
      "\u001b[1;31mTypeError\u001b[0m: 'numpy.ndarray' object is not callable"
     ]
    }
   ],
   "source": [
    "import numpy\n",
    "sum(a)"
   ]
  },
  {
   "cell_type": "code",
   "execution_count": 258,
   "id": "46517029-2046-4ea8-8fac-bb6e06a7d409",
   "metadata": {},
   "outputs": [
    {
     "data": {
      "text/plain": [
       "21"
      ]
     },
     "execution_count": 258,
     "metadata": {},
     "output_type": "execute_result"
    }
   ],
   "source": [
    "np.sum(a)"
   ]
  },
  {
   "cell_type": "code",
   "execution_count": 260,
   "id": "7fd03d7b-5fa2-454e-bad6-7a7d4ed7d3d7",
   "metadata": {},
   "outputs": [
    {
     "data": {
      "text/plain": [
       "array([5, 7, 9])"
      ]
     },
     "execution_count": 260,
     "metadata": {},
     "output_type": "execute_result"
    }
   ],
   "source": [
    "np.sum(a, axis=0) # 세로로 계산"
   ]
  },
  {
   "cell_type": "code",
   "execution_count": 263,
   "id": "6e8072c0-4839-4cfb-bcac-663a45622748",
   "metadata": {},
   "outputs": [
    {
     "data": {
      "text/plain": [
       "array([ 6, 15])"
      ]
     },
     "execution_count": 263,
     "metadata": {},
     "output_type": "execute_result"
    }
   ],
   "source": [
    "np.sum(a, axis=1) #가로 계산"
   ]
  },
  {
   "cell_type": "code",
   "execution_count": 264,
   "id": "adec10da-14f3-4bda-aa72-6aefb128d851",
   "metadata": {},
   "outputs": [
    {
     "data": {
      "text/plain": [
       "1"
      ]
     },
     "execution_count": 264,
     "metadata": {},
     "output_type": "execute_result"
    }
   ],
   "source": [
    "np.min(a) #전체중 최소"
   ]
  },
  {
   "cell_type": "code",
   "execution_count": 265,
   "id": "5210885a-51e3-4a25-a6d2-60ea7dc944c5",
   "metadata": {},
   "outputs": [
    {
     "data": {
      "text/plain": [
       "array([1, 2, 3])"
      ]
     },
     "execution_count": 265,
     "metadata": {},
     "output_type": "execute_result"
    }
   ],
   "source": [
    "np.min(a, axis=0)"
   ]
  },
  {
   "cell_type": "code",
   "execution_count": 266,
   "id": "8686e923-d0cb-474d-9800-1b8c5ce169f4",
   "metadata": {},
   "outputs": [
    {
     "data": {
      "text/plain": [
       "0"
      ]
     },
     "execution_count": 266,
     "metadata": {},
     "output_type": "execute_result"
    }
   ],
   "source": [
    "np.argmin(a) #1234566 중에 최소값인덱스 0 "
   ]
  },
  {
   "cell_type": "code",
   "execution_count": 268,
   "id": "2529ae81-2b7d-4a4b-90b0-bbdd385aba6b",
   "metadata": {},
   "outputs": [
    {
     "data": {
      "text/plain": [
       "5"
      ]
     },
     "execution_count": 268,
     "metadata": {},
     "output_type": "execute_result"
    }
   ],
   "source": [
    "np.argmax(a) # 123456중에 최대값 인덱스 5 1차원으로 만든후 "
   ]
  },
  {
   "cell_type": "code",
   "execution_count": 269,
   "id": "6299c564-2a36-4747-940d-1407e08d3f2b",
   "metadata": {},
   "outputs": [
    {
     "data": {
      "text/plain": [
       "array([5, 7, 9])"
      ]
     },
     "execution_count": 269,
     "metadata": {},
     "output_type": "execute_result"
    }
   ],
   "source": [
    "a= np.array([1,2,3])\n",
    "b = np.array([4,5,6])\n",
    "a+b"
   ]
  },
  {
   "cell_type": "code",
   "execution_count": 270,
   "id": "73c46b01-6d80-46d3-85ed-1abc3ffa7767",
   "metadata": {},
   "outputs": [
    {
     "data": {
      "text/plain": [
       "array([  1,  32, 729])"
      ]
     },
     "execution_count": 270,
     "metadata": {},
     "output_type": "execute_result"
    }
   ],
   "source": [
    "a**b"
   ]
  },
  {
   "cell_type": "code",
   "execution_count": 271,
   "id": "378155dd-daa8-4b4d-9e03-d3f19dc7a4ac",
   "metadata": {},
   "outputs": [
    {
     "data": {
      "text/plain": [
       "array([0.84147098, 0.90929743, 0.14112001])"
      ]
     },
     "execution_count": 271,
     "metadata": {},
     "output_type": "execute_result"
    }
   ],
   "source": [
    "np.sin(a) # 각각에 대해 sin값"
   ]
  },
  {
   "cell_type": "code",
   "execution_count": 272,
   "id": "0a02475b-6f8d-49e0-b75b-291898e03c11",
   "metadata": {},
   "outputs": [
    {
     "data": {
      "text/plain": [
       "3"
      ]
     },
     "execution_count": 272,
     "metadata": {},
     "output_type": "execute_result"
    }
   ],
   "source": [
    "np.max(a)"
   ]
  },
  {
   "cell_type": "code",
   "execution_count": 273,
   "id": "e659bf64-0c34-409a-a67c-a779c5d6a9d5",
   "metadata": {},
   "outputs": [
    {
     "ename": "TypeError",
     "evalue": "where() missing 1 required positional argument: 'condition'",
     "output_type": "error",
     "traceback": [
      "\u001b[1;31m---------------------------------------------------------------------------\u001b[0m",
      "\u001b[1;31mTypeError\u001b[0m                                 Traceback (most recent call last)",
      "Input \u001b[1;32mIn [273]\u001b[0m, in \u001b[0;36m<cell line: 1>\u001b[1;34m()\u001b[0m\n\u001b[1;32m----> 1\u001b[0m \u001b[43mnp\u001b[49m\u001b[38;5;241;43m.\u001b[39;49m\u001b[43mwhere\u001b[49m\u001b[43m(\u001b[49m\u001b[43m)\u001b[49m\n",
      "File \u001b[1;32m<__array_function__ internals>:179\u001b[0m, in \u001b[0;36mwhere\u001b[1;34m(*args, **kwargs)\u001b[0m\n",
      "\u001b[1;31mTypeError\u001b[0m: where() missing 1 required positional argument: 'condition'"
     ]
    }
   ],
   "source": [
    "np.where() #참일때실행 것짓일떄 뭐 인덱스가 나옴"
   ]
  },
  {
   "cell_type": "code",
   "execution_count": 379,
   "id": "80ccd990-8206-4fe8-8e23-e6f7f038f658",
   "metadata": {},
   "outputs": [
    {
     "data": {
      "text/plain": [
       "(array([2, 3, 4], dtype=int64),)"
      ]
     },
     "execution_count": 379,
     "metadata": {},
     "output_type": "execute_result"
    }
   ],
   "source": [
    "a=np.array([6,7,8,9,10])\n",
    "np.where(a>7) # 인덱스 번호 나옴 "
   ]
  },
  {
   "cell_type": "code",
   "execution_count": 278,
   "id": "ffce9d69-589e-4a0c-a480-3efcfad5015f",
   "metadata": {},
   "outputs": [
    {
     "data": {
      "text/plain": [
       "array([ 8,  9, 10])"
      ]
     },
     "execution_count": 278,
     "metadata": {},
     "output_type": "execute_result"
    }
   ],
   "source": [
    "a[np.where(a>7)] # where가 인덱스 번호니 안에 넣어줌 "
   ]
  },
  {
   "cell_type": "code",
   "execution_count": 279,
   "id": "cf0e5484-699f-45f1-8ce6-9e274c4a9e98",
   "metadata": {},
   "outputs": [
    {
     "ename": "NameError",
     "evalue": "name 'ifelse' is not defined",
     "output_type": "error",
     "traceback": [
      "\u001b[1;31m---------------------------------------------------------------------------\u001b[0m",
      "\u001b[1;31mNameError\u001b[0m                                 Traceback (most recent call last)",
      "Input \u001b[1;32mIn [279]\u001b[0m, in \u001b[0;36m<cell line: 1>\u001b[1;34m()\u001b[0m\n\u001b[1;32m----> 1\u001b[0m \u001b[43mifelse\u001b[49m(a\u001b[38;5;241m>\u001b[39m\u001b[38;5;241m70\u001b[39m, \u001b[38;5;124m\"\u001b[39m\u001b[38;5;124mpass\u001b[39m\u001b[38;5;124m\"\u001b[39m, \u001b[38;5;124m\"\u001b[39m\u001b[38;5;124mfail\u001b[39m\u001b[38;5;124m\"\u001b[39m)\n",
      "\u001b[1;31mNameError\u001b[0m: name 'ifelse' is not defined"
     ]
    }
   ],
   "source": [
    "ifelse(a>70, \"pass\", \"fail\")# "
   ]
  },
  {
   "cell_type": "code",
   "execution_count": 280,
   "id": "e7b51c12-a94f-4d67-a36b-12911a47cb72",
   "metadata": {},
   "outputs": [
    {
     "data": {
      "text/plain": [
       "array(['fail', 'fail', 'pass', 'pass', 'pass'], dtype='<U4')"
      ]
     },
     "execution_count": 280,
     "metadata": {},
     "output_type": "execute_result"
    }
   ],
   "source": [
    "np.where(a>7, \"pass\", \"fail\")# ifelse문과 같음"
   ]
  },
  {
   "cell_type": "code",
   "execution_count": 281,
   "id": "3e968c7f-017e-4e84-970b-748562d99d43",
   "metadata": {},
   "outputs": [],
   "source": [
    "a=np.arange(-15,15).reshape(5,6)**2"
   ]
  },
  {
   "cell_type": "code",
   "execution_count": 282,
   "id": "62a2d516-9109-4cad-b2b4-592bc5e03822",
   "metadata": {},
   "outputs": [
    {
     "data": {
      "text/plain": [
       "array([[225, 196, 169, 144, 121, 100],\n",
       "       [ 81,  64,  49,  36,  25,  16],\n",
       "       [  9,   4,   1,   0,   1,   4],\n",
       "       [  9,  16,  25,  36,  49,  64],\n",
       "       [ 81, 100, 121, 144, 169, 196]])"
      ]
     },
     "execution_count": 282,
     "metadata": {},
     "output_type": "execute_result"
    }
   ],
   "source": [
    "a"
   ]
  },
  {
   "cell_type": "code",
   "execution_count": 283,
   "id": "8649a851-8e0e-4c0b-af89-e7b889cec7c0",
   "metadata": {},
   "outputs": [
    {
     "data": {
      "text/plain": [
       "array([-15, -14, -13, -12, -11, -10,  -9,  -8,  -7,  -6,  -5,  -4,  -3,\n",
       "        -2,  -1,   0,   1,   2,   3,   4,   5,   6,   7,   8,   9,  10,\n",
       "        11,  12,  13,  14])"
      ]
     },
     "execution_count": 283,
     "metadata": {},
     "output_type": "execute_result"
    }
   ],
   "source": [
    "np.arange(-15,15)"
   ]
  },
  {
   "cell_type": "code",
   "execution_count": 285,
   "id": "d9a9b02b-8a84-4bca-851a-603a1d4f3e52",
   "metadata": {},
   "outputs": [
    {
     "data": {
      "text/plain": [
       "array([225,  81,   9,  64, 196])"
      ]
     },
     "execution_count": 285,
     "metadata": {},
     "output_type": "execute_result"
    }
   ],
   "source": [
    "np.max(a, axis=1) # 일은 수평"
   ]
  },
  {
   "cell_type": "code",
   "execution_count": 286,
   "id": "b0394476-2143-491d-9d13-c853d76893d9",
   "metadata": {},
   "outputs": [
    {
     "data": {
      "text/plain": [
       "array([81., 76., 73., 72., 73., 76.])"
      ]
     },
     "execution_count": 286,
     "metadata": {},
     "output_type": "execute_result"
    }
   ],
   "source": [
    "np.mean(a, axis=0)"
   ]
  },
  {
   "cell_type": "code",
   "execution_count": 287,
   "id": "362f20ef-e46b-427b-9a3a-4e5b928babe9",
   "metadata": {},
   "outputs": [
    {
     "data": {
      "text/plain": [
       "array([9, 4, 1, 0, 1, 4, 9])"
      ]
     },
     "execution_count": 287,
     "metadata": {},
     "output_type": "execute_result"
    }
   ],
   "source": [
    "a[np.where(a<10)]"
   ]
  },
  {
   "cell_type": "code",
   "execution_count": 290,
   "id": "bb261d0e-c322-46f6-bc17-70de5f4720bf",
   "metadata": {},
   "outputs": [
    {
     "data": {
      "text/plain": [
       "array([[1, 1, 1, 1, 1, 1],\n",
       "       [1, 1, 1, 1, 1, 1],\n",
       "       [0, 0, 0, 0, 0, 0],\n",
       "       [0, 1, 1, 1, 1, 1],\n",
       "       [1, 1, 1, 1, 1, 1]])"
      ]
     },
     "execution_count": 290,
     "metadata": {},
     "output_type": "execute_result"
    }
   ],
   "source": [
    "np.where(a<10,0,1)"
   ]
  },
  {
   "cell_type": "code",
   "execution_count": 292,
   "id": "6b7c390e-0209-4ec6-a491-73666dc6f39c",
   "metadata": {},
   "outputs": [],
   "source": [
    "#넘파이는 c로 만들어져 있어서 빠르다. \n",
    "#넘파이는 새로 만들지 않음\n",
    "#strides 8, 24는 8x3 3칸뜀  "
   ]
  },
  {
   "cell_type": "code",
   "execution_count": null,
   "id": "ff1426b3-75a7-4d65-acdf-79daeb2bed2c",
   "metadata": {},
   "outputs": [],
   "source": []
  }
 ],
 "metadata": {
  "kernelspec": {
   "display_name": "Python 3 (ipykernel)",
   "language": "python",
   "name": "python3"
  },
  "language_info": {
   "codemirror_mode": {
    "name": "ipython",
    "version": 3
   },
   "file_extension": ".py",
   "mimetype": "text/x-python",
   "name": "python",
   "nbconvert_exporter": "python",
   "pygments_lexer": "ipython3",
   "version": "3.9.12"
  }
 },
 "nbformat": 4,
 "nbformat_minor": 5
}
