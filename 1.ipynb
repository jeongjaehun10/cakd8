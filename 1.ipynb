{
 "cells": [
  {
   "cell_type": "code",
   "execution_count": 1,
   "id": "29aacab2-c3cd-4d1d-b12e-4a0b9372f8ec",
   "metadata": {},
   "outputs": [
    {
     "data": {
      "text/plain": [
       "2"
      ]
     },
     "execution_count": 1,
     "metadata": {},
     "output_type": "execute_result"
    }
   ],
   "source": [
    "1+1"
   ]
  },
  {
   "cell_type": "code",
   "execution_count": 2,
   "id": "cfbe609b-944b-4ddc-8068-ef2303b77f1c",
   "metadata": {},
   "outputs": [
    {
     "data": {
      "text/plain": [
       "'\\nprint(\"hello\")\\nprint(\"good morning\")\\n\\n'"
      ]
     },
     "execution_count": 2,
     "metadata": {},
     "output_type": "execute_result"
    }
   ],
   "source": [
    "\"\"\"\n",
    "print(\"hello\")\n",
    "print(\"good morning\")\n",
    "\n",
    "\"\"\""
   ]
  },
  {
   "cell_type": "code",
   "execution_count": 3,
   "id": "3723157f-6d7d-49e7-b63a-ed5b459c7c54",
   "metadata": {},
   "outputs": [
    {
     "name": "stdout",
     "output_type": "stream",
     "text": [
      "1\n",
      "hello\n",
      "2\n",
      "hello\n",
      "3\n",
      "hello\n"
     ]
    }
   ],
   "source": [
    "for i in[1,2,3]:\n",
    "    print(i)\n",
    "    print(\"hello\")"
   ]
  },
  {
   "cell_type": "code",
   "execution_count": 4,
   "id": "6529bfca-7580-4c29-8d7a-605718adca75",
   "metadata": {},
   "outputs": [],
   "source": [
    "a=1"
   ]
  },
  {
   "cell_type": "code",
   "execution_count": 5,
   "id": "18f03d52-db43-452b-8004-ac482de1cf4e",
   "metadata": {},
   "outputs": [
    {
     "data": {
      "text/plain": [
       "1"
      ]
     },
     "execution_count": 5,
     "metadata": {},
     "output_type": "execute_result"
    }
   ],
   "source": [
    "a"
   ]
  },
  {
   "cell_type": "markdown",
   "id": "9509f051-de4d-4aec-b8d4-326d56513b92",
   "metadata": {},
   "source": [
    "안녕하세요"
   ]
  },
  {
   "cell_type": "markdown",
   "id": "8051a99c-dc3a-4912-b20a-ee603e6d17c8",
   "metadata": {},
   "source": [
    "글자출력은 마크다운 "
   ]
  },
  {
   "cell_type": "markdown",
   "id": "020f1e4f-467d-49c8-9c6e-2203f97710b3",
   "metadata": {},
   "source": [
    "- 파이썬은 들여쓰기가 중요하다 \n",
    "- 파이썬은 들여쓰기가 중요하다 \n",
    "- 파이썬은 들여쓰기가 중요하다 \n",
    "파이썬은 들여쓰기가 중요하다 <br>\n",
    "```\n",
    "파이썬은 들여쓰기가 중요하다 \n",
    "```"
   ]
  },
  {
   "cell_type": "markdown",
   "id": "282f78f0-2655-4139-a931-bf80e24a7fc0",
   "metadata": {},
   "source": [
    "# 제 1장 "
   ]
  },
  {
   "cell_type": "markdown",
   "id": "dad77772-0726-4467-b2b5-e831dfe6e2b3",
   "metadata": {},
   "source": [
    "## 제 1절"
   ]
  },
  {
   "cell_type": "markdown",
   "id": "1661527f-c4a1-4ba5-abc6-b696e8d95c9a",
   "metadata": {
    "tags": []
   },
   "source": [
    "# 제2 장"
   ]
  },
  {
   "cell_type": "markdown",
   "id": "faee4542-2ba1-4762-8062-cbf153ae544e",
   "metadata": {
    "jp-MarkdownHeadingCollapsed": true,
    "tags": []
   },
   "source": [
    "## 칼럼만들기"
   ]
  },
  {
   "cell_type": "markdown",
   "id": "ef012bd8-d0c3-4dcc-b547-4c5b156822c6",
   "metadata": {
    "tags": []
   },
   "source": [
    "## import 하기"
   ]
  },
  {
   "cell_type": "code",
   "execution_count": 6,
   "id": "2dfceb43-6271-49d3-825c-9cf69747fd5a",
   "metadata": {
    "tags": []
   },
   "outputs": [
    {
     "data": {
      "text/plain": [
       "2"
      ]
     },
     "execution_count": 6,
     "metadata": {},
     "output_type": "execute_result"
    }
   ],
   "source": [
    "1+1"
   ]
  },
  {
   "cell_type": "code",
   "execution_count": 7,
   "id": "213aaf5d-0061-4716-bf7c-2b873e1ee2b6",
   "metadata": {},
   "outputs": [
    {
     "ename": "NameError",
     "evalue": "name 'sqrt' is not defined",
     "output_type": "error",
     "traceback": [
      "\u001b[1;31m---------------------------------------------------------------------------\u001b[0m",
      "\u001b[1;31mNameError\u001b[0m                                 Traceback (most recent call last)",
      "Input \u001b[1;32mIn [7]\u001b[0m, in \u001b[0;36m<cell line: 1>\u001b[1;34m()\u001b[0m\n\u001b[1;32m----> 1\u001b[0m \u001b[43msqrt\u001b[49m(\u001b[38;5;241m4\u001b[39m)\n",
      "\u001b[1;31mNameError\u001b[0m: name 'sqrt' is not defined"
     ]
    }
   ],
   "source": [
    "sqrt(4)# sqrt는 루트"
   ]
  },
  {
   "cell_type": "code",
   "execution_count": 9,
   "id": "6eec1068-c619-4448-aa08-1acdd735ceac",
   "metadata": {},
   "outputs": [],
   "source": [
    "import math"
   ]
  },
  {
   "cell_type": "code",
   "execution_count": 10,
   "id": "78992abb-8b0b-428a-b0a6-b5857901b95c",
   "metadata": {},
   "outputs": [
    {
     "data": {
      "text/plain": [
       "2.0"
      ]
     },
     "execution_count": 10,
     "metadata": {},
     "output_type": "execute_result"
    }
   ],
   "source": [
    "math.sqrt(4)#.은 함수안에 출처밝혀야함 "
   ]
  },
  {
   "cell_type": "code",
   "execution_count": 11,
   "id": "61c32f95-efd2-4250-98a8-6a9e8d2348ff",
   "metadata": {},
   "outputs": [],
   "source": [
    "import math as m # as는 자격 바꿈 "
   ]
  },
  {
   "cell_type": "code",
   "execution_count": 12,
   "id": "11bcc463-4427-4611-bfe8-62b7256d7133",
   "metadata": {},
   "outputs": [
    {
     "data": {
      "text/plain": [
       "3.0"
      ]
     },
     "execution_count": 12,
     "metadata": {},
     "output_type": "execute_result"
    }
   ],
   "source": [
    "m.sqrt(9)"
   ]
  },
  {
   "cell_type": "code",
   "execution_count": 13,
   "id": "f79becd4-9f84-4593-a881-c75d4bbb1de8",
   "metadata": {},
   "outputs": [],
   "source": [
    "from math import sqrt # 출처 안밝혀도 됨 "
   ]
  },
  {
   "cell_type": "code",
   "execution_count": 14,
   "id": "ba50c4a1-1672-4a32-bfe5-b2d5fc438e3f",
   "metadata": {},
   "outputs": [
    {
     "data": {
      "text/plain": [
       "2.0"
      ]
     },
     "execution_count": 14,
     "metadata": {},
     "output_type": "execute_result"
    }
   ],
   "source": [
    "sqrt(4)"
   ]
  },
  {
   "cell_type": "code",
   "execution_count": 17,
   "id": "4e949e0e-ba6a-4854-8fa7-c63244a2c081",
   "metadata": {},
   "outputs": [
    {
     "ename": "ModuleNotFoundError",
     "evalue": "No module named 'numpy'",
     "output_type": "error",
     "traceback": [
      "\u001b[1;31m---------------------------------------------------------------------------\u001b[0m",
      "\u001b[1;31mModuleNotFoundError\u001b[0m                       Traceback (most recent call last)",
      "Input \u001b[1;32mIn [17]\u001b[0m, in \u001b[0;36m<cell line: 1>\u001b[1;34m()\u001b[0m\n\u001b[1;32m----> 1\u001b[0m \u001b[38;5;28;01mimport\u001b[39;00m \u001b[38;5;21;01mnumpy\u001b[39;00m \u001b[38;5;28;01mas\u001b[39;00m \u001b[38;5;21;01mnp\u001b[39;00m\n",
      "\u001b[1;31mModuleNotFoundError\u001b[0m: No module named 'numpy'"
     ]
    }
   ],
   "source": [
    "import numpy as np"
   ]
  },
  {
   "cell_type": "code",
   "execution_count": 18,
   "id": "72b053ab-5e08-466f-8aa3-0f427203bd43",
   "metadata": {},
   "outputs": [
    {
     "ename": "NameError",
     "evalue": "name 'np' is not defined",
     "output_type": "error",
     "traceback": [
      "\u001b[1;31m---------------------------------------------------------------------------\u001b[0m",
      "\u001b[1;31mNameError\u001b[0m                                 Traceback (most recent call last)",
      "Input \u001b[1;32mIn [18]\u001b[0m, in \u001b[0;36m<cell line: 1>\u001b[1;34m()\u001b[0m\n\u001b[1;32m----> 1\u001b[0m \u001b[43mnp\u001b[49m\u001b[38;5;241m.\u001b[39msqrt(\u001b[38;5;241m4\u001b[39m)\n",
      "\u001b[1;31mNameError\u001b[0m: name 'np' is not defined"
     ]
    }
   ],
   "source": [
    "np.sqrt(4)"
   ]
  },
  {
   "cell_type": "code",
   "execution_count": 19,
   "id": "1f9580ca-6d4c-4673-869b-f28f74d728c9",
   "metadata": {},
   "outputs": [
    {
     "data": {
      "text/plain": [
       "2.0"
      ]
     },
     "execution_count": 19,
     "metadata": {},
     "output_type": "execute_result"
    }
   ],
   "source": [
    "math.sqrt(4)"
   ]
  },
  {
   "cell_type": "code",
   "execution_count": null,
   "id": "34d6842d-bef0-4d3f-9c7b-fa6eaf79d580",
   "metadata": {},
   "outputs": [
    {
     "ename": "NameError",
     "evalue": "name 'pi' is not defined",
     "output_type": "error",
     "traceback": [
      "\u001b[1;31m---------------------------------------------------------------------------\u001b[0m",
      "\u001b[1;31mNameError\u001b[0m                                 Traceback (most recent call last)",
      "Input \u001b[1;32mIn [20]\u001b[0m, in \u001b[0;36m<cell line: 1>\u001b[1;34m()\u001b[0m\n\u001b[1;32m----> 1\u001b[0m \u001b[43mpi\u001b[49m\n",
      "\u001b[1;31mNameError\u001b[0m: name 'pi' is not defined"
     ]
    }
   ],
   "source": [
    "pi"
   ]
  },
  {
   "cell_type": "code",
   "execution_count": null,
   "id": "e5d282a8-16d2-44e7-a467-1933c4b0781b",
   "metadata": {},
   "outputs": [
    {
     "data": {
      "text/plain": [
       "3.141592653589793"
      ]
     },
     "execution_count": 21,
     "metadata": {},
     "output_type": "execute_result"
    }
   ],
   "source": [
    "math.pi"
   ]
  },
  {
   "cell_type": "code",
   "execution_count": null,
   "id": "9f35c5e6-c9e2-4f3d-b851-0c9c1f659624",
   "metadata": {},
   "outputs": [
    {
     "ename": "NameError",
     "evalue": "name 'np' is not defined",
     "output_type": "error",
     "traceback": [
      "\u001b[1;31m---------------------------------------------------------------------------\u001b[0m",
      "\u001b[1;31mNameError\u001b[0m                                 Traceback (most recent call last)",
      "Input \u001b[1;32mIn [22]\u001b[0m, in \u001b[0;36m<cell line: 1>\u001b[1;34m()\u001b[0m\n\u001b[1;32m----> 1\u001b[0m \u001b[43mnp\u001b[49m\u001b[38;5;241m.\u001b[39mpi\n",
      "\u001b[1;31mNameError\u001b[0m: name 'np' is not defined"
     ]
    }
   ],
   "source": [
    "np.pi"
   ]
  },
  {
   "cell_type": "code",
   "execution_count": null,
   "id": "2cd2e1c0-d39c-4f29-8b61-ab4d92c304a5",
   "metadata": {},
   "outputs": [],
   "source": [
    "from math import pi "
   ]
  },
  {
   "cell_type": "code",
   "execution_count": null,
   "id": "e477b2f6-60b0-46cd-b6da-56a56abc9c06",
   "metadata": {},
   "outputs": [
    {
     "data": {
      "text/plain": [
       "3.141592653589793"
      ]
     },
     "execution_count": 24,
     "metadata": {},
     "output_type": "execute_result"
    }
   ],
   "source": [
    "pi"
   ]
  },
  {
   "cell_type": "code",
   "execution_count": null,
   "id": "e6f002ac-13ac-4036-9acb-0de8a226d703",
   "metadata": {},
   "outputs": [
    {
     "ename": "ModuleNotFoundError",
     "evalue": "No module named 'matplotlib'",
     "output_type": "error",
     "traceback": [
      "\u001b[1;31m---------------------------------------------------------------------------\u001b[0m",
      "\u001b[1;31mModuleNotFoundError\u001b[0m                       Traceback (most recent call last)",
      "Input \u001b[1;32mIn [25]\u001b[0m, in \u001b[0;36m<cell line: 1>\u001b[1;34m()\u001b[0m\n\u001b[1;32m----> 1\u001b[0m \u001b[38;5;28;01mimport\u001b[39;00m \u001b[38;5;21;01mmatplotlib\u001b[39;00m\u001b[38;5;21;01m.\u001b[39;00m\u001b[38;5;21;01mpyplot\u001b[39;00m \u001b[38;5;28;01mas\u001b[39;00m \u001b[38;5;21;01mplt\u001b[39;00m\n",
      "\u001b[1;31mModuleNotFoundError\u001b[0m: No module named 'matplotlib'"
     ]
    }
   ],
   "source": [
    "import matplotlib.pyplot as plt"
   ]
  },
  {
   "cell_type": "code",
   "execution_count": null,
   "id": "6fc18063-0ef4-4985-9d1c-86dc6f0ab16b",
   "metadata": {},
   "outputs": [
    {
     "ename": "NameError",
     "evalue": "name 'np' is not defined",
     "output_type": "error",
     "traceback": [
      "\u001b[1;31m---------------------------------------------------------------------------\u001b[0m",
      "\u001b[1;31mNameError\u001b[0m                                 Traceback (most recent call last)",
      "Input \u001b[1;32mIn [26]\u001b[0m, in \u001b[0;36m<cell line: 1>\u001b[1;34m()\u001b[0m\n\u001b[1;32m----> 1\u001b[0m \u001b[43mnp\u001b[49m\u001b[38;5;241m.\u001b[39mlinspace(\u001b[38;5;241m1\u001b[39m, \u001b[38;5;241m10\u001b[39m, \u001b[38;5;241m10\u001b[39m)\n",
      "\u001b[1;31mNameError\u001b[0m: name 'np' is not defined"
     ]
    }
   ],
   "source": [
    "np.linspace(1, 10, 10) # 1부터 10까지 숫자를 10개 넣어라"
   ]
  },
  {
   "cell_type": "code",
   "execution_count": null,
   "id": "facb52f1-407d-44fe-8fa8-6e2044ffa16f",
   "metadata": {},
   "outputs": [],
   "source": [
    "# 9등분 같은 간격으로 "
   ]
  },
  {
   "cell_type": "code",
   "execution_count": null,
   "id": "0af90c8a-18e0-439f-84d1-469581fb3916",
   "metadata": {},
   "outputs": [
    {
     "ename": "NameError",
     "evalue": "name 'np' is not defined",
     "output_type": "error",
     "traceback": [
      "\u001b[1;31m---------------------------------------------------------------------------\u001b[0m",
      "\u001b[1;31mNameError\u001b[0m                                 Traceback (most recent call last)",
      "Input \u001b[1;32mIn [28]\u001b[0m, in \u001b[0;36m<cell line: 1>\u001b[1;34m()\u001b[0m\n\u001b[1;32m----> 1\u001b[0m \u001b[43mnp\u001b[49m\u001b[38;5;241m.\u001b[39mlinspace(\u001b[38;5;241m1\u001b[39m, \u001b[38;5;241m10\u001b[39m, \u001b[38;5;241m3\u001b[39m)\n",
      "\u001b[1;31mNameError\u001b[0m: name 'np' is not defined"
     ]
    }
   ],
   "source": [
    "np.linspace(1, 10, 3)# 3개간격으로 같은 길이 만큼 "
   ]
  },
  {
   "cell_type": "code",
   "execution_count": null,
   "id": "a4d34f84-51a7-4bee-9721-97efb27de360",
   "metadata": {},
   "outputs": [
    {
     "ename": "NameError",
     "evalue": "name 'np' is not defined",
     "output_type": "error",
     "traceback": [
      "\u001b[1;31m---------------------------------------------------------------------------\u001b[0m",
      "\u001b[1;31mNameError\u001b[0m                                 Traceback (most recent call last)",
      "Input \u001b[1;32mIn [29]\u001b[0m, in \u001b[0;36m<cell line: 1>\u001b[1;34m()\u001b[0m\n\u001b[1;32m----> 1\u001b[0m x \u001b[38;5;241m=\u001b[39m \u001b[43mnp\u001b[49m\u001b[38;5;241m.\u001b[39mlinspace(\u001b[38;5;241m0\u001b[39m, \u001b[38;5;241m2\u001b[39m\u001b[38;5;241m*\u001b[39mmath\u001b[38;5;241m.\u001b[39mpi, \u001b[38;5;241m100\u001b[39m) \u001b[38;5;66;03m#0부터 2파이까지 100개의 숫자 \u001b[39;00m\n\u001b[0;32m      2\u001b[0m \u001b[38;5;66;03m#sin 그래프의 x 값 \u001b[39;00m\n\u001b[0;32m      3\u001b[0m y \u001b[38;5;241m=\u001b[39m np\u001b[38;5;241m.\u001b[39msin(x)\n",
      "\u001b[1;31mNameError\u001b[0m: name 'np' is not defined"
     ]
    }
   ],
   "source": [
    "x = np.linspace(0, 2*math.pi, 100) #0부터 2파이까지 100개의 숫자 \n",
    "#sin 그래프의 x 값 \n",
    "y = np.sin(x)\n",
    "plt.plot(x, np.sin(x))"
   ]
  },
  {
   "cell_type": "code",
   "execution_count": 12,
   "id": "f97f6340-2914-4e61-84f9-a864048f6656",
   "metadata": {},
   "outputs": [
    {
     "ename": "SyntaxError",
     "evalue": "invalid syntax. Perhaps you forgot a comma? (4070354097.py, line 1)",
     "output_type": "error",
     "traceback": [
      "\u001b[1;36m  Input \u001b[1;32mIn [12]\u001b[1;36m\u001b[0m\n\u001b[1;33m    x = np.linspace(0, math.2*pi, 100) #0부터 2파이까지 100개의 숫자\u001b[0m\n\u001b[1;37m                       ^\u001b[0m\n\u001b[1;31mSyntaxError\u001b[0m\u001b[1;31m:\u001b[0m invalid syntax. Perhaps you forgot a comma?\n"
     ]
    }
   ],
   "source": [
    "x = np.linspace(0, math.2*pi, 100) #0부터 2파이까지 100개의 숫자 \n",
    "#sin 그래프의 x 값 # 파이를 불러내야 하는데 math안에는 파이가 없음 \n",
    "y = np.sin(x)\n",
    "plt.plot(x, np.sin(x))"
   ]
  },
  {
   "cell_type": "code",
   "execution_count": 29,
   "id": "3dd8766a-f9a3-4173-8308-f7ee3d0ae1da",
   "metadata": {},
   "outputs": [
    {
     "data": {
      "text/plain": [
       "[<matplotlib.lines.Line2D at 0x17826055d80>]"
      ]
     },
     "execution_count": 29,
     "metadata": {},
     "output_type": "execute_result"
    },
    {
     "data": {
      "image/png": "[encoded data removed]",
      "text/plain": [
       "<Figure size 640x480 with 1 Axes>"
      ]
     },
     "metadata": {},
     "output_type": "display_data"
    }
   ],
   "source": [
    "plt.plot(x, y)"
   ]
  },
  {
   "cell_type": "code",
   "execution_count": 30,
   "id": "b2eab908-278a-40ca-acb7-b03859683a4a",
   "metadata": {},
   "outputs": [
    {
     "data": {
      "text/plain": [
       "[<matplotlib.lines.Line2D at 0x17828207b50>]"
      ]
     },
     "execution_count": 30,
     "metadata": {},
     "output_type": "execute_result"
    },
    {
     "data": {
      "image/png": "[encoded data removed]",
      "text/plain": [
       "<Figure size 640x480 with 1 Axes>"
      ]
     },
     "metadata": {},
     "output_type": "display_data"
    }
   ],
   "source": [
    "x = np.linspace(0, 2*np.pi, 100) #0부터 2파이까지 100개의 숫자 \n",
    "plt.plot(x, np.cos(x))"
   ]
  },
  {
   "cell_type": "code",
   "execution_count": 31,
   "id": "bb83f4a0-c97c-49fb-a23a-8455c3912b3b",
   "metadata": {},
   "outputs": [
    {
     "data": {
      "text/plain": [
       "[<matplotlib.lines.Line2D at 0x17828294430>]"
      ]
     },
     "execution_count": 31,
     "metadata": {},
     "output_type": "execute_result"
    },
    {
     "data": {
      "image/png": "[encoded data removed]",
      "text/plain": [
       "<Figure size 640x480 with 1 Axes>"
      ]
     },
     "metadata": {},
     "output_type": "display_data"
    }
   ],
   "source": [
    "x = np.linspace(0, 2*math.pi, 100)\n",
    "plt.plot(x, np.cos(x))\n",
    "plt.plot(x, np.sin(x))"
   ]
  },
  {
   "cell_type": "markdown",
   "id": "a8a1bab7-ce53-4bbb-84ce-64e63f007a6b",
   "metadata": {},
   "source": [
    "# 데이터 타입"
   ]
  },
  {
   "cell_type": "markdown",
   "id": "6a636d03-24ce-4409-a2b0-18f4c69807a4",
   "metadata": {
    "tags": []
   },
   "source": [
    "##  숫자\n",
    "- 정수(integer) : int\n",
    "- 소수(float) 둥둥 떠다니닌다. float 보통 업계에서는 실수"
   ]
  },
  {
   "cell_type": "code",
   "execution_count": 35,
   "id": "228af963-7f94-44ac-b169-594c48e431d5",
   "metadata": {},
   "outputs": [
    {
     "data": {
      "text/plain": [
       "3"
      ]
     },
     "execution_count": 35,
     "metadata": {},
     "output_type": "execute_result"
    }
   ],
   "source": [
    "a=3\n",
    "a"
   ]
  },
  {
   "cell_type": "code",
   "execution_count": 36,
   "id": "a3976a60-87e5-4696-b7dd-57f5d0c1a518",
   "metadata": {},
   "outputs": [
    {
     "data": {
      "text/plain": [
       "int"
      ]
     },
     "execution_count": 36,
     "metadata": {},
     "output_type": "execute_result"
    }
   ],
   "source": [
    "type(a)"
   ]
  },
  {
   "cell_type": "code",
   "execution_count": 37,
   "id": "e65c1c00-9137-4b8b-bacd-9669f84d1ae9",
   "metadata": {},
   "outputs": [
    {
     "data": {
      "text/plain": [
       "float"
      ]
     },
     "execution_count": 37,
     "metadata": {},
     "output_type": "execute_result"
    }
   ],
   "source": [
    "b=3.0\n",
    "type(b)"
   ]
  },
  {
   "cell_type": "code",
   "execution_count": 39,
   "id": "b68f9d5b-95d5-4d98-8f76-4e10bd969fc9",
   "metadata": {},
   "outputs": [
    {
     "data": {
      "text/plain": [
       "4.0"
      ]
     },
     "execution_count": 39,
     "metadata": {},
     "output_type": "execute_result"
    }
   ],
   "source": [
    "a=1+3.0\n",
    "a # float 형으로 바꿈 "
   ]
  },
  {
   "cell_type": "code",
   "execution_count": 40,
   "id": "3173a1fe-c5d3-42af-9b0a-07d559c2a854",
   "metadata": {},
   "outputs": [
    {
     "data": {
      "text/plain": [
       "3"
      ]
     },
     "execution_count": 40,
     "metadata": {},
     "output_type": "execute_result"
    }
   ],
   "source": [
    "int(3.1)"
   ]
  },
  {
   "cell_type": "code",
   "execution_count": 42,
   "id": "2392334d-b8d8-457f-a377-48671a0e5de4",
   "metadata": {},
   "outputs": [
    {
     "data": {
      "text/plain": [
       "3.0"
      ]
     },
     "execution_count": 42,
     "metadata": {},
     "output_type": "execute_result"
    }
   ],
   "source": [
    "float(3) # float 소수 실수 "
   ]
  },
  {
   "cell_type": "code",
   "execution_count": 43,
   "id": "dcc6a575-8f25-4949-ae16-127976787c65",
   "metadata": {},
   "outputs": [
    {
     "data": {
      "text/plain": [
       "1024"
      ]
     },
     "execution_count": 43,
     "metadata": {},
     "output_type": "execute_result"
    }
   ],
   "source": [
    "2**10"
   ]
  },
  {
   "cell_type": "code",
   "execution_count": 44,
   "id": "716068dc-a7cd-4840-a5ed-c4417d3ee038",
   "metadata": {},
   "outputs": [
    {
     "data": {
      "text/plain": [
       "2"
      ]
     },
     "execution_count": 44,
     "metadata": {},
     "output_type": "execute_result"
    }
   ],
   "source": [
    "11//4 # 몫"
   ]
  },
  {
   "cell_type": "code",
   "execution_count": 47,
   "id": "b326bcf6-9ac9-42b5-8e87-2a1517a66d6b",
   "metadata": {},
   "outputs": [
    {
     "data": {
      "text/plain": [
       "3"
      ]
     },
     "execution_count": 47,
     "metadata": {},
     "output_type": "execute_result"
    }
   ],
   "source": [
    "11%4 #나머지 = 퍼센트 "
   ]
  },
  {
   "cell_type": "code",
   "execution_count": 48,
   "id": "44235882-bd5e-434f-bdd6-e98cb9f67b50",
   "metadata": {},
   "outputs": [
    {
     "data": {
      "text/plain": [
       "3.141592653589793"
      ]
     },
     "execution_count": 48,
     "metadata": {},
     "output_type": "execute_result"
    }
   ],
   "source": [
    "np.pi"
   ]
  },
  {
   "cell_type": "code",
   "execution_count": 50,
   "id": "8a7ce836-12da-4eae-9d52-ed6875146f29",
   "metadata": {},
   "outputs": [
    {
     "data": {
      "text/plain": [
       "1"
      ]
     },
     "execution_count": 50,
     "metadata": {},
     "output_type": "execute_result"
    }
   ],
   "source": [
    "round(1.234) # 반올림 둥들게 # shift tap은 도움말 "
   ]
  },
  {
   "cell_type": "code",
   "execution_count": 58,
   "id": "80c232b4-38b5-4aba-9ebe-0692e4eedda2",
   "metadata": {},
   "outputs": [
    {
     "data": {
      "text/plain": [
       "1.734"
      ]
     },
     "execution_count": 58,
     "metadata": {},
     "output_type": "execute_result"
    }
   ],
   "source": [
    "round(1.734, ndigits=2)\n",
    "round(1.734, ndigits=3)# 출력은 마지막꺼만 출력"
   ]
  },
  {
   "cell_type": "code",
   "execution_count": 59,
   "id": "ae2f4fd1-056d-4b3f-a9b0-7825957bf581",
   "metadata": {},
   "outputs": [
    {
     "data": {
      "text/plain": [
       "1"
      ]
     },
     "execution_count": 59,
     "metadata": {},
     "output_type": "execute_result"
    }
   ],
   "source": [
    "import math\n",
    "math.floor(1.234)# 내림"
   ]
  },
  {
   "cell_type": "code",
   "execution_count": 60,
   "id": "ee4c8c5f-abb7-4497-a45c-96af1e9977e2",
   "metadata": {},
   "outputs": [
    {
     "data": {
      "text/plain": [
       "2"
      ]
     },
     "execution_count": 60,
     "metadata": {},
     "output_type": "execute_result"
    }
   ],
   "source": [
    "math.ceil(1.234)# 올림 "
   ]
  },
  {
   "cell_type": "code",
   "execution_count": 62,
   "id": "63fc713a-135c-4e56-af97-472654a9fc3e",
   "metadata": {},
   "outputs": [
    {
     "name": "stdout",
     "output_type": "stream",
     "text": [
      "1\n"
     ]
    },
    {
     "data": {
      "text/plain": [
       "2"
      ]
     },
     "execution_count": 62,
     "metadata": {},
     "output_type": "execute_result"
    }
   ],
   "source": [
    "print(math.floor(1.234)) # 두개 출력하는 법 \n",
    "math.ceil(1.234)"
   ]
  },
  {
   "cell_type": "code",
   "execution_count": 172,
   "id": "37ce06a9-bf9c-4fda-ab91-a36419addf54",
   "metadata": {},
   "outputs": [
    {
     "data": {
      "text/plain": [
       "1"
      ]
     },
     "execution_count": 172,
     "metadata": {},
     "output_type": "execute_result"
    }
   ],
   "source": [
    "math.floor(1.56)"
   ]
  },
  {
   "cell_type": "code",
   "execution_count": 65,
   "id": "0820adfb-9b47-4111-8452-3a54492fb3c6",
   "metadata": {},
   "outputs": [
    {
     "data": {
      "text/plain": [
       "1"
      ]
     },
     "execution_count": 65,
     "metadata": {},
     "output_type": "execute_result"
    }
   ],
   "source": [
    "math.trunc(1.234)  # 버림 "
   ]
  },
  {
   "cell_type": "markdown",
   "id": "94682f51-8cd8-49cc-94be-6f130cbe900f",
   "metadata": {},
   "source": [
    "## 문자 \n",
    "- string(str) "
   ]
  },
  {
   "cell_type": "code",
   "execution_count": 67,
   "id": "d04b03e8-e5bc-4763-8eb0-434ea09ae311",
   "metadata": {},
   "outputs": [
    {
     "data": {
      "text/plain": [
       "'hello'"
      ]
     },
     "execution_count": 67,
     "metadata": {},
     "output_type": "execute_result"
    }
   ],
   "source": [
    "\"hello\" # 홑따옴표랑 쌍따옴표는 100%같음 "
   ]
  },
  {
   "cell_type": "code",
   "execution_count": 69,
   "id": "e8615345-3ba1-414d-83fc-67c327e3b970",
   "metadata": {},
   "outputs": [
    {
     "data": {
      "text/plain": [
       "'hello'"
      ]
     },
     "execution_count": 69,
     "metadata": {},
     "output_type": "execute_result"
    }
   ],
   "source": [
    "a=\"hello\"\n",
    "a"
   ]
  },
  {
   "cell_type": "code",
   "execution_count": 71,
   "id": "9018006b-d45b-4ea1-a468-bf65313e976b",
   "metadata": {},
   "outputs": [
    {
     "name": "stdout",
     "output_type": "stream",
     "text": [
      "hello\n"
     ]
    }
   ],
   "source": [
    "print(a) # 따옴표 없이 나옴 "
   ]
  },
  {
   "cell_type": "code",
   "execution_count": 72,
   "id": "0fb30c63-eea4-4c41-82f8-4697616f64ca",
   "metadata": {},
   "outputs": [],
   "source": [
    "# seting 오토 클로즈 "
   ]
  },
  {
   "cell_type": "code",
   "execution_count": 73,
   "id": "b187b326-67c0-4038-b276-2c0dada8336f",
   "metadata": {},
   "outputs": [
    {
     "data": {
      "text/plain": [
       "\" '  ' \""
      ]
     },
     "execution_count": 73,
     "metadata": {},
     "output_type": "execute_result"
    }
   ],
   "source": [
    "\" '  ' \" "
   ]
  },
  {
   "cell_type": "code",
   "execution_count": 178,
   "id": "7c78ba7b-81f8-4512-9d86-78e333483ef1",
   "metadata": {},
   "outputs": [
    {
     "name": "stdout",
     "output_type": "stream",
     "text": [
      "그는 나에게 \"사랑해요\"라고 말했다.\n"
     ]
    }
   ],
   "source": [
    "print('그는 나에게 \"사랑해요\"라고 말했다.')\n",
    "# 안에 쌍따옴표 있으니밖은 홑따옴표있으면 됨 "
   ]
  },
  {
   "cell_type": "code",
   "execution_count": 181,
   "id": "e115c212-26f4-408a-b928-99060dabda96",
   "metadata": {},
   "outputs": [
    {
     "ename": "SyntaxError",
     "evalue": "invalid syntax (3946425453.py, line 1)",
     "output_type": "error",
     "traceback": [
      "\u001b[1;36m  Input \u001b[1;32mIn [181]\u001b[1;36m\u001b[0m\n\u001b[1;33m    \"처분\"이란 행정청이 구체적 사실에 관하여 행하는 법.\u001b[0m\n\u001b[1;37m        ^\u001b[0m\n\u001b[1;31mSyntaxError\u001b[0m\u001b[1;31m:\u001b[0m invalid syntax\n"
     ]
    }
   ],
   "source": [
    "\"처분\"이란 행정청이 구체적 사실에 관하여 행하는 법."
   ]
  },
  {
   "cell_type": "markdown",
   "id": "376381e8-f2ab-46b0-a889-91b5efb0c982",
   "metadata": {},
   "source": [
    "### 문자열의 연산"
   ]
  },
  {
   "cell_type": "code",
   "execution_count": 82,
   "id": "54111e9d-b802-477a-abaa-57fdd20e88cb",
   "metadata": {},
   "outputs": [],
   "source": [
    "a=\"Life is short.\" \n",
    "b=\"We need Python\""
   ]
  },
  {
   "cell_type": "code",
   "execution_count": 83,
   "id": "c063961a-7efa-4c3e-9ff2-a824e1d77b7a",
   "metadata": {},
   "outputs": [
    {
     "data": {
      "text/plain": [
       "'Life is short.We need Python'"
      ]
     },
     "execution_count": 83,
     "metadata": {},
     "output_type": "execute_result"
    }
   ],
   "source": [
    "a+b # 더하기가 아닌 이어 붙인 것이다."
   ]
  },
  {
   "cell_type": "code",
   "execution_count": 84,
   "id": "7c79741f-a739-469b-8b8f-b91b26d428a1",
   "metadata": {},
   "outputs": [
    {
     "ename": "TypeError",
     "evalue": "unsupported operand type(s) for -: 'str' and 'str'",
     "output_type": "error",
     "traceback": [
      "\u001b[1;31m---------------------------------------------------------------------------\u001b[0m",
      "\u001b[1;31mTypeError\u001b[0m                                 Traceback (most recent call last)",
      "Input \u001b[1;32mIn [84]\u001b[0m, in \u001b[0;36m<cell line: 1>\u001b[1;34m()\u001b[0m\n\u001b[1;32m----> 1\u001b[0m \u001b[43ma\u001b[49m\u001b[38;5;241;43m-\u001b[39;49m\u001b[43mb\u001b[49m\n",
      "\u001b[1;31mTypeError\u001b[0m: unsupported operand type(s) for -: 'str' and 'str'"
     ]
    }
   ],
   "source": [
    "a-b # 문자 문자는 빼기 안됨"
   ]
  },
  {
   "cell_type": "code",
   "execution_count": 85,
   "id": "410c241e-2523-48db-b50d-fa818feedae8",
   "metadata": {},
   "outputs": [
    {
     "ename": "TypeError",
     "evalue": "can't multiply sequence by non-int of type 'str'",
     "output_type": "error",
     "traceback": [
      "\u001b[1;31m---------------------------------------------------------------------------\u001b[0m",
      "\u001b[1;31mTypeError\u001b[0m                                 Traceback (most recent call last)",
      "Input \u001b[1;32mIn [85]\u001b[0m, in \u001b[0;36m<cell line: 1>\u001b[1;34m()\u001b[0m\n\u001b[1;32m----> 1\u001b[0m \u001b[43ma\u001b[49m\u001b[38;5;241;43m*\u001b[39;49m\u001b[43mb\u001b[49m\n",
      "\u001b[1;31mTypeError\u001b[0m: can't multiply sequence by non-int of type 'str'"
     ]
    }
   ],
   "source": [
    "a*b # 곱하기 나누기 안됨 "
   ]
  },
  {
   "cell_type": "code",
   "execution_count": 86,
   "id": "a5e05672-0e16-4f99-90f8-f8f4ab1020d9",
   "metadata": {},
   "outputs": [
    {
     "data": {
      "text/plain": [
       "'Life is short.Life is short.Life is short.'"
      ]
     },
     "execution_count": 86,
     "metadata": {},
     "output_type": "execute_result"
    }
   ],
   "source": [
    "a*3 # 반복"
   ]
  },
  {
   "cell_type": "code",
   "execution_count": 87,
   "id": "56ec0892-ddda-4e86-82d9-5dafd9afbfc5",
   "metadata": {},
   "outputs": [
    {
     "data": {
      "text/plain": [
       "'----------------------------------------'"
      ]
     },
     "execution_count": 87,
     "metadata": {},
     "output_type": "execute_result"
    }
   ],
   "source": [
    "\"-\"*40"
   ]
  },
  {
   "cell_type": "code",
   "execution_count": 88,
   "id": "23f7fc5d-d205-4a2d-b032-af3c002ca34f",
   "metadata": {},
   "outputs": [
    {
     "name": "stdout",
     "output_type": "stream",
     "text": [
      "----------------------------------------\n",
      "커피가 나왔습니다.\n",
      "----------------------------------------\n"
     ]
    }
   ],
   "source": [
    "print(\"-\"*40)\n",
    "print(\"커피가 나왔습니다.\")\n",
    "print(\"-\"*40)"
   ]
  },
  {
   "cell_type": "markdown",
   "id": "b0628781-344f-4f94-a14d-362689faa763",
   "metadata": {
    "tags": []
   },
   "source": [
    "### 문자열의 메소드 (method)"
   ]
  },
  {
   "cell_type": "code",
   "execution_count": 92,
   "id": "91067cc6-e8b2-483b-a52f-f522a7ebfe5a",
   "metadata": {},
   "outputs": [],
   "source": [
    "a= \"Hello\""
   ]
  },
  {
   "cell_type": "code",
   "execution_count": null,
   "id": "6ca7497e-e763-4c51-85a2-6f7da6615f39",
   "metadata": {},
   "outputs": [
    {
     "ename": "NameError",
     "evalue": "name 'upper' is not defined",
     "output_type": "error",
     "traceback": [
      "\u001b[1;31m---------------------------------------------------------------------------\u001b[0m",
      "\u001b[1;31mNameError\u001b[0m                                 Traceback (most recent call last)",
      "Input \u001b[1;32mIn [90]\u001b[0m, in \u001b[0;36m<cell line: 1>\u001b[1;34m()\u001b[0m\n\u001b[1;32m----> 1\u001b[0m \u001b[43mupper\u001b[49m(a)\n",
      "\u001b[1;31mNameError\u001b[0m: name 'upper' is not defined"
     ]
    }
   ],
   "source": [
    "upper(a)# 파이썬에서 가로안에 넣은것은 편의이다."
   ]
  },
  {
   "cell_type": "code",
   "execution_count": 94,
   "id": "cbee0ce7-2e3d-4ef7-83c4-ae6e14d2fb57",
   "metadata": {},
   "outputs": [
    {
     "data": {
      "text/plain": [
       "'HELLO'"
      ]
     },
     "execution_count": 94,
     "metadata": {},
     "output_type": "execute_result"
    }
   ],
   "source": [
    "a.upper() # a가 upper 대문자 "
   ]
  },
  {
   "cell_type": "code",
   "execution_count": 95,
   "id": "8315d53d-c1a1-49cc-b8e3-b7b80b8435c1",
   "metadata": {},
   "outputs": [
    {
     "name": "stdout",
     "output_type": "stream",
     "text": [
      "\n"
     ]
    },
    {
     "data": {
      "text/plain": [
       "''"
      ]
     },
     "execution_count": 95,
     "metadata": {},
     "output_type": "execute_result"
    }
   ],
   "source": [
    "print() # 파이썬은 객체 우선이다. 함수보다 \n",
    "str()"
   ]
  },
  {
   "cell_type": "code",
   "execution_count": 97,
   "id": "3f99886a-db6f-4814-a4b8-376086547f94",
   "metadata": {},
   "outputs": [
    {
     "data": {
      "text/plain": [
       "'hello'"
      ]
     },
     "execution_count": 97,
     "metadata": {},
     "output_type": "execute_result"
    }
   ],
   "source": [
    "a.lower()"
   ]
  },
  {
   "cell_type": "code",
   "execution_count": 103,
   "id": "9253fc26-16e4-47ec-947b-2f7b130a67fb",
   "metadata": {},
   "outputs": [
    {
     "data": {
      "text/plain": [
       "'Hello'"
      ]
     },
     "execution_count": 103,
     "metadata": {},
     "output_type": "execute_result"
    }
   ],
   "source": [
    "a.capitalize() # 맨첫글자만 대문자"
   ]
  },
  {
   "cell_type": "code",
   "execution_count": 104,
   "id": "f2e824a6-4c7c-4832-8001-de84ea127b81",
   "metadata": {},
   "outputs": [
    {
     "data": {
      "text/plain": [
       "'Hello'"
      ]
     },
     "execution_count": 104,
     "metadata": {},
     "output_type": "execute_result"
    }
   ],
   "source": [
    "b=a.upper()\n",
    "b.lower()\n",
    "\n",
    "a.upper().lower().capitalize()"
   ]
  },
  {
   "cell_type": "code",
   "execution_count": 106,
   "id": "5cca7b5a-bd17-43e6-a44a-25aeabb807fd",
   "metadata": {},
   "outputs": [
    {
     "data": {
      "text/plain": [
       "'Good Morning'"
      ]
     },
     "execution_count": 106,
     "metadata": {},
     "output_type": "execute_result"
    }
   ],
   "source": [
    "a= \"good morning\"\n",
    "a.title() #모든단어의 첫글자는 대문자 "
   ]
  },
  {
   "cell_type": "code",
   "execution_count": 107,
   "id": "229f5fb4-72b1-4c34-8c2f-243bcf7ff1f1",
   "metadata": {},
   "outputs": [
    {
     "data": {
      "text/plain": [
       "'good morning'"
      ]
     },
     "execution_count": 107,
     "metadata": {},
     "output_type": "execute_result"
    }
   ],
   "source": [
    "a. # .tap은 함수 여러개 나옴 "
   ]
  },
  {
   "cell_type": "code",
   "execution_count": 112,
   "id": "38556242-8ef9-41ab-8742-9c9766553fd6",
   "metadata": {},
   "outputs": [
    {
     "data": {
      "text/plain": [
       "2"
      ]
     },
     "execution_count": 112,
     "metadata": {},
     "output_type": "execute_result"
    }
   ],
   "source": [
    "a.count('n')\n",
    "\n",
    "# argument는 인수, 인자 \n",
    "#parameter 매개변수 "
   ]
  },
  {
   "cell_type": "code",
   "execution_count": null,
   "id": "52a5eaa9-0076-437c-8643-5dbb634c854e",
   "metadata": {},
   "outputs": [
    {
     "data": {
      "text/plain": [
       "12"
      ]
     },
     "execution_count": 114,
     "metadata": {},
     "output_type": "execute_result"
    }
   ],
   "source": [
    "len(a) #길이"
   ]
  },
  {
   "cell_type": "code",
   "execution_count": 115,
   "id": "f7950694-9745-4291-9642-de787860c1c6",
   "metadata": {},
   "outputs": [
    {
     "data": {
      "text/plain": [
       "'good morning'"
      ]
     },
     "execution_count": 115,
     "metadata": {},
     "output_type": "execute_result"
    }
   ],
   "source": [
    "#strip\n",
    "a=\"    good morning   \"\n",
    "a.strip() #빈칸제거"
   ]
  },
  {
   "cell_type": "code",
   "execution_count": 116,
   "id": "65a22679-cffe-4679-beb2-c359f8752d14",
   "metadata": {
    "tags": []
   },
   "outputs": [
    {
     "name": "stdout",
     "output_type": "stream",
     "text": [
      "    good morning   \n"
     ]
    }
   ],
   "source": [
    "print(a)"
   ]
  },
  {
   "cell_type": "code",
   "execution_count": 117,
   "id": "95707902-f557-4320-99d9-295c5e71b2cd",
   "metadata": {},
   "outputs": [
    {
     "data": {
      "text/plain": [
       "'    good morning'"
      ]
     },
     "execution_count": 117,
     "metadata": {},
     "output_type": "execute_result"
    }
   ],
   "source": [
    "a.rstrip()"
   ]
  },
  {
   "cell_type": "code",
   "execution_count": 118,
   "id": "8abd1a13-1483-4606-9eb8-87f6b52cb5ac",
   "metadata": {},
   "outputs": [
    {
     "data": {
      "text/plain": [
       "'good morning   '"
      ]
     },
     "execution_count": 118,
     "metadata": {},
     "output_type": "execute_result"
    }
   ],
   "source": [
    "a.lstrip()"
   ]
  },
  {
   "cell_type": "code",
   "execution_count": 119,
   "id": "c34fc590-f8e2-4346-9dd1-a230da6ae001",
   "metadata": {},
   "outputs": [
    {
     "data": {
      "text/plain": [
       "['good', 'morning']"
      ]
     },
     "execution_count": 119,
     "metadata": {},
     "output_type": "execute_result"
    }
   ],
   "source": [
    "#split()\n",
    "a.split()"
   ]
  },
  {
   "cell_type": "code",
   "execution_count": 120,
   "id": "f3a75f97-c385-4ef3-af9f-95eea0791794",
   "metadata": {},
   "outputs": [
    {
     "data": {
      "text/plain": [
       "['good,', 'morning,', 'Hello']"
      ]
     },
     "execution_count": 120,
     "metadata": {},
     "output_type": "execute_result"
    }
   ],
   "source": [
    "a=\" good, morning, Hello\"\n",
    "a.split()"
   ]
  },
  {
   "cell_type": "code",
   "execution_count": 121,
   "id": "20dbacbf-8f0a-4aa9-a522-edaf564c257e",
   "metadata": {},
   "outputs": [
    {
     "data": {
      "text/plain": [
       "[' good', ' morning', ' Hello']"
      ]
     },
     "execution_count": 121,
     "metadata": {},
     "output_type": "execute_result"
    }
   ],
   "source": [
    "a.split(',') # 콤마를 기준으로 자름 "
   ]
  },
  {
   "cell_type": "code",
   "execution_count": 122,
   "id": "9ec84e25-8f51-466d-a6cd-8da6450848ea",
   "metadata": {},
   "outputs": [
    {
     "data": {
      "text/plain": [
       "[' good', ' morning', ' Hello']"
      ]
     },
     "execution_count": 122,
     "metadata": {},
     "output_type": "execute_result"
    }
   ],
   "source": [
    "a=\" good: morning: Hello\"\n",
    "a.split(':')"
   ]
  },
  {
   "cell_type": "code",
   "execution_count": 124,
   "id": "a86d3611-9f28-4e55-a1f9-813a270c9ad1",
   "metadata": {},
   "outputs": [
    {
     "data": {
      "text/plain": [
       "'철수영희길동'"
      ]
     },
     "execution_count": 124,
     "metadata": {},
     "output_type": "execute_result"
    }
   ],
   "source": [
    "#join\n",
    "a=[\"철수\", \"영희\", \"길동\"]\n",
    "\"\".join(a)"
   ]
  },
  {
   "cell_type": "code",
   "execution_count": 125,
   "id": "7a930ad2-f96f-42a2-89cd-95e7f9415143",
   "metadata": {},
   "outputs": [
    {
     "data": {
      "text/plain": [
       "'철수-영희-길동'"
      ]
     },
     "execution_count": 125,
     "metadata": {},
     "output_type": "execute_result"
    }
   ],
   "source": [
    "\"-\".join(a)"
   ]
  },
  {
   "cell_type": "code",
   "execution_count": 126,
   "id": "dc93c177-55fd-4eaf-853d-6f3ea44bbfa9",
   "metadata": {},
   "outputs": [
    {
     "data": {
      "text/plain": [
       "'철수 - 영희 - 길동'"
      ]
     },
     "execution_count": 126,
     "metadata": {},
     "output_type": "execute_result"
    }
   ],
   "source": [
    "\" - \".join(a)"
   ]
  },
  {
   "cell_type": "code",
   "execution_count": 129,
   "id": "e7ae9c2a-0f83-4400-be51-c09f84f1f383",
   "metadata": {},
   "outputs": [
    {
     "data": {
      "text/plain": [
       "'1'"
      ]
     },
     "execution_count": 129,
     "metadata": {},
     "output_type": "execute_result"
    }
   ],
   "source": [
    "str(1) # 문자로 바꾸기 "
   ]
  },
  {
   "cell_type": "code",
   "execution_count": 128,
   "id": "4655257c-d942-4bae-8560-d71e89aba39f",
   "metadata": {},
   "outputs": [
    {
     "data": {
      "text/plain": [
       "1"
      ]
     },
     "execution_count": 128,
     "metadata": {},
     "output_type": "execute_result"
    }
   ],
   "source": [
    "int(1)"
   ]
  },
  {
   "cell_type": "code",
   "execution_count": 130,
   "id": "774d47bf-a0ef-4e5e-9e0f-975153fc412d",
   "metadata": {},
   "outputs": [
    {
     "ename": "ValueError",
     "evalue": "invalid literal for int() with base 10: 'Hello'",
     "output_type": "error",
     "traceback": [
      "\u001b[1;31m---------------------------------------------------------------------------\u001b[0m",
      "\u001b[1;31mValueError\u001b[0m                                Traceback (most recent call last)",
      "Input \u001b[1;32mIn [130]\u001b[0m, in \u001b[0;36m<cell line: 1>\u001b[1;34m()\u001b[0m\n\u001b[1;32m----> 1\u001b[0m \u001b[38;5;28;43mint\u001b[39;49m\u001b[43m(\u001b[49m\u001b[38;5;124;43m\"\u001b[39;49m\u001b[38;5;124;43mHello\u001b[39;49m\u001b[38;5;124;43m\"\u001b[39;49m\u001b[43m)\u001b[49m\n",
      "\u001b[1;31mValueError\u001b[0m: invalid literal for int() with base 10: 'Hello'"
     ]
    }
   ],
   "source": [
    "int(\"Hello\")"
   ]
  },
  {
   "cell_type": "markdown",
   "id": "cfffe39a-b3ba-46bf-913b-b5873252bb17",
   "metadata": {},
   "source": [
    "## 참거짓\n",
    "- bool : boolean"
   ]
  },
  {
   "cell_type": "code",
   "execution_count": 131,
   "id": "a139f4d2-34bb-4ee6-828a-0384333bfb51",
   "metadata": {},
   "outputs": [
    {
     "data": {
      "text/plain": [
       "True"
      ]
     },
     "execution_count": 131,
     "metadata": {},
     "output_type": "execute_result"
    }
   ],
   "source": [
    "1<2"
   ]
  },
  {
   "cell_type": "code",
   "execution_count": 132,
   "id": "a110b9c5-dba9-45c0-bac0-07a6db996323",
   "metadata": {},
   "outputs": [
    {
     "name": "stdout",
     "output_type": "stream",
     "text": [
      "Yes\n"
     ]
    }
   ],
   "source": [
    "if 1 < 2 : \n",
    "    print(\"Yes\")"
   ]
  },
  {
   "cell_type": "code",
   "execution_count": 133,
   "id": "c98117ae-abb6-4174-8256-b71c1ffe10e9",
   "metadata": {},
   "outputs": [
    {
     "name": "stdout",
     "output_type": "stream",
     "text": [
      "Yes\n"
     ]
    }
   ],
   "source": [
    "if 1 < 2 : \n",
    "    print(\"Yes\")\n",
    "else: \n",
    "    print(\"No\")"
   ]
  },
  {
   "cell_type": "code",
   "execution_count": 135,
   "id": "c1335ccf-7d67-49b3-8b11-c9bd93e990a6",
   "metadata": {},
   "outputs": [
    {
     "name": "stdout",
     "output_type": "stream",
     "text": [
      "No\n"
     ]
    }
   ],
   "source": [
    "if 1 == 2 : \n",
    "    print(\"Yes\")\n",
    "else: \n",
    "    print(\"No\")"
   ]
  },
  {
   "cell_type": "code",
   "execution_count": 136,
   "id": "0c5a7626-6d1f-4be0-8696-34b79fa1b002",
   "metadata": {},
   "outputs": [
    {
     "data": {
      "text/plain": [
       "False"
      ]
     },
     "execution_count": 136,
     "metadata": {},
     "output_type": "execute_result"
    }
   ],
   "source": [
    "1==2"
   ]
  },
  {
   "cell_type": "code",
   "execution_count": 142,
   "id": "f798e3fd-f24a-4e50-9bcc-b49b6522571b",
   "metadata": {},
   "outputs": [
    {
     "name": "stdout",
     "output_type": "stream",
     "text": [
      "Yes\n"
     ]
    }
   ],
   "source": [
    "if 1 : \n",
    "    print(\"Yes\")\n",
    "else: \n",
    "    print(\"No\")  # 모든 숫자는 참거짓관점에서 모두 참 단한가지 0제외 "
   ]
  },
  {
   "cell_type": "code",
   "execution_count": 143,
   "id": "be148ed0-4b35-4055-b378-ae1b864db443",
   "metadata": {},
   "outputs": [
    {
     "name": "stdout",
     "output_type": "stream",
     "text": [
      "Yes\n"
     ]
    }
   ],
   "source": [
    "if 2 : \n",
    "    print(\"Yes\")\n",
    "else: \n",
    "    print(\"No\")  "
   ]
  },
  {
   "cell_type": "code",
   "execution_count": 144,
   "id": "513e6ab7-85a4-4d88-8add-14ad2ca7a27b",
   "metadata": {},
   "outputs": [
    {
     "name": "stdout",
     "output_type": "stream",
     "text": [
      "No\n"
     ]
    }
   ],
   "source": [
    "if 0 : \n",
    "    print(\"Yes\")\n",
    "else: \n",
    "    print(\"No\")  #"
   ]
  },
  {
   "cell_type": "code",
   "execution_count": 145,
   "id": "c8e386cb-0034-482d-b86d-c28a37cb59a6",
   "metadata": {},
   "outputs": [
    {
     "data": {
      "text/plain": [
       "True"
      ]
     },
     "execution_count": 145,
     "metadata": {},
     "output_type": "execute_result"
    }
   ],
   "source": [
    "bool(1<2)"
   ]
  },
  {
   "cell_type": "code",
   "execution_count": 146,
   "id": "f025eca4-eb8e-45a5-9418-a0897f3fd34c",
   "metadata": {},
   "outputs": [
    {
     "data": {
      "text/plain": [
       "True"
      ]
     },
     "execution_count": 146,
     "metadata": {},
     "output_type": "execute_result"
    }
   ],
   "source": [
    "bool(1)"
   ]
  },
  {
   "cell_type": "code",
   "execution_count": 147,
   "id": "a3f7732b-e22e-4cf9-bc89-d0f1f0fe582f",
   "metadata": {},
   "outputs": [
    {
     "name": "stdout",
     "output_type": "stream",
     "text": [
      "Yes\n"
     ]
    }
   ],
   "source": [
    "if \"Hello\" : \n",
    "    print(\"Yes\")\n",
    "else: \n",
    "    print(\"No\") # 모든 문자가 참이다. "
   ]
  },
  {
   "cell_type": "code",
   "execution_count": 150,
   "id": "93a8f081-b992-489f-99a7-dc6524f5a3af",
   "metadata": {},
   "outputs": [
    {
     "name": "stdout",
     "output_type": "stream",
     "text": [
      "No\n"
     ]
    }
   ],
   "source": [
    "if \"\" : \n",
    "    print(\"Yes\")\n",
    "else: \n",
    "    print(\"No\") #\"\"은 문자중 유일하게 거짓이다."
   ]
  },
  {
   "cell_type": "code",
   "execution_count": 173,
   "id": "41986fcc-a206-48ba-a7be-fcb81b13d020",
   "metadata": {},
   "outputs": [],
   "source": [
    "a=np.array([1,2,3,4,5,]) #[]두개이상이면 대괄호 묶는것"
   ]
  },
  {
   "cell_type": "code",
   "execution_count": 175,
   "id": "20a783d5-032c-45aa-8663-5ec7c6663247",
   "metadata": {},
   "outputs": [
    {
     "ename": "TypeError",
     "evalue": "array() takes from 1 to 2 positional arguments but 5 were given",
     "output_type": "error",
     "traceback": [
      "\u001b[1;31m---------------------------------------------------------------------------\u001b[0m",
      "\u001b[1;31mTypeError\u001b[0m                                 Traceback (most recent call last)",
      "Input \u001b[1;32mIn [175]\u001b[0m, in \u001b[0;36m<cell line: 1>\u001b[1;34m()\u001b[0m\n\u001b[1;32m----> 1\u001b[0m a\u001b[38;5;241m=\u001b[39m\u001b[43mnp\u001b[49m\u001b[38;5;241;43m.\u001b[39;49m\u001b[43marray\u001b[49m\u001b[43m(\u001b[49m\u001b[38;5;241;43m1\u001b[39;49m\u001b[43m,\u001b[49m\u001b[38;5;241;43m2\u001b[39;49m\u001b[43m,\u001b[49m\u001b[38;5;241;43m3\u001b[39;49m\u001b[43m,\u001b[49m\u001b[38;5;241;43m4\u001b[39;49m\u001b[43m,\u001b[49m\u001b[38;5;241;43m5\u001b[39;49m\u001b[43m)\u001b[49m\n\u001b[0;32m      2\u001b[0m a\n",
      "\u001b[1;31mTypeError\u001b[0m: array() takes from 1 to 2 positional arguments but 5 were given"
     ]
    }
   ],
   "source": [
    "a=np.array(1,2,3,4,5)\n",
    "a"
   ]
  },
  {
   "cell_type": "code",
   "execution_count": 174,
   "id": "5b296500-c9d9-47b4-89d5-ad33cda34531",
   "metadata": {},
   "outputs": [
    {
     "data": {
      "text/plain": [
       "array([1, 2, 3, 4, 5])"
      ]
     },
     "execution_count": 174,
     "metadata": {},
     "output_type": "execute_result"
    }
   ],
   "source": [
    "a"
   ]
  },
  {
   "cell_type": "code",
   "execution_count": 156,
   "id": "868f8603-2b92-43fd-bd04-ceba2a3679cb",
   "metadata": {},
   "outputs": [
    {
     "name": "stdout",
     "output_type": "stream",
     "text": [
      "[1 2 3 4 5]\n"
     ]
    }
   ],
   "source": [
    "print(a)"
   ]
  },
  {
   "cell_type": "code",
   "execution_count": 157,
   "id": "cfa93e42-40b3-4426-bfeb-56f7136d7716",
   "metadata": {},
   "outputs": [
    {
     "data": {
      "text/plain": [
       "array([False, False, False,  True,  True])"
      ]
     },
     "execution_count": 157,
     "metadata": {},
     "output_type": "execute_result"
    }
   ],
   "source": [
    "a>3"
   ]
  },
  {
   "cell_type": "code",
   "execution_count": 159,
   "id": "2d1995b1-1432-4eab-ae83-2fd5067e9899",
   "metadata": {},
   "outputs": [
    {
     "data": {
      "text/plain": [
       "array([4, 5])"
      ]
     },
     "execution_count": 159,
     "metadata": {},
     "output_type": "execute_result"
    }
   ],
   "source": [
    "a[a >3 ] # 무언가를 속아내고 싶을 떄 "
   ]
  },
  {
   "cell_type": "markdown",
   "id": "247b59ee-2366-454a-8014-7d6aa45598b7",
   "metadata": {},
   "source": [
    "- input()\n",
    "- 일단 문자열을 출력해준다\n",
    "- 출력은 항상 str 이다. \n"
   ]
  },
  {
   "cell_type": "code",
   "execution_count": 160,
   "id": "10d4a2a6-db36-44aa-b43a-f1ed891fd801",
   "metadata": {},
   "outputs": [
    {
     "name": "stdin",
     "output_type": "stream",
     "text": [
      " 3\n"
     ]
    },
    {
     "data": {
      "text/plain": [
       "'3'"
      ]
     },
     "execution_count": 160,
     "metadata": {},
     "output_type": "execute_result"
    }
   ],
   "source": [
    "input()"
   ]
  },
  {
   "cell_type": "code",
   "execution_count": 164,
   "id": "ae11e633-5feb-44c0-9673-5296283e3019",
   "metadata": {},
   "outputs": [
    {
     "name": "stdin",
     "output_type": "stream",
     "text": [
      "숫자를 입력해 주세요 3\n"
     ]
    },
    {
     "data": {
      "text/plain": [
       "'3'"
      ]
     },
     "execution_count": 164,
     "metadata": {},
     "output_type": "execute_result"
    }
   ],
   "source": [
    "input(\"숫자를 입력해 주세요\")"
   ]
  },
  {
   "cell_type": "code",
   "execution_count": 162,
   "id": "935f3cbb-a413-4f5f-8402-6be2d3ec35d2",
   "metadata": {},
   "outputs": [],
   "source": [
    "#input의 아웃풋은 항상 문자열이다. 그래서 \n",
    "#연산이 안됨 "
   ]
  },
  {
   "cell_type": "code",
   "execution_count": 165,
   "id": "9a91b1ff-4526-47f6-a59d-d8a99b91fe18",
   "metadata": {},
   "outputs": [
    {
     "name": "stdin",
     "output_type": "stream",
     "text": [
      "입력:   철수\n",
      "두번째 입력:   영희\n"
     ]
    },
    {
     "data": {
      "text/plain": [
       "'철수영희'"
      ]
     },
     "execution_count": 165,
     "metadata": {},
     "output_type": "execute_result"
    }
   ],
   "source": [
    "a = input(\"입력:  \")\n",
    "b = input(\"두번째 입력:  \")\n",
    "a+b"
   ]
  },
  {
   "cell_type": "code",
   "execution_count": 166,
   "id": "ee81b7ce-de8d-4a31-adf1-f7b5790a8750",
   "metadata": {
    "tags": []
   },
   "outputs": [
    {
     "name": "stdin",
     "output_type": "stream",
     "text": [
      "입력:   11\n",
      "두번째 입력:   22\n"
     ]
    },
    {
     "data": {
      "text/plain": [
       "'1122'"
      ]
     },
     "execution_count": 166,
     "metadata": {},
     "output_type": "execute_result"
    }
   ],
   "source": [
    "a = input(\"입력:  \")\n",
    "b = input(\"두번째 입력:  \")\n",
    "a+b"
   ]
  },
  {
   "cell_type": "code",
   "execution_count": 168,
   "id": "408d7885-398e-4795-8fb6-22e5cc354794",
   "metadata": {
    "tags": []
   },
   "outputs": [
    {
     "name": "stdin",
     "output_type": "stream",
     "text": [
      "입력:   11\n",
      "두번째 입력:   22\n"
     ]
    },
    {
     "data": {
      "text/plain": [
       "33"
      ]
     },
     "execution_count": 168,
     "metadata": {},
     "output_type": "execute_result"
    }
   ],
   "source": [
    "a = int(input(\"입력:  \"))\n",
    "b = int(input(\"두번째 입력:  \"))\n",
    "a+b"
   ]
  },
  {
   "cell_type": "code",
   "execution_count": 167,
   "id": "635e7116-6035-4ce1-84be-ed4fe7049d77",
   "metadata": {
    "tags": []
   },
   "outputs": [
    {
     "name": "stdin",
     "output_type": "stream",
     "text": [
      "입력:   11\n",
      "두번째 입력:   22\n"
     ]
    },
    {
     "data": {
      "text/plain": [
       "33"
      ]
     },
     "execution_count": 167,
     "metadata": {},
     "output_type": "execute_result"
    }
   ],
   "source": [
    "a = input(\"입력:  \")\n",
    "b = input(\"두번째 입력:  \")\n",
    "a+b\n",
    "int(a)+int(b)"
   ]
  },
  {
   "cell_type": "markdown",
   "id": "a26ec6ab-3934-43d9-b560-44c729b0c71b",
   "metadata": {},
   "source": [
    "숫자를 스트링으로만듬 str\n",
    "- if, fof, class, def, for.... 마지막은 :\n",
    "- factorial(5)\n",
    "import math\n",
    "math.factorial(input('정수 입력')"
   ]
  },
  {
   "cell_type": "code",
   "execution_count": 69,
   "id": "cacb5ec5-5228-4bf9-ab55-12299b8c525d",
   "metadata": {},
   "outputs": [
    {
     "data": {
      "text/plain": [
       "120"
      ]
     },
     "execution_count": 69,
     "metadata": {},
     "output_type": "execute_result"
    }
   ],
   "source": [
    "import math\n",
    "math.factorial(5)"
   ]
  },
  {
   "cell_type": "code",
   "execution_count": 21,
   "id": "74191438-f3d8-4c83-8f44-9be47dc3a5eb",
   "metadata": {},
   "outputs": [
    {
     "name": "stdin",
     "output_type": "stream",
     "text": [
      "숫자를 입력:  1\n"
     ]
    },
    {
     "name": "stdout",
     "output_type": "stream",
     "text": [
      "홀\n"
     ]
    }
   ],
   "source": [
    "x=int(input(\"숫자를 입력: \"))\n",
    "if(x%2==1):\n",
    "    print(\"홀\")\n",
    "else:    \n",
    "    print(\"짝\") "
   ]
  },
  {
   "cell_type": "code",
   "execution_count": 116,
   "id": "78eb51eb-5b6b-4b90-bd28-d1da5ae8cde9",
   "metadata": {},
   "outputs": [
    {
     "name": "stdin",
     "output_type": "stream",
     "text": [
      "정수 입력:  5\n"
     ]
    },
    {
     "data": {
      "text/plain": [
       "120"
      ]
     },
     "execution_count": 116,
     "metadata": {},
     "output_type": "execute_result"
    }
   ],
   "source": [
    "import math\n",
    "math.factorial(int(input(\"정수 입력: \")))#5x4x3x2x1"
   ]
  },
  {
   "cell_type": "code",
   "execution_count": 28,
   "id": "377c23cc-700c-4f1d-a03b-15849e492695",
   "metadata": {},
   "outputs": [
    {
     "data": {
      "text/plain": [
       "array([   1.,  334.,  667., 1000.])"
      ]
     },
     "execution_count": 28,
     "metadata": {},
     "output_type": "execute_result"
    }
   ],
   "source": [
    "np.linspace(1,1000,4)"
   ]
  },
  {
   "cell_type": "code",
   "execution_count": 29,
   "id": "af322b06-81d0-4eab-bcc1-25e2ef6f8e20",
   "metadata": {},
   "outputs": [],
   "source": [
    "import matplotlib.pyplot as plt"
   ]
  },
  {
   "cell_type": "code",
   "execution_count": 31,
   "id": "d9ae4e4d-23f3-4328-9d09-f3c4011cc9b9",
   "metadata": {},
   "outputs": [
    {
     "data": {
      "text/plain": [
       "[<matplotlib.lines.Line2D at 0x1d36526ab30>]"
      ]
     },
     "execution_count": 31,
     "metadata": {},
     "output_type": "execute_result"
    },
    {
     "data": {
      "image/png": "[encoded data removed]",
      "text/plain": [
       "<Figure size 640x480 with 1 Axes>"
      ]
     },
     "metadata": {},
     "output_type": "display_data"
    }
   ],
   "source": [
    "\n",
    "x=np.linspace(0,2*math.pi)\n",
    "y=np.sin(x)\n",
    "z = np.cos(x)\n",
    "plt.plot(x,y)\n",
    "plt.plot(x,z)"
   ]
  },
  {
   "cell_type": "code",
   "execution_count": 37,
   "id": "a5b268cc-abac-46da-84fb-d28e0edc5521",
   "metadata": {},
   "outputs": [
    {
     "ename": "SyntaxError",
     "evalue": "invalid syntax (740316656.py, line 3)",
     "output_type": "error",
     "traceback": [
      "\u001b[1;36m  Input \u001b[1;32mIn [37]\u001b[1;36m\u001b[0m\n\u001b[1;33m    .replace('-',' ').lower().capitalize()\u001b[0m\n\u001b[1;37m    ^\u001b[0m\n\u001b[1;31mSyntaxError\u001b[0m\u001b[1;31m:\u001b[0m invalid syntax\n"
     ]
    }
   ],
   "source": [
    "a='   LIFE-IS-SHORT,-WE-NEED-PYTHON   ' \n",
    "b=a.split() #리스트라서 join 안됨 \n",
    "join\n",
    ".replace('-',' ').lower().capitalize()\n"
   ]
  },
  {
   "cell_type": "code",
   "execution_count": 38,
   "id": "16e21e37-5f66-4553-8989-6287b14d78f8",
   "metadata": {},
   "outputs": [
    {
     "data": {
      "text/plain": [
       "'Life is short, we need python'"
      ]
     },
     "execution_count": 38,
     "metadata": {},
     "output_type": "execute_result"
    }
   ],
   "source": [
    "a = '   LIFE-IS-SHORT,-WE-NEED-PYTHON   ' \n",
    "a.strip().replace('-',' ').lower().capitalize()"
   ]
  },
  {
   "cell_type": "code",
   "execution_count": 39,
   "id": "6f70063e-ff5e-4916-bf44-1da7bbb7e369",
   "metadata": {},
   "outputs": [
    {
     "data": {
      "text/plain": [
       "'Life is short, we need Python'"
      ]
     },
     "execution_count": 39,
     "metadata": {},
     "output_type": "execute_result"
    }
   ],
   "source": [
    "\" \".join('   LIFE-IS-SHORT,-WE-NEED-PYTHON   '.strip().split(\"-\")).capitalize().replace('p',\"P\") "
   ]
  },
  {
   "cell_type": "code",
   "execution_count": 40,
   "id": "3d8f96ce-980a-48c1-b7f3-4a7615587f33",
   "metadata": {},
   "outputs": [
    {
     "data": {
      "text/plain": [
       "'Life is short, we need python'"
      ]
     },
     "execution_count": 40,
     "metadata": {},
     "output_type": "execute_result"
    }
   ],
   "source": [
    "s= '   LIFE-IS-SHORT,-WE-NEED-PYTHON   ' \n",
    "ss= s.strip().capitalize().split('-')\n",
    "ss\n",
    "' '.join(ss) "
   ]
  },
  {
   "cell_type": "code",
   "execution_count": 49,
   "id": "7d3e5834-4b2a-4f73-b39c-58e16aaa03cb",
   "metadata": {},
   "outputs": [],
   "source": [
    "from math import sqrt, factorial"
   ]
  },
  {
   "cell_type": "code",
   "execution_count": 42,
   "id": "bf67dd61-4f15-461d-9eba-261fa4d38304",
   "metadata": {},
   "outputs": [
    {
     "data": {
      "text/plain": [
       "170"
      ]
     },
     "execution_count": 42,
     "metadata": {},
     "output_type": "execute_result"
    }
   ],
   "source": [
    "a = 1000 // 167\n",
    "b = 1000 % 167\n",
    "\n",
    "a+b "
   ]
  },
  {
   "cell_type": "code",
   "execution_count": 330,
   "id": "66e44ad8-777d-4923-a1c4-7de2e2ea910e",
   "metadata": {},
   "outputs": [
    {
     "data": {
      "text/plain": [
       "array([  0.,  10.,  20.,  30.,  40.,  50.,  60.,  70.,  80.,  90., 100.,\n",
       "       110., 120., 130., 140., 150., 160., 170., 180., 190., 200.])"
      ]
     },
     "execution_count": 330,
     "metadata": {},
     "output_type": "execute_result"
    }
   ],
   "source": [
    "a=np.linspace(0,200,21) #0부터 10까지는 11가지\n",
    "np.array(a)"
   ]
  },
  {
   "cell_type": "code",
   "execution_count": 46,
   "id": "4e935a8d-40b5-431a-bac4-7a72baa64a51",
   "metadata": {},
   "outputs": [
    {
     "data": {
      "text/plain": [
       "array([ 0., 10., 20., 30., 40., 50., 60., 70., 80.])"
      ]
     },
     "execution_count": 46,
     "metadata": {},
     "output_type": "execute_result"
    }
   ],
   "source": [
    "a = np.linspace(0,200,21)\n",
    "b = a[a<=80]\n",
    "b "
   ]
  },
  {
   "cell_type": "code",
   "execution_count": 51,
   "id": "30498830-9040-4f31-a878-9b8cb499e57a",
   "metadata": {},
   "outputs": [
    {
     "data": {
      "text/plain": [
       "'철수$영희$민수$아영'"
      ]
     },
     "execution_count": 51,
     "metadata": {},
     "output_type": "execute_result"
    }
   ],
   "source": [
    "a=[\"철수\",\"영희\",\"민수\",\"아영\" ]\n",
    "\"$\".join(a)"
   ]
  },
  {
   "cell_type": "code",
   "execution_count": 53,
   "id": "6e1dd3bc-cfc5-4a0e-abb2-cf9a8b67688f",
   "metadata": {},
   "outputs": [
    {
     "data": {
      "text/plain": [
       "1.46"
      ]
     },
     "execution_count": 53,
     "metadata": {},
     "output_type": "execute_result"
    }
   ],
   "source": [
    "round(1.4567,ndigits=2)"
   ]
  },
  {
   "cell_type": "code",
   "execution_count": 54,
   "id": "c5c19eb4-7085-4b57-b1e7-2baa3ff2b44b",
   "metadata": {},
   "outputs": [
    {
     "data": {
      "text/plain": [
       "['We', 'are', 'studying', 'Python']"
      ]
     },
     "execution_count": 54,
     "metadata": {},
     "output_type": "execute_result"
    }
   ],
   "source": [
    "a= 'WezarezstudyingzPython'\n",
    "a.split('z') "
   ]
  },
  {
   "cell_type": "code",
   "execution_count": 196,
   "id": "3aaa1d6e-c282-4056-8557-ed0bc12f33b5",
   "metadata": {},
   "outputs": [
    {
     "data": {
      "text/plain": [
       "'We are studying Python'"
      ]
     },
     "execution_count": 196,
     "metadata": {},
     "output_type": "execute_result"
    }
   ],
   "source": [
    "a = 'WezarezstudyingzPython'\n",
    "a.replace('z', ' ') "
   ]
  },
  {
   "cell_type": "code",
   "execution_count": 61,
   "id": "72c3bc3e-9e37-4593-9cc8-0d52bcb52680",
   "metadata": {},
   "outputs": [
    {
     "name": "stdout",
     "output_type": "stream",
     "text": [
      "4\n",
      "3\n",
      "6\n"
     ]
    }
   ],
   "source": [
    "a = [4,3,8,6,9]#리스트인데\n",
    "for i in range(len(a)): #인덱스 4의 범위에서 출력함 \n",
    "  if a[i] < 8 :\n",
    "    print(a[i]) "
   ]
  },
  {
   "cell_type": "code",
   "execution_count": 63,
   "id": "def0edb1-9b8f-4450-bddb-1e01ce2239dc",
   "metadata": {},
   "outputs": [
    {
     "data": {
      "text/plain": [
       "array([4, 3, 6])"
      ]
     },
     "execution_count": 63,
     "metadata": {},
     "output_type": "execute_result"
    }
   ],
   "source": [
    "a= np.array([4,3,8,6,9])\n",
    "a[a<8]"
   ]
  },
  {
   "cell_type": "code",
   "execution_count": 73,
   "id": "40d05197-df30-444a-babd-f1ce297101cf",
   "metadata": {},
   "outputs": [
    {
     "ename": "AttributeError",
     "evalue": "'str' object has no attribute 'capiltalize'",
     "output_type": "error",
     "traceback": [
      "\u001b[1;31m---------------------------------------------------------------------------\u001b[0m",
      "\u001b[1;31mAttributeError\u001b[0m                            Traceback (most recent call last)",
      "Input \u001b[1;32mIn [73]\u001b[0m, in \u001b[0;36m<cell line: 2>\u001b[1;34m()\u001b[0m\n\u001b[0;32m      1\u001b[0m a \u001b[38;5;241m=\u001b[39m \u001b[38;5;124m\"\u001b[39m\u001b[38;5;124m  gOod$moRning   \u001b[39m\u001b[38;5;124m\"\u001b[39m\n\u001b[1;32m----> 2\u001b[0m \u001b[43ma\u001b[49m\u001b[38;5;241;43m.\u001b[39;49m\u001b[43mstrip\u001b[49m\u001b[43m(\u001b[49m\u001b[43m)\u001b[49m\u001b[38;5;241;43m.\u001b[39;49m\u001b[43mreplace\u001b[49m\u001b[43m(\u001b[49m\u001b[38;5;124;43m'\u001b[39;49m\u001b[38;5;124;43m$\u001b[39;49m\u001b[38;5;124;43m'\u001b[39;49m\u001b[43m,\u001b[49m\u001b[43m \u001b[49m\u001b[38;5;124;43m'\u001b[39;49m\u001b[38;5;124;43m \u001b[39;49m\u001b[38;5;124;43m'\u001b[39;49m\u001b[43m)\u001b[49m\u001b[38;5;241;43m.\u001b[39;49m\u001b[43mcapiltalize\u001b[49m()\n",
      "\u001b[1;31mAttributeError\u001b[0m: 'str' object has no attribute 'capiltalize'"
     ]
    }
   ],
   "source": [
    "a = \"  gOod$moRning   \"\n",
    "a.strip().replace('$', ' ').capiltalize()"
   ]
  },
  {
   "cell_type": "code",
   "execution_count": 66,
   "id": "b6eada57-a710-486f-9c97-2a3ed6b922c1",
   "metadata": {},
   "outputs": [
    {
     "data": {
      "text/plain": [
       "'Good morning'"
      ]
     },
     "execution_count": 66,
     "metadata": {},
     "output_type": "execute_result"
    }
   ],
   "source": [
    "a = \"  gOod$moRning   \"\n",
    "b= a.strip().lower().split('$')\n",
    "c= ' '.join(b)\n",
    "c.capitalize() "
   ]
  },
  {
   "cell_type": "code",
   "execution_count": 67,
   "id": "fe09c4c6-ee74-449b-8cea-e98ba4939ece",
   "metadata": {},
   "outputs": [
    {
     "data": {
      "text/plain": [
       "'Good morning'"
      ]
     },
     "execution_count": 67,
     "metadata": {},
     "output_type": "execute_result"
    }
   ],
   "source": [
    "\" \".join((a.strip().split(\"$\"))).capitalize() "
   ]
  },
  {
   "cell_type": "code",
   "execution_count": 74,
   "id": "b36d7c75-ebeb-47f1-af7b-bd79f861bfc2",
   "metadata": {},
   "outputs": [
    {
     "data": {
      "text/plain": [
       "'Goood Morning'"
      ]
     },
     "execution_count": 74,
     "metadata": {},
     "output_type": "execute_result"
    }
   ],
   "source": [
    "a = \"  gOood$moRning   \"\n",
    "b =a.strip().lower().title().split('$')\n",
    "' '.join(b) "
   ]
  },
  {
   "cell_type": "code",
   "execution_count": 79,
   "id": "6950761b-a3b0-4f14-a968-e0e7dadd8010",
   "metadata": {},
   "outputs": [
    {
     "name": "stdin",
     "output_type": "stream",
     "text": [
      " 5\n"
     ]
    },
    {
     "name": "stdout",
     "output_type": "stream",
     "text": [
      "10\n"
     ]
    }
   ],
   "source": [
    "a = int(input())\n",
    "print(a*2) "
   ]
  },
  {
   "cell_type": "code",
   "execution_count": 82,
   "id": "30f96bd5-6efc-4af5-9f9b-37ec2ad91858",
   "metadata": {},
   "outputs": [
    {
     "name": "stdin",
     "output_type": "stream",
     "text": [
      " apple, banana\n"
     ]
    }
   ],
   "source": [
    "words=input().split(\",\")"
   ]
  },
  {
   "cell_type": "code",
   "execution_count": 83,
   "id": "6699ad9b-660e-4580-9a98-7c365fbafec9",
   "metadata": {},
   "outputs": [
    {
     "data": {
      "text/plain": [
       "['apple,', 'banana']"
      ]
     },
     "execution_count": 83,
     "metadata": {},
     "output_type": "execute_result"
    }
   ],
   "source": [
    "words"
   ]
  },
  {
   "cell_type": "code",
   "execution_count": 84,
   "id": "99776dfb-e027-4a20-b7be-03588a096506",
   "metadata": {},
   "outputs": [
    {
     "name": "stdin",
     "output_type": "stream",
     "text": [
      " a b c\n"
     ]
    }
   ],
   "source": [
    "words = input().split()\n",
    "words"
   ]
  },
  {
   "cell_type": "code",
   "execution_count": 85,
   "id": "414f5123-dd76-492f-86a3-bdb8060c7599",
   "metadata": {},
   "outputs": [
    {
     "name": "stdin",
     "output_type": "stream",
     "text": [
      " a,b,c\n"
     ]
    },
    {
     "data": {
      "text/plain": [
       "['a', 'b', 'c']"
      ]
     },
     "execution_count": 85,
     "metadata": {},
     "output_type": "execute_result"
    }
   ],
   "source": [
    "words=input().split(\",\")\n",
    "words# 컴마로 분리해서 여러개 입력받기# 그냥 엔터침"
   ]
  },
  {
   "cell_type": "code",
   "execution_count": 86,
   "id": "1f15c538-cb86-49e5-abfa-f8e0be4b0ae1",
   "metadata": {},
   "outputs": [
    {
     "name": "stdin",
     "output_type": "stream",
     "text": [
      " apple baa\n"
     ]
    },
    {
     "data": {
      "text/plain": [
       "['apple baa']"
      ]
     },
     "execution_count": 86,
     "metadata": {},
     "output_type": "execute_result"
    }
   ],
   "source": [
    "words=input().split(\",\")\n",
    "words"
   ]
  },
  {
   "cell_type": "markdown",
   "id": "75c038b4-3c04-4ac2-914d-bba8a690891a",
   "metadata": {},
   "source": [
    "## formatting 포맷팅"
   ]
  },
  {
   "cell_type": "code",
   "execution_count": 88,
   "id": "69b24d54-28a3-401c-929f-b3bfe8953526",
   "metadata": {},
   "outputs": [
    {
     "name": "stdout",
     "output_type": "stream",
     "text": [
      "i ate three apples. so i had sicked for 3days\n"
     ]
    }
   ],
   "source": [
    "print(\"i ate three apples. so i had sicked for 3days\")"
   ]
  },
  {
   "cell_type": "code",
   "execution_count": 90,
   "id": "d8300f4e-33fb-4fb1-9d0f-d17e91a076f8",
   "metadata": {},
   "outputs": [
    {
     "name": "stdout",
     "output_type": "stream",
     "text": [
      "i ate number apples. so i had sicked for day days\n"
     ]
    }
   ],
   "source": [
    "number = \"three\" # 넘버는 변수라는 걸 알려줘야함 \n",
    "day = 3 # 넙버는 변수라고 지칭해줘야함 \n",
    "print(\"i ate number apples. so i had sicked for day days\")"
   ]
  },
  {
   "cell_type": "code",
   "execution_count": 91,
   "id": "90f4a845-3dfa-42f8-ba78-e3869ec0bcea",
   "metadata": {},
   "outputs": [
    {
     "name": "stdout",
     "output_type": "stream",
     "text": [
      "i ate three apples. so i had sicked for 3 days\n"
     ]
    }
   ],
   "source": [
    "number = \"three\" # 넘버는 변수라는 걸 알려줘야함 \n",
    "day = 3 # 넙버는 변수라고 지칭해줘야함 \" \" 문자열\n",
    "print(\"i ate {} apples. so i had sicked for {} days\".format(number, day))"
   ]
  },
  {
   "cell_type": "code",
   "execution_count": 92,
   "id": "48803b26-a7d9-4922-8ae5-c6efd298a681",
   "metadata": {},
   "outputs": [
    {
     "name": "stdout",
     "output_type": "stream",
     "text": [
      "i ate three apples. so i had sicked for 3 days\n"
     ]
    }
   ],
   "source": [
    "number = \"three\" # 넘버는 변수라는 걸 알려줘야함 \n",
    "day = 3 # 넙버는 변수라고 지칭해줘야함 \" \" 문자열 \n",
    "print(\"i ate {0} apples. so i had sicked for {1} days\".format(number, day))"
   ]
  },
  {
   "cell_type": "code",
   "execution_count": 93,
   "id": "fc4a8788-affe-4cba-8df7-6f0641ba6e12",
   "metadata": {},
   "outputs": [
    {
     "name": "stdout",
     "output_type": "stream",
     "text": [
      "i ate 3 apples. so i had sicked for three days\n"
     ]
    }
   ],
   "source": [
    "number = \"three\" # 넘버는 변수라는 걸 알려줘야함 \n",
    "day = 3 # 넙버는 변수라고 지칭해줘야함 \" \" 문자열 \n",
    "print(\"i ate {1} apples. so i had sicked for {0} days\".format(number, day))"
   ]
  },
  {
   "cell_type": "code",
   "execution_count": 95,
   "id": "d970eb1e-38bb-4474-a0a7-5d584e71ddea",
   "metadata": {},
   "outputs": [
    {
     "name": "stdout",
     "output_type": "stream",
     "text": [
      "i ate three apples. so i had sicked for 3 days\n"
     ]
    }
   ],
   "source": [
    "# f- string f문자열\n",
    "number = \"three\" # 넘버는 변수라는 걸 알려줘야함 \n",
    "day = 3 # 넙버는 변수라고 지칭해줘야함 \n",
    "print(f\"i ate {number} apples. so i had sicked for {day} days\")"
   ]
  },
  {
   "cell_type": "code",
   "execution_count": 98,
   "id": "0d626bda-8673-48a7-a09a-8ae05121abee",
   "metadata": {},
   "outputs": [
    {
     "name": "stdout",
     "output_type": "stream",
     "text": [
      "나의 이름은 정재훈이고 나이는 28세 입니다.\n"
     ]
    }
   ],
   "source": [
    "#이름과 나이를 입력받아서 name, age\n",
    "name = \"정재훈\" \n",
    "age = 28\n",
    "print(f\"나의 이름은 {name}이고 나이는 {age}세 입니다.\")"
   ]
  },
  {
   "cell_type": "code",
   "execution_count": 99,
   "id": "031b99dd-2884-4898-8afe-49fada5b0919",
   "metadata": {},
   "outputs": [
    {
     "name": "stdin",
     "output_type": "stream",
     "text": [
      "이름 재훈\n",
      "나이 222\n"
     ]
    },
    {
     "name": "stdout",
     "output_type": "stream",
     "text": [
      "나의 이름은 재훈이고 나이는 222입니다.\n"
     ]
    }
   ],
   "source": [
    "name = input(\"이름\")\n",
    "age = input(\"나이\")\n",
    "\n",
    "print(f\"나의 이름은 {name}이고 나이는 {age}입니다.\") "
   ]
  },
  {
   "cell_type": "markdown",
   "id": "b7178498-caa5-4e96-87ad-4e7ab8179853",
   "metadata": {},
   "source": [
    "# 파이썬의 자료형\n",
    "- 리스트, 튜플, 딕셔너리, 집합"
   ]
  },
  {
   "cell_type": "markdown",
   "id": "e88d0ae1-3001-4b0f-a022-b46f7664aaaf",
   "metadata": {},
   "source": [
    "# 리스트 <br>\n",
    "- 만들기 크리에이트 c : [  ]\n",
    "- 접근 리드 r\n",
    "- 수정 업데이트u \n",
    "- 델리트d"
   ]
  },
  {
   "cell_type": "code",
   "execution_count": 111,
   "id": "c6c04aa5-b36b-49e0-90c5-efffa65380f5",
   "metadata": {},
   "outputs": [
    {
     "data": {
      "text/plain": [
       "[1, 2, 3, 4, 'Hello, Good Morning', [5, 6, 7, 8]]"
      ]
     },
     "execution_count": 111,
     "metadata": {},
     "output_type": "execute_result"
    }
   ],
   "source": [
    "#만들기 #리스트는 여러개를 하나로 묶어줌 \n",
    "a=[1,2,3,4 ]\n",
    "a=[1,2,3,4, \"Hello, Good Morning\"]\n",
    "a=[1,2,3,4, \"Hello, Good Morning\", [5,6,7,8,]] #nested list 중첩리스트\n",
    "a"
   ]
  },
  {
   "cell_type": "code",
   "execution_count": 103,
   "id": "a2f3e3a9-4e18-4b80-b930-dc2b6715ef0d",
   "metadata": {},
   "outputs": [
    {
     "data": {
      "text/plain": [
       "list"
      ]
     },
     "execution_count": 103,
     "metadata": {},
     "output_type": "execute_result"
    }
   ],
   "source": [
    "type(a)"
   ]
  },
  {
   "cell_type": "code",
   "execution_count": 107,
   "id": "3befafcf-13b9-4bd4-8403-8ddf1bd2fd4c",
   "metadata": {},
   "outputs": [
    {
     "data": {
      "text/plain": [
       "(1, 2)"
      ]
     },
     "execution_count": 107,
     "metadata": {},
     "output_type": "execute_result"
    }
   ],
   "source": [
    "a= 1,2# 안묶어도 이건 오류로 묶음 \n",
    "a"
   ]
  },
  {
   "cell_type": "code",
   "execution_count": 106,
   "id": "14110355-e4ec-4d96-812a-3a5f69d4cfa7",
   "metadata": {},
   "outputs": [
    {
     "data": {
      "text/plain": [
       "tuple"
      ]
     },
     "execution_count": 106,
     "metadata": {},
     "output_type": "execute_result"
    }
   ],
   "source": [
    "type(a)"
   ]
  },
  {
   "cell_type": "code",
   "execution_count": 113,
   "id": "aa7e913b-b205-4bda-a6b3-c188bb719c04",
   "metadata": {},
   "outputs": [
    {
     "name": "stdin",
     "output_type": "stream",
     "text": [
      " 5\n"
     ]
    },
    {
     "data": {
      "text/plain": [
       "'5'"
      ]
     },
     "execution_count": 113,
     "metadata": {},
     "output_type": "execute_result"
    }
   ],
   "source": [
    "input()"
   ]
  },
  {
   "cell_type": "markdown",
   "id": "d44b1c1a-e3b6-404f-8814-a2902010b206",
   "metadata": {},
   "source": [
    "- 접근 indexing / index(한개)한개를 콕콕 찍음"
   ]
  },
  {
   "cell_type": "code",
   "execution_count": 127,
   "id": "786b7211-a2e9-42dc-9675-11247f6695e9",
   "metadata": {},
   "outputs": [
    {
     "data": {
      "text/plain": [
       "[1, 2, 3, 4, 'Hello', 'Good Morning', [5, 6, 7, 8]]"
      ]
     },
     "execution_count": 127,
     "metadata": {},
     "output_type": "execute_result"
    }
   ],
   "source": [
    "a=[1,2,3,4, \"Hello\", \"Good Morning\", [5,6,7,8,]]\n",
    "a"
   ]
  },
  {
   "cell_type": "code",
   "execution_count": 128,
   "id": "dc82d855-5015-4d9e-96e3-7ed0d63d1d6c",
   "metadata": {},
   "outputs": [
    {
     "data": {
      "text/plain": [
       "2"
      ]
     },
     "execution_count": 128,
     "metadata": {},
     "output_type": "execute_result"
    }
   ],
   "source": [
    "a[1]"
   ]
  },
  {
   "cell_type": "code",
   "execution_count": 129,
   "id": "b44bdb0f-9f26-4360-84b7-03ca1f79e272",
   "metadata": {},
   "outputs": [
    {
     "data": {
      "text/plain": [
       "1"
      ]
     },
     "execution_count": 129,
     "metadata": {},
     "output_type": "execute_result"
    }
   ],
   "source": [
    "a[0] # 시작숫자는 0부터다"
   ]
  },
  {
   "cell_type": "code",
   "execution_count": 130,
   "id": "5957131c-dc36-4a38-a862-3634df0965ab",
   "metadata": {},
   "outputs": [
    {
     "data": {
      "text/plain": [
       "'Hello'"
      ]
     },
     "execution_count": 130,
     "metadata": {},
     "output_type": "execute_result"
    }
   ],
   "source": [
    "a[4]"
   ]
  },
  {
   "cell_type": "code",
   "execution_count": 131,
   "id": "09b861c8-080f-4e0e-beac-b3cf514c368d",
   "metadata": {},
   "outputs": [
    {
     "data": {
      "text/plain": [
       "'H'"
      ]
     },
     "execution_count": 131,
     "metadata": {},
     "output_type": "execute_result"
    }
   ],
   "source": [
    "a[4][0]"
   ]
  },
  {
   "cell_type": "code",
   "execution_count": 132,
   "id": "c82cda6c-ec5b-42ef-8da0-c5b7642450f8",
   "metadata": {},
   "outputs": [
    {
     "data": {
      "text/plain": [
       "'M'"
      ]
     },
     "execution_count": 132,
     "metadata": {},
     "output_type": "execute_result"
    }
   ],
   "source": [
    "a[5][5] # 6번째글짜의 6번째"
   ]
  },
  {
   "cell_type": "code",
   "execution_count": 133,
   "id": "cd1aa941-f8b2-4601-8a52-4b0c37af5be8",
   "metadata": {},
   "outputs": [
    {
     "data": {
      "text/plain": [
       "7"
      ]
     },
     "execution_count": 133,
     "metadata": {},
     "output_type": "execute_result"
    }
   ],
   "source": [
    "a[6][2]"
   ]
  },
  {
   "cell_type": "code",
   "execution_count": 134,
   "id": "ae790e0f-8bb4-4aa9-a10a-ba11bef40c71",
   "metadata": {},
   "outputs": [
    {
     "data": {
      "text/plain": [
       "[5, 6, 7, 8]"
      ]
     },
     "execution_count": 134,
     "metadata": {},
     "output_type": "execute_result"
    }
   ],
   "source": [
    "#뒤에서 첫번째는 -1\n",
    "a[-1]"
   ]
  },
  {
   "cell_type": "code",
   "execution_count": 137,
   "id": "ebbcdfbc-237c-406e-9db8-d6ef461b867d",
   "metadata": {},
   "outputs": [
    {
     "data": {
      "text/plain": [
       "'g'"
      ]
     },
     "execution_count": 137,
     "metadata": {},
     "output_type": "execute_result"
    }
   ],
   "source": [
    "a[-2][-1]"
   ]
  },
  {
   "cell_type": "code",
   "execution_count": 139,
   "id": "163fed7b-11be-4a92-ad88-c4c3cf3add06",
   "metadata": {},
   "outputs": [
    {
     "data": {
      "text/plain": [
       "1"
      ]
     },
     "execution_count": 139,
     "metadata": {},
     "output_type": "execute_result"
    }
   ],
   "source": [
    "a[-0] # -0은 0이다. "
   ]
  },
  {
   "cell_type": "code",
   "execution_count": 140,
   "id": "e8f2c0db-209b-4948-a0a3-3153eb07f97e",
   "metadata": {},
   "outputs": [
    {
     "data": {
      "text/plain": [
       "'HelloGood Morning'"
      ]
     },
     "execution_count": 140,
     "metadata": {},
     "output_type": "execute_result"
    }
   ],
   "source": [
    "a[4]+a[5]"
   ]
  },
  {
   "cell_type": "code",
   "execution_count": 146,
   "id": "b239445f-02f6-428d-b6ee-4bf9302e756b",
   "metadata": {},
   "outputs": [
    {
     "data": {
      "text/plain": [
       "[1, 2, 3, 4]"
      ]
     },
     "execution_count": 146,
     "metadata": {},
     "output_type": "execute_result"
    }
   ],
   "source": [
    "a[0:4] #a[start:stop] # stop의 수는 제외됨 \n",
    "#접근 slicing start:stop"
   ]
  },
  {
   "cell_type": "code",
   "execution_count": 147,
   "id": "8135974e-be67-4acf-a255-be1f1bd88aff",
   "metadata": {},
   "outputs": [
    {
     "data": {
      "text/plain": [
       "['Hello', 'Good Morning']"
      ]
     },
     "execution_count": 147,
     "metadata": {},
     "output_type": "execute_result"
    }
   ],
   "source": [
    "a[4:6]"
   ]
  },
  {
   "cell_type": "code",
   "execution_count": 150,
   "id": "d9a5a01f-8785-4475-9d87-b9b4409c9e86",
   "metadata": {},
   "outputs": [
    {
     "data": {
      "text/plain": [
       "['Hello', 'Good Morning', [5, 6, 7, 8]]"
      ]
     },
     "execution_count": 150,
     "metadata": {},
     "output_type": "execute_result"
    }
   ],
   "source": [
    "a[4:] # 끝까지 달림 "
   ]
  },
  {
   "cell_type": "code",
   "execution_count": 151,
   "id": "605c86fb-fadb-4568-a984-855dad411d66",
   "metadata": {},
   "outputs": [
    {
     "data": {
      "text/plain": [
       "[1, 2, 3, 4]"
      ]
     },
     "execution_count": 151,
     "metadata": {},
     "output_type": "execute_result"
    }
   ],
   "source": [
    "a[:4]"
   ]
  },
  {
   "cell_type": "code",
   "execution_count": 152,
   "id": "7d1756b0-a0fb-4113-a090-9343395a69c4",
   "metadata": {},
   "outputs": [
    {
     "data": {
      "text/plain": [
       "[1, 2, 3, 4, 'Hello', 'Good Morning', [5, 6, 7, 8]]"
      ]
     },
     "execution_count": 152,
     "metadata": {},
     "output_type": "execute_result"
    }
   ],
   "source": [
    "a[:]"
   ]
  },
  {
   "cell_type": "code",
   "execution_count": 153,
   "id": "368fc97e-90b9-40ee-9ceb-7543cccb7494",
   "metadata": {},
   "outputs": [
    {
     "data": {
      "text/plain": [
       "['Hello', 'Good Morning', [5, 6, 7, 8]]"
      ]
     },
     "execution_count": 153,
     "metadata": {},
     "output_type": "execute_result"
    }
   ],
   "source": [
    "a[-3: ]"
   ]
  },
  {
   "cell_type": "code",
   "execution_count": 156,
   "id": "22c530f1-1ba2-4b7f-af70-c8af0c98515f",
   "metadata": {},
   "outputs": [
    {
     "data": {
      "text/plain": [
       "'ll'"
      ]
     },
     "execution_count": 156,
     "metadata": {},
     "output_type": "execute_result"
    }
   ],
   "source": [
    "a[4][2:4] # 2부터시작하니까 뒤에 두글자 출력은 4-2는 2글자"
   ]
  },
  {
   "cell_type": "code",
   "execution_count": 157,
   "id": "408613c1-4c4c-41d0-a2e3-6b1933335bc0",
   "metadata": {},
   "outputs": [],
   "source": [
    "#2<= <=100\n",
    "#1<n<3 \n",
    "#1<=n<3 2개 우리는 한쪽만 등호니까 갯수는 걍 빼면됨 \n",
    "#1<= n <=3 3개"
   ]
  },
  {
   "cell_type": "code",
   "execution_count": 160,
   "id": "5339c740-1244-405b-b2db-ef00e8295aae",
   "metadata": {},
   "outputs": [
    {
     "data": {
      "text/plain": [
       "'Morning'"
      ]
     },
     "execution_count": 160,
     "metadata": {},
     "output_type": "execute_result"
    }
   ],
   "source": [
    "a[5][5:] # 띄어쓰기도 세줌"
   ]
  },
  {
   "cell_type": "markdown",
   "id": "34b03f99-34a3-4f62-a0cd-67025b5a185e",
   "metadata": {},
   "source": [
    "- 수정"
   ]
  },
  {
   "cell_type": "code",
   "execution_count": 162,
   "id": "dfb92a10-0338-4860-85b0-e0c182c51508",
   "metadata": {},
   "outputs": [
    {
     "data": {
      "text/plain": [
       "[1, 22, 3, 4, 'Hello', 'Good Morning', [5, 6, 7, 8]]"
      ]
     },
     "execution_count": 162,
     "metadata": {},
     "output_type": "execute_result"
    }
   ],
   "source": [
    "#old one = new\n",
    "a[1]= 22\n",
    "a"
   ]
  },
  {
   "cell_type": "markdown",
   "id": "2a861e9c-5d6c-48ff-88a0-15175d5f5d83",
   "metadata": {},
   "source": [
    "- 추가"
   ]
  },
  {
   "cell_type": "code",
   "execution_count": 165,
   "id": "ed12061e-e2db-4cb0-b4dd-6832b980839b",
   "metadata": {},
   "outputs": [],
   "source": [
    "a.append(9)"
   ]
  },
  {
   "cell_type": "code",
   "execution_count": 168,
   "id": "bfb95dbd-dd7b-453a-b9b7-d82dce49da66",
   "metadata": {},
   "outputs": [
    {
     "data": {
      "text/plain": [
       "[1, 22, 3, 4, 'Hello', 'Good Morning', [5, 6, 7, 8], 9, 9, 9]"
      ]
     },
     "execution_count": 168,
     "metadata": {},
     "output_type": "execute_result"
    }
   ],
   "source": [
    "a"
   ]
  },
  {
   "cell_type": "code",
   "execution_count": 167,
   "id": "ebec6ede-3f8f-454e-abb8-5f187ce5b728",
   "metadata": {},
   "outputs": [
    {
     "ename": "SyntaxError",
     "evalue": "expected ':' (1898228511.py, line 2)",
     "output_type": "error",
     "traceback": [
      "\u001b[1;36m  Input \u001b[1;32mIn [167]\u001b[1;36m\u001b[0m\n\u001b[1;33m    for i in [1,2,3]\u001b[0m\n\u001b[1;37m                    ^\u001b[0m\n\u001b[1;31mSyntaxError\u001b[0m\u001b[1;31m:\u001b[0m expected ':'\n"
     ]
    }
   ],
   "source": [
    "b =[]\n",
    "for i in [1,2,3]\n",
    "    b.append(i)"
   ]
  },
  {
   "cell_type": "code",
   "execution_count": 169,
   "id": "63d1068b-70f6-49c3-ad7e-3396c4de619b",
   "metadata": {},
   "outputs": [
    {
     "data": {
      "text/plain": [
       "[1, 22, 3, 4, 'Hello', 'Good Morning', [5, 6, 7, 8], 9, 9, 9]"
      ]
     },
     "execution_count": 169,
     "metadata": {},
     "output_type": "execute_result"
    }
   ],
   "source": [
    "a"
   ]
  },
  {
   "cell_type": "code",
   "execution_count": 170,
   "id": "f0bcf967-f841-4873-a8dd-6e1811b36b29",
   "metadata": {},
   "outputs": [
    {
     "data": {
      "text/plain": [
       "[1, 22, 33, 3, 4, 'Hello', 'Good Morning', [5, 6, 7, 8], 9, 9, 9]"
      ]
     },
     "execution_count": 170,
     "metadata": {},
     "output_type": "execute_result"
    }
   ],
   "source": [
    "a.insert(2, 33)\n",
    "a"
   ]
  },
  {
   "cell_type": "markdown",
   "id": "705344b6-7751-4851-92c0-b5e1372cf7b0",
   "metadata": {},
   "source": [
    "- 삭제 "
   ]
  },
  {
   "cell_type": "code",
   "execution_count": 171,
   "id": "aac02cfb-771d-4082-87e6-7b0e760c32c8",
   "metadata": {},
   "outputs": [
    {
     "data": {
      "text/plain": [
       "[1, 22, 33, 4, 'Hello', 'Good Morning', [5, 6, 7, 8], 9, 9, 9]"
      ]
     },
     "execution_count": 171,
     "metadata": {},
     "output_type": "execute_result"
    }
   ],
   "source": [
    "a.remove(3)\n",
    "a"
   ]
  },
  {
   "cell_type": "code",
   "execution_count": 174,
   "id": "50e8ef88-aa44-4d4f-b99a-ab017519988a",
   "metadata": {},
   "outputs": [
    {
     "data": {
      "text/plain": [
       "[1, 22, 33, 4, 'Hello', 'Good Morning', [5, 6, 7, 8]]"
      ]
     },
     "execution_count": 174,
     "metadata": {},
     "output_type": "execute_result"
    }
   ],
   "source": [
    "a.remove(9)\n",
    "a"
   ]
  },
  {
   "cell_type": "code",
   "execution_count": 175,
   "id": "674384a7-48a3-4568-9a53-1d34762aee63",
   "metadata": {},
   "outputs": [
    {
     "data": {
      "text/plain": [
       "'Hello'"
      ]
     },
     "execution_count": 175,
     "metadata": {},
     "output_type": "execute_result"
    }
   ],
   "source": [
    "a.pop(4) # hello 지운다"
   ]
  },
  {
   "cell_type": "code",
   "execution_count": 176,
   "id": "c0b54247-fd08-4a33-aaa6-ae60ba2f49f3",
   "metadata": {},
   "outputs": [
    {
     "data": {
      "text/plain": [
       "[1, 22, 33, 4, 'Good Morning', [5, 6, 7, 8]]"
      ]
     },
     "execution_count": 176,
     "metadata": {},
     "output_type": "execute_result"
    }
   ],
   "source": [
    "a"
   ]
  },
  {
   "cell_type": "markdown",
   "id": "ab1e911c-b55a-4159-ae92-2dfb477b6cf2",
   "metadata": {},
   "source": [
    "- 정렬 sort(메소드 객체.sort이렇게) , sorted(파이썬 내장함수)"
   ]
  },
  {
   "cell_type": "code",
   "execution_count": 178,
   "id": "ecc7c18c-25b5-43f4-b82d-12e24bf9fd3a",
   "metadata": {},
   "outputs": [],
   "source": [
    "a=[1,3,4,2]"
   ]
  },
  {
   "cell_type": "code",
   "execution_count": 180,
   "id": "a02d590a-9002-4a3f-b8f6-5ef2aaaf6f94",
   "metadata": {},
   "outputs": [
    {
     "data": {
      "text/plain": [
       "[1, 2, 3, 4]"
      ]
     },
     "execution_count": 180,
     "metadata": {},
     "output_type": "execute_result"
    }
   ],
   "source": [
    "sorted([1,3,4,2])"
   ]
  },
  {
   "cell_type": "code",
   "execution_count": 181,
   "id": "acc978a0-4ad2-461b-93cb-aef497aa0b17",
   "metadata": {},
   "outputs": [
    {
     "ename": "AttributeError",
     "evalue": "'list' object has no attribute 'sorted'",
     "output_type": "error",
     "traceback": [
      "\u001b[1;31m---------------------------------------------------------------------------\u001b[0m",
      "\u001b[1;31mAttributeError\u001b[0m                            Traceback (most recent call last)",
      "Input \u001b[1;32mIn [181]\u001b[0m, in \u001b[0;36m<cell line: 2>\u001b[1;34m()\u001b[0m\n\u001b[0;32m      1\u001b[0m a\u001b[38;5;241m=\u001b[39m[\u001b[38;5;241m1\u001b[39m,\u001b[38;5;241m3\u001b[39m,\u001b[38;5;241m4\u001b[39m,\u001b[38;5;241m2\u001b[39m]\n\u001b[1;32m----> 2\u001b[0m \u001b[43ma\u001b[49m\u001b[38;5;241;43m.\u001b[39;49m\u001b[43msorted\u001b[49m()\n",
      "\u001b[1;31mAttributeError\u001b[0m: 'list' object has no attribute 'sorted'"
     ]
    }
   ],
   "source": [
    "a=[1,3,4,2]\n",
    "a.sorted()"
   ]
  },
  {
   "cell_type": "code",
   "execution_count": 182,
   "id": "084f48fb-81f9-4af7-a171-f59dd0de14f1",
   "metadata": {},
   "outputs": [],
   "source": [
    "a=[1,3,4,2]\n",
    "a.sort()"
   ]
  },
  {
   "cell_type": "code",
   "execution_count": 183,
   "id": "11931691-1251-4a35-a4c4-762fb0f40c3c",
   "metadata": {},
   "outputs": [
    {
     "data": {
      "text/plain": [
       "[1, 2, 3, 4]"
      ]
     },
     "execution_count": 183,
     "metadata": {},
     "output_type": "execute_result"
    }
   ],
   "source": [
    "a"
   ]
  },
  {
   "cell_type": "code",
   "execution_count": 184,
   "id": "a3d6f19e-634b-4c15-8c25-7e5d67b4f0a0",
   "metadata": {},
   "outputs": [],
   "source": [
    "a.reverse()"
   ]
  },
  {
   "cell_type": "code",
   "execution_count": 185,
   "id": "a2a45f71-7962-4670-8fb9-799174aed59a",
   "metadata": {},
   "outputs": [
    {
     "data": {
      "text/plain": [
       "[4, 3, 2, 1]"
      ]
     },
     "execution_count": 185,
     "metadata": {},
     "output_type": "execute_result"
    }
   ],
   "source": [
    "a"
   ]
  },
  {
   "cell_type": "markdown",
   "id": "a9806c69-e36d-4ee3-b251-b9be5fbcb758",
   "metadata": {},
   "source": [
    "### tuple(튜플, 투플) list랑 99%같음\n",
    "- list는 수정되는데 튜플은 수정이 안됨 \n",
    "- 주민등록번호 같은 수정되면 안되는 것"
   ]
  },
  {
   "cell_type": "code",
   "execution_count": 186,
   "id": "7f7f6907-cbf1-497c-a632-35fe85e9cd2d",
   "metadata": {},
   "outputs": [],
   "source": [
    "#만들기는 소괄호 () x튜를로 묶는것은 패킹\n",
    "#푸는 것은 언패킹\n",
    "a=(1,2,3,4)"
   ]
  },
  {
   "cell_type": "code",
   "execution_count": 187,
   "id": "04a11f39-90da-489a-8ecf-8e64b5876a04",
   "metadata": {},
   "outputs": [
    {
     "data": {
      "text/plain": [
       "tuple"
      ]
     },
     "execution_count": 187,
     "metadata": {},
     "output_type": "execute_result"
    }
   ],
   "source": [
    "type(a)"
   ]
  },
  {
   "cell_type": "code",
   "execution_count": 189,
   "id": "fbc38c91-2842-405f-b2f7-1c4d064bd3f0",
   "metadata": {},
   "outputs": [
    {
     "data": {
      "text/plain": [
       "(5, 6, 7, 8)"
      ]
     },
     "execution_count": 189,
     "metadata": {},
     "output_type": "execute_result"
    }
   ],
   "source": [
    "a= 5,6,7,8 # 소괄호 안해도 됨 \n",
    "a"
   ]
  },
  {
   "cell_type": "code",
   "execution_count": 190,
   "id": "bb0f97a0-fbdb-430e-84da-331e92cbfc70",
   "metadata": {},
   "outputs": [
    {
     "data": {
      "text/plain": [
       "5"
      ]
     },
     "execution_count": 190,
     "metadata": {},
     "output_type": "execute_result"
    }
   ],
   "source": [
    "a[0]"
   ]
  },
  {
   "cell_type": "code",
   "execution_count": 191,
   "id": "7201bea3-f9b9-4724-a2cf-6b4412f23518",
   "metadata": {},
   "outputs": [
    {
     "ename": "TypeError",
     "evalue": "'tuple' object does not support item assignment",
     "output_type": "error",
     "traceback": [
      "\u001b[1;31m---------------------------------------------------------------------------\u001b[0m",
      "\u001b[1;31mTypeError\u001b[0m                                 Traceback (most recent call last)",
      "Input \u001b[1;32mIn [191]\u001b[0m, in \u001b[0;36m<cell line: 1>\u001b[1;34m()\u001b[0m\n\u001b[1;32m----> 1\u001b[0m \u001b[43ma\u001b[49m\u001b[43m[\u001b[49m\u001b[38;5;241;43m0\u001b[39;49m\u001b[43m]\u001b[49m\u001b[38;5;241m=\u001b[39m\u001b[38;5;241m55\u001b[39m\n",
      "\u001b[1;31mTypeError\u001b[0m: 'tuple' object does not support item assignment"
     ]
    }
   ],
   "source": [
    "a[0]=55"
   ]
  },
  {
   "cell_type": "code",
   "execution_count": 192,
   "id": "a9d0702c-0521-4c2e-85d5-9818eda9ddd5",
   "metadata": {},
   "outputs": [],
   "source": [
    "num=(10,12)"
   ]
  },
  {
   "cell_type": "code",
   "execution_count": 197,
   "id": "f39aa4a2-4ae6-44ba-a020-e5c12a31a69c",
   "metadata": {},
   "outputs": [
    {
     "name": "stdout",
     "output_type": "stream",
     "text": [
      "WezarezstudyingzPython\n",
      "12\n"
     ]
    }
   ],
   "source": [
    "a, b#(언패킹)=num#(튜플)\n",
    "print(a)\n",
    "print(b)"
   ]
  },
  {
   "cell_type": "markdown",
   "id": "0b14b86e-5ea9-4ee4-973e-38abc36e4d77",
   "metadata": {},
   "source": [
    "### 딕셔너리(dictionary)\n",
    "- 만들기: { : } 사전찾기 대응 \n",
    "- 만들기 {KEY : VALUE}"
   ]
  },
  {
   "cell_type": "code",
   "execution_count": 200,
   "id": "4bed2284-3d2d-402e-bf5c-8d7ec1c6e203",
   "metadata": {},
   "outputs": [],
   "source": [
    "a={\"apple\":\"사과\", \"banana\":\"바나나\",\"cherry\":\"체리\"}"
   ]
  },
  {
   "cell_type": "code",
   "execution_count": 201,
   "id": "b44acba3-6837-4748-a72e-a0eca62c7864",
   "metadata": {},
   "outputs": [
    {
     "data": {
      "text/plain": [
       "dict"
      ]
     },
     "execution_count": 201,
     "metadata": {},
     "output_type": "execute_result"
    }
   ],
   "source": [
    "type(a) "
   ]
  },
  {
   "cell_type": "markdown",
   "id": "24ea436f-8121-415b-9571-40a682436e6b",
   "metadata": {},
   "source": [
    "- 접근, 검색"
   ]
  },
  {
   "cell_type": "code",
   "execution_count": 203,
   "id": "89ac7dd8-5a8b-4957-9251-73b7cf88d8de",
   "metadata": {},
   "outputs": [
    {
     "data": {
      "text/plain": [
       "'사과'"
      ]
     },
     "execution_count": 203,
     "metadata": {},
     "output_type": "execute_result"
    }
   ],
   "source": [
    "a['apple']"
   ]
  },
  {
   "cell_type": "code",
   "execution_count": 204,
   "id": "cf6efdfc-1533-491d-ba3f-aa2a960ca939",
   "metadata": {},
   "outputs": [
    {
     "ename": "KeyError",
     "evalue": "0",
     "output_type": "error",
     "traceback": [
      "\u001b[1;31m---------------------------------------------------------------------------\u001b[0m",
      "\u001b[1;31mKeyError\u001b[0m                                  Traceback (most recent call last)",
      "Input \u001b[1;32mIn [204]\u001b[0m, in \u001b[0;36m<cell line: 1>\u001b[1;34m()\u001b[0m\n\u001b[1;32m----> 1\u001b[0m \u001b[43ma\u001b[49m\u001b[43m[\u001b[49m\u001b[38;5;241;43m0\u001b[39;49m\u001b[43m]\u001b[49m\n",
      "\u001b[1;31mKeyError\u001b[0m: 0"
     ]
    }
   ],
   "source": [
    "a[0] # 인덱스인 숫자는 없음 "
   ]
  },
  {
   "cell_type": "code",
   "execution_count": 206,
   "id": "05e93354-5bbb-401d-8dd0-4142f117d069",
   "metadata": {},
   "outputs": [
    {
     "ename": "KeyError",
     "evalue": "'사과'",
     "output_type": "error",
     "traceback": [
      "\u001b[1;31m---------------------------------------------------------------------------\u001b[0m",
      "\u001b[1;31mKeyError\u001b[0m                                  Traceback (most recent call last)",
      "Input \u001b[1;32mIn [206]\u001b[0m, in \u001b[0;36m<cell line: 1>\u001b[1;34m()\u001b[0m\n\u001b[1;32m----> 1\u001b[0m \u001b[43ma\u001b[49m\u001b[43m[\u001b[49m\u001b[38;5;124;43m'\u001b[39;49m\u001b[38;5;124;43m사과\u001b[39;49m\u001b[38;5;124;43m'\u001b[39;49m\u001b[43m]\u001b[49m\n",
      "\u001b[1;31mKeyError\u001b[0m: '사과'"
     ]
    }
   ],
   "source": [
    "a['사과'] #반대는 안됨"
   ]
  },
  {
   "cell_type": "code",
   "execution_count": 208,
   "id": "33a08812-6bf2-4497-b882-4bb9e467dea6",
   "metadata": {},
   "outputs": [
    {
     "data": {
      "text/plain": [
       "dict_keys(['apple', 'banana', 'cherry'])"
      ]
     },
     "execution_count": 208,
     "metadata": {},
     "output_type": "execute_result"
    }
   ],
   "source": [
    "a.keys() "
   ]
  },
  {
   "cell_type": "code",
   "execution_count": 209,
   "id": "2ab93e78-834e-48e2-97f4-fb49a3e0881c",
   "metadata": {},
   "outputs": [
    {
     "data": {
      "text/plain": [
       "dict_values(['사과', '바나나', '체리'])"
      ]
     },
     "execution_count": 209,
     "metadata": {},
     "output_type": "execute_result"
    }
   ],
   "source": [
    "a.values()"
   ]
  },
  {
   "cell_type": "code",
   "execution_count": 210,
   "id": "e3f74798-a9b6-4ded-b3f2-d79296e0c97c",
   "metadata": {},
   "outputs": [
    {
     "data": {
      "text/plain": [
       "dict_items([('apple', '사과'), ('banana', '바나나'), ('cherry', '체리')])"
      ]
     },
     "execution_count": 210,
     "metadata": {},
     "output_type": "execute_result"
    }
   ],
   "source": [
    "a.items() # 대괄호 안에 튜플"
   ]
  },
  {
   "cell_type": "code",
   "execution_count": 211,
   "id": "b12f81f9-deb9-4ed7-b2a1-fd01320469f3",
   "metadata": {},
   "outputs": [
    {
     "name": "stdout",
     "output_type": "stream",
     "text": [
      "('apple', '사과')\n",
      "('banana', '바나나')\n",
      "('cherry', '체리')\n"
     ]
    }
   ],
   "source": [
    "for i in a.items():\n",
    "    print(i)"
   ]
  },
  {
   "cell_type": "code",
   "execution_count": 212,
   "id": "c17c9410-99bf-44c1-9e0b-90c8c02d8e0b",
   "metadata": {},
   "outputs": [
    {
     "name": "stdout",
     "output_type": "stream",
     "text": [
      "apple 사과\n",
      "banana 바나나\n",
      "cherry 체리\n"
     ]
    }
   ],
   "source": [
    "for i, j in a.items(): # 사실은 (i, j)임 \n",
    "    print(i, j)"
   ]
  },
  {
   "cell_type": "code",
   "execution_count": 213,
   "id": "8ebb11bc-5812-4609-819b-28b8e24dea21",
   "metadata": {},
   "outputs": [
    {
     "ename": "SyntaxError",
     "evalue": "':' expected after dictionary key (360934038.py, line 1)",
     "output_type": "error",
     "traceback": [
      "\u001b[1;36m  Input \u001b[1;32mIn [213]\u001b[1;36m\u001b[0m\n\u001b[1;33m    a={\"apple\":\"사과\", \"능금\", \"백설공주\", \"banana\":\"바나나\",\"cherry\":\"체리\"}\u001b[0m\n\u001b[1;37m                        ^\u001b[0m\n\u001b[1;31mSyntaxError\u001b[0m\u001b[1;31m:\u001b[0m ':' expected after dictionary key\n"
     ]
    }
   ],
   "source": [
    "a={\"apple\":\"사과\", \"능금\", \"백설공주\", \"banana\":\"바나나\",\"cherry\":\"체리\"}"
   ]
  },
  {
   "cell_type": "code",
   "execution_count": 215,
   "id": "b605e228-088b-43cb-a1f3-b69b327859a3",
   "metadata": {},
   "outputs": [],
   "source": [
    "a={\"apple\":[\"사과\", \"능금\", \"백설공주\"], \"banana\":\"바나나\",\"cherry\":\"체리\"}"
   ]
  },
  {
   "cell_type": "code",
   "execution_count": 217,
   "id": "8f43a099-e951-44f8-b653-c36c4c413a37",
   "metadata": {},
   "outputs": [
    {
     "data": {
      "text/plain": [
       "{'apple': ['사과', '능금', '백설공주'], 'banana': '바나나', 'cherry': '체리'}"
      ]
     },
     "execution_count": 217,
     "metadata": {},
     "output_type": "execute_result"
    }
   ],
   "source": [
    "a"
   ]
  },
  {
   "cell_type": "markdown",
   "id": "4442083e-20d7-4304-b065-9dca61d3b5db",
   "metadata": {},
   "source": [
    "- 수정"
   ]
  },
  {
   "cell_type": "code",
   "execution_count": 220,
   "id": "5e555374-ec47-4aae-94f3-8d3933d2e16f",
   "metadata": {},
   "outputs": [],
   "source": [
    "a['banana'] ='빠나나'"
   ]
  },
  {
   "cell_type": "code",
   "execution_count": 221,
   "id": "507df1cc-64c3-441f-be8b-9a1d789faffe",
   "metadata": {},
   "outputs": [
    {
     "data": {
      "text/plain": [
       "{'apple': ['사과', '능금', '백설공주'], 'banana': '빠나나', 'cherry': '체리'}"
      ]
     },
     "execution_count": 221,
     "metadata": {},
     "output_type": "execute_result"
    }
   ],
   "source": [
    "a"
   ]
  },
  {
   "cell_type": "markdown",
   "id": "0b1009fa-e698-4553-9abd-c61ea7b29917",
   "metadata": {},
   "source": [
    "- 추가"
   ]
  },
  {
   "cell_type": "code",
   "execution_count": 222,
   "id": "548fc7d9-0651-4ecb-9bcd-7e8471fe4c6a",
   "metadata": {},
   "outputs": [],
   "source": [
    "a[\"durian\"]=\"두리안\""
   ]
  },
  {
   "cell_type": "code",
   "execution_count": 224,
   "id": "0aedea78-a7ec-4be5-bce0-d4cb96d29a9c",
   "metadata": {},
   "outputs": [
    {
     "data": {
      "text/plain": [
       "{'apple': ['사과', '능금', '백설공주'],\n",
       " 'banana': '빠나나',\n",
       " 'cherry': '체리',\n",
       " 'durian': '두리안'}"
      ]
     },
     "execution_count": 224,
     "metadata": {},
     "output_type": "execute_result"
    }
   ],
   "source": [
    "a"
   ]
  },
  {
   "cell_type": "code",
   "execution_count": 230,
   "id": "1ba352ca-7fec-4fd4-b26e-fd031daa909a",
   "metadata": {},
   "outputs": [
    {
     "name": "stdin",
     "output_type": "stream",
     "text": [
      "이름을 입력하세요:  철수\n"
     ]
    },
    {
     "name": "stdout",
     "output_type": "stream",
     "text": [
      "합격\n"
     ]
    }
   ],
   "source": [
    "명단={\"철수\":\"합격\", \"영희\":\"합격\"}\n",
    "name=input(\"이름을 입력하세요: \")\n",
    "print(명단[name])"
   ]
  },
  {
   "cell_type": "code",
   "execution_count": 231,
   "id": "27b45fe1-6860-4589-9b46-0dd3d2224bfe",
   "metadata": {},
   "outputs": [
    {
     "name": "stdin",
     "output_type": "stream",
     "text": [
      "이름을 입력하세요:  철수\n"
     ]
    },
    {
     "name": "stdout",
     "output_type": "stream",
     "text": [
      "합격입니다\n"
     ]
    }
   ],
   "source": [
    "명단={\"철수\":\"합격\", \"영희\":\"합격\"}\n",
    "name=input(\"이름을 입력하세요: \")\n",
    "print(f\"{명단[name]}입니다\")"
   ]
  },
  {
   "cell_type": "markdown",
   "id": "eb2277f6-a48f-48c0-b584-e35a3c6e3fac",
   "metadata": {},
   "source": [
    "\n",
    "int()\n",
    "float()\n",
    "str()\n",
    "bool()\n",
    "\n",
    "list()   []\n",
    "tuple()  ()\n",
    "dict()   {:}\n",
    "set()    {}\n",
    "\n"
   ]
  },
  {
   "cell_type": "code",
   "execution_count": 232,
   "id": "62e4874a-360f-4ad5-a13e-67cc95d1f7f0",
   "metadata": {},
   "outputs": [],
   "source": [
    "# 변수는 수가 아님 변수는 장독대 안에 여러개가 들어감"
   ]
  },
  {
   "cell_type": "code",
   "execution_count": 233,
   "id": "fabbd1cd-d926-4411-913f-916f33bd758f",
   "metadata": {},
   "outputs": [],
   "source": [
    "a=1 # 등호가 아니라 시차가 있음 오른쪽먼저만들고 왼쪽들어감\n",
    "b=2\n",
    "c=a+b\n",
    "a=a+1"
   ]
  },
  {
   "cell_type": "code",
   "execution_count": 3,
   "id": "4595e133-97ba-4968-a999-b5d79e946d73",
   "metadata": {},
   "outputs": [],
   "source": [
    "a= [1,2,3]\n",
    "b=a"
   ]
  },
  {
   "cell_type": "code",
   "execution_count": 9,
   "id": "b230e080-44ed-4504-a9a4-c4513994f884",
   "metadata": {},
   "outputs": [
    {
     "data": {
      "text/plain": [
       "2315543354304"
      ]
     },
     "execution_count": 9,
     "metadata": {},
     "output_type": "execute_result"
    }
   ],
   "source": [
    "b=a\n",
    "b[2]=50\n",
    "id(a)"
   ]
  },
  {
   "cell_type": "code",
   "execution_count": null,
   "id": "2793fa04-1aae-4855-8f67-399fc6a12a6e",
   "metadata": {},
   "outputs": [],
   "source": []
  },
  {
   "cell_type": "code",
   "execution_count": 235,
   "id": "740432c2-be6f-4311-89c5-baa898dc016e",
   "metadata": {},
   "outputs": [
    {
     "data": {
      "text/plain": [
       "2007461731136"
      ]
     },
     "execution_count": 235,
     "metadata": {},
     "output_type": "execute_result"
    }
   ],
   "source": [
    "id(a) # 노트에 가서 방번호 물음 "
   ]
  },
  {
   "cell_type": "code",
   "execution_count": 236,
   "id": "be495bd8-227f-4f3a-92bc-ec6d7ef7492f",
   "metadata": {},
   "outputs": [],
   "source": [
    "b = a # 바로가기느낌이라 b수정되면 a도 수정"
   ]
  },
  {
   "cell_type": "code",
   "execution_count": 237,
   "id": "5a89f6e0-4594-4f77-b368-2ae8ceadd39e",
   "metadata": {},
   "outputs": [
    {
     "data": {
      "text/plain": [
       "[1, 2, 3]"
      ]
     },
     "execution_count": 237,
     "metadata": {},
     "output_type": "execute_result"
    }
   ],
   "source": [
    "b"
   ]
  },
  {
   "cell_type": "code",
   "execution_count": 250,
   "id": "3be575e0-0224-4450-a170-ab4164ca00ed",
   "metadata": {},
   "outputs": [],
   "source": [
    "c=a.copy() # 완전히 새로 복사라 수정되도 괜춘"
   ]
  },
  {
   "cell_type": "code",
   "execution_count": 240,
   "id": "9b303c1b-d968-4b85-9383-031ba095a8b1",
   "metadata": {},
   "outputs": [
    {
     "data": {
      "text/plain": [
       "[1, 2, 3]"
      ]
     },
     "execution_count": 240,
     "metadata": {},
     "output_type": "execute_result"
    }
   ],
   "source": [
    "c"
   ]
  },
  {
   "cell_type": "code",
   "execution_count": 241,
   "id": "9b7d8074-8108-436d-b91f-9d58168acc54",
   "metadata": {},
   "outputs": [],
   "source": [
    "c[2]=30"
   ]
  },
  {
   "cell_type": "code",
   "execution_count": 242,
   "id": "f2cbf938-fc5b-4694-a13d-ff6fb3465343",
   "metadata": {},
   "outputs": [
    {
     "data": {
      "text/plain": [
       "[1, 2, 30]"
      ]
     },
     "execution_count": 242,
     "metadata": {},
     "output_type": "execute_result"
    }
   ],
   "source": [
    "c"
   ]
  },
  {
   "cell_type": "code",
   "execution_count": 243,
   "id": "b435669b-9d7d-4f1d-a028-7697f9259fc2",
   "metadata": {},
   "outputs": [
    {
     "data": {
      "text/plain": [
       "[1, 2, 3]"
      ]
     },
     "execution_count": 243,
     "metadata": {},
     "output_type": "execute_result"
    }
   ],
   "source": [
    "a"
   ]
  },
  {
   "cell_type": "code",
   "execution_count": 244,
   "id": "c1e6c855-008c-44a1-8f25-6aed48365e04",
   "metadata": {},
   "outputs": [],
   "source": [
    "b[2]=300"
   ]
  },
  {
   "cell_type": "code",
   "execution_count": 245,
   "id": "28b17da1-aeec-4083-a5d6-aa0d72024244",
   "metadata": {},
   "outputs": [
    {
     "data": {
      "text/plain": [
       "[1, 2, 300]"
      ]
     },
     "execution_count": 245,
     "metadata": {},
     "output_type": "execute_result"
    }
   ],
   "source": [
    "b"
   ]
  },
  {
   "cell_type": "code",
   "execution_count": 246,
   "id": "d5bcd8b5-a288-4293-9bf5-45e866c6fcb0",
   "metadata": {},
   "outputs": [
    {
     "data": {
      "text/plain": [
       "[1, 2, 300]"
      ]
     },
     "execution_count": 246,
     "metadata": {},
     "output_type": "execute_result"
    }
   ],
   "source": [
    "a #"
   ]
  },
  {
   "cell_type": "code",
   "execution_count": 247,
   "id": "91db2292-889b-4214-a8df-32d4a703b20d",
   "metadata": {},
   "outputs": [
    {
     "data": {
      "text/plain": [
       "2007461731136"
      ]
     },
     "execution_count": 247,
     "metadata": {},
     "output_type": "execute_result"
    }
   ],
   "source": [
    "id(a)"
   ]
  },
  {
   "cell_type": "code",
   "execution_count": 248,
   "id": "d18a6fca-6cb8-49b0-99a8-218304e129ea",
   "metadata": {},
   "outputs": [
    {
     "data": {
      "text/plain": [
       "2007461731136"
      ]
     },
     "execution_count": 248,
     "metadata": {},
     "output_type": "execute_result"
    }
   ],
   "source": [
    "id(b)"
   ]
  },
  {
   "cell_type": "code",
   "execution_count": 249,
   "id": "3f768c2c-c128-445b-90bc-aa84355c9caf",
   "metadata": {},
   "outputs": [
    {
     "data": {
      "text/plain": [
       "2007457897792"
      ]
     },
     "execution_count": 249,
     "metadata": {},
     "output_type": "execute_result"
    }
   ],
   "source": [
    "id(c)"
   ]
  },
  {
   "cell_type": "code",
   "execution_count": 251,
   "id": "f89f15e1-1047-4e20-87a8-08d912c6adce",
   "metadata": {},
   "outputs": [],
   "source": [
    "a, b= ('python', 'life')\n",
    "(a,b)='python', 'life'\n",
    "\n",
    "a=b='python'"
   ]
  },
  {
   "cell_type": "code",
   "execution_count": 252,
   "id": "cecec261-ed04-4770-8499-83f8ec7ab396",
   "metadata": {},
   "outputs": [
    {
     "data": {
      "text/plain": [
       "'python'"
      ]
     },
     "execution_count": 252,
     "metadata": {},
     "output_type": "execute_result"
    }
   ],
   "source": [
    "a # 2장연습문제 "
   ]
  },
  {
   "cell_type": "markdown",
   "id": "bd77e5e9-cc55-4561-a39b-82191fb3bf37",
   "metadata": {},
   "source": [
    "# 조건문 if"
   ]
  },
  {
   "cell_type": "markdown",
   "id": "2a3969b0-c93e-47c3-bc8f-e2badda247f8",
   "metadata": {},
   "source": [
    "if 문의 구조\n",
    "```\n",
    "if 참거짓:\n",
    "    참일 때 실행 될 문장 \n",
    "elif:\n",
    "    참일 때 실행 될 문장 \n",
    "elif:\n",
    "    참일 때 실행 될 문장 \n",
    "else:\n",
    "    나머지 모두 실행\n",
    "```"
   ]
  },
  {
   "cell_type": "code",
   "execution_count": 255,
   "id": "a16606fa-0fb1-403e-8bb8-2e3376e6bdb2",
   "metadata": {},
   "outputs": [
    {
     "name": "stdout",
     "output_type": "stream",
     "text": [
      "Yes\n"
     ]
    }
   ],
   "source": [
    "if 1<2:\n",
    "    print(\"Yes\")"
   ]
  },
  {
   "cell_type": "code",
   "execution_count": 257,
   "id": "da2b2efe-c3c5-4b9c-9d82-59c48b96eaf9",
   "metadata": {},
   "outputs": [
    {
     "name": "stdout",
     "output_type": "stream",
     "text": [
      "No\n"
     ]
    }
   ],
   "source": [
    "if 3<2:\n",
    "    print(\"Yes\")\n",
    "else:\n",
    "    print(\"No\")"
   ]
  },
  {
   "cell_type": "code",
   "execution_count": 258,
   "id": "9aa456d9-3247-40f4-8740-84b6dc39655b",
   "metadata": {},
   "outputs": [
    {
     "ename": "SyntaxError",
     "evalue": "invalid syntax (3184136314.py, line 3)",
     "output_type": "error",
     "traceback": [
      "\u001b[1;36m  Input \u001b[1;32mIn [258]\u001b[1;36m\u001b[0m\n\u001b[1;33m    elif:             #else if 줄여서\u001b[0m\n\u001b[1;37m        ^\u001b[0m\n\u001b[1;31mSyntaxError\u001b[0m\u001b[1;31m:\u001b[0m invalid syntax\n"
     ]
    }
   ],
   "source": [
    "if 1<2:\n",
    "    print(\"Yes\")\n",
    "elif:             #else if 줄여서 \n",
    "elif:\n",
    "else:    "
   ]
  },
  {
   "cell_type": "markdown",
   "id": "6cb5dfcf-b240-4381-9758-c2290a7da92e",
   "metadata": {},
   "source": [
    "### temp=input()\n",
    "#25보다 크면 \"여름\"\n",
    "#15....크면 \"가을\"\n",
    "#5도보다 크면 \"봄\"\n",
    "#그이하 \"겨울\"\n",
    "\n",
    "temp = int(input())\n",
    "if temp > 25:\n",
    "    print(\"여름\")\n",
    "elif temp > 15:\n",
    "    print(\"가을\")    \n",
    "elif temp > 5:\n",
    "    print(\"봄\")     \n",
    "else :\n",
    "    print(\"겨울\")"
   ]
  },
  {
   "cell_type": "code",
   "execution_count": 260,
   "id": "652150e4-33d7-431b-9926-cd741f198736",
   "metadata": {},
   "outputs": [
    {
     "name": "stdin",
     "output_type": "stream",
     "text": [
      " 1\n"
     ]
    },
    {
     "name": "stdout",
     "output_type": "stream",
     "text": [
      "겨울\n"
     ]
    }
   ],
   "source": [
    "temp = int(input())\n",
    "\n",
    "if temp > 25 : \n",
    "  print('여름')\n",
    "elif temp > 15 :\n",
    "  print('가을')\n",
    "elif temp > 5 :\n",
    "  print('봄')\n",
    "else : \n",
    "  print('겨울') "
   ]
  },
  {
   "cell_type": "code",
   "execution_count": null,
   "id": "27c765cf-b7c0-45e4-baad-8b8cd5f0c01a",
   "metadata": {},
   "outputs": [],
   "source": [
    "temp = input()\n",
    "\n",
    "if int(temp) > 25:\n",
    "    print(\"여름\")\n",
    "elif int(temp) > 15:\n",
    "    print(\"가을\")\n",
    "elif int(temp) > 5:\n",
    "    print(\"봄\")\n",
    "else:\n",
    "    print(\"겨울\") "
   ]
  },
  {
   "cell_type": "code",
   "execution_count": 262,
   "id": "8b08e010-9a96-49ee-a52b-4d413a3d29c5",
   "metadata": {},
   "outputs": [
    {
     "name": "stdin",
     "output_type": "stream",
     "text": [
      " 17\n"
     ]
    },
    {
     "name": "stdout",
     "output_type": "stream",
     "text": [
      "가을\n",
      "봄\n"
     ]
    }
   ],
   "source": [
    "temp = int(input())\n",
    "\n",
    "if temp > 25 : \n",
    "  print('여름')\n",
    "if temp > 15 :\n",
    "  print('가을')\n",
    "if temp > 5 :\n",
    "  print('봄')\n",
    "else : \n",
    "  print('겨울') # 둘다 맞으니 둘다 실행 else는 아님"
   ]
  },
  {
   "cell_type": "code",
   "execution_count": 264,
   "id": "797c4d10-bd81-4933-9b92-34aea38a22a0",
   "metadata": {},
   "outputs": [
    {
     "name": "stdin",
     "output_type": "stream",
     "text": [
      " 1\n"
     ]
    },
    {
     "name": "stdout",
     "output_type": "stream",
     "text": [
      "홀수 입니다\n"
     ]
    }
   ],
   "source": [
    "number= int(input())\n",
    "\n",
    "if number%2 ==0:\n",
    "    print(\"짝수입니다.\")\n",
    "else:\n",
    "    print(\"홀수 입니다\") \n"
   ]
  },
  {
   "cell_type": "code",
   "execution_count": 266,
   "id": "de708065-c6c7-4949-93d6-4ece3bce4220",
   "metadata": {},
   "outputs": [
    {
     "name": "stdin",
     "output_type": "stream",
     "text": [
      "number =  2\n"
     ]
    },
    {
     "name": "stdout",
     "output_type": "stream",
     "text": [
      "짝수입니다\n"
     ]
    }
   ],
   "source": [
    "if int(input('number = ')) % 2 == 0:\n",
    "    print('짝수입니다')\n",
    "else:\n",
    "    print('홀수입니다') "
   ]
  },
  {
   "cell_type": "code",
   "execution_count": 270,
   "id": "a08e59f6-a905-499b-af79-85a0f4ce97f0",
   "metadata": {},
   "outputs": [
    {
     "name": "stdout",
     "output_type": "stream",
     "text": [
      "택시를 타자\n"
     ]
    }
   ],
   "source": [
    "#A in B #A가 B안에\n",
    "if 'bill' in['coin', 'bill', 'card']:\n",
    "    print(\"택시를 타자\")\n",
    "else:\n",
    "    print(\"걸어가자\")"
   ]
  },
  {
   "cell_type": "code",
   "execution_count": 1,
   "id": "c1ba84f7-ce21-412d-a1d0-8c646d8b64b6",
   "metadata": {},
   "outputs": [
    {
     "name": "stdout",
     "output_type": "stream",
     "text": [
      "구매한다\n"
     ]
    }
   ],
   "source": [
    "시장 = ['사과', '바나나', '배']\n",
    "\n",
    "if '바나나' in 시장:\n",
    "    print(\"구매한다\")\n",
    "else:\n",
    "    print(\"구매 안한다\")"
   ]
  },
  {
   "cell_type": "code",
   "execution_count": 269,
   "id": "509d3227-996a-413d-aadd-1ba136a307e9",
   "metadata": {},
   "outputs": [
    {
     "name": "stdin",
     "output_type": "stream",
     "text": [
      "이름을 입력해주세요 ㅇ\n"
     ]
    },
    {
     "name": "stdout",
     "output_type": "stream",
     "text": [
      "불합격입니다\n"
     ]
    }
   ],
   "source": [
    "names=['영희', '전우치', '홍길동', '장길산']\n",
    "name=input(\"이름을 입력해주세요\")\n",
    "\n",
    "if name in names:\n",
    "    print('합격입니다')\n",
    "else:\n",
    "    print('불합격입니다')"
   ]
  },
  {
   "cell_type": "markdown",
   "id": "36d10c7d-c22a-4406-8113-dd2aa790fb86",
   "metadata": {},
   "source": [
    "# 반복문 for\n",
    "- for 문의 구조\n",
    "- for i in....:\n",
    "- 반복할 문장 \n",
    "- for i in[1,2,3]: "
   ]
  },
  {
   "cell_type": "code",
   "execution_count": 271,
   "id": "0cb4c3de-1124-41c1-8a37-8b383eff3bf3",
   "metadata": {},
   "outputs": [
    {
     "ename": "IndentationError",
     "evalue": "unexpected indent (4248869718.py, line 2)",
     "output_type": "error",
     "traceback": [
      "\u001b[1;36m  Input \u001b[1;32mIn [271]\u001b[1;36m\u001b[0m\n\u001b[1;33m    print(i) # i가 1인상태에서 1개씩 다 시행 밑으로\u001b[0m\n\u001b[1;37m    ^\u001b[0m\n\u001b[1;31mIndentationError\u001b[0m\u001b[1;31m:\u001b[0m unexpected indent\n"
     ]
    }
   ],
   "source": [
    "#for i in[1,2,3]: #in뒤에는 리스트\n",
    "    print(i) # i가 1인상태에서 1개씩 다 시행 밑으로 \n",
    "    # 다하면 올라가서 2 다 밑까지 마지막 까지 다가면 ..벗어나서\n",
    "    # 마지막 포문을 실행시킴\n",
    "    ...\n",
    "    ...\n",
    "    ...\n",
    "    ..."
   ]
  },
  {
   "cell_type": "code",
   "execution_count": 272,
   "id": "1bb7b6c2-157c-4527-9cf6-aa8fb3df1dd0",
   "metadata": {},
   "outputs": [
    {
     "name": "stdout",
     "output_type": "stream",
     "text": [
      "1\n",
      "Hello\n",
      "\n",
      "2\n",
      "Hello\n",
      "\n",
      "3\n",
      "Hello\n",
      "\n"
     ]
    }
   ],
   "source": [
    "for i in [1,2,3]:\n",
    "    print(i)\n",
    "    print(\"Hello\")\n",
    "    print()\n"
   ]
  },
  {
   "cell_type": "code",
   "execution_count": 273,
   "id": "8d415563-b6fa-41e0-865a-bb807ea55a31",
   "metadata": {},
   "outputs": [
    {
     "name": "stdout",
     "output_type": "stream",
     "text": [
      "\n",
      "Hello\n",
      "\n",
      "\n",
      "Hello\n",
      "\n",
      "\n",
      "Hello\n",
      "\n"
     ]
    }
   ],
   "source": [
    "for i in [1,2,3]:\n",
    "    print()\n",
    "    print(\"Hello\")\n",
    "    print()\n"
   ]
  },
  {
   "cell_type": "code",
   "execution_count": 274,
   "id": "ed34a494-b3e3-4bc2-8e2b-f80a0926962e",
   "metadata": {},
   "outputs": [
    {
     "name": "stdout",
     "output_type": "stream",
     "text": [
      "\n",
      "Hello\n",
      "\n",
      "\n",
      "Hello\n",
      "\n",
      "\n",
      "Hello\n",
      "\n"
     ]
    }
   ],
   "source": [
    "for _ in [1,2,3]:\n",
    "    print()\n",
    "    print(\"Hello\")\n",
    "    print()"
   ]
  },
  {
   "cell_type": "code",
   "execution_count": 277,
   "id": "2487625c-1e37-4828-9496-b319d932e8a0",
   "metadata": {},
   "outputs": [
    {
     "name": "stdout",
     "output_type": "stream",
     "text": [
      "1\n",
      "2\n",
      "3\n",
      "4\n",
      "5\n",
      "6\n",
      "7\n",
      "8\n",
      "9\n",
      "10\n"
     ]
    }
   ],
   "source": [
    "for i in [1,2,3,4,5,6,7,8,9,10]:\n",
    "    print(i)"
   ]
  },
  {
   "cell_type": "code",
   "execution_count": 282,
   "id": "2dbd20fb-b99c-4ed9-8fc2-ca0f06e42f60",
   "metadata": {},
   "outputs": [
    {
     "name": "stdout",
     "output_type": "stream",
     "text": [
      "0\n",
      "1\n",
      "2\n",
      "3\n",
      "4\n",
      "5\n",
      "6\n",
      "7\n",
      "8\n",
      "9\n"
     ]
    }
   ],
   "source": [
    "for _ in range(10):\n",
    "    print(_)"
   ]
  },
  {
   "cell_type": "code",
   "execution_count": 299,
   "id": "e1318e8d-3481-4da4-aa8f-185acc528aae",
   "metadata": {},
   "outputs": [
    {
     "name": "stdout",
     "output_type": "stream",
     "text": [
      "2\n",
      "3\n",
      "4\n",
      "5\n",
      "6\n",
      "7\n",
      "8\n",
      "9\n"
     ]
    }
   ],
   "source": [
    "for i in range(2,10):\n",
    "    print(i)"
   ]
  },
  {
   "cell_type": "code",
   "execution_count": 285,
   "id": "0acd4746-13da-4bce-bc0f-e6f03aa43e7e",
   "metadata": {},
   "outputs": [
    {
     "name": "stdout",
     "output_type": "stream",
     "text": [
      "1\n",
      "4\n",
      "7\n",
      "10\n"
     ]
    }
   ],
   "source": [
    "for i in range(1,11,3):\n",
    "    print(i)"
   ]
  },
  {
   "cell_type": "code",
   "execution_count": 286,
   "id": "81dc0a71-3ba8-48f8-9243-18dd207c59e9",
   "metadata": {},
   "outputs": [
    {
     "name": "stdout",
     "output_type": "stream",
     "text": [
      "0\n",
      "3\n",
      "6\n",
      "9\n"
     ]
    }
   ],
   "source": [
    "for i in range(0,11,3):\n",
    "    print(i)"
   ]
  },
  {
   "cell_type": "code",
   "execution_count": 287,
   "id": "5b084f74-3e4e-4405-a077-377cce9e9046",
   "metadata": {},
   "outputs": [
    {
     "name": "stdout",
     "output_type": "stream",
     "text": [
      "0\n",
      "2\n",
      "4\n",
      "6\n",
      "8\n",
      "10\n"
     ]
    }
   ],
   "source": [
    "for i in range(0,11,2): # 0에서 2칸뛰면 2\n",
    "    print(i)"
   ]
  },
  {
   "cell_type": "code",
   "execution_count": 290,
   "id": "90a1afe0-73be-46ca-b4db-edeacdba57e8",
   "metadata": {},
   "outputs": [
    {
     "name": "stdout",
     "output_type": "stream",
     "text": [
      "0,  1,  2,  3,  4,  5,  6,  7,  8,  9,  "
     ]
    }
   ],
   "source": [
    "for i in range(10):\n",
    "    print(i, end = \",  \")"
   ]
  },
  {
   "cell_type": "code",
   "execution_count": 291,
   "id": "78fce72f-8800-4be1-8d90-65be58608e24",
   "metadata": {},
   "outputs": [
    {
     "name": "stdout",
     "output_type": "stream",
     "text": [
      "2\n",
      "4\n",
      "6\n",
      "8\n",
      "10\n"
     ]
    }
   ],
   "source": [
    "# 2부터 10까지 짝수만 출력\n",
    "for i in range(2, 11, 2):\n",
    "    print(i)"
   ]
  },
  {
   "cell_type": "code",
   "execution_count": 292,
   "id": "fd3ef077-afb8-45c9-93ce-b7b31129a624",
   "metadata": {},
   "outputs": [
    {
     "name": "stdout",
     "output_type": "stream",
     "text": [
      "2\n",
      "4\n",
      "6\n",
      "8\n",
      "10\n"
     ]
    }
   ],
   "source": [
    "for i in range(1, 11):\n",
    "    if i%2 ==0:\n",
    "        print(i)"
   ]
  },
  {
   "cell_type": "code",
   "execution_count": 293,
   "id": "38ae0ea6-868b-4655-9c6e-6d04428fc5d6",
   "metadata": {},
   "outputs": [
    {
     "data": {
      "text/plain": [
       "['영희', '전우치', '홍길동', '장길산']"
      ]
     },
     "execution_count": 293,
     "metadata": {},
     "output_type": "execute_result"
    }
   ],
   "source": [
    "names"
   ]
  },
  {
   "cell_type": "code",
   "execution_count": 295,
   "id": "7232ca2b-b8f2-4499-82b0-966886a3b7b0",
   "metadata": {},
   "outputs": [
    {
     "name": "stdout",
     "output_type": "stream",
     "text": [
      "영희\n",
      "전우치\n",
      "홍길동\n",
      "장길산\n"
     ]
    }
   ],
   "source": [
    "for name in names:\n",
    "    print(name)"
   ]
  },
  {
   "cell_type": "code",
   "execution_count": 300,
   "id": "afe1d58a-c94b-4786-9b46-48986153bd71",
   "metadata": {},
   "outputs": [
    {
     "name": "stdout",
     "output_type": "stream",
     "text": [
      "영희\n",
      "전우치\n",
      "홍길동\n",
      "장길산\n"
     ]
    }
   ],
   "source": [
    "for i in range(4): # in안에있는 것중에 i를 출력\n",
    "    print(names[i]) # names0 names1 names2 names3 \n"
   ]
  },
  {
   "cell_type": "markdown",
   "id": "9eed2255-97da-4acc-a75e-89183c5b1da3",
   "metadata": {},
   "source": [
    "- 총합구하기"
   ]
  },
  {
   "cell_type": "code",
   "execution_count": 301,
   "id": "f617e32d-b292-46b0-9200-2b1cf01f1984",
   "metadata": {},
   "outputs": [
    {
     "ename": "IndentationError",
     "evalue": "expected an indented block after 'for' statement on line 1 (2772159468.py, line 3)",
     "output_type": "error",
     "traceback": [
      "\u001b[1;36m  Input \u001b[1;32mIn [301]\u001b[1;36m\u001b[0m\n\u001b[1;33m    sum =\u001b[0m\n\u001b[1;37m    ^\u001b[0m\n\u001b[1;31mIndentationError\u001b[0m\u001b[1;31m:\u001b[0m expected an indented block after 'for' statement on line 1\n"
     ]
    }
   ],
   "source": [
    "for i in range(10):\n",
    "    \n",
    "sum =\n",
    "1 = 0+1\n",
    "3 = 1+2\n",
    "6 = 3+3\n",
    "10 =6+4\n",
    "sum = sum +i #시차가 있음 "
   ]
  },
  {
   "cell_type": "code",
   "execution_count": 303,
   "id": "d79298b5-ea3f-4078-93a7-d8fa88d0e772",
   "metadata": {},
   "outputs": [
    {
     "name": "stdout",
     "output_type": "stream",
     "text": [
      "0\n",
      "1\n",
      "3\n",
      "6\n",
      "10\n",
      "15\n",
      "21\n",
      "28\n",
      "36\n",
      "45\n"
     ]
    }
   ],
   "source": [
    "sum = 0\n",
    "for i in range(10):\n",
    "    sum = sum+i #i만큼씩 \n",
    "    print(sum)\n"
   ]
  },
  {
   "cell_type": "code",
   "execution_count": 1,
   "id": "ea0108f1-472c-4ef1-a259-5f07bdc01c5c",
   "metadata": {},
   "outputs": [
    {
     "name": "stdout",
     "output_type": "stream",
     "text": [
      "45\n"
     ]
    }
   ],
   "source": [
    "sum = 0\n",
    "for i in range(10):\n",
    "    sum = sum+i\n",
    "print(sum) # 결과만 나옴 #0부터 9까지 더한값"
   ]
  },
  {
   "cell_type": "code",
   "execution_count": 305,
   "id": "8b078231-cf26-483b-b748-c85c95a1911a",
   "metadata": {},
   "outputs": [
    {
     "name": "stdout",
     "output_type": "stream",
     "text": [
      "45\n"
     ]
    }
   ],
   "source": [
    "sum = 0\n",
    "for i in range(10):\n",
    "    sum +=i  #i만큼씩, 문법적인 설탕 \n",
    "print(sum)"
   ]
  },
  {
   "cell_type": "code",
   "execution_count": 308,
   "id": "a35e4608-e42d-4a23-9a26-0828796142e3",
   "metadata": {},
   "outputs": [
    {
     "name": "stdout",
     "output_type": "stream",
     "text": [
      "133767\n"
     ]
    }
   ],
   "source": [
    "#234부터 567까지의 합은\n",
    "sum =0\n",
    "for i in range(234, 567+1):\n",
    "    sum +=i  #i만큼씩, 문법적인 설탕 \n",
    "print(sum)"
   ]
  },
  {
   "cell_type": "code",
   "execution_count": 312,
   "id": "01dd0a52-f0de-400d-8e7f-1fe42f5d1497",
   "metadata": {},
   "outputs": [
    {
     "name": "stdin",
     "output_type": "stream",
     "text": [
      " 1\n",
      " 3\n"
     ]
    },
    {
     "name": "stdout",
     "output_type": "stream",
     "text": [
      "6\n"
     ]
    }
   ],
   "source": [
    "#234부터 567까지의 합은\n",
    "#두수를 입력받아서 합은?\n",
    "sum=0\n",
    "for i in range(int(input()), int(input())+1):\n",
    "    sum += i\n",
    "print(sum)"
   ]
  },
  {
   "cell_type": "code",
   "execution_count": 318,
   "id": "6aaa8c59-86a0-4562-bbef-ef2133656967",
   "metadata": {},
   "outputs": [
    {
     "name": "stdout",
     "output_type": "stream",
     "text": [
      "[1, 3, 5, 7, 9, 11, 13, 15, 17, 19]\n"
     ]
    }
   ],
   "source": [
    "a=[]\n",
    "for i in range(21):\n",
    "    if i%2==1:\n",
    "        a.append(i)\n",
    "print(a)"
   ]
  },
  {
   "cell_type": "code",
   "execution_count": 316,
   "id": "c6964e0e-15a9-48a8-b7e7-66d32b8cf7d1",
   "metadata": {},
   "outputs": [
    {
     "data": {
      "text/plain": [
       "[1, 3, 5, 7, 9, 11, 13, 15, 17, 19]"
      ]
     },
     "execution_count": 316,
     "metadata": {},
     "output_type": "execute_result"
    }
   ],
   "source": [
    "a=[]# i가 홀수인 경우에만 a에다가 추가\n",
    "for i in range(21):\n",
    "    if i % 2 == 1: a.append(i)\n",
    "a "
   ]
  },
  {
   "cell_type": "code",
   "execution_count": 321,
   "id": "218594e3-7cc6-4342-b661-a6a47b8ad967",
   "metadata": {},
   "outputs": [
    {
     "name": "stdout",
     "output_type": "stream",
     "text": [
      "2x1 =2\n",
      "2x2 =4\n",
      "2x3 =6\n",
      "2x4 =8\n",
      "2x5 =10\n",
      "2x6 =12\n",
      "2x7 =14\n",
      "2x8 =16\n",
      "2x9 =18\n"
     ]
    }
   ],
   "source": [
    "# 구구단 \n",
    "for i in range(1, 10) : \n",
    "    print(f\"2x{i} ={2*i}\")#f랄 중괄호는 변수처리 1에서 10까지 범위\n",
    "    #x는 단지 표시 실제는 *곱하는것 "
   ]
  },
  {
   "cell_type": "code",
   "execution_count": 328,
   "id": "aa79a3ac-150e-478e-b122-944eaf1427d6",
   "metadata": {},
   "outputs": [
    {
     "name": "stdout",
     "output_type": "stream",
     "text": [
      "2x1 =2\n",
      "2x2 =4\n",
      "2x3 =6\n",
      "2x4 =8\n",
      "2x5 =10\n",
      "2x6 =12\n",
      "2x7 =14\n",
      "2x8 =16\n",
      "2x9 =18\n",
      "3x1 =3\n",
      "3x2 =6\n",
      "3x3 =9\n",
      "3x4 =12\n",
      "3x5 =15\n",
      "3x6 =18\n",
      "3x7 =21\n",
      "3x8 =24\n",
      "3x9 =27\n",
      "4x1 =4\n",
      "4x2 =8\n",
      "4x3 =12\n",
      "4x4 =16\n",
      "4x5 =20\n",
      "4x6 =24\n",
      "4x7 =28\n",
      "4x8 =32\n",
      "4x9 =36\n",
      "5x1 =5\n",
      "5x2 =10\n",
      "5x3 =15\n",
      "5x4 =20\n",
      "5x5 =25\n",
      "5x6 =30\n",
      "5x7 =35\n",
      "5x8 =40\n",
      "5x9 =45\n",
      "6x1 =6\n",
      "6x2 =12\n",
      "6x3 =18\n",
      "6x4 =24\n",
      "6x5 =30\n",
      "6x6 =36\n",
      "6x7 =42\n",
      "6x8 =48\n",
      "6x9 =54\n",
      "7x1 =7\n",
      "7x2 =14\n",
      "7x3 =21\n",
      "7x4 =28\n",
      "7x5 =35\n",
      "7x6 =42\n",
      "7x7 =49\n",
      "7x8 =56\n",
      "7x9 =63\n",
      "8x1 =8\n",
      "8x2 =16\n",
      "8x3 =24\n",
      "8x4 =32\n",
      "8x5 =40\n",
      "8x6 =48\n",
      "8x7 =56\n",
      "8x8 =64\n",
      "8x9 =72\n",
      "9x1 =9\n",
      "9x2 =18\n",
      "9x3 =27\n",
      "9x4 =36\n",
      "9x5 =45\n",
      "9x6 =54\n",
      "9x7 =63\n",
      "9x8 =72\n",
      "9x9 =81\n"
     ]
    }
   ],
   "source": [
    "for i in range(2,10): # 2내려오고 j에서 1부터 9까지 다실행 시키고 \n",
    "    for j in range(1, 10) : #다시 3내려와서 1부터 9까지 다실행\n",
    "        print(f\"{i}x{j} ={i*j}\")\n",
    "        "
   ]
  },
  {
   "cell_type": "code",
   "execution_count": 329,
   "id": "09c3ab51-d6cd-48ef-a6f1-2fc4448f63b1",
   "metadata": {},
   "outputs": [
    {
     "name": "stdout",
     "output_type": "stream",
     "text": [
      "2단입니다\n",
      "2 X 1 = 2\n",
      "2 X 2 = 4\n",
      "2 X 3 = 6\n",
      "2 X 4 = 8\n",
      "2 X 5 = 10\n",
      "2 X 6 = 12\n",
      "2 X 7 = 14\n",
      "2 X 8 = 16\n",
      "2 X 9 = 18\n",
      "\n",
      "3단입니다\n",
      "3 X 1 = 3\n",
      "3 X 2 = 6\n",
      "3 X 3 = 9\n",
      "3 X 4 = 12\n",
      "3 X 5 = 15\n",
      "3 X 6 = 18\n",
      "3 X 7 = 21\n",
      "3 X 8 = 24\n",
      "3 X 9 = 27\n",
      "\n",
      "4단입니다\n",
      "4 X 1 = 4\n",
      "4 X 2 = 8\n",
      "4 X 3 = 12\n",
      "4 X 4 = 16\n",
      "4 X 5 = 20\n",
      "4 X 6 = 24\n",
      "4 X 7 = 28\n",
      "4 X 8 = 32\n",
      "4 X 9 = 36\n",
      "\n",
      "5단입니다\n",
      "5 X 1 = 5\n",
      "5 X 2 = 10\n",
      "5 X 3 = 15\n",
      "5 X 4 = 20\n",
      "5 X 5 = 25\n",
      "5 X 6 = 30\n",
      "5 X 7 = 35\n",
      "5 X 8 = 40\n",
      "5 X 9 = 45\n",
      "\n",
      "6단입니다\n",
      "6 X 1 = 6\n",
      "6 X 2 = 12\n",
      "6 X 3 = 18\n",
      "6 X 4 = 24\n",
      "6 X 5 = 30\n",
      "6 X 6 = 36\n",
      "6 X 7 = 42\n",
      "6 X 8 = 48\n",
      "6 X 9 = 54\n",
      "\n",
      "7단입니다\n",
      "7 X 1 = 7\n",
      "7 X 2 = 14\n",
      "7 X 3 = 21\n",
      "7 X 4 = 28\n",
      "7 X 5 = 35\n",
      "7 X 6 = 42\n",
      "7 X 7 = 49\n",
      "7 X 8 = 56\n",
      "7 X 9 = 63\n",
      "\n",
      "8단입니다\n",
      "8 X 1 = 8\n",
      "8 X 2 = 16\n",
      "8 X 3 = 24\n",
      "8 X 4 = 32\n",
      "8 X 5 = 40\n",
      "8 X 6 = 48\n",
      "8 X 7 = 56\n",
      "8 X 8 = 64\n",
      "8 X 9 = 72\n",
      "\n",
      "9단입니다\n",
      "9 X 1 = 9\n",
      "9 X 2 = 18\n",
      "9 X 3 = 27\n",
      "9 X 4 = 36\n",
      "9 X 5 = 45\n",
      "9 X 6 = 54\n",
      "9 X 7 = 63\n",
      "9 X 8 = 72\n",
      "9 X 9 = 81\n",
      "\n"
     ]
    }
   ],
   "source": [
    "for i in range(2, 10):\n",
    "    print(f'{i}단입니다')\n",
    "    for j in range(1, 10):\n",
    "        print(f'{i} X {j} = {i * j}')\n",
    "    print() "
   ]
  },
  {
   "cell_type": "code",
   "execution_count": 1,
   "id": "c49083f1-69ce-4d86-8821-9a7e9a5a792b",
   "metadata": {},
   "outputs": [
    {
     "ename": "SyntaxError",
     "evalue": "invalid syntax (1499424065.py, line 2)",
     "output_type": "error",
     "traceback": [
      "\u001b[1;36m  Input \u001b[1;32mIn [1]\u001b[1;36m\u001b[0m\n\u001b[1;33m    integer dictionary float list\u001b[0m\n\u001b[1;37m            ^\u001b[0m\n\u001b[1;31mSyntaxError\u001b[0m\u001b[1;31m:\u001b[0m invalid syntax\n"
     ]
    }
   ],
   "source": [
    "#파이썬 고유의 자료형 4가지\n",
    "튜플 dictionary list set(집합)"
   ]
  },
  {
   "cell_type": "code",
   "execution_count": 8,
   "id": "62673993-5497-48b6-9cd6-1f2ee79b15cc",
   "metadata": {},
   "outputs": [
    {
     "name": "stdout",
     "output_type": "stream",
     "text": [
      "[1, 2, 3, 'Hello', 'Good Morning']\n"
     ]
    }
   ],
   "source": [
    "a = [1, 2, 3, 4, \"Hello\", \"Good Morning\"] \n",
    "a.remove(4) \n",
    "print(a)"
   ]
  },
  {
   "cell_type": "code",
   "execution_count": 15,
   "id": "cd7a2524-72a5-49f0-aadc-52132b4af437",
   "metadata": {},
   "outputs": [
    {
     "name": "stdin",
     "output_type": "stream",
     "text": [
      " 10\n"
     ]
    },
    {
     "name": "stdout",
     "output_type": "stream",
     "text": [
      "10\n"
     ]
    }
   ],
   "source": [
    "a=int(input())\n",
    "n = 0\n",
    "for i in range(1, a+1):\n",
    "    n += i\n",
    "print(i)\n"
   ]
  },
  {
   "cell_type": "code",
   "execution_count": 12,
   "id": "0da11961-ec4d-4642-adb6-cafff2bdedce",
   "metadata": {},
   "outputs": [
    {
     "name": "stdin",
     "output_type": "stream",
     "text": [
      " 1\n"
     ]
    },
    {
     "name": "stdout",
     "output_type": "stream",
     "text": [
      "1\n"
     ]
    }
   ],
   "source": [
    "a = int(input())\n",
    "n = 0\n",
    "for i in range(1, a+1):\n",
    "    n += i\n",
    "print(n) "
   ]
  },
  {
   "cell_type": "code",
   "execution_count": 20,
   "id": "dc88bb85-8ea0-4c2a-9ad6-a32a7ace4425",
   "metadata": {},
   "outputs": [
    {
     "ename": "AttributeError",
     "evalue": "'builtin_function_or_method' object has no attribute 'i'",
     "output_type": "error",
     "traceback": [
      "\u001b[1;31m---------------------------------------------------------------------------\u001b[0m",
      "\u001b[1;31mAttributeError\u001b[0m                            Traceback (most recent call last)",
      "Input \u001b[1;32mIn [20]\u001b[0m, in \u001b[0;36m<cell line: 2>\u001b[1;34m()\u001b[0m\n\u001b[0;32m      2\u001b[0m \u001b[38;5;28;01mfor\u001b[39;00m i \u001b[38;5;129;01min\u001b[39;00m \u001b[38;5;28mrange\u001b[39m(\u001b[38;5;241m1\u001b[39m, \u001b[38;5;241m1001\u001b[39m):\n\u001b[0;32m      3\u001b[0m     \u001b[38;5;28;01mif\u001b[39;00m i\u001b[38;5;241m%\u001b[39m\u001b[38;5;241m2\u001b[39m\u001b[38;5;241m==\u001b[39m\u001b[38;5;241m0\u001b[39m:\n\u001b[1;32m----> 4\u001b[0m         \u001b[43mresult\u001b[49m\u001b[38;5;241;43m.\u001b[39;49m\u001b[43mappend\u001b[49m\u001b[38;5;241;43m.\u001b[39;49m\u001b[43mi\u001b[49m\n\u001b[0;32m      5\u001b[0m         \u001b[38;5;28mprint\u001b[39m(result)\n",
      "\u001b[1;31mAttributeError\u001b[0m: 'builtin_function_or_method' object has no attribute 'i'"
     ]
    }
   ],
   "source": [
    "result=[]\n",
    "for i in range(1, 1001):\n",
    "    if i%2==0:\n",
    "        result.append.i\n",
    "        print(result)"
   ]
  },
  {
   "cell_type": "code",
   "execution_count": 21,
   "id": "22acc760-003b-4e65-9e9b-a9ef2893800d",
   "metadata": {},
   "outputs": [
    {
     "name": "stdout",
     "output_type": "stream",
     "text": [
      "[0, 2, 4, 6, 8, 10, 12, 14, 16, 18, 20, 22, 24, 26, 28, 30, 32, 34, 36, 38, 40, 42, 44, 46, 48, 50, 52, 54, 56, 58, 60, 62, 64, 66, 68, 70, 72, 74, 76, 78, 80, 82, 84, 86, 88, 90, 92, 94, 96, 98, 100, 102, 104, 106, 108, 110, 112, 114, 116, 118, 120, 122, 124, 126, 128, 130, 132, 134, 136, 138, 140, 142, 144, 146, 148, 150, 152, 154, 156, 158, 160, 162, 164, 166, 168, 170, 172, 174, 176, 178, 180, 182, 184, 186, 188, 190, 192, 194, 196, 198, 200, 202, 204, 206, 208, 210, 212, 214, 216, 218, 220, 222, 224, 226, 228, 230, 232, 234, 236, 238, 240, 242, 244, 246, 248, 250, 252, 254, 256, 258, 260, 262, 264, 266, 268, 270, 272, 274, 276, 278, 280, 282, 284, 286, 288, 290, 292, 294, 296, 298, 300, 302, 304, 306, 308, 310, 312, 314, 316, 318, 320, 322, 324, 326, 328, 330, 332, 334, 336, 338, 340, 342, 344, 346, 348, 350, 352, 354, 356, 358, 360, 362, 364, 366, 368, 370, 372, 374, 376, 378, 380, 382, 384, 386, 388, 390, 392, 394, 396, 398, 400, 402, 404, 406, 408, 410, 412, 414, 416, 418, 420, 422, 424, 426, 428, 430, 432, 434, 436, 438, 440, 442, 444, 446, 448, 450, 452, 454, 456, 458, 460, 462, 464, 466, 468, 470, 472, 474, 476, 478, 480, 482, 484, 486, 488, 490, 492, 494, 496, 498, 500, 502, 504, 506, 508, 510, 512, 514, 516, 518, 520, 522, 524, 526, 528, 530, 532, 534, 536, 538, 540, 542, 544, 546, 548, 550, 552, 554, 556, 558, 560, 562, 564, 566, 568, 570, 572, 574, 576, 578, 580, 582, 584, 586, 588, 590, 592, 594, 596, 598, 600, 602, 604, 606, 608, 610, 612, 614, 616, 618, 620, 622, 624, 626, 628, 630, 632, 634, 636, 638, 640, 642, 644, 646, 648, 650, 652, 654, 656, 658, 660, 662, 664, 666, 668, 670, 672, 674, 676, 678, 680, 682, 684, 686, 688, 690, 692, 694, 696, 698, 700, 702, 704, 706, 708, 710, 712, 714, 716, 718, 720, 722, 724, 726, 728, 730, 732, 734, 736, 738, 740, 742, 744, 746, 748, 750, 752, 754, 756, 758, 760, 762, 764, 766, 768, 770, 772, 774, 776, 778, 780, 782, 784, 786, 788, 790, 792, 794, 796, 798, 800, 802, 804, 806, 808, 810, 812, 814, 816, 818, 820, 822, 824, 826, 828, 830, 832, 834, 836, 838, 840, 842, 844, 846, 848, 850, 852, 854, 856, 858, 860, 862, 864, 866, 868, 870, 872, 874, 876, 878, 880, 882, 884, 886, 888, 890, 892, 894, 896, 898, 900, 902, 904, 906, 908, 910, 912, 914, 916, 918, 920, 922, 924, 926, 928, 930, 932, 934, 936, 938, 940, 942, 944, 946, 948, 950, 952, 954, 956, 958, 960, 962, 964, 966, 968, 970, 972, 974, 976, 978, 980, 982, 984, 986, 988, 990, 992, 994, 996, 998, 1000]\n"
     ]
    }
   ],
   "source": [
    "result = []\n",
    "for i in range(1000+1) :\n",
    "  if i%2 == 0:\n",
    "    result.append(i)\n",
    "\n",
    "print(result) "
   ]
  },
  {
   "cell_type": "code",
   "execution_count": 59,
   "id": "b66b2e37-fc95-413e-b24b-288e8ebc8e0c",
   "metadata": {},
   "outputs": [
    {
     "ename": "SyntaxError",
     "evalue": "invalid syntax (1986409193.py, line 2)",
     "output_type": "error",
     "traceback": [
      "\u001b[1;36m  Input \u001b[1;32mIn [59]\u001b[1;36m\u001b[0m\n\u001b[1;33m    list(range(0, 1001,2)).\u001b[0m\n\u001b[1;37m                           ^\u001b[0m\n\u001b[1;31mSyntaxError\u001b[0m\u001b[1;31m:\u001b[0m invalid syntax\n"
     ]
    }
   ],
   "source": [
    "a=[]\n",
    "list(range(0, 1001,2)).\n",
    " "
   ]
  },
  {
   "cell_type": "code",
   "execution_count": 60,
   "id": "929a4ee3-7072-4044-8c79-acd45e8455b1",
   "metadata": {},
   "outputs": [
    {
     "ename": "SyntaxError",
     "evalue": "invalid syntax (4048004745.py, line 2)",
     "output_type": "error",
     "traceback": [
      "\u001b[1;36m  Input \u001b[1;32mIn [60]\u001b[1;36m\u001b[0m\n\u001b[1;33m    for i range(0, 10+1):\u001b[0m\n\u001b[1;37m          ^\u001b[0m\n\u001b[1;31mSyntaxError\u001b[0m\u001b[1;31m:\u001b[0m invalid syntax\n"
     ]
    }
   ],
   "source": [
    "a=[]\n",
    "for i range(0, 10+1):\n",
    "    a.append(i)\n",
    "print(a)\n",
    "\n"
   ]
  },
  {
   "cell_type": "code",
   "execution_count": 30,
   "id": "00e7865c-cf46-43d7-8d48-520df4d4be26",
   "metadata": {},
   "outputs": [
    {
     "data": {
      "text/plain": [
       "[0, 1, 2, 3, 4, 5, 6, 7, 8, 9, 10]"
      ]
     },
     "execution_count": 30,
     "metadata": {},
     "output_type": "execute_result"
    }
   ],
   "source": [
    "b=[i for i in range(0, 10+1)] #그대로 쓰고 앞에 원하는걸 얘기하고 뒤에\n",
    "#수식하는 느낌 \n",
    "b"
   ]
  },
  {
   "cell_type": "code",
   "execution_count": 33,
   "id": "7b5de8f5-87e6-4213-a2a4-dcc80c6ebb66",
   "metadata": {},
   "outputs": [
    {
     "data": {
      "text/plain": [
       "[0, 2, 4, 6, 8, 10]"
      ]
     },
     "execution_count": 33,
     "metadata": {},
     "output_type": "execute_result"
    }
   ],
   "source": [
    "c=[i for i in range(0, 10+1) if i%2==0] #[]하는 이유는 리스트 모을꺼\n",
    "c"
   ]
  },
  {
   "cell_type": "code",
   "execution_count": 34,
   "id": "cba3b080-4676-4f9f-b1f7-ec43ab4f5cd5",
   "metadata": {},
   "outputs": [],
   "source": [
    "# 복사를 하는 3가지방법\n",
    "a = [1,2,3]\n",
    "b=a\n",
    "c=a.copy()# 객체 뒤에 붙어있는게 메소드\n",
    "d=a[:]\n",
    "\n",
    "import copy\n",
    "e=copy.copy(a)# 일반적 카피라는 함수를 씀 "
   ]
  },
  {
   "cell_type": "code",
   "execution_count": 61,
   "id": "175ba2a8-5285-4d08-9b4f-70f7ce7d1517",
   "metadata": {},
   "outputs": [
    {
     "ename": "SyntaxError",
     "evalue": "invalid syntax (3076158770.py, line 1)",
     "output_type": "error",
     "traceback": [
      "\u001b[1;36m  Input \u001b[1;32mIn [61]\u001b[1;36m\u001b[0m\n\u001b[1;33m    form copy import copy\u001b[0m\n\u001b[1;37m         ^\u001b[0m\n\u001b[1;31mSyntaxError\u001b[0m\u001b[1;31m:\u001b[0m invalid syntax\n"
     ]
    }
   ],
   "source": [
    "form copy import copy\n",
    "e= copy(a)"
   ]
  },
  {
   "cell_type": "code",
   "execution_count": 38,
   "id": "5724b782-5657-450d-99b7-cffb14e913f2",
   "metadata": {},
   "outputs": [
    {
     "ename": "SyntaxError",
     "evalue": "invalid syntax (2405888291.py, line 3)",
     "output_type": "error",
     "traceback": [
      "\u001b[1;36m  Input \u001b[1;32mIn [38]\u001b[1;36m\u001b[0m\n\u001b[1;33m    for i in range a.data\u001b[0m\n\u001b[1;37m                   ^\u001b[0m\n\u001b[1;31mSyntaxError\u001b[0m\u001b[1;31m:\u001b[0m invalid syntax\n"
     ]
    }
   ],
   "source": [
    "\n"
   ]
  },
  {
   "cell_type": "code",
   "execution_count": 62,
   "id": "9e490bb5-8ac5-4770-9089-2754a292139b",
   "metadata": {},
   "outputs": [
    {
     "data": {
      "text/plain": [
       "'M'"
      ]
     },
     "execution_count": 62,
     "metadata": {},
     "output_type": "execute_result"
    }
   ],
   "source": [
    "a=[1,2,3,4,\"Hello\",\"Good Moring\"]\n",
    "a[5][5]"
   ]
  },
  {
   "cell_type": "code",
   "execution_count": 43,
   "id": "9e5f8fc5-a402-4efb-b385-5447af8c5172",
   "metadata": {},
   "outputs": [
    {
     "data": {
      "text/plain": [
       "'Moring'"
      ]
     },
     "execution_count": 43,
     "metadata": {},
     "output_type": "execute_result"
    }
   ],
   "source": [
    "a=[1,2,3,4,\"Hello\",\"Good Moring\"]\n",
    "a[5][5:]"
   ]
  },
  {
   "cell_type": "code",
   "execution_count": 51,
   "id": "d2a68b1d-adc1-4be6-a4d0-9816aed9949a",
   "metadata": {},
   "outputs": [
    {
     "name": "stdout",
     "output_type": "stream",
     "text": [
      "[2, 4, 3, 1]\n"
     ]
    }
   ],
   "source": [
    "a=[1,3,4,2]\n",
    "a.reverse()\n",
    "print(a)#그냥 이렇게 하면 뒤집기만"
   ]
  },
  {
   "cell_type": "code",
   "execution_count": 49,
   "id": "409c2ca6-bd02-4138-b7ff-64b2ee4f55df",
   "metadata": {},
   "outputs": [
    {
     "name": "stdout",
     "output_type": "stream",
     "text": [
      "[1, 2, 3, 4]\n"
     ]
    }
   ],
   "source": [
    "a=[1,3,4,2]\n",
    "a.sort()\n",
    "print(a)"
   ]
  },
  {
   "cell_type": "code",
   "execution_count": 52,
   "id": "7e49ff37-a34f-4f6e-b65d-8e2dd2dfb6aa",
   "metadata": {},
   "outputs": [
    {
     "name": "stdout",
     "output_type": "stream",
     "text": [
      "[4, 3, 2, 1]\n"
     ]
    }
   ],
   "source": [
    "a=[1,3,4,2]\n",
    "a.sort()\n",
    "a.reverse()\n",
    "print(a)"
   ]
  },
  {
   "cell_type": "code",
   "execution_count": 53,
   "id": "e7a269f4-2bdf-40a3-8c8d-8f5b94af518c",
   "metadata": {},
   "outputs": [],
   "source": [
    "a=sorted(a)\n",
    "a.reverse()"
   ]
  },
  {
   "cell_type": "code",
   "execution_count": 54,
   "id": "59267bca-8a80-48ce-a50e-caa7f8420a43",
   "metadata": {},
   "outputs": [
    {
     "name": "stdout",
     "output_type": "stream",
     "text": [
      "33.666666666666664\n"
     ]
    }
   ],
   "source": [
    "data = [[33, 37, 39, 31],[\"여자\",\"여자\",\"남자\",\"여자\"]]\n",
    "average = 0\n",
    "for i in range(0, 3 + 1):\n",
    "    if data[1][i] == \"여자\":\n",
    "        average += data[0][i]\n",
    "print(average / 3) "
   ]
  },
  {
   "cell_type": "code",
   "execution_count": 57,
   "id": "c00f58ea-4232-4bac-89d2-e47a4b982cc7",
   "metadata": {},
   "outputs": [
    {
     "ename": "IndentationError",
     "evalue": "expected an indented block after 'if' statement on line 5 (74318234.py, line 6)",
     "output_type": "error",
     "traceback": [
      "\u001b[1;36m  Input \u001b[1;32mIn [57]\u001b[1;36m\u001b[0m\n\u001b[1;33m    sum = sum + data[1][i]\u001b[0m\n\u001b[1;37m    ^\u001b[0m\n\u001b[1;31mIndentationError\u001b[0m\u001b[1;31m:\u001b[0m expected an indented block after 'if' statement on line 5\n"
     ]
    }
   ],
   "source": [
    "data = [[\"영자\", \"옥순\", \"광수\", \"순자\"],[33, 37, 39, 31],[\"여자\",\"여자\",\"남자\",\"여자\"]] \n",
    "sum = 0\n",
    "count = 0\n",
    "for i in range(len(data[2])):\n",
    "    if data[2][i] == '여자':\n",
    "    sum = sum + data[1][i]\n",
    "    count = count + 1\n",
    "mean = sum / count\n",
    "print(mean) "
   ]
  },
  {
   "cell_type": "code",
   "execution_count": 58,
   "id": "9cacf14f-46bf-4234-b9a9-3476a23a4438",
   "metadata": {},
   "outputs": [
    {
     "ename": "NameError",
     "evalue": "name 'numpy' is not defined",
     "output_type": "error",
     "traceback": [
      "\u001b[1;31m---------------------------------------------------------------------------\u001b[0m",
      "\u001b[1;31mNameError\u001b[0m                                 Traceback (most recent call last)",
      "Input \u001b[1;32mIn [58]\u001b[0m, in \u001b[0;36m<cell line: 1>\u001b[1;34m()\u001b[0m\n\u001b[1;32m----> 1\u001b[0m \u001b[43mnumpy\u001b[49m \n\u001b[0;32m      2\u001b[0m pandas \n\u001b[0;32m      3\u001b[0m matplotlib\n",
      "\u001b[1;31mNameError\u001b[0m: name 'numpy' is not defined"
     ]
    }
   ],
   "source": [
    "numpy \n",
    "pandas \n",
    "matplotlib"
   ]
  },
  {
   "cell_type": "code",
   "execution_count": null,
   "id": "dccbd494-599f-46b0-b7c0-d1058b749361",
   "metadata": {},
   "outputs": [],
   "source": []
  }
 ],
 "metadata": {
  "kernelspec": {
   "display_name": "Python 3 (ipykernel)",
   "language": "python",
   "name": "python3"
  },
  "language_info": {
   "codemirror_mode": {
    "name": "ipython",
    "version": 3
   },
   "file_extension": ".py",
   "mimetype": "text/x-python",
   "name": "python",
   "nbconvert_exporter": "python",
   "pygments_lexer": "ipython3",
   "version": "3.9.12"
  },
  "toc-autonumbering": false,
  "toc-showmarkdowntxt": false
 },
 "nbformat": 4,
 "nbformat_minor": 5
}
