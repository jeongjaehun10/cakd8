{
 "cells": [
  {
   "cell_type": "code",
   "execution_count": 4,
   "id": "c696c039-33f2-4c90-a1ec-95455f8fef1f",
   "metadata": {
    "collapsed": true,
    "jupyter": {
     "outputs_hidden": true
    },
    "tags": []
   },
   "outputs": [
    {
     "name": "stdout",
     "output_type": "stream",
     "text": [
      "Collecting tensorflow\n",
      "  Downloading tensorflow-2.10.1-cp39-cp39-win_amd64.whl (455.9 MB)\n",
      "Requirement already satisfied: typing-extensions>=3.6.6 in c:\\users\\admin\\anaconda3\\lib\\site-packages (from tensorflow) (4.1.1)\n",
      "Collecting libclang>=13.0.0\n",
      "  Downloading libclang-14.0.6-py2.py3-none-win_amd64.whl (14.2 MB)\n",
      "Collecting keras<2.11,>=2.10.0\n",
      "  Downloading keras-2.10.0-py2.py3-none-any.whl (1.7 MB)\n",
      "Collecting tensorflow-io-gcs-filesystem>=0.23.1\n",
      "  Downloading tensorflow_io_gcs_filesystem-0.27.0-cp39-cp39-win_amd64.whl (1.5 MB)\n",
      "Requirement already satisfied: six>=1.12.0 in c:\\users\\admin\\anaconda3\\lib\\site-packages (from tensorflow) (1.16.0)\n",
      "Collecting keras-preprocessing>=1.1.1\n",
      "  Downloading Keras_Preprocessing-1.1.2-py2.py3-none-any.whl (42 kB)\n",
      "Requirement already satisfied: setuptools in c:\\users\\admin\\anaconda3\\lib\\site-packages (from tensorflow) (61.2.0)\n",
      "Requirement already satisfied: wrapt>=1.11.0 in c:\\users\\admin\\anaconda3\\lib\\site-packages (from tensorflow) (1.12.1)\n",
      "Collecting tensorboard<2.11,>=2.10\n",
      "  Downloading tensorboard-2.10.1-py3-none-any.whl (5.9 MB)\n",
      "Collecting gast<=0.4.0,>=0.2.1\n",
      "  Downloading gast-0.4.0-py3-none-any.whl (9.8 kB)\n",
      "Requirement already satisfied: protobuf<3.20,>=3.9.2 in c:\\users\\admin\\anaconda3\\lib\\site-packages (from tensorflow) (3.19.1)\n",
      "Collecting absl-py>=1.0.0\n",
      "  Downloading absl_py-1.3.0-py3-none-any.whl (124 kB)\n",
      "Requirement already satisfied: numpy>=1.20 in c:\\users\\admin\\anaconda3\\lib\\site-packages (from tensorflow) (1.21.5)\n",
      "Collecting google-pasta>=0.1.1\n",
      "  Downloading google_pasta-0.2.0-py3-none-any.whl (57 kB)\n",
      "Collecting astunparse>=1.6.0\n",
      "  Downloading astunparse-1.6.3-py2.py3-none-any.whl (12 kB)\n",
      "Collecting tensorflow-estimator<2.11,>=2.10.0\n",
      "  Downloading tensorflow_estimator-2.10.0-py2.py3-none-any.whl (438 kB)\n",
      "Requirement already satisfied: grpcio<2.0,>=1.24.3 in c:\\users\\admin\\anaconda3\\lib\\site-packages (from tensorflow) (1.42.0)\n",
      "Requirement already satisfied: h5py>=2.9.0 in c:\\users\\admin\\anaconda3\\lib\\site-packages (from tensorflow) (3.6.0)\n",
      "Requirement already satisfied: packaging in c:\\users\\admin\\anaconda3\\lib\\site-packages (from tensorflow) (21.3)\n",
      "Collecting termcolor>=1.1.0\n",
      "  Downloading termcolor-2.1.0-py3-none-any.whl (5.8 kB)\n",
      "Collecting opt-einsum>=2.3.2\n",
      "  Downloading opt_einsum-3.3.0-py3-none-any.whl (65 kB)\n",
      "Collecting flatbuffers>=2.0\n",
      "  Downloading flatbuffers-22.10.26-py2.py3-none-any.whl (26 kB)\n",
      "Requirement already satisfied: wheel<1.0,>=0.23.0 in c:\\users\\admin\\anaconda3\\lib\\site-packages (from astunparse>=1.6.0->tensorflow) (0.37.1)\n",
      "Requirement already satisfied: markdown>=2.6.8 in c:\\users\\admin\\anaconda3\\lib\\site-packages (from tensorboard<2.11,>=2.10->tensorflow) (3.3.4)\n",
      "Collecting tensorboard-plugin-wit>=1.6.0\n",
      "  Downloading tensorboard_plugin_wit-1.8.1-py3-none-any.whl (781 kB)\n",
      "Collecting tensorboard-data-server<0.7.0,>=0.6.0\n",
      "  Downloading tensorboard_data_server-0.6.1-py3-none-any.whl (2.4 kB)\n",
      "Collecting google-auth-oauthlib<0.5,>=0.4.1\n",
      "  Downloading google_auth_oauthlib-0.4.6-py2.py3-none-any.whl (18 kB)\n",
      "Requirement already satisfied: google-auth<3,>=1.6.3 in c:\\users\\admin\\anaconda3\\lib\\site-packages (from tensorboard<2.11,>=2.10->tensorflow) (1.33.0)\n",
      "Requirement already satisfied: werkzeug>=1.0.1 in c:\\users\\admin\\anaconda3\\lib\\site-packages (from tensorboard<2.11,>=2.10->tensorflow) (2.0.3)\n",
      "Requirement already satisfied: requests<3,>=2.21.0 in c:\\users\\admin\\anaconda3\\lib\\site-packages (from tensorboard<2.11,>=2.10->tensorflow) (2.27.1)\n",
      "Requirement already satisfied: pyasn1-modules>=0.2.1 in c:\\users\\admin\\anaconda3\\lib\\site-packages (from google-auth<3,>=1.6.3->tensorboard<2.11,>=2.10->tensorflow) (0.2.8)\n",
      "Requirement already satisfied: cachetools<5.0,>=2.0.0 in c:\\users\\admin\\anaconda3\\lib\\site-packages (from google-auth<3,>=1.6.3->tensorboard<2.11,>=2.10->tensorflow) (4.2.2)\n",
      "Requirement already satisfied: rsa<5,>=3.1.4 in c:\\users\\admin\\anaconda3\\lib\\site-packages (from google-auth<3,>=1.6.3->tensorboard<2.11,>=2.10->tensorflow) (4.7.2)\n",
      "Collecting requests-oauthlib>=0.7.0\n",
      "  Downloading requests_oauthlib-1.3.1-py2.py3-none-any.whl (23 kB)\n",
      "Requirement already satisfied: pyasn1<0.5.0,>=0.4.6 in c:\\users\\admin\\anaconda3\\lib\\site-packages (from pyasn1-modules>=0.2.1->google-auth<3,>=1.6.3->tensorboard<2.11,>=2.10->tensorflow) (0.4.8)\n",
      "Requirement already satisfied: urllib3<1.27,>=1.21.1 in c:\\users\\admin\\anaconda3\\lib\\site-packages (from requests<3,>=2.21.0->tensorboard<2.11,>=2.10->tensorflow) (1.26.9)\n",
      "Requirement already satisfied: charset-normalizer~=2.0.0 in c:\\users\\admin\\anaconda3\\lib\\site-packages (from requests<3,>=2.21.0->tensorboard<2.11,>=2.10->tensorflow) (2.0.4)\n",
      "Requirement already satisfied: certifi>=2017.4.17 in c:\\users\\admin\\anaconda3\\lib\\site-packages (from requests<3,>=2.21.0->tensorboard<2.11,>=2.10->tensorflow) (2021.10.8)\n",
      "Requirement already satisfied: idna<4,>=2.5 in c:\\users\\admin\\anaconda3\\lib\\site-packages (from requests<3,>=2.21.0->tensorboard<2.11,>=2.10->tensorflow) (3.3)\n",
      "Collecting oauthlib>=3.0.0\n",
      "  Downloading oauthlib-3.2.2-py3-none-any.whl (151 kB)\n",
      "Requirement already satisfied: pyparsing!=3.0.5,>=2.0.2 in c:\\users\\admin\\anaconda3\\lib\\site-packages (from packaging->tensorflow) (3.0.4)\n",
      "Installing collected packages: oauthlib, requests-oauthlib, tensorboard-plugin-wit, tensorboard-data-server, google-auth-oauthlib, absl-py, termcolor, tensorflow-io-gcs-filesystem, tensorflow-estimator, tensorboard, opt-einsum, libclang, keras-preprocessing, keras, google-pasta, gast, flatbuffers, astunparse, tensorflow\n",
      "Successfully installed absl-py-1.3.0 astunparse-1.6.3 flatbuffers-22.10.26 gast-0.4.0 google-auth-oauthlib-0.4.6 google-pasta-0.2.0 keras-2.10.0 keras-preprocessing-1.1.2 libclang-14.0.6 oauthlib-3.2.2 opt-einsum-3.3.0 requests-oauthlib-1.3.1 tensorboard-2.10.1 tensorboard-data-server-0.6.1 tensorboard-plugin-wit-1.8.1 tensorflow-2.10.1 tensorflow-estimator-2.10.0 tensorflow-io-gcs-filesystem-0.27.0 termcolor-2.1.0\n",
      "Note: you may need to restart the kernel to use updated packages.\n"
     ]
    }
   ],
   "source": [
    "pip install tensorflow"
   ]
  },
  {
   "cell_type": "code",
   "execution_count": null,
   "id": "48084e89-3174-442e-8f8f-575bebbf251e",
   "metadata": {},
   "outputs": [],
   "source": [
    "tensorflow - > keras 이거는 tensorflow쉽게함 \n",
    "밑에서는 텐서플로우 돌아가지만 보이는건 keras 씀 \n",
    "지금은 tensorflow 설치하면 keras 도 자동\n",
    "framework :\n",
    "    \n",
    "    "
   ]
  },
  {
   "cell_type": "code",
   "execution_count": 1,
   "id": "4908f284-fe8c-4258-8e19-b1a334c37a29",
   "metadata": {},
   "outputs": [],
   "source": [
    "import numpy as np\n",
    "import pandas as pd\n",
    "import matplotlib.pyplot as plt\n",
    "\n",
    "import tensorflow as tf\n",
    "\n",
    "from tensorflow import keras\n",
    "\n",
    "import keras\n",
    "\n",
    "from keras import Sequential # 대문자는 class다.\n",
    "\n",
    "from keras import optimizers\n",
    "from keras.layers import Input, Dense "
   ]
  },
  {
   "cell_type": "code",
   "execution_count": 7,
   "id": "2cad5ccd-be47-4700-847b-6f0f66751298",
   "metadata": {},
   "outputs": [
    {
     "ename": "SyntaxError",
     "evalue": "invalid syntax (3023466168.py, line 1)",
     "output_type": "error",
     "traceback": [
      "\u001b[1;36m  Input \u001b[1;32mIn [7]\u001b[1;36m\u001b[0m\n\u001b[1;33m    sparse matrix 희소행렬\u001b[0m\n\u001b[1;37m           ^\u001b[0m\n\u001b[1;31mSyntaxError\u001b[0m\u001b[1;31m:\u001b[0m invalid syntax\n"
     ]
    }
   ],
   "source": [
    "sparse matrix 희소행렬 \n",
    "dense matrix 밀집행렬 \n"
   ]
  },
  {
   "cell_type": "code",
   "execution_count": 2,
   "id": "f0f20cd6-52fd-4aa0-b9af-56ee9d9c7aed",
   "metadata": {
    "tags": []
   },
   "outputs": [
    {
     "data": {
      "text/plain": [
       "array([-1.0000000e+00, -9.9000000e-01, -9.8000000e-01, -9.7000000e-01,\n",
       "       -9.6000000e-01, -9.5000000e-01, -9.4000000e-01, -9.3000000e-01,\n",
       "       -9.2000000e-01, -9.1000000e-01, -9.0000000e-01, -8.9000000e-01,\n",
       "       -8.8000000e-01, -8.7000000e-01, -8.6000000e-01, -8.5000000e-01,\n",
       "       -8.4000000e-01, -8.3000000e-01, -8.2000000e-01, -8.1000000e-01,\n",
       "       -8.0000000e-01, -7.9000000e-01, -7.8000000e-01, -7.7000000e-01,\n",
       "       -7.6000000e-01, -7.5000000e-01, -7.4000000e-01, -7.3000000e-01,\n",
       "       -7.2000000e-01, -7.1000000e-01, -7.0000000e-01, -6.9000000e-01,\n",
       "       -6.8000000e-01, -6.7000000e-01, -6.6000000e-01, -6.5000000e-01,\n",
       "       -6.4000000e-01, -6.3000000e-01, -6.2000000e-01, -6.1000000e-01,\n",
       "       -6.0000000e-01, -5.9000000e-01, -5.8000000e-01, -5.7000000e-01,\n",
       "       -5.6000000e-01, -5.5000000e-01, -5.4000000e-01, -5.3000000e-01,\n",
       "       -5.2000000e-01, -5.1000000e-01, -5.0000000e-01, -4.9000000e-01,\n",
       "       -4.8000000e-01, -4.7000000e-01, -4.6000000e-01, -4.5000000e-01,\n",
       "       -4.4000000e-01, -4.3000000e-01, -4.2000000e-01, -4.1000000e-01,\n",
       "       -4.0000000e-01, -3.9000000e-01, -3.8000000e-01, -3.7000000e-01,\n",
       "       -3.6000000e-01, -3.5000000e-01, -3.4000000e-01, -3.3000000e-01,\n",
       "       -3.2000000e-01, -3.1000000e-01, -3.0000000e-01, -2.9000000e-01,\n",
       "       -2.8000000e-01, -2.7000000e-01, -2.6000000e-01, -2.5000000e-01,\n",
       "       -2.4000000e-01, -2.3000000e-01, -2.2000000e-01, -2.1000000e-01,\n",
       "       -2.0000000e-01, -1.9000000e-01, -1.8000000e-01, -1.7000000e-01,\n",
       "       -1.6000000e-01, -1.5000000e-01, -1.4000000e-01, -1.3000000e-01,\n",
       "       -1.2000000e-01, -1.1000000e-01, -1.0000000e-01, -9.0000000e-02,\n",
       "       -8.0000000e-02, -7.0000000e-02, -6.0000000e-02, -5.0000000e-02,\n",
       "       -4.0000000e-02, -3.0000000e-02, -2.0000000e-02, -1.0000000e-02,\n",
       "        8.8817842e-16,  1.0000000e-02,  2.0000000e-02,  3.0000000e-02,\n",
       "        4.0000000e-02,  5.0000000e-02,  6.0000000e-02,  7.0000000e-02,\n",
       "        8.0000000e-02,  9.0000000e-02,  1.0000000e-01,  1.1000000e-01,\n",
       "        1.2000000e-01,  1.3000000e-01,  1.4000000e-01,  1.5000000e-01,\n",
       "        1.6000000e-01,  1.7000000e-01,  1.8000000e-01,  1.9000000e-01,\n",
       "        2.0000000e-01,  2.1000000e-01,  2.2000000e-01,  2.3000000e-01,\n",
       "        2.4000000e-01,  2.5000000e-01,  2.6000000e-01,  2.7000000e-01,\n",
       "        2.8000000e-01,  2.9000000e-01,  3.0000000e-01,  3.1000000e-01,\n",
       "        3.2000000e-01,  3.3000000e-01,  3.4000000e-01,  3.5000000e-01,\n",
       "        3.6000000e-01,  3.7000000e-01,  3.8000000e-01,  3.9000000e-01,\n",
       "        4.0000000e-01,  4.1000000e-01,  4.2000000e-01,  4.3000000e-01,\n",
       "        4.4000000e-01,  4.5000000e-01,  4.6000000e-01,  4.7000000e-01,\n",
       "        4.8000000e-01,  4.9000000e-01,  5.0000000e-01,  5.1000000e-01,\n",
       "        5.2000000e-01,  5.3000000e-01,  5.4000000e-01,  5.5000000e-01,\n",
       "        5.6000000e-01,  5.7000000e-01,  5.8000000e-01,  5.9000000e-01,\n",
       "        6.0000000e-01,  6.1000000e-01,  6.2000000e-01,  6.3000000e-01,\n",
       "        6.4000000e-01,  6.5000000e-01,  6.6000000e-01,  6.7000000e-01,\n",
       "        6.8000000e-01,  6.9000000e-01,  7.0000000e-01,  7.1000000e-01,\n",
       "        7.2000000e-01,  7.3000000e-01,  7.4000000e-01,  7.5000000e-01,\n",
       "        7.6000000e-01,  7.7000000e-01,  7.8000000e-01,  7.9000000e-01,\n",
       "        8.0000000e-01,  8.1000000e-01,  8.2000000e-01,  8.3000000e-01,\n",
       "        8.4000000e-01,  8.5000000e-01,  8.6000000e-01,  8.7000000e-01,\n",
       "        8.8000000e-01,  8.9000000e-01,  9.0000000e-01,  9.1000000e-01,\n",
       "        9.2000000e-01,  9.3000000e-01,  9.4000000e-01,  9.5000000e-01,\n",
       "        9.6000000e-01,  9.7000000e-01,  9.8000000e-01,  9.9000000e-01])"
      ]
     },
     "execution_count": 2,
     "metadata": {},
     "output_type": "execute_result"
    }
   ],
   "source": [
    "#-1~1 100조각 200개\n",
    "np.arange(-1,1, 0.01)"
   ]
  },
  {
   "cell_type": "code",
   "execution_count": 3,
   "id": "dd416efc-c8ff-4caa-953d-85a07047bc52",
   "metadata": {
    "tags": []
   },
   "outputs": [
    {
     "data": {
      "text/plain": [
       "array([-1.        , -0.97979798, -0.95959596, -0.93939394, -0.91919192,\n",
       "       -0.8989899 , -0.87878788, -0.85858586, -0.83838384, -0.81818182,\n",
       "       -0.7979798 , -0.77777778, -0.75757576, -0.73737374, -0.71717172,\n",
       "       -0.6969697 , -0.67676768, -0.65656566, -0.63636364, -0.61616162,\n",
       "       -0.5959596 , -0.57575758, -0.55555556, -0.53535354, -0.51515152,\n",
       "       -0.49494949, -0.47474747, -0.45454545, -0.43434343, -0.41414141,\n",
       "       -0.39393939, -0.37373737, -0.35353535, -0.33333333, -0.31313131,\n",
       "       -0.29292929, -0.27272727, -0.25252525, -0.23232323, -0.21212121,\n",
       "       -0.19191919, -0.17171717, -0.15151515, -0.13131313, -0.11111111,\n",
       "       -0.09090909, -0.07070707, -0.05050505, -0.03030303, -0.01010101,\n",
       "        0.01010101,  0.03030303,  0.05050505,  0.07070707,  0.09090909,\n",
       "        0.11111111,  0.13131313,  0.15151515,  0.17171717,  0.19191919,\n",
       "        0.21212121,  0.23232323,  0.25252525,  0.27272727,  0.29292929,\n",
       "        0.31313131,  0.33333333,  0.35353535,  0.37373737,  0.39393939,\n",
       "        0.41414141,  0.43434343,  0.45454545,  0.47474747,  0.49494949,\n",
       "        0.51515152,  0.53535354,  0.55555556,  0.57575758,  0.5959596 ,\n",
       "        0.61616162,  0.63636364,  0.65656566,  0.67676768,  0.6969697 ,\n",
       "        0.71717172,  0.73737374,  0.75757576,  0.77777778,  0.7979798 ,\n",
       "        0.81818182,  0.83838384,  0.85858586,  0.87878788,  0.8989899 ,\n",
       "        0.91919192,  0.93939394,  0.95959596,  0.97979798,  1.        ])"
      ]
     },
     "execution_count": 3,
     "metadata": {},
     "output_type": "execute_result"
    }
   ],
   "source": [
    "np.linspace(-1,1, 100)# 100개 쪼개기"
   ]
  },
  {
   "cell_type": "code",
   "execution_count": 4,
   "id": "3b6c5dfb-acee-4ca6-bd61-83cb7ac97349",
   "metadata": {},
   "outputs": [
    {
     "data": {
      "text/plain": [
       "array([ 1.,  2.,  3.,  4.,  5.,  6.,  7.,  8.,  9., 10.])"
      ]
     },
     "execution_count": 4,
     "metadata": {},
     "output_type": "execute_result"
    }
   ],
   "source": [
    "np.linspace(1,10,10)"
   ]
  },
  {
   "cell_type": "code",
   "execution_count": 5,
   "id": "550e2304-0f4f-4a39-ae23-45676d5981ff",
   "metadata": {},
   "outputs": [
    {
     "data": {
      "text/plain": [
       "<matplotlib.collections.PathCollection at 0x1d3a548e970>"
      ]
     },
     "execution_count": 5,
     "metadata": {},
     "output_type": "execute_result"
    },
    {
     "data": {
      "image/png": "[encoded data removed]",
      "text/plain": [
       "<Figure size 432x288 with 1 Axes>"
      ]
     },
     "metadata": {
      "needs_background": "light"
     },
     "output_type": "display_data"
    }
   ],
   "source": [
    "x= np.linspace(-1,1,100)\n",
    "y = x**2\n",
    "plt.scatter(x,y)"
   ]
  },
  {
   "cell_type": "code",
   "execution_count": 6,
   "id": "295ee8c6-02e9-44b3-9fc2-d74af2c7d3d5",
   "metadata": {},
   "outputs": [
    {
     "data": {
      "text/plain": [
       "array([4, 3, 2, 1])"
      ]
     },
     "execution_count": 6,
     "metadata": {},
     "output_type": "execute_result"
    }
   ],
   "source": [
    "a=np.arange(1,5)\n",
    "np.random.shuffle(a)\n",
    "a"
   ]
  },
  {
   "cell_type": "code",
   "execution_count": 33,
   "id": "bace0982-947c-4551-8da1-328ad02e1496",
   "metadata": {
    "tags": []
   },
   "outputs": [
    {
     "data": {
      "text/plain": [
       "array([-0.91919192,  0.35353535,  0.45454545, -0.6969697 ,  0.31313131,\n",
       "        0.93939394,  0.6969697 , -0.47474747, -0.65656566,  0.37373737,\n",
       "       -0.97979798,  0.49494949,  0.15151515, -0.03030303, -0.11111111,\n",
       "        0.39393939, -0.8989899 , -0.77777778,  0.55555556, -0.23232323,\n",
       "       -0.39393939,  0.8989899 , -0.45454545, -0.51515152,  0.27272727,\n",
       "       -0.93939394, -0.41414141,  0.05050505, -0.67676768,  0.91919192,\n",
       "        0.7979798 ,  0.21212121, -0.25252525, -0.09090909, -0.49494949,\n",
       "       -1.        ,  0.53535354, -0.17171717, -0.5959596 , -0.19191919,\n",
       "       -0.81818182, -0.43434343,  0.87878788, -0.27272727,  0.5959596 ,\n",
       "        0.43434343, -0.63636364, -0.75757576,  0.17171717,  0.67676768,\n",
       "        0.07070707,  0.81818182,  0.47474747, -0.61616162,  0.71717172,\n",
       "        0.25252525,  0.65656566,  0.73737374,  0.33333333,  0.95959596,\n",
       "        0.29292929,  0.77777778,  0.09090909, -0.31313131, -0.71717172,\n",
       "       -0.53535354,  0.85858586,  0.13131313, -0.95959596, -0.37373737])"
      ]
     },
     "execution_count": 33,
     "metadata": {},
     "output_type": "execute_result"
    }
   ],
   "source": [
    "x= np.linspace(-1,1,100)\n",
    "np.random.shuffle(x)\n",
    "x[:70]"
   ]
  },
  {
   "cell_type": "code",
   "execution_count": 8,
   "id": "8b26db05-fe35-490a-86fd-52aa18c5044f",
   "metadata": {},
   "outputs": [
    {
     "data": {
      "text/plain": [
       "<matplotlib.collections.PathCollection at 0x1d3a5c01310>"
      ]
     },
     "execution_count": 8,
     "metadata": {},
     "output_type": "execute_result"
    },
    {
     "data": {
      "image/png": "[encoded data removed]",
      "text/plain": [
       "<Figure size 216x216 with 1 Axes>"
      ]
     },
     "metadata": {
      "needs_background": "light"
     },
     "output_type": "display_data"
    }
   ],
   "source": [
    "plt.figure(figsize=(3,3)) \n",
    "plt.scatter(x[:70], x[:70]**2)"
   ]
  },
  {
   "cell_type": "code",
   "execution_count": 9,
   "id": "67ba99dd-20a1-4032-af4e-5d0e74bc793f",
   "metadata": {},
   "outputs": [
    {
     "data": {
      "image/png": "[encoded data removed]",
      "text/plain": [
       "<Figure size 360x144 with 1 Axes>"
      ]
     },
     "metadata": {
      "needs_background": "light"
     },
     "output_type": "display_data"
    },
    {
     "data": {
      "text/plain": [
       "<Figure size 432x576 with 0 Axes>"
      ]
     },
     "metadata": {},
     "output_type": "display_data"
    }
   ],
   "source": [
    "f, ax = plt.subplots(figsize=(5, 2)) \n",
    "plt.figure(figsize=(6,8)) \n",
    "plt.rcParams[\"figure.figsize\"] = (5,3) "
   ]
  },
  {
   "cell_type": "code",
   "execution_count": 10,
   "id": "fa1bb340-ec12-4650-b783-75a56257a915",
   "metadata": {},
   "outputs": [
    {
     "data": {
      "text/plain": [
       "<matplotlib.collections.PathCollection at 0x1d3a5cbbf40>"
      ]
     },
     "execution_count": 10,
     "metadata": {},
     "output_type": "execute_result"
    },
    {
     "data": {
      "image/png": "[encoded data removed]",
      "text/plain": [
       "<Figure size 360x216 with 1 Axes>"
      ]
     },
     "metadata": {
      "needs_background": "light"
     },
     "output_type": "display_data"
    }
   ],
   "source": [
    "plt.scatter(x[70:], x[70:]**2)"
   ]
  },
  {
   "cell_type": "code",
   "execution_count": 11,
   "id": "44d7483c-0b81-4f28-b1f9-d6a4c00404d1",
   "metadata": {},
   "outputs": [
    {
     "data": {
      "text/plain": [
       "<matplotlib.collections.PathCollection at 0x1d3a5d39190>"
      ]
     },
     "execution_count": 11,
     "metadata": {},
     "output_type": "execute_result"
    },
    {
     "data": {
      "image/png": "[encoded data removed]",
      "text/plain": [
       "<Figure size 360x216 with 1 Axes>"
      ]
     },
     "metadata": {
      "needs_background": "light"
     },
     "output_type": "display_data"
    }
   ],
   "source": [
    "plt.scatter(x[:70], x[:70]**2)\n",
    "plt.scatter(x[70:], x[70:]**2)"
   ]
  },
  {
   "cell_type": "code",
   "execution_count": 12,
   "id": "dd5ec8bb-ef95-4f61-a32d-ad71615e53e6",
   "metadata": {},
   "outputs": [
    {
     "ename": "SyntaxError",
     "evalue": "invalid syntax (2294013130.py, line 1)",
     "output_type": "error",
     "traceback": [
      "\u001b[1;36m  Input \u001b[1;32mIn [12]\u001b[1;36m\u001b[0m\n\u001b[1;33m    classs Calulator:\u001b[0m\n\u001b[1;37m           ^\u001b[0m\n\u001b[1;31mSyntaxError\u001b[0m\u001b[1;31m:\u001b[0m invalid syntax\n"
     ]
    }
   ],
   "source": [
    "classs Calulator:\n",
    "    def __init__(self)\n",
    "pos = Calculator()    "
   ]
  },
  {
   "cell_type": "code",
   "execution_count": 13,
   "id": "92bbe834-265e-4ce1-a52a-e3d4071cb05f",
   "metadata": {},
   "outputs": [],
   "source": [
    "x= np.linspace(-1,1,100)\n",
    "np.random.shuffle(x)\n",
    "\n",
    "\n",
    "model =Sequential()\n",
    "\n",
    "model.add(Input(1)) #  왼쪽에서 오른쪽으로 층을 덧붙임 \n",
    "model.add(Dense(units=10, activation='sigmoid')) #  Dense는 층이다.\n",
    "model.add(Dense(units=10, activation='sigmoid'))\n",
    "model.add(Dense(units = 1))\n",
    "\n",
    "model.compile(optimizer='SGD', loss='mse', metrics='mse') #숫자는 정확도 없다.\n"
   ]
  },
  {
   "cell_type": "code",
   "execution_count": 14,
   "id": "23e8702c-bb80-4e50-b64e-ec7bd9d19214",
   "metadata": {
    "collapsed": true,
    "jupyter": {
     "outputs_hidden": true
    },
    "tags": []
   },
   "outputs": [
    {
     "name": "stdout",
     "output_type": "stream",
     "text": [
      "Epoch 1/100\n",
      "5/5 [==============================] - 0s 1ms/step - loss: 0.1365 - mse: 0.1365\n",
      "Epoch 2/100\n",
      "5/5 [==============================] - 0s 993us/step - loss: 0.1039 - mse: 0.1039\n",
      "Epoch 3/100\n",
      "5/5 [==============================] - 0s 1ms/step - loss: 0.0911 - mse: 0.0911\n",
      "Epoch 4/100\n",
      "5/5 [==============================] - 0s 1ms/step - loss: 0.0850 - mse: 0.0850\n",
      "Epoch 5/100\n",
      "5/5 [==============================] - 0s 1ms/step - loss: 0.0828 - mse: 0.0828\n",
      "Epoch 6/100\n",
      "5/5 [==============================] - 0s 1ms/step - loss: 0.0809 - mse: 0.0809\n",
      "Epoch 7/100\n",
      "5/5 [==============================] - 0s 1ms/step - loss: 0.0804 - mse: 0.0804\n",
      "Epoch 8/100\n",
      "5/5 [==============================] - 0s 1ms/step - loss: 0.0798 - mse: 0.0798\n",
      "Epoch 9/100\n",
      "5/5 [==============================] - 0s 1ms/step - loss: 0.0799 - mse: 0.0799\n",
      "Epoch 10/100\n",
      "5/5 [==============================] - 0s 1ms/step - loss: 0.0797 - mse: 0.0797\n",
      "Epoch 11/100\n",
      "5/5 [==============================] - 0s 2ms/step - loss: 0.0795 - mse: 0.0795\n",
      "Epoch 12/100\n",
      "5/5 [==============================] - 0s 2ms/step - loss: 0.0796 - mse: 0.0796\n",
      "Epoch 13/100\n",
      "5/5 [==============================] - 0s 1ms/step - loss: 0.0795 - mse: 0.0795\n",
      "Epoch 14/100\n",
      "5/5 [==============================] - 0s 1ms/step - loss: 0.0795 - mse: 0.0795\n",
      "Epoch 15/100\n",
      "5/5 [==============================] - 0s 1ms/step - loss: 0.0797 - mse: 0.0797\n",
      "Epoch 16/100\n",
      "5/5 [==============================] - 0s 1ms/step - loss: 0.0797 - mse: 0.0797\n",
      "Epoch 17/100\n",
      "5/5 [==============================] - 0s 1ms/step - loss: 0.0795 - mse: 0.0795\n",
      "Epoch 18/100\n",
      "5/5 [==============================] - 0s 2ms/step - loss: 0.0797 - mse: 0.0797\n",
      "Epoch 19/100\n",
      "5/5 [==============================] - 0s 1ms/step - loss: 0.0796 - mse: 0.0796\n",
      "Epoch 20/100\n",
      "5/5 [==============================] - 0s 1ms/step - loss: 0.0800 - mse: 0.0800\n",
      "Epoch 21/100\n",
      "5/5 [==============================] - 0s 1ms/step - loss: 0.0803 - mse: 0.0803\n",
      "Epoch 22/100\n",
      "5/5 [==============================] - 0s 2ms/step - loss: 0.0796 - mse: 0.0796\n",
      "Epoch 23/100\n",
      "5/5 [==============================] - 0s 997us/step - loss: 0.0794 - mse: 0.0794\n",
      "Epoch 24/100\n",
      "5/5 [==============================] - 0s 1ms/step - loss: 0.0795 - mse: 0.0795\n",
      "Epoch 25/100\n",
      "5/5 [==============================] - 0s 1ms/step - loss: 0.0799 - mse: 0.0799\n",
      "Epoch 26/100\n",
      "5/5 [==============================] - 0s 1ms/step - loss: 0.0794 - mse: 0.0794\n",
      "Epoch 27/100\n",
      "5/5 [==============================] - 0s 997us/step - loss: 0.0799 - mse: 0.0799\n",
      "Epoch 28/100\n",
      "5/5 [==============================] - 0s 2ms/step - loss: 0.0797 - mse: 0.0797\n",
      "Epoch 29/100\n",
      "5/5 [==============================] - 0s 1ms/step - loss: 0.0798 - mse: 0.0798\n",
      "Epoch 30/100\n",
      "5/5 [==============================] - 0s 1ms/step - loss: 0.0794 - mse: 0.0794\n",
      "Epoch 31/100\n",
      "5/5 [==============================] - 0s 1ms/step - loss: 0.0795 - mse: 0.0795\n",
      "Epoch 32/100\n",
      "5/5 [==============================] - 0s 2ms/step - loss: 0.0796 - mse: 0.0796\n",
      "Epoch 33/100\n",
      "5/5 [==============================] - 0s 1ms/step - loss: 0.0795 - mse: 0.0795\n",
      "Epoch 34/100\n",
      "5/5 [==============================] - 0s 1ms/step - loss: 0.0795 - mse: 0.0795\n",
      "Epoch 35/100\n",
      "5/5 [==============================] - 0s 1ms/step - loss: 0.0797 - mse: 0.0797\n",
      "Epoch 36/100\n",
      "5/5 [==============================] - 0s 1ms/step - loss: 0.0796 - mse: 0.0796\n",
      "Epoch 37/100\n",
      "5/5 [==============================] - 0s 1ms/step - loss: 0.0795 - mse: 0.0795\n",
      "Epoch 38/100\n",
      "5/5 [==============================] - 0s 1ms/step - loss: 0.0800 - mse: 0.0800\n",
      "Epoch 39/100\n",
      "5/5 [==============================] - 0s 1ms/step - loss: 0.0795 - mse: 0.0795\n",
      "Epoch 40/100\n",
      "5/5 [==============================] - 0s 1ms/step - loss: 0.0797 - mse: 0.0797\n",
      "Epoch 41/100\n",
      "5/5 [==============================] - 0s 1ms/step - loss: 0.0794 - mse: 0.0794\n",
      "Epoch 42/100\n",
      "5/5 [==============================] - 0s 1ms/step - loss: 0.0796 - mse: 0.0796\n",
      "Epoch 43/100\n",
      "5/5 [==============================] - 0s 1ms/step - loss: 0.0795 - mse: 0.0795\n",
      "Epoch 44/100\n",
      "5/5 [==============================] - 0s 996us/step - loss: 0.0801 - mse: 0.0801\n",
      "Epoch 45/100\n",
      "5/5 [==============================] - 0s 1ms/step - loss: 0.0795 - mse: 0.0795\n",
      "Epoch 46/100\n",
      "5/5 [==============================] - 0s 1ms/step - loss: 0.0794 - mse: 0.0794\n",
      "Epoch 47/100\n",
      "5/5 [==============================] - 0s 996us/step - loss: 0.0796 - mse: 0.0796\n",
      "Epoch 48/100\n",
      "5/5 [==============================] - 0s 1ms/step - loss: 0.0796 - mse: 0.0796\n",
      "Epoch 49/100\n",
      "5/5 [==============================] - 0s 1ms/step - loss: 0.0795 - mse: 0.0795\n",
      "Epoch 50/100\n",
      "5/5 [==============================] - 0s 1ms/step - loss: 0.0796 - mse: 0.0796\n",
      "Epoch 51/100\n",
      "5/5 [==============================] - 0s 993us/step - loss: 0.0794 - mse: 0.0794\n",
      "Epoch 52/100\n",
      "5/5 [==============================] - 0s 1ms/step - loss: 0.0796 - mse: 0.0796\n",
      "Epoch 53/100\n",
      "5/5 [==============================] - 0s 1ms/step - loss: 0.0796 - mse: 0.0796\n",
      "Epoch 54/100\n",
      "5/5 [==============================] - 0s 1ms/step - loss: 0.0798 - mse: 0.0798\n",
      "Epoch 55/100\n",
      "5/5 [==============================] - 0s 999us/step - loss: 0.0794 - mse: 0.0794\n",
      "Epoch 56/100\n",
      "5/5 [==============================] - 0s 1ms/step - loss: 0.0796 - mse: 0.0796\n",
      "Epoch 57/100\n",
      "5/5 [==============================] - 0s 1ms/step - loss: 0.0795 - mse: 0.0795\n",
      "Epoch 58/100\n",
      "5/5 [==============================] - 0s 1ms/step - loss: 0.0795 - mse: 0.0795\n",
      "Epoch 59/100\n",
      "5/5 [==============================] - 0s 2ms/step - loss: 0.0794 - mse: 0.0794\n",
      "Epoch 60/100\n",
      "5/5 [==============================] - 0s 2ms/step - loss: 0.0794 - mse: 0.0794\n",
      "Epoch 61/100\n",
      "5/5 [==============================] - 0s 1ms/step - loss: 0.0796 - mse: 0.0796\n",
      "Epoch 62/100\n",
      "5/5 [==============================] - 0s 1ms/step - loss: 0.0798 - mse: 0.0798\n",
      "Epoch 63/100\n",
      "5/5 [==============================] - 0s 1ms/step - loss: 0.0797 - mse: 0.0797\n",
      "Epoch 64/100\n",
      "5/5 [==============================] - 0s 1ms/step - loss: 0.0797 - mse: 0.0797\n",
      "Epoch 65/100\n",
      "5/5 [==============================] - 0s 1ms/step - loss: 0.0796 - mse: 0.0796\n",
      "Epoch 66/100\n",
      "5/5 [==============================] - 0s 2ms/step - loss: 0.0796 - mse: 0.0796\n",
      "Epoch 67/100\n",
      "5/5 [==============================] - 0s 1ms/step - loss: 0.0797 - mse: 0.0797\n",
      "Epoch 68/100\n",
      "5/5 [==============================] - 0s 2ms/step - loss: 0.0800 - mse: 0.0800\n",
      "Epoch 69/100\n",
      "5/5 [==============================] - 0s 1ms/step - loss: 0.0795 - mse: 0.0795\n",
      "Epoch 70/100\n",
      "5/5 [==============================] - 0s 1ms/step - loss: 0.0798 - mse: 0.0798\n",
      "Epoch 71/100\n",
      "5/5 [==============================] - 0s 2ms/step - loss: 0.0795 - mse: 0.0795\n",
      "Epoch 72/100\n",
      "5/5 [==============================] - 0s 1ms/step - loss: 0.0794 - mse: 0.0794\n",
      "Epoch 73/100\n",
      "5/5 [==============================] - 0s 1ms/step - loss: 0.0796 - mse: 0.0796\n",
      "Epoch 74/100\n",
      "5/5 [==============================] - 0s 1ms/step - loss: 0.0795 - mse: 0.0795\n",
      "Epoch 75/100\n",
      "5/5 [==============================] - 0s 2ms/step - loss: 0.0797 - mse: 0.0797\n",
      "Epoch 76/100\n",
      "5/5 [==============================] - 0s 1ms/step - loss: 0.0798 - mse: 0.0798\n",
      "Epoch 77/100\n",
      "5/5 [==============================] - 0s 1ms/step - loss: 0.0797 - mse: 0.0797\n",
      "Epoch 78/100\n",
      "5/5 [==============================] - 0s 1ms/step - loss: 0.0797 - mse: 0.0797\n",
      "Epoch 79/100\n",
      "5/5 [==============================] - 0s 1ms/step - loss: 0.0796 - mse: 0.0796\n",
      "Epoch 80/100\n",
      "5/5 [==============================] - 0s 1ms/step - loss: 0.0798 - mse: 0.0798\n",
      "Epoch 81/100\n",
      "5/5 [==============================] - 0s 1000us/step - loss: 0.0800 - mse: 0.0800\n",
      "Epoch 82/100\n",
      "5/5 [==============================] - 0s 1ms/step - loss: 0.0795 - mse: 0.0795\n",
      "Epoch 83/100\n",
      "5/5 [==============================] - 0s 1ms/step - loss: 0.0795 - mse: 0.0795\n",
      "Epoch 84/100\n",
      "5/5 [==============================] - 0s 1ms/step - loss: 0.0796 - mse: 0.0796\n",
      "Epoch 85/100\n",
      "5/5 [==============================] - 0s 1ms/step - loss: 0.0796 - mse: 0.0796\n",
      "Epoch 86/100\n",
      "5/5 [==============================] - 0s 1ms/step - loss: 0.0796 - mse: 0.0796\n",
      "Epoch 87/100\n",
      "5/5 [==============================] - 0s 1ms/step - loss: 0.0797 - mse: 0.0797\n",
      "Epoch 88/100\n",
      "5/5 [==============================] - 0s 1ms/step - loss: 0.0795 - mse: 0.0795\n",
      "Epoch 89/100\n",
      "5/5 [==============================] - 0s 1ms/step - loss: 0.0798 - mse: 0.0798\n",
      "Epoch 90/100\n",
      "5/5 [==============================] - 0s 1ms/step - loss: 0.0794 - mse: 0.0794\n",
      "Epoch 91/100\n",
      "5/5 [==============================] - 0s 1ms/step - loss: 0.0796 - mse: 0.0796\n",
      "Epoch 92/100\n",
      "5/5 [==============================] - 0s 2ms/step - loss: 0.0796 - mse: 0.0796\n",
      "Epoch 93/100\n",
      "5/5 [==============================] - 0s 1ms/step - loss: 0.0796 - mse: 0.0796\n",
      "Epoch 94/100\n",
      "5/5 [==============================] - 0s 1ms/step - loss: 0.0796 - mse: 0.0796\n",
      "Epoch 95/100\n",
      "5/5 [==============================] - 0s 1ms/step - loss: 0.0796 - mse: 0.0796\n",
      "Epoch 96/100\n",
      "5/5 [==============================] - 0s 1ms/step - loss: 0.0806 - mse: 0.0806\n",
      "Epoch 97/100\n",
      "5/5 [==============================] - 0s 1ms/step - loss: 0.0798 - mse: 0.0798\n",
      "Epoch 98/100\n",
      "5/5 [==============================] - 0s 1ms/step - loss: 0.0799 - mse: 0.0799\n",
      "Epoch 99/100\n",
      "5/5 [==============================] - 0s 2ms/step - loss: 0.0797 - mse: 0.0797\n",
      "Epoch 100/100\n",
      "5/5 [==============================] - 0s 1ms/step - loss: 0.0801 - mse: 0.0801\n"
     ]
    },
    {
     "data": {
      "text/plain": [
       "<keras.callbacks.History at 0x1d3a6ed2520>"
      ]
     },
     "execution_count": 14,
     "metadata": {},
     "output_type": "execute_result"
    }
   ],
   "source": [
    "model.fit(x[:70], x[:70]**2, epochs=100, verbose=1, batch_size=16)# 트레이닝 x, y, verbose=1은 수다스러움\n",
    "# 똑똑해짐"
   ]
  },
  {
   "cell_type": "code",
   "execution_count": 15,
   "id": "082793ee-3aeb-4062-bae7-18ddffdc0b35",
   "metadata": {},
   "outputs": [
    {
     "data": {
      "text/plain": [
       "<keras.callbacks.History at 0x1d3a74e67f0>"
      ]
     },
     "execution_count": 15,
     "metadata": {},
     "output_type": "execute_result"
    }
   ],
   "source": [
    "model.fit(x[:70], x[:70]**2, epochs=100, verbose=0, batch_size=16)# 트레이닝 x, y, verbose=0은 조용함\n",
    "# 한번더 100은 더 똑똑함."
   ]
  },
  {
   "cell_type": "code",
   "execution_count": 16,
   "id": "b6a08cf0-7b14-4e7f-92c7-12953ffd25c9",
   "metadata": {
    "collapsed": true,
    "jupyter": {
     "outputs_hidden": true
    },
    "tags": []
   },
   "outputs": [
    {
     "name": "stdout",
     "output_type": "stream",
     "text": [
      "1/1 [==============================] - 0s 68ms/step\n"
     ]
    },
    {
     "data": {
      "text/plain": [
       "array([[0.31568787],\n",
       "       [0.30178934],\n",
       "       [0.31390217],\n",
       "       [0.31426027],\n",
       "       [0.29212955],\n",
       "       [0.30564687],\n",
       "       [0.3113862 ],\n",
       "       [0.316398  ],\n",
       "       [0.30994576],\n",
       "       [0.290127  ],\n",
       "       [0.32361582],\n",
       "       [0.29774287],\n",
       "       [0.31282538],\n",
       "       [0.3121062 ],\n",
       "       [0.30922595],\n",
       "       [0.31989843],\n",
       "       [0.32024273],\n",
       "       [0.29068795],\n",
       "       [0.32295254],\n",
       "       [0.29974082],\n",
       "       [0.30886632],\n",
       "       [0.31102616],\n",
       "       [0.32092807],\n",
       "       [0.29517165],\n",
       "       [0.2994041 ],\n",
       "       [0.30144474],\n",
       "       [0.2918369 ],\n",
       "       [0.29125795],\n",
       "       [0.32261854],\n",
       "       [0.2974154 ]], dtype=float32)"
      ]
     },
     "execution_count": 16,
     "metadata": {},
     "output_type": "execute_result"
    }
   ],
   "source": [
    "preds=model.predict(x[70:]) # 뒤에 30개의 예측값\n",
    "preds"
   ]
  },
  {
   "cell_type": "code",
   "execution_count": 17,
   "id": "bf1358fd-ebde-4a90-abc8-325ca348053f",
   "metadata": {},
   "outputs": [],
   "source": [
    "#preds(예측치)와 x[:70]**2(실제값)를 비교함 "
   ]
  },
  {
   "cell_type": "code",
   "execution_count": 18,
   "id": "0be6b972-7f14-4804-b1e3-9a6321c94fba",
   "metadata": {},
   "outputs": [
    {
     "data": {
      "text/plain": [
       "16.893841198478896"
      ]
     },
     "execution_count": 18,
     "metadata": {},
     "output_type": "execute_result"
    }
   ],
   "source": [
    "np.sum(np.abs(preds-x[:70]**2))/30 # mae다.  # preds는 제곱된 것이다. "
   ]
  },
  {
   "cell_type": "code",
   "execution_count": 19,
   "id": "2c52c30d-004b-4a6c-9150-12ddb782b672",
   "metadata": {},
   "outputs": [
    {
     "data": {
      "text/plain": [
       "<matplotlib.collections.PathCollection at 0x1d3a85dd790>"
      ]
     },
     "execution_count": 19,
     "metadata": {},
     "output_type": "execute_result"
    },
    {
     "data": {
      "image/png": "[encoded data removed]",
      "text/plain": [
       "<Figure size 360x216 with 1 Axes>"
      ]
     },
     "metadata": {
      "needs_background": "light"
     },
     "output_type": "display_data"
    }
   ],
   "source": [
    "plt.scatter(x[70:], x[70:]**2)"
   ]
  },
  {
   "cell_type": "code",
   "execution_count": 20,
   "id": "0569657a-300d-498b-a9d0-5a214e1bac4a",
   "metadata": {},
   "outputs": [
    {
     "data": {
      "text/plain": [
       "<matplotlib.collections.PathCollection at 0x1d3a864d520>"
      ]
     },
     "execution_count": 20,
     "metadata": {},
     "output_type": "execute_result"
    },
    {
     "data": {
      "image/png": "[encoded data removed]",
      "text/plain": [
       "<Figure size 360x216 with 1 Axes>"
      ]
     },
     "metadata": {
      "needs_background": "light"
     },
     "output_type": "display_data"
    }
   ],
   "source": [
    "plt.scatter(x[70:], x[70:]**2)\n",
    "plt.scatter(x[70:], preds)"
   ]
  },
  {
   "cell_type": "code",
   "execution_count": 56,
   "id": "eaebc68b-e006-43c1-96e0-c3c28017982c",
   "metadata": {},
   "outputs": [],
   "source": [
    "x= np.linspace(-1,1,100)\n",
    "np.random.shuffle(x)\n",
    "\n",
    "\n",
    "model =Sequential()\n",
    "\n",
    "model.add(Input(1)) #  왼쪽에서 오른쪽으로 층을 덧붙임 \n",
    "model.add(Dense(units=10, activation='tanh')) #  Dense는 층이다.\n",
    "model.add(Dense(units=10, activation='tanh'))\n",
    "model.add(Dense(units = 1))\n",
    "\n",
    "model.compile(optimizer='SGD', loss='mse', metrics='mse') #숫자는 정확도 없다.\n"
   ]
  },
  {
   "cell_type": "code",
   "execution_count": 57,
   "id": "c6819cbc-6a6f-4aff-bb42-09007ceb8506",
   "metadata": {},
   "outputs": [
    {
     "data": {
      "text/plain": [
       "<keras.callbacks.History at 0x1d3ae253220>"
      ]
     },
     "execution_count": 57,
     "metadata": {},
     "output_type": "execute_result"
    }
   ],
   "source": [
    "model.fit(x[:70], x[:70]**2, epochs=1000, verbose=0, batch_size=16)# 트레이닝 x, y, verbose=1은 수다스러움\n",
    "           # 제곱한 것을 맞추어서 유자 모양을 하는 것이 목표이다. x= np.linspace(-1,1,100) y = x**2 이게 유자 모양이니까\n"
   ]
  },
  {
   "cell_type": "code",
   "execution_count": 58,
   "id": "ac542889-4a69-4901-bc43-31c4c873e684",
   "metadata": {},
   "outputs": [
    {
     "name": "stdout",
     "output_type": "stream",
     "text": [
      "WARNING:tensorflow:5 out of the last 17 calls to <function Model.make_predict_function.<locals>.predict_function at 0x000001D3AE2DF040> triggered tf.function retracing. Tracing is expensive and the excessive number of tracings could be due to (1) creating @tf.function repeatedly in a loop, (2) passing tensors with different shapes, (3) passing Python objects instead of tensors. For (1), please define your @tf.function outside of the loop. For (2), @tf.function has reduce_retracing=True option that can avoid unnecessary retracing. For (3), please refer to https://www.tensorflow.org/guide/function#controlling_retracing and https://www.tensorflow.org/api_docs/python/tf/function for  more details.\n",
      "1/1 [==============================] - 0s 45ms/step\n"
     ]
    }
   ],
   "source": [
    "preds=model.predict(x[70:]) # 뒤에 30개의 예측값"
   ]
  },
  {
   "cell_type": "code",
   "execution_count": 59,
   "id": "8ca74a7f-04a8-4abf-b60d-08c9350dc7fc",
   "metadata": {},
   "outputs": [
    {
     "data": {
      "text/plain": [
       "<matplotlib.collections.PathCollection at 0x1d3aad0b4c0>"
      ]
     },
     "execution_count": 59,
     "metadata": {},
     "output_type": "execute_result"
    },
    {
     "data": {
      "image/png": "[encoded data removed]",
      "text/plain": [
       "<Figure size 360x216 with 1 Axes>"
      ]
     },
     "metadata": {
      "needs_background": "light"
     },
     "output_type": "display_data"
    }
   ],
   "source": [
    "plt.scatter(x[70:], x[70:]**2)\n",
    "plt.scatter(x[70:], preds)"
   ]
  },
  {
   "cell_type": "code",
   "execution_count": 60,
   "id": "31f8298b-09e1-4a33-a503-d87a5840f27c",
   "metadata": {},
   "outputs": [],
   "source": [
    "x=np.linspace(-1,1,1000)\n",
    "np.random.shuffle(x) # train test split을 한 효과를 봄 \n",
    "\n",
    "model.add(Input(1)) #  왼쪽에서 오른쪽으로 층을 덧붙임 \n",
    "model.add(Dense(units=10, activation='tanh')) # 1을 넣어서 10개로 이어진다. 히든레이어라고 불름\n",
    "model.add(Dense(units=10, activation='tanh')) # tanh조건에 따라 변경됨 히든레이어라고 불름\n",
    "model.add(Dense(units = 1)) # 출력은 다시 1\n",
    "\n",
    "model.compile(optimizer='SGD', loss='mse', metrics='mse') #숫자는 정확도 없다.\n"
   ]
  },
  {
   "cell_type": "code",
   "execution_count": 61,
   "id": "3009c3b2-c239-40d9-b0e2-491298c1d2b6",
   "metadata": {},
   "outputs": [
    {
     "data": {
      "text/plain": [
       "<keras.callbacks.History at 0x1d3aad61f40>"
      ]
     },
     "execution_count": 61,
     "metadata": {},
     "output_type": "execute_result"
    }
   ],
   "source": [
    "n=800 # 전체는 800개지만 들어갈때는 1개씩들어가서 800까까지 나온거를 1000번 트레이닝\n",
    "          # input xtr / output ytr\n",
    "model.fit(x[:n], x[:n]**2, epochs=1000, verbose=0, batch_size=16)# 트레이닝 x, y, verbose=1은 수다스러움\n",
    "# 한번에 800개하는 게 아니라 32개씩 돌아서 함...        # 배치 사이즈가 뭐냐에 따라 다르다 .."
   ]
  },
  {
   "cell_type": "code",
   "execution_count": 62,
   "id": "82f6ec7b-a486-4440-afa8-03a5f1a37b70",
   "metadata": {
    "collapsed": true,
    "jupyter": {
     "outputs_hidden": true
    },
    "tags": []
   },
   "outputs": [
    {
     "name": "stdout",
     "output_type": "stream",
     "text": [
      "7/7 [==============================] - 0s 994us/step\n"
     ]
    },
    {
     "data": {
      "text/plain": [
       "array([[0.4005707 ],\n",
       "       [0.4378653 ],\n",
       "       [0.02590787],\n",
       "       [0.20635411],\n",
       "       [0.7642271 ],\n",
       "       [0.2601375 ],\n",
       "       [0.14867176],\n",
       "       [0.6281771 ],\n",
       "       [0.12379469],\n",
       "       [0.06985912],\n",
       "       [0.09018835],\n",
       "       [0.37283844],\n",
       "       [0.69342834],\n",
       "       [0.641037  ],\n",
       "       [0.06047791],\n",
       "       [0.41635   ],\n",
       "       [0.03784993],\n",
       "       [0.88950264],\n",
       "       [0.57290447],\n",
       "       [0.03215545],\n",
       "       [0.29641896],\n",
       "       [0.8050562 ],\n",
       "       [0.00308228],\n",
       "       [0.05552563],\n",
       "       [0.319323  ],\n",
       "       [0.26164418],\n",
       "       [0.36248207],\n",
       "       [0.73701143],\n",
       "       [0.00576141],\n",
       "       [0.5821787 ],\n",
       "       [0.677868  ],\n",
       "       [0.16951364],\n",
       "       [0.4980194 ],\n",
       "       [0.13074929],\n",
       "       [0.88737184],\n",
       "       [0.00345221],\n",
       "       [0.3699429 ],\n",
       "       [0.7408057 ],\n",
       "       [0.6059175 ],\n",
       "       [0.8613542 ],\n",
       "       [0.0035522 ],\n",
       "       [0.60404   ],\n",
       "       [0.18429327],\n",
       "       [0.15810572],\n",
       "       [0.48072642],\n",
       "       [0.11812764],\n",
       "       [0.10906819],\n",
       "       [0.8564057 ],\n",
       "       [0.37791377],\n",
       "       [0.3551001 ],\n",
       "       [0.3830237 ],\n",
       "       [0.06586173],\n",
       "       [0.74718446],\n",
       "       [0.6249778 ],\n",
       "       [0.928735  ],\n",
       "       [0.583983  ],\n",
       "       [0.14102188],\n",
       "       [0.61859834],\n",
       "       [0.77107346],\n",
       "       [0.44882402],\n",
       "       [0.65509725],\n",
       "       [0.02537495],\n",
       "       [0.28530368],\n",
       "       [0.56368935],\n",
       "       [0.72409797],\n",
       "       [0.01569071],\n",
       "       [0.37496042],\n",
       "       [0.25191376],\n",
       "       [0.10649918],\n",
       "       [0.02044189],\n",
       "       [0.56063086],\n",
       "       [0.45810282],\n",
       "       [0.3649603 ],\n",
       "       [0.8859773 ],\n",
       "       [0.5038445 ],\n",
       "       [0.40117794],\n",
       "       [0.13369545],\n",
       "       [0.12104166],\n",
       "       [0.26850355],\n",
       "       [0.03084481],\n",
       "       [0.5143678 ],\n",
       "       [0.7986152 ],\n",
       "       [0.33106703],\n",
       "       [0.04885632],\n",
       "       [0.98867863],\n",
       "       [0.307759  ],\n",
       "       [0.05767512],\n",
       "       [0.1127416 ],\n",
       "       [0.16916874],\n",
       "       [0.01843852],\n",
       "       [0.00436884],\n",
       "       [0.7813733 ],\n",
       "       [0.01892298],\n",
       "       [0.11832207],\n",
       "       [0.00301144],\n",
       "       [0.07452573],\n",
       "       [0.02362221],\n",
       "       [0.5514961 ],\n",
       "       [0.24183495],\n",
       "       [0.6736102 ],\n",
       "       [0.6421989 ],\n",
       "       [0.7643479 ],\n",
       "       [0.41173875],\n",
       "       [0.00323138],\n",
       "       [0.9248437 ],\n",
       "       [0.10749252],\n",
       "       [0.77110404],\n",
       "       [0.0144107 ],\n",
       "       [0.14401202],\n",
       "       [0.2242534 ],\n",
       "       [0.28785053],\n",
       "       [0.18308343],\n",
       "       [0.3774824 ],\n",
       "       [0.47218353],\n",
       "       [0.35782146],\n",
       "       [0.47787085],\n",
       "       [0.1502223 ],\n",
       "       [0.4405924 ],\n",
       "       [0.05675715],\n",
       "       [0.71343863],\n",
       "       [0.75058436],\n",
       "       [0.33580294],\n",
       "       [0.5777775 ],\n",
       "       [0.05114344],\n",
       "       [0.6942786 ],\n",
       "       [0.69757473],\n",
       "       [0.01993197],\n",
       "       [0.12365121],\n",
       "       [0.56982595],\n",
       "       [0.59776294],\n",
       "       [0.720768  ],\n",
       "       [0.03858465],\n",
       "       [0.8495366 ],\n",
       "       [0.00596896],\n",
       "       [0.00618398],\n",
       "       [0.00346318],\n",
       "       [0.4090858 ],\n",
       "       [0.6572499 ],\n",
       "       [0.22809851],\n",
       "       [0.61350125],\n",
       "       [0.34779745],\n",
       "       [0.03843337],\n",
       "       [0.06488237],\n",
       "       [0.07242075],\n",
       "       [0.04007778],\n",
       "       [0.0371227 ],\n",
       "       [0.04160282],\n",
       "       [0.67689925],\n",
       "       [0.0073716 ],\n",
       "       [0.12940137],\n",
       "       [0.6811408 ],\n",
       "       [0.02255732],\n",
       "       [0.37031403],\n",
       "       [0.5185372 ],\n",
       "       [0.5883933 ],\n",
       "       [0.668079  ],\n",
       "       [0.39797038],\n",
       "       [0.15947655],\n",
       "       [0.07559067],\n",
       "       [0.25600755],\n",
       "       [0.20084941],\n",
       "       [0.21293192],\n",
       "       [0.80846524],\n",
       "       [0.8683788 ],\n",
       "       [0.5155842 ],\n",
       "       [0.9425226 ],\n",
       "       [0.00338095],\n",
       "       [0.6389878 ],\n",
       "       [0.32871243],\n",
       "       [0.31477118],\n",
       "       [0.19476895],\n",
       "       [0.94596815],\n",
       "       [0.00297523],\n",
       "       [0.16753179],\n",
       "       [0.0194149 ],\n",
       "       [0.04066485],\n",
       "       [0.68770075],\n",
       "       [0.2706177 ],\n",
       "       [0.8461045 ],\n",
       "       [0.14856118],\n",
       "       [0.1036447 ],\n",
       "       [0.04219151],\n",
       "       [0.00483501],\n",
       "       [0.24108459],\n",
       "       [0.6103418 ],\n",
       "       [0.38559142],\n",
       "       [0.5364086 ],\n",
       "       [0.18949166],\n",
       "       [0.0053685 ],\n",
       "       [0.01568836],\n",
       "       [0.00620508],\n",
       "       [0.09899077],\n",
       "       [0.880484  ],\n",
       "       [0.00323921],\n",
       "       [0.03932726],\n",
       "       [0.03429377],\n",
       "       [0.00789928],\n",
       "       [0.10022151],\n",
       "       [0.08713561],\n",
       "       [0.390753  ]], dtype=float32)"
      ]
     },
     "execution_count": 62,
     "metadata": {},
     "output_type": "execute_result"
    }
   ],
   "source": [
    "                   #xtest\n",
    "preds=model.predict(x[n:]) # 뒤에 30개의 예측값\n",
    "preds"
   ]
  },
  {
   "cell_type": "code",
   "execution_count": 63,
   "id": "7559441e-9a56-44cc-a65f-d2bd2fb26bf2",
   "metadata": {},
   "outputs": [
    {
     "data": {
      "text/plain": [
       "<matplotlib.collections.PathCollection at 0x1d3b07bc430>"
      ]
     },
     "execution_count": 63,
     "metadata": {},
     "output_type": "execute_result"
    },
    {
     "data": {
      "image/png": "[encoded data removed]",
      "text/plain": [
       "<Figure size 360x216 with 1 Axes>"
      ]
     },
     "metadata": {
      "needs_background": "light"
     },
     "output_type": "display_data"
    }
   ],
   "source": [
    "plt.scatter(x[n:], x[n:]**2)\n",
    "plt.scatter(x[n:], preds)"
   ]
  },
  {
   "cell_type": "code",
   "execution_count": 64,
   "id": "fbe5a728-9a92-40a9-bacd-2a6732ff8055",
   "metadata": {},
   "outputs": [
    {
     "data": {
      "text/plain": [
       "<keras.callbacks.History at 0x1d3b188a850>"
      ]
     },
     "execution_count": 64,
     "metadata": {},
     "output_type": "execute_result"
    }
   ],
   "source": [
    "x=np.linspace(-1,1,1000)\n",
    "np.random.shuffle(x) # train test split을 한 효과를 봄 \n",
    "\n",
    "model.add(Input(1)) #  왼쪽에서 오른쪽으로 층을 덧붙임 \n",
    "model.add(Dense(units=10, activation='tanh')) # 1을 넣어서 10개로 이어진다. 히든레이어라고 불름\n",
    "model.add(Dense(units=10, activation='tanh')) # tanh조건에 따라 변경됨 히든레이어라고 불름\n",
    "model.add(Dense(units = 1)) # 출력은 다시 1\n",
    "\n",
    "model.compile(optimizer='SGD', loss='mse', metrics='mse') #숫자는 정확도 없다.\n",
    "n=800 # 전체는 800개지만 들어갈때는 1개씩들어가서 800까까지 나온거를 1000번 트레이닝\n",
    "          # input xtr / output ytr\n",
    "model.fit(x[:n], x[:n]**2, epochs=1000, verbose=0, batch_size=32)# 트레이닝 x, y, verbose=1은 수다스러움\n",
    "# 한번에 800개하는 게 아니라 32개씩 돌아서 함...       "
   ]
  },
  {
   "cell_type": "code",
   "execution_count": 65,
   "id": "9073470d-e27b-4c05-8031-f1606f6e6539",
   "metadata": {},
   "outputs": [
    {
     "name": "stdout",
     "output_type": "stream",
     "text": [
      "7/7 [==============================] - 0s 949us/step\n"
     ]
    }
   ],
   "source": [
    "                   #xtest\n",
    "preds=model.predict(x[n:]) # 뒤에 30개의 예측값"
   ]
  },
  {
   "cell_type": "code",
   "execution_count": 66,
   "id": "3338cf7b-c141-4e98-b777-ecbb7e1b7aeb",
   "metadata": {},
   "outputs": [
    {
     "data": {
      "text/plain": [
       "<matplotlib.collections.PathCollection at 0x1d3b1923c40>"
      ]
     },
     "execution_count": 66,
     "metadata": {},
     "output_type": "execute_result"
    },
    {
     "data": {
      "image/png": "[encoded data removed]",
      "text/plain": [
       "<Figure size 360x216 with 1 Axes>"
      ]
     },
     "metadata": {
      "needs_background": "light"
     },
     "output_type": "display_data"
    }
   ],
   "source": [
    "plt.scatter(x[n:], x[n:]**2)\n",
    "plt.scatter(x[n:], preds)"
   ]
  },
  {
   "cell_type": "markdown",
   "id": "4ffa0f73-d15d-4403-ae46-0b5318e9e289",
   "metadata": {},
   "source": [
    "# 숫자"
   ]
  },
  {
   "cell_type": "code",
   "execution_count": 94,
   "id": "740d6423-6f06-4c79-bce3-b3eac03542a8",
   "metadata": {},
   "outputs": [],
   "source": [
    "import keras\n",
    "\n",
    "from keras.datasets import mnist\n",
    "\n",
    "(train_images, train_labels),(test_images, test_labels)=mnist.load_data()"
   ]
  },
  {
   "cell_type": "code",
   "execution_count": 98,
   "id": "4f12cff7-2a86-4872-93df-cd16eec7df34",
   "metadata": {},
   "outputs": [
    {
     "data": {
      "text/plain": [
       "array([5, 0, 4, ..., 5, 6, 8], dtype=uint8)"
      ]
     },
     "execution_count": 98,
     "metadata": {},
     "output_type": "execute_result"
    }
   ],
   "source": [
    "train_labels"
   ]
  },
  {
   "cell_type": "code",
   "execution_count": 100,
   "id": "b2357656-b5d7-4f79-8daf-48a367094596",
   "metadata": {},
   "outputs": [
    {
     "data": {
      "text/plain": [
       "(10000,)"
      ]
     },
     "execution_count": 100,
     "metadata": {},
     "output_type": "execute_result"
    }
   ],
   "source": [
    "test_labels.shape"
   ]
  },
  {
   "cell_type": "code",
   "execution_count": 101,
   "id": "f80e2c0e-0741-4fe0-ad9b-00d11ab20de4",
   "metadata": {},
   "outputs": [
    {
     "data": {
      "text/plain": [
       "7"
      ]
     },
     "execution_count": 101,
     "metadata": {},
     "output_type": "execute_result"
    }
   ],
   "source": [
    "test_labels[0]"
   ]
  },
  {
   "cell_type": "code",
   "execution_count": 102,
   "id": "58cfa043-889f-46f3-b741-9c10c77df36b",
   "metadata": {
    "collapsed": true,
    "jupyter": {
     "outputs_hidden": true
    },
    "tags": []
   },
   "outputs": [
    {
     "data": {
      "text/plain": [
       "array([[  0,   0,   0,   0,   0,   0,   0,   0,   0,   0,   0,   0,   0,   0,   0,   0,   0,   0,   0,   0,   0,   0,   0,   0,   0,   0,   0,   0],\n",
       "       [  0,   0,   0,   0,   0,   0,   0,   0,   0,   0,   0,   0,   0,   0,   0,   0,   0,   0,   0,   0,   0,   0,   0,   0,   0,   0,   0,   0],\n",
       "       [  0,   0,   0,   0,   0,   0,   0,   0,   0,   0,   0,   0,   0,   0,   0,   0,   0,   0,   0,   0,   0,   0,   0,   0,   0,   0,   0,   0],\n",
       "       [  0,   0,   0,   0,   0,   0,   0,   0,   0,   0,   0,   0,   0,   0,   0,   0,   0,   0,   0,   0,   0,   0,   0,   0,   0,   0,   0,   0],\n",
       "       [  0,   0,   0,   0,   0,   0,   0,   0,   0,   0,   0,   0,   0,   0,   0,   0,   0,   0,   0,   0,   0,   0,   0,   0,   0,   0,   0,   0],\n",
       "       [  0,   0,   0,   0,   0,   0,   0,   0,   0,   0,   0,   0,   0,   0,   0,   0,   0,   0,   0,   0,   0,   0,   0,   0,   0,   0,   0,   0],\n",
       "       [  0,   0,   0,   0,   0,   0,   0,   0,   0,   0,   0,   0,   0,   0,   0,   0,   0,   0,   0,   0,   0,   0,   0,   0,   0,   0,   0,   0],\n",
       "       [  0,   0,   0,   0,   0,   0,  84, 185, 159, 151,  60,  36,   0,   0,   0,   0,   0,   0,   0,   0,   0,   0,   0,   0,   0,   0,   0,   0],\n",
       "       [  0,   0,   0,   0,   0,   0, 222, 254, 254, 254, 254, 241, 198, 198, 198, 198, 198, 198, 198, 198, 170,  52,   0,   0,   0,   0,   0,   0],\n",
       "       [  0,   0,   0,   0,   0,   0,  67, 114,  72, 114, 163, 227, 254, 225, 254, 254, 254, 250, 229, 254, 254, 140,   0,   0,   0,   0,   0,   0],\n",
       "       [  0,   0,   0,   0,   0,   0,   0,   0,   0,   0,   0,  17,  66,  14,  67,  67,  67,  59,  21, 236, 254, 106,   0,   0,   0,   0,   0,   0],\n",
       "       [  0,   0,   0,   0,   0,   0,   0,   0,   0,   0,   0,   0,   0,   0,   0,   0,   0,   0,  83, 253, 209,  18,   0,   0,   0,   0,   0,   0],\n",
       "       [  0,   0,   0,   0,   0,   0,   0,   0,   0,   0,   0,   0,   0,   0,   0,   0,   0,  22, 233, 255,  83,   0,   0,   0,   0,   0,   0,   0],\n",
       "       [  0,   0,   0,   0,   0,   0,   0,   0,   0,   0,   0,   0,   0,   0,   0,   0,   0, 129, 254, 238,  44,   0,   0,   0,   0,   0,   0,   0],\n",
       "       [  0,   0,   0,   0,   0,   0,   0,   0,   0,   0,   0,   0,   0,   0,   0,   0,  59, 249, 254,  62,   0,   0,   0,   0,   0,   0,   0,   0],\n",
       "       [  0,   0,   0,   0,   0,   0,   0,   0,   0,   0,   0,   0,   0,   0,   0,   0, 133, 254, 187,   5,   0,   0,   0,   0,   0,   0,   0,   0],\n",
       "       [  0,   0,   0,   0,   0,   0,   0,   0,   0,   0,   0,   0,   0,   0,   0,   9, 205, 248,  58,   0,   0,   0,   0,   0,   0,   0,   0,   0],\n",
       "       [  0,   0,   0,   0,   0,   0,   0,   0,   0,   0,   0,   0,   0,   0,   0, 126, 254, 182,   0,   0,   0,   0,   0,   0,   0,   0,   0,   0],\n",
       "       [  0,   0,   0,   0,   0,   0,   0,   0,   0,   0,   0,   0,   0,   0,  75, 251, 240,  57,   0,   0,   0,   0,   0,   0,   0,   0,   0,   0],\n",
       "       [  0,   0,   0,   0,   0,   0,   0,   0,   0,   0,   0,   0,   0,  19, 221, 254, 166,   0,   0,   0,   0,   0,   0,   0,   0,   0,   0,   0],\n",
       "       [  0,   0,   0,   0,   0,   0,   0,   0,   0,   0,   0,   0,   3, 203, 254, 219,  35,   0,   0,   0,   0,   0,   0,   0,   0,   0,   0,   0],\n",
       "       [  0,   0,   0,   0,   0,   0,   0,   0,   0,   0,   0,   0,  38, 254, 254,  77,   0,   0,   0,   0,   0,   0,   0,   0,   0,   0,   0,   0],\n",
       "       [  0,   0,   0,   0,   0,   0,   0,   0,   0,   0,   0,  31, 224, 254, 115,   1,   0,   0,   0,   0,   0,   0,   0,   0,   0,   0,   0,   0],\n",
       "       [  0,   0,   0,   0,   0,   0,   0,   0,   0,   0,   0, 133, 254, 254,  52,   0,   0,   0,   0,   0,   0,   0,   0,   0,   0,   0,   0,   0],\n",
       "       [  0,   0,   0,   0,   0,   0,   0,   0,   0,   0,  61, 242, 254, 254,  52,   0,   0,   0,   0,   0,   0,   0,   0,   0,   0,   0,   0,   0],\n",
       "       [  0,   0,   0,   0,   0,   0,   0,   0,   0,   0, 121, 254, 254, 219,  40,   0,   0,   0,   0,   0,   0,   0,   0,   0,   0,   0,   0,   0],\n",
       "       [  0,   0,   0,   0,   0,   0,   0,   0,   0,   0, 121, 254, 207,  18,   0,   0,   0,   0,   0,   0,   0,   0,   0,   0,   0,   0,   0,   0],\n",
       "       [  0,   0,   0,   0,   0,   0,   0,   0,   0,   0,   0,   0,   0,   0,   0,   0,   0,   0,   0,   0,   0,   0,   0,   0,   0,   0,   0,   0]], dtype=uint8)"
      ]
     },
     "execution_count": 102,
     "metadata": {},
     "output_type": "execute_result"
    }
   ],
   "source": [
    "test_images[0]"
   ]
  },
  {
   "cell_type": "code",
   "execution_count": 71,
   "id": "a8a376b0-ced8-4f59-8f3b-b1e82c5281bd",
   "metadata": {
    "tags": []
   },
   "outputs": [
    {
     "data": {
      "text/plain": [
       "array([[  0,   0,   0,   0,   0,   0,   0,   0,   0,   0,   0,   0,   0,\n",
       "          0,   0,   0,   0,   0,   0,   0,   0,   0,   0,   0,   0,   0,\n",
       "          0,   0],\n",
       "       [  0,   0,   0,   0,   0,   0,   0,   0,   0,   0,   0,   0,   0,\n",
       "          0,   0,   0,   0,   0,   0,   0,   0,   0,   0,   0,   0,   0,\n",
       "          0,   0],\n",
       "       [  0,   0,   0,   0,   0,   0,   0,   0,   0,   0,   0,   0,   0,\n",
       "          0,   0,   0,   0,   0,   0,   0,   0,   0,   0,   0,   0,   0,\n",
       "          0,   0],\n",
       "       [  0,   0,   0,   0,   0,   0,   0,   0,   0,   0,   0,   0,   0,\n",
       "          0,   0,   0,   0,   0,   0,   0,   0,   0,   0,   0,   0,   0,\n",
       "          0,   0],\n",
       "       [  0,   0,   0,   0,   0,   0,   0,   0,   0,   0,   0,   0,   0,\n",
       "          0,   0,   0,   0,   0,   0,   0,   0,   0,   0,   0,   0,   0,\n",
       "          0,   0],\n",
       "       [  0,   0,   0,   0,   0,   0,   0,   0,   0,   0,   0,   0,   3,\n",
       "         18,  18,  18, 126, 136, 175,  26, 166, 255, 247, 127,   0,   0,\n",
       "          0,   0],\n",
       "       [  0,   0,   0,   0,   0,   0,   0,   0,  30,  36,  94, 154, 170,\n",
       "        253, 253, 253, 253, 253, 225, 172, 253, 242, 195,  64,   0,   0,\n",
       "          0,   0],\n",
       "       [  0,   0,   0,   0,   0,   0,   0,  49, 238, 253, 253, 253, 253,\n",
       "        253, 253, 253, 253, 251,  93,  82,  82,  56,  39,   0,   0,   0,\n",
       "          0,   0],\n",
       "       [  0,   0,   0,   0,   0,   0,   0,  18, 219, 253, 253, 253, 253,\n",
       "        253, 198, 182, 247, 241,   0,   0,   0,   0,   0,   0,   0,   0,\n",
       "          0,   0],\n",
       "       [  0,   0,   0,   0,   0,   0,   0,   0,  80, 156, 107, 253, 253,\n",
       "        205,  11,   0,  43, 154,   0,   0,   0,   0,   0,   0,   0,   0,\n",
       "          0,   0],\n",
       "       [  0,   0,   0,   0,   0,   0,   0,   0,   0,  14,   1, 154, 253,\n",
       "         90,   0,   0,   0,   0,   0,   0,   0,   0,   0,   0,   0,   0,\n",
       "          0,   0],\n",
       "       [  0,   0,   0,   0,   0,   0,   0,   0,   0,   0,   0, 139, 253,\n",
       "        190,   2,   0,   0,   0,   0,   0,   0,   0,   0,   0,   0,   0,\n",
       "          0,   0],\n",
       "       [  0,   0,   0,   0,   0,   0,   0,   0,   0,   0,   0,  11, 190,\n",
       "        253,  70,   0,   0,   0,   0,   0,   0,   0,   0,   0,   0,   0,\n",
       "          0,   0],\n",
       "       [  0,   0,   0,   0,   0,   0,   0,   0,   0,   0,   0,   0,  35,\n",
       "        241, 225, 160, 108,   1,   0,   0,   0,   0,   0,   0,   0,   0,\n",
       "          0,   0],\n",
       "       [  0,   0,   0,   0,   0,   0,   0,   0,   0,   0,   0,   0,   0,\n",
       "         81, 240, 253, 253, 119,  25,   0,   0,   0,   0,   0,   0,   0,\n",
       "          0,   0],\n",
       "       [  0,   0,   0,   0,   0,   0,   0,   0,   0,   0,   0,   0,   0,\n",
       "          0,  45, 186, 253, 253, 150,  27,   0,   0,   0,   0,   0,   0,\n",
       "          0,   0],\n",
       "       [  0,   0,   0,   0,   0,   0,   0,   0,   0,   0,   0,   0,   0,\n",
       "          0,   0,  16,  93, 252, 253, 187,   0,   0,   0,   0,   0,   0,\n",
       "          0,   0],\n",
       "       [  0,   0,   0,   0,   0,   0,   0,   0,   0,   0,   0,   0,   0,\n",
       "          0,   0,   0,   0, 249, 253, 249,  64,   0,   0,   0,   0,   0,\n",
       "          0,   0],\n",
       "       [  0,   0,   0,   0,   0,   0,   0,   0,   0,   0,   0,   0,   0,\n",
       "          0,  46, 130, 183, 253, 253, 207,   2,   0,   0,   0,   0,   0,\n",
       "          0,   0],\n",
       "       [  0,   0,   0,   0,   0,   0,   0,   0,   0,   0,   0,   0,  39,\n",
       "        148, 229, 253, 253, 253, 250, 182,   0,   0,   0,   0,   0,   0,\n",
       "          0,   0],\n",
       "       [  0,   0,   0,   0,   0,   0,   0,   0,   0,   0,  24, 114, 221,\n",
       "        253, 253, 253, 253, 201,  78,   0,   0,   0,   0,   0,   0,   0,\n",
       "          0,   0],\n",
       "       [  0,   0,   0,   0,   0,   0,   0,   0,  23,  66, 213, 253, 253,\n",
       "        253, 253, 198,  81,   2,   0,   0,   0,   0,   0,   0,   0,   0,\n",
       "          0,   0],\n",
       "       [  0,   0,   0,   0,   0,   0,  18, 171, 219, 253, 253, 253, 253,\n",
       "        195,  80,   9,   0,   0,   0,   0,   0,   0,   0,   0,   0,   0,\n",
       "          0,   0],\n",
       "       [  0,   0,   0,   0,  55, 172, 226, 253, 253, 253, 253, 244, 133,\n",
       "         11,   0,   0,   0,   0,   0,   0,   0,   0,   0,   0,   0,   0,\n",
       "          0,   0],\n",
       "       [  0,   0,   0,   0, 136, 253, 253, 253, 212, 135, 132,  16,   0,\n",
       "          0,   0,   0,   0,   0,   0,   0,   0,   0,   0,   0,   0,   0,\n",
       "          0,   0],\n",
       "       [  0,   0,   0,   0,   0,   0,   0,   0,   0,   0,   0,   0,   0,\n",
       "          0,   0,   0,   0,   0,   0,   0,   0,   0,   0,   0,   0,   0,\n",
       "          0,   0],\n",
       "       [  0,   0,   0,   0,   0,   0,   0,   0,   0,   0,   0,   0,   0,\n",
       "          0,   0,   0,   0,   0,   0,   0,   0,   0,   0,   0,   0,   0,\n",
       "          0,   0],\n",
       "       [  0,   0,   0,   0,   0,   0,   0,   0,   0,   0,   0,   0,   0,\n",
       "          0,   0,   0,   0,   0,   0,   0,   0,   0,   0,   0,   0,   0,\n",
       "          0,   0]], dtype=uint8)"
      ]
     },
     "execution_count": 71,
     "metadata": {},
     "output_type": "execute_result"
    }
   ],
   "source": [
    "train_images[0]"
   ]
  },
  {
   "cell_type": "code",
   "execution_count": 72,
   "id": "745879a6-8d49-4362-b46a-3b2b9e64faf6",
   "metadata": {},
   "outputs": [
    {
     "data": {
      "text/plain": [
       "(28, 28)"
      ]
     },
     "execution_count": 72,
     "metadata": {},
     "output_type": "execute_result"
    }
   ],
   "source": [
    "train_images[0].shape#1개만 가져옴"
   ]
  },
  {
   "cell_type": "code",
   "execution_count": 73,
   "id": "c33fd934-2fd0-4dea-a046-288ed4fc7a0f",
   "metadata": {
    "collapsed": true,
    "jupyter": {
     "outputs_hidden": true
    },
    "tags": []
   },
   "outputs": [
    {
     "data": {
      "text/plain": [
       "array([[  0,   0,   0,   0,   0,   0,   0,   0,   0,   0,   0,   0,   0,\n",
       "          0,   0,   0,   0,   0,   0,   0,   0,   0,   0,   0,   0,   0,\n",
       "          0,   0],\n",
       "       [  0,   0,   0,   0,   0,   0,   0,   0,   0,   0,   0,   0,   0,\n",
       "          0,   0,   0,   0,   0,   0,   0,   0,   0,   0,   0,   0,   0,\n",
       "          0,   0],\n",
       "       [  0,   0,   0,   0,   0,   0,   0,   0,   0,   0,   0,   0,   0,\n",
       "          0,   0,   0,   0,   0,   0,   0,   0,   0,   0,   0,   0,   0,\n",
       "          0,   0],\n",
       "       [  0,   0,   0,   0,   0,   0,   0,   0,   0,   0,   0,   0,   0,\n",
       "          0,   0,   0,   0,   0,   0,   0,   0,   0,   0,   0,   0,   0,\n",
       "          0,   0],\n",
       "       [  0,   0,   0,   0,   0,   0,   0,   0,   0,   0,   0,   0,   0,\n",
       "          0,   0,   0,   0,   0,   0,   0,   0,   0,   0,   0,   0,   0,\n",
       "          0,   0],\n",
       "       [  0,   0,   0,   0,   0,   0,   0,   0,   0,   0,   0,   0,   0,\n",
       "          0,   0,   0,   0,   0,   0,   0,   0,   0,   0,   0,   0,   0,\n",
       "          0,   0],\n",
       "       [  0,   0,   0,   0,   0,   0,   0,   0,   0,   0,   0,   0,   0,\n",
       "        128, 128, 255, 255, 255, 191,  64,   0,   0,   0,   0,   0,   0,\n",
       "          0,   0],\n",
       "       [  0,   0,   0,   0,   0,   0,   0,   0,   0,   0,   0, 128, 255,\n",
       "        255, 255, 255, 255, 255, 255, 255, 128,   0,   0,   0,   0,   0,\n",
       "          0,   0],\n",
       "       [  0,   0,   0,   0,   0,   0,   0,   0,   0,   0, 191, 255, 255,\n",
       "        255, 255, 255, 255, 255, 255, 255, 255,   0,   0,   0,   0,   0,\n",
       "          0,   0],\n",
       "       [  0,   0,   0,   0,   0,   0,   0,   0,   0, 255, 255, 255, 255,\n",
       "        255, 128,  64,  64,  64, 255, 255, 255,  64,   0,   0,   0,   0,\n",
       "          0,   0],\n",
       "       [  0,   0,   0,   0,   0,   0,   0,  64, 191, 255, 255, 255,  64,\n",
       "          0,   0,   0,   0,   0, 255, 255, 255,   0,   0,   0,   0,   0,\n",
       "          0,   0],\n",
       "       [  0,   0,   0,   0,   0,   0,   0, 128, 255, 255, 255,  64,   0,\n",
       "          0,   0,   0,   0,  64, 255, 255, 255, 128,   0,   0,   0,   0,\n",
       "          0,   0],\n",
       "       [  0,   0,   0,   0,   0,   0,   0, 128, 255, 255, 255, 191,   0,\n",
       "          0,   0,   0,  64, 255, 255, 255, 255, 191,   0,   0,   0,   0,\n",
       "          0,   0],\n",
       "       [  0,   0,   0,   0,   0,   0,   0,  64, 255, 255, 255, 255, 255,\n",
       "        255, 128, 128, 255, 255, 255, 255, 255,   0,   0,   0,   0,   0,\n",
       "          0,   0],\n",
       "       [  0,   0,   0,   0,   0,   0,   0,   0,  64, 255, 255, 255, 255,\n",
       "        255, 255, 255, 255, 255, 255, 255,  64,   0,   0,   0,   0,   0,\n",
       "          0,   0],\n",
       "       [  0,   0,   0,   0,   0,   0,   0,   0,   0,   0, 191, 255, 255,\n",
       "        255, 255, 255, 255, 255, 255, 191,   0,   0,   0,   0,   0,   0,\n",
       "          0,   0],\n",
       "       [  0,   0,   0,   0,   0,   0,   0,   0,   0,   0,   0,   0,  64,\n",
       "        128, 191, 255, 255, 255, 255, 128,   0,   0,   0,   0,   0,   0,\n",
       "          0,   0],\n",
       "       [  0,   0,   0,   0,   0,   0,   0,   0,   0,   0,   0,   0,   0,\n",
       "         64, 255, 255, 255, 255, 191,   0,   0,   0,   0,   0,   0,   0,\n",
       "          0,   0],\n",
       "       [  0,   0,   0,   0,   0,   0,   0,   0,   0,   0,   0,   0,   0,\n",
       "        191, 255, 255, 255, 255,   0,   0,   0,   0,   0,   0,   0,   0,\n",
       "          0,   0],\n",
       "       [  0,   0,   0,   0,   0,   0,   0,   0,   0,   0,   0,   0, 191,\n",
       "        255, 255, 255, 255, 128,   0,   0,   0,   0,   0,   0,   0,   0,\n",
       "          0,   0],\n",
       "       [  0,   0,   0,   0,   0,   0,   0,   0,   0,   0,   0,  64, 255,\n",
       "        255, 255, 255, 128,   0,   0,   0,   0,   0,   0,   0,   0,   0,\n",
       "          0,   0],\n",
       "       [  0,   0,   0,   0,   0,   0,   0,   0,   0,   0,   0, 255, 255,\n",
       "        255, 255, 255,  64,   0,   0,   0,   0,   0,   0,   0,   0,   0,\n",
       "          0,   0],\n",
       "       [  0,   0,   0,   0,   0,   0,   0,   0,   0,   0, 128, 255, 255,\n",
       "        255, 255,  64,   0,   0,   0,   0,   0,   0,   0,   0,   0,   0,\n",
       "          0,   0],\n",
       "       [  0,   0,   0,   0,   0,   0,   0,   0,   0,   0, 191, 255, 255,\n",
       "        255, 128,   0,   0,   0,   0,   0,   0,   0,   0,   0,   0,   0,\n",
       "          0,   0],\n",
       "       [  0,   0,   0,   0,   0,   0,   0,   0,   0,   0, 128, 255, 255,\n",
       "        191,   0,   0,   0,   0,   0,   0,   0,   0,   0,   0,   0,   0,\n",
       "          0,   0],\n",
       "       [  0,   0,   0,   0,   0,   0,   0,   0,   0,   0,  64, 255, 255,\n",
       "        128,   0,   0,   0,   0,   0,   0,   0,   0,   0,   0,   0,   0,\n",
       "          0,   0],\n",
       "       [  0,   0,   0,   0,   0,   0,   0,   0,   0,   0,   0,   0,   0,\n",
       "          0,   0,   0,   0,   0,   0,   0,   0,   0,   0,   0,   0,   0,\n",
       "          0,   0],\n",
       "       [  0,   0,   0,   0,   0,   0,   0,   0,   0,   0,   0,   0,   0,\n",
       "          0,   0,   0,   0,   0,   0,   0,   0,   0,   0,   0,   0,   0,\n",
       "          0,   0]], dtype=uint8)"
      ]
     },
     "execution_count": 73,
     "metadata": {},
     "output_type": "execute_result"
    }
   ],
   "source": [
    "train_images[5999]"
   ]
  },
  {
   "cell_type": "code",
   "execution_count": 74,
   "id": "1c90cd67-2ce6-4e7e-852a-5185b75d0ce4",
   "metadata": {},
   "outputs": [
    {
     "data": {
      "text/plain": [
       "(60000, 28, 28)"
      ]
     },
     "execution_count": 74,
     "metadata": {},
     "output_type": "execute_result"
    }
   ],
   "source": [
    "train_images.shape # 데이터개수, 세로크기, 가로크기"
   ]
  },
  {
   "cell_type": "code",
   "execution_count": 75,
   "id": "ac28e70b-c5cf-4c85-8508-9faeffc4116a",
   "metadata": {},
   "outputs": [
    {
     "data": {
      "text/plain": [
       "(60000,)"
      ]
     },
     "execution_count": 75,
     "metadata": {},
     "output_type": "execute_result"
    }
   ],
   "source": [
    "train_labels.shape"
   ]
  },
  {
   "cell_type": "code",
   "execution_count": 76,
   "id": "038c1b26-d84f-4ec5-a5bb-6e0dbb03e868",
   "metadata": {
    "tags": []
   },
   "outputs": [
    {
     "name": "stdout",
     "output_type": "stream",
     "text": [
      "[[  0   0   0   0   0   0   0   0   0   0   0   0   0   0   0   0   0   0   0   0   0   0   0   0   0   0   0   0]\n",
      " [  0   0   0   0   0   0   0   0   0   0   0   0   0   0   0   0   0   0   0   0   0   0   0   0   0   0   0   0]\n",
      " [  0   0   0   0   0   0   0   0   0   0   0   0   0   0   0   0   0   0   0   0   0   0   0   0   0   0   0   0]\n",
      " [  0   0   0   0   0   0   0   0   0   0   0   0   0   0   0   0   0   0   0   0   0   0   0   0   0   0   0   0]\n",
      " [  0   0   0   0   0   0   0   0   0   0   0   0   0   0   0   0   0   0   0   0   0   0   0   0   0   0   0   0]\n",
      " [  0   0   0   0   0   0   0   0   0   0   0   0   3  18  18  18 126 136 175  26 166 255 247 127   0   0   0   0]\n",
      " [  0   0   0   0   0   0   0   0  30  36  94 154 170 253 253 253 253 253 225 172 253 242 195  64   0   0   0   0]\n",
      " [  0   0   0   0   0   0   0  49 238 253 253 253 253 253 253 253 253 251  93  82  82  56  39   0   0   0   0   0]\n",
      " [  0   0   0   0   0   0   0  18 219 253 253 253 253 253 198 182 247 241   0   0   0   0   0   0   0   0   0   0]\n",
      " [  0   0   0   0   0   0   0   0  80 156 107 253 253 205  11   0  43 154   0   0   0   0   0   0   0   0   0   0]\n",
      " [  0   0   0   0   0   0   0   0   0  14   1 154 253  90   0   0   0   0   0   0   0   0   0   0   0   0   0   0]\n",
      " [  0   0   0   0   0   0   0   0   0   0   0 139 253 190   2   0   0   0   0   0   0   0   0   0   0   0   0   0]\n",
      " [  0   0   0   0   0   0   0   0   0   0   0  11 190 253  70   0   0   0   0   0   0   0   0   0   0   0   0   0]\n",
      " [  0   0   0   0   0   0   0   0   0   0   0   0  35 241 225 160 108   1   0   0   0   0   0   0   0   0   0   0]\n",
      " [  0   0   0   0   0   0   0   0   0   0   0   0   0  81 240 253 253 119  25   0   0   0   0   0   0   0   0   0]\n",
      " [  0   0   0   0   0   0   0   0   0   0   0   0   0   0  45 186 253 253 150  27   0   0   0   0   0   0   0   0]\n",
      " [  0   0   0   0   0   0   0   0   0   0   0   0   0   0   0  16  93 252 253 187   0   0   0   0   0   0   0   0]\n",
      " [  0   0   0   0   0   0   0   0   0   0   0   0   0   0   0   0   0 249 253 249  64   0   0   0   0   0   0   0]\n",
      " [  0   0   0   0   0   0   0   0   0   0   0   0   0   0  46 130 183 253 253 207   2   0   0   0   0   0   0   0]\n",
      " [  0   0   0   0   0   0   0   0   0   0   0   0  39 148 229 253 253 253 250 182   0   0   0   0   0   0   0   0]\n",
      " [  0   0   0   0   0   0   0   0   0   0  24 114 221 253 253 253 253 201  78   0   0   0   0   0   0   0   0   0]\n",
      " [  0   0   0   0   0   0   0   0  23  66 213 253 253 253 253 198  81   2   0   0   0   0   0   0   0   0   0   0]\n",
      " [  0   0   0   0   0   0  18 171 219 253 253 253 253 195  80   9   0   0   0   0   0   0   0   0   0   0   0   0]\n",
      " [  0   0   0   0  55 172 226 253 253 253 253 244 133  11   0   0   0   0   0   0   0   0   0   0   0   0   0   0]\n",
      " [  0   0   0   0 136 253 253 253 212 135 132  16   0   0   0   0   0   0   0   0   0   0   0   0   0   0   0   0]\n",
      " [  0   0   0   0   0   0   0   0   0   0   0   0   0   0   0   0   0   0   0   0   0   0   0   0   0   0   0   0]\n",
      " [  0   0   0   0   0   0   0   0   0   0   0   0   0   0   0   0   0   0   0   0   0   0   0   0   0   0   0   0]\n",
      " [  0   0   0   0   0   0   0   0   0   0   0   0   0   0   0   0   0   0   0   0   0   0   0   0   0   0   0   0]]\n"
     ]
    }
   ],
   "source": [
    "np.set_printoptions(linewidth=28*28)\n",
    "print(train_images[0])"
   ]
  },
  {
   "cell_type": "code",
   "execution_count": 77,
   "id": "8a1fb3d3-2a9a-4e51-b9d4-9b03baefa721",
   "metadata": {},
   "outputs": [
    {
     "data": {
      "image/png": "[encoded data removed]",
      "text/plain": [
       "<Figure size 360x216 with 1 Axes>"
      ]
     },
     "metadata": {
      "needs_background": "light"
     },
     "output_type": "display_data"
    }
   ],
   "source": [
    "plt.imshow(train_images[0], cmap=\"gray\"); "
   ]
  },
  {
   "cell_type": "code",
   "execution_count": 78,
   "id": "63a7718e-0ac1-441b-a184-a29b602472bf",
   "metadata": {},
   "outputs": [],
   "source": [
    "from keras.layers import Dense"
   ]
  },
  {
   "cell_type": "code",
   "execution_count": 79,
   "id": "a7e217e7-8a56-488d-aea7-7dc5ff485f43",
   "metadata": {},
   "outputs": [],
   "source": [
    "# 딥러닝은 소수로 하는게 훨씬 부담이 덜 함 0과 1사이 숫자로 바뀜\n",
    "train_images=train_images.reshape(60000, 28*28) # 3차원 자료를 한줄로 세움 \n",
    "train_images=train_images/255.0 #각각의 숫자의 음영이 255까지 있음\n",
    "\n",
    "test_images=test_images.reshape(10000, 28*28) # 3차원 자료를 한줄로 세움  #1장이 784의 속성이 들어감 \n",
    "test_images=test_images/255.0                                             # 1장씩 총 60000만개 들어감 \n",
    "                                                                          # 128장의 사진을 한장을 한방에\n",
    "                                                                          #훅 넣은 128개를 순간 훅 처리가 \n",
    "                                                    # 되서 한방에 128장이 처리됨 "
   ]
  },
  {
   "cell_type": "code",
   "execution_count": 81,
   "id": "f1d9aa6e-cc33-4094-b13b-6e4e01b955b2",
   "metadata": {},
   "outputs": [],
   "source": [
    "model = Sequential()\n",
    "model.add(Dense(512, activation='relu'))\n",
    "model.add(Dense(10, activation='softmax'))\n",
    "\n",
    "# 512개의 층을 통과하여 600000, 784개의 속성이 10게로 바꿔져서 나온다.\n",
    "\n",
    "model.compile(optimizer='rmsprop', loss='sparse_categorical_crossentropy', metrics='acc')"
   ]
  },
  {
   "cell_type": "code",
   "execution_count": 84,
   "id": "e596dc41-1882-4e62-a388-79c4c90276e8",
   "metadata": {},
   "outputs": [
    {
     "data": {
      "text/plain": [
       "(60000, 784)"
      ]
     },
     "execution_count": 84,
     "metadata": {},
     "output_type": "execute_result"
    }
   ],
   "source": [
    "train_images.shape"
   ]
  },
  {
   "cell_type": "code",
   "execution_count": 85,
   "id": "5c4217ef-6560-4700-b79c-77fb6b3aa8db",
   "metadata": {},
   "outputs": [
    {
     "data": {
      "text/plain": [
       "(60000,)"
      ]
     },
     "execution_count": 85,
     "metadata": {},
     "output_type": "execute_result"
    }
   ],
   "source": [
    "train_labels.shape"
   ]
  },
  {
   "cell_type": "code",
   "execution_count": 105,
   "id": "3527b60c-d9e1-4941-92f9-b4fff2433c28",
   "metadata": {},
   "outputs": [
    {
     "data": {
      "text/plain": [
       "5"
      ]
     },
     "execution_count": 105,
     "metadata": {},
     "output_type": "execute_result"
    }
   ],
   "source": [
    "train_labels[0]"
   ]
  },
  {
   "cell_type": "code",
   "execution_count": 86,
   "id": "b71ff50c-1333-433f-b0f2-c2ab7769039d",
   "metadata": {
    "tags": []
   },
   "outputs": [
    {
     "name": "stdout",
     "output_type": "stream",
     "text": [
      "Epoch 1/5\n",
      "469/469 [==============================] - 3s 5ms/step - loss: 0.2584 - acc: 0.9253\n",
      "Epoch 2/5\n",
      "469/469 [==============================] - 2s 5ms/step - loss: 0.1038 - acc: 0.9691\n",
      "Epoch 3/5\n",
      "469/469 [==============================] - 2s 4ms/step - loss: 0.0688 - acc: 0.9796\n",
      "Epoch 4/5\n",
      "469/469 [==============================] - 2s 5ms/step - loss: 0.0494 - acc: 0.9853\n",
      "Epoch 5/5\n",
      "469/469 [==============================] - 2s 4ms/step - loss: 0.0375 - acc: 0.9886\n"
     ]
    },
    {
     "data": {
      "text/plain": [
       "<keras.callbacks.History at 0x1d3af57af40>"
      ]
     },
     "execution_count": 86,
     "metadata": {},
     "output_type": "execute_result"
    }
   ],
   "source": [
    "model.fit(train_images, train_labels, epochs=5, batch_size=128) \n",
    "# batch_size 128개를  한묶음씩 해서 총 469묶음이 나온다. 1 에포크에 469세트를 돌린다.\n",
    "# 5 에포크를 하면 총 60000*5 의 데이터를 검증한다.\n",
    "# 784개의 데이터 중에서 512개만 랜덤으로 뽑아서 추출하니 300000이라는 숫자는 과대적합이 아니다.\n",
    "# 469이터레이터이다. "
   ]
  },
  {
   "cell_type": "code",
   "execution_count": 5,
   "id": "cd9a2261-cfd3-4799-bbda-4b4128753243",
   "metadata": {},
   "outputs": [
    {
     "data": {
      "text/plain": [
       "300000.0"
      ]
     },
     "execution_count": 5,
     "metadata": {},
     "output_type": "execute_result"
    }
   ],
   "source": [
    "5*468.75*128"
   ]
  },
  {
   "cell_type": "code",
   "execution_count": 3,
   "id": "2af0b715-1678-4eb3-9436-193833fa9fd2",
   "metadata": {},
   "outputs": [
    {
     "data": {
      "text/plain": [
       "2345"
      ]
     },
     "execution_count": 3,
     "metadata": {},
     "output_type": "execute_result"
    }
   ],
   "source": [
    "469*5# 128개의 데이터가 "
   ]
  },
  {
   "cell_type": "code",
   "execution_count": 83,
   "id": "7248e4df-1ae1-4a28-9bb4-cfd738f1a8c9",
   "metadata": {},
   "outputs": [
    {
     "data": {
      "text/plain": [
       "468.75"
      ]
     },
     "execution_count": 83,
     "metadata": {},
     "output_type": "execute_result"
    }
   ],
   "source": [
    "60000/128 # 나머지 0.75도 한묶음 쳐서 469묶음 "
   ]
  },
  {
   "cell_type": "code",
   "execution_count": 87,
   "id": "da152a80-1776-4040-8e1b-cb896ae3e4db",
   "metadata": {},
   "outputs": [
    {
     "name": "stdout",
     "output_type": "stream",
     "text": [
      "313/313 [==============================] - 0s 1ms/step\n"
     ]
    }
   ],
   "source": [
    "preds=model.predict(test_images)"
   ]
  },
  {
   "cell_type": "code",
   "execution_count": 88,
   "id": "4c96947e-1053-471a-9a35-fd5a72bcc6f6",
   "metadata": {},
   "outputs": [
    {
     "data": {
      "text/plain": [
       "10000"
      ]
     },
     "execution_count": 88,
     "metadata": {},
     "output_type": "execute_result"
    }
   ],
   "source": [
    "len(preds)"
   ]
  },
  {
   "cell_type": "code",
   "execution_count": 89,
   "id": "e483a3c5-e045-4e29-b6f2-77759979b58d",
   "metadata": {},
   "outputs": [
    {
     "data": {
      "text/plain": [
       "array([1.6298727e-09, 3.8680686e-10, 1.6489603e-06, 3.0614607e-05, 4.9193839e-12, 1.5931390e-07, 3.2904597e-14, 9.9996579e-01, 2.9868378e-08, 1.7451988e-06], dtype=float32)"
      ]
     },
     "execution_count": 89,
     "metadata": {},
     "output_type": "execute_result"
    }
   ],
   "source": [
    "preds[0]"
   ]
  },
  {
   "cell_type": "code",
   "execution_count": 90,
   "id": "7dcf4bcb-3576-406a-9b1c-9fa67145a4b7",
   "metadata": {},
   "outputs": [
    {
     "data": {
      "text/plain": [
       "array([0., 0., 0., 0., 0., 0., 0., 1., 0., 0.], dtype=float32)"
      ]
     },
     "execution_count": 90,
     "metadata": {},
     "output_type": "execute_result"
    }
   ],
   "source": [
    "preds[0].round(1) # 원핫인코딩에서 본 것 -7이군"
   ]
  },
  {
   "cell_type": "code",
   "execution_count": 91,
   "id": "ae0b6e55-087f-414f-8afc-1078dd359424",
   "metadata": {},
   "outputs": [
    {
     "data": {
      "text/plain": [
       "10"
      ]
     },
     "execution_count": 91,
     "metadata": {},
     "output_type": "execute_result"
    }
   ],
   "source": [
    "len(preds[0]) # 0~9까지 10개"
   ]
  },
  {
   "cell_type": "code",
   "execution_count": 106,
   "id": "e0ca0f6e-7723-487b-b49c-f96e4f79dfcd",
   "metadata": {
    "collapsed": true,
    "jupyter": {
     "outputs_hidden": true
    },
    "tags": []
   },
   "outputs": [
    {
     "data": {
      "text/plain": [
       "array([[  0,   0,   0,   0,   0,   0,   0,   0,   0,   0,   0,   0,   0,   0,   0,   0,   0,   0,   0,   0,   0,   0,   0,   0,   0,   0,   0,   0],\n",
       "       [  0,   0,   0,   0,   0,   0,   0,   0,   0,   0,   0,   0,   0,   0,   0,   0,   0,   0,   0,   0,   0,   0,   0,   0,   0,   0,   0,   0],\n",
       "       [  0,   0,   0,   0,   0,   0,   0,   0,   0,   0,   0,   0,   0,   0,   0,   0,   0,   0,   0,   0,   0,   0,   0,   0,   0,   0,   0,   0],\n",
       "       [  0,   0,   0,   0,   0,   0,   0,   0,   0,   0,   0,   0,   0,   0,   0,   0,   0,   0,   0,   0,   0,   0,   0,   0,   0,   0,   0,   0],\n",
       "       [  0,   0,   0,   0,   0,   0,   0,   0,   0,   0,   0,   0,   0,   0,   0,   0,   0,   0,   0,   0,   0,   0,   0,   0,   0,   0,   0,   0],\n",
       "       [  0,   0,   0,   0,   0,   0,   0,   0,   0,   0,   0,   0,   0,   0,   0,   0,   0,   0,   0,   0,   0,   0,   0,   0,   0,   0,   0,   0],\n",
       "       [  0,   0,   0,   0,   0,   0,   0,   0,   0,   0,   0,   0,   0,   0,   0,   0,   0,   0,   0,   0,   0,   0,   0,   0,   0,   0,   0,   0],\n",
       "       [  0,   0,   0,   0,   0,   0,  84, 185, 159, 151,  60,  36,   0,   0,   0,   0,   0,   0,   0,   0,   0,   0,   0,   0,   0,   0,   0,   0],\n",
       "       [  0,   0,   0,   0,   0,   0, 222, 254, 254, 254, 254, 241, 198, 198, 198, 198, 198, 198, 198, 198, 170,  52,   0,   0,   0,   0,   0,   0],\n",
       "       [  0,   0,   0,   0,   0,   0,  67, 114,  72, 114, 163, 227, 254, 225, 254, 254, 254, 250, 229, 254, 254, 140,   0,   0,   0,   0,   0,   0],\n",
       "       [  0,   0,   0,   0,   0,   0,   0,   0,   0,   0,   0,  17,  66,  14,  67,  67,  67,  59,  21, 236, 254, 106,   0,   0,   0,   0,   0,   0],\n",
       "       [  0,   0,   0,   0,   0,   0,   0,   0,   0,   0,   0,   0,   0,   0,   0,   0,   0,   0,  83, 253, 209,  18,   0,   0,   0,   0,   0,   0],\n",
       "       [  0,   0,   0,   0,   0,   0,   0,   0,   0,   0,   0,   0,   0,   0,   0,   0,   0,  22, 233, 255,  83,   0,   0,   0,   0,   0,   0,   0],\n",
       "       [  0,   0,   0,   0,   0,   0,   0,   0,   0,   0,   0,   0,   0,   0,   0,   0,   0, 129, 254, 238,  44,   0,   0,   0,   0,   0,   0,   0],\n",
       "       [  0,   0,   0,   0,   0,   0,   0,   0,   0,   0,   0,   0,   0,   0,   0,   0,  59, 249, 254,  62,   0,   0,   0,   0,   0,   0,   0,   0],\n",
       "       [  0,   0,   0,   0,   0,   0,   0,   0,   0,   0,   0,   0,   0,   0,   0,   0, 133, 254, 187,   5,   0,   0,   0,   0,   0,   0,   0,   0],\n",
       "       [  0,   0,   0,   0,   0,   0,   0,   0,   0,   0,   0,   0,   0,   0,   0,   9, 205, 248,  58,   0,   0,   0,   0,   0,   0,   0,   0,   0],\n",
       "       [  0,   0,   0,   0,   0,   0,   0,   0,   0,   0,   0,   0,   0,   0,   0, 126, 254, 182,   0,   0,   0,   0,   0,   0,   0,   0,   0,   0],\n",
       "       [  0,   0,   0,   0,   0,   0,   0,   0,   0,   0,   0,   0,   0,   0,  75, 251, 240,  57,   0,   0,   0,   0,   0,   0,   0,   0,   0,   0],\n",
       "       [  0,   0,   0,   0,   0,   0,   0,   0,   0,   0,   0,   0,   0,  19, 221, 254, 166,   0,   0,   0,   0,   0,   0,   0,   0,   0,   0,   0],\n",
       "       [  0,   0,   0,   0,   0,   0,   0,   0,   0,   0,   0,   0,   3, 203, 254, 219,  35,   0,   0,   0,   0,   0,   0,   0,   0,   0,   0,   0],\n",
       "       [  0,   0,   0,   0,   0,   0,   0,   0,   0,   0,   0,   0,  38, 254, 254,  77,   0,   0,   0,   0,   0,   0,   0,   0,   0,   0,   0,   0],\n",
       "       [  0,   0,   0,   0,   0,   0,   0,   0,   0,   0,   0,  31, 224, 254, 115,   1,   0,   0,   0,   0,   0,   0,   0,   0,   0,   0,   0,   0],\n",
       "       [  0,   0,   0,   0,   0,   0,   0,   0,   0,   0,   0, 133, 254, 254,  52,   0,   0,   0,   0,   0,   0,   0,   0,   0,   0,   0,   0,   0],\n",
       "       [  0,   0,   0,   0,   0,   0,   0,   0,   0,   0,  61, 242, 254, 254,  52,   0,   0,   0,   0,   0,   0,   0,   0,   0,   0,   0,   0,   0],\n",
       "       [  0,   0,   0,   0,   0,   0,   0,   0,   0,   0, 121, 254, 254, 219,  40,   0,   0,   0,   0,   0,   0,   0,   0,   0,   0,   0,   0,   0],\n",
       "       [  0,   0,   0,   0,   0,   0,   0,   0,   0,   0, 121, 254, 207,  18,   0,   0,   0,   0,   0,   0,   0,   0,   0,   0,   0,   0,   0,   0],\n",
       "       [  0,   0,   0,   0,   0,   0,   0,   0,   0,   0,   0,   0,   0,   0,   0,   0,   0,   0,   0,   0,   0,   0,   0,   0,   0,   0,   0,   0]], dtype=uint8)"
      ]
     },
     "execution_count": 106,
     "metadata": {},
     "output_type": "execute_result"
    }
   ],
   "source": [
    "test_images[0]"
   ]
  },
  {
   "cell_type": "code",
   "execution_count": 92,
   "id": "ce7e480c-379a-41ec-b8b8-9fa696ccaf7a",
   "metadata": {},
   "outputs": [
    {
     "data": {
      "text/plain": [
       "7"
      ]
     },
     "execution_count": 92,
     "metadata": {},
     "output_type": "execute_result"
    }
   ],
   "source": [
    "test_labels[0]"
   ]
  },
  {
   "cell_type": "code",
   "execution_count": 93,
   "id": "81a298e7-c3f5-4477-b139-6ceae4e97dbe",
   "metadata": {},
   "outputs": [
    {
     "name": "stdout",
     "output_type": "stream",
     "text": [
      "313/313 [==============================] - 1s 1ms/step - loss: 0.0689 - acc: 0.9793\n"
     ]
    },
    {
     "data": {
      "text/plain": [
       "[0.06893084943294525, 0.9793000221252441]"
      ]
     },
     "execution_count": 93,
     "metadata": {},
     "output_type": "execute_result"
    }
   ],
   "source": [
    "model.evaluate(test_images, test_labels) # 예측도하고 비교하고 정확도 내놔라\n",
    "# 앞에 꺼는 예측하고 학습해서 preds로 자동으로 만들어줘서 label이랑 비교를 해준다.\n",
    "# loss와 정확도 두개 놓음  원래대로라면 labels랑 preds비교가 아닌가...?"
   ]
  },
  {
   "cell_type": "code",
   "execution_count": 102,
   "id": "bf3399e7-2383-41c3-8e7f-93ed51a6a5b3",
   "metadata": {
    "collapsed": true,
    "jupyter": {
     "outputs_hidden": true
    },
    "tags": []
   },
   "outputs": [
    {
     "name": "stdout",
     "output_type": "stream",
     "text": [
      "Epoch 1/5\n",
      "469/469 [==============================] - 3s 6ms/step - loss: 0.0288 - acc: 0.9917\n",
      "Epoch 2/5\n",
      "469/469 [==============================] - 3s 5ms/step - loss: 0.0226 - acc: 0.9936\n",
      "Epoch 3/5\n",
      "469/469 [==============================] - 2s 5ms/step - loss: 0.0173 - acc: 0.9949\n",
      "Epoch 4/5\n",
      "469/469 [==============================] - 2s 5ms/step - loss: 0.0132 - acc: 0.9960\n",
      "Epoch 5/5\n",
      "469/469 [==============================] - 2s 5ms/step - loss: 0.0107 - acc: 0.9969\n",
      "313/313 [==============================] - 0s 2ms/step - loss: 0.0696 - acc: 0.9806\n",
      "손실은 0.06960008293390274이고 정확도는 0.9805999994277954입니다.\n"
     ]
    }
   ],
   "source": [
    "model.fit(train_images, train_labels, epochs=5, batch_size=128) \n",
    "loss, acc=model.evaluate(test_images, test_labels) # 에포크는 누적됨 \n",
    "print(f\"손실은 {loss}이고 정확도는 {acc}입니다.\")"
   ]
  },
  {
   "cell_type": "code",
   "execution_count": null,
   "id": "42769f22-cd0c-4c81-bf05-db9d115323a0",
   "metadata": {},
   "outputs": [],
   "source": [
    "텐서 : 다차원 배열 , \n",
    "\n",
    "\n",
    "텐서 중 1차원 : 벡터 \n",
    "텐서 중 2차원 배열  : 행렬 \n",
    "텐서 중 3차원 : 텐서, 배열 \n",
    "\n",
    "\n",
    "텐서중 넘파이 팀이 만든 np.array가 있다.\n",
    "넘파이팀만 에레이라고 함 \n",
    "\n",
    "\n"
   ]
  },
  {
   "cell_type": "code",
   "execution_count": 41,
   "id": "e7c30151-088d-44c3-9523-205d25fb6d96",
   "metadata": {},
   "outputs": [
    {
     "data": {
      "text/plain": [
       "dtype('uint8')"
      ]
     },
     "execution_count": 41,
     "metadata": {},
     "output_type": "execute_result"
    }
   ],
   "source": [
    "train_images.dtype"
   ]
  },
  {
   "cell_type": "markdown",
   "id": "123642f4-e964-4af4-beb7-c390d99232d1",
   "metadata": {},
   "source": [
    "unsigned int 8 # 부호를 할당하지 않음 양수 0부터 255까지  \n",
    "8bit =1Byte\n",
    "2**8 = 256\n",
    "\n",
    "-128 + 127\n",
    "일반적인 것은 부호를 할당함 "
   ]
  },
  {
   "cell_type": "code",
   "execution_count": 43,
   "id": "92a9ba88-f252-4b5b-89b7-272f0dfbf75e",
   "metadata": {},
   "outputs": [
    {
     "data": {
      "text/plain": [
       "(60000, 28, 28)"
      ]
     },
     "execution_count": 43,
     "metadata": {},
     "output_type": "execute_result"
    }
   ],
   "source": [
    "train_images.shape\n",
    "(장수, height, width, 칼라여부)"
   ]
  },
  {
   "cell_type": "code",
   "execution_count": 44,
   "id": "d4c9b43f-a157-47aa-91f2-4b666cf79ae1",
   "metadata": {
    "collapsed": true,
    "jupyter": {
     "outputs_hidden": true
    },
    "tags": []
   },
   "outputs": [
    {
     "data": {
      "text/plain": [
       "array([[  0,   0,   0,   0,   0,   0,   0,   0,   0,   0,   0,   0,   0,\n",
       "          0,   0,   0,   0,   0,   0,   0,   0,   0,   0,   0,   0,   0,\n",
       "          0,   0],\n",
       "       [  0,   0,   0,   0,   0,   0,   0,   0,   0,   0,   0,   0,   0,\n",
       "          0,   0,   0,   0,   0,   0,   0,   0,   0,   0,   0,   0,   0,\n",
       "          0,   0],\n",
       "       [  0,   0,   0,   0,   0,   0,   0,   0,   0,   0,   0,   0,   0,\n",
       "          0,   0,   0,   0,   0,   0,   0,   0,   0,   0,   0,   0,   0,\n",
       "          0,   0],\n",
       "       [  0,   0,   0,   0,   0,   0,   0,   0,   0,   0,   0,   0,   0,\n",
       "          0,   0,   0,   0,   0,   0,   0,   0,   0,   0,   0,   0,   0,\n",
       "          0,   0],\n",
       "       [  0,   0,   0,   0,   0,   0,   0,   0,   0,   0,   0,   0,   0,\n",
       "          0,   0,   0,   0,   0,   0,   0,   0,   0,   0,   0,   0,   0,\n",
       "          0,   0],\n",
       "       [  0,   0,   0,   0,   0,   0,   0,   0,   0,   0,   0,   0,   0,\n",
       "          0,   0,   0,   0,   0, 124, 253, 255,  63,   0,   0,   0,   0,\n",
       "          0,   0],\n",
       "       [  0,   0,   0,   0,   0,   0,   0,   0,   0,   0,   0,   0,   0,\n",
       "          0,   0,   0,   0,  96, 244, 251, 253,  62,   0,   0,   0,   0,\n",
       "          0,   0],\n",
       "       [  0,   0,   0,   0,   0,   0,   0,   0,   0,   0,   0,   0,   0,\n",
       "          0,   0,   0,   0, 127, 251, 251, 253,  62,   0,   0,   0,   0,\n",
       "          0,   0],\n",
       "       [  0,   0,   0,   0,   0,   0,   0,   0,   0,   0,   0,   0,   0,\n",
       "          0,   0,   0,  68, 236, 251, 211,  31,   8,   0,   0,   0,   0,\n",
       "          0,   0],\n",
       "       [  0,   0,   0,   0,   0,   0,   0,   0,   0,   0,   0,   0,   0,\n",
       "          0,   0,  60, 228, 251, 251,  94,   0,   0,   0,   0,   0,   0,\n",
       "          0,   0],\n",
       "       [  0,   0,   0,   0,   0,   0,   0,   0,   0,   0,   0,   0,   0,\n",
       "          0,   0, 155, 253, 253, 189,   0,   0,   0,   0,   0,   0,   0,\n",
       "          0,   0],\n",
       "       [  0,   0,   0,   0,   0,   0,   0,   0,   0,   0,   0,   0,   0,\n",
       "          0,  20, 253, 251, 235,  66,   0,   0,   0,   0,   0,   0,   0,\n",
       "          0,   0],\n",
       "       [  0,   0,   0,   0,   0,   0,   0,   0,   0,   0,   0,   0,   0,\n",
       "         32, 205, 253, 251, 126,   0,   0,   0,   0,   0,   0,   0,   0,\n",
       "          0,   0],\n",
       "       [  0,   0,   0,   0,   0,   0,   0,   0,   0,   0,   0,   0,   0,\n",
       "        104, 251, 253, 184,  15,   0,   0,   0,   0,   0,   0,   0,   0,\n",
       "          0,   0],\n",
       "       [  0,   0,   0,   0,   0,   0,   0,   0,   0,   0,   0,   0,  80,\n",
       "        240, 251, 193,  23,   0,   0,   0,   0,   0,   0,   0,   0,   0,\n",
       "          0,   0],\n",
       "       [  0,   0,   0,   0,   0,   0,   0,   0,   0,   0,   0,  32, 253,\n",
       "        253, 253, 159,   0,   0,   0,   0,   0,   0,   0,   0,   0,   0,\n",
       "          0,   0],\n",
       "       [  0,   0,   0,   0,   0,   0,   0,   0,   0,   0,   0, 151, 251,\n",
       "        251, 251,  39,   0,   0,   0,   0,   0,   0,   0,   0,   0,   0,\n",
       "          0,   0],\n",
       "       [  0,   0,   0,   0,   0,   0,   0,   0,   0,   0,  48, 221, 251,\n",
       "        251, 172,   0,   0,   0,   0,   0,   0,   0,   0,   0,   0,   0,\n",
       "          0,   0],\n",
       "       [  0,   0,   0,   0,   0,   0,   0,   0,   0,   0, 234, 251, 251,\n",
       "        196,  12,   0,   0,   0,   0,   0,   0,   0,   0,   0,   0,   0,\n",
       "          0,   0],\n",
       "       [  0,   0,   0,   0,   0,   0,   0,   0,   0,   0, 253, 251, 251,\n",
       "         89,   0,   0,   0,   0,   0,   0,   0,   0,   0,   0,   0,   0,\n",
       "          0,   0],\n",
       "       [  0,   0,   0,   0,   0,   0,   0,   0,   0, 159, 255, 253, 253,\n",
       "         31,   0,   0,   0,   0,   0,   0,   0,   0,   0,   0,   0,   0,\n",
       "          0,   0],\n",
       "       [  0,   0,   0,   0,   0,   0,   0,   0,  48, 228, 253, 247, 140,\n",
       "          8,   0,   0,   0,   0,   0,   0,   0,   0,   0,   0,   0,   0,\n",
       "          0,   0],\n",
       "       [  0,   0,   0,   0,   0,   0,   0,   0,  64, 251, 253, 220,   0,\n",
       "          0,   0,   0,   0,   0,   0,   0,   0,   0,   0,   0,   0,   0,\n",
       "          0,   0],\n",
       "       [  0,   0,   0,   0,   0,   0,   0,   0,  64, 251, 253, 220,   0,\n",
       "          0,   0,   0,   0,   0,   0,   0,   0,   0,   0,   0,   0,   0,\n",
       "          0,   0],\n",
       "       [  0,   0,   0,   0,   0,   0,   0,   0,  24, 193, 253, 220,   0,\n",
       "          0,   0,   0,   0,   0,   0,   0,   0,   0,   0,   0,   0,   0,\n",
       "          0,   0],\n",
       "       [  0,   0,   0,   0,   0,   0,   0,   0,   0,   0,   0,   0,   0,\n",
       "          0,   0,   0,   0,   0,   0,   0,   0,   0,   0,   0,   0,   0,\n",
       "          0,   0],\n",
       "       [  0,   0,   0,   0,   0,   0,   0,   0,   0,   0,   0,   0,   0,\n",
       "          0,   0,   0,   0,   0,   0,   0,   0,   0,   0,   0,   0,   0,\n",
       "          0,   0],\n",
       "       [  0,   0,   0,   0,   0,   0,   0,   0,   0,   0,   0,   0,   0,\n",
       "          0,   0,   0,   0,   0,   0,   0,   0,   0,   0,   0,   0,   0,\n",
       "          0,   0]], dtype=uint8)"
      ]
     },
     "execution_count": 44,
     "metadata": {},
     "output_type": "execute_result"
    }
   ],
   "source": [
    "train_images[3,]"
   ]
  },
  {
   "cell_type": "code",
   "execution_count": 45,
   "id": "cda106a0-e9f3-401c-895e-15660b53e57d",
   "metadata": {
    "collapsed": true,
    "jupyter": {
     "outputs_hidden": true
    },
    "tags": []
   },
   "outputs": [
    {
     "data": {
      "text/plain": [
       "array([[  0,   0,   0,   0,   0,   0,   0,   0,   0,   0,   0,   0,   0,\n",
       "          0,   0,   0,   0,   0,   0,   0,   0,   0,   0,   0,   0,   0,\n",
       "          0,   0],\n",
       "       [  0,   0,   0,   0,   0,   0,   0,   0,   0,   0,   0,   0,   0,\n",
       "          0,   0,   0,   0,   0,   0,   0,   0,   0,   0,   0,   0,   0,\n",
       "          0,   0],\n",
       "       [  0,   0,   0,   0,   0,   0,   0,   0,   0,   0,   0,   0,   0,\n",
       "          0,   0,   0,   0,   0,   0,   0,   0,   0,   0,   0,   0,   0,\n",
       "          0,   0],\n",
       "       [  0,   0,   0,   0,   0,   0,   0,   0,   0,   0,   0,   0,   0,\n",
       "          0,   0,   0,   0,   0,   0,   0,   0,   0,   0,   0,   0,   0,\n",
       "          0,   0],\n",
       "       [  0,   0,   0,   0,   0,   0,   0,   0,   0,   0,   0,   0,   0,\n",
       "          0,   0,   0,   0,   0,   0,   0,   0,   0,   0,   0,   0,   0,\n",
       "          0,   0],\n",
       "       [  0,   0,   0,   0,   0,   0,   0,   0,   0,   0,   0,   0,   0,\n",
       "          0,   0,   0,   0,   0, 124, 253, 255,  63,   0,   0,   0,   0,\n",
       "          0,   0],\n",
       "       [  0,   0,   0,   0,   0,   0,   0,   0,   0,   0,   0,   0,   0,\n",
       "          0,   0,   0,   0,  96, 244, 251, 253,  62,   0,   0,   0,   0,\n",
       "          0,   0],\n",
       "       [  0,   0,   0,   0,   0,   0,   0,   0,   0,   0,   0,   0,   0,\n",
       "          0,   0,   0,   0, 127, 251, 251, 253,  62,   0,   0,   0,   0,\n",
       "          0,   0],\n",
       "       [  0,   0,   0,   0,   0,   0,   0,   0,   0,   0,   0,   0,   0,\n",
       "          0,   0,   0,  68, 236, 251, 211,  31,   8,   0,   0,   0,   0,\n",
       "          0,   0],\n",
       "       [  0,   0,   0,   0,   0,   0,   0,   0,   0,   0,   0,   0,   0,\n",
       "          0,   0,  60, 228, 251, 251,  94,   0,   0,   0,   0,   0,   0,\n",
       "          0,   0],\n",
       "       [  0,   0,   0,   0,   0,   0,   0,   0,   0,   0,   0,   0,   0,\n",
       "          0,   0, 155, 253, 253, 189,   0,   0,   0,   0,   0,   0,   0,\n",
       "          0,   0],\n",
       "       [  0,   0,   0,   0,   0,   0,   0,   0,   0,   0,   0,   0,   0,\n",
       "          0,  20, 253, 251, 235,  66,   0,   0,   0,   0,   0,   0,   0,\n",
       "          0,   0],\n",
       "       [  0,   0,   0,   0,   0,   0,   0,   0,   0,   0,   0,   0,   0,\n",
       "         32, 205, 253, 251, 126,   0,   0,   0,   0,   0,   0,   0,   0,\n",
       "          0,   0],\n",
       "       [  0,   0,   0,   0,   0,   0,   0,   0,   0,   0,   0,   0,   0,\n",
       "        104, 251, 253, 184,  15,   0,   0,   0,   0,   0,   0,   0,   0,\n",
       "          0,   0],\n",
       "       [  0,   0,   0,   0,   0,   0,   0,   0,   0,   0,   0,   0,  80,\n",
       "        240, 251, 193,  23,   0,   0,   0,   0,   0,   0,   0,   0,   0,\n",
       "          0,   0],\n",
       "       [  0,   0,   0,   0,   0,   0,   0,   0,   0,   0,   0,  32, 253,\n",
       "        253, 253, 159,   0,   0,   0,   0,   0,   0,   0,   0,   0,   0,\n",
       "          0,   0],\n",
       "       [  0,   0,   0,   0,   0,   0,   0,   0,   0,   0,   0, 151, 251,\n",
       "        251, 251,  39,   0,   0,   0,   0,   0,   0,   0,   0,   0,   0,\n",
       "          0,   0],\n",
       "       [  0,   0,   0,   0,   0,   0,   0,   0,   0,   0,  48, 221, 251,\n",
       "        251, 172,   0,   0,   0,   0,   0,   0,   0,   0,   0,   0,   0,\n",
       "          0,   0],\n",
       "       [  0,   0,   0,   0,   0,   0,   0,   0,   0,   0, 234, 251, 251,\n",
       "        196,  12,   0,   0,   0,   0,   0,   0,   0,   0,   0,   0,   0,\n",
       "          0,   0],\n",
       "       [  0,   0,   0,   0,   0,   0,   0,   0,   0,   0, 253, 251, 251,\n",
       "         89,   0,   0,   0,   0,   0,   0,   0,   0,   0,   0,   0,   0,\n",
       "          0,   0],\n",
       "       [  0,   0,   0,   0,   0,   0,   0,   0,   0, 159, 255, 253, 253,\n",
       "         31,   0,   0,   0,   0,   0,   0,   0,   0,   0,   0,   0,   0,\n",
       "          0,   0],\n",
       "       [  0,   0,   0,   0,   0,   0,   0,   0,  48, 228, 253, 247, 140,\n",
       "          8,   0,   0,   0,   0,   0,   0,   0,   0,   0,   0,   0,   0,\n",
       "          0,   0],\n",
       "       [  0,   0,   0,   0,   0,   0,   0,   0,  64, 251, 253, 220,   0,\n",
       "          0,   0,   0,   0,   0,   0,   0,   0,   0,   0,   0,   0,   0,\n",
       "          0,   0],\n",
       "       [  0,   0,   0,   0,   0,   0,   0,   0,  64, 251, 253, 220,   0,\n",
       "          0,   0,   0,   0,   0,   0,   0,   0,   0,   0,   0,   0,   0,\n",
       "          0,   0],\n",
       "       [  0,   0,   0,   0,   0,   0,   0,   0,  24, 193, 253, 220,   0,\n",
       "          0,   0,   0,   0,   0,   0,   0,   0,   0,   0,   0,   0,   0,\n",
       "          0,   0],\n",
       "       [  0,   0,   0,   0,   0,   0,   0,   0,   0,   0,   0,   0,   0,\n",
       "          0,   0,   0,   0,   0,   0,   0,   0,   0,   0,   0,   0,   0,\n",
       "          0,   0],\n",
       "       [  0,   0,   0,   0,   0,   0,   0,   0,   0,   0,   0,   0,   0,\n",
       "          0,   0,   0,   0,   0,   0,   0,   0,   0,   0,   0,   0,   0,\n",
       "          0,   0],\n",
       "       [  0,   0,   0,   0,   0,   0,   0,   0,   0,   0,   0,   0,   0,\n",
       "          0,   0,   0,   0,   0,   0,   0,   0,   0,   0,   0,   0,   0,\n",
       "          0,   0]], dtype=uint8)"
      ]
     },
     "execution_count": 45,
     "metadata": {},
     "output_type": "execute_result"
    }
   ],
   "source": [
    "train_images[3, :, :]"
   ]
  },
  {
   "cell_type": "code",
   "execution_count": 46,
   "id": "b866f1b1-f424-4224-98e2-aef67cd94417",
   "metadata": {},
   "outputs": [
    {
     "data": {
      "image/png": "[encoded data removed]",
      "text/plain": [
       "<Figure size 360x216 with 1 Axes>"
      ]
     },
     "metadata": {
      "needs_background": "light"
     },
     "output_type": "display_data"
    }
   ],
   "source": [
    "plt.imshow(train_images[3], cmap=\"gray\"); "
   ]
  },
  {
   "cell_type": "code",
   "execution_count": 47,
   "id": "865d74ea-2d9a-4536-8647-76dffe059ea2",
   "metadata": {},
   "outputs": [
    {
     "data": {
      "image/png": "[encoded data removed]",
      "text/plain": [
       "<Figure size 360x216 with 1 Axes>"
      ]
     },
     "metadata": {
      "needs_background": "light"
     },
     "output_type": "display_data"
    }
   ],
   "source": [
    "plt.imshow(train_images[3, :, :], cmap=\"gray\"); "
   ]
  },
  {
   "cell_type": "code",
   "execution_count": 49,
   "id": "42deb917-2200-4fc0-8d7e-ba46354dc816",
   "metadata": {},
   "outputs": [],
   "source": [
    "# 0~100 / 100~200\n",
    "slice_1 =train_images[:100]\n",
    "slice_2 =train_images[100:200]\n",
    "slice_3 =train_images[200:300]\n",
    "slice_4 =train_images[300:400]\n",
    "slice_5 =train_images[400:500]\n",
    "slice_6 =train_images[500:600]\n",
    "slice_7 =train_images[600:700]\n",
    "slice_8 =train_images[700:800]\n",
    "slice_9 =train_images[800:900]\n",
    "slice_10 =train_images[900:1000]"
   ]
  },
  {
   "cell_type": "code",
   "execution_count": 50,
   "id": "591113de-2260-4fae-9322-beeca7327f69",
   "metadata": {},
   "outputs": [
    {
     "ename": "SyntaxError",
     "evalue": "cannot assign to operator (2629301647.py, line 2)",
     "output_type": "error",
     "traceback": [
      "\u001b[1;36m  Input \u001b[1;32mIn [50]\u001b[1;36m\u001b[0m\n\u001b[1;33m    slice+str(n) = train_images[n*100 : (n+1)*100\u001b[0m\n\u001b[1;37m    ^\u001b[0m\n\u001b[1;31mSyntaxError\u001b[0m\u001b[1;31m:\u001b[0m cannot assign to operator\n"
     ]
    }
   ],
   "source": [
    "for n in range(10):\n",
    "    slice+str(n) = train_images[n*100 : (n+1)*100"
   ]
  },
  {
   "cell_type": "code",
   "execution_count": 53,
   "id": "fc933c67-8dc9-4afd-8843-0df2e3d41475",
   "metadata": {},
   "outputs": [],
   "source": [
    "for n in range(10):\n",
    "    globals()[f'slice_{n}'] = train_images[n*100 : (n+1)*100]\n",
    "# https://blog.naver.com/nomadgee/220857820094\n",
    "# https://trustyou.tistory.com/197"
   ]
  },
  {
   "cell_type": "code",
   "execution_count": null,
   "id": "42fa0f1b-3d64-4682-beb3-088f319e2081",
   "metadata": {},
   "outputs": [],
   "source": [
    "n = 100\n",
    "for i in range(1,11):\n",
    "    globals()[f'slice_{i}'] = train_images[n-100:n]\n",
    "    n += 100 "
   ]
  },
  {
   "cell_type": "code",
   "execution_count": null,
   "id": "eaa04f43-7767-4610-b39a-e5114ca3e13b",
   "metadata": {},
   "outputs": [],
   "source": [
    "for n in range(10):\n",
    "    locals()[\"slice_\"+str(n)] = train_images[n*100😦n+1)*100] "
   ]
  },
  {
   "cell_type": "code",
   "execution_count": 54,
   "id": "34f33097-e3f5-4f11-8914-4fbdf8552121",
   "metadata": {},
   "outputs": [
    {
     "ename": "SyntaxError",
     "evalue": "invalid syntax (552799882.py, line 1)",
     "output_type": "error",
     "traceback": [
      "\u001b[1;36m  Input \u001b[1;32mIn [54]\u001b[1;36m\u001b[0m\n\u001b[1;33m    이미지에서 채널이 3개다하면 rgb가 3게\u001b[0m\n\u001b[1;37m          ^\u001b[0m\n\u001b[1;31mSyntaxError\u001b[0m\u001b[1;31m:\u001b[0m invalid syntax\n"
     ]
    }
   ],
   "source": [
    "이미지에서 채널이 3개다하면 rgb가 3게"
   ]
  },
  {
   "cell_type": "markdown",
   "id": "9f818c4c-5df1-4b7f-8485-922df9abb4ae",
   "metadata": {},
   "source": [
    "# 영화 이진분류"
   ]
  },
  {
   "cell_type": "code",
   "execution_count": 107,
   "id": "d05641ac-6ebd-479e-9a79-fd2fb4ae97ad",
   "metadata": {},
   "outputs": [],
   "source": [
    "from keras.datasets import imdb"
   ]
  },
  {
   "cell_type": "code",
   "execution_count": 118,
   "id": "071881f3-4647-4d29-b51e-385f6d5083b6",
   "metadata": {},
   "outputs": [],
   "source": [
    "(train_data, train_labels), (test_data, test_labels) = imdb.load_data(num_words=10000)\n",
    "#쓰여질수 있는 단어는 10000번까지"
   ]
  },
  {
   "cell_type": "code",
   "execution_count": 119,
   "id": "42dc2867-a295-4ab5-9127-de614cf88c18",
   "metadata": {},
   "outputs": [
    {
     "data": {
      "text/plain": [
       "(25000,)"
      ]
     },
     "execution_count": 119,
     "metadata": {},
     "output_type": "execute_result"
    }
   ],
   "source": [
    "train_data.shape"
   ]
  },
  {
   "cell_type": "code",
   "execution_count": 120,
   "id": "ac7d3a2e-3dfa-414f-8af3-ef13443e4292",
   "metadata": {},
   "outputs": [
    {
     "data": {
      "text/plain": [
       "(25000,)"
      ]
     },
     "execution_count": 120,
     "metadata": {},
     "output_type": "execute_result"
    }
   ],
   "source": [
    "train_labels.shape"
   ]
  },
  {
   "cell_type": "code",
   "execution_count": 111,
   "id": "a4748f6b-88cb-4585-9e6b-9a9294135b69",
   "metadata": {
    "collapsed": true,
    "jupyter": {
     "outputs_hidden": true
    },
    "tags": []
   },
   "outputs": [
    {
     "data": {
      "text/plain": [
       "[1,\n",
       " 14,\n",
       " 22,\n",
       " 16,\n",
       " 43,\n",
       " 530,\n",
       " 973,\n",
       " 1622,\n",
       " 1385,\n",
       " 65,\n",
       " 458,\n",
       " 4468,\n",
       " 66,\n",
       " 3941,\n",
       " 4,\n",
       " 173,\n",
       " 36,\n",
       " 256,\n",
       " 5,\n",
       " 25,\n",
       " 100,\n",
       " 43,\n",
       " 838,\n",
       " 112,\n",
       " 50,\n",
       " 670,\n",
       " 2,\n",
       " 9,\n",
       " 35,\n",
       " 480,\n",
       " 284,\n",
       " 5,\n",
       " 150,\n",
       " 4,\n",
       " 172,\n",
       " 112,\n",
       " 167,\n",
       " 2,\n",
       " 336,\n",
       " 385,\n",
       " 39,\n",
       " 4,\n",
       " 172,\n",
       " 4536,\n",
       " 1111,\n",
       " 17,\n",
       " 546,\n",
       " 38,\n",
       " 13,\n",
       " 447,\n",
       " 4,\n",
       " 192,\n",
       " 50,\n",
       " 16,\n",
       " 6,\n",
       " 147,\n",
       " 2025,\n",
       " 19,\n",
       " 14,\n",
       " 22,\n",
       " 4,\n",
       " 1920,\n",
       " 4613,\n",
       " 469,\n",
       " 4,\n",
       " 22,\n",
       " 71,\n",
       " 87,\n",
       " 12,\n",
       " 16,\n",
       " 43,\n",
       " 530,\n",
       " 38,\n",
       " 76,\n",
       " 15,\n",
       " 13,\n",
       " 1247,\n",
       " 4,\n",
       " 22,\n",
       " 17,\n",
       " 515,\n",
       " 17,\n",
       " 12,\n",
       " 16,\n",
       " 626,\n",
       " 18,\n",
       " 2,\n",
       " 5,\n",
       " 62,\n",
       " 386,\n",
       " 12,\n",
       " 8,\n",
       " 316,\n",
       " 8,\n",
       " 106,\n",
       " 5,\n",
       " 4,\n",
       " 2223,\n",
       " 5244,\n",
       " 16,\n",
       " 480,\n",
       " 66,\n",
       " 3785,\n",
       " 33,\n",
       " 4,\n",
       " 130,\n",
       " 12,\n",
       " 16,\n",
       " 38,\n",
       " 619,\n",
       " 5,\n",
       " 25,\n",
       " 124,\n",
       " 51,\n",
       " 36,\n",
       " 135,\n",
       " 48,\n",
       " 25,\n",
       " 1415,\n",
       " 33,\n",
       " 6,\n",
       " 22,\n",
       " 12,\n",
       " 215,\n",
       " 28,\n",
       " 77,\n",
       " 52,\n",
       " 5,\n",
       " 14,\n",
       " 407,\n",
       " 16,\n",
       " 82,\n",
       " 2,\n",
       " 8,\n",
       " 4,\n",
       " 107,\n",
       " 117,\n",
       " 5952,\n",
       " 15,\n",
       " 256,\n",
       " 4,\n",
       " 2,\n",
       " 7,\n",
       " 3766,\n",
       " 5,\n",
       " 723,\n",
       " 36,\n",
       " 71,\n",
       " 43,\n",
       " 530,\n",
       " 476,\n",
       " 26,\n",
       " 400,\n",
       " 317,\n",
       " 46,\n",
       " 7,\n",
       " 4,\n",
       " 2,\n",
       " 1029,\n",
       " 13,\n",
       " 104,\n",
       " 88,\n",
       " 4,\n",
       " 381,\n",
       " 15,\n",
       " 297,\n",
       " 98,\n",
       " 32,\n",
       " 2071,\n",
       " 56,\n",
       " 26,\n",
       " 141,\n",
       " 6,\n",
       " 194,\n",
       " 7486,\n",
       " 18,\n",
       " 4,\n",
       " 226,\n",
       " 22,\n",
       " 21,\n",
       " 134,\n",
       " 476,\n",
       " 26,\n",
       " 480,\n",
       " 5,\n",
       " 144,\n",
       " 30,\n",
       " 5535,\n",
       " 18,\n",
       " 51,\n",
       " 36,\n",
       " 28,\n",
       " 224,\n",
       " 92,\n",
       " 25,\n",
       " 104,\n",
       " 4,\n",
       " 226,\n",
       " 65,\n",
       " 16,\n",
       " 38,\n",
       " 1334,\n",
       " 88,\n",
       " 12,\n",
       " 16,\n",
       " 283,\n",
       " 5,\n",
       " 16,\n",
       " 4472,\n",
       " 113,\n",
       " 103,\n",
       " 32,\n",
       " 15,\n",
       " 16,\n",
       " 5345,\n",
       " 19,\n",
       " 178,\n",
       " 32]"
      ]
     },
     "execution_count": 111,
     "metadata": {},
     "output_type": "execute_result"
    }
   ],
   "source": [
    "train_data[0] # 1은 뭔단어, 14는 뭔단어, 숫자는 각각의 사전 "
   ]
  },
  {
   "cell_type": "code",
   "execution_count": 121,
   "id": "43ac6179-c21d-40b8-9fe7-6013ea96fbb6",
   "metadata": {},
   "outputs": [
    {
     "data": {
      "text/plain": [
       "1"
      ]
     },
     "execution_count": 121,
     "metadata": {},
     "output_type": "execute_result"
    }
   ],
   "source": [
    "train_labels[0]"
   ]
  },
  {
   "cell_type": "code",
   "execution_count": 122,
   "id": "9c3bdc66-9068-47fa-ae93-cfd0a3a58ddd",
   "metadata": {},
   "outputs": [],
   "source": [
    "y_train = np.asarray(train_labels).astype('float32') # 백터로 바꾸기 32rik \n",
    "y_test = np.asarray(test_labels).astype('float32') "
   ]
  },
  {
   "cell_type": "code",
   "execution_count": 123,
   "id": "eaaa7a19-47a4-448d-b52d-bcaf05767126",
   "metadata": {},
   "outputs": [
    {
     "data": {
      "text/plain": [
       "(25000,)"
      ]
     },
     "execution_count": 123,
     "metadata": {},
     "output_type": "execute_result"
    }
   ],
   "source": [
    "y_train.shape"
   ]
  },
  {
   "cell_type": "code",
   "execution_count": 124,
   "id": "5ec4efd6-60b2-492c-abf2-31fa9c037852",
   "metadata": {},
   "outputs": [
    {
     "data": {
      "text/plain": [
       "0.0"
      ]
     },
     "execution_count": 124,
     "metadata": {},
     "output_type": "execute_result"
    }
   ],
   "source": [
    "y_test[0] # 보통 test를 학습시켜서 test label과 비교"
   ]
  },
  {
   "cell_type": "code",
   "execution_count": 125,
   "id": "0abadb31-90cb-4afd-8b09-cc802405af6d",
   "metadata": {},
   "outputs": [],
   "source": [
    "def vectorize_sequences(sequences, dimension=10000):\n",
    "    results=np.zeros((len(sequences), dimension))\n",
    "    for i, sequence in enumerate(sequences):\n",
    "        for j in sequence:\n",
    "            results[i,j]=1\n",
    "    return results\n",
    "# 4427번 단어를 00000 1 0000 이렇게 바꾸기 위해 10000개의 칼럼을 만듬 "
   ]
  },
  {
   "cell_type": "code",
   "execution_count": 126,
   "id": "f0658b74-ed9f-46c9-8601-cb176a3d23a3",
   "metadata": {},
   "outputs": [],
   "source": [
    "X_train =vectorize_sequences(train_data)"
   ]
  },
  {
   "cell_type": "code",
   "execution_count": 127,
   "id": "c4ed1924-9a25-4c93-89bb-4e6d448c0ade",
   "metadata": {},
   "outputs": [],
   "source": [
    "X_test = vectorize_sequences(test_data)"
   ]
  },
  {
   "cell_type": "code",
   "execution_count": 128,
   "id": "4f907ca7-7514-4740-a367-2dfb492a08e2",
   "metadata": {},
   "outputs": [
    {
     "data": {
      "text/plain": [
       "(25000, 10000)"
      ]
     },
     "execution_count": 128,
     "metadata": {},
     "output_type": "execute_result"
    }
   ],
   "source": [
    "X_train.shape"
   ]
  },
  {
   "cell_type": "code",
   "execution_count": 29,
   "id": "eab5a656-62e5-4a5b-be33-10f79782c662",
   "metadata": {},
   "outputs": [],
   "source": [
    "from tensorflow.keras import layers\n",
    "\n",
    "model = Sequential([\n",
    "layers.Dense(16, activation='relu'), \n",
    "layers.Dense(16, activation='relu'),\n",
    "layers.Dense(1, activation='sigmoid')])"
   ]
  },
  {
   "cell_type": "code",
   "execution_count": 31,
   "id": "507b6e3d-8646-4a24-b87a-9f030b9054cd",
   "metadata": {},
   "outputs": [],
   "source": [
    "model.compile(optimizer='rmsprop', loss='binary_crossentropy', metrics=[\"accuracy\"])"
   ]
  },
  {
   "cell_type": "code",
   "execution_count": 32,
   "id": "20318a86-8c55-4dd1-9b86-8b1671c88749",
   "metadata": {},
   "outputs": [],
   "source": [
    "x_val =X_train[:15000]\n",
    "partial_X_train= X_train[15000:]\n",
    "y_val= y_train[:15000]\n",
    "partial_y_train= y_train[15000:]"
   ]
  },
  {
   "cell_type": "code",
   "execution_count": 33,
   "id": "a93af669-234b-4434-ace0-14576c8250e5",
   "metadata": {
    "collapsed": true,
    "jupyter": {
     "outputs_hidden": true
    },
    "tags": []
   },
   "outputs": [
    {
     "name": "stdout",
     "output_type": "stream",
     "text": [
      "Epoch 1/20\n",
      "20/20 [==============================] - 2s 52ms/step - loss: 0.5882 - accuracy: 0.7307 - val_loss: 0.4859 - val_accuracy: 0.8215\n",
      "Epoch 2/20\n",
      "20/20 [==============================] - 0s 19ms/step - loss: 0.3984 - accuracy: 0.8895 - val_loss: 0.3926 - val_accuracy: 0.8723\n",
      "Epoch 3/20\n",
      "20/20 [==============================] - 0s 18ms/step - loss: 0.2949 - accuracy: 0.9201 - val_loss: 0.3273 - val_accuracy: 0.8835\n",
      "Epoch 4/20\n",
      "20/20 [==============================] - 0s 19ms/step - loss: 0.2236 - accuracy: 0.9435 - val_loss: 0.3005 - val_accuracy: 0.8851\n",
      "Epoch 5/20\n",
      "20/20 [==============================] - 0s 19ms/step - loss: 0.1799 - accuracy: 0.9538 - val_loss: 0.2988 - val_accuracy: 0.8785\n",
      "Epoch 6/20\n",
      "20/20 [==============================] - 0s 19ms/step - loss: 0.1441 - accuracy: 0.9649 - val_loss: 0.2902 - val_accuracy: 0.8831\n",
      "Epoch 7/20\n",
      "20/20 [==============================] - 0s 20ms/step - loss: 0.1163 - accuracy: 0.9744 - val_loss: 0.3160 - val_accuracy: 0.8747\n",
      "Epoch 8/20\n",
      "20/20 [==============================] - 0s 19ms/step - loss: 0.0982 - accuracy: 0.9784 - val_loss: 0.3222 - val_accuracy: 0.8751\n",
      "Epoch 9/20\n",
      "20/20 [==============================] - 0s 20ms/step - loss: 0.0780 - accuracy: 0.9865 - val_loss: 0.3172 - val_accuracy: 0.8769\n",
      "Epoch 10/20\n",
      "20/20 [==============================] - 0s 19ms/step - loss: 0.0640 - accuracy: 0.9899 - val_loss: 0.3389 - val_accuracy: 0.8743\n",
      "Epoch 11/20\n",
      "20/20 [==============================] - 0s 20ms/step - loss: 0.0527 - accuracy: 0.9911 - val_loss: 0.3928 - val_accuracy: 0.8656\n",
      "Epoch 12/20\n",
      "20/20 [==============================] - 0s 21ms/step - loss: 0.0407 - accuracy: 0.9946 - val_loss: 0.4089 - val_accuracy: 0.8649\n",
      "Epoch 13/20\n",
      "20/20 [==============================] - 0s 20ms/step - loss: 0.0338 - accuracy: 0.9952 - val_loss: 0.4010 - val_accuracy: 0.8712\n",
      "Epoch 14/20\n",
      "20/20 [==============================] - 0s 20ms/step - loss: 0.0265 - accuracy: 0.9973 - val_loss: 0.4252 - val_accuracy: 0.8688\n",
      "Epoch 15/20\n",
      "20/20 [==============================] - 0s 19ms/step - loss: 0.0204 - accuracy: 0.9981 - val_loss: 0.5106 - val_accuracy: 0.8555\n",
      "Epoch 16/20\n",
      "20/20 [==============================] - 0s 20ms/step - loss: 0.0159 - accuracy: 0.9993 - val_loss: 0.4746 - val_accuracy: 0.8675\n",
      "Epoch 17/20\n",
      "20/20 [==============================] - 0s 21ms/step - loss: 0.0145 - accuracy: 0.9989 - val_loss: 0.4934 - val_accuracy: 0.8677\n",
      "Epoch 18/20\n",
      "20/20 [==============================] - 0s 21ms/step - loss: 0.0087 - accuracy: 0.9996 - val_loss: 0.5169 - val_accuracy: 0.8663\n",
      "Epoch 19/20\n",
      "20/20 [==============================] - 0s 19ms/step - loss: 0.0075 - accuracy: 0.9997 - val_loss: 0.5542 - val_accuracy: 0.8673\n",
      "Epoch 20/20\n",
      "20/20 [==============================] - 0s 19ms/step - loss: 0.0047 - accuracy: 0.9999 - val_loss: 0.5895 - val_accuracy: 0.8643\n"
     ]
    }
   ],
   "source": [
    "history =model.fit(partial_X_train, partial_y_train, epochs=20, batch_size=512,\n",
    "         validation_data =(x_val, y_val))"
   ]
  },
  {
   "cell_type": "code",
   "execution_count": 34,
   "id": "7eacc0b2-b650-452e-acc8-1879329e5ef2",
   "metadata": {
    "collapsed": true,
    "jupyter": {
     "outputs_hidden": true
    },
    "tags": []
   },
   "outputs": [
    {
     "data": {
      "text/plain": [
       "{'loss': [0.5881956815719604,\n",
       "  0.39836108684539795,\n",
       "  0.2948678433895111,\n",
       "  0.2236294150352478,\n",
       "  0.17993366718292236,\n",
       "  0.14410145580768585,\n",
       "  0.11625581979751587,\n",
       "  0.09815207868814468,\n",
       "  0.07796798646450043,\n",
       "  0.06399811059236526,\n",
       "  0.052659228444099426,\n",
       "  0.04069015383720398,\n",
       "  0.03377813100814819,\n",
       "  0.02646910957992077,\n",
       "  0.020352955907583237,\n",
       "  0.015887156128883362,\n",
       "  0.014538273215293884,\n",
       "  0.008701134473085403,\n",
       "  0.007546428125351667,\n",
       "  0.004749712534248829],\n",
       " 'accuracy': [0.7307000160217285,\n",
       "  0.8895000219345093,\n",
       "  0.9200999736785889,\n",
       "  0.9434999823570251,\n",
       "  0.9538000226020813,\n",
       "  0.964900016784668,\n",
       "  0.974399983882904,\n",
       "  0.9783999919891357,\n",
       "  0.9865000247955322,\n",
       "  0.9898999929428101,\n",
       "  0.991100013256073,\n",
       "  0.9945999979972839,\n",
       "  0.995199978351593,\n",
       "  0.9973000288009644,\n",
       "  0.9980999827384949,\n",
       "  0.9993000030517578,\n",
       "  0.9988999962806702,\n",
       "  0.9995999932289124,\n",
       "  0.9997000098228455,\n",
       "  0.9998999834060669],\n",
       " 'val_loss': [0.48594626784324646,\n",
       "  0.39258891344070435,\n",
       "  0.3273008465766907,\n",
       "  0.3005272150039673,\n",
       "  0.2988109290599823,\n",
       "  0.29017817974090576,\n",
       "  0.31598231196403503,\n",
       "  0.32224681973457336,\n",
       "  0.31720560789108276,\n",
       "  0.33892181515693665,\n",
       "  0.3927692174911499,\n",
       "  0.40887919068336487,\n",
       "  0.4010044038295746,\n",
       "  0.4252389967441559,\n",
       "  0.5105751156806946,\n",
       "  0.4746294319629669,\n",
       "  0.4933929443359375,\n",
       "  0.5169340372085571,\n",
       "  0.5541789531707764,\n",
       "  0.5895246863365173],\n",
       " 'val_accuracy': [0.8214666843414307,\n",
       "  0.8723333477973938,\n",
       "  0.8835333585739136,\n",
       "  0.8851333260536194,\n",
       "  0.8784666657447815,\n",
       "  0.8831333518028259,\n",
       "  0.8747333288192749,\n",
       "  0.8750666379928589,\n",
       "  0.8769333362579346,\n",
       "  0.8743333220481873,\n",
       "  0.8655999898910522,\n",
       "  0.8648666739463806,\n",
       "  0.8712000250816345,\n",
       "  0.8687999844551086,\n",
       "  0.8555333614349365,\n",
       "  0.8674666881561279,\n",
       "  0.867733359336853,\n",
       "  0.8663333058357239,\n",
       "  0.8672666549682617,\n",
       "  0.8643333315849304]}"
      ]
     },
     "execution_count": 34,
     "metadata": {},
     "output_type": "execute_result"
    }
   ],
   "source": [
    "history.history"
   ]
  },
  {
   "cell_type": "code",
   "execution_count": 35,
   "id": "0d60c713-1bbe-4350-bd10-2e1700f85579",
   "metadata": {},
   "outputs": [
    {
     "data": {
      "text/plain": [
       "dict_keys(['loss', 'accuracy', 'val_loss', 'val_accuracy'])"
      ]
     },
     "execution_count": 35,
     "metadata": {},
     "output_type": "execute_result"
    }
   ],
   "source": [
    "history.history.keys()"
   ]
  },
  {
   "cell_type": "code",
   "execution_count": 37,
   "id": "36590701-b89d-4d67-81fc-2a8652113d3e",
   "metadata": {
    "collapsed": true,
    "jupyter": {
     "outputs_hidden": true
    },
    "tags": []
   },
   "outputs": [
    {
     "data": {
      "text/plain": [
       "[0.7307000160217285,\n",
       " 0.8895000219345093,\n",
       " 0.9200999736785889,\n",
       " 0.9434999823570251,\n",
       " 0.9538000226020813,\n",
       " 0.964900016784668,\n",
       " 0.974399983882904,\n",
       " 0.9783999919891357,\n",
       " 0.9865000247955322,\n",
       " 0.9898999929428101,\n",
       " 0.991100013256073,\n",
       " 0.9945999979972839,\n",
       " 0.995199978351593,\n",
       " 0.9973000288009644,\n",
       " 0.9980999827384949,\n",
       " 0.9993000030517578,\n",
       " 0.9988999962806702,\n",
       " 0.9995999932289124,\n",
       " 0.9997000098228455,\n",
       " 0.9998999834060669]"
      ]
     },
     "execution_count": 37,
     "metadata": {},
     "output_type": "execute_result"
    }
   ],
   "source": [
    "history.history['accuracy']"
   ]
  },
  {
   "cell_type": "code",
   "execution_count": 38,
   "id": "6c645e43-f225-4a05-8b3d-171a304381c5",
   "metadata": {},
   "outputs": [
    {
     "data": {
      "text/plain": [
       "[0.8214666843414307,\n",
       " 0.8723333477973938,\n",
       " 0.8835333585739136,\n",
       " 0.8851333260536194,\n",
       " 0.8784666657447815,\n",
       " 0.8831333518028259,\n",
       " 0.8747333288192749,\n",
       " 0.8750666379928589,\n",
       " 0.8769333362579346,\n",
       " 0.8743333220481873,\n",
       " 0.8655999898910522,\n",
       " 0.8648666739463806,\n",
       " 0.8712000250816345,\n",
       " 0.8687999844551086,\n",
       " 0.8555333614349365,\n",
       " 0.8674666881561279,\n",
       " 0.867733359336853,\n",
       " 0.8663333058357239,\n",
       " 0.8672666549682617,\n",
       " 0.8643333315849304]"
      ]
     },
     "execution_count": 38,
     "metadata": {},
     "output_type": "execute_result"
    }
   ],
   "source": [
    "history.history['val_accuracy'] # 신유형"
   ]
  },
  {
   "cell_type": "code",
   "execution_count": 39,
   "id": "e6cdf4d0-5ac7-4acb-9675-4c6993ed06c4",
   "metadata": {},
   "outputs": [
    {
     "data": {
      "text/plain": [
       "()"
      ]
     },
     "execution_count": 39,
     "metadata": {},
     "output_type": "execute_result"
    },
    {
     "data": {
      "image/png": "[encoded data removed]",
      "text/plain": [
       "<Figure size 432x288 with 1 Axes>"
      ]
     },
     "metadata": {
      "needs_background": "light"
     },
     "output_type": "display_data"
    }
   ],
   "source": [
    "import matplotlib.pyplot as plt\n",
    "history_dict = history.history\n",
    "loss_values = history_dict[\"loss\"]\n",
    "val_loss_values = history_dict[\"val_loss\"]\n",
    "epochs = range(1, len(loss_values) + 1)\n",
    "plt.plot(epochs, loss_values, \"bo\", label=\"Training loss\")\n",
    "plt.plot(epochs, val_loss_values, \"b\", label=\"Validation loss\")\n",
    "plt.title(\"Training and validation loss\")\n",
    "plt.xlabel(\"Epochs\")\n",
    "plt.ylabel(\"Loss\")\n",
    "plt.legend()\n",
    "plt.show\n",
    "() "
   ]
  },
  {
   "cell_type": "code",
   "execution_count": 41,
   "id": "cdbe357f-d579-4b43-b969-c1da43d24c4d",
   "metadata": {},
   "outputs": [
    {
     "data": {
      "text/plain": [
       "()"
      ]
     },
     "execution_count": 41,
     "metadata": {},
     "output_type": "execute_result"
    },
    {
     "data": {
      "image/png": "[encoded data removed]",
      "text/plain": [
       "<Figure size 432x288 with 1 Axes>"
      ]
     },
     "metadata": {
      "needs_background": "light"
     },
     "output_type": "display_data"
    }
   ],
   "source": [
    "plt.clf()\n",
    "acc = history_dict[\"accuracy\"]\n",
    "val_acc = history_dict[\"val_accuracy\"]\n",
    "plt.plot(epochs, acc, \"bo\", label=\"Training acc\")\n",
    "plt.plot(epochs, val_acc, \"b\", label=\"Validation acc\")\n",
    "plt.title(\"Training and validation accuracy\")\n",
    "plt.xlabel(\"Epochs\")\n",
    "plt.ylabel(\"Accuracy\")\n",
    "plt.legend()\n",
    "plt.show\n",
    "() "
   ]
  },
  {
   "cell_type": "code",
   "execution_count": 58,
   "id": "00b56ecb-c315-4daf-95e1-724c57b0ce41",
   "metadata": {},
   "outputs": [],
   "source": [
    "\n",
    "model = Sequential([\n",
    "layers.Dense(16, activation='relu'), \n",
    "layers.Dense(16, activation='relu'),\n",
    "layers.Dense(1, activation='sigmoid')])\n",
    "\n",
    "model.compile(optimizer='rmsprop', loss='binary_crossentropy', metrics=[\"accuracy\"])"
   ]
  },
  {
   "cell_type": "code",
   "execution_count": 59,
   "id": "f8cdc158-1fdc-40cc-bb19-fb51245fd4c4",
   "metadata": {},
   "outputs": [
    {
     "name": "stdout",
     "output_type": "stream",
     "text": [
      "Epoch 1/4\n",
      "49/49 [==============================] - 1s 9ms/step - loss: 0.4825 - accuracy: 0.8063\n",
      "Epoch 2/4\n",
      "49/49 [==============================] - 0s 8ms/step - loss: 0.2730 - accuracy: 0.9089\n",
      "Epoch 3/4\n",
      "49/49 [==============================] - 0s 8ms/step - loss: 0.2070 - accuracy: 0.9271\n",
      "Epoch 4/4\n",
      "49/49 [==============================] - 0s 8ms/step - loss: 0.1707 - accuracy: 0.9397\n"
     ]
    },
    {
     "data": {
      "text/plain": [
       "<keras.callbacks.History at 0x1cc3a045820>"
      ]
     },
     "execution_count": 59,
     "metadata": {},
     "output_type": "execute_result"
    }
   ],
   "source": [
    "model.fit(X_train, y_train, epochs=4, batch_size=512)"
   ]
  },
  {
   "cell_type": "code",
   "execution_count": 60,
   "id": "3e7a429c-395e-42b9-8728-937589f40f86",
   "metadata": {},
   "outputs": [
    {
     "name": "stdout",
     "output_type": "stream",
     "text": [
      "782/782 [==============================] - 1s 2ms/step\n"
     ]
    }
   ],
   "source": [
    "preds=model.predict(X_test)"
   ]
  },
  {
   "cell_type": "code",
   "execution_count": 61,
   "id": "39e3caa0-b91a-4d5f-820b-d0662f03e350",
   "metadata": {},
   "outputs": [
    {
     "data": {
      "text/plain": [
       "array([[0.22733024],\n",
       "       [0.9988694 ],\n",
       "       [0.85077935],\n",
       "       [0.76510733]], dtype=float32)"
      ]
     },
     "execution_count": 61,
     "metadata": {},
     "output_type": "execute_result"
    }
   ],
   "source": [
    "preds[:4]"
   ]
  },
  {
   "cell_type": "code",
   "execution_count": 62,
   "id": "238205e4-76f2-452e-a6bf-5ca5fa9a9e36",
   "metadata": {},
   "outputs": [
    {
     "data": {
      "text/plain": [
       "array([[0.],\n",
       "       [1.],\n",
       "       [1.],\n",
       "       [1.]], dtype=float32)"
      ]
     },
     "execution_count": 62,
     "metadata": {},
     "output_type": "execute_result"
    }
   ],
   "source": [
    "preds[:4].round()"
   ]
  },
  {
   "cell_type": "code",
   "execution_count": 63,
   "id": "c2e1f427-17d5-4dc4-8935-62684b461fda",
   "metadata": {},
   "outputs": [
    {
     "name": "stdout",
     "output_type": "stream",
     "text": [
      "782/782 [==============================] - 1s 2ms/step - loss: 0.2885 - accuracy: 0.8854\n"
     ]
    },
    {
     "data": {
      "text/plain": [
       "[0.288543164730072, 0.8853600025177002]"
      ]
     },
     "execution_count": 63,
     "metadata": {},
     "output_type": "execute_result"
    }
   ],
   "source": [
    "model.evaluate(X_test, test_labels)"
   ]
  },
  {
   "cell_type": "code",
   "execution_count": null,
   "id": "08152d2f-27c5-41a3-a734-6ff7df3d0d75",
   "metadata": {},
   "outputs": [],
   "source": []
  }
 ],
 "metadata": {
  "kernelspec": {
   "display_name": "Python 3 (ipykernel)",
   "language": "python",
   "name": "python3"
  },
  "language_info": {
   "codemirror_mode": {
    "name": "ipython",
    "version": 3
   },
   "file_extension": ".py",
   "mimetype": "text/x-python",
   "name": "python",
   "nbconvert_exporter": "python",
   "pygments_lexer": "ipython3",
   "version": "3.9.12"
  }
 },
 "nbformat": 4,
 "nbformat_minor": 5
}
