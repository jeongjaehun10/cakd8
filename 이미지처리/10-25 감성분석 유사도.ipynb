{
 "cells": [
  {
   "cell_type": "markdown",
   "id": "5f504380-81a0-4887-9c62-2dd599ced814",
   "metadata": {},
   "source": [
    "# 정리"
   ]
  },
  {
   "cell_type": "code",
   "execution_count": null,
   "id": "eb0192a8-d4bc-4464-858b-f8d97faf94b4",
   "metadata": {},
   "outputs": [],
   "source": [
    "from nltk.sentiment.vader import SentimentIntensityAnalyzer\n",
    "senti_analyzer =SentimentIntensityAnalyzer()\n",
    "senti_scores =senti_analyzer.polarity_scores(train)\n",
    "def cos_similarity(v1, v2):  # 좌표 가정\n",
    "    dot_product =np.dot(v1, v2) # 내적행렬 곱 \n",
    "    magnitude = (np.sqrt(np.sum(np.square(v1)))*np.sqrt(np.sum(np.square(v2))))# 크기\n",
    "    return dot_product/magnitude\n",
    "from sklearn.metrics.pairwise import cosine_similarity\n",
    "\n",
    "from sklearn.feature_extraction.text import TfidfVectorizer\n",
    "\n",
    "doc_list = ['if you take the blue pill, the story ends' ,\n",
    "            'if you take the red pill, you stay in Wonderland',\n",
    "            'if you take the red pill, I show you how deep the rabbit hole goes']\n",
    "\n",
    "tfidf_vect_simple = TfidfVectorizer()\n",
    "feature_vect_simple = tfidf_vect_simple.fit_transform(doc_list)\n",
    "print(feature_vect_simple.shape) \n"
   ]
  },
  {
   "cell_type": "code",
   "execution_count": 1,
   "id": "5b1a3865-808a-4f93-8fcb-675f046ad696",
   "metadata": {},
   "outputs": [],
   "source": [
    "# 복습문제"
   ]
  },
  {
   "cell_type": "code",
   "execution_count": 2,
   "id": "ad88de8f-d8bc-4569-ad0e-482169a224c4",
   "metadata": {},
   "outputs": [
    {
     "ename": "SyntaxError",
     "evalue": "invalid syntax (2721633230.py, line 1)",
     "output_type": "error",
     "traceback": [
      "\u001b[1;36m  Input \u001b[1;32mIn [2]\u001b[1;36m\u001b[0m\n\u001b[1;33m    BOW의 Feature Vectrorizer 두가지를 쓰세요.\u001b[0m\n\u001b[1;37m         ^\u001b[0m\n\u001b[1;31mSyntaxError\u001b[0m\u001b[1;31m:\u001b[0m invalid syntax\n"
     ]
    }
   ],
   "source": [
    "BOW의 Feature Vectrorizer 두가지를 쓰세요. \n",
    "카운트 기반, TF-IDF \n",
    "\n",
    "말뭉치 : corpus\n",
    "어간 추출 : stemming\n",
    "표제어 추출 : lemmatize\n",
    "\n",
    "토큰화 두가지 :\n",
    "sent_tokenize\n",
    "word_tokenize\n",
    "\n",
    "(BOW) 모델은 문서가 가지는 모든 단어를 문맥이나 순서를 무시한다. O\n",
    "텍스트를 피쳐 벡터화한다 = 워드 임베딩 Word embedding 2가지 \n",
    "BOW , word2vec \n",
    "\n",
    "is, the, a등 문장울 구성하는 필수 문법요소지만 문맥적으로 큰 의미가 없는 단어 : \n",
    "stop word , 불용어 \n",
    "\n",
    "stemmer.stem(working)이것의 출력물을 예측하시오. \n",
    "BOW 형태를 가진 언어 모델의 피처 벡터화는 대부분 희소행렬이다. \n",
    "희소행렬의 압축해서 저장하는 두가지 방법 : COO, CSR방법 \n",
    "연속된 n개의 단어를 하나의 토근화 단위로 분리 : n-gram \n",
    "카운트 벡터화를 위해 CountVectorize() 사용하기전에 반드시 텍스트 전처리를 해야한다. (X)\n",
    "CountVectorize() 클래스에는 소문자 일관 변환, 토큰화, 스톱 워드 필터링 등의 텍스트 를 제공한다. "
   ]
  },
  {
   "cell_type": "code",
   "execution_count": 12,
   "id": "0eba26de-73ef-4e82-8193-45edc87545d8",
   "metadata": {},
   "outputs": [
    {
     "name": "stdout",
     "output_type": "stream",
     "text": [
      "[[0 1 0 3]\n",
      " [1 2 0 0]\n",
      " [0 0 1 0]\n",
      " [0 2 0 0]]\n"
     ]
    }
   ],
   "source": [
    "from scipy import sparse\n",
    "import numpy as np\n",
    "dense = np.array([[0,1,0,3],\n",
    "                  [1,2,0,0],\n",
    "                  [0,0,1,0],\n",
    "                  [0,2,0,0]]) \n",
    "\n",
    "data = np.array([1,3,1,2,1,2])\n",
    "row = np.array([0,0,1,1,2,3])\n",
    "col = np.array([1,3,0,1,2,1])\n",
    "print(sparse.coo_matrix((data, (row,col))).toarray()) "
   ]
  },
  {
   "cell_type": "code",
   "execution_count": 13,
   "id": "0cab0dd0-0cf9-4e44-bf56-810f3069b637",
   "metadata": {},
   "outputs": [
    {
     "data": {
      "text/plain": [
       "array([[0, 1, 0, 3],\n",
       "       [1, 2, 0, 0],\n",
       "       [0, 0, 1, 0],\n",
       "       [0, 2, 0, 0]], dtype=int32)"
      ]
     },
     "execution_count": 13,
     "metadata": {},
     "output_type": "execute_result"
    }
   ],
   "source": [
    "row_index = np.array([1, 3, 4, 5]) # 이것도 되네?? \n",
    "sparse.csr_matrix((data, (row, col))).toarray() "
   ]
  },
  {
   "cell_type": "code",
   "execution_count": 14,
   "id": "fe6dd9c5-c75b-40b4-bfa7-c3cb980e8b06",
   "metadata": {},
   "outputs": [
    {
     "data": {
      "text/plain": [
       "array([[0, 1, 0, 3],\n",
       "       [1, 2, 0, 0],\n",
       "       [0, 0, 1, 0],\n",
       "       [0, 2, 0, 0]])"
      ]
     },
     "execution_count": 14,
     "metadata": {},
     "output_type": "execute_result"
    }
   ],
   "source": [
    "data = [1, 3, 1, 2, 1, 2]\n",
    "row_index = np.array([0, 2, 4, 5, 6])\n",
    "col = [1, 3, 0, 1, 2, 1]\n",
    "\n",
    "sparse.csr_matrix((data, col, row_index)).toarray() "
   ]
  },
  {
   "cell_type": "code",
   "execution_count": 15,
   "id": "44c0736c-8f98-4d51-9582-954680de26c1",
   "metadata": {},
   "outputs": [
    {
     "data": {
      "text/plain": [
       "<bound method coo_matrix.toarray of <4x4 sparse matrix of type '<class 'numpy.int32'>'\n",
       "\twith 6 stored elements in COOrdinate format>>"
      ]
     },
     "execution_count": 15,
     "metadata": {},
     "output_type": "execute_result"
    }
   ],
   "source": [
    "sparse.csr_matrix((data, (row,col))).toarray\n",
    "sparse.coo_matrix((data,(row,col))).toarray"
   ]
  },
  {
   "cell_type": "code",
   "execution_count": 18,
   "id": "a078e746-d27d-4328-8f16-2311a8a05d56",
   "metadata": {},
   "outputs": [
    {
     "data": {
      "text/plain": [
       "array([[0, 1, 0, 2],\n",
       "       [0, 3, 4, 5],\n",
       "       [0, 0, 0, 0],\n",
       "       [6, 0, 0, 7],\n",
       "       [0, 8, 0, 0]])"
      ]
     },
     "execution_count": 18,
     "metadata": {},
     "output_type": "execute_result"
    }
   ],
   "source": [
    "#row = [0,0,1,1,1,3,3,4]\n",
    "       #0 1 2 3 4 5 6 7 \n",
    "data = [1,2,3,4,5,6,7,8]\n",
    "row_index= [0,2,5,5,7,8]\n",
    "col = [1,3,1,2,3,0,3,1]\n",
    "\n",
    "sparse.csr_matrix((data, col, row_index)).toarray()"
   ]
  },
  {
   "cell_type": "code",
   "execution_count": 19,
   "id": "7844ce57-1b9d-4411-8cd2-d2e509a6c83d",
   "metadata": {},
   "outputs": [
    {
     "ename": "SyntaxError",
     "evalue": "invalid syntax (2078176426.py, line 1)",
     "output_type": "error",
     "traceback": [
      "\u001b[1;36m  Input \u001b[1;32mIn [19]\u001b[1;36m\u001b[0m\n\u001b[1;33m    전처리 내용 순서  : 클렌징, 문장 토큰화, 단어 토큰화 , 스톱워드 제거, Stemming과 Lemmatization\u001b[0m\n\u001b[1;37m        ^\u001b[0m\n\u001b[1;31mSyntaxError\u001b[0m\u001b[1;31m:\u001b[0m invalid syntax\n"
     ]
    }
   ],
   "source": [
    "전처리 내용 순서  : 클렌징, 문장 토큰화, 단어 토큰화 , 스톱워드 제거, Stemming과 Lemmatization \n",
    "사전 데이터 가공(클렌징), 토큰화, 텍스트 정규화(스톱워드), 피처백터화(워드임베딩) \n",
    "\n",
    "\n",
    "- 클렌징\n",
    "- 토큰화\n",
    "- 스톱워드 제거/필터링/철자 수정\n",
    "- Stemming/Lemmatization \n",
    "\n",
    "cleansing\n",
    "tokenization\n",
    "stop words 제거\n",
    "정규화 \n",
    "\n",
    "[]"
   ]
  },
  {
   "cell_type": "code",
   "execution_count": 20,
   "id": "0b88c228-f0d8-42d7-a8a9-863fe541e921",
   "metadata": {},
   "outputs": [],
   "source": [
    "text = 'I decided, very early on, just to accept life unconditionally. I never expected it to do anything special for me, yet I seemed to accomplish far more than I had ever hoped.Most of the time it just happened to me without my ever seeking it.' "
   ]
  },
  {
   "cell_type": "code",
   "execution_count": 24,
   "id": "df1595bb-1716-46cb-92f0-8a9935d329e7",
   "metadata": {},
   "outputs": [
    {
     "name": "stderr",
     "output_type": "stream",
     "text": [
      "[nltk_data] Downloading package stopwords to\n",
      "[nltk_data]     C:\\Users\\admin\\AppData\\Roaming\\nltk_data...\n",
      "[nltk_data]   Package stopwords is already up-to-date!\n"
     ]
    }
   ],
   "source": [
    "import nltk\n",
    "nltk.download('stopwords')\n",
    "from nltk import word_tokenize, sent_tokenize\n",
    "\n"
   ]
  },
  {
   "cell_type": "code",
   "execution_count": 30,
   "id": "cc41dbf0-f7c4-4e38-ad75-4649f1e1ef42",
   "metadata": {},
   "outputs": [
    {
     "name": "stdout",
     "output_type": "stream",
     "text": [
      "필터링 한 후\n",
      " [['decided', ',', 'early', ',', 'accept', 'life', 'unconditionally', '.'], ['never', 'expected', 'anything', 'special', ',', 'yet', 'seemed', 'accomplish', 'far', 'ever', 'hoped.most', 'time', 'happened', 'without', 'ever', 'seeking', '.']]\n"
     ]
    },
    {
     "name": "stderr",
     "output_type": "stream",
     "text": [
      "[nltk_data] Downloading package stopwords to\n",
      "[nltk_data]     C:\\Users\\admin\\AppData\\Roaming\\nltk_data...\n",
      "[nltk_data]   Package stopwords is already up-to-date!\n"
     ]
    }
   ],
   "source": [
    "import nltk\n",
    "nltk.download('stopwords')\n",
    "from nltk import word_tokenize, sent_tokenize\n",
    "\n",
    "text = 'I decided, very early on, just to accept life unconditionally.\\\n",
    "I never expected it to do anything special for me, yet I seemed to accomplish far more than I had ever hoped.\\\n",
    "Most of the time it just happened to me without my ever seeking it.'\n",
    "\n",
    "words_tokenized = []\n",
    "for i in sentences :\n",
    "    word = word_tokenize(i)\n",
    "    words_tokenized.append(word)\n",
    "\n",
    "\n",
    "stopwords = nltk.corpus.stopwords.words('english')\n",
    "\n",
    "\n",
    "all_sentence_filtered = []\n",
    "for j in words_tokenized :\n",
    "    filtered = []\n",
    "    for k in j :\n",
    "        k = k.lower() \n",
    "        if k not in stopwords :\n",
    "            filtered.append(k)\n",
    "      \n",
    "    all_sentence_filtered.append(filtered)\n",
    "        \n",
    "print('필터링 한 후\\n',all_sentence_filtered)\n",
    "\n",
    "    \n"
   ]
  },
  {
   "cell_type": "code",
   "execution_count": 28,
   "id": "e2e83b07-8849-4a19-b75f-fa8ff17a3e6c",
   "metadata": {},
   "outputs": [
    {
     "name": "stdout",
     "output_type": "stream",
     "text": [
      "['decided', 'early', 'accept', 'life', 'unconditionally', 'never', 'expected', 'anything', 'special', 'yet', 'seemed', 'accomplish', 'far', 'ever', 'hoped', 'time', 'happened', 'without', 'ever', 'seeking']\n"
     ]
    }
   ],
   "source": [
    "from nltk.corpus import stopwords\n",
    "from nltk.tokenize import word_tokenize\n",
    "import re\n",
    "\n",
    "text = 'I decided, very early on, just to accept life unconditionally. \\\n",
    "I never expected it to do anything special for me, yet I seemed to accomplish far more than \\\n",
    "I had ever hoped.Most of the time it just happened to me without my ever seeking it.' \n",
    "\n",
    "text = text.lower()\n",
    "\n",
    "# 1. 특수문자 제거\n",
    "text = re.sub(\"[^a-zA-Z]\", \" \", text)\n",
    "\n",
    "# 2. 단어 토큰화\n",
    "words = word_tokenize(text, language='english')\n",
    "\n",
    "# 3. 스톱 워드 제거\n",
    "stopwords = stopwords.words('english')\n",
    "words = [word for word in words if word not in stopwords]\n",
    "\n",
    "print(words) "
   ]
  },
  {
   "cell_type": "code",
   "execution_count": 31,
   "id": "e5576129-2fbd-4da4-adfa-d3f1f9fc17d7",
   "metadata": {},
   "outputs": [],
   "source": [
    "import re"
   ]
  },
  {
   "cell_type": "code",
   "execution_count": 32,
   "id": "5688b685-032c-413f-b343-7805b2ae8812",
   "metadata": {},
   "outputs": [
    {
     "ename": "SyntaxError",
     "evalue": "invalid syntax (773909432.py, line 1)",
     "output_type": "error",
     "traceback": [
      "\u001b[1;36m  Input \u001b[1;32mIn [32]\u001b[1;36m\u001b[0m\n\u001b[1;33m    p= re.compile([^a-zA-Z])\u001b[0m\n\u001b[1;37m                   ^\u001b[0m\n\u001b[1;31mSyntaxError\u001b[0m\u001b[1;31m:\u001b[0m invalid syntax\n"
     ]
    }
   ],
   "source": [
    "p= re.compile([^a-zA-Z])"
   ]
  },
  {
   "cell_type": "code",
   "execution_count": 33,
   "id": "7f4fded1-4a89-489a-8aa5-4d26a46ac625",
   "metadata": {
    "collapsed": true,
    "jupyter": {
     "outputs_hidden": true
    },
    "tags": []
   },
   "outputs": [
    {
     "data": {
      "text/plain": [
       "[['I',\n",
       "  'decided',\n",
       "  'very',\n",
       "  'early',\n",
       "  'on',\n",
       "  'just',\n",
       "  'to',\n",
       "  'accept',\n",
       "  'life',\n",
       "  'unconditionally',\n",
       "  'I',\n",
       "  'never',\n",
       "  'expected',\n",
       "  'it',\n",
       "  'to',\n",
       "  'do',\n",
       "  'anything',\n",
       "  'special',\n",
       "  'for',\n",
       "  'me',\n",
       "  'yet',\n",
       "  'I',\n",
       "  'seemed',\n",
       "  'to',\n",
       "  'accomplish',\n",
       "  'far',\n",
       "  'more',\n",
       "  'than',\n",
       "  'I',\n",
       "  'had',\n",
       "  'ever',\n",
       "  'hoped',\n",
       "  'Most',\n",
       "  'of',\n",
       "  'the',\n",
       "  'time',\n",
       "  'it',\n",
       "  'just',\n",
       "  'happened',\n",
       "  'to',\n",
       "  'me',\n",
       "  'without',\n",
       "  'my',\n",
       "  'ever',\n",
       "  'seeking',\n",
       "  'it']]"
      ]
     },
     "execution_count": 33,
     "metadata": {},
     "output_type": "execute_result"
    }
   ],
   "source": [
    "import re\n",
    "\n",
    "text1 = re.sub('[^a-zA-Z]', ' ', text)\n",
    "text1\n",
    "\n",
    "from nltk import word_tokenize, sent_tokenize\n",
    "\n",
    "def tokenize_text(text):\n",
    "    sentences = sent_tokenize(text)\n",
    "    word_tokens = [word_tokenize(sentence) for sentence in sentences]\n",
    "    return word_tokens\n",
    "\n",
    "word_tokens = tokenize_text(text1)\n",
    "word_tokens "
   ]
  },
  {
   "cell_type": "code",
   "execution_count": null,
   "id": "c61ae05b-a816-4d47-a932-ed71f322ec1f",
   "metadata": {},
   "outputs": [],
   "source": [
    "TF- 단어빈도 \n",
    "문서내 단어가 얼마나 등장하는지 \n",
    "IDF 역문서빈도 -log(전체 문서의 수/ term이 포함된 문서의 수)\n",
    "log 1의 값은 0이다. \n",
    "매번 등장하는 단어들(상수취급)을  걸러내는 역할을 한다. 단어가 자주 나온다고 좋은 것은 아님...\n",
    "log 1= 0 \n",
    "log 1/10 = -1 \n",
    "로그함수 그래프는 우상향 \n",
    "확률은 1이 최대치 log1보다 작은 -임 그래서 -를 넣어줘서 +로 만듬 \n",
    "분모의 값이 클수록 log값 작아짐 \n",
    "log1/P(t|D) 비율이다.  D:1000개 t:1000개 모든 문서마다 term이 포함된 문서의 수 10/1000이면 1/100인데\n",
    "적게 들어갈 수록 분모가 작아지고 역수하면 로그는 커짐 중요도가 커짐 \n",
    "\n",
    "log10(3/2) <  log10(3/1) 작게 들어갈 수록 수는 커짐 log10(전체 문서의 수/ term이 포함된 문서의 수)\n",
    "TF-IDF = TFx IDF 곱한 값 등장 빈도수가 늘수록 IDF는 작아짐 "
   ]
  },
  {
   "cell_type": "code",
   "execution_count": null,
   "id": "28ae35ea-8b19-4669-a599-0039f85e4b17",
   "metadata": {},
   "outputs": [],
   "source": [
    "lexicon : 감성사전 \n",
    "semantic : 문맥상, 맥락상, 의미상... "
   ]
  },
  {
   "cell_type": "code",
   "execution_count": 36,
   "id": "981e088c-2f83-427d-b8f7-bc884f22f715",
   "metadata": {},
   "outputs": [],
   "source": [
    "#SentiWordNet을 이용한 감성 분석"
   ]
  },
  {
   "cell_type": "code",
   "execution_count": 37,
   "id": "4d24ab76-e998-4ecf-b175-94bd3d77beee",
   "metadata": {},
   "outputs": [],
   "source": [
    "# WordNet Synset 과 SentiWordNet SentiSynset 클래스 이해"
   ]
  },
  {
   "cell_type": "code",
   "execution_count": 34,
   "id": "c2b89d9b-ec9e-4191-a9ae-73cda6809077",
   "metadata": {
    "collapsed": true,
    "jupyter": {
     "outputs_hidden": true
    },
    "tags": []
   },
   "outputs": [
    {
     "name": "stderr",
     "output_type": "stream",
     "text": [
      "[nltk_data] Downloading collection 'all'\n",
      "[nltk_data]    | \n",
      "[nltk_data]    | Downloading package abc to\n",
      "[nltk_data]    |     C:\\Users\\admin\\AppData\\Roaming\\nltk_data...\n",
      "[nltk_data]    |   Unzipping corpora\\abc.zip.\n",
      "[nltk_data]    | Downloading package alpino to\n",
      "[nltk_data]    |     C:\\Users\\admin\\AppData\\Roaming\\nltk_data...\n",
      "[nltk_data]    |   Unzipping corpora\\alpino.zip.\n",
      "[nltk_data]    | Downloading package averaged_perceptron_tagger to\n",
      "[nltk_data]    |     C:\\Users\\admin\\AppData\\Roaming\\nltk_data...\n",
      "[nltk_data]    |   Unzipping taggers\\averaged_perceptron_tagger.zip.\n",
      "[nltk_data]    | Downloading package averaged_perceptron_tagger_ru to\n",
      "[nltk_data]    |     C:\\Users\\admin\\AppData\\Roaming\\nltk_data...\n",
      "[nltk_data]    |   Unzipping\n",
      "[nltk_data]    |       taggers\\averaged_perceptron_tagger_ru.zip.\n",
      "[nltk_data]    | Downloading package basque_grammars to\n",
      "[nltk_data]    |     C:\\Users\\admin\\AppData\\Roaming\\nltk_data...\n",
      "[nltk_data]    |   Unzipping grammars\\basque_grammars.zip.\n",
      "[nltk_data]    | Downloading package biocreative_ppi to\n",
      "[nltk_data]    |     C:\\Users\\admin\\AppData\\Roaming\\nltk_data...\n",
      "[nltk_data]    |   Unzipping corpora\\biocreative_ppi.zip.\n",
      "[nltk_data]    | Downloading package bllip_wsj_no_aux to\n",
      "[nltk_data]    |     C:\\Users\\admin\\AppData\\Roaming\\nltk_data...\n",
      "[nltk_data]    |   Unzipping models\\bllip_wsj_no_aux.zip.\n",
      "[nltk_data]    | Downloading package book_grammars to\n",
      "[nltk_data]    |     C:\\Users\\admin\\AppData\\Roaming\\nltk_data...\n",
      "[nltk_data]    |   Unzipping grammars\\book_grammars.zip.\n",
      "[nltk_data]    | Downloading package brown to\n",
      "[nltk_data]    |     C:\\Users\\admin\\AppData\\Roaming\\nltk_data...\n",
      "[nltk_data]    |   Unzipping corpora\\brown.zip.\n",
      "[nltk_data]    | Downloading package brown_tei to\n",
      "[nltk_data]    |     C:\\Users\\admin\\AppData\\Roaming\\nltk_data...\n",
      "[nltk_data]    |   Unzipping corpora\\brown_tei.zip.\n",
      "[nltk_data]    | Downloading package cess_cat to\n",
      "[nltk_data]    |     C:\\Users\\admin\\AppData\\Roaming\\nltk_data...\n",
      "[nltk_data]    |   Unzipping corpora\\cess_cat.zip.\n",
      "[nltk_data]    | Downloading package cess_esp to\n",
      "[nltk_data]    |     C:\\Users\\admin\\AppData\\Roaming\\nltk_data...\n",
      "[nltk_data]    |   Unzipping corpora\\cess_esp.zip.\n",
      "[nltk_data]    | Downloading package chat80 to\n",
      "[nltk_data]    |     C:\\Users\\admin\\AppData\\Roaming\\nltk_data...\n",
      "[nltk_data]    |   Unzipping corpora\\chat80.zip.\n",
      "[nltk_data]    | Downloading package city_database to\n",
      "[nltk_data]    |     C:\\Users\\admin\\AppData\\Roaming\\nltk_data...\n",
      "[nltk_data]    |   Unzipping corpora\\city_database.zip.\n",
      "[nltk_data]    | Downloading package cmudict to\n",
      "[nltk_data]    |     C:\\Users\\admin\\AppData\\Roaming\\nltk_data...\n",
      "[nltk_data]    |   Unzipping corpora\\cmudict.zip.\n",
      "[nltk_data]    | Downloading package comparative_sentences to\n",
      "[nltk_data]    |     C:\\Users\\admin\\AppData\\Roaming\\nltk_data...\n",
      "[nltk_data]    |   Unzipping corpora\\comparative_sentences.zip.\n",
      "[nltk_data]    | Downloading package comtrans to\n",
      "[nltk_data]    |     C:\\Users\\admin\\AppData\\Roaming\\nltk_data...\n",
      "[nltk_data]    | Downloading package conll2000 to\n",
      "[nltk_data]    |     C:\\Users\\admin\\AppData\\Roaming\\nltk_data...\n",
      "[nltk_data]    |   Unzipping corpora\\conll2000.zip.\n",
      "[nltk_data]    | Downloading package conll2002 to\n",
      "[nltk_data]    |     C:\\Users\\admin\\AppData\\Roaming\\nltk_data...\n",
      "[nltk_data]    |   Unzipping corpora\\conll2002.zip.\n",
      "[nltk_data]    | Downloading package conll2007 to\n",
      "[nltk_data]    |     C:\\Users\\admin\\AppData\\Roaming\\nltk_data...\n",
      "[nltk_data]    | Downloading package crubadan to\n",
      "[nltk_data]    |     C:\\Users\\admin\\AppData\\Roaming\\nltk_data...\n",
      "[nltk_data]    |   Unzipping corpora\\crubadan.zip.\n",
      "[nltk_data]    | Downloading package dependency_treebank to\n",
      "[nltk_data]    |     C:\\Users\\admin\\AppData\\Roaming\\nltk_data...\n",
      "[nltk_data]    |   Unzipping corpora\\dependency_treebank.zip.\n",
      "[nltk_data]    | Downloading package dolch to\n",
      "[nltk_data]    |     C:\\Users\\admin\\AppData\\Roaming\\nltk_data...\n",
      "[nltk_data]    |   Unzipping corpora\\dolch.zip.\n",
      "[nltk_data]    | Downloading package europarl_raw to\n",
      "[nltk_data]    |     C:\\Users\\admin\\AppData\\Roaming\\nltk_data...\n",
      "[nltk_data]    |   Unzipping corpora\\europarl_raw.zip.\n",
      "[nltk_data]    | Downloading package extended_omw to\n",
      "[nltk_data]    |     C:\\Users\\admin\\AppData\\Roaming\\nltk_data...\n",
      "[nltk_data]    | Downloading package floresta to\n",
      "[nltk_data]    |     C:\\Users\\admin\\AppData\\Roaming\\nltk_data...\n",
      "[nltk_data]    |   Unzipping corpora\\floresta.zip.\n",
      "[nltk_data]    | Downloading package framenet_v15 to\n",
      "[nltk_data]    |     C:\\Users\\admin\\AppData\\Roaming\\nltk_data...\n",
      "[nltk_data]    |   Unzipping corpora\\framenet_v15.zip.\n",
      "[nltk_data]    | Downloading package framenet_v17 to\n",
      "[nltk_data]    |     C:\\Users\\admin\\AppData\\Roaming\\nltk_data...\n",
      "[nltk_data]    |   Unzipping corpora\\framenet_v17.zip.\n",
      "[nltk_data]    | Downloading package gazetteers to\n",
      "[nltk_data]    |     C:\\Users\\admin\\AppData\\Roaming\\nltk_data...\n",
      "[nltk_data]    |   Unzipping corpora\\gazetteers.zip.\n",
      "[nltk_data]    | Downloading package genesis to\n",
      "[nltk_data]    |     C:\\Users\\admin\\AppData\\Roaming\\nltk_data...\n",
      "[nltk_data]    |   Unzipping corpora\\genesis.zip.\n",
      "[nltk_data]    | Downloading package gutenberg to\n",
      "[nltk_data]    |     C:\\Users\\admin\\AppData\\Roaming\\nltk_data...\n",
      "[nltk_data]    |   Unzipping corpora\\gutenberg.zip.\n",
      "[nltk_data]    | Downloading package ieer to\n",
      "[nltk_data]    |     C:\\Users\\admin\\AppData\\Roaming\\nltk_data...\n",
      "[nltk_data]    |   Unzipping corpora\\ieer.zip.\n",
      "[nltk_data]    | Downloading package inaugural to\n",
      "[nltk_data]    |     C:\\Users\\admin\\AppData\\Roaming\\nltk_data...\n",
      "[nltk_data]    |   Unzipping corpora\\inaugural.zip.\n",
      "[nltk_data]    | Downloading package indian to\n",
      "[nltk_data]    |     C:\\Users\\admin\\AppData\\Roaming\\nltk_data...\n",
      "[nltk_data]    |   Unzipping corpora\\indian.zip.\n",
      "[nltk_data]    | Downloading package jeita to\n",
      "[nltk_data]    |     C:\\Users\\admin\\AppData\\Roaming\\nltk_data...\n",
      "[nltk_data]    | Downloading package kimmo to\n",
      "[nltk_data]    |     C:\\Users\\admin\\AppData\\Roaming\\nltk_data...\n",
      "[nltk_data]    |   Unzipping corpora\\kimmo.zip.\n",
      "[nltk_data]    | Downloading package knbc to\n",
      "[nltk_data]    |     C:\\Users\\admin\\AppData\\Roaming\\nltk_data...\n",
      "[nltk_data]    | Downloading package large_grammars to\n",
      "[nltk_data]    |     C:\\Users\\admin\\AppData\\Roaming\\nltk_data...\n",
      "[nltk_data]    |   Unzipping grammars\\large_grammars.zip.\n",
      "[nltk_data]    | Downloading package lin_thesaurus to\n",
      "[nltk_data]    |     C:\\Users\\admin\\AppData\\Roaming\\nltk_data...\n",
      "[nltk_data]    |   Unzipping corpora\\lin_thesaurus.zip.\n",
      "[nltk_data]    | Downloading package mac_morpho to\n",
      "[nltk_data]    |     C:\\Users\\admin\\AppData\\Roaming\\nltk_data...\n",
      "[nltk_data]    |   Unzipping corpora\\mac_morpho.zip.\n",
      "[nltk_data]    | Downloading package machado to\n",
      "[nltk_data]    |     C:\\Users\\admin\\AppData\\Roaming\\nltk_data...\n",
      "[nltk_data]    | Downloading package masc_tagged to\n",
      "[nltk_data]    |     C:\\Users\\admin\\AppData\\Roaming\\nltk_data...\n",
      "[nltk_data]    | Downloading package maxent_ne_chunker to\n",
      "[nltk_data]    |     C:\\Users\\admin\\AppData\\Roaming\\nltk_data...\n",
      "[nltk_data]    |   Unzipping chunkers\\maxent_ne_chunker.zip.\n",
      "[nltk_data]    | Downloading package maxent_treebank_pos_tagger to\n",
      "[nltk_data]    |     C:\\Users\\admin\\AppData\\Roaming\\nltk_data...\n",
      "[nltk_data]    |   Unzipping taggers\\maxent_treebank_pos_tagger.zip.\n",
      "[nltk_data]    | Downloading package moses_sample to\n",
      "[nltk_data]    |     C:\\Users\\admin\\AppData\\Roaming\\nltk_data...\n",
      "[nltk_data]    |   Unzipping models\\moses_sample.zip.\n",
      "[nltk_data]    | Downloading package movie_reviews to\n",
      "[nltk_data]    |     C:\\Users\\admin\\AppData\\Roaming\\nltk_data...\n",
      "[nltk_data]    |   Unzipping corpora\\movie_reviews.zip.\n",
      "[nltk_data]    | Downloading package mte_teip5 to\n",
      "[nltk_data]    |     C:\\Users\\admin\\AppData\\Roaming\\nltk_data...\n",
      "[nltk_data]    |   Unzipping corpora\\mte_teip5.zip.\n",
      "[nltk_data]    | Downloading package mwa_ppdb to\n",
      "[nltk_data]    |     C:\\Users\\admin\\AppData\\Roaming\\nltk_data...\n",
      "[nltk_data]    |   Unzipping misc\\mwa_ppdb.zip.\n",
      "[nltk_data]    | Downloading package names to\n",
      "[nltk_data]    |     C:\\Users\\admin\\AppData\\Roaming\\nltk_data...\n",
      "[nltk_data]    |   Unzipping corpora\\names.zip.\n",
      "[nltk_data]    | Downloading package nombank.1.0 to\n",
      "[nltk_data]    |     C:\\Users\\admin\\AppData\\Roaming\\nltk_data...\n",
      "[nltk_data]    | Downloading package nonbreaking_prefixes to\n",
      "[nltk_data]    |     C:\\Users\\admin\\AppData\\Roaming\\nltk_data...\n",
      "[nltk_data]    |   Unzipping corpora\\nonbreaking_prefixes.zip.\n",
      "[nltk_data]    | Downloading package nps_chat to\n",
      "[nltk_data]    |     C:\\Users\\admin\\AppData\\Roaming\\nltk_data...\n",
      "[nltk_data]    |   Unzipping corpora\\nps_chat.zip.\n",
      "[nltk_data]    | Downloading package omw to\n",
      "[nltk_data]    |     C:\\Users\\admin\\AppData\\Roaming\\nltk_data...\n",
      "[nltk_data]    | Downloading package omw-1.4 to\n",
      "[nltk_data]    |     C:\\Users\\admin\\AppData\\Roaming\\nltk_data...\n",
      "[nltk_data]    |   Package omw-1.4 is already up-to-date!\n",
      "[nltk_data]    | Downloading package opinion_lexicon to\n",
      "[nltk_data]    |     C:\\Users\\admin\\AppData\\Roaming\\nltk_data...\n",
      "[nltk_data]    |   Unzipping corpora\\opinion_lexicon.zip.\n",
      "[nltk_data]    | Downloading package panlex_swadesh to\n",
      "[nltk_data]    |     C:\\Users\\admin\\AppData\\Roaming\\nltk_data...\n",
      "[nltk_data]    | Downloading package paradigms to\n",
      "[nltk_data]    |     C:\\Users\\admin\\AppData\\Roaming\\nltk_data...\n",
      "[nltk_data]    |   Unzipping corpora\\paradigms.zip.\n",
      "[nltk_data]    | Downloading package pe08 to\n",
      "[nltk_data]    |     C:\\Users\\admin\\AppData\\Roaming\\nltk_data...\n",
      "[nltk_data]    |   Unzipping corpora\\pe08.zip.\n",
      "[nltk_data]    | Downloading package perluniprops to\n",
      "[nltk_data]    |     C:\\Users\\admin\\AppData\\Roaming\\nltk_data...\n",
      "[nltk_data]    |   Unzipping misc\\perluniprops.zip.\n",
      "[nltk_data]    | Downloading package pil to\n",
      "[nltk_data]    |     C:\\Users\\admin\\AppData\\Roaming\\nltk_data...\n",
      "[nltk_data]    |   Unzipping corpora\\pil.zip.\n",
      "[nltk_data]    | Downloading package pl196x to\n",
      "[nltk_data]    |     C:\\Users\\admin\\AppData\\Roaming\\nltk_data...\n",
      "[nltk_data]    |   Unzipping corpora\\pl196x.zip.\n",
      "[nltk_data]    | Downloading package porter_test to\n",
      "[nltk_data]    |     C:\\Users\\admin\\AppData\\Roaming\\nltk_data...\n",
      "[nltk_data]    |   Unzipping stemmers\\porter_test.zip.\n",
      "[nltk_data]    | Downloading package ppattach to\n",
      "[nltk_data]    |     C:\\Users\\admin\\AppData\\Roaming\\nltk_data...\n",
      "[nltk_data]    |   Unzipping corpora\\ppattach.zip.\n",
      "[nltk_data]    | Downloading package problem_reports to\n",
      "[nltk_data]    |     C:\\Users\\admin\\AppData\\Roaming\\nltk_data...\n",
      "[nltk_data]    |   Unzipping corpora\\problem_reports.zip.\n",
      "[nltk_data]    | Downloading package product_reviews_1 to\n",
      "[nltk_data]    |     C:\\Users\\admin\\AppData\\Roaming\\nltk_data...\n",
      "[nltk_data]    |   Unzipping corpora\\product_reviews_1.zip.\n",
      "[nltk_data]    | Downloading package product_reviews_2 to\n",
      "[nltk_data]    |     C:\\Users\\admin\\AppData\\Roaming\\nltk_data...\n",
      "[nltk_data]    |   Unzipping corpora\\product_reviews_2.zip.\n",
      "[nltk_data]    | Downloading package propbank to\n",
      "[nltk_data]    |     C:\\Users\\admin\\AppData\\Roaming\\nltk_data...\n",
      "[nltk_data]    | Downloading package pros_cons to\n",
      "[nltk_data]    |     C:\\Users\\admin\\AppData\\Roaming\\nltk_data...\n",
      "[nltk_data]    |   Unzipping corpora\\pros_cons.zip.\n",
      "[nltk_data]    | Downloading package ptb to\n",
      "[nltk_data]    |     C:\\Users\\admin\\AppData\\Roaming\\nltk_data...\n",
      "[nltk_data]    |   Unzipping corpora\\ptb.zip.\n",
      "[nltk_data]    | Downloading package punkt to\n",
      "[nltk_data]    |     C:\\Users\\admin\\AppData\\Roaming\\nltk_data...\n",
      "[nltk_data]    |   Package punkt is already up-to-date!\n",
      "[nltk_data]    | Downloading package qc to\n",
      "[nltk_data]    |     C:\\Users\\admin\\AppData\\Roaming\\nltk_data...\n",
      "[nltk_data]    |   Unzipping corpora\\qc.zip.\n",
      "[nltk_data]    | Downloading package reuters to\n",
      "[nltk_data]    |     C:\\Users\\admin\\AppData\\Roaming\\nltk_data...\n",
      "[nltk_data]    | Downloading package rslp to\n",
      "[nltk_data]    |     C:\\Users\\admin\\AppData\\Roaming\\nltk_data...\n",
      "[nltk_data]    |   Unzipping stemmers\\rslp.zip.\n",
      "[nltk_data]    | Downloading package rte to\n",
      "[nltk_data]    |     C:\\Users\\admin\\AppData\\Roaming\\nltk_data...\n",
      "[nltk_data]    |   Unzipping corpora\\rte.zip.\n",
      "[nltk_data]    | Downloading package sample_grammars to\n",
      "[nltk_data]    |     C:\\Users\\admin\\AppData\\Roaming\\nltk_data...\n",
      "[nltk_data]    |   Unzipping grammars\\sample_grammars.zip.\n",
      "[nltk_data]    | Downloading package semcor to\n",
      "[nltk_data]    |     C:\\Users\\admin\\AppData\\Roaming\\nltk_data...\n",
      "[nltk_data]    | Downloading package senseval to\n",
      "[nltk_data]    |     C:\\Users\\admin\\AppData\\Roaming\\nltk_data...\n",
      "[nltk_data]    |   Unzipping corpora\\senseval.zip.\n",
      "[nltk_data]    | Downloading package sentence_polarity to\n",
      "[nltk_data]    |     C:\\Users\\admin\\AppData\\Roaming\\nltk_data...\n",
      "[nltk_data]    |   Unzipping corpora\\sentence_polarity.zip.\n",
      "[nltk_data]    | Downloading package sentiwordnet to\n",
      "[nltk_data]    |     C:\\Users\\admin\\AppData\\Roaming\\nltk_data...\n",
      "[nltk_data]    |   Unzipping corpora\\sentiwordnet.zip.\n",
      "[nltk_data]    | Downloading package shakespeare to\n",
      "[nltk_data]    |     C:\\Users\\admin\\AppData\\Roaming\\nltk_data...\n",
      "[nltk_data]    |   Unzipping corpora\\shakespeare.zip.\n",
      "[nltk_data]    | Downloading package sinica_treebank to\n",
      "[nltk_data]    |     C:\\Users\\admin\\AppData\\Roaming\\nltk_data...\n",
      "[nltk_data]    |   Unzipping corpora\\sinica_treebank.zip.\n",
      "[nltk_data]    | Downloading package smultron to\n",
      "[nltk_data]    |     C:\\Users\\admin\\AppData\\Roaming\\nltk_data...\n",
      "[nltk_data]    |   Unzipping corpora\\smultron.zip.\n",
      "[nltk_data]    | Downloading package snowball_data to\n",
      "[nltk_data]    |     C:\\Users\\admin\\AppData\\Roaming\\nltk_data...\n",
      "[nltk_data]    | Downloading package spanish_grammars to\n",
      "[nltk_data]    |     C:\\Users\\admin\\AppData\\Roaming\\nltk_data...\n",
      "[nltk_data]    |   Unzipping grammars\\spanish_grammars.zip.\n",
      "[nltk_data]    | Downloading package state_union to\n",
      "[nltk_data]    |     C:\\Users\\admin\\AppData\\Roaming\\nltk_data...\n",
      "[nltk_data]    |   Unzipping corpora\\state_union.zip.\n",
      "[nltk_data]    | Downloading package stopwords to\n",
      "[nltk_data]    |     C:\\Users\\admin\\AppData\\Roaming\\nltk_data...\n",
      "[nltk_data]    |   Package stopwords is already up-to-date!\n",
      "[nltk_data]    | Downloading package subjectivity to\n",
      "[nltk_data]    |     C:\\Users\\admin\\AppData\\Roaming\\nltk_data...\n",
      "[nltk_data]    |   Unzipping corpora\\subjectivity.zip.\n",
      "[nltk_data]    | Downloading package swadesh to\n",
      "[nltk_data]    |     C:\\Users\\admin\\AppData\\Roaming\\nltk_data...\n",
      "[nltk_data]    |   Unzipping corpora\\swadesh.zip.\n",
      "[nltk_data]    | Downloading package switchboard to\n",
      "[nltk_data]    |     C:\\Users\\admin\\AppData\\Roaming\\nltk_data...\n",
      "[nltk_data]    |   Unzipping corpora\\switchboard.zip.\n",
      "[nltk_data]    | Downloading package tagsets to\n",
      "[nltk_data]    |     C:\\Users\\admin\\AppData\\Roaming\\nltk_data...\n",
      "[nltk_data]    |   Unzipping help\\tagsets.zip.\n",
      "[nltk_data]    | Downloading package timit to\n",
      "[nltk_data]    |     C:\\Users\\admin\\AppData\\Roaming\\nltk_data...\n",
      "[nltk_data]    |   Unzipping corpora\\timit.zip.\n",
      "[nltk_data]    | Downloading package toolbox to\n",
      "[nltk_data]    |     C:\\Users\\admin\\AppData\\Roaming\\nltk_data...\n",
      "[nltk_data]    |   Unzipping corpora\\toolbox.zip.\n",
      "[nltk_data]    | Downloading package treebank to\n",
      "[nltk_data]    |     C:\\Users\\admin\\AppData\\Roaming\\nltk_data...\n",
      "[nltk_data]    |   Unzipping corpora\\treebank.zip.\n",
      "[nltk_data]    | Downloading package twitter_samples to\n",
      "[nltk_data]    |     C:\\Users\\admin\\AppData\\Roaming\\nltk_data...\n",
      "[nltk_data]    |   Unzipping corpora\\twitter_samples.zip.\n",
      "[nltk_data]    | Downloading package udhr to\n",
      "[nltk_data]    |     C:\\Users\\admin\\AppData\\Roaming\\nltk_data...\n",
      "[nltk_data]    |   Unzipping corpora\\udhr.zip.\n",
      "[nltk_data]    | Downloading package udhr2 to\n",
      "[nltk_data]    |     C:\\Users\\admin\\AppData\\Roaming\\nltk_data...\n",
      "[nltk_data]    |   Unzipping corpora\\udhr2.zip.\n",
      "[nltk_data]    | Downloading package unicode_samples to\n",
      "[nltk_data]    |     C:\\Users\\admin\\AppData\\Roaming\\nltk_data...\n",
      "[nltk_data]    |   Unzipping corpora\\unicode_samples.zip.\n",
      "[nltk_data]    | Downloading package universal_tagset to\n",
      "[nltk_data]    |     C:\\Users\\admin\\AppData\\Roaming\\nltk_data...\n",
      "[nltk_data]    |   Unzipping taggers\\universal_tagset.zip.\n",
      "[nltk_data]    | Downloading package universal_treebanks_v20 to\n",
      "[nltk_data]    |     C:\\Users\\admin\\AppData\\Roaming\\nltk_data...\n",
      "[nltk_data]    | Downloading package vader_lexicon to\n",
      "[nltk_data]    |     C:\\Users\\admin\\AppData\\Roaming\\nltk_data...\n",
      "[nltk_data]    | Downloading package verbnet to\n",
      "[nltk_data]    |     C:\\Users\\admin\\AppData\\Roaming\\nltk_data...\n",
      "[nltk_data]    |   Unzipping corpora\\verbnet.zip.\n",
      "[nltk_data]    | Downloading package verbnet3 to\n",
      "[nltk_data]    |     C:\\Users\\admin\\AppData\\Roaming\\nltk_data...\n",
      "[nltk_data]    |   Unzipping corpora\\verbnet3.zip.\n",
      "[nltk_data]    | Downloading package webtext to\n",
      "[nltk_data]    |     C:\\Users\\admin\\AppData\\Roaming\\nltk_data...\n",
      "[nltk_data]    |   Unzipping corpora\\webtext.zip.\n",
      "[nltk_data]    | Downloading package wmt15_eval to\n",
      "[nltk_data]    |     C:\\Users\\admin\\AppData\\Roaming\\nltk_data...\n",
      "[nltk_data]    |   Unzipping models\\wmt15_eval.zip.\n",
      "[nltk_data]    | Downloading package word2vec_sample to\n",
      "[nltk_data]    |     C:\\Users\\admin\\AppData\\Roaming\\nltk_data...\n",
      "[nltk_data]    |   Unzipping models\\word2vec_sample.zip.\n",
      "[nltk_data]    | Downloading package wordnet to\n",
      "[nltk_data]    |     C:\\Users\\admin\\AppData\\Roaming\\nltk_data...\n",
      "[nltk_data]    |   Package wordnet is already up-to-date!\n",
      "[nltk_data]    | Downloading package wordnet2021 to\n",
      "[nltk_data]    |     C:\\Users\\admin\\AppData\\Roaming\\nltk_data...\n",
      "[nltk_data]    | Downloading package wordnet31 to\n",
      "[nltk_data]    |     C:\\Users\\admin\\AppData\\Roaming\\nltk_data...\n",
      "[nltk_data]    | Downloading package wordnet_ic to\n",
      "[nltk_data]    |     C:\\Users\\admin\\AppData\\Roaming\\nltk_data...\n",
      "[nltk_data]    |   Unzipping corpora\\wordnet_ic.zip.\n",
      "[nltk_data]    | Downloading package words to\n",
      "[nltk_data]    |     C:\\Users\\admin\\AppData\\Roaming\\nltk_data...\n",
      "[nltk_data]    |   Unzipping corpora\\words.zip.\n",
      "[nltk_data]    | Downloading package ycoe to\n",
      "[nltk_data]    |     C:\\Users\\admin\\AppData\\Roaming\\nltk_data...\n",
      "[nltk_data]    |   Unzipping corpora\\ycoe.zip.\n",
      "[nltk_data]    | \n",
      "[nltk_data]  Done downloading collection all\n"
     ]
    },
    {
     "data": {
      "text/plain": [
       "True"
      ]
     },
     "execution_count": 34,
     "metadata": {},
     "output_type": "execute_result"
    }
   ],
   "source": [
    "import nltk \n",
    "nltk.download('all')"
   ]
  },
  {
   "cell_type": "code",
   "execution_count": 35,
   "id": "dd65b1dd-2416-48d5-9bf6-5f8cef1c5014",
   "metadata": {},
   "outputs": [],
   "source": [
    "from nltk.corpus import wordnet as wn\n",
    "\n",
    "term ='present'\n",
    "\n",
    "synsets =wn.synsets(term)\n",
    "#POS 품사 ... "
   ]
  },
  {
   "cell_type": "code",
   "execution_count": 38,
   "id": "a8109d90-eb98-4f42-b1c4-d52dbdd177f3",
   "metadata": {},
   "outputs": [
    {
     "data": {
      "text/plain": [
       "[Synset('present.n.01'),\n",
       " Synset('present.n.02'),\n",
       " Synset('present.n.03'),\n",
       " Synset('show.v.01'),\n",
       " Synset('present.v.02'),\n",
       " Synset('stage.v.01'),\n",
       " Synset('present.v.04'),\n",
       " Synset('present.v.05'),\n",
       " Synset('award.v.01'),\n",
       " Synset('give.v.08'),\n",
       " Synset('deliver.v.01'),\n",
       " Synset('introduce.v.01'),\n",
       " Synset('portray.v.04'),\n",
       " Synset('confront.v.03'),\n",
       " Synset('present.v.12'),\n",
       " Synset('salute.v.06'),\n",
       " Synset('present.a.01'),\n",
       " Synset('present.a.02')]"
      ]
     },
     "execution_count": 38,
     "metadata": {},
     "output_type": "execute_result"
    }
   ],
   "source": [
    "synsets"
   ]
  },
  {
   "cell_type": "code",
   "execution_count": 39,
   "id": "a1a725f5-0657-49fe-a7a3-870d19a2223d",
   "metadata": {},
   "outputs": [
    {
     "ename": "NameError",
     "evalue": "name 'swn' is not defined",
     "output_type": "error",
     "traceback": [
      "\u001b[1;31m---------------------------------------------------------------------------\u001b[0m",
      "\u001b[1;31mNameError\u001b[0m                                 Traceback (most recent call last)",
      "Input \u001b[1;32mIn [39]\u001b[0m, in \u001b[0;36m<cell line: 1>\u001b[1;34m()\u001b[0m\n\u001b[1;32m----> 1\u001b[0m \u001b[43mswn\u001b[49m\u001b[38;5;241m.\u001b[39msenti_synset(\u001b[38;5;124m'\u001b[39m\u001b[38;5;124mfather.n.01\u001b[39m\u001b[38;5;124m'\u001b[39m)\n",
      "\u001b[1;31mNameError\u001b[0m: name 'swn' is not defined"
     ]
    }
   ],
   "source": [
    "swn.senti_synset('father.n.01') # 파더 중 명사 중 첫번째 "
   ]
  },
  {
   "cell_type": "code",
   "execution_count": 40,
   "id": "cc37e019-5da5-4243-8b68-8f35bae70d68",
   "metadata": {},
   "outputs": [],
   "source": [
    "#TFIDF는 단어빈도 X 전제문서/ 단어 가지고 있는 문서개수 "
   ]
  },
  {
   "cell_type": "code",
   "execution_count": 43,
   "id": "887684eb-e1a1-47fe-8bc2-bdd608e77eae",
   "metadata": {},
   "outputs": [],
   "source": [
    "# VADER를 이용한 감성 분석"
   ]
  },
  {
   "cell_type": "code",
   "execution_count": 41,
   "id": "60106172-1ac4-482d-b6b7-5f0df70489ff",
   "metadata": {},
   "outputs": [
    {
     "data": {
      "text/html": [
       "<div>\n",
       "<style scoped>\n",
       "    .dataframe tbody tr th:only-of-type {\n",
       "        vertical-align: middle;\n",
       "    }\n",
       "\n",
       "    .dataframe tbody tr th {\n",
       "        vertical-align: top;\n",
       "    }\n",
       "\n",
       "    .dataframe thead th {\n",
       "        text-align: right;\n",
       "    }\n",
       "</style>\n",
       "<table border=\"1\" class=\"dataframe\">\n",
       "  <thead>\n",
       "    <tr style=\"text-align: right;\">\n",
       "      <th></th>\n",
       "      <th>id</th>\n",
       "      <th>sentiment</th>\n",
       "      <th>review</th>\n",
       "    </tr>\n",
       "  </thead>\n",
       "  <tbody>\n",
       "    <tr>\n",
       "      <th>0</th>\n",
       "      <td>\"5814_8\"</td>\n",
       "      <td>1</td>\n",
       "      <td>\"With all this stuff going down at the moment ...</td>\n",
       "    </tr>\n",
       "    <tr>\n",
       "      <th>1</th>\n",
       "      <td>\"2381_9\"</td>\n",
       "      <td>1</td>\n",
       "      <td>\"\\\"The Classic War of the Worlds\\\" by Timothy ...</td>\n",
       "    </tr>\n",
       "    <tr>\n",
       "      <th>2</th>\n",
       "      <td>\"7759_3\"</td>\n",
       "      <td>0</td>\n",
       "      <td>\"The film starts with a manager (Nicholas Bell...</td>\n",
       "    </tr>\n",
       "  </tbody>\n",
       "</table>\n",
       "</div>"
      ],
      "text/plain": [
       "         id  sentiment                                             review\n",
       "0  \"5814_8\"          1  \"With all this stuff going down at the moment ...\n",
       "1  \"2381_9\"          1  \"\\\"The Classic War of the Worlds\\\" by Timothy ...\n",
       "2  \"7759_3\"          0  \"The film starts with a manager (Nicholas Bell..."
      ]
     },
     "execution_count": 41,
     "metadata": {},
     "output_type": "execute_result"
    }
   ],
   "source": [
    "import pandas as pd\n",
    "\n",
    "review_df=pd.read_csv('./word2/labeledTrainData.tsv', header= 0, sep=\"\\t\", quoting=3)\n",
    "review_df[:3]\n"
   ]
  },
  {
   "cell_type": "code",
   "execution_count": 42,
   "id": "3f20aba8-5789-4e80-9f8e-c7c0df44e990",
   "metadata": {},
   "outputs": [
    {
     "data": {
      "text/plain": [
       "((17500, 1), (7500, 1))"
      ]
     },
     "execution_count": 42,
     "metadata": {},
     "output_type": "execute_result"
    }
   ],
   "source": [
    "import re\n",
    "\n",
    "# <br> html 태그는 replace 함수로 공백으로 변환\n",
    "review_df['review'] = review_df['review'].str.replace('<br />',' ')\n",
    "\n",
    "# 파이썬의 정규 표현식 모듈인 re를 이용하여 영어 문자열이 아닌 문자는 모두 공백으로 변환 \n",
    "review_df['review'] = review_df['review'].apply( lambda x : re.sub(\"[^a-zA-Z]\", \" \", x) )\n",
    "from sklearn.model_selection import train_test_split\n",
    "\n",
    "class_df = review_df['sentiment']\n",
    "feature_df = review_df.drop(['id','sentiment'], axis=1, inplace=False)\n",
    "\n",
    "X_train, X_test, y_train, y_test= train_test_split(feature_df, class_df, test_size=0.3, random_state=156)\n",
    "\n",
    "X_train.shape, X_test.shape "
   ]
  },
  {
   "cell_type": "code",
   "execution_count": 44,
   "id": "c5a7e2ef-2c53-4ece-9a60-ab2bdb294db3",
   "metadata": {},
   "outputs": [],
   "source": [
    "from nltk.sentiment.vader import SentimentIntensityAnalyzer"
   ]
  },
  {
   "cell_type": "code",
   "execution_count": 45,
   "id": "1f3a4a35-6829-4468-9be9-8906071ea62d",
   "metadata": {},
   "outputs": [
    {
     "ename": "NameError",
     "evalue": "name 'train' is not defined",
     "output_type": "error",
     "traceback": [
      "\u001b[1;31m---------------------------------------------------------------------------\u001b[0m",
      "\u001b[1;31mNameError\u001b[0m                                 Traceback (most recent call last)",
      "Input \u001b[1;32mIn [45]\u001b[0m, in \u001b[0;36m<cell line: 2>\u001b[1;34m()\u001b[0m\n\u001b[0;32m      1\u001b[0m senti_analyzer \u001b[38;5;241m=\u001b[39mSentimentIntensityAnalyzer()\n\u001b[1;32m----> 2\u001b[0m senti_scores \u001b[38;5;241m=\u001b[39msenti_analyzer\u001b[38;5;241m.\u001b[39mpolarity_scores(\u001b[43mtrain\u001b[49m)\n",
      "\u001b[1;31mNameError\u001b[0m: name 'train' is not defined"
     ]
    }
   ],
   "source": [
    "senti_analyzer =SentimentIntensityAnalyzer()\n",
    "senti_scores =senti_analyzer.polarity_scores(train)"
   ]
  },
  {
   "cell_type": "code",
   "execution_count": 46,
   "id": "c8f877f5-0773-4113-855b-4f5d5a85cca3",
   "metadata": {},
   "outputs": [
    {
     "ename": "SyntaxError",
     "evalue": "invalid syntax (49272976.py, line 1)",
     "output_type": "error",
     "traceback": [
      "\u001b[1;36m  Input \u001b[1;32mIn [46]\u001b[1;36m\u001b[0m\n\u001b[1;33m    A x B = A길이 B길이 x 사이 각 절대값 표시는 길이이다.\u001b[0m\n\u001b[1;37m      ^\u001b[0m\n\u001b[1;31mSyntaxError\u001b[0m\u001b[1;31m:\u001b[0m invalid syntax\n"
     ]
    }
   ],
   "source": [
    "A x B = A길이 B길이 x 사이 각 절대값 표시는 길이이다. \n",
    "cos 0 =1 \n",
    "cos 30 루트 2 \n",
    "cos 60 1/2  코사인 점점 줄어듬 \n",
    "내적 =1x2x1/2 = 1 \n",
    "\n",
    "다른 방식으로도 내적 구함 \n",
    "\n",
    "(4,0) (1,sqrt(3)) 좌표 나올시 x1x2 + y1y2(내적)/a길이b길이 \n",
    "\n",
    "기울기 길이 sqrt(x^2 + y^2)\n",
    "\n"
   ]
  },
  {
   "cell_type": "code",
   "execution_count": 47,
   "id": "c88ffb49-1a7d-44e4-ba26-316beccb4a58",
   "metadata": {},
   "outputs": [
    {
     "data": {
      "text/plain": [
       "12"
      ]
     },
     "execution_count": 47,
     "metadata": {},
     "output_type": "execute_result"
    }
   ],
   "source": [
    "v1= np.array([1,2])\n",
    "v2= np.array([2,5])\n",
    "np.dot(v1, v2)"
   ]
  },
  {
   "cell_type": "code",
   "execution_count": 48,
   "id": "052a2d8f-beab-4b21-bc1b-a35be1c9c2b3",
   "metadata": {},
   "outputs": [],
   "source": [
    "def cos_similarity(v1, v2):  # 좌표 가정\n",
    "    dot_product =np.dot(v1, v2) # 내적행렬 곱 \n",
    "    magnitude = (np.sqrt(np.sum(np.square(v1)))*np.sqrt(np.sum(np.square(v2))))# 크기\n",
    "    return dot_product/magnitude"
   ]
  },
  {
   "cell_type": "code",
   "execution_count": 49,
   "id": "aa768f09-ae5b-4525-ae72-258bf4cfffdb",
   "metadata": {},
   "outputs": [
    {
     "data": {
      "text/plain": [
       "0.9965457582448796"
      ]
     },
     "execution_count": 49,
     "metadata": {},
     "output_type": "execute_result"
    }
   ],
   "source": [
    "cos_similarity(v1, v2)"
   ]
  },
  {
   "cell_type": "code",
   "execution_count": 51,
   "id": "e76457a9-0f1d-4aad-8177-f17f7e4b76f0",
   "metadata": {},
   "outputs": [
    {
     "data": {
      "text/plain": [
       "5"
      ]
     },
     "execution_count": 51,
     "metadata": {},
     "output_type": "execute_result"
    }
   ],
   "source": [
    "np.sum(np.square(v1))"
   ]
  },
  {
   "cell_type": "code",
   "execution_count": 53,
   "id": "e603fca3-f220-4f1f-bb6a-43f7bc16a147",
   "metadata": {},
   "outputs": [],
   "source": [
    "from sklearn.metrics.pairwise import cosine_similarity"
   ]
  },
  {
   "cell_type": "code",
   "execution_count": 55,
   "id": "d6027f0a-c22d-49ed-a2ee-03bace3dd74b",
   "metadata": {},
   "outputs": [
    {
     "name": "stdout",
     "output_type": "stream",
     "text": [
      "(3, 18)\n"
     ]
    }
   ],
   "source": [
    "from sklearn.feature_extraction.text import TfidfVectorizer\n",
    "\n",
    "doc_list = ['if you take the blue pill, the story ends' ,\n",
    "            'if you take the red pill, you stay in Wonderland',\n",
    "            'if you take the red pill, I show you how deep the rabbit hole goes']\n",
    "\n",
    "tfidf_vect_simple = TfidfVectorizer()\n",
    "feature_vect_simple = tfidf_vect_simple.fit_transform(doc_list)\n",
    "print(feature_vect_simple.shape) "
   ]
  },
  {
   "cell_type": "code",
   "execution_count": 56,
   "id": "1c3debfa-9224-4a5d-9a9f-34ca42e8bccd",
   "metadata": {},
   "outputs": [
    {
     "data": {
      "text/plain": [
       "array([[1.        , 0.40207758, 0.40425045]])"
      ]
     },
     "execution_count": 56,
     "metadata": {},
     "output_type": "execute_result"
    }
   ],
   "source": [
    "similarity_simple_pair = cosine_similarity(feature_vect_simple[0], feature_vect_simple)\n",
    "similarity_simple_pair"
   ]
  },
  {
   "cell_type": "code",
   "execution_count": 58,
   "id": "d7964484-3ed3-4e1b-bdc8-d8b7757b2345",
   "metadata": {},
   "outputs": [
    {
     "data": {
      "text/plain": [
       "array([[0.4155636 , 0.        , 0.4155636 , 0.        , 0.        ,\n",
       "        0.        , 0.24543856, 0.        , 0.24543856, 0.        ,\n",
       "        0.        , 0.        , 0.        , 0.4155636 , 0.24543856,\n",
       "        0.49087711, 0.        , 0.24543856]])"
      ]
     },
     "execution_count": 58,
     "metadata": {},
     "output_type": "execute_result"
    }
   ],
   "source": [
    "feature_vect_simple[0].toarray()# 0 1 곱한게 분자 루트해서 제곱이 분모 "
   ]
  },
  {
   "cell_type": "code",
   "execution_count": 59,
   "id": "38799997-478b-4520-bea9-807aa5067379",
   "metadata": {},
   "outputs": [
    {
     "data": {
      "text/plain": [
       "array([[0.        , 0.        , 0.        , 0.        , 0.        ,\n",
       "        0.        , 0.23402865, 0.39624495, 0.23402865, 0.        ,\n",
       "        0.3013545 , 0.        , 0.39624495, 0.        , 0.23402865,\n",
       "        0.23402865, 0.39624495, 0.4680573 ]])"
      ]
     },
     "execution_count": 59,
     "metadata": {},
     "output_type": "execute_result"
    }
   ],
   "source": [
    "feature_vect_simple[1].toarray()"
   ]
  },
  {
   "cell_type": "code",
   "execution_count": 65,
   "id": "0804866b-daa5-41a9-93b9-fd986bc2eede",
   "metadata": {},
   "outputs": [],
   "source": [
    "import pandas as pd\n",
    "import glob ,os\n",
    "from sklearn.feature_extraction.text import TfidfVectorizer\n",
    "from sklearn.cluster import KMeans\n",
    "\n",
    "path = r'./topics/'\n",
    "all_files = glob.glob(os.path.join(path, \"*.data\"))     \n",
    "filename_list = []\n",
    "opinion_text = []"
   ]
  },
  {
   "cell_type": "code",
   "execution_count": 95,
   "id": "1290070d-3a84-449a-861d-5f9164a4bf5c",
   "metadata": {
    "collapsed": true,
    "jupyter": {
     "outputs_hidden": true
    },
    "tags": []
   },
   "outputs": [
    {
     "data": {
      "text/plain": [
       "['./topics\\\\accuracy_garmin_nuvi_255W_gps.txt.data',\n",
       " './topics\\\\bathroom_bestwestern_hotel_sfo.txt.data',\n",
       " './topics\\\\battery-life_amazon_kindle.txt.data',\n",
       " './topics\\\\battery-life_ipod_nano_8gb.txt.data',\n",
       " './topics\\\\battery-life_netbook_1005ha.txt.data',\n",
       " './topics\\\\buttons_amazon_kindle.txt.data',\n",
       " './topics\\\\comfort_honda_accord_2008.txt.data',\n",
       " './topics\\\\comfort_toyota_camry_2007.txt.data',\n",
       " './topics\\\\directions_garmin_nuvi_255W_gps.txt.data',\n",
       " './topics\\\\display_garmin_nuvi_255W_gps.txt.data',\n",
       " './topics\\\\eyesight-issues_amazon_kindle.txt.data',\n",
       " './topics\\\\features_windows7.txt.data',\n",
       " './topics\\\\fonts_amazon_kindle.txt.data',\n",
       " './topics\\\\food_holiday_inn_london.txt.data',\n",
       " './topics\\\\food_swissotel_chicago.txt.data',\n",
       " './topics\\\\free_bestwestern_hotel_sfo.txt.data',\n",
       " './topics\\\\gas_mileage_toyota_camry_2007.txt.data',\n",
       " './topics\\\\interior_honda_accord_2008.txt.data',\n",
       " './topics\\\\interior_toyota_camry_2007.txt.data',\n",
       " './topics\\\\keyboard_netbook_1005ha.txt.data',\n",
       " './topics\\\\location_bestwestern_hotel_sfo.txt.data',\n",
       " './topics\\\\location_holiday_inn_london.txt.data',\n",
       " './topics\\\\mileage_honda_accord_2008.txt.data',\n",
       " './topics\\\\navigation_amazon_kindle.txt.data',\n",
       " './topics\\\\parking_bestwestern_hotel_sfo.txt.data',\n",
       " './topics\\\\performance_honda_accord_2008.txt.data',\n",
       " './topics\\\\performance_netbook_1005ha.txt.data',\n",
       " './topics\\\\price_amazon_kindle.txt.data',\n",
       " './topics\\\\price_holiday_inn_london.txt.data',\n",
       " './topics\\\\quality_toyota_camry_2007.txt.data',\n",
       " './topics\\\\rooms_bestwestern_hotel_sfo.txt.data',\n",
       " './topics\\\\rooms_swissotel_chicago.txt.data',\n",
       " './topics\\\\room_holiday_inn_london.txt.data',\n",
       " './topics\\\\satellite_garmin_nuvi_255W_gps.txt.data',\n",
       " './topics\\\\screen_garmin_nuvi_255W_gps.txt.data',\n",
       " './topics\\\\screen_ipod_nano_8gb.txt.data',\n",
       " './topics\\\\screen_netbook_1005ha.txt.data',\n",
       " './topics\\\\seats_honda_accord_2008.txt.data',\n",
       " './topics\\\\service_bestwestern_hotel_sfo.txt.data',\n",
       " './topics\\\\service_holiday_inn_london.txt.data',\n",
       " './topics\\\\service_swissotel_hotel_chicago.txt.data',\n",
       " './topics\\\\size_asus_netbook_1005ha.txt.data',\n",
       " './topics\\\\sound_ipod_nano_8gb.txt.data',\n",
       " './topics\\\\speed_garmin_nuvi_255W_gps.txt.data',\n",
       " './topics\\\\speed_windows7.txt.data',\n",
       " './topics\\\\staff_bestwestern_hotel_sfo.txt.data',\n",
       " './topics\\\\staff_swissotel_chicago.txt.data',\n",
       " './topics\\\\transmission_toyota_camry_2007.txt.data',\n",
       " './topics\\\\updates_garmin_nuvi_255W_gps.txt.data',\n",
       " './topics\\\\video_ipod_nano_8gb.txt.data',\n",
       " './topics\\\\voice_garmin_nuvi_255W_gps.txt.data']"
      ]
     },
     "execution_count": 95,
     "metadata": {},
     "output_type": "execute_result"
    }
   ],
   "source": [
    "all_files"
   ]
  },
  {
   "cell_type": "code",
   "execution_count": 98,
   "id": "3eb4b88c-9aa5-4b27-b292-9644a670fc7c",
   "metadata": {},
   "outputs": [
    {
     "data": {
      "text/plain": [
       "['./topics', 'voice_garmin_nuvi_255W_gps.txt.data']"
      ]
     },
     "execution_count": 98,
     "metadata": {},
     "output_type": "execute_result"
    }
   ],
   "source": [
    "file_.split('\\\\')"
   ]
  },
  {
   "cell_type": "code",
   "execution_count": 99,
   "id": "4f86bf10-3871-4aa5-a9f0-977356fcbccd",
   "metadata": {},
   "outputs": [
    {
     "data": {
      "text/plain": [
       "'voice_garmin_nuvi_255W_gps.txt.data'"
      ]
     },
     "execution_count": 99,
     "metadata": {},
     "output_type": "execute_result"
    }
   ],
   "source": [
    "file_.split('\\\\')[-1]"
   ]
  },
  {
   "cell_type": "code",
   "execution_count": 100,
   "id": "dcd163e6-56b9-4c65-a562-e8f985b50b48",
   "metadata": {
    "collapsed": true,
    "jupyter": {
     "outputs_hidden": true
    },
    "tags": []
   },
   "outputs": [
    {
     "data": {
      "text/plain": [
       "\"                                                                                                                                                                                                 The voice prompts and maps are wonderful especially when driving after dark .\\n0                                                                                                                                                                               I also thought the the voice prompts of the 750 where more pleasant sounding than the 255w's .\\n1                                                                                                                                                                                           The 750 sounds more like a real female voice, where the 255w sounds more robotic .\\n2                                                                                                                                                                                                  I didn't have the problems with the sounds of the voices like others have .\\n3                                                                                                                                                                                                                                            Some of the voices are annoying .\\n4                                                                                                                                                                  My understanding is that Garmin really compressed the voice in this unit, far more than in previous units .\\n5                                                                                                                                            I like my older unit better ,  better voice quality and it simply tells you how far to the next turn and what direction to turn .\\n6                                                                                                                                                                                                                      The quality of the voice   leaves a bit to be desired .\\n7                    The text to speech is great for not having to look down at the screen endangering yourself and others on the road and after the voice updates the Garmin put out for the 255W the scratchiness and robotic sounding voice became crisp and very audible .\\n8                                                                                                                                                                                      I note that a competitor is coming out with a Homer Simpson version of the GPS voices .\\n9                                                                                                       I wish that the GPS had a remote control that allowed you to change screens without having to lean forward while driving, or better yet, responded to voice commands .\\n10  First I want to address the  potential problem  on 255w which is the robotic sound, I personally think it is absolutely understandable, the female sound is a little vauge at some point, however the man's   voice is very clear to me, so this is not a problem for me .\\n11                                                                                     Some of the negatives that were mentioned that I did not find to be true were that you can't understand the voice   The possible list could go on and on but I think you get the idea .\\n12                                                                            The voice is somewhat robotic and some street names are mispronounced, but it's all understandable, I read comments in some reviews that the voice is not loud enough, but I have no problem   .\\n13                                                                                                                                                                                                                 The text, to, speech is very good, with very clear voices .\\n14                                                                                                                                                                                                                      You have your choice of several languages and voices .\\n15                                                                                                                                                                      Also, for no extra charge, you are able to download several voices and vehicles from the Garmin site .\\n16                                                                                                                                                                                                                         For instance, you can change the voice of the GPS .\\n17                                                                                                                                                                     The voice descriptions of the routes are clear and easily understood, even for me with a hearing loss .\\n18                                                                                                                                                   At volumes of 60% or above, there is so much distortion that the voices sound like they are coming from a blown speaker .\\n19                                                                                                                                                                                  It seems to be caused by Garmin decreasing the file sizes and quality of the voice files .\\n20                                                                                                                                                                                                            On previous models like the 350 and 360 the voice files were 100\\n21                                                                                                                                                                                                       Its almost impossible to understand the voice as its metallic tinny .\\n22                                                                                                                                                                                  Many a times, this is a distraction as you will be wondering what the voice command said .\\n23                                                              Other than the Magellan's screen being an inch smaller ,  but really noticeable ,  the Magellan did not have text to voice, and often would take a much longer route even though we told it to take freeways .\\n24                                                                                                The most noticeable thing is that the screen is much easier to read, and that the text to voice is extremely valuable and much better than a beep just as you need to turn .\\n25                                                                                                                                                                                                                                 And the voice and streets match perfectly .\\n26                                                                                                                                                                                                   the female voice   is much clearer than Jack, the male American English .\\n27                                                                                                                                              I couldn't understand the Australian or English voices, but Samantha is clear as a bell and can even be heard over the radio .\\n28                                                                                                                                                                                       The screen is easy to see, the voice tells you where you are and it's very accurate .\\n29                                                                                     When the voices are turned up loud enough for my satisfaction, the speakers sound like they are overpowered, making a distorted noise during the loudest parts of the system's voices .\\n30                                                                                                                                                                                           It seems that the female voices do not distort quite as much as the male voices .\\n31                                                                                                                                                                                                                                               The voices seem too robotic .\\n32                                                                                                                                                                                                      However, I much prefer robotic voices to no spoken directions at all .\\n33                                                                                                                                                                                                 Everybody said the same thing, great unit, but poor voice in the TTS mode .\\n34                                                                                                                                                                                                    So I called Garmin and ask if any fix was comming out to fix the voice .\\n35                                                                                                                                                                                                                        I bought the 255W and the voice was tinny and soft .\\n36                                                                                                                                                                                                                                  Voice commands were mechanical but clear .\\n37                                                                                                                                                                                                                     I had no problem with the clarity of the voice system .\\n38                                                                                                                                                                                    A clear voice tells me when the turns are coming up, as well as the names of the roads .\\n39                                                                                                                                                                                                    the unit takes you on weird routes and people don't like the TTS voice .\\n40                                                                                                                                                       The user remarks on voice on saying the street name was important to me and easy use of device so too was important .\\n41                                                                                                                                                                                                      The voice directions are great, but sometimes it mispronounces names .\\n42                                                                                                                                                          The default voice is extremely clear and easy to understand, so I never even tried any of the alternative voices .\\n43                                                                                                     I like being able to select different voices, however when I am using Daniel with the English accent, he seems to be clearing his throat at the end of his directions .\\n44                                                                                                                                     The voice instructions given are clear, but as few people mentioned in their reviews, you need to get familiar with the pronunciation .\\n45                                                                                                                                       Not only the voice gives turn, by, turn instructions, the map on the screen also has a thick purple line indicating the route ahead .\\n46                                                                                                  This is a big help as I was essentially following that thick purple line while listening to the voice instructions to make sure I was make correct turns when in Buffalo .\\n47                                                                                                                     Often when I'd get a phone call or was talking to someone, it would have been nice to just have the ability to quickly make the voice directions mute .\\n48                                                                                                                                                            I have no problems reading it in bright sunlight, but with the voice to text, the screen is almost unnecessary .\\n49                                                                                                                                                                                                          I had read about concerns the voice prompts were not loud enough .\\n50                                                    I also love the small things, such as being able to download new voices, and vehicles, I plan on getting all the vehicles has on their site, because there is one for every season, for every mood, every time of year .\\n51                                                                                                                                                                                                          The screen is crystal clear and the voice in it is nice and loud .\\n52                                                                                                                                                      There are different voices you can choose to give you your directions, even Australian, American and British English .\\n53                                                                                                                                                                   I agree that the sound isn't great for the TTS voice but it's definitely audible and I like it over all .\\n54                                                                                                                                                                                                                                        The non TTS voice is more pleasant .\\n55                                                                                                                                                  The only complaint that I have if you even want to call it that is that the text, to, speech voices sound pretty robotic .\\n56                                                                                                                                                                                                              You can also change the voice you hear and your vehicle type .\\n57                                                 The Voice Prompted turn by turn directions make it easy to get from one place to another without having to look up at the GPS, but of course you also get turn, by, turn directions on the GPS with a touch of the screen .\\n58                                                                                                                                                   The unit worked well and I had no issue with the voice as I had my window up all the time and did not have the radio on .\\n59                                                                                                                                                                                                           I switched over to the male voice which I happen to like better .\\n60                                                    The screen is clear and the instructions are good though again if you have a lot of exits or turns all in the same spot you have to be careful to just listen to the voice and watch the road or you can miss the turn .\\n61                                                                                                                          Under the Services link on the Garmin site look for the Goodies section and The Garmin Garage link for extra car images and sometimes voices too .\\n62                                                                                                                                                                   The only complaint I have is that the voice is a little bit tinny especially if the volume is turned up .\\n63                                                                                                                                                                   The voice directions give you fair warning when you are about to take a turn, which is really important .\\n64                                                                                                                                                                                                                         The voice is annoying as heck too, no personality .\\n65                                                                                                                                                                                                       The voice it has is clear and readable even for my 79 year old ears .\\n66                                                                                                                                                                                                                                 The voice is clear and easy to understand .\\n67                                                                                                              Since my near vision isn't very good I like the combination of the voice prompts and the big white arrow indicating an approaching turn, especially at night .\\n68                                                                                                                                                                                                                                0 out of 5 stars No Jill voice on this one !\\n69                                                                                                                                                                      I rated this item with 4 stars because it does not have Jill's voice and there's no way to put it in .\\n70                                                                                                                                            All the english voices you have suck big time, you will not like not even one and the new Samantha voice really sucks big time .\\n71                                           What they did was, they made new voice files a lot smaller that on the previous models and all the new voices sound like crap and there's no way to copy the voices from other devices like you use to with the previous models .\\n72                                                                                                   If you input an address on where you want to go, it tells you how to get there in very clear graphics and also with a computer voice that is not obnoxious to listen to .\\n73                                         I'm really glad I bought it though, and like the easy to read graphics, the voice used to tell you the name of the street you are to turn on, the uncannily accurate estimates of mileage and time of arrival at your destination .\\n74                                                                                                                                                                                                          Map is bright and detailed, voice directions are clear and loud  .\\n75                                                                                                                                                                                      The voice prompts  are mostly clear, sometimes quirky and the volume levels adequate .\\n76                                                                                                                                                                                                           The voice system gave ample time to make turns and lane changes .\\n77                                                                                                                                                                                                 Several voice options will announce both directions and street names, etc .\\n78                                                                                                                                                                                                                     From reviews, I thought there might only be one voice .\\n79                                                                                                                                                              The pre, installed english voice is a little robotic but if you switch to the british american it is perfect .\\n80                                                                                                                                                          After ample research   I selected the Nuvi 255W for it's abundant features, wider screen and voice communication .\\n81                                                                                                                                           VOICE ACTIVATION DID STOP WORKING & THEN CAME BACK IN GERMAN ,  JUST CHANGED IT BACK ENGLISH & HAS BEEN WORKING WELL SINCE THEN .\\n82                                                                                                                                                                                 Love that you can change the voice person talking on this one, my last one didn't do that .\\n83                                                                                                                                                                   Others have said that the voice directions leave something to be desired in terms of volume and clarity .\\n84                                                 I must say, though, that I believed it would have a certain cachet to use the British English female voice that is a standard feature but found that she could not properly pronounce some of the street names in my area .\\n85                                                                                                                                                                                                                               The voice commands are excellent and timely .\\n86                                                                                            The model 255W that we received seemed to take longer to find a satelite, and the man's voice was very fast and not as clear, and at times seemed a bit confused in directions .\\n87                                                                                                                                                                                     The voice is very clear and gives plenty of warning when we need to make a turn ahead .\""
      ]
     },
     "execution_count": 100,
     "metadata": {},
     "output_type": "execute_result"
    }
   ],
   "source": [
    "df.to_string()"
   ]
  },
  {
   "cell_type": "code",
   "execution_count": 101,
   "id": "1ad747cd-7327-45f1-81ad-be8a8b2bb274",
   "metadata": {
    "collapsed": true,
    "jupyter": {
     "outputs_hidden": true
    },
    "tags": []
   },
   "outputs": [
    {
     "data": {
      "text/plain": [
       "['accuracy_garmin_nuvi_255W_gps',\n",
       " 'bathroom_bestwestern_hotel_sfo',\n",
       " 'battery-life_amazon_kindle',\n",
       " 'battery-life_ipod_nano_8gb',\n",
       " 'battery-life_netbook_1005ha',\n",
       " 'buttons_amazon_kindle',\n",
       " 'comfort_honda_accord_2008',\n",
       " 'comfort_toyota_camry_2007',\n",
       " 'directions_garmin_nuvi_255W_gps',\n",
       " 'display_garmin_nuvi_255W_gps',\n",
       " 'eyesight-issues_amazon_kindle',\n",
       " 'features_windows7',\n",
       " 'fonts_amazon_kindle',\n",
       " 'food_holiday_inn_london',\n",
       " 'food_swissotel_chicago',\n",
       " 'free_bestwestern_hotel_sfo',\n",
       " 'gas_mileage_toyota_camry_2007',\n",
       " 'interior_honda_accord_2008',\n",
       " 'interior_toyota_camry_2007',\n",
       " 'keyboard_netbook_1005ha',\n",
       " 'location_bestwestern_hotel_sfo',\n",
       " 'location_holiday_inn_london',\n",
       " 'mileage_honda_accord_2008',\n",
       " 'navigation_amazon_kindle',\n",
       " 'parking_bestwestern_hotel_sfo',\n",
       " 'performance_honda_accord_2008',\n",
       " 'performance_netbook_1005ha',\n",
       " 'price_amazon_kindle',\n",
       " 'price_holiday_inn_london',\n",
       " 'quality_toyota_camry_2007',\n",
       " 'rooms_bestwestern_hotel_sfo',\n",
       " 'rooms_swissotel_chicago',\n",
       " 'room_holiday_inn_london',\n",
       " 'satellite_garmin_nuvi_255W_gps',\n",
       " 'screen_garmin_nuvi_255W_gps',\n",
       " 'screen_ipod_nano_8gb',\n",
       " 'screen_netbook_1005ha',\n",
       " 'seats_honda_accord_2008',\n",
       " 'service_bestwestern_hotel_sfo',\n",
       " 'service_holiday_inn_london',\n",
       " 'service_swissotel_hotel_chicago',\n",
       " 'size_asus_netbook_1005ha',\n",
       " 'sound_ipod_nano_8gb',\n",
       " 'speed_garmin_nuvi_255W_gps',\n",
       " 'speed_windows7',\n",
       " 'staff_bestwestern_hotel_sfo',\n",
       " 'staff_swissotel_chicago',\n",
       " 'transmission_toyota_camry_2007',\n",
       " 'updates_garmin_nuvi_255W_gps',\n",
       " 'video_ipod_nano_8gb',\n",
       " 'voice_garmin_nuvi_255W_gps']"
      ]
     },
     "execution_count": 101,
     "metadata": {},
     "output_type": "execute_result"
    }
   ],
   "source": [
    "filename_list"
   ]
  },
  {
   "cell_type": "code",
   "execution_count": 66,
   "id": "a89d5cbc-987f-4a2b-b858-dfc1b9142666",
   "metadata": {},
   "outputs": [],
   "source": [
    "for file_ in all_files:\n",
    "    df = pd.read_table(file_,index_col=None, header=0,encoding='latin1')\n",
    "    filename_ = file_.split('\\\\')[-1]\n",
    "    filename = filename_.split('.')[0]\n",
    "    filename_list.append(filename)\n",
    "    opinion_text.append(df.to_string())"
   ]
  },
  {
   "cell_type": "code",
   "execution_count": 71,
   "id": "6accd25c-c1f1-4351-8fb0-9c976b13d65c",
   "metadata": {
    "collapsed": true,
    "jupyter": {
     "outputs_hidden": true
    },
    "tags": []
   },
   "outputs": [
    {
     "data": {
      "text/plain": [
       "\"                                                                                                                                                                                                                                                                                               short battery life  I moved up from an 8gb .\\n0                                                                                                                                                                                                                                                                                            I love this ipod except for the battery life .\\n1                                                                                                                                                                                                                                                                                                           long battery  scratch resistant\\n2                                                                                                                                                                                                                                                                                                   Battery drains even if I don't use it .\\n3                                                                                                                                                                                                 I only wonder why the battery seems to drain when I'm not using it, even after sliding the top control button to off when shutting down .\\n4                                                                                                                                                                                                                                                         great in the car, light, portable, good quality, long battery,scratch resistant .\\n5   5G lies a more mature iPod, many steps wiser and more able than its one, year, old  The iPod gains many incremental improvements, including a brighter screen and better video battery life, but probably the most appealing aspect is the tantalizing price points of $249 for the 30GB version and $349 for the huge 80GB version   .\\n6                                                                                                                                                                                                                                                                                       5GB and the better battery life rated for up to 6 .\\n7                                                                                                                                                                                                                                                                                battery, not dummie proof  I love the color of this iPod .\\n8                                                                                                                                                                                                      Battery life isn't amazing, Definitely need to get a case for it  I wanted to get a new iPod because I was upgrading from the mini .\\n9                                                                                                                                                  The battery doesn't last a long time especially when you're recording or watching a video but I just listen to music most of the time and it lasts me a good length of time doing that .\\n10                                                                                                                                                                                                                                                              doesn't take pictures, battery life  It's my first ipod, but it's amazing .\\n11                                                                                                                                                                                                                                      Also, the battery life wasn't that long enough for me, but i'm new to this so it just might me be .\\n12                                                                                                                                                                                                                                              When you use the radio it uses a lot of battery life  i got this exact iPod for christmas .\\n13                                                                                                                                                                                                                                                                           good quality  light  long battery  portable  scratch resistant\\n14                                                                                                                                                                                                                                           scratches easily, short battery life  I purchased this for my 6 year old son and he LOVES IT !\\n15                                                                                                                                                                                                                                                             Price battery replacement  The iPod basically does what Apple says it does .\\n16                                                                                                                                                                                                                                                       I do not like it that I will have to get Apple to eventually replace the battery .\\n17                                                                                                                                                                                                                                   I think Apple's idea is that instead of replacing the battery, you will exchange it for a newer iPod .\\n18                                                                                                                                                                                                                                                    Make it inconvenient to replace the battery  make it convenient to replace the iPod .\\n19                                                                                                                                                                                                                                                                             The Pedometer feature seems accurate, but a battery waster .\\n20                                                                                                                                                                                                                                                                                                 short battery life  I like the product .\\n21                                                                                                                                                                                                                                                                           good quality  scratch resistant  light  portable  long battery\\n22                                                                                                                                                                                                                                                                                    Battery life is short  Received as a Christmas gift .\\n23                                                                                                                                                                                                                                                                  Battery life isn't great, but other than that, would highly recommend .\\n24                                                                                                                                                                                                                            Battery Life  Product is exactly as advertised and was probably my wife's favorite gift this past Christmas .\\n25                                                                                                                                                                                                                        shortened battery life, not kind to beginners  this ipod is a great new item with a camera and built in speaker .\\n26                                                                                                                                                                                                                                                                                           It is easy to use and has great battery life .\\n27                                                                                                                                                                                                      Thought would have longer battery life before recharge  This is my first iPOD but if endurance is as I expect will not be my last .\\n28                                                                                                                                                                                                                                                                      The battery dies quickly and seems to die quicker in cold weather .\\n29                                                                                                                                                                                                                                                                                    Watching any videos drains the battery very quickly .\\n30                                                                                                                                                                                                                                                                                                    Battery life is much better as well .\\n31                                                                                                                                                       Shorter battery life than old iPod, camera is in inconvenient spot  When I first listened to a song on this iPod, the first thing that caught my attention was the audio quality .\\n32                                                    One thing I noticed that was not so good was the battery life, but I've only charged it once and that was on the computer  as far as I've seen my computer doen't charge well with either of my iPods so the battery life is possibly greater than I thought if using a wall outlet .\\n33                                                                                                                                                                                                                           the battery life  this was an awsome christmas present and i love it its really easy to use and sounds great .\\n34                                                                                                             this is my first ipod and its awsome the only thing i dont like is the battery life it lasts all day if you dont use it a lot but if you use it constantly like i do it only last about 4 or 5 hours not a big deal though .\\n35                                                                                                                                                                                                                                                                                            short battery life,have to keep changing it .\\n36                                                                                                                                                                                                                                                                             the battery lasts 4 hours  great product for a great price .\\n37                                                                                                                                                                                                                                                                 Battery life is excellent and the LCD display is clear and easy to see .\\n38                                                                                                                                                                                                                                                                          Long battery life and easy directions make this a snap to use .\\n39                                                                                                                                                                                                                                                                                  The battery dies faster than my previous 2nd Gen Nano .\\n40                                                                                                                                                                                                                                                 My only complaint is that the battery doesn't last as long as my previous 2nd gen nano .\\n41                                                                                                                                                                                                                                                                                            The battery is great and the screen as well .\\n42                                                                                                                                                                                                                         shipping charges  I bought this ipod as a birthday gift and purchased the battery charger for the auto as well .\\n43                                                                                                                                                                                                                                                                     SHORT BATTERY LIFE,SCRATCHES EASY,  I DONT LIKE THE APPLES LIBRARY .\\n44                                                                                                                                                                                                                            Battery Life  I bought this ipod to replace my 2nd gen 2gb ipod nano, because i filled that one's memory up .\\n45                                                                                                                                                                                                                                                                                                The only bad thing is it's battery life .\\n46                                                                                                                                                                                                                                                                                       8 hours or less is a more realistic battery life .\\n47                                                                                                                                                                                                                                  shoes if using vid cam for long time, it kills battery  Standard Def video recording, but still sharp !\\n48                                                                                                                                                                                  battery life, becuase of all the features  I had an apple ipod 3rd generation and the 5th genteration is twice as good as the numbering would suggest .\\n49                                                                                                                                                                                                                                               I have not found one thing other than the battery life last for only one full day of use .\\n50                                                                                                                                                                                                                                                                                           So, the battery thing is not that big a deal .\\n51                                                                                                                                                                                                                                                             Overall, almost perfect just watch out or you will run out of battery life .\\n52                                                                                                                                                                                                                                                  battery life, freezes up  I just got the 5th gen as a replacement for my 2nd gen nano .\\n53                                                                                                                                                                                                                                the pedometer is also very nice but seems like it drains the battery if you have it in  always on  mode .\\n54                                                                                                                                                                                                                                                     The new Nano has a very short battery life most likely due to all the new features .\\n55                                                                                                                                                                                                              Very easy to use, love the pedometer, lightweight, thin, nice screen, great sound, battery lasts much longer than stated  .\\n56                                                                                                                                            Easy to use, Great sound, long battery life, love the fact that I can tune in to my favorite radio station, and I'm into exercise so the pedometer with calories burned is a great addition .\\n57                                                                                                                                                                                                                                                                                                          Battery life seems to be good .\\n58                                                                                                                                                                                                                                                                                         Scratches easily and the battery does not last .\\n59                                                                                                                                                                                                                                                                                           The battery is not as strong as it should be .\\n60                                                                                                                                                                                                                                                                         But the battery is a little bit unpleased, but it is very good .\\n61                                                                                                                                                                                                                                                                                                          Battery life is bad, real bad .\\n62                                                                                                                                                                                                                                      Long battery life, Decent camera for such a small device, excellent sound quality and easy to use !\\n63                                                                                                                                                                                                                                                                                             The video camera works great and the battery\\n64                                                                                                                                                                                                                                                                                           Then you find the battery only lasts about 1 .\\n65                                                                                                                                                                            Long Battery Life, Sleek Compact, Easy To Set Up, Reliable Performance, Great Sound, Lots of Storage bought it for the gym and it was just the right weight !\\n66                                                                                                                                                                                                                                                         My only complaint with this product is that the battery doesn't last long at all\\n67                                                                                                                                                                                                 I bought the nano as a replacement for an older classic, which was a great unit but time has taken it's toll on the battery and screen .\""
      ]
     },
     "execution_count": 71,
     "metadata": {},
     "output_type": "execute_result"
    }
   ],
   "source": [
    "document_df = pd.DataFrame({'filename':filename_list, 'opinion_text': opinion_text})\n",
    "document_df.opinion_text[3]"
   ]
  },
  {
   "cell_type": "code",
   "execution_count": 72,
   "id": "e587e7bc-07fe-4d3d-93a5-546b01a67229",
   "metadata": {},
   "outputs": [],
   "source": [
    "from nltk.stem import WordNetLemmatizer\n",
    "import nltk\n",
    "import string\n",
    "\n",
    "# 단어 원형 추출 함수\n",
    "lemmar = WordNetLemmatizer()\n",
    "def LemTokens(tokens):\n",
    "    return [lemmar.lemmatize(token) for token in tokens]\n",
    "\n",
    "# 특수 문자 사전 생성: {33: None ...}\n",
    "# ord(): 아스키 코드 생성\n",
    "remove_punct_dict = dict((ord(punct), None) for punct in string.punctuation)\n",
    "\n",
    "# 특수 문자 제거 및 단어 원형 추출\n",
    "def LemNormalize(text):\n",
    "    # 텍스트 소문자 변경 후 특수 문자 제거\n",
    "    text_new = text.lower().translate(remove_punct_dict)\n",
    "    \n",
    "    # 단어 토큰화\n",
    "    word_tokens = nltk.word_tokenize(text_new)\n",
    "    \n",
    "    # 단어 원형 추출\n",
    "    return LemTokens(word_tokens) "
   ]
  },
  {
   "cell_type": "code",
   "execution_count": 73,
   "id": "62c224f1-ea03-452d-a411-853ef74ec2b8",
   "metadata": {},
   "outputs": [
    {
     "name": "stderr",
     "output_type": "stream",
     "text": [
      "C:\\Users\\admin\\anaconda3\\lib\\site-packages\\sklearn\\feature_extraction\\text.py:396: UserWarning: Your stop_words may be inconsistent with your preprocessing. Tokenizing the stop words generated tokens ['ha', 'le', 'u', 'wa'] not in stop_words.\n",
      "  warnings.warn(\n"
     ]
    }
   ],
   "source": [
    "from sklearn.feature_extraction.text import TfidfVectorizer\n",
    "\n",
    "tfidf_vect = TfidfVectorizer(tokenizer=LemNormalize, stop_words='english' , \\\n",
    "                             ngram_range=(1,2), min_df=0.05, max_df=0.85 )\n",
    "feature_vect = tfidf_vect.fit_transform(document_df['opinion_text'])\n",
    "\n",
    "km_cluster = KMeans(n_clusters=3, max_iter=10000, random_state=0)\n",
    "km_cluster.fit(feature_vect)\n",
    "cluster_label = km_cluster.labels_\n",
    "cluster_centers = km_cluster.cluster_centers_\n",
    "document_df['cluster_label'] = cluster_label "
   ]
  },
  {
   "cell_type": "code",
   "execution_count": 74,
   "id": "4496fb55-003d-4484-b7b6-d57f5fba5666",
   "metadata": {},
   "outputs": [
    {
     "name": "stdout",
     "output_type": "stream",
     "text": [
      "호텔로 클러스터링 된 문서들의 DataFrame Index: Int64Index([6, 7, 16, 17, 18, 22, 25, 29, 37, 47], dtype='int64')\n",
      "##### 비교 기준 문서명  comfort_honda_accord_2008  와 타 문서 유사도######\n",
      "[[1.         0.83969704 0.15655631 0.33044002 0.25981841 0.16544257\n",
      "  0.27569738 0.18050974 0.65502034 0.06229873]]\n"
     ]
    }
   ],
   "source": [
    "from sklearn.metrics.pairwise import cosine_similarity\n",
    "\n",
    "# cluster_label=1인 데이터는 호텔로 클러스터링된 데이터임. DataFrame에서 해당 Index를 추출\n",
    "hotel_indexes = document_df[document_df['cluster_label']==1].index\n",
    "print('호텔로 클러스터링 된 문서들의 DataFrame Index:', hotel_indexes)\n",
    "\n",
    "# 호텔로 클러스터링된 데이터 중 첫번째 문서를 추출하여 파일명 표시.  \n",
    "comparison_docname = document_df.iloc[hotel_indexes[0]]['filename']\n",
    "print('##### 비교 기준 문서명 ',comparison_docname,' 와 타 문서 유사도######')\n",
    "\n",
    "''' document_df에서 추출한 Index 객체를 feature_vect로 입력하여 호텔 클러스터링된 feature_vect 추출 \n",
    "이를 이용하여 호텔로 클러스터링된 문서 중 첫번째 문서와 다른 문서간의 코사인 유사도 측정.'''\n",
    "similarity_pair = cosine_similarity(feature_vect[hotel_indexes[0]] , feature_vect[hotel_indexes])\n",
    "print(similarity_pair) "
   ]
  },
  {
   "cell_type": "code",
   "execution_count": 103,
   "id": "1873faa2-b889-44a8-a475-e21869589c2c",
   "metadata": {},
   "outputs": [
    {
     "data": {
      "text/plain": [
       "array([[1.        , 0.83969704, 0.15655631, 0.33044002, 0.25981841,\n",
       "        0.16544257, 0.27569738, 0.18050974, 0.65502034, 0.06229873]])"
      ]
     },
     "execution_count": 103,
     "metadata": {},
     "output_type": "execute_result"
    }
   ],
   "source": [
    "similarity_pair"
   ]
  },
  {
   "cell_type": "code",
   "execution_count": 105,
   "id": "ebd8ebbf-c2ac-4fc7-87db-40c39e7645dd",
   "metadata": {},
   "outputs": [
    {
     "data": {
      "text/plain": [
       "array([[0, 1, 8, 3, 6, 4, 7, 5, 2, 9]], dtype=int64)"
      ]
     },
     "execution_count": 105,
     "metadata": {},
     "output_type": "execute_result"
    }
   ],
   "source": [
    "similarity_pair.argsort()[:,::-1]"
   ]
  },
  {
   "cell_type": "code",
   "execution_count": 111,
   "id": "043fc92f-7621-4433-b13f-19f51bee8a46",
   "metadata": {},
   "outputs": [
    {
     "data": {
      "text/plain": [
       "(1, 9)"
      ]
     },
     "execution_count": 111,
     "metadata": {},
     "output_type": "execute_result"
    }
   ],
   "source": [
    "sorted_index.shape"
   ]
  },
  {
   "cell_type": "code",
   "execution_count": 110,
   "id": "07cca15c-59a5-421c-936f-3dccbb6e0fc2",
   "metadata": {},
   "outputs": [
    {
     "data": {
      "text/plain": [
       "array([[8, 3, 6, 4, 7, 5, 2, 9]], dtype=int64)"
      ]
     },
     "execution_count": 110,
     "metadata": {},
     "output_type": "execute_result"
    }
   ],
   "source": [
    "sorted_index[:, 1:] # 1인데긋 제외 한것"
   ]
  },
  {
   "cell_type": "code",
   "execution_count": 114,
   "id": "18b94079-65a7-4796-83ba-11cd5875ecf6",
   "metadata": {},
   "outputs": [
    {
     "data": {
      "text/plain": [
       "(9,)"
      ]
     },
     "execution_count": 114,
     "metadata": {},
     "output_type": "execute_result"
    }
   ],
   "source": [
    "sorted_index.reshape(-1,).shape"
   ]
  },
  {
   "cell_type": "code",
   "execution_count": 75,
   "id": "4a7ae8dc-b53d-45e9-a527-1255539c1b31",
   "metadata": {},
   "outputs": [
    {
     "name": "stdout",
     "output_type": "stream",
     "text": [
      "[[1 8 3 6 4 7 5 2 9]]\n",
      "Int64Index([6, 7, 16, 17, 18, 22, 25, 29, 37, 47], dtype='int64')\n"
     ]
    },
    {
     "data": {
      "text/plain": [
       "Text(0.5, 1.0, 'comfort_honda_accord_2008')"
      ]
     },
     "execution_count": 75,
     "metadata": {},
     "output_type": "execute_result"
    },
    {
     "data": {
      "image/png": "[encoded data removed]",
      "text/plain": [
       "<Figure size 432x288 with 1 Axes>"
      ]
     },
     "metadata": {
      "needs_background": "light"
     },
     "output_type": "display_data"
    }
   ],
   "source": [
    "import seaborn as sns\n",
    "import numpy as np\n",
    "import matplotlib.pyplot as plt\n",
    "%matplotlib inline\n",
    "\n",
    "# argsort()를 이용하여 앞예제의 첫번째 문서와 타 문서간 유사도가 큰 순으로 정렬한 인덱스 반환하되 자기 자신은 제외. \n",
    "sorted_index = similarity_pair.argsort()[:,::-1]\n",
    "sorted_index = sorted_index[:, 1:]\n",
    "print(sorted_index)\n",
    "\n",
    "# 유사도가 큰 순으로 hotel_indexes를 추출하여 재 정렬. \n",
    "print(hotel_indexes)\n",
    "hotel_sorted_indexes = hotel_indexes[sorted_index.reshape(-1,)]\n",
    "\n",
    "# 유사도가 큰 순으로 유사도 값을 재정렬하되 자기 자신은 제외\n",
    "hotel_1_sim_value = np.sort(similarity_pair.reshape(-1,))[::-1]\n",
    "hotel_1_sim_value = hotel_1_sim_value[1:]\n",
    "\n",
    "# 유사도가 큰 순으로 정렬된 Index와 유사도값을 이용하여 파일명과 유사도값을 Seaborn 막대 그래프로 시각화\n",
    "hotel_1_sim_df = pd.DataFrame()\n",
    "hotel_1_sim_df['filename'] = document_df.iloc[hotel_sorted_indexes]['filename']\n",
    "hotel_1_sim_df['similarity'] = hotel_1_sim_value\n",
    "\n",
    "sns.barplot(x='similarity', y='filename',data=hotel_1_sim_df)\n",
    "plt.title(comparison_docname) "
   ]
  },
  {
   "cell_type": "code",
   "execution_count": 77,
   "id": "278051aa-4177-41aa-adec-8567d03d451d",
   "metadata": {},
   "outputs": [],
   "source": [
    "# 한글 KoNLPy"
   ]
  },
  {
   "cell_type": "code",
   "execution_count": 79,
   "id": "c5779ad0-fc82-44e2-9c4e-78144359342e",
   "metadata": {},
   "outputs": [],
   "source": [
    "from konlpy.tag import Twitter"
   ]
  },
  {
   "cell_type": "code",
   "execution_count": 80,
   "id": "2fb5a7c2-3367-4fb2-9b99-08417eed853e",
   "metadata": {},
   "outputs": [],
   "source": [
    "from konlpy.tag import Okt"
   ]
  },
  {
   "cell_type": "code",
   "execution_count": 81,
   "id": "40e7421a-e667-4497-9ffc-0ca40d8bc03e",
   "metadata": {},
   "outputs": [],
   "source": [
    "okt = Okt()"
   ]
  },
  {
   "cell_type": "code",
   "execution_count": 82,
   "id": "752218ab-5f17-4b18-8257-aaac78bc06ac",
   "metadata": {},
   "outputs": [
    {
     "data": {
      "text/plain": [
       "['우리나라', '대한민국']"
      ]
     },
     "execution_count": 82,
     "metadata": {},
     "output_type": "execute_result"
    }
   ],
   "source": [
    "okt.morphs(\"우리나라 대한민국\")"
   ]
  },
  {
   "cell_type": "code",
   "execution_count": 83,
   "id": "7eb552ff-8377-4dc2-91e5-7d8e1468fb83",
   "metadata": {},
   "outputs": [],
   "source": [
    "import pandas as pd"
   ]
  },
  {
   "cell_type": "code",
   "execution_count": 85,
   "id": "42b125e6-892e-4e47-989d-802bf8f78ad8",
   "metadata": {},
   "outputs": [
    {
     "data": {
      "text/html": [
       "<div>\n",
       "<style scoped>\n",
       "    .dataframe tbody tr th:only-of-type {\n",
       "        vertical-align: middle;\n",
       "    }\n",
       "\n",
       "    .dataframe tbody tr th {\n",
       "        vertical-align: top;\n",
       "    }\n",
       "\n",
       "    .dataframe thead th {\n",
       "        text-align: right;\n",
       "    }\n",
       "</style>\n",
       "<table border=\"1\" class=\"dataframe\">\n",
       "  <thead>\n",
       "    <tr style=\"text-align: right;\">\n",
       "      <th></th>\n",
       "      <th>id</th>\n",
       "      <th>document</th>\n",
       "      <th>label</th>\n",
       "    </tr>\n",
       "  </thead>\n",
       "  <tbody>\n",
       "    <tr>\n",
       "      <th>0</th>\n",
       "      <td>9976970</td>\n",
       "      <td>아 더빙.. 진짜 짜증나네요 목소리</td>\n",
       "      <td>0</td>\n",
       "    </tr>\n",
       "    <tr>\n",
       "      <th>1</th>\n",
       "      <td>3819312</td>\n",
       "      <td>흠...포스터보고 초딩영화줄....오버연기조차 가볍지 않구나</td>\n",
       "      <td>1</td>\n",
       "    </tr>\n",
       "    <tr>\n",
       "      <th>2</th>\n",
       "      <td>10265843</td>\n",
       "      <td>너무재밓었다그래서보는것을추천한다</td>\n",
       "      <td>0</td>\n",
       "    </tr>\n",
       "    <tr>\n",
       "      <th>3</th>\n",
       "      <td>9045019</td>\n",
       "      <td>교도소 이야기구먼 ..솔직히 재미는 없다..평점 조정</td>\n",
       "      <td>0</td>\n",
       "    </tr>\n",
       "    <tr>\n",
       "      <th>4</th>\n",
       "      <td>6483659</td>\n",
       "      <td>사이몬페그의 익살스런 연기가 돋보였던 영화!스파이더맨에서 늙어보이기만 했던 커스틴 ...</td>\n",
       "      <td>1</td>\n",
       "    </tr>\n",
       "    <tr>\n",
       "      <th>...</th>\n",
       "      <td>...</td>\n",
       "      <td>...</td>\n",
       "      <td>...</td>\n",
       "    </tr>\n",
       "    <tr>\n",
       "      <th>149995</th>\n",
       "      <td>6222902</td>\n",
       "      <td>인간이 문제지.. 소는 뭔죄인가..</td>\n",
       "      <td>0</td>\n",
       "    </tr>\n",
       "    <tr>\n",
       "      <th>149996</th>\n",
       "      <td>8549745</td>\n",
       "      <td>평점이 너무 낮아서...</td>\n",
       "      <td>1</td>\n",
       "    </tr>\n",
       "    <tr>\n",
       "      <th>149997</th>\n",
       "      <td>9311800</td>\n",
       "      <td>이게 뭐요? 한국인은 거들먹거리고 필리핀 혼혈은 착하다?</td>\n",
       "      <td>0</td>\n",
       "    </tr>\n",
       "    <tr>\n",
       "      <th>149998</th>\n",
       "      <td>2376369</td>\n",
       "      <td>청춘 영화의 최고봉.방황과 우울했던 날들의 자화상</td>\n",
       "      <td>1</td>\n",
       "    </tr>\n",
       "    <tr>\n",
       "      <th>149999</th>\n",
       "      <td>9619869</td>\n",
       "      <td>한국 영화 최초로 수간하는 내용이 담긴 영화</td>\n",
       "      <td>0</td>\n",
       "    </tr>\n",
       "  </tbody>\n",
       "</table>\n",
       "<p>150000 rows × 3 columns</p>\n",
       "</div>"
      ],
      "text/plain": [
       "              id                                           document  label\n",
       "0        9976970                                아 더빙.. 진짜 짜증나네요 목소리      0\n",
       "1        3819312                  흠...포스터보고 초딩영화줄....오버연기조차 가볍지 않구나      1\n",
       "2       10265843                                  너무재밓었다그래서보는것을추천한다      0\n",
       "3        9045019                      교도소 이야기구먼 ..솔직히 재미는 없다..평점 조정      0\n",
       "4        6483659  사이몬페그의 익살스런 연기가 돋보였던 영화!스파이더맨에서 늙어보이기만 했던 커스틴 ...      1\n",
       "...          ...                                                ...    ...\n",
       "149995   6222902                                인간이 문제지.. 소는 뭔죄인가..      0\n",
       "149996   8549745                                      평점이 너무 낮아서...      1\n",
       "149997   9311800                    이게 뭐요? 한국인은 거들먹거리고 필리핀 혼혈은 착하다?      0\n",
       "149998   2376369                        청춘 영화의 최고봉.방황과 우울했던 날들의 자화상      1\n",
       "149999   9619869                           한국 영화 최초로 수간하는 내용이 담긴 영화      0\n",
       "\n",
       "[150000 rows x 3 columns]"
      ]
     },
     "execution_count": 85,
     "metadata": {},
     "output_type": "execute_result"
    }
   ],
   "source": [
    "train_df=pd.read_csv('ratings_train.txt', sep= '\\t')\n",
    "train_df                    "
   ]
  },
  {
   "cell_type": "code",
   "execution_count": 87,
   "id": "7b1ab619-3ed0-4cb8-8382-f93731ce821b",
   "metadata": {},
   "outputs": [],
   "source": [
    "import re\n",
    "\n",
    "train_df = train_df.fillna(' ')\n",
    "# 정규 표현식을 이용하여 숫자를 공백으로 변경(정규 표현식으로 \\d 는 숫자를 의미함.) \n",
    "train_df['document'] = train_df['document'].apply( lambda x : re.sub(r\"\\d+\", \" \", x) )\n",
    "train_df.drop('id', axis=1, inplace=True)"
   ]
  },
  {
   "cell_type": "code",
   "execution_count": 87,
   "id": "d23d608a-60b6-4d57-86b8-e4a1fac2c995",
   "metadata": {},
   "outputs": [],
   "source": [
    "# 테스트 데이터 셋을 로딩하고 동일하게 Null 및 숫자를 공백으로 변환\n",
    "test_df = pd.read_csv('ratings_test.txt', sep='\\t')\n",
    "test_df = test_df.fillna(' ')\n",
    "test_df['document'] = test_df['document'].apply( lambda x : re.sub(r\"\\d+\", \" \", x) )\n",
    "test_df.drop('id', axis=1, inplace=True) "
   ]
  },
  {
   "cell_type": "code",
   "execution_count": 88,
   "id": "fad32453-94bd-4125-b26b-a2570ebf54e4",
   "metadata": {},
   "outputs": [
    {
     "data": {
      "text/html": [
       "<div>\n",
       "<style scoped>\n",
       "    .dataframe tbody tr th:only-of-type {\n",
       "        vertical-align: middle;\n",
       "    }\n",
       "\n",
       "    .dataframe tbody tr th {\n",
       "        vertical-align: top;\n",
       "    }\n",
       "\n",
       "    .dataframe thead th {\n",
       "        text-align: right;\n",
       "    }\n",
       "</style>\n",
       "<table border=\"1\" class=\"dataframe\">\n",
       "  <thead>\n",
       "    <tr style=\"text-align: right;\">\n",
       "      <th></th>\n",
       "      <th>document</th>\n",
       "      <th>label</th>\n",
       "    </tr>\n",
       "  </thead>\n",
       "  <tbody>\n",
       "    <tr>\n",
       "      <th>0</th>\n",
       "      <td>굳 ㅋ</td>\n",
       "      <td>1</td>\n",
       "    </tr>\n",
       "    <tr>\n",
       "      <th>1</th>\n",
       "      <td>GDNTOPCLASSINTHECLUB</td>\n",
       "      <td>0</td>\n",
       "    </tr>\n",
       "    <tr>\n",
       "      <th>2</th>\n",
       "      <td>뭐야 이 평점들은.... 나쁘진 않지만  점 짜리는 더더욱 아니잖아</td>\n",
       "      <td>0</td>\n",
       "    </tr>\n",
       "    <tr>\n",
       "      <th>3</th>\n",
       "      <td>지루하지는 않은데 완전 막장임... 돈주고 보기에는....</td>\n",
       "      <td>0</td>\n",
       "    </tr>\n",
       "    <tr>\n",
       "      <th>4</th>\n",
       "      <td>D만 아니었어도 별 다섯 개 줬을텐데.. 왜  D로 나와서 제 심기를 불편하게 하죠??</td>\n",
       "      <td>0</td>\n",
       "    </tr>\n",
       "    <tr>\n",
       "      <th>...</th>\n",
       "      <td>...</td>\n",
       "      <td>...</td>\n",
       "    </tr>\n",
       "    <tr>\n",
       "      <th>49995</th>\n",
       "      <td>오랜만에 평점 로긴했네ㅋㅋ 킹왕짱 쌈뽕한 영화를 만났습니다 강렬하게 육쾌함</td>\n",
       "      <td>1</td>\n",
       "    </tr>\n",
       "    <tr>\n",
       "      <th>49996</th>\n",
       "      <td>의지 박약들이나 하는거다 탈영은 일단 주인공 김대희 닮았고 이등병 찐따 OOOO</td>\n",
       "      <td>0</td>\n",
       "    </tr>\n",
       "    <tr>\n",
       "      <th>49997</th>\n",
       "      <td>그림도 좋고 완성도도 높았지만... 보는 내내 불안하게 만든다</td>\n",
       "      <td>0</td>\n",
       "    </tr>\n",
       "    <tr>\n",
       "      <th>49998</th>\n",
       "      <td>절대 봐서는 안 될 영화.. 재미도 없고 기분만 잡치고.. 한 세트장에서 다 해먹네</td>\n",
       "      <td>0</td>\n",
       "    </tr>\n",
       "    <tr>\n",
       "      <th>49999</th>\n",
       "      <td>마무리는 또 왜이래</td>\n",
       "      <td>0</td>\n",
       "    </tr>\n",
       "  </tbody>\n",
       "</table>\n",
       "<p>50000 rows × 2 columns</p>\n",
       "</div>"
      ],
      "text/plain": [
       "                                                document  label\n",
       "0                                                    굳 ㅋ      1\n",
       "1                                   GDNTOPCLASSINTHECLUB      0\n",
       "2                  뭐야 이 평점들은.... 나쁘진 않지만  점 짜리는 더더욱 아니잖아      0\n",
       "3                       지루하지는 않은데 완전 막장임... 돈주고 보기에는....      0\n",
       "4       D만 아니었어도 별 다섯 개 줬을텐데.. 왜  D로 나와서 제 심기를 불편하게 하죠??      0\n",
       "...                                                  ...    ...\n",
       "49995          오랜만에 평점 로긴했네ㅋㅋ 킹왕짱 쌈뽕한 영화를 만났습니다 강렬하게 육쾌함      1\n",
       "49996       의지 박약들이나 하는거다 탈영은 일단 주인공 김대희 닮았고 이등병 찐따 OOOO      0\n",
       "49997                 그림도 좋고 완성도도 높았지만... 보는 내내 불안하게 만든다      0\n",
       "49998     절대 봐서는 안 될 영화.. 재미도 없고 기분만 잡치고.. 한 세트장에서 다 해먹네      0\n",
       "49999                                         마무리는 또 왜이래      0\n",
       "\n",
       "[50000 rows x 2 columns]"
      ]
     },
     "execution_count": 88,
     "metadata": {},
     "output_type": "execute_result"
    }
   ],
   "source": [
    "test_df"
   ]
  },
  {
   "cell_type": "code",
   "execution_count": 90,
   "id": "4de3b382-9eb1-4f1a-9853-fe9011c7f64f",
   "metadata": {},
   "outputs": [],
   "source": [
    "from konlpy.tag import Okt\n",
    "okt =Okt()"
   ]
  },
  {
   "cell_type": "code",
   "execution_count": 92,
   "id": "bd8aec51-25bd-4f71-9377-dcb84b3c67be",
   "metadata": {},
   "outputs": [],
   "source": [
    "def tw_tokenizer(text):\n",
    "    # 입력 인자로 들어온 text 를 형태소 단어로 토큰화 하여 list 객체 반환\n",
    "    tokens_ko = twitter.morphs(text)\n",
    "    return tokens_ko "
   ]
  },
  {
   "cell_type": "code",
   "execution_count": 93,
   "id": "934da96c-f7c8-4d3a-823e-6ff8bc9ac1fd",
   "metadata": {},
   "outputs": [
    {
     "name": "stderr",
     "output_type": "stream",
     "text": [
      "C:\\Users\\admin\\anaconda3\\lib\\site-packages\\sklearn\\feature_extraction\\text.py:516: UserWarning: The parameter 'token_pattern' will not be used since 'tokenizer' is not None'\n",
      "  warnings.warn(\n"
     ]
    }
   ],
   "source": [
    "from sklearn.feature_extraction.text import TfidfVectorizer\n",
    "from sklearn.linear_model import LogisticRegression\n",
    "from sklearn.model_selection import GridSearchCV\n",
    "\n",
    "# Twitter 객체의 morphs( ) 객체를 이용한 tokenizer를 사용. ngram_range는 (1,2) \n",
    "tfidf_vect = TfidfVectorizer(tokenizer=tw_tokenizer, ngram_range=(1,2), min_df=3, max_df=0.9)\n",
    "tfidf_vect.fit(train_df['document'])\n",
    "tfidf_matrix_train = tfidf_vect.transform(train_df['document']) "
   ]
  },
  {
   "cell_type": "code",
   "execution_count": 94,
   "id": "aebd6e40-2f1b-430c-b8ed-deb5fd6cf171",
   "metadata": {},
   "outputs": [],
   "source": [
    "# 텍스트 분석 실습 캐글 "
   ]
  },
  {
   "cell_type": "code",
   "execution_count": 115,
   "id": "98f22c2f-4169-44b7-8624-122dbb332383",
   "metadata": {},
   "outputs": [
    {
     "name": "stdout",
     "output_type": "stream",
     "text": [
      "[[0.35517252 0.         0.         0.35517252 0.         0.35517252\n",
      "  0.         0.         0.         0.         0.         0.\n",
      "  0.         0.         0.27011786 0.35517252 0.         0.\n",
      "  0.         0.         0.         0.         0.35517252 0.\n",
      "  0.         0.         0.         0.         0.         0.20977061\n",
      "  0.35517252 0.35517252 0.         0.        ]\n",
      " [0.         0.24160999 0.24160999 0.         0.24160999 0.\n",
      "  0.18375062 0.24160999 0.24160999 0.24160999 0.24160999 0.\n",
      "  0.24160999 0.18375062 0.         0.         0.18375062 0.24160999\n",
      "  0.         0.         0.24160999 0.         0.         0.\n",
      "  0.24160999 0.24160999 0.24160999 0.         0.         0.2853975\n",
      "  0.         0.         0.         0.24160999]\n",
      " [0.         0.         0.         0.         0.         0.\n",
      "  0.21599551 0.         0.         0.         0.         0.28400813\n",
      "  0.         0.43199101 0.21599551 0.         0.21599551 0.\n",
      "  0.28400813 0.28400813 0.         0.28400813 0.         0.28400813\n",
      "  0.         0.         0.         0.28400813 0.28400813 0.16773978\n",
      "  0.         0.         0.28400813 0.        ]]\n"
     ]
    }
   ],
   "source": [
    "from sklearn.feature_extraction.text import TfidfVectorizer\n",
    "texts = ['I decided, very early on, just to accept life unconditionally',\n",
    "         'I never expected it to do anything special for me, yet I seemed to accomplish far more than I had ever hoped.',\n",
    "         'Most of the time it just happened to me without my ever seeking it.']\n",
    "\n",
    "cnt = TfidfVectorizer()\n",
    "cnt.fit(texts)\n",
    "vected_texts = cnt.transform(texts)\n",
    "print(vected_texts.toarray())"
   ]
  },
  {
   "cell_type": "code",
   "execution_count": 116,
   "id": "285e6c5a-03df-49c3-bf8e-3ae062dd0994",
   "metadata": {},
   "outputs": [
    {
     "name": "stdout",
     "output_type": "stream",
     "text": [
      "{'neg': 0.0, 'neu': 0.776, 'pos': 0.224, 'compound': 0.8658}\n"
     ]
    }
   ],
   "source": [
    "text = 'I decided, very early on, just to accept life unconditionally.I never expected it to do anything special for me, yet I seemed to accomplish far more than I had ever hoped. Most of the time it just happened to me withoutmy ever seeking it.'\n",
    "\n",
    "from nltk.sentiment.vader import SentimentIntensityAnalyzer\n",
    "\n",
    "vader_analyzer = SentimentIntensityAnalyzer()\n",
    "vader_score = vader_analyzer.polarity_scores(text)\n",
    "\n",
    "print(vader_score)"
   ]
  },
  {
   "cell_type": "code",
   "execution_count": 117,
   "id": "e7ab5a13-78b7-4c10-b9e7-51001da2b8c8",
   "metadata": {},
   "outputs": [
    {
     "name": "stdout",
     "output_type": "stream",
     "text": [
      "{'neg': 0.37, 'neu': 0.63, 'pos': 0.0, 'compound': -0.5727}\n"
     ]
    }
   ],
   "source": [
    "text = \"I don't even see hope anymore. All I have left is despair.\"\n",
    "\n",
    "vader_analyzer = SentimentIntensityAnalyzer()\n",
    "vader_score = vader_analyzer.polarity_scores(text)\n",
    "\n",
    "print(vader_score)"
   ]
  },
  {
   "cell_type": "code",
   "execution_count": 118,
   "id": "2323d157-36c0-4cde-8767-a3a1e5cdf10b",
   "metadata": {},
   "outputs": [
    {
     "name": "stdout",
     "output_type": "stream",
     "text": [
      "[[1.         0.18653718 0.22019757 0.02044718 0.14140895 0.06651702\n",
      "  0.0239531  0.25778675 0.09197667]]\n"
     ]
    }
   ],
   "source": [
    "from sklearn.metrics.pairwise import cosine_similarity\n",
    "from sklearn.feature_extraction.text import TfidfVectorizer \n",
    "\n",
    "text = [\"When you were here before. Couldn't look you in the eye. You're just like an angel.\",\n",
    "\"Your skin makes me cry.You float like a feather.In a beautiful world.I wish I was special.\",\n",
    "\"You're so fuckin' special.But I'm a creep.I'm a weirdo.What the hell am I doin' here?.\",\n",
    "\"I don't belong here.I don't care if it hurts.I wanna have control.I want a perfect body.\",\n",
    "\"I want a perfect soul.I want you to notice.When I'm not around.So fuckin' special.\",\n",
    "\"I wish I was special.But I'm a creep.I'm a weirdo.What the hell am I doin' here?.\",\n",
    "\"I don't belong here.She's running out the door(run).She's running out.She run, run, run, run\",\n",
    "\"Whatever makes you happy.Whatever you want.You're so fuckin' special.I wish I was special.\",\n",
    "\"But I'm a creep.I'm a weirdo.What the hell am I doin' here?.I don't belong here.I don't belong here\"]\n",
    "\n",
    "tfid = TfidfVectorizer()\n",
    "tfided_text = tfid.fit_transform(text)\n",
    "tfided_text\n",
    "similarity = cosine_similarity(tfided_text, tfided_text)\n",
    "similarity = cosine_similarity(tfided_text[0], tfided_text)\n",
    "\n",
    "print(similarity)"
   ]
  },
  {
   "cell_type": "code",
   "execution_count": null,
   "id": "42085fc7-ef9a-4816-9818-f2a35c772fbe",
   "metadata": {},
   "outputs": [],
   "source": []
  }
 ],
 "metadata": {
  "kernelspec": {
   "display_name": "Python 3 (ipykernel)",
   "language": "python",
   "name": "python3"
  },
  "language_info": {
   "codemirror_mode": {
    "name": "ipython",
    "version": 3
   },
   "file_extension": ".py",
   "mimetype": "text/x-python",
   "name": "python",
   "nbconvert_exporter": "python",
   "pygments_lexer": "ipython3",
   "version": "3.9.12"
  }
 },
 "nbformat": 4,
 "nbformat_minor": 5
}
