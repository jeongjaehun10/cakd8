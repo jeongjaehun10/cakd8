{
 "cells": [
  {
   "cell_type": "code",
   "execution_count": 1,
   "id": "74aa795d-ab75-45da-9462-efc4ebf88a08",
   "metadata": {},
   "outputs": [],
   "source": [
    "import numpy as np \n",
    "import matplotlib.pyplot as plt"
   ]
  },
  {
   "cell_type": "code",
   "execution_count": 2,
   "id": "dc7d78fc-c5ee-4158-aa05-a3904eff124b",
   "metadata": {},
   "outputs": [
    {
     "data": {
      "text/plain": [
       "<matplotlib.collections.PathCollection at 0x1e6879358b0>"
      ]
     },
     "execution_count": 2,
     "metadata": {},
     "output_type": "execute_result"
    },
    {
     "data": {
      "image/png": "[encoded data removed]",
      "text/plain": [
       "<Figure size 432x288 with 1 Axes>"
      ]
     },
     "metadata": {
      "needs_background": "light"
     },
     "output_type": "display_data"
    }
   ],
   "source": [
    "x= np.linspace(-1, 1, 1000)\n",
    "plt.scatter(x, np.maximum(0,x))"
   ]
  },
  {
   "cell_type": "code",
   "execution_count": null,
   "id": "e0e08f04-6ff5-4f9e-be32-cfae4269cfbd",
   "metadata": {},
   "outputs": [],
   "source": [
    "e = 2.7\n",
    "모든 지수함수는 우상향한다. \n",
    "e^x에서 X가 0일때 y=1 \n",
    "e^-x는 위에것과 대칭 \n",
    "\n",
    "e^x + e^-x /2  유자형 그래프 됨 \n",
    "\n",
    "1+e^-x 우하향 된다. e^-x에서 y축위로 1만큼만 이동 y값을 1까지만 됨 \n",
    "\n",
    "\n",
    "1/1+e^-x/  1+e^-x 그래프와 x축기준으로 위아래로 대칭 단 y는 1이 넘지 못함 y는 0이상이됨\n",
    "\n",
    "\n",
    "파이 = 3.14 지름이 1일때 원주는 원의 둘레이고 그거의 3.14배 \n",
    "\n",
    "x1은 입력값, w2는 가중치같은것 곱합것을 더함 \n",
    "x1w1+ x2w2 + x3w3 +1곱하기b(bias) 이거를 액티베이션 함수(ex relu)를 통과시킨값을 넘겨준 값이 결과임 \n",
    "out= relu((dot,input)+b) // 단순한 곱하고 더하기는 선형이다. 중간에 액티베이션함수를 넣어서\n",
    "비선형을 바꿔서 복잡하게 바꿔줌.. 액티베이션 함수 활성화 시킬지 말지..\n",
    "(1,2,3) * (3,2,1) = (3,4,3) np의 곱셈 : 엘리멘탈 와이즈 각원소끼리/ or 10 dot product\n",
    "\n",
    "(1,2,3) · (3,2,1) :  10 점이   dot(점)는 도트곱셉이라는 뜻이고 product는 곱셈이라는 뜻 점곱이고 내적이라고 부름\n",
    "다 곱하고 더함 \n",
    "\n",
    "\n"
   ]
  },
  {
   "cell_type": "code",
   "execution_count": 3,
   "id": "320a74d3-b3ca-43e5-a207-f02e3a744ac8",
   "metadata": {},
   "outputs": [
    {
     "data": {
      "text/plain": [
       "array([3, 2, 3, 4, 4, 4])"
      ]
     },
     "execution_count": 3,
     "metadata": {},
     "output_type": "execute_result"
    }
   ],
   "source": [
    "a=np.random.randint(1,5,6)\n",
    "a # 한줄 벡터이다. "
   ]
  },
  {
   "cell_type": "code",
   "execution_count": 4,
   "id": "a5c790f7-0423-41c5-95bc-45ea5bf8d113",
   "metadata": {},
   "outputs": [
    {
     "data": {
      "text/plain": [
       "(6,)"
      ]
     },
     "execution_count": 4,
     "metadata": {},
     "output_type": "execute_result"
    }
   ],
   "source": [
    "a.shape"
   ]
  },
  {
   "cell_type": "code",
   "execution_count": 5,
   "id": "86855e4b-0443-4b4b-a1e1-795d9a0e5983",
   "metadata": {},
   "outputs": [
    {
     "data": {
      "text/plain": [
       "array([[3],\n",
       "       [2],\n",
       "       [3],\n",
       "       [4],\n",
       "       [4],\n",
       "       [4]])"
      ]
     },
     "execution_count": 5,
     "metadata": {},
     "output_type": "execute_result"
    }
   ],
   "source": [
    "a.reshape((6,1)) # 2차원으로 바뀜  차원 추가"
   ]
  },
  {
   "cell_type": "code",
   "execution_count": 6,
   "id": "25c016df-3d94-4267-9534-cf6f58e6c614",
   "metadata": {},
   "outputs": [
    {
     "data": {
      "text/plain": [
       "(6, 1)"
      ]
     },
     "execution_count": 6,
     "metadata": {},
     "output_type": "execute_result"
    }
   ],
   "source": [
    "a[:, np.newaxis].shape"
   ]
  },
  {
   "cell_type": "code",
   "execution_count": 13,
   "id": "118282e5-2dfb-42cc-97ac-16a50411c739",
   "metadata": {},
   "outputs": [
    {
     "data": {
      "text/plain": [
       "(1, 6)"
      ]
     },
     "execution_count": 13,
     "metadata": {},
     "output_type": "execute_result"
    }
   ],
   "source": [
    "a[ np.newaxis,:].shape"
   ]
  },
  {
   "cell_type": "code",
   "execution_count": 10,
   "id": "cd63fda6-58b0-4cf6-957b-814069fe375f",
   "metadata": {},
   "outputs": [
    {
     "data": {
      "text/plain": [
       "(6, 1)"
      ]
     },
     "execution_count": 10,
     "metadata": {},
     "output_type": "execute_result"
    }
   ],
   "source": [
    "np.expand_dims(a, axis=1).shape"
   ]
  },
  {
   "cell_type": "code",
   "execution_count": 154,
   "id": "54942fc4-2964-41c1-9eca-c3262ff7ecaf",
   "metadata": {},
   "outputs": [
    {
     "data": {
      "text/plain": [
       "(6, 1)"
      ]
     },
     "execution_count": 154,
     "metadata": {},
     "output_type": "execute_result"
    }
   ],
   "source": [
    "# a를삼차원으로 해주세요 \n",
    "np.expand_dims(a, axis = 1).shape"
   ]
  },
  {
   "cell_type": "code",
   "execution_count": 11,
   "id": "08ddce35-5e46-44f1-95fd-0e6a390030a1",
   "metadata": {},
   "outputs": [
    {
     "data": {
      "text/plain": [
       "array([[[3],\n",
       "        [2],\n",
       "        [3]],\n",
       "\n",
       "       [[4],\n",
       "        [4],\n",
       "        [4]]])"
      ]
     },
     "execution_count": 11,
     "metadata": {},
     "output_type": "execute_result"
    }
   ],
   "source": [
    "# a를삼차원으로 해주세요 \n",
    "a.reshape((2,3,1)) "
   ]
  },
  {
   "cell_type": "code",
   "execution_count": 12,
   "id": "20fa1d1b-3942-4345-bef6-8d84a5735c6b",
   "metadata": {},
   "outputs": [
    {
     "data": {
      "text/plain": [
       "array([[[3],\n",
       "        [2],\n",
       "        [3]],\n",
       "\n",
       "       [[4],\n",
       "        [4],\n",
       "        [4]]])"
      ]
     },
     "execution_count": 12,
     "metadata": {},
     "output_type": "execute_result"
    }
   ],
   "source": [
    "a.reshape((2,3)+(1,))"
   ]
  },
  {
   "cell_type": "code",
   "execution_count": 178,
   "id": "86a78a34-6d20-465e-9896-e5b236c4477c",
   "metadata": {},
   "outputs": [
    {
     "data": {
      "text/plain": [
       "(6, 1, 1)"
      ]
     },
     "execution_count": 178,
     "metadata": {},
     "output_type": "execute_result"
    }
   ],
   "source": [
    "a.shape\n",
    "b = a[:, np.newaxis]\n",
    "b.shape\n",
    "\n",
    "b[:, :, np.newaxis].shape\n",
    "b[:, :, None].shape "
   ]
  },
  {
   "cell_type": "code",
   "execution_count": 162,
   "id": "c64e0389-7890-47dd-9fe5-6e85b1e805e2",
   "metadata": {},
   "outputs": [
    {
     "data": {
      "text/plain": [
       "array([-1,  1,  3])"
      ]
     },
     "execution_count": 162,
     "metadata": {},
     "output_type": "execute_result"
    }
   ],
   "source": [
    "a= np.random.randint(-5,5,3)\n",
    "a"
   ]
  },
  {
   "cell_type": "code",
   "execution_count": 130,
   "id": "ef952dde-08d4-4d7d-b2fd-7b38b8088451",
   "metadata": {},
   "outputs": [
    {
     "data": {
      "text/plain": [
       "array([-4,  2,  2])"
      ]
     },
     "execution_count": 130,
     "metadata": {},
     "output_type": "execute_result"
    }
   ],
   "source": [
    "b= np.random.randint(-5,5,3)\n",
    "b"
   ]
  },
  {
   "cell_type": "code",
   "execution_count": 131,
   "id": "83f8ebce-39fb-4042-85c1-0a7544fbdc7c",
   "metadata": {},
   "outputs": [
    {
     "data": {
      "text/plain": [
       "array([ 16, -10,   2])"
      ]
     },
     "execution_count": 131,
     "metadata": {},
     "output_type": "execute_result"
    }
   ],
   "source": [
    "a*b# 벡터이다. "
   ]
  },
  {
   "cell_type": "code",
   "execution_count": 132,
   "id": "b7befc67-75af-4796-a163-d3d8337228b3",
   "metadata": {},
   "outputs": [
    {
     "data": {
      "text/plain": [
       "8"
      ]
     },
     "execution_count": 132,
     "metadata": {},
     "output_type": "execute_result"
    }
   ],
   "source": [
    "np.dot(a,b)\n",
    "# 스칼라이다. =숫자 = 1 딸랑하나는 스칼라이다. "
   ]
  },
  {
   "cell_type": "code",
   "execution_count": 28,
   "id": "de86033e-3a12-4ad8-9828-6f8c6d34fc0b",
   "metadata": {},
   "outputs": [
    {
     "data": {
      "text/plain": [
       "19"
      ]
     },
     "execution_count": 28,
     "metadata": {},
     "output_type": "execute_result"
    }
   ],
   "source": [
    "a= np.random.randint(-5,5,3)\n",
    "b= np.random.randint(-5,5,3)\n",
    "np.maximum(0,(np.dot(a,b)+2))"
   ]
  },
  {
   "cell_type": "code",
   "execution_count": 134,
   "id": "eb4a126c-e310-4a63-8ea7-586f29c603b4",
   "metadata": {
    "collapsed": true,
    "jupyter": {
     "outputs_hidden": true
    },
    "tags": []
   },
   "outputs": [
    {
     "ename": "SyntaxError",
     "evalue": "invalid syntax (4183023057.py, line 1)",
     "output_type": "error",
     "traceback": [
      "\u001b[1;36m  Input \u001b[1;32mIn [134]\u001b[1;36m\u001b[0m\n\u001b[1;33m    기하하적 해석은 그림그리는 것\u001b[0m\n\u001b[1;37m         ^\u001b[0m\n\u001b[1;31mSyntaxError\u001b[0m\u001b[1;31m:\u001b[0m invalid syntax\n"
     ]
    }
   ],
   "source": [
    "기하하적 해석은 그림그리는 것\n",
    "ax+b인데 절편과 기울기 알수 있음 dot(w, input)+b 선형은 직선인데 b를 더해야지 더 높이있는 곳에다가 직선을 그을 수있음 \n",
    "b가 0 이라면 걍 직선이지만 2면 2를 기준으로 직선긋기에 더 다양한 곳에 직선을 그을 수 있음 "
   ]
  },
  {
   "cell_type": "code",
   "execution_count": 135,
   "id": "957aa256-ec6e-43a1-822e-0a4b2a707dcd",
   "metadata": {
    "collapsed": true,
    "jupyter": {
     "outputs_hidden": true
    },
    "tags": []
   },
   "outputs": [
    {
     "ename": "SyntaxError",
     "evalue": "invalid syntax (1200336781.py, line 1)",
     "output_type": "error",
     "traceback": [
      "\u001b[1;36m  Input \u001b[1;32mIn [135]\u001b[1;36m\u001b[0m\n\u001b[1;33m    가중치가 점점 조절된다는 것은 학습, 훈련 , fit한다.\u001b[0m\n\u001b[1;37m         ^\u001b[0m\n\u001b[1;31mSyntaxError\u001b[0m\u001b[1;31m:\u001b[0m invalid syntax\n"
     ]
    }
   ],
   "source": [
    "=\\\\]\n",
    "가 점점 조절된다는 것은 학습, 훈련 , fit한다. "
   ]
  },
  {
   "cell_type": "code",
   "execution_count": 462,
   "id": "9b4c6ca1-d09d-4b45-a2a5-c6b68c9a97ca",
   "metadata": {},
   "outputs": [],
   "source": [
    "### 데이터 불러오기\n",
    "from keras.datasets import imdb\n",
    "(train_data, train_labels), (test_data, test_labels) = imdb.load_data(num_words = 10000)\n",
    "### 정수 시퀀스를 멀티-핫 인코딩으로 인코딩하기\n",
    "import numpy as np\n",
    "\n",
    "def vectorize_sequences(sequences, dimension = 10000):\n",
    "    results = np.zeros((len(sequences), dimension))\n",
    "    for i, sequence in enumerate(sequences):\n",
    "        for j in sequence:\n",
    "            results[i, j] = 1.\n",
    "    return results\n",
    "    \n",
    "x_train = vectorize_sequences(train_data)\n",
    "x_test = vectorize_sequences(test_data)\n",
    "\n",
    "y_train = np.asarray(train_labels).astype('float32') # float32가 훨씬 빠르다.\n",
    "y_test = np.asarray(test_labels).astype('float32')"
   ]
  },
  {
   "cell_type": "code",
   "execution_count": 465,
   "id": "ba98c0a9-3de3-49be-af97-b6bca52f4403",
   "metadata": {},
   "outputs": [
    {
     "data": {
      "text/plain": [
       "0.0"
      ]
     },
     "execution_count": 465,
     "metadata": {},
     "output_type": "execute_result"
    }
   ],
   "source": [
    "y_test[0]"
   ]
  },
  {
   "cell_type": "code",
   "execution_count": 466,
   "id": "c52eb096-350b-48b2-abdd-404dba1b9405",
   "metadata": {},
   "outputs": [
    {
     "data": {
      "text/plain": [
       "1.0"
      ]
     },
     "execution_count": 466,
     "metadata": {},
     "output_type": "execute_result"
    }
   ],
   "source": [
    "y_train[0] # 훈련 트레인은 훈련 "
   ]
  },
  {
   "cell_type": "code",
   "execution_count": 467,
   "id": "a556f0db-430a-42ce-baae-d48f5c801724",
   "metadata": {},
   "outputs": [
    {
     "data": {
      "text/plain": [
       "array([0., 1., 1., ..., 0., 0., 0.])"
      ]
     },
     "execution_count": 467,
     "metadata": {},
     "output_type": "execute_result"
    }
   ],
   "source": [
    "x_train[0]# 훈련"
   ]
  },
  {
   "cell_type": "code",
   "execution_count": 468,
   "id": "c7bb70e3-edde-4412-b190-5c1503fb5a7a",
   "metadata": {},
   "outputs": [
    {
     "data": {
      "text/plain": [
       "array([0., 1., 1., ..., 0., 0., 0.])"
      ]
     },
     "execution_count": 468,
     "metadata": {},
     "output_type": "execute_result"
    }
   ],
   "source": [
    "x_test[0]"
   ]
  },
  {
   "cell_type": "code",
   "execution_count": 180,
   "id": "eb5ac4bf-ad11-4d8d-b08d-d8ca4a0fd731",
   "metadata": {},
   "outputs": [
    {
     "name": "stdout",
     "output_type": "stream",
     "text": [
      "Epoch 1/20\n",
      "20/20 [==============================] - 2s 48ms/step - loss: 0.2503 - accuracy: 0.4987 - val_loss: 0.2500 - val_accuracy: 0.5021\n",
      "Epoch 2/20\n",
      "20/20 [==============================] - 0s 20ms/step - loss: 0.2500 - accuracy: 0.5041 - val_loss: 0.2501 - val_accuracy: 0.5021\n",
      "Epoch 3/20\n",
      "20/20 [==============================] - 0s 22ms/step - loss: 0.2501 - accuracy: 0.4943 - val_loss: 0.2500 - val_accuracy: 0.4978\n",
      "Epoch 4/20\n",
      "20/20 [==============================] - 0s 20ms/step - loss: 0.2501 - accuracy: 0.4959 - val_loss: 0.2500 - val_accuracy: 0.5021\n",
      "Epoch 5/20\n",
      "20/20 [==============================] - 0s 23ms/step - loss: 0.2500 - accuracy: 0.4979 - val_loss: 0.2500 - val_accuracy: 0.4978\n",
      "Epoch 6/20\n",
      "20/20 [==============================] - 0s 20ms/step - loss: 0.2500 - accuracy: 0.5019 - val_loss: 0.2502 - val_accuracy: 0.4978\n",
      "Epoch 7/20\n",
      "20/20 [==============================] - 0s 19ms/step - loss: 0.2500 - accuracy: 0.5043 - val_loss: 0.2500 - val_accuracy: 0.5021\n",
      "Epoch 8/20\n",
      "20/20 [==============================] - 0s 20ms/step - loss: 0.2500 - accuracy: 0.4995 - val_loss: 0.2500 - val_accuracy: 0.5021\n",
      "Epoch 9/20\n",
      "20/20 [==============================] - 0s 19ms/step - loss: 0.2500 - accuracy: 0.5011 - val_loss: 0.2500 - val_accuracy: 0.4978\n",
      "Epoch 10/20\n",
      "20/20 [==============================] - 0s 19ms/step - loss: 0.2500 - accuracy: 0.4963 - val_loss: 0.2501 - val_accuracy: 0.4978\n",
      "Epoch 11/20\n",
      "20/20 [==============================] - 0s 19ms/step - loss: 0.2500 - accuracy: 0.5033 - val_loss: 0.2500 - val_accuracy: 0.4978\n",
      "Epoch 12/20\n",
      "20/20 [==============================] - 0s 21ms/step - loss: 0.2500 - accuracy: 0.5047 - val_loss: 0.2500 - val_accuracy: 0.5022\n",
      "Epoch 13/20\n",
      "20/20 [==============================] - 0s 21ms/step - loss: 0.2500 - accuracy: 0.4981 - val_loss: 0.2501 - val_accuracy: 0.4978\n",
      "Epoch 14/20\n",
      "20/20 [==============================] - 0s 19ms/step - loss: 0.2500 - accuracy: 0.5033 - val_loss: 0.2501 - val_accuracy: 0.4978\n",
      "Epoch 15/20\n",
      "20/20 [==============================] - 0s 19ms/step - loss: 0.2500 - accuracy: 0.5033 - val_loss: 0.2500 - val_accuracy: 0.4978\n",
      "Epoch 16/20\n",
      "20/20 [==============================] - 0s 19ms/step - loss: 0.2500 - accuracy: 0.5011 - val_loss: 0.2500 - val_accuracy: 0.4978\n",
      "Epoch 17/20\n",
      "20/20 [==============================] - 0s 19ms/step - loss: 0.2500 - accuracy: 0.4985 - val_loss: 0.2500 - val_accuracy: 0.4978\n",
      "Epoch 18/20\n",
      "20/20 [==============================] - 0s 20ms/step - loss: 0.2500 - accuracy: 0.5063 - val_loss: 0.2501 - val_accuracy: 0.4978\n",
      "Epoch 19/20\n",
      "20/20 [==============================] - 0s 24ms/step - loss: 0.2500 - accuracy: 0.5033 - val_loss: 0.2501 - val_accuracy: 0.4978\n",
      "Epoch 20/20\n",
      "20/20 [==============================] - 0s 18ms/step - loss: 0.2500 - accuracy: 0.5033 - val_loss: 0.2500 - val_accuracy: 0.4978\n"
     ]
    }
   ],
   "source": [
    "### 데이터 불러오기\n",
    "from keras.datasets import imdb\n",
    "(train_data, train_labels), (test_data, test_labels) = imdb.load_data(num_words = 10000)\n",
    "### 정수 시퀀스를 멀티-핫 인코딩으로 인코딩하기\n",
    "import numpy as np\n",
    "\n",
    "def vectorize_sequences(sequences, dimension = 10000):\n",
    "    results = np.zeros((len(sequences), dimension))\n",
    "    for i, sequence in enumerate(sequences):\n",
    "        for j in sequence:\n",
    "            results[i, j] = 1.\n",
    "    return results\n",
    "    \n",
    "x_train = vectorize_sequences(train_data) # 속성 10000\n",
    "x_test = vectorize_sequences(test_data) # 속성 10000\n",
    "\n",
    "y_train = np.asarray(train_labels).astype('float32') # float32가 훨씬 빠르다. # 값은 1개\n",
    "y_test = np.asarray(test_labels).astype('float32')   # 값은 1개\n",
    "### 모델 정의하기\n",
    "### 3개의 표현층\n",
    "### 유닛 32개\n",
    "### relu 대신 tanh 활성화 함수 사용\n",
    "\n",
    "from keras import Sequential\n",
    "from keras.layers import Dense\n",
    "\n",
    "model = Sequential()\n",
    "\n",
    "model.add(Dense(32, activation = 'tanh'))\n",
    "model.add(Dense(32, activation = 'tanh'))\n",
    "model.add(Dense(32, activation = 'tanh'))\n",
    "model.add(Dense(1, activation = 'sigmoid'))\n",
    "### 컴파일하기\n",
    "### binary_crossentropy 대신 mse 손실함수 사용\n",
    "model.compile(optimizer = 'rmsprop',\n",
    "             loss = 'mse',\n",
    "             metrics = ['accuracy'])\n",
    "### 검증 세트 준비하기\n",
    "x_val = x_train[:15000]\n",
    "partial_x_train = x_train[15000:]\n",
    "\n",
    "y_val = y_train[:15000]\n",
    "partial_y_train = y_train[15000:]\n",
    "### 모델 훈련하기\n",
    "history = model.fit(partial_x_train,\n",
    "                   partial_y_train,\n",
    "                   epochs = 20,\n",
    "                   batch_size = 512,\n",
    "                   validation_data = (x_val, y_val)) "
   ]
  },
  {
   "cell_type": "code",
   "execution_count": 181,
   "id": "539626dc-49cd-426a-8c43-0394ad5aad2b",
   "metadata": {},
   "outputs": [
    {
     "ename": "SyntaxError",
     "evalue": "invalid syntax (1083091921.py, line 1)",
     "output_type": "error",
     "traceback": [
      "\u001b[1;36m  Input \u001b[1;32mIn [181]\u001b[1;36m\u001b[0m\n\u001b[1;33m    https://playground.tensorflow.org/#activation=tanh&batchSize=10&dataset=gauss&regDataset=reg-plane&learningRate=0.03&regularizationRate=0&noise=0&networkShape=4,2&seed=0.43845&showTestData=false&discretize=false&percTrainData=50&x=true&y=true&xTimesY=false&xSquared=false&ySquared=false&cosX=false&sinX=false&cosY=false&sinY=false&collectStats=false&problem=classification&initZero=false&hideText=false\u001b[0m\n\u001b[1;37m          ^\u001b[0m\n\u001b[1;31mSyntaxError\u001b[0m\u001b[1;31m:\u001b[0m invalid syntax\n"
     ]
    }
   ],
   "source": [
    "https://playground.tensorflow.org/#activation=tanh&batchSize=10&dataset=gauss&regDataset=reg-plane&learningRate=0.03&regularizationRate=0&noise=0&networkShape=4,2&seed=0.43845&showTestData=false&discretize=false&percTrainData=50&x=true&y=true&xTimesY=false&xSquared=false&ySquared=false&cosX=false&sinX=false&cosY=false&sinY=false&collectStats=false&problem=classification&initZero=false&hideText=false"
   ]
  },
  {
   "cell_type": "markdown",
   "id": "52001143-b4e2-456c-b4fc-a117c8e823df",
   "metadata": {},
   "source": [
    "# 뉴스 기사 분류 : 다중 분류 문제"
   ]
  },
  {
   "cell_type": "code",
   "execution_count": 182,
   "id": "7035c98f-dd24-4ff8-8134-56a6f05e7a4e",
   "metadata": {},
   "outputs": [],
   "source": [
    "## 다중분류 multiclass classification  , multi _ variate\n",
    "single-label : 정치, 체육, 문화 ...\n",
    "multi-label : (경제, 정치) ( 부동산, 교통)"
   ]
  },
  {
   "cell_type": "code",
   "execution_count": 29,
   "id": "9cda363e-6d97-48a4-a0b5-233793dc1cd2",
   "metadata": {},
   "outputs": [],
   "source": [
    "from keras.datasets import reuters"
   ]
  },
  {
   "cell_type": "code",
   "execution_count": 30,
   "id": "eda72d7a-ff51-46ca-83ed-879bbbe3fc96",
   "metadata": {},
   "outputs": [],
   "source": [
    "(train_data, train_labels), (test_data, test_labels) = reuters.load_data(num_words =10000)\n",
    "# 자주쓰이은 단어 10000 개만"
   ]
  },
  {
   "cell_type": "code",
   "execution_count": 31,
   "id": "f05fe680-70d7-492c-aaab-8b25e9380a7f",
   "metadata": {},
   "outputs": [
    {
     "data": {
      "text/plain": [
       "(8982,)"
      ]
     },
     "execution_count": 31,
     "metadata": {},
     "output_type": "execute_result"
    }
   ],
   "source": [
    "train_data.shape"
   ]
  },
  {
   "cell_type": "code",
   "execution_count": 397,
   "id": "5c5a372a-8e87-44e0-b947-136d76b1f3f4",
   "metadata": {
    "collapsed": true,
    "jupyter": {
     "outputs_hidden": true
    },
    "tags": []
   },
   "outputs": [
    {
     "data": {
      "text/plain": [
       "[1,\n",
       " 2,\n",
       " 2,\n",
       " 8,\n",
       " 43,\n",
       " 10,\n",
       " 447,\n",
       " 5,\n",
       " 25,\n",
       " 207,\n",
       " 270,\n",
       " 5,\n",
       " 3095,\n",
       " 111,\n",
       " 16,\n",
       " 369,\n",
       " 186,\n",
       " 90,\n",
       " 67,\n",
       " 7,\n",
       " 89,\n",
       " 5,\n",
       " 19,\n",
       " 102,\n",
       " 6,\n",
       " 19,\n",
       " 124,\n",
       " 15,\n",
       " 90,\n",
       " 67,\n",
       " 84,\n",
       " 22,\n",
       " 482,\n",
       " 26,\n",
       " 7,\n",
       " 48,\n",
       " 4,\n",
       " 49,\n",
       " 8,\n",
       " 864,\n",
       " 39,\n",
       " 209,\n",
       " 154,\n",
       " 6,\n",
       " 151,\n",
       " 6,\n",
       " 83,\n",
       " 11,\n",
       " 15,\n",
       " 22,\n",
       " 155,\n",
       " 11,\n",
       " 15,\n",
       " 7,\n",
       " 48,\n",
       " 9,\n",
       " 4579,\n",
       " 1005,\n",
       " 504,\n",
       " 6,\n",
       " 258,\n",
       " 6,\n",
       " 272,\n",
       " 11,\n",
       " 15,\n",
       " 22,\n",
       " 134,\n",
       " 44,\n",
       " 11,\n",
       " 15,\n",
       " 16,\n",
       " 8,\n",
       " 197,\n",
       " 1245,\n",
       " 90,\n",
       " 67,\n",
       " 52,\n",
       " 29,\n",
       " 209,\n",
       " 30,\n",
       " 32,\n",
       " 132,\n",
       " 6,\n",
       " 109,\n",
       " 15,\n",
       " 17,\n",
       " 12]"
      ]
     },
     "execution_count": 397,
     "metadata": {},
     "output_type": "execute_result"
    }
   ],
   "source": [
    "train_data[0]"
   ]
  },
  {
   "cell_type": "code",
   "execution_count": 32,
   "id": "5a4671da-960d-4425-b71b-34c2c16d8d30",
   "metadata": {},
   "outputs": [
    {
     "data": {
      "text/plain": [
       "8982"
      ]
     },
     "execution_count": 32,
     "metadata": {},
     "output_type": "execute_result"
    }
   ],
   "source": [
    "len(train_labels) #어떤 주제인지"
   ]
  },
  {
   "cell_type": "code",
   "execution_count": 399,
   "id": "2f515e3f-d178-41f7-a996-8146831b4caa",
   "metadata": {},
   "outputs": [
    {
     "data": {
      "text/plain": [
       "87"
      ]
     },
     "execution_count": 399,
     "metadata": {},
     "output_type": "execute_result"
    }
   ],
   "source": [
    "len(train_data[0])"
   ]
  },
  {
   "cell_type": "code",
   "execution_count": 36,
   "id": "936d4400-fc9c-4c5d-b0fd-30f9b25bba2f",
   "metadata": {},
   "outputs": [],
   "source": [
    "def vectorize_sequences(sequences, dimension = 10000):\n",
    "    results = np.zeros((len(sequences), dimension))\n",
    "    for i, sequence in enumerate(sequences):\n",
    "        for j in sequence:\n",
    "            results[i, j] = 1. # i2 고 j가 14면 2행 14은 1이다. \n",
    "    return results\n",
    "    \n",
    "x_train = vectorize_sequences(train_data)\n",
    "x_test = vectorize_sequences(test_data)"
   ]
  },
  {
   "cell_type": "code",
   "execution_count": 37,
   "id": "cda51ac0-28cf-4033-b486-11fe948256df",
   "metadata": {},
   "outputs": [
    {
     "data": {
      "text/plain": [
       "8982"
      ]
     },
     "execution_count": 37,
     "metadata": {},
     "output_type": "execute_result"
    }
   ],
   "source": [
    "len(x_train)"
   ]
  },
  {
   "cell_type": "code",
   "execution_count": 38,
   "id": "4c010797-5519-4394-959f-bc9e8132598d",
   "metadata": {},
   "outputs": [
    {
     "data": {
      "text/plain": [
       "10000"
      ]
     },
     "execution_count": 38,
     "metadata": {},
     "output_type": "execute_result"
    }
   ],
   "source": [
    "len(x_train[0])"
   ]
  },
  {
   "cell_type": "code",
   "execution_count": 39,
   "id": "35f3e4c5-22d4-487c-bedc-812eb4193871",
   "metadata": {},
   "outputs": [
    {
     "data": {
      "text/plain": [
       "(8982, 10000)"
      ]
     },
     "execution_count": 39,
     "metadata": {},
     "output_type": "execute_result"
    }
   ],
   "source": [
    "x_train.shape"
   ]
  },
  {
   "cell_type": "code",
   "execution_count": 40,
   "id": "445c430e-1972-4a1a-8e0b-9d28ae158876",
   "metadata": {},
   "outputs": [
    {
     "data": {
      "text/plain": [
       "array([0., 1., 1., ..., 0., 0., 0.])"
      ]
     },
     "execution_count": 40,
     "metadata": {},
     "output_type": "execute_result"
    }
   ],
   "source": [
    "x_train[0]"
   ]
  },
  {
   "cell_type": "code",
   "execution_count": 41,
   "id": "2a01c479-f432-4615-9e85-b91ba94b0361",
   "metadata": {},
   "outputs": [
    {
     "data": {
      "text/plain": [
       "array([0., 1., 1., 0., 1., 1., 1., 1., 1., 1., 1., 1., 1., 0., 0., 1., 1.,\n",
       "       1., 0., 1., 0., 0., 1., 0., 0., 1., 1., 0., 0., 1., 1., 0., 1., 0.,\n",
       "       0., 0., 0., 0., 0., 1., 0., 0., 0., 1., 1., 0., 0., 0., 1., 1., 0.,\n",
       "       0., 1., 0., 0., 0., 0., 0., 0., 0., 0., 0., 0., 0., 0., 0., 0., 1.,\n",
       "       0., 0., 0., 0., 0., 0., 0., 0., 0., 0., 0., 0., 0., 0., 0., 1., 1.,\n",
       "       0., 0.])"
      ]
     },
     "execution_count": 41,
     "metadata": {},
     "output_type": "execute_result"
    }
   ],
   "source": [
    "x_train[0][:87]"
   ]
  },
  {
   "cell_type": "code",
   "execution_count": 42,
   "id": "87991f7c-15fa-492a-a433-076ba9a5daf2",
   "metadata": {},
   "outputs": [
    {
     "data": {
      "text/plain": [
       "56"
      ]
     },
     "execution_count": 42,
     "metadata": {},
     "output_type": "execute_result"
    }
   ],
   "source": [
    "np.argmax(train_data[0])"
   ]
  },
  {
   "cell_type": "code",
   "execution_count": 43,
   "id": "af6bf794-dca9-4a2f-9b1a-dde0c0b4cf7c",
   "metadata": {},
   "outputs": [
    {
     "data": {
      "text/plain": [
       "4579"
      ]
     },
     "execution_count": 43,
     "metadata": {},
     "output_type": "execute_result"
    }
   ],
   "source": [
    "train_data[0][56]"
   ]
  },
  {
   "cell_type": "code",
   "execution_count": 44,
   "id": "4c8f72da-607e-45b1-ad32-2f0bbaf45c5f",
   "metadata": {
    "tags": []
   },
   "outputs": [
    {
     "data": {
      "text/plain": [
       "array([1., 0., 0., 0., 0., 0., 0., 0., 0., 0., 0., 0., 0., 0., 0., 0., 0.,\n",
       "       0., 0., 0., 0., 0., 0., 0., 0., 0., 0., 0., 0., 0., 0., 0., 0., 0.,\n",
       "       0., 0., 0., 0., 0., 0., 0., 0., 0., 0., 0., 0., 0., 0., 0., 0., 0.,\n",
       "       0., 0., 0., 0., 0., 0., 0., 0., 0., 0., 0., 0., 0., 0., 0., 0., 0.,\n",
       "       0., 0., 0., 0., 0., 0., 0., 0., 0., 0., 0., 0., 0., 0., 0., 0., 0.,\n",
       "       0., 0., 0., 0., 0., 0., 0., 0., 0., 0., 0., 0., 0., 0., 0., 0., 0.,\n",
       "       0., 0., 0., 0., 0., 0., 0., 0., 0., 0., 0., 0., 0., 0., 0., 0., 0.,\n",
       "       0., 0., 0., 0., 0., 0., 0., 0., 0., 0., 0., 0., 0., 0., 0., 0., 0.,\n",
       "       0., 0., 0., 0., 0., 0., 0., 0., 0., 0., 0., 0., 0., 0., 0., 0., 0.,\n",
       "       0., 0., 0., 0., 0., 0., 0., 0., 0., 0., 0., 0., 0., 0., 0., 0., 0.,\n",
       "       0., 0., 0., 0., 0., 0., 0., 0., 0., 0., 0., 0., 0., 0., 0., 0., 0.,\n",
       "       0., 0., 0., 0., 0., 0., 0., 0., 0., 0., 0., 0., 0., 0., 0., 0., 0.,\n",
       "       0., 0., 0., 0., 0., 0., 0., 0., 0., 0., 0., 0., 0., 0., 0., 0., 0.,\n",
       "       0., 0., 0., 0., 0., 0., 0., 0., 0., 0., 0., 0., 0., 0., 0., 0., 0.,\n",
       "       0., 0., 0., 0., 0., 0., 0., 0., 0., 0., 0., 0., 0., 0., 0., 0., 0.,\n",
       "       0., 0., 0., 0., 0., 0., 0., 0., 0., 0., 0., 0., 0., 0., 0., 0., 0.,\n",
       "       0., 0., 0., 0., 0., 0., 0., 0., 0., 0., 0., 0., 0., 0., 0., 0., 0.,\n",
       "       0., 0., 0., 0., 0., 0., 0., 0., 0., 0., 0., 0., 0., 0., 0., 0., 0.,\n",
       "       0., 0., 0., 0., 0., 0., 0., 0., 0., 0., 0., 0., 0., 0., 0., 0., 0.,\n",
       "       0., 0., 0., 0., 0., 0., 0., 0., 0., 0., 0., 0., 0., 0., 0., 0., 0.,\n",
       "       0., 0., 0., 0., 0., 0., 0., 0., 0., 0., 0., 0., 0., 0., 0., 0., 0.,\n",
       "       0., 0., 0., 0., 0., 0., 0., 0., 0., 0., 0., 0., 0., 0., 0., 0., 0.,\n",
       "       0., 0., 0., 0., 0., 0., 0., 0., 0., 0., 0., 0., 0., 0., 0., 0., 0.,\n",
       "       0., 0., 0., 0., 0., 0., 0., 0., 0., 0., 0., 0., 0., 0., 0., 0., 0.,\n",
       "       0., 0., 0., 0., 0., 0., 0., 0., 0., 0., 0., 0., 0.])"
      ]
     },
     "execution_count": 44,
     "metadata": {},
     "output_type": "execute_result"
    }
   ],
   "source": [
    "x_train[0][4579:5000] # 제일 마지막에 나오는 숫자 뒤에는 다 0.."
   ]
  },
  {
   "cell_type": "code",
   "execution_count": 409,
   "id": "99d29b80-e96e-41f7-982b-ef4aea823bbe",
   "metadata": {},
   "outputs": [
    {
     "ename": "SyntaxError",
     "evalue": "invalid syntax (1179572241.py, line 1)",
     "output_type": "error",
     "traceback": [
      "\u001b[1;36m  Input \u001b[1;32mIn [409]\u001b[1;36m\u001b[0m\n\u001b[1;33m    i love you\u001b[0m\n\u001b[1;37m      ^\u001b[0m\n\u001b[1;31mSyntaxError\u001b[0m\u001b[1;31m:\u001b[0m invalid syntax\n"
     ]
    }
   ],
   "source": [
    " i love you\n",
    " 1   5   3  \n",
    "\n",
    "1010100000"
   ]
  },
  {
   "cell_type": "markdown",
   "id": "d066684b-f6e0-4021-842a-1bfcfb5e595e",
   "metadata": {},
   "source": [
    "# labels 전처리\n",
    "\n",
    "- 정수 텐서로\n",
    "- 원핫 인코딩"
   ]
  },
  {
   "cell_type": "code",
   "execution_count": 45,
   "id": "21a9d044-674e-46d6-a9a6-cff470610eda",
   "metadata": {},
   "outputs": [
    {
     "data": {
      "text/plain": [
       "array([ 3,  4,  3, ..., 25,  3, 25], dtype=int64)"
      ]
     },
     "execution_count": 45,
     "metadata": {},
     "output_type": "execute_result"
    }
   ],
   "source": [
    "train_labels"
   ]
  },
  {
   "cell_type": "code",
   "execution_count": 46,
   "id": "e18e9263-9bea-4076-a4d0-8d5259536374",
   "metadata": {},
   "outputs": [],
   "source": [
    "from keras.utils.np_utils import to_categorical\n",
    "train_labels =to_categorical(train_labels)\n",
    "test_labels =to_categorical(test_labels)# 원핫인코딩으로 바꿔주는 함수"
   ]
  },
  {
   "cell_type": "code",
   "execution_count": 47,
   "id": "c587dbfd-503f-4fc4-88b8-75b4be020bc5",
   "metadata": {},
   "outputs": [
    {
     "data": {
      "text/plain": [
       "(8982, 46)"
      ]
     },
     "execution_count": 47,
     "metadata": {},
     "output_type": "execute_result"
    }
   ],
   "source": [
    "train_labels.shape # 46개의 톡빅"
   ]
  },
  {
   "cell_type": "code",
   "execution_count": 413,
   "id": "90ce3ca6-8a22-453c-831c-7b4ef7eae705",
   "metadata": {},
   "outputs": [
    {
     "data": {
      "text/plain": [
       "array([[0., 0., 0., ..., 0., 0., 0.],\n",
       "       [0., 0., 0., ..., 0., 0., 0.],\n",
       "       [0., 0., 0., ..., 0., 0., 0.],\n",
       "       ...,\n",
       "       [0., 0., 0., ..., 0., 0., 0.],\n",
       "       [0., 0., 0., ..., 0., 0., 0.],\n",
       "       [0., 0., 0., ..., 0., 0., 0.]], dtype=float32)"
      ]
     },
     "execution_count": 413,
     "metadata": {},
     "output_type": "execute_result"
    }
   ],
   "source": [
    "train_labels"
   ]
  },
  {
   "cell_type": "markdown",
   "id": "597f4f86-1f24-4b21-8cf7-aff5649a4969",
   "metadata": {},
   "source": [
    "# 모델 만들기"
   ]
  },
  {
   "cell_type": "code",
   "execution_count": 414,
   "id": "3fb35145-966b-40eb-b522-5567848345ba",
   "metadata": {},
   "outputs": [],
   "source": [
    "import keras \n",
    "from keras import Sequential\n",
    "from keras.layers import Input, Dense\n",
    "from keras import optimizers\n",
    "model =Sequential([\n",
    "Dense(units =64, activation='relu'),\n",
    "    Dense(units =64, activation='relu'),\n",
    "    Dense(units =46, activation='softmax')\n",
    "])                                          # 원핫을 의미함 \n",
    "model.compile(optimizer='rmsprop', loss= 'categorical_crossentropy', metrics='acc')"
   ]
  },
  {
   "cell_type": "code",
   "execution_count": 415,
   "id": "7e5320f4-3a98-4a47-bd15-b9bbfc12b126",
   "metadata": {},
   "outputs": [],
   "source": [
    "partial_x_train =x_train[1000:]\n",
    "partial_y_train =train_labels[1000: ]\n",
    "\n",
    "x_val = x_train[:1000]\n",
    "y_val = train_labels[:1000]"
   ]
  },
  {
   "cell_type": "code",
   "execution_count": 416,
   "id": "a76517f7-9f54-4867-b378-70197d9d8429",
   "metadata": {
    "collapsed": true,
    "jupyter": {
     "outputs_hidden": true
    },
    "tags": []
   },
   "outputs": [
    {
     "name": "stdout",
     "output_type": "stream",
     "text": [
      "Epoch 1/20\n",
      "16/16 [==============================] - 1s 28ms/step - loss: 2.6639 - acc: 0.5170 - val_loss: 1.7834 - val_acc: 0.6220\n",
      "Epoch 2/20\n",
      "16/16 [==============================] - 0s 17ms/step - loss: 1.4816 - acc: 0.6979 - val_loss: 1.3501 - val_acc: 0.6980\n",
      "Epoch 3/20\n",
      "16/16 [==============================] - 0s 16ms/step - loss: 1.1127 - acc: 0.7576 - val_loss: 1.1494 - val_acc: 0.7570\n",
      "Epoch 4/20\n",
      "16/16 [==============================] - 0s 16ms/step - loss: 0.8782 - acc: 0.8091 - val_loss: 1.0509 - val_acc: 0.7660\n",
      "Epoch 5/20\n",
      "16/16 [==============================] - 0s 16ms/step - loss: 0.7066 - acc: 0.8482 - val_loss: 0.9760 - val_acc: 0.7950\n",
      "Epoch 6/20\n",
      "16/16 [==============================] - 0s 16ms/step - loss: 0.5700 - acc: 0.8816 - val_loss: 0.9301 - val_acc: 0.8020\n",
      "Epoch 7/20\n",
      "16/16 [==============================] - 0s 16ms/step - loss: 0.4621 - acc: 0.9047 - val_loss: 0.9231 - val_acc: 0.7990\n",
      "Epoch 8/20\n",
      "16/16 [==============================] - 0s 16ms/step - loss: 0.3788 - acc: 0.9213 - val_loss: 0.8980 - val_acc: 0.8100\n",
      "Epoch 9/20\n",
      "16/16 [==============================] - 0s 16ms/step - loss: 0.3129 - acc: 0.9322 - val_loss: 0.8889 - val_acc: 0.8160\n",
      "Epoch 10/20\n",
      "16/16 [==============================] - 0s 16ms/step - loss: 0.2599 - acc: 0.9430 - val_loss: 0.9277 - val_acc: 0.8070\n",
      "Epoch 11/20\n",
      "16/16 [==============================] - 0s 16ms/step - loss: 0.2254 - acc: 0.9484 - val_loss: 0.9154 - val_acc: 0.8170\n",
      "Epoch 12/20\n",
      "16/16 [==============================] - 0s 17ms/step - loss: 0.1926 - acc: 0.9503 - val_loss: 0.9042 - val_acc: 0.8240\n",
      "Epoch 13/20\n",
      "16/16 [==============================] - 0s 17ms/step - loss: 0.1735 - acc: 0.9534 - val_loss: 0.9543 - val_acc: 0.8100\n",
      "Epoch 14/20\n",
      "16/16 [==============================] - 0s 17ms/step - loss: 0.1618 - acc: 0.9553 - val_loss: 0.9375 - val_acc: 0.8170\n",
      "Epoch 15/20\n",
      "16/16 [==============================] - 0s 17ms/step - loss: 0.1432 - acc: 0.9569 - val_loss: 0.9955 - val_acc: 0.8010\n",
      "Epoch 16/20\n",
      "16/16 [==============================] - 0s 17ms/step - loss: 0.1352 - acc: 0.9564 - val_loss: 0.9998 - val_acc: 0.8040\n",
      "Epoch 17/20\n",
      "16/16 [==============================] - 0s 17ms/step - loss: 0.1286 - acc: 0.9563 - val_loss: 1.0313 - val_acc: 0.8060\n",
      "Epoch 18/20\n",
      "16/16 [==============================] - 0s 16ms/step - loss: 0.1251 - acc: 0.9567 - val_loss: 1.0606 - val_acc: 0.8150\n",
      "Epoch 19/20\n",
      "16/16 [==============================] - 0s 16ms/step - loss: 0.1142 - acc: 0.9567 - val_loss: 1.0876 - val_acc: 0.7900\n",
      "Epoch 20/20\n",
      "16/16 [==============================] - 0s 15ms/step - loss: 0.1136 - acc: 0.9587 - val_loss: 1.0843 - val_acc: 0.8030\n"
     ]
    }
   ],
   "source": [
    "history=model.fit(partial_x_train, partial_y_train, epochs=20, batch_size = 512, validation_data=(x_val, y_val))"
   ]
  },
  {
   "cell_type": "code",
   "execution_count": 417,
   "id": "743a572c-53ad-4d04-bc1a-d0eafb0f50aa",
   "metadata": {
    "collapsed": true,
    "jupyter": {
     "outputs_hidden": true
    },
    "tags": []
   },
   "outputs": [
    {
     "data": {
      "text/plain": [
       "[1.7834128141403198,\n",
       " 1.35007643699646,\n",
       " 1.149383306503296,\n",
       " 1.0508971214294434,\n",
       " 0.9760141372680664,\n",
       " 0.9301206469535828,\n",
       " 0.9230755567550659,\n",
       " 0.8980334401130676,\n",
       " 0.888871967792511,\n",
       " 0.9276757836341858,\n",
       " 0.9153934121131897,\n",
       " 0.9042230844497681,\n",
       " 0.9542561769485474,\n",
       " 0.9374853372573853,\n",
       " 0.9954854249954224,\n",
       " 0.9998089671134949,\n",
       " 1.0313464403152466,\n",
       " 1.0606228113174438,\n",
       " 1.087644100189209,\n",
       " 1.0843398571014404]"
      ]
     },
     "execution_count": 417,
     "metadata": {},
     "output_type": "execute_result"
    }
   ],
   "source": [
    "history.history['val_loss']"
   ]
  },
  {
   "cell_type": "code",
   "execution_count": 418,
   "id": "01ec3270-e026-4c68-b086-636cf2137cb3",
   "metadata": {},
   "outputs": [
    {
     "data": {
      "image/png": "[encoded data removed]",
      "text/plain": [
       "<Figure size 432x288 with 1 Axes>"
      ]
     },
     "metadata": {
      "needs_background": "light"
     },
     "output_type": "display_data"
    }
   ],
   "source": [
    "# 4-19) 훈련과 검증 손실 그리기\n",
    "\n",
    "loss = history.history[\"loss\"]\n",
    "val_loss = history.history[\"val_loss\"]\n",
    "epochs = range(1, len(loss) + 1)\n",
    "plt.plot(epochs, loss, \"bo\", label=\"Training loss\")\n",
    "plt.plot(epochs, val_loss, \"b\", label=\"Validation loss\")\n",
    "plt.title(\"Training and validation loss\")\n",
    "plt.xlabel(\"Epochs\")\n",
    "plt.ylabel(\"Loss\")\n",
    "plt.legend()\n",
    "plt.show() "
   ]
  },
  {
   "cell_type": "code",
   "execution_count": 419,
   "id": "879e0f28-cca1-4d3e-a7e1-66d1d4bf2ef7",
   "metadata": {},
   "outputs": [
    {
     "data": {
      "image/png": "[encoded data removed]",
      "text/plain": [
       "<Figure size 432x288 with 1 Axes>"
      ]
     },
     "metadata": {
      "needs_background": "light"
     },
     "output_type": "display_data"
    }
   ],
   "source": [
    "# 4-20) 훈련과 검증 정확도 그리기\n",
    "\n",
    "plt.clf()\n",
    "acc = history.history[\"acc\"]\n",
    "val_acc = history.history[\"val_acc\"]\n",
    "plt.plot(epochs, acc, \"bo\", label=\"Training accuracy\")\n",
    "plt.plot(epochs, val_acc, \"b\", label=\"Validation accuracy\")\n",
    "plt.title(\"Training and validation accuracy\")\n",
    "plt.xlabel(\"Epochs\")\n",
    "plt.ylabel(\"Accuracy\")\n",
    "plt.legend()\n",
    "plt.show() "
   ]
  },
  {
   "cell_type": "code",
   "execution_count": 429,
   "id": "6ca22095-97ef-4771-beef-b53feeae82ba",
   "metadata": {},
   "outputs": [],
   "source": [
    "model =Sequential([\n",
    "Dense(units =64, activation='relu'),\n",
    "    Dense(units =64, activation='relu'),\n",
    "    Dense(units =46, activation='softmax')\n",
    "])                                          # 원핫을 의미함 \n",
    "model.compile(optimizer='rmsprop', loss= 'categorical_crossentropy', metrics='acc')"
   ]
  },
  {
   "cell_type": "code",
   "execution_count": 430,
   "id": "238b0887-1da2-4860-a488-0e230c9c46ab",
   "metadata": {},
   "outputs": [
    {
     "name": "stdout",
     "output_type": "stream",
     "text": [
      "Epoch 1/9\n",
      "18/18 [==============================] - 1s 13ms/step - loss: 2.5055 - acc: 0.5523\n",
      "Epoch 2/9\n",
      "18/18 [==============================] - 0s 12ms/step - loss: 1.3450 - acc: 0.7151\n",
      "Epoch 3/9\n",
      "18/18 [==============================] - 0s 13ms/step - loss: 1.0017 - acc: 0.7857\n",
      "Epoch 4/9\n",
      "18/18 [==============================] - 0s 13ms/step - loss: 0.7803 - acc: 0.8426\n",
      "Epoch 5/9\n",
      "18/18 [==============================] - 0s 14ms/step - loss: 0.6157 - acc: 0.8769\n",
      "Epoch 6/9\n",
      "18/18 [==============================] - 0s 13ms/step - loss: 0.4890 - acc: 0.9014\n",
      "Epoch 7/9\n",
      "18/18 [==============================] - 0s 13ms/step - loss: 0.3927 - acc: 0.9202\n",
      "Epoch 8/9\n",
      "18/18 [==============================] - 0s 12ms/step - loss: 0.3242 - acc: 0.9310\n",
      "Epoch 9/9\n",
      "18/18 [==============================] - 0s 11ms/step - loss: 0.2690 - acc: 0.9383\n"
     ]
    },
    {
     "data": {
      "text/plain": [
       "<keras.callbacks.History at 0x12d1795dee0>"
      ]
     },
     "execution_count": 430,
     "metadata": {},
     "output_type": "execute_result"
    }
   ],
   "source": [
    "model.fit(x_train, train_labels, epochs=9, batch_size = 512)"
   ]
  },
  {
   "cell_type": "code",
   "execution_count": 431,
   "id": "93da45d1-94ab-4107-ba01-5c69686ab707",
   "metadata": {},
   "outputs": [
    {
     "name": "stdout",
     "output_type": "stream",
     "text": [
      "71/71 [==============================] - 0s 2ms/step\n"
     ]
    }
   ],
   "source": [
    "preds = model.predict(x_test)"
   ]
  },
  {
   "cell_type": "code",
   "execution_count": 432,
   "id": "35c7e342-1712-4f3f-886e-8a143f251e84",
   "metadata": {},
   "outputs": [
    {
     "data": {
      "text/plain": [
       "array([[4.8602542e-05, 2.1417448e-04, 6.5234144e-06, ..., 2.0869094e-05,\n",
       "        1.4131309e-07, 6.7793781e-06],\n",
       "       [2.9424506e-03, 8.2066294e-04, 4.6114993e-04, ..., 5.1721260e-03,\n",
       "        3.6555011e-06, 1.2832083e-05],\n",
       "       [2.8161989e-03, 9.0391612e-01, 3.2047875e-04, ..., 4.3176962e-03,\n",
       "        9.4264888e-06, 4.8490975e-04],\n",
       "       ...,\n",
       "       [2.2046162e-05, 1.2237798e-04, 6.8845593e-06, ..., 3.3482274e-06,\n",
       "        2.4685843e-07, 1.0188356e-06],\n",
       "       [2.3625647e-03, 3.2722414e-02, 1.0080193e-03, ..., 8.9034205e-04,\n",
       "        2.0944390e-05, 3.9257199e-04],\n",
       "       [4.9054023e-04, 2.9716092e-01, 1.9663496e-02, ..., 2.0158321e-03,\n",
       "        5.7919588e-05, 2.9450061e-04]], dtype=float32)"
      ]
     },
     "execution_count": 432,
     "metadata": {},
     "output_type": "execute_result"
    }
   ],
   "source": [
    "preds"
   ]
  },
  {
   "cell_type": "code",
   "execution_count": 433,
   "id": "83ee5165-b449-4cf8-88fc-e1dee2b0e3a5",
   "metadata": {},
   "outputs": [
    {
     "data": {
      "text/plain": [
       "array([0., 0., 0., 1., 0., 0., 0., 0., 0., 0., 0., 0., 0., 0., 0., 0., 0.,\n",
       "       0., 0., 0., 0., 0., 0., 0., 0., 0., 0., 0., 0., 0., 0., 0., 0., 0.,\n",
       "       0., 0., 0., 0., 0., 0., 0., 0., 0., 0., 0., 0.], dtype=float32)"
      ]
     },
     "execution_count": 433,
     "metadata": {},
     "output_type": "execute_result"
    }
   ],
   "source": [
    "preds[0].round()"
   ]
  },
  {
   "cell_type": "code",
   "execution_count": 434,
   "id": "3b125425-dfc5-498d-9981-aeadb9276e81",
   "metadata": {},
   "outputs": [
    {
     "data": {
      "text/plain": [
       "1.0"
      ]
     },
     "execution_count": 434,
     "metadata": {},
     "output_type": "execute_result"
    }
   ],
   "source": [
    "np.sum(preds[0])"
   ]
  },
  {
   "cell_type": "markdown",
   "id": "20d50217-9434-47c3-acd7-3deeaaa12551",
   "metadata": {},
   "source": [
    "# 요약"
   ]
  },
  {
   "cell_type": "code",
   "execution_count": 455,
   "id": "095ca235-b766-4423-91e8-624918a4b448",
   "metadata": {},
   "outputs": [
    {
     "name": "stdout",
     "output_type": "stream",
     "text": [
      "Epoch 1/20\n",
      "16/16 [==============================] - 1s 26ms/step - loss: 2.6695 - acc: 0.5406 - val_loss: 1.7432 - val_acc: 0.6500\n",
      "Epoch 2/20\n",
      "16/16 [==============================] - 0s 16ms/step - loss: 1.4183 - acc: 0.7185 - val_loss: 1.2834 - val_acc: 0.7210\n",
      "Epoch 3/20\n",
      "16/16 [==============================] - 0s 15ms/step - loss: 1.0338 - acc: 0.7863 - val_loss: 1.0984 - val_acc: 0.7670\n",
      "Epoch 4/20\n",
      "16/16 [==============================] - 0s 15ms/step - loss: 0.8106 - acc: 0.8306 - val_loss: 1.0048 - val_acc: 0.7870\n",
      "Epoch 5/20\n",
      "16/16 [==============================] - 0s 14ms/step - loss: 0.6444 - acc: 0.8664 - val_loss: 0.9541 - val_acc: 0.7950\n",
      "Epoch 6/20\n",
      "16/16 [==============================] - 0s 15ms/step - loss: 0.5165 - acc: 0.8950 - val_loss: 0.9108 - val_acc: 0.8110\n",
      "Epoch 7/20\n",
      "16/16 [==============================] - 0s 16ms/step - loss: 0.4174 - acc: 0.9110 - val_loss: 0.8808 - val_acc: 0.8130\n",
      "Epoch 8/20\n",
      "16/16 [==============================] - 0s 15ms/step - loss: 0.3415 - acc: 0.9286 - val_loss: 0.8849 - val_acc: 0.8160\n",
      "Epoch 9/20\n",
      "16/16 [==============================] - 0s 16ms/step - loss: 0.2862 - acc: 0.9380 - val_loss: 0.8915 - val_acc: 0.8070\n",
      "Epoch 10/20\n",
      "16/16 [==============================] - 0s 15ms/step - loss: 0.2408 - acc: 0.9429 - val_loss: 0.8928 - val_acc: 0.8200\n",
      "Epoch 11/20\n",
      "16/16 [==============================] - 0s 15ms/step - loss: 0.2071 - acc: 0.9488 - val_loss: 0.9513 - val_acc: 0.8030\n",
      "Epoch 12/20\n",
      "16/16 [==============================] - 0s 15ms/step - loss: 0.1861 - acc: 0.9525 - val_loss: 0.9105 - val_acc: 0.8130\n",
      "Epoch 13/20\n",
      "16/16 [==============================] - 0s 15ms/step - loss: 0.1662 - acc: 0.9519 - val_loss: 0.9868 - val_acc: 0.8050\n",
      "Epoch 14/20\n",
      "16/16 [==============================] - 0s 14ms/step - loss: 0.1544 - acc: 0.9540 - val_loss: 0.9226 - val_acc: 0.8150\n",
      "Epoch 15/20\n",
      "16/16 [==============================] - 0s 16ms/step - loss: 0.1386 - acc: 0.9549 - val_loss: 0.9484 - val_acc: 0.8150\n",
      "Epoch 16/20\n",
      "16/16 [==============================] - 0s 16ms/step - loss: 0.1326 - acc: 0.9570 - val_loss: 0.9705 - val_acc: 0.8100\n",
      "Epoch 17/20\n",
      "16/16 [==============================] - 0s 16ms/step - loss: 0.1284 - acc: 0.9567 - val_loss: 0.9695 - val_acc: 0.8100\n",
      "Epoch 18/20\n",
      "16/16 [==============================] - 0s 16ms/step - loss: 0.1212 - acc: 0.9572 - val_loss: 1.0642 - val_acc: 0.8030\n",
      "Epoch 19/20\n",
      "16/16 [==============================] - 0s 15ms/step - loss: 0.1107 - acc: 0.9595 - val_loss: 1.0273 - val_acc: 0.8060\n",
      "Epoch 20/20\n",
      "16/16 [==============================] - 0s 14ms/step - loss: 0.1151 - acc: 0.9577 - val_loss: 1.0523 - val_acc: 0.8010\n"
     ]
    }
   ],
   "source": [
    "from keras.datasets import reuters\n",
    "(train_data, train_labels), (test_data, test_labels) = reuters.load_data(num_words =10000)\n",
    "\n",
    "\n",
    "def vectorize_sequences(sequences, dimension = 10000):\n",
    "    results = np.zeros((len(sequences), dimension))\n",
    "    for i, sequence in enumerate(sequences):\n",
    "        for j in sequence:\n",
    "            results[i, j] = 1.\n",
    "    return results\n",
    "    \n",
    "\n",
    "x_train = vectorize_sequences(train_data)\n",
    "x_test = vectorize_sequences(test_data)\n",
    "\n",
    "def to_one_hot(labels, dimension=46):\n",
    "    results =np.zeros((len(labels), dimension))\n",
    "    for i, label in enumerate(labels):\n",
    "        results[i,label]= 1.\n",
    "    return results\n",
    "\n",
    "y_train =to_one_hot(train_labels)\n",
    "y_test =to_one_hot(test_labels)# 원핫인코딩으로 바꿔주는 함수\n",
    "\n",
    "model =keras.Sequential([\n",
    "Dense(units =64, activation='relu'),\n",
    "    Dense(units =64, activation='relu'),\n",
    "    Dense(units =46, activation='softmax')\n",
    "])                                          # 원핫을 의미함 \n",
    "model.compile(optimizer='rmsprop', loss= 'categorical_crossentropy', metrics='acc')\n",
    "\n",
    "\n",
    "x_val = x_train[:1000]\n",
    "partial_x_train =x_train[1000:]\n",
    "\n",
    "y_val = y_train[:1000]\n",
    "partial_y_train =y_train[1000: ]\n",
    "\n",
    "\n",
    "history=model.fit(partial_x_train, partial_y_train, epochs=20, batch_size = 512, validation_data=(x_val, y_val))\n",
    "\n",
    "# 4-19) 훈련과 검증 손실 그리기\n",
    "\n",
    "# loss = history.history[\"loss\"]\n",
    "# val_loss = history.history[\"val_loss\"]\n",
    "# epochs = range(1, len(loss) + 1)\n",
    "# plt.plot(epochs, loss, \"bo\", label=\"Training loss\")\n",
    "# plt.plot(epochs, val_loss, \"b\", label=\"Validation loss\")\n",
    "# plt.title(\"Training and validation loss\")\n",
    "# plt.xlabel(\"Epochs\")\n",
    "# plt.ylabel(\"Loss\")\n",
    "# plt.legend()\n",
    "# plt.show() \n",
    "\n"
   ]
  },
  {
   "cell_type": "code",
   "execution_count": 456,
   "id": "af10695e-aa3a-4d32-849a-143dfeaf784d",
   "metadata": {},
   "outputs": [
    {
     "data": {
      "image/png": "[encoded data removed]",
      "text/plain": [
       "<Figure size 432x288 with 1 Axes>"
      ]
     },
     "metadata": {
      "needs_background": "light"
     },
     "output_type": "display_data"
    }
   ],
   "source": [
    "# 4-20) 훈련과 검증 정확도 그리기\n",
    "\n",
    "plt.clf()\n",
    "acc = history.history[\"acc\"]\n",
    "val_acc = history.history[\"val_acc\"]\n",
    "plt.plot(epochs, acc, \"bo\", label=\"Training accuracy\")\n",
    "plt.plot(epochs, val_acc, \"b\", label=\"Validation accuracy\")\n",
    "plt.title(\"Training and validation accuracy\")\n",
    "plt.xlabel(\"Epochs\")\n",
    "plt.ylabel(\"Accuracy\")\n",
    "plt.legend()\n",
    "plt.show() "
   ]
  },
  {
   "cell_type": "code",
   "execution_count": 449,
   "id": "55e01e5f-73cc-4275-bf92-8c9c4e46dc10",
   "metadata": {},
   "outputs": [
    {
     "name": "stdout",
     "output_type": "stream",
     "text": [
      "Epoch 1/9\n",
      "18/18 [==============================] - 1s 13ms/step - loss: 2.5333 - acc: 0.5274\n",
      "Epoch 2/9\n",
      "18/18 [==============================] - 0s 14ms/step - loss: 1.3679 - acc: 0.7060\n",
      "Epoch 3/9\n",
      "18/18 [==============================] - 0s 13ms/step - loss: 1.0221 - acc: 0.7802\n",
      "Epoch 4/9\n",
      "18/18 [==============================] - 0s 12ms/step - loss: 0.8014 - acc: 0.8283\n",
      "Epoch 5/9\n",
      "18/18 [==============================] - 0s 12ms/step - loss: 0.6315 - acc: 0.8713\n",
      "Epoch 6/9\n",
      "18/18 [==============================] - 0s 14ms/step - loss: 0.4974 - acc: 0.8981\n",
      "Epoch 7/9\n",
      "18/18 [==============================] - 0s 13ms/step - loss: 0.3996 - acc: 0.9175\n",
      "Epoch 8/9\n",
      "18/18 [==============================] - 0s 12ms/step - loss: 0.3262 - acc: 0.9321\n",
      "Epoch 9/9\n",
      "18/18 [==============================] - 0s 11ms/step - loss: 0.2768 - acc: 0.9401\n",
      "71/71 [==============================] - 0s 2ms/step - loss: 0.9732 - acc: 0.7916\n"
     ]
    },
    {
     "data": {
      "text/plain": [
       "[0.9732289910316467, 0.7916295528411865]"
      ]
     },
     "execution_count": 449,
     "metadata": {},
     "output_type": "execute_result"
    }
   ],
   "source": [
    "model =Sequential([\n",
    "Dense(units =64, activation='relu'),\n",
    "    Dense(units =64, activation='relu'),\n",
    "    Dense(units =46, activation='softmax')\n",
    "])                                          # 원핫을 의미함 \n",
    "model.compile(optimizer='rmsprop', loss= 'categorical_crossentropy', metrics='acc')\n",
    "model.fit(x_train, y_train, epochs=9, batch_size = 512)\n",
    "model.evaluate(x_test, y_test)"
   ]
  },
  {
   "cell_type": "code",
   "execution_count": 450,
   "id": "10f6b4f0-e56e-43fb-8279-000f22e2df7c",
   "metadata": {},
   "outputs": [
    {
     "name": "stdout",
     "output_type": "stream",
     "text": [
      "71/71 [==============================] - 0s 2ms/step\n"
     ]
    },
    {
     "data": {
      "text/plain": [
       "1.0"
      ]
     },
     "execution_count": 450,
     "metadata": {},
     "output_type": "execute_result"
    }
   ],
   "source": [
    "preds = model.predict(x_test)\n",
    "np.sum(preds[0])"
   ]
  },
  {
   "cell_type": "code",
   "execution_count": 453,
   "id": "84683740-0385-4ad1-a364-13f9707fc986",
   "metadata": {},
   "outputs": [
    {
     "data": {
      "text/plain": [
       "4"
      ]
     },
     "execution_count": 453,
     "metadata": {},
     "output_type": "execute_result"
    }
   ],
   "source": [
    "np.argmax(preds[0])"
   ]
  },
  {
   "cell_type": "code",
   "execution_count": 458,
   "id": "d75681c5-75ca-4c8d-95c3-6a8128834bb6",
   "metadata": {},
   "outputs": [
    {
     "name": "stdout",
     "output_type": "stream",
     "text": [
      "Epoch 1/20\n",
      "63/63 [==============================] - 1s 10ms/step - loss: 2.7211 - acc: 0.2912 - val_loss: 2.0325 - val_acc: 0.4280\n",
      "Epoch 2/20\n",
      "63/63 [==============================] - 1s 8ms/step - loss: 1.6682 - acc: 0.6115 - val_loss: 1.5184 - val_acc: 0.6630\n",
      "Epoch 3/20\n",
      "63/63 [==============================] - 0s 8ms/step - loss: 1.3022 - acc: 0.7002 - val_loss: 1.3794 - val_acc: 0.6830\n",
      "Epoch 4/20\n",
      "63/63 [==============================] - 0s 8ms/step - loss: 1.1236 - acc: 0.7265 - val_loss: 1.3011 - val_acc: 0.6910\n",
      "Epoch 5/20\n",
      "63/63 [==============================] - 0s 8ms/step - loss: 1.0017 - acc: 0.7508 - val_loss: 1.2646 - val_acc: 0.7110\n",
      "Epoch 6/20\n",
      "63/63 [==============================] - 0s 8ms/step - loss: 0.9055 - acc: 0.7815 - val_loss: 1.2898 - val_acc: 0.7120\n",
      "Epoch 7/20\n",
      "63/63 [==============================] - 0s 8ms/step - loss: 0.8284 - acc: 0.8047 - val_loss: 1.3151 - val_acc: 0.7090\n",
      "Epoch 8/20\n",
      "63/63 [==============================] - 0s 7ms/step - loss: 0.7629 - acc: 0.8202 - val_loss: 1.3080 - val_acc: 0.7230\n",
      "Epoch 9/20\n",
      "63/63 [==============================] - 0s 8ms/step - loss: 0.7078 - acc: 0.8289 - val_loss: 1.3541 - val_acc: 0.7190\n",
      "Epoch 10/20\n",
      "63/63 [==============================] - 0s 8ms/step - loss: 0.6631 - acc: 0.8338 - val_loss: 1.3611 - val_acc: 0.7180\n",
      "Epoch 11/20\n",
      "63/63 [==============================] - 0s 8ms/step - loss: 0.6209 - acc: 0.8374 - val_loss: 1.4184 - val_acc: 0.7220\n",
      "Epoch 12/20\n",
      "63/63 [==============================] - 1s 8ms/step - loss: 0.5890 - acc: 0.8409 - val_loss: 1.4595 - val_acc: 0.7150\n",
      "Epoch 13/20\n",
      "63/63 [==============================] - 0s 8ms/step - loss: 0.5580 - acc: 0.8443 - val_loss: 1.4967 - val_acc: 0.7140\n",
      "Epoch 14/20\n",
      "63/63 [==============================] - 0s 7ms/step - loss: 0.5316 - acc: 0.8505 - val_loss: 1.5247 - val_acc: 0.7130\n",
      "Epoch 15/20\n",
      "63/63 [==============================] - 0s 8ms/step - loss: 0.5070 - acc: 0.8524 - val_loss: 1.5701 - val_acc: 0.7180\n",
      "Epoch 16/20\n",
      "63/63 [==============================] - 0s 8ms/step - loss: 0.4872 - acc: 0.8581 - val_loss: 1.6429 - val_acc: 0.7140\n",
      "Epoch 17/20\n",
      "63/63 [==============================] - 0s 8ms/step - loss: 0.4674 - acc: 0.8664 - val_loss: 1.6984 - val_acc: 0.7190\n",
      "Epoch 18/20\n",
      "63/63 [==============================] - 0s 7ms/step - loss: 0.4482 - acc: 0.8705 - val_loss: 1.7251 - val_acc: 0.7080\n",
      "Epoch 19/20\n",
      "63/63 [==============================] - 0s 8ms/step - loss: 0.4312 - acc: 0.8830 - val_loss: 1.7776 - val_acc: 0.7130\n",
      "Epoch 20/20\n",
      "63/63 [==============================] - 0s 8ms/step - loss: 0.4124 - acc: 0.8854 - val_loss: 1.8556 - val_acc: 0.7120\n"
     ]
    },
    {
     "data": {
      "text/plain": [
       "<keras.callbacks.History at 0x12d09305b50>"
      ]
     },
     "execution_count": 458,
     "metadata": {},
     "output_type": "execute_result"
    }
   ],
   "source": [
    "model =Sequential([\n",
    "Dense(units =64, activation='relu'),\n",
    "    Dense(units =4, activation='relu'),\n",
    "    Dense(units =46, activation='softmax')\n",
    "])                                          # 원핫을 의미함 \n",
    "model.compile(optimizer='rmsprop', loss= 'categorical_crossentropy', metrics='acc')\n",
    "model.fit(partial_x_train, partial_y_train, epochs=20, batch_size = 128, validation_data=(x_val, y_val))"
   ]
  },
  {
   "cell_type": "code",
   "execution_count": 461,
   "id": "c279fd3d-0837-4393-b1d8-065e2f300f49",
   "metadata": {},
   "outputs": [
    {
     "data": {
      "text/plain": [
       "[0.2911550998687744,\n",
       " 0.6115008592605591,\n",
       " 0.7002004384994507,\n",
       " 0.7265096306800842,\n",
       " 0.7508143186569214,\n",
       " 0.7815083861351013,\n",
       " 0.8046855330467224,\n",
       " 0.8202204704284668,\n",
       " 0.8288649320602417,\n",
       " 0.8337509632110596,\n",
       " 0.8373841047286987,\n",
       " 0.8408920168876648,\n",
       " 0.844274640083313,\n",
       " 0.8505387306213379,\n",
       " 0.8524179458618164,\n",
       " 0.8580556511878967,\n",
       " 0.8664495348930359,\n",
       " 0.8704585433006287,\n",
       " 0.8829867243766785,\n",
       " 0.8853670954704285]"
      ]
     },
     "execution_count": 461,
     "metadata": {},
     "output_type": "execute_result"
    }
   ],
   "source": [
    "model.history.history['acc']"
   ]
  },
  {
   "cell_type": "code",
   "execution_count": null,
   "id": "be2f93f6-8681-454e-aa0b-8cb1d53c913f",
   "metadata": {},
   "outputs": [],
   "source": []
  }
 ],
 "metadata": {
  "kernelspec": {
   "display_name": "Python 3 (ipykernel)",
   "language": "python",
   "name": "python3"
  },
  "language_info": {
   "codemirror_mode": {
    "name": "ipython",
    "version": 3
   },
   "file_extension": ".py",
   "mimetype": "text/x-python",
   "name": "python",
   "nbconvert_exporter": "python",
   "pygments_lexer": "ipython3",
   "version": "3.9.12"
  }
 },
 "nbformat": 4,
 "nbformat_minor": 5
}
