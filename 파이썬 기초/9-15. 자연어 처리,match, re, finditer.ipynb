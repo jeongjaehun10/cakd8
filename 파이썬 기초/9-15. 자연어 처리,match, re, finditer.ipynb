{
 "cells": [
  {
   "cell_type": "markdown",
   "id": "a6732010-ddbb-4793-ab6c-d0788f0c1b43",
   "metadata": {},
   "source": [
    "# 정리"
   ]
  },
  {
   "cell_type": "code",
   "execution_count": null,
   "id": "8d94bdc9-d8e3-4485-8234-915274537610",
   "metadata": {},
   "outputs": [],
   "source": [
    "phone_number= ['010-123-1234', '010-111-1111', '010-222-2222', '010-333-3333', '010-444-4444', '010-555-5555', '010-666-6666', '010-777-7777', '010-888-8888', '010-999-9999'] \n",
    "\n",
    "for string in phone_number: \n",
    "    print(re.sub(r\"\\d{3}-\\d{4}\", \"1**-****\", string), end =\",   \")\n",
    "for string in phone_number: \n",
    "    print(re.sub(r\"\\d{2}-\\d{4}\", \"**-****\", string), end =\",   \")\n",
    "    # 하이픈 양쪽을 기준으로 바꿈     \n",
    " * + ? {} 반복 나타내는 표현\n",
    " li = ['손흥민', '황의조', '이 호', '황희찬', '홍 철'] \n",
    "for i in li:\n",
    "    a = re.sub(\"\\w\\s\\w\",\"A\",i)\n",
    "    print(a) \n",
    "for name in li:\n",
    "    print(re.sub(\".[ ].\", \"A\", name))\n",
    "    \n",
    "    \n",
    "words = []\n",
    "for count in range(20):\n",
    "    word = ''\n",
    "    while len(word) < random.randint(1,10):\n",
    "        a = random.randint(1,3)    \n",
    "        if a == 1:\n",
    "            English = chr(random.randint(65,90))\n",
    "            word += English\n",
    "        elif a == 2:\n",
    "            english = chr(random.randint(97,122))\n",
    "            word += english\n",
    "        else:\n",
    "            number = str(random.randint(0,9))\n",
    "            word += number\n",
    "    words.append(word)\n",
    "    \n",
    "print(words) \n",
    "    \n",
    "    \n",
    "import random\n",
    "words = []\n",
    "for count in range(20):\n",
    "    word = ''\n",
    "    length = random.randint(1,10)\n",
    "    while True:\n",
    "        prob = random.randint(1,3)\n",
    "        if prob == 1: word = word + chr(random.randint(65,90)) # word에 하나씩 더함 \n",
    "        elif prob == 2: word = word + chr(random.randint(97,122))\n",
    "        else: word = word + str(random.randint(0,9))\n",
    "        if len(word) == length: break\n",
    "    words.append(word)\n",
    "words     \n",
    "words = []\n",
    "for count in range(20):\n",
    "    word = ''\n",
    "    while len(word) < random.randint(1,10):\n",
    "        a = random.randint(1,3)    \n",
    "        if a == 1:\n",
    "            English = chr(random.randint(65,90))\n",
    "            word += English\n",
    "        elif a == 2:\n",
    "            english = chr(random.randint(97,122))\n",
    "            word += english\n",
    "        else:\n",
    "            number = str(random.randint(0,9))\n",
    "            word += number\n",
    "    words.append(word)\n",
    "    \n",
    "for i in words:\n",
    "    a = re.sub(\"^[a-z].+[A-Z]$\",\"#\",i)\n",
    "    print(a) \n",
    "    \n",
    "(\\d{6})-(\\d{7})\n",
    "g<1> = d6\n",
    "g<0>은 전체\n",
    "\n",
    "p=re.compile(\"[a-z]+\")\n",
    "p.match(\"pythonPYTHON1234\") # 스팬 길이 0번인덱스부터 5까지\n",
    "re.match(\"[a-z]+\", \"python\")\n",
    "p.search(\"PYTHONpythonP1234  pythonPYTHON1234\")\n",
    "p.findall(\"PYTHONpythonP1234  pythonPYTHON1234\")\n",
    "# 인덱스 번호 안주고 그냥 모습 그대로 줌 \n",
    "#리스트로 돌려준다.\n",
    "for i in p.finditer(\"PYTHONpythonP1234  pythonPYTHON1234\"):\n",
    "    print(i)\n",
    "   #for i in 문으로 들어가서 결과 돌려줌  \n",
    "\n",
    "for i in re.finditer('하세요|하지요|싶어요' , msg):\n",
    "    print(i.span())\n",
    "for i in re.finditer(\"[하싶].요\", msg):\n",
    "    print(i.span()) \n",
    "p = re.compile(\".+:\")\n",
    "m= p.search(\"http://google.com\")\n",
    "print(m.group())\n",
    "\n",
    "sentence = \"localhost:8888\"\n",
    "p = re.compile(\"(.+):(.+)\")\n",
    "p = re.compile(\"(?=ll).+\")\n",
    "m= p.search(\"hello2022\")\n",
    "print(m.group())\n",
    "print(p.search(sentence).group(2), p.search(sentence).group(1))\n",
    "p = re.compile(r\"(?<=f).+\") # 뒤에꺼 f제거 하고 할려면\n",
    "p.findall(data)               #화살표 표시 해줘야함 \n",
    "data = [\"soso\", \"sososo\", \"sosososo\", \"sososososo\"] \n",
    "p = re.compile(r\"(so){3,5}\") #so가 3번이구나 5번\n",
    "for i in data:\n",
    "    print(p.search(i))#그리디 욕심많음 "
   ]
  },
  {
   "cell_type": "code",
   "execution_count": 1,
   "id": "971f0758-edef-4cfb-b9c6-2779717637c8",
   "metadata": {},
   "outputs": [
    {
     "ename": "SyntaxError",
     "evalue": "invalid syntax (3328269951.py, line 1)",
     "output_type": "error",
     "traceback": [
      "\u001b[1;36m  Input \u001b[1;32mIn [1]\u001b[1;36m\u001b[0m\n\u001b[1;33m    . 전자는 줄 바꿈을 제외한 모든 문자를 의미, [.] 후자는 . 그 자체를 의미\u001b[0m\n\u001b[1;37m    ^\u001b[0m\n\u001b[1;31mSyntaxError\u001b[0m\u001b[1;31m:\u001b[0m invalid syntax\n"
     ]
    }
   ],
   "source": [
    ". 전자는 줄 바꿈을 제외한 모든 문자를 의미, [.] 후자는 . 그 자체를 의미 "
   ]
  },
  {
   "cell_type": "code",
   "execution_count": 2,
   "id": "888e0ed6-4c1b-4438-9e73-dab2614883bf",
   "metadata": {},
   "outputs": [
    {
     "ename": "SyntaxError",
     "evalue": "invalid syntax (3503350180.py, line 1)",
     "output_type": "error",
     "traceback": [
      "\u001b[1;36m  Input \u001b[1;32mIn [2]\u001b[1;36m\u001b[0m\n\u001b[1;33m    *0 반복\u001b[0m\n\u001b[1;37m       ^\u001b[0m\n\u001b[1;31mSyntaxError\u001b[0m\u001b[1;31m:\u001b[0m invalid syntax\n"
     ]
    }
   ],
   "source": [
    "* 0포함 모든 문자 반복 "
   ]
  },
  {
   "cell_type": "code",
   "execution_count": 3,
   "id": "851b078c-c87f-4ad2-8944-658d3465d02e",
   "metadata": {},
   "outputs": [],
   "source": [
    "import random"
   ]
  },
  {
   "cell_type": "code",
   "execution_count": 8,
   "id": "ef360850-717d-4f63-9498-3cdbe7d0f4cf",
   "metadata": {},
   "outputs": [
    {
     "data": {
      "text/plain": [
       "[2, 1, 5, 4, 3]"
      ]
     },
     "execution_count": 8,
     "metadata": {},
     "output_type": "execute_result"
    }
   ],
   "source": [
    "a= [1,2,3,4,5]\n",
    "random.shuffle(a)\n",
    "a"
   ]
  },
  {
   "cell_type": "code",
   "execution_count": 2,
   "id": "245c3dbe-82b2-4262-ac35-2df7f7d22af2",
   "metadata": {},
   "outputs": [
    {
     "data": {
      "text/plain": [
       "[25, 30, 35, 40]"
      ]
     },
     "execution_count": 2,
     "metadata": {},
     "output_type": "execute_result"
    }
   ],
   "source": [
    "list(map(lambda a : a*5, [5,6,7,8,]))"
   ]
  },
  {
   "cell_type": "code",
   "execution_count": 4,
   "id": "c6220c5e-966c-479c-9c37-b39d3806b544",
   "metadata": {},
   "outputs": [
    {
     "data": {
      "text/plain": [
       "[-2, -3]"
      ]
     },
     "execution_count": 4,
     "metadata": {},
     "output_type": "execute_result"
    }
   ],
   "source": [
    "a= [1, -2, 3, 5, 8, -3] \n",
    "list(filter(lambda a: a<0, a))"
   ]
  },
  {
   "cell_type": "code",
   "execution_count": 15,
   "id": "c3304caa-82cd-4640-a6f5-7f6fef740fe6",
   "metadata": {},
   "outputs": [
    {
     "name": "stdout",
     "output_type": "stream",
     "text": [
      "1\n",
      "2\n",
      "3\n",
      "4\n",
      "5\n",
      "6\n",
      "7\n",
      "8\n",
      "9\n"
     ]
    }
   ],
   "source": [
    "i=1\n",
    "while i<10:\n",
    "    print(i)\n",
    "    i+=1 #1은 어디든 상관 X\n",
    "    "
   ]
  },
  {
   "cell_type": "code",
   "execution_count": 19,
   "id": "0c8bf05e-e474-4792-9d1b-647121187ae1",
   "metadata": {},
   "outputs": [
    {
     "name": "stdout",
     "output_type": "stream",
     "text": [
      "[5, 10, 15, 20]\n"
     ]
    }
   ],
   "source": [
    "a = [1,2,3,4]\n",
    "li = []\n",
    "for i in a:\n",
    "    li.append(5*i)  # 5*i이다. \n",
    "print(li)    "
   ]
  },
  {
   "cell_type": "code",
   "execution_count": 2,
   "id": "c9f55ee5-b7a0-4550-8570-642b603d716a",
   "metadata": {},
   "outputs": [
    {
     "data": {
      "text/plain": [
       "'I like apple And apple'"
      ]
     },
     "execution_count": 2,
     "metadata": {},
     "output_type": "execute_result"
    }
   ],
   "source": [
    "import re\n",
    "sentence = \"I like apble And apble\"\n",
    "re.sub(\"apble|apble\"  ,\"apple\" , sentence)"
   ]
  },
  {
   "cell_type": "code",
   "execution_count": 3,
   "id": "b69f476b-6528-4515-87d3-a268964fa099",
   "metadata": {},
   "outputs": [
    {
     "ename": "SyntaxError",
     "evalue": "invalid syntax (2862802735.py, line 1)",
     "output_type": "error",
     "traceback": [
      "\u001b[1;36m  Input \u001b[1;32mIn [3]\u001b[1;36m\u001b[0m\n\u001b[1;33m    * + ? {} 반복 나타내는 표현\u001b[0m\n\u001b[1;37m        ^\u001b[0m\n\u001b[1;31mSyntaxError\u001b[0m\u001b[1;31m:\u001b[0m invalid syntax\n"
     ]
    }
   ],
   "source": [
    " * + ? {} 반복 나타내는 표현\n"
   ]
  },
  {
   "cell_type": "code",
   "execution_count": 4,
   "id": "b9e7a3c0-e97d-41db-baeb-f88d78a25fa6",
   "metadata": {},
   "outputs": [
    {
     "name": "stdout",
     "output_type": "stream",
     "text": [
      "010-1**-****,   010-1**-****,   010-1**-****,   010-1**-****,   010-1**-****,   010-1**-****,   010-1**-****,   010-1**-****,   010-1**-****,   010-1**-****,   "
     ]
    }
   ],
   "source": [
    "phone_number= ['010-123-1234', '010-111-1111', '010-222-2222', '010-333-3333', '010-444-4444', '010-555-5555', '010-666-6666', '010-777-7777', '010-888-8888', '010-999-9999'] \n",
    "\n",
    "for string in phone_number: \n",
    "    print(re.sub(r\"\\d{3}-\\d{4}\", \"1**-****\", string), end =\",   \")"
   ]
  },
  {
   "cell_type": "code",
   "execution_count": 33,
   "id": "84bdb800-f726-46fa-8b22-47076c36ed96",
   "metadata": {},
   "outputs": [
    {
     "name": "stdout",
     "output_type": "stream",
     "text": [
      "010-1**-****\n",
      "010-1**-****\n",
      "010-2**-****\n",
      "010-3**-****\n",
      "010-4**-****\n",
      "010-5**-****\n",
      "010-6**-****\n",
      "010-7**-****\n",
      "010-8**-****\n",
      "010-9**-****\n"
     ]
    }
   ],
   "source": [
    "for Number in phone_number :\n",
    "    print(re.sub(\"[0-9][0-9]-[0-9]{4}\", \"**-****\", Number)) "
   ]
  },
  {
   "cell_type": "code",
   "execution_count": 37,
   "id": "960a547e-dd31-497f-8254-ba693a261afe",
   "metadata": {},
   "outputs": [
    {
     "name": "stdout",
     "output_type": "stream",
     "text": [
      "010-1**-****,   010-1**-****,   010-2**-****,   010-3**-****,   010-4**-****,   010-5**-****,   010-6**-****,   010-7**-****,   010-8**-****,   010-9**-****,   "
     ]
    }
   ],
   "source": [
    "for string in phone_number: \n",
    "    print(re.sub(r\"\\d{2}-\\d{4}\", \"**-****\", string), end =\",   \")\n",
    "    # 하이픈 양쪽을 기준으로 바꿈 "
   ]
  },
  {
   "cell_type": "code",
   "execution_count": 5,
   "id": "9f775e89-0f75-4a7f-a767-f74907c5a764",
   "metadata": {},
   "outputs": [
    {
     "name": "stdout",
     "output_type": "stream",
     "text": [
      "010-1**-****\n",
      "010-1**-****\n",
      "010-2**-****\n",
      "010-3**-****\n",
      "010-4**-****\n",
      "010-5**-****\n",
      "010-6**-****\n",
      "010-7**-****\n",
      "010-8**-****\n",
      "010-9**-****\n"
     ]
    }
   ],
   "source": [
    "for i in phone_number:\n",
    "    a = re.sub(i[5:],\"**-****\",i) # i가 하나씩 뽑아온 데이터를 바꿈 \n",
    "    print(a) "
   ]
  },
  {
   "cell_type": "code",
   "execution_count": 40,
   "id": "076f6916-ef59-4873-bc01-bd8fa89942b7",
   "metadata": {},
   "outputs": [
    {
     "name": "stdout",
     "output_type": "stream",
     "text": [
      "손흥민\n",
      "황의조\n",
      "A\n",
      "황희찬\n",
      "A\n"
     ]
    }
   ],
   "source": [
    "li = ['손흥민', '황의조', '이 호', '황희찬', '홍 철'] \n",
    "for i in li:\n",
    "    a = re.sub(\"\\w\\s\\w\",\"A\",i)\n",
    "    print(a) "
   ]
  },
  {
   "cell_type": "code",
   "execution_count": 41,
   "id": "6cfabab0-d378-4c60-b84c-14fecfca9089",
   "metadata": {},
   "outputs": [
    {
     "name": "stdout",
     "output_type": "stream",
     "text": [
      "손흥민\n",
      "황의조\n",
      "A\n",
      "황희찬\n",
      "A\n"
     ]
    }
   ],
   "source": [
    "for name in li:\n",
    "    print(re.sub(\".[ ].\", \"A\", name))"
   ]
  },
  {
   "cell_type": "code",
   "execution_count": 42,
   "id": "e6373dec-a853-49b0-8b75-a0609676e298",
   "metadata": {},
   "outputs": [
    {
     "name": "stdout",
     "output_type": "stream",
     "text": [
      "손흥민\n",
      "황의조\n",
      "A\n",
      "황희찬\n",
      "A\n"
     ]
    }
   ],
   "source": [
    "for name in li:\n",
    "    print(re.sub(\". .\", \"A\", name))"
   ]
  },
  {
   "cell_type": "code",
   "execution_count": 43,
   "id": "db65f72b-9eb0-450d-bb84-2a2d52e8423c",
   "metadata": {},
   "outputs": [],
   "source": [
    "import random"
   ]
  },
  {
   "cell_type": "code",
   "execution_count": 44,
   "id": "0ca52e23-e594-4fac-95e4-a2734fe301f4",
   "metadata": {},
   "outputs": [
    {
     "ename": "SyntaxError",
     "evalue": "invalid syntax (2898886950.py, line 6)",
     "output_type": "error",
     "traceback": [
      "\u001b[1;36m  Input \u001b[1;32mIn [44]\u001b[1;36m\u001b[0m\n\u001b[1;33m    if for i in a(len(10)):\u001b[0m\n\u001b[1;37m       ^\u001b[0m\n\u001b[1;31mSyntaxError\u001b[0m\u001b[1;31m:\u001b[0m invalid syntax\n"
     ]
    }
   ],
   "source": [
    "words=[]\n",
    "a= upper(chr(random.randint(65, 90)))\n",
    "b= lower(chr(random.randint(97, 122)))\n",
    "c= random.randint\n",
    "for i in ragne(20):\n",
    "    if for i in a(len(10)):\n",
    "        words.append(i)\n",
    "words        \n",
    "    "
   ]
  },
  {
   "cell_type": "code",
   "execution_count": 45,
   "id": "15e034f5-92b3-4841-9a23-e90a9210eb0d",
   "metadata": {},
   "outputs": [
    {
     "name": "stdout",
     "output_type": "stream",
     "text": [
      "['0', 'SJg', 'Ubvtd', '2zv', '5U5', 'h98O', 'ahk18', '8J8', '8xCB4', '7rvO', '6J', 'V9', 'xg0Y7G', 'O3iF7h9', '76H', 'IbEGO', '22i2M', '3ax', '26WLej', '4DtNn6']\n"
     ]
    }
   ],
   "source": [
    "words = []\n",
    "for count in range(20):\n",
    "    word = ''\n",
    "    while len(word) < random.randint(1,10):\n",
    "        a = random.randint(1,3)    \n",
    "        if a == 1:\n",
    "            English = chr(random.randint(65,90))\n",
    "            word += English\n",
    "        elif a == 2:\n",
    "            english = chr(random.randint(97,122))\n",
    "            word += english\n",
    "        else:\n",
    "            number = str(random.randint(0,9))\n",
    "            word += number\n",
    "    words.append(word)\n",
    "    \n",
    "print(words) \n",
    "    "
   ]
  },
  {
   "cell_type": "code",
   "execution_count": 46,
   "id": "313174e2-bf49-43a1-b55b-c27bad59dd8d",
   "metadata": {},
   "outputs": [
    {
     "data": {
      "text/plain": [
       "['A2PerFU4Vi',\n",
       " '4',\n",
       " 'GsLrfV9o',\n",
       " 'O',\n",
       " 'H5w70S',\n",
       " 'W2aE7Ux',\n",
       " 'K36WX6E',\n",
       " '8f6ze',\n",
       " 'yH96M6',\n",
       " 'b246BY',\n",
       " 'Ha8',\n",
       " '03t',\n",
       " '12gip941B8',\n",
       " 'v2nBD2t',\n",
       " 'Aaps',\n",
       " 'DvHNU',\n",
       " 'Bj',\n",
       " 'tFXBr8j',\n",
       " 'B31u27J023',\n",
       " '80']"
      ]
     },
     "execution_count": 46,
     "metadata": {},
     "output_type": "execute_result"
    }
   ],
   "source": [
    "import random\n",
    "words = []\n",
    "for count in range(20):\n",
    "    word = ''\n",
    "    length = random.randint(1,10)\n",
    "    while True:\n",
    "        prob = random.randint(1,3)\n",
    "        if prob == 1: word = word + chr(random.randint(65,90)) # word에 하나씩 더함 \n",
    "        elif prob == 2: word = word + chr(random.randint(97,122))\n",
    "        else: word = word + str(random.randint(0,9))\n",
    "        if len(word) == length: break\n",
    "    words.append(word)\n",
    "words "
   ]
  },
  {
   "cell_type": "code",
   "execution_count": 54,
   "id": "297e75ca-37d5-4ac2-a125-a02eceb5091d",
   "metadata": {},
   "outputs": [
    {
     "name": "stdout",
     "output_type": "stream",
     "text": [
      "['ZAe06d', 'YZ', 'VZj', '3t8kY', '31o', '74t1', '9mo419', 'o', 'XK8bZ93', '98GjK', '0cZ', 'l', '2C2', '5', '0', 'u5X', '5pwG', '7Y93jT', 'c2C1b', '8A']\n"
     ]
    }
   ],
   "source": [
    "words =[] \n",
    "for i in range(20):\n",
    "    word = \"\"\n",
    "    while len(word) < random.randint(1,10):\n",
    "        a = random.randint(1,3)\n",
    "        if a ==1:\n",
    "            English = chr(random.randint(65,90))\n",
    "            word += English\n",
    "        elif a ==2:\n",
    "            english = chr(random.randint(97,122))\n",
    "            word += english\n",
    "        else:\n",
    "            number = str(random.randint(0,9))\n",
    "            word += number\n",
    "    words.append(word)\n",
    "print(words)\n",
    "\n",
    "                    \n",
    "                    \n",
    "                "
   ]
  },
  {
   "cell_type": "code",
   "execution_count": 48,
   "id": "bc7a21be-4049-4564-9107-81372117b24a",
   "metadata": {},
   "outputs": [
    {
     "data": {
      "text/plain": [
       "['4Ry7J',\n",
       " 'RvYO',\n",
       " '3',\n",
       " 'jqM',\n",
       " 'DM',\n",
       " 'QhuA',\n",
       " 'c1',\n",
       " 'Ow16',\n",
       " 'kKXup',\n",
       " 'vh',\n",
       " 'M1',\n",
       " 'mmS',\n",
       " 'Vnu2',\n",
       " '51Y',\n",
       " 'd47WH0',\n",
       " 'z3jfv',\n",
       " '3dbJZfd',\n",
       " '7FJP',\n",
       " 'mW9J0V',\n",
       " 'Ow']"
      ]
     },
     "execution_count": 48,
     "metadata": {},
     "output_type": "execute_result"
    }
   ],
   "source": [
    "words = []\n",
    "for count in range(20) :\n",
    "    word = \"\"\n",
    "    while len(word) < random.randint(1, 10) :\n",
    "        word += ''.join(random.choice(str(random.randint(0,9)) + chr(random.randint(65, 90))+chr(random.randint(97, 122))))\n",
    "    words.append(word)\n",
    "words "
   ]
  },
  {
   "cell_type": "code",
   "execution_count": 64,
   "id": "8196f078-3c3d-4971-8808-f5b40c8b0fff",
   "metadata": {},
   "outputs": [
    {
     "name": "stdout",
     "output_type": "stream",
     "text": [
      "zT\n",
      "CsA4V\n",
      "470N0k\n",
      "T3no\n",
      "53Xvr\n",
      "p4m0\n",
      "y63\n",
      "1\n",
      "#\n",
      "7SG4\n",
      "dP4\n",
      "#\n",
      "KG\n",
      "N15RT\n",
      "#\n",
      "vx\n",
      "0fk\n",
      "31i\n",
      "Rq\n",
      "03c\n"
     ]
    }
   ],
   "source": [
    "words = []\n",
    "for count in range(20):\n",
    "    word = ''\n",
    "    while len(word) < random.randint(1,10):\n",
    "        a = random.randint(1,3)    \n",
    "        if a == 1:\n",
    "            English = chr(random.randint(65,90))\n",
    "            word += English\n",
    "        elif a == 2:\n",
    "            english = chr(random.randint(97,122))\n",
    "            word += english\n",
    "        else:\n",
    "            number = str(random.randint(0,9))\n",
    "            word += number\n",
    "    words.append(word)\n",
    "    \n",
    "for i in words:\n",
    "    a = re.sub(\"^[a-z].+[A-Z]$\",\"#\",i)\n",
    "    print(a) \n",
    "    \n",
    "    "
   ]
  },
  {
   "cell_type": "code",
   "execution_count": 66,
   "id": "2e2bce10-fce8-4a73-8f34-487748be27c3",
   "metadata": {},
   "outputs": [
    {
     "name": "stdout",
     "output_type": "stream",
     "text": [
      "#\n",
      "CsA4V\n",
      "470N0k\n",
      "T3no\n",
      "53Xvr\n",
      "p4m0\n",
      "y63\n",
      "1\n",
      "#\n",
      "7SG4\n",
      "dP4\n",
      "#\n",
      "KG\n",
      "N15RT\n",
      "#\n",
      "vx\n",
      "0fk\n",
      "31i\n",
      "Rq\n",
      "03c\n"
     ]
    }
   ],
   "source": [
    "for i in words:\n",
    "    a = re.sub(\"^[a-z].*[A-Z]$\",\"#\",i)\n",
    "    print(a) "
   ]
  },
  {
   "cell_type": "code",
   "execution_count": 232,
   "id": "ffeca5b7-488e-4f8d-ada7-e8dcbc194470",
   "metadata": {},
   "outputs": [
    {
     "name": "stdout",
     "output_type": "stream",
     "text": [
      "#\n",
      "#\n",
      "470N0k\n",
      "#\n",
      "53Xvr\n",
      "p4m0\n",
      "y63\n",
      "1\n",
      "#\n",
      "7SG4\n",
      "dP4\n",
      "#\n",
      "#\n",
      "#\n",
      "#\n",
      "#\n",
      "0fk\n",
      "31i\n",
      "#\n",
      "03c\n"
     ]
    }
   ],
   "source": [
    "for i in words:\n",
    "    a = re.sub(\"^[A-z].*[A-z]$\",\"#\",i)\n",
    "    print(a) "
   ]
  },
  {
   "cell_type": "code",
   "execution_count": 73,
   "id": "2d3c5ba0-9b6c-4c62-9017-2bba65e13854",
   "metadata": {},
   "outputs": [
    {
     "ename": "SyntaxError",
     "evalue": "unexpected character after line continuation character (2909169394.py, line 1)",
     "output_type": "error",
     "traceback": [
      "\u001b[1;36m  Input \u001b[1;32mIn [73]\u001b[1;36m\u001b[0m\n\u001b[1;33m    (\\d{6})-(\\d{7})\u001b[0m\n\u001b[1;37m      ^\u001b[0m\n\u001b[1;31mSyntaxError\u001b[0m\u001b[1;31m:\u001b[0m unexpected character after line continuation character\n"
     ]
    }
   ],
   "source": [
    "(\\d{6})-(\\d{7})\n",
    "g<1> = d6\n",
    "g<0>은 전체 "
   ]
  },
  {
   "cell_type": "code",
   "execution_count": 231,
   "id": "265092ab-6d70-4923-948d-b6e4131f4f05",
   "metadata": {},
   "outputs": [
    {
     "name": "stdout",
     "output_type": "stream",
     "text": [
      "#\n",
      "#\n",
      "470N0k\n",
      "#\n",
      "53Xvr\n",
      "p4m0\n",
      "y63\n",
      "1\n",
      "#\n",
      "7SG4\n",
      "dP4\n",
      "#\n",
      "#\n",
      "#\n",
      "#\n",
      "#\n",
      "0fk\n",
      "31i\n",
      "#\n",
      "03c\n"
     ]
    }
   ],
   "source": [
    "for i in words:\n",
    "    a = re.sub(\"^[A-z].*[A-z]$\",\"#\",i)\n",
    "    print(a) "
   ]
  },
  {
   "cell_type": "code",
   "execution_count": 233,
   "id": "00fee216-a67c-4930-8756-4a8b4298b630",
   "metadata": {},
   "outputs": [
    {
     "data": {
      "text/plain": [
       "re.Pattern"
      ]
     },
     "execution_count": 233,
     "metadata": {},
     "output_type": "execute_result"
    }
   ],
   "source": [
    "p=re.compile(\"^[A-z].*[A-z]$\") # 패턴만 따로 씀 \n",
    "type(p)                          #속도 빠름 메모리 양 줄음 권장    "
   ]
  },
  {
   "cell_type": "code",
   "execution_count": 234,
   "id": "85a560ad-79de-4dcc-9fe4-ec962aa4adbb",
   "metadata": {},
   "outputs": [
    {
     "name": "stdout",
     "output_type": "stream",
     "text": [
      "#\n",
      "#\n",
      "470N0k\n",
      "#\n",
      "53Xvr\n",
      "p4m0\n",
      "y63\n",
      "1\n",
      "#\n",
      "7SG4\n",
      "dP4\n",
      "#\n",
      "#\n",
      "#\n",
      "#\n",
      "#\n",
      "0fk\n",
      "31i\n",
      "#\n",
      "03c\n"
     ]
    }
   ],
   "source": [
    "for i in words:\n",
    "    p=re.compile(\"^[A-z].*[A-z]$\")\n",
    "    print(p.sub(\"#\",i))"
   ]
  },
  {
   "cell_type": "code",
   "execution_count": 80,
   "id": "e4d653f9-70a0-4dd3-852f-e1827dcbed82",
   "metadata": {},
   "outputs": [
    {
     "ename": "SyntaxError",
     "evalue": "invalid syntax (1084768415.py, line 1)",
     "output_type": "error",
     "traceback": [
      "\u001b[1;36m  Input \u001b[1;32mIn [80]\u001b[1;36m\u001b[0m\n\u001b[1;33m    match 처음부터 일치해야 참음\u001b[0m\n\u001b[1;37m               ^\u001b[0m\n\u001b[1;31mSyntaxError\u001b[0m\u001b[1;31m:\u001b[0m invalid syntax\n"
     ]
    }
   ],
   "source": [
    "match 처음부터 일치해야 참음 \n",
    "search 일치하면 잡음"
   ]
  },
  {
   "cell_type": "markdown",
   "id": "939d3a7c-260b-4db3-a97d-37d7fc3a88df",
   "metadata": {},
   "source": [
    "- re의 4가지 메소드 "
   ]
  },
  {
   "cell_type": "code",
   "execution_count": 81,
   "id": "9cbfd3fb-de1b-476a-a64f-eae21907c3ca",
   "metadata": {},
   "outputs": [],
   "source": [
    "p=re.compile(\"[a-z]+\")"
   ]
  },
  {
   "cell_type": "code",
   "execution_count": 85,
   "id": "3e1f426f-2959-41d6-8b46-fb0e81d8490f",
   "metadata": {},
   "outputs": [
    {
     "data": {
      "text/plain": [
       "<re.Match object; span=(0, 6), match='python'>"
      ]
     },
     "execution_count": 85,
     "metadata": {},
     "output_type": "execute_result"
    }
   ],
   "source": [
    "p.match(\"pythonPYTHON1234\") # 스팬 길이 0번인덱스부터 5까지\n",
    "# 매치되는 건 파이썬 이다. "
   ]
  },
  {
   "cell_type": "code",
   "execution_count": 84,
   "id": "7fba3fd6-772f-41c3-b595-0dc20f7df72f",
   "metadata": {},
   "outputs": [
    {
     "data": {
      "text/plain": [
       "<re.Match object; span=(0, 6), match='python'>"
      ]
     },
     "execution_count": 84,
     "metadata": {},
     "output_type": "execute_result"
    }
   ],
   "source": [
    "re.match(\"[a-z]+\", \"python\")"
   ]
  },
  {
   "cell_type": "code",
   "execution_count": 87,
   "id": "9f688e72-771e-4cd1-9b16-8c80ee6615fc",
   "metadata": {},
   "outputs": [],
   "source": [
    "p.match(\"PYTHONpythonP1234\")\n",
    "#나오는 게 없음 처음부터 일치해야 잡음"
   ]
  },
  {
   "cell_type": "code",
   "execution_count": 91,
   "id": "ad54fe7e-5314-462b-b7eb-56b0d1c95510",
   "metadata": {},
   "outputs": [
    {
     "name": "stdout",
     "output_type": "stream",
     "text": [
      "None\n"
     ]
    }
   ],
   "source": [
    "print(p.match(\"PYTHONpythonP1234  pythonPYTHON1234\"))\n"
   ]
  },
  {
   "cell_type": "code",
   "execution_count": 90,
   "id": "97372e88-b078-4213-a625-edd32faa1b67",
   "metadata": {},
   "outputs": [
    {
     "data": {
      "text/plain": [
       "<re.Match object; span=(6, 12), match='python'>"
      ]
     },
     "execution_count": 90,
     "metadata": {},
     "output_type": "execute_result"
    }
   ],
   "source": [
    "p.search((\"PYTHONpythonP1234\"))"
   ]
  },
  {
   "cell_type": "code",
   "execution_count": 96,
   "id": "61e6a8eb-1adc-4768-ac45-a1eea009a03a",
   "metadata": {},
   "outputs": [
    {
     "data": {
      "text/plain": [
       "<re.Match object; span=(6, 12), match='python'>"
      ]
     },
     "execution_count": 96,
     "metadata": {},
     "output_type": "execute_result"
    }
   ],
   "source": [
    "p.search(\"PYTHONpythonP1234  pythonPYTHON1234\")\n",
    "#한개만 딸랑 보여줌"
   ]
  },
  {
   "cell_type": "code",
   "execution_count": 97,
   "id": "e8d40fe9-6313-4a2c-bdde-da5ccccf71cc",
   "metadata": {},
   "outputs": [
    {
     "data": {
      "text/plain": [
       "<re.Match object; span=(0, 6), match='python'>"
      ]
     },
     "execution_count": 97,
     "metadata": {},
     "output_type": "execute_result"
    }
   ],
   "source": [
    "p.search(\"pythonPYTHON1234\")"
   ]
  },
  {
   "cell_type": "code",
   "execution_count": 98,
   "id": "84972f0b-1840-4499-8597-35f0809c3411",
   "metadata": {},
   "outputs": [
    {
     "data": {
      "text/plain": [
       "['python', 'python']"
      ]
     },
     "execution_count": 98,
     "metadata": {},
     "output_type": "execute_result"
    }
   ],
   "source": [
    "p.findall(\"PYTHONpythonP1234  pythonPYTHON1234\")\n",
    "# 인덱스 번호 안주고 그냥 모습 그대로 줌 \n",
    "#리스트로 돌려준다."
   ]
  },
  {
   "cell_type": "code",
   "execution_count": 100,
   "id": "33f92631-80ef-46a8-a0bb-3abea3ab9048",
   "metadata": {},
   "outputs": [
    {
     "data": {
      "text/plain": [
       "<callable_iterator at 0x219188ac4f0>"
      ]
     },
     "execution_count": 100,
     "metadata": {},
     "output_type": "execute_result"
    }
   ],
   "source": [
    "p.finditer(\"PYTHONpythonP1234  pythonPYTHON1234\")\n",
    "# 하나씩 집어내는 iterator"
   ]
  },
  {
   "cell_type": "code",
   "execution_count": 102,
   "id": "51fbf041-b39f-41f6-b9e3-17b473b023ee",
   "metadata": {},
   "outputs": [
    {
     "name": "stdout",
     "output_type": "stream",
     "text": [
      "<re.Match object; span=(6, 12), match='python'>\n",
      "<re.Match object; span=(19, 25), match='python'>\n"
     ]
    }
   ],
   "source": [
    "for i in p.finditer(\"PYTHONpythonP1234  pythonPYTHON1234\"):\n",
    "    print(i)\n",
    "   #for i in 문으로 들어가서 결과 돌려줌  "
   ]
  },
  {
   "cell_type": "code",
   "execution_count": 104,
   "id": "b38a0c18-8654-43b0-9a6d-58a218a6b1df",
   "metadata": {},
   "outputs": [
    {
     "data": {
      "text/plain": [
       "'python'"
      ]
     },
     "execution_count": 104,
     "metadata": {},
     "output_type": "execute_result"
    }
   ],
   "source": [
    "p.match(\"pythonPYTHON1234 PYTHONpythonP1234\").group()\n",
    "#group은 찾아서 보여줌"
   ]
  },
  {
   "cell_type": "code",
   "execution_count": 105,
   "id": "fdbc2a9d-a047-47f6-9e33-cbe2c94d1ddb",
   "metadata": {},
   "outputs": [
    {
     "data": {
      "text/plain": [
       "0"
      ]
     },
     "execution_count": 105,
     "metadata": {},
     "output_type": "execute_result"
    }
   ],
   "source": [
    "p.match(\"pythonPYTHON1234 PYTHONpythonP1234\").start()\n",
    "#시작 인덱스"
   ]
  },
  {
   "cell_type": "code",
   "execution_count": 106,
   "id": "dac3bc36-8419-4fd1-ab68-5e77e194cd8c",
   "metadata": {},
   "outputs": [
    {
     "data": {
      "text/plain": [
       "(0, 6)"
      ]
     },
     "execution_count": 106,
     "metadata": {},
     "output_type": "execute_result"
    }
   ],
   "source": [
    "p.match(\"pythonPYTHON1234 PYTHONpythonP1234\").span()\n"
   ]
  },
  {
   "cell_type": "code",
   "execution_count": 107,
   "id": "b09c54a1-6654-407f-84aa-31619209c37c",
   "metadata": {},
   "outputs": [
    {
     "data": {
      "text/plain": [
       "6"
      ]
     },
     "execution_count": 107,
     "metadata": {},
     "output_type": "execute_result"
    }
   ],
   "source": [
    "p.match(\"pythonPYTHON1234 PYTHONpythonP1234\").end()\n"
   ]
  },
  {
   "cell_type": "code",
   "execution_count": 108,
   "id": "a92e4522-a5e6-4fd0-bc01-ff03b2714bf5",
   "metadata": {},
   "outputs": [
    {
     "data": {
      "text/plain": [
       "'python'"
      ]
     },
     "execution_count": 108,
     "metadata": {},
     "output_type": "execute_result"
    }
   ],
   "source": [
    "p.search(\"PYTHONpythonP1234\").group()\n"
   ]
  },
  {
   "cell_type": "code",
   "execution_count": 110,
   "id": "18f8356c-14fe-42fd-89fa-514c2494b62d",
   "metadata": {},
   "outputs": [
    {
     "data": {
      "text/plain": [
       "(6, 12)"
      ]
     },
     "execution_count": 110,
     "metadata": {},
     "output_type": "execute_result"
    }
   ],
   "source": [
    "p.search(\"PYTHONpythonP1234\").span()\n"
   ]
  },
  {
   "cell_type": "code",
   "execution_count": 111,
   "id": "5709807d-be9a-419d-9bad-9e78765a5d6c",
   "metadata": {},
   "outputs": [
    {
     "data": {
      "text/plain": [
       "12"
      ]
     },
     "execution_count": 111,
     "metadata": {},
     "output_type": "execute_result"
    }
   ],
   "source": [
    "p.search(\"PYTHONpythonP1234\").end()\n"
   ]
  },
  {
   "cell_type": "markdown",
   "id": "4ac17772-60ba-481c-9bc4-38dfd44e5618",
   "metadata": {},
   "source": [
    "- 전화번호 골라네기"
   ]
  },
  {
   "cell_type": "code",
   "execution_count": 125,
   "id": "5ea4087a-e074-4678-b847-444863f69117",
   "metadata": {},
   "outputs": [],
   "source": [
    "data = [\"010-1234-5678\", \"010-1234-5679\", \"010-1234-5670\", \"010-1234-670\", \"02-334-2243\"] "
   ]
  },
  {
   "cell_type": "code",
   "execution_count": 118,
   "id": "f1bc8250-3029-4da8-b96a-e45e8fdea4f6",
   "metadata": {},
   "outputs": [
    {
     "name": "stdout",
     "output_type": "stream",
     "text": [
      "<re.Match object; span=(0, 13), match='010-1234-5678'>\n",
      "<re.Match object; span=(0, 13), match='010-1234-5679'>\n",
      "<re.Match object; span=(0, 13), match='010-1234-5670'>\n",
      "None\n",
      "None\n"
     ]
    }
   ],
   "source": [
    "for i in data:\n",
    "    print(re.search(\"010-\\d{4}-\\d{4}\"   , i))\n",
    "   "
   ]
  },
  {
   "cell_type": "code",
   "execution_count": 119,
   "id": "511fb261-f3c0-4a9b-a8b4-a20ea41f9efb",
   "metadata": {},
   "outputs": [
    {
     "name": "stdout",
     "output_type": "stream",
     "text": [
      "<re.Match object; span=(0, 13), match='010-1234-5678'>\n",
      "<re.Match object; span=(0, 13), match='010-1234-5679'>\n",
      "<re.Match object; span=(0, 13), match='010-1234-5670'>\n",
      "None\n",
      "None\n"
     ]
    }
   ],
   "source": [
    "for i in data:\n",
    "    print(re.search(\"010[-]\\d{4}[-]\\d{4}\"   , i))"
   ]
  },
  {
   "cell_type": "code",
   "execution_count": 120,
   "id": "78e12356-d314-4540-8be3-7e758084c34d",
   "metadata": {},
   "outputs": [
    {
     "name": "stdout",
     "output_type": "stream",
     "text": [
      "010-1234-5678\n",
      "010-1234-5679\n",
      "010-1234-5670\n"
     ]
    },
    {
     "ename": "AttributeError",
     "evalue": "'NoneType' object has no attribute 'group'",
     "output_type": "error",
     "traceback": [
      "\u001b[1;31m---------------------------------------------------------------------------\u001b[0m",
      "\u001b[1;31mAttributeError\u001b[0m                            Traceback (most recent call last)",
      "Input \u001b[1;32mIn [120]\u001b[0m, in \u001b[0;36m<cell line: 1>\u001b[1;34m()\u001b[0m\n\u001b[0;32m      1\u001b[0m \u001b[38;5;28;01mfor\u001b[39;00m i \u001b[38;5;129;01min\u001b[39;00m data:\n\u001b[1;32m----> 2\u001b[0m     \u001b[38;5;28mprint\u001b[39m(\u001b[43mre\u001b[49m\u001b[38;5;241;43m.\u001b[39;49m\u001b[43msearch\u001b[49m\u001b[43m(\u001b[49m\u001b[38;5;124;43m\"\u001b[39;49m\u001b[38;5;124;43m010-\u001b[39;49m\u001b[38;5;124;43m\\\u001b[39;49m\u001b[38;5;124;43md\u001b[39;49m\u001b[38;5;132;43;01m{4}\u001b[39;49;00m\u001b[38;5;124;43m-\u001b[39;49m\u001b[38;5;124;43m\\\u001b[39;49m\u001b[38;5;124;43md\u001b[39;49m\u001b[38;5;132;43;01m{4}\u001b[39;49;00m\u001b[38;5;124;43m\"\u001b[39;49m\u001b[43m   \u001b[49m\u001b[43m,\u001b[49m\u001b[43m \u001b[49m\u001b[43mi\u001b[49m\u001b[43m)\u001b[49m\u001b[38;5;241;43m.\u001b[39;49m\u001b[43mgroup\u001b[49m())\n",
      "\u001b[1;31mAttributeError\u001b[0m: 'NoneType' object has no attribute 'group'"
     ]
    }
   ],
   "source": [
    "for i in data:\n",
    "    print(re.search(\"010-\\d{4}-\\d{4}\"   , i).group())"
   ]
  },
  {
   "cell_type": "code",
   "execution_count": 127,
   "id": "58bebc74-376e-4ed9-bb09-0c3fba1b4bb7",
   "metadata": {},
   "outputs": [],
   "source": [
    "def is_phone_number(data):\n",
    "    phone_number =[]\n",
    "    for i in data:\n",
    "        if re.search(\"010[-]\\d{4}[-]\\d{4}\"  , i):\n",
    "            phone_number.append(i)\n",
    "    return phone_number"
   ]
  },
  {
   "cell_type": "code",
   "execution_count": 128,
   "id": "20c5d35b-c02c-4517-b4ac-2bfb367ec38a",
   "metadata": {},
   "outputs": [
    {
     "data": {
      "text/plain": [
       "['010-1234-5678', '010-1234-5679', '010-1234-5670']"
      ]
     },
     "execution_count": 128,
     "metadata": {},
     "output_type": "execute_result"
    }
   ],
   "source": [
    "is_phone_number(data)"
   ]
  },
  {
   "cell_type": "code",
   "execution_count": 130,
   "id": "8cef9d55-35e1-4733-b3be-3d49115529a0",
   "metadata": {},
   "outputs": [],
   "source": [
    "# 양끝에 ''하면 문자열 처리\n",
    "data = '\"010-1234-5678\", \"010-1234-5679\", \"010-1234-5670\", \"010-1234-670\", \"02-334-2243\"' "
   ]
  },
  {
   "cell_type": "code",
   "execution_count": 139,
   "id": "dd34c5e3-b27f-44a4-abdd-e8f95d1154fc",
   "metadata": {},
   "outputs": [
    {
     "ename": "SyntaxError",
     "evalue": "unterminated string literal (detected at line 1) (549610538.py, line 1)",
     "output_type": "error",
     "traceback": [
      "\u001b[1;36m  Input \u001b[1;32mIn [139]\u001b[1;36m\u001b[0m\n\u001b[1;33m    data = '\"010-1234-5678\", \"010-1234-5679\", \"010-1234-5670\",\\\u001b[0m\n\u001b[1;37m           ^\u001b[0m\n\u001b[1;31mSyntaxError\u001b[0m\u001b[1;31m:\u001b[0m unterminated string literal (detected at line 1)\n"
     ]
    }
   ],
   "source": [
    "data = '\"010-1234-5678\", \"010-1234-5679\", \"010-1234-5670\",\\ \n",
    "\"010-1234-670\", \"02-334-2243\"' "
   ]
  },
  {
   "cell_type": "code",
   "execution_count": 132,
   "id": "7a7cd8b5-4078-4010-84c0-00c865436a75",
   "metadata": {},
   "outputs": [],
   "source": [
    "def is_phone_number(data):\n",
    "    phone_number =[]\n",
    "    for i in finditer(data):\n",
    "        re.search(\"010[-]\\d{4}[-]\\d{4}\"  , i)\n",
    "        phone_number.append(i)\n",
    "    return phone_number"
   ]
  },
  {
   "cell_type": "code",
   "execution_count": 133,
   "id": "9541dfc5-453b-4b6f-a08e-b4284fb3b9ef",
   "metadata": {},
   "outputs": [
    {
     "ename": "NameError",
     "evalue": "name 'finditer' is not defined",
     "output_type": "error",
     "traceback": [
      "\u001b[1;31m---------------------------------------------------------------------------\u001b[0m",
      "\u001b[1;31mNameError\u001b[0m                                 Traceback (most recent call last)",
      "Input \u001b[1;32mIn [133]\u001b[0m, in \u001b[0;36m<cell line: 1>\u001b[1;34m()\u001b[0m\n\u001b[1;32m----> 1\u001b[0m \u001b[43mis_phone_number\u001b[49m\u001b[43m(\u001b[49m\u001b[43mdata\u001b[49m\u001b[43m)\u001b[49m\n",
      "Input \u001b[1;32mIn [132]\u001b[0m, in \u001b[0;36mis_phone_number\u001b[1;34m(data)\u001b[0m\n\u001b[0;32m      1\u001b[0m \u001b[38;5;28;01mdef\u001b[39;00m \u001b[38;5;21mis_phone_number\u001b[39m(data):\n\u001b[0;32m      2\u001b[0m     phone_number \u001b[38;5;241m=\u001b[39m[]\n\u001b[1;32m----> 3\u001b[0m     \u001b[38;5;28;01mfor\u001b[39;00m i \u001b[38;5;129;01min\u001b[39;00m \u001b[43mfinditer\u001b[49m(data):\n\u001b[0;32m      4\u001b[0m         re\u001b[38;5;241m.\u001b[39msearch(\u001b[38;5;124m\"\u001b[39m\u001b[38;5;124m010[-]\u001b[39m\u001b[38;5;124m\\\u001b[39m\u001b[38;5;124md\u001b[39m\u001b[38;5;132;01m{4}\u001b[39;00m\u001b[38;5;124m[-]\u001b[39m\u001b[38;5;124m\\\u001b[39m\u001b[38;5;124md\u001b[39m\u001b[38;5;132;01m{4}\u001b[39;00m\u001b[38;5;124m\"\u001b[39m  , i)\n\u001b[0;32m      5\u001b[0m         phone_number\u001b[38;5;241m.\u001b[39mappend(i)\n",
      "\u001b[1;31mNameError\u001b[0m: name 'finditer' is not defined"
     ]
    }
   ],
   "source": [
    "is_phone_number(data)"
   ]
  },
  {
   "cell_type": "code",
   "execution_count": 134,
   "id": "b51aad5d-e5c8-47d5-bf30-89a253c933cf",
   "metadata": {},
   "outputs": [],
   "source": [
    "p = re.compile(\"010[-]\\d{4}[-]\\d{4}\")"
   ]
  },
  {
   "cell_type": "code",
   "execution_count": 143,
   "id": "c838676b-3cd3-48a3-b002-7cf37b712073",
   "metadata": {},
   "outputs": [
    {
     "data": {
      "text/plain": [
       "[<re.Match object; span=(1, 14), match='010-1234-5678'>,\n",
       " <re.Match object; span=(18, 31), match='010-1234-5679'>,\n",
       " <re.Match object; span=(35, 48), match='010-1234-5670'>]"
      ]
     },
     "execution_count": 143,
     "metadata": {},
     "output_type": "execute_result"
    }
   ],
   "source": [
    "def is_phone_number(data):\n",
    "    phone_number =[]\n",
    "    p = re.compile(\"010[-]\\d{4}[-]\\d{4}\")\n",
    "    for i in p.finditer(data):\n",
    "        phone_number.append(i)\n",
    "    return phone_number\n",
    "is_phone_number(data)"
   ]
  },
  {
   "cell_type": "code",
   "execution_count": 145,
   "id": "0ceca320-7d8b-4066-9a67-d89a5378bddc",
   "metadata": {},
   "outputs": [],
   "source": [
    "def is_phone_number(data):\n",
    "    phone_number = []\n",
    "    for i in re.finditer('010-\\d{4}-\\d{4}' , data):\n",
    "        print(i.group())\n",
    "        phone_number.append(i.group())\n",
    "    return phone_number    "
   ]
  },
  {
   "cell_type": "code",
   "execution_count": 146,
   "id": "01b22cfe-9413-4013-8d2d-70c5557fc30e",
   "metadata": {},
   "outputs": [
    {
     "name": "stdout",
     "output_type": "stream",
     "text": [
      "010-1234-5678\n",
      "010-1234-5679\n",
      "010-1234-5670\n"
     ]
    },
    {
     "data": {
      "text/plain": [
       "['010-1234-5678', '010-1234-5679', '010-1234-5670']"
      ]
     },
     "execution_count": 146,
     "metadata": {},
     "output_type": "execute_result"
    }
   ],
   "source": [
    "is_phone_number(data)"
   ]
  },
  {
   "cell_type": "code",
   "execution_count": 144,
   "id": "a6dd8b2f-0af9-4a5d-834b-544a9f1ec7cb",
   "metadata": {},
   "outputs": [
    {
     "data": {
      "text/plain": [
       "['010-1234-5678', '010-1234-5679', '010-1234-5670']"
      ]
     },
     "execution_count": 144,
     "metadata": {},
     "output_type": "execute_result"
    }
   ],
   "source": [
    "def is_phone_number(data):\n",
    "    phone_number = []\n",
    "    p = re.compile(\"010-\\d{4}-\\d{4}\")\n",
    "    for i in p.finditer(data):\n",
    "        phone_number.append(i.group())\n",
    "    return phone_number\n",
    "is_phone_number(data) "
   ]
  },
  {
   "cell_type": "code",
   "execution_count": 147,
   "id": "26d21ffe-3176-4fcd-be30-e0a0791d55f2",
   "metadata": {},
   "outputs": [
    {
     "data": {
      "text/plain": [
       "['010-1234-5678', '010-1234-5679', '010-1234-5670']"
      ]
     },
     "execution_count": 147,
     "metadata": {},
     "output_type": "execute_result"
    }
   ],
   "source": [
    "re.findall(\"010-\\d{4}-\\d{4}\", data)"
   ]
  },
  {
   "cell_type": "code",
   "execution_count": 149,
   "id": "8174b815-6fb0-43f7-b153-92c93042161d",
   "metadata": {},
   "outputs": [],
   "source": [
    "msg = \"안녕하세요. 제 소개부터 드리도록 하지요. 저는 의미있는 일을 하고 싶어요. 건강하세요.\""
   ]
  },
  {
   "cell_type": "code",
   "execution_count": 150,
   "id": "3dc09059-d342-42c7-82e4-d8a3ea7953ec",
   "metadata": {},
   "outputs": [],
   "source": [
    "# 하세요 하지요 싶어요 의 span 구해라"
   ]
  },
  {
   "cell_type": "code",
   "execution_count": 152,
   "id": "57461951-6430-464f-8dd3-ce031b9a8904",
   "metadata": {},
   "outputs": [
    {
     "name": "stdout",
     "output_type": "stream",
     "text": [
      "(2, 5)\n",
      "(19, 22)\n",
      "(38, 41)\n",
      "(45, 48)\n"
     ]
    }
   ],
   "source": [
    "\n",
    "for i in re.finditer('하세요|하지요|싶어요' , msg):\n",
    "    print(i.span())"
   ]
  },
  {
   "cell_type": "code",
   "execution_count": 153,
   "id": "fb9f6745-60f4-4712-9c52-29212bc09f9f",
   "metadata": {},
   "outputs": [
    {
     "name": "stdout",
     "output_type": "stream",
     "text": [
      "(2, 5)\n",
      "(19, 22)\n",
      "(38, 41)\n",
      "(45, 48)\n"
     ]
    }
   ],
   "source": [
    "for i in re.finditer(\"[하싶].요\", msg):\n",
    "    print(i.span()) \n"
   ]
  },
  {
   "cell_type": "code",
   "execution_count": 154,
   "id": "f6268a19-1eb5-4063-aa7a-80e186f85c00",
   "metadata": {},
   "outputs": [
    {
     "ename": "SyntaxError",
     "evalue": "unexpected character after line continuation character (880198737.py, line 1)",
     "output_type": "error",
     "traceback": [
      "\u001b[1;36m  Input \u001b[1;32mIn [154]\u001b[1;36m\u001b[0m\n\u001b[1;33m    \\b - 바운더리 빈칸이 아닌모든 글자들 마다 틈새 class도\u001b[0m\n\u001b[1;37m     ^\u001b[0m\n\u001b[1;31mSyntaxError\u001b[0m\u001b[1;31m:\u001b[0m unexpected character after line continuation character\n"
     ]
    }
   ],
   "source": [
    "\\b - 바운더리 빈칸이 아닌모든 글자들 마다 틈새 class도 \n",
    "c l a s s 다 바운더리 가짐 \n",
    "NO CLASS\n",
    "O 바운더리 빈칸 바운더리 C L\n",
    "\\b는 r'\\b' 바운더리이면 붙여야 백스페이스랑 구분"
   ]
  },
  {
   "cell_type": "code",
   "execution_count": 155,
   "id": "ebd5e583-c7ec-477f-a99d-73ef9d169407",
   "metadata": {},
   "outputs": [
    {
     "ename": "SyntaxError",
     "evalue": "invalid syntax. Perhaps you forgot a comma? (4250295453.py, line 1)",
     "output_type": "error",
     "traceback": [
      "\u001b[1;36m  Input \u001b[1;32mIn [155]\u001b[1;36m\u001b[0m\n\u001b[1;33m    (1) ((3) 2  ) 그룹이다. 서치로 찾을 수 있다.\u001b[0m\n\u001b[1;37m          ^\u001b[0m\n\u001b[1;31mSyntaxError\u001b[0m\u001b[1;31m:\u001b[0m invalid syntax. Perhaps you forgot a comma?\n"
     ]
    }
   ],
   "source": [
    "(1) ((3) 2  ) 그룹이다. 서치로 찾을 수 있다."
   ]
  },
  {
   "cell_type": "markdown",
   "id": "c6604202-fdf7-4e6f-ab7f-afd7d1b5a5c4",
   "metadata": {},
   "source": [
    "- group"
   ]
  },
  {
   "cell_type": "code",
   "execution_count": 156,
   "id": "a20f3679-d2d4-4d6f-ad8c-9f4bdf99a76b",
   "metadata": {},
   "outputs": [],
   "source": [
    "sentence =\"park 010-1234-1234\"\n",
    "p =re.compile(r'(\\w+)\\s((\\d+)[-]\\d+[-]\\d+)')"
   ]
  },
  {
   "cell_type": "code",
   "execution_count": 157,
   "id": "4d174c6f-b9a2-47f4-8ccd-556f35735b27",
   "metadata": {},
   "outputs": [
    {
     "data": {
      "text/plain": [
       "<re.Match object; span=(0, 18), match='park 010-1234-1234'>"
      ]
     },
     "execution_count": 157,
     "metadata": {},
     "output_type": "execute_result"
    }
   ],
   "source": [
    "p.search(sentence)"
   ]
  },
  {
   "cell_type": "code",
   "execution_count": 158,
   "id": "8cc90372-7d8c-4b49-836e-3bd258ecd443",
   "metadata": {},
   "outputs": [
    {
     "data": {
      "text/plain": [
       "'park'"
      ]
     },
     "execution_count": 158,
     "metadata": {},
     "output_type": "execute_result"
    }
   ],
   "source": [
    "p.search(sentence).group(1)"
   ]
  },
  {
   "cell_type": "code",
   "execution_count": 159,
   "id": "9a2b7603-c358-47ae-a372-ed72689c716d",
   "metadata": {},
   "outputs": [
    {
     "data": {
      "text/plain": [
       "'010-1234-1234'"
      ]
     },
     "execution_count": 159,
     "metadata": {},
     "output_type": "execute_result"
    }
   ],
   "source": [
    "p.search(sentence).group(2)"
   ]
  },
  {
   "cell_type": "code",
   "execution_count": 160,
   "id": "0c57fa4d-ba21-43a9-877a-6b8cfa8ab96c",
   "metadata": {},
   "outputs": [
    {
     "data": {
      "text/plain": [
       "'010'"
      ]
     },
     "execution_count": 160,
     "metadata": {},
     "output_type": "execute_result"
    }
   ],
   "source": [
    "p.search(sentence).group(3)"
   ]
  },
  {
   "cell_type": "code",
   "execution_count": 161,
   "id": "1c05c4c2-bf4c-4a37-b5c7-c5ab5943a6c5",
   "metadata": {},
   "outputs": [
    {
     "data": {
      "text/plain": [
       "'park 010-1234-1234'"
      ]
     },
     "execution_count": 161,
     "metadata": {},
     "output_type": "execute_result"
    }
   ],
   "source": [
    "p.search(sentence).group(0)"
   ]
  },
  {
   "cell_type": "code",
   "execution_count": 162,
   "id": "1f6a86c3-a0ac-4a1d-872b-46a975401f71",
   "metadata": {},
   "outputs": [
    {
     "name": "stdout",
     "output_type": "stream",
     "text": [
      "010-1234-1234 park\n"
     ]
    }
   ],
   "source": [
    "print(p.search(sentence).group(2), p.search(sentence).group(1))"
   ]
  },
  {
   "cell_type": "code",
   "execution_count": 163,
   "id": "ecc3d332-e5d8-4bc2-a7f6-b6667d62ad13",
   "metadata": {},
   "outputs": [
    {
     "name": "stdout",
     "output_type": "stream",
     "text": [
      "Object `P<name> 그룹에 이름 줄 수 있음` not found.\n"
     ]
    }
   ],
   "source": [
    "?P<name> 그룹에 이름 줄 수 있음 "
   ]
  },
  {
   "cell_type": "code",
   "execution_count": 185,
   "id": "076c8e87-d897-4ef9-820e-07f96fdc0cf9",
   "metadata": {},
   "outputs": [],
   "source": [
    "sentence =\"park 010-1234-1234\"\n",
    "p =re.compile(r'(?P<family>\\w+)\\s((\\d+)[-]\\d+[-]\\d+)')"
   ]
  },
  {
   "cell_type": "code",
   "execution_count": 186,
   "id": "c0760cfc-dbbf-46f1-ab9c-84e26b66b07a",
   "metadata": {},
   "outputs": [
    {
     "data": {
      "text/plain": [
       "'park'"
      ]
     },
     "execution_count": 186,
     "metadata": {},
     "output_type": "execute_result"
    }
   ],
   "source": [
    "p.search(sentence).group(\"family\")"
   ]
  },
  {
   "cell_type": "code",
   "execution_count": 170,
   "id": "76d5542b-df4c-4415-83e9-a618ba83b985",
   "metadata": {},
   "outputs": [
    {
     "data": {
      "text/plain": [
       "'park'"
      ]
     },
     "execution_count": 170,
     "metadata": {},
     "output_type": "execute_result"
    }
   ],
   "source": [
    "sentence =\"park 010-1234-1234 kim\"\n",
    "p =re.compile(r'(?P<family>\\w+)\\s((\\d+)[-]\\d+[-]\\d+)')\n",
    "p.search(sentence).group(1)"
   ]
  },
  {
   "cell_type": "code",
   "execution_count": 197,
   "id": "6566c079-e98a-419a-87e2-38e5dfa90780",
   "metadata": {},
   "outputs": [],
   "source": [
    "sentence =\"park 010-1234-1234kim\"\n",
    "p =re.compile(r'(?P<family>\\w+)\\s((?P<first>\\d+)[-]\\d+[-]\\d+)')\n"
   ]
  },
  {
   "cell_type": "code",
   "execution_count": 198,
   "id": "4a698f9c-9e01-4ce7-a81e-f1326c206bdd",
   "metadata": {},
   "outputs": [
    {
     "data": {
      "text/plain": [
       "'park'"
      ]
     },
     "execution_count": 198,
     "metadata": {},
     "output_type": "execute_result"
    }
   ],
   "source": [
    "p.search(sentence).group(\"family\")"
   ]
  },
  {
   "cell_type": "code",
   "execution_count": 193,
   "id": "9759242b-ed77-4aa1-958d-2252855266f5",
   "metadata": {},
   "outputs": [
    {
     "ename": "SyntaxError",
     "evalue": "invalid syntax (619345517.py, line 1)",
     "output_type": "error",
     "traceback": [
      "\u001b[1;36m  Input \u001b[1;32mIn [193]\u001b[1;36m\u001b[0m\n\u001b[1;33m    print(re.__doc__).\u001b[0m\n\u001b[1;37m                      ^\u001b[0m\n\u001b[1;31mSyntaxError\u001b[0m\u001b[1;31m:\u001b[0m invalid syntax\n"
     ]
    }
   ],
   "source": [
    "print(re.__doc__)."
   ]
  },
  {
   "cell_type": "code",
   "execution_count": 195,
   "id": "cd83d772-7dff-4d3a-a34d-46ae55b4d236",
   "metadata": {},
   "outputs": [],
   "source": [
    "m= p.search(sentence)"
   ]
  },
  {
   "cell_type": "code",
   "execution_count": 196,
   "id": "485c4da0-f9a3-4716-ae39-5b50a5e70ca6",
   "metadata": {},
   "outputs": [
    {
     "data": {
      "text/plain": [
       "'park'"
      ]
     },
     "execution_count": 196,
     "metadata": {},
     "output_type": "execute_result"
    }
   ],
   "source": [
    "m.group(\"family\")"
   ]
  },
  {
   "cell_type": "code",
   "execution_count": 201,
   "id": "f8954ba8-6045-4264-a978-c44f15678872",
   "metadata": {},
   "outputs": [
    {
     "name": "stdout",
     "output_type": "stream",
     "text": [
      "http:\n"
     ]
    }
   ],
   "source": [
    "p = re.compile(\".+:\")\n",
    "m= p.search(\"http://google.com\")\n",
    "print(m.group())"
   ]
  },
  {
   "cell_type": "code",
   "execution_count": 203,
   "id": "60fce716-08f1-4e40-b370-7d71662efaca",
   "metadata": {},
   "outputs": [
    {
     "name": "stdout",
     "output_type": "stream",
     "text": [
      "http\n"
     ]
    }
   ],
   "source": [
    "p = re.compile(\".+(?=:)\") # 전방탐색\n",
    "m= p.search(\"http://google.com\")\n",
    "print(m.group())"
   ]
  },
  {
   "cell_type": "code",
   "execution_count": 204,
   "id": "e2ed2995-fa9f-416c-80d4-eb5d686c9a70",
   "metadata": {},
   "outputs": [
    {
     "data": {
      "text/plain": [
       "'aaa.exe, bbb.pdf, ccc.hwp'"
      ]
     },
     "execution_count": 204,
     "metadata": {},
     "output_type": "execute_result"
    }
   ],
   "source": [
    "sentence =\"aaa.exe, bbb.pdf, ccc.hwp\"\n",
    "p = re.compile(\".*[.](?!bat$).*$\")\n",
    "p.search(sentence).group()\n"
   ]
  },
  {
   "cell_type": "code",
   "execution_count": 206,
   "id": "537385f5-94b1-4cb3-9c9e-382b968e0ef2",
   "metadata": {},
   "outputs": [
    {
     "ename": "SyntaxError",
     "evalue": "invalid syntax (619345517.py, line 1)",
     "output_type": "error",
     "traceback": [
      "\u001b[1;36m  Input \u001b[1;32mIn [206]\u001b[1;36m\u001b[0m\n\u001b[1;33m    print(re.__doc__).\u001b[0m\n\u001b[1;37m                      ^\u001b[0m\n\u001b[1;31mSyntaxError\u001b[0m\u001b[1;31m:\u001b[0m invalid syntax\n"
     ]
    }
   ],
   "source": [
    "print(re.__doc__)."
   ]
  },
  {
   "cell_type": "code",
   "execution_count": 208,
   "id": "bdc9652d-f7a1-49ba-99f8-5e01310f8238",
   "metadata": {},
   "outputs": [
    {
     "name": "stdout",
     "output_type": "stream",
     "text": [
      "//google.com\n"
     ]
    }
   ],
   "source": [
    "p = re.compile(\"(?<=:).+\")\n",
    "m= p.search(\"http://google.com\")\n",
    "print(m.group())"
   ]
  },
  {
   "cell_type": "code",
   "execution_count": 209,
   "id": "03d73ad0-d9d3-429f-a204-dad9b6ef1fbb",
   "metadata": {},
   "outputs": [
    {
     "name": "stdout",
     "output_type": "stream",
     "text": [
      "://google.com\n"
     ]
    }
   ],
   "source": [
    "p = re.compile(\"(?=:).+\")\n",
    "m= p.search(\"http://google.com\")\n",
    "print(m.group())"
   ]
  },
  {
   "cell_type": "code",
   "execution_count": 212,
   "id": "1c7ad6da-8402-46f7-9979-4d5e2d22be7e",
   "metadata": {},
   "outputs": [
    {
     "name": "stdout",
     "output_type": "stream",
     "text": [
      "llo2022\n"
     ]
    }
   ],
   "source": [
    "p = re.compile(\"(?=ll).+\")\n",
    "m= p.search(\"hello2022\")\n",
    "print(m.group())"
   ]
  },
  {
   "cell_type": "code",
   "execution_count": 253,
   "id": "9fc6c1ce-dccc-42e1-a7c9-fe3501bcbe23",
   "metadata": {},
   "outputs": [
    {
     "name": "stdout",
     "output_type": "stream",
     "text": [
      "8888 localhost\n"
     ]
    }
   ],
   "source": [
    "sentence = \"localhost:8888\"\n",
    "p = re.compile(\"(.+):(.+)\")\n",
    "\n",
    "print(p.search(sentence).group(2), p.search(sentence).group(1))"
   ]
  },
  {
   "cell_type": "code",
   "execution_count": 213,
   "id": "d955fcdf-de0b-444e-8a59-2f3d8d61a3a5",
   "metadata": {},
   "outputs": [
    {
     "name": "stdout",
     "output_type": "stream",
     "text": [
      "o2022\n"
     ]
    }
   ],
   "source": [
    "p = re.compile(\"(?<=ll).+\")\n",
    "m= p.search(\"hello2022\")\n",
    "print(m.group())"
   ]
  },
  {
   "cell_type": "code",
   "execution_count": 215,
   "id": "fda76882-fbde-4c74-92ad-2725ab764833",
   "metadata": {},
   "outputs": [
    {
     "name": "stdout",
     "output_type": "stream",
     "text": [
      "010-1234-1234park\n"
     ]
    }
   ],
   "source": [
    "p= re.compile(r\"(?P<name>\\w+)\\s+(?P<phone>(\\d+)[-]\\d+[-]\\d+)\")\n",
    "print(p.sub(\"\\g<2>\\g<1>\", \"park 010-1234-1234\"))"
   ]
  },
  {
   "cell_type": "code",
   "execution_count": 216,
   "id": "d3859094-f904-442c-aab7-af1d82dc9648",
   "metadata": {},
   "outputs": [],
   "source": [
    "data = '''\n",
    "http://www.forta.com a\n",
    "https://mail.forta.com b\n",
    "ftp://ftp.forta.com c\n",
    "''' "
   ]
  },
  {
   "cell_type": "code",
   "execution_count": 219,
   "id": "ce5bb60c-5143-455c-816c-2ff9429b0f54",
   "metadata": {},
   "outputs": [
    {
     "data": {
      "text/plain": [
       "['forta.com', 'forta.com', 'ftp.for']"
      ]
     },
     "execution_count": 219,
     "metadata": {},
     "output_type": "execute_result"
    }
   ],
   "source": [
    "p = re.compile(r\"f\\w+[.]\\w{3}\")\n",
    "p.findall(data)\n"
   ]
  },
  {
   "cell_type": "code",
   "execution_count": 222,
   "id": "cb129fb9-3639-4b55-8dae-6e5673c53714",
   "metadata": {},
   "outputs": [
    {
     "data": {
      "text/plain": [
       "['http://www.', 'https://mail.', 'ftp://ftp.']"
      ]
     },
     "execution_count": 222,
     "metadata": {},
     "output_type": "execute_result"
    }
   ],
   "source": [
    "p = re.compile(r\".+(?=f)\")# f를 제외 하고 앞쪽 출력 \n",
    "p.findall(data)\n"
   ]
  },
  {
   "cell_type": "code",
   "execution_count": 1,
   "id": "ec5f28ba-0536-42a5-97a8-e9cc0fe8b8c8",
   "metadata": {},
   "outputs": [
    {
     "ename": "NameError",
     "evalue": "name 're' is not defined",
     "output_type": "error",
     "traceback": [
      "\u001b[1;31m---------------------------------------------------------------------------\u001b[0m",
      "\u001b[1;31mNameError\u001b[0m                                 Traceback (most recent call last)",
      "Input \u001b[1;32mIn [1]\u001b[0m, in \u001b[0;36m<cell line: 1>\u001b[1;34m()\u001b[0m\n\u001b[1;32m----> 1\u001b[0m p \u001b[38;5;241m=\u001b[39m \u001b[43mre\u001b[49m\u001b[38;5;241m.\u001b[39mcompile(\u001b[38;5;124mr\u001b[39m\u001b[38;5;124m\"\u001b[39m\u001b[38;5;124m(?<=f).+\u001b[39m\u001b[38;5;124m\"\u001b[39m) \u001b[38;5;66;03m# 뒤에꺼 f제거 하고 할려면\u001b[39;00m\n\u001b[0;32m      2\u001b[0m p\u001b[38;5;241m.\u001b[39mfindall(data)\n",
      "\u001b[1;31mNameError\u001b[0m: name 're' is not defined"
     ]
    }
   ],
   "source": [
    "p = re.compile(r\"(?<=f).+\") # 뒤에꺼 f제거 하고 할려면\n",
    "p.findall(data)               #화살표 표시 해줘야함 "
   ]
  },
  {
   "cell_type": "code",
   "execution_count": 221,
   "id": "447cc9e0-6f55-4970-83db-8f8fe6676d4b",
   "metadata": {},
   "outputs": [
    {
     "data": {
      "text/plain": [
       "['http://www.fort', 'https://mail.fort', 'ftp://ftp.fort']"
      ]
     },
     "execution_count": 221,
     "metadata": {},
     "output_type": "execute_result"
    }
   ],
   "source": [
    "p = re.compile(r\".+f\\w{3}\")\n",
    "p.findall(data)"
   ]
  },
  {
   "cell_type": "code",
   "execution_count": 225,
   "id": "bc54255b-0e5e-44db-89b3-3857427c961d",
   "metadata": {},
   "outputs": [
    {
     "data": {
      "text/plain": [
       "['orta.com', 'orta.com', 'tp://ftp.forta.com']"
      ]
     },
     "execution_count": 225,
     "metadata": {},
     "output_type": "execute_result"
    }
   ],
   "source": [
    "p = re.compile(r\"(?<=f).+\") # 뒤에꺼 f제거 하고 할려면\n",
    "p.findall(data)               #화살표 표시 해줘야함 "
   ]
  },
  {
   "cell_type": "code",
   "execution_count": 229,
   "id": "6880028d-0cf3-4b21-9d9a-f25b454d696c",
   "metadata": {},
   "outputs": [
    {
     "name": "stdout",
     "output_type": "stream",
     "text": [
      "None\n",
      "<re.Match object; span=(0, 6), match='sososo'>\n",
      "<re.Match object; span=(0, 8), match='sosososo'>\n",
      "<re.Match object; span=(0, 10), match='sososososo'>\n"
     ]
    }
   ],
   "source": [
    "data = [\"soso\", \"sososo\", \"sosososo\", \"sososososo\"] \n",
    "p = re.compile(r\"(so){3,5}\") #so가 3번이구나 5번\n",
    "for i in data:\n",
    "    print(p.search(i))#그리디 욕심많음 "
   ]
  },
  {
   "cell_type": "code",
   "execution_count": null,
   "id": "3c49ce53-ad02-4070-8e23-d31f1889741b",
   "metadata": {},
   "outputs": [
    {
     "name": "stdout",
     "output_type": "stream",
     "text": [
      "None\n",
      "<re.Match object; span=(0, 6), match='sososo'>\n",
      "<re.Match object; span=(0, 6), match='sososo'>\n",
      "<re.Match object; span=(0, 6), match='sososo'>\n"
     ]
    }
   ],
   "source": [
    "data = [\"soso\", \"sososo\", \"sosososo\", \"sososososo\"] \n",
    "p = re.compile(r\"(so){3,5}?\") #욕심 없게 최소so3번잡음 \n",
    "for i in data:\n",
    "    print(p.search(i))"
   ]
  }
 ],
 "metadata": {
  "kernelspec": {
   "display_name": "Python 3 (ipykernel)",
   "language": "python",
   "name": "python3"
  },
  "language_info": {
   "codemirror_mode": {
    "name": "ipython",
    "version": 3
   },
   "file_extension": ".py",
   "mimetype": "text/x-python",
   "name": "python",
   "nbconvert_exporter": "python",
   "pygments_lexer": "ipython3",
   "version": "3.9.12"
  }
 },
 "nbformat": 4,
 "nbformat_minor": 5
}
