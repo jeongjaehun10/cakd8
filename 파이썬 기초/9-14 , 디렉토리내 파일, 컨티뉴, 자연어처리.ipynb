{
 "cells": [
  {
   "cell_type": "markdown",
   "id": "ad825ee6-e854-4d15-a5b4-0382f58ed188",
   "metadata": {},
   "source": [
    "# 정리"
   ]
  },
  {
   "cell_type": "code",
   "execution_count": null,
   "id": "47914c88-6090-44bd-a48d-7df7e35e695b",
   "metadata": {},
   "outputs": [],
   "source": [
    "time.localtime()\n",
    "a = [\"3\",\"5\",\"18\",\"11\"] # 이건 이미 문자화 됨 \n",
    "list(map(lambda a: a+'개' , [\"3\",\"5\",\"18\",\"11\"])) # 글자 개는 따옴표 \n",
    "\n",
    "li = []\n",
    "for _ in range(10):\n",
    "    a = random.randint(1, 55)\n",
    "    if a in li: \n",
    "        continue# 반복 되는 숫자가 있으면 위로 다시 올라감 \n",
    "    li.append(a)\n",
    "li \n",
    "\n",
    "li=[]\n",
    "while len(li) < 10: #리스트 길이를 10 이하 \n",
    "    a = random.randint(1,55) # 랜덤이니까 i를 안정해줘도 됨\n",
    "    if a not in li:\n",
    "        li.append(a)\n",
    "print(li)        \n",
    "\n",
    "import random\n",
    "lst = []\n",
    "while True:\n",
    "    lst.append(random.randint(1,55))\n",
    "    lst = set(lst) # 집합으로 만드는 함수 set 중복을 제외 \n",
    "    lst = list(lst) # 리스트로 바꿈 \n",
    "    if len(lst) == 10: \n",
    "        break\n",
    "sorted(lst) \n",
    "\n",
    "time.strftime('%x, %X', time.localtime())\n",
    "\n",
    "time.strftime('%m/%d/%y %H:%M:%S', time.localtime()) \n",
    "\n",
    "import os\n",
    "dirname = \"Downloads\" # 문서이름 \n",
    "filenames = os.listdir(\"Downloads\") # 다운로드 문서내 파일보기 \n",
    "for filename in filenames:\n",
    "    full_filmame = os.path.join(\"./\" ,filename)# \"./\"문자열 붙임\n",
    "    print(full_filmame)\n",
    "def search(dirname):\n",
    "    #dirname = \"Downloads\"\n",
    "    filenames = os.listdir(dirname)\n",
    "    for filename in filenames:\n",
    "        full_filname = os.path.join(dirname ,filename)# \"./\"문자열 붙임\n",
    "        print(full_filname)    \n",
    "def search(dirname):\n",
    "    filenames = os.listdir(dirname)\n",
    "    for filename in filenames:\n",
    "        full_filename = os.path.join(dirname ,filename)# \"./\"문자열 붙임\n",
    "        ext = full_filename[-3:]\n",
    "        #print(ext)\n",
    "        if ext == \".py\":\n",
    "            print(full_filename)\n",
    "text= \"Downloads\\ChromeSetup.exe\"\n",
    "text[-4:]# 점포함 뒤에서 4개             \n",
    "def search(dirname):\n",
    "    filenames = os.listdir(dirname)\n",
    "    for filename in filenames:\n",
    "        full_filename = os.path.join(dirname ,filename)# 다이렉토리이름과\n",
    "                               # 다이렉토리내 파일 붙임 \n",
    "        if os.path.isdir(full_filename): #파일 이름이 디렉토리라면 다시 서치\n",
    "            search(full_filename)\n",
    "        else:\n",
    "            ext = full_filename[-3:] \n",
    "            if ext == \".py\":\n",
    "                 print(full_filename)     \n",
    "[-] # 주민들록 바 표시 지칭 \n",
    "\\d 디지트 숫자 {6} {}는 반복 6번 반복 숫자 6개\n",
    "{7} 숫자 7개\n",
    "sub 바꿔라 \n",
    "메타문자  정규표현식 내에서만 사용 특수문자중 의미를 가짐 \n",
    ". 한개\n",
    "^ 부정 낫\n",
    "$끝\n",
    "* 전부다\n",
    "+ 한번이상 반복\n",
    "? \n",
    "{} 반복\n",
    "[] \n",
    "\\\n",
    "| OR\n",
    "() 그룹화\n",
    "\n",
    "[abc] 대괄호 안에는 OR로 연결 a가 들어가있는 패턴 찾고 싶다.\n",
    "      b가 들어가 있는 패턴 찾고싶다. \n",
    "    \n",
    "[a-c] = [abc]/ [0-5] = [012345]\n",
    "[a-zA-Z] 모든 알파벳 = [a-Z]\n",
    "[0-9] 모든 숫자 [034] = [0|3|4]\n",
    "[^0-9] 숫자가 아닌 문자만  ^는 대괄호 안에 있을 때만 NOT 바깥에다가 쓰면 NOT 아님 \n",
    "\n",
    "\n",
    "\\d - 모든숫자 [0-9]\n",
    "[\\d] \\이스케이프 알파벳 d 의미\n",
    "\\d - 이거는 모든숫자의미\n",
    "\\D [^0-9]\n",
    "\\s whitespace 공백\n",
    "\\S 공백이 아닌것 [^\\t\\n\\r\\f\\v]\n",
    "\\w 문자+숫자와 매치[a-Z0-9] \n",
    "\\W 문자 숫자 아님 \n",
    "a.b a와b 사이에 딱 한개 들어감 문자든 숫자든 특수문자든 한개만 들어감\n",
    "[.]메타문자 의미 딱한개의 의미를 잃음 그냥 점임 \n",
    "* 앞의 문자 반복 0번이상 없어도됨 \n",
    "ca*t\n",
    "+한번이상 반복 ca+t \n",
    "? 반복이지만 1번이하 반복 \n",
    "{m,n} {2,5} 2포함 5포함까지 반복 2or 3or4or5 반복\n",
    "\n",
    "re.sub(\"blue\"  ,\"AAA\"   ,sentence)#블루라는 패턴찾아서 바꿈\n",
    "re.sub(\"b.{3}\"  ,\"AAA\"   ,sentence) # baaa = AAA 점은 딱한개이니 3개 \n",
    "\n",
    "string =[\"\", \"1\", \"12\", \"123\", \"1234\", \"abc\", \"la\"]\n",
    "for i in string:\n",
    "    print(re.sub(r\"[0-9]{1}\", \"A\", i)) #r\"\" 파이썬에서 써줌\n",
    "    #숫자가 한번 반복 될때 A 로바꿈\n",
    "string =[\"\", \"1\", \"12\", \"123\", \"1234\", \"abc\", \"la\"]\n",
    "for i in string:\n",
    "    print(re.sub(r\"[0-9]+\", \"A\", i)) # 힌번이상인것만 A로 바꿈 \n",
    "    \n",
    "li =[\"\", \"1\", \"12\", \"123\", \"1234\", \"abc\", \"1a\"]\n",
    "for string in li: \n",
    "    print(re.sub(r\"[0-9]?\", \"A\", string), end =\",   \")\n",
    "    #한번 이하 1앞에 야무것도 없는것을 A로 바꿈 abc    \n",
    "li =[\"\", \"1\", \"12\", \"123\", \"1234\", \"abc\", \"1a\"]\n",
    "for string in li: \n",
    "    print(re.sub(r\"[0-9]*\", \"A\", string), end =\",   \")\n",
    "    #없어도 A로 바꿈 0번이상도 A로 바꿈  # *0-9모두 \n",
    "    \n",
    "li =[\"a12o\", \"abco\", \"aBo\", \"a123o\"]\n",
    "for string in li: \n",
    "    print(re.sub(r\"a[^0-9]{2}o\", \"#\", string), end =\",   \")\n",
    "li =[\"a12o\", \"abco\", \"aBo\", \"a123o\", \"kbs\", \"123kbs\", \"KBS\", \"KB3\", \"abcKBS123\"]\n",
    "for string in li: \n",
    "    print(re.sub(\"[a]..[o]\", \"#\", string), end =\",   \")\n",
    "    \n",
    "    \n",
    "    "
   ]
  },
  {
   "cell_type": "code",
   "execution_count": 1,
   "id": "1629ee27-afc1-4785-8d11-c7130211bb12",
   "metadata": {},
   "outputs": [
    {
     "ename": "SyntaxError",
     "evalue": "invalid syntax (2334237759.py, line 1)",
     "output_type": "error",
     "traceback": [
      "\u001b[1;36m  Input \u001b[1;32mIn [1]\u001b[1;36m\u001b[0m\n\u001b[1;33m    객체의 형태를 유지하면서 파일에 저장하고 불러올 수 있게 하는 함수\u001b[0m\n\u001b[1;37m        ^\u001b[0m\n\u001b[1;31mSyntaxError\u001b[0m\u001b[1;31m:\u001b[0m invalid syntax\n"
     ]
    }
   ],
   "source": [
    "객체의 형태를 유지하면서 파일에 저장하고 불러올 수 있게 하는 함수 \n",
    "pickle "
   ]
  },
  {
   "cell_type": "code",
   "execution_count": 51,
   "id": "5ba2b680-98d1-43a2-95b6-a581c1950110",
   "metadata": {},
   "outputs": [],
   "source": [
    "import time"
   ]
  },
  {
   "cell_type": "code",
   "execution_count": 50,
   "id": "5d3058dc-fc76-4f39-8dad-d8daed338c10",
   "metadata": {},
   "outputs": [
    {
     "data": {
      "text/plain": [
       "time.struct_time(tm_year=2022, tm_mon=9, tm_mday=14, tm_hour=9, tm_min=39, tm_sec=20, tm_wday=2, tm_yday=257, tm_isdst=0)"
      ]
     },
     "execution_count": 50,
     "metadata": {},
     "output_type": "execute_result"
    }
   ],
   "source": [
    "time.localtime()"
   ]
  },
  {
   "cell_type": "code",
   "execution_count": 225,
   "id": "97fe0c6b-5f4e-4923-9784-53b1e2ed9194",
   "metadata": {},
   "outputs": [
    {
     "data": {
      "text/plain": [
       "'09/14/22'"
      ]
     },
     "execution_count": 225,
     "metadata": {},
     "output_type": "execute_result"
    }
   ],
   "source": [
    "time.strftime('%x', time.localtime())"
   ]
  },
  {
   "cell_type": "code",
   "execution_count": 6,
   "id": "85cc74a9-212a-42b4-8c7d-6fc7947dc961",
   "metadata": {},
   "outputs": [
    {
     "data": {
      "text/plain": [
       "61943"
      ]
     },
     "execution_count": 6,
     "metadata": {},
     "output_type": "execute_result"
    }
   ],
   "source": [
    "int('0xf1f7', base =16)"
   ]
  },
  {
   "cell_type": "code",
   "execution_count": 9,
   "id": "53101942-be6b-4c22-b9ef-15d5ffe27858",
   "metadata": {},
   "outputs": [
    {
     "data": {
      "text/plain": [
       "['3개', '5개', '18개', '11개']"
      ]
     },
     "execution_count": 9,
     "metadata": {},
     "output_type": "execute_result"
    }
   ],
   "source": [
    "a = [\"3\",\"5\",\"18\",\"11\"] # 이건 이미 문자화 됨 \n",
    "list(map(lambda a: a+'개' , [\"3\",\"5\",\"18\",\"11\"])) # 글자 개는 따옴표 "
   ]
  },
  {
   "cell_type": "code",
   "execution_count": 11,
   "id": "d1ae856b-1573-4bb2-9e59-c7d0ccb24e89",
   "metadata": {},
   "outputs": [
    {
     "name": "stdout",
     "output_type": "stream",
     "text": [
      "['3', '5', '18', '11']\n"
     ]
    }
   ],
   "source": [
    "a = ['3','5','18','11']\n",
    "print(list(map(str ,a)))"
   ]
  },
  {
   "cell_type": "code",
   "execution_count": 237,
   "id": "8f80d185-ab9a-490b-acd7-1f17c4046cd7",
   "metadata": {},
   "outputs": [
    {
     "name": "stdout",
     "output_type": "stream",
     "text": [
      "1개\n"
     ]
    },
    {
     "data": {
      "text/plain": [
       "['3개', '5개', '18개', '11개']"
      ]
     },
     "execution_count": 237,
     "metadata": {},
     "output_type": "execute_result"
    }
   ],
   "source": [
    "a = ['3','5','18','11'] # 이건 이미 문자화 됨 \n",
    "def str_(a):\n",
    "    return a+'개' # '1개' 는 합쳐서 문자이기에 숫자를 문자처리함 \n",
    "print(str_('1')) \n",
    "list(map(str_, a)) "
   ]
  },
  {
   "cell_type": "code",
   "execution_count": 231,
   "id": "6e11a222-f32f-4f1e-bf67-6ccd731c028b",
   "metadata": {},
   "outputs": [
    {
     "data": {
      "text/plain": [
       "['3개', '5개', '18개', '11개']"
      ]
     },
     "execution_count": 231,
     "metadata": {},
     "output_type": "execute_result"
    }
   ],
   "source": [
    "a = ['3','5','18','11']\n",
    "def f(str):\n",
    "    return str + '개'\n",
    "list(map(f, a)) "
   ]
  },
  {
   "cell_type": "code",
   "execution_count": 227,
   "id": "e9715e5b-f60c-4c60-98d8-b1dbf89de13d",
   "metadata": {},
   "outputs": [
    {
     "ename": "TypeError",
     "evalue": "'int' object is not iterable",
     "output_type": "error",
     "traceback": [
      "\u001b[1;31m---------------------------------------------------------------------------\u001b[0m",
      "\u001b[1;31mTypeError\u001b[0m                                 Traceback (most recent call last)",
      "Input \u001b[1;32mIn [227]\u001b[0m, in \u001b[0;36m<cell line: 1>\u001b[1;34m()\u001b[0m\n\u001b[1;32m----> 1\u001b[0m \u001b[38;5;28mlist\u001b[39m(\u001b[38;5;28;43mmap\u001b[39;49m\u001b[43m(\u001b[49m\u001b[43mstr_\u001b[49m\u001b[43m,\u001b[49m\u001b[43m \u001b[49m\u001b[43ma\u001b[49m\u001b[43m)\u001b[49m)\n",
      "\u001b[1;31mTypeError\u001b[0m: 'int' object is not iterable"
     ]
    }
   ],
   "source": [
    "list(map(str_, a))"
   ]
  },
  {
   "cell_type": "code",
   "execution_count": 16,
   "id": "55ba4cad-ed22-4cb6-ba4a-5bc19fb22c0c",
   "metadata": {},
   "outputs": [
    {
     "name": "stdout",
     "output_type": "stream",
     "text": [
      "[51, 13, 42, 40, 12, 29, 53]\n"
     ]
    }
   ],
   "source": [
    "import random\n",
    "li= []\n",
    "for i in range(10):\n",
    "    a = random.randint(1,55)\n",
    "    if a in li:\n",
    "        continue\n",
    "    else:\n",
    "        li.append(a)\n",
    "print(li)        "
   ]
  },
  {
   "cell_type": "code",
   "execution_count": 17,
   "id": "f0211466-fcb3-480e-a487-5fef160e558f",
   "metadata": {},
   "outputs": [
    {
     "data": {
      "text/plain": [
       "[9, 50, 44, 33, 15, 32, 54, 4, 26]"
      ]
     },
     "execution_count": 17,
     "metadata": {},
     "output_type": "execute_result"
    }
   ],
   "source": [
    "li = []\n",
    "for _ in range(10):\n",
    "    a = random.randint(1, 55)\n",
    "    if a in li: \n",
    "        continue# 반복 되는 숫자가 있으면 위로 다시 올라감 \n",
    "    li.append(a)\n",
    "li "
   ]
  },
  {
   "cell_type": "code",
   "execution_count": null,
   "id": "91ea5efe-a0fd-40c0-8ab0-2b6ca3d0aed1",
   "metadata": {},
   "outputs": [],
   "source": [
    "import random\n",
    "li = []\n",
    "while len(li) < 10:\n",
    "    i = random.randint(1,55)\n",
    "    if i in li: continue\n",
    "    else:\n",
    "        li.append(i)\n",
    "print(li) "
   ]
  },
  {
   "cell_type": "code",
   "execution_count": 2,
   "id": "bc815145-d64f-4ce0-ba27-8dae7bb42797",
   "metadata": {},
   "outputs": [
    {
     "name": "stdout",
     "output_type": "stream",
     "text": [
      "[37, 23, 30, 34, 36, 8, 33, 28, 12, 38]\n"
     ]
    }
   ],
   "source": [
    "import random\n",
    "\n",
    "\n",
    "\n",
    "sNum = []\n",
    "i= 1\n",
    "while i < 10+1 :# 반복 10번 \n",
    "    a = random.randint(1, 55)\n",
    "    if a not in sNum :\n",
    "        sNum.append(a)\n",
    "        i += 1 # i 는 한번 반복 \n",
    "    else :\n",
    "        continue\n",
    "print(sNum) "
   ]
  },
  {
   "cell_type": "code",
   "execution_count": null,
   "id": "f66a2b99-6ac5-47c4-b639-c2417a8c8ff4",
   "metadata": {},
   "outputs": [],
   "source": [
    "li =[]\n",
    "i=0\n",
    "while i < 10:\n",
    "    a= random.randint(1, 55)\n",
    "    i +=1\n",
    "    if a in li:\n",
    "        continue\n",
    "    else:\n",
    "        li.append(a)\n",
    "print(li)        \n"
   ]
  },
  {
   "cell_type": "code",
   "execution_count": 104,
   "id": "35736054-84d6-4154-b02a-167ec1b1c47a",
   "metadata": {},
   "outputs": [
    {
     "name": "stdout",
     "output_type": "stream",
     "text": [
      "[17, 15, 16, 28, 33, 27, 48, 30, 49, 21]\n"
     ]
    }
   ],
   "source": [
    "li=[]\n",
    "while len(li) < 10: #리스트 길이를 10 이하 \n",
    "    a = random.randint(1,55) # 랜덤이니까 i를 안정해줘도 됨\n",
    "    if a not in li:\n",
    "        li.append(a)\n",
    "print(li)        "
   ]
  },
  {
   "cell_type": "code",
   "execution_count": null,
   "id": "5c78bcc3-26e1-4bfd-b919-dfbcde1ac23a",
   "metadata": {},
   "outputs": [],
   "source": [
    "i=0\n",
    "while i <10:\n",
    "    i+=1 # 0 부터 9까지 임 \n",
    "    print(i)"
   ]
  },
  {
   "cell_type": "code",
   "execution_count": null,
   "id": "bf19dd10-a5ee-4b9f-8450-b1b2445078c2",
   "metadata": {},
   "outputs": [],
   "source": [
    "import random\n",
    "lst = []\n",
    "while True:\n",
    "    lst.append(random.randint(1,55))\n",
    "    lst = set(lst) # 집합으로 만드는 함수 set 중복을 제외 \n",
    "    lst = list(lst) # 리스트로 바꿈 \n",
    "    if len(lst) == 10: \n",
    "        break\n",
    "sorted(lst) "
   ]
  },
  {
   "cell_type": "code",
   "execution_count": 45,
   "id": "b76d672b-4ec7-47fb-9fbd-93cd4d889145",
   "metadata": {},
   "outputs": [
    {
     "name": "stdout",
     "output_type": "stream",
     "text": [
      "Object `되는가` not found.\n"
     ]
    },
    {
     "ename": "NameError",
     "evalue": "name 'sys' is not defined",
     "output_type": "error",
     "traceback": [
      "\u001b[1;31m---------------------------------------------------------------------------\u001b[0m",
      "\u001b[1;31mNameError\u001b[0m                                 Traceback (most recent call last)",
      "Input \u001b[1;32mIn [45]\u001b[0m, in \u001b[0;36m<cell line: 2>\u001b[1;34m()\u001b[0m\n\u001b[0;32m      1\u001b[0m get_ipython()\u001b[38;5;241m.\u001b[39mrun_line_magic(\u001b[38;5;124m'\u001b[39m\u001b[38;5;124mpinfo\u001b[39m\u001b[38;5;124m'\u001b[39m, \u001b[38;5;124m'\u001b[39m\u001b[38;5;124m되는가\u001b[39m\u001b[38;5;124m'\u001b[39m)\n\u001b[1;32m----> 2\u001b[0m \u001b[43msys\u001b[49m\u001b[38;5;241m.\u001b[39margv()\n",
      "\u001b[1;31mNameError\u001b[0m: name 'sys' is not defined"
     ]
    }
   ],
   "source": [
    "sys모듈 중 면령행에서 인수를 전달하는 어떤 변수에 전달 되는가?\n",
    "sys.argv()\n",
    "python test.py aaa bbb"
   ]
  },
  {
   "cell_type": "code",
   "execution_count": 46,
   "id": "73c4338a-0be1-42e3-9b7c-a503a4334ff8",
   "metadata": {},
   "outputs": [
    {
     "data": {
      "text/plain": [
       "[5, 1, 3, 2, 4]"
      ]
     },
     "execution_count": 46,
     "metadata": {},
     "output_type": "execute_result"
    }
   ],
   "source": [
    "data=[1,2,3,4,5]\n",
    "random.shuffle(data)\n",
    "data"
   ]
  },
  {
   "cell_type": "code",
   "execution_count": 61,
   "id": "f22d695a-46ac-4104-b097-63cd0e9e683a",
   "metadata": {},
   "outputs": [
    {
     "data": {
      "text/plain": [
       "'09/14/22, 09:40:28'"
      ]
     },
     "execution_count": 61,
     "metadata": {},
     "output_type": "execute_result"
    }
   ],
   "source": [
    "time.strftime('%x, %X', time.localtime())"
   ]
  },
  {
   "cell_type": "code",
   "execution_count": 59,
   "id": "b623a2ad-8924-49ce-a8c3-52576742e6ff",
   "metadata": {},
   "outputs": [
    {
     "data": {
      "text/plain": [
       "'09/14/22, 09:40:09'"
      ]
     },
     "execution_count": 59,
     "metadata": {},
     "output_type": "execute_result"
    }
   ],
   "source": [
    "time.strftime('%x, %X', time.localtime()) \n"
   ]
  },
  {
   "cell_type": "code",
   "execution_count": 62,
   "id": "09e57339-a27d-451b-a616-285eb45ee867",
   "metadata": {},
   "outputs": [
    {
     "data": {
      "text/plain": [
       "'09/14/22 09:41:01'"
      ]
     },
     "execution_count": 62,
     "metadata": {},
     "output_type": "execute_result"
    }
   ],
   "source": [
    "time.strftime('%m/%d/%y %H:%M:%S', time.localtime()) "
   ]
  },
  {
   "cell_type": "code",
   "execution_count": 62,
   "id": "f63ab956-0384-42f9-a220-b93c57d4fb00",
   "metadata": {},
   "outputs": [
    {
     "data": {
      "text/plain": [
       "'09/14/22 09:41:01'"
      ]
     },
     "execution_count": 62,
     "metadata": {},
     "output_type": "execute_result"
    }
   ],
   "source": [
    "time.strftime('%m/%d/%y %H:%M:%S', time.localtime()) "
   ]
  },
  {
   "cell_type": "code",
   "execution_count": 101,
   "id": "fdfe4def-5f99-4f8b-af46-75a758399607",
   "metadata": {},
   "outputs": [
    {
     "name": "stdout",
     "output_type": "stream",
     "text": [
      "[['Lee', 19, 'student'], ['Park', 22, 'teacher'], ['Jeon', 16, 'student'], ['Choi', 31, 'artist']]\n"
     ]
    }
   ],
   "source": [
    "name = ['Lee', 'Park', 'Jeon', 'Choi']\n",
    "\n",
    "age = [19, 22, 16, 31]\n",
    "\n",
    "job = ['student', 'teacher', 'student', 'artist'] \n",
    "\n",
    "li =[]\n",
    "for i, j, k in zip(name, age, job):\n",
    "    li.append([i, j, k])\n",
    "print(li)    "
   ]
  },
  {
   "cell_type": "code",
   "execution_count": 102,
   "id": "43e0c8b4-f3ce-4d35-95d7-7c8481b61974",
   "metadata": {},
   "outputs": [],
   "source": [
    "info = list(zip(name, age, job)) \n"
   ]
  },
  {
   "cell_type": "code",
   "execution_count": 103,
   "id": "8659e0f2-046e-4b80-889f-57a40822c2a5",
   "metadata": {},
   "outputs": [
    {
     "data": {
      "text/plain": [
       "[('Lee', 19, 'student'),\n",
       " ('Park', 22, 'teacher'),\n",
       " ('Jeon', 16, 'student'),\n",
       " ('Choi', 31, 'artist')]"
      ]
     },
     "execution_count": 103,
     "metadata": {},
     "output_type": "execute_result"
    }
   ],
   "source": [
    "info"
   ]
  },
  {
   "cell_type": "code",
   "execution_count": 69,
   "id": "90c6adf4-d992-4760-aff0-784661809247",
   "metadata": {},
   "outputs": [],
   "source": [
    "import pandas as pd"
   ]
  },
  {
   "cell_type": "code",
   "execution_count": 71,
   "id": "d85aad7d-e4a2-4d2a-bb23-981d67a33d36",
   "metadata": {},
   "outputs": [],
   "source": [
    "df1=pd.read_csv(\"김밥천국메뉴.csv\")"
   ]
  },
  {
   "cell_type": "code",
   "execution_count": 72,
   "id": "d8a3c695-113c-4d9a-ba85-8c331389ff70",
   "metadata": {},
   "outputs": [
    {
     "data": {
      "text/html": [
       "<div>\n",
       "<style scoped>\n",
       "    .dataframe tbody tr th:only-of-type {\n",
       "        vertical-align: middle;\n",
       "    }\n",
       "\n",
       "    .dataframe tbody tr th {\n",
       "        vertical-align: top;\n",
       "    }\n",
       "\n",
       "    .dataframe thead th {\n",
       "        text-align: right;\n",
       "    }\n",
       "</style>\n",
       "<table border=\"1\" class=\"dataframe\">\n",
       "  <thead>\n",
       "    <tr style=\"text-align: right;\">\n",
       "      <th></th>\n",
       "      <th>메뉴</th>\n",
       "      <th>가격</th>\n",
       "      <th>종류</th>\n",
       "    </tr>\n",
       "  </thead>\n",
       "  <tbody>\n",
       "    <tr>\n",
       "      <th>0</th>\n",
       "      <td>야채김밥</td>\n",
       "      <td>2000</td>\n",
       "      <td>김밥</td>\n",
       "    </tr>\n",
       "    <tr>\n",
       "      <th>1</th>\n",
       "      <td>치즈김밥</td>\n",
       "      <td>2500</td>\n",
       "      <td>김밥</td>\n",
       "    </tr>\n",
       "    <tr>\n",
       "      <th>2</th>\n",
       "      <td>소고기김밥</td>\n",
       "      <td>3000</td>\n",
       "      <td>김밥</td>\n",
       "    </tr>\n",
       "    <tr>\n",
       "      <th>3</th>\n",
       "      <td>된장찌개</td>\n",
       "      <td>5000</td>\n",
       "      <td>찌개</td>\n",
       "    </tr>\n",
       "    <tr>\n",
       "      <th>4</th>\n",
       "      <td>순두부찌개</td>\n",
       "      <td>5500</td>\n",
       "      <td>찌개</td>\n",
       "    </tr>\n",
       "    <tr>\n",
       "      <th>5</th>\n",
       "      <td>뚝배기불고기</td>\n",
       "      <td>6000</td>\n",
       "      <td>덮밥</td>\n",
       "    </tr>\n",
       "    <tr>\n",
       "      <th>6</th>\n",
       "      <td>카레덮밥</td>\n",
       "      <td>5000</td>\n",
       "      <td>덮밥</td>\n",
       "    </tr>\n",
       "    <tr>\n",
       "      <th>7</th>\n",
       "      <td>제육덮밥</td>\n",
       "      <td>6000</td>\n",
       "      <td>덮밥</td>\n",
       "    </tr>\n",
       "    <tr>\n",
       "      <th>8</th>\n",
       "      <td>라면</td>\n",
       "      <td>3000</td>\n",
       "      <td>분식</td>\n",
       "    </tr>\n",
       "    <tr>\n",
       "      <th>9</th>\n",
       "      <td>떡국</td>\n",
       "      <td>4500</td>\n",
       "      <td>분식</td>\n",
       "    </tr>\n",
       "    <tr>\n",
       "      <th>10</th>\n",
       "      <td>돈가스</td>\n",
       "      <td>6000</td>\n",
       "      <td>분식</td>\n",
       "    </tr>\n",
       "  </tbody>\n",
       "</table>\n",
       "</div>"
      ],
      "text/plain": [
       "        메뉴    가격  종류\n",
       "0     야채김밥  2000  김밥\n",
       "1     치즈김밥  2500  김밥\n",
       "2    소고기김밥  3000  김밥\n",
       "3     된장찌개  5000  찌개\n",
       "4    순두부찌개  5500  찌개\n",
       "5   뚝배기불고기  6000  덮밥\n",
       "6     카레덮밥  5000  덮밥\n",
       "7     제육덮밥  6000  덮밥\n",
       "8       라면  3000  분식\n",
       "9       떡국  4500  분식\n",
       "10     돈가스  6000  분식"
      ]
     },
     "execution_count": 72,
     "metadata": {},
     "output_type": "execute_result"
    }
   ],
   "source": [
    "df1"
   ]
  },
  {
   "cell_type": "code",
   "execution_count": 114,
   "id": "02404783-d4e9-4322-b0f9-378f4cd45ebe",
   "metadata": {},
   "outputs": [
    {
     "name": "stdout",
     "output_type": "stream",
     "text": [
      "된장찌개\n",
      "순두부찌개\n",
      "뚝배기불고기\n",
      "카레덮밥\n",
      "제육덮밥\n",
      "돈가스\n",
      "김밥가격 평균은 2500.0원입니다.\n"
     ]
    }
   ],
   "source": [
    "sum=0\n",
    "count=0\n",
    "for i,j,k in zip(df1.메뉴, df1.가격, df1.종류):\n",
    "    if j >= 5000:\n",
    "        print(i)\n",
    "    \n",
    "    if k == '김밥':\n",
    "         sum += j\n",
    "         count +=1\n",
    "print(f'김밥가격 평균은 {sum/count}원입니다.')         \n",
    "           "
   ]
  },
  {
   "cell_type": "code",
   "execution_count": 118,
   "id": "a7fda388-87b3-4e70-bc52-f9cea5531bc7",
   "metadata": {},
   "outputs": [
    {
     "name": "stdout",
     "output_type": "stream",
     "text": [
      "돈가스\n",
      "돈가스\n",
      "돈가스\n",
      "돈가스\n",
      "돈가스\n",
      "돈가스\n"
     ]
    },
    {
     "data": {
      "text/plain": [
       "7500.0"
      ]
     },
     "execution_count": 118,
     "metadata": {},
     "output_type": "execute_result"
    }
   ],
   "source": [
    "sum=0\n",
    "\n",
    "for menu,price,kind in zip(df1.메뉴, df1.가격, df1.종류):\n",
    "    if price >= 5000:\n",
    "        print(i)\n",
    "    \n",
    "    if kind == '김밥':\n",
    "        sum += price\n",
    "np.mean(sum) # 이거 안먹음       "
   ]
  },
  {
   "cell_type": "code",
   "execution_count": 76,
   "id": "d0a3bb43-6374-4ae0-b0d8-6227bd6a38db",
   "metadata": {},
   "outputs": [
    {
     "ename": "NameError",
     "evalue": "name 'df' is not defined",
     "output_type": "error",
     "traceback": [
      "\u001b[1;31m---------------------------------------------------------------------------\u001b[0m",
      "\u001b[1;31mNameError\u001b[0m                                 Traceback (most recent call last)",
      "Input \u001b[1;32mIn [76]\u001b[0m, in \u001b[0;36m<cell line: 1>\u001b[1;34m()\u001b[0m\n\u001b[1;32m----> 1\u001b[0m \u001b[43mdf\u001b[49m[df[\u001b[38;5;124m'\u001b[39m\u001b[38;5;124m가격\u001b[39m\u001b[38;5;124m'\u001b[39m]\u001b[38;5;241m>\u001b[39m\u001b[38;5;241m=\u001b[39m\u001b[38;5;241m5000\u001b[39m] \n\u001b[0;32m      2\u001b[0m df[df[\u001b[38;5;124m'\u001b[39m\u001b[38;5;124m종류\u001b[39m\u001b[38;5;124m'\u001b[39m] \u001b[38;5;241m==\u001b[39m \u001b[38;5;124m'\u001b[39m\u001b[38;5;124m김밥\u001b[39m\u001b[38;5;124m'\u001b[39m]\u001b[38;5;241m.\u001b[39mmean() \n\u001b[0;32m      3\u001b[0m df[df[\u001b[38;5;124m'\u001b[39m\u001b[38;5;124m종류\u001b[39m\u001b[38;5;124m'\u001b[39m] \u001b[38;5;241m==\u001b[39m \u001b[38;5;124m'\u001b[39m\u001b[38;5;124m김밥\u001b[39m\u001b[38;5;124m'\u001b[39m][\u001b[38;5;124m'\u001b[39m\u001b[38;5;124m가격\u001b[39m\u001b[38;5;124m'\u001b[39m]\u001b[38;5;241m.\u001b[39mmean() \n",
      "\u001b[1;31mNameError\u001b[0m: name 'df' is not defined"
     ]
    }
   ],
   "source": [
    "df[df['가격']>=5000] \n",
    "df[df['종류'] == '김밥'].mean() \n",
    "df[df['종류'] == '김밥']['가격'].mean() \n",
    "df[df['가격']>=5000]['메뉴'] \n"
   ]
  },
  {
   "cell_type": "code",
   "execution_count": 79,
   "id": "d73d5f78-cd0f-40d1-a722-c853814931ba",
   "metadata": {},
   "outputs": [
    {
     "data": {
      "text/plain": [
       "0     False\n",
       "1     False\n",
       "2     False\n",
       "3     False\n",
       "4      True\n",
       "5      True\n",
       "6     False\n",
       "7      True\n",
       "8     False\n",
       "9     False\n",
       "10     True\n",
       "Name: 가격, dtype: bool"
      ]
     },
     "execution_count": 79,
     "metadata": {},
     "output_type": "execute_result"
    }
   ],
   "source": [
    "df1.가격 > 5000"
   ]
  },
  {
   "cell_type": "code",
   "execution_count": 80,
   "id": "ff51e6c5-b898-4188-8c50-0f1c1faaaecb",
   "metadata": {},
   "outputs": [
    {
     "data": {
      "text/html": [
       "<div>\n",
       "<style scoped>\n",
       "    .dataframe tbody tr th:only-of-type {\n",
       "        vertical-align: middle;\n",
       "    }\n",
       "\n",
       "    .dataframe tbody tr th {\n",
       "        vertical-align: top;\n",
       "    }\n",
       "\n",
       "    .dataframe thead th {\n",
       "        text-align: right;\n",
       "    }\n",
       "</style>\n",
       "<table border=\"1\" class=\"dataframe\">\n",
       "  <thead>\n",
       "    <tr style=\"text-align: right;\">\n",
       "      <th></th>\n",
       "      <th>메뉴</th>\n",
       "      <th>가격</th>\n",
       "      <th>종류</th>\n",
       "    </tr>\n",
       "  </thead>\n",
       "  <tbody>\n",
       "    <tr>\n",
       "      <th>4</th>\n",
       "      <td>순두부찌개</td>\n",
       "      <td>5500</td>\n",
       "      <td>찌개</td>\n",
       "    </tr>\n",
       "    <tr>\n",
       "      <th>5</th>\n",
       "      <td>뚝배기불고기</td>\n",
       "      <td>6000</td>\n",
       "      <td>덮밥</td>\n",
       "    </tr>\n",
       "    <tr>\n",
       "      <th>7</th>\n",
       "      <td>제육덮밥</td>\n",
       "      <td>6000</td>\n",
       "      <td>덮밥</td>\n",
       "    </tr>\n",
       "    <tr>\n",
       "      <th>10</th>\n",
       "      <td>돈가스</td>\n",
       "      <td>6000</td>\n",
       "      <td>분식</td>\n",
       "    </tr>\n",
       "  </tbody>\n",
       "</table>\n",
       "</div>"
      ],
      "text/plain": [
       "        메뉴    가격  종류\n",
       "4    순두부찌개  5500  찌개\n",
       "5   뚝배기불고기  6000  덮밥\n",
       "7     제육덮밥  6000  덮밥\n",
       "10     돈가스  6000  분식"
      ]
     },
     "execution_count": 80,
     "metadata": {},
     "output_type": "execute_result"
    }
   ],
   "source": [
    "df1[df1.가격 > 5000]"
   ]
  },
  {
   "cell_type": "code",
   "execution_count": 81,
   "id": "acecbe48-1b5e-4fe3-90f6-bf9ed4fa1cba",
   "metadata": {},
   "outputs": [
    {
     "data": {
      "text/plain": [
       "4      순두부찌개\n",
       "5     뚝배기불고기\n",
       "7       제육덮밥\n",
       "10       돈가스\n",
       "Name: 메뉴, dtype: object"
      ]
     },
     "execution_count": 81,
     "metadata": {},
     "output_type": "execute_result"
    }
   ],
   "source": [
    "df1[df1.가격 > 5000].메뉴"
   ]
  },
  {
   "cell_type": "code",
   "execution_count": 84,
   "id": "e5b025fa-2629-4d1f-b382-facb32c12fd4",
   "metadata": {},
   "outputs": [
    {
     "data": {
      "text/html": [
       "<div>\n",
       "<style scoped>\n",
       "    .dataframe tbody tr th:only-of-type {\n",
       "        vertical-align: middle;\n",
       "    }\n",
       "\n",
       "    .dataframe tbody tr th {\n",
       "        vertical-align: top;\n",
       "    }\n",
       "\n",
       "    .dataframe thead th {\n",
       "        text-align: right;\n",
       "    }\n",
       "</style>\n",
       "<table border=\"1\" class=\"dataframe\">\n",
       "  <thead>\n",
       "    <tr style=\"text-align: right;\">\n",
       "      <th></th>\n",
       "      <th>메뉴</th>\n",
       "      <th>가격</th>\n",
       "      <th>종류</th>\n",
       "    </tr>\n",
       "  </thead>\n",
       "  <tbody>\n",
       "    <tr>\n",
       "      <th>0</th>\n",
       "      <td>야채김밥</td>\n",
       "      <td>2000</td>\n",
       "      <td>김밥</td>\n",
       "    </tr>\n",
       "    <tr>\n",
       "      <th>1</th>\n",
       "      <td>치즈김밥</td>\n",
       "      <td>2500</td>\n",
       "      <td>김밥</td>\n",
       "    </tr>\n",
       "    <tr>\n",
       "      <th>2</th>\n",
       "      <td>소고기김밥</td>\n",
       "      <td>3000</td>\n",
       "      <td>김밥</td>\n",
       "    </tr>\n",
       "  </tbody>\n",
       "</table>\n",
       "</div>"
      ],
      "text/plain": [
       "      메뉴    가격  종류\n",
       "0   야채김밥  2000  김밥\n",
       "1   치즈김밥  2500  김밥\n",
       "2  소고기김밥  3000  김밥"
      ]
     },
     "execution_count": 84,
     "metadata": {},
     "output_type": "execute_result"
    }
   ],
   "source": [
    "df1[df1.종류 == '김밥']"
   ]
  },
  {
   "cell_type": "code",
   "execution_count": 87,
   "id": "08b3086b-80d3-4215-a4b8-ebf8276ca3c6",
   "metadata": {},
   "outputs": [
    {
     "name": "stderr",
     "output_type": "stream",
     "text": [
      "C:\\Users\\admin\\AppData\\Local\\Programs\\Python\\Python310\\lib\\site-packages\\numpy\\core\\fromnumeric.py:3430: FutureWarning: In a future version, DataFrame.mean(axis=None) will return a scalar mean over the entire DataFrame. To retain the old behavior, use 'frame.mean(axis=0)' or just 'frame.mean()'\n",
      "  return mean(axis=axis, dtype=dtype, out=out, **kwargs)\n",
      "C:\\Users\\admin\\AppData\\Local\\Programs\\Python\\Python310\\lib\\site-packages\\numpy\\core\\fromnumeric.py:3430: FutureWarning: Dropping of nuisance columns in DataFrame reductions (with 'numeric_only=None') is deprecated; in a future version this will raise TypeError.  Select only valid columns before calling the reduction.\n",
      "  return mean(axis=axis, dtype=dtype, out=out, **kwargs)\n"
     ]
    },
    {
     "data": {
      "text/plain": [
       "가격    2500.0\n",
       "dtype: float64"
      ]
     },
     "execution_count": 87,
     "metadata": {},
     "output_type": "execute_result"
    }
   ],
   "source": [
    "np.mean(df1[df1.종류 == '김밥'])"
   ]
  },
  {
   "cell_type": "code",
   "execution_count": 86,
   "id": "f76db2f8-e807-47be-9124-8c674d162a91",
   "metadata": {},
   "outputs": [],
   "source": [
    "import numpy as np"
   ]
  },
  {
   "cell_type": "code",
   "execution_count": 120,
   "id": "d706e34f-67dc-4fd3-bf17-17e3663cef64",
   "metadata": {},
   "outputs": [],
   "source": [
    "f = open('tabto4.py', 'w')\n",
    "f.close()"
   ]
  },
  {
   "cell_type": "code",
   "execution_count": 4,
   "id": "0bddbf8c-41e3-491c-94c7-ace5e59aca52",
   "metadata": {},
   "outputs": [],
   "source": [
    "import os"
   ]
  },
  {
   "cell_type": "code",
   "execution_count": 5,
   "id": "2593a187-6e24-4d0f-ad85-b90267dfb965",
   "metadata": {},
   "outputs": [
    {
     "data": {
      "text/plain": [
       "['.RData',\n",
       " '.Rhistory',\n",
       " 'a.R',\n",
       " 'ChromeSetup.exe',\n",
       " 'data-visualization (1).pdf',\n",
       " 'data-visualization.pdf',\n",
       " 'desktop.ini',\n",
       " 'FoxitReader706.1126_enu_Setup.exe',\n",
       " 'HTTOnline.exe',\n",
       " 'java (1).zip',\n",
       " 'java (2).zip',\n",
       " 'java.zip',\n",
       " 'KakaoTalk_Setup.exe',\n",
       " 'KDT8 OT영상.mp4',\n",
       " 'python-3.10.6-amd64 (1).exe',\n",
       " 'python-3.10.6-amd64.exe',\n",
       " 'R-4.2.1-win.exe',\n",
       " 'RStudio-2022.07.1-554.exe',\n",
       " 'sumatra-pdf-3-4-6 (1).exe',\n",
       " 'sumatra-pdf-3-4-6 (2).exe',\n",
       " 'sumatra-pdf-3-4-6.exe',\n",
       " 'TouchEn_nxKey_32bit.exe',\n",
       " '확인되지 않음 686852.crdownload']"
      ]
     },
     "execution_count": 5,
     "metadata": {},
     "output_type": "execute_result"
    }
   ],
   "source": [
    "os.listdir(\"./Downloads/\") # ./는 현재 작업디렉토리 "
   ]
  },
  {
   "cell_type": "code",
   "execution_count": 6,
   "id": "e1ffb446-b755-488d-a492-f16dc76e5b96",
   "metadata": {},
   "outputs": [
    {
     "data": {
      "text/plain": [
       "['.RData',\n",
       " '.Rhistory',\n",
       " 'a.R',\n",
       " 'ChromeSetup.exe',\n",
       " 'data-visualization (1).pdf',\n",
       " 'data-visualization.pdf',\n",
       " 'desktop.ini',\n",
       " 'FoxitReader706.1126_enu_Setup.exe',\n",
       " 'HTTOnline.exe',\n",
       " 'java (1).zip',\n",
       " 'java (2).zip',\n",
       " 'java.zip',\n",
       " 'KakaoTalk_Setup.exe',\n",
       " 'KDT8 OT영상.mp4',\n",
       " 'python-3.10.6-amd64 (1).exe',\n",
       " 'python-3.10.6-amd64.exe',\n",
       " 'R-4.2.1-win.exe',\n",
       " 'RStudio-2022.07.1-554.exe',\n",
       " 'sumatra-pdf-3-4-6 (1).exe',\n",
       " 'sumatra-pdf-3-4-6 (2).exe',\n",
       " 'sumatra-pdf-3-4-6.exe',\n",
       " 'TouchEn_nxKey_32bit.exe',\n",
       " '확인되지 않음 686852.crdownload']"
      ]
     },
     "execution_count": 6,
     "metadata": {},
     "output_type": "execute_result"
    }
   ],
   "source": [
    "os.listdir(\"Downloads\")"
   ]
  },
  {
   "cell_type": "code",
   "execution_count": 140,
   "id": "87cd1edc-65db-4e00-b245-73ff3ed22e80",
   "metadata": {},
   "outputs": [
    {
     "data": {
      "text/plain": [
       "['.RData',\n",
       " '.Rhistory',\n",
       " 'a.R',\n",
       " 'ChromeSetup.exe',\n",
       " 'data-visualization (1).pdf',\n",
       " 'data-visualization.pdf',\n",
       " 'desktop.ini',\n",
       " 'FoxitReader706.1126_enu_Setup.exe',\n",
       " 'HTTOnline.exe',\n",
       " 'java (1).zip',\n",
       " 'java (2).zip',\n",
       " 'java.zip',\n",
       " 'KakaoTalk_Setup.exe',\n",
       " 'KDT8 OT영상.mp4',\n",
       " 'python-3.10.6-amd64 (1).exe',\n",
       " 'python-3.10.6-amd64.exe',\n",
       " 'R-4.2.1-win.exe',\n",
       " 'RStudio-2022.07.1-554.exe',\n",
       " 'sumatra-pdf-3-4-6 (1).exe',\n",
       " 'sumatra-pdf-3-4-6 (2).exe',\n",
       " 'sumatra-pdf-3-4-6.exe',\n",
       " 'TouchEn_nxKey_32bit.exe',\n",
       " '확인되지 않음 686852.crdownload']"
      ]
     },
     "execution_count": 140,
     "metadata": {},
     "output_type": "execute_result"
    }
   ],
   "source": [
    "dirname = \"Downloads\"\n",
    "os.listdir(dirname)"
   ]
  },
  {
   "cell_type": "code",
   "execution_count": 139,
   "id": "c842a5a0-f5b7-4041-a694-56da88508bb4",
   "metadata": {},
   "outputs": [
    {
     "data": {
      "text/plain": [
       "['.RData',\n",
       " '.Rhistory',\n",
       " 'a.R',\n",
       " 'ChromeSetup.exe',\n",
       " 'data-visualization (1).pdf',\n",
       " 'data-visualization.pdf',\n",
       " 'desktop.ini',\n",
       " 'FoxitReader706.1126_enu_Setup.exe',\n",
       " 'HTTOnline.exe',\n",
       " 'java (1).zip',\n",
       " 'java (2).zip',\n",
       " 'java.zip',\n",
       " 'KakaoTalk_Setup.exe',\n",
       " 'KDT8 OT영상.mp4',\n",
       " 'python-3.10.6-amd64 (1).exe',\n",
       " 'python-3.10.6-amd64.exe',\n",
       " 'R-4.2.1-win.exe',\n",
       " 'RStudio-2022.07.1-554.exe',\n",
       " 'sumatra-pdf-3-4-6 (1).exe',\n",
       " 'sumatra-pdf-3-4-6 (2).exe',\n",
       " 'sumatra-pdf-3-4-6.exe',\n",
       " 'TouchEn_nxKey_32bit.exe',\n",
       " '확인되지 않음 686852.crdownload']"
      ]
     },
     "execution_count": 139,
     "metadata": {},
     "output_type": "execute_result"
    }
   ],
   "source": [
    "os.listdir(dirname)"
   ]
  },
  {
   "cell_type": "code",
   "execution_count": 130,
   "id": "5441355e-e5e0-4200-87cd-71e8b7527133",
   "metadata": {},
   "outputs": [],
   "source": [
    "filenames = os.listdir(dirname)"
   ]
  },
  {
   "cell_type": "code",
   "execution_count": 172,
   "id": "8407b584-8422-4368-a95a-fb27ca943cab",
   "metadata": {},
   "outputs": [
    {
     "name": "stdout",
     "output_type": "stream",
     "text": [
      "./.RData\n",
      "./.Rhistory\n",
      "./a.R\n",
      "./ChromeSetup.exe\n",
      "./data-visualization (1).pdf\n",
      "./data-visualization.pdf\n",
      "./desktop.ini\n",
      "./FoxitReader706.1126_enu_Setup.exe\n",
      "./HTTOnline.exe\n",
      "./java (1).zip\n",
      "./java (2).zip\n",
      "./java.zip\n",
      "./KakaoTalk_Setup.exe\n",
      "./KDT8 OT영상.mp4\n",
      "./python-3.10.6-amd64 (1).exe\n",
      "./python-3.10.6-amd64.exe\n",
      "./R-4.2.1-win.exe\n",
      "./RStudio-2022.07.1-554.exe\n",
      "./sumatra-pdf-3-4-6 (1).exe\n",
      "./sumatra-pdf-3-4-6 (2).exe\n",
      "./sumatra-pdf-3-4-6.exe\n",
      "./TouchEn_nxKey_32bit.exe\n",
      "./확인되지 않음 686852.crdownload\n"
     ]
    }
   ],
   "source": [
    "import os\n",
    "dirname = \"Downloads\" # 문서이름 \n",
    "filenames = os.listdir(\"Downloads\") # 다운로드 문서내 파일보기 \n",
    "for filename in filenames:\n",
    "    full_filmame = os.path.join(\"./\" ,filename)# \"./\"문자열 붙임\n",
    "    print(full_filmame)"
   ]
  },
  {
   "cell_type": "code",
   "execution_count": 173,
   "id": "7ba3914e-5287-4990-9383-9b909b56ba32",
   "metadata": {},
   "outputs": [
    {
     "name": "stdout",
     "output_type": "stream",
     "text": [
      "Downloads\\.RData\n",
      "Downloads\\.Rhistory\n",
      "Downloads\\a.R\n",
      "Downloads\\ChromeSetup.exe\n",
      "Downloads\\data-visualization (1).pdf\n",
      "Downloads\\data-visualization.pdf\n",
      "Downloads\\desktop.ini\n",
      "Downloads\\FoxitReader706.1126_enu_Setup.exe\n",
      "Downloads\\HTTOnline.exe\n",
      "Downloads\\java (1).zip\n",
      "Downloads\\java (2).zip\n",
      "Downloads\\java.zip\n",
      "Downloads\\KakaoTalk_Setup.exe\n",
      "Downloads\\KDT8 OT영상.mp4\n",
      "Downloads\\python-3.10.6-amd64 (1).exe\n",
      "Downloads\\python-3.10.6-amd64.exe\n",
      "Downloads\\R-4.2.1-win.exe\n",
      "Downloads\\RStudio-2022.07.1-554.exe\n",
      "Downloads\\sumatra-pdf-3-4-6 (1).exe\n",
      "Downloads\\sumatra-pdf-3-4-6 (2).exe\n",
      "Downloads\\sumatra-pdf-3-4-6.exe\n",
      "Downloads\\TouchEn_nxKey_32bit.exe\n",
      "Downloads\\확인되지 않음 686852.crdownload\n"
     ]
    }
   ],
   "source": [
    "dirname = \"Downloads\"\n",
    "filenames = os.listdir(\"Downloads\")\n",
    "for filename in filenames:\n",
    "    full_filmame = os.path.join(dirname ,filename)# \"./\"문자열 붙임\n",
    "    print(full_filmame)"
   ]
  },
  {
   "cell_type": "code",
   "execution_count": 9,
   "id": "54779c06-fb02-41b2-ae23-0d7fe12fe624",
   "metadata": {},
   "outputs": [],
   "source": [
    "def search(dirname):\n",
    "    #dirname = \"Downloads\"\n",
    "    filenames = os.listdir(dirname)\n",
    "    for filename in filenames:\n",
    "        full_filname = os.path.join(dirname ,filename)# \"./\"문자열 붙임\n",
    "        print(full_filname)"
   ]
  },
  {
   "cell_type": "code",
   "execution_count": 10,
   "id": "e33f2486-27b6-4929-bf09-728fa30142bc",
   "metadata": {},
   "outputs": [
    {
     "name": "stdout",
     "output_type": "stream",
     "text": [
      "Downloads\\.RData\n",
      "Downloads\\.Rhistory\n",
      "Downloads\\a.R\n",
      "Downloads\\ChromeSetup.exe\n",
      "Downloads\\data-visualization (1).pdf\n",
      "Downloads\\data-visualization.pdf\n",
      "Downloads\\desktop.ini\n",
      "Downloads\\FoxitReader706.1126_enu_Setup.exe\n",
      "Downloads\\HTTOnline.exe\n",
      "Downloads\\java (1).zip\n",
      "Downloads\\java (2).zip\n",
      "Downloads\\java.zip\n",
      "Downloads\\KakaoTalk_Setup.exe\n",
      "Downloads\\KDT8 OT영상.mp4\n",
      "Downloads\\python-3.10.6-amd64 (1).exe\n",
      "Downloads\\python-3.10.6-amd64.exe\n",
      "Downloads\\R-4.2.1-win.exe\n",
      "Downloads\\RStudio-2022.07.1-554.exe\n",
      "Downloads\\sumatra-pdf-3-4-6 (1).exe\n",
      "Downloads\\sumatra-pdf-3-4-6 (2).exe\n",
      "Downloads\\sumatra-pdf-3-4-6.exe\n",
      "Downloads\\TouchEn_nxKey_32bit.exe\n",
      "Downloads\\확인되지 않음 686852.crdownload\n"
     ]
    }
   ],
   "source": [
    "search(\"Downloads\")"
   ]
  },
  {
   "cell_type": "code",
   "execution_count": 194,
   "id": "209d8224-09aa-4aaa-ab78-45ee80ef38c2",
   "metadata": {},
   "outputs": [],
   "source": [
    "full_filmame = os.path.join(dirname ,filename)"
   ]
  },
  {
   "cell_type": "code",
   "execution_count": 197,
   "id": "3c861a13-5113-4c69-9942-1e6a68739e17",
   "metadata": {},
   "outputs": [],
   "source": [
    "def search(dirname):\n",
    "    filenames = os.listdir(dirname)\n",
    "    for filename in filenames:\n",
    "        full_filename = os.path.join(dirname ,filename)# \"./\"문자열 붙임\n",
    "        ext = full_filename[-3:]\n",
    "        #print(ext)\n",
    "        if ext == \".py\":\n",
    "            print(full_filename)"
   ]
  },
  {
   "cell_type": "code",
   "execution_count": 199,
   "id": "1207424b-93cc-4040-9019-5dce6a181ec7",
   "metadata": {},
   "outputs": [],
   "source": [
    "def search(dirname):\n",
    "    filenames = os.listdir(dirname)\n",
    "    for filename in filenames:\n",
    "        full_filename = os.path.join(dirname ,filename)# 다이렉토리이름과\n",
    "        ext = full_filename[-4:]                        # 다이렉토리내 파일 붙임 \n",
    "        #print(ext)\n",
    "        if ext == \".exe\":\n",
    "            print(full_filename)"
   ]
  },
  {
   "cell_type": "code",
   "execution_count": 200,
   "id": "da22242d-f8d5-4d35-b88a-41941e493665",
   "metadata": {},
   "outputs": [
    {
     "name": "stdout",
     "output_type": "stream",
     "text": [
      "Downloads\\ChromeSetup.exe\n",
      "Downloads\\FoxitReader706.1126_enu_Setup.exe\n",
      "Downloads\\HTTOnline.exe\n",
      "Downloads\\KakaoTalk_Setup.exe\n",
      "Downloads\\python-3.10.6-amd64 (1).exe\n",
      "Downloads\\python-3.10.6-amd64.exe\n",
      "Downloads\\R-4.2.1-win.exe\n",
      "Downloads\\RStudio-2022.07.1-554.exe\n",
      "Downloads\\sumatra-pdf-3-4-6 (1).exe\n",
      "Downloads\\sumatra-pdf-3-4-6 (2).exe\n",
      "Downloads\\sumatra-pdf-3-4-6.exe\n",
      "Downloads\\TouchEn_nxKey_32bit.exe\n"
     ]
    }
   ],
   "source": [
    "search(\"Downloads\")"
   ]
  },
  {
   "cell_type": "code",
   "execution_count": 177,
   "id": "8ed0f573-5646-4557-95e1-77a0df59a5b7",
   "metadata": {},
   "outputs": [
    {
     "data": {
      "text/plain": [
       "('Downloads\\\\ChromeSetup', '.exe')"
      ]
     },
     "execution_count": 177,
     "metadata": {},
     "output_type": "execute_result"
    }
   ],
   "source": [
    "os.path.splitext(\"Downloads\\ChromeSetup.exe\") # 점 기준으로 자름 "
   ]
  },
  {
   "cell_type": "code",
   "execution_count": 160,
   "id": "7cc7b2ba-c2e6-43d6-a20e-234890e1b5bb",
   "metadata": {},
   "outputs": [
    {
     "data": {
      "text/plain": [
       "'.exe'"
      ]
     },
     "execution_count": 160,
     "metadata": {},
     "output_type": "execute_result"
    }
   ],
   "source": [
    "text= \"Downloads\\ChromeSetup.exe\"\n",
    "text[-4:]# 점포함 뒤에서 4개 "
   ]
  },
  {
   "cell_type": "code",
   "execution_count": null,
   "id": "15ef36ad-ecc3-4d32-a996-793546ad315e",
   "metadata": {},
   "outputs": [],
   "source": [
    "ext= full_filenames\n",
    "text[-3:]# 점포함 뒤에서 4개 "
   ]
  },
  {
   "cell_type": "code",
   "execution_count": 211,
   "id": "b19ebd20-c233-4c71-9169-1a855cfefd00",
   "metadata": {},
   "outputs": [],
   "source": [
    "def search(dirname):\n",
    "    filenames = os.listdir(dirname)\n",
    "    for filename in filenames:\n",
    "        full_filename = os.path.join(dirname ,filename)# 다이렉토리이름과\n",
    "                               # 다이렉토리내 파일 붙임 \n",
    "        if os.path.isdir(full_filename): #파일 이름이 디렉토리라면 다시 서치\n",
    "            search(full_filename)\n",
    "        else:\n",
    "            ext = full_filename[-3:] \n",
    "            if ext == \".py\":\n",
    "                 print(full_filename)"
   ]
  },
  {
   "cell_type": "code",
   "execution_count": 212,
   "id": "a203d451-88dc-49c8-9202-897c1b28ba75",
   "metadata": {},
   "outputs": [
    {
     "name": "stdout",
     "output_type": "stream",
     "text": [
      "C:/Users/admin\\.ipynb_checkpoints\\memo-checkpoint.py\n",
      "C:/Users/admin\\.ipynb_checkpoints\\mod1-checkpoint.py\n",
      "C:/Users/admin\\.ipynb_checkpoints\\mod2-checkpoint.py\n",
      "C:/Users/admin\\.ipynb_checkpoints\\tabto4-checkpoint.py\n",
      "C:/Users/admin\\.ipynb_checkpoints\\test-checkpoint.py\n",
      "C:/Users/admin\\abc\\a\\.ipynb_checkpoints\\mod1-checkpoint.py\n",
      "C:/Users/admin\\abc\\a\\.ipynb_checkpoints\\mod2-checkpoint.py\n",
      "C:/Users/admin\\abc\\a\\mod1.py\n",
      "C:/Users/admin\\abc\\a\\mod2.py\n",
      "C:/Users/admin\\abc\\b\\.ipynb_checkpoints\\mod3-checkpoint.py\n",
      "C:/Users/admin\\abc\\b\\mod3.py\n",
      "C:/Users/admin\\abc\\b\\mod4.py\n",
      "C:/Users/admin\\abc\\c\\mod5.py\n",
      "C:/Users/admin\\abc\\c\\mod6.py\n"
     ]
    },
    {
     "ename": "PermissionError",
     "evalue": "[WinError 5] 액세스가 거부되었습니다: 'C:/Users/admin\\\\AppData\\\\Local\\\\Application Data'",
     "output_type": "error",
     "traceback": [
      "\u001b[1;31m---------------------------------------------------------------------------\u001b[0m",
      "\u001b[1;31mPermissionError\u001b[0m                           Traceback (most recent call last)",
      "Input \u001b[1;32mIn [212]\u001b[0m, in \u001b[0;36m<cell line: 1>\u001b[1;34m()\u001b[0m\n\u001b[1;32m----> 1\u001b[0m \u001b[43msearch\u001b[49m\u001b[43m(\u001b[49m\u001b[38;5;124;43m\"\u001b[39;49m\u001b[38;5;124;43mC:/Users/admin\u001b[39;49m\u001b[38;5;124;43m\"\u001b[39;49m\u001b[43m)\u001b[49m\n",
      "Input \u001b[1;32mIn [211]\u001b[0m, in \u001b[0;36msearch\u001b[1;34m(dirname)\u001b[0m\n\u001b[0;32m      5\u001b[0m                        \u001b[38;5;66;03m# 다이렉토리내 파일 붙임 \u001b[39;00m\n\u001b[0;32m      6\u001b[0m \u001b[38;5;28;01mif\u001b[39;00m os\u001b[38;5;241m.\u001b[39mpath\u001b[38;5;241m.\u001b[39misdir(full_filename): \u001b[38;5;66;03m#파일 이름이 디렉토리라면 다시 서치\u001b[39;00m\n\u001b[1;32m----> 7\u001b[0m     \u001b[43msearch\u001b[49m\u001b[43m(\u001b[49m\u001b[43mfull_filename\u001b[49m\u001b[43m)\u001b[49m\n\u001b[0;32m      8\u001b[0m \u001b[38;5;28;01melse\u001b[39;00m:\n\u001b[0;32m      9\u001b[0m     ext \u001b[38;5;241m=\u001b[39m full_filename[\u001b[38;5;241m-\u001b[39m\u001b[38;5;241m3\u001b[39m:] \n",
      "Input \u001b[1;32mIn [211]\u001b[0m, in \u001b[0;36msearch\u001b[1;34m(dirname)\u001b[0m\n\u001b[0;32m      5\u001b[0m                        \u001b[38;5;66;03m# 다이렉토리내 파일 붙임 \u001b[39;00m\n\u001b[0;32m      6\u001b[0m \u001b[38;5;28;01mif\u001b[39;00m os\u001b[38;5;241m.\u001b[39mpath\u001b[38;5;241m.\u001b[39misdir(full_filename): \u001b[38;5;66;03m#파일 이름이 디렉토리라면 다시 서치\u001b[39;00m\n\u001b[1;32m----> 7\u001b[0m     \u001b[43msearch\u001b[49m\u001b[43m(\u001b[49m\u001b[43mfull_filename\u001b[49m\u001b[43m)\u001b[49m\n\u001b[0;32m      8\u001b[0m \u001b[38;5;28;01melse\u001b[39;00m:\n\u001b[0;32m      9\u001b[0m     ext \u001b[38;5;241m=\u001b[39m full_filename[\u001b[38;5;241m-\u001b[39m\u001b[38;5;241m3\u001b[39m:] \n",
      "Input \u001b[1;32mIn [211]\u001b[0m, in \u001b[0;36msearch\u001b[1;34m(dirname)\u001b[0m\n\u001b[0;32m      5\u001b[0m                        \u001b[38;5;66;03m# 다이렉토리내 파일 붙임 \u001b[39;00m\n\u001b[0;32m      6\u001b[0m \u001b[38;5;28;01mif\u001b[39;00m os\u001b[38;5;241m.\u001b[39mpath\u001b[38;5;241m.\u001b[39misdir(full_filename): \u001b[38;5;66;03m#파일 이름이 디렉토리라면 다시 서치\u001b[39;00m\n\u001b[1;32m----> 7\u001b[0m     \u001b[43msearch\u001b[49m\u001b[43m(\u001b[49m\u001b[43mfull_filename\u001b[49m\u001b[43m)\u001b[49m\n\u001b[0;32m      8\u001b[0m \u001b[38;5;28;01melse\u001b[39;00m:\n\u001b[0;32m      9\u001b[0m     ext \u001b[38;5;241m=\u001b[39m full_filename[\u001b[38;5;241m-\u001b[39m\u001b[38;5;241m3\u001b[39m:] \n",
      "Input \u001b[1;32mIn [211]\u001b[0m, in \u001b[0;36msearch\u001b[1;34m(dirname)\u001b[0m\n\u001b[0;32m      1\u001b[0m \u001b[38;5;28;01mdef\u001b[39;00m \u001b[38;5;21msearch\u001b[39m(dirname):\n\u001b[1;32m----> 2\u001b[0m     filenames \u001b[38;5;241m=\u001b[39m \u001b[43mos\u001b[49m\u001b[38;5;241;43m.\u001b[39;49m\u001b[43mlistdir\u001b[49m\u001b[43m(\u001b[49m\u001b[43mdirname\u001b[49m\u001b[43m)\u001b[49m\n\u001b[0;32m      3\u001b[0m     \u001b[38;5;28;01mfor\u001b[39;00m filename \u001b[38;5;129;01min\u001b[39;00m filenames:\n\u001b[0;32m      4\u001b[0m         full_filename \u001b[38;5;241m=\u001b[39m os\u001b[38;5;241m.\u001b[39mpath\u001b[38;5;241m.\u001b[39mjoin(dirname ,filename)\u001b[38;5;66;03m# 다이렉토리이름과\u001b[39;00m\n",
      "\u001b[1;31mPermissionError\u001b[0m: [WinError 5] 액세스가 거부되었습니다: 'C:/Users/admin\\\\AppData\\\\Local\\\\Application Data'"
     ]
    }
   ],
   "source": [
    "search(\"C:/Users/admin\")"
   ]
  },
  {
   "cell_type": "code",
   "execution_count": 206,
   "id": "8af50914-d668-44ab-81d4-7bc4861e08e2",
   "metadata": {},
   "outputs": [
    {
     "data": {
      "text/plain": [
       "['.RData',\n",
       " '.Rhistory',\n",
       " 'a.R',\n",
       " 'ChromeSetup.exe',\n",
       " 'data-visualization (1).pdf',\n",
       " 'data-visualization.pdf',\n",
       " 'desktop.ini',\n",
       " 'FoxitReader706.1126_enu_Setup.exe',\n",
       " 'HTTOnline.exe',\n",
       " 'java (1).zip',\n",
       " 'java (2).zip',\n",
       " 'java.zip',\n",
       " 'KakaoTalk_Setup.exe',\n",
       " 'KDT8 OT영상.mp4',\n",
       " 'python-3.10.6-amd64 (1).exe',\n",
       " 'python-3.10.6-amd64.exe',\n",
       " 'R-4.2.1-win.exe',\n",
       " 'RStudio-2022.07.1-554.exe',\n",
       " 'sumatra-pdf-3-4-6 (1).exe',\n",
       " 'sumatra-pdf-3-4-6 (2).exe',\n",
       " 'sumatra-pdf-3-4-6.exe',\n",
       " 'TouchEn_nxKey_32bit.exe',\n",
       " '확인되지 않음 686852.crdownload']"
      ]
     },
     "execution_count": 206,
     "metadata": {},
     "output_type": "execute_result"
    }
   ],
   "source": [
    "filenames = os.listdir(\"Downloads\")\n",
    "filenames"
   ]
  },
  {
   "cell_type": "code",
   "execution_count": 203,
   "id": "6f9267b7-6ad3-45f8-a96f-8a2e4c1c519b",
   "metadata": {},
   "outputs": [
    {
     "data": {
      "text/plain": [
       "True"
      ]
     },
     "execution_count": 203,
     "metadata": {},
     "output_type": "execute_result"
    }
   ],
   "source": [
    "os.path.isdir('C:\\\\Users\\\\admin') # 디렉토리면 true"
   ]
  },
  {
   "cell_type": "code",
   "execution_count": 216,
   "id": "16ba4847-3893-4939-8287-875a4a95158d",
   "metadata": {},
   "outputs": [
    {
     "ename": "NameError",
     "evalue": "name 'full_filename' is not defined",
     "output_type": "error",
     "traceback": [
      "\u001b[1;31m---------------------------------------------------------------------------\u001b[0m",
      "\u001b[1;31mNameError\u001b[0m                                 Traceback (most recent call last)",
      "Input \u001b[1;32mIn [216]\u001b[0m, in \u001b[0;36m<cell line: 1>\u001b[1;34m()\u001b[0m\n\u001b[1;32m----> 1\u001b[0m os\u001b[38;5;241m.\u001b[39mpath\u001b[38;5;241m.\u001b[39misdir(\u001b[43mfull_filename\u001b[49m)\n",
      "\u001b[1;31mNameError\u001b[0m: name 'full_filename' is not defined"
     ]
    }
   ],
   "source": [
    "os.path.isdir(full_filename)"
   ]
  },
  {
   "cell_type": "code",
   "execution_count": 202,
   "id": "e4004ba5-cf8f-4e57-92c8-34afa3b14712",
   "metadata": {},
   "outputs": [
    {
     "data": {
      "text/plain": [
       "'C:\\\\Users\\\\admin'"
      ]
     },
     "execution_count": 202,
     "metadata": {},
     "output_type": "execute_result"
    }
   ],
   "source": [
    "os.getcwd()"
   ]
  },
  {
   "cell_type": "code",
   "execution_count": 213,
   "id": "bab200fc-27ae-422f-ad60-eb49c29279a7",
   "metadata": {},
   "outputs": [],
   "source": [
    "def search(dirname):\n",
    "    try: \n",
    "        filenames = os.listdir(dirname)\n",
    "        for filename in filenames:\n",
    "            full_filename = os.path.join(dirname ,filename)# 다이렉토리이름과\n",
    "                                   # 다이렉토리내 파일 붙임 \n",
    "            if os.path.isdir(full_filename): # 디렉토리내 파일 이름이 디렉토리라면 다시 서치\n",
    "                search(full_filename) # 이게 is이다 디렉토리 검색 모든 파일 이름과 \n",
    "            else:\n",
    "                ext = full_filename[-3:] \n",
    "                if ext == \".py\":\n",
    "                     print(full_filename)\n",
    "    except:\n",
    "        pass"
   ]
  },
  {
   "cell_type": "code",
   "execution_count": 217,
   "id": "a255f27f-27ca-4be4-ad10-602d21c16814",
   "metadata": {},
   "outputs": [
    {
     "ename": "SyntaxError",
     "evalue": "invalid syntax (3334482248.py, line 1)",
     "output_type": "error",
     "traceback": [
      "\u001b[1;36m  Input \u001b[1;32mIn [217]\u001b[1;36m\u001b[0m\n\u001b[1;33m    search(\"C:/Users/admin\").\u001b[0m\n\u001b[1;37m                             ^\u001b[0m\n\u001b[1;31mSyntaxError\u001b[0m\u001b[1;31m:\u001b[0m invalid syntax\n"
     ]
    }
   ],
   "source": [
    "search(\"C:/Users/admin\")."
   ]
  },
  {
   "cell_type": "code",
   "execution_count": 218,
   "id": "4930ef78-34d1-4334-b531-6ca3b1374f18",
   "metadata": {},
   "outputs": [
    {
     "ename": "SyntaxError",
     "evalue": "invalid syntax (2771415926.py, line 1)",
     "output_type": "error",
     "traceback": [
      "\u001b[1;36m  Input \u001b[1;32mIn [218]\u001b[1;36m\u001b[0m\n\u001b[1;33m    정규 표현식\u001b[0m\n\u001b[1;37m       ^\u001b[0m\n\u001b[1;31mSyntaxError\u001b[0m\u001b[1;31m:\u001b[0m invalid syntax\n"
     ]
    }
   ],
   "source": [
    "정규 표현식 \n",
    "Regular Expression\n",
    "\n"
   ]
  },
  {
   "cell_type": "code",
   "execution_count": 221,
   "id": "42385c47-43eb-4e83-9b2c-ec86a3fc4f6b",
   "metadata": {},
   "outputs": [
    {
     "ename": "SyntaxError",
     "evalue": "invalid syntax (1736650197.py, line 1)",
     "output_type": "error",
     "traceback": [
      "\u001b[1;36m  Input \u001b[1;32mIn [221]\u001b[1;36m\u001b[0m\n\u001b[1;33m    [-] # 주민들록 바 표시 지칭\u001b[0m\n\u001b[1;37m      ^\u001b[0m\n\u001b[1;31mSyntaxError\u001b[0m\u001b[1;31m:\u001b[0m invalid syntax\n"
     ]
    }
   ],
   "source": [
    "[-] # 주민들록 바 표시 지칭 \n",
    "\\d 디지트 숫자 {6} {}는 반복 6번 반복 숫자 6개\n",
    "{7} 숫자 7개\n",
    "sub 바꿔라 \n",
    "메타문자  정규표현식 내에서만 사용 특수문자중 의미를 가짐 \n",
    ". 한개\n",
    "^ 부정 낫\n",
    "$끝\n",
    "* 전부다\n",
    "+ 한번이상 반복\n",
    "? \n",
    "{} 반복\n",
    "[] \n",
    "\\\n",
    "| OR\n",
    "() 그룹화"
   ]
  },
  {
   "cell_type": "code",
   "execution_count": 223,
   "id": "1b988ab8-ca81-416e-91b6-3167715d3fa0",
   "metadata": {},
   "outputs": [
    {
     "ename": "SyntaxError",
     "evalue": "invalid syntax (522518694.py, line 1)",
     "output_type": "error",
     "traceback": [
      "\u001b[1;36m  Input \u001b[1;32mIn [223]\u001b[1;36m\u001b[0m\n\u001b[1;33m    [abc] 대괄호 안에는 OR로 연결 a가 들어가있는 패턴 찾고 싶다.\u001b[0m\n\u001b[1;37m          ^\u001b[0m\n\u001b[1;31mSyntaxError\u001b[0m\u001b[1;31m:\u001b[0m invalid syntax\n"
     ]
    }
   ],
   "source": [
    "[abc] 대괄호 안에는 OR로 연결 a가 들어가있는 패턴 찾고 싶다.\n",
    "      b가 들어가 있는 패턴 찾고싶다. "
   ]
  },
  {
   "cell_type": "code",
   "execution_count": 224,
   "id": "781f7e64-4f1b-4317-ad4d-b4972f42e63d",
   "metadata": {},
   "outputs": [
    {
     "ename": "SyntaxError",
     "evalue": "leading zeros in decimal integer literals are not permitted; use an 0o prefix for octal integers (3949089521.py, line 1)",
     "output_type": "error",
     "traceback": [
      "\u001b[1;36m  Input \u001b[1;32mIn [224]\u001b[1;36m\u001b[0m\n\u001b[1;33m    [a-c] = [abc]/ [0-5] = [012345]\u001b[0m\n\u001b[1;37m                            ^\u001b[0m\n\u001b[1;31mSyntaxError\u001b[0m\u001b[1;31m:\u001b[0m leading zeros in decimal integer literals are not permitted; use an 0o prefix for octal integers\n"
     ]
    }
   ],
   "source": [
    "[a-c] = [abc]/ [0-5] = [012345]\n",
    "[a-zA-Z] 모든 알파벳 = [a-Z]\n",
    "[0-9] 모든 숫자 [034] = [0|3|4]\n",
    "[^0-9] 숫자가 아닌 문자만  ^는 대괄호 안에 있을 때만 NOT 바깥에다가 쓰면 NOT 아님 "
   ]
  },
  {
   "cell_type": "code",
   "execution_count": 12,
   "id": "965e6040-cce9-4b04-8bab-fc9425dd2e63",
   "metadata": {},
   "outputs": [
    {
     "ename": "SyntaxError",
     "evalue": "unexpected character after line continuation character (1240777734.py, line 1)",
     "output_type": "error",
     "traceback": [
      "\u001b[1;36m  Input \u001b[1;32mIn [12]\u001b[1;36m\u001b[0m\n\u001b[1;33m    \\d - 모든숫자 [0-9]\u001b[0m\n\u001b[1;37m     ^\u001b[0m\n\u001b[1;31mSyntaxError\u001b[0m\u001b[1;31m:\u001b[0m unexpected character after line continuation character\n"
     ]
    }
   ],
   "source": [
    "\\d - 모든숫자 [0-9]\n",
    "[\\d] \\이스케이프 알파벳 d 의미\n",
    "\\d - 이거는 모든숫자의미\n",
    "\\D [^0-9]\n",
    "\\s whitespace 공백\n",
    "\\S 공백이 아닌것 [^\\t\\n\\r\\f\\v]\n",
    "\\w 문자+숫자와 매치[a-Z0-9] \n",
    "\\W 문자 숫자 아님 \n",
    "a.b a와b 사이에 딱 한개 들어감 문자든 숫자든 특수문자든 한개만 들어감\n",
    "[.]메타문자 의미 딱한개의 의미를 잃음 그냥 점임 \n",
    "* 앞의 문자 반복 0번이상 없어도됨 \n",
    "ca*t\n",
    "+한번이상 반복 ca+t \n",
    "? 반복이지만 1번이하 반복 \n",
    "{m,n} {2,5} 2포함 5포함까지 반복 2or 3or4or5 반복\n"
   ]
  },
  {
   "cell_type": "code",
   "execution_count": 13,
   "id": "3dd73ea0-2583-4af5-8ca1-3d1cf4303819",
   "metadata": {},
   "outputs": [],
   "source": [
    "sentence =\"blue socks and red shoes\""
   ]
  },
  {
   "cell_type": "code",
   "execution_count": 14,
   "id": "b18918d0-4eef-415f-83d5-c0e45659e787",
   "metadata": {},
   "outputs": [],
   "source": [
    "import re"
   ]
  },
  {
   "cell_type": "code",
   "execution_count": 15,
   "id": "e7247aac-87a2-4097-a310-7e80dda9866b",
   "metadata": {},
   "outputs": [
    {
     "data": {
      "text/plain": [
       "'AAA socks and red shoes'"
      ]
     },
     "execution_count": 15,
     "metadata": {},
     "output_type": "execute_result"
    }
   ],
   "source": [
    "re.sub(\"blue\"  ,\"AAA\"   ,sentence)#블루라는 패턴찾아서 바꿈"
   ]
  },
  {
   "cell_type": "code",
   "execution_count": 16,
   "id": "47c74d15-1447-45c0-9f57-400e172830f4",
   "metadata": {},
   "outputs": [],
   "source": [
    "result=re.sub(\"blue\"  ,\"AAA\"   ,sentence)#블루라는 패턴찾아서 바꿈"
   ]
  },
  {
   "cell_type": "code",
   "execution_count": 17,
   "id": "c2739904-fda1-4952-9135-d093d0f05faf",
   "metadata": {},
   "outputs": [],
   "source": [
    "result = re.sub(\"red\", \"AAA\", result)"
   ]
  },
  {
   "cell_type": "code",
   "execution_count": 18,
   "id": "7ba809ca-2fb6-4dae-9305-c26e20a42a45",
   "metadata": {},
   "outputs": [
    {
     "data": {
      "text/plain": [
       "'AAA socks and AAA shoes'"
      ]
     },
     "execution_count": 18,
     "metadata": {},
     "output_type": "execute_result"
    }
   ],
   "source": [
    "result"
   ]
  },
  {
   "cell_type": "code",
   "execution_count": 107,
   "id": "4b1327a8-761e-4803-8b74-dae86cf7c115",
   "metadata": {},
   "outputs": [
    {
     "data": {
      "text/plain": [
       "'AAA socks and AAA shoes'"
      ]
     },
     "execution_count": 107,
     "metadata": {},
     "output_type": "execute_result"
    }
   ],
   "source": [
    "re.sub(\"blue|red\"  ,\"AAA\"   ,sentence) # or 은 둘중하나만\n",
    "    #and면 블루이면서 레드여야 성립 / or은 블루거나 레드면 참"
   ]
  },
  {
   "cell_type": "code",
   "execution_count": 22,
   "id": "e312f62d-f628-4da7-aaeb-eb3bd53721d1",
   "metadata": {},
   "outputs": [
    {
     "data": {
      "text/plain": [
       "'AAA socks and red shoes'"
      ]
     },
     "execution_count": 22,
     "metadata": {},
     "output_type": "execute_result"
    }
   ],
   "source": [
    "re.sub(\"b.{3}\"  ,\"AAA\"   ,sentence) # baaa = AAA 점은 딱한개이니 3개 "
   ]
  },
  {
   "cell_type": "code",
   "execution_count": 108,
   "id": "22d0f93f-c297-4e5a-9934-127e2863cee1",
   "metadata": {},
   "outputs": [
    {
     "ename": "SyntaxError",
     "evalue": "unexpected character after line continuation character (3406522895.py, line 1)",
     "output_type": "error",
     "traceback": [
      "\u001b[1;36m  Input \u001b[1;32mIn [108]\u001b[1;36m\u001b[0m\n\u001b[1;33m    A\\w+ 대문자 시작 문자 한+번 이상 반복\u001b[0m\n\u001b[1;37m      ^\u001b[0m\n\u001b[1;31mSyntaxError\u001b[0m\u001b[1;31m:\u001b[0m unexpected character after line continuation character\n"
     ]
    }
   ],
   "source": [
    "A\\w+ 대문자 시작 문자 한+번 이상 반복"
   ]
  },
  {
   "cell_type": "code",
   "execution_count": 109,
   "id": "f85d943f-005d-4028-bd3a-c5ebdc348cfd",
   "metadata": {},
   "outputs": [
    {
     "ename": "SyntaxError",
     "evalue": "invalid syntax (3658797758.py, line 1)",
     "output_type": "error",
     "traceback": [
      "\u001b[1;36m  Input \u001b[1;32mIn [109]\u001b[1;36m\u001b[0m\n\u001b[1;33m    b[.]{3}\u001b[0m\n\u001b[1;37m      ^\u001b[0m\n\u001b[1;31mSyntaxError\u001b[0m\u001b[1;31m:\u001b[0m invalid syntax\n"
     ]
    }
   ],
   "source": [
    "b[.]{3}"
   ]
  },
  {
   "cell_type": "code",
   "execution_count": 24,
   "id": "47e61d44-4bfe-4e79-b4b1-b06e33c6b136",
   "metadata": {},
   "outputs": [
    {
     "name": "stdout",
     "output_type": "stream",
     "text": [
      "\n",
      "1\n",
      "12\n",
      "123\n",
      "1234\n",
      "abc\n",
      "la\n"
     ]
    }
   ],
   "source": [
    "string =[\"\", \"1\", \"12\", \"123\", \"1234\", \"abc\", \"la\"]\n",
    "for i in string:\n",
    "    print(i)"
   ]
  },
  {
   "cell_type": "code",
   "execution_count": 30,
   "id": "914eea71-d651-4b5e-ac6e-12a053a90dd5",
   "metadata": {},
   "outputs": [
    {
     "name": "stdout",
     "output_type": "stream",
     "text": [
      "\n",
      "A\n",
      "AA\n",
      "AAA\n",
      "AAAA\n",
      "abc\n",
      "la\n"
     ]
    }
   ],
   "source": [
    "string =[\"\", \"1\", \"12\", \"123\", \"1234\", \"abc\", \"la\"]\n",
    "for i in string:\n",
    "    print(re.sub(r\"[0-9]{1}\", \"A\", i)) #r\"\" 파이썬에서 써줌\n",
    "    #숫자가 한번 반복 될때 A 로바꿈"
   ]
  },
  {
   "cell_type": "code",
   "execution_count": 31,
   "id": "48e393ff-b7a1-4765-8e08-240e20380fa0",
   "metadata": {},
   "outputs": [
    {
     "name": "stdout",
     "output_type": "stream",
     "text": [
      "\n",
      "1\n",
      "12\n",
      "123\n",
      "A\n",
      "abc\n",
      "la\n"
     ]
    }
   ],
   "source": [
    "string =[\"\", \"1\", \"12\", \"123\", \"1234\", \"abc\", \"la\"]\n",
    "for i in string:\n",
    "    print(re.sub(r\"[0-9]{4}\", \"A\", i))# 숫자가 4개 있어야 반복"
   ]
  },
  {
   "cell_type": "code",
   "execution_count": 32,
   "id": "56e0b015-32fa-415a-86ca-3e2da4a608f8",
   "metadata": {},
   "outputs": [
    {
     "name": "stdout",
     "output_type": "stream",
     "text": [
      "\n",
      "A\n",
      "A\n",
      "A\n",
      "A\n",
      "abc\n",
      "la\n"
     ]
    }
   ],
   "source": [
    "string =[\"\", \"1\", \"12\", \"123\", \"1234\", \"abc\", \"la\"]\n",
    "for i in string:\n",
    "    print(re.sub(r\"[0-9]+\", \"A\", i)) # 힌번이상인것만 A로 바꿈 "
   ]
  },
  {
   "cell_type": "code",
   "execution_count": 34,
   "id": "63d16614-7cd5-4bc5-98e4-84b9d9e7aa1f",
   "metadata": {},
   "outputs": [
    {
     "name": "stdout",
     "output_type": "stream",
     "text": [
      "A\n",
      "AA\n",
      "AAA\n",
      "AAAA\n",
      "AAAAA\n",
      "AaAbAcA\n",
      "AlAaA\n"
     ]
    }
   ],
   "source": [
    "string =[\"\", \"1\", \"12\", \"123\", \"1234\", \"abc\", \"la\"]\n",
    "for i in string:\n",
    "    print(re.sub(r\"[0-9]?\", \"A\", i)) # 각각을 한번이하로 침 "
   ]
  },
  {
   "cell_type": "code",
   "execution_count": 36,
   "id": "ddcabfcf-a736-4364-be2f-f244f40a0576",
   "metadata": {},
   "outputs": [
    {
     "name": "stdout",
     "output_type": "stream",
     "text": [
      ",   A,   AA,   AAA,   AAAA,   abc,   la,   "
     ]
    }
   ],
   "source": [
    "li =[\"\", \"1\", \"12\", \"123\", \"1234\", \"abc\", \"la\"]\n",
    "for i in li:\n",
    "    print(re.sub(r\"[0-9]\", \"A\", i), end =\",   \")"
   ]
  },
  {
   "cell_type": "code",
   "execution_count": 40,
   "id": "144c20eb-0e55-4afb-82ff-a6ab7cf5ebe1",
   "metadata": {},
   "outputs": [
    {
     "name": "stdout",
     "output_type": "stream",
     "text": [
      ",   A,   AA,   AAA,   AAAA,   abc,   Aa,   "
     ]
    }
   ],
   "source": [
    "li =[\"\", \"1\", \"12\", \"123\", \"1234\", \"abc\", \"1a\"]\n",
    "for string in li: # 문자열 안에 한녀석이 스트링 뽑아옴 \n",
    "    print(re.sub(r\"[0-9]\", \"A\", string), end =\",   \")# str문자열 # end 뒤에  , 하고 뜀\n",
    " # 한개의 숫자 한개를 A로"
   ]
  },
  {
   "cell_type": "code",
   "execution_count": 115,
   "id": "e51b992e-70ff-4135-9691-41ef2e4b86c2",
   "metadata": {},
   "outputs": [
    {
     "name": "stdout",
     "output_type": "stream",
     "text": [
      ",   A,   A,   A,   A,   abc,   Aa,   "
     ]
    }
   ],
   "source": [
    "li =[\"\", \"1\", \"12\", \"123\", \"1234\", \"abc\", \"1a\"]\n",
    "for string in li: # 문자열 안에 한녀석이 스트링 뽑아옴 \n",
    "    print(re.sub(r\"[0-9]+\", \"A\", string), end =\",   \")# str문자열 # end 뒤에  , 하고 뜀\n",
    " # 한개의 숫자 한개를 A로"
   ]
  },
  {
   "cell_type": "code",
   "execution_count": 123,
   "id": "24edc56f-126a-4f27-b201-867097b7e4e5",
   "metadata": {},
   "outputs": [
    {
     "name": "stdout",
     "output_type": "stream",
     "text": [
      "A,   AA,   AAA,   AAAA,   AAAAA,   AaAbAcA,   AAaA,   "
     ]
    }
   ],
   "source": [
    "li =[\"\", \"1\", \"12\", \"123\", \"1234\", \"abc\", \"1a\"]\n",
    "for string in li: \n",
    "    print(re.sub(r\"[0-9]?\", \"A\", string), end =\",   \")\n",
    "    #한번 이하 1앞에 야무것도 없는것을 A로 바꿈 abc"
   ]
  },
  {
   "cell_type": "code",
   "execution_count": 125,
   "id": "e379ad4b-aa65-4ce2-a83e-82fb24ab2b7a",
   "metadata": {},
   "outputs": [
    {
     "name": "stdout",
     "output_type": "stream",
     "text": [
      ",   A,   AA,   AAA,   AAAA,   abc,   Aa,   "
     ]
    }
   ],
   "source": [
    "li =[\"\", \"1\", \"12\", \"123\", \"1234\", \"abc\", \"1a\"]\n",
    "for string in li: \n",
    "    print(re.sub(r\"[0-9]{1}\", \"A\",string), end =\",   \")\n",
    "    #한번 이하 1앞에 야무것도 없는것을 A로 바꿈 abc"
   ]
  },
  {
   "cell_type": "code",
   "execution_count": 126,
   "id": "482caaca-02e0-4ff2-bfc5-5f61e7e9e05f",
   "metadata": {},
   "outputs": [
    {
     "name": "stdout",
     "output_type": "stream",
     "text": [
      "A,   A1A,   A1A2A,   A1A2A3A,   A1A2A3A4A,   AaAbAcA,   A1AaA,   "
     ]
    }
   ],
   "source": [
    "li =[\"\", \"1\", \"12\", \"123\", \"1234\", \"abc\", \"1a\"]\n",
    "for string in li: \n",
    "    print(re.sub(r\"[0-9]{0}\", \"A\", string), end =\",   \")\n",
    "    #한번 이하 1앞에 야무것도 없는것을 A로 바꿈 abc"
   ]
  },
  {
   "cell_type": "code",
   "execution_count": 114,
   "id": "efc66d68-a3de-4288-8a04-b51e100f0fa8",
   "metadata": {},
   "outputs": [
    {
     "name": "stdout",
     "output_type": "stream",
     "text": [
      "A,   AA,   AA,   AA,   AA,   AaAbAcA,   AAaA,   "
     ]
    }
   ],
   "source": [
    "li =[\"\", \"1\", \"12\", \"123\", \"1234\", \"abc\", \"1a\"]\n",
    "for string in li: \n",
    "    print(re.sub(r\"[0-9]*\", \"A\", string), end =\",   \")\n",
    "    #없어도 A로 바꿈 0번이상도 A로 바꿈  # *0-9모두 "
   ]
  },
  {
   "cell_type": "code",
   "execution_count": 43,
   "id": "c6380e77-e2b5-433f-8933-ff0de429d875",
   "metadata": {},
   "outputs": [
    {
     "name": "stdout",
     "output_type": "stream",
     "text": [
      ",   1,   12,   123,   1234,   AAA,   1A,   "
     ]
    }
   ],
   "source": [
    "li =[\"\", \"1\", \"12\", \"123\", \"1234\", \"abc\", \"1a\"]\n",
    "for string in li: \n",
    "    print(re.sub(r\"[^0-9]\", \"A\", string), end =\",   \")"
   ]
  },
  {
   "cell_type": "code",
   "execution_count": 44,
   "id": "04d4d6d0-e1a6-4e87-99d9-85eedd4fd107",
   "metadata": {},
   "outputs": [
    {
     "name": "stdout",
     "output_type": "stream",
     "text": [
      ",   A,   A2,   A23,   A234,   abc,   Aa,   "
     ]
    }
   ],
   "source": [
    "li =[\"\", \"1\", \"12\", \"123\", \"1234\", \"abc\", \"1a\"]\n",
    "for string in li: \n",
    "    print(re.sub(r\"^[0-9]\", \"A\", string), end =\",   \")\n",
    "    #시작이 숫자면 A로 바꿈 "
   ]
  },
  {
   "cell_type": "code",
   "execution_count": 45,
   "id": "743a1f84-7a3d-4d90-a10a-f6a17a944abb",
   "metadata": {},
   "outputs": [
    {
     "name": "stdout",
     "output_type": "stream",
     "text": [
      ",   A,   1A,   12A,   123A,   abc,   1a,   "
     ]
    }
   ],
   "source": [
    "li =[\"\", \"1\", \"12\", \"123\", \"1234\", \"abc\", \"1a\"]\n",
    "for string in li: \n",
    "    print(re.sub(r\"[0-9]$\", \"A\", string), end =\",   \")\n",
    "    #끝이 숫자면 A"
   ]
  },
  {
   "cell_type": "markdown",
   "id": "fbc446bc-115b-4cdb-8996-a7f58687df11",
   "metadata": {},
   "source": [
    "```\n",
    "a 로 시작하고 o로 끝나는 사이에 2개 문자가 있는 경우\n",
    "```"
   ]
  },
  {
   "cell_type": "code",
   "execution_count": 49,
   "id": "d0bdf710-19ef-494f-9ad1-0cf68e633620",
   "metadata": {},
   "outputs": [
    {
     "name": "stdout",
     "output_type": "stream",
     "text": [
      "a12o,   #,   aBo,   a123o,   "
     ]
    }
   ],
   "source": [
    "li =[\"a12o\", \"abco\", \"aBo\", \"a123o\"]\n",
    "for string in li: \n",
    "    print(re.sub(r\"a[^0-9]{2}o\", \"#\", string), end =\",   \")"
   ]
  },
  {
   "cell_type": "code",
   "execution_count": 50,
   "id": "36bbc899-06eb-4142-9ef3-6e1ba8a56ec5",
   "metadata": {},
   "outputs": [
    {
     "name": "stdout",
     "output_type": "stream",
     "text": [
      "a12o,   abco,   aBo,   a123o,   "
     ]
    }
   ],
   "source": [
    "li =[\"a12o\", \"abco\", \"aBo\", \"a123o\"]\n",
    "for string in li: \n",
    "    print(re.sub(r\"^[a].{2}[o]$ \", \"#\", string), end =\",   \")"
   ]
  },
  {
   "cell_type": "code",
   "execution_count": 54,
   "id": "4e710ea1-956a-4b27-a56a-99276cb4ca2e",
   "metadata": {},
   "outputs": [
    {
     "name": "stdout",
     "output_type": "stream",
     "text": [
      "#,   #,   aBo,   a123o,   kbs,   123kbs,   KBS,   KB3,   abcKBS123,   "
     ]
    }
   ],
   "source": [
    "li =[\"a12o\", \"abco\", \"aBo\", \"a123o\", \"kbs\", \"123kbs\", \"KBS\", \"KB3\", \"abcKBS123\"]\n",
    "for string in li: \n",
    "    print(re.sub(\"a..o\", \"#\", string), end =\",   \")"
   ]
  },
  {
   "cell_type": "code",
   "execution_count": 53,
   "id": "84936555-c882-4731-9c54-73c48f662e3f",
   "metadata": {},
   "outputs": [
    {
     "name": "stdout",
     "output_type": "stream",
     "text": [
      "#,   #,   aBo,   a123o,   kbs,   123kbs,   KBS,   KB3,   abcKBS123,   "
     ]
    }
   ],
   "source": [
    "li =[\"a12o\", \"abco\", \"aBo\", \"a123o\", \"kbs\", \"123kbs\", \"KBS\", \"KB3\", \"abcKBS123\"]\n",
    "for string in li: \n",
    "    print(re.sub(\"[a]..[o]\", \"#\", string), end =\",   \")"
   ]
  },
  {
   "cell_type": "code",
   "execution_count": 55,
   "id": "c76e1990-c1d4-4691-b05b-6262fd3f290a",
   "metadata": {},
   "outputs": [
    {
     "name": "stdout",
     "output_type": "stream",
     "text": [
      "#,   #,   aBo,   a123o,   kbs,   123kbs,   KBS,   KB3,   abcKBS123,   "
     ]
    }
   ],
   "source": [
    "li =[\"a12o\", \"abco\", \"aBo\", \"a123o\", \"kbs\", \"123kbs\", \"KBS\", \"KB3\", \"abcKBS123\"]\n",
    "for string in li: \n",
    "    print(re.sub(\"a.{2}o\", \"#\", string), end =\",   \")"
   ]
  },
  {
   "cell_type": "code",
   "execution_count": 57,
   "id": "fc9e08d0-8387-4db4-8463-a766ea8ee6f1",
   "metadata": {},
   "outputs": [
    {
     "name": "stdout",
     "output_type": "stream",
     "text": [
      "#,   #,   aBo,   a123o,   kbs,   123kbs,   KBS,   KB3,   abcKBS123,   "
     ]
    }
   ],
   "source": [
    "li =[\"a12o\", \"abco\", \"aBo\", \"a123o\", \"kbs\", \"123kbs\", \"KBS\", \"KB3\", \"abcKBS123\"]\n",
    "for string in li: \n",
    "    print(re.sub(\"^a.{2}o$\", \"#\", string), end =\",   \")\n",
    "    #시작이 a 끝이 o인데 그사이에 뭔가가 2개 들어감 "
   ]
  },
  {
   "cell_type": "code",
   "execution_count": 58,
   "id": "64183b05-b4bc-42d2-ad13-8ebd84751c0f",
   "metadata": {},
   "outputs": [],
   "source": [
    "# 알파펫 대문자로 시작하고 숫자로 끝나나는 경우"
   ]
  },
  {
   "cell_type": "code",
   "execution_count": 66,
   "id": "f0c65522-b6ae-4d32-90c5-ccce6528730d",
   "metadata": {},
   "outputs": [
    {
     "name": "stdout",
     "output_type": "stream",
     "text": [
      "a12o,   abco,   aBo,   a123o,   kbs,   123kbs,   KBS,   #,   abcKBS123,   "
     ]
    }
   ],
   "source": [
    "li =[\"a12o\", \"abco\", \"aBo\", \"a123o\", \"kbs\", \"123kbs\", \"KBS\", \"KB3\", \"abcKBS123\"]\n",
    "for string in li: \n",
    "    print(re.sub(\"^[A-Z]\\w\\d$\", \"#\", string), end =\",   \")"
   ]
  },
  {
   "cell_type": "code",
   "execution_count": 62,
   "id": "bec34cd9-c268-4b73-a2b1-6f6059a3d2f8",
   "metadata": {},
   "outputs": [
    {
     "name": "stdout",
     "output_type": "stream",
     "text": [
      "a12o,   abco,   aBo,   a123o,   kbs,   123kbs,   KBS,   #,   abcKBS123,   "
     ]
    }
   ],
   "source": [
    "li =[\"a12o\", \"abco\", \"aBo\", \"a123o\", \"kbs\", \"123kbs\", \"KBS\", \"KB3\", \"abcKBS123\"]\n",
    "for string in li: \n",
    "    print(re.sub(\"^[A-Z]\\S[0-9]$\", \"#\", string), end =\",   \")"
   ]
  },
  {
   "cell_type": "code",
   "execution_count": 64,
   "id": "2cbcaf2d-0340-4928-9fc3-6fc9b11ef519",
   "metadata": {},
   "outputs": [
    {
     "name": "stdout",
     "output_type": "stream",
     "text": [
      "a12o,   abco,   aBo,   a123o,   kbs,   123kbs,   KBS,   #,   abcKBS123,   "
     ]
    }
   ],
   "source": [
    "li =[\"a12o\", \"abco\", \"aBo\", \"a123o\", \"kbs\", \"123kbs\", \"KBS\", \"KB3\", \"abcKBS123\"]\n",
    "for string in li: \n",
    "    print(re.sub(\"^[A-Z].*[0-9]$\", \"#\", string), end =\",   \")\n",
    "    #점이 있어도 없어도 여러개도 됨"
   ]
  },
  {
   "cell_type": "code",
   "execution_count": 67,
   "id": "d4e3390b-10a0-4417-95e4-a1a7f0f9c42f",
   "metadata": {},
   "outputs": [
    {
     "name": "stdout",
     "output_type": "stream",
     "text": [
      "a12o,   abco,   aBo,   a123o,   kbs,   123kbs,   KBS,   #,   abcKBS123,   "
     ]
    }
   ],
   "source": [
    "li =[\"a12o\", \"abco\", \"aBo\", \"a123o\", \"kbs\", \"123kbs\", \"KBS\", \"KB3\", \"abcKBS123\"]\n",
    "for string in li: \n",
    "    print(re.sub(\"^[A-Z].+[0-9]$\", \"#\", string), end =\",   \")"
   ]
  },
  {
   "cell_type": "code",
   "execution_count": 68,
   "id": "036b2689-eea7-4029-9285-1a0f92a2186e",
   "metadata": {},
   "outputs": [],
   "source": [
    "#123 을 찾아서 바꾸기"
   ]
  },
  {
   "cell_type": "code",
   "execution_count": 112,
   "id": "12adc864-ed94-48a3-8d7d-ba3d98b15a38",
   "metadata": {},
   "outputs": [
    {
     "name": "stdout",
     "output_type": "stream",
     "text": [
      "a12o,   abco,   aBo,   a#o,   kbs,   #kbs,   KBS,   KB3,   abcKBS#,   "
     ]
    }
   ],
   "source": [
    "li =[\"a12o\", \"abco\", \"aBo\", \"a123o\", \"kbs\", \"123kbs\", \"KBS\", \"KB3\", \"abcKBS123\"]\n",
    "for string in li: \n",
    "    print(re.sub(\"(123)+\", \"#\", string), end =\",   \")\n",
    "    #123이 한개이상 "
   ]
  },
  {
   "cell_type": "code",
   "execution_count": 111,
   "id": "cb6cb89f-06a4-4794-88aa-5ed756ab0f6b",
   "metadata": {},
   "outputs": [
    {
     "name": "stdout",
     "output_type": "stream",
     "text": [
      "a12o,   abco,   aBo,   a#o,   kbs,   #kbs,   KBS,   KB3,   abcKBS#,   "
     ]
    }
   ],
   "source": [
    "li =[\"a12o\", \"abco\", \"aBo\", \"a123o\", \"kbs\", \"123kbs\", \"KBS\", \"KB3\", \"abcKBS123\"]\n",
    "for string in li: \n",
    "    print(re.sub(\"123\", \"#\", string), end =\",   \")"
   ]
  },
  {
   "cell_type": "code",
   "execution_count": 73,
   "id": "97412ee7-637e-49b7-b379-7b3ef8cd4be2",
   "metadata": {},
   "outputs": [],
   "source": [
    "# 문자 중간에 123인것 찾아라"
   ]
  },
  {
   "cell_type": "code",
   "execution_count": 78,
   "id": "fc811fbb-65d4-44c2-8e2a-3f1cf61a02db",
   "metadata": {},
   "outputs": [
    {
     "name": "stdout",
     "output_type": "stream",
     "text": [
      "a12o,   abco,   aBo,   #,   kbs,   123kbs,   KBS,   KB3,   abcKBS123,   "
     ]
    }
   ],
   "source": [
    "li =[\"a12o\", \"abco\", \"aBo\", \"a123o\", \"kbs\", \"123kbs\", \"KBS\", \"KB3\", \"abcKBS123\"]\n",
    "for string in li: \n",
    "    print(re.sub(\"\\S(123)+\\S\", \"#\", string), end =\",   \")"
   ]
  },
  {
   "cell_type": "code",
   "execution_count": 82,
   "id": "bd4a0771-7ab2-48bb-a0e7-a81dafea57de",
   "metadata": {},
   "outputs": [
    {
     "name": "stdout",
     "output_type": "stream",
     "text": [
      "a12o,   abco,   aBo,   #,   kbs,   123kbs,   KBS,   KB3,   abcKBS123,   "
     ]
    }
   ],
   "source": [
    "li =[\"a12o\", \"abco\", \"aBo\", \"a123o\", \"kbs\", \"123kbs\", \"KBS\", \"KB3\", \"abcKBS123\"]\n",
    "for string in li: \n",
    "    print(re.sub(\".+123.+\", \"#\", string), end =\",   \")"
   ]
  },
  {
   "cell_type": "code",
   "execution_count": 83,
   "id": "34beffb4-04af-45b6-952b-4cc60e52be8e",
   "metadata": {},
   "outputs": [
    {
     "name": "stdout",
     "output_type": "stream",
     "text": [
      "a12o,   abco,   aBo,   #,   kbs,   123kbs,   KBS,   KB3,   abcKBS123,   "
     ]
    }
   ],
   "source": [
    "li =[\"a12o\", \"abco\", \"aBo\", \"a123o\", \"kbs\", \"123kbs\", \"KBS\", \"KB3\", \"abcKBS123\"]\n",
    "for string in li: \n",
    "    print(re.sub(\".+123.+\", \"#\", string), end =\",   \")"
   ]
  },
  {
   "cell_type": "code",
   "execution_count": 84,
   "id": "ad6ba9c0-6e0b-4566-87e2-f419fa2da85d",
   "metadata": {},
   "outputs": [
    {
     "name": "stdout",
     "output_type": "stream",
     "text": [
      "a12o,   abco,   aBo,   #,   kbs,   123kbs,   KBS,   KB3,   abcKBS123,   "
     ]
    }
   ],
   "source": [
    "li =[\"a12o\", \"abco\", \"aBo\", \"a123o\", \"kbs\", \"123kbs\", \"KBS\", \"KB3\", \"abcKBS123\"]\n",
    "for string in li: \n",
    "    print(re.sub(\"\\w(123)+\\w\", \"#\", string), end =\",   \")"
   ]
  },
  {
   "cell_type": "code",
   "execution_count": 85,
   "id": "f465aea9-0ffa-4ca9-8e9b-1b237061c868",
   "metadata": {},
   "outputs": [
    {
     "name": "stdout",
     "output_type": "stream",
     "text": [
      "a12o,   abco,   aBo,   #,   kbs,   123kbs,   KBS,   KB3,   abcKBS123,   "
     ]
    }
   ],
   "source": [
    "li =[\"a12o\", \"abco\", \"aBo\", \"a123o\", \"kbs\", \"123kbs\", \"KBS\", \"KB3\", \"abcKBS123\"]\n",
    "for string in li: \n",
    "    print(re.sub(\"\\S+123\\S+\", \"#\", string), end =\",   \")"
   ]
  },
  {
   "cell_type": "code",
   "execution_count": 95,
   "id": "c75e5e3f-1e45-4b53-aa61-96c2029945b0",
   "metadata": {},
   "outputs": [
    {
     "ename": "SyntaxError",
     "evalue": "iterable argument unpacking follows keyword argument unpacking (1972044206.py, line 4)",
     "output_type": "error",
     "traceback": [
      "\u001b[1;36m  Input \u001b[1;32mIn [95]\u001b[1;36m\u001b[0m\n\u001b[1;33m    print(re.sub(\"^1.+\", *, i), end =\",   \") # 리스트가 아니라서 안함\u001b[0m\n\u001b[1;37m                 ^\u001b[0m\n\u001b[1;31mSyntaxError\u001b[0m\u001b[1;31m:\u001b[0m iterable argument unpacking follows keyword argument unpacking\n"
     ]
    }
   ],
   "source": [
    "string = \"park 800905-1049118 Kim 700905-1059119\" \n",
    "\n",
    "for i in string:\n",
    "    print(re.sub(\"^1.+\", *, i), end =\",   \") # 리스트가 아니라서 안함 "
   ]
  },
  {
   "cell_type": "code",
   "execution_count": 96,
   "id": "80a9ddc3-9876-4e1d-8b6c-86ad4c0cee0d",
   "metadata": {},
   "outputs": [
    {
     "data": {
      "text/plain": [
       "'park 800905-******* Kim 700905-*******'"
      ]
     },
     "execution_count": 96,
     "metadata": {},
     "output_type": "execute_result"
    }
   ],
   "source": [
    "string = \"park 800905-1049118 Kim 700905-1059119\" \n",
    "re.sub(r'\\d{7}','*******',string) "
   ]
  },
  {
   "cell_type": "code",
   "execution_count": 97,
   "id": "521cabc3-528a-4117-b616-0d0e248f0822",
   "metadata": {},
   "outputs": [
    {
     "data": {
      "text/plain": [
       "'park 800905-******* Kim 700905-*******'"
      ]
     },
     "execution_count": 97,
     "metadata": {},
     "output_type": "execute_result"
    }
   ],
   "source": [
    "string = \"park 800905-1049118 Kim 700905-1059119\" \n",
    "re.sub(r'1.{6}','*******',string) "
   ]
  },
  {
   "cell_type": "code",
   "execution_count": 98,
   "id": "5786356a-f311-42fb-8045-836e6daa887d",
   "metadata": {},
   "outputs": [
    {
     "data": {
      "text/plain": [
       "'park 800905-******* Kim 700905-*******'"
      ]
     },
     "execution_count": 98,
     "metadata": {},
     "output_type": "execute_result"
    }
   ],
   "source": [
    "string = \"park 800905-1049118 Kim 700905-1059119\" \n",
    "re.sub(r'-\\d{7}','-*******',string) \n",
    "# 메타문자 -는 없기에 바뒤에 숫자 7개 바뀜 "
   ]
  },
  {
   "cell_type": "code",
   "execution_count": 100,
   "id": "c127c89e-972b-4d6b-a5ef-1df1eb8676bd",
   "metadata": {},
   "outputs": [
    {
     "name": "stdout",
     "output_type": "stream",
     "text": [
      "park 800905-******* Kim 700905-*******\n"
     ]
    }
   ],
   "source": [
    "print(re.sub( \"-\\S+\", \"-*******\", string))  # 바뒤에 모든것 바꿈 \n"
   ]
  },
  {
   "cell_type": "code",
   "execution_count": null,
   "id": "1bc10419-92b7-4209-a6f7-1d7f2c4af153",
   "metadata": {},
   "outputs": [],
   "source": []
  }
 ],
 "metadata": {
  "kernelspec": {
   "display_name": "Python 3 (ipykernel)",
   "language": "python",
   "name": "python3"
  },
  "language_info": {
   "codemirror_mode": {
    "name": "ipython",
    "version": 3
   },
   "file_extension": ".py",
   "mimetype": "text/x-python",
   "name": "python",
   "nbconvert_exporter": "python",
   "pygments_lexer": "ipython3",
   "version": "3.9.12"
  }
 },
 "nbformat": 4,
 "nbformat_minor": 5
}
