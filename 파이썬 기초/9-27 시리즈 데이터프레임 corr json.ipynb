{
 "cells": [
  {
   "cell_type": "markdown",
   "id": "77c06b8b-0f10-4ba3-abb0-1c375a223a02",
   "metadata": {},
   "source": [
    "# 정리"
   ]
  },
  {
   "cell_type": "code",
   "execution_count": null,
   "id": "bd5defb1-75bd-40c2-86dd-c788f0366201",
   "metadata": {},
   "outputs": [],
   "source": [
    "np.random.rand(3,4) # 이것고 균등한데 0과 1에서 고정 \n",
    "np.random.uniform(3,4 , size=(3,4)) # 균등 분포인데 3과 4사이에서 나옴 \n",
    "np.mean(arr, axis=1) # 각행의 평균을 구해라 이건 열의 평균 \n",
    "pd.Series([4,7,-5,3]) # 디타입 나옴 데이터프레임은 안나옴 \n",
    "\n",
    "data = {'state': ['Ohio', 'Ohio', 'Ohio', 'Nevada', 'Nevada', 'Nevada'],\n",
    "        'year': [2000, 2001, 2002, 2001, 2002, 2003],\n",
    "        'pop': [1.5, 1.7, 3.6, 2.4, 2.9, 3.2]} \n",
    "frame=pd.DataFrame(data)\n",
    "frame\n",
    "\n",
    "df.loc[:,\"state\"]\n",
    "df.loc[:,[\"state\",\"year\"]]\n",
    "df.iloc[:, [0]] # state나옴\n",
    "obj.reindex(['a','b','c','d','e']) # 순서 바꾸기  덮어쓰는게 아니라 없는 것은 nan\n",
    "price.pct_change() # b-a/a 퍼센트 변화율 구하기\n",
    "url = 'https://api.github.com/repos/pandas-dev/pandas/issues' \n",
    "resp=requests.get(url)\n",
    "resp\n",
    "data= resp.json()\n",
    "data\n",
    "issues=pd.DataFrame(data)\n",
    "issues\n"
   ]
  },
  {
   "cell_type": "markdown",
   "id": "fb78c9db-ce7e-4282-bb4e-aa13d8cf2f79",
   "metadata": {
    "tags": []
   },
   "source": [
    "# 복습문제"
   ]
  },
  {
   "cell_type": "code",
   "execution_count": null,
   "id": "49264e45-6253-476b-a54f-fbdf4e6db20b",
   "metadata": {},
   "outputs": [],
   "source": [
    "array는 기본적으로 숫자를 다루지만 numpy는 문자도 처리해준다. o\n",
    "np.maximum(a)는 이항처리가능 \n",
    "np.max(a)는 단일항 처리"
   ]
  },
  {
   "cell_type": "code",
   "execution_count": 3,
   "id": "9ec17a3b-54c3-4fd3-8032-c935913737b2",
   "metadata": {
    "tags": []
   },
   "outputs": [],
   "source": [
    "import numpy as np"
   ]
  },
  {
   "cell_type": "code",
   "execution_count": 5,
   "id": "f20c9f46-e1ef-44ec-9c95-a3484c1f9825",
   "metadata": {},
   "outputs": [],
   "source": [
    "import pandas as pd "
   ]
  },
  {
   "cell_type": "code",
   "execution_count": 4,
   "id": "c2048e7e-8b30-4380-9e50-9fb875a263b2",
   "metadata": {},
   "outputs": [
    {
     "data": {
      "text/plain": [
       "array([[2, 4, 6],\n",
       "       [4, 5, 6]])"
      ]
     },
     "execution_count": 4,
     "metadata": {},
     "output_type": "execute_result"
    }
   ],
   "source": [
    "a = [[1, 2, 3], [4, 5, 6]]\n",
    "b = [[2, 4, 6], [1, 2, 3]]\n",
    "\n",
    "np.maximum(a, b)"
   ]
  },
  {
   "cell_type": "code",
   "execution_count": 6,
   "id": "b7609683-f596-488a-97b4-7ab32f2a317e",
   "metadata": {},
   "outputs": [
    {
     "name": "stdout",
     "output_type": "stream",
     "text": [
      "5\n"
     ]
    },
    {
     "data": {
      "text/plain": [
       "array([1, 4, 5])"
      ]
     },
     "execution_count": 6,
     "metadata": {},
     "output_type": "execute_result"
    }
   ],
   "source": [
    "a = np.array([1, 3, 5])\n",
    "b = np.array([0, 4, 2])\n",
    "print(np.max(a))\n",
    "np.maximum(a, b)"
   ]
  },
  {
   "cell_type": "code",
   "execution_count": 7,
   "id": "45aba504-10cf-4d3d-880c-569548036075",
   "metadata": {},
   "outputs": [],
   "source": [
    "import random"
   ]
  },
  {
   "cell_type": "code",
   "execution_count": 8,
   "id": "debe1ec9-0066-4afd-a8df-70b04a2c15df",
   "metadata": {
    "tags": []
   },
   "outputs": [
    {
     "data": {
      "text/plain": [
       "RandomState(MT19937) at 0x1ECE7CCB340"
      ]
     },
     "execution_count": 8,
     "metadata": {},
     "output_type": "execute_result"
    }
   ],
   "source": [
    "np.random.seed(1234)\n",
    "np.random.RandomState(1234)"
   ]
  },
  {
   "cell_type": "code",
   "execution_count": 9,
   "id": "bc948eee-f61a-4f77-a6d2-13ce2f15a86d",
   "metadata": {},
   "outputs": [
    {
     "data": {
      "text/plain": [
       "array([ 0.47143516, -1.19097569,  1.43270697, -0.3126519 , -0.72058873,\n",
       "        0.88716294,  0.85958841, -0.6365235 ,  0.01569637, -2.24268495])"
      ]
     },
     "execution_count": 9,
     "metadata": {},
     "output_type": "execute_result"
    }
   ],
   "source": [
    "np.random.randn\n",
    "np.random.uniform\n",
    "np.random.randint\n",
    "np.random.normal\n",
    "np.ranmdom.random\n",
    "np.random.shuffle\n"
   ]
  },
  {
   "cell_type": "code",
   "execution_count": 21,
   "id": "d9a6e0aa-d16c-4c01-9959-090c83c904ef",
   "metadata": {},
   "outputs": [
    {
     "name": "stdin",
     "output_type": "stream",
     "text": [
      " 10\n"
     ]
    },
    {
     "data": {
      "text/plain": [
       "array([[ 1, 76, 81,  4,  3, 20, 13, 66, 76, 82],\n",
       "       [15, 72, 61, 47, 29, 82, 88, 14, 97, 13],\n",
       "       [70, 96, 32, 90, 85, 46, 17, 42, 73, 57],\n",
       "       [71, 57, 87, 45, 91, 84, 48, 50, 19, 86],\n",
       "       [47, 99, 38, 39,  8, 68,  6, 48, 48, 16],\n",
       "       [35, 11, 29,  5, 83, 90, 56, 79, 24, 51],\n",
       "       [63, 56, 85,  1, 99, 91, 34, 22, 72, 69],\n",
       "       [82, 53, 65, 86, 42,  2, 15,  4, 31, 13],\n",
       "       [74, 20, 27, 97, 69, 65, 23, 57, 85,  9],\n",
       "       [45, 25, 95, 16, 73,  3, 17,  3, 80, 68]])"
      ]
     },
     "execution_count": 21,
     "metadata": {},
     "output_type": "execute_result"
    }
   ],
   "source": [
    "n= int(input())\n",
    "np.random.randint(1, 100, size=(n,n))"
   ]
  },
  {
   "cell_type": "code",
   "execution_count": 22,
   "id": "3383e0e0-f308-4e5f-9a4c-e5f44b2d0eef",
   "metadata": {},
   "outputs": [
    {
     "data": {
      "text/plain": [
       "array([[47, 99, 58],\n",
       "       [56, 37, 89]])"
      ]
     },
     "execution_count": 22,
     "metadata": {},
     "output_type": "execute_result"
    }
   ],
   "source": [
    "np.random.randint(1, 100, size=(2,3))"
   ]
  },
  {
   "cell_type": "code",
   "execution_count": 289,
   "id": "ab1b1758-2935-4eab-a370-b06d3f40c5d6",
   "metadata": {},
   "outputs": [
    {
     "data": {
      "text/plain": [
       "4"
      ]
     },
     "execution_count": 289,
     "metadata": {},
     "output_type": "execute_result"
    }
   ],
   "source": [
    "np.random.randint(1, 100)"
   ]
  },
  {
   "cell_type": "code",
   "execution_count": 25,
   "id": "b335bd43-01b6-40c0-82f5-3e10d856daea",
   "metadata": {},
   "outputs": [
    {
     "name": "stdin",
     "output_type": "stream",
     "text": [
      " 2\n",
      " 2\n"
     ]
    },
    {
     "data": {
      "text/plain": [
       "array([[34, 43],\n",
       "       [ 3, 88]])"
      ]
     },
     "execution_count": 25,
     "metadata": {},
     "output_type": "execute_result"
    }
   ],
   "source": [
    "a = int(input())\n",
    "b = int(input())\n",
    "np.array([np.random.randint(1,100) for i in range(a*b)]).reshape(a,b) \n",
    "# np.random.randint는 한번만 나오니 2*2는 4이니 4번나오는데 reshape된 모양인 2,2 모양으로나옴"
   ]
  },
  {
   "cell_type": "code",
   "execution_count": 304,
   "id": "481a2bb8-b3ed-4d68-a434-2d372bca76a9",
   "metadata": {},
   "outputs": [
    {
     "name": "stdin",
     "output_type": "stream",
     "text": [
      " 2\n",
      " 2\n"
     ]
    }
   ],
   "source": [
    "a = int(input())\n",
    "b = int(input())\n",
    "for i in range(a*b):\n",
    "    i=np.random.randint(1,100)\n",
    "    np.array([i])\n"
   ]
  },
  {
   "cell_type": "code",
   "execution_count": 24,
   "id": "26ad7562-ef6e-4e75-b9c7-a356a0e3a1ff",
   "metadata": {},
   "outputs": [],
   "source": [
    "def f(n):\n",
    "    a = np.random.randint(1, 100, (n, n))\n",
    "    return a "
   ]
  },
  {
   "cell_type": "code",
   "execution_count": 26,
   "id": "21a92465-0828-4078-b488-9fe581810e07",
   "metadata": {},
   "outputs": [
    {
     "data": {
      "text/plain": [
       "array([[0.05711564, 0.66942174, 0.76711663, 0.70811536],\n",
       "       [0.79686718, 0.55776083, 0.96583653, 0.1471569 ],\n",
       "       [0.029647  , 0.59389349, 0.1140657 , 0.95080985]])"
      ]
     },
     "execution_count": 26,
     "metadata": {},
     "output_type": "execute_result"
    }
   ],
   "source": [
    "np.random.rand(3,4) # 이것고 균등한데 0과 1에서 고정 "
   ]
  },
  {
   "cell_type": "code",
   "execution_count": 28,
   "id": "c2a49c6b-6134-4bb2-ba8d-feb0dde9c5b5",
   "metadata": {},
   "outputs": [
    {
     "data": {
      "text/plain": [
       "array([[3.32570741, 3.19361869, 3.45781165, 3.92040257],\n",
       "       [3.87906916, 3.25261576, 3.34800879, 3.18258873],\n",
       "       [3.90179605, 3.70652816, 3.72665846, 3.90008784]])"
      ]
     },
     "execution_count": 28,
     "metadata": {},
     "output_type": "execute_result"
    }
   ],
   "source": [
    "np.random.uniform(3,4 , size=(3,4)) # 균등 분포인데 3과 4사이에서 나옴 "
   ]
  },
  {
   "cell_type": "code",
   "execution_count": 306,
   "id": "1f37cdff-3431-4fbe-a34a-0f05f0f8e375",
   "metadata": {},
   "outputs": [
    {
     "data": {
      "text/plain": [
       "array([[36.31,  3.66, 86.81, 67.28],\n",
       "       [ 8.75, 88.7 , 78.25, 31.73],\n",
       "       [81.83, 50.76,  2.12, 43.35]])"
      ]
     },
     "execution_count": 306,
     "metadata": {},
     "output_type": "execute_result"
    }
   ],
   "source": [
    "arr= np.round(np.random.rand(3,4)*100, 2)# round 두번쨰 까지 나오게 \n",
    "arr"
   ]
  },
  {
   "cell_type": "code",
   "execution_count": 307,
   "id": "875a1e10-34f3-4892-a912-1f10e432143a",
   "metadata": {},
   "outputs": [
    {
     "data": {
      "text/plain": [
       "array([48.515 , 51.8575, 44.515 ])"
      ]
     },
     "execution_count": 307,
     "metadata": {},
     "output_type": "execute_result"
    }
   ],
   "source": [
    "np.mean(arr, axis=1) # 각행의 평균을 구해라 이건 열의 평균 "
   ]
  },
  {
   "cell_type": "code",
   "execution_count": 55,
   "id": "9f6939b8-8e82-44d4-8906-684888352a28",
   "metadata": {},
   "outputs": [
    {
     "ename": "ValueError",
     "evalue": "operands could not be broadcast together with shapes (3,4) (3,) ",
     "output_type": "error",
     "traceback": [
      "\u001b[1;31m---------------------------------------------------------------------------\u001b[0m",
      "\u001b[1;31mValueError\u001b[0m                                Traceback (most recent call last)",
      "Input \u001b[1;32mIn [55]\u001b[0m, in \u001b[0;36m<cell line: 1>\u001b[1;34m()\u001b[0m\n\u001b[1;32m----> 1\u001b[0m \u001b[43marr\u001b[49m\u001b[38;5;241;43m-\u001b[39;49m\u001b[43mnp\u001b[49m\u001b[38;5;241;43m.\u001b[39;49m\u001b[43mmean\u001b[49m\u001b[43m(\u001b[49m\u001b[43marr\u001b[49m\u001b[43m,\u001b[49m\u001b[43m \u001b[49m\u001b[43maxis\u001b[49m\u001b[38;5;241;43m=\u001b[39;49m\u001b[38;5;241;43m1\u001b[39;49m\u001b[43m)\u001b[49m\n",
      "\u001b[1;31mValueError\u001b[0m: operands could not be broadcast together with shapes (3,4) (3,) "
     ]
    }
   ],
   "source": [
    "arr-np.mean(arr, axis=1)"
   ]
  },
  {
   "cell_type": "code",
   "execution_count": 46,
   "id": "0ec9686e-a6e0-4322-bceb-c253ca99ab61",
   "metadata": {},
   "outputs": [
    {
     "ename": "IndentationError",
     "evalue": "expected an indented block (1497571754.py, line 1)",
     "output_type": "error",
     "traceback": [
      "\u001b[1;36m  Input \u001b[1;32mIn [46]\u001b[1;36m\u001b[0m\n\u001b[1;33m    for i in range(a*b):\u001b[0m\n\u001b[1;37m                        ^\u001b[0m\n\u001b[1;31mIndentationError\u001b[0m\u001b[1;31m:\u001b[0m expected an indented block\n"
     ]
    }
   ],
   "source": [
    "for i in range(a*b):\n",
    "    np.random.randint(1,100)\n",
    "    \n",
    "    "
   ]
  },
  {
   "cell_type": "code",
   "execution_count": 319,
   "id": "cb3a83d4-6496-4eb1-b7a0-7f9c9cfb123e",
   "metadata": {},
   "outputs": [
    {
     "data": {
      "text/plain": [
       "array([[-16.34666667,  10.91666667,  48.80666667, -13.02666667],\n",
       "       [ 41.18333333,   6.23666667, -21.57333333, -10.57666667],\n",
       "       [-24.83666667, -17.15333333, -27.23333333,  23.60333333]])"
      ]
     },
     "execution_count": 319,
     "metadata": {},
     "output_type": "execute_result"
    }
   ],
   "source": [
    "a = np.round(np.random.rand(3,4)*100,2)\n",
    "import pandas as pd\n",
    "\n",
    "df=pd.DataFrame(a)\n",
    "df.mean()\n",
    "np.array(a) - np.array(df.mean()) "
   ]
  },
  {
   "cell_type": "code",
   "execution_count": 321,
   "id": "cf3424c3-f68a-4d45-b962-0e3457fc3d77",
   "metadata": {},
   "outputs": [
    {
     "data": {
      "text/html": [
       "<div>\n",
       "<style scoped>\n",
       "    .dataframe tbody tr th:only-of-type {\n",
       "        vertical-align: middle;\n",
       "    }\n",
       "\n",
       "    .dataframe tbody tr th {\n",
       "        vertical-align: top;\n",
       "    }\n",
       "\n",
       "    .dataframe thead th {\n",
       "        text-align: right;\n",
       "    }\n",
       "</style>\n",
       "<table border=\"1\" class=\"dataframe\">\n",
       "  <thead>\n",
       "    <tr style=\"text-align: right;\">\n",
       "      <th></th>\n",
       "      <th>0</th>\n",
       "      <th>1</th>\n",
       "      <th>2</th>\n",
       "      <th>3</th>\n",
       "    </tr>\n",
       "  </thead>\n",
       "  <tbody>\n",
       "    <tr>\n",
       "      <th>0</th>\n",
       "      <td>11.71</td>\n",
       "      <td>52.31</td>\n",
       "      <td>87.31</td>\n",
       "      <td>3.87</td>\n",
       "    </tr>\n",
       "    <tr>\n",
       "      <th>1</th>\n",
       "      <td>69.24</td>\n",
       "      <td>47.63</td>\n",
       "      <td>16.93</td>\n",
       "      <td>6.32</td>\n",
       "    </tr>\n",
       "    <tr>\n",
       "      <th>2</th>\n",
       "      <td>3.22</td>\n",
       "      <td>24.24</td>\n",
       "      <td>11.27</td>\n",
       "      <td>40.50</td>\n",
       "    </tr>\n",
       "  </tbody>\n",
       "</table>\n",
       "</div>"
      ],
      "text/plain": [
       "       0      1      2      3\n",
       "0  11.71  52.31  87.31   3.87\n",
       "1  69.24  47.63  16.93   6.32\n",
       "2   3.22  24.24  11.27  40.50"
      ]
     },
     "execution_count": 321,
     "metadata": {},
     "output_type": "execute_result"
    }
   ],
   "source": [
    "df"
   ]
  },
  {
   "cell_type": "code",
   "execution_count": 208,
   "id": "199c99dd-0886-4407-b633-f8ef8a7b8ba3",
   "metadata": {},
   "outputs": [
    {
     "data": {
      "text/plain": [
       "array([38.18      , 70.53666667, 56.34666667, 70.87      ])"
      ]
     },
     "execution_count": 208,
     "metadata": {},
     "output_type": "execute_result"
    }
   ],
   "source": [
    "np.array(df.mean())"
   ]
  },
  {
   "cell_type": "code",
   "execution_count": 196,
   "id": "918d19d6-2adf-4876-94ac-ab03d5b32656",
   "metadata": {},
   "outputs": [
    {
     "name": "stdout",
     "output_type": "stream",
     "text": [
      "[-27.8525   4.5075  25.7175  -2.3725]\n",
      "[-39.345  21.075  -2.785  21.055]\n",
      "[ 41.185  -7.245 -17.095 -16.845]\n"
     ]
    }
   ],
   "source": [
    "a = np.round(np.random.rand(3, 4)*100, 2)\n",
    "\n",
    "b = a.mean(axis=1)\n",
    "\n",
    "for i in range(3):\n",
    "    result = a[i] - b[i]\n",
    "    print(result) "
   ]
  },
  {
   "cell_type": "code",
   "execution_count": 199,
   "id": "f59c418b-e196-483b-9cc1-feb336d9dabc",
   "metadata": {},
   "outputs": [
    {
     "data": {
      "text/plain": [
       "array([[16.52, 48.88, 70.09, 42.  ],\n",
       "       [17.76, 78.18, 54.32, 78.16],\n",
       "       [59.35, 10.92,  1.07,  1.32]])"
      ]
     },
     "execution_count": 199,
     "metadata": {},
     "output_type": "execute_result"
    }
   ],
   "source": [
    "a"
   ]
  },
  {
   "cell_type": "code",
   "execution_count": 200,
   "id": "9695cb16-92c3-453a-a512-69f1a1332c8a",
   "metadata": {},
   "outputs": [
    {
     "data": {
      "text/plain": [
       "array([17.76, 78.18, 54.32, 78.16])"
      ]
     },
     "execution_count": 200,
     "metadata": {},
     "output_type": "execute_result"
    }
   ],
   "source": [
    "a[1]"
   ]
  },
  {
   "cell_type": "code",
   "execution_count": 204,
   "id": "36fb760c-3b1b-4027-bbf9-72afdba096ba",
   "metadata": {},
   "outputs": [
    {
     "data": {
      "text/plain": [
       "array([44.3725, 57.105 , 18.165 ])"
      ]
     },
     "execution_count": 204,
     "metadata": {},
     "output_type": "execute_result"
    }
   ],
   "source": [
    "b"
   ]
  },
  {
   "cell_type": "code",
   "execution_count": 205,
   "id": "1d1cf738-7b51-423a-a5e6-85cc71dbbb4f",
   "metadata": {},
   "outputs": [
    {
     "data": {
      "text/plain": [
       "57.105000000000004"
      ]
     },
     "execution_count": 205,
     "metadata": {},
     "output_type": "execute_result"
    }
   ],
   "source": [
    "b[1]"
   ]
  },
  {
   "cell_type": "code",
   "execution_count": 53,
   "id": "578766d8-7433-4da5-8c72-9bc3cc6dbe19",
   "metadata": {},
   "outputs": [
    {
     "data": {
      "text/plain": [
       "array([64.995 , 56.13  , 34.7275])"
      ]
     },
     "execution_count": 53,
     "metadata": {},
     "output_type": "execute_result"
    }
   ],
   "source": [
    "b = a.mean(axis=1)\n",
    "b"
   ]
  },
  {
   "cell_type": "code",
   "execution_count": 54,
   "id": "9f1881ea-358f-48aa-85be-a09497d9d309",
   "metadata": {},
   "outputs": [
    {
     "data": {
      "text/plain": [
       "array([[-42.2875,  48.5725,  -5.2575,  -1.0275],\n",
       "       [ 13.42  ,  -7.42  ,  22.8   , -28.8   ],\n",
       "       [-13.32  ,  27.33  , -44.84  ,  30.83  ]])"
      ]
     },
     "execution_count": 54,
     "metadata": {},
     "output_type": "execute_result"
    }
   ],
   "source": [
    "a = np.round(np.random.rand(3, 4) *100, 2)\n",
    "b = np.array(a.mean(axis = 1)).reshape(3, 1)\n",
    "a- b "
   ]
  },
  {
   "cell_type": "code",
   "execution_count": 56,
   "id": "35f1bd8f-7c89-4c65-adba-4e9f16fce80a",
   "metadata": {},
   "outputs": [
    {
     "data": {
      "text/plain": [
       "array([42.86  , 34.315 , 49.8625])"
      ]
     },
     "execution_count": 56,
     "metadata": {},
     "output_type": "execute_result"
    }
   ],
   "source": [
    "a= np.round(np.random.rand(3,4)*100, 2)# round 두번쨰 까지 나오게 \n",
    "a.mean(axis=1) # 각행의 평균을 구하는 것 "
   ]
  },
  {
   "cell_type": "code",
   "execution_count": 58,
   "id": "aabb96b9-d0d6-4327-a304-5f61b2021dc8",
   "metadata": {},
   "outputs": [
    {
     "ename": "ValueError",
     "evalue": "operands could not be broadcast together with shapes (3,4) (3,) ",
     "output_type": "error",
     "traceback": [
      "\u001b[1;31m---------------------------------------------------------------------------\u001b[0m",
      "\u001b[1;31mValueError\u001b[0m                                Traceback (most recent call last)",
      "Input \u001b[1;32mIn [58]\u001b[0m, in \u001b[0;36m<cell line: 1>\u001b[1;34m()\u001b[0m\n\u001b[1;32m----> 1\u001b[0m \u001b[43ma\u001b[49m\u001b[38;5;241;43m-\u001b[39;49m\u001b[43ma\u001b[49m\u001b[38;5;241;43m.\u001b[39;49m\u001b[43mmean\u001b[49m\u001b[43m(\u001b[49m\u001b[43maxis\u001b[49m\u001b[38;5;241;43m=\u001b[39;49m\u001b[38;5;241;43m1\u001b[39;49m\u001b[43m)\u001b[49m\n",
      "\u001b[1;31mValueError\u001b[0m: operands could not be broadcast together with shapes (3,4) (3,) "
     ]
    }
   ],
   "source": [
    "a-a.mean(axis=1)"
   ]
  },
  {
   "cell_type": "code",
   "execution_count": 61,
   "id": "9e63ffbf-4a5b-4d1a-89e9-341254a94382",
   "metadata": {},
   "outputs": [
    {
     "data": {
      "text/plain": [
       "array([[ 36.27  ,   6.31  ,  -3.28  , -39.3   ],\n",
       "       [-17.145 , -15.415 , -24.025 ,  56.585 ],\n",
       "       [  8.3675,  40.0175,  -6.3625, -42.0225]])"
      ]
     },
     "execution_count": 61,
     "metadata": {},
     "output_type": "execute_result"
    }
   ],
   "source": [
    "a-a.mean(axis=1).reshape(3,1)"
   ]
  },
  {
   "cell_type": "code",
   "execution_count": 63,
   "id": "1ff72338-d042-49da-8c17-8326641e8df6",
   "metadata": {},
   "outputs": [
    {
     "data": {
      "text/plain": [
       "array([51.51      , 52.65      , 31.12333333, 34.1       ])"
      ]
     },
     "execution_count": 63,
     "metadata": {},
     "output_type": "execute_result"
    }
   ],
   "source": [
    "a.mean(axis=0)# 각 열의 평균은 4개   axis=0은 행"
   ]
  },
  {
   "cell_type": "code",
   "execution_count": 65,
   "id": "34529f18-261b-42d2-b1ef-93fbb374f6af",
   "metadata": {},
   "outputs": [
    {
     "data": {
      "text/plain": [
       "array([[79.13, 49.17, 39.58,  3.56],\n",
       "       [17.17, 18.9 , 10.29, 90.9 ],\n",
       "       [58.23, 89.88, 43.5 ,  7.84]])"
      ]
     },
     "execution_count": 65,
     "metadata": {},
     "output_type": "execute_result"
    }
   ],
   "source": [
    "a # shape가 열이 4개라 맞음"
   ]
  },
  {
   "cell_type": "code",
   "execution_count": null,
   "id": "39f81a6b-0c49-46d9-afcf-5d0c1edf407c",
   "metadata": {},
   "outputs": [],
   "source": [
    "# 수직 아래 방향으로 작용하는 axis=0\n",
    "# 수평은 axis= 1\n",
    "#row는 행(가로)를 의미하고, col는 열(세로)를 의미합니다."
   ]
  },
  {
   "cell_type": "code",
   "execution_count": 67,
   "id": "dad398bb-a3c9-43b3-95ec-70585aaa4ac2",
   "metadata": {},
   "outputs": [
    {
     "data": {
      "text/plain": [
       "array([42.86  , 34.315 , 49.8625])"
      ]
     },
     "execution_count": 67,
     "metadata": {},
     "output_type": "execute_result"
    }
   ],
   "source": [
    "a.mean(axis=1) # a는 열이 4개지만 이것은 열이 3개라 안맞음  axis=0은 행"
   ]
  },
  {
   "cell_type": "code",
   "execution_count": 73,
   "id": "7cfa4f0a-e0be-4862-9251-d661bf398519",
   "metadata": {},
   "outputs": [
    {
     "data": {
      "text/plain": [
       "array([[1, 2, 3],\n",
       "       [4, 5, 6],\n",
       "       [7, 8, 9]])"
      ]
     },
     "execution_count": 73,
     "metadata": {},
     "output_type": "execute_result"
    }
   ],
   "source": [
    "a=np.arange(1,10).reshape(3,3)\n",
    "a"
   ]
  },
  {
   "cell_type": "code",
   "execution_count": 72,
   "id": "8ce98f56-f580-4486-8c31-85e36ff09e93",
   "metadata": {},
   "outputs": [
    {
     "data": {
      "text/plain": [
       "array([[5, 6],\n",
       "       [8, 9]])"
      ]
     },
     "execution_count": 72,
     "metadata": {},
     "output_type": "execute_result"
    }
   ],
   "source": [
    "a[1::, 1::] "
   ]
  },
  {
   "cell_type": "code",
   "execution_count": 74,
   "id": "16fa5656-3de3-4a02-aed5-a5076512e0f1",
   "metadata": {},
   "outputs": [
    {
     "data": {
      "text/plain": [
       "array([[5, 6],\n",
       "       [8, 9]])"
      ]
     },
     "execution_count": 74,
     "metadata": {},
     "output_type": "execute_result"
    }
   ],
   "source": [
    "a[1:, 1:] "
   ]
  },
  {
   "cell_type": "code",
   "execution_count": 76,
   "id": "0053fc5a-c228-4f62-aa16-f434c3b60b4a",
   "metadata": {},
   "outputs": [
    {
     "data": {
      "text/plain": [
       "array([5, 9])"
      ]
     },
     "execution_count": 76,
     "metadata": {},
     "output_type": "execute_result"
    }
   ],
   "source": [
    "a[[1, 2], [1, 2]] # 1행1열 2행 2열 뽑음"
   ]
  },
  {
   "cell_type": "code",
   "execution_count": 77,
   "id": "c32ca92d-e447-4be5-bb79-23197847f2a7",
   "metadata": {},
   "outputs": [
    {
     "ename": "SyntaxError",
     "evalue": "'yield' outside function (1775920391.py, line 1)",
     "output_type": "error",
     "traceback": [
      "\u001b[1;36m  Input \u001b[1;32mIn [77]\u001b[1;36m\u001b[0m\n\u001b[1;33m    yield 제너레이터\u001b[0m\n\u001b[1;37m    ^\u001b[0m\n\u001b[1;31mSyntaxError\u001b[0m\u001b[1;31m:\u001b[0m 'yield' outside function\n"
     ]
    }
   ],
   "source": [
    "yield 제너레이터 "
   ]
  },
  {
   "cell_type": "code",
   "execution_count": 83,
   "id": "afaf12f3-cc0c-4d00-8a14-f8aff1cc607a",
   "metadata": {},
   "outputs": [
    {
     "data": {
      "text/plain": [
       "{0: 'apple', 1: 'banana', 2: 'cherry', 3: 'date'}"
      ]
     },
     "execution_count": 83,
     "metadata": {},
     "output_type": "execute_result"
    }
   ],
   "source": [
    "li = ['apple', 'banana', 'cherry', 'date'] \n",
    "{i:j for i,j in enumerate(li)}"
   ]
  },
  {
   "cell_type": "code",
   "execution_count": 84,
   "id": "fb8d6356-2a16-4140-a180-c4c77fe45114",
   "metadata": {},
   "outputs": [
    {
     "ename": "SyntaxError",
     "evalue": "invalid syntax (3583198166.py, line 1)",
     "output_type": "error",
     "traceback": [
      "\u001b[1;36m  Input \u001b[1;32mIn [84]\u001b[1;36m\u001b[0m\n\u001b[1;33m    [] li.append()\u001b[0m\n\u001b[1;37m       ^\u001b[0m\n\u001b[1;31mSyntaxError\u001b[0m\u001b[1;31m:\u001b[0m invalid syntax\n"
     ]
    }
   ],
   "source": [
    "[] li.append()\n",
    "{:} d['a'] = b\n",
    "{} s.add()"
   ]
  },
  {
   "cell_type": "code",
   "execution_count": 87,
   "id": "abd8db04-c99c-4891-990c-aae1d80a930a",
   "metadata": {},
   "outputs": [
    {
     "data": {
      "text/plain": [
       "array([[171.22557775, 172.42082888, 170.18124352, 167.26584628],\n",
       "       [177.29942964, 164.0984969 , 171.89062635, 169.80740171],\n",
       "       [179.63110033, 172.2058873 , 170.37935711, 173.55408014]])"
      ]
     },
     "execution_count": 87,
     "metadata": {},
     "output_type": "execute_result"
    }
   ],
   "source": [
    "np.random.randn(3,4)*5+170"
   ]
  },
  {
   "cell_type": "code",
   "execution_count": 92,
   "id": "2b9a7a18-4da7-4916-a37e-8e180f97a78a",
   "metadata": {},
   "outputs": [],
   "source": [
    "a=np.arange(1,13).reshape(2,2,3)"
   ]
  },
  {
   "cell_type": "code",
   "execution_count": 94,
   "id": "70324eba-c414-425d-9d60-1f7bb85ea228",
   "metadata": {},
   "outputs": [
    {
     "data": {
      "text/plain": [
       "8"
      ]
     },
     "execution_count": 94,
     "metadata": {},
     "output_type": "execute_result"
    }
   ],
   "source": [
    "a[1] [0] [1] # 붙어서 들어가나 따로 떨어져서 들어가나 같음 "
   ]
  },
  {
   "cell_type": "code",
   "execution_count": 95,
   "id": "f89a0ea2-9340-424e-9629-96a98b98697a",
   "metadata": {},
   "outputs": [],
   "source": [
    "import pandas as pd"
   ]
  },
  {
   "cell_type": "code",
   "execution_count": 96,
   "id": "0dcebc04-f328-4c34-ab16-506d292dc2e4",
   "metadata": {},
   "outputs": [],
   "source": [
    "from pandas import Series"
   ]
  },
  {
   "cell_type": "markdown",
   "id": "3469194a-4107-4ec9-9a41-af17be2deb0a",
   "metadata": {},
   "source": [
    "# Series"
   ]
  },
  {
   "cell_type": "code",
   "execution_count": 99,
   "id": "dbc633ef-4da9-46d0-b1ad-3b3c95202bb0",
   "metadata": {},
   "outputs": [],
   "source": [
    "import pandas as pd\n",
    "from pandas import Series"
   ]
  },
  {
   "cell_type": "code",
   "execution_count": 101,
   "id": "12e64040-8f35-4e89-a276-5bd229e343ed",
   "metadata": {},
   "outputs": [
    {
     "data": {
      "text/plain": [
       "0    4\n",
       "1    7\n",
       "2   -5\n",
       "3    3\n",
       "dtype: int64"
      ]
     },
     "execution_count": 101,
     "metadata": {},
     "output_type": "execute_result"
    }
   ],
   "source": [
    "pd.Series([4,7,-5,3]) # 디타입 나옴 데이터프레임은 안나옴 "
   ]
  },
  {
   "cell_type": "code",
   "execution_count": 102,
   "id": "c9a45176-1edf-43fa-9bbb-f71f31d24c82",
   "metadata": {},
   "outputs": [],
   "source": [
    "sr=pd.Series([4,7,-5,3])"
   ]
  },
  {
   "cell_type": "code",
   "execution_count": 103,
   "id": "5be0d8c4-1f4e-4b3e-ae01-b3c5abd27f87",
   "metadata": {},
   "outputs": [
    {
     "data": {
      "text/plain": [
       "array([ 4,  7, -5,  3], dtype=int64)"
      ]
     },
     "execution_count": 103,
     "metadata": {},
     "output_type": "execute_result"
    }
   ],
   "source": [
    "sr.values"
   ]
  },
  {
   "cell_type": "code",
   "execution_count": 106,
   "id": "c1b77d63-292c-4b38-a139-a364f61432cf",
   "metadata": {},
   "outputs": [
    {
     "data": {
      "text/plain": [
       "RangeIndex(start=0, stop=4, step=1)"
      ]
     },
     "execution_count": 106,
     "metadata": {},
     "output_type": "execute_result"
    }
   ],
   "source": [
    "sr.index # 인데스가 0에서 3"
   ]
  },
  {
   "cell_type": "code",
   "execution_count": 108,
   "id": "f2cc90f6-ac14-4e6c-a75c-e2df1ef92cdb",
   "metadata": {},
   "outputs": [
    {
     "data": {
      "text/plain": [
       "a    4\n",
       "b    7\n",
       "c   -5\n",
       "d    3\n",
       "dtype: int64"
      ]
     },
     "execution_count": 108,
     "metadata": {},
     "output_type": "execute_result"
    }
   ],
   "source": [
    "s=pd.Series([4,7,-5,3], index=['a','b','c','d'])\n",
    "s"
   ]
  },
  {
   "cell_type": "code",
   "execution_count": 110,
   "id": "e44243c6-6d01-45da-b296-e6fbfac9e49c",
   "metadata": {},
   "outputs": [
    {
     "data": {
      "text/plain": [
       "4"
      ]
     },
     "execution_count": 110,
     "metadata": {},
     "output_type": "execute_result"
    }
   ],
   "source": [
    "s['a'] # 레이블 라벨 접근법 "
   ]
  },
  {
   "cell_type": "code",
   "execution_count": 112,
   "id": "60370aa9-2151-4feb-afa1-75170ce64d5c",
   "metadata": {},
   "outputs": [
    {
     "data": {
      "text/plain": [
       "a    4\n",
       "b    7\n",
       "dtype: int64"
      ]
     },
     "execution_count": 112,
     "metadata": {},
     "output_type": "execute_result"
    }
   ],
   "source": [
    "s[['a','b']]"
   ]
  },
  {
   "cell_type": "code",
   "execution_count": 113,
   "id": "9b74f893-c13c-478e-9c1b-927d8f7d6505",
   "metadata": {},
   "outputs": [
    {
     "data": {
      "text/plain": [
       "a     True\n",
       "b     True\n",
       "c    False\n",
       "d     True\n",
       "dtype: bool"
      ]
     },
     "execution_count": 113,
     "metadata": {},
     "output_type": "execute_result"
    }
   ],
   "source": [
    "s>0"
   ]
  },
  {
   "cell_type": "code",
   "execution_count": 114,
   "id": "c0259d5e-1094-4050-ac90-5b63034191b8",
   "metadata": {},
   "outputs": [
    {
     "data": {
      "text/plain": [
       "a    4\n",
       "b    7\n",
       "d    3\n",
       "dtype: int64"
      ]
     },
     "execution_count": 114,
     "metadata": {},
     "output_type": "execute_result"
    }
   ],
   "source": [
    "s[s>0]"
   ]
  },
  {
   "cell_type": "code",
   "execution_count": 115,
   "id": "3520e59d-406c-4357-8230-a3d7b86c95c3",
   "metadata": {},
   "outputs": [
    {
     "data": {
      "text/plain": [
       "<ufunc 'exp'>"
      ]
     },
     "execution_count": 115,
     "metadata": {},
     "output_type": "execute_result"
    }
   ],
   "source": [
    "np.exp# 지수함수는 무언가를 몇제곱 하는것 e**x 같은 것"
   ]
  },
  {
   "cell_type": "code",
   "execution_count": 116,
   "id": "6990b73a-35e3-4a6a-a5a8-be2bfeb5bc26",
   "metadata": {},
   "outputs": [
    {
     "data": {
      "text/plain": [
       "True"
      ]
     },
     "execution_count": 116,
     "metadata": {},
     "output_type": "execute_result"
    }
   ],
   "source": [
    "'a' in s"
   ]
  },
  {
   "cell_type": "code",
   "execution_count": 117,
   "id": "21474fb9-f9fa-4303-aae8-ec9645314e24",
   "metadata": {},
   "outputs": [],
   "source": [
    "# 딕셔너리도 시리즈 안에 들어가면 검색 할 수 있고 그럼 "
   ]
  },
  {
   "cell_type": "code",
   "execution_count": 118,
   "id": "983fefe5-d90e-47d2-b317-a6779d863929",
   "metadata": {},
   "outputs": [],
   "source": [
    "#  pd.isnull 널값이 있냐 \n",
    "# pd.notnull 널값이 없다. "
   ]
  },
  {
   "cell_type": "code",
   "execution_count": 145,
   "id": "ec4658d2-ef3c-4992-994d-04fa9f295d5a",
   "metadata": {},
   "outputs": [
    {
     "data": {
      "text/plain": [
       "California        NaN\n",
       "Ohio          35000.0\n",
       "Oregon        16000.0\n",
       "Texas         71000.0\n",
       "dtype: float64"
      ]
     },
     "execution_count": 145,
     "metadata": {},
     "output_type": "execute_result"
    }
   ],
   "source": [
    "sdata = {'Ohio': 35000, 'Texas': 71000, 'Oregon': 16000, 'Utah': 5000} \n",
    "states = ['California', 'Ohio', 'Oregon', 'Texas'] \n",
    "obj4=pd.Series(sdata, index=states)\n",
    "obj4"
   ]
  },
  {
   "cell_type": "code",
   "execution_count": 129,
   "id": "b1ae0df2-0d1b-428d-bb6b-44dba609c141",
   "metadata": {},
   "outputs": [
    {
     "data": {
      "text/plain": [
       "Ohio      35000\n",
       "Texas     71000\n",
       "Oregon    16000\n",
       "Utah       5000\n",
       "dtype: int64"
      ]
     },
     "execution_count": 129,
     "metadata": {},
     "output_type": "execute_result"
    }
   ],
   "source": [
    "obj3=pd.Series(sdata)\n",
    "obj3"
   ]
  },
  {
   "cell_type": "code",
   "execution_count": 123,
   "id": "e79bc91d-69c3-4b92-b6de-9be153291e3f",
   "metadata": {},
   "outputs": [
    {
     "data": {
      "text/plain": [
       "California     True\n",
       "Ohio          False\n",
       "Oregon        False\n",
       "Texas         False\n",
       "dtype: bool"
      ]
     },
     "execution_count": 123,
     "metadata": {},
     "output_type": "execute_result"
    }
   ],
   "source": [
    "pd.isnull(obj4)"
   ]
  },
  {
   "cell_type": "code",
   "execution_count": 125,
   "id": "253b5414-347b-444e-b51b-c18bdbde61d1",
   "metadata": {},
   "outputs": [
    {
     "data": {
      "text/plain": [
       "California     True\n",
       "Ohio          False\n",
       "Oregon        False\n",
       "Texas         False\n",
       "dtype: bool"
      ]
     },
     "execution_count": 125,
     "metadata": {},
     "output_type": "execute_result"
    }
   ],
   "source": [
    "obj4.isnull()"
   ]
  },
  {
   "cell_type": "code",
   "execution_count": 127,
   "id": "8154c542-056a-4c2d-af2d-d3adbd5a5301",
   "metadata": {},
   "outputs": [
    {
     "data": {
      "text/plain": [
       "California    False\n",
       "Ohio           True\n",
       "Oregon         True\n",
       "Texas          True\n",
       "dtype: bool"
      ]
     },
     "execution_count": 127,
     "metadata": {},
     "output_type": "execute_result"
    }
   ],
   "source": [
    "obj4.notnull()"
   ]
  },
  {
   "cell_type": "code",
   "execution_count": 133,
   "id": "f3a308f9-999f-44d2-85b0-36fe410efa57",
   "metadata": {},
   "outputs": [
    {
     "data": {
      "text/plain": [
       "California         NaN\n",
       "Ohio           70000.0\n",
       "Oregon         32000.0\n",
       "Texas         142000.0\n",
       "Utah               NaN\n",
       "dtype: float64"
      ]
     },
     "execution_count": 133,
     "metadata": {},
     "output_type": "execute_result"
    }
   ],
   "source": [
    "obj3+obj4 # 유타는 더할수없으니까 nan"
   ]
  },
  {
   "cell_type": "code",
   "execution_count": 134,
   "id": "1a4bb86e-d6a4-44c7-b514-16b382d348d7",
   "metadata": {},
   "outputs": [
    {
     "data": {
      "text/plain": [
       "Ohio      35000\n",
       "Texas     71000\n",
       "Oregon    16000\n",
       "Utah       5000\n",
       "dtype: int64"
      ]
     },
     "execution_count": 134,
     "metadata": {},
     "output_type": "execute_result"
    }
   ],
   "source": [
    "obj3 "
   ]
  },
  {
   "cell_type": "code",
   "execution_count": 146,
   "id": "55ca02e5-933f-4fb9-b8a0-11f19fa84e00",
   "metadata": {},
   "outputs": [
    {
     "data": {
      "text/plain": [
       "California        NaN\n",
       "Ohio          35000.0\n",
       "Oregon        16000.0\n",
       "Texas         71000.0\n",
       "dtype: float64"
      ]
     },
     "execution_count": 146,
     "metadata": {},
     "output_type": "execute_result"
    }
   ],
   "source": [
    "obj4"
   ]
  },
  {
   "cell_type": "code",
   "execution_count": 138,
   "id": "dd1a7b6f-c3f7-42e4-8d3c-ac9db34c3f45",
   "metadata": {},
   "outputs": [
    {
     "data": {
      "text/plain": [
       "Index(['California', 'Ohio', 'Oregon', 'Texas'], dtype='object')"
      ]
     },
     "execution_count": 138,
     "metadata": {},
     "output_type": "execute_result"
    }
   ],
   "source": [
    "obj4.index"
   ]
  },
  {
   "cell_type": "code",
   "execution_count": 147,
   "id": "35210e7a-0eaf-4e58-a6cf-ec3ffba33201",
   "metadata": {},
   "outputs": [
    {
     "data": {
      "text/plain": [
       "state\n",
       "California        NaN\n",
       "Ohio          35000.0\n",
       "Oregon        16000.0\n",
       "Texas         71000.0\n",
       "dtype: float64"
      ]
     },
     "execution_count": 147,
     "metadata": {},
     "output_type": "execute_result"
    }
   ],
   "source": [
    "obj4.index.name='state'\n",
    "obj4 # 위에 state가 붙음 "
   ]
  },
  {
   "cell_type": "code",
   "execution_count": 150,
   "id": "7330d84c-d35d-4e2d-be06-8350b13bcc88",
   "metadata": {},
   "outputs": [
    {
     "data": {
      "text/plain": [
       "state\n",
       "California        NaN\n",
       "Ohio          35000.0\n",
       "Oregon        16000.0\n",
       "Texas         71000.0\n",
       "Name: population, dtype: float64"
      ]
     },
     "execution_count": 150,
     "metadata": {},
     "output_type": "execute_result"
    }
   ],
   "source": [
    "obj4.name='population'\n",
    "obj4# 밑에 붙음"
   ]
  },
  {
   "cell_type": "code",
   "execution_count": 154,
   "id": "84638b16-050f-45c0-94bc-fd7d2493a2f1",
   "metadata": {},
   "outputs": [
    {
     "data": {
      "text/plain": [
       "a        NaN\n",
       "b    35000.0\n",
       "c    16000.0\n",
       "d    71000.0\n",
       "Name: population, dtype: float64"
      ]
     },
     "execution_count": 154,
     "metadata": {},
     "output_type": "execute_result"
    }
   ],
   "source": [
    "obj4.index= ['a','b','c','d']\n",
    "obj4"
   ]
  },
  {
   "cell_type": "code",
   "execution_count": 155,
   "id": "1f00d6ac-797f-4880-9183-d24e83367130",
   "metadata": {},
   "outputs": [
    {
     "ename": "TypeError",
     "evalue": "Index does not support mutable operations",
     "output_type": "error",
     "traceback": [
      "\u001b[1;31m---------------------------------------------------------------------------\u001b[0m",
      "\u001b[1;31mTypeError\u001b[0m                                 Traceback (most recent call last)",
      "Input \u001b[1;32mIn [155]\u001b[0m, in \u001b[0;36m<cell line: 1>\u001b[1;34m()\u001b[0m\n\u001b[1;32m----> 1\u001b[0m obj4\u001b[38;5;241m.\u001b[39mindex[\u001b[38;5;241m0\u001b[39m]\u001b[38;5;241m=\u001b[39m\u001b[38;5;124m'\u001b[39m\u001b[38;5;124mA\u001b[39m\u001b[38;5;124m'\u001b[39m\n",
      "File \u001b[1;32m~\\anaconda3\\lib\\site-packages\\pandas\\core\\indexes\\base.py:5021\u001b[0m, in \u001b[0;36mIndex.__setitem__\u001b[1;34m(self, key, value)\u001b[0m\n\u001b[0;32m   5019\u001b[0m \u001b[38;5;129m@final\u001b[39m\n\u001b[0;32m   5020\u001b[0m \u001b[38;5;28;01mdef\u001b[39;00m \u001b[38;5;21m__setitem__\u001b[39m(\u001b[38;5;28mself\u001b[39m, key, value):\n\u001b[1;32m-> 5021\u001b[0m     \u001b[38;5;28;01mraise\u001b[39;00m \u001b[38;5;167;01mTypeError\u001b[39;00m(\u001b[38;5;124m\"\u001b[39m\u001b[38;5;124mIndex does not support mutable operations\u001b[39m\u001b[38;5;124m\"\u001b[39m)\n",
      "\u001b[1;31mTypeError\u001b[0m: Index does not support mutable operations"
     ]
    }
   ],
   "source": [
    "obj4.index[0]='A' # 하나씩은 안바뀜"
   ]
  },
  {
   "cell_type": "markdown",
   "id": "39f2edfc-22cb-48f7-8067-a286bb347890",
   "metadata": {},
   "source": [
    "# DataFrame"
   ]
  },
  {
   "cell_type": "markdown",
   "id": "889f2cde-b956-4050-8dd2-22147c462fbc",
   "metadata": {},
   "source": [
    "## DataFrame 만들기"
   ]
  },
  {
   "cell_type": "code",
   "execution_count": 387,
   "id": "768d0141-50e9-4a75-b62c-6c2d80308707",
   "metadata": {},
   "outputs": [
    {
     "data": {
      "text/html": [
       "<div>\n",
       "<style scoped>\n",
       "    .dataframe tbody tr th:only-of-type {\n",
       "        vertical-align: middle;\n",
       "    }\n",
       "\n",
       "    .dataframe tbody tr th {\n",
       "        vertical-align: top;\n",
       "    }\n",
       "\n",
       "    .dataframe thead th {\n",
       "        text-align: right;\n",
       "    }\n",
       "</style>\n",
       "<table border=\"1\" class=\"dataframe\">\n",
       "  <thead>\n",
       "    <tr style=\"text-align: right;\">\n",
       "      <th></th>\n",
       "      <th>state</th>\n",
       "      <th>year</th>\n",
       "      <th>pop</th>\n",
       "    </tr>\n",
       "  </thead>\n",
       "  <tbody>\n",
       "    <tr>\n",
       "      <th>0</th>\n",
       "      <td>Ohio</td>\n",
       "      <td>2000</td>\n",
       "      <td>1.5</td>\n",
       "    </tr>\n",
       "    <tr>\n",
       "      <th>1</th>\n",
       "      <td>Ohio</td>\n",
       "      <td>2001</td>\n",
       "      <td>1.7</td>\n",
       "    </tr>\n",
       "    <tr>\n",
       "      <th>2</th>\n",
       "      <td>Ohio</td>\n",
       "      <td>2002</td>\n",
       "      <td>3.6</td>\n",
       "    </tr>\n",
       "    <tr>\n",
       "      <th>3</th>\n",
       "      <td>Nevada</td>\n",
       "      <td>2001</td>\n",
       "      <td>2.4</td>\n",
       "    </tr>\n",
       "    <tr>\n",
       "      <th>4</th>\n",
       "      <td>Nevada</td>\n",
       "      <td>2002</td>\n",
       "      <td>2.9</td>\n",
       "    </tr>\n",
       "    <tr>\n",
       "      <th>5</th>\n",
       "      <td>Nevada</td>\n",
       "      <td>2003</td>\n",
       "      <td>3.2</td>\n",
       "    </tr>\n",
       "  </tbody>\n",
       "</table>\n",
       "</div>"
      ],
      "text/plain": [
       "    state  year  pop\n",
       "0    Ohio  2000  1.5\n",
       "1    Ohio  2001  1.7\n",
       "2    Ohio  2002  3.6\n",
       "3  Nevada  2001  2.4\n",
       "4  Nevada  2002  2.9\n",
       "5  Nevada  2003  3.2"
      ]
     },
     "execution_count": 387,
     "metadata": {},
     "output_type": "execute_result"
    }
   ],
   "source": [
    "data = {'state': ['Ohio', 'Ohio', 'Ohio', 'Nevada', 'Nevada', 'Nevada'],\n",
    "        'year': [2000, 2001, 2002, 2001, 2002, 2003],\n",
    "        'pop': [1.5, 1.7, 3.6, 2.4, 2.9, 3.2]} \n",
    "frame=pd.DataFrame(data)\n",
    "frame"
   ]
  },
  {
   "cell_type": "code",
   "execution_count": 164,
   "id": "936b0378-f30c-4a09-af9b-3fdd07678d43",
   "metadata": {},
   "outputs": [
    {
     "data": {
      "text/html": [
       "<div>\n",
       "<style scoped>\n",
       "    .dataframe tbody tr th:only-of-type {\n",
       "        vertical-align: middle;\n",
       "    }\n",
       "\n",
       "    .dataframe tbody tr th {\n",
       "        vertical-align: top;\n",
       "    }\n",
       "\n",
       "    .dataframe thead th {\n",
       "        text-align: right;\n",
       "    }\n",
       "</style>\n",
       "<table border=\"1\" class=\"dataframe\">\n",
       "  <thead>\n",
       "    <tr style=\"text-align: right;\">\n",
       "      <th></th>\n",
       "      <th>year</th>\n",
       "      <th>state</th>\n",
       "      <th>pop</th>\n",
       "      <th>debt</th>\n",
       "    </tr>\n",
       "  </thead>\n",
       "  <tbody>\n",
       "    <tr>\n",
       "      <th>0</th>\n",
       "      <td>2000</td>\n",
       "      <td>Ohio</td>\n",
       "      <td>1.5</td>\n",
       "      <td>NaN</td>\n",
       "    </tr>\n",
       "    <tr>\n",
       "      <th>1</th>\n",
       "      <td>2001</td>\n",
       "      <td>Ohio</td>\n",
       "      <td>1.7</td>\n",
       "      <td>NaN</td>\n",
       "    </tr>\n",
       "    <tr>\n",
       "      <th>2</th>\n",
       "      <td>2002</td>\n",
       "      <td>Ohio</td>\n",
       "      <td>3.6</td>\n",
       "      <td>NaN</td>\n",
       "    </tr>\n",
       "    <tr>\n",
       "      <th>3</th>\n",
       "      <td>2001</td>\n",
       "      <td>Nevada</td>\n",
       "      <td>2.4</td>\n",
       "      <td>NaN</td>\n",
       "    </tr>\n",
       "    <tr>\n",
       "      <th>4</th>\n",
       "      <td>2002</td>\n",
       "      <td>Nevada</td>\n",
       "      <td>2.9</td>\n",
       "      <td>NaN</td>\n",
       "    </tr>\n",
       "    <tr>\n",
       "      <th>5</th>\n",
       "      <td>2003</td>\n",
       "      <td>Nevada</td>\n",
       "      <td>3.2</td>\n",
       "      <td>NaN</td>\n",
       "    </tr>\n",
       "  </tbody>\n",
       "</table>\n",
       "</div>"
      ],
      "text/plain": [
       "   year   state  pop debt\n",
       "0  2000    Ohio  1.5  NaN\n",
       "1  2001    Ohio  1.7  NaN\n",
       "2  2002    Ohio  3.6  NaN\n",
       "3  2001  Nevada  2.4  NaN\n",
       "4  2002  Nevada  2.9  NaN\n",
       "5  2003  Nevada  3.2  NaN"
      ]
     },
     "execution_count": 164,
     "metadata": {},
     "output_type": "execute_result"
    }
   ],
   "source": [
    "frame=pd.DataFrame(data, columns=['year', 'state', 'pop','debt'])\n",
    "frame"
   ]
  },
  {
   "cell_type": "code",
   "execution_count": 167,
   "id": "76ac6762-66b8-41a1-8124-a79f1beca6e4",
   "metadata": {},
   "outputs": [
    {
     "data": {
      "text/html": [
       "<div>\n",
       "<style scoped>\n",
       "    .dataframe tbody tr th:only-of-type {\n",
       "        vertical-align: middle;\n",
       "    }\n",
       "\n",
       "    .dataframe tbody tr th {\n",
       "        vertical-align: top;\n",
       "    }\n",
       "\n",
       "    .dataframe thead th {\n",
       "        text-align: right;\n",
       "    }\n",
       "</style>\n",
       "<table border=\"1\" class=\"dataframe\">\n",
       "  <thead>\n",
       "    <tr style=\"text-align: right;\">\n",
       "      <th></th>\n",
       "      <th>state</th>\n",
       "      <th>year</th>\n",
       "      <th>pop</th>\n",
       "      <th>debt</th>\n",
       "    </tr>\n",
       "  </thead>\n",
       "  <tbody>\n",
       "    <tr>\n",
       "      <th>0</th>\n",
       "      <td>Ohio</td>\n",
       "      <td>2000</td>\n",
       "      <td>1.5</td>\n",
       "      <td>NaN</td>\n",
       "    </tr>\n",
       "    <tr>\n",
       "      <th>1</th>\n",
       "      <td>Ohio</td>\n",
       "      <td>2001</td>\n",
       "      <td>1.7</td>\n",
       "      <td>NaN</td>\n",
       "    </tr>\n",
       "    <tr>\n",
       "      <th>2</th>\n",
       "      <td>Ohio</td>\n",
       "      <td>2002</td>\n",
       "      <td>3.6</td>\n",
       "      <td>NaN</td>\n",
       "    </tr>\n",
       "    <tr>\n",
       "      <th>3</th>\n",
       "      <td>Nevada</td>\n",
       "      <td>2001</td>\n",
       "      <td>2.4</td>\n",
       "      <td>NaN</td>\n",
       "    </tr>\n",
       "    <tr>\n",
       "      <th>4</th>\n",
       "      <td>Nevada</td>\n",
       "      <td>2002</td>\n",
       "      <td>2.9</td>\n",
       "      <td>NaN</td>\n",
       "    </tr>\n",
       "    <tr>\n",
       "      <th>5</th>\n",
       "      <td>Nevada</td>\n",
       "      <td>2003</td>\n",
       "      <td>3.2</td>\n",
       "      <td>NaN</td>\n",
       "    </tr>\n",
       "  </tbody>\n",
       "</table>\n",
       "</div>"
      ],
      "text/plain": [
       "    state  year  pop debt\n",
       "0    Ohio  2000  1.5  NaN\n",
       "1    Ohio  2001  1.7  NaN\n",
       "2    Ohio  2002  3.6  NaN\n",
       "3  Nevada  2001  2.4  NaN\n",
       "4  Nevada  2002  2.9  NaN\n",
       "5  Nevada  2003  3.2  NaN"
      ]
     },
     "execution_count": 167,
     "metadata": {},
     "output_type": "execute_result"
    }
   ],
   "source": [
    "frame=pd.DataFrame(data, columns=[ 'state', 'year', 'pop','debt'])\n",
    "frame # 칼럼의 순서를 바꿀 수 있음 "
   ]
  },
  {
   "cell_type": "markdown",
   "id": "d225c841-9701-4e70-96a7-d58c2c19f8c7",
   "metadata": {},
   "source": [
    "## 접근하기 "
   ]
  },
  {
   "cell_type": "code",
   "execution_count": 173,
   "id": "99e75a37-2043-4e15-b512-001e1d6cdaa5",
   "metadata": {},
   "outputs": [
    {
     "data": {
      "text/plain": [
       "0    2000\n",
       "1    2001\n",
       "2    2002\n",
       "3    2001\n",
       "4    2002\n",
       "5    2003\n",
       "Name: year, dtype: int64"
      ]
     },
     "execution_count": 173,
     "metadata": {},
     "output_type": "execute_result"
    }
   ],
   "source": [
    "frame['year'] # 가급적 이것을 사용하는 것이 좋음 "
   ]
  },
  {
   "cell_type": "code",
   "execution_count": 174,
   "id": "8cb55a95-fa64-4824-81f8-f20e1d39a17c",
   "metadata": {},
   "outputs": [
    {
     "data": {
      "text/plain": [
       "0    2000\n",
       "1    2001\n",
       "2    2002\n",
       "3    2001\n",
       "4    2002\n",
       "5    2003\n",
       "Name: year, dtype: int64"
      ]
     },
     "execution_count": 174,
     "metadata": {},
     "output_type": "execute_result"
    }
   ],
   "source": [
    "frame.year # 탭을 이용한 자동완성 기능 사용가능 "
   ]
  },
  {
   "cell_type": "code",
   "execution_count": 388,
   "id": "d6b6bc16-aa71-4cf2-9094-6413c07489e7",
   "metadata": {},
   "outputs": [],
   "source": [
    "df= frame.copy()"
   ]
  },
  {
   "cell_type": "code",
   "execution_count": null,
   "id": "e0f10237-91eb-47ac-a4b7-57a2b840125e",
   "metadata": {},
   "outputs": [],
   "source": [
    "df[] x"
   ]
  },
  {
   "cell_type": "code",
   "execution_count": 181,
   "id": "aae2f8c9-2ba4-4396-b963-ff2062cc0ae6",
   "metadata": {},
   "outputs": [
    {
     "data": {
      "text/plain": [
       "0      Ohio\n",
       "1      Ohio\n",
       "2      Ohio\n",
       "3    Nevada\n",
       "4    Nevada\n",
       "5    Nevada\n",
       "Name: state, dtype: object"
      ]
     },
     "execution_count": 181,
     "metadata": {},
     "output_type": "execute_result"
    }
   ],
   "source": [
    "df.loc[:,\"state\"]"
   ]
  },
  {
   "cell_type": "code",
   "execution_count": 183,
   "id": "58063ce6-ae16-4824-8171-86ebb5483aef",
   "metadata": {},
   "outputs": [
    {
     "data": {
      "text/html": [
       "<div>\n",
       "<style scoped>\n",
       "    .dataframe tbody tr th:only-of-type {\n",
       "        vertical-align: middle;\n",
       "    }\n",
       "\n",
       "    .dataframe tbody tr th {\n",
       "        vertical-align: top;\n",
       "    }\n",
       "\n",
       "    .dataframe thead th {\n",
       "        text-align: right;\n",
       "    }\n",
       "</style>\n",
       "<table border=\"1\" class=\"dataframe\">\n",
       "  <thead>\n",
       "    <tr style=\"text-align: right;\">\n",
       "      <th></th>\n",
       "      <th>state</th>\n",
       "      <th>year</th>\n",
       "    </tr>\n",
       "  </thead>\n",
       "  <tbody>\n",
       "    <tr>\n",
       "      <th>0</th>\n",
       "      <td>Ohio</td>\n",
       "      <td>2000</td>\n",
       "    </tr>\n",
       "    <tr>\n",
       "      <th>1</th>\n",
       "      <td>Ohio</td>\n",
       "      <td>2001</td>\n",
       "    </tr>\n",
       "    <tr>\n",
       "      <th>2</th>\n",
       "      <td>Ohio</td>\n",
       "      <td>2002</td>\n",
       "    </tr>\n",
       "    <tr>\n",
       "      <th>3</th>\n",
       "      <td>Nevada</td>\n",
       "      <td>2001</td>\n",
       "    </tr>\n",
       "    <tr>\n",
       "      <th>4</th>\n",
       "      <td>Nevada</td>\n",
       "      <td>2002</td>\n",
       "    </tr>\n",
       "    <tr>\n",
       "      <th>5</th>\n",
       "      <td>Nevada</td>\n",
       "      <td>2003</td>\n",
       "    </tr>\n",
       "  </tbody>\n",
       "</table>\n",
       "</div>"
      ],
      "text/plain": [
       "    state  year\n",
       "0    Ohio  2000\n",
       "1    Ohio  2001\n",
       "2    Ohio  2002\n",
       "3  Nevada  2001\n",
       "4  Nevada  2002\n",
       "5  Nevada  2003"
      ]
     },
     "execution_count": 183,
     "metadata": {},
     "output_type": "execute_result"
    }
   ],
   "source": [
    "df.loc[:,[\"state\",\"year\"]]"
   ]
  },
  {
   "cell_type": "code",
   "execution_count": 184,
   "id": "b8798ed1-47b9-450f-a44f-ab274fb6b02b",
   "metadata": {},
   "outputs": [
    {
     "data": {
      "text/html": [
       "<div>\n",
       "<style scoped>\n",
       "    .dataframe tbody tr th:only-of-type {\n",
       "        vertical-align: middle;\n",
       "    }\n",
       "\n",
       "    .dataframe tbody tr th {\n",
       "        vertical-align: top;\n",
       "    }\n",
       "\n",
       "    .dataframe thead th {\n",
       "        text-align: right;\n",
       "    }\n",
       "</style>\n",
       "<table border=\"1\" class=\"dataframe\">\n",
       "  <thead>\n",
       "    <tr style=\"text-align: right;\">\n",
       "      <th></th>\n",
       "      <th>state</th>\n",
       "    </tr>\n",
       "  </thead>\n",
       "  <tbody>\n",
       "    <tr>\n",
       "      <th>0</th>\n",
       "      <td>Ohio</td>\n",
       "    </tr>\n",
       "    <tr>\n",
       "      <th>1</th>\n",
       "      <td>Ohio</td>\n",
       "    </tr>\n",
       "    <tr>\n",
       "      <th>2</th>\n",
       "      <td>Ohio</td>\n",
       "    </tr>\n",
       "    <tr>\n",
       "      <th>3</th>\n",
       "      <td>Nevada</td>\n",
       "    </tr>\n",
       "    <tr>\n",
       "      <th>4</th>\n",
       "      <td>Nevada</td>\n",
       "    </tr>\n",
       "    <tr>\n",
       "      <th>5</th>\n",
       "      <td>Nevada</td>\n",
       "    </tr>\n",
       "  </tbody>\n",
       "</table>\n",
       "</div>"
      ],
      "text/plain": [
       "    state\n",
       "0    Ohio\n",
       "1    Ohio\n",
       "2    Ohio\n",
       "3  Nevada\n",
       "4  Nevada\n",
       "5  Nevada"
      ]
     },
     "execution_count": 184,
     "metadata": {},
     "output_type": "execute_result"
    }
   ],
   "source": [
    "df.loc[:,[\"state\"]]"
   ]
  },
  {
   "cell_type": "code",
   "execution_count": 186,
   "id": "240f1cf0-4111-40e5-a7f1-dc025a16d410",
   "metadata": {},
   "outputs": [
    {
     "data": {
      "text/html": [
       "<div>\n",
       "<style scoped>\n",
       "    .dataframe tbody tr th:only-of-type {\n",
       "        vertical-align: middle;\n",
       "    }\n",
       "\n",
       "    .dataframe tbody tr th {\n",
       "        vertical-align: top;\n",
       "    }\n",
       "\n",
       "    .dataframe thead th {\n",
       "        text-align: right;\n",
       "    }\n",
       "</style>\n",
       "<table border=\"1\" class=\"dataframe\">\n",
       "  <thead>\n",
       "    <tr style=\"text-align: right;\">\n",
       "      <th></th>\n",
       "      <th>state</th>\n",
       "      <th>year</th>\n",
       "    </tr>\n",
       "  </thead>\n",
       "  <tbody>\n",
       "    <tr>\n",
       "      <th>1</th>\n",
       "      <td>Ohio</td>\n",
       "      <td>2001</td>\n",
       "    </tr>\n",
       "    <tr>\n",
       "      <th>2</th>\n",
       "      <td>Ohio</td>\n",
       "      <td>2002</td>\n",
       "    </tr>\n",
       "    <tr>\n",
       "      <th>3</th>\n",
       "      <td>Nevada</td>\n",
       "      <td>2001</td>\n",
       "    </tr>\n",
       "  </tbody>\n",
       "</table>\n",
       "</div>"
      ],
      "text/plain": [
       "    state  year\n",
       "1    Ohio  2001\n",
       "2    Ohio  2002\n",
       "3  Nevada  2001"
      ]
     },
     "execution_count": 186,
     "metadata": {},
     "output_type": "execute_result"
    }
   ],
   "source": [
    "df.loc[1:3,[\"state\",\"year\"]] # 인덱스 번호 3 포함해서 나옴 "
   ]
  },
  {
   "cell_type": "code",
   "execution_count": 189,
   "id": "500693ab-95ff-4331-bc35-9faa79f5940c",
   "metadata": {},
   "outputs": [
    {
     "data": {
      "text/plain": [
       "0      Ohio\n",
       "1      Ohio\n",
       "2      Ohio\n",
       "3    Nevada\n",
       "4    Nevada\n",
       "5    Nevada\n",
       "Name: state, dtype: object"
      ]
     },
     "execution_count": 189,
     "metadata": {},
     "output_type": "execute_result"
    }
   ],
   "source": [
    "df.iloc[:, 0] # state나옴"
   ]
  },
  {
   "cell_type": "code",
   "execution_count": 191,
   "id": "aa3aeebd-413a-4779-89f3-514d5d520288",
   "metadata": {},
   "outputs": [
    {
     "data": {
      "text/html": [
       "<div>\n",
       "<style scoped>\n",
       "    .dataframe tbody tr th:only-of-type {\n",
       "        vertical-align: middle;\n",
       "    }\n",
       "\n",
       "    .dataframe tbody tr th {\n",
       "        vertical-align: top;\n",
       "    }\n",
       "\n",
       "    .dataframe thead th {\n",
       "        text-align: right;\n",
       "    }\n",
       "</style>\n",
       "<table border=\"1\" class=\"dataframe\">\n",
       "  <thead>\n",
       "    <tr style=\"text-align: right;\">\n",
       "      <th></th>\n",
       "      <th>state</th>\n",
       "    </tr>\n",
       "  </thead>\n",
       "  <tbody>\n",
       "    <tr>\n",
       "      <th>0</th>\n",
       "      <td>Ohio</td>\n",
       "    </tr>\n",
       "    <tr>\n",
       "      <th>1</th>\n",
       "      <td>Ohio</td>\n",
       "    </tr>\n",
       "    <tr>\n",
       "      <th>2</th>\n",
       "      <td>Ohio</td>\n",
       "    </tr>\n",
       "    <tr>\n",
       "      <th>3</th>\n",
       "      <td>Nevada</td>\n",
       "    </tr>\n",
       "    <tr>\n",
       "      <th>4</th>\n",
       "      <td>Nevada</td>\n",
       "    </tr>\n",
       "    <tr>\n",
       "      <th>5</th>\n",
       "      <td>Nevada</td>\n",
       "    </tr>\n",
       "  </tbody>\n",
       "</table>\n",
       "</div>"
      ],
      "text/plain": [
       "    state\n",
       "0    Ohio\n",
       "1    Ohio\n",
       "2    Ohio\n",
       "3  Nevada\n",
       "4  Nevada\n",
       "5  Nevada"
      ]
     },
     "execution_count": 191,
     "metadata": {},
     "output_type": "execute_result"
    }
   ],
   "source": [
    "df.iloc[:, [0]] # state나옴"
   ]
  },
  {
   "cell_type": "code",
   "execution_count": 192,
   "id": "a0490938-dee8-40c9-9186-e7e2ca10b462",
   "metadata": {},
   "outputs": [
    {
     "data": {
      "text/html": [
       "<div>\n",
       "<style scoped>\n",
       "    .dataframe tbody tr th:only-of-type {\n",
       "        vertical-align: middle;\n",
       "    }\n",
       "\n",
       "    .dataframe tbody tr th {\n",
       "        vertical-align: top;\n",
       "    }\n",
       "\n",
       "    .dataframe thead th {\n",
       "        text-align: right;\n",
       "    }\n",
       "</style>\n",
       "<table border=\"1\" class=\"dataframe\">\n",
       "  <thead>\n",
       "    <tr style=\"text-align: right;\">\n",
       "      <th></th>\n",
       "      <th>state</th>\n",
       "      <th>year</th>\n",
       "    </tr>\n",
       "  </thead>\n",
       "  <tbody>\n",
       "    <tr>\n",
       "      <th>1</th>\n",
       "      <td>Ohio</td>\n",
       "      <td>2001</td>\n",
       "    </tr>\n",
       "    <tr>\n",
       "      <th>2</th>\n",
       "      <td>Ohio</td>\n",
       "      <td>2002</td>\n",
       "    </tr>\n",
       "  </tbody>\n",
       "</table>\n",
       "</div>"
      ],
      "text/plain": [
       "  state  year\n",
       "1  Ohio  2001\n",
       "2  Ohio  2002"
      ]
     },
     "execution_count": 192,
     "metadata": {},
     "output_type": "execute_result"
    }
   ],
   "source": [
    "df.iloc[1:3, [0,1]] # state나옴"
   ]
  },
  {
   "cell_type": "code",
   "execution_count": 177,
   "id": "67df1e4d-d4ae-4d40-a113-38f91c0c266f",
   "metadata": {},
   "outputs": [
    {
     "ename": "SyntaxError",
     "evalue": "invalid syntax (3897171936.py, line 1)",
     "output_type": "error",
     "traceback": [
      "\u001b[1;36m  Input \u001b[1;32mIn [177]\u001b[1;36m\u001b[0m\n\u001b[1;33m    array[] 바로 접근가능\u001b[0m\n\u001b[1;37m          ^\u001b[0m\n\u001b[1;31mSyntaxError\u001b[0m\u001b[1;31m:\u001b[0m invalid syntax\n"
     ]
    }
   ],
   "source": [
    "array[] 바로 접근가능 \n",
    "df[] 데이터 프레임은 바로 접근 불가 \n",
    "중간에 iloc나 loc 넣어야함 "
   ]
  },
  {
   "cell_type": "code",
   "execution_count": 193,
   "id": "ebe6d153-8c45-4332-84c5-b6b752b0f8d8",
   "metadata": {},
   "outputs": [
    {
     "data": {
      "text/plain": [
       "0      Ohio\n",
       "1      Ohio\n",
       "2      Ohio\n",
       "3    Nevada\n",
       "4    Nevada\n",
       "5    Nevada\n",
       "Name: state, dtype: object"
      ]
     },
     "execution_count": 193,
     "metadata": {},
     "output_type": "execute_result"
    }
   ],
   "source": [
    "df['state'] # 열을 잡아줌 "
   ]
  },
  {
   "cell_type": "code",
   "execution_count": 195,
   "id": "ea1474c1-bb49-4246-b4d0-77d0677da3ff",
   "metadata": {},
   "outputs": [
    {
     "data": {
      "text/html": [
       "<div>\n",
       "<style scoped>\n",
       "    .dataframe tbody tr th:only-of-type {\n",
       "        vertical-align: middle;\n",
       "    }\n",
       "\n",
       "    .dataframe tbody tr th {\n",
       "        vertical-align: top;\n",
       "    }\n",
       "\n",
       "    .dataframe thead th {\n",
       "        text-align: right;\n",
       "    }\n",
       "</style>\n",
       "<table border=\"1\" class=\"dataframe\">\n",
       "  <thead>\n",
       "    <tr style=\"text-align: right;\">\n",
       "      <th></th>\n",
       "      <th>state</th>\n",
       "      <th>year</th>\n",
       "      <th>pop</th>\n",
       "    </tr>\n",
       "  </thead>\n",
       "  <tbody>\n",
       "    <tr>\n",
       "      <th>0</th>\n",
       "      <td>Ohio</td>\n",
       "      <td>2000</td>\n",
       "      <td>1.5</td>\n",
       "    </tr>\n",
       "    <tr>\n",
       "      <th>1</th>\n",
       "      <td>Ohio</td>\n",
       "      <td>2001</td>\n",
       "      <td>1.7</td>\n",
       "    </tr>\n",
       "  </tbody>\n",
       "</table>\n",
       "</div>"
      ],
      "text/plain": [
       "  state  year  pop\n",
       "0  Ohio  2000  1.5\n",
       "1  Ohio  2001  1.7"
      ]
     },
     "execution_count": 195,
     "metadata": {},
     "output_type": "execute_result"
    }
   ],
   "source": [
    "df[:2] # 행을 잡아줌 "
   ]
  },
  {
   "cell_type": "code",
   "execution_count": 209,
   "id": "ef9ae4dc-c60f-4674-8b5a-97958ad751cf",
   "metadata": {},
   "outputs": [
    {
     "data": {
      "text/plain": [
       "0    False\n",
       "1    False\n",
       "2    False\n",
       "3    False\n",
       "4    False\n",
       "5    False\n",
       "Name: state, dtype: bool"
      ]
     },
     "execution_count": 209,
     "metadata": {},
     "output_type": "execute_result"
    }
   ],
   "source": [
    "frame.state=='ohio'"
   ]
  },
  {
   "cell_type": "code",
   "execution_count": 218,
   "id": "13e1381a-ff33-4c59-82ad-5912e217413c",
   "metadata": {},
   "outputs": [],
   "source": [
    "frame['eastern']= frame.state=='Ohio' # 칼럼을 만들 떄 는 대괄호롤 접근해야 함 "
   ]
  },
  {
   "cell_type": "code",
   "execution_count": 213,
   "id": "21318d67-00dd-4c22-985b-5c5331fd7b07",
   "metadata": {},
   "outputs": [
    {
     "data": {
      "text/html": [
       "<div>\n",
       "<style scoped>\n",
       "    .dataframe tbody tr th:only-of-type {\n",
       "        vertical-align: middle;\n",
       "    }\n",
       "\n",
       "    .dataframe tbody tr th {\n",
       "        vertical-align: top;\n",
       "    }\n",
       "\n",
       "    .dataframe thead th {\n",
       "        text-align: right;\n",
       "    }\n",
       "</style>\n",
       "<table border=\"1\" class=\"dataframe\">\n",
       "  <thead>\n",
       "    <tr style=\"text-align: right;\">\n",
       "      <th></th>\n",
       "      <th>state</th>\n",
       "      <th>year</th>\n",
       "      <th>pop</th>\n",
       "      <th>eastern</th>\n",
       "    </tr>\n",
       "  </thead>\n",
       "  <tbody>\n",
       "    <tr>\n",
       "      <th>0</th>\n",
       "      <td>Ohio</td>\n",
       "      <td>2000</td>\n",
       "      <td>1.5</td>\n",
       "      <td>True</td>\n",
       "    </tr>\n",
       "    <tr>\n",
       "      <th>1</th>\n",
       "      <td>Ohio</td>\n",
       "      <td>2001</td>\n",
       "      <td>1.7</td>\n",
       "      <td>True</td>\n",
       "    </tr>\n",
       "    <tr>\n",
       "      <th>2</th>\n",
       "      <td>Ohio</td>\n",
       "      <td>2002</td>\n",
       "      <td>3.6</td>\n",
       "      <td>True</td>\n",
       "    </tr>\n",
       "    <tr>\n",
       "      <th>3</th>\n",
       "      <td>Nevada</td>\n",
       "      <td>2001</td>\n",
       "      <td>2.4</td>\n",
       "      <td>False</td>\n",
       "    </tr>\n",
       "    <tr>\n",
       "      <th>4</th>\n",
       "      <td>Nevada</td>\n",
       "      <td>2002</td>\n",
       "      <td>2.9</td>\n",
       "      <td>False</td>\n",
       "    </tr>\n",
       "    <tr>\n",
       "      <th>5</th>\n",
       "      <td>Nevada</td>\n",
       "      <td>2003</td>\n",
       "      <td>3.2</td>\n",
       "      <td>False</td>\n",
       "    </tr>\n",
       "  </tbody>\n",
       "</table>\n",
       "</div>"
      ],
      "text/plain": [
       "    state  year  pop  eastern\n",
       "0    Ohio  2000  1.5     True\n",
       "1    Ohio  2001  1.7     True\n",
       "2    Ohio  2002  3.6     True\n",
       "3  Nevada  2001  2.4    False\n",
       "4  Nevada  2002  2.9    False\n",
       "5  Nevada  2003  3.2    False"
      ]
     },
     "execution_count": 213,
     "metadata": {},
     "output_type": "execute_result"
    }
   ],
   "source": [
    "frame"
   ]
  },
  {
   "cell_type": "code",
   "execution_count": null,
   "id": "829016e6-6a93-4579-83f6-a4b0999c79ae",
   "metadata": {},
   "outputs": [],
   "source": [
    "frame.drop(columns='eastern')"
   ]
  },
  {
   "cell_type": "code",
   "execution_count": 219,
   "id": "d87c1b8b-17d7-4a54-9a86-4eff1aae0942",
   "metadata": {},
   "outputs": [],
   "source": [
    "del frame['eastern']"
   ]
  },
  {
   "cell_type": "code",
   "execution_count": 236,
   "id": "aa1af9c7-3b84-428b-a317-f2c824bbb161",
   "metadata": {},
   "outputs": [
    {
     "data": {
      "text/html": [
       "<div>\n",
       "<style scoped>\n",
       "    .dataframe tbody tr th:only-of-type {\n",
       "        vertical-align: middle;\n",
       "    }\n",
       "\n",
       "    .dataframe tbody tr th {\n",
       "        vertical-align: top;\n",
       "    }\n",
       "\n",
       "    .dataframe thead th {\n",
       "        text-align: right;\n",
       "    }\n",
       "</style>\n",
       "<table border=\"1\" class=\"dataframe\">\n",
       "  <thead>\n",
       "    <tr style=\"text-align: right;\">\n",
       "      <th></th>\n",
       "      <th>state</th>\n",
       "      <th>year</th>\n",
       "      <th>pop</th>\n",
       "    </tr>\n",
       "  </thead>\n",
       "  <tbody>\n",
       "    <tr>\n",
       "      <th>0</th>\n",
       "      <td>Ohio</td>\n",
       "      <td>2000</td>\n",
       "      <td>1.5</td>\n",
       "    </tr>\n",
       "    <tr>\n",
       "      <th>1</th>\n",
       "      <td>Ohio</td>\n",
       "      <td>2001</td>\n",
       "      <td>1.7</td>\n",
       "    </tr>\n",
       "    <tr>\n",
       "      <th>2</th>\n",
       "      <td>Ohio</td>\n",
       "      <td>2002</td>\n",
       "      <td>3.6</td>\n",
       "    </tr>\n",
       "    <tr>\n",
       "      <th>3</th>\n",
       "      <td>Nevada</td>\n",
       "      <td>2001</td>\n",
       "      <td>2.4</td>\n",
       "    </tr>\n",
       "    <tr>\n",
       "      <th>4</th>\n",
       "      <td>Nevada</td>\n",
       "      <td>2002</td>\n",
       "      <td>2.9</td>\n",
       "    </tr>\n",
       "    <tr>\n",
       "      <th>5</th>\n",
       "      <td>Nevada</td>\n",
       "      <td>2003</td>\n",
       "      <td>3.2</td>\n",
       "    </tr>\n",
       "  </tbody>\n",
       "</table>\n",
       "</div>"
      ],
      "text/plain": [
       "    state  year  pop\n",
       "0    Ohio  2000  1.5\n",
       "1    Ohio  2001  1.7\n",
       "2    Ohio  2002  3.6\n",
       "3  Nevada  2001  2.4\n",
       "4  Nevada  2002  2.9\n",
       "5  Nevada  2003  3.2"
      ]
     },
     "execution_count": 236,
     "metadata": {},
     "output_type": "execute_result"
    }
   ],
   "source": [
    "frame"
   ]
  },
  {
   "cell_type": "code",
   "execution_count": 229,
   "id": "b09ff3bd-6a5c-4720-a794-098269a84749",
   "metadata": {},
   "outputs": [
    {
     "data": {
      "text/html": [
       "<div>\n",
       "<style scoped>\n",
       "    .dataframe tbody tr th:only-of-type {\n",
       "        vertical-align: middle;\n",
       "    }\n",
       "\n",
       "    .dataframe tbody tr th {\n",
       "        vertical-align: top;\n",
       "    }\n",
       "\n",
       "    .dataframe thead th {\n",
       "        text-align: right;\n",
       "    }\n",
       "</style>\n",
       "<table border=\"1\" class=\"dataframe\">\n",
       "  <thead>\n",
       "    <tr style=\"text-align: right;\">\n",
       "      <th></th>\n",
       "      <th>0</th>\n",
       "      <th>1</th>\n",
       "      <th>2</th>\n",
       "      <th>3</th>\n",
       "      <th>4</th>\n",
       "      <th>5</th>\n",
       "    </tr>\n",
       "  </thead>\n",
       "  <tbody>\n",
       "    <tr>\n",
       "      <th>state</th>\n",
       "      <td>Ohio</td>\n",
       "      <td>Ohio</td>\n",
       "      <td>Ohio</td>\n",
       "      <td>Nevada</td>\n",
       "      <td>Nevada</td>\n",
       "      <td>Nevada</td>\n",
       "    </tr>\n",
       "    <tr>\n",
       "      <th>year</th>\n",
       "      <td>2000</td>\n",
       "      <td>2001</td>\n",
       "      <td>2002</td>\n",
       "      <td>2001</td>\n",
       "      <td>2002</td>\n",
       "      <td>2003</td>\n",
       "    </tr>\n",
       "    <tr>\n",
       "      <th>pop</th>\n",
       "      <td>1.5</td>\n",
       "      <td>1.7</td>\n",
       "      <td>3.6</td>\n",
       "      <td>2.4</td>\n",
       "      <td>2.9</td>\n",
       "      <td>3.2</td>\n",
       "    </tr>\n",
       "  </tbody>\n",
       "</table>\n",
       "</div>"
      ],
      "text/plain": [
       "          0     1     2       3       4       5\n",
       "state  Ohio  Ohio  Ohio  Nevada  Nevada  Nevada\n",
       "year   2000  2001  2002    2001    2002    2003\n",
       "pop     1.5   1.7   3.6     2.4     2.9     3.2"
      ]
     },
     "execution_count": 229,
     "metadata": {},
     "output_type": "execute_result"
    }
   ],
   "source": [
    "frame.T # 행과 렬이 바뀜"
   ]
  },
  {
   "cell_type": "code",
   "execution_count": 224,
   "id": "e43c4eb9-e0de-4522-b322-33a662ca6ab1",
   "metadata": {},
   "outputs": [
    {
     "data": {
      "text/plain": [
       "array([['Ohio', 2000, 1.5],\n",
       "       ['Ohio', 2001, 1.7],\n",
       "       ['Ohio', 2002, 3.6],\n",
       "       ['Nevada', 2001, 2.4],\n",
       "       ['Nevada', 2002, 2.9],\n",
       "       ['Nevada', 2003, 3.2]], dtype=object)"
      ]
     },
     "execution_count": 224,
     "metadata": {},
     "output_type": "execute_result"
    }
   ],
   "source": [
    "frame.values  # 데이터 프레임을 어레이로 바꾸는 방법 "
   ]
  },
  {
   "cell_type": "markdown",
   "id": "7bf6ba9c-b94d-435e-8b41-619d4c4fd402",
   "metadata": {},
   "source": [
    "## index"
   ]
  },
  {
   "cell_type": "code",
   "execution_count": 230,
   "id": "d4b807ab-a2bb-47a6-84f9-3d91deb82898",
   "metadata": {},
   "outputs": [],
   "source": [
    "#인덱스 한개 만 수정은 에러"
   ]
  },
  {
   "cell_type": "markdown",
   "id": "f5e9160b-517a-41b9-8847-5e1b0c9a7145",
   "metadata": {},
   "source": [
    "### index 중복 가능 "
   ]
  },
  {
   "cell_type": "code",
   "execution_count": 473,
   "id": "8996698e-fb4f-48ef-b06a-50e7dc956903",
   "metadata": {},
   "outputs": [
    {
     "data": {
      "text/html": [
       "<div>\n",
       "<style scoped>\n",
       "    .dataframe tbody tr th:only-of-type {\n",
       "        vertical-align: middle;\n",
       "    }\n",
       "\n",
       "    .dataframe tbody tr th {\n",
       "        vertical-align: top;\n",
       "    }\n",
       "\n",
       "    .dataframe thead th {\n",
       "        text-align: right;\n",
       "    }\n",
       "</style>\n",
       "<table border=\"1\" class=\"dataframe\">\n",
       "  <thead>\n",
       "    <tr style=\"text-align: right;\">\n",
       "      <th></th>\n",
       "      <th>state</th>\n",
       "      <th>year</th>\n",
       "      <th>pop</th>\n",
       "      <th>debt</th>\n",
       "      <th>eastern</th>\n",
       "    </tr>\n",
       "  </thead>\n",
       "  <tbody>\n",
       "    <tr>\n",
       "      <th>0</th>\n",
       "      <td>Ohio</td>\n",
       "      <td>2000</td>\n",
       "      <td>1.5</td>\n",
       "      <td>NaN</td>\n",
       "      <td>True</td>\n",
       "    </tr>\n",
       "    <tr>\n",
       "      <th>1</th>\n",
       "      <td>Ohio</td>\n",
       "      <td>2001</td>\n",
       "      <td>1.7</td>\n",
       "      <td>NaN</td>\n",
       "      <td>True</td>\n",
       "    </tr>\n",
       "    <tr>\n",
       "      <th>2</th>\n",
       "      <td>Ohio</td>\n",
       "      <td>2002</td>\n",
       "      <td>3.6</td>\n",
       "      <td>NaN</td>\n",
       "      <td>True</td>\n",
       "    </tr>\n",
       "    <tr>\n",
       "      <th>3</th>\n",
       "      <td>Nevada</td>\n",
       "      <td>2001</td>\n",
       "      <td>2.4</td>\n",
       "      <td>NaN</td>\n",
       "      <td>False</td>\n",
       "    </tr>\n",
       "    <tr>\n",
       "      <th>4</th>\n",
       "      <td>Nevada</td>\n",
       "      <td>2002</td>\n",
       "      <td>2.9</td>\n",
       "      <td>NaN</td>\n",
       "      <td>False</td>\n",
       "    </tr>\n",
       "    <tr>\n",
       "      <th>5</th>\n",
       "      <td>Nevada</td>\n",
       "      <td>2003</td>\n",
       "      <td>3.2</td>\n",
       "      <td>NaN</td>\n",
       "      <td>False</td>\n",
       "    </tr>\n",
       "  </tbody>\n",
       "</table>\n",
       "</div>"
      ],
      "text/plain": [
       "    state  year  pop debt  eastern\n",
       "0    Ohio  2000  1.5  NaN     True\n",
       "1    Ohio  2001  1.7  NaN     True\n",
       "2    Ohio  2002  3.6  NaN     True\n",
       "3  Nevada  2001  2.4  NaN    False\n",
       "4  Nevada  2002  2.9  NaN    False\n",
       "5  Nevada  2003  3.2  NaN    False"
      ]
     },
     "execution_count": 473,
     "metadata": {},
     "output_type": "execute_result"
    }
   ],
   "source": [
    "data = {'state': ['Ohio', 'Ohio', 'Ohio', 'Nevada', 'Nevada', 'Nevada'],\n",
    "        'year': [2000, 2001, 2002, 2001, 2002, 2003],\n",
    "        'pop': [1.5, 1.7, 3.6, 2.4, 2.9, 3.2]} \n",
    "frame=pd.DataFrame(data, columns=[ 'state', 'year', 'pop','debt'])\n",
    "frame['eastern']= frame.state=='Ohio'\n",
    "frame\n"
   ]
  },
  {
   "cell_type": "code",
   "execution_count": 475,
   "id": "9e971726-652e-478a-9af0-b3a980580b43",
   "metadata": {},
   "outputs": [
    {
     "data": {
      "text/html": [
       "<div>\n",
       "<style scoped>\n",
       "    .dataframe tbody tr th:only-of-type {\n",
       "        vertical-align: middle;\n",
       "    }\n",
       "\n",
       "    .dataframe tbody tr th {\n",
       "        vertical-align: top;\n",
       "    }\n",
       "\n",
       "    .dataframe thead th {\n",
       "        text-align: right;\n",
       "    }\n",
       "</style>\n",
       "<table border=\"1\" class=\"dataframe\">\n",
       "  <thead>\n",
       "    <tr style=\"text-align: right;\">\n",
       "      <th></th>\n",
       "      <th>state</th>\n",
       "      <th>year</th>\n",
       "      <th>pop</th>\n",
       "      <th>debt</th>\n",
       "      <th>eastern</th>\n",
       "    </tr>\n",
       "  </thead>\n",
       "  <tbody>\n",
       "    <tr>\n",
       "      <th>a</th>\n",
       "      <td>Ohio</td>\n",
       "      <td>2000</td>\n",
       "      <td>1.5</td>\n",
       "      <td>NaN</td>\n",
       "      <td>True</td>\n",
       "    </tr>\n",
       "    <tr>\n",
       "      <th>b</th>\n",
       "      <td>Ohio</td>\n",
       "      <td>2001</td>\n",
       "      <td>1.7</td>\n",
       "      <td>NaN</td>\n",
       "      <td>True</td>\n",
       "    </tr>\n",
       "    <tr>\n",
       "      <th>c</th>\n",
       "      <td>Ohio</td>\n",
       "      <td>2002</td>\n",
       "      <td>3.6</td>\n",
       "      <td>NaN</td>\n",
       "      <td>True</td>\n",
       "    </tr>\n",
       "    <tr>\n",
       "      <th>a</th>\n",
       "      <td>Nevada</td>\n",
       "      <td>2001</td>\n",
       "      <td>2.4</td>\n",
       "      <td>NaN</td>\n",
       "      <td>False</td>\n",
       "    </tr>\n",
       "    <tr>\n",
       "      <th>b</th>\n",
       "      <td>Nevada</td>\n",
       "      <td>2002</td>\n",
       "      <td>2.9</td>\n",
       "      <td>NaN</td>\n",
       "      <td>False</td>\n",
       "    </tr>\n",
       "    <tr>\n",
       "      <th>c</th>\n",
       "      <td>Nevada</td>\n",
       "      <td>2003</td>\n",
       "      <td>3.2</td>\n",
       "      <td>NaN</td>\n",
       "      <td>False</td>\n",
       "    </tr>\n",
       "  </tbody>\n",
       "</table>\n",
       "</div>"
      ],
      "text/plain": [
       "    state  year  pop debt  eastern\n",
       "a    Ohio  2000  1.5  NaN     True\n",
       "b    Ohio  2001  1.7  NaN     True\n",
       "c    Ohio  2002  3.6  NaN     True\n",
       "a  Nevada  2001  2.4  NaN    False\n",
       "b  Nevada  2002  2.9  NaN    False\n",
       "c  Nevada  2003  3.2  NaN    False"
      ]
     },
     "execution_count": 475,
     "metadata": {},
     "output_type": "execute_result"
    }
   ],
   "source": [
    "# 판다스는 중복되는 인덱스가 있어도됨 \n",
    "df=frame.copy()\n",
    "df.index=['a','b','c','a','b','c']\n",
    "df"
   ]
  },
  {
   "cell_type": "code",
   "execution_count": 476,
   "id": "1c27e449-8c70-42bb-8313-78e542c9a630",
   "metadata": {},
   "outputs": [
    {
     "data": {
      "text/html": [
       "<div>\n",
       "<style scoped>\n",
       "    .dataframe tbody tr th:only-of-type {\n",
       "        vertical-align: middle;\n",
       "    }\n",
       "\n",
       "    .dataframe tbody tr th {\n",
       "        vertical-align: top;\n",
       "    }\n",
       "\n",
       "    .dataframe thead th {\n",
       "        text-align: right;\n",
       "    }\n",
       "</style>\n",
       "<table border=\"1\" class=\"dataframe\">\n",
       "  <thead>\n",
       "    <tr style=\"text-align: right;\">\n",
       "      <th></th>\n",
       "      <th>state</th>\n",
       "      <th>year</th>\n",
       "      <th>pop</th>\n",
       "      <th>debt</th>\n",
       "      <th>eastern</th>\n",
       "    </tr>\n",
       "  </thead>\n",
       "  <tbody>\n",
       "    <tr>\n",
       "      <th>a</th>\n",
       "      <td>Ohio</td>\n",
       "      <td>2000</td>\n",
       "      <td>1.5</td>\n",
       "      <td>NaN</td>\n",
       "      <td>True</td>\n",
       "    </tr>\n",
       "    <tr>\n",
       "      <th>a</th>\n",
       "      <td>Nevada</td>\n",
       "      <td>2001</td>\n",
       "      <td>2.4</td>\n",
       "      <td>NaN</td>\n",
       "      <td>False</td>\n",
       "    </tr>\n",
       "  </tbody>\n",
       "</table>\n",
       "</div>"
      ],
      "text/plain": [
       "    state  year  pop debt  eastern\n",
       "a    Ohio  2000  1.5  NaN     True\n",
       "a  Nevada  2001  2.4  NaN    False"
      ]
     },
     "execution_count": 476,
     "metadata": {},
     "output_type": "execute_result"
    }
   ],
   "source": [
    "df.loc['a', :]"
   ]
  },
  {
   "cell_type": "code",
   "execution_count": 240,
   "id": "7bbeb7ef-be48-4409-883a-a70ad07034ad",
   "metadata": {},
   "outputs": [
    {
     "data": {
      "text/html": [
       "<div>\n",
       "<style scoped>\n",
       "    .dataframe tbody tr th:only-of-type {\n",
       "        vertical-align: middle;\n",
       "    }\n",
       "\n",
       "    .dataframe tbody tr th {\n",
       "        vertical-align: top;\n",
       "    }\n",
       "\n",
       "    .dataframe thead th {\n",
       "        text-align: right;\n",
       "    }\n",
       "</style>\n",
       "<table border=\"1\" class=\"dataframe\">\n",
       "  <thead>\n",
       "    <tr style=\"text-align: right;\">\n",
       "      <th></th>\n",
       "      <th>state</th>\n",
       "      <th>year</th>\n",
       "      <th>pop</th>\n",
       "    </tr>\n",
       "  </thead>\n",
       "  <tbody>\n",
       "    <tr>\n",
       "      <th>a</th>\n",
       "      <td>Ohio</td>\n",
       "      <td>2000</td>\n",
       "      <td>1.5</td>\n",
       "    </tr>\n",
       "    <tr>\n",
       "      <th>a</th>\n",
       "      <td>Nevada</td>\n",
       "      <td>2001</td>\n",
       "      <td>2.4</td>\n",
       "    </tr>\n",
       "  </tbody>\n",
       "</table>\n",
       "</div>"
      ],
      "text/plain": [
       "    state  year  pop\n",
       "a    Ohio  2000  1.5\n",
       "a  Nevada  2001  2.4"
      ]
     },
     "execution_count": 240,
     "metadata": {},
     "output_type": "execute_result"
    }
   ],
   "source": [
    "df.loc['a']\n"
   ]
  },
  {
   "cell_type": "code",
   "execution_count": 480,
   "id": "95abf58f-daa4-4726-bb0d-25ddbb56ff1a",
   "metadata": {
    "tags": []
   },
   "outputs": [
    {
     "data": {
      "text/plain": [
       "a    2000\n",
       "b    2001\n",
       "c    2002\n",
       "a    2001\n",
       "b    2002\n",
       "c    2003\n",
       "Name: year, dtype: int64"
      ]
     },
     "execution_count": 480,
     "metadata": {},
     "output_type": "execute_result"
    }
   ],
   "source": [
    "df['year']"
   ]
  },
  {
   "cell_type": "code",
   "execution_count": 482,
   "id": "4b6ae21f-ad40-49eb-81d2-19fc67aef674",
   "metadata": {
    "collapsed": true,
    "jupyter": {
     "outputs_hidden": true
    },
    "tags": []
   },
   "outputs": [
    {
     "ename": "KeyError",
     "evalue": "'a'",
     "output_type": "error",
     "traceback": [
      "\u001b[1;31m---------------------------------------------------------------------------\u001b[0m",
      "\u001b[1;31mKeyError\u001b[0m                                  Traceback (most recent call last)",
      "File \u001b[1;32m~\\anaconda3\\lib\\site-packages\\pandas\\core\\indexes\\base.py:3621\u001b[0m, in \u001b[0;36mIndex.get_loc\u001b[1;34m(self, key, method, tolerance)\u001b[0m\n\u001b[0;32m   3620\u001b[0m \u001b[38;5;28;01mtry\u001b[39;00m:\n\u001b[1;32m-> 3621\u001b[0m     \u001b[38;5;28;01mreturn\u001b[39;00m \u001b[38;5;28;43mself\u001b[39;49m\u001b[38;5;241;43m.\u001b[39;49m\u001b[43m_engine\u001b[49m\u001b[38;5;241;43m.\u001b[39;49m\u001b[43mget_loc\u001b[49m\u001b[43m(\u001b[49m\u001b[43mcasted_key\u001b[49m\u001b[43m)\u001b[49m\n\u001b[0;32m   3622\u001b[0m \u001b[38;5;28;01mexcept\u001b[39;00m \u001b[38;5;167;01mKeyError\u001b[39;00m \u001b[38;5;28;01mas\u001b[39;00m err:\n",
      "File \u001b[1;32m~\\anaconda3\\lib\\site-packages\\pandas\\_libs\\index.pyx:136\u001b[0m, in \u001b[0;36mpandas._libs.index.IndexEngine.get_loc\u001b[1;34m()\u001b[0m\n",
      "File \u001b[1;32m~\\anaconda3\\lib\\site-packages\\pandas\\_libs\\index.pyx:163\u001b[0m, in \u001b[0;36mpandas._libs.index.IndexEngine.get_loc\u001b[1;34m()\u001b[0m\n",
      "File \u001b[1;32mpandas\\_libs\\hashtable_class_helper.pxi:5198\u001b[0m, in \u001b[0;36mpandas._libs.hashtable.PyObjectHashTable.get_item\u001b[1;34m()\u001b[0m\n",
      "File \u001b[1;32mpandas\\_libs\\hashtable_class_helper.pxi:5206\u001b[0m, in \u001b[0;36mpandas._libs.hashtable.PyObjectHashTable.get_item\u001b[1;34m()\u001b[0m\n",
      "\u001b[1;31mKeyError\u001b[0m: 'a'",
      "\nThe above exception was the direct cause of the following exception:\n",
      "\u001b[1;31mKeyError\u001b[0m                                  Traceback (most recent call last)",
      "Input \u001b[1;32mIn [482]\u001b[0m, in \u001b[0;36m<cell line: 1>\u001b[1;34m()\u001b[0m\n\u001b[1;32m----> 1\u001b[0m \u001b[43mdf\u001b[49m\u001b[43m[\u001b[49m\u001b[38;5;124;43m'\u001b[39;49m\u001b[38;5;124;43ma\u001b[39;49m\u001b[38;5;124;43m'\u001b[39;49m\u001b[43m]\u001b[49m\n",
      "File \u001b[1;32m~\\anaconda3\\lib\\site-packages\\pandas\\core\\frame.py:3505\u001b[0m, in \u001b[0;36mDataFrame.__getitem__\u001b[1;34m(self, key)\u001b[0m\n\u001b[0;32m   3503\u001b[0m \u001b[38;5;28;01mif\u001b[39;00m \u001b[38;5;28mself\u001b[39m\u001b[38;5;241m.\u001b[39mcolumns\u001b[38;5;241m.\u001b[39mnlevels \u001b[38;5;241m>\u001b[39m \u001b[38;5;241m1\u001b[39m:\n\u001b[0;32m   3504\u001b[0m     \u001b[38;5;28;01mreturn\u001b[39;00m \u001b[38;5;28mself\u001b[39m\u001b[38;5;241m.\u001b[39m_getitem_multilevel(key)\n\u001b[1;32m-> 3505\u001b[0m indexer \u001b[38;5;241m=\u001b[39m \u001b[38;5;28;43mself\u001b[39;49m\u001b[38;5;241;43m.\u001b[39;49m\u001b[43mcolumns\u001b[49m\u001b[38;5;241;43m.\u001b[39;49m\u001b[43mget_loc\u001b[49m\u001b[43m(\u001b[49m\u001b[43mkey\u001b[49m\u001b[43m)\u001b[49m\n\u001b[0;32m   3506\u001b[0m \u001b[38;5;28;01mif\u001b[39;00m is_integer(indexer):\n\u001b[0;32m   3507\u001b[0m     indexer \u001b[38;5;241m=\u001b[39m [indexer]\n",
      "File \u001b[1;32m~\\anaconda3\\lib\\site-packages\\pandas\\core\\indexes\\base.py:3623\u001b[0m, in \u001b[0;36mIndex.get_loc\u001b[1;34m(self, key, method, tolerance)\u001b[0m\n\u001b[0;32m   3621\u001b[0m     \u001b[38;5;28;01mreturn\u001b[39;00m \u001b[38;5;28mself\u001b[39m\u001b[38;5;241m.\u001b[39m_engine\u001b[38;5;241m.\u001b[39mget_loc(casted_key)\n\u001b[0;32m   3622\u001b[0m \u001b[38;5;28;01mexcept\u001b[39;00m \u001b[38;5;167;01mKeyError\u001b[39;00m \u001b[38;5;28;01mas\u001b[39;00m err:\n\u001b[1;32m-> 3623\u001b[0m     \u001b[38;5;28;01mraise\u001b[39;00m \u001b[38;5;167;01mKeyError\u001b[39;00m(key) \u001b[38;5;28;01mfrom\u001b[39;00m \u001b[38;5;21;01merr\u001b[39;00m\n\u001b[0;32m   3624\u001b[0m \u001b[38;5;28;01mexcept\u001b[39;00m \u001b[38;5;167;01mTypeError\u001b[39;00m:\n\u001b[0;32m   3625\u001b[0m     \u001b[38;5;66;03m# If we have a listlike key, _check_indexing_error will raise\u001b[39;00m\n\u001b[0;32m   3626\u001b[0m     \u001b[38;5;66;03m#  InvalidIndexError. Otherwise we fall through and re-raise\u001b[39;00m\n\u001b[0;32m   3627\u001b[0m     \u001b[38;5;66;03m#  the TypeError.\u001b[39;00m\n\u001b[0;32m   3628\u001b[0m     \u001b[38;5;28mself\u001b[39m\u001b[38;5;241m.\u001b[39m_check_indexing_error(key)\n",
      "\u001b[1;31mKeyError\u001b[0m: 'a'"
     ]
    }
   ],
   "source": [
    "df['a'] # 바로 행으로는 안된다. "
   ]
  },
  {
   "cell_type": "code",
   "execution_count": 484,
   "id": "6d5132d9-47df-4e4f-b701-05c513739e43",
   "metadata": {},
   "outputs": [
    {
     "data": {
      "text/plain": [
       "-5.3"
      ]
     },
     "execution_count": 484,
     "metadata": {},
     "output_type": "execute_result"
    }
   ],
   "source": [
    "obj = pd.Series([4.5, 7.2, -5.3, 3.6], index=['d', 'b', 'a', 'c']) \n",
    "obj['a'] # 시리즈는 바로 행으로 접근 가능"
   ]
  },
  {
   "cell_type": "markdown",
   "id": "7462adf5-0b6f-4031-ae53-d1eab7238581",
   "metadata": {},
   "source": [
    "### reindex()"
   ]
  },
  {
   "cell_type": "code",
   "execution_count": 483,
   "id": "11778db4-67e1-4755-b118-8fe09e1c671e",
   "metadata": {},
   "outputs": [
    {
     "data": {
      "text/plain": [
       "d    4.5\n",
       "b    7.2\n",
       "a   -5.3\n",
       "c    3.6\n",
       "dtype: float64"
      ]
     },
     "execution_count": 483,
     "metadata": {},
     "output_type": "execute_result"
    }
   ],
   "source": [
    "obj = pd.Series([4.5, 7.2, -5.3, 3.6], index=['d', 'b', 'a', 'c']) \n",
    "obj"
   ]
  },
  {
   "cell_type": "code",
   "execution_count": 245,
   "id": "bd9a18bb-f401-43e2-8a1a-a10903851321",
   "metadata": {},
   "outputs": [
    {
     "data": {
      "text/plain": [
       "0   NaN\n",
       "1   NaN\n",
       "2   NaN\n",
       "3   NaN\n",
       "dtype: float64"
      ]
     },
     "execution_count": 245,
     "metadata": {},
     "output_type": "execute_result"
    }
   ],
   "source": [
    "obj.reindex(range(4))"
   ]
  },
  {
   "cell_type": "code",
   "execution_count": 246,
   "id": "100ba6d8-0c47-4343-b942-0689523597a2",
   "metadata": {},
   "outputs": [
    {
     "data": {
      "text/plain": [
       "a   -5.3\n",
       "b    7.2\n",
       "dtype: float64"
      ]
     },
     "execution_count": 246,
     "metadata": {},
     "output_type": "execute_result"
    }
   ],
   "source": [
    "obj.reindex(['a','b']) # 순서가 a b "
   ]
  },
  {
   "cell_type": "code",
   "execution_count": 248,
   "id": "c240b7fd-6ba5-4df2-94bd-d243dcca71f2",
   "metadata": {},
   "outputs": [
    {
     "data": {
      "text/plain": [
       "a   -5.3\n",
       "b    7.2\n",
       "c    3.6\n",
       "d    4.5\n",
       "e    NaN\n",
       "dtype: float64"
      ]
     },
     "execution_count": 248,
     "metadata": {},
     "output_type": "execute_result"
    }
   ],
   "source": [
    "obj.reindex(['a','b','c','d','e']) # 순서 바꾸기  덮어쓰는게 아니라 없는 것은 nan"
   ]
  },
  {
   "cell_type": "code",
   "execution_count": 249,
   "id": "cf23b2b8-7722-4011-8418-6a2af9b27aa9",
   "metadata": {},
   "outputs": [
    {
     "ename": "NameError",
     "evalue": "name 'ffill' is not defined",
     "output_type": "error",
     "traceback": [
      "\u001b[1;31m---------------------------------------------------------------------------\u001b[0m",
      "\u001b[1;31mNameError\u001b[0m                                 Traceback (most recent call last)",
      "Input \u001b[1;32mIn [249]\u001b[0m, in \u001b[0;36m<cell line: 1>\u001b[1;34m()\u001b[0m\n\u001b[1;32m----> 1\u001b[0m \u001b[43mffill\u001b[49m\n",
      "\u001b[1;31mNameError\u001b[0m: name 'ffill' is not defined"
     ]
    }
   ],
   "source": [
    "ffill # forward fill 위에꺼 받아서 채움 "
   ]
  },
  {
   "cell_type": "markdown",
   "id": "bd7ad5a9-50ff-4aad-bbcc-77e708efcc95",
   "metadata": {},
   "source": [
    "## 데이터 지우기"
   ]
  },
  {
   "cell_type": "code",
   "execution_count": 252,
   "id": "d1ce185b-0577-406f-ba62-cb6bbd49b6d4",
   "metadata": {},
   "outputs": [
    {
     "data": {
      "text/plain": [
       "d    4.5\n",
       "b    7.2\n",
       "a   -5.3\n",
       "c    3.6\n",
       "dtype: float64"
      ]
     },
     "execution_count": 252,
     "metadata": {},
     "output_type": "execute_result"
    }
   ],
   "source": [
    "obj"
   ]
  },
  {
   "cell_type": "code",
   "execution_count": 253,
   "id": "cfcee7ee-fb9e-44d4-9d3f-bc0f05afcac0",
   "metadata": {},
   "outputs": [
    {
     "data": {
      "text/plain": [
       "d    4.5\n",
       "b    7.2\n",
       "c    3.6\n",
       "dtype: float64"
      ]
     },
     "execution_count": 253,
     "metadata": {},
     "output_type": "execute_result"
    }
   ],
   "source": [
    "obj.drop('a') # 드랍이라는 함수는 axis=0 로우 행을 삭제한다. "
   ]
  },
  {
   "cell_type": "code",
   "execution_count": 257,
   "id": "065e6f75-20cf-4609-9720-07532fc9e4f7",
   "metadata": {},
   "outputs": [
    {
     "data": {
      "text/html": [
       "<div>\n",
       "<style scoped>\n",
       "    .dataframe tbody tr th:only-of-type {\n",
       "        vertical-align: middle;\n",
       "    }\n",
       "\n",
       "    .dataframe tbody tr th {\n",
       "        vertical-align: top;\n",
       "    }\n",
       "\n",
       "    .dataframe thead th {\n",
       "        text-align: right;\n",
       "    }\n",
       "</style>\n",
       "<table border=\"1\" class=\"dataframe\">\n",
       "  <thead>\n",
       "    <tr style=\"text-align: right;\">\n",
       "      <th></th>\n",
       "      <th>state</th>\n",
       "      <th>year</th>\n",
       "      <th>pop</th>\n",
       "    </tr>\n",
       "  </thead>\n",
       "  <tbody>\n",
       "    <tr>\n",
       "      <th>a</th>\n",
       "      <td>Ohio</td>\n",
       "      <td>2000</td>\n",
       "      <td>1.5</td>\n",
       "    </tr>\n",
       "    <tr>\n",
       "      <th>b</th>\n",
       "      <td>Ohio</td>\n",
       "      <td>2001</td>\n",
       "      <td>1.7</td>\n",
       "    </tr>\n",
       "    <tr>\n",
       "      <th>c</th>\n",
       "      <td>Ohio</td>\n",
       "      <td>2002</td>\n",
       "      <td>3.6</td>\n",
       "    </tr>\n",
       "    <tr>\n",
       "      <th>a</th>\n",
       "      <td>Nevada</td>\n",
       "      <td>2001</td>\n",
       "      <td>2.4</td>\n",
       "    </tr>\n",
       "    <tr>\n",
       "      <th>b</th>\n",
       "      <td>Nevada</td>\n",
       "      <td>2002</td>\n",
       "      <td>2.9</td>\n",
       "    </tr>\n",
       "    <tr>\n",
       "      <th>c</th>\n",
       "      <td>Nevada</td>\n",
       "      <td>2003</td>\n",
       "      <td>3.2</td>\n",
       "    </tr>\n",
       "  </tbody>\n",
       "</table>\n",
       "</div>"
      ],
      "text/plain": [
       "    state  year  pop\n",
       "a    Ohio  2000  1.5\n",
       "b    Ohio  2001  1.7\n",
       "c    Ohio  2002  3.6\n",
       "a  Nevada  2001  2.4\n",
       "b  Nevada  2002  2.9\n",
       "c  Nevada  2003  3.2"
      ]
     },
     "execution_count": 257,
     "metadata": {},
     "output_type": "execute_result"
    }
   ],
   "source": [
    "df"
   ]
  },
  {
   "cell_type": "code",
   "execution_count": 256,
   "id": "206ea83c-193a-47cc-9d0c-087b3a5b2fc2",
   "metadata": {},
   "outputs": [
    {
     "data": {
      "text/html": [
       "<div>\n",
       "<style scoped>\n",
       "    .dataframe tbody tr th:only-of-type {\n",
       "        vertical-align: middle;\n",
       "    }\n",
       "\n",
       "    .dataframe tbody tr th {\n",
       "        vertical-align: top;\n",
       "    }\n",
       "\n",
       "    .dataframe thead th {\n",
       "        text-align: right;\n",
       "    }\n",
       "</style>\n",
       "<table border=\"1\" class=\"dataframe\">\n",
       "  <thead>\n",
       "    <tr style=\"text-align: right;\">\n",
       "      <th></th>\n",
       "      <th>state</th>\n",
       "      <th>year</th>\n",
       "      <th>pop</th>\n",
       "    </tr>\n",
       "  </thead>\n",
       "  <tbody>\n",
       "    <tr>\n",
       "      <th>b</th>\n",
       "      <td>Ohio</td>\n",
       "      <td>2001</td>\n",
       "      <td>1.7</td>\n",
       "    </tr>\n",
       "    <tr>\n",
       "      <th>c</th>\n",
       "      <td>Ohio</td>\n",
       "      <td>2002</td>\n",
       "      <td>3.6</td>\n",
       "    </tr>\n",
       "    <tr>\n",
       "      <th>b</th>\n",
       "      <td>Nevada</td>\n",
       "      <td>2002</td>\n",
       "      <td>2.9</td>\n",
       "    </tr>\n",
       "    <tr>\n",
       "      <th>c</th>\n",
       "      <td>Nevada</td>\n",
       "      <td>2003</td>\n",
       "      <td>3.2</td>\n",
       "    </tr>\n",
       "  </tbody>\n",
       "</table>\n",
       "</div>"
      ],
      "text/plain": [
       "    state  year  pop\n",
       "b    Ohio  2001  1.7\n",
       "c    Ohio  2002  3.6\n",
       "b  Nevada  2002  2.9\n",
       "c  Nevada  2003  3.2"
      ]
     },
     "execution_count": 256,
     "metadata": {},
     "output_type": "execute_result"
    }
   ],
   "source": [
    "df.drop('a', axis=0)"
   ]
  },
  {
   "cell_type": "code",
   "execution_count": 258,
   "id": "ba11da0a-49fc-4f81-a19a-7c423fa613ec",
   "metadata": {},
   "outputs": [
    {
     "data": {
      "text/html": [
       "<div>\n",
       "<style scoped>\n",
       "    .dataframe tbody tr th:only-of-type {\n",
       "        vertical-align: middle;\n",
       "    }\n",
       "\n",
       "    .dataframe tbody tr th {\n",
       "        vertical-align: top;\n",
       "    }\n",
       "\n",
       "    .dataframe thead th {\n",
       "        text-align: right;\n",
       "    }\n",
       "</style>\n",
       "<table border=\"1\" class=\"dataframe\">\n",
       "  <thead>\n",
       "    <tr style=\"text-align: right;\">\n",
       "      <th></th>\n",
       "      <th>year</th>\n",
       "      <th>pop</th>\n",
       "    </tr>\n",
       "  </thead>\n",
       "  <tbody>\n",
       "    <tr>\n",
       "      <th>a</th>\n",
       "      <td>2000</td>\n",
       "      <td>1.5</td>\n",
       "    </tr>\n",
       "    <tr>\n",
       "      <th>b</th>\n",
       "      <td>2001</td>\n",
       "      <td>1.7</td>\n",
       "    </tr>\n",
       "    <tr>\n",
       "      <th>c</th>\n",
       "      <td>2002</td>\n",
       "      <td>3.6</td>\n",
       "    </tr>\n",
       "    <tr>\n",
       "      <th>a</th>\n",
       "      <td>2001</td>\n",
       "      <td>2.4</td>\n",
       "    </tr>\n",
       "    <tr>\n",
       "      <th>b</th>\n",
       "      <td>2002</td>\n",
       "      <td>2.9</td>\n",
       "    </tr>\n",
       "    <tr>\n",
       "      <th>c</th>\n",
       "      <td>2003</td>\n",
       "      <td>3.2</td>\n",
       "    </tr>\n",
       "  </tbody>\n",
       "</table>\n",
       "</div>"
      ],
      "text/plain": [
       "   year  pop\n",
       "a  2000  1.5\n",
       "b  2001  1.7\n",
       "c  2002  3.6\n",
       "a  2001  2.4\n",
       "b  2002  2.9\n",
       "c  2003  3.2"
      ]
     },
     "execution_count": 258,
     "metadata": {},
     "output_type": "execute_result"
    }
   ],
   "source": [
    "df.drop('state', axis=1)"
   ]
  },
  {
   "cell_type": "code",
   "execution_count": 259,
   "id": "e98e89b3-c35e-41ef-8f61-de5a55a44b21",
   "metadata": {},
   "outputs": [
    {
     "data": {
      "text/plain": [
       "d    4.5\n",
       "b    7.2\n",
       "a   -5.3\n",
       "c    3.6\n",
       "dtype: float64"
      ]
     },
     "execution_count": 259,
     "metadata": {},
     "output_type": "execute_result"
    }
   ],
   "source": [
    "obj"
   ]
  },
  {
   "cell_type": "code",
   "execution_count": 260,
   "id": "6ea9ae36-f0ae-4ad8-85ad-0886543879a5",
   "metadata": {},
   "outputs": [
    {
     "data": {
      "text/plain": [
       "-5.3"
      ]
     },
     "execution_count": 260,
     "metadata": {},
     "output_type": "execute_result"
    }
   ],
   "source": [
    "obj['a']"
   ]
  },
  {
   "cell_type": "code",
   "execution_count": 261,
   "id": "b4b5349b-cf2a-4e67-9465-00a14b36e81d",
   "metadata": {},
   "outputs": [
    {
     "data": {
      "text/plain": [
       "a   -5.3\n",
       "b    7.2\n",
       "dtype: float64"
      ]
     },
     "execution_count": 261,
     "metadata": {},
     "output_type": "execute_result"
    }
   ],
   "source": [
    "obj[['a','b']]"
   ]
  },
  {
   "cell_type": "code",
   "execution_count": 262,
   "id": "e3b0d13d-8b90-42dd-8ff9-ed20880428d3",
   "metadata": {},
   "outputs": [
    {
     "data": {
      "text/plain": [
       "d    4.5\n",
       "b    7.2\n",
       "c    3.6\n",
       "dtype: float64"
      ]
     },
     "execution_count": 262,
     "metadata": {},
     "output_type": "execute_result"
    }
   ],
   "source": [
    "obj[obj>0]"
   ]
  },
  {
   "cell_type": "code",
   "execution_count": 263,
   "id": "2442ae76-27fc-4dd9-92ec-6a148727e828",
   "metadata": {},
   "outputs": [
    {
     "data": {
      "text/plain": [
       "d     True\n",
       "b     True\n",
       "a    False\n",
       "c     True\n",
       "dtype: bool"
      ]
     },
     "execution_count": 263,
     "metadata": {},
     "output_type": "execute_result"
    }
   ],
   "source": [
    "obj>0"
   ]
  },
  {
   "cell_type": "code",
   "execution_count": 270,
   "id": "d1f4f4d0-86be-4c51-a7db-6844f70f74e2",
   "metadata": {},
   "outputs": [],
   "source": [
    "obj=obj.reindex(['a','b','c','d'])"
   ]
  },
  {
   "cell_type": "code",
   "execution_count": 272,
   "id": "d9a43045-52c9-41a0-80e8-24fd7c3b69af",
   "metadata": {},
   "outputs": [
    {
     "data": {
      "text/plain": [
       "a   -5.3\n",
       "b    7.2\n",
       "c    3.6\n",
       "dtype: float64"
      ]
     },
     "execution_count": 272,
     "metadata": {},
     "output_type": "execute_result"
    }
   ],
   "source": [
    "obj['a':'c']"
   ]
  },
  {
   "cell_type": "code",
   "execution_count": 274,
   "id": "2b1524bd-7681-4fb7-a9b8-e0fc4c2a1ac6",
   "metadata": {},
   "outputs": [
    {
     "data": {
      "text/plain": [
       "a   -5.3\n",
       "b    7.2\n",
       "c    3.6\n",
       "dtype: float64"
      ]
     },
     "execution_count": 274,
     "metadata": {},
     "output_type": "execute_result"
    }
   ],
   "source": [
    "obj[:3]"
   ]
  },
  {
   "cell_type": "code",
   "execution_count": 485,
   "id": "d608d1c5-cf8f-4597-b168-d9f3af258050",
   "metadata": {},
   "outputs": [],
   "source": [
    "frame = pd.DataFrame(np.random.randn(4, 3), columns=list('bde'),\n",
    "                  index=['Utah', 'Ohio', 'Texas', 'Oregon']) \n"
   ]
  },
  {
   "cell_type": "code",
   "execution_count": 486,
   "id": "162eb316-3278-4129-8f71-a7e5bf8ebc5e",
   "metadata": {},
   "outputs": [
    {
     "data": {
      "text/html": [
       "<div>\n",
       "<style scoped>\n",
       "    .dataframe tbody tr th:only-of-type {\n",
       "        vertical-align: middle;\n",
       "    }\n",
       "\n",
       "    .dataframe tbody tr th {\n",
       "        vertical-align: top;\n",
       "    }\n",
       "\n",
       "    .dataframe thead th {\n",
       "        text-align: right;\n",
       "    }\n",
       "</style>\n",
       "<table border=\"1\" class=\"dataframe\">\n",
       "  <thead>\n",
       "    <tr style=\"text-align: right;\">\n",
       "      <th></th>\n",
       "      <th>b</th>\n",
       "      <th>d</th>\n",
       "      <th>e</th>\n",
       "    </tr>\n",
       "  </thead>\n",
       "  <tbody>\n",
       "    <tr>\n",
       "      <th>Utah</th>\n",
       "      <td>-0.704252</td>\n",
       "      <td>-0.240483</td>\n",
       "      <td>0.585599</td>\n",
       "    </tr>\n",
       "    <tr>\n",
       "      <th>Ohio</th>\n",
       "      <td>0.352801</td>\n",
       "      <td>-1.815558</td>\n",
       "      <td>-0.910124</td>\n",
       "    </tr>\n",
       "    <tr>\n",
       "      <th>Texas</th>\n",
       "      <td>-0.748528</td>\n",
       "      <td>-0.108125</td>\n",
       "      <td>0.274779</td>\n",
       "    </tr>\n",
       "    <tr>\n",
       "      <th>Oregon</th>\n",
       "      <td>0.237350</td>\n",
       "      <td>-0.259844</td>\n",
       "      <td>-0.312442</td>\n",
       "    </tr>\n",
       "  </tbody>\n",
       "</table>\n",
       "</div>"
      ],
      "text/plain": [
       "               b         d         e\n",
       "Utah   -0.704252 -0.240483  0.585599\n",
       "Ohio    0.352801 -1.815558 -0.910124\n",
       "Texas  -0.748528 -0.108125  0.274779\n",
       "Oregon  0.237350 -0.259844 -0.312442"
      ]
     },
     "execution_count": 486,
     "metadata": {},
     "output_type": "execute_result"
    }
   ],
   "source": [
    "frame"
   ]
  },
  {
   "cell_type": "code",
   "execution_count": 399,
   "id": "b1576b73-8d30-4206-a869-03889c0093f4",
   "metadata": {},
   "outputs": [
    {
     "data": {
      "text/html": [
       "<div>\n",
       "<style scoped>\n",
       "    .dataframe tbody tr th:only-of-type {\n",
       "        vertical-align: middle;\n",
       "    }\n",
       "\n",
       "    .dataframe tbody tr th {\n",
       "        vertical-align: top;\n",
       "    }\n",
       "\n",
       "    .dataframe thead th {\n",
       "        text-align: right;\n",
       "    }\n",
       "</style>\n",
       "<table border=\"1\" class=\"dataframe\">\n",
       "  <thead>\n",
       "    <tr style=\"text-align: right;\">\n",
       "      <th></th>\n",
       "      <th>b</th>\n",
       "      <th>d</th>\n",
       "      <th>e</th>\n",
       "    </tr>\n",
       "  </thead>\n",
       "  <tbody>\n",
       "    <tr>\n",
       "      <th>Utah</th>\n",
       "      <td>0.355839</td>\n",
       "      <td>1.270063</td>\n",
       "      <td>0.195472</td>\n",
       "    </tr>\n",
       "    <tr>\n",
       "      <th>Ohio</th>\n",
       "      <td>0.463419</td>\n",
       "      <td>0.989415</td>\n",
       "      <td>1.388647</td>\n",
       "    </tr>\n",
       "    <tr>\n",
       "      <th>Texas</th>\n",
       "      <td>1.087714</td>\n",
       "      <td>0.438801</td>\n",
       "      <td>0.961602</td>\n",
       "    </tr>\n",
       "    <tr>\n",
       "      <th>Oregon</th>\n",
       "      <td>1.245610</td>\n",
       "      <td>0.502926</td>\n",
       "      <td>0.631399</td>\n",
       "    </tr>\n",
       "  </tbody>\n",
       "</table>\n",
       "</div>"
      ],
      "text/plain": [
       "               b         d         e\n",
       "Utah    0.355839  1.270063  0.195472\n",
       "Ohio    0.463419  0.989415  1.388647\n",
       "Texas   1.087714  0.438801  0.961602\n",
       "Oregon  1.245610  0.502926  0.631399"
      ]
     },
     "execution_count": 399,
     "metadata": {},
     "output_type": "execute_result"
    }
   ],
   "source": [
    "frame=np.abs(frame)\n",
    "frame"
   ]
  },
  {
   "cell_type": "code",
   "execution_count": 400,
   "id": "f5f1a831-9f4a-44f5-a140-819fab720ede",
   "metadata": {},
   "outputs": [
    {
     "data": {
      "text/plain": [
       "b    3.152582\n",
       "d    3.201205\n",
       "e    3.177121\n",
       "dtype: float64"
      ]
     },
     "execution_count": 400,
     "metadata": {},
     "output_type": "execute_result"
    }
   ],
   "source": [
    "frame.apply(sum) # axis  =0이 디폴트 값임 "
   ]
  },
  {
   "cell_type": "code",
   "execution_count": 490,
   "id": "54d893c1-0d9c-4656-8063-19ef369e9f16",
   "metadata": {},
   "outputs": [
    {
     "data": {
      "text/plain": [
       "Utah     -0.359135\n",
       "Ohio     -2.372881\n",
       "Texas    -0.581874\n",
       "Oregon   -0.334936\n",
       "dtype: float64"
      ]
     },
     "execution_count": 490,
     "metadata": {},
     "output_type": "execute_result"
    }
   ],
   "source": [
    "frame.apply(sum, axis=1)  # 수평의 합은 1"
   ]
  },
  {
   "cell_type": "code",
   "execution_count": 488,
   "id": "7a033be8-6c82-47dd-86a7-db6522e614c0",
   "metadata": {},
   "outputs": [
    {
     "data": {
      "text/plain": [
       "b   -0.215657\n",
       "d   -0.606002\n",
       "e   -0.090547\n",
       "dtype: float64"
      ]
     },
     "execution_count": 488,
     "metadata": {},
     "output_type": "execute_result"
    }
   ],
   "source": [
    "frame.apply(np.mean)"
   ]
  },
  {
   "cell_type": "code",
   "execution_count": 491,
   "id": "dec793b8-6a42-4b29-b9b7-43485675be3d",
   "metadata": {},
   "outputs": [
    {
     "data": {
      "text/plain": [
       "b   -0.862630\n",
       "d   -2.424009\n",
       "e   -0.362188\n",
       "dtype: float64"
      ]
     },
     "execution_count": 491,
     "metadata": {},
     "output_type": "execute_result"
    }
   ],
   "source": [
    "frame.sum() # 기본값이 열의 평균임 "
   ]
  },
  {
   "cell_type": "code",
   "execution_count": 404,
   "id": "392d684b-9fb7-4d0b-9dc4-c3b67d365c99",
   "metadata": {},
   "outputs": [
    {
     "data": {
      "text/plain": [
       "b    0.788146\n",
       "d    0.800301\n",
       "e    0.794280\n",
       "dtype: float64"
      ]
     },
     "execution_count": 404,
     "metadata": {},
     "output_type": "execute_result"
    }
   ],
   "source": [
    "frame.mean()"
   ]
  },
  {
   "cell_type": "code",
   "execution_count": 405,
   "id": "f98ee2bb-019c-44d7-8604-a96b86496b09",
   "metadata": {},
   "outputs": [
    {
     "data": {
      "text/plain": [
       "b    1.245610\n",
       "d    1.270063\n",
       "e    1.388647\n",
       "dtype: float64"
      ]
     },
     "execution_count": 405,
     "metadata": {},
     "output_type": "execute_result"
    }
   ],
   "source": [
    "frame.max()"
   ]
  },
  {
   "cell_type": "code",
   "execution_count": 329,
   "id": "5529dead-0308-4185-a5eb-279f1a86b4cb",
   "metadata": {},
   "outputs": [
    {
     "data": {
      "text/plain": [
       "b    0.711023\n",
       "d    0.393510\n",
       "e    0.548454\n",
       "dtype: float64"
      ]
     },
     "execution_count": 329,
     "metadata": {},
     "output_type": "execute_result"
    }
   ],
   "source": [
    "frame.min()"
   ]
  },
  {
   "cell_type": "code",
   "execution_count": 332,
   "id": "cf815858-467b-4497-94ed-7e67425a7658",
   "metadata": {},
   "outputs": [],
   "source": [
    "# 없는 함수를 만들어서 적용하고 싶을 때 \n",
    "# 최댓값과 최소값의 차이를 만듬 \n",
    "def f(x):\n",
    "    return x.max()-x.min()\n",
    "    "
   ]
  },
  {
   "cell_type": "code",
   "execution_count": 333,
   "id": "2a5c4c2e-6d20-4e6c-8837-4f810e2d28ca",
   "metadata": {},
   "outputs": [
    {
     "data": {
      "text/plain": [
       "b    0.522275\n",
       "d    0.210280\n",
       "e    0.794479\n",
       "dtype: float64"
      ]
     },
     "execution_count": 333,
     "metadata": {},
     "output_type": "execute_result"
    }
   ],
   "source": [
    "frame.apply(f)"
   ]
  },
  {
   "cell_type": "code",
   "execution_count": 406,
   "id": "63a78c2b-41a5-4e6e-9684-baa83bd14e0a",
   "metadata": {},
   "outputs": [
    {
     "data": {
      "text/plain": [
       "b    0.889771\n",
       "d    0.831262\n",
       "e    1.193175\n",
       "dtype: float64"
      ]
     },
     "execution_count": 406,
     "metadata": {},
     "output_type": "execute_result"
    }
   ],
   "source": [
    "frame.apply(lambda a: a.max()-a.min())"
   ]
  },
  {
   "cell_type": "code",
   "execution_count": 407,
   "id": "6e2c6781-23fd-4124-b214-75b399486fab",
   "metadata": {},
   "outputs": [
    {
     "data": {
      "text/plain": [
       "Utah      1.074591\n",
       "Ohio      0.925228\n",
       "Texas     0.648912\n",
       "Oregon    0.742684\n",
       "dtype: float64"
      ]
     },
     "execution_count": 407,
     "metadata": {},
     "output_type": "execute_result"
    }
   ],
   "source": [
    "frame.apply(f, axis=1) # 꼭 한개의 값을 반환할 필요는 없다"
   ]
  },
  {
   "cell_type": "code",
   "execution_count": null,
   "id": "fba22891-f1de-4aee-89dc-8739b0d10cef",
   "metadata": {},
   "outputs": [],
   "source": [
    "f''\n",
    "format \n",
    "'%.2f'%x #퍼센트는 변수를 말함 %.2f에서 .2f는 변수 float은 실수 소수점 둘째자리까지  "
   ]
  },
  {
   "cell_type": "code",
   "execution_count": 408,
   "id": "e7e52c6e-0d77-49e3-99a0-ae87c7c2ec33",
   "metadata": {},
   "outputs": [],
   "source": [
    "form= lambda x: '%.2f' %x # % 변수뜻 '' 문자열 "
   ]
  },
  {
   "cell_type": "code",
   "execution_count": 409,
   "id": "cc8e6a49-f7f0-41ff-b429-1de4d6cb60c4",
   "metadata": {},
   "outputs": [
    {
     "data": {
      "text/html": [
       "<div>\n",
       "<style scoped>\n",
       "    .dataframe tbody tr th:only-of-type {\n",
       "        vertical-align: middle;\n",
       "    }\n",
       "\n",
       "    .dataframe tbody tr th {\n",
       "        vertical-align: top;\n",
       "    }\n",
       "\n",
       "    .dataframe thead th {\n",
       "        text-align: right;\n",
       "    }\n",
       "</style>\n",
       "<table border=\"1\" class=\"dataframe\">\n",
       "  <thead>\n",
       "    <tr style=\"text-align: right;\">\n",
       "      <th></th>\n",
       "      <th>b</th>\n",
       "      <th>d</th>\n",
       "      <th>e</th>\n",
       "    </tr>\n",
       "  </thead>\n",
       "  <tbody>\n",
       "    <tr>\n",
       "      <th>Utah</th>\n",
       "      <td>0.36</td>\n",
       "      <td>1.27</td>\n",
       "      <td>0.20</td>\n",
       "    </tr>\n",
       "    <tr>\n",
       "      <th>Ohio</th>\n",
       "      <td>0.46</td>\n",
       "      <td>0.99</td>\n",
       "      <td>1.39</td>\n",
       "    </tr>\n",
       "    <tr>\n",
       "      <th>Texas</th>\n",
       "      <td>1.09</td>\n",
       "      <td>0.44</td>\n",
       "      <td>0.96</td>\n",
       "    </tr>\n",
       "    <tr>\n",
       "      <th>Oregon</th>\n",
       "      <td>1.25</td>\n",
       "      <td>0.50</td>\n",
       "      <td>0.63</td>\n",
       "    </tr>\n",
       "  </tbody>\n",
       "</table>\n",
       "</div>"
      ],
      "text/plain": [
       "           b     d     e\n",
       "Utah    0.36  1.27  0.20\n",
       "Ohio    0.46  0.99  1.39\n",
       "Texas   1.09  0.44  0.96\n",
       "Oregon  1.25  0.50  0.63"
      ]
     },
     "execution_count": 409,
     "metadata": {},
     "output_type": "execute_result"
    }
   ],
   "source": [
    "frame.applymap(form) \n",
    "# 기본 apply는 통으로 계산이지만 applymap은 데이터 프레임 값별로 계산하고 리턴값이 데이터프레임이다.\n",
    "#apply는 리턴값이 Series다. "
   ]
  },
  {
   "cell_type": "code",
   "execution_count": 410,
   "id": "bde690b5-8a0e-4bb5-8992-5c4b522e5290",
   "metadata": {},
   "outputs": [],
   "source": [
    "form= lambda x: '{}.2f'.format(x)"
   ]
  },
  {
   "cell_type": "code",
   "execution_count": 411,
   "id": "ef6a04cb-030d-418c-8636-4d8af6bc0f7d",
   "metadata": {
    "tags": []
   },
   "outputs": [
    {
     "data": {
      "text/html": [
       "<div>\n",
       "<style scoped>\n",
       "    .dataframe tbody tr th:only-of-type {\n",
       "        vertical-align: middle;\n",
       "    }\n",
       "\n",
       "    .dataframe tbody tr th {\n",
       "        vertical-align: top;\n",
       "    }\n",
       "\n",
       "    .dataframe thead th {\n",
       "        text-align: right;\n",
       "    }\n",
       "</style>\n",
       "<table border=\"1\" class=\"dataframe\">\n",
       "  <thead>\n",
       "    <tr style=\"text-align: right;\">\n",
       "      <th></th>\n",
       "      <th>b</th>\n",
       "      <th>d</th>\n",
       "      <th>e</th>\n",
       "    </tr>\n",
       "  </thead>\n",
       "  <tbody>\n",
       "    <tr>\n",
       "      <th>Utah</th>\n",
       "      <td>0.35583899747282033.2f</td>\n",
       "      <td>1.2700634783862885.2f</td>\n",
       "      <td>0.19547241269675866.2f</td>\n",
       "    </tr>\n",
       "    <tr>\n",
       "      <th>Ohio</th>\n",
       "      <td>0.4634193992174632.2f</td>\n",
       "      <td>0.9894148472858507.2f</td>\n",
       "      <td>1.388647381631717.2f</td>\n",
       "    </tr>\n",
       "    <tr>\n",
       "      <th>Texas</th>\n",
       "      <td>1.0877137365241412.2f</td>\n",
       "      <td>0.43880126303439065.2f</td>\n",
       "      <td>0.961602240881236.2f</td>\n",
       "    </tr>\n",
       "    <tr>\n",
       "      <th>Oregon</th>\n",
       "      <td>1.2456099371478462.2f</td>\n",
       "      <td>0.5029255176706321.2f</td>\n",
       "      <td>0.6313987783785193.2f</td>\n",
       "    </tr>\n",
       "  </tbody>\n",
       "</table>\n",
       "</div>"
      ],
      "text/plain": [
       "                             b                       d                       e\n",
       "Utah    0.35583899747282033.2f   1.2700634783862885.2f  0.19547241269675866.2f\n",
       "Ohio     0.4634193992174632.2f   0.9894148472858507.2f    1.388647381631717.2f\n",
       "Texas    1.0877137365241412.2f  0.43880126303439065.2f    0.961602240881236.2f\n",
       "Oregon   1.2456099371478462.2f   0.5029255176706321.2f   0.6313987783785193.2f"
      ]
     },
     "execution_count": 411,
     "metadata": {},
     "output_type": "execute_result"
    }
   ],
   "source": [
    "frame.applymap(form)"
   ]
  },
  {
   "cell_type": "code",
   "execution_count": 412,
   "id": "05b495c3-9f6c-4c94-9e85-5b0248ad4717",
   "metadata": {},
   "outputs": [
    {
     "data": {
      "text/html": [
       "<div>\n",
       "<style scoped>\n",
       "    .dataframe tbody tr th:only-of-type {\n",
       "        vertical-align: middle;\n",
       "    }\n",
       "\n",
       "    .dataframe tbody tr th {\n",
       "        vertical-align: top;\n",
       "    }\n",
       "\n",
       "    .dataframe thead th {\n",
       "        text-align: right;\n",
       "    }\n",
       "</style>\n",
       "<table border=\"1\" class=\"dataframe\">\n",
       "  <thead>\n",
       "    <tr style=\"text-align: right;\">\n",
       "      <th></th>\n",
       "      <th>b</th>\n",
       "      <th>d</th>\n",
       "      <th>e</th>\n",
       "    </tr>\n",
       "  </thead>\n",
       "  <tbody>\n",
       "    <tr>\n",
       "      <th>Utah</th>\n",
       "      <td>0.36</td>\n",
       "      <td>1.27</td>\n",
       "      <td>0.20</td>\n",
       "    </tr>\n",
       "    <tr>\n",
       "      <th>Ohio</th>\n",
       "      <td>0.46</td>\n",
       "      <td>0.99</td>\n",
       "      <td>1.39</td>\n",
       "    </tr>\n",
       "    <tr>\n",
       "      <th>Texas</th>\n",
       "      <td>1.09</td>\n",
       "      <td>0.44</td>\n",
       "      <td>0.96</td>\n",
       "    </tr>\n",
       "    <tr>\n",
       "      <th>Oregon</th>\n",
       "      <td>1.25</td>\n",
       "      <td>0.50</td>\n",
       "      <td>0.63</td>\n",
       "    </tr>\n",
       "  </tbody>\n",
       "</table>\n",
       "</div>"
      ],
      "text/plain": [
       "           b     d     e\n",
       "Utah    0.36  1.27  0.20\n",
       "Ohio    0.46  0.99  1.39\n",
       "Texas   1.09  0.44  0.96\n",
       "Oregon  1.25  0.50  0.63"
      ]
     },
     "execution_count": 412,
     "metadata": {},
     "output_type": "execute_result"
    }
   ],
   "source": [
    "form= lambda x: f'{x:.2f}' #f는 format\n",
    "frame.applymap(form)"
   ]
  },
  {
   "cell_type": "code",
   "execution_count": 348,
   "id": "c99d0a9d-82cd-4c50-aed5-9c2edbf9d621",
   "metadata": {},
   "outputs": [
    {
     "data": {
      "text/plain": [
       "d    4.5\n",
       "b    7.2\n",
       "a   -5.3\n",
       "c    3.6\n",
       "dtype: float64"
      ]
     },
     "execution_count": 348,
     "metadata": {},
     "output_type": "execute_result"
    }
   ],
   "source": [
    "obj = pd.Series([4.5, 7.2, -5.3, 3.6], index=['d', 'b', 'a', 'c']) \n",
    "obj \n"
   ]
  },
  {
   "cell_type": "code",
   "execution_count": 349,
   "id": "7503379a-c77c-4383-bf3f-e292d0c71915",
   "metadata": {},
   "outputs": [
    {
     "data": {
      "text/plain": [
       "a   -5.3\n",
       "b    7.2\n",
       "c    3.6\n",
       "d    4.5\n",
       "dtype: float64"
      ]
     },
     "execution_count": 349,
     "metadata": {},
     "output_type": "execute_result"
    }
   ],
   "source": [
    "obj.sort_index()"
   ]
  },
  {
   "cell_type": "code",
   "execution_count": 351,
   "id": "de5829fe-1985-4010-a89b-81a1ab7ecb18",
   "metadata": {},
   "outputs": [
    {
     "data": {
      "text/plain": [
       "a   -5.3\n",
       "c    3.6\n",
       "d    4.5\n",
       "b    7.2\n",
       "dtype: float64"
      ]
     },
     "execution_count": 351,
     "metadata": {},
     "output_type": "execute_result"
    }
   ],
   "source": [
    "obj.sort_values()"
   ]
  },
  {
   "cell_type": "code",
   "execution_count": 355,
   "id": "4a0380e2-fc00-4f4c-b8b8-e90e1d60668b",
   "metadata": {},
   "outputs": [
    {
     "data": {
      "text/plain": [
       "0    7\n",
       "1   -5\n",
       "2    7\n",
       "3    4\n",
       "4    2\n",
       "5    0\n",
       "6    4\n",
       "dtype: int64"
      ]
     },
     "execution_count": 355,
     "metadata": {},
     "output_type": "execute_result"
    }
   ],
   "source": [
    "obj = pd.Series([7, -5, 7, 4, 2, 0, 4]) \n",
    "obj"
   ]
  },
  {
   "cell_type": "code",
   "execution_count": 356,
   "id": "f3a5cbc8-3120-424c-8708-fb3df3032d35",
   "metadata": {},
   "outputs": [
    {
     "data": {
      "text/plain": [
       "0    6.5\n",
       "1    1.0\n",
       "2    6.5\n",
       "3    4.5\n",
       "4    3.0\n",
       "5    2.0\n",
       "6    4.5\n",
       "dtype: float64"
      ]
     },
     "execution_count": 356,
     "metadata": {},
     "output_type": "execute_result"
    }
   ],
   "source": [
    " obj.rank() # 0번인데스가 6.5등 # 동점짜리는 평균을 내기에 6,7이 공통이니 "
   ]
  },
  {
   "cell_type": "code",
   "execution_count": 358,
   "id": "8f98d979-1388-4269-a12a-f6d6e2c94be1",
   "metadata": {},
   "outputs": [
    {
     "data": {
      "text/plain": [
       "0    6.0\n",
       "1    1.0\n",
       "2    7.0\n",
       "3    4.0\n",
       "4    3.0\n",
       "5    2.0\n",
       "6    5.0\n",
       "dtype: float64"
      ]
     },
     "execution_count": 358,
     "metadata": {},
     "output_type": "execute_result"
    }
   ],
   "source": [
    " obj.rank(method='first') # 먼저출연한 순서대로 순서정함"
   ]
  },
  {
   "cell_type": "code",
   "execution_count": 359,
   "id": "1db87cfe-91f0-42f5-9754-da5fa9d2291d",
   "metadata": {},
   "outputs": [
    {
     "data": {
      "text/html": [
       "<div>\n",
       "<style scoped>\n",
       "    .dataframe tbody tr th:only-of-type {\n",
       "        vertical-align: middle;\n",
       "    }\n",
       "\n",
       "    .dataframe tbody tr th {\n",
       "        vertical-align: top;\n",
       "    }\n",
       "\n",
       "    .dataframe thead th {\n",
       "        text-align: right;\n",
       "    }\n",
       "</style>\n",
       "<table border=\"1\" class=\"dataframe\">\n",
       "  <thead>\n",
       "    <tr style=\"text-align: right;\">\n",
       "      <th></th>\n",
       "      <th>0</th>\n",
       "      <th>1</th>\n",
       "      <th>2</th>\n",
       "      <th>3</th>\n",
       "    </tr>\n",
       "  </thead>\n",
       "  <tbody>\n",
       "    <tr>\n",
       "      <th>0</th>\n",
       "      <td>11.71</td>\n",
       "      <td>52.31</td>\n",
       "      <td>87.31</td>\n",
       "      <td>3.87</td>\n",
       "    </tr>\n",
       "    <tr>\n",
       "      <th>1</th>\n",
       "      <td>69.24</td>\n",
       "      <td>47.63</td>\n",
       "      <td>16.93</td>\n",
       "      <td>6.32</td>\n",
       "    </tr>\n",
       "    <tr>\n",
       "      <th>2</th>\n",
       "      <td>3.22</td>\n",
       "      <td>24.24</td>\n",
       "      <td>11.27</td>\n",
       "      <td>40.50</td>\n",
       "    </tr>\n",
       "  </tbody>\n",
       "</table>\n",
       "</div>"
      ],
      "text/plain": [
       "       0      1      2      3\n",
       "0  11.71  52.31  87.31   3.87\n",
       "1  69.24  47.63  16.93   6.32\n",
       "2   3.22  24.24  11.27  40.50"
      ]
     },
     "execution_count": 359,
     "metadata": {},
     "output_type": "execute_result"
    }
   ],
   "source": [
    "df"
   ]
  },
  {
   "cell_type": "code",
   "execution_count": 361,
   "id": "fda418b7-b5de-40ab-9b9d-d5f1af3b4041",
   "metadata": {},
   "outputs": [
    {
     "data": {
      "text/html": [
       "<div>\n",
       "<style scoped>\n",
       "    .dataframe tbody tr th:only-of-type {\n",
       "        vertical-align: middle;\n",
       "    }\n",
       "\n",
       "    .dataframe tbody tr th {\n",
       "        vertical-align: top;\n",
       "    }\n",
       "\n",
       "    .dataframe thead th {\n",
       "        text-align: right;\n",
       "    }\n",
       "</style>\n",
       "<table border=\"1\" class=\"dataframe\">\n",
       "  <thead>\n",
       "    <tr style=\"text-align: right;\">\n",
       "      <th></th>\n",
       "      <th>0</th>\n",
       "      <th>1</th>\n",
       "      <th>2</th>\n",
       "      <th>3</th>\n",
       "    </tr>\n",
       "  </thead>\n",
       "  <tbody>\n",
       "    <tr>\n",
       "      <th>0</th>\n",
       "      <td>2.0</td>\n",
       "      <td>3.0</td>\n",
       "      <td>4.0</td>\n",
       "      <td>1.0</td>\n",
       "    </tr>\n",
       "    <tr>\n",
       "      <th>1</th>\n",
       "      <td>4.0</td>\n",
       "      <td>3.0</td>\n",
       "      <td>2.0</td>\n",
       "      <td>1.0</td>\n",
       "    </tr>\n",
       "    <tr>\n",
       "      <th>2</th>\n",
       "      <td>1.0</td>\n",
       "      <td>3.0</td>\n",
       "      <td>2.0</td>\n",
       "      <td>4.0</td>\n",
       "    </tr>\n",
       "  </tbody>\n",
       "</table>\n",
       "</div>"
      ],
      "text/plain": [
       "     0    1    2    3\n",
       "0  2.0  3.0  4.0  1.0\n",
       "1  4.0  3.0  2.0  1.0\n",
       "2  1.0  3.0  2.0  4.0"
      ]
     },
     "execution_count": 361,
     "metadata": {},
     "output_type": "execute_result"
    }
   ],
   "source": [
    "df.rank(axis=1) # 수평으로 1,2,3,4"
   ]
  },
  {
   "cell_type": "code",
   "execution_count": 362,
   "id": "ed854893-2417-4a3e-9a5f-0b8323c03ad1",
   "metadata": {},
   "outputs": [],
   "source": [
    "# 판다스는 NA값 제거하고 계산 됨 "
   ]
  },
  {
   "cell_type": "code",
   "execution_count": 363,
   "id": "b6de1eb6-152e-4a6b-9fcf-f1e950230634",
   "metadata": {},
   "outputs": [],
   "source": [
    "# skipna는 Na값 스킵하진 않고 가능"
   ]
  },
  {
   "cell_type": "code",
   "execution_count": 366,
   "id": "83f2cd6e-2329-459f-99b3-432d4783fd82",
   "metadata": {
    "collapsed": true,
    "jupyter": {
     "outputs_hidden": true
    },
    "tags": []
   },
   "outputs": [
    {
     "ename": "AttributeError",
     "evalue": "'DataFrame' object has no attribute 'idmax'",
     "output_type": "error",
     "traceback": [
      "\u001b[1;31m---------------------------------------------------------------------------\u001b[0m",
      "\u001b[1;31mAttributeError\u001b[0m                            Traceback (most recent call last)",
      "Input \u001b[1;32mIn [366]\u001b[0m, in \u001b[0;36m<cell line: 1>\u001b[1;34m()\u001b[0m\n\u001b[1;32m----> 1\u001b[0m \u001b[43mdf\u001b[49m\u001b[38;5;241;43m.\u001b[39;49m\u001b[43midmax\u001b[49m()\n",
      "File \u001b[1;32m~\\anaconda3\\lib\\site-packages\\pandas\\core\\generic.py:5575\u001b[0m, in \u001b[0;36mNDFrame.__getattr__\u001b[1;34m(self, name)\u001b[0m\n\u001b[0;32m   5568\u001b[0m \u001b[38;5;28;01mif\u001b[39;00m (\n\u001b[0;32m   5569\u001b[0m     name \u001b[38;5;129;01mnot\u001b[39;00m \u001b[38;5;129;01min\u001b[39;00m \u001b[38;5;28mself\u001b[39m\u001b[38;5;241m.\u001b[39m_internal_names_set\n\u001b[0;32m   5570\u001b[0m     \u001b[38;5;129;01mand\u001b[39;00m name \u001b[38;5;129;01mnot\u001b[39;00m \u001b[38;5;129;01min\u001b[39;00m \u001b[38;5;28mself\u001b[39m\u001b[38;5;241m.\u001b[39m_metadata\n\u001b[0;32m   5571\u001b[0m     \u001b[38;5;129;01mand\u001b[39;00m name \u001b[38;5;129;01mnot\u001b[39;00m \u001b[38;5;129;01min\u001b[39;00m \u001b[38;5;28mself\u001b[39m\u001b[38;5;241m.\u001b[39m_accessors\n\u001b[0;32m   5572\u001b[0m     \u001b[38;5;129;01mand\u001b[39;00m \u001b[38;5;28mself\u001b[39m\u001b[38;5;241m.\u001b[39m_info_axis\u001b[38;5;241m.\u001b[39m_can_hold_identifiers_and_holds_name(name)\n\u001b[0;32m   5573\u001b[0m ):\n\u001b[0;32m   5574\u001b[0m     \u001b[38;5;28;01mreturn\u001b[39;00m \u001b[38;5;28mself\u001b[39m[name]\n\u001b[1;32m-> 5575\u001b[0m \u001b[38;5;28;01mreturn\u001b[39;00m \u001b[38;5;28;43mobject\u001b[39;49m\u001b[38;5;241;43m.\u001b[39;49m\u001b[38;5;21;43m__getattribute__\u001b[39;49m\u001b[43m(\u001b[49m\u001b[38;5;28;43mself\u001b[39;49m\u001b[43m,\u001b[49m\u001b[43m \u001b[49m\u001b[43mname\u001b[49m\u001b[43m)\u001b[49m\n",
      "\u001b[1;31mAttributeError\u001b[0m: 'DataFrame' object has no attribute 'idmax'"
     ]
    }
   ],
   "source": [
    "df.idmax()"
   ]
  },
  {
   "cell_type": "code",
   "execution_count": 367,
   "id": "5723a697-eb47-48d2-a7cd-02c9b602aff5",
   "metadata": {
    "collapsed": true,
    "jupyter": {
     "outputs_hidden": true
    },
    "tags": []
   },
   "outputs": [
    {
     "ename": "AttributeError",
     "evalue": "'DataFrame' object has no attribute 'sumcum'",
     "output_type": "error",
     "traceback": [
      "\u001b[1;31m---------------------------------------------------------------------------\u001b[0m",
      "\u001b[1;31mAttributeError\u001b[0m                            Traceback (most recent call last)",
      "Input \u001b[1;32mIn [367]\u001b[0m, in \u001b[0;36m<cell line: 1>\u001b[1;34m()\u001b[0m\n\u001b[1;32m----> 1\u001b[0m \u001b[43mdf\u001b[49m\u001b[38;5;241;43m.\u001b[39;49m\u001b[43msumcum\u001b[49m()\n",
      "File \u001b[1;32m~\\anaconda3\\lib\\site-packages\\pandas\\core\\generic.py:5575\u001b[0m, in \u001b[0;36mNDFrame.__getattr__\u001b[1;34m(self, name)\u001b[0m\n\u001b[0;32m   5568\u001b[0m \u001b[38;5;28;01mif\u001b[39;00m (\n\u001b[0;32m   5569\u001b[0m     name \u001b[38;5;129;01mnot\u001b[39;00m \u001b[38;5;129;01min\u001b[39;00m \u001b[38;5;28mself\u001b[39m\u001b[38;5;241m.\u001b[39m_internal_names_set\n\u001b[0;32m   5570\u001b[0m     \u001b[38;5;129;01mand\u001b[39;00m name \u001b[38;5;129;01mnot\u001b[39;00m \u001b[38;5;129;01min\u001b[39;00m \u001b[38;5;28mself\u001b[39m\u001b[38;5;241m.\u001b[39m_metadata\n\u001b[0;32m   5571\u001b[0m     \u001b[38;5;129;01mand\u001b[39;00m name \u001b[38;5;129;01mnot\u001b[39;00m \u001b[38;5;129;01min\u001b[39;00m \u001b[38;5;28mself\u001b[39m\u001b[38;5;241m.\u001b[39m_accessors\n\u001b[0;32m   5572\u001b[0m     \u001b[38;5;129;01mand\u001b[39;00m \u001b[38;5;28mself\u001b[39m\u001b[38;5;241m.\u001b[39m_info_axis\u001b[38;5;241m.\u001b[39m_can_hold_identifiers_and_holds_name(name)\n\u001b[0;32m   5573\u001b[0m ):\n\u001b[0;32m   5574\u001b[0m     \u001b[38;5;28;01mreturn\u001b[39;00m \u001b[38;5;28mself\u001b[39m[name]\n\u001b[1;32m-> 5575\u001b[0m \u001b[38;5;28;01mreturn\u001b[39;00m \u001b[38;5;28;43mobject\u001b[39;49m\u001b[38;5;241;43m.\u001b[39;49m\u001b[38;5;21;43m__getattribute__\u001b[39;49m\u001b[43m(\u001b[49m\u001b[38;5;28;43mself\u001b[39;49m\u001b[43m,\u001b[49m\u001b[43m \u001b[49m\u001b[43mname\u001b[49m\u001b[43m)\u001b[49m\n",
      "\u001b[1;31mAttributeError\u001b[0m: 'DataFrame' object has no attribute 'sumcum'"
     ]
    }
   ],
   "source": [
    "df.sumcum()"
   ]
  },
  {
   "cell_type": "code",
   "execution_count": 368,
   "id": "1956515a-4488-43c6-9dc8-dab4c4ad110a",
   "metadata": {},
   "outputs": [
    {
     "ename": "NameError",
     "evalue": "name 'Pd' is not defined",
     "output_type": "error",
     "traceback": [
      "\u001b[1;31m---------------------------------------------------------------------------\u001b[0m",
      "\u001b[1;31mNameError\u001b[0m                                 Traceback (most recent call last)",
      "Input \u001b[1;32mIn [368]\u001b[0m, in \u001b[0;36m<cell line: 1>\u001b[1;34m()\u001b[0m\n\u001b[1;32m----> 1\u001b[0m df\u001b[38;5;241m=\u001b[39m\u001b[43mPd\u001b[49m\u001b[38;5;241m.\u001b[39mDataFrame([[]])\n",
      "\u001b[1;31mNameError\u001b[0m: name 'Pd' is not defined"
     ]
    }
   ],
   "source": [
    "df=pd.DataFrame([[]])"
   ]
  },
  {
   "cell_type": "code",
   "execution_count": 369,
   "id": "50fdbec4-24da-44ec-bb47-7d039690f609",
   "metadata": {},
   "outputs": [
    {
     "name": "stdout",
     "output_type": "stream",
     "text": [
      "Collecting pandas-datareader\n",
      "  Downloading pandas_datareader-0.10.0-py3-none-any.whl (109 kB)\n",
      "Requirement already satisfied: pandas>=0.23 in c:\\users\\admin\\anaconda3\\lib\\site-packages (from pandas-datareader) (1.4.2)\n",
      "Requirement already satisfied: requests>=2.19.0 in c:\\users\\admin\\anaconda3\\lib\\site-packages (from pandas-datareader) (2.27.1)\n",
      "Requirement already satisfied: lxml in c:\\users\\admin\\anaconda3\\lib\\site-packages (from pandas-datareader) (4.8.0)\n",
      "Requirement already satisfied: numpy>=1.18.5 in c:\\users\\admin\\anaconda3\\lib\\site-packages (from pandas>=0.23->pandas-datareader) (1.21.5)\n",
      "Requirement already satisfied: python-dateutil>=2.8.1 in c:\\users\\admin\\anaconda3\\lib\\site-packages (from pandas>=0.23->pandas-datareader) (2.8.2)\n",
      "Requirement already satisfied: pytz>=2020.1 in c:\\users\\admin\\anaconda3\\lib\\site-packages (from pandas>=0.23->pandas-datareader) (2021.3)\n",
      "Requirement already satisfied: six>=1.5 in c:\\users\\admin\\anaconda3\\lib\\site-packages (from python-dateutil>=2.8.1->pandas>=0.23->pandas-datareader) (1.16.0)\n",
      "Requirement already satisfied: idna<4,>=2.5 in c:\\users\\admin\\anaconda3\\lib\\site-packages (from requests>=2.19.0->pandas-datareader) (3.3)\n",
      "Requirement already satisfied: certifi>=2017.4.17 in c:\\users\\admin\\anaconda3\\lib\\site-packages (from requests>=2.19.0->pandas-datareader) (2021.10.8)\n",
      "Requirement already satisfied: urllib3<1.27,>=1.21.1 in c:\\users\\admin\\anaconda3\\lib\\site-packages (from requests>=2.19.0->pandas-datareader) (1.26.9)\n",
      "Requirement already satisfied: charset-normalizer~=2.0.0 in c:\\users\\admin\\anaconda3\\lib\\site-packages (from requests>=2.19.0->pandas-datareader) (2.0.4)\n",
      "Installing collected packages: pandas-datareader\n",
      "Successfully installed pandas-datareader-0.10.0\n",
      "Note: you may need to restart the kernel to use updated packages.\n"
     ]
    }
   ],
   "source": [
    "pip install pandas-datareader"
   ]
  },
  {
   "cell_type": "code",
   "execution_count": 372,
   "id": "986ba66a-c10b-4e02-b0af-4880b98639ca",
   "metadata": {},
   "outputs": [],
   "source": [
    "import pandas_datareader.data as web # 웹에서 데이타 받아와서 \n",
    "all_data = {ticker: web.get_data_yahoo(ticker)\n",
    "            for ticker in ['AAPL', 'IBM', 'MSFT', 'GOOG']} # 야후관련된거 for문으로 돌림\n",
    "price = pd.DataFrame({ticker: data['Adj Close']\n",
    "                     for ticker, data in all_data.items()}) # 주가\n",
    "volume = pd.DataFrame({ticker: data['Volume']\n",
    "                      for ticker, data in all_data.items()}) "
   ]
  },
  {
   "cell_type": "code",
   "execution_count": 373,
   "id": "1ee818f7-bda4-42fe-b28a-0691f7604670",
   "metadata": {},
   "outputs": [
    {
     "data": {
      "text/html": [
       "<div>\n",
       "<style scoped>\n",
       "    .dataframe tbody tr th:only-of-type {\n",
       "        vertical-align: middle;\n",
       "    }\n",
       "\n",
       "    .dataframe tbody tr th {\n",
       "        vertical-align: top;\n",
       "    }\n",
       "\n",
       "    .dataframe thead th {\n",
       "        text-align: right;\n",
       "    }\n",
       "</style>\n",
       "<table border=\"1\" class=\"dataframe\">\n",
       "  <thead>\n",
       "    <tr style=\"text-align: right;\">\n",
       "      <th></th>\n",
       "      <th>AAPL</th>\n",
       "      <th>IBM</th>\n",
       "      <th>MSFT</th>\n",
       "      <th>GOOG</th>\n",
       "    </tr>\n",
       "    <tr>\n",
       "      <th>Date</th>\n",
       "      <th></th>\n",
       "      <th></th>\n",
       "      <th></th>\n",
       "      <th></th>\n",
       "    </tr>\n",
       "  </thead>\n",
       "  <tbody>\n",
       "    <tr>\n",
       "      <th>2017-09-27</th>\n",
       "      <td>36.593586</td>\n",
       "      <td>109.783897</td>\n",
       "      <td>69.393120</td>\n",
       "      <td>47.224499</td>\n",
       "    </tr>\n",
       "    <tr>\n",
       "      <th>2017-09-28</th>\n",
       "      <td>36.368183</td>\n",
       "      <td>109.783897</td>\n",
       "      <td>69.411919</td>\n",
       "      <td>47.474998</td>\n",
       "    </tr>\n",
       "    <tr>\n",
       "      <th>2017-09-29</th>\n",
       "      <td>36.567497</td>\n",
       "      <td>109.346741</td>\n",
       "      <td>69.994507</td>\n",
       "      <td>47.955502</td>\n",
       "    </tr>\n",
       "    <tr>\n",
       "      <th>2017-10-02</th>\n",
       "      <td>36.493923</td>\n",
       "      <td>110.537621</td>\n",
       "      <td>70.107269</td>\n",
       "      <td>47.663502</td>\n",
       "    </tr>\n",
       "    <tr>\n",
       "      <th>2017-10-03</th>\n",
       "      <td>36.652901</td>\n",
       "      <td>110.628044</td>\n",
       "      <td>69.778381</td>\n",
       "      <td>47.889500</td>\n",
       "    </tr>\n",
       "    <tr>\n",
       "      <th>...</th>\n",
       "      <td>...</td>\n",
       "      <td>...</td>\n",
       "      <td>...</td>\n",
       "      <td>...</td>\n",
       "    </tr>\n",
       "    <tr>\n",
       "      <th>2022-09-20</th>\n",
       "      <td>156.899994</td>\n",
       "      <td>126.300003</td>\n",
       "      <td>242.449997</td>\n",
       "      <td>101.830002</td>\n",
       "    </tr>\n",
       "    <tr>\n",
       "      <th>2022-09-21</th>\n",
       "      <td>153.720001</td>\n",
       "      <td>124.930000</td>\n",
       "      <td>238.949997</td>\n",
       "      <td>100.010002</td>\n",
       "    </tr>\n",
       "    <tr>\n",
       "      <th>2022-09-22</th>\n",
       "      <td>152.740005</td>\n",
       "      <td>125.309998</td>\n",
       "      <td>240.979996</td>\n",
       "      <td>100.570000</td>\n",
       "    </tr>\n",
       "    <tr>\n",
       "      <th>2022-09-23</th>\n",
       "      <td>150.429993</td>\n",
       "      <td>122.709999</td>\n",
       "      <td>237.919998</td>\n",
       "      <td>99.169998</td>\n",
       "    </tr>\n",
       "    <tr>\n",
       "      <th>2022-09-26</th>\n",
       "      <td>150.770004</td>\n",
       "      <td>122.010002</td>\n",
       "      <td>237.449997</td>\n",
       "      <td>98.809998</td>\n",
       "    </tr>\n",
       "  </tbody>\n",
       "</table>\n",
       "<p>1258 rows × 4 columns</p>\n",
       "</div>"
      ],
      "text/plain": [
       "                  AAPL         IBM        MSFT        GOOG\n",
       "Date                                                      \n",
       "2017-09-27   36.593586  109.783897   69.393120   47.224499\n",
       "2017-09-28   36.368183  109.783897   69.411919   47.474998\n",
       "2017-09-29   36.567497  109.346741   69.994507   47.955502\n",
       "2017-10-02   36.493923  110.537621   70.107269   47.663502\n",
       "2017-10-03   36.652901  110.628044   69.778381   47.889500\n",
       "...                ...         ...         ...         ...\n",
       "2022-09-20  156.899994  126.300003  242.449997  101.830002\n",
       "2022-09-21  153.720001  124.930000  238.949997  100.010002\n",
       "2022-09-22  152.740005  125.309998  240.979996  100.570000\n",
       "2022-09-23  150.429993  122.709999  237.919998   99.169998\n",
       "2022-09-26  150.770004  122.010002  237.449997   98.809998\n",
       "\n",
       "[1258 rows x 4 columns]"
      ]
     },
     "execution_count": 373,
     "metadata": {},
     "output_type": "execute_result"
    }
   ],
   "source": [
    "price"
   ]
  },
  {
   "cell_type": "code",
   "execution_count": 375,
   "id": "9c01bd62-7b81-4df3-9cfb-b1cf1deb3a2e",
   "metadata": {},
   "outputs": [
    {
     "data": {
      "text/html": [
       "<div>\n",
       "<style scoped>\n",
       "    .dataframe tbody tr th:only-of-type {\n",
       "        vertical-align: middle;\n",
       "    }\n",
       "\n",
       "    .dataframe tbody tr th {\n",
       "        vertical-align: top;\n",
       "    }\n",
       "\n",
       "    .dataframe thead th {\n",
       "        text-align: right;\n",
       "    }\n",
       "</style>\n",
       "<table border=\"1\" class=\"dataframe\">\n",
       "  <thead>\n",
       "    <tr style=\"text-align: right;\">\n",
       "      <th></th>\n",
       "      <th>AAPL</th>\n",
       "      <th>IBM</th>\n",
       "      <th>MSFT</th>\n",
       "      <th>GOOG</th>\n",
       "    </tr>\n",
       "  </thead>\n",
       "  <tbody>\n",
       "    <tr>\n",
       "      <th>AAPL</th>\n",
       "      <td>1.000000</td>\n",
       "      <td>0.529727</td>\n",
       "      <td>0.977222</td>\n",
       "      <td>0.945973</td>\n",
       "    </tr>\n",
       "    <tr>\n",
       "      <th>IBM</th>\n",
       "      <td>0.529727</td>\n",
       "      <td>1.000000</td>\n",
       "      <td>0.499717</td>\n",
       "      <td>0.606842</td>\n",
       "    </tr>\n",
       "    <tr>\n",
       "      <th>MSFT</th>\n",
       "      <td>0.977222</td>\n",
       "      <td>0.499717</td>\n",
       "      <td>1.000000</td>\n",
       "      <td>0.963892</td>\n",
       "    </tr>\n",
       "    <tr>\n",
       "      <th>GOOG</th>\n",
       "      <td>0.945973</td>\n",
       "      <td>0.606842</td>\n",
       "      <td>0.963892</td>\n",
       "      <td>1.000000</td>\n",
       "    </tr>\n",
       "  </tbody>\n",
       "</table>\n",
       "</div>"
      ],
      "text/plain": [
       "          AAPL       IBM      MSFT      GOOG\n",
       "AAPL  1.000000  0.529727  0.977222  0.945973\n",
       "IBM   0.529727  1.000000  0.499717  0.606842\n",
       "MSFT  0.977222  0.499717  1.000000  0.963892\n",
       "GOOG  0.945973  0.606842  0.963892  1.000000"
      ]
     },
     "execution_count": 375,
     "metadata": {},
     "output_type": "execute_result"
    }
   ],
   "source": [
    "price.corr() # 애플과 마이크로 소프트 상관관계 높음 "
   ]
  },
  {
   "cell_type": "code",
   "execution_count": 378,
   "id": "7185a99f-1cf0-4217-960a-c49b3126f653",
   "metadata": {},
   "outputs": [
    {
     "data": {
      "text/html": [
       "<div>\n",
       "<style scoped>\n",
       "    .dataframe tbody tr th:only-of-type {\n",
       "        vertical-align: middle;\n",
       "    }\n",
       "\n",
       "    .dataframe tbody tr th {\n",
       "        vertical-align: top;\n",
       "    }\n",
       "\n",
       "    .dataframe thead th {\n",
       "        text-align: right;\n",
       "    }\n",
       "</style>\n",
       "<table border=\"1\" class=\"dataframe\">\n",
       "  <thead>\n",
       "    <tr style=\"text-align: right;\">\n",
       "      <th></th>\n",
       "      <th>AAPL</th>\n",
       "      <th>IBM</th>\n",
       "    </tr>\n",
       "  </thead>\n",
       "  <tbody>\n",
       "    <tr>\n",
       "      <th>AAPL</th>\n",
       "      <td>1.000000</td>\n",
       "      <td>0.529727</td>\n",
       "    </tr>\n",
       "    <tr>\n",
       "      <th>IBM</th>\n",
       "      <td>0.529727</td>\n",
       "      <td>1.000000</td>\n",
       "    </tr>\n",
       "  </tbody>\n",
       "</table>\n",
       "</div>"
      ],
      "text/plain": [
       "          AAPL       IBM\n",
       "AAPL  1.000000  0.529727\n",
       "IBM   0.529727  1.000000"
      ]
     },
     "execution_count": 378,
     "metadata": {},
     "output_type": "execute_result"
    }
   ],
   "source": [
    "price[['AAPL','IBM']].corr()"
   ]
  },
  {
   "cell_type": "code",
   "execution_count": 380,
   "id": "d4233c70-74b0-4bb4-a928-ed024f710335",
   "metadata": {},
   "outputs": [
    {
     "data": {
      "text/html": [
       "<div>\n",
       "<style scoped>\n",
       "    .dataframe tbody tr th:only-of-type {\n",
       "        vertical-align: middle;\n",
       "    }\n",
       "\n",
       "    .dataframe tbody tr th {\n",
       "        vertical-align: top;\n",
       "    }\n",
       "\n",
       "    .dataframe thead th {\n",
       "        text-align: right;\n",
       "    }\n",
       "</style>\n",
       "<table border=\"1\" class=\"dataframe\">\n",
       "  <thead>\n",
       "    <tr style=\"text-align: right;\">\n",
       "      <th></th>\n",
       "      <th>AAPL</th>\n",
       "      <th>IBM</th>\n",
       "      <th>MSFT</th>\n",
       "      <th>GOOG</th>\n",
       "    </tr>\n",
       "    <tr>\n",
       "      <th>Date</th>\n",
       "      <th></th>\n",
       "      <th></th>\n",
       "      <th></th>\n",
       "      <th></th>\n",
       "    </tr>\n",
       "  </thead>\n",
       "  <tbody>\n",
       "    <tr>\n",
       "      <th>2017-09-27</th>\n",
       "      <td>NaN</td>\n",
       "      <td>NaN</td>\n",
       "      <td>NaN</td>\n",
       "      <td>NaN</td>\n",
       "    </tr>\n",
       "    <tr>\n",
       "      <th>2017-09-28</th>\n",
       "      <td>-0.006160</td>\n",
       "      <td>0.000000</td>\n",
       "      <td>0.000271</td>\n",
       "      <td>0.005304</td>\n",
       "    </tr>\n",
       "    <tr>\n",
       "      <th>2017-09-29</th>\n",
       "      <td>0.005480</td>\n",
       "      <td>-0.003982</td>\n",
       "      <td>0.008393</td>\n",
       "      <td>0.010121</td>\n",
       "    </tr>\n",
       "    <tr>\n",
       "      <th>2017-10-02</th>\n",
       "      <td>-0.002012</td>\n",
       "      <td>0.010891</td>\n",
       "      <td>0.001611</td>\n",
       "      <td>-0.006089</td>\n",
       "    </tr>\n",
       "    <tr>\n",
       "      <th>2017-10-03</th>\n",
       "      <td>0.004356</td>\n",
       "      <td>0.000818</td>\n",
       "      <td>-0.004691</td>\n",
       "      <td>0.004742</td>\n",
       "    </tr>\n",
       "    <tr>\n",
       "      <th>...</th>\n",
       "      <td>...</td>\n",
       "      <td>...</td>\n",
       "      <td>...</td>\n",
       "      <td>...</td>\n",
       "    </tr>\n",
       "    <tr>\n",
       "      <th>2022-09-20</th>\n",
       "      <td>0.015665</td>\n",
       "      <td>-0.011195</td>\n",
       "      <td>-0.008466</td>\n",
       "      <td>-0.019451</td>\n",
       "    </tr>\n",
       "    <tr>\n",
       "      <th>2022-09-21</th>\n",
       "      <td>-0.020268</td>\n",
       "      <td>-0.010847</td>\n",
       "      <td>-0.014436</td>\n",
       "      <td>-0.017873</td>\n",
       "    </tr>\n",
       "    <tr>\n",
       "      <th>2022-09-22</th>\n",
       "      <td>-0.006375</td>\n",
       "      <td>0.003042</td>\n",
       "      <td>0.008495</td>\n",
       "      <td>0.005599</td>\n",
       "    </tr>\n",
       "    <tr>\n",
       "      <th>2022-09-23</th>\n",
       "      <td>-0.015124</td>\n",
       "      <td>-0.020749</td>\n",
       "      <td>-0.012698</td>\n",
       "      <td>-0.013921</td>\n",
       "    </tr>\n",
       "    <tr>\n",
       "      <th>2022-09-26</th>\n",
       "      <td>0.002260</td>\n",
       "      <td>-0.005704</td>\n",
       "      <td>-0.001975</td>\n",
       "      <td>-0.003630</td>\n",
       "    </tr>\n",
       "  </tbody>\n",
       "</table>\n",
       "<p>1258 rows × 4 columns</p>\n",
       "</div>"
      ],
      "text/plain": [
       "                AAPL       IBM      MSFT      GOOG\n",
       "Date                                              \n",
       "2017-09-27       NaN       NaN       NaN       NaN\n",
       "2017-09-28 -0.006160  0.000000  0.000271  0.005304\n",
       "2017-09-29  0.005480 -0.003982  0.008393  0.010121\n",
       "2017-10-02 -0.002012  0.010891  0.001611 -0.006089\n",
       "2017-10-03  0.004356  0.000818 -0.004691  0.004742\n",
       "...              ...       ...       ...       ...\n",
       "2022-09-20  0.015665 -0.011195 -0.008466 -0.019451\n",
       "2022-09-21 -0.020268 -0.010847 -0.014436 -0.017873\n",
       "2022-09-22 -0.006375  0.003042  0.008495  0.005599\n",
       "2022-09-23 -0.015124 -0.020749 -0.012698 -0.013921\n",
       "2022-09-26  0.002260 -0.005704 -0.001975 -0.003630\n",
       "\n",
       "[1258 rows x 4 columns]"
      ]
     },
     "execution_count": 380,
     "metadata": {},
     "output_type": "execute_result"
    }
   ],
   "source": [
    "price.pct_change() # b-a/a 퍼센트 변화율 구하기"
   ]
  },
  {
   "cell_type": "code",
   "execution_count": 381,
   "id": "d08d1928-0079-448d-b8ff-f1675cfbe7f4",
   "metadata": {},
   "outputs": [
    {
     "data": {
      "text/html": [
       "<div>\n",
       "<style scoped>\n",
       "    .dataframe tbody tr th:only-of-type {\n",
       "        vertical-align: middle;\n",
       "    }\n",
       "\n",
       "    .dataframe tbody tr th {\n",
       "        vertical-align: top;\n",
       "    }\n",
       "\n",
       "    .dataframe thead th {\n",
       "        text-align: right;\n",
       "    }\n",
       "</style>\n",
       "<table border=\"1\" class=\"dataframe\">\n",
       "  <thead>\n",
       "    <tr style=\"text-align: right;\">\n",
       "      <th></th>\n",
       "      <th>AAPL</th>\n",
       "      <th>IBM</th>\n",
       "    </tr>\n",
       "  </thead>\n",
       "  <tbody>\n",
       "    <tr>\n",
       "      <th>AAPL</th>\n",
       "      <td>2214.473281</td>\n",
       "      <td>270.285012</td>\n",
       "    </tr>\n",
       "    <tr>\n",
       "      <th>IBM</th>\n",
       "      <td>270.285012</td>\n",
       "      <td>117.562696</td>\n",
       "    </tr>\n",
       "  </tbody>\n",
       "</table>\n",
       "</div>"
      ],
      "text/plain": [
       "             AAPL         IBM\n",
       "AAPL  2214.473281  270.285012\n",
       "IBM    270.285012  117.562696"
      ]
     },
     "execution_count": 381,
     "metadata": {},
     "output_type": "execute_result"
    }
   ],
   "source": [
    "price[['AAPL','IBM']].cov()"
   ]
  },
  {
   "cell_type": "code",
   "execution_count": 382,
   "id": "8f85162d-3e7b-44c2-9c21-e1878f5b59f5",
   "metadata": {},
   "outputs": [
    {
     "data": {
      "text/html": [
       "<div>\n",
       "<style scoped>\n",
       "    .dataframe tbody tr th:only-of-type {\n",
       "        vertical-align: middle;\n",
       "    }\n",
       "\n",
       "    .dataframe tbody tr th {\n",
       "        vertical-align: top;\n",
       "    }\n",
       "\n",
       "    .dataframe thead th {\n",
       "        text-align: right;\n",
       "    }\n",
       "</style>\n",
       "<table border=\"1\" class=\"dataframe\">\n",
       "  <thead>\n",
       "    <tr style=\"text-align: right;\">\n",
       "      <th></th>\n",
       "      <th>AAPL</th>\n",
       "      <th>IBM</th>\n",
       "      <th>MSFT</th>\n",
       "      <th>GOOG</th>\n",
       "    </tr>\n",
       "  </thead>\n",
       "  <tbody>\n",
       "    <tr>\n",
       "      <th>AAPL</th>\n",
       "      <td>2214.473281</td>\n",
       "      <td>270.285012</td>\n",
       "      <td>3624.842556</td>\n",
       "      <td>1428.983216</td>\n",
       "    </tr>\n",
       "    <tr>\n",
       "      <th>IBM</th>\n",
       "      <td>270.285012</td>\n",
       "      <td>117.562696</td>\n",
       "      <td>427.090106</td>\n",
       "      <td>211.214358</td>\n",
       "    </tr>\n",
       "    <tr>\n",
       "      <th>MSFT</th>\n",
       "      <td>3624.842556</td>\n",
       "      <td>427.090106</td>\n",
       "      <td>6213.287968</td>\n",
       "      <td>2438.946730</td>\n",
       "    </tr>\n",
       "    <tr>\n",
       "      <th>GOOG</th>\n",
       "      <td>1428.983216</td>\n",
       "      <td>211.214358</td>\n",
       "      <td>2438.946730</td>\n",
       "      <td>1030.449386</td>\n",
       "    </tr>\n",
       "  </tbody>\n",
       "</table>\n",
       "</div>"
      ],
      "text/plain": [
       "             AAPL         IBM         MSFT         GOOG\n",
       "AAPL  2214.473281  270.285012  3624.842556  1428.983216\n",
       "IBM    270.285012  117.562696   427.090106   211.214358\n",
       "MSFT  3624.842556  427.090106  6213.287968  2438.946730\n",
       "GOOG  1428.983216  211.214358  2438.946730  1030.449386"
      ]
     },
     "execution_count": 382,
     "metadata": {},
     "output_type": "execute_result"
    }
   ],
   "source": [
    "price.cov()"
   ]
  },
  {
   "cell_type": "code",
   "execution_count": 389,
   "id": "53983081-ff76-4262-8192-70b53ead2e43",
   "metadata": {},
   "outputs": [
    {
     "name": "stdout",
     "output_type": "stream",
     "text": [
      "Yes\n"
     ]
    }
   ],
   "source": [
    "if \"a\" in[\"a\",\"b\",\"c\"]:\n",
    "    print('Yes')"
   ]
  },
  {
   "cell_type": "code",
   "execution_count": 390,
   "id": "f927a4b2-4f72-490b-996a-5ac9a1a28b28",
   "metadata": {},
   "outputs": [
    {
     "data": {
      "text/html": [
       "<div>\n",
       "<style scoped>\n",
       "    .dataframe tbody tr th:only-of-type {\n",
       "        vertical-align: middle;\n",
       "    }\n",
       "\n",
       "    .dataframe tbody tr th {\n",
       "        vertical-align: top;\n",
       "    }\n",
       "\n",
       "    .dataframe thead th {\n",
       "        text-align: right;\n",
       "    }\n",
       "</style>\n",
       "<table border=\"1\" class=\"dataframe\">\n",
       "  <thead>\n",
       "    <tr style=\"text-align: right;\">\n",
       "      <th></th>\n",
       "      <th>state</th>\n",
       "      <th>year</th>\n",
       "      <th>pop</th>\n",
       "    </tr>\n",
       "  </thead>\n",
       "  <tbody>\n",
       "    <tr>\n",
       "      <th>0</th>\n",
       "      <td>True</td>\n",
       "      <td>False</td>\n",
       "      <td>False</td>\n",
       "    </tr>\n",
       "    <tr>\n",
       "      <th>1</th>\n",
       "      <td>True</td>\n",
       "      <td>False</td>\n",
       "      <td>False</td>\n",
       "    </tr>\n",
       "    <tr>\n",
       "      <th>2</th>\n",
       "      <td>True</td>\n",
       "      <td>False</td>\n",
       "      <td>False</td>\n",
       "    </tr>\n",
       "    <tr>\n",
       "      <th>3</th>\n",
       "      <td>False</td>\n",
       "      <td>False</td>\n",
       "      <td>False</td>\n",
       "    </tr>\n",
       "    <tr>\n",
       "      <th>4</th>\n",
       "      <td>False</td>\n",
       "      <td>False</td>\n",
       "      <td>False</td>\n",
       "    </tr>\n",
       "    <tr>\n",
       "      <th>5</th>\n",
       "      <td>False</td>\n",
       "      <td>False</td>\n",
       "      <td>False</td>\n",
       "    </tr>\n",
       "  </tbody>\n",
       "</table>\n",
       "</div>"
      ],
      "text/plain": [
       "   state   year    pop\n",
       "0   True  False  False\n",
       "1   True  False  False\n",
       "2   True  False  False\n",
       "3  False  False  False\n",
       "4  False  False  False\n",
       "5  False  False  False"
      ]
     },
     "execution_count": 390,
     "metadata": {},
     "output_type": "execute_result"
    }
   ],
   "source": [
    "df.isin(['Ohio'])"
   ]
  },
  {
   "cell_type": "code",
   "execution_count": 391,
   "id": "d7a32f45-ed2f-49e3-9f96-e7f3c5ec6741",
   "metadata": {},
   "outputs": [
    {
     "data": {
      "text/plain": [
       "0     True\n",
       "1     True\n",
       "2     True\n",
       "3    False\n",
       "4    False\n",
       "5    False\n",
       "Name: state, dtype: bool"
      ]
     },
     "execution_count": 391,
     "metadata": {},
     "output_type": "execute_result"
    }
   ],
   "source": [
    "df['state'].isin(['Ohio'])"
   ]
  },
  {
   "cell_type": "code",
   "execution_count": 413,
   "id": "9b75a16a-be1b-4741-ab92-0694e1b58855",
   "metadata": {},
   "outputs": [],
   "source": [
    "data = pd.DataFrame({'Qu1': [1, 3, 4, 3, 4],\n",
    "                     'Qu2': [2, 3, 1, 2, 3],\n",
    "                      'Qu3': [1, 5, 2, 4, 4]}) "
   ]
  },
  {
   "cell_type": "code",
   "execution_count": 414,
   "id": "d7d52c1c-108c-4fed-a4e6-38e388d8ef3a",
   "metadata": {},
   "outputs": [
    {
     "data": {
      "text/html": [
       "<div>\n",
       "<style scoped>\n",
       "    .dataframe tbody tr th:only-of-type {\n",
       "        vertical-align: middle;\n",
       "    }\n",
       "\n",
       "    .dataframe tbody tr th {\n",
       "        vertical-align: top;\n",
       "    }\n",
       "\n",
       "    .dataframe thead th {\n",
       "        text-align: right;\n",
       "    }\n",
       "</style>\n",
       "<table border=\"1\" class=\"dataframe\">\n",
       "  <thead>\n",
       "    <tr style=\"text-align: right;\">\n",
       "      <th></th>\n",
       "      <th>Qu1</th>\n",
       "      <th>Qu2</th>\n",
       "      <th>Qu3</th>\n",
       "    </tr>\n",
       "  </thead>\n",
       "  <tbody>\n",
       "    <tr>\n",
       "      <th>0</th>\n",
       "      <td>1</td>\n",
       "      <td>2</td>\n",
       "      <td>1</td>\n",
       "    </tr>\n",
       "    <tr>\n",
       "      <th>1</th>\n",
       "      <td>3</td>\n",
       "      <td>3</td>\n",
       "      <td>5</td>\n",
       "    </tr>\n",
       "    <tr>\n",
       "      <th>2</th>\n",
       "      <td>4</td>\n",
       "      <td>1</td>\n",
       "      <td>2</td>\n",
       "    </tr>\n",
       "    <tr>\n",
       "      <th>3</th>\n",
       "      <td>3</td>\n",
       "      <td>2</td>\n",
       "      <td>4</td>\n",
       "    </tr>\n",
       "    <tr>\n",
       "      <th>4</th>\n",
       "      <td>4</td>\n",
       "      <td>3</td>\n",
       "      <td>4</td>\n",
       "    </tr>\n",
       "  </tbody>\n",
       "</table>\n",
       "</div>"
      ],
      "text/plain": [
       "   Qu1  Qu2  Qu3\n",
       "0    1    2    1\n",
       "1    3    3    5\n",
       "2    4    1    2\n",
       "3    3    2    4\n",
       "4    4    3    4"
      ]
     },
     "execution_count": 414,
     "metadata": {},
     "output_type": "execute_result"
    }
   ],
   "source": [
    "data"
   ]
  },
  {
   "cell_type": "code",
   "execution_count": 415,
   "id": "b5135d1f-ffeb-4693-9d8f-f867c899272e",
   "metadata": {},
   "outputs": [
    {
     "data": {
      "text/plain": [
       "Qu1  Qu2  Qu3\n",
       "1    2    1      1\n",
       "3    2    4      1\n",
       "     3    5      1\n",
       "4    1    2      1\n",
       "     3    4      1\n",
       "dtype: int64"
      ]
     },
     "execution_count": 415,
     "metadata": {},
     "output_type": "execute_result"
    }
   ],
   "source": [
    "data.value_counts() # Q1은 1이 한번 3이두번 "
   ]
  },
  {
   "cell_type": "code",
   "execution_count": 418,
   "id": "0afc0905-d625-4b18-ad21-6bed017a6a6c",
   "metadata": {},
   "outputs": [
    {
     "data": {
      "text/plain": [
       "3    2\n",
       "4    2\n",
       "1    1\n",
       "Name: Qu1, dtype: int64"
      ]
     },
     "execution_count": 418,
     "metadata": {},
     "output_type": "execute_result"
    }
   ],
   "source": [
    "data['Qu1'].value_counts()"
   ]
  },
  {
   "cell_type": "code",
   "execution_count": 419,
   "id": "ee581792-c7f5-442d-b2d5-26731d1e611a",
   "metadata": {},
   "outputs": [],
   "source": [
    "import seaborn as sns"
   ]
  },
  {
   "cell_type": "code",
   "execution_count": 421,
   "id": "337b8e58-50b9-4f4e-b0cf-c23be5070f0b",
   "metadata": {},
   "outputs": [
    {
     "name": "stderr",
     "output_type": "stream",
     "text": [
      "C:\\Users\\admin\\anaconda3\\lib\\site-packages\\seaborn\\_decorators.py:36: FutureWarning: Pass the following variable as a keyword arg: x. From version 0.12, the only valid positional argument will be `data`, and passing other arguments without an explicit keyword will result in an error or misinterpretation.\n",
      "  warnings.warn(\n"
     ]
    },
    {
     "data": {
      "image/png": "[encoded data removed]",
      "text/plain": [
       "<Figure size 432x288 with 1 Axes>"
      ]
     },
     "metadata": {
      "needs_background": "light"
     },
     "output_type": "display_data"
    }
   ],
   "source": [
    "sns.countplot(data['Qu1'])"
   ]
  },
  {
   "cell_type": "code",
   "execution_count": 423,
   "id": "d533f2c9-edb4-4e4e-b670-7aba744e1005",
   "metadata": {},
   "outputs": [
    {
     "data": {
      "text/html": [
       "<div>\n",
       "<style scoped>\n",
       "    .dataframe tbody tr th:only-of-type {\n",
       "        vertical-align: middle;\n",
       "    }\n",
       "\n",
       "    .dataframe tbody tr th {\n",
       "        vertical-align: top;\n",
       "    }\n",
       "\n",
       "    .dataframe thead th {\n",
       "        text-align: right;\n",
       "    }\n",
       "</style>\n",
       "<table border=\"1\" class=\"dataframe\">\n",
       "  <thead>\n",
       "    <tr style=\"text-align: right;\">\n",
       "      <th></th>\n",
       "      <th>Qu1</th>\n",
       "      <th>Qu2</th>\n",
       "      <th>Qu3</th>\n",
       "    </tr>\n",
       "  </thead>\n",
       "  <tbody>\n",
       "    <tr>\n",
       "      <th>1</th>\n",
       "      <td>1.0</td>\n",
       "      <td>1.0</td>\n",
       "      <td>1.0</td>\n",
       "    </tr>\n",
       "    <tr>\n",
       "      <th>2</th>\n",
       "      <td>NaN</td>\n",
       "      <td>2.0</td>\n",
       "      <td>1.0</td>\n",
       "    </tr>\n",
       "    <tr>\n",
       "      <th>3</th>\n",
       "      <td>2.0</td>\n",
       "      <td>2.0</td>\n",
       "      <td>NaN</td>\n",
       "    </tr>\n",
       "    <tr>\n",
       "      <th>4</th>\n",
       "      <td>2.0</td>\n",
       "      <td>NaN</td>\n",
       "      <td>2.0</td>\n",
       "    </tr>\n",
       "    <tr>\n",
       "      <th>5</th>\n",
       "      <td>NaN</td>\n",
       "      <td>NaN</td>\n",
       "      <td>1.0</td>\n",
       "    </tr>\n",
       "  </tbody>\n",
       "</table>\n",
       "</div>"
      ],
      "text/plain": [
       "   Qu1  Qu2  Qu3\n",
       "1  1.0  1.0  1.0\n",
       "2  NaN  2.0  1.0\n",
       "3  2.0  2.0  NaN\n",
       "4  2.0  NaN  2.0\n",
       "5  NaN  NaN  1.0"
      ]
     },
     "execution_count": 423,
     "metadata": {},
     "output_type": "execute_result"
    }
   ],
   "source": [
    "df=data.apply(pd.value_counts)# pd.함수 # .mean 메소드 각 컬럼에서 해당 값이 몇번 출연인지\n",
    "df # 앞으 12345는 인덱스가 아니라 1이 한번 2가 두번 3이 두번이라는 뜻임 "
   ]
  },
  {
   "cell_type": "code",
   "execution_count": 428,
   "id": "106be196-4ab6-4a67-9c63-83b85fd9cdcd",
   "metadata": {},
   "outputs": [
    {
     "data": {
      "text/plain": [
       "<AxesSubplot:xlabel='Qu1'>"
      ]
     },
     "execution_count": 428,
     "metadata": {},
     "output_type": "execute_result"
    },
    {
     "data": {
      "image/png": "[encoded data removed]",
      "text/plain": [
       "<Figure size 432x288 with 1 Axes>"
      ]
     },
     "metadata": {
      "needs_background": "light"
     },
     "output_type": "display_data"
    }
   ],
   "source": [
    "sns.barplot(data=df, x=\"Qu1\")"
   ]
  },
  {
   "cell_type": "markdown",
   "id": "39189edd-07c0-429f-9e54-b33e45281cf2",
   "metadata": {},
   "source": [
    "## 데이터 로딩과 저장 , 파일형식"
   ]
  },
  {
   "cell_type": "code",
   "execution_count": 464,
   "id": "e3e5a190-900e-41cf-8135-a2d342ebb4f6",
   "metadata": {},
   "outputs": [
    {
     "data": {
      "text/html": [
       "<div>\n",
       "<style scoped>\n",
       "    .dataframe tbody tr th:only-of-type {\n",
       "        vertical-align: middle;\n",
       "    }\n",
       "\n",
       "    .dataframe tbody tr th {\n",
       "        vertical-align: top;\n",
       "    }\n",
       "\n",
       "    .dataframe thead th {\n",
       "        text-align: right;\n",
       "    }\n",
       "</style>\n",
       "<table border=\"1\" class=\"dataframe\">\n",
       "  <thead>\n",
       "    <tr style=\"text-align: right;\">\n",
       "      <th></th>\n",
       "      <th>Unnamed: 0</th>\n",
       "      <th>id</th>\n",
       "      <th>class</th>\n",
       "      <th>math</th>\n",
       "      <th>english</th>\n",
       "      <th>science</th>\n",
       "    </tr>\n",
       "  </thead>\n",
       "  <tbody>\n",
       "    <tr>\n",
       "      <th>0</th>\n",
       "      <td>0</td>\n",
       "      <td>1</td>\n",
       "      <td>1</td>\n",
       "      <td>50</td>\n",
       "      <td>98</td>\n",
       "      <td>50</td>\n",
       "    </tr>\n",
       "    <tr>\n",
       "      <th>1</th>\n",
       "      <td>1</td>\n",
       "      <td>2</td>\n",
       "      <td>1</td>\n",
       "      <td>60</td>\n",
       "      <td>97</td>\n",
       "      <td>60</td>\n",
       "    </tr>\n",
       "    <tr>\n",
       "      <th>2</th>\n",
       "      <td>2</td>\n",
       "      <td>3</td>\n",
       "      <td>1</td>\n",
       "      <td>45</td>\n",
       "      <td>86</td>\n",
       "      <td>78</td>\n",
       "    </tr>\n",
       "    <tr>\n",
       "      <th>3</th>\n",
       "      <td>3</td>\n",
       "      <td>4</td>\n",
       "      <td>1</td>\n",
       "      <td>30</td>\n",
       "      <td>98</td>\n",
       "      <td>58</td>\n",
       "    </tr>\n",
       "  </tbody>\n",
       "</table>\n",
       "</div>"
      ],
      "text/plain": [
       "   Unnamed: 0  id  class  math  english  science\n",
       "0           0   1      1    50       98       50\n",
       "1           1   2      1    60       97       60\n",
       "2           2   3      1    45       86       78\n",
       "3           3   4      1    30       98       58"
      ]
     },
     "execution_count": 464,
     "metadata": {},
     "output_type": "execute_result"
    }
   ],
   "source": [
    "pd.read_csv(\"csv_exam.csv\", nrows=4)"
   ]
  },
  {
   "cell_type": "code",
   "execution_count": 433,
   "id": "4bb7701a-1399-4032-964f-2dea44be2528",
   "metadata": {},
   "outputs": [
    {
     "data": {
      "text/html": [
       "<div>\n",
       "<style scoped>\n",
       "    .dataframe tbody tr th:only-of-type {\n",
       "        vertical-align: middle;\n",
       "    }\n",
       "\n",
       "    .dataframe tbody tr th {\n",
       "        vertical-align: top;\n",
       "    }\n",
       "\n",
       "    .dataframe thead th {\n",
       "        text-align: right;\n",
       "    }\n",
       "</style>\n",
       "<table border=\"1\" class=\"dataframe\">\n",
       "  <thead>\n",
       "    <tr style=\"text-align: right;\">\n",
       "      <th></th>\n",
       "      <th>Unnamed: 0</th>\n",
       "      <th>id</th>\n",
       "      <th>math</th>\n",
       "      <th>english</th>\n",
       "      <th>science</th>\n",
       "    </tr>\n",
       "    <tr>\n",
       "      <th>class</th>\n",
       "      <th></th>\n",
       "      <th></th>\n",
       "      <th></th>\n",
       "      <th></th>\n",
       "      <th></th>\n",
       "    </tr>\n",
       "  </thead>\n",
       "  <tbody>\n",
       "    <tr>\n",
       "      <th>1</th>\n",
       "      <td>0</td>\n",
       "      <td>1</td>\n",
       "      <td>50</td>\n",
       "      <td>98</td>\n",
       "      <td>50</td>\n",
       "    </tr>\n",
       "    <tr>\n",
       "      <th>1</th>\n",
       "      <td>1</td>\n",
       "      <td>2</td>\n",
       "      <td>60</td>\n",
       "      <td>97</td>\n",
       "      <td>60</td>\n",
       "    </tr>\n",
       "    <tr>\n",
       "      <th>1</th>\n",
       "      <td>2</td>\n",
       "      <td>3</td>\n",
       "      <td>45</td>\n",
       "      <td>86</td>\n",
       "      <td>78</td>\n",
       "    </tr>\n",
       "    <tr>\n",
       "      <th>1</th>\n",
       "      <td>3</td>\n",
       "      <td>4</td>\n",
       "      <td>30</td>\n",
       "      <td>98</td>\n",
       "      <td>58</td>\n",
       "    </tr>\n",
       "    <tr>\n",
       "      <th>2</th>\n",
       "      <td>4</td>\n",
       "      <td>5</td>\n",
       "      <td>25</td>\n",
       "      <td>80</td>\n",
       "      <td>65</td>\n",
       "    </tr>\n",
       "    <tr>\n",
       "      <th>2</th>\n",
       "      <td>5</td>\n",
       "      <td>6</td>\n",
       "      <td>50</td>\n",
       "      <td>89</td>\n",
       "      <td>98</td>\n",
       "    </tr>\n",
       "    <tr>\n",
       "      <th>2</th>\n",
       "      <td>6</td>\n",
       "      <td>7</td>\n",
       "      <td>80</td>\n",
       "      <td>90</td>\n",
       "      <td>45</td>\n",
       "    </tr>\n",
       "    <tr>\n",
       "      <th>2</th>\n",
       "      <td>7</td>\n",
       "      <td>8</td>\n",
       "      <td>90</td>\n",
       "      <td>78</td>\n",
       "      <td>25</td>\n",
       "    </tr>\n",
       "    <tr>\n",
       "      <th>3</th>\n",
       "      <td>8</td>\n",
       "      <td>9</td>\n",
       "      <td>20</td>\n",
       "      <td>98</td>\n",
       "      <td>15</td>\n",
       "    </tr>\n",
       "    <tr>\n",
       "      <th>3</th>\n",
       "      <td>9</td>\n",
       "      <td>10</td>\n",
       "      <td>50</td>\n",
       "      <td>98</td>\n",
       "      <td>45</td>\n",
       "    </tr>\n",
       "    <tr>\n",
       "      <th>3</th>\n",
       "      <td>10</td>\n",
       "      <td>11</td>\n",
       "      <td>65</td>\n",
       "      <td>65</td>\n",
       "      <td>65</td>\n",
       "    </tr>\n",
       "    <tr>\n",
       "      <th>3</th>\n",
       "      <td>11</td>\n",
       "      <td>12</td>\n",
       "      <td>45</td>\n",
       "      <td>85</td>\n",
       "      <td>32</td>\n",
       "    </tr>\n",
       "    <tr>\n",
       "      <th>4</th>\n",
       "      <td>12</td>\n",
       "      <td>13</td>\n",
       "      <td>46</td>\n",
       "      <td>98</td>\n",
       "      <td>65</td>\n",
       "    </tr>\n",
       "    <tr>\n",
       "      <th>4</th>\n",
       "      <td>13</td>\n",
       "      <td>14</td>\n",
       "      <td>48</td>\n",
       "      <td>87</td>\n",
       "      <td>12</td>\n",
       "    </tr>\n",
       "    <tr>\n",
       "      <th>4</th>\n",
       "      <td>14</td>\n",
       "      <td>15</td>\n",
       "      <td>75</td>\n",
       "      <td>56</td>\n",
       "      <td>78</td>\n",
       "    </tr>\n",
       "    <tr>\n",
       "      <th>4</th>\n",
       "      <td>15</td>\n",
       "      <td>16</td>\n",
       "      <td>58</td>\n",
       "      <td>98</td>\n",
       "      <td>65</td>\n",
       "    </tr>\n",
       "    <tr>\n",
       "      <th>5</th>\n",
       "      <td>16</td>\n",
       "      <td>17</td>\n",
       "      <td>65</td>\n",
       "      <td>68</td>\n",
       "      <td>98</td>\n",
       "    </tr>\n",
       "    <tr>\n",
       "      <th>5</th>\n",
       "      <td>17</td>\n",
       "      <td>18</td>\n",
       "      <td>80</td>\n",
       "      <td>78</td>\n",
       "      <td>90</td>\n",
       "    </tr>\n",
       "    <tr>\n",
       "      <th>5</th>\n",
       "      <td>18</td>\n",
       "      <td>19</td>\n",
       "      <td>89</td>\n",
       "      <td>68</td>\n",
       "      <td>87</td>\n",
       "    </tr>\n",
       "    <tr>\n",
       "      <th>5</th>\n",
       "      <td>19</td>\n",
       "      <td>20</td>\n",
       "      <td>78</td>\n",
       "      <td>83</td>\n",
       "      <td>58</td>\n",
       "    </tr>\n",
       "  </tbody>\n",
       "</table>\n",
       "</div>"
      ],
      "text/plain": [
       "       Unnamed: 0  id  math  english  science\n",
       "class                                        \n",
       "1               0   1    50       98       50\n",
       "1               1   2    60       97       60\n",
       "1               2   3    45       86       78\n",
       "1               3   4    30       98       58\n",
       "2               4   5    25       80       65\n",
       "2               5   6    50       89       98\n",
       "2               6   7    80       90       45\n",
       "2               7   8    90       78       25\n",
       "3               8   9    20       98       15\n",
       "3               9  10    50       98       45\n",
       "3              10  11    65       65       65\n",
       "3              11  12    45       85       32\n",
       "4              12  13    46       98       65\n",
       "4              13  14    48       87       12\n",
       "4              14  15    75       56       78\n",
       "4              15  16    58       98       65\n",
       "5              16  17    65       68       98\n",
       "5              17  18    80       78       90\n",
       "5              18  19    89       68       87\n",
       "5              19  20    78       83       58"
      ]
     },
     "execution_count": 433,
     "metadata": {},
     "output_type": "execute_result"
    }
   ],
   "source": [
    "pd.read_csv(\"csv_exam.csv\", index_col=['class'])"
   ]
  },
  {
   "cell_type": "code",
   "execution_count": 435,
   "id": "c3af418e-9948-41c2-b5ce-51fcc141e7e1",
   "metadata": {},
   "outputs": [
    {
     "data": {
      "text/html": [
       "<div>\n",
       "<style scoped>\n",
       "    .dataframe tbody tr th:only-of-type {\n",
       "        vertical-align: middle;\n",
       "    }\n",
       "\n",
       "    .dataframe tbody tr th {\n",
       "        vertical-align: top;\n",
       "    }\n",
       "\n",
       "    .dataframe thead th {\n",
       "        text-align: right;\n",
       "    }\n",
       "</style>\n",
       "<table border=\"1\" class=\"dataframe\">\n",
       "  <thead>\n",
       "    <tr style=\"text-align: right;\">\n",
       "      <th></th>\n",
       "      <th>pd.read_csv(\"csv_exam.csv\",</th>\n",
       "      <th>index_col=['id'])</th>\n",
       "    </tr>\n",
       "  </thead>\n",
       "  <tbody>\n",
       "  </tbody>\n",
       "</table>\n",
       "</div>"
      ],
      "text/plain": [
       "Empty DataFrame\n",
       "Columns: [pd.read_csv(\"csv_exam.csv\",, index_col=['id'])]\n",
       "Index: []"
      ]
     },
     "execution_count": 435,
     "metadata": {},
     "output_type": "execute_result"
    }
   ],
   "source": [
    "pd.read_clipboard()# 마으스로 복사한거 읽어옴"
   ]
  },
  {
   "cell_type": "code",
   "execution_count": null,
   "id": "d4b21c0c-db22-4722-ad9c-9f406ab4661a",
   "metadata": {},
   "outputs": [],
   "source": [
    "import json"
   ]
  },
  {
   "cell_type": "code",
   "execution_count": null,
   "id": "fe54bff0-d5c6-4c6e-8e81-6e941d099992",
   "metadata": {},
   "outputs": [],
   "source": [
    "pd.read_json"
   ]
  },
  {
   "cell_type": "code",
   "execution_count": 436,
   "id": "b25d2bd1-f9f7-4881-8156-f0e87ea053eb",
   "metadata": {},
   "outputs": [],
   "source": [
    "import requests"
   ]
  },
  {
   "cell_type": "code",
   "execution_count": 438,
   "id": "c7fbdbb6-7534-4bec-911d-6cfa08c49545",
   "metadata": {},
   "outputs": [],
   "source": [
    "url = 'https://api.github.com/repos/pandas-dev/pandas/issues' "
   ]
  },
  {
   "cell_type": "code",
   "execution_count": 443,
   "id": "7caca437-9e85-41a7-a105-58085add80ba",
   "metadata": {},
   "outputs": [
    {
     "data": {
      "text/plain": [
       "<Response [200]>"
      ]
     },
     "execution_count": 443,
     "metadata": {},
     "output_type": "execute_result"
    }
   ],
   "source": [
    "resp=requests.get(url)\n",
    "resp"
   ]
  },
  {
   "cell_type": "code",
   "execution_count": 447,
   "id": "6da10b92-0740-461b-9192-c671431bd22e",
   "metadata": {
    "collapsed": true,
    "jupyter": {
     "outputs_hidden": true
    },
    "tags": []
   },
   "outputs": [
    {
     "data": {
      "text/plain": [
       "[{'url': 'https://api.github.com/repos/pandas-dev/pandas/issues/48805',\n",
       "  'repository_url': 'https://api.github.com/repos/pandas-dev/pandas',\n",
       "  'labels_url': 'https://api.github.com/repos/pandas-dev/pandas/issues/48805/labels{/name}',\n",
       "  'comments_url': 'https://api.github.com/repos/pandas-dev/pandas/issues/48805/comments',\n",
       "  'events_url': 'https://api.github.com/repos/pandas-dev/pandas/issues/48805/events',\n",
       "  'html_url': 'https://github.com/pandas-dev/pandas/pull/48805',\n",
       "  'id': 1387090446,\n",
       "  'node_id': 'PR_kwDOAA0YD84_qPpH',\n",
       "  'number': 48805,\n",
       "  'title': 'Added padding and fixed columns for sponsor logos in mobile view',\n",
       "  'user': {'login': 'amay-patel',\n",
       "   'id': 92037532,\n",
       "   'node_id': 'U_kgDOBXxhnA',\n",
       "   'avatar_url': 'https://avatars.githubusercontent.com/u/92037532?v=4',\n",
       "   'gravatar_id': '',\n",
       "   'url': 'https://api.github.com/users/amay-patel',\n",
       "   'html_url': 'https://github.com/amay-patel',\n",
       "   'followers_url': 'https://api.github.com/users/amay-patel/followers',\n",
       "   'following_url': 'https://api.github.com/users/amay-patel/following{/other_user}',\n",
       "   'gists_url': 'https://api.github.com/users/amay-patel/gists{/gist_id}',\n",
       "   'starred_url': 'https://api.github.com/users/amay-patel/starred{/owner}{/repo}',\n",
       "   'subscriptions_url': 'https://api.github.com/users/amay-patel/subscriptions',\n",
       "   'organizations_url': 'https://api.github.com/users/amay-patel/orgs',\n",
       "   'repos_url': 'https://api.github.com/users/amay-patel/repos',\n",
       "   'events_url': 'https://api.github.com/users/amay-patel/events{/privacy}',\n",
       "   'received_events_url': 'https://api.github.com/users/amay-patel/received_events',\n",
       "   'type': 'User',\n",
       "   'site_admin': False},\n",
       "  'labels': [],\n",
       "  'state': 'open',\n",
       "  'locked': False,\n",
       "  'assignee': None,\n",
       "  'assignees': [],\n",
       "  'milestone': None,\n",
       "  'comments': 0,\n",
       "  'created_at': '2022-09-27T04:54:17Z',\n",
       "  'updated_at': '2022-09-27T04:54:17Z',\n",
       "  'closed_at': None,\n",
       "  'author_association': 'NONE',\n",
       "  'active_lock_reason': None,\n",
       "  'draft': False,\n",
       "  'pull_request': {'url': 'https://api.github.com/repos/pandas-dev/pandas/pulls/48805',\n",
       "   'html_url': 'https://github.com/pandas-dev/pandas/pull/48805',\n",
       "   'diff_url': 'https://github.com/pandas-dev/pandas/pull/48805.diff',\n",
       "   'patch_url': 'https://github.com/pandas-dev/pandas/pull/48805.patch',\n",
       "   'merged_at': None},\n",
       "  'body': 'Added padding and fixed columns for sponsor logos in mobile view\\r\\n\\r\\n- [ ] closes #48519  (Replace xxxx with the Github issue number)\\r\\n- [ ] [Tests added and passed](https://pandas.pydata.org/pandas-docs/dev/development/contributing_codebase.html#writing-tests) if fixing a bug or adding a new feature\\r\\n- [ ] All [code checks passed](https://pandas.pydata.org/pandas-docs/dev/development/contributing_codebase.html#pre-commit).\\r\\n- [ ] Added [type annotations](https://pandas.pydata.org/pandas-docs/dev/development/contributing_codebase.html#type-hints) to new arguments/methods/functions.\\r\\n- [ ] Added an entry in the latest `doc/source/whatsnew/vX.X.X.rst` file if fixing a bug or adding a new feature.\\r\\n',\n",
       "  'reactions': {'url': 'https://api.github.com/repos/pandas-dev/pandas/issues/48805/reactions',\n",
       "   'total_count': 0,\n",
       "   '+1': 0,\n",
       "   '-1': 0,\n",
       "   'laugh': 0,\n",
       "   'hooray': 0,\n",
       "   'confused': 0,\n",
       "   'heart': 0,\n",
       "   'rocket': 0,\n",
       "   'eyes': 0},\n",
       "  'timeline_url': 'https://api.github.com/repos/pandas-dev/pandas/issues/48805/timeline',\n",
       "  'performed_via_github_app': None,\n",
       "  'state_reason': None},\n",
       " {'url': 'https://api.github.com/repos/pandas-dev/pandas/issues/48804',\n",
       "  'repository_url': 'https://api.github.com/repos/pandas-dev/pandas',\n",
       "  'labels_url': 'https://api.github.com/repos/pandas-dev/pandas/issues/48804/labels{/name}',\n",
       "  'comments_url': 'https://api.github.com/repos/pandas-dev/pandas/issues/48804/comments',\n",
       "  'events_url': 'https://api.github.com/repos/pandas-dev/pandas/issues/48804/events',\n",
       "  'html_url': 'https://github.com/pandas-dev/pandas/pull/48804',\n",
       "  'id': 1387017557,\n",
       "  'node_id': 'PR_kwDOAA0YD84_qAIu',\n",
       "  'number': 48804,\n",
       "  'title': 'TST: Suppress Series constructor warning',\n",
       "  'user': {'login': 'mroeschke',\n",
       "   'id': 10647082,\n",
       "   'node_id': 'MDQ6VXNlcjEwNjQ3MDgy',\n",
       "   'avatar_url': 'https://avatars.githubusercontent.com/u/10647082?v=4',\n",
       "   'gravatar_id': '',\n",
       "   'url': 'https://api.github.com/users/mroeschke',\n",
       "   'html_url': 'https://github.com/mroeschke',\n",
       "   'followers_url': 'https://api.github.com/users/mroeschke/followers',\n",
       "   'following_url': 'https://api.github.com/users/mroeschke/following{/other_user}',\n",
       "   'gists_url': 'https://api.github.com/users/mroeschke/gists{/gist_id}',\n",
       "   'starred_url': 'https://api.github.com/users/mroeschke/starred{/owner}{/repo}',\n",
       "   'subscriptions_url': 'https://api.github.com/users/mroeschke/subscriptions',\n",
       "   'organizations_url': 'https://api.github.com/users/mroeschke/orgs',\n",
       "   'repos_url': 'https://api.github.com/users/mroeschke/repos',\n",
       "   'events_url': 'https://api.github.com/users/mroeschke/events{/privacy}',\n",
       "   'received_events_url': 'https://api.github.com/users/mroeschke/received_events',\n",
       "   'type': 'User',\n",
       "   'site_admin': False},\n",
       "  'labels': [{'id': 127685,\n",
       "    'node_id': 'MDU6TGFiZWwxMjc2ODU=',\n",
       "    'url': 'https://api.github.com/repos/pandas-dev/pandas/labels/Testing',\n",
       "    'name': 'Testing',\n",
       "    'color': 'C4A000',\n",
       "    'default': False,\n",
       "    'description': 'pandas testing functions or related to the test suite'},\n",
       "   {'id': 1628184320,\n",
       "    'node_id': 'MDU6TGFiZWwxNjI4MTg0MzIw',\n",
       "    'url': 'https://api.github.com/repos/pandas-dev/pandas/labels/Warnings',\n",
       "    'name': 'Warnings',\n",
       "    'color': 'f2f074',\n",
       "    'default': False,\n",
       "    'description': 'Warnings that appear or should be added to pandas'}],\n",
       "  'state': 'open',\n",
       "  'locked': False,\n",
       "  'assignee': None,\n",
       "  'assignees': [],\n",
       "  'milestone': None,\n",
       "  'comments': 0,\n",
       "  'created_at': '2022-09-27T03:24:19Z',\n",
       "  'updated_at': '2022-09-27T03:24:19Z',\n",
       "  'closed_at': None,\n",
       "  'author_association': 'MEMBER',\n",
       "  'active_lock_reason': None,\n",
       "  'draft': False,\n",
       "  'pull_request': {'url': 'https://api.github.com/repos/pandas-dev/pandas/pulls/48804',\n",
       "   'html_url': 'https://github.com/pandas-dev/pandas/pull/48804',\n",
       "   'diff_url': 'https://github.com/pandas-dev/pandas/pull/48804.diff',\n",
       "   'patch_url': 'https://github.com/pandas-dev/pandas/pull/48804.patch',\n",
       "   'merged_at': None},\n",
       "  'body': None,\n",
       "  'reactions': {'url': 'https://api.github.com/repos/pandas-dev/pandas/issues/48804/reactions',\n",
       "   'total_count': 0,\n",
       "   '+1': 0,\n",
       "   '-1': 0,\n",
       "   'laugh': 0,\n",
       "   'hooray': 0,\n",
       "   'confused': 0,\n",
       "   'heart': 0,\n",
       "   'rocket': 0,\n",
       "   'eyes': 0},\n",
       "  'timeline_url': 'https://api.github.com/repos/pandas-dev/pandas/issues/48804/timeline',\n",
       "  'performed_via_github_app': None,\n",
       "  'state_reason': None},\n",
       " {'url': 'https://api.github.com/repos/pandas-dev/pandas/issues/48803',\n",
       "  'repository_url': 'https://api.github.com/repos/pandas-dev/pandas',\n",
       "  'labels_url': 'https://api.github.com/repos/pandas-dev/pandas/issues/48803/labels{/name}',\n",
       "  'comments_url': 'https://api.github.com/repos/pandas-dev/pandas/issues/48803/comments',\n",
       "  'events_url': 'https://api.github.com/repos/pandas-dev/pandas/issues/48803/events',\n",
       "  'html_url': 'https://github.com/pandas-dev/pandas/issues/48803',\n",
       "  'id': 1386980560,\n",
       "  'node_id': 'I_kwDOAA0YD85Sq6TQ',\n",
       "  'number': 48803,\n",
       "  'title': 'DOC: Remove unsupported parameters in `Resampler.mean`',\n",
       "  'user': {'login': 'donghyyun',\n",
       "   'id': 31753237,\n",
       "   'node_id': 'MDQ6VXNlcjMxNzUzMjM3',\n",
       "   'avatar_url': 'https://avatars.githubusercontent.com/u/31753237?v=4',\n",
       "   'gravatar_id': '',\n",
       "   'url': 'https://api.github.com/users/donghyyun',\n",
       "   'html_url': 'https://github.com/donghyyun',\n",
       "   'followers_url': 'https://api.github.com/users/donghyyun/followers',\n",
       "   'following_url': 'https://api.github.com/users/donghyyun/following{/other_user}',\n",
       "   'gists_url': 'https://api.github.com/users/donghyyun/gists{/gist_id}',\n",
       "   'starred_url': 'https://api.github.com/users/donghyyun/starred{/owner}{/repo}',\n",
       "   'subscriptions_url': 'https://api.github.com/users/donghyyun/subscriptions',\n",
       "   'organizations_url': 'https://api.github.com/users/donghyyun/orgs',\n",
       "   'repos_url': 'https://api.github.com/users/donghyyun/repos',\n",
       "   'events_url': 'https://api.github.com/users/donghyyun/events{/privacy}',\n",
       "   'received_events_url': 'https://api.github.com/users/donghyyun/received_events',\n",
       "   'type': 'User',\n",
       "   'site_admin': False},\n",
       "  'labels': [{'id': 134699,\n",
       "    'node_id': 'MDU6TGFiZWwxMzQ2OTk=',\n",
       "    'url': 'https://api.github.com/repos/pandas-dev/pandas/labels/Docs',\n",
       "    'name': 'Docs',\n",
       "    'color': '3465A4',\n",
       "    'default': False,\n",
       "    'description': None},\n",
       "   {'id': 1954720290,\n",
       "    'node_id': 'MDU6TGFiZWwxOTU0NzIwMjkw',\n",
       "    'url': 'https://api.github.com/repos/pandas-dev/pandas/labels/Needs%20Triage',\n",
       "    'name': 'Needs Triage',\n",
       "    'color': '0052cc',\n",
       "    'default': False,\n",
       "    'description': 'Issue that has not been reviewed by a pandas team member'}],\n",
       "  'state': 'open',\n",
       "  'locked': False,\n",
       "  'assignee': None,\n",
       "  'assignees': [],\n",
       "  'milestone': None,\n",
       "  'comments': 1,\n",
       "  'created_at': '2022-09-27T02:31:28Z',\n",
       "  'updated_at': '2022-09-27T03:08:31Z',\n",
       "  'closed_at': None,\n",
       "  'author_association': 'NONE',\n",
       "  'active_lock_reason': None,\n",
       "  'body': \"### Pandas version checks\\n\\n- [X] I have checked that the issue still exists on the latest versions of the docs on `main` [here](https://pandas.pydata.org/docs/dev/)\\n\\n\\n### Location of the documentation\\n\\nhttps://pandas.pydata.org/docs/reference/api/pandas.core.resample.Resampler.mean.html\\n\\n### Documentation problem\\n\\nAccording to the [comment](https://github.com/pandas-dev/pandas/issues/48675#issuecomment-1255369994), numba engine hasn't be implemented for `resample`.\\r\\n\\r\\nHowever, the reference document says that they are supporting the numba engine.\\n\\n### Suggested fix for documentation\\n\\nPlease remove 'engine', 'engine_kwargs' in `parameters` section.\",\n",
       "  'reactions': {'url': 'https://api.github.com/repos/pandas-dev/pandas/issues/48803/reactions',\n",
       "   'total_count': 1,\n",
       "   '+1': 1,\n",
       "   '-1': 0,\n",
       "   'laugh': 0,\n",
       "   'hooray': 0,\n",
       "   'confused': 0,\n",
       "   'heart': 0,\n",
       "   'rocket': 0,\n",
       "   'eyes': 0},\n",
       "  'timeline_url': 'https://api.github.com/repos/pandas-dev/pandas/issues/48803/timeline',\n",
       "  'performed_via_github_app': None,\n",
       "  'state_reason': None},\n",
       " {'url': 'https://api.github.com/repos/pandas-dev/pandas/issues/48802',\n",
       "  'repository_url': 'https://api.github.com/repos/pandas-dev/pandas',\n",
       "  'labels_url': 'https://api.github.com/repos/pandas-dev/pandas/issues/48802/labels{/name}',\n",
       "  'comments_url': 'https://api.github.com/repos/pandas-dev/pandas/issues/48802/comments',\n",
       "  'events_url': 'https://api.github.com/repos/pandas-dev/pandas/issues/48802/events',\n",
       "  'html_url': 'https://github.com/pandas-dev/pandas/issues/48802',\n",
       "  'id': 1386976936,\n",
       "  'node_id': 'I_kwDOAA0YD85Sq5ao',\n",
       "  'number': 48802,\n",
       "  'title': 'ENH: support negative axis',\n",
       "  'user': {'login': 'auderson',\n",
       "   'id': 48577571,\n",
       "   'node_id': 'MDQ6VXNlcjQ4NTc3NTcx',\n",
       "   'avatar_url': 'https://avatars.githubusercontent.com/u/48577571?v=4',\n",
       "   'gravatar_id': '',\n",
       "   'url': 'https://api.github.com/users/auderson',\n",
       "   'html_url': 'https://github.com/auderson',\n",
       "   'followers_url': 'https://api.github.com/users/auderson/followers',\n",
       "   'following_url': 'https://api.github.com/users/auderson/following{/other_user}',\n",
       "   'gists_url': 'https://api.github.com/users/auderson/gists{/gist_id}',\n",
       "   'starred_url': 'https://api.github.com/users/auderson/starred{/owner}{/repo}',\n",
       "   'subscriptions_url': 'https://api.github.com/users/auderson/subscriptions',\n",
       "   'organizations_url': 'https://api.github.com/users/auderson/orgs',\n",
       "   'repos_url': 'https://api.github.com/users/auderson/repos',\n",
       "   'events_url': 'https://api.github.com/users/auderson/events{/privacy}',\n",
       "   'received_events_url': 'https://api.github.com/users/auderson/received_events',\n",
       "   'type': 'User',\n",
       "   'site_admin': False},\n",
       "  'labels': [{'id': 76812,\n",
       "    'node_id': 'MDU6TGFiZWw3NjgxMg==',\n",
       "    'url': 'https://api.github.com/repos/pandas-dev/pandas/labels/Enhancement',\n",
       "    'name': 'Enhancement',\n",
       "    'color': '4E9A06',\n",
       "    'default': False,\n",
       "    'description': None},\n",
       "   {'id': 1954720290,\n",
       "    'node_id': 'MDU6TGFiZWwxOTU0NzIwMjkw',\n",
       "    'url': 'https://api.github.com/repos/pandas-dev/pandas/labels/Needs%20Triage',\n",
       "    'name': 'Needs Triage',\n",
       "    'color': '0052cc',\n",
       "    'default': False,\n",
       "    'description': 'Issue that has not been reviewed by a pandas team member'}],\n",
       "  'state': 'open',\n",
       "  'locked': False,\n",
       "  'assignee': None,\n",
       "  'assignees': [],\n",
       "  'milestone': None,\n",
       "  'comments': 2,\n",
       "  'created_at': '2022-09-27T02:25:21Z',\n",
       "  'updated_at': '2022-09-27T04:30:36Z',\n",
       "  'closed_at': None,\n",
       "  'author_association': 'CONTRIBUTOR',\n",
       "  'active_lock_reason': None,\n",
       "  'body': '### Feature Type\\n\\n- [X] Adding new functionality to pandas\\n\\n- [ ] Changing existing functionality in pandas\\n\\n- [ ] Removing existing functionality in pandas\\n\\n\\n### Problem Description\\n\\nIt would be nice if pandas supports negative axis:\\r\\n```python\\r\\npd.DataFrame(np.arange(5)).mean(axis=-1)\\r\\n```\\n\\n### Feature Description\\n\\nThis should be easy, only need to extend current `_AXIS_TO_AXIS_NUMBER` with {-1:1, -2:0}\\n\\n### Alternative Solutions\\n\\n.\\n\\n### Additional Context\\n\\n_No response_',\n",
       "  'reactions': {'url': 'https://api.github.com/repos/pandas-dev/pandas/issues/48802/reactions',\n",
       "   'total_count': 0,\n",
       "   '+1': 0,\n",
       "   '-1': 0,\n",
       "   'laugh': 0,\n",
       "   'hooray': 0,\n",
       "   'confused': 0,\n",
       "   'heart': 0,\n",
       "   'rocket': 0,\n",
       "   'eyes': 0},\n",
       "  'timeline_url': 'https://api.github.com/repos/pandas-dev/pandas/issues/48802/timeline',\n",
       "  'performed_via_github_app': None,\n",
       "  'state_reason': None},\n",
       " {'url': 'https://api.github.com/repos/pandas-dev/pandas/issues/48801',\n",
       "  'repository_url': 'https://api.github.com/repos/pandas-dev/pandas',\n",
       "  'labels_url': 'https://api.github.com/repos/pandas-dev/pandas/issues/48801/labels{/name}',\n",
       "  'comments_url': 'https://api.github.com/repos/pandas-dev/pandas/issues/48801/comments',\n",
       "  'events_url': 'https://api.github.com/repos/pandas-dev/pandas/issues/48801/events',\n",
       "  'html_url': 'https://github.com/pandas-dev/pandas/pull/48801',\n",
       "  'id': 1386862129,\n",
       "  'node_id': 'PR_kwDOAA0YD84_pfvy',\n",
       "  'number': 48801,\n",
       "  'title': 'PERF: Delay creation of indexer in RangeIndex.sort_values',\n",
       "  'user': {'login': 'mroeschke',\n",
       "   'id': 10647082,\n",
       "   'node_id': 'MDQ6VXNlcjEwNjQ3MDgy',\n",
       "   'avatar_url': 'https://avatars.githubusercontent.com/u/10647082?v=4',\n",
       "   'gravatar_id': '',\n",
       "   'url': 'https://api.github.com/users/mroeschke',\n",
       "   'html_url': 'https://github.com/mroeschke',\n",
       "   'followers_url': 'https://api.github.com/users/mroeschke/followers',\n",
       "   'following_url': 'https://api.github.com/users/mroeschke/following{/other_user}',\n",
       "   'gists_url': 'https://api.github.com/users/mroeschke/gists{/gist_id}',\n",
       "   'starred_url': 'https://api.github.com/users/mroeschke/starred{/owner}{/repo}',\n",
       "   'subscriptions_url': 'https://api.github.com/users/mroeschke/subscriptions',\n",
       "   'organizations_url': 'https://api.github.com/users/mroeschke/orgs',\n",
       "   'repos_url': 'https://api.github.com/users/mroeschke/repos',\n",
       "   'events_url': 'https://api.github.com/users/mroeschke/events{/privacy}',\n",
       "   'received_events_url': 'https://api.github.com/users/mroeschke/received_events',\n",
       "   'type': 'User',\n",
       "   'site_admin': False},\n",
       "  'labels': [{'id': 8935311,\n",
       "    'node_id': 'MDU6TGFiZWw4OTM1MzEx',\n",
       "    'url': 'https://api.github.com/repos/pandas-dev/pandas/labels/Performance',\n",
       "    'name': 'Performance',\n",
       "    'color': 'a10c02',\n",
       "    'default': False,\n",
       "    'description': 'Memory or execution speed performance'},\n",
       "   {'id': 1218227310,\n",
       "    'node_id': 'MDU6TGFiZWwxMjE4MjI3MzEw',\n",
       "    'url': 'https://api.github.com/repos/pandas-dev/pandas/labels/Index',\n",
       "    'name': 'Index',\n",
       "    'color': 'e99695',\n",
       "    'default': False,\n",
       "    'description': 'Related to the Index class or subclasses'}],\n",
       "  'state': 'open',\n",
       "  'locked': False,\n",
       "  'assignee': None,\n",
       "  'assignees': [],\n",
       "  'milestone': None,\n",
       "  'comments': 0,\n",
       "  'created_at': '2022-09-26T23:30:16Z',\n",
       "  'updated_at': '2022-09-26T23:30:53Z',\n",
       "  'closed_at': None,\n",
       "  'author_association': 'MEMBER',\n",
       "  'active_lock_reason': None,\n",
       "  'draft': False,\n",
       "  'pull_request': {'url': 'https://api.github.com/repos/pandas-dev/pandas/pulls/48801',\n",
       "   'html_url': 'https://github.com/pandas-dev/pandas/pull/48801',\n",
       "   'diff_url': 'https://github.com/pandas-dev/pandas/pull/48801.diff',\n",
       "   'patch_url': 'https://github.com/pandas-dev/pandas/pull/48801.patch',\n",
       "   'merged_at': None},\n",
       "  'body': '- [x] All [code checks passed](https://pandas.pydata.org/pandas-docs/dev/development/contributing_codebase.html#pre-commit).\\r\\n- [x] Added an entry in the latest `doc/source/whatsnew/v1.6.0.rst` file if fixing a bug or adding a new feature.\\r\\n\\r\\n```\\r\\nIn [2]: ri = pd.RangeIndex(1_000_000)\\r\\n\\r\\nIn [3]: %memit ri.sort_values() # PR\\r\\npeak memory: 120.22 MiB, increment: 0.10 MiB\\r\\n\\r\\nIn [4]: %memit ri.sort_values() # main\\r\\npeak memory: 119.88 MiB, increment: 0.17 MiB\\r\\n```',\n",
       "  'reactions': {'url': 'https://api.github.com/repos/pandas-dev/pandas/issues/48801/reactions',\n",
       "   'total_count': 0,\n",
       "   '+1': 0,\n",
       "   '-1': 0,\n",
       "   'laugh': 0,\n",
       "   'hooray': 0,\n",
       "   'confused': 0,\n",
       "   'heart': 0,\n",
       "   'rocket': 0,\n",
       "   'eyes': 0},\n",
       "  'timeline_url': 'https://api.github.com/repos/pandas-dev/pandas/issues/48801/timeline',\n",
       "  'performed_via_github_app': None,\n",
       "  'state_reason': None},\n",
       " {'url': 'https://api.github.com/repos/pandas-dev/pandas/issues/48800',\n",
       "  'repository_url': 'https://api.github.com/repos/pandas-dev/pandas',\n",
       "  'labels_url': 'https://api.github.com/repos/pandas-dev/pandas/issues/48800/labels{/name}',\n",
       "  'comments_url': 'https://api.github.com/repos/pandas-dev/pandas/issues/48800/comments',\n",
       "  'events_url': 'https://api.github.com/repos/pandas-dev/pandas/issues/48800/events',\n",
       "  'html_url': 'https://github.com/pandas-dev/pandas/pull/48800',\n",
       "  'id': 1386839371,\n",
       "  'node_id': 'PR_kwDOAA0YD84_pawM',\n",
       "  'number': 48800,\n",
       "  'title': 'Backport PR #48608 on branch 1.5.x (REGR: assert_index_equal raising with non matching pd.NA)',\n",
       "  'user': {'login': 'meeseeksmachine',\n",
       "   'id': 39504233,\n",
       "   'node_id': 'MDQ6VXNlcjM5NTA0MjMz',\n",
       "   'avatar_url': 'https://avatars.githubusercontent.com/u/39504233?v=4',\n",
       "   'gravatar_id': '',\n",
       "   'url': 'https://api.github.com/users/meeseeksmachine',\n",
       "   'html_url': 'https://github.com/meeseeksmachine',\n",
       "   'followers_url': 'https://api.github.com/users/meeseeksmachine/followers',\n",
       "   'following_url': 'https://api.github.com/users/meeseeksmachine/following{/other_user}',\n",
       "   'gists_url': 'https://api.github.com/users/meeseeksmachine/gists{/gist_id}',\n",
       "   'starred_url': 'https://api.github.com/users/meeseeksmachine/starred{/owner}{/repo}',\n",
       "   'subscriptions_url': 'https://api.github.com/users/meeseeksmachine/subscriptions',\n",
       "   'organizations_url': 'https://api.github.com/users/meeseeksmachine/orgs',\n",
       "   'repos_url': 'https://api.github.com/users/meeseeksmachine/repos',\n",
       "   'events_url': 'https://api.github.com/users/meeseeksmachine/events{/privacy}',\n",
       "   'received_events_url': 'https://api.github.com/users/meeseeksmachine/received_events',\n",
       "   'type': 'User',\n",
       "   'site_admin': False},\n",
       "  'labels': [{'id': 127685,\n",
       "    'node_id': 'MDU6TGFiZWwxMjc2ODU=',\n",
       "    'url': 'https://api.github.com/repos/pandas-dev/pandas/labels/Testing',\n",
       "    'name': 'Testing',\n",
       "    'color': 'C4A000',\n",
       "    'default': False,\n",
       "    'description': 'pandas testing functions or related to the test suite'},\n",
       "   {'id': 1817503692,\n",
       "    'node_id': 'MDU6TGFiZWwxODE3NTAzNjky',\n",
       "    'url': 'https://api.github.com/repos/pandas-dev/pandas/labels/NA%20-%20MaskedArrays',\n",
       "    'name': 'NA - MaskedArrays',\n",
       "    'color': '8cc645',\n",
       "    'default': False,\n",
       "    'description': 'Related to pd.NA and nullable extension arrays'}],\n",
       "  'state': 'open',\n",
       "  'locked': False,\n",
       "  'assignee': None,\n",
       "  'assignees': [],\n",
       "  'milestone': {'url': 'https://api.github.com/repos/pandas-dev/pandas/milestones/98',\n",
       "   'html_url': 'https://github.com/pandas-dev/pandas/milestone/98',\n",
       "   'labels_url': 'https://api.github.com/repos/pandas-dev/pandas/milestones/98/labels',\n",
       "   'id': 8438761,\n",
       "   'node_id': 'MI_kwDOAA0YD84AgMPp',\n",
       "   'number': 98,\n",
       "   'title': '1.5.1',\n",
       "   'description': 'on-merge: backport to 1.5.x',\n",
       "   'creator': {'login': 'datapythonista',\n",
       "    'id': 10058240,\n",
       "    'node_id': 'MDQ6VXNlcjEwMDU4MjQw',\n",
       "    'avatar_url': 'https://avatars.githubusercontent.com/u/10058240?v=4',\n",
       "    'gravatar_id': '',\n",
       "    'url': 'https://api.github.com/users/datapythonista',\n",
       "    'html_url': 'https://github.com/datapythonista',\n",
       "    'followers_url': 'https://api.github.com/users/datapythonista/followers',\n",
       "    'following_url': 'https://api.github.com/users/datapythonista/following{/other_user}',\n",
       "    'gists_url': 'https://api.github.com/users/datapythonista/gists{/gist_id}',\n",
       "    'starred_url': 'https://api.github.com/users/datapythonista/starred{/owner}{/repo}',\n",
       "    'subscriptions_url': 'https://api.github.com/users/datapythonista/subscriptions',\n",
       "    'organizations_url': 'https://api.github.com/users/datapythonista/orgs',\n",
       "    'repos_url': 'https://api.github.com/users/datapythonista/repos',\n",
       "    'events_url': 'https://api.github.com/users/datapythonista/events{/privacy}',\n",
       "    'received_events_url': 'https://api.github.com/users/datapythonista/received_events',\n",
       "    'type': 'User',\n",
       "    'site_admin': False},\n",
       "   'open_issues': 21,\n",
       "   'closed_issues': 43,\n",
       "   'state': 'open',\n",
       "   'created_at': '2022-09-19T20:12:38Z',\n",
       "   'updated_at': '2022-09-26T23:00:52Z',\n",
       "   'due_on': None,\n",
       "   'closed_at': None},\n",
       "  'comments': 0,\n",
       "  'created_at': '2022-09-26T23:00:51Z',\n",
       "  'updated_at': '2022-09-26T23:00:52Z',\n",
       "  'closed_at': None,\n",
       "  'author_association': 'NONE',\n",
       "  'active_lock_reason': None,\n",
       "  'draft': False,\n",
       "  'pull_request': {'url': 'https://api.github.com/repos/pandas-dev/pandas/pulls/48800',\n",
       "   'html_url': 'https://github.com/pandas-dev/pandas/pull/48800',\n",
       "   'diff_url': 'https://github.com/pandas-dev/pandas/pull/48800.diff',\n",
       "   'patch_url': 'https://github.com/pandas-dev/pandas/pull/48800.patch',\n",
       "   'merged_at': None},\n",
       "  'body': 'Backport PR #48608: REGR: assert_index_equal raising with non matching pd.NA',\n",
       "  'reactions': {'url': 'https://api.github.com/repos/pandas-dev/pandas/issues/48800/reactions',\n",
       "   'total_count': 0,\n",
       "   '+1': 0,\n",
       "   '-1': 0,\n",
       "   'laugh': 0,\n",
       "   'hooray': 0,\n",
       "   'confused': 0,\n",
       "   'heart': 0,\n",
       "   'rocket': 0,\n",
       "   'eyes': 0},\n",
       "  'timeline_url': 'https://api.github.com/repos/pandas-dev/pandas/issues/48800/timeline',\n",
       "  'performed_via_github_app': None,\n",
       "  'state_reason': None},\n",
       " {'url': 'https://api.github.com/repos/pandas-dev/pandas/issues/48799',\n",
       "  'repository_url': 'https://api.github.com/repos/pandas-dev/pandas',\n",
       "  'labels_url': 'https://api.github.com/repos/pandas-dev/pandas/issues/48799/labels{/name}',\n",
       "  'comments_url': 'https://api.github.com/repos/pandas-dev/pandas/issues/48799/comments',\n",
       "  'events_url': 'https://api.github.com/repos/pandas-dev/pandas/issues/48799/events',\n",
       "  'html_url': 'https://github.com/pandas-dev/pandas/pull/48799',\n",
       "  'id': 1386837906,\n",
       "  'node_id': 'PR_kwDOAA0YD84_pab3',\n",
       "  'number': 48799,\n",
       "  'title': 'Backport PR #48662 on branch 1.5.x (BUG: Series.getitem not falling back to positional for bool index)',\n",
       "  'user': {'login': 'meeseeksmachine',\n",
       "   'id': 39504233,\n",
       "   'node_id': 'MDQ6VXNlcjM5NTA0MjMz',\n",
       "   'avatar_url': 'https://avatars.githubusercontent.com/u/39504233?v=4',\n",
       "   'gravatar_id': '',\n",
       "   'url': 'https://api.github.com/users/meeseeksmachine',\n",
       "   'html_url': 'https://github.com/meeseeksmachine',\n",
       "   'followers_url': 'https://api.github.com/users/meeseeksmachine/followers',\n",
       "   'following_url': 'https://api.github.com/users/meeseeksmachine/following{/other_user}',\n",
       "   'gists_url': 'https://api.github.com/users/meeseeksmachine/gists{/gist_id}',\n",
       "   'starred_url': 'https://api.github.com/users/meeseeksmachine/starred{/owner}{/repo}',\n",
       "   'subscriptions_url': 'https://api.github.com/users/meeseeksmachine/subscriptions',\n",
       "   'organizations_url': 'https://api.github.com/users/meeseeksmachine/orgs',\n",
       "   'repos_url': 'https://api.github.com/users/meeseeksmachine/repos',\n",
       "   'events_url': 'https://api.github.com/users/meeseeksmachine/events{/privacy}',\n",
       "   'received_events_url': 'https://api.github.com/users/meeseeksmachine/received_events',\n",
       "   'type': 'User',\n",
       "   'site_admin': False},\n",
       "  'labels': [{'id': 2822098,\n",
       "    'node_id': 'MDU6TGFiZWwyODIyMDk4',\n",
       "    'url': 'https://api.github.com/repos/pandas-dev/pandas/labels/Indexing',\n",
       "    'name': 'Indexing',\n",
       "    'color': '0b02e1',\n",
       "    'default': False,\n",
       "    'description': 'Related to indexing on series/frames, not to indexes themselves'},\n",
       "   {'id': 32815646,\n",
       "    'node_id': 'MDU6TGFiZWwzMjgxNTY0Ng==',\n",
       "    'url': 'https://api.github.com/repos/pandas-dev/pandas/labels/Regression',\n",
       "    'name': 'Regression',\n",
       "    'color': 'e11d21',\n",
       "    'default': False,\n",
       "    'description': 'Functionality that used to work in a prior pandas version'}],\n",
       "  'state': 'open',\n",
       "  'locked': False,\n",
       "  'assignee': None,\n",
       "  'assignees': [],\n",
       "  'milestone': {'url': 'https://api.github.com/repos/pandas-dev/pandas/milestones/98',\n",
       "   'html_url': 'https://github.com/pandas-dev/pandas/milestone/98',\n",
       "   'labels_url': 'https://api.github.com/repos/pandas-dev/pandas/milestones/98/labels',\n",
       "   'id': 8438761,\n",
       "   'node_id': 'MI_kwDOAA0YD84AgMPp',\n",
       "   'number': 98,\n",
       "   'title': '1.5.1',\n",
       "   'description': 'on-merge: backport to 1.5.x',\n",
       "   'creator': {'login': 'datapythonista',\n",
       "    'id': 10058240,\n",
       "    'node_id': 'MDQ6VXNlcjEwMDU4MjQw',\n",
       "    'avatar_url': 'https://avatars.githubusercontent.com/u/10058240?v=4',\n",
       "    'gravatar_id': '',\n",
       "    'url': 'https://api.github.com/users/datapythonista',\n",
       "    'html_url': 'https://github.com/datapythonista',\n",
       "    'followers_url': 'https://api.github.com/users/datapythonista/followers',\n",
       "    'following_url': 'https://api.github.com/users/datapythonista/following{/other_user}',\n",
       "    'gists_url': 'https://api.github.com/users/datapythonista/gists{/gist_id}',\n",
       "    'starred_url': 'https://api.github.com/users/datapythonista/starred{/owner}{/repo}',\n",
       "    'subscriptions_url': 'https://api.github.com/users/datapythonista/subscriptions',\n",
       "    'organizations_url': 'https://api.github.com/users/datapythonista/orgs',\n",
       "    'repos_url': 'https://api.github.com/users/datapythonista/repos',\n",
       "    'events_url': 'https://api.github.com/users/datapythonista/events{/privacy}',\n",
       "    'received_events_url': 'https://api.github.com/users/datapythonista/received_events',\n",
       "    'type': 'User',\n",
       "    'site_admin': False},\n",
       "   'open_issues': 21,\n",
       "   'closed_issues': 43,\n",
       "   'state': 'open',\n",
       "   'created_at': '2022-09-19T20:12:38Z',\n",
       "   'updated_at': '2022-09-26T23:00:52Z',\n",
       "   'due_on': None,\n",
       "   'closed_at': None},\n",
       "  'comments': 0,\n",
       "  'created_at': '2022-09-26T22:58:17Z',\n",
       "  'updated_at': '2022-09-26T22:58:18Z',\n",
       "  'closed_at': None,\n",
       "  'author_association': 'NONE',\n",
       "  'active_lock_reason': None,\n",
       "  'draft': False,\n",
       "  'pull_request': {'url': 'https://api.github.com/repos/pandas-dev/pandas/pulls/48799',\n",
       "   'html_url': 'https://github.com/pandas-dev/pandas/pull/48799',\n",
       "   'diff_url': 'https://github.com/pandas-dev/pandas/pull/48799.diff',\n",
       "   'patch_url': 'https://github.com/pandas-dev/pandas/pull/48799.patch',\n",
       "   'merged_at': None},\n",
       "  'body': 'Backport PR #48662: BUG: Series.getitem not falling back to positional for bool index',\n",
       "  'reactions': {'url': 'https://api.github.com/repos/pandas-dev/pandas/issues/48799/reactions',\n",
       "   'total_count': 0,\n",
       "   '+1': 0,\n",
       "   '-1': 0,\n",
       "   'laugh': 0,\n",
       "   'hooray': 0,\n",
       "   'confused': 0,\n",
       "   'heart': 0,\n",
       "   'rocket': 0,\n",
       "   'eyes': 0},\n",
       "  'timeline_url': 'https://api.github.com/repos/pandas-dev/pandas/issues/48799/timeline',\n",
       "  'performed_via_github_app': None,\n",
       "  'state_reason': None},\n",
       " {'url': 'https://api.github.com/repos/pandas-dev/pandas/issues/48798',\n",
       "  'repository_url': 'https://api.github.com/repos/pandas-dev/pandas',\n",
       "  'labels_url': 'https://api.github.com/repos/pandas-dev/pandas/issues/48798/labels{/name}',\n",
       "  'comments_url': 'https://api.github.com/repos/pandas-dev/pandas/issues/48798/comments',\n",
       "  'events_url': 'https://api.github.com/repos/pandas-dev/pandas/issues/48798/events',\n",
       "  'html_url': 'https://github.com/pandas-dev/pandas/pull/48798',\n",
       "  'id': 1386830853,\n",
       "  'node_id': 'PR_kwDOAA0YD84_pY8l',\n",
       "  'number': 48798,\n",
       "  'title': 'Backport PR #48751 on branch 1.5.x (WEB: Update link to datapythonista blog url)',\n",
       "  'user': {'login': 'meeseeksmachine',\n",
       "   'id': 39504233,\n",
       "   'node_id': 'MDQ6VXNlcjM5NTA0MjMz',\n",
       "   'avatar_url': 'https://avatars.githubusercontent.com/u/39504233?v=4',\n",
       "   'gravatar_id': '',\n",
       "   'url': 'https://api.github.com/users/meeseeksmachine',\n",
       "   'html_url': 'https://github.com/meeseeksmachine',\n",
       "   'followers_url': 'https://api.github.com/users/meeseeksmachine/followers',\n",
       "   'following_url': 'https://api.github.com/users/meeseeksmachine/following{/other_user}',\n",
       "   'gists_url': 'https://api.github.com/users/meeseeksmachine/gists{/gist_id}',\n",
       "   'starred_url': 'https://api.github.com/users/meeseeksmachine/starred{/owner}{/repo}',\n",
       "   'subscriptions_url': 'https://api.github.com/users/meeseeksmachine/subscriptions',\n",
       "   'organizations_url': 'https://api.github.com/users/meeseeksmachine/orgs',\n",
       "   'repos_url': 'https://api.github.com/users/meeseeksmachine/repos',\n",
       "   'events_url': 'https://api.github.com/users/meeseeksmachine/events{/privacy}',\n",
       "   'received_events_url': 'https://api.github.com/users/meeseeksmachine/received_events',\n",
       "   'type': 'User',\n",
       "   'site_admin': False},\n",
       "  'labels': [{'id': 1508144531,\n",
       "    'node_id': 'MDU6TGFiZWwxNTA4MTQ0NTMx',\n",
       "    'url': 'https://api.github.com/repos/pandas-dev/pandas/labels/Web',\n",
       "    'name': 'Web',\n",
       "    'color': '23ef97',\n",
       "    'default': False,\n",
       "    'description': 'pandas website'}],\n",
       "  'state': 'open',\n",
       "  'locked': False,\n",
       "  'assignee': None,\n",
       "  'assignees': [],\n",
       "  'milestone': {'url': 'https://api.github.com/repos/pandas-dev/pandas/milestones/98',\n",
       "   'html_url': 'https://github.com/pandas-dev/pandas/milestone/98',\n",
       "   'labels_url': 'https://api.github.com/repos/pandas-dev/pandas/milestones/98/labels',\n",
       "   'id': 8438761,\n",
       "   'node_id': 'MI_kwDOAA0YD84AgMPp',\n",
       "   'number': 98,\n",
       "   'title': '1.5.1',\n",
       "   'description': 'on-merge: backport to 1.5.x',\n",
       "   'creator': {'login': 'datapythonista',\n",
       "    'id': 10058240,\n",
       "    'node_id': 'MDQ6VXNlcjEwMDU4MjQw',\n",
       "    'avatar_url': 'https://avatars.githubusercontent.com/u/10058240?v=4',\n",
       "    'gravatar_id': '',\n",
       "    'url': 'https://api.github.com/users/datapythonista',\n",
       "    'html_url': 'https://github.com/datapythonista',\n",
       "    'followers_url': 'https://api.github.com/users/datapythonista/followers',\n",
       "    'following_url': 'https://api.github.com/users/datapythonista/following{/other_user}',\n",
       "    'gists_url': 'https://api.github.com/users/datapythonista/gists{/gist_id}',\n",
       "    'starred_url': 'https://api.github.com/users/datapythonista/starred{/owner}{/repo}',\n",
       "    'subscriptions_url': 'https://api.github.com/users/datapythonista/subscriptions',\n",
       "    'organizations_url': 'https://api.github.com/users/datapythonista/orgs',\n",
       "    'repos_url': 'https://api.github.com/users/datapythonista/repos',\n",
       "    'events_url': 'https://api.github.com/users/datapythonista/events{/privacy}',\n",
       "    'received_events_url': 'https://api.github.com/users/datapythonista/received_events',\n",
       "    'type': 'User',\n",
       "    'site_admin': False},\n",
       "   'open_issues': 21,\n",
       "   'closed_issues': 43,\n",
       "   'state': 'open',\n",
       "   'created_at': '2022-09-19T20:12:38Z',\n",
       "   'updated_at': '2022-09-26T23:00:52Z',\n",
       "   'due_on': None,\n",
       "   'closed_at': None},\n",
       "  'comments': 0,\n",
       "  'created_at': '2022-09-26T22:47:52Z',\n",
       "  'updated_at': '2022-09-26T22:47:53Z',\n",
       "  'closed_at': None,\n",
       "  'author_association': 'NONE',\n",
       "  'active_lock_reason': None,\n",
       "  'draft': False,\n",
       "  'pull_request': {'url': 'https://api.github.com/repos/pandas-dev/pandas/pulls/48798',\n",
       "   'html_url': 'https://github.com/pandas-dev/pandas/pull/48798',\n",
       "   'diff_url': 'https://github.com/pandas-dev/pandas/pull/48798.diff',\n",
       "   'patch_url': 'https://github.com/pandas-dev/pandas/pull/48798.patch',\n",
       "   'merged_at': None},\n",
       "  'body': 'Backport PR #48751: WEB: Update link to datapythonista blog url',\n",
       "  'reactions': {'url': 'https://api.github.com/repos/pandas-dev/pandas/issues/48798/reactions',\n",
       "   'total_count': 0,\n",
       "   '+1': 0,\n",
       "   '-1': 0,\n",
       "   'laugh': 0,\n",
       "   'hooray': 0,\n",
       "   'confused': 0,\n",
       "   'heart': 0,\n",
       "   'rocket': 0,\n",
       "   'eyes': 0},\n",
       "  'timeline_url': 'https://api.github.com/repos/pandas-dev/pandas/issues/48798/timeline',\n",
       "  'performed_via_github_app': None,\n",
       "  'state_reason': None},\n",
       " {'url': 'https://api.github.com/repos/pandas-dev/pandas/issues/48797',\n",
       "  'repository_url': 'https://api.github.com/repos/pandas-dev/pandas',\n",
       "  'labels_url': 'https://api.github.com/repos/pandas-dev/pandas/issues/48797/labels{/name}',\n",
       "  'comments_url': 'https://api.github.com/repos/pandas-dev/pandas/issues/48797/comments',\n",
       "  'events_url': 'https://api.github.com/repos/pandas-dev/pandas/issues/48797/events',\n",
       "  'html_url': 'https://github.com/pandas-dev/pandas/pull/48797',\n",
       "  'id': 1386822624,\n",
       "  'node_id': 'PR_kwDOAA0YD84_pXHI',\n",
       "  'number': 48797,\n",
       "  'title': 'REGR: fix df.apply with keyword non-zero axis',\n",
       "  'user': {'login': 'hauntsaninja',\n",
       "   'id': 12621235,\n",
       "   'node_id': 'MDQ6VXNlcjEyNjIxMjM1',\n",
       "   'avatar_url': 'https://avatars.githubusercontent.com/u/12621235?v=4',\n",
       "   'gravatar_id': '',\n",
       "   'url': 'https://api.github.com/users/hauntsaninja',\n",
       "   'html_url': 'https://github.com/hauntsaninja',\n",
       "   'followers_url': 'https://api.github.com/users/hauntsaninja/followers',\n",
       "   'following_url': 'https://api.github.com/users/hauntsaninja/following{/other_user}',\n",
       "   'gists_url': 'https://api.github.com/users/hauntsaninja/gists{/gist_id}',\n",
       "   'starred_url': 'https://api.github.com/users/hauntsaninja/starred{/owner}{/repo}',\n",
       "   'subscriptions_url': 'https://api.github.com/users/hauntsaninja/subscriptions',\n",
       "   'organizations_url': 'https://api.github.com/users/hauntsaninja/orgs',\n",
       "   'repos_url': 'https://api.github.com/users/hauntsaninja/repos',\n",
       "   'events_url': 'https://api.github.com/users/hauntsaninja/events{/privacy}',\n",
       "   'received_events_url': 'https://api.github.com/users/hauntsaninja/received_events',\n",
       "   'type': 'User',\n",
       "   'site_admin': False},\n",
       "  'labels': [{'id': 697792067,\n",
       "    'node_id': 'MDU6TGFiZWw2OTc3OTIwNjc=',\n",
       "    'url': 'https://api.github.com/repos/pandas-dev/pandas/labels/Apply',\n",
       "    'name': 'Apply',\n",
       "    'color': 'fbca04',\n",
       "    'default': False,\n",
       "    'description': 'Apply, Aggregate, Transform'}],\n",
       "  'state': 'open',\n",
       "  'locked': False,\n",
       "  'assignee': None,\n",
       "  'assignees': [],\n",
       "  'milestone': None,\n",
       "  'comments': 1,\n",
       "  'created_at': '2022-09-26T22:39:05Z',\n",
       "  'updated_at': '2022-09-26T23:25:53Z',\n",
       "  'closed_at': None,\n",
       "  'author_association': 'CONTRIBUTOR',\n",
       "  'active_lock_reason': None,\n",
       "  'draft': False,\n",
       "  'pull_request': {'url': 'https://api.github.com/repos/pandas-dev/pandas/pulls/48797',\n",
       "   'html_url': 'https://github.com/pandas-dev/pandas/pull/48797',\n",
       "   'diff_url': 'https://github.com/pandas-dev/pandas/pull/48797.diff',\n",
       "   'patch_url': 'https://github.com/pandas-dev/pandas/pull/48797.patch',\n",
       "   'merged_at': None},\n",
       "  'body': 'Fixes #48656. Builds on top of #48693.\\r\\n\\r\\nAn alternative fix could be to use `inspect.signature`, since `inspect.signature` defaults to following wrapped functions. But this seems like a more minimal change.\\r\\n\\r\\n- [ ] All [code checks passed](https://pandas.pydata.org/pandas-docs/dev/development/contributing_codebase.html#pre-commit).\\r\\n- [ ] Added an entry in the latest `doc/source/whatsnew/vX.X.X.rst` file if fixing a bug or adding a new feature.\\r\\n',\n",
       "  'reactions': {'url': 'https://api.github.com/repos/pandas-dev/pandas/issues/48797/reactions',\n",
       "   'total_count': 0,\n",
       "   '+1': 0,\n",
       "   '-1': 0,\n",
       "   'laugh': 0,\n",
       "   'hooray': 0,\n",
       "   'confused': 0,\n",
       "   'heart': 0,\n",
       "   'rocket': 0,\n",
       "   'eyes': 0},\n",
       "  'timeline_url': 'https://api.github.com/repos/pandas-dev/pandas/issues/48797/timeline',\n",
       "  'performed_via_github_app': None,\n",
       "  'state_reason': None},\n",
       " {'url': 'https://api.github.com/repos/pandas-dev/pandas/issues/48796',\n",
       "  'repository_url': 'https://api.github.com/repos/pandas-dev/pandas',\n",
       "  'labels_url': 'https://api.github.com/repos/pandas-dev/pandas/issues/48796/labels{/name}',\n",
       "  'comments_url': 'https://api.github.com/repos/pandas-dev/pandas/issues/48796/comments',\n",
       "  'events_url': 'https://api.github.com/repos/pandas-dev/pandas/issues/48796/events',\n",
       "  'html_url': 'https://github.com/pandas-dev/pandas/issues/48796',\n",
       "  'id': 1386797027,\n",
       "  'node_id': 'I_kwDOAA0YD85SqNfj',\n",
       "  'number': 48796,\n",
       "  'title': 'BUG: `pd.to_timedelta()` does not accept nullable float',\n",
       "  'user': {'login': 'davidchall',\n",
       "   'id': 1804856,\n",
       "   'node_id': 'MDQ6VXNlcjE4MDQ4NTY=',\n",
       "   'avatar_url': 'https://avatars.githubusercontent.com/u/1804856?v=4',\n",
       "   'gravatar_id': '',\n",
       "   'url': 'https://api.github.com/users/davidchall',\n",
       "   'html_url': 'https://github.com/davidchall',\n",
       "   'followers_url': 'https://api.github.com/users/davidchall/followers',\n",
       "   'following_url': 'https://api.github.com/users/davidchall/following{/other_user}',\n",
       "   'gists_url': 'https://api.github.com/users/davidchall/gists{/gist_id}',\n",
       "   'starred_url': 'https://api.github.com/users/davidchall/starred{/owner}{/repo}',\n",
       "   'subscriptions_url': 'https://api.github.com/users/davidchall/subscriptions',\n",
       "   'organizations_url': 'https://api.github.com/users/davidchall/orgs',\n",
       "   'repos_url': 'https://api.github.com/users/davidchall/repos',\n",
       "   'events_url': 'https://api.github.com/users/davidchall/events{/privacy}',\n",
       "   'received_events_url': 'https://api.github.com/users/davidchall/received_events',\n",
       "   'type': 'User',\n",
       "   'site_admin': False},\n",
       "  'labels': [{'id': 76811,\n",
       "    'node_id': 'MDU6TGFiZWw3NjgxMQ==',\n",
       "    'url': 'https://api.github.com/repos/pandas-dev/pandas/labels/Bug',\n",
       "    'name': 'Bug',\n",
       "    'color': 'e10c02',\n",
       "    'default': False,\n",
       "    'description': None},\n",
       "   {'id': 1954720290,\n",
       "    'node_id': 'MDU6TGFiZWwxOTU0NzIwMjkw',\n",
       "    'url': 'https://api.github.com/repos/pandas-dev/pandas/labels/Needs%20Triage',\n",
       "    'name': 'Needs Triage',\n",
       "    'color': '0052cc',\n",
       "    'default': False,\n",
       "    'description': 'Issue that has not been reviewed by a pandas team member'}],\n",
       "  'state': 'open',\n",
       "  'locked': False,\n",
       "  'assignee': None,\n",
       "  'assignees': [],\n",
       "  'milestone': None,\n",
       "  'comments': 0,\n",
       "  'created_at': '2022-09-26T22:19:11Z',\n",
       "  'updated_at': '2022-09-26T22:19:11Z',\n",
       "  'closed_at': None,\n",
       "  'author_association': 'CONTRIBUTOR',\n",
       "  'active_lock_reason': None,\n",
       "  'body': '### Pandas version checks\\n\\n- [X] I have checked that this issue has not already been reported.\\n\\n- [X] I have confirmed this bug exists on the [latest version](https://pandas.pydata.org/docs/whatsnew/index.html) of pandas.\\n\\n- [ ] I have confirmed this bug exists on the main branch of pandas.\\n\\n\\n### Reproducible Example\\n\\n```python\\nimport pandas as pd\\r\\npd.to_timedelta(pd.Series([1], dtype=\"Float64\"))\\n```\\n\\n\\n### Issue Description\\n\\nThe `pd.to_timedelta()` function does not accept a series using the nullable float extension dtype (either \"Float32\" or \"Float64\").\\r\\n\\r\\nAn exception is raised with the following message:\\r\\n> IndexError: only integers, slices (`:`), ellipsis (`...`), numpy.newaxis (`None`) and integer or boolean arrays are valid indices\\n\\n### Expected Behavior\\n\\nIn this example, I would expect the output to be the same as for the regular NumPy dtype:\\r\\n\\r\\n```python\\r\\npd.to_timedelta(pd.Series([1], dtype=\"float64\"))\\r\\n```\\n\\n### Installed Versions\\n\\n<details>\\r\\n\\r\\nINSTALLED VERSIONS\\r\\n------------------\\r\\ncommit           : 87cfe4e38bafe7300a6003a1d18bd80f3f77c763\\r\\npython           : 3.9.7.final.0\\r\\npython-bits      : 64\\r\\nOS               : Windows\\r\\nOS-release       : 10\\r\\nVersion          : 10.0.19044\\r\\nmachine          : AMD64\\r\\nprocessor        : Intel64 Family 6 Model 142 Stepping 12, GenuineIntel\\r\\nbyteorder        : little\\r\\nLC_ALL           : None\\r\\nLANG             : None\\r\\nLOCALE           : English_United States.1252\\r\\n\\r\\npandas           : 1.5.0\\r\\nnumpy            : 1.21.5\\r\\npytz             : 2022.1\\r\\ndateutil         : 2.8.2\\r\\nsetuptools       : 63.4.1\\r\\npip              : 22.1.2\\r\\nCython           : 0.29.30\\r\\npytest           : 7.1.2\\r\\nhypothesis       : None\\r\\nsphinx           : 5.0.2\\r\\nblosc            : None\\r\\nfeather          : None\\r\\nxlsxwriter       : 3.0.3\\r\\nlxml.etree       : 4.9.1\\r\\nhtml5lib         : None\\r\\npymysql          : None\\r\\npsycopg2         : None\\r\\njinja2           : 2.11.3\\r\\nIPython          : 8.4.0\\r\\npandas_datareader: None\\r\\nbs4              : 4.11.1\\r\\nbottleneck       : 1.3.5\\r\\nbrotli           : \\r\\nfastparquet      : None\\r\\nfsspec           : 2022.7.1\\r\\ngcsfs            : None\\r\\nmatplotlib       : 3.5.2\\r\\nnumba            : 0.55.1\\r\\nnumexpr          : 2.8.3\\r\\nodfpy            : None\\r\\nopenpyxl         : 3.0.10\\r\\npandas_gbq       : None\\r\\npyarrow          : None\\r\\npyreadstat       : None\\r\\npyxlsb           : None\\r\\ns3fs             : None\\r\\nscipy            : 1.7.1\\r\\nsnappy           : \\r\\nsqlalchemy       : 1.4.39\\r\\ntables           : 3.6.1\\r\\ntabulate         : 0.8.10\\r\\nxarray           : 0.20.1\\r\\nxlrd             : 2.0.1\\r\\nxlwt             : None\\r\\nzstandard        : None\\r\\ntzdata           : None\\r\\n\\r\\n</details>\\r\\n',\n",
       "  'reactions': {'url': 'https://api.github.com/repos/pandas-dev/pandas/issues/48796/reactions',\n",
       "   'total_count': 0,\n",
       "   '+1': 0,\n",
       "   '-1': 0,\n",
       "   'laugh': 0,\n",
       "   'hooray': 0,\n",
       "   'confused': 0,\n",
       "   'heart': 0,\n",
       "   'rocket': 0,\n",
       "   'eyes': 0},\n",
       "  'timeline_url': 'https://api.github.com/repos/pandas-dev/pandas/issues/48796/timeline',\n",
       "  'performed_via_github_app': None,\n",
       "  'state_reason': None},\n",
       " {'url': 'https://api.github.com/repos/pandas-dev/pandas/issues/48795',\n",
       "  'repository_url': 'https://api.github.com/repos/pandas-dev/pandas',\n",
       "  'labels_url': 'https://api.github.com/repos/pandas-dev/pandas/issues/48795/labels{/name}',\n",
       "  'comments_url': 'https://api.github.com/repos/pandas-dev/pandas/issues/48795/comments',\n",
       "  'events_url': 'https://api.github.com/repos/pandas-dev/pandas/issues/48795/events',\n",
       "  'html_url': 'https://github.com/pandas-dev/pandas/pull/48795',\n",
       "  'id': 1386771887,\n",
       "  'node_id': 'PR_kwDOAA0YD84_pL-F',\n",
       "  'number': 48795,\n",
       "  'title': 'Backport PR #48693 on branch 1.5.x (ENH: Make deprecate_nonkeyword_arguments alter function signature)',\n",
       "  'user': {'login': 'meeseeksmachine',\n",
       "   'id': 39504233,\n",
       "   'node_id': 'MDQ6VXNlcjM5NTA0MjMz',\n",
       "   'avatar_url': 'https://avatars.githubusercontent.com/u/39504233?v=4',\n",
       "   'gravatar_id': '',\n",
       "   'url': 'https://api.github.com/users/meeseeksmachine',\n",
       "   'html_url': 'https://github.com/meeseeksmachine',\n",
       "   'followers_url': 'https://api.github.com/users/meeseeksmachine/followers',\n",
       "   'following_url': 'https://api.github.com/users/meeseeksmachine/following{/other_user}',\n",
       "   'gists_url': 'https://api.github.com/users/meeseeksmachine/gists{/gist_id}',\n",
       "   'starred_url': 'https://api.github.com/users/meeseeksmachine/starred{/owner}{/repo}',\n",
       "   'subscriptions_url': 'https://api.github.com/users/meeseeksmachine/subscriptions',\n",
       "   'organizations_url': 'https://api.github.com/users/meeseeksmachine/orgs',\n",
       "   'repos_url': 'https://api.github.com/users/meeseeksmachine/repos',\n",
       "   'events_url': 'https://api.github.com/users/meeseeksmachine/events{/privacy}',\n",
       "   'received_events_url': 'https://api.github.com/users/meeseeksmachine/received_events',\n",
       "   'type': 'User',\n",
       "   'site_admin': False},\n",
       "  'labels': [{'id': 76812,\n",
       "    'node_id': 'MDU6TGFiZWw3NjgxMg==',\n",
       "    'url': 'https://api.github.com/repos/pandas-dev/pandas/labels/Enhancement',\n",
       "    'name': 'Enhancement',\n",
       "    'color': '4E9A06',\n",
       "    'default': False,\n",
       "    'description': None},\n",
       "   {'id': 87485152,\n",
       "    'node_id': 'MDU6TGFiZWw4NzQ4NTE1Mg==',\n",
       "    'url': 'https://api.github.com/repos/pandas-dev/pandas/labels/Deprecate',\n",
       "    'name': 'Deprecate',\n",
       "    'color': '5319e7',\n",
       "    'default': False,\n",
       "    'description': 'Functionality to remove in pandas'}],\n",
       "  'state': 'open',\n",
       "  'locked': False,\n",
       "  'assignee': None,\n",
       "  'assignees': [],\n",
       "  'milestone': {'url': 'https://api.github.com/repos/pandas-dev/pandas/milestones/98',\n",
       "   'html_url': 'https://github.com/pandas-dev/pandas/milestone/98',\n",
       "   'labels_url': 'https://api.github.com/repos/pandas-dev/pandas/milestones/98/labels',\n",
       "   'id': 8438761,\n",
       "   'node_id': 'MI_kwDOAA0YD84AgMPp',\n",
       "   'number': 98,\n",
       "   'title': '1.5.1',\n",
       "   'description': 'on-merge: backport to 1.5.x',\n",
       "   'creator': {'login': 'datapythonista',\n",
       "    'id': 10058240,\n",
       "    'node_id': 'MDQ6VXNlcjEwMDU4MjQw',\n",
       "    'avatar_url': 'https://avatars.githubusercontent.com/u/10058240?v=4',\n",
       "    'gravatar_id': '',\n",
       "    'url': 'https://api.github.com/users/datapythonista',\n",
       "    'html_url': 'https://github.com/datapythonista',\n",
       "    'followers_url': 'https://api.github.com/users/datapythonista/followers',\n",
       "    'following_url': 'https://api.github.com/users/datapythonista/following{/other_user}',\n",
       "    'gists_url': 'https://api.github.com/users/datapythonista/gists{/gist_id}',\n",
       "    'starred_url': 'https://api.github.com/users/datapythonista/starred{/owner}{/repo}',\n",
       "    'subscriptions_url': 'https://api.github.com/users/datapythonista/subscriptions',\n",
       "    'organizations_url': 'https://api.github.com/users/datapythonista/orgs',\n",
       "    'repos_url': 'https://api.github.com/users/datapythonista/repos',\n",
       "    'events_url': 'https://api.github.com/users/datapythonista/events{/privacy}',\n",
       "    'received_events_url': 'https://api.github.com/users/datapythonista/received_events',\n",
       "    'type': 'User',\n",
       "    'site_admin': False},\n",
       "   'open_issues': 21,\n",
       "   'closed_issues': 43,\n",
       "   'state': 'open',\n",
       "   'created_at': '2022-09-19T20:12:38Z',\n",
       "   'updated_at': '2022-09-26T23:00:52Z',\n",
       "   'due_on': None,\n",
       "   'closed_at': None},\n",
       "  'comments': 0,\n",
       "  'created_at': '2022-09-26T21:52:46Z',\n",
       "  'updated_at': '2022-09-26T21:52:47Z',\n",
       "  'closed_at': None,\n",
       "  'author_association': 'NONE',\n",
       "  'active_lock_reason': None,\n",
       "  'draft': False,\n",
       "  'pull_request': {'url': 'https://api.github.com/repos/pandas-dev/pandas/pulls/48795',\n",
       "   'html_url': 'https://github.com/pandas-dev/pandas/pull/48795',\n",
       "   'diff_url': 'https://github.com/pandas-dev/pandas/pull/48795.diff',\n",
       "   'patch_url': 'https://github.com/pandas-dev/pandas/pull/48795.patch',\n",
       "   'merged_at': None},\n",
       "  'body': 'Backport PR #48693: ENH: Make deprecate_nonkeyword_arguments alter function signature',\n",
       "  'reactions': {'url': 'https://api.github.com/repos/pandas-dev/pandas/issues/48795/reactions',\n",
       "   'total_count': 0,\n",
       "   '+1': 0,\n",
       "   '-1': 0,\n",
       "   'laugh': 0,\n",
       "   'hooray': 0,\n",
       "   'confused': 0,\n",
       "   'heart': 0,\n",
       "   'rocket': 0,\n",
       "   'eyes': 0},\n",
       "  'timeline_url': 'https://api.github.com/repos/pandas-dev/pandas/issues/48795/timeline',\n",
       "  'performed_via_github_app': None,\n",
       "  'state_reason': None},\n",
       " {'url': 'https://api.github.com/repos/pandas-dev/pandas/issues/48794',\n",
       "  'repository_url': 'https://api.github.com/repos/pandas-dev/pandas',\n",
       "  'labels_url': 'https://api.github.com/repos/pandas-dev/pandas/issues/48794/labels{/name}',\n",
       "  'comments_url': 'https://api.github.com/repos/pandas-dev/pandas/issues/48794/comments',\n",
       "  'events_url': 'https://api.github.com/repos/pandas-dev/pandas/issues/48794/events',\n",
       "  'html_url': 'https://github.com/pandas-dev/pandas/issues/48794',\n",
       "  'id': 1386724781,\n",
       "  'node_id': 'I_kwDOAA0YD85Sp72t',\n",
       "  'number': 48794,\n",
       "  'title': 'BUG: pandas 1.5 fails to groupby on (nullable) Int64 column with dropna=False',\n",
       "  'user': {'login': 'sm-Fifteen',\n",
       "   'id': 516999,\n",
       "   'node_id': 'MDQ6VXNlcjUxNjk5OQ==',\n",
       "   'avatar_url': 'https://avatars.githubusercontent.com/u/516999?v=4',\n",
       "   'gravatar_id': '',\n",
       "   'url': 'https://api.github.com/users/sm-Fifteen',\n",
       "   'html_url': 'https://github.com/sm-Fifteen',\n",
       "   'followers_url': 'https://api.github.com/users/sm-Fifteen/followers',\n",
       "   'following_url': 'https://api.github.com/users/sm-Fifteen/following{/other_user}',\n",
       "   'gists_url': 'https://api.github.com/users/sm-Fifteen/gists{/gist_id}',\n",
       "   'starred_url': 'https://api.github.com/users/sm-Fifteen/starred{/owner}{/repo}',\n",
       "   'subscriptions_url': 'https://api.github.com/users/sm-Fifteen/subscriptions',\n",
       "   'organizations_url': 'https://api.github.com/users/sm-Fifteen/orgs',\n",
       "   'repos_url': 'https://api.github.com/users/sm-Fifteen/repos',\n",
       "   'events_url': 'https://api.github.com/users/sm-Fifteen/events{/privacy}',\n",
       "   'received_events_url': 'https://api.github.com/users/sm-Fifteen/received_events',\n",
       "   'type': 'User',\n",
       "   'site_admin': False},\n",
       "  'labels': [{'id': 233160,\n",
       "    'node_id': 'MDU6TGFiZWwyMzMxNjA=',\n",
       "    'url': 'https://api.github.com/repos/pandas-dev/pandas/labels/Groupby',\n",
       "    'name': 'Groupby',\n",
       "    'color': '729FCF',\n",
       "    'default': False,\n",
       "    'description': None},\n",
       "   {'id': 32815646,\n",
       "    'node_id': 'MDU6TGFiZWwzMjgxNTY0Ng==',\n",
       "    'url': 'https://api.github.com/repos/pandas-dev/pandas/labels/Regression',\n",
       "    'name': 'Regression',\n",
       "    'color': 'e11d21',\n",
       "    'default': False,\n",
       "    'description': 'Functionality that used to work in a prior pandas version'},\n",
       "   {'id': 1817503692,\n",
       "    'node_id': 'MDU6TGFiZWwxODE3NTAzNjky',\n",
       "    'url': 'https://api.github.com/repos/pandas-dev/pandas/labels/NA%20-%20MaskedArrays',\n",
       "    'name': 'NA - MaskedArrays',\n",
       "    'color': '8cc645',\n",
       "    'default': False,\n",
       "    'description': 'Related to pd.NA and nullable extension arrays'}],\n",
       "  'state': 'open',\n",
       "  'locked': False,\n",
       "  'assignee': {'login': 'rhshadrach',\n",
       "   'id': 45562402,\n",
       "   'node_id': 'MDQ6VXNlcjQ1NTYyNDAy',\n",
       "   'avatar_url': 'https://avatars.githubusercontent.com/u/45562402?v=4',\n",
       "   'gravatar_id': '',\n",
       "   'url': 'https://api.github.com/users/rhshadrach',\n",
       "   'html_url': 'https://github.com/rhshadrach',\n",
       "   'followers_url': 'https://api.github.com/users/rhshadrach/followers',\n",
       "   'following_url': 'https://api.github.com/users/rhshadrach/following{/other_user}',\n",
       "   'gists_url': 'https://api.github.com/users/rhshadrach/gists{/gist_id}',\n",
       "   'starred_url': 'https://api.github.com/users/rhshadrach/starred{/owner}{/repo}',\n",
       "   'subscriptions_url': 'https://api.github.com/users/rhshadrach/subscriptions',\n",
       "   'organizations_url': 'https://api.github.com/users/rhshadrach/orgs',\n",
       "   'repos_url': 'https://api.github.com/users/rhshadrach/repos',\n",
       "   'events_url': 'https://api.github.com/users/rhshadrach/events{/privacy}',\n",
       "   'received_events_url': 'https://api.github.com/users/rhshadrach/received_events',\n",
       "   'type': 'User',\n",
       "   'site_admin': False},\n",
       "  'assignees': [{'login': 'rhshadrach',\n",
       "    'id': 45562402,\n",
       "    'node_id': 'MDQ6VXNlcjQ1NTYyNDAy',\n",
       "    'avatar_url': 'https://avatars.githubusercontent.com/u/45562402?v=4',\n",
       "    'gravatar_id': '',\n",
       "    'url': 'https://api.github.com/users/rhshadrach',\n",
       "    'html_url': 'https://github.com/rhshadrach',\n",
       "    'followers_url': 'https://api.github.com/users/rhshadrach/followers',\n",
       "    'following_url': 'https://api.github.com/users/rhshadrach/following{/other_user}',\n",
       "    'gists_url': 'https://api.github.com/users/rhshadrach/gists{/gist_id}',\n",
       "    'starred_url': 'https://api.github.com/users/rhshadrach/starred{/owner}{/repo}',\n",
       "    'subscriptions_url': 'https://api.github.com/users/rhshadrach/subscriptions',\n",
       "    'organizations_url': 'https://api.github.com/users/rhshadrach/orgs',\n",
       "    'repos_url': 'https://api.github.com/users/rhshadrach/repos',\n",
       "    'events_url': 'https://api.github.com/users/rhshadrach/events{/privacy}',\n",
       "    'received_events_url': 'https://api.github.com/users/rhshadrach/received_events',\n",
       "    'type': 'User',\n",
       "    'site_admin': False}],\n",
       "  'milestone': {'url': 'https://api.github.com/repos/pandas-dev/pandas/milestones/98',\n",
       "   'html_url': 'https://github.com/pandas-dev/pandas/milestone/98',\n",
       "   'labels_url': 'https://api.github.com/repos/pandas-dev/pandas/milestones/98/labels',\n",
       "   'id': 8438761,\n",
       "   'node_id': 'MI_kwDOAA0YD84AgMPp',\n",
       "   'number': 98,\n",
       "   'title': '1.5.1',\n",
       "   'description': 'on-merge: backport to 1.5.x',\n",
       "   'creator': {'login': 'datapythonista',\n",
       "    'id': 10058240,\n",
       "    'node_id': 'MDQ6VXNlcjEwMDU4MjQw',\n",
       "    'avatar_url': 'https://avatars.githubusercontent.com/u/10058240?v=4',\n",
       "    'gravatar_id': '',\n",
       "    'url': 'https://api.github.com/users/datapythonista',\n",
       "    'html_url': 'https://github.com/datapythonista',\n",
       "    'followers_url': 'https://api.github.com/users/datapythonista/followers',\n",
       "    'following_url': 'https://api.github.com/users/datapythonista/following{/other_user}',\n",
       "    'gists_url': 'https://api.github.com/users/datapythonista/gists{/gist_id}',\n",
       "    'starred_url': 'https://api.github.com/users/datapythonista/starred{/owner}{/repo}',\n",
       "    'subscriptions_url': 'https://api.github.com/users/datapythonista/subscriptions',\n",
       "    'organizations_url': 'https://api.github.com/users/datapythonista/orgs',\n",
       "    'repos_url': 'https://api.github.com/users/datapythonista/repos',\n",
       "    'events_url': 'https://api.github.com/users/datapythonista/events{/privacy}',\n",
       "    'received_events_url': 'https://api.github.com/users/datapythonista/received_events',\n",
       "    'type': 'User',\n",
       "    'site_admin': False},\n",
       "   'open_issues': 21,\n",
       "   'closed_issues': 43,\n",
       "   'state': 'open',\n",
       "   'created_at': '2022-09-19T20:12:38Z',\n",
       "   'updated_at': '2022-09-26T23:00:52Z',\n",
       "   'due_on': None,\n",
       "   'closed_at': None},\n",
       "  'comments': 2,\n",
       "  'created_at': '2022-09-26T21:06:50Z',\n",
       "  'updated_at': '2022-09-27T03:22:29Z',\n",
       "  'closed_at': None,\n",
       "  'author_association': 'NONE',\n",
       "  'active_lock_reason': None,\n",
       "  'body': '### Pandas version checks\\n\\n- [X] I have checked that this issue has not already been reported.\\n\\n- [X] I have confirmed this bug exists on the [latest version](https://pandas.pydata.org/docs/whatsnew/index.html) of pandas.\\n\\n- [ ] I have confirmed this bug exists on the main branch of pandas.\\n\\n\\n### Reproducible Example\\n\\n```python\\nimport numpy as np\\r\\nimport pandas as pd\\r\\n\\r\\ndf = pd.DataFrame({\\r\\n    \\'a\\':np.random.randn(150),\\r\\n    \\'b\\':np.repeat( [25,50,75,100,np.nan], 30),\\r\\n    \\'c\\':np.random.choice( [\\'panda\\',\\'python\\',\\'shark\\'], 150),\\r\\n})\\r\\n\\r\\ndf[\\'b\\'] = df[\\'b\\'].astype(\"Int64\")\\r\\ndf = df.set_index([\\'b\\', \\'c\\'])\\r\\n\\r\\ngroups = df.groupby(axis=\\'rows\\', level=\\'b\\', dropna=False)\\r\\n\\r\\n# Crashes here with something like \"index 91 is out of bounds for axis 0 with size 4\"\\r\\ngroups.ngroups\\n```\\n\\n\\n### Issue Description\\n\\nAttempting to run `df.groupby()` with an `Int64Dtype` column (nullable integers) no longer works as of Pandas 1.5.0. Seems to be caused by #46601, and I\\'m unsure if the patch at #48702 fixes this issue.\\r\\n\\r\\n```\\r\\nTraceback (most recent call last):\\r\\n  File \"pandas15_groupby_bug.py\", line 17, in <module>\\r\\n    groups.ngroups\\r\\n  File \"venv\\\\lib\\\\site-packages\\\\pandas\\\\core\\\\groupby\\\\groupby.py\", line 992, in __getattribute__\\r\\n    return super().__getattribute__(attr)\\r\\n  File \"venv\\\\lib\\\\site-packages\\\\pandas\\\\core\\\\groupby\\\\groupby.py\", line 671, in ngroups\\r\\n    return self.grouper.ngroups\\r\\n  File \"pandas\\\\_libs\\\\properties.pyx\", line 36, in pandas._libs.properties.CachedProperty.__get__\\r\\n  File \"venv\\\\lib\\\\site-packages\\\\pandas\\\\core\\\\groupby\\\\ops.py\", line 983, in ngroups\\r\\n    return len(self.result_index)\\r\\n  File \"pandas\\\\_libs\\\\properties.pyx\", line 36, in pandas._libs.properties.CachedProperty.__get__\\r\\n  File \"venv\\\\lib\\\\site-packages\\\\pandas\\\\core\\\\groupby\\\\ops.py\", line 994, in result_index\\r\\n    return self.groupings[0].result_index.rename(self.names[0])\\r\\n  File \"pandas\\\\_libs\\\\properties.pyx\", line 36, in pandas._libs.properties.CachedProperty.__get__\\r\\n  File \"venv\\\\lib\\\\site-packages\\\\pandas\\\\core\\\\groupby\\\\grouper.py\", line 648, in result_index\\r\\n    return self.group_index\\r\\n  File \"pandas\\\\_libs\\\\properties.pyx\", line 36, in pandas._libs.properties.CachedProperty.__get__\\r\\n  File \"venv\\\\lib\\\\site-packages\\\\pandas\\\\core\\\\groupby\\\\grouper.py\", line 656, in group_index\\r\\n    uniques = self._codes_and_uniques[1]\\r\\n  File \"pandas\\\\_libs\\\\properties.pyx\", line 36, in pandas._libs.properties.CachedProperty.__get__\\r\\n  File \"venv\\\\lib\\\\site-packages\\\\pandas\\\\core\\\\groupby\\\\grouper.py\", line 693, in _codes_and_uniques\\r\\n    codes, uniques = algorithms.factorize(  # type: ignore[assignment]\\r\\n  File \"venv\\\\lib\\\\site-packages\\\\pandas\\\\core\\\\algorithms.py\", line 792, in factorize\\r\\n    codes, uniques = values.factorize(  # type: ignore[call-arg]\\r\\n  File \"venv\\\\lib\\\\site-packages\\\\pandas\\\\core\\\\arrays\\\\masked.py\", line 918, in factorize\\r\\n    uniques = np.insert(uniques, na_code, 0)\\r\\n  File \"<__array_function__ internals>\", line 180, in insert\\r\\n  File \"venv\\\\lib\\\\site-packages\\\\numpy\\\\lib\\\\function_base.py\", line 5332, in insert\\r\\n    raise IndexError(f\"index {obj} is out of bounds for axis {axis} \"\\r\\nIndexError: index 91 is out of bounds for axis 0 with size 4\\r\\n\\r\\n```\\n\\n### Expected Behavior\\n\\nGroupby shouldn\\'t throw, and behave the same as on Pandas 1.4.\\n\\n### Installed Versions\\n\\n<details>\\r\\ncommit           : 87cfe4e38bafe7300a6003a1d18bd80f3f77c763\\r\\npython           : 3.8.10.final.0\\r\\npython-bits      : 64\\r\\nOS               : Windows\\r\\nOS-release       : 10\\r\\nVersion          : 10.0.19042\\r\\nmachine          : AMD64\\r\\nprocessor        : Intel64 Family 6 Model 158 Stepping 10, GenuineIntel\\r\\nbyteorder        : little\\r\\nLC_ALL           : None\\r\\nLANG             : None\\r\\nLOCALE           : French_Canada.1252\\r\\npandas           : 1.5.0\\r\\nnumpy            : 1.23.3\\r\\npytz             : 2022.2.1\\r\\ndateutil         : 2.8.2\\r\\nsetuptools       : 60.2.0\\r\\npip              : 21.3.1\\r\\nCython           : None\\r\\npytest           : None\\r\\nhypothesis       : None\\r\\nsphinx           : None\\r\\nblosc            : None\\r\\nfeather          : None\\r\\nxlsxwriter       : 3.0.3\\r\\nlxml.etree       : None\\r\\nhtml5lib         : None\\r\\npymysql          : None\\r\\npsycopg2         : 2.9.3\\r\\njinja2           : 3.1.2\\r\\nIPython          : None\\r\\npandas_datareader: None\\r\\nbs4              : None\\r\\nbottleneck       : None\\r\\nbrotli           : None\\r\\nfastparquet      : None\\r\\nfsspec           : 2022.8.2\\r\\ngcsfs            : None\\r\\nmatplotlib       : None\\r\\nnumba            : None\\r\\nnumexpr          : None\\r\\nodfpy            : None\\r\\nopenpyxl         : None\\r\\npandas_gbq       : None\\r\\npyarrow          : 9.0.0\\r\\npyreadstat       : None\\r\\npyxlsb           : None\\r\\ns3fs             : None\\r\\nscipy            : None\\r\\nsnappy           : None\\r\\nsqlalchemy       : 1.3.24\\r\\ntables           : None\\r\\ntabulate         : 0.8.10\\r\\nxarray           : None\\r\\nxlrd             : None\\r\\nxlwt             : None\\r\\nzstandard        : None\\r\\ntzdata           : None\\r\\n</details>\\r\\n',\n",
       "  'reactions': {'url': 'https://api.github.com/repos/pandas-dev/pandas/issues/48794/reactions',\n",
       "   'total_count': 0,\n",
       "   '+1': 0,\n",
       "   '-1': 0,\n",
       "   'laugh': 0,\n",
       "   'hooray': 0,\n",
       "   'confused': 0,\n",
       "   'heart': 0,\n",
       "   'rocket': 0,\n",
       "   'eyes': 0},\n",
       "  'timeline_url': 'https://api.github.com/repos/pandas-dev/pandas/issues/48794/timeline',\n",
       "  'performed_via_github_app': None,\n",
       "  'state_reason': None},\n",
       " {'url': 'https://api.github.com/repos/pandas-dev/pandas/issues/48792',\n",
       "  'repository_url': 'https://api.github.com/repos/pandas-dev/pandas',\n",
       "  'labels_url': 'https://api.github.com/repos/pandas-dev/pandas/issues/48792/labels{/name}',\n",
       "  'comments_url': 'https://api.github.com/repos/pandas-dev/pandas/issues/48792/comments',\n",
       "  'events_url': 'https://api.github.com/repos/pandas-dev/pandas/issues/48792/events',\n",
       "  'html_url': 'https://github.com/pandas-dev/pandas/issues/48792',\n",
       "  'id': 1386687508,\n",
       "  'node_id': 'I_kwDOAA0YD85SpywU',\n",
       "  'number': 48792,\n",
       "  'title': 'DEPR: inplace in DataFrameGroupBy.fillna and SeriesGroupBy.fillna',\n",
       "  'user': {'login': 'rhshadrach',\n",
       "   'id': 45562402,\n",
       "   'node_id': 'MDQ6VXNlcjQ1NTYyNDAy',\n",
       "   'avatar_url': 'https://avatars.githubusercontent.com/u/45562402?v=4',\n",
       "   'gravatar_id': '',\n",
       "   'url': 'https://api.github.com/users/rhshadrach',\n",
       "   'html_url': 'https://github.com/rhshadrach',\n",
       "   'followers_url': 'https://api.github.com/users/rhshadrach/followers',\n",
       "   'following_url': 'https://api.github.com/users/rhshadrach/following{/other_user}',\n",
       "   'gists_url': 'https://api.github.com/users/rhshadrach/gists{/gist_id}',\n",
       "   'starred_url': 'https://api.github.com/users/rhshadrach/starred{/owner}{/repo}',\n",
       "   'subscriptions_url': 'https://api.github.com/users/rhshadrach/subscriptions',\n",
       "   'organizations_url': 'https://api.github.com/users/rhshadrach/orgs',\n",
       "   'repos_url': 'https://api.github.com/users/rhshadrach/repos',\n",
       "   'events_url': 'https://api.github.com/users/rhshadrach/events{/privacy}',\n",
       "   'received_events_url': 'https://api.github.com/users/rhshadrach/received_events',\n",
       "   'type': 'User',\n",
       "   'site_admin': False},\n",
       "  'labels': [{'id': 233160,\n",
       "    'node_id': 'MDU6TGFiZWwyMzMxNjA=',\n",
       "    'url': 'https://api.github.com/repos/pandas-dev/pandas/labels/Groupby',\n",
       "    'name': 'Groupby',\n",
       "    'color': '729FCF',\n",
       "    'default': False,\n",
       "    'description': None},\n",
       "   {'id': 2822342,\n",
       "    'node_id': 'MDU6TGFiZWwyODIyMzQy',\n",
       "    'url': 'https://api.github.com/repos/pandas-dev/pandas/labels/Missing-data',\n",
       "    'name': 'Missing-data',\n",
       "    'color': 'd7e102',\n",
       "    'default': False,\n",
       "    'description': 'np.nan, pd.NaT, pd.NA, dropna, isnull, interpolate'},\n",
       "   {'id': 87485152,\n",
       "    'node_id': 'MDU6TGFiZWw4NzQ4NTE1Mg==',\n",
       "    'url': 'https://api.github.com/repos/pandas-dev/pandas/labels/Deprecate',\n",
       "    'name': 'Deprecate',\n",
       "    'color': '5319e7',\n",
       "    'default': False,\n",
       "    'description': 'Functionality to remove in pandas'}],\n",
       "  'state': 'open',\n",
       "  'locked': False,\n",
       "  'assignee': None,\n",
       "  'assignees': [],\n",
       "  'milestone': None,\n",
       "  'comments': 0,\n",
       "  'created_at': '2022-09-26T20:33:45Z',\n",
       "  'updated_at': '2022-09-26T20:33:45Z',\n",
       "  'closed_at': None,\n",
       "  'author_association': 'MEMBER',\n",
       "  'active_lock_reason': None,\n",
       "  'body': \"Specifying `inplace` returns an empty frame or a Series with all `None` values, and neither modifies the original input. Instead of fixing this, I think we should deprecate the `inplace` argument of these methods.\\r\\n\\r\\n```\\r\\ndf = pd.DataFrame({'a': [1, 1, 2], 'b': [np.nan, 3, np.nan]})\\r\\ngb = df.groupby('a')\\r\\n\\r\\nprint(gb.fillna(0, inplace=True))\\r\\n# Empty DataFrame\\r\\n# Columns: []\\r\\n# Index: []\\r\\n\\r\\nprint(gb['b'].fillna(0, inplace=True))\\r\\n# a\\r\\n# 1    None\\r\\n# 2    None\\r\\n# Name: b, dtype: object\\r\\n\\r\\nprint(df)\\r\\n#    a    b\\r\\n# 0  1  NaN\\r\\n# 1  1  3.0\\r\\n# 2  2  NaN\\r\\n```\",\n",
       "  'reactions': {'url': 'https://api.github.com/repos/pandas-dev/pandas/issues/48792/reactions',\n",
       "   'total_count': 0,\n",
       "   '+1': 0,\n",
       "   '-1': 0,\n",
       "   'laugh': 0,\n",
       "   'hooray': 0,\n",
       "   'confused': 0,\n",
       "   'heart': 0,\n",
       "   'rocket': 0,\n",
       "   'eyes': 0},\n",
       "  'timeline_url': 'https://api.github.com/repos/pandas-dev/pandas/issues/48792/timeline',\n",
       "  'performed_via_github_app': None,\n",
       "  'state_reason': None},\n",
       " {'url': 'https://api.github.com/repos/pandas-dev/pandas/issues/48791',\n",
       "  'repository_url': 'https://api.github.com/repos/pandas-dev/pandas',\n",
       "  'labels_url': 'https://api.github.com/repos/pandas-dev/pandas/issues/48791/labels{/name}',\n",
       "  'comments_url': 'https://api.github.com/repos/pandas-dev/pandas/issues/48791/comments',\n",
       "  'events_url': 'https://api.github.com/repos/pandas-dev/pandas/issues/48791/events',\n",
       "  'html_url': 'https://github.com/pandas-dev/pandas/issues/48791',\n",
       "  'id': 1386627554,\n",
       "  'node_id': 'I_kwDOAA0YD85SpkHi',\n",
       "  'number': 48791,\n",
       "  'title': 'BUG: convert_dtypes() leaves int + pd.NA Series as object instead of converting to Int64',\n",
       "  'user': {'login': 'zaneselvans',\n",
       "   'id': 596279,\n",
       "   'node_id': 'MDQ6VXNlcjU5NjI3OQ==',\n",
       "   'avatar_url': 'https://avatars.githubusercontent.com/u/596279?v=4',\n",
       "   'gravatar_id': '',\n",
       "   'url': 'https://api.github.com/users/zaneselvans',\n",
       "   'html_url': 'https://github.com/zaneselvans',\n",
       "   'followers_url': 'https://api.github.com/users/zaneselvans/followers',\n",
       "   'following_url': 'https://api.github.com/users/zaneselvans/following{/other_user}',\n",
       "   'gists_url': 'https://api.github.com/users/zaneselvans/gists{/gist_id}',\n",
       "   'starred_url': 'https://api.github.com/users/zaneselvans/starred{/owner}{/repo}',\n",
       "   'subscriptions_url': 'https://api.github.com/users/zaneselvans/subscriptions',\n",
       "   'organizations_url': 'https://api.github.com/users/zaneselvans/orgs',\n",
       "   'repos_url': 'https://api.github.com/users/zaneselvans/repos',\n",
       "   'events_url': 'https://api.github.com/users/zaneselvans/events{/privacy}',\n",
       "   'received_events_url': 'https://api.github.com/users/zaneselvans/received_events',\n",
       "   'type': 'User',\n",
       "   'site_admin': False},\n",
       "  'labels': [{'id': 76811,\n",
       "    'node_id': 'MDU6TGFiZWw3NjgxMQ==',\n",
       "    'url': 'https://api.github.com/repos/pandas-dev/pandas/labels/Bug',\n",
       "    'name': 'Bug',\n",
       "    'color': 'e10c02',\n",
       "    'default': False,\n",
       "    'description': None},\n",
       "   {'id': 1954720290,\n",
       "    'node_id': 'MDU6TGFiZWwxOTU0NzIwMjkw',\n",
       "    'url': 'https://api.github.com/repos/pandas-dev/pandas/labels/Needs%20Triage',\n",
       "    'name': 'Needs Triage',\n",
       "    'color': '0052cc',\n",
       "    'default': False,\n",
       "    'description': 'Issue that has not been reviewed by a pandas team member'}],\n",
       "  'state': 'open',\n",
       "  'locked': False,\n",
       "  'assignee': None,\n",
       "  'assignees': [],\n",
       "  'milestone': None,\n",
       "  'comments': 0,\n",
       "  'created_at': '2022-09-26T19:51:30Z',\n",
       "  'updated_at': '2022-09-26T19:51:30Z',\n",
       "  'closed_at': None,\n",
       "  'author_association': 'NONE',\n",
       "  'active_lock_reason': None,\n",
       "  'body': '### Pandas version checks\\n\\n- [X] I have checked that this issue has not already been reported.\\n\\n- [X] I have confirmed this bug exists on the [latest version](https://pandas.pydata.org/docs/whatsnew/index.html) of pandas.\\n\\n- [ ] I have confirmed this bug exists on the main branch of pandas.\\n\\n\\n### Reproducible Example\\n\\n```python\\nimport numpy as np\\r\\nimport pandas as pd\\r\\nfrom pandas.testing import assert_series_equal\\r\\n\\r\\n# Passes -- both dtypes are Int64\\r\\ns1 = pd.Series([0, 1, 2, 3])\\r\\nassert_series_equal(s1.astype(\"Int64\"), s1.convert_dtypes())\\r\\n\\r\\n# Passes -- both dtypes are Int64\\r\\ns2 = pd.Series([0, 1, 2, np.nan])\\r\\nassert_series_equal(s2.astype(\"Int64\"), s2.convert_dtypes())\\r\\n\\r\\n# Passes -- both dtypes are Int64\\r\\ns3 = pd.Series([0, 1, 2, None])\\r\\nassert_series_equal(s3.astype(\"Int64\"), s3.convert_dtypes())\\r\\n\\r\\n# Fails -- dtypes are different (object vs. Int64)\\r\\ns4 = pd.Series([0, 1, 2, pd.NA])\\r\\nassert_series_equal(s4.astype(\"Int64\"), s4.convert_dtypes())\\r\\n# Attribute \"dtype\" are different\\r\\n# [left]:  Int64\\r\\n# [right]: object\\n```\\n\\n\\n### Issue Description\\n\\nWith a Series containing python `int`s and values of `np.nan` or `None`, `convert_dtypes()` infers that the type should be the nullable pandas type `Int64` and converts, as it does for a Series composed entirely of valid `int`s. However, a Series that contains `int` and `pd.NA` missing values unexpectedly retains its object dtype.\\r\\n\\r\\nThis behavior is present in at least pandas v1.4.4 and v1.5.0.\\n\\n### Expected Behavior\\n\\nGiven that `pd.NA` is already the appropriate missing value for an `Int64` Series, I thought that `convert_dtypes()` would convert the type of the Series from `object` to `Int64`. This is also what I expected based on [the documentation](https://pandas.pydata.org/pandas-docs/version/1.4/reference/api/pandas.DataFrame.convert_dtypes.html):\\r\\n\\r\\n> For object-dtyped columns, if infer_objects is True, use the inference rules as during normal Series/DataFrame construction. Then, if possible, convert to StringDtype, BooleanDtype or an appropriate integer or floating extension type, otherwise leave as object.\\r\\n\\r\\nClearly it\\'s possible to convert to `Int64` since the explicit `astype(\"Int64\")` has no problem.\\n\\n### Installed Versions\\n\\n<details>\\r\\n\\r\\nINSTALLED VERSIONS\\r\\n------------------\\r\\ncommit           : 87cfe4e38bafe7300a6003a1d18bd80f3f77c763\\r\\npython           : 3.10.6.final.0\\r\\npython-bits      : 64\\r\\nOS               : Linux\\r\\nOS-release       : 5.15.0-48-generic\\r\\nVersion          : #54-Ubuntu SMP Fri Aug 26 13:26:29 UTC 2022\\r\\nmachine          : x86_64\\r\\nprocessor        : x86_64\\r\\nbyteorder        : little\\r\\nLC_ALL           : None\\r\\nLANG             : en_US.UTF-8\\r\\nLOCALE           : en_US.UTF-8\\r\\n\\r\\npandas           : 1.5.0\\r\\nnumpy            : 1.23.3\\r\\npytz             : 2022.2.1\\r\\ndateutil         : 2.8.2\\r\\nsetuptools       : 65.4.0\\r\\npip              : 22.2.2\\r\\nCython           : None\\r\\npytest           : None\\r\\nhypothesis       : None\\r\\nsphinx           : None\\r\\nblosc            : None\\r\\nfeather          : None\\r\\nxlsxwriter       : None\\r\\nlxml.etree       : None\\r\\nhtml5lib         : None\\r\\npymysql          : None\\r\\npsycopg2         : None\\r\\njinja2           : None\\r\\nIPython          : None\\r\\npandas_datareader: None\\r\\nbs4              : None\\r\\nbottleneck       : None\\r\\nbrotli           : None\\r\\nfastparquet      : None\\r\\nfsspec           : None\\r\\ngcsfs            : None\\r\\nmatplotlib       : None\\r\\nnumba            : None\\r\\nnumexpr          : None\\r\\nodfpy            : None\\r\\nopenpyxl         : None\\r\\npandas_gbq       : None\\r\\npyarrow          : None\\r\\npyreadstat       : None\\r\\npyxlsb           : None\\r\\ns3fs             : None\\r\\nscipy            : None\\r\\nsnappy           : None\\r\\nsqlalchemy       : None\\r\\ntables           : None\\r\\ntabulate         : None\\r\\nxarray           : None\\r\\nxlrd             : None\\r\\nxlwt             : None\\r\\nzstandard        : None\\r\\ntzdata           : None\\r\\n\\r\\n</details>\\r\\n',\n",
       "  'reactions': {'url': 'https://api.github.com/repos/pandas-dev/pandas/issues/48791/reactions',\n",
       "   'total_count': 0,\n",
       "   '+1': 0,\n",
       "   '-1': 0,\n",
       "   'laugh': 0,\n",
       "   'hooray': 0,\n",
       "   'confused': 0,\n",
       "   'heart': 0,\n",
       "   'rocket': 0,\n",
       "   'eyes': 0},\n",
       "  'timeline_url': 'https://api.github.com/repos/pandas-dev/pandas/issues/48791/timeline',\n",
       "  'performed_via_github_app': None,\n",
       "  'state_reason': None},\n",
       " {'url': 'https://api.github.com/repos/pandas-dev/pandas/issues/48790',\n",
       "  'repository_url': 'https://api.github.com/repos/pandas-dev/pandas',\n",
       "  'labels_url': 'https://api.github.com/repos/pandas-dev/pandas/issues/48790/labels{/name}',\n",
       "  'comments_url': 'https://api.github.com/repos/pandas-dev/pandas/issues/48790/comments',\n",
       "  'events_url': 'https://api.github.com/repos/pandas-dev/pandas/issues/48790/events',\n",
       "  'html_url': 'https://github.com/pandas-dev/pandas/pull/48790',\n",
       "  'id': 1386567749,\n",
       "  'node_id': 'PR_kwDOAA0YD84_ofDY',\n",
       "  'number': 48790,\n",
       "  'title': 'Created icons for dark theme',\n",
       "  'user': {'login': 'lorenzovngl',\n",
       "   'id': 13767301,\n",
       "   'node_id': 'MDQ6VXNlcjEzNzY3MzAx',\n",
       "   'avatar_url': 'https://avatars.githubusercontent.com/u/13767301?v=4',\n",
       "   'gravatar_id': '',\n",
       "   'url': 'https://api.github.com/users/lorenzovngl',\n",
       "   'html_url': 'https://github.com/lorenzovngl',\n",
       "   'followers_url': 'https://api.github.com/users/lorenzovngl/followers',\n",
       "   'following_url': 'https://api.github.com/users/lorenzovngl/following{/other_user}',\n",
       "   'gists_url': 'https://api.github.com/users/lorenzovngl/gists{/gist_id}',\n",
       "   'starred_url': 'https://api.github.com/users/lorenzovngl/starred{/owner}{/repo}',\n",
       "   'subscriptions_url': 'https://api.github.com/users/lorenzovngl/subscriptions',\n",
       "   'organizations_url': 'https://api.github.com/users/lorenzovngl/orgs',\n",
       "   'repos_url': 'https://api.github.com/users/lorenzovngl/repos',\n",
       "   'events_url': 'https://api.github.com/users/lorenzovngl/events{/privacy}',\n",
       "   'received_events_url': 'https://api.github.com/users/lorenzovngl/received_events',\n",
       "   'type': 'User',\n",
       "   'site_admin': False},\n",
       "  'labels': [{'id': 1508144531,\n",
       "    'node_id': 'MDU6TGFiZWwxNTA4MTQ0NTMx',\n",
       "    'url': 'https://api.github.com/repos/pandas-dev/pandas/labels/Web',\n",
       "    'name': 'Web',\n",
       "    'color': '23ef97',\n",
       "    'default': False,\n",
       "    'description': 'pandas website'}],\n",
       "  'state': 'open',\n",
       "  'locked': False,\n",
       "  'assignee': None,\n",
       "  'assignees': [],\n",
       "  'milestone': None,\n",
       "  'comments': 1,\n",
       "  'created_at': '2022-09-26T19:04:45Z',\n",
       "  'updated_at': '2022-09-26T22:31:24Z',\n",
       "  'closed_at': None,\n",
       "  'author_association': 'NONE',\n",
       "  'active_lock_reason': None,\n",
       "  'draft': False,\n",
       "  'pull_request': {'url': 'https://api.github.com/repos/pandas-dev/pandas/pulls/48790',\n",
       "   'html_url': 'https://github.com/pandas-dev/pandas/pull/48790',\n",
       "   'diff_url': 'https://github.com/pandas-dev/pandas/pull/48790.diff',\n",
       "   'patch_url': 'https://github.com/pandas-dev/pandas/pull/48790.patch',\n",
       "   'merged_at': None},\n",
       "  'body': '- [x] closes #48762\\r\\n\\r\\nFor the `svg` images mentioned in the referred issue, I created a version for the dark theme as suggested by @datapythonista.\\r\\nThe images are retrieved by the pydata sphinx theme as explained in [PyData Theme documentation](https://pydata-sphinx-theme.readthedocs.io/en/stable/user_guide/light-dark.html#use-theme-dependent-content).',\n",
       "  'reactions': {'url': 'https://api.github.com/repos/pandas-dev/pandas/issues/48790/reactions',\n",
       "   'total_count': 0,\n",
       "   '+1': 0,\n",
       "   '-1': 0,\n",
       "   'laugh': 0,\n",
       "   'hooray': 0,\n",
       "   'confused': 0,\n",
       "   'heart': 0,\n",
       "   'rocket': 0,\n",
       "   'eyes': 0},\n",
       "  'timeline_url': 'https://api.github.com/repos/pandas-dev/pandas/issues/48790/timeline',\n",
       "  'performed_via_github_app': None,\n",
       "  'state_reason': None},\n",
       " {'url': 'https://api.github.com/repos/pandas-dev/pandas/issues/48789',\n",
       "  'repository_url': 'https://api.github.com/repos/pandas-dev/pandas',\n",
       "  'labels_url': 'https://api.github.com/repos/pandas-dev/pandas/issues/48789/labels{/name}',\n",
       "  'comments_url': 'https://api.github.com/repos/pandas-dev/pandas/issues/48789/comments',\n",
       "  'events_url': 'https://api.github.com/repos/pandas-dev/pandas/issues/48789/events',\n",
       "  'html_url': 'https://github.com/pandas-dev/pandas/pull/48789',\n",
       "  'id': 1386511481,\n",
       "  'node_id': 'PR_kwDOAA0YD84_oS6G',\n",
       "  'number': 48789,\n",
       "  'title': 'DOC: Add example for `Series.get()`',\n",
       "  'user': {'login': 'wjandrea',\n",
       "   'id': 22385371,\n",
       "   'node_id': 'MDQ6VXNlcjIyMzg1Mzcx',\n",
       "   'avatar_url': 'https://avatars.githubusercontent.com/u/22385371?v=4',\n",
       "   'gravatar_id': '',\n",
       "   'url': 'https://api.github.com/users/wjandrea',\n",
       "   'html_url': 'https://github.com/wjandrea',\n",
       "   'followers_url': 'https://api.github.com/users/wjandrea/followers',\n",
       "   'following_url': 'https://api.github.com/users/wjandrea/following{/other_user}',\n",
       "   'gists_url': 'https://api.github.com/users/wjandrea/gists{/gist_id}',\n",
       "   'starred_url': 'https://api.github.com/users/wjandrea/starred{/owner}{/repo}',\n",
       "   'subscriptions_url': 'https://api.github.com/users/wjandrea/subscriptions',\n",
       "   'organizations_url': 'https://api.github.com/users/wjandrea/orgs',\n",
       "   'repos_url': 'https://api.github.com/users/wjandrea/repos',\n",
       "   'events_url': 'https://api.github.com/users/wjandrea/events{/privacy}',\n",
       "   'received_events_url': 'https://api.github.com/users/wjandrea/received_events',\n",
       "   'type': 'User',\n",
       "   'site_admin': False},\n",
       "  'labels': [{'id': 134699,\n",
       "    'node_id': 'MDU6TGFiZWwxMzQ2OTk=',\n",
       "    'url': 'https://api.github.com/repos/pandas-dev/pandas/labels/Docs',\n",
       "    'name': 'Docs',\n",
       "    'color': '3465A4',\n",
       "    'default': False,\n",
       "    'description': None}],\n",
       "  'state': 'open',\n",
       "  'locked': False,\n",
       "  'assignee': None,\n",
       "  'assignees': [],\n",
       "  'milestone': None,\n",
       "  'comments': 0,\n",
       "  'created_at': '2022-09-26T18:13:53Z',\n",
       "  'updated_at': '2022-09-26T22:48:34Z',\n",
       "  'closed_at': None,\n",
       "  'author_association': 'CONTRIBUTOR',\n",
       "  'active_lock_reason': None,\n",
       "  'draft': False,\n",
       "  'pull_request': {'url': 'https://api.github.com/repos/pandas-dev/pandas/pulls/48789',\n",
       "   'html_url': 'https://github.com/pandas-dev/pandas/pull/48789',\n",
       "   'diff_url': 'https://github.com/pandas-dev/pandas/pull/48789.diff',\n",
       "   'patch_url': 'https://github.com/pandas-dev/pandas/pull/48789.patch',\n",
       "   'merged_at': None},\n",
       "  'body': 'Add an example of `Series.get()` to `NDFrame`.\\r\\n\\r\\nPreviously, [the docs for `Series.get()`](https://pandas.pydata.org/docs/reference/api/pandas.Series.get.html) only showed examples for `DataFrame.get()`, confusingly.',\n",
       "  'reactions': {'url': 'https://api.github.com/repos/pandas-dev/pandas/issues/48789/reactions',\n",
       "   'total_count': 0,\n",
       "   '+1': 0,\n",
       "   '-1': 0,\n",
       "   'laugh': 0,\n",
       "   'hooray': 0,\n",
       "   'confused': 0,\n",
       "   'heart': 0,\n",
       "   'rocket': 0,\n",
       "   'eyes': 0},\n",
       "  'timeline_url': 'https://api.github.com/repos/pandas-dev/pandas/issues/48789/timeline',\n",
       "  'performed_via_github_app': None,\n",
       "  'state_reason': None},\n",
       " {'url': 'https://api.github.com/repos/pandas-dev/pandas/issues/48788',\n",
       "  'repository_url': 'https://api.github.com/repos/pandas-dev/pandas',\n",
       "  'labels_url': 'https://api.github.com/repos/pandas-dev/pandas/issues/48788/labels{/name}',\n",
       "  'comments_url': 'https://api.github.com/repos/pandas-dev/pandas/issues/48788/comments',\n",
       "  'events_url': 'https://api.github.com/repos/pandas-dev/pandas/issues/48788/events',\n",
       "  'html_url': 'https://github.com/pandas-dev/pandas/issues/48788',\n",
       "  'id': 1386504540,\n",
       "  'node_id': 'I_kwDOAA0YD85SpGFc',\n",
       "  'number': 48788,\n",
       "  'title': 'BUG: `pd.Series.duplicated`/`pd.core.algorithms.duplicated` fails with float-based `SparseArray`',\n",
       "  'user': {'login': 'tehunter',\n",
       "   'id': 7980666,\n",
       "   'node_id': 'MDQ6VXNlcjc5ODA2NjY=',\n",
       "   'avatar_url': 'https://avatars.githubusercontent.com/u/7980666?v=4',\n",
       "   'gravatar_id': '',\n",
       "   'url': 'https://api.github.com/users/tehunter',\n",
       "   'html_url': 'https://github.com/tehunter',\n",
       "   'followers_url': 'https://api.github.com/users/tehunter/followers',\n",
       "   'following_url': 'https://api.github.com/users/tehunter/following{/other_user}',\n",
       "   'gists_url': 'https://api.github.com/users/tehunter/gists{/gist_id}',\n",
       "   'starred_url': 'https://api.github.com/users/tehunter/starred{/owner}{/repo}',\n",
       "   'subscriptions_url': 'https://api.github.com/users/tehunter/subscriptions',\n",
       "   'organizations_url': 'https://api.github.com/users/tehunter/orgs',\n",
       "   'repos_url': 'https://api.github.com/users/tehunter/repos',\n",
       "   'events_url': 'https://api.github.com/users/tehunter/events{/privacy}',\n",
       "   'received_events_url': 'https://api.github.com/users/tehunter/received_events',\n",
       "   'type': 'User',\n",
       "   'site_admin': False},\n",
       "  'labels': [{'id': 76811,\n",
       "    'node_id': 'MDU6TGFiZWw3NjgxMQ==',\n",
       "    'url': 'https://api.github.com/repos/pandas-dev/pandas/labels/Bug',\n",
       "    'name': 'Bug',\n",
       "    'color': 'e10c02',\n",
       "    'default': False,\n",
       "    'description': None},\n",
       "   {'id': 1954720290,\n",
       "    'node_id': 'MDU6TGFiZWwxOTU0NzIwMjkw',\n",
       "    'url': 'https://api.github.com/repos/pandas-dev/pandas/labels/Needs%20Triage',\n",
       "    'name': 'Needs Triage',\n",
       "    'color': '0052cc',\n",
       "    'default': False,\n",
       "    'description': 'Issue that has not been reviewed by a pandas team member'}],\n",
       "  'state': 'open',\n",
       "  'locked': False,\n",
       "  'assignee': None,\n",
       "  'assignees': [],\n",
       "  'milestone': None,\n",
       "  'comments': 0,\n",
       "  'created_at': '2022-09-26T18:08:35Z',\n",
       "  'updated_at': '2022-09-26T18:10:44Z',\n",
       "  'closed_at': None,\n",
       "  'author_association': 'CONTRIBUTOR',\n",
       "  'active_lock_reason': None,\n",
       "  'body': '### Pandas version checks\\r\\n\\r\\n- [X] I have checked that this issue has not already been reported.\\r\\n\\r\\n- [X] I have confirmed this bug exists on the [latest version](https://pandas.pydata.org/docs/whatsnew/index.html) of pandas.\\r\\n\\r\\n- [X] I have confirmed this bug exists on the main branch of pandas.\\r\\n\\r\\n\\r\\n### Reproducible Example\\r\\n\\r\\n```python\\r\\n>>> import pandas as pd\\r\\n>>> import numpy as np\\r\\n>>> arr = pd.arrays.SparseArray([0,1,np.nan,1])\\r\\n>>> pd.core.algorithms.duplicated(arr)\\r\\nTraceback (most recent call last):\\r\\n  File \"<stdin>\", line 1, in <module>\\r\\n  File \"/home/pandas/pandas/core/algorithms.py\", line 1063, in duplicated\\r\\n    values = _ensure_data(values)\\r\\n  File \"/home/pandas/pandas/core/algorithms.py\", line 177, in _ensure_data\\r\\n    if values.dtype.itemsize in [2, 12, 16]:  # type: ignore[union-attr]\\r\\nAttributeError: \\'SparseDtype\\' object has no attribute \\'itemsize\\'\\r\\n```\\r\\n\\r\\nSame thing happens with `pd.Series(arr).duplicated()`\\r\\n\\r\\n### Issue Description\\r\\n\\r\\n`_ensure_data` tries to access `dtype.itemsize` for float types. `SparseArray` can be considered a float type, but doesn\\'t implement an `itemsize` attribute. Addressing #48424 may solve this, but the `itemsize` attribute is also causing an issue in #42070\\r\\n\\r\\n### Expected Behavior\\r\\n\\r\\nReturns without error\\r\\n\\r\\n### Installed Versions\\r\\n\\r\\n<details>\\r\\n\\r\\nINSTALLED VERSIONS\\r\\n------------------\\r\\ncommit           : 24da5be949b8e0a9299af915c6e9731c373c9dda\\r\\npython           : 3.8.13.final.0\\r\\npython-bits      : 64\\r\\nOS               : Linux\\r\\nOS-release       : \\r\\nVersion          : #1 SMP Wed Mar 2 00:30:59 UTC 2022\\r\\nmachine          : x86_64\\r\\nprocessor        : x86_64\\r\\nbyteorder        : little\\r\\nLC_ALL           : C.UTF-8\\r\\nLANG             : C.UTF-8\\r\\nLOCALE           : en_US.UTF-8\\r\\n\\r\\npandas           : 1.6.0.dev0+203.g24da5be949.dirty\\r\\nnumpy            : 1.22.4\\r\\npytz             : 2022.2.1\\r\\ndateutil         : 2.8.2\\r\\nsetuptools       : 65.3.0\\r\\npip              : 22.2.2\\r\\nCython           : 0.29.32\\r\\npytest           : 7.1.3\\r\\nhypothesis       : 6.54.6\\r\\nsphinx           : 4.5.0\\r\\nblosc            : None\\r\\nfeather          : None\\r\\nxlsxwriter       : 3.0.3\\r\\nlxml.etree       : 4.9.1\\r\\nhtml5lib         : 1.1\\r\\npymysql          : 1.0.2\\r\\npsycopg2         : 2.9.3\\r\\njinja2           : 3.0.3\\r\\nIPython          : 8.5.0\\r\\npandas_datareader: 0.10.0\\r\\nbs4              : 4.11.1\\r\\nbottleneck       : 1.3.5\\r\\nbrotli           :\\r\\nfastparquet      : 0.8.3\\r\\nfsspec           : 2021.11.0\\r\\ngcsfs            : 2021.11.0\\r\\nmatplotlib       : 3.6.0\\r\\nnumba            : 0.55.2\\r\\nnumexpr          : 2.8.3\\r\\nodfpy            : None\\r\\nopenpyxl         : 3.0.10\\r\\npandas_gbq       : 0.17.8\\r\\npyarrow          : 9.0.0\\r\\npyreadstat       : 1.1.9\\r\\npyxlsb           : 1.0.9\\r\\ns3fs             : 2021.11.0\\r\\nscipy            : 1.9.1\\r\\nsnappy           :\\r\\nsqlalchemy       : 1.4.41\\r\\ntables           : 3.7.0\\r\\ntabulate         : 0.8.10\\r\\nxarray           : 2022.6.0\\r\\nxlrd             : 2.0.1\\r\\nxlwt             : 1.3.0\\r\\nzstandard        : 0.18.0\\r\\ntzdata           : None\\r\\n\\r\\n</details>\\r\\n',\n",
       "  'reactions': {'url': 'https://api.github.com/repos/pandas-dev/pandas/issues/48788/reactions',\n",
       "   'total_count': 0,\n",
       "   '+1': 0,\n",
       "   '-1': 0,\n",
       "   'laugh': 0,\n",
       "   'hooray': 0,\n",
       "   'confused': 0,\n",
       "   'heart': 0,\n",
       "   'rocket': 0,\n",
       "   'eyes': 0},\n",
       "  'timeline_url': 'https://api.github.com/repos/pandas-dev/pandas/issues/48788/timeline',\n",
       "  'performed_via_github_app': None,\n",
       "  'state_reason': None},\n",
       " {'url': 'https://api.github.com/repos/pandas-dev/pandas/issues/48787',\n",
       "  'repository_url': 'https://api.github.com/repos/pandas-dev/pandas',\n",
       "  'labels_url': 'https://api.github.com/repos/pandas-dev/pandas/issues/48787/labels{/name}',\n",
       "  'comments_url': 'https://api.github.com/repos/pandas-dev/pandas/issues/48787/comments',\n",
       "  'events_url': 'https://api.github.com/repos/pandas-dev/pandas/issues/48787/events',\n",
       "  'html_url': 'https://github.com/pandas-dev/pandas/issues/48787',\n",
       "  'id': 1386471404,\n",
       "  'node_id': 'I_kwDOAA0YD85So9_s',\n",
       "  'number': 48787,\n",
       "  'title': \"BUG: `from_dummies` can't round trip when `sparse=True`\",\n",
       "  'user': {'login': 'bashtage',\n",
       "   'id': 5585221,\n",
       "   'node_id': 'MDQ6VXNlcjU1ODUyMjE=',\n",
       "   'avatar_url': 'https://avatars.githubusercontent.com/u/5585221?v=4',\n",
       "   'gravatar_id': '',\n",
       "   'url': 'https://api.github.com/users/bashtage',\n",
       "   'html_url': 'https://github.com/bashtage',\n",
       "   'followers_url': 'https://api.github.com/users/bashtage/followers',\n",
       "   'following_url': 'https://api.github.com/users/bashtage/following{/other_user}',\n",
       "   'gists_url': 'https://api.github.com/users/bashtage/gists{/gist_id}',\n",
       "   'starred_url': 'https://api.github.com/users/bashtage/starred{/owner}{/repo}',\n",
       "   'subscriptions_url': 'https://api.github.com/users/bashtage/subscriptions',\n",
       "   'organizations_url': 'https://api.github.com/users/bashtage/orgs',\n",
       "   'repos_url': 'https://api.github.com/users/bashtage/repos',\n",
       "   'events_url': 'https://api.github.com/users/bashtage/events{/privacy}',\n",
       "   'received_events_url': 'https://api.github.com/users/bashtage/received_events',\n",
       "   'type': 'User',\n",
       "   'site_admin': False},\n",
       "  'labels': [{'id': 76811,\n",
       "    'node_id': 'MDU6TGFiZWw3NjgxMQ==',\n",
       "    'url': 'https://api.github.com/repos/pandas-dev/pandas/labels/Bug',\n",
       "    'name': 'Bug',\n",
       "    'color': 'e10c02',\n",
       "    'default': False,\n",
       "    'description': None},\n",
       "   {'id': 13098779,\n",
       "    'node_id': 'MDU6TGFiZWwxMzA5ODc3OQ==',\n",
       "    'url': 'https://api.github.com/repos/pandas-dev/pandas/labels/Reshaping',\n",
       "    'name': 'Reshaping',\n",
       "    'color': '02d7e1',\n",
       "    'default': False,\n",
       "    'description': 'Concat, Merge/Join, Stack/Unstack, Explode'}],\n",
       "  'state': 'open',\n",
       "  'locked': False,\n",
       "  'assignee': None,\n",
       "  'assignees': [],\n",
       "  'milestone': None,\n",
       "  'comments': 0,\n",
       "  'created_at': '2022-09-26T17:40:12Z',\n",
       "  'updated_at': '2022-09-26T19:04:02Z',\n",
       "  'closed_at': None,\n",
       "  'author_association': 'CONTRIBUTOR',\n",
       "  'active_lock_reason': None,\n",
       "  'body': '### Pandas version checks\\r\\n\\r\\n- [X] I have checked that this issue has not already been reported.\\r\\n- [X] I have confirmed this bug exists on the [latest version](https://pandas.pydata.org/docs/whatsnew/index.html) of pandas.\\r\\n- [X] I have confirmed this bug exists on the main branch of pandas.\\r\\n\\r\\n\\r\\n### Reproducible Example\\r\\n\\r\\n```python\\r\\nimport pandas as pd\\r\\n\\r\\ndf = pd.DataFrame(\\r\\n        {\\r\\n            \"A\": pd.Series([\"a\", \"b\", \"a\", \"b\", \"c\", \"a\", \"a\"], dtype=\"category\"),\\r\\n        }\\r\\n)\\r\\ndummies = pd.get_dummies(df, drop_first=True)\\r\\npd.from_dummies(dummies, sep=\"_\", default_category=\"a\")\\r\\n```\\r\\n\\r\\nreturns\\r\\n\\r\\n```\\r\\nTypeError: Passed DataFrame contains non-dummy data\\r\\n```\\r\\n\\r\\n\\r\\n\\r\\n### Issue Description\\r\\n\\r\\n`from_dummies` can\\'t undo ops when sparse.\\r\\n\\r\\n### Expected Behavior\\r\\n\\r\\nWork with sparse or non-sparse.\\r\\n\\r\\n### Installed Versions\\r\\n\\r\\n<details>\\r\\n\\r\\n```\\r\\nINSTALLED VERSIONS\\r\\n------------------\\r\\ncommit           : 87cfe4e38bafe7300a6003a1d18bd80f3f77c763\\r\\npython           : 3.9.12.final.0\\r\\npython-bits      : 64\\r\\nOS               : Windows\\r\\nOS-release       : 10\\r\\nVersion          : 10.0.22621\\r\\nmachine          : AMD64\\r\\nprocessor        : AMD64 Family 23 Model 113 Stepping 0, AuthenticAMD\\r\\nbyteorder        : little\\r\\nLC_ALL           : None\\r\\nLANG             : None\\r\\nLOCALE           : English_United States.1252\\r\\n\\r\\npandas           : 1.5.0\\r\\nnumpy            : 1.23.3\\r\\npytz             : 2022.2.1\\r\\ndateutil         : 2.8.2\\r\\nsetuptools       : 63.3.0\\r\\npip              : 22.2.2\\r\\nCython           : None\\r\\npytest           : 7.1.3\\r\\nhypothesis       : None\\r\\nsphinx           : None\\r\\nblosc            : None\\r\\nfeather          : None\\r\\nxlsxwriter       : None\\r\\nlxml.etree       : 4.8.0\\r\\nhtml5lib         : None\\r\\npymysql          : None\\r\\npsycopg2         : None\\r\\njinja2           : 3.1.2\\r\\nIPython          : 8.5.0\\r\\npandas_datareader: None\\r\\nbs4              : None\\r\\nbottleneck       : None\\r\\nbrotli           : None\\r\\nfastparquet      : None\\r\\nfsspec           : None\\r\\ngcsfs            : None\\r\\nmatplotlib       : 3.5.3\\r\\nnumba            : None\\r\\nnumexpr          : 2.8.3\\r\\nodfpy            : None\\r\\nopenpyxl         : 3.0.10\\r\\npandas_gbq       : None\\r\\npyarrow          : 9.0.0\\r\\npyreadstat       : 1.1.9\\r\\npyxlsb           : 1.0.9\\r\\ns3fs             : None\\r\\nscipy            : 1.9.1\\r\\nsnappy           : None\\r\\nsqlalchemy       : 1.4.41\\r\\ntables           : None\\r\\ntabulate         : 0.8.10\\r\\nxarray           : 2022.6.0\\r\\nxlrd             : 2.0.1\\r\\nxlwt             : None\\r\\nzstandard        : None\\r\\ntzdata           : None\\r\\n```\\r\\n</details>\\r\\n',\n",
       "  'reactions': {'url': 'https://api.github.com/repos/pandas-dev/pandas/issues/48787/reactions',\n",
       "   'total_count': 0,\n",
       "   '+1': 0,\n",
       "   '-1': 0,\n",
       "   'laugh': 0,\n",
       "   'hooray': 0,\n",
       "   'confused': 0,\n",
       "   'heart': 0,\n",
       "   'rocket': 0,\n",
       "   'eyes': 0},\n",
       "  'timeline_url': 'https://api.github.com/repos/pandas-dev/pandas/issues/48787/timeline',\n",
       "  'performed_via_github_app': None,\n",
       "  'state_reason': None},\n",
       " {'url': 'https://api.github.com/repos/pandas-dev/pandas/issues/48785',\n",
       "  'repository_url': 'https://api.github.com/repos/pandas-dev/pandas',\n",
       "  'labels_url': 'https://api.github.com/repos/pandas-dev/pandas/issues/48785/labels{/name}',\n",
       "  'comments_url': 'https://api.github.com/repos/pandas-dev/pandas/issues/48785/comments',\n",
       "  'events_url': 'https://api.github.com/repos/pandas-dev/pandas/issues/48785/events',\n",
       "  'html_url': 'https://github.com/pandas-dev/pandas/pull/48785',\n",
       "  'id': 1386192284,\n",
       "  'node_id': 'PR_kwDOAA0YD84_nNnC',\n",
       "  'number': 48785,\n",
       "  'title': 'BUG: still emitting unnecessary FutureWarning in DataFrame.sort_values with sparse columns',\n",
       "  'user': {'login': 'MarcoGorelli',\n",
       "   'id': 33491632,\n",
       "   'node_id': 'MDQ6VXNlcjMzNDkxNjMy',\n",
       "   'avatar_url': 'https://avatars.githubusercontent.com/u/33491632?v=4',\n",
       "   'gravatar_id': '',\n",
       "   'url': 'https://api.github.com/users/MarcoGorelli',\n",
       "   'html_url': 'https://github.com/MarcoGorelli',\n",
       "   'followers_url': 'https://api.github.com/users/MarcoGorelli/followers',\n",
       "   'following_url': 'https://api.github.com/users/MarcoGorelli/following{/other_user}',\n",
       "   'gists_url': 'https://api.github.com/users/MarcoGorelli/gists{/gist_id}',\n",
       "   'starred_url': 'https://api.github.com/users/MarcoGorelli/starred{/owner}{/repo}',\n",
       "   'subscriptions_url': 'https://api.github.com/users/MarcoGorelli/subscriptions',\n",
       "   'organizations_url': 'https://api.github.com/users/MarcoGorelli/orgs',\n",
       "   'repos_url': 'https://api.github.com/users/MarcoGorelli/repos',\n",
       "   'events_url': 'https://api.github.com/users/MarcoGorelli/events{/privacy}',\n",
       "   'received_events_url': 'https://api.github.com/users/MarcoGorelli/received_events',\n",
       "   'type': 'User',\n",
       "   'site_admin': False},\n",
       "  'labels': [{'id': 57296398,\n",
       "    'node_id': 'MDU6TGFiZWw1NzI5NjM5OA==',\n",
       "    'url': 'https://api.github.com/repos/pandas-dev/pandas/labels/Algos',\n",
       "    'name': 'Algos',\n",
       "    'color': 'eb6420',\n",
       "    'default': False,\n",
       "    'description': 'Non-arithmetic algos: value_counts, factorize, sorting, isin, clip, shift, diff'},\n",
       "   {'id': 1628184320,\n",
       "    'node_id': 'MDU6TGFiZWwxNjI4MTg0MzIw',\n",
       "    'url': 'https://api.github.com/repos/pandas-dev/pandas/labels/Warnings',\n",
       "    'name': 'Warnings',\n",
       "    'color': 'f2f074',\n",
       "    'default': False,\n",
       "    'description': 'Warnings that appear or should be added to pandas'}],\n",
       "  'state': 'open',\n",
       "  'locked': False,\n",
       "  'assignee': None,\n",
       "  'assignees': [],\n",
       "  'milestone': {'url': 'https://api.github.com/repos/pandas-dev/pandas/milestones/98',\n",
       "   'html_url': 'https://github.com/pandas-dev/pandas/milestone/98',\n",
       "   'labels_url': 'https://api.github.com/repos/pandas-dev/pandas/milestones/98/labels',\n",
       "   'id': 8438761,\n",
       "   'node_id': 'MI_kwDOAA0YD84AgMPp',\n",
       "   'number': 98,\n",
       "   'title': '1.5.1',\n",
       "   'description': 'on-merge: backport to 1.5.x',\n",
       "   'creator': {'login': 'datapythonista',\n",
       "    'id': 10058240,\n",
       "    'node_id': 'MDQ6VXNlcjEwMDU4MjQw',\n",
       "    'avatar_url': 'https://avatars.githubusercontent.com/u/10058240?v=4',\n",
       "    'gravatar_id': '',\n",
       "    'url': 'https://api.github.com/users/datapythonista',\n",
       "    'html_url': 'https://github.com/datapythonista',\n",
       "    'followers_url': 'https://api.github.com/users/datapythonista/followers',\n",
       "    'following_url': 'https://api.github.com/users/datapythonista/following{/other_user}',\n",
       "    'gists_url': 'https://api.github.com/users/datapythonista/gists{/gist_id}',\n",
       "    'starred_url': 'https://api.github.com/users/datapythonista/starred{/owner}{/repo}',\n",
       "    'subscriptions_url': 'https://api.github.com/users/datapythonista/subscriptions',\n",
       "    'organizations_url': 'https://api.github.com/users/datapythonista/orgs',\n",
       "    'repos_url': 'https://api.github.com/users/datapythonista/repos',\n",
       "    'events_url': 'https://api.github.com/users/datapythonista/events{/privacy}',\n",
       "    'received_events_url': 'https://api.github.com/users/datapythonista/received_events',\n",
       "    'type': 'User',\n",
       "    'site_admin': False},\n",
       "   'open_issues': 21,\n",
       "   'closed_issues': 43,\n",
       "   'state': 'open',\n",
       "   'created_at': '2022-09-19T20:12:38Z',\n",
       "   'updated_at': '2022-09-26T23:00:52Z',\n",
       "   'due_on': None,\n",
       "   'closed_at': None},\n",
       "  'comments': 0,\n",
       "  'created_at': '2022-09-26T14:33:32Z',\n",
       "  'updated_at': '2022-09-26T21:28:05Z',\n",
       "  'closed_at': None,\n",
       "  'author_association': 'MEMBER',\n",
       "  'active_lock_reason': None,\n",
       "  'draft': False,\n",
       "  'pull_request': {'url': 'https://api.github.com/repos/pandas-dev/pandas/pulls/48785',\n",
       "   'html_url': 'https://github.com/pandas-dev/pandas/pull/48785',\n",
       "   'diff_url': 'https://github.com/pandas-dev/pandas/pull/48785.diff',\n",
       "   'patch_url': 'https://github.com/pandas-dev/pandas/pull/48785.patch',\n",
       "   'merged_at': None},\n",
       "  'body': '- [x] closes #48784 (Replace xxxx with the Github issue number)\\r\\n- [x] [Tests added and passed](https://pandas.pydata.org/pandas-docs/dev/development/contributing_codebase.html#writing-tests) if fixing a bug or adding a new feature\\r\\n- [x] All [code checks passed](https://pandas.pydata.org/pandas-docs/dev/development/contributing_codebase.html#pre-commit).\\r\\n- [x] Added [type annotations](https://pandas.pydata.org/pandas-docs/dev/development/contributing_codebase.html#type-hints) to new arguments/methods/functions.\\r\\n- [x] Added an entry in the latest `doc/source/whatsnew/vX.X.X.rst` file if fixing a bug or adding a new feature.\\r\\n',\n",
       "  'reactions': {'url': 'https://api.github.com/repos/pandas-dev/pandas/issues/48785/reactions',\n",
       "   'total_count': 0,\n",
       "   '+1': 0,\n",
       "   '-1': 0,\n",
       "   'laugh': 0,\n",
       "   'hooray': 0,\n",
       "   'confused': 0,\n",
       "   'heart': 0,\n",
       "   'rocket': 0,\n",
       "   'eyes': 0},\n",
       "  'timeline_url': 'https://api.github.com/repos/pandas-dev/pandas/issues/48785/timeline',\n",
       "  'performed_via_github_app': None,\n",
       "  'state_reason': None},\n",
       " {'url': 'https://api.github.com/repos/pandas-dev/pandas/issues/48784',\n",
       "  'repository_url': 'https://api.github.com/repos/pandas-dev/pandas',\n",
       "  'labels_url': 'https://api.github.com/repos/pandas-dev/pandas/issues/48784/labels{/name}',\n",
       "  'comments_url': 'https://api.github.com/repos/pandas-dev/pandas/issues/48784/comments',\n",
       "  'events_url': 'https://api.github.com/repos/pandas-dev/pandas/issues/48784/events',\n",
       "  'html_url': 'https://github.com/pandas-dev/pandas/issues/48784',\n",
       "  'id': 1386174765,\n",
       "  'node_id': 'I_kwDOAA0YD85Sn1kt',\n",
       "  'number': 48784,\n",
       "  'title': 'BUG: still emitting unnecessary FutureWarning in DataFrame.sort_values with sparse columns',\n",
       "  'user': {'login': 'MarcoGorelli',\n",
       "   'id': 33491632,\n",
       "   'node_id': 'MDQ6VXNlcjMzNDkxNjMy',\n",
       "   'avatar_url': 'https://avatars.githubusercontent.com/u/33491632?v=4',\n",
       "   'gravatar_id': '',\n",
       "   'url': 'https://api.github.com/users/MarcoGorelli',\n",
       "   'html_url': 'https://github.com/MarcoGorelli',\n",
       "   'followers_url': 'https://api.github.com/users/MarcoGorelli/followers',\n",
       "   'following_url': 'https://api.github.com/users/MarcoGorelli/following{/other_user}',\n",
       "   'gists_url': 'https://api.github.com/users/MarcoGorelli/gists{/gist_id}',\n",
       "   'starred_url': 'https://api.github.com/users/MarcoGorelli/starred{/owner}{/repo}',\n",
       "   'subscriptions_url': 'https://api.github.com/users/MarcoGorelli/subscriptions',\n",
       "   'organizations_url': 'https://api.github.com/users/MarcoGorelli/orgs',\n",
       "   'repos_url': 'https://api.github.com/users/MarcoGorelli/repos',\n",
       "   'events_url': 'https://api.github.com/users/MarcoGorelli/events{/privacy}',\n",
       "   'received_events_url': 'https://api.github.com/users/MarcoGorelli/received_events',\n",
       "   'type': 'User',\n",
       "   'site_admin': False},\n",
       "  'labels': [{'id': 76811,\n",
       "    'node_id': 'MDU6TGFiZWw3NjgxMQ==',\n",
       "    'url': 'https://api.github.com/repos/pandas-dev/pandas/labels/Bug',\n",
       "    'name': 'Bug',\n",
       "    'color': 'e10c02',\n",
       "    'default': False,\n",
       "    'description': None},\n",
       "   {'id': 49182326,\n",
       "    'node_id': 'MDU6TGFiZWw0OTE4MjMyNg==',\n",
       "    'url': 'https://api.github.com/repos/pandas-dev/pandas/labels/Sparse',\n",
       "    'name': 'Sparse',\n",
       "    'color': '009800',\n",
       "    'default': False,\n",
       "    'description': 'Sparse Data Type'},\n",
       "   {'id': 1628184320,\n",
       "    'node_id': 'MDU6TGFiZWwxNjI4MTg0MzIw',\n",
       "    'url': 'https://api.github.com/repos/pandas-dev/pandas/labels/Warnings',\n",
       "    'name': 'Warnings',\n",
       "    'color': 'f2f074',\n",
       "    'default': False,\n",
       "    'description': 'Warnings that appear or should be added to pandas'}],\n",
       "  'state': 'open',\n",
       "  'locked': False,\n",
       "  'assignee': None,\n",
       "  'assignees': [],\n",
       "  'milestone': None,\n",
       "  'comments': 0,\n",
       "  'created_at': '2022-09-26T14:23:25Z',\n",
       "  'updated_at': '2022-09-26T14:33:03Z',\n",
       "  'closed_at': None,\n",
       "  'author_association': 'MEMBER',\n",
       "  'active_lock_reason': None,\n",
       "  'body': '### Pandas version checks\\r\\n\\r\\n- [X] I have checked that this issue has not already been reported.\\r\\n\\r\\n- [X] I have confirmed this bug exists on the [latest version](https://pandas.pydata.org/docs/whatsnew/index.html) of pandas.\\r\\n\\r\\n- [X] I have confirmed this bug exists on the main branch of pandas.\\r\\n\\r\\n\\r\\n### Reproducible Example\\r\\n\\r\\n```python\\r\\nser = pd.Series(Categorical([\"a\", \"b\", \"a\"], categories=[\"a\", \"b\", \"c\"]))\\r\\ndf = pd.get_dummies(ser, dtype=bool, sparse=True)\\r\\n\\r\\ndf.sort_values(by=df.columns.tolist())\\r\\n```\\r\\n\\r\\n\\r\\n### Issue Description\\r\\n\\r\\nThis throws\\r\\n```\\r\\nFutureWarning: The behavior of .astype from SparseDtype to a non-sparse dtype is deprecated. In a future version, this will return a non-sparse array with the requested dtype. To retain the old behavior, use `obj.astype(SparseDtype(dtype))`\\r\\n```\\r\\nwhich the user can\\'t do anything about\\r\\n\\r\\nLooks the same / very related to #45618\\r\\n\\r\\n### Expected Behavior\\r\\n\\r\\nNo warning\\r\\n\\r\\n### Installed Versions\\r\\n\\r\\n<details>\\r\\n\\r\\n\\r\\nINSTALLED VERSIONS\\r\\n------------------\\r\\ncommit           : 291dfa258edb4e6b79e4962f0af582a456e5764f\\r\\npython           : 3.8.13.final.0\\r\\npython-bits      : 64\\r\\nOS               : Linux\\r\\nOS-release       : 5.10.16.3-microsoft-standard-WSL2\\r\\nVersion          : #1 SMP Fri Apr 2 22:23:49 UTC 2021\\r\\nmachine          : x86_64\\r\\nprocessor        : x86_64\\r\\nbyteorder        : little\\r\\nLC_ALL           : None\\r\\nLANG             : en_GB.UTF-8\\r\\nLOCALE           : en_GB.UTF-8\\r\\n\\r\\npandas           : 1.6.0.dev0+215.g291dfa258e.dirty\\r\\nnumpy            : 1.22.4\\r\\npytz             : 2022.2.1\\r\\ndateutil         : 2.8.2\\r\\nsetuptools       : 65.3.0\\r\\npip              : 22.2.2\\r\\nCython           : 0.29.32\\r\\npytest           : 7.1.3\\r\\nhypothesis       : 6.54.5\\r\\nsphinx           : 4.5.0\\r\\nblosc            : None\\r\\nfeather          : None\\r\\nxlsxwriter       : 3.0.3\\r\\nlxml.etree       : 4.9.1\\r\\nhtml5lib         : 1.1\\r\\npymysql          : 1.0.2\\r\\npsycopg2         : 2.9.3\\r\\njinja2           : 3.0.3\\r\\nIPython          : 8.5.0\\r\\npandas_datareader: 0.10.0\\r\\nbs4              : 4.11.1\\r\\nbottleneck       : 1.3.5\\r\\nbrotli           : \\r\\nfastparquet      : 0.8.3\\r\\nfsspec           : 2021.11.0\\r\\ngcsfs            : 2021.11.0\\r\\nmatplotlib       : 3.5.3\\r\\nnumba            : 0.55.2\\r\\nnumexpr          : 2.8.3\\r\\nodfpy            : None\\r\\nopenpyxl         : 3.0.10\\r\\npandas_gbq       : 0.17.8\\r\\npyarrow          : 9.0.0\\r\\npyreadstat       : 1.1.9\\r\\npyxlsb           : 1.0.9\\r\\ns3fs             : 2021.11.0\\r\\nscipy            : 1.9.1\\r\\nsnappy           : \\r\\nsqlalchemy       : 1.4.41\\r\\ntables           : 3.7.0\\r\\ntabulate         : 0.8.10\\r\\nxarray           : 2022.6.0\\r\\nxlrd             : 2.0.1\\r\\nxlwt             : 1.3.0\\r\\nzstandard        : 0.18.0\\r\\ntzdata           : None\\r\\nNone\\r\\n\\r\\n\\r\\n</details>\\r\\n',\n",
       "  'reactions': {'url': 'https://api.github.com/repos/pandas-dev/pandas/issues/48784/reactions',\n",
       "   'total_count': 0,\n",
       "   '+1': 0,\n",
       "   '-1': 0,\n",
       "   'laugh': 0,\n",
       "   'hooray': 0,\n",
       "   'confused': 0,\n",
       "   'heart': 0,\n",
       "   'rocket': 0,\n",
       "   'eyes': 0},\n",
       "  'timeline_url': 'https://api.github.com/repos/pandas-dev/pandas/issues/48784/timeline',\n",
       "  'performed_via_github_app': None,\n",
       "  'state_reason': None},\n",
       " {'url': 'https://api.github.com/repos/pandas-dev/pandas/issues/48781',\n",
       "  'repository_url': 'https://api.github.com/repos/pandas-dev/pandas',\n",
       "  'labels_url': 'https://api.github.com/repos/pandas-dev/pandas/issues/48781/labels{/name}',\n",
       "  'comments_url': 'https://api.github.com/repos/pandas-dev/pandas/issues/48781/comments',\n",
       "  'events_url': 'https://api.github.com/repos/pandas-dev/pandas/issues/48781/events',\n",
       "  'html_url': 'https://github.com/pandas-dev/pandas/issues/48781',\n",
       "  'id': 1385771189,\n",
       "  'node_id': 'I_kwDOAA0YD85SmTC1',\n",
       "  'number': 48781,\n",
       "  'title': 'ENH: ',\n",
       "  'user': {'login': 'joooeey',\n",
       "   'id': 28426758,\n",
       "   'node_id': 'MDQ6VXNlcjI4NDI2NzU4',\n",
       "   'avatar_url': 'https://avatars.githubusercontent.com/u/28426758?v=4',\n",
       "   'gravatar_id': '',\n",
       "   'url': 'https://api.github.com/users/joooeey',\n",
       "   'html_url': 'https://github.com/joooeey',\n",
       "   'followers_url': 'https://api.github.com/users/joooeey/followers',\n",
       "   'following_url': 'https://api.github.com/users/joooeey/following{/other_user}',\n",
       "   'gists_url': 'https://api.github.com/users/joooeey/gists{/gist_id}',\n",
       "   'starred_url': 'https://api.github.com/users/joooeey/starred{/owner}{/repo}',\n",
       "   'subscriptions_url': 'https://api.github.com/users/joooeey/subscriptions',\n",
       "   'organizations_url': 'https://api.github.com/users/joooeey/orgs',\n",
       "   'repos_url': 'https://api.github.com/users/joooeey/repos',\n",
       "   'events_url': 'https://api.github.com/users/joooeey/events{/privacy}',\n",
       "   'received_events_url': 'https://api.github.com/users/joooeey/received_events',\n",
       "   'type': 'User',\n",
       "   'site_admin': False},\n",
       "  'labels': [{'id': 76812,\n",
       "    'node_id': 'MDU6TGFiZWw3NjgxMg==',\n",
       "    'url': 'https://api.github.com/repos/pandas-dev/pandas/labels/Enhancement',\n",
       "    'name': 'Enhancement',\n",
       "    'color': '4E9A06',\n",
       "    'default': False,\n",
       "    'description': None},\n",
       "   {'id': 1954720290,\n",
       "    'node_id': 'MDU6TGFiZWwxOTU0NzIwMjkw',\n",
       "    'url': 'https://api.github.com/repos/pandas-dev/pandas/labels/Needs%20Triage',\n",
       "    'name': 'Needs Triage',\n",
       "    'color': '0052cc',\n",
       "    'default': False,\n",
       "    'description': 'Issue that has not been reviewed by a pandas team member'}],\n",
       "  'state': 'open',\n",
       "  'locked': False,\n",
       "  'assignee': None,\n",
       "  'assignees': [],\n",
       "  'milestone': None,\n",
       "  'comments': 0,\n",
       "  'created_at': '2022-09-26T09:52:34Z',\n",
       "  'updated_at': '2022-09-26T09:52:34Z',\n",
       "  'closed_at': None,\n",
       "  'author_association': 'CONTRIBUTOR',\n",
       "  'active_lock_reason': None,\n",
       "  'body': '### Feature Type\\n\\n- [X] Adding new functionality to pandas\\n\\n- [ ] Changing existing functionality in pandas\\n\\n- [ ] Removing existing functionality in pandas\\n\\n\\n### Problem Description\\n\\nI wish I could quickly convert a DataFrame with some invalid data to numeric type and coerce. I thought `pd.DataFrame.astype` could do that but it doesn\\'t have the option to coerce invalid data to NaNs (or NaTs).\\r\\n\\r\\nIn my particular case I have a DataFrame of sensor readings with mostly NaNs (indicating no value received), many integers (those I care about), and some strings (indicating specific errors). I quickly tried to get a histogram to get an overview of that data but the `pd.DataFrame.hist` requires numeric data which is a few lines of code to get. This is exploratory code I write in my console, so it would be sweet if this could be done with a single method.\\n\\n### Feature Description\\n\\nTwo options:\\r\\n\\r\\n* Allow multidimensional input (e.g. DataFrames, Numpy Arrays) as the `arg` of `pd.to_numeric`. In case of mixed type columns (e.g. integers and floats), we\\'d have to decide and document if that would operate by column or cast the whole data structure to one dtype. I\\'d expect by column for DataFrames. Another issue that comes up is how to deal with multidimensional lists and tuples.\\r\\n\\r\\nOR/AND\\r\\n\\r\\n* Add the option `\"coerce\"` to the `errors` kwarg in `pd.DataFrame.astype` (the current options are `\"raise\"` and `\"ignore\"`. We\\'d have to decide how to deal with incompatibilities between `errors=\"coerce\"` and `dtype`. E.g. what to do if someone tries to coerce to string. I would expect an error.\\r\\n\\r\\nTo me it looks like the potential for confusing the user is a lot lower with the second option because it has fewer edge cases.\\n\\n### Alternative Solutions\\n\\n```\\r\\nfor col in df.cols:\\r\\n    df[col] = pd.to_numeric(df[col], errors=\"coerce\")\\r\\n```\\n\\n### Additional Context\\n\\n_No response_',\n",
       "  'reactions': {'url': 'https://api.github.com/repos/pandas-dev/pandas/issues/48781/reactions',\n",
       "   'total_count': 0,\n",
       "   '+1': 0,\n",
       "   '-1': 0,\n",
       "   'laugh': 0,\n",
       "   'hooray': 0,\n",
       "   'confused': 0,\n",
       "   'heart': 0,\n",
       "   'rocket': 0,\n",
       "   'eyes': 0},\n",
       "  'timeline_url': 'https://api.github.com/repos/pandas-dev/pandas/issues/48781/timeline',\n",
       "  'performed_via_github_app': None,\n",
       "  'state_reason': None},\n",
       " {'url': 'https://api.github.com/repos/pandas-dev/pandas/issues/48780',\n",
       "  'repository_url': 'https://api.github.com/repos/pandas-dev/pandas',\n",
       "  'labels_url': 'https://api.github.com/repos/pandas-dev/pandas/issues/48780/labels{/name}',\n",
       "  'comments_url': 'https://api.github.com/repos/pandas-dev/pandas/issues/48780/comments',\n",
       "  'events_url': 'https://api.github.com/repos/pandas-dev/pandas/issues/48780/events',\n",
       "  'html_url': 'https://github.com/pandas-dev/pandas/issues/48780',\n",
       "  'id': 1385750265,\n",
       "  'node_id': 'I_kwDOAA0YD85SmN75',\n",
       "  'number': 48780,\n",
       "  'title': 'BUG: ExcelWriter.book - attribute not accessible for setting',\n",
       "  'user': {'login': 'vranoch',\n",
       "   'id': 51007145,\n",
       "   'node_id': 'MDQ6VXNlcjUxMDA3MTQ1',\n",
       "   'avatar_url': 'https://avatars.githubusercontent.com/u/51007145?v=4',\n",
       "   'gravatar_id': '',\n",
       "   'url': 'https://api.github.com/users/vranoch',\n",
       "   'html_url': 'https://github.com/vranoch',\n",
       "   'followers_url': 'https://api.github.com/users/vranoch/followers',\n",
       "   'following_url': 'https://api.github.com/users/vranoch/following{/other_user}',\n",
       "   'gists_url': 'https://api.github.com/users/vranoch/gists{/gist_id}',\n",
       "   'starred_url': 'https://api.github.com/users/vranoch/starred{/owner}{/repo}',\n",
       "   'subscriptions_url': 'https://api.github.com/users/vranoch/subscriptions',\n",
       "   'organizations_url': 'https://api.github.com/users/vranoch/orgs',\n",
       "   'repos_url': 'https://api.github.com/users/vranoch/repos',\n",
       "   'events_url': 'https://api.github.com/users/vranoch/events{/privacy}',\n",
       "   'received_events_url': 'https://api.github.com/users/vranoch/received_events',\n",
       "   'type': 'User',\n",
       "   'site_admin': False},\n",
       "  'labels': [{'id': 49254273,\n",
       "    'node_id': 'MDU6TGFiZWw0OTI1NDI3Mw==',\n",
       "    'url': 'https://api.github.com/repos/pandas-dev/pandas/labels/IO%20Excel',\n",
       "    'name': 'IO Excel',\n",
       "    'color': 'bfe5bf',\n",
       "    'default': False,\n",
       "    'description': 'read_excel, to_excel'}],\n",
       "  'state': 'open',\n",
       "  'locked': False,\n",
       "  'assignee': None,\n",
       "  'assignees': [],\n",
       "  'milestone': None,\n",
       "  'comments': 6,\n",
       "  'created_at': '2022-09-26T09:38:13Z',\n",
       "  'updated_at': '2022-09-27T03:00:16Z',\n",
       "  'closed_at': None,\n",
       "  'author_association': 'NONE',\n",
       "  'active_lock_reason': None,\n",
       "  'body': '### Pandas version checks\\n\\n- [X] I have checked that this issue has not already been reported.\\n\\n- [X] I have confirmed this bug exists on the [latest version](https://pandas.pydata.org/docs/whatsnew/index.html) of pandas.\\n\\n- [X] I have confirmed this bug exists on the main branch of pandas.\\n\\n\\n### Reproducible Example\\n\\n```python\\nimport pandas as pd\\r\\n\\r\\nwb = load_workbook(self._get_report_filename_template())\\r\\nwb.create_sheet(self.report_range_sheet)\\r\\nwith pd.ExcelWriter(file, engine=\\'openpyxl\\') as writer:\\r\\n\\twriter.book = wb  # This assignment causes AttributeError: can\\'t set attribute\\n```\\n\\n\\n### Issue Description\\n\\nAssignment to writer.book causes an exception:\\r\\n\\r\\n`Traceback (most recent call last):\\r\\n  File \"/app/py_code/Bussiness/Reports/PrehledovyReport.py\", line 108, in _export_data\\r\\n    writer.book = wb\\r\\nAttributeError: can\\'t set attribute\\r\\n`\\r\\n\\r\\ndowngrading to 1.4.4 resolves the issue\\n\\n### Expected Behavior\\n\\nThe assignment should work - injecting externally created workbook to the writer\\n\\n### Installed Versions\\n\\npd.show_versions() returns None ... presenting the requirements.txt instead\\r\\n\\r\\n<details>\\r\\n\\r\\namqp==5.1.1\\r\\nasgiref==3.5.2\\r\\nastroid==2.12.10\\r\\nasttokens==2.0.8\\r\\nasync-timeout==4.0.2\\r\\nbackports.zoneinfo==0.2.1\\r\\nbeautifulsoup4==4.11.1\\r\\nbilliard==3.6.4.0\\r\\nbs4==0.0.1\\r\\ncelery==5.2.7\\r\\ncertifi==2022.9.14\\r\\nchardet==5.0.0\\r\\ncharset-normalizer==2.1.1\\r\\nclick==8.1.3\\r\\nclick-didyoumean==0.3.0\\r\\nclick-plugins==1.1.1\\r\\nclick-repl==0.2.0\\r\\ncolorama==0.4.5\\r\\nconvertdate==2.4.0\\r\\nDateTime==4.7\\r\\ndecorator==5.1.1\\r\\nDeprecated==1.2.13\\r\\ndill==0.3.5.1\\r\\nDjango==4.1.1\\r\\ndjango-admin-rangefilter==0.8.8\\r\\ndjango-appconf==1.0.5\\r\\ndjango-celery-results==2.4.0\\r\\ndjango-compat==1.0.15\\r\\ndjango-debug-toolbar==3.6.0\\r\\ndjango-imagekit==4.1.0\\r\\ndjango-pandas==0.6.6\\r\\ndjango-request-logging==0.7.5\\r\\ndjango-sendgrid-v5==1.2.1\\r\\net-xmlfile==1.1.0\\r\\nfuture==0.18.2\\r\\ngeocoder==1.38.1\\r\\ngreenlet==1.1.3\\r\\nicontract==2.6.2\\r\\nidna==3.4\\r\\nisort==5.10.1\\r\\njdcal==1.4.1\\r\\nJinja2==3.1.2\\r\\njplephem==2.17\\r\\nkombu==5.2.4\\r\\nlazy-object-proxy==1.7.1\\r\\nlunardate==0.2.0\\r\\nMarkupSafe==2.1.1\\r\\nmccabe==0.7.0\\r\\nnumpy==1.23.3\\r\\nopenpyxl==3.0.10\\r\\npackaging==21.3\\r\\npandas==1.5.0\\r\\npilkit==2.0\\r\\nPillow==9.2.0\\r\\nplatformdirs==2.5.2\\r\\nprompt-toolkit==3.0.31\\r\\npsycopg2==2.9.3\\r\\npyCalverter==1.6.1\\r\\npylint==2.15.3\\r\\npylint-django==2.5.3\\r\\npylint-plugin-utils==0.7\\r\\npylint-unittest==0.1.3\\r\\npyluach==2.0.1\\r\\nPyMeeus==0.5.11\\r\\npyparsing==3.0.9\\r\\npypng==0.20220715.0\\r\\nPyQRCode==1.2.1\\r\\npython-dateutil==2.8.2\\r\\npython-http-client==3.3.7\\r\\npytz==2022.2.1\\r\\nPyYAML==6.0\\r\\nratelim==0.1.6\\r\\nredis==4.3.4\\r\\nrequests==2.28.1\\r\\nsendgrid==6.9.7\\r\\nsgp4==2.21\\r\\nsix==1.16.0\\r\\nskyfield==1.45\\r\\nskyfield-data==4.0.0\\r\\nsoupsieve==2.3.2.post1\\r\\nSQLAlchemy==1.4.40\\r\\nsqlparse==0.4.2\\r\\nstarkbank-ecdsa==2.0.3\\r\\ntoml==0.10.2\\r\\ntomli==2.0.1\\r\\ntomlkit==0.11.4\\r\\ntyping_extensions==4.3.0\\r\\ntzdata==2022.2\\r\\nurllib3==1.26.12\\r\\nvine==5.0.0\\r\\nwcwidth==0.2.5\\r\\nworkalendar==16.4.0\\r\\nwrapt==1.14.1\\r\\nzope.interface==5.4.0\\r\\n\\r\\n\\r\\n</details>\\r\\n',\n",
       "  'reactions': {'url': 'https://api.github.com/repos/pandas-dev/pandas/issues/48780/reactions',\n",
       "   'total_count': 1,\n",
       "   '+1': 1,\n",
       "   '-1': 0,\n",
       "   'laugh': 0,\n",
       "   'hooray': 0,\n",
       "   'confused': 0,\n",
       "   'heart': 0,\n",
       "   'rocket': 0,\n",
       "   'eyes': 0},\n",
       "  'timeline_url': 'https://api.github.com/repos/pandas-dev/pandas/issues/48780/timeline',\n",
       "  'performed_via_github_app': None,\n",
       "  'state_reason': None},\n",
       " {'url': 'https://api.github.com/repos/pandas-dev/pandas/issues/48779',\n",
       "  'repository_url': 'https://api.github.com/repos/pandas-dev/pandas',\n",
       "  'labels_url': 'https://api.github.com/repos/pandas-dev/pandas/issues/48779/labels{/name}',\n",
       "  'comments_url': 'https://api.github.com/repos/pandas-dev/pandas/issues/48779/comments',\n",
       "  'events_url': 'https://api.github.com/repos/pandas-dev/pandas/issues/48779/events',\n",
       "  'html_url': 'https://github.com/pandas-dev/pandas/issues/48779',\n",
       "  'id': 1385660723,\n",
       "  'node_id': 'I_kwDOAA0YD85Sl4Ez',\n",
       "  'number': 48779,\n",
       "  'title': 'BUG: pd.offsets.MonthEnd() delevers wrong month',\n",
       "  'user': {'login': 'pjousma',\n",
       "   'id': 114391084,\n",
       "   'node_id': 'U_kgDOBtF4LA',\n",
       "   'avatar_url': 'https://avatars.githubusercontent.com/u/114391084?v=4',\n",
       "   'gravatar_id': '',\n",
       "   'url': 'https://api.github.com/users/pjousma',\n",
       "   'html_url': 'https://github.com/pjousma',\n",
       "   'followers_url': 'https://api.github.com/users/pjousma/followers',\n",
       "   'following_url': 'https://api.github.com/users/pjousma/following{/other_user}',\n",
       "   'gists_url': 'https://api.github.com/users/pjousma/gists{/gist_id}',\n",
       "   'starred_url': 'https://api.github.com/users/pjousma/starred{/owner}{/repo}',\n",
       "   'subscriptions_url': 'https://api.github.com/users/pjousma/subscriptions',\n",
       "   'organizations_url': 'https://api.github.com/users/pjousma/orgs',\n",
       "   'repos_url': 'https://api.github.com/users/pjousma/repos',\n",
       "   'events_url': 'https://api.github.com/users/pjousma/events{/privacy}',\n",
       "   'received_events_url': 'https://api.github.com/users/pjousma/received_events',\n",
       "   'type': 'User',\n",
       "   'site_admin': False},\n",
       "  'labels': [{'id': 53181044,\n",
       "    'node_id': 'MDU6TGFiZWw1MzE4MTA0NA==',\n",
       "    'url': 'https://api.github.com/repos/pandas-dev/pandas/labels/Frequency',\n",
       "    'name': 'Frequency',\n",
       "    'color': '0052cc',\n",
       "    'default': False,\n",
       "    'description': 'DateOffsets'},\n",
       "   {'id': 717120670,\n",
       "    'node_id': 'MDU6TGFiZWw3MTcxMjA2NzA=',\n",
       "    'url': 'https://api.github.com/repos/pandas-dev/pandas/labels/good%20first%20issue',\n",
       "    'name': 'good first issue',\n",
       "    'color': '0e8a16',\n",
       "    'default': True,\n",
       "    'description': None}],\n",
       "  'state': 'open',\n",
       "  'locked': False,\n",
       "  'assignee': {'login': 'ZDenizYStenhaug',\n",
       "   'id': 44329698,\n",
       "   'node_id': 'MDQ6VXNlcjQ0MzI5Njk4',\n",
       "   'avatar_url': 'https://avatars.githubusercontent.com/u/44329698?v=4',\n",
       "   'gravatar_id': '',\n",
       "   'url': 'https://api.github.com/users/ZDenizYStenhaug',\n",
       "   'html_url': 'https://github.com/ZDenizYStenhaug',\n",
       "   'followers_url': 'https://api.github.com/users/ZDenizYStenhaug/followers',\n",
       "   'following_url': 'https://api.github.com/users/ZDenizYStenhaug/following{/other_user}',\n",
       "   'gists_url': 'https://api.github.com/users/ZDenizYStenhaug/gists{/gist_id}',\n",
       "   'starred_url': 'https://api.github.com/users/ZDenizYStenhaug/starred{/owner}{/repo}',\n",
       "   'subscriptions_url': 'https://api.github.com/users/ZDenizYStenhaug/subscriptions',\n",
       "   'organizations_url': 'https://api.github.com/users/ZDenizYStenhaug/orgs',\n",
       "   'repos_url': 'https://api.github.com/users/ZDenizYStenhaug/repos',\n",
       "   'events_url': 'https://api.github.com/users/ZDenizYStenhaug/events{/privacy}',\n",
       "   'received_events_url': 'https://api.github.com/users/ZDenizYStenhaug/received_events',\n",
       "   'type': 'User',\n",
       "   'site_admin': False},\n",
       "  'assignees': [{'login': 'ZDenizYStenhaug',\n",
       "    'id': 44329698,\n",
       "    'node_id': 'MDQ6VXNlcjQ0MzI5Njk4',\n",
       "    'avatar_url': 'https://avatars.githubusercontent.com/u/44329698?v=4',\n",
       "    'gravatar_id': '',\n",
       "    'url': 'https://api.github.com/users/ZDenizYStenhaug',\n",
       "    'html_url': 'https://github.com/ZDenizYStenhaug',\n",
       "    'followers_url': 'https://api.github.com/users/ZDenizYStenhaug/followers',\n",
       "    'following_url': 'https://api.github.com/users/ZDenizYStenhaug/following{/other_user}',\n",
       "    'gists_url': 'https://api.github.com/users/ZDenizYStenhaug/gists{/gist_id}',\n",
       "    'starred_url': 'https://api.github.com/users/ZDenizYStenhaug/starred{/owner}{/repo}',\n",
       "    'subscriptions_url': 'https://api.github.com/users/ZDenizYStenhaug/subscriptions',\n",
       "    'organizations_url': 'https://api.github.com/users/ZDenizYStenhaug/orgs',\n",
       "    'repos_url': 'https://api.github.com/users/ZDenizYStenhaug/repos',\n",
       "    'events_url': 'https://api.github.com/users/ZDenizYStenhaug/events{/privacy}',\n",
       "    'received_events_url': 'https://api.github.com/users/ZDenizYStenhaug/received_events',\n",
       "    'type': 'User',\n",
       "    'site_admin': False}],\n",
       "  'milestone': None,\n",
       "  'comments': 4,\n",
       "  'created_at': '2022-09-26T08:35:23Z',\n",
       "  'updated_at': '2022-09-26T11:03:56Z',\n",
       "  'closed_at': None,\n",
       "  'author_association': 'NONE',\n",
       "  'active_lock_reason': None,\n",
       "  'body': \"### Pandas version checks\\n\\n- [X] I have checked that this issue has not already been reported.\\n\\n- [X] I have confirmed this bug exists on the [latest version](https://pandas.pydata.org/docs/whatsnew/index.html) of pandas.\\n\\n- [X] I have confirmed this bug exists on the main branch of pandas.\\n\\n\\n### Reproducible Example\\n\\n```python\\nimport pandas as pd\\r\\nts = pd.Timestamp(2017, 1, 31)\\r\\nts + pd.offsets.MonthEnd()\\n```\\n\\n\\n### Issue Description\\n\\nI expect that the answer is: Timestamp('2017-01-31 00:00:00')\\r\\nbut I get: Timestamp('2017-02-28 00:00:00')\\n\\n### Expected Behavior\\n\\nTimestamp('2017-01-31 00:00:00')\\n\\n### Installed Versions\\n\\n<details>\\r\\n\\r\\n\\r\\nINSTALLED VERSIONS\\r\\n------------------\\r\\ncommit           : 4bfe3d07b4858144c219b9346329027024102ab6\\r\\npython           : 3.9.12.final.0\\r\\npython-bits      : 64\\r\\nOS               : Windows\\r\\nOS-release       : 10\\r\\nVersion          : 10.0.19044\\r\\nmachine          : AMD64\\r\\nprocessor        : Intel64 Family 6 Model 140 Stepping 1, GenuineIntel\\r\\nbyteorder        : little\\r\\nLC_ALL           : None\\r\\nLANG             : None\\r\\nLOCALE           : Dutch_Netherlands.1252\\r\\n\\r\\npandas           : 1.4.2\\r\\nnumpy            : 1.21.5\\r\\npytz             : 2021.3\\r\\ndateutil         : 2.8.2\\r\\npip              : 21.2.4\\r\\nsetuptools       : 61.2.0\\r\\nCython           : 0.29.28\\r\\npytest           : 7.1.1\\r\\nhypothesis       : None\\r\\nsphinx           : 4.4.0\\r\\nblosc            : None\\r\\nfeather          : None\\r\\nxlsxwriter       : 3.0.3\\r\\nlxml.etree       : 4.8.0\\r\\nhtml5lib         : None\\r\\npymysql          : None\\r\\npsycopg2         : None\\r\\njinja2           : 2.11.3\\r\\nIPython          : 8.2.0\\r\\npandas_datareader: None\\r\\nbs4              : 4.11.1\\r\\nbottleneck       : 1.3.4\\r\\nbrotli           : \\r\\nfastparquet      : None\\r\\nfsspec           : 2022.02.0\\r\\ngcsfs            : None\\r\\nmarkupsafe       : 2.0.1\\r\\nmatplotlib       : 3.5.1\\r\\nnumba            : 0.55.1\\r\\nnumexpr          : 2.8.1\\r\\nodfpy            : None\\r\\nopenpyxl         : 3.0.9\\r\\npandas_gbq       : None\\r\\npyarrow          : None\\r\\npyreadstat       : None\\r\\npyxlsb           : None\\r\\ns3fs             : None\\r\\nscipy            : 1.7.3\\r\\nsnappy           : \\r\\nsqlalchemy       : 1.4.32\\r\\ntables           : 3.6.1\\r\\ntabulate         : 0.8.9\\r\\nxarray           : 0.20.1\\r\\nxlrd             : 2.0.1\\r\\nxlwt             : None\\r\\nzstandard        : None\\r\\n\\r\\n</details>\\r\\n\",\n",
       "  'reactions': {'url': 'https://api.github.com/repos/pandas-dev/pandas/issues/48779/reactions',\n",
       "   'total_count': 0,\n",
       "   '+1': 0,\n",
       "   '-1': 0,\n",
       "   'laugh': 0,\n",
       "   'hooray': 0,\n",
       "   'confused': 0,\n",
       "   'heart': 0,\n",
       "   'rocket': 0,\n",
       "   'eyes': 0},\n",
       "  'timeline_url': 'https://api.github.com/repos/pandas-dev/pandas/issues/48779/timeline',\n",
       "  'performed_via_github_app': None,\n",
       "  'state_reason': None},\n",
       " {'url': 'https://api.github.com/repos/pandas-dev/pandas/issues/48776',\n",
       "  'repository_url': 'https://api.github.com/repos/pandas-dev/pandas',\n",
       "  'labels_url': 'https://api.github.com/repos/pandas-dev/pandas/issues/48776/labels{/name}',\n",
       "  'comments_url': 'https://api.github.com/repos/pandas-dev/pandas/issues/48776/comments',\n",
       "  'events_url': 'https://api.github.com/repos/pandas-dev/pandas/issues/48776/events',\n",
       "  'html_url': 'https://github.com/pandas-dev/pandas/pull/48776',\n",
       "  'id': 1385159645,\n",
       "  'node_id': 'PR_kwDOAA0YD84_j82V',\n",
       "  'number': 48776,\n",
       "  'title': 'ENH: Add option to use nullable dtypes in read_csv',\n",
       "  'user': {'login': 'phofl',\n",
       "   'id': 61934744,\n",
       "   'node_id': 'MDQ6VXNlcjYxOTM0NzQ0',\n",
       "   'avatar_url': 'https://avatars.githubusercontent.com/u/61934744?v=4',\n",
       "   'gravatar_id': '',\n",
       "   'url': 'https://api.github.com/users/phofl',\n",
       "   'html_url': 'https://github.com/phofl',\n",
       "   'followers_url': 'https://api.github.com/users/phofl/followers',\n",
       "   'following_url': 'https://api.github.com/users/phofl/following{/other_user}',\n",
       "   'gists_url': 'https://api.github.com/users/phofl/gists{/gist_id}',\n",
       "   'starred_url': 'https://api.github.com/users/phofl/starred{/owner}{/repo}',\n",
       "   'subscriptions_url': 'https://api.github.com/users/phofl/subscriptions',\n",
       "   'organizations_url': 'https://api.github.com/users/phofl/orgs',\n",
       "   'repos_url': 'https://api.github.com/users/phofl/repos',\n",
       "   'events_url': 'https://api.github.com/users/phofl/events{/privacy}',\n",
       "   'received_events_url': 'https://api.github.com/users/phofl/received_events',\n",
       "   'type': 'User',\n",
       "   'site_admin': False},\n",
       "  'labels': [{'id': 47229171,\n",
       "    'node_id': 'MDU6TGFiZWw0NzIyOTE3MQ==',\n",
       "    'url': 'https://api.github.com/repos/pandas-dev/pandas/labels/IO%20CSV',\n",
       "    'name': 'IO CSV',\n",
       "    'color': '5319e7',\n",
       "    'default': False,\n",
       "    'description': 'read_csv, to_csv'},\n",
       "   {'id': 1817503692,\n",
       "    'node_id': 'MDU6TGFiZWwxODE3NTAzNjky',\n",
       "    'url': 'https://api.github.com/repos/pandas-dev/pandas/labels/NA%20-%20MaskedArrays',\n",
       "    'name': 'NA - MaskedArrays',\n",
       "    'color': '8cc645',\n",
       "    'default': False,\n",
       "    'description': 'Related to pd.NA and nullable extension arrays'}],\n",
       "  'state': 'open',\n",
       "  'locked': False,\n",
       "  'assignee': None,\n",
       "  'assignees': [],\n",
       "  'milestone': None,\n",
       "  'comments': 0,\n",
       "  'created_at': '2022-09-25T20:45:54Z',\n",
       "  'updated_at': '2022-09-25T20:46:38Z',\n",
       "  'closed_at': None,\n",
       "  'author_association': 'MEMBER',\n",
       "  'active_lock_reason': None,\n",
       "  'draft': True,\n",
       "  'pull_request': {'url': 'https://api.github.com/repos/pandas-dev/pandas/pulls/48776',\n",
       "   'html_url': 'https://github.com/pandas-dev/pandas/pull/48776',\n",
       "   'diff_url': 'https://github.com/pandas-dev/pandas/pull/48776.diff',\n",
       "   'patch_url': 'https://github.com/pandas-dev/pandas/pull/48776.patch',\n",
       "   'merged_at': None},\n",
       "  'body': '- [x] closes #36712 (Replace xxxx with the Github issue number)\\r\\n- [x] [Tests added and passed](https://pandas.pydata.org/pandas-docs/dev/development/contributing_codebase.html#writing-tests) if fixing a bug or adding a new feature\\r\\n- [x] All [code checks passed](https://pandas.pydata.org/pandas-docs/dev/development/contributing_codebase.html#pre-commit).\\r\\n- [x] Added [type annotations](https://pandas.pydata.org/pandas-docs/dev/development/contributing_codebase.html#type-hints) to new arguments/methods/functions.\\r\\n- [x] Added an entry in the latest `doc/source/whatsnew/vX.X.X.rst` file if fixing a bug or adding a new feature.\\r\\n',\n",
       "  'reactions': {'url': 'https://api.github.com/repos/pandas-dev/pandas/issues/48776/reactions',\n",
       "   'total_count': 0,\n",
       "   '+1': 0,\n",
       "   '-1': 0,\n",
       "   'laugh': 0,\n",
       "   'hooray': 0,\n",
       "   'confused': 0,\n",
       "   'heart': 0,\n",
       "   'rocket': 0,\n",
       "   'eyes': 0},\n",
       "  'timeline_url': 'https://api.github.com/repos/pandas-dev/pandas/issues/48776/timeline',\n",
       "  'performed_via_github_app': None,\n",
       "  'state_reason': None},\n",
       " {'url': 'https://api.github.com/repos/pandas-dev/pandas/issues/48774',\n",
       "  'repository_url': 'https://api.github.com/repos/pandas-dev/pandas',\n",
       "  'labels_url': 'https://api.github.com/repos/pandas-dev/pandas/issues/48774/labels{/name}',\n",
       "  'comments_url': 'https://api.github.com/repos/pandas-dev/pandas/issues/48774/comments',\n",
       "  'events_url': 'https://api.github.com/repos/pandas-dev/pandas/issues/48774/events',\n",
       "  'html_url': 'https://github.com/pandas-dev/pandas/pull/48774',\n",
       "  'id': 1385125103,\n",
       "  'node_id': 'PR_kwDOAA0YD84_j2tY',\n",
       "  'number': 48774,\n",
       "  'title': 'ENH: Raise ParserError instead of IndexError when specifying an incorrect number of columns with index_col for the read_csv C parser.',\n",
       "  'user': {'login': 'DriesSchaumont',\n",
       "   'id': 5946712,\n",
       "   'node_id': 'MDQ6VXNlcjU5NDY3MTI=',\n",
       "   'avatar_url': 'https://avatars.githubusercontent.com/u/5946712?v=4',\n",
       "   'gravatar_id': '',\n",
       "   'url': 'https://api.github.com/users/DriesSchaumont',\n",
       "   'html_url': 'https://github.com/DriesSchaumont',\n",
       "   'followers_url': 'https://api.github.com/users/DriesSchaumont/followers',\n",
       "   'following_url': 'https://api.github.com/users/DriesSchaumont/following{/other_user}',\n",
       "   'gists_url': 'https://api.github.com/users/DriesSchaumont/gists{/gist_id}',\n",
       "   'starred_url': 'https://api.github.com/users/DriesSchaumont/starred{/owner}{/repo}',\n",
       "   'subscriptions_url': 'https://api.github.com/users/DriesSchaumont/subscriptions',\n",
       "   'organizations_url': 'https://api.github.com/users/DriesSchaumont/orgs',\n",
       "   'repos_url': 'https://api.github.com/users/DriesSchaumont/repos',\n",
       "   'events_url': 'https://api.github.com/users/DriesSchaumont/events{/privacy}',\n",
       "   'received_events_url': 'https://api.github.com/users/DriesSchaumont/received_events',\n",
       "   'type': 'User',\n",
       "   'site_admin': False},\n",
       "  'labels': [{'id': 76812,\n",
       "    'node_id': 'MDU6TGFiZWw3NjgxMg==',\n",
       "    'url': 'https://api.github.com/repos/pandas-dev/pandas/labels/Enhancement',\n",
       "    'name': 'Enhancement',\n",
       "    'color': '4E9A06',\n",
       "    'default': False,\n",
       "    'description': None},\n",
       "   {'id': 42670965,\n",
       "    'node_id': 'MDU6TGFiZWw0MjY3MDk2NQ==',\n",
       "    'url': 'https://api.github.com/repos/pandas-dev/pandas/labels/Error%20Reporting',\n",
       "    'name': 'Error Reporting',\n",
       "    'color': 'ffa0ff',\n",
       "    'default': False,\n",
       "    'description': 'Incorrect or improved errors from pandas'}],\n",
       "  'state': 'open',\n",
       "  'locked': False,\n",
       "  'assignee': None,\n",
       "  'assignees': [],\n",
       "  'milestone': None,\n",
       "  'comments': 0,\n",
       "  'created_at': '2022-09-25T18:44:06Z',\n",
       "  'updated_at': '2022-09-26T17:55:43Z',\n",
       "  'closed_at': None,\n",
       "  'author_association': 'MEMBER',\n",
       "  'active_lock_reason': None,\n",
       "  'draft': False,\n",
       "  'pull_request': {'url': 'https://api.github.com/repos/pandas-dev/pandas/pulls/48774',\n",
       "   'html_url': 'https://github.com/pandas-dev/pandas/pull/48774',\n",
       "   'diff_url': 'https://github.com/pandas-dev/pandas/pull/48774.diff',\n",
       "   'patch_url': 'https://github.com/pandas-dev/pandas/pull/48774.patch',\n",
       "   'merged_at': None},\n",
       "  'body': '\\r\\n- [x] closes #16393 (Replace xxxx with the Github issue number)\\r\\n- [x] [Tests added and passed](https://pandas.pydata.org/pandas-docs/dev/development/contributing_codebase.html#writing-tests) if fixing a bug or adding a new feature\\r\\n- [x] All [code checks passed](https://pandas.pydata.org/pandas-docs/dev/development/contributing_codebase.html#pre-commit).\\r\\n- [x] Added [type annotations](https://pandas.pydata.org/pandas-docs/dev/development/contributing_codebase.html#type-hints) to new arguments/methods/functions.\\r\\n- [x] Added an entry in the latest `doc/source/whatsnew/vX.X.X.rst` file if fixing a bug or adding a new feature.\\r\\n',\n",
       "  'reactions': {'url': 'https://api.github.com/repos/pandas-dev/pandas/issues/48774/reactions',\n",
       "   'total_count': 0,\n",
       "   '+1': 0,\n",
       "   '-1': 0,\n",
       "   'laugh': 0,\n",
       "   'hooray': 0,\n",
       "   'confused': 0,\n",
       "   'heart': 0,\n",
       "   'rocket': 0,\n",
       "   'eyes': 0},\n",
       "  'timeline_url': 'https://api.github.com/repos/pandas-dev/pandas/issues/48774/timeline',\n",
       "  'performed_via_github_app': None,\n",
       "  'state_reason': None},\n",
       " {'url': 'https://api.github.com/repos/pandas-dev/pandas/issues/48772',\n",
       "  'repository_url': 'https://api.github.com/repos/pandas-dev/pandas',\n",
       "  'labels_url': 'https://api.github.com/repos/pandas-dev/pandas/issues/48772/labels{/name}',\n",
       "  'comments_url': 'https://api.github.com/repos/pandas-dev/pandas/issues/48772/comments',\n",
       "  'events_url': 'https://api.github.com/repos/pandas-dev/pandas/issues/48772/events',\n",
       "  'html_url': 'https://github.com/pandas-dev/pandas/pull/48772',\n",
       "  'id': 1385027203,\n",
       "  'node_id': 'PR_kwDOAA0YD84_jmv1',\n",
       "  'number': 48772,\n",
       "  'title': 'BUG: Bug fix for GH48567',\n",
       "  'user': {'login': 'JanVHII',\n",
       "   'id': 12532395,\n",
       "   'node_id': 'MDQ6VXNlcjEyNTMyMzk1',\n",
       "   'avatar_url': 'https://avatars.githubusercontent.com/u/12532395?v=4',\n",
       "   'gravatar_id': '',\n",
       "   'url': 'https://api.github.com/users/JanVHII',\n",
       "   'html_url': 'https://github.com/JanVHII',\n",
       "   'followers_url': 'https://api.github.com/users/JanVHII/followers',\n",
       "   'following_url': 'https://api.github.com/users/JanVHII/following{/other_user}',\n",
       "   'gists_url': 'https://api.github.com/users/JanVHII/gists{/gist_id}',\n",
       "   'starred_url': 'https://api.github.com/users/JanVHII/starred{/owner}{/repo}',\n",
       "   'subscriptions_url': 'https://api.github.com/users/JanVHII/subscriptions',\n",
       "   'organizations_url': 'https://api.github.com/users/JanVHII/orgs',\n",
       "   'repos_url': 'https://api.github.com/users/JanVHII/repos',\n",
       "   'events_url': 'https://api.github.com/users/JanVHII/events{/privacy}',\n",
       "   'received_events_url': 'https://api.github.com/users/JanVHII/received_events',\n",
       "   'type': 'User',\n",
       "   'site_admin': False},\n",
       "  'labels': [{'id': 76811,\n",
       "    'node_id': 'MDU6TGFiZWw3NjgxMQ==',\n",
       "    'url': 'https://api.github.com/repos/pandas-dev/pandas/labels/Bug',\n",
       "    'name': 'Bug',\n",
       "    'color': 'e10c02',\n",
       "    'default': False,\n",
       "    'description': None},\n",
       "   {'id': 233160,\n",
       "    'node_id': 'MDU6TGFiZWwyMzMxNjA=',\n",
       "    'url': 'https://api.github.com/repos/pandas-dev/pandas/labels/Groupby',\n",
       "    'name': 'Groupby',\n",
       "    'color': '729FCF',\n",
       "    'default': False,\n",
       "    'description': None}],\n",
       "  'state': 'open',\n",
       "  'locked': False,\n",
       "  'assignee': None,\n",
       "  'assignees': [],\n",
       "  'milestone': None,\n",
       "  'comments': 0,\n",
       "  'created_at': '2022-09-25T13:35:07Z',\n",
       "  'updated_at': '2022-09-26T18:37:43Z',\n",
       "  'closed_at': None,\n",
       "  'author_association': 'NONE',\n",
       "  'active_lock_reason': None,\n",
       "  'draft': False,\n",
       "  'pull_request': {'url': 'https://api.github.com/repos/pandas-dev/pandas/pulls/48772',\n",
       "   'html_url': 'https://github.com/pandas-dev/pandas/pull/48772',\n",
       "   'diff_url': 'https://github.com/pandas-dev/pandas/pull/48772.diff',\n",
       "   'patch_url': 'https://github.com/pandas-dev/pandas/pull/48772.patch',\n",
       "   'merged_at': None},\n",
       "  'body': 'Groupby for Series fails if an entry of the index of the Series is equal to the name of the index. Analyzing the bug, I think the following small change would solve the issue:\\r\\n\\r\\ndiff --git a/pandas/core/groupby/grouper.py b/pandas/core/groupby/grouper.py index 5fc713d84e..9281040a79 100644\\r\\n--- a/pandas/core/groupby/grouper.py\\r\\n+++ b/pandas/core/groupby/grouper.py\\r\\n@@ -875,7 +875,7 @@ def get_grouper(\\r\\n             exclusions.add(gpr.name)\\r\\n\\r\\n         elif is_in_axis(gpr):  # df.groupby(\\'name\\')\\r\\n-            if gpr in obj:\\r\\n+            if not isinstance(obj, Series) and gpr in obj:\\r\\n                 if validate:\\r\\n                     obj._check_label_or_level_ambiguity(gpr, axis=axis)\\r\\n                 in_axis, name, gpr = True, gpr, obj[gpr]\\r\\n\\r\\nFrom my point of view \"gpr in obj\" does not make sense for series at this point. I think the if-statement is written for dataframes to look if gbr is one of the columns. Skipping the if-statement for series gives the correct results for the examples above. The testsuite for series and groupby runs without errors after the change. I added a test to the test suite at the end of pandas/tests/groupby/test_groupby.py and a comment in the BUG section to doc/source/whatsnew/v1.6.0.rst.\\r\\n\\r\\n- [x] closes #48567 (Replace xxxx with the Github issue number)\\r\\n- [x] [Tests added and passed](https://pandas.pydata.org/pandas-docs/dev/development/contributing_codebase.html#writing-tests) if fixing a bug or adding a new feature\\r\\n- [ ] All [code checks passed](https://pandas.pydata.org/pandas-docs/dev/development/contributing_codebase.html#pre-commit).\\r\\n- [ ] Added [type annotations](https://pandas.pydata.org/pandas-docs/dev/development/contributing_codebase.html#type-hints) to new arguments/methods/functions.\\r\\n- [x] Added an entry in the latest `doc/source/whatsnew/vX.X.X.rst` file if fixing a bug or adding a new feature.\\r\\n',\n",
       "  'reactions': {'url': 'https://api.github.com/repos/pandas-dev/pandas/issues/48772/reactions',\n",
       "   'total_count': 0,\n",
       "   '+1': 0,\n",
       "   '-1': 0,\n",
       "   'laugh': 0,\n",
       "   'hooray': 0,\n",
       "   'confused': 0,\n",
       "   'heart': 0,\n",
       "   'rocket': 0,\n",
       "   'eyes': 0},\n",
       "  'timeline_url': 'https://api.github.com/repos/pandas-dev/pandas/issues/48772/timeline',\n",
       "  'performed_via_github_app': None,\n",
       "  'state_reason': None},\n",
       " {'url': 'https://api.github.com/repos/pandas-dev/pandas/issues/48770',\n",
       "  'repository_url': 'https://api.github.com/repos/pandas-dev/pandas',\n",
       "  'labels_url': 'https://api.github.com/repos/pandas-dev/pandas/issues/48770/labels{/name}',\n",
       "  'comments_url': 'https://api.github.com/repos/pandas-dev/pandas/issues/48770/comments',\n",
       "  'events_url': 'https://api.github.com/repos/pandas-dev/pandas/issues/48770/events',\n",
       "  'html_url': 'https://github.com/pandas-dev/pandas/pull/48770',\n",
       "  'id': 1384968001,\n",
       "  'node_id': 'PR_kwDOAA0YD84_jcsk',\n",
       "  'number': 48770,\n",
       "  'title': 'added sytle in stylesheet for <blockquote>',\n",
       "  'user': {'login': 'Himanshuwagh',\n",
       "   'id': 76431630,\n",
       "   'node_id': 'MDQ6VXNlcjc2NDMxNjMw',\n",
       "   'avatar_url': 'https://avatars.githubusercontent.com/u/76431630?v=4',\n",
       "   'gravatar_id': '',\n",
       "   'url': 'https://api.github.com/users/Himanshuwagh',\n",
       "   'html_url': 'https://github.com/Himanshuwagh',\n",
       "   'followers_url': 'https://api.github.com/users/Himanshuwagh/followers',\n",
       "   'following_url': 'https://api.github.com/users/Himanshuwagh/following{/other_user}',\n",
       "   'gists_url': 'https://api.github.com/users/Himanshuwagh/gists{/gist_id}',\n",
       "   'starred_url': 'https://api.github.com/users/Himanshuwagh/starred{/owner}{/repo}',\n",
       "   'subscriptions_url': 'https://api.github.com/users/Himanshuwagh/subscriptions',\n",
       "   'organizations_url': 'https://api.github.com/users/Himanshuwagh/orgs',\n",
       "   'repos_url': 'https://api.github.com/users/Himanshuwagh/repos',\n",
       "   'events_url': 'https://api.github.com/users/Himanshuwagh/events{/privacy}',\n",
       "   'received_events_url': 'https://api.github.com/users/Himanshuwagh/received_events',\n",
       "   'type': 'User',\n",
       "   'site_admin': False},\n",
       "  'labels': [{'id': 1508144531,\n",
       "    'node_id': 'MDU6TGFiZWwxNTA4MTQ0NTMx',\n",
       "    'url': 'https://api.github.com/repos/pandas-dev/pandas/labels/Web',\n",
       "    'name': 'Web',\n",
       "    'color': '23ef97',\n",
       "    'default': False,\n",
       "    'description': 'pandas website'}],\n",
       "  'state': 'open',\n",
       "  'locked': False,\n",
       "  'assignee': None,\n",
       "  'assignees': [],\n",
       "  'milestone': None,\n",
       "  'comments': 1,\n",
       "  'created_at': '2022-09-25T10:07:50Z',\n",
       "  'updated_at': '2022-09-25T12:24:42Z',\n",
       "  'closed_at': None,\n",
       "  'author_association': 'NONE',\n",
       "  'active_lock_reason': None,\n",
       "  'draft': False,\n",
       "  'pull_request': {'url': 'https://api.github.com/repos/pandas-dev/pandas/pulls/48770',\n",
       "   'html_url': 'https://github.com/pandas-dev/pandas/pull/48770',\n",
       "   'diff_url': 'https://github.com/pandas-dev/pandas/pull/48770.diff',\n",
       "   'patch_url': 'https://github.com/pandas-dev/pandas/pull/48770.patch',\n",
       "   'merged_at': None},\n",
       "  'body': 'Closes #48758\\r\\n\\r\\nadded styles for stylesheets for `<blockquote>` tag\\r\\n1. added left-padding\\r\\n2. also changed the font color ( default black to gray )',\n",
       "  'reactions': {'url': 'https://api.github.com/repos/pandas-dev/pandas/issues/48770/reactions',\n",
       "   'total_count': 0,\n",
       "   '+1': 0,\n",
       "   '-1': 0,\n",
       "   'laugh': 0,\n",
       "   'hooray': 0,\n",
       "   'confused': 0,\n",
       "   'heart': 0,\n",
       "   'rocket': 0,\n",
       "   'eyes': 0},\n",
       "  'timeline_url': 'https://api.github.com/repos/pandas-dev/pandas/issues/48770/timeline',\n",
       "  'performed_via_github_app': None,\n",
       "  'state_reason': None},\n",
       " {'url': 'https://api.github.com/repos/pandas-dev/pandas/issues/48767',\n",
       "  'repository_url': 'https://api.github.com/repos/pandas-dev/pandas',\n",
       "  'labels_url': 'https://api.github.com/repos/pandas-dev/pandas/issues/48767/labels{/name}',\n",
       "  'comments_url': 'https://api.github.com/repos/pandas-dev/pandas/issues/48767/comments',\n",
       "  'events_url': 'https://api.github.com/repos/pandas-dev/pandas/issues/48767/events',\n",
       "  'html_url': 'https://github.com/pandas-dev/pandas/issues/48767',\n",
       "  'id': 1384934606,\n",
       "  'node_id': 'I_kwDOAA0YD85SjGzO',\n",
       "  'number': 48767,\n",
       "  'title': 'BUG: `pd.to_datetime()` fails to parse nanoseconds',\n",
       "  'user': {'login': 'gtopper',\n",
       "   'id': 4675524,\n",
       "   'node_id': 'MDQ6VXNlcjQ2NzU1MjQ=',\n",
       "   'avatar_url': 'https://avatars.githubusercontent.com/u/4675524?v=4',\n",
       "   'gravatar_id': '',\n",
       "   'url': 'https://api.github.com/users/gtopper',\n",
       "   'html_url': 'https://github.com/gtopper',\n",
       "   'followers_url': 'https://api.github.com/users/gtopper/followers',\n",
       "   'following_url': 'https://api.github.com/users/gtopper/following{/other_user}',\n",
       "   'gists_url': 'https://api.github.com/users/gtopper/gists{/gist_id}',\n",
       "   'starred_url': 'https://api.github.com/users/gtopper/starred{/owner}{/repo}',\n",
       "   'subscriptions_url': 'https://api.github.com/users/gtopper/subscriptions',\n",
       "   'organizations_url': 'https://api.github.com/users/gtopper/orgs',\n",
       "   'repos_url': 'https://api.github.com/users/gtopper/repos',\n",
       "   'events_url': 'https://api.github.com/users/gtopper/events{/privacy}',\n",
       "   'received_events_url': 'https://api.github.com/users/gtopper/received_events',\n",
       "   'type': 'User',\n",
       "   'site_admin': False},\n",
       "  'labels': [{'id': 211840,\n",
       "    'node_id': 'MDU6TGFiZWwyMTE4NDA=',\n",
       "    'url': 'https://api.github.com/repos/pandas-dev/pandas/labels/Timeseries',\n",
       "    'name': 'Timeseries',\n",
       "    'color': 'AFEEEE',\n",
       "    'default': False,\n",
       "    'description': None},\n",
       "   {'id': 32815646,\n",
       "    'node_id': 'MDU6TGFiZWwzMjgxNTY0Ng==',\n",
       "    'url': 'https://api.github.com/repos/pandas-dev/pandas/labels/Regression',\n",
       "    'name': 'Regression',\n",
       "    'color': 'e11d21',\n",
       "    'default': False,\n",
       "    'description': 'Functionality that used to work in a prior pandas version'}],\n",
       "  'state': 'open',\n",
       "  'locked': False,\n",
       "  'assignee': None,\n",
       "  'assignees': [],\n",
       "  'milestone': {'url': 'https://api.github.com/repos/pandas-dev/pandas/milestones/98',\n",
       "   'html_url': 'https://github.com/pandas-dev/pandas/milestone/98',\n",
       "   'labels_url': 'https://api.github.com/repos/pandas-dev/pandas/milestones/98/labels',\n",
       "   'id': 8438761,\n",
       "   'node_id': 'MI_kwDOAA0YD84AgMPp',\n",
       "   'number': 98,\n",
       "   'title': '1.5.1',\n",
       "   'description': 'on-merge: backport to 1.5.x',\n",
       "   'creator': {'login': 'datapythonista',\n",
       "    'id': 10058240,\n",
       "    'node_id': 'MDQ6VXNlcjEwMDU4MjQw',\n",
       "    'avatar_url': 'https://avatars.githubusercontent.com/u/10058240?v=4',\n",
       "    'gravatar_id': '',\n",
       "    'url': 'https://api.github.com/users/datapythonista',\n",
       "    'html_url': 'https://github.com/datapythonista',\n",
       "    'followers_url': 'https://api.github.com/users/datapythonista/followers',\n",
       "    'following_url': 'https://api.github.com/users/datapythonista/following{/other_user}',\n",
       "    'gists_url': 'https://api.github.com/users/datapythonista/gists{/gist_id}',\n",
       "    'starred_url': 'https://api.github.com/users/datapythonista/starred{/owner}{/repo}',\n",
       "    'subscriptions_url': 'https://api.github.com/users/datapythonista/subscriptions',\n",
       "    'organizations_url': 'https://api.github.com/users/datapythonista/orgs',\n",
       "    'repos_url': 'https://api.github.com/users/datapythonista/repos',\n",
       "    'events_url': 'https://api.github.com/users/datapythonista/events{/privacy}',\n",
       "    'received_events_url': 'https://api.github.com/users/datapythonista/received_events',\n",
       "    'type': 'User',\n",
       "    'site_admin': False},\n",
       "   'open_issues': 21,\n",
       "   'closed_issues': 43,\n",
       "   'state': 'open',\n",
       "   'created_at': '2022-09-19T20:12:38Z',\n",
       "   'updated_at': '2022-09-26T23:00:52Z',\n",
       "   'due_on': None,\n",
       "   'closed_at': None},\n",
       "  'comments': 3,\n",
       "  'created_at': '2022-09-25T07:50:13Z',\n",
       "  'updated_at': '2022-09-26T20:15:52Z',\n",
       "  'closed_at': None,\n",
       "  'author_association': 'NONE',\n",
       "  'active_lock_reason': None,\n",
       "  'body': \"### Pandas version checks\\n\\n- [X] I have checked that this issue has not already been reported.\\n\\n- [X] I have confirmed this bug exists on the [latest version](https://pandas.pydata.org/docs/whatsnew/index.html) of pandas.\\n\\n- [X] I have confirmed this bug exists on the main branch of pandas.\\n\\n\\n### Reproducible Example\\n\\n```python\\nimport pandas as pd\\r\\n\\r\\ntimestamp = '15/02/2020 02:03:04.123456789'\\r\\ntimestamp_format = '%d/%m/%Y %H:%M:%S.%f'\\r\\npd.to_datetime(timestamp, format=timestamp_format)\\n```\\n\\n\\n### Issue Description\\n\\nNew in 1.5.0 – the following error is raised\\r\\n```\\r\\nValueError: unconverted data remains: 789\\r\\n```\\r\\n\\r\\nIf dropping nanosecond support was intentional, [the documentation](https://pandas.pydata.org/docs/reference/api/pandas.to_datetime.html) was not updated accordingly.\\n\\n### Expected Behavior\\n\\nNo error raised.\\n\\n### Installed Versions\\n\\n<details>\\r\\n\\r\\nINSTALLED VERSIONS\\r\\n------------------\\r\\ncommit           : 87cfe4e38bafe7300a6003a1d18bd80f3f77c763\\r\\npython           : 3.8.9.final.0\\r\\npython-bits      : 64\\r\\nOS               : Darwin\\r\\nOS-release       : 21.6.0\\r\\nVersion          : Darwin Kernel Version 21.6.0: Mon Aug 22 20:17:10 PDT 2022; root:xnu-8020.140.49~2/RELEASE_X86_64\\r\\nmachine          : x86_64\\r\\nprocessor        : i386\\r\\nbyteorder        : little\\r\\nLC_ALL           : None\\r\\nLANG             : None\\r\\nLOCALE           : None.UTF-8\\r\\n\\r\\npandas           : 1.5.0\\r\\nnumpy            : 1.22.4\\r\\npytz             : 2022.2.1\\r\\ndateutil         : 2.8.2\\r\\nsetuptools       : 65.3.0\\r\\npip              : 22.2.2\\r\\nCython           : None\\r\\npytest           : 5.4.3\\r\\nhypothesis       : None\\r\\nsphinx           : 3.5.4\\r\\nblosc            : None\\r\\nfeather          : None\\r\\nxlsxwriter       : None\\r\\nlxml.etree       : None\\r\\nhtml5lib         : None\\r\\npymysql          : None\\r\\npsycopg2         : None\\r\\njinja2           : 3.0.3\\r\\nIPython          : 7.31.0\\r\\npandas_datareader: None\\r\\nbs4              : 4.10.0\\r\\nbottleneck       : None\\r\\nbrotli           : None\\r\\nfastparquet      : None\\r\\nfsspec           : 2022.8.2\\r\\ngcsfs            : None\\r\\nmatplotlib       : None\\r\\nnumba            : None\\r\\nnumexpr          : None\\r\\nodfpy            : None\\r\\nopenpyxl         : None\\r\\npandas_gbq       : None\\r\\npyarrow          : 6.0.1\\r\\npyreadstat       : None\\r\\npyxlsb           : None\\r\\ns3fs             : 0.6.0\\r\\nscipy            : None\\r\\nsnappy           : None\\r\\nsqlalchemy       : 1.4.29\\r\\ntables           : None\\r\\ntabulate         : 0.8.9\\r\\nxarray           : None\\r\\nxlrd             : None\\r\\nxlwt             : None\\r\\nzstandard        : None\\r\\ntzdata           : None\\r\\n\\r\\n\\r\\n</details>\\r\\n\",\n",
       "  'reactions': {'url': 'https://api.github.com/repos/pandas-dev/pandas/issues/48767/reactions',\n",
       "   'total_count': 0,\n",
       "   '+1': 0,\n",
       "   '-1': 0,\n",
       "   'laugh': 0,\n",
       "   'hooray': 0,\n",
       "   'confused': 0,\n",
       "   'heart': 0,\n",
       "   'rocket': 0,\n",
       "   'eyes': 0},\n",
       "  'timeline_url': 'https://api.github.com/repos/pandas-dev/pandas/issues/48767/timeline',\n",
       "  'performed_via_github_app': None,\n",
       "  'state_reason': None},\n",
       " {'url': 'https://api.github.com/repos/pandas-dev/pandas/issues/48766',\n",
       "  'repository_url': 'https://api.github.com/repos/pandas-dev/pandas',\n",
       "  'labels_url': 'https://api.github.com/repos/pandas-dev/pandas/issues/48766/labels{/name}',\n",
       "  'comments_url': 'https://api.github.com/repos/pandas-dev/pandas/issues/48766/comments',\n",
       "  'events_url': 'https://api.github.com/repos/pandas-dev/pandas/issues/48766/events',\n",
       "  'html_url': 'https://github.com/pandas-dev/pandas/issues/48766',\n",
       "  'id': 1384856275,\n",
       "  'node_id': 'I_kwDOAA0YD85SizrT',\n",
       "  'number': 48766,\n",
       "  'title': 'ENH: find categorical code against categorical label/value',\n",
       "  'user': {'login': 'StevenLi-DS',\n",
       "   'id': 33796896,\n",
       "   'node_id': 'MDQ6VXNlcjMzNzk2ODk2',\n",
       "   'avatar_url': 'https://avatars.githubusercontent.com/u/33796896?v=4',\n",
       "   'gravatar_id': '',\n",
       "   'url': 'https://api.github.com/users/StevenLi-DS',\n",
       "   'html_url': 'https://github.com/StevenLi-DS',\n",
       "   'followers_url': 'https://api.github.com/users/StevenLi-DS/followers',\n",
       "   'following_url': 'https://api.github.com/users/StevenLi-DS/following{/other_user}',\n",
       "   'gists_url': 'https://api.github.com/users/StevenLi-DS/gists{/gist_id}',\n",
       "   'starred_url': 'https://api.github.com/users/StevenLi-DS/starred{/owner}{/repo}',\n",
       "   'subscriptions_url': 'https://api.github.com/users/StevenLi-DS/subscriptions',\n",
       "   'organizations_url': 'https://api.github.com/users/StevenLi-DS/orgs',\n",
       "   'repos_url': 'https://api.github.com/users/StevenLi-DS/repos',\n",
       "   'events_url': 'https://api.github.com/users/StevenLi-DS/events{/privacy}',\n",
       "   'received_events_url': 'https://api.github.com/users/StevenLi-DS/received_events',\n",
       "   'type': 'User',\n",
       "   'site_admin': False},\n",
       "  'labels': [{'id': 76812,\n",
       "    'node_id': 'MDU6TGFiZWw3NjgxMg==',\n",
       "    'url': 'https://api.github.com/repos/pandas-dev/pandas/labels/Enhancement',\n",
       "    'name': 'Enhancement',\n",
       "    'color': '4E9A06',\n",
       "    'default': False,\n",
       "    'description': None},\n",
       "   {'id': 1954720290,\n",
       "    'node_id': 'MDU6TGFiZWwxOTU0NzIwMjkw',\n",
       "    'url': 'https://api.github.com/repos/pandas-dev/pandas/labels/Needs%20Triage',\n",
       "    'name': 'Needs Triage',\n",
       "    'color': '0052cc',\n",
       "    'default': False,\n",
       "    'description': 'Issue that has not been reviewed by a pandas team member'}],\n",
       "  'state': 'open',\n",
       "  'locked': False,\n",
       "  'assignee': None,\n",
       "  'assignees': [],\n",
       "  'milestone': None,\n",
       "  'comments': 6,\n",
       "  'created_at': '2022-09-25T00:54:26Z',\n",
       "  'updated_at': '2022-09-25T15:15:32Z',\n",
       "  'closed_at': None,\n",
       "  'author_association': 'NONE',\n",
       "  'active_lock_reason': None,\n",
       "  'body': \"### Feature Type\\n\\n- [X] Adding new functionality to pandas\\n\\n- [ ] Changing existing functionality in pandas\\n\\n- [ ] Removing existing functionality in pandas\\n\\n\\n### Problem Description\\n\\nI wish I could check the underlying code for each value against a categorical column directly without indexing and using `cat.codes`\\r\\n\\r\\nAssume I have the following dataframe\\r\\n```python\\r\\nimport pandas as pd\\r\\nfrom pandas.api.types import CategoricalDtype\\r\\n\\r\\ndata = {\\r\\n    'quarter': ['2019Q4', '2020Q1', '2020Q2', '2020Q3'],\\r\\n    'num': [12, 23, 34, 67]\\r\\n}\\r\\ndf = pd.DataFrame(data=data)\\r\\n\\r\\ncat = CategoricalDtype(categories=data['quarter'], ordered=True)\\r\\ndf.quarter = df.quarter.astype(cat)\\r\\n```\\r\\nI need to select all the rows *after* `2020Q2`. I have to first find the underlying code of the value/label `2020Q2`, but I can only do so by indexing the dataframe against it and then use `cat.codes`, and then indexing the array return to get the first value. This is a little bit tedious.\\r\\n\\r\\n```python\\r\\nc = df[df.quarter == '2020Q2'].quarter.cat.codes.values[0]\\r\\ndf[df.quarter.cat.codes > c]\\r\\n```\\n\\n### Feature Description\\n\\nRight now if you use `df.quarter.dtype.categories`, it only returns the categories as a list\\r\\n```\\r\\nIndex(['2019Q4', '2020Q1', '2020Q2', '2020Q3'], dtype='object')\\r\\n```\\r\\nIt would be great if there is a attribute to return a map of categories and codes together in a dictionary so that users could simply find the codes by using categories as dict keys\\r\\nFor example\\r\\n```\\r\\ndf.df.quarter.dtype.cats_codes\\r\\n```\\r\\nreturns\\r\\n```\\r\\n{'2019Q4': 1, '2020Q1': 2, '2020Q2': 3, '2020Q3': 4}\\r\\n```\\n\\n### Alternative Solutions\\n\\nMaybe it could also be a `get_cat_code()` function in pandas api so that users could input a category to get the underlying code, such as `get_cat_code(cat='2020Q2')`\\n\\n### Additional Context\\n\\n_No response_\",\n",
       "  'reactions': {'url': 'https://api.github.com/repos/pandas-dev/pandas/issues/48766/reactions',\n",
       "   'total_count': 0,\n",
       "   '+1': 0,\n",
       "   '-1': 0,\n",
       "   'laugh': 0,\n",
       "   'hooray': 0,\n",
       "   'confused': 0,\n",
       "   'heart': 0,\n",
       "   'rocket': 0,\n",
       "   'eyes': 0},\n",
       "  'timeline_url': 'https://api.github.com/repos/pandas-dev/pandas/issues/48766/timeline',\n",
       "  'performed_via_github_app': None,\n",
       "  'state_reason': None},\n",
       " {'url': 'https://api.github.com/repos/pandas-dev/pandas/issues/48765',\n",
       "  'repository_url': 'https://api.github.com/repos/pandas-dev/pandas',\n",
       "  'labels_url': 'https://api.github.com/repos/pandas-dev/pandas/issues/48765/labels{/name}',\n",
       "  'comments_url': 'https://api.github.com/repos/pandas-dev/pandas/issues/48765/comments',\n",
       "  'events_url': 'https://api.github.com/repos/pandas-dev/pandas/issues/48765/events',\n",
       "  'html_url': 'https://github.com/pandas-dev/pandas/issues/48765',\n",
       "  'id': 1384814175,\n",
       "  'node_id': 'I_kwDOAA0YD85SipZf',\n",
       "  'number': 48765,\n",
       "  'title': 'BUG: df.plot(subplots=False) not drawing as expected',\n",
       "  'user': {'login': 'mrfrizzz',\n",
       "   'id': 113800322,\n",
       "   'node_id': 'U_kgDOBsh0gg',\n",
       "   'avatar_url': 'https://avatars.githubusercontent.com/u/113800322?v=4',\n",
       "   'gravatar_id': '',\n",
       "   'url': 'https://api.github.com/users/mrfrizzz',\n",
       "   'html_url': 'https://github.com/mrfrizzz',\n",
       "   'followers_url': 'https://api.github.com/users/mrfrizzz/followers',\n",
       "   'following_url': 'https://api.github.com/users/mrfrizzz/following{/other_user}',\n",
       "   'gists_url': 'https://api.github.com/users/mrfrizzz/gists{/gist_id}',\n",
       "   'starred_url': 'https://api.github.com/users/mrfrizzz/starred{/owner}{/repo}',\n",
       "   'subscriptions_url': 'https://api.github.com/users/mrfrizzz/subscriptions',\n",
       "   'organizations_url': 'https://api.github.com/users/mrfrizzz/orgs',\n",
       "   'repos_url': 'https://api.github.com/users/mrfrizzz/repos',\n",
       "   'events_url': 'https://api.github.com/users/mrfrizzz/events{/privacy}',\n",
       "   'received_events_url': 'https://api.github.com/users/mrfrizzz/received_events',\n",
       "   'type': 'User',\n",
       "   'site_admin': False},\n",
       "  'labels': [{'id': 76811,\n",
       "    'node_id': 'MDU6TGFiZWw3NjgxMQ==',\n",
       "    'url': 'https://api.github.com/repos/pandas-dev/pandas/labels/Bug',\n",
       "    'name': 'Bug',\n",
       "    'color': 'e10c02',\n",
       "    'default': False,\n",
       "    'description': None},\n",
       "   {'id': 1954720290,\n",
       "    'node_id': 'MDU6TGFiZWwxOTU0NzIwMjkw',\n",
       "    'url': 'https://api.github.com/repos/pandas-dev/pandas/labels/Needs%20Triage',\n",
       "    'name': 'Needs Triage',\n",
       "    'color': '0052cc',\n",
       "    'default': False,\n",
       "    'description': 'Issue that has not been reviewed by a pandas team member'}],\n",
       "  'state': 'open',\n",
       "  'locked': False,\n",
       "  'assignee': None,\n",
       "  'assignees': [],\n",
       "  'milestone': None,\n",
       "  'comments': 2,\n",
       "  'created_at': '2022-09-24T21:12:41Z',\n",
       "  'updated_at': '2022-09-25T16:09:45Z',\n",
       "  'closed_at': None,\n",
       "  'author_association': 'NONE',\n",
       "  'active_lock_reason': None,\n",
       "  'body': '### Pandas version checks\\n\\n- [X] I have checked that this issue has not already been reported.\\n\\n- [x] I have confirmed this bug exists on the [latest version](https://pandas.pydata.org/docs/whatsnew/index.html) of pandas.\\n\\n- [x] I have confirmed this bug exists on the main branch of pandas.\\n\\n\\n### Reproducible Example\\n\\n```python\\nclass ProcessPlotter(object):\\r\\n    def __init__(self):\\r\\n        self.index = False\\r\\n        self.columns = []\\r\\n        self.df = False\\r\\n        self._df = pd.DataFrame()\\r\\n\\r\\n    def terminate(self):\\r\\n        plt.close(\\'all\\')\\r\\n\\r\\n    # HERE \\r\\n    # data sample \\r\\n    # {(4, 0): -0.009916651004225008, (4, 1): -1.0548021013814015e-07, (4, 3): -0.000925287713841344, (4, 5): -0.32002892931690496, (4, 6): -0.09059265200196842}\\r\\n    def _dataframe(self, data):\\r\\n        _datetime = dt.datetime.now().strftime(\\'%H:%M:%S.%f\\')\\r\\n        _data = { _datetime: data}\\r\\n        _from_to = [k for k, v in data.items()]\\r\\n        _df = pd.DataFrame(_data, index=_from_to)\\r\\n        self._df = pd.concat([self._df, _df], axis=1)\\r\\n        print(self._df)\\r\\n        print(self._df.transpose())\\r\\n        return self._df.transpose()\\r\\n\\r\\n    def call_back(self):\\r\\n        while self.pipe.poll():\\r\\n            data = self.pipe.recv()\\r\\n            if data is None:\\r\\n                self.terminate()\\r\\n                return False\\r\\n            else:\\r\\n                # HERE switching subplots value\\r\\n                self._dataframe(data).plot(style=\\'.\\', subplots=True, rot=45,\\r\\n                    ax=self.ax, sharex=True, sharey=True)\\r\\n\\r\\n            self.fig.canvas.draw()\\r\\n        return True\\r\\n\\r\\n\\r\\n    def __call__(self, pipe):\\r\\n        self.pipe = pipe\\r\\n        self.fig, self.ax = plt.subplots(sharex=True, sharey=True)\\r\\n        timer = self.fig.canvas.new_timer(interval=1000)\\r\\n        timer.add_callback(self.call_back)\\r\\n        timer.start()\\r\\n        plt.subplots_adjust(bottom=0.1, top=1, left=0.1, right=1)\\r\\n        plt.legend()\\r\\n        plt.show()\\n```\\n\\n\\n### Issue Description\\n\\ndf.plot(.., subplots=True, ..) everything is fine\\r\\n<img width=\"1440\" alt=\"True\" src=\"https://user-images.githubusercontent.com/113800322/192118404-9625f0f8-7685-4743-8cb1-cd332ff7adea.png\">\\r\\n\\r\\ndf.plot(.., subplots=False, ..) duplicate labels, label colors changing every draw, not sharing the same x\\r\\n<img width=\"1440\" alt=\"False\" src=\"https://user-images.githubusercontent.com/113800322/192118343-f33d9094-af84-44a3-b563-f6562c8168e7.png\">\\r\\n\\r\\nprint(self._df)\\r\\n<img width=\"868\" alt=\"df\" src=\"https://user-images.githubusercontent.com/113800322/192118587-e7fdc4d3-b257-4d52-8770-ef0b74ff5d81.png\">\\r\\n\\r\\n\\r\\nprint(self._df.transpose())\\r\\n<img width=\"918\" alt=\"df transpose\" src=\"https://user-images.githubusercontent.com/113800322/192118544-5c5b41eb-ea45-4386-8545-818935fe22c5.png\">\\r\\n\\n\\n### Expected Behavior\\n\\nA merge of all subplots using subplots=False\\n\\n### Installed Versions\\n\\n<details>\\r\\n\\r\\nINSTALLED VERSIONS\\r\\n------------------\\r\\ncommit           : 87cfe4e38bafe7300a6003a1d18bd80f3f77c763\\r\\npython           : 3.10.6.final.0\\r\\npython-bits      : 64\\r\\nOS               : Darwin\\r\\nOS-release       : 21.6.0\\r\\nVersion          : Darwin Kernel Version 21.6.0: Mon Aug 22 20:17:10 PDT 2022; root:xnu-8020.140.49~2/RELEASE_X86_64\\r\\nmachine          : x86_64\\r\\nprocessor        : i386\\r\\nbyteorder        : little\\r\\nLC_ALL           : None\\r\\nLANG             : \\r\\nLOCALE           : \\r\\n\\r\\npandas           : 1.5.0\\r\\nnumpy            : 1.23.3\\r\\npytz             : 2022.2.1\\r\\ndateutil         : 2.8.2\\r\\nsetuptools       : 63.4.3\\r\\npip              : 22.2.2\\r\\nCython           : None\\r\\npytest           : None\\r\\nhypothesis       : None\\r\\nsphinx           : None\\r\\nblosc            : None\\r\\nfeather          : None\\r\\nxlsxwriter       : None\\r\\nlxml.etree       : None\\r\\nhtml5lib         : None\\r\\npymysql          : None\\r\\npsycopg2         : None\\r\\njinja2           : 3.1.2\\r\\nIPython          : None\\r\\npandas_datareader: None\\r\\nbs4              : None\\r\\nbottleneck       : None\\r\\nbrotli           : None\\r\\nfastparquet      : None\\r\\nfsspec           : None\\r\\ngcsfs            : None\\r\\nmatplotlib       : 3.6.0\\r\\nnumba            : None\\r\\nnumexpr          : None\\r\\nodfpy            : None\\r\\nopenpyxl         : None\\r\\npandas_gbq       : None\\r\\npyarrow          : None\\r\\npyreadstat       : None\\r\\npyxlsb           : None\\r\\ns3fs             : None\\r\\nscipy            : None\\r\\nsnappy           : None\\r\\nsqlalchemy       : 1.4.15\\r\\ntables           : None\\r\\ntabulate         : None\\r\\nxarray           : None\\r\\nxlrd             : None\\r\\nxlwt             : None\\r\\nzstandard        : None\\r\\ntzdata           : 2022.2\\r\\n\\r\\n</details>\\r\\n',\n",
       "  'reactions': {'url': 'https://api.github.com/repos/pandas-dev/pandas/issues/48765/reactions',\n",
       "   'total_count': 0,\n",
       "   '+1': 0,\n",
       "   '-1': 0,\n",
       "   'laugh': 0,\n",
       "   'hooray': 0,\n",
       "   'confused': 0,\n",
       "   'heart': 0,\n",
       "   'rocket': 0,\n",
       "   'eyes': 0},\n",
       "  'timeline_url': 'https://api.github.com/repos/pandas-dev/pandas/issues/48765/timeline',\n",
       "  'performed_via_github_app': None,\n",
       "  'state_reason': None}]"
      ]
     },
     "execution_count": 447,
     "metadata": {},
     "output_type": "execute_result"
    }
   ],
   "source": [
    "data= resp.json()\n",
    "data"
   ]
  },
  {
   "cell_type": "code",
   "execution_count": 446,
   "id": "bddb6a6e-d8ba-47bc-b7a1-aa3188970efa",
   "metadata": {
    "collapsed": true,
    "jupyter": {
     "outputs_hidden": true
    },
    "tags": []
   },
   "outputs": [
    {
     "data": {
      "text/plain": [
       "{'url': 'https://api.github.com/repos/pandas-dev/pandas/issues/48805',\n",
       " 'repository_url': 'https://api.github.com/repos/pandas-dev/pandas',\n",
       " 'labels_url': 'https://api.github.com/repos/pandas-dev/pandas/issues/48805/labels{/name}',\n",
       " 'comments_url': 'https://api.github.com/repos/pandas-dev/pandas/issues/48805/comments',\n",
       " 'events_url': 'https://api.github.com/repos/pandas-dev/pandas/issues/48805/events',\n",
       " 'html_url': 'https://github.com/pandas-dev/pandas/pull/48805',\n",
       " 'id': 1387090446,\n",
       " 'node_id': 'PR_kwDOAA0YD84_qPpH',\n",
       " 'number': 48805,\n",
       " 'title': 'Added padding and fixed columns for sponsor logos in mobile view',\n",
       " 'user': {'login': 'amay-patel',\n",
       "  'id': 92037532,\n",
       "  'node_id': 'U_kgDOBXxhnA',\n",
       "  'avatar_url': 'https://avatars.githubusercontent.com/u/92037532?v=4',\n",
       "  'gravatar_id': '',\n",
       "  'url': 'https://api.github.com/users/amay-patel',\n",
       "  'html_url': 'https://github.com/amay-patel',\n",
       "  'followers_url': 'https://api.github.com/users/amay-patel/followers',\n",
       "  'following_url': 'https://api.github.com/users/amay-patel/following{/other_user}',\n",
       "  'gists_url': 'https://api.github.com/users/amay-patel/gists{/gist_id}',\n",
       "  'starred_url': 'https://api.github.com/users/amay-patel/starred{/owner}{/repo}',\n",
       "  'subscriptions_url': 'https://api.github.com/users/amay-patel/subscriptions',\n",
       "  'organizations_url': 'https://api.github.com/users/amay-patel/orgs',\n",
       "  'repos_url': 'https://api.github.com/users/amay-patel/repos',\n",
       "  'events_url': 'https://api.github.com/users/amay-patel/events{/privacy}',\n",
       "  'received_events_url': 'https://api.github.com/users/amay-patel/received_events',\n",
       "  'type': 'User',\n",
       "  'site_admin': False},\n",
       " 'labels': [],\n",
       " 'state': 'open',\n",
       " 'locked': False,\n",
       " 'assignee': None,\n",
       " 'assignees': [],\n",
       " 'milestone': None,\n",
       " 'comments': 0,\n",
       " 'created_at': '2022-09-27T04:54:17Z',\n",
       " 'updated_at': '2022-09-27T04:54:17Z',\n",
       " 'closed_at': None,\n",
       " 'author_association': 'NONE',\n",
       " 'active_lock_reason': None,\n",
       " 'draft': False,\n",
       " 'pull_request': {'url': 'https://api.github.com/repos/pandas-dev/pandas/pulls/48805',\n",
       "  'html_url': 'https://github.com/pandas-dev/pandas/pull/48805',\n",
       "  'diff_url': 'https://github.com/pandas-dev/pandas/pull/48805.diff',\n",
       "  'patch_url': 'https://github.com/pandas-dev/pandas/pull/48805.patch',\n",
       "  'merged_at': None},\n",
       " 'body': 'Added padding and fixed columns for sponsor logos in mobile view\\r\\n\\r\\n- [ ] closes #48519  (Replace xxxx with the Github issue number)\\r\\n- [ ] [Tests added and passed](https://pandas.pydata.org/pandas-docs/dev/development/contributing_codebase.html#writing-tests) if fixing a bug or adding a new feature\\r\\n- [ ] All [code checks passed](https://pandas.pydata.org/pandas-docs/dev/development/contributing_codebase.html#pre-commit).\\r\\n- [ ] Added [type annotations](https://pandas.pydata.org/pandas-docs/dev/development/contributing_codebase.html#type-hints) to new arguments/methods/functions.\\r\\n- [ ] Added an entry in the latest `doc/source/whatsnew/vX.X.X.rst` file if fixing a bug or adding a new feature.\\r\\n',\n",
       " 'reactions': {'url': 'https://api.github.com/repos/pandas-dev/pandas/issues/48805/reactions',\n",
       "  'total_count': 0,\n",
       "  '+1': 0,\n",
       "  '-1': 0,\n",
       "  'laugh': 0,\n",
       "  'hooray': 0,\n",
       "  'confused': 0,\n",
       "  'heart': 0,\n",
       "  'rocket': 0,\n",
       "  'eyes': 0},\n",
       " 'timeline_url': 'https://api.github.com/repos/pandas-dev/pandas/issues/48805/timeline',\n",
       " 'performed_via_github_app': None,\n",
       " 'state_reason': None}"
      ]
     },
     "execution_count": 446,
     "metadata": {},
     "output_type": "execute_result"
    }
   ],
   "source": [
    "data[0]"
   ]
  },
  {
   "cell_type": "code",
   "execution_count": 448,
   "id": "ae4cbe9b-598b-4d74-ab1a-50f871f46a9b",
   "metadata": {
    "tags": []
   },
   "outputs": [
    {
     "data": {
      "text/plain": [
       "'Added padding and fixed columns for sponsor logos in mobile view'"
      ]
     },
     "execution_count": 448,
     "metadata": {},
     "output_type": "execute_result"
    }
   ],
   "source": [
    "data[0]['title']"
   ]
  },
  {
   "cell_type": "code",
   "execution_count": 450,
   "id": "f6e638af-de6f-4393-9de4-15e47c5e0160",
   "metadata": {},
   "outputs": [
    {
     "data": {
      "text/html": [
       "<div>\n",
       "<style scoped>\n",
       "    .dataframe tbody tr th:only-of-type {\n",
       "        vertical-align: middle;\n",
       "    }\n",
       "\n",
       "    .dataframe tbody tr th {\n",
       "        vertical-align: top;\n",
       "    }\n",
       "\n",
       "    .dataframe thead th {\n",
       "        text-align: right;\n",
       "    }\n",
       "</style>\n",
       "<table border=\"1\" class=\"dataframe\">\n",
       "  <thead>\n",
       "    <tr style=\"text-align: right;\">\n",
       "      <th></th>\n",
       "      <th>url</th>\n",
       "      <th>repository_url</th>\n",
       "      <th>labels_url</th>\n",
       "      <th>comments_url</th>\n",
       "      <th>events_url</th>\n",
       "      <th>html_url</th>\n",
       "      <th>id</th>\n",
       "      <th>node_id</th>\n",
       "      <th>number</th>\n",
       "      <th>title</th>\n",
       "      <th>...</th>\n",
       "      <th>closed_at</th>\n",
       "      <th>author_association</th>\n",
       "      <th>active_lock_reason</th>\n",
       "      <th>draft</th>\n",
       "      <th>pull_request</th>\n",
       "      <th>body</th>\n",
       "      <th>reactions</th>\n",
       "      <th>timeline_url</th>\n",
       "      <th>performed_via_github_app</th>\n",
       "      <th>state_reason</th>\n",
       "    </tr>\n",
       "  </thead>\n",
       "  <tbody>\n",
       "    <tr>\n",
       "      <th>0</th>\n",
       "      <td>https://api.github.com/repos/pandas-dev/pandas...</td>\n",
       "      <td>https://api.github.com/repos/pandas-dev/pandas</td>\n",
       "      <td>https://api.github.com/repos/pandas-dev/pandas...</td>\n",
       "      <td>https://api.github.com/repos/pandas-dev/pandas...</td>\n",
       "      <td>https://api.github.com/repos/pandas-dev/pandas...</td>\n",
       "      <td>https://github.com/pandas-dev/pandas/pull/48805</td>\n",
       "      <td>1387090446</td>\n",
       "      <td>PR_kwDOAA0YD84_qPpH</td>\n",
       "      <td>48805</td>\n",
       "      <td>Added padding and fixed columns for sponsor lo...</td>\n",
       "      <td>...</td>\n",
       "      <td>None</td>\n",
       "      <td>NONE</td>\n",
       "      <td>None</td>\n",
       "      <td>False</td>\n",
       "      <td>{'url': 'https://api.github.com/repos/pandas-d...</td>\n",
       "      <td>Added padding and fixed columns for sponsor lo...</td>\n",
       "      <td>{'url': 'https://api.github.com/repos/pandas-d...</td>\n",
       "      <td>https://api.github.com/repos/pandas-dev/pandas...</td>\n",
       "      <td>None</td>\n",
       "      <td>None</td>\n",
       "    </tr>\n",
       "    <tr>\n",
       "      <th>1</th>\n",
       "      <td>https://api.github.com/repos/pandas-dev/pandas...</td>\n",
       "      <td>https://api.github.com/repos/pandas-dev/pandas</td>\n",
       "      <td>https://api.github.com/repos/pandas-dev/pandas...</td>\n",
       "      <td>https://api.github.com/repos/pandas-dev/pandas...</td>\n",
       "      <td>https://api.github.com/repos/pandas-dev/pandas...</td>\n",
       "      <td>https://github.com/pandas-dev/pandas/pull/48804</td>\n",
       "      <td>1387017557</td>\n",
       "      <td>PR_kwDOAA0YD84_qAIu</td>\n",
       "      <td>48804</td>\n",
       "      <td>TST: Suppress Series constructor warning</td>\n",
       "      <td>...</td>\n",
       "      <td>None</td>\n",
       "      <td>MEMBER</td>\n",
       "      <td>None</td>\n",
       "      <td>False</td>\n",
       "      <td>{'url': 'https://api.github.com/repos/pandas-d...</td>\n",
       "      <td>None</td>\n",
       "      <td>{'url': 'https://api.github.com/repos/pandas-d...</td>\n",
       "      <td>https://api.github.com/repos/pandas-dev/pandas...</td>\n",
       "      <td>None</td>\n",
       "      <td>None</td>\n",
       "    </tr>\n",
       "    <tr>\n",
       "      <th>2</th>\n",
       "      <td>https://api.github.com/repos/pandas-dev/pandas...</td>\n",
       "      <td>https://api.github.com/repos/pandas-dev/pandas</td>\n",
       "      <td>https://api.github.com/repos/pandas-dev/pandas...</td>\n",
       "      <td>https://api.github.com/repos/pandas-dev/pandas...</td>\n",
       "      <td>https://api.github.com/repos/pandas-dev/pandas...</td>\n",
       "      <td>https://github.com/pandas-dev/pandas/issues/48803</td>\n",
       "      <td>1386980560</td>\n",
       "      <td>I_kwDOAA0YD85Sq6TQ</td>\n",
       "      <td>48803</td>\n",
       "      <td>DOC: Remove unsupported parameters in `Resampl...</td>\n",
       "      <td>...</td>\n",
       "      <td>None</td>\n",
       "      <td>NONE</td>\n",
       "      <td>None</td>\n",
       "      <td>NaN</td>\n",
       "      <td>NaN</td>\n",
       "      <td>### Pandas version checks\\n\\n- [X] I have chec...</td>\n",
       "      <td>{'url': 'https://api.github.com/repos/pandas-d...</td>\n",
       "      <td>https://api.github.com/repos/pandas-dev/pandas...</td>\n",
       "      <td>None</td>\n",
       "      <td>None</td>\n",
       "    </tr>\n",
       "    <tr>\n",
       "      <th>3</th>\n",
       "      <td>https://api.github.com/repos/pandas-dev/pandas...</td>\n",
       "      <td>https://api.github.com/repos/pandas-dev/pandas</td>\n",
       "      <td>https://api.github.com/repos/pandas-dev/pandas...</td>\n",
       "      <td>https://api.github.com/repos/pandas-dev/pandas...</td>\n",
       "      <td>https://api.github.com/repos/pandas-dev/pandas...</td>\n",
       "      <td>https://github.com/pandas-dev/pandas/issues/48802</td>\n",
       "      <td>1386976936</td>\n",
       "      <td>I_kwDOAA0YD85Sq5ao</td>\n",
       "      <td>48802</td>\n",
       "      <td>ENH: support negative axis</td>\n",
       "      <td>...</td>\n",
       "      <td>None</td>\n",
       "      <td>CONTRIBUTOR</td>\n",
       "      <td>None</td>\n",
       "      <td>NaN</td>\n",
       "      <td>NaN</td>\n",
       "      <td>### Feature Type\\n\\n- [X] Adding new functiona...</td>\n",
       "      <td>{'url': 'https://api.github.com/repos/pandas-d...</td>\n",
       "      <td>https://api.github.com/repos/pandas-dev/pandas...</td>\n",
       "      <td>None</td>\n",
       "      <td>None</td>\n",
       "    </tr>\n",
       "    <tr>\n",
       "      <th>4</th>\n",
       "      <td>https://api.github.com/repos/pandas-dev/pandas...</td>\n",
       "      <td>https://api.github.com/repos/pandas-dev/pandas</td>\n",
       "      <td>https://api.github.com/repos/pandas-dev/pandas...</td>\n",
       "      <td>https://api.github.com/repos/pandas-dev/pandas...</td>\n",
       "      <td>https://api.github.com/repos/pandas-dev/pandas...</td>\n",
       "      <td>https://github.com/pandas-dev/pandas/pull/48801</td>\n",
       "      <td>1386862129</td>\n",
       "      <td>PR_kwDOAA0YD84_pfvy</td>\n",
       "      <td>48801</td>\n",
       "      <td>PERF: Delay creation of indexer in RangeIndex....</td>\n",
       "      <td>...</td>\n",
       "      <td>None</td>\n",
       "      <td>MEMBER</td>\n",
       "      <td>None</td>\n",
       "      <td>False</td>\n",
       "      <td>{'url': 'https://api.github.com/repos/pandas-d...</td>\n",
       "      <td>- [x] All [code checks passed](https://pandas....</td>\n",
       "      <td>{'url': 'https://api.github.com/repos/pandas-d...</td>\n",
       "      <td>https://api.github.com/repos/pandas-dev/pandas...</td>\n",
       "      <td>None</td>\n",
       "      <td>None</td>\n",
       "    </tr>\n",
       "    <tr>\n",
       "      <th>5</th>\n",
       "      <td>https://api.github.com/repos/pandas-dev/pandas...</td>\n",
       "      <td>https://api.github.com/repos/pandas-dev/pandas</td>\n",
       "      <td>https://api.github.com/repos/pandas-dev/pandas...</td>\n",
       "      <td>https://api.github.com/repos/pandas-dev/pandas...</td>\n",
       "      <td>https://api.github.com/repos/pandas-dev/pandas...</td>\n",
       "      <td>https://github.com/pandas-dev/pandas/pull/48800</td>\n",
       "      <td>1386839371</td>\n",
       "      <td>PR_kwDOAA0YD84_pawM</td>\n",
       "      <td>48800</td>\n",
       "      <td>Backport PR #48608 on branch 1.5.x (REGR: asse...</td>\n",
       "      <td>...</td>\n",
       "      <td>None</td>\n",
       "      <td>NONE</td>\n",
       "      <td>None</td>\n",
       "      <td>False</td>\n",
       "      <td>{'url': 'https://api.github.com/repos/pandas-d...</td>\n",
       "      <td>Backport PR #48608: REGR: assert_index_equal r...</td>\n",
       "      <td>{'url': 'https://api.github.com/repos/pandas-d...</td>\n",
       "      <td>https://api.github.com/repos/pandas-dev/pandas...</td>\n",
       "      <td>None</td>\n",
       "      <td>None</td>\n",
       "    </tr>\n",
       "    <tr>\n",
       "      <th>6</th>\n",
       "      <td>https://api.github.com/repos/pandas-dev/pandas...</td>\n",
       "      <td>https://api.github.com/repos/pandas-dev/pandas</td>\n",
       "      <td>https://api.github.com/repos/pandas-dev/pandas...</td>\n",
       "      <td>https://api.github.com/repos/pandas-dev/pandas...</td>\n",
       "      <td>https://api.github.com/repos/pandas-dev/pandas...</td>\n",
       "      <td>https://github.com/pandas-dev/pandas/pull/48799</td>\n",
       "      <td>1386837906</td>\n",
       "      <td>PR_kwDOAA0YD84_pab3</td>\n",
       "      <td>48799</td>\n",
       "      <td>Backport PR #48662 on branch 1.5.x (BUG: Serie...</td>\n",
       "      <td>...</td>\n",
       "      <td>None</td>\n",
       "      <td>NONE</td>\n",
       "      <td>None</td>\n",
       "      <td>False</td>\n",
       "      <td>{'url': 'https://api.github.com/repos/pandas-d...</td>\n",
       "      <td>Backport PR #48662: BUG: Series.getitem not fa...</td>\n",
       "      <td>{'url': 'https://api.github.com/repos/pandas-d...</td>\n",
       "      <td>https://api.github.com/repos/pandas-dev/pandas...</td>\n",
       "      <td>None</td>\n",
       "      <td>None</td>\n",
       "    </tr>\n",
       "    <tr>\n",
       "      <th>7</th>\n",
       "      <td>https://api.github.com/repos/pandas-dev/pandas...</td>\n",
       "      <td>https://api.github.com/repos/pandas-dev/pandas</td>\n",
       "      <td>https://api.github.com/repos/pandas-dev/pandas...</td>\n",
       "      <td>https://api.github.com/repos/pandas-dev/pandas...</td>\n",
       "      <td>https://api.github.com/repos/pandas-dev/pandas...</td>\n",
       "      <td>https://github.com/pandas-dev/pandas/pull/48798</td>\n",
       "      <td>1386830853</td>\n",
       "      <td>PR_kwDOAA0YD84_pY8l</td>\n",
       "      <td>48798</td>\n",
       "      <td>Backport PR #48751 on branch 1.5.x (WEB: Updat...</td>\n",
       "      <td>...</td>\n",
       "      <td>None</td>\n",
       "      <td>NONE</td>\n",
       "      <td>None</td>\n",
       "      <td>False</td>\n",
       "      <td>{'url': 'https://api.github.com/repos/pandas-d...</td>\n",
       "      <td>Backport PR #48751: WEB: Update link to datapy...</td>\n",
       "      <td>{'url': 'https://api.github.com/repos/pandas-d...</td>\n",
       "      <td>https://api.github.com/repos/pandas-dev/pandas...</td>\n",
       "      <td>None</td>\n",
       "      <td>None</td>\n",
       "    </tr>\n",
       "    <tr>\n",
       "      <th>8</th>\n",
       "      <td>https://api.github.com/repos/pandas-dev/pandas...</td>\n",
       "      <td>https://api.github.com/repos/pandas-dev/pandas</td>\n",
       "      <td>https://api.github.com/repos/pandas-dev/pandas...</td>\n",
       "      <td>https://api.github.com/repos/pandas-dev/pandas...</td>\n",
       "      <td>https://api.github.com/repos/pandas-dev/pandas...</td>\n",
       "      <td>https://github.com/pandas-dev/pandas/pull/48797</td>\n",
       "      <td>1386822624</td>\n",
       "      <td>PR_kwDOAA0YD84_pXHI</td>\n",
       "      <td>48797</td>\n",
       "      <td>REGR: fix df.apply with keyword non-zero axis</td>\n",
       "      <td>...</td>\n",
       "      <td>None</td>\n",
       "      <td>CONTRIBUTOR</td>\n",
       "      <td>None</td>\n",
       "      <td>False</td>\n",
       "      <td>{'url': 'https://api.github.com/repos/pandas-d...</td>\n",
       "      <td>Fixes #48656. Builds on top of #48693.\\r\\n\\r\\n...</td>\n",
       "      <td>{'url': 'https://api.github.com/repos/pandas-d...</td>\n",
       "      <td>https://api.github.com/repos/pandas-dev/pandas...</td>\n",
       "      <td>None</td>\n",
       "      <td>None</td>\n",
       "    </tr>\n",
       "    <tr>\n",
       "      <th>9</th>\n",
       "      <td>https://api.github.com/repos/pandas-dev/pandas...</td>\n",
       "      <td>https://api.github.com/repos/pandas-dev/pandas</td>\n",
       "      <td>https://api.github.com/repos/pandas-dev/pandas...</td>\n",
       "      <td>https://api.github.com/repos/pandas-dev/pandas...</td>\n",
       "      <td>https://api.github.com/repos/pandas-dev/pandas...</td>\n",
       "      <td>https://github.com/pandas-dev/pandas/issues/48796</td>\n",
       "      <td>1386797027</td>\n",
       "      <td>I_kwDOAA0YD85SqNfj</td>\n",
       "      <td>48796</td>\n",
       "      <td>BUG: `pd.to_timedelta()` does not accept nulla...</td>\n",
       "      <td>...</td>\n",
       "      <td>None</td>\n",
       "      <td>CONTRIBUTOR</td>\n",
       "      <td>None</td>\n",
       "      <td>NaN</td>\n",
       "      <td>NaN</td>\n",
       "      <td>### Pandas version checks\\n\\n- [X] I have chec...</td>\n",
       "      <td>{'url': 'https://api.github.com/repos/pandas-d...</td>\n",
       "      <td>https://api.github.com/repos/pandas-dev/pandas...</td>\n",
       "      <td>None</td>\n",
       "      <td>None</td>\n",
       "    </tr>\n",
       "    <tr>\n",
       "      <th>10</th>\n",
       "      <td>https://api.github.com/repos/pandas-dev/pandas...</td>\n",
       "      <td>https://api.github.com/repos/pandas-dev/pandas</td>\n",
       "      <td>https://api.github.com/repos/pandas-dev/pandas...</td>\n",
       "      <td>https://api.github.com/repos/pandas-dev/pandas...</td>\n",
       "      <td>https://api.github.com/repos/pandas-dev/pandas...</td>\n",
       "      <td>https://github.com/pandas-dev/pandas/pull/48795</td>\n",
       "      <td>1386771887</td>\n",
       "      <td>PR_kwDOAA0YD84_pL-F</td>\n",
       "      <td>48795</td>\n",
       "      <td>Backport PR #48693 on branch 1.5.x (ENH: Make ...</td>\n",
       "      <td>...</td>\n",
       "      <td>None</td>\n",
       "      <td>NONE</td>\n",
       "      <td>None</td>\n",
       "      <td>False</td>\n",
       "      <td>{'url': 'https://api.github.com/repos/pandas-d...</td>\n",
       "      <td>Backport PR #48693: ENH: Make deprecate_nonkey...</td>\n",
       "      <td>{'url': 'https://api.github.com/repos/pandas-d...</td>\n",
       "      <td>https://api.github.com/repos/pandas-dev/pandas...</td>\n",
       "      <td>None</td>\n",
       "      <td>None</td>\n",
       "    </tr>\n",
       "    <tr>\n",
       "      <th>11</th>\n",
       "      <td>https://api.github.com/repos/pandas-dev/pandas...</td>\n",
       "      <td>https://api.github.com/repos/pandas-dev/pandas</td>\n",
       "      <td>https://api.github.com/repos/pandas-dev/pandas...</td>\n",
       "      <td>https://api.github.com/repos/pandas-dev/pandas...</td>\n",
       "      <td>https://api.github.com/repos/pandas-dev/pandas...</td>\n",
       "      <td>https://github.com/pandas-dev/pandas/issues/48794</td>\n",
       "      <td>1386724781</td>\n",
       "      <td>I_kwDOAA0YD85Sp72t</td>\n",
       "      <td>48794</td>\n",
       "      <td>BUG: pandas 1.5 fails to groupby on (nullable)...</td>\n",
       "      <td>...</td>\n",
       "      <td>None</td>\n",
       "      <td>NONE</td>\n",
       "      <td>None</td>\n",
       "      <td>NaN</td>\n",
       "      <td>NaN</td>\n",
       "      <td>### Pandas version checks\\n\\n- [X] I have chec...</td>\n",
       "      <td>{'url': 'https://api.github.com/repos/pandas-d...</td>\n",
       "      <td>https://api.github.com/repos/pandas-dev/pandas...</td>\n",
       "      <td>None</td>\n",
       "      <td>None</td>\n",
       "    </tr>\n",
       "    <tr>\n",
       "      <th>12</th>\n",
       "      <td>https://api.github.com/repos/pandas-dev/pandas...</td>\n",
       "      <td>https://api.github.com/repos/pandas-dev/pandas</td>\n",
       "      <td>https://api.github.com/repos/pandas-dev/pandas...</td>\n",
       "      <td>https://api.github.com/repos/pandas-dev/pandas...</td>\n",
       "      <td>https://api.github.com/repos/pandas-dev/pandas...</td>\n",
       "      <td>https://github.com/pandas-dev/pandas/issues/48792</td>\n",
       "      <td>1386687508</td>\n",
       "      <td>I_kwDOAA0YD85SpywU</td>\n",
       "      <td>48792</td>\n",
       "      <td>DEPR: inplace in DataFrameGroupBy.fillna and S...</td>\n",
       "      <td>...</td>\n",
       "      <td>None</td>\n",
       "      <td>MEMBER</td>\n",
       "      <td>None</td>\n",
       "      <td>NaN</td>\n",
       "      <td>NaN</td>\n",
       "      <td>Specifying `inplace` returns an empty frame or...</td>\n",
       "      <td>{'url': 'https://api.github.com/repos/pandas-d...</td>\n",
       "      <td>https://api.github.com/repos/pandas-dev/pandas...</td>\n",
       "      <td>None</td>\n",
       "      <td>None</td>\n",
       "    </tr>\n",
       "    <tr>\n",
       "      <th>13</th>\n",
       "      <td>https://api.github.com/repos/pandas-dev/pandas...</td>\n",
       "      <td>https://api.github.com/repos/pandas-dev/pandas</td>\n",
       "      <td>https://api.github.com/repos/pandas-dev/pandas...</td>\n",
       "      <td>https://api.github.com/repos/pandas-dev/pandas...</td>\n",
       "      <td>https://api.github.com/repos/pandas-dev/pandas...</td>\n",
       "      <td>https://github.com/pandas-dev/pandas/issues/48791</td>\n",
       "      <td>1386627554</td>\n",
       "      <td>I_kwDOAA0YD85SpkHi</td>\n",
       "      <td>48791</td>\n",
       "      <td>BUG: convert_dtypes() leaves int + pd.NA Serie...</td>\n",
       "      <td>...</td>\n",
       "      <td>None</td>\n",
       "      <td>NONE</td>\n",
       "      <td>None</td>\n",
       "      <td>NaN</td>\n",
       "      <td>NaN</td>\n",
       "      <td>### Pandas version checks\\n\\n- [X] I have chec...</td>\n",
       "      <td>{'url': 'https://api.github.com/repos/pandas-d...</td>\n",
       "      <td>https://api.github.com/repos/pandas-dev/pandas...</td>\n",
       "      <td>None</td>\n",
       "      <td>None</td>\n",
       "    </tr>\n",
       "    <tr>\n",
       "      <th>14</th>\n",
       "      <td>https://api.github.com/repos/pandas-dev/pandas...</td>\n",
       "      <td>https://api.github.com/repos/pandas-dev/pandas</td>\n",
       "      <td>https://api.github.com/repos/pandas-dev/pandas...</td>\n",
       "      <td>https://api.github.com/repos/pandas-dev/pandas...</td>\n",
       "      <td>https://api.github.com/repos/pandas-dev/pandas...</td>\n",
       "      <td>https://github.com/pandas-dev/pandas/pull/48790</td>\n",
       "      <td>1386567749</td>\n",
       "      <td>PR_kwDOAA0YD84_ofDY</td>\n",
       "      <td>48790</td>\n",
       "      <td>Created icons for dark theme</td>\n",
       "      <td>...</td>\n",
       "      <td>None</td>\n",
       "      <td>NONE</td>\n",
       "      <td>None</td>\n",
       "      <td>False</td>\n",
       "      <td>{'url': 'https://api.github.com/repos/pandas-d...</td>\n",
       "      <td>- [x] closes #48762\\r\\n\\r\\nFor the `svg` image...</td>\n",
       "      <td>{'url': 'https://api.github.com/repos/pandas-d...</td>\n",
       "      <td>https://api.github.com/repos/pandas-dev/pandas...</td>\n",
       "      <td>None</td>\n",
       "      <td>None</td>\n",
       "    </tr>\n",
       "    <tr>\n",
       "      <th>15</th>\n",
       "      <td>https://api.github.com/repos/pandas-dev/pandas...</td>\n",
       "      <td>https://api.github.com/repos/pandas-dev/pandas</td>\n",
       "      <td>https://api.github.com/repos/pandas-dev/pandas...</td>\n",
       "      <td>https://api.github.com/repos/pandas-dev/pandas...</td>\n",
       "      <td>https://api.github.com/repos/pandas-dev/pandas...</td>\n",
       "      <td>https://github.com/pandas-dev/pandas/pull/48789</td>\n",
       "      <td>1386511481</td>\n",
       "      <td>PR_kwDOAA0YD84_oS6G</td>\n",
       "      <td>48789</td>\n",
       "      <td>DOC: Add example for `Series.get()`</td>\n",
       "      <td>...</td>\n",
       "      <td>None</td>\n",
       "      <td>CONTRIBUTOR</td>\n",
       "      <td>None</td>\n",
       "      <td>False</td>\n",
       "      <td>{'url': 'https://api.github.com/repos/pandas-d...</td>\n",
       "      <td>Add an example of `Series.get()` to `NDFrame`....</td>\n",
       "      <td>{'url': 'https://api.github.com/repos/pandas-d...</td>\n",
       "      <td>https://api.github.com/repos/pandas-dev/pandas...</td>\n",
       "      <td>None</td>\n",
       "      <td>None</td>\n",
       "    </tr>\n",
       "    <tr>\n",
       "      <th>16</th>\n",
       "      <td>https://api.github.com/repos/pandas-dev/pandas...</td>\n",
       "      <td>https://api.github.com/repos/pandas-dev/pandas</td>\n",
       "      <td>https://api.github.com/repos/pandas-dev/pandas...</td>\n",
       "      <td>https://api.github.com/repos/pandas-dev/pandas...</td>\n",
       "      <td>https://api.github.com/repos/pandas-dev/pandas...</td>\n",
       "      <td>https://github.com/pandas-dev/pandas/issues/48788</td>\n",
       "      <td>1386504540</td>\n",
       "      <td>I_kwDOAA0YD85SpGFc</td>\n",
       "      <td>48788</td>\n",
       "      <td>BUG: `pd.Series.duplicated`/`pd.core.algorithm...</td>\n",
       "      <td>...</td>\n",
       "      <td>None</td>\n",
       "      <td>CONTRIBUTOR</td>\n",
       "      <td>None</td>\n",
       "      <td>NaN</td>\n",
       "      <td>NaN</td>\n",
       "      <td>### Pandas version checks\\r\\n\\r\\n- [X] I have ...</td>\n",
       "      <td>{'url': 'https://api.github.com/repos/pandas-d...</td>\n",
       "      <td>https://api.github.com/repos/pandas-dev/pandas...</td>\n",
       "      <td>None</td>\n",
       "      <td>None</td>\n",
       "    </tr>\n",
       "    <tr>\n",
       "      <th>17</th>\n",
       "      <td>https://api.github.com/repos/pandas-dev/pandas...</td>\n",
       "      <td>https://api.github.com/repos/pandas-dev/pandas</td>\n",
       "      <td>https://api.github.com/repos/pandas-dev/pandas...</td>\n",
       "      <td>https://api.github.com/repos/pandas-dev/pandas...</td>\n",
       "      <td>https://api.github.com/repos/pandas-dev/pandas...</td>\n",
       "      <td>https://github.com/pandas-dev/pandas/issues/48787</td>\n",
       "      <td>1386471404</td>\n",
       "      <td>I_kwDOAA0YD85So9_s</td>\n",
       "      <td>48787</td>\n",
       "      <td>BUG: `from_dummies` can't round trip when `spa...</td>\n",
       "      <td>...</td>\n",
       "      <td>None</td>\n",
       "      <td>CONTRIBUTOR</td>\n",
       "      <td>None</td>\n",
       "      <td>NaN</td>\n",
       "      <td>NaN</td>\n",
       "      <td>### Pandas version checks\\r\\n\\r\\n- [X] I have ...</td>\n",
       "      <td>{'url': 'https://api.github.com/repos/pandas-d...</td>\n",
       "      <td>https://api.github.com/repos/pandas-dev/pandas...</td>\n",
       "      <td>None</td>\n",
       "      <td>None</td>\n",
       "    </tr>\n",
       "    <tr>\n",
       "      <th>18</th>\n",
       "      <td>https://api.github.com/repos/pandas-dev/pandas...</td>\n",
       "      <td>https://api.github.com/repos/pandas-dev/pandas</td>\n",
       "      <td>https://api.github.com/repos/pandas-dev/pandas...</td>\n",
       "      <td>https://api.github.com/repos/pandas-dev/pandas...</td>\n",
       "      <td>https://api.github.com/repos/pandas-dev/pandas...</td>\n",
       "      <td>https://github.com/pandas-dev/pandas/pull/48785</td>\n",
       "      <td>1386192284</td>\n",
       "      <td>PR_kwDOAA0YD84_nNnC</td>\n",
       "      <td>48785</td>\n",
       "      <td>BUG: still emitting unnecessary FutureWarning ...</td>\n",
       "      <td>...</td>\n",
       "      <td>None</td>\n",
       "      <td>MEMBER</td>\n",
       "      <td>None</td>\n",
       "      <td>False</td>\n",
       "      <td>{'url': 'https://api.github.com/repos/pandas-d...</td>\n",
       "      <td>- [x] closes #48784 (Replace xxxx with the Git...</td>\n",
       "      <td>{'url': 'https://api.github.com/repos/pandas-d...</td>\n",
       "      <td>https://api.github.com/repos/pandas-dev/pandas...</td>\n",
       "      <td>None</td>\n",
       "      <td>None</td>\n",
       "    </tr>\n",
       "    <tr>\n",
       "      <th>19</th>\n",
       "      <td>https://api.github.com/repos/pandas-dev/pandas...</td>\n",
       "      <td>https://api.github.com/repos/pandas-dev/pandas</td>\n",
       "      <td>https://api.github.com/repos/pandas-dev/pandas...</td>\n",
       "      <td>https://api.github.com/repos/pandas-dev/pandas...</td>\n",
       "      <td>https://api.github.com/repos/pandas-dev/pandas...</td>\n",
       "      <td>https://github.com/pandas-dev/pandas/issues/48784</td>\n",
       "      <td>1386174765</td>\n",
       "      <td>I_kwDOAA0YD85Sn1kt</td>\n",
       "      <td>48784</td>\n",
       "      <td>BUG: still emitting unnecessary FutureWarning ...</td>\n",
       "      <td>...</td>\n",
       "      <td>None</td>\n",
       "      <td>MEMBER</td>\n",
       "      <td>None</td>\n",
       "      <td>NaN</td>\n",
       "      <td>NaN</td>\n",
       "      <td>### Pandas version checks\\r\\n\\r\\n- [X] I have ...</td>\n",
       "      <td>{'url': 'https://api.github.com/repos/pandas-d...</td>\n",
       "      <td>https://api.github.com/repos/pandas-dev/pandas...</td>\n",
       "      <td>None</td>\n",
       "      <td>None</td>\n",
       "    </tr>\n",
       "    <tr>\n",
       "      <th>20</th>\n",
       "      <td>https://api.github.com/repos/pandas-dev/pandas...</td>\n",
       "      <td>https://api.github.com/repos/pandas-dev/pandas</td>\n",
       "      <td>https://api.github.com/repos/pandas-dev/pandas...</td>\n",
       "      <td>https://api.github.com/repos/pandas-dev/pandas...</td>\n",
       "      <td>https://api.github.com/repos/pandas-dev/pandas...</td>\n",
       "      <td>https://github.com/pandas-dev/pandas/issues/48781</td>\n",
       "      <td>1385771189</td>\n",
       "      <td>I_kwDOAA0YD85SmTC1</td>\n",
       "      <td>48781</td>\n",
       "      <td>ENH:</td>\n",
       "      <td>...</td>\n",
       "      <td>None</td>\n",
       "      <td>CONTRIBUTOR</td>\n",
       "      <td>None</td>\n",
       "      <td>NaN</td>\n",
       "      <td>NaN</td>\n",
       "      <td>### Feature Type\\n\\n- [X] Adding new functiona...</td>\n",
       "      <td>{'url': 'https://api.github.com/repos/pandas-d...</td>\n",
       "      <td>https://api.github.com/repos/pandas-dev/pandas...</td>\n",
       "      <td>None</td>\n",
       "      <td>None</td>\n",
       "    </tr>\n",
       "    <tr>\n",
       "      <th>21</th>\n",
       "      <td>https://api.github.com/repos/pandas-dev/pandas...</td>\n",
       "      <td>https://api.github.com/repos/pandas-dev/pandas</td>\n",
       "      <td>https://api.github.com/repos/pandas-dev/pandas...</td>\n",
       "      <td>https://api.github.com/repos/pandas-dev/pandas...</td>\n",
       "      <td>https://api.github.com/repos/pandas-dev/pandas...</td>\n",
       "      <td>https://github.com/pandas-dev/pandas/issues/48780</td>\n",
       "      <td>1385750265</td>\n",
       "      <td>I_kwDOAA0YD85SmN75</td>\n",
       "      <td>48780</td>\n",
       "      <td>BUG: ExcelWriter.book - attribute not accessib...</td>\n",
       "      <td>...</td>\n",
       "      <td>None</td>\n",
       "      <td>NONE</td>\n",
       "      <td>None</td>\n",
       "      <td>NaN</td>\n",
       "      <td>NaN</td>\n",
       "      <td>### Pandas version checks\\n\\n- [X] I have chec...</td>\n",
       "      <td>{'url': 'https://api.github.com/repos/pandas-d...</td>\n",
       "      <td>https://api.github.com/repos/pandas-dev/pandas...</td>\n",
       "      <td>None</td>\n",
       "      <td>None</td>\n",
       "    </tr>\n",
       "    <tr>\n",
       "      <th>22</th>\n",
       "      <td>https://api.github.com/repos/pandas-dev/pandas...</td>\n",
       "      <td>https://api.github.com/repos/pandas-dev/pandas</td>\n",
       "      <td>https://api.github.com/repos/pandas-dev/pandas...</td>\n",
       "      <td>https://api.github.com/repos/pandas-dev/pandas...</td>\n",
       "      <td>https://api.github.com/repos/pandas-dev/pandas...</td>\n",
       "      <td>https://github.com/pandas-dev/pandas/issues/48779</td>\n",
       "      <td>1385660723</td>\n",
       "      <td>I_kwDOAA0YD85Sl4Ez</td>\n",
       "      <td>48779</td>\n",
       "      <td>BUG: pd.offsets.MonthEnd() delevers wrong month</td>\n",
       "      <td>...</td>\n",
       "      <td>None</td>\n",
       "      <td>NONE</td>\n",
       "      <td>None</td>\n",
       "      <td>NaN</td>\n",
       "      <td>NaN</td>\n",
       "      <td>### Pandas version checks\\n\\n- [X] I have chec...</td>\n",
       "      <td>{'url': 'https://api.github.com/repos/pandas-d...</td>\n",
       "      <td>https://api.github.com/repos/pandas-dev/pandas...</td>\n",
       "      <td>None</td>\n",
       "      <td>None</td>\n",
       "    </tr>\n",
       "    <tr>\n",
       "      <th>23</th>\n",
       "      <td>https://api.github.com/repos/pandas-dev/pandas...</td>\n",
       "      <td>https://api.github.com/repos/pandas-dev/pandas</td>\n",
       "      <td>https://api.github.com/repos/pandas-dev/pandas...</td>\n",
       "      <td>https://api.github.com/repos/pandas-dev/pandas...</td>\n",
       "      <td>https://api.github.com/repos/pandas-dev/pandas...</td>\n",
       "      <td>https://github.com/pandas-dev/pandas/pull/48776</td>\n",
       "      <td>1385159645</td>\n",
       "      <td>PR_kwDOAA0YD84_j82V</td>\n",
       "      <td>48776</td>\n",
       "      <td>ENH: Add option to use nullable dtypes in read...</td>\n",
       "      <td>...</td>\n",
       "      <td>None</td>\n",
       "      <td>MEMBER</td>\n",
       "      <td>None</td>\n",
       "      <td>True</td>\n",
       "      <td>{'url': 'https://api.github.com/repos/pandas-d...</td>\n",
       "      <td>- [x] closes #36712 (Replace xxxx with the Git...</td>\n",
       "      <td>{'url': 'https://api.github.com/repos/pandas-d...</td>\n",
       "      <td>https://api.github.com/repos/pandas-dev/pandas...</td>\n",
       "      <td>None</td>\n",
       "      <td>None</td>\n",
       "    </tr>\n",
       "    <tr>\n",
       "      <th>24</th>\n",
       "      <td>https://api.github.com/repos/pandas-dev/pandas...</td>\n",
       "      <td>https://api.github.com/repos/pandas-dev/pandas</td>\n",
       "      <td>https://api.github.com/repos/pandas-dev/pandas...</td>\n",
       "      <td>https://api.github.com/repos/pandas-dev/pandas...</td>\n",
       "      <td>https://api.github.com/repos/pandas-dev/pandas...</td>\n",
       "      <td>https://github.com/pandas-dev/pandas/pull/48774</td>\n",
       "      <td>1385125103</td>\n",
       "      <td>PR_kwDOAA0YD84_j2tY</td>\n",
       "      <td>48774</td>\n",
       "      <td>ENH: Raise ParserError instead of IndexError w...</td>\n",
       "      <td>...</td>\n",
       "      <td>None</td>\n",
       "      <td>MEMBER</td>\n",
       "      <td>None</td>\n",
       "      <td>False</td>\n",
       "      <td>{'url': 'https://api.github.com/repos/pandas-d...</td>\n",
       "      <td>\\r\\n- [x] closes #16393 (Replace xxxx with the...</td>\n",
       "      <td>{'url': 'https://api.github.com/repos/pandas-d...</td>\n",
       "      <td>https://api.github.com/repos/pandas-dev/pandas...</td>\n",
       "      <td>None</td>\n",
       "      <td>None</td>\n",
       "    </tr>\n",
       "    <tr>\n",
       "      <th>25</th>\n",
       "      <td>https://api.github.com/repos/pandas-dev/pandas...</td>\n",
       "      <td>https://api.github.com/repos/pandas-dev/pandas</td>\n",
       "      <td>https://api.github.com/repos/pandas-dev/pandas...</td>\n",
       "      <td>https://api.github.com/repos/pandas-dev/pandas...</td>\n",
       "      <td>https://api.github.com/repos/pandas-dev/pandas...</td>\n",
       "      <td>https://github.com/pandas-dev/pandas/pull/48772</td>\n",
       "      <td>1385027203</td>\n",
       "      <td>PR_kwDOAA0YD84_jmv1</td>\n",
       "      <td>48772</td>\n",
       "      <td>BUG: Bug fix for GH48567</td>\n",
       "      <td>...</td>\n",
       "      <td>None</td>\n",
       "      <td>NONE</td>\n",
       "      <td>None</td>\n",
       "      <td>False</td>\n",
       "      <td>{'url': 'https://api.github.com/repos/pandas-d...</td>\n",
       "      <td>Groupby for Series fails if an entry of the in...</td>\n",
       "      <td>{'url': 'https://api.github.com/repos/pandas-d...</td>\n",
       "      <td>https://api.github.com/repos/pandas-dev/pandas...</td>\n",
       "      <td>None</td>\n",
       "      <td>None</td>\n",
       "    </tr>\n",
       "    <tr>\n",
       "      <th>26</th>\n",
       "      <td>https://api.github.com/repos/pandas-dev/pandas...</td>\n",
       "      <td>https://api.github.com/repos/pandas-dev/pandas</td>\n",
       "      <td>https://api.github.com/repos/pandas-dev/pandas...</td>\n",
       "      <td>https://api.github.com/repos/pandas-dev/pandas...</td>\n",
       "      <td>https://api.github.com/repos/pandas-dev/pandas...</td>\n",
       "      <td>https://github.com/pandas-dev/pandas/pull/48770</td>\n",
       "      <td>1384968001</td>\n",
       "      <td>PR_kwDOAA0YD84_jcsk</td>\n",
       "      <td>48770</td>\n",
       "      <td>added sytle in stylesheet for &lt;blockquote&gt;</td>\n",
       "      <td>...</td>\n",
       "      <td>None</td>\n",
       "      <td>NONE</td>\n",
       "      <td>None</td>\n",
       "      <td>False</td>\n",
       "      <td>{'url': 'https://api.github.com/repos/pandas-d...</td>\n",
       "      <td>Closes #48758\\r\\n\\r\\nadded styles for styleshe...</td>\n",
       "      <td>{'url': 'https://api.github.com/repos/pandas-d...</td>\n",
       "      <td>https://api.github.com/repos/pandas-dev/pandas...</td>\n",
       "      <td>None</td>\n",
       "      <td>None</td>\n",
       "    </tr>\n",
       "    <tr>\n",
       "      <th>27</th>\n",
       "      <td>https://api.github.com/repos/pandas-dev/pandas...</td>\n",
       "      <td>https://api.github.com/repos/pandas-dev/pandas</td>\n",
       "      <td>https://api.github.com/repos/pandas-dev/pandas...</td>\n",
       "      <td>https://api.github.com/repos/pandas-dev/pandas...</td>\n",
       "      <td>https://api.github.com/repos/pandas-dev/pandas...</td>\n",
       "      <td>https://github.com/pandas-dev/pandas/issues/48767</td>\n",
       "      <td>1384934606</td>\n",
       "      <td>I_kwDOAA0YD85SjGzO</td>\n",
       "      <td>48767</td>\n",
       "      <td>BUG: `pd.to_datetime()` fails to parse nanosec...</td>\n",
       "      <td>...</td>\n",
       "      <td>None</td>\n",
       "      <td>NONE</td>\n",
       "      <td>None</td>\n",
       "      <td>NaN</td>\n",
       "      <td>NaN</td>\n",
       "      <td>### Pandas version checks\\n\\n- [X] I have chec...</td>\n",
       "      <td>{'url': 'https://api.github.com/repos/pandas-d...</td>\n",
       "      <td>https://api.github.com/repos/pandas-dev/pandas...</td>\n",
       "      <td>None</td>\n",
       "      <td>None</td>\n",
       "    </tr>\n",
       "    <tr>\n",
       "      <th>28</th>\n",
       "      <td>https://api.github.com/repos/pandas-dev/pandas...</td>\n",
       "      <td>https://api.github.com/repos/pandas-dev/pandas</td>\n",
       "      <td>https://api.github.com/repos/pandas-dev/pandas...</td>\n",
       "      <td>https://api.github.com/repos/pandas-dev/pandas...</td>\n",
       "      <td>https://api.github.com/repos/pandas-dev/pandas...</td>\n",
       "      <td>https://github.com/pandas-dev/pandas/issues/48766</td>\n",
       "      <td>1384856275</td>\n",
       "      <td>I_kwDOAA0YD85SizrT</td>\n",
       "      <td>48766</td>\n",
       "      <td>ENH: find categorical code against categorical...</td>\n",
       "      <td>...</td>\n",
       "      <td>None</td>\n",
       "      <td>NONE</td>\n",
       "      <td>None</td>\n",
       "      <td>NaN</td>\n",
       "      <td>NaN</td>\n",
       "      <td>### Feature Type\\n\\n- [X] Adding new functiona...</td>\n",
       "      <td>{'url': 'https://api.github.com/repos/pandas-d...</td>\n",
       "      <td>https://api.github.com/repos/pandas-dev/pandas...</td>\n",
       "      <td>None</td>\n",
       "      <td>None</td>\n",
       "    </tr>\n",
       "    <tr>\n",
       "      <th>29</th>\n",
       "      <td>https://api.github.com/repos/pandas-dev/pandas...</td>\n",
       "      <td>https://api.github.com/repos/pandas-dev/pandas</td>\n",
       "      <td>https://api.github.com/repos/pandas-dev/pandas...</td>\n",
       "      <td>https://api.github.com/repos/pandas-dev/pandas...</td>\n",
       "      <td>https://api.github.com/repos/pandas-dev/pandas...</td>\n",
       "      <td>https://github.com/pandas-dev/pandas/issues/48765</td>\n",
       "      <td>1384814175</td>\n",
       "      <td>I_kwDOAA0YD85SipZf</td>\n",
       "      <td>48765</td>\n",
       "      <td>BUG: df.plot(subplots=False) not drawing as ex...</td>\n",
       "      <td>...</td>\n",
       "      <td>None</td>\n",
       "      <td>NONE</td>\n",
       "      <td>None</td>\n",
       "      <td>NaN</td>\n",
       "      <td>NaN</td>\n",
       "      <td>### Pandas version checks\\n\\n- [X] I have chec...</td>\n",
       "      <td>{'url': 'https://api.github.com/repos/pandas-d...</td>\n",
       "      <td>https://api.github.com/repos/pandas-dev/pandas...</td>\n",
       "      <td>None</td>\n",
       "      <td>None</td>\n",
       "    </tr>\n",
       "  </tbody>\n",
       "</table>\n",
       "<p>30 rows × 30 columns</p>\n",
       "</div>"
      ],
      "text/plain": [
       "                                                  url  \\\n",
       "0   https://api.github.com/repos/pandas-dev/pandas...   \n",
       "1   https://api.github.com/repos/pandas-dev/pandas...   \n",
       "2   https://api.github.com/repos/pandas-dev/pandas...   \n",
       "3   https://api.github.com/repos/pandas-dev/pandas...   \n",
       "4   https://api.github.com/repos/pandas-dev/pandas...   \n",
       "5   https://api.github.com/repos/pandas-dev/pandas...   \n",
       "6   https://api.github.com/repos/pandas-dev/pandas...   \n",
       "7   https://api.github.com/repos/pandas-dev/pandas...   \n",
       "8   https://api.github.com/repos/pandas-dev/pandas...   \n",
       "9   https://api.github.com/repos/pandas-dev/pandas...   \n",
       "10  https://api.github.com/repos/pandas-dev/pandas...   \n",
       "11  https://api.github.com/repos/pandas-dev/pandas...   \n",
       "12  https://api.github.com/repos/pandas-dev/pandas...   \n",
       "13  https://api.github.com/repos/pandas-dev/pandas...   \n",
       "14  https://api.github.com/repos/pandas-dev/pandas...   \n",
       "15  https://api.github.com/repos/pandas-dev/pandas...   \n",
       "16  https://api.github.com/repos/pandas-dev/pandas...   \n",
       "17  https://api.github.com/repos/pandas-dev/pandas...   \n",
       "18  https://api.github.com/repos/pandas-dev/pandas...   \n",
       "19  https://api.github.com/repos/pandas-dev/pandas...   \n",
       "20  https://api.github.com/repos/pandas-dev/pandas...   \n",
       "21  https://api.github.com/repos/pandas-dev/pandas...   \n",
       "22  https://api.github.com/repos/pandas-dev/pandas...   \n",
       "23  https://api.github.com/repos/pandas-dev/pandas...   \n",
       "24  https://api.github.com/repos/pandas-dev/pandas...   \n",
       "25  https://api.github.com/repos/pandas-dev/pandas...   \n",
       "26  https://api.github.com/repos/pandas-dev/pandas...   \n",
       "27  https://api.github.com/repos/pandas-dev/pandas...   \n",
       "28  https://api.github.com/repos/pandas-dev/pandas...   \n",
       "29  https://api.github.com/repos/pandas-dev/pandas...   \n",
       "\n",
       "                                    repository_url  \\\n",
       "0   https://api.github.com/repos/pandas-dev/pandas   \n",
       "1   https://api.github.com/repos/pandas-dev/pandas   \n",
       "2   https://api.github.com/repos/pandas-dev/pandas   \n",
       "3   https://api.github.com/repos/pandas-dev/pandas   \n",
       "4   https://api.github.com/repos/pandas-dev/pandas   \n",
       "5   https://api.github.com/repos/pandas-dev/pandas   \n",
       "6   https://api.github.com/repos/pandas-dev/pandas   \n",
       "7   https://api.github.com/repos/pandas-dev/pandas   \n",
       "8   https://api.github.com/repos/pandas-dev/pandas   \n",
       "9   https://api.github.com/repos/pandas-dev/pandas   \n",
       "10  https://api.github.com/repos/pandas-dev/pandas   \n",
       "11  https://api.github.com/repos/pandas-dev/pandas   \n",
       "12  https://api.github.com/repos/pandas-dev/pandas   \n",
       "13  https://api.github.com/repos/pandas-dev/pandas   \n",
       "14  https://api.github.com/repos/pandas-dev/pandas   \n",
       "15  https://api.github.com/repos/pandas-dev/pandas   \n",
       "16  https://api.github.com/repos/pandas-dev/pandas   \n",
       "17  https://api.github.com/repos/pandas-dev/pandas   \n",
       "18  https://api.github.com/repos/pandas-dev/pandas   \n",
       "19  https://api.github.com/repos/pandas-dev/pandas   \n",
       "20  https://api.github.com/repos/pandas-dev/pandas   \n",
       "21  https://api.github.com/repos/pandas-dev/pandas   \n",
       "22  https://api.github.com/repos/pandas-dev/pandas   \n",
       "23  https://api.github.com/repos/pandas-dev/pandas   \n",
       "24  https://api.github.com/repos/pandas-dev/pandas   \n",
       "25  https://api.github.com/repos/pandas-dev/pandas   \n",
       "26  https://api.github.com/repos/pandas-dev/pandas   \n",
       "27  https://api.github.com/repos/pandas-dev/pandas   \n",
       "28  https://api.github.com/repos/pandas-dev/pandas   \n",
       "29  https://api.github.com/repos/pandas-dev/pandas   \n",
       "\n",
       "                                           labels_url  \\\n",
       "0   https://api.github.com/repos/pandas-dev/pandas...   \n",
       "1   https://api.github.com/repos/pandas-dev/pandas...   \n",
       "2   https://api.github.com/repos/pandas-dev/pandas...   \n",
       "3   https://api.github.com/repos/pandas-dev/pandas...   \n",
       "4   https://api.github.com/repos/pandas-dev/pandas...   \n",
       "5   https://api.github.com/repos/pandas-dev/pandas...   \n",
       "6   https://api.github.com/repos/pandas-dev/pandas...   \n",
       "7   https://api.github.com/repos/pandas-dev/pandas...   \n",
       "8   https://api.github.com/repos/pandas-dev/pandas...   \n",
       "9   https://api.github.com/repos/pandas-dev/pandas...   \n",
       "10  https://api.github.com/repos/pandas-dev/pandas...   \n",
       "11  https://api.github.com/repos/pandas-dev/pandas...   \n",
       "12  https://api.github.com/repos/pandas-dev/pandas...   \n",
       "13  https://api.github.com/repos/pandas-dev/pandas...   \n",
       "14  https://api.github.com/repos/pandas-dev/pandas...   \n",
       "15  https://api.github.com/repos/pandas-dev/pandas...   \n",
       "16  https://api.github.com/repos/pandas-dev/pandas...   \n",
       "17  https://api.github.com/repos/pandas-dev/pandas...   \n",
       "18  https://api.github.com/repos/pandas-dev/pandas...   \n",
       "19  https://api.github.com/repos/pandas-dev/pandas...   \n",
       "20  https://api.github.com/repos/pandas-dev/pandas...   \n",
       "21  https://api.github.com/repos/pandas-dev/pandas...   \n",
       "22  https://api.github.com/repos/pandas-dev/pandas...   \n",
       "23  https://api.github.com/repos/pandas-dev/pandas...   \n",
       "24  https://api.github.com/repos/pandas-dev/pandas...   \n",
       "25  https://api.github.com/repos/pandas-dev/pandas...   \n",
       "26  https://api.github.com/repos/pandas-dev/pandas...   \n",
       "27  https://api.github.com/repos/pandas-dev/pandas...   \n",
       "28  https://api.github.com/repos/pandas-dev/pandas...   \n",
       "29  https://api.github.com/repos/pandas-dev/pandas...   \n",
       "\n",
       "                                         comments_url  \\\n",
       "0   https://api.github.com/repos/pandas-dev/pandas...   \n",
       "1   https://api.github.com/repos/pandas-dev/pandas...   \n",
       "2   https://api.github.com/repos/pandas-dev/pandas...   \n",
       "3   https://api.github.com/repos/pandas-dev/pandas...   \n",
       "4   https://api.github.com/repos/pandas-dev/pandas...   \n",
       "5   https://api.github.com/repos/pandas-dev/pandas...   \n",
       "6   https://api.github.com/repos/pandas-dev/pandas...   \n",
       "7   https://api.github.com/repos/pandas-dev/pandas...   \n",
       "8   https://api.github.com/repos/pandas-dev/pandas...   \n",
       "9   https://api.github.com/repos/pandas-dev/pandas...   \n",
       "10  https://api.github.com/repos/pandas-dev/pandas...   \n",
       "11  https://api.github.com/repos/pandas-dev/pandas...   \n",
       "12  https://api.github.com/repos/pandas-dev/pandas...   \n",
       "13  https://api.github.com/repos/pandas-dev/pandas...   \n",
       "14  https://api.github.com/repos/pandas-dev/pandas...   \n",
       "15  https://api.github.com/repos/pandas-dev/pandas...   \n",
       "16  https://api.github.com/repos/pandas-dev/pandas...   \n",
       "17  https://api.github.com/repos/pandas-dev/pandas...   \n",
       "18  https://api.github.com/repos/pandas-dev/pandas...   \n",
       "19  https://api.github.com/repos/pandas-dev/pandas...   \n",
       "20  https://api.github.com/repos/pandas-dev/pandas...   \n",
       "21  https://api.github.com/repos/pandas-dev/pandas...   \n",
       "22  https://api.github.com/repos/pandas-dev/pandas...   \n",
       "23  https://api.github.com/repos/pandas-dev/pandas...   \n",
       "24  https://api.github.com/repos/pandas-dev/pandas...   \n",
       "25  https://api.github.com/repos/pandas-dev/pandas...   \n",
       "26  https://api.github.com/repos/pandas-dev/pandas...   \n",
       "27  https://api.github.com/repos/pandas-dev/pandas...   \n",
       "28  https://api.github.com/repos/pandas-dev/pandas...   \n",
       "29  https://api.github.com/repos/pandas-dev/pandas...   \n",
       "\n",
       "                                           events_url  \\\n",
       "0   https://api.github.com/repos/pandas-dev/pandas...   \n",
       "1   https://api.github.com/repos/pandas-dev/pandas...   \n",
       "2   https://api.github.com/repos/pandas-dev/pandas...   \n",
       "3   https://api.github.com/repos/pandas-dev/pandas...   \n",
       "4   https://api.github.com/repos/pandas-dev/pandas...   \n",
       "5   https://api.github.com/repos/pandas-dev/pandas...   \n",
       "6   https://api.github.com/repos/pandas-dev/pandas...   \n",
       "7   https://api.github.com/repos/pandas-dev/pandas...   \n",
       "8   https://api.github.com/repos/pandas-dev/pandas...   \n",
       "9   https://api.github.com/repos/pandas-dev/pandas...   \n",
       "10  https://api.github.com/repos/pandas-dev/pandas...   \n",
       "11  https://api.github.com/repos/pandas-dev/pandas...   \n",
       "12  https://api.github.com/repos/pandas-dev/pandas...   \n",
       "13  https://api.github.com/repos/pandas-dev/pandas...   \n",
       "14  https://api.github.com/repos/pandas-dev/pandas...   \n",
       "15  https://api.github.com/repos/pandas-dev/pandas...   \n",
       "16  https://api.github.com/repos/pandas-dev/pandas...   \n",
       "17  https://api.github.com/repos/pandas-dev/pandas...   \n",
       "18  https://api.github.com/repos/pandas-dev/pandas...   \n",
       "19  https://api.github.com/repos/pandas-dev/pandas...   \n",
       "20  https://api.github.com/repos/pandas-dev/pandas...   \n",
       "21  https://api.github.com/repos/pandas-dev/pandas...   \n",
       "22  https://api.github.com/repos/pandas-dev/pandas...   \n",
       "23  https://api.github.com/repos/pandas-dev/pandas...   \n",
       "24  https://api.github.com/repos/pandas-dev/pandas...   \n",
       "25  https://api.github.com/repos/pandas-dev/pandas...   \n",
       "26  https://api.github.com/repos/pandas-dev/pandas...   \n",
       "27  https://api.github.com/repos/pandas-dev/pandas...   \n",
       "28  https://api.github.com/repos/pandas-dev/pandas...   \n",
       "29  https://api.github.com/repos/pandas-dev/pandas...   \n",
       "\n",
       "                                             html_url          id  \\\n",
       "0     https://github.com/pandas-dev/pandas/pull/48805  1387090446   \n",
       "1     https://github.com/pandas-dev/pandas/pull/48804  1387017557   \n",
       "2   https://github.com/pandas-dev/pandas/issues/48803  1386980560   \n",
       "3   https://github.com/pandas-dev/pandas/issues/48802  1386976936   \n",
       "4     https://github.com/pandas-dev/pandas/pull/48801  1386862129   \n",
       "5     https://github.com/pandas-dev/pandas/pull/48800  1386839371   \n",
       "6     https://github.com/pandas-dev/pandas/pull/48799  1386837906   \n",
       "7     https://github.com/pandas-dev/pandas/pull/48798  1386830853   \n",
       "8     https://github.com/pandas-dev/pandas/pull/48797  1386822624   \n",
       "9   https://github.com/pandas-dev/pandas/issues/48796  1386797027   \n",
       "10    https://github.com/pandas-dev/pandas/pull/48795  1386771887   \n",
       "11  https://github.com/pandas-dev/pandas/issues/48794  1386724781   \n",
       "12  https://github.com/pandas-dev/pandas/issues/48792  1386687508   \n",
       "13  https://github.com/pandas-dev/pandas/issues/48791  1386627554   \n",
       "14    https://github.com/pandas-dev/pandas/pull/48790  1386567749   \n",
       "15    https://github.com/pandas-dev/pandas/pull/48789  1386511481   \n",
       "16  https://github.com/pandas-dev/pandas/issues/48788  1386504540   \n",
       "17  https://github.com/pandas-dev/pandas/issues/48787  1386471404   \n",
       "18    https://github.com/pandas-dev/pandas/pull/48785  1386192284   \n",
       "19  https://github.com/pandas-dev/pandas/issues/48784  1386174765   \n",
       "20  https://github.com/pandas-dev/pandas/issues/48781  1385771189   \n",
       "21  https://github.com/pandas-dev/pandas/issues/48780  1385750265   \n",
       "22  https://github.com/pandas-dev/pandas/issues/48779  1385660723   \n",
       "23    https://github.com/pandas-dev/pandas/pull/48776  1385159645   \n",
       "24    https://github.com/pandas-dev/pandas/pull/48774  1385125103   \n",
       "25    https://github.com/pandas-dev/pandas/pull/48772  1385027203   \n",
       "26    https://github.com/pandas-dev/pandas/pull/48770  1384968001   \n",
       "27  https://github.com/pandas-dev/pandas/issues/48767  1384934606   \n",
       "28  https://github.com/pandas-dev/pandas/issues/48766  1384856275   \n",
       "29  https://github.com/pandas-dev/pandas/issues/48765  1384814175   \n",
       "\n",
       "                node_id  number  \\\n",
       "0   PR_kwDOAA0YD84_qPpH   48805   \n",
       "1   PR_kwDOAA0YD84_qAIu   48804   \n",
       "2    I_kwDOAA0YD85Sq6TQ   48803   \n",
       "3    I_kwDOAA0YD85Sq5ao   48802   \n",
       "4   PR_kwDOAA0YD84_pfvy   48801   \n",
       "5   PR_kwDOAA0YD84_pawM   48800   \n",
       "6   PR_kwDOAA0YD84_pab3   48799   \n",
       "7   PR_kwDOAA0YD84_pY8l   48798   \n",
       "8   PR_kwDOAA0YD84_pXHI   48797   \n",
       "9    I_kwDOAA0YD85SqNfj   48796   \n",
       "10  PR_kwDOAA0YD84_pL-F   48795   \n",
       "11   I_kwDOAA0YD85Sp72t   48794   \n",
       "12   I_kwDOAA0YD85SpywU   48792   \n",
       "13   I_kwDOAA0YD85SpkHi   48791   \n",
       "14  PR_kwDOAA0YD84_ofDY   48790   \n",
       "15  PR_kwDOAA0YD84_oS6G   48789   \n",
       "16   I_kwDOAA0YD85SpGFc   48788   \n",
       "17   I_kwDOAA0YD85So9_s   48787   \n",
       "18  PR_kwDOAA0YD84_nNnC   48785   \n",
       "19   I_kwDOAA0YD85Sn1kt   48784   \n",
       "20   I_kwDOAA0YD85SmTC1   48781   \n",
       "21   I_kwDOAA0YD85SmN75   48780   \n",
       "22   I_kwDOAA0YD85Sl4Ez   48779   \n",
       "23  PR_kwDOAA0YD84_j82V   48776   \n",
       "24  PR_kwDOAA0YD84_j2tY   48774   \n",
       "25  PR_kwDOAA0YD84_jmv1   48772   \n",
       "26  PR_kwDOAA0YD84_jcsk   48770   \n",
       "27   I_kwDOAA0YD85SjGzO   48767   \n",
       "28   I_kwDOAA0YD85SizrT   48766   \n",
       "29   I_kwDOAA0YD85SipZf   48765   \n",
       "\n",
       "                                                title  ... closed_at  \\\n",
       "0   Added padding and fixed columns for sponsor lo...  ...      None   \n",
       "1            TST: Suppress Series constructor warning  ...      None   \n",
       "2   DOC: Remove unsupported parameters in `Resampl...  ...      None   \n",
       "3                          ENH: support negative axis  ...      None   \n",
       "4   PERF: Delay creation of indexer in RangeIndex....  ...      None   \n",
       "5   Backport PR #48608 on branch 1.5.x (REGR: asse...  ...      None   \n",
       "6   Backport PR #48662 on branch 1.5.x (BUG: Serie...  ...      None   \n",
       "7   Backport PR #48751 on branch 1.5.x (WEB: Updat...  ...      None   \n",
       "8       REGR: fix df.apply with keyword non-zero axis  ...      None   \n",
       "9   BUG: `pd.to_timedelta()` does not accept nulla...  ...      None   \n",
       "10  Backport PR #48693 on branch 1.5.x (ENH: Make ...  ...      None   \n",
       "11  BUG: pandas 1.5 fails to groupby on (nullable)...  ...      None   \n",
       "12  DEPR: inplace in DataFrameGroupBy.fillna and S...  ...      None   \n",
       "13  BUG: convert_dtypes() leaves int + pd.NA Serie...  ...      None   \n",
       "14                       Created icons for dark theme  ...      None   \n",
       "15                DOC: Add example for `Series.get()`  ...      None   \n",
       "16  BUG: `pd.Series.duplicated`/`pd.core.algorithm...  ...      None   \n",
       "17  BUG: `from_dummies` can't round trip when `spa...  ...      None   \n",
       "18  BUG: still emitting unnecessary FutureWarning ...  ...      None   \n",
       "19  BUG: still emitting unnecessary FutureWarning ...  ...      None   \n",
       "20                                              ENH:   ...      None   \n",
       "21  BUG: ExcelWriter.book - attribute not accessib...  ...      None   \n",
       "22    BUG: pd.offsets.MonthEnd() delevers wrong month  ...      None   \n",
       "23  ENH: Add option to use nullable dtypes in read...  ...      None   \n",
       "24  ENH: Raise ParserError instead of IndexError w...  ...      None   \n",
       "25                           BUG: Bug fix for GH48567  ...      None   \n",
       "26         added sytle in stylesheet for <blockquote>  ...      None   \n",
       "27  BUG: `pd.to_datetime()` fails to parse nanosec...  ...      None   \n",
       "28  ENH: find categorical code against categorical...  ...      None   \n",
       "29  BUG: df.plot(subplots=False) not drawing as ex...  ...      None   \n",
       "\n",
       "   author_association active_lock_reason  draft  \\\n",
       "0                NONE               None  False   \n",
       "1              MEMBER               None  False   \n",
       "2                NONE               None    NaN   \n",
       "3         CONTRIBUTOR               None    NaN   \n",
       "4              MEMBER               None  False   \n",
       "5                NONE               None  False   \n",
       "6                NONE               None  False   \n",
       "7                NONE               None  False   \n",
       "8         CONTRIBUTOR               None  False   \n",
       "9         CONTRIBUTOR               None    NaN   \n",
       "10               NONE               None  False   \n",
       "11               NONE               None    NaN   \n",
       "12             MEMBER               None    NaN   \n",
       "13               NONE               None    NaN   \n",
       "14               NONE               None  False   \n",
       "15        CONTRIBUTOR               None  False   \n",
       "16        CONTRIBUTOR               None    NaN   \n",
       "17        CONTRIBUTOR               None    NaN   \n",
       "18             MEMBER               None  False   \n",
       "19             MEMBER               None    NaN   \n",
       "20        CONTRIBUTOR               None    NaN   \n",
       "21               NONE               None    NaN   \n",
       "22               NONE               None    NaN   \n",
       "23             MEMBER               None   True   \n",
       "24             MEMBER               None  False   \n",
       "25               NONE               None  False   \n",
       "26               NONE               None  False   \n",
       "27               NONE               None    NaN   \n",
       "28               NONE               None    NaN   \n",
       "29               NONE               None    NaN   \n",
       "\n",
       "                                         pull_request  \\\n",
       "0   {'url': 'https://api.github.com/repos/pandas-d...   \n",
       "1   {'url': 'https://api.github.com/repos/pandas-d...   \n",
       "2                                                 NaN   \n",
       "3                                                 NaN   \n",
       "4   {'url': 'https://api.github.com/repos/pandas-d...   \n",
       "5   {'url': 'https://api.github.com/repos/pandas-d...   \n",
       "6   {'url': 'https://api.github.com/repos/pandas-d...   \n",
       "7   {'url': 'https://api.github.com/repos/pandas-d...   \n",
       "8   {'url': 'https://api.github.com/repos/pandas-d...   \n",
       "9                                                 NaN   \n",
       "10  {'url': 'https://api.github.com/repos/pandas-d...   \n",
       "11                                                NaN   \n",
       "12                                                NaN   \n",
       "13                                                NaN   \n",
       "14  {'url': 'https://api.github.com/repos/pandas-d...   \n",
       "15  {'url': 'https://api.github.com/repos/pandas-d...   \n",
       "16                                                NaN   \n",
       "17                                                NaN   \n",
       "18  {'url': 'https://api.github.com/repos/pandas-d...   \n",
       "19                                                NaN   \n",
       "20                                                NaN   \n",
       "21                                                NaN   \n",
       "22                                                NaN   \n",
       "23  {'url': 'https://api.github.com/repos/pandas-d...   \n",
       "24  {'url': 'https://api.github.com/repos/pandas-d...   \n",
       "25  {'url': 'https://api.github.com/repos/pandas-d...   \n",
       "26  {'url': 'https://api.github.com/repos/pandas-d...   \n",
       "27                                                NaN   \n",
       "28                                                NaN   \n",
       "29                                                NaN   \n",
       "\n",
       "                                                 body  \\\n",
       "0   Added padding and fixed columns for sponsor lo...   \n",
       "1                                                None   \n",
       "2   ### Pandas version checks\\n\\n- [X] I have chec...   \n",
       "3   ### Feature Type\\n\\n- [X] Adding new functiona...   \n",
       "4   - [x] All [code checks passed](https://pandas....   \n",
       "5   Backport PR #48608: REGR: assert_index_equal r...   \n",
       "6   Backport PR #48662: BUG: Series.getitem not fa...   \n",
       "7   Backport PR #48751: WEB: Update link to datapy...   \n",
       "8   Fixes #48656. Builds on top of #48693.\\r\\n\\r\\n...   \n",
       "9   ### Pandas version checks\\n\\n- [X] I have chec...   \n",
       "10  Backport PR #48693: ENH: Make deprecate_nonkey...   \n",
       "11  ### Pandas version checks\\n\\n- [X] I have chec...   \n",
       "12  Specifying `inplace` returns an empty frame or...   \n",
       "13  ### Pandas version checks\\n\\n- [X] I have chec...   \n",
       "14  - [x] closes #48762\\r\\n\\r\\nFor the `svg` image...   \n",
       "15  Add an example of `Series.get()` to `NDFrame`....   \n",
       "16  ### Pandas version checks\\r\\n\\r\\n- [X] I have ...   \n",
       "17  ### Pandas version checks\\r\\n\\r\\n- [X] I have ...   \n",
       "18  - [x] closes #48784 (Replace xxxx with the Git...   \n",
       "19  ### Pandas version checks\\r\\n\\r\\n- [X] I have ...   \n",
       "20  ### Feature Type\\n\\n- [X] Adding new functiona...   \n",
       "21  ### Pandas version checks\\n\\n- [X] I have chec...   \n",
       "22  ### Pandas version checks\\n\\n- [X] I have chec...   \n",
       "23  - [x] closes #36712 (Replace xxxx with the Git...   \n",
       "24  \\r\\n- [x] closes #16393 (Replace xxxx with the...   \n",
       "25  Groupby for Series fails if an entry of the in...   \n",
       "26  Closes #48758\\r\\n\\r\\nadded styles for styleshe...   \n",
       "27  ### Pandas version checks\\n\\n- [X] I have chec...   \n",
       "28  ### Feature Type\\n\\n- [X] Adding new functiona...   \n",
       "29  ### Pandas version checks\\n\\n- [X] I have chec...   \n",
       "\n",
       "                                            reactions  \\\n",
       "0   {'url': 'https://api.github.com/repos/pandas-d...   \n",
       "1   {'url': 'https://api.github.com/repos/pandas-d...   \n",
       "2   {'url': 'https://api.github.com/repos/pandas-d...   \n",
       "3   {'url': 'https://api.github.com/repos/pandas-d...   \n",
       "4   {'url': 'https://api.github.com/repos/pandas-d...   \n",
       "5   {'url': 'https://api.github.com/repos/pandas-d...   \n",
       "6   {'url': 'https://api.github.com/repos/pandas-d...   \n",
       "7   {'url': 'https://api.github.com/repos/pandas-d...   \n",
       "8   {'url': 'https://api.github.com/repos/pandas-d...   \n",
       "9   {'url': 'https://api.github.com/repos/pandas-d...   \n",
       "10  {'url': 'https://api.github.com/repos/pandas-d...   \n",
       "11  {'url': 'https://api.github.com/repos/pandas-d...   \n",
       "12  {'url': 'https://api.github.com/repos/pandas-d...   \n",
       "13  {'url': 'https://api.github.com/repos/pandas-d...   \n",
       "14  {'url': 'https://api.github.com/repos/pandas-d...   \n",
       "15  {'url': 'https://api.github.com/repos/pandas-d...   \n",
       "16  {'url': 'https://api.github.com/repos/pandas-d...   \n",
       "17  {'url': 'https://api.github.com/repos/pandas-d...   \n",
       "18  {'url': 'https://api.github.com/repos/pandas-d...   \n",
       "19  {'url': 'https://api.github.com/repos/pandas-d...   \n",
       "20  {'url': 'https://api.github.com/repos/pandas-d...   \n",
       "21  {'url': 'https://api.github.com/repos/pandas-d...   \n",
       "22  {'url': 'https://api.github.com/repos/pandas-d...   \n",
       "23  {'url': 'https://api.github.com/repos/pandas-d...   \n",
       "24  {'url': 'https://api.github.com/repos/pandas-d...   \n",
       "25  {'url': 'https://api.github.com/repos/pandas-d...   \n",
       "26  {'url': 'https://api.github.com/repos/pandas-d...   \n",
       "27  {'url': 'https://api.github.com/repos/pandas-d...   \n",
       "28  {'url': 'https://api.github.com/repos/pandas-d...   \n",
       "29  {'url': 'https://api.github.com/repos/pandas-d...   \n",
       "\n",
       "                                         timeline_url  \\\n",
       "0   https://api.github.com/repos/pandas-dev/pandas...   \n",
       "1   https://api.github.com/repos/pandas-dev/pandas...   \n",
       "2   https://api.github.com/repos/pandas-dev/pandas...   \n",
       "3   https://api.github.com/repos/pandas-dev/pandas...   \n",
       "4   https://api.github.com/repos/pandas-dev/pandas...   \n",
       "5   https://api.github.com/repos/pandas-dev/pandas...   \n",
       "6   https://api.github.com/repos/pandas-dev/pandas...   \n",
       "7   https://api.github.com/repos/pandas-dev/pandas...   \n",
       "8   https://api.github.com/repos/pandas-dev/pandas...   \n",
       "9   https://api.github.com/repos/pandas-dev/pandas...   \n",
       "10  https://api.github.com/repos/pandas-dev/pandas...   \n",
       "11  https://api.github.com/repos/pandas-dev/pandas...   \n",
       "12  https://api.github.com/repos/pandas-dev/pandas...   \n",
       "13  https://api.github.com/repos/pandas-dev/pandas...   \n",
       "14  https://api.github.com/repos/pandas-dev/pandas...   \n",
       "15  https://api.github.com/repos/pandas-dev/pandas...   \n",
       "16  https://api.github.com/repos/pandas-dev/pandas...   \n",
       "17  https://api.github.com/repos/pandas-dev/pandas...   \n",
       "18  https://api.github.com/repos/pandas-dev/pandas...   \n",
       "19  https://api.github.com/repos/pandas-dev/pandas...   \n",
       "20  https://api.github.com/repos/pandas-dev/pandas...   \n",
       "21  https://api.github.com/repos/pandas-dev/pandas...   \n",
       "22  https://api.github.com/repos/pandas-dev/pandas...   \n",
       "23  https://api.github.com/repos/pandas-dev/pandas...   \n",
       "24  https://api.github.com/repos/pandas-dev/pandas...   \n",
       "25  https://api.github.com/repos/pandas-dev/pandas...   \n",
       "26  https://api.github.com/repos/pandas-dev/pandas...   \n",
       "27  https://api.github.com/repos/pandas-dev/pandas...   \n",
       "28  https://api.github.com/repos/pandas-dev/pandas...   \n",
       "29  https://api.github.com/repos/pandas-dev/pandas...   \n",
       "\n",
       "   performed_via_github_app state_reason  \n",
       "0                      None         None  \n",
       "1                      None         None  \n",
       "2                      None         None  \n",
       "3                      None         None  \n",
       "4                      None         None  \n",
       "5                      None         None  \n",
       "6                      None         None  \n",
       "7                      None         None  \n",
       "8                      None         None  \n",
       "9                      None         None  \n",
       "10                     None         None  \n",
       "11                     None         None  \n",
       "12                     None         None  \n",
       "13                     None         None  \n",
       "14                     None         None  \n",
       "15                     None         None  \n",
       "16                     None         None  \n",
       "17                     None         None  \n",
       "18                     None         None  \n",
       "19                     None         None  \n",
       "20                     None         None  \n",
       "21                     None         None  \n",
       "22                     None         None  \n",
       "23                     None         None  \n",
       "24                     None         None  \n",
       "25                     None         None  \n",
       "26                     None         None  \n",
       "27                     None         None  \n",
       "28                     None         None  \n",
       "29                     None         None  \n",
       "\n",
       "[30 rows x 30 columns]"
      ]
     },
     "execution_count": 450,
     "metadata": {},
     "output_type": "execute_result"
    }
   ],
   "source": [
    "issues=pd.DataFrame(data)\n",
    "issues"
   ]
  },
  {
   "cell_type": "code",
   "execution_count": 451,
   "id": "2f014edc-5154-4f8a-aeb8-f452e2623d6b",
   "metadata": {},
   "outputs": [],
   "source": [
    "import sqlite3 # 가벼운 데이터 "
   ]
  },
  {
   "cell_type": "markdown",
   "id": "b7af4842-ffcd-47be-b07a-e62724ea7870",
   "metadata": {},
   "source": [
    "## 데이터 정제 및 준비"
   ]
  },
  {
   "cell_type": "markdown",
   "id": "cf80d85c-924c-4212-88d3-066b9c1df3e6",
   "metadata": {},
   "source": [
    "### 결측치"
   ]
  },
  {
   "cell_type": "code",
   "execution_count": 452,
   "id": "c1f7a65d-a3ec-4993-a15c-67f10ccd9d09",
   "metadata": {},
   "outputs": [
    {
     "data": {
      "text/html": [
       "<div>\n",
       "<style scoped>\n",
       "    .dataframe tbody tr th:only-of-type {\n",
       "        vertical-align: middle;\n",
       "    }\n",
       "\n",
       "    .dataframe tbody tr th {\n",
       "        vertical-align: top;\n",
       "    }\n",
       "\n",
       "    .dataframe thead th {\n",
       "        text-align: right;\n",
       "    }\n",
       "</style>\n",
       "<table border=\"1\" class=\"dataframe\">\n",
       "  <thead>\n",
       "    <tr style=\"text-align: right;\">\n",
       "      <th></th>\n",
       "      <th>Qu1</th>\n",
       "      <th>Qu2</th>\n",
       "      <th>Qu3</th>\n",
       "    </tr>\n",
       "  </thead>\n",
       "  <tbody>\n",
       "    <tr>\n",
       "      <th>1</th>\n",
       "      <td>False</td>\n",
       "      <td>False</td>\n",
       "      <td>False</td>\n",
       "    </tr>\n",
       "    <tr>\n",
       "      <th>2</th>\n",
       "      <td>True</td>\n",
       "      <td>False</td>\n",
       "      <td>False</td>\n",
       "    </tr>\n",
       "    <tr>\n",
       "      <th>3</th>\n",
       "      <td>False</td>\n",
       "      <td>False</td>\n",
       "      <td>True</td>\n",
       "    </tr>\n",
       "    <tr>\n",
       "      <th>4</th>\n",
       "      <td>False</td>\n",
       "      <td>True</td>\n",
       "      <td>False</td>\n",
       "    </tr>\n",
       "    <tr>\n",
       "      <th>5</th>\n",
       "      <td>True</td>\n",
       "      <td>True</td>\n",
       "      <td>False</td>\n",
       "    </tr>\n",
       "  </tbody>\n",
       "</table>\n",
       "</div>"
      ],
      "text/plain": [
       "     Qu1    Qu2    Qu3\n",
       "1  False  False  False\n",
       "2   True  False  False\n",
       "3  False  False   True\n",
       "4  False   True  False\n",
       "5   True   True  False"
      ]
     },
     "execution_count": 452,
     "metadata": {},
     "output_type": "execute_result"
    }
   ],
   "source": [
    "df.isnull()"
   ]
  },
  {
   "cell_type": "code",
   "execution_count": 453,
   "id": "ad78e78e-08bf-4f61-9148-a8a7da4e9638",
   "metadata": {},
   "outputs": [
    {
     "data": {
      "text/plain": [
       "Qu1    2\n",
       "Qu2    2\n",
       "Qu3    1\n",
       "dtype: int64"
      ]
     },
     "execution_count": 453,
     "metadata": {},
     "output_type": "execute_result"
    }
   ],
   "source": [
    "df.isnull().sum()"
   ]
  },
  {
   "cell_type": "code",
   "execution_count": 455,
   "id": "be76ea07-5c27-4a02-bdad-7880d63aed63",
   "metadata": {},
   "outputs": [],
   "source": [
    "from numpy import nan as NA  # np.nan대산 NA쓰게  잘 안씀"
   ]
  },
  {
   "cell_type": "code",
   "execution_count": 494,
   "id": "a3b971c7-2216-4021-bf97-d8180df542d4",
   "metadata": {},
   "outputs": [
    {
     "data": {
      "text/plain": [
       "0    NaN\n",
       "1    2.0\n",
       "2   -1.0\n",
       "3    4.0\n",
       "4   -3.0\n",
       "5    6.0\n",
       "dtype: float64"
      ]
     },
     "execution_count": 494,
     "metadata": {},
     "output_type": "execute_result"
    }
   ],
   "source": [
    "data=pd.Series([1,2,3,4,5,6])\n",
    "data.replace([1,3,5],[np.nan, -1, -3])"
   ]
  },
  {
   "cell_type": "code",
   "execution_count": 495,
   "id": "b1d0cc94-0f7c-4fff-8423-e0a71b7c38cf",
   "metadata": {},
   "outputs": [
    {
     "data": {
      "text/plain": [
       "0    1\n",
       "1    2\n",
       "2    3\n",
       "3    4\n",
       "4    5\n",
       "5    6\n",
       "dtype: int64"
      ]
     },
     "execution_count": 495,
     "metadata": {},
     "output_type": "execute_result"
    }
   ],
   "source": [
    "data"
   ]
  },
  {
   "cell_type": "code",
   "execution_count": 497,
   "id": "ee528985-dc3e-43b7-90f8-dd06766e21e6",
   "metadata": {},
   "outputs": [
    {
     "data": {
      "text/plain": [
       "0    2.0\n",
       "1    2.0\n",
       "2   -1.0\n",
       "3    4.0\n",
       "4   -3.0\n",
       "5    6.0\n",
       "dtype: float64"
      ]
     },
     "execution_count": 497,
     "metadata": {},
     "output_type": "execute_result"
    }
   ],
   "source": [
    "s=data.replace([1,3,5],[np.nan, -1, -3])\n",
    "s.fillna(method='bfill')"
   ]
  },
  {
   "cell_type": "code",
   "execution_count": 1,
   "id": "471e74bb-e629-4274-8989-797e0ebacf04",
   "metadata": {},
   "outputs": [
    {
     "ename": "NameError",
     "evalue": "name 'df' is not defined",
     "output_type": "error",
     "traceback": [
      "\u001b[1;31m---------------------------------------------------------------------------\u001b[0m",
      "\u001b[1;31mNameError\u001b[0m                                 Traceback (most recent call last)",
      "Input \u001b[1;32mIn [1]\u001b[0m, in \u001b[0;36m<cell line: 1>\u001b[1;34m()\u001b[0m\n\u001b[1;32m----> 1\u001b[0m \u001b[43mdf\u001b[49m\u001b[38;5;241m.\u001b[39mT\n\u001b[0;32m      2\u001b[0m df[\u001b[38;5;124m'\u001b[39m\u001b[38;5;124msum\u001b[39m\u001b[38;5;124m'\u001b[39m] \u001b[38;5;241m=\u001b[39m df\u001b[38;5;241m.\u001b[39mapply(\u001b[38;5;28msum\u001b[39m, axis \u001b[38;5;241m=\u001b[39m \u001b[38;5;241m1\u001b[39m)\n\u001b[0;32m      3\u001b[0m df\u001b[38;5;241m.\u001b[39mT\n",
      "\u001b[1;31mNameError\u001b[0m: name 'df' is not defined"
     ]
    }
   ],
   "source": [
    " "
   ]
  },
  {
   "cell_type": "code",
   "execution_count": null,
   "id": "719ecce3-03bc-4549-a1b8-86cc5143c7ce",
   "metadata": {},
   "outputs": [],
   "source": []
  }
 ],
 "metadata": {
  "kernelspec": {
   "display_name": "Python 3 (ipykernel)",
   "language": "python",
   "name": "python3"
  },
  "language_info": {
   "codemirror_mode": {
    "name": "ipython",
    "version": 3
   },
   "file_extension": ".py",
   "mimetype": "text/x-python",
   "name": "python",
   "nbconvert_exporter": "python",
   "pygments_lexer": "ipython3",
   "version": "3.9.12"
  }
 },
 "nbformat": 4,
 "nbformat_minor": 5
}
