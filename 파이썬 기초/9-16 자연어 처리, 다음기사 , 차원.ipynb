{
 "cells": [
  {
   "cell_type": "markdown",
   "id": "8fec0a97-8256-48d7-91ee-a5faaab9530d",
   "metadata": {},
   "source": [
    "# 정리"
   ]
  },
  {
   "cell_type": "code",
   "execution_count": null,
   "id": "8dcae2c5-6763-4336-8306-5ddf50362c00",
   "metadata": {},
   "outputs": [],
   "source": [
    "p = re.compile('(?<=://)\\w+') # 스에이스가 아닌것 찾음. 은 포함 안됨 \n",
    "p.findall(s)         \n",
    "\n",
    "p = re.compile(\".+(?=://)\") #뒤에서 부터 찾는데 스페이스도 인식\n",
    "p.findall(s)                  # 그래서 :// 인식 잘항ㄴ함    \n",
    "\n",
    "p = re.compile(r\"(?P<repeat>\\w+)\\s+(?P=repeat)\") # 그룹 이름 지어주기\n",
    "\n",
    "for i in p.finditer(data):\n",
    "    print(i) \n",
    "    \n",
    "data= req.urlopen(\"http://daum.net\").read().decode('utf-8')\n",
    "\n",
    "p= re.compile(\"htt[:./\\w]*[.]{1}js\")# .or / or w 가 있음\n",
    "li = p.findall(data)\n",
    "for i in li:\n",
    "    print(li)\n",
    "p = re.compile(\"[가-힣]+\")\n",
    "r = p.findall(data)\n",
    "\n",
    "for i in r:\n",
    "    print(i) \n",
    "    \n",
    "text = '''<p>이른 아침 문을 여는 빵집입니다</p>\n",
    "<h1>아침식사로 빵을 사러 가기엔 좋지만 매장안에서 드실 공간은 없어요</h1>\n",
    "<h5>이 빵집은 특이하게도 물 또는 커피를 무료로 텀블러에 담아갈수 있습니다</h5>\n",
    "<p>가볍게 아침을 해결하고자 하는 여행자나 현지인은 들러보면 좋을 장소입니다</p>\n",
    "<p>참고로 식빵 나오는 시간은 오전시시 입니다</pp>\n",
    "''' \n",
    "p = re.compile(\"[가-힣][\\w\\s\\d]*\") \n",
    "p.findall(text)    \n",
    "\n",
    "a= np.array([1,2,3], dtype ='float')\n",
    "a.dtype\n",
    "# 64 float은 8바이트\n",
    "\n",
    "np.array([[1,2,3,4],[5,6,7,8]]) #2차원 중첩리스트\n",
    "np.arange(12).reshape(3, -1) # -1은 자동으로 계산\n",
    "\n",
    "np.arange(24).reshape(2,3,4) # 3행 4열이 두개 나옴 2가 z축이니까 3이 y/ 4는x\n",
    "# 종이가 2장 겹침 \n",
    "\n",
    "f = np.array([[1,2,3,4],[4,5,6,7]])\n",
    "g =np.array([5]) #5가 가로세로 맞춰줘서 늘림\n",
    "f+g             "
   ]
  },
  {
   "cell_type": "code",
   "execution_count": null,
   "id": "82a63b9d-6975-42be-b060-da5b228b7abb",
   "metadata": {},
   "outputs": [],
   "source": [
    "지문등록하기"
   ]
  },
  {
   "cell_type": "code",
   "execution_count": null,
   "id": "8b8479fd-eafb-4146-bc8b-d8043058603c",
   "metadata": {},
   "outputs": [],
   "source": [
    "match: 처음부터 맞는 거\n",
    "search:  처음부터 중간부터 맞는거\n",
    "findall: 전부다 \n",
    "finditer: iterable한거 찾음 "
   ]
  },
  {
   "cell_type": "code",
   "execution_count": 1,
   "id": "6c272616-6ce5-4d55-a356-595ddd6686aa",
   "metadata": {},
   "outputs": [
    {
     "ename": "SyntaxError",
     "evalue": "invalid syntax (1815138655.py, line 1)",
     "output_type": "error",
     "traceback": [
      "\u001b[1;36m  Input \u001b[1;32mIn [1]\u001b[1;36m\u001b[0m\n\u001b[1;33m    match: 문자열 처음부터 검색\u001b[0m\n\u001b[1;37m               ^\u001b[0m\n\u001b[1;31mSyntaxError\u001b[0m\u001b[1;31m:\u001b[0m invalid syntax\n"
     ]
    }
   ],
   "source": [
    "match: 문자열 처음부터 검색\n",
    "search: 문자열 전체를 검색\n",
    "findall: 리스트로 돌려줌\n",
    "finditer: 반복 가능한 객체를 돌려줌 iterable 차증ㅁ"
   ]
  },
  {
   "cell_type": "code",
   "execution_count": 2,
   "id": "21951571-e0c9-464a-9f6c-21f7698a74eb",
   "metadata": {},
   "outputs": [
    {
     "ename": "SyntaxError",
     "evalue": "invalid syntax (2557914459.py, line 1)",
     "output_type": "error",
     "traceback": [
      "\u001b[1;36m  Input \u001b[1;32mIn [2]\u001b[1;36m\u001b[0m\n\u001b[1;33m    match 객체의 메서드\u001b[0m\n\u001b[1;37m              ^\u001b[0m\n\u001b[1;31mSyntaxError\u001b[0m\u001b[1;31m:\u001b[0m invalid syntax\n"
     ]
    }
   ],
   "source": [
    "match 객체의 메서드 \n",
    "group() start end span"
   ]
  },
  {
   "cell_type": "code",
   "execution_count": 3,
   "id": "000b7127-1af1-4bd5-b854-80366417c8ac",
   "metadata": {},
   "outputs": [
    {
     "data": {
      "text/plain": [
       "['life', 'is', 'too', 'short']"
      ]
     },
     "execution_count": 3,
     "metadata": {},
     "output_type": "execute_result"
    }
   ],
   "source": [
    "import re\n",
    "a = \"Life is too short\".lower()\n",
    "re.findall(\"[a-z]+\", a) "
   ]
  },
  {
   "cell_type": "code",
   "execution_count": 4,
   "id": "0d0c370c-e8c2-4885-a828-b5ef9b23e02a",
   "metadata": {},
   "outputs": [
    {
     "name": "stdout",
     "output_type": "stream",
     "text": [
      "['life', 'is', 'too', 'short']\n"
     ]
    }
   ],
   "source": [
    "p= re.compile(\"[A-z]+\")\n",
    "print(p.findall(a))"
   ]
  },
  {
   "cell_type": "code",
   "execution_count": 5,
   "id": "caa8640f-3091-4d51-a9bd-1ff6316693db",
   "metadata": {},
   "outputs": [
    {
     "ename": "SyntaxError",
     "evalue": "unexpected character after line continuation character (2880797391.py, line 1)",
     "output_type": "error",
     "traceback": [
      "\u001b[1;36m  Input \u001b[1;32mIn [5]\u001b[1;36m\u001b[0m\n\u001b[1;33m    \\W = [^a-zA-Z0-9_]\u001b[0m\n\u001b[1;37m     ^\u001b[0m\n\u001b[1;31mSyntaxError\u001b[0m\u001b[1;31m:\u001b[0m unexpected character after line continuation character\n"
     ]
    }
   ],
   "source": [
    "\\W = [^a-zA-Z0-9_]"
   ]
  },
  {
   "cell_type": "code",
   "execution_count": 6,
   "id": "2e22ae2c-46ac-4d3f-a8a0-3ca305a991c7",
   "metadata": {},
   "outputs": [],
   "source": [
    "data = \"\"\"이름 : 김철수 전화번호 :010-1234-1234 나이: 30 성별:남\"\"\" "
   ]
  },
  {
   "cell_type": "code",
   "execution_count": 8,
   "id": "8bfe0eef-53b7-43d2-823a-3823f86b8245",
   "metadata": {},
   "outputs": [
    {
     "name": "stdout",
     "output_type": "stream",
     "text": [
      "010\n"
     ]
    }
   ],
   "source": [
    "p= re.compile(\"\\d+\")\n",
    "print(p.search(data).group())"
   ]
  },
  {
   "cell_type": "code",
   "execution_count": 9,
   "id": "c24337ae-1174-4519-a22a-02d2f9a2a54a",
   "metadata": {},
   "outputs": [
    {
     "name": "stdout",
     "output_type": "stream",
     "text": [
      "['010', '1234', '1234', '30']\n"
     ]
    }
   ],
   "source": [
    "p = re.compile(\"\\d+\")\n",
    "print(re.findall(p, data))"
   ]
  },
  {
   "cell_type": "code",
   "execution_count": 10,
   "id": "f89c2bdf-59fc-470c-8e94-dd3868ec3bae",
   "metadata": {},
   "outputs": [
    {
     "name": "stdout",
     "output_type": "stream",
     "text": [
      "['010-1234-1234']\n"
     ]
    }
   ],
   "source": [
    "p = re.compile(r'\\d+[-]\\d+[-]\\d+')\n",
    "print(p.findall(data)) "
   ]
  },
  {
   "cell_type": "code",
   "execution_count": 11,
   "id": "d3d01ab0-d92f-49e3-9a87-ff37a3c430bf",
   "metadata": {},
   "outputs": [
    {
     "ename": "SyntaxError",
     "evalue": "unterminated string literal (detected at line 1) (1498631430.py, line 1)",
     "output_type": "error",
     "traceback": [
      "\u001b[1;36m  Input \u001b[1;32mIn [11]\u001b[1;36m\u001b[0m\n\u001b[1;33m    s =:\"blach blue and brown\u001b[0m\n\u001b[1;37m        ^\u001b[0m\n\u001b[1;31mSyntaxError\u001b[0m\u001b[1;31m:\u001b[0m unterminated string literal (detected at line 1)\n"
     ]
    }
   ],
   "source": [
    "s =:\"blach blue and brown\n",
    "p= re.compile(\"\")"
   ]
  },
  {
   "cell_type": "code",
   "execution_count": 2,
   "id": "e3d498f5-ec1f-40fb-8617-5bf2ea70ffa0",
   "metadata": {},
   "outputs": [
    {
     "name": "stdout",
     "output_type": "stream",
     "text": [
      "['black', 'blue']\n"
     ]
    }
   ],
   "source": [
    "import re\n",
    "s = 'black, blue and brown'\n",
    "print(re.findall(\"bl\\w*\", s))"
   ]
  },
  {
   "cell_type": "code",
   "execution_count": 3,
   "id": "c82f6de9-2703-4ae6-9bc7-e1dbcfea5d3b",
   "metadata": {},
   "outputs": [
    {
     "ename": "NameError",
     "evalue": "name 're' is not defined",
     "output_type": "error",
     "traceback": [
      "\u001b[1;31m---------------------------------------------------------------------------\u001b[0m",
      "\u001b[1;31mNameError\u001b[0m                                 Traceback (most recent call last)",
      "Input \u001b[1;32mIn [3]\u001b[0m, in \u001b[0;36m<cell line: 2>\u001b[1;34m()\u001b[0m\n\u001b[0;32m      1\u001b[0m s \u001b[38;5;241m=\u001b[39m \u001b[38;5;124m\"\u001b[39m\u001b[38;5;124mblack, blue and brown\u001b[39m\u001b[38;5;124m\"\u001b[39m\n\u001b[1;32m----> 2\u001b[0m p \u001b[38;5;241m=\u001b[39m \u001b[43mre\u001b[49m\u001b[38;5;241m.\u001b[39mcompile(\u001b[38;5;124m\"\u001b[39m\u001b[38;5;124mblack|blue\u001b[39m\u001b[38;5;124m\"\u001b[39m)\n\u001b[0;32m      3\u001b[0m \u001b[38;5;28mprint\u001b[39m(re\u001b[38;5;241m.\u001b[39mfindall(p, s))\n",
      "\u001b[1;31mNameError\u001b[0m: name 're' is not defined"
     ]
    }
   ],
   "source": [
    "s = \"black, blue and brown\"\n",
    "p = re.compile(\"black|blue\")\n",
    "print(re.findall(p, s)) "
   ]
  },
  {
   "cell_type": "code",
   "execution_count": 22,
   "id": "6e827b89-da67-4fba-8146-9f953309e373",
   "metadata": {},
   "outputs": [
    {
     "data": {
      "text/plain": [
       "['http', 'http', 'ftp']"
      ]
     },
     "execution_count": 22,
     "metadata": {},
     "output_type": "execute_result"
    }
   ],
   "source": [
    "s= \"http://naver.com http://google.com ftp://daum.net\" \n",
    "p =re.compile(\"\\w+(?=://)\")\n",
    "p.findall(s)\n"
   ]
  },
  {
   "cell_type": "code",
   "execution_count": 6,
   "id": "39d2017f-5dc1-4d47-8ec9-495ccfaa10f5",
   "metadata": {},
   "outputs": [],
   "source": [
    "import re"
   ]
  },
  {
   "cell_type": "code",
   "execution_count": 20,
   "id": "f8a52f73-52b9-4d77-9af7-9cdf269ce67b",
   "metadata": {},
   "outputs": [
    {
     "data": {
      "text/plain": [
       "['http', 'http', 'ftp']"
      ]
     },
     "execution_count": 20,
     "metadata": {},
     "output_type": "execute_result"
    }
   ],
   "source": [
    "p = re.compile(\"\\w+(?=://)\")\n",
    "p.findall(s) "
   ]
  },
  {
   "cell_type": "code",
   "execution_count": 21,
   "id": "74f78a53-0851-4af3-bbad-a420cfcdf33d",
   "metadata": {},
   "outputs": [
    {
     "data": {
      "text/plain": [
       "['http://naver.com http://google.com ftp']"
      ]
     },
     "execution_count": 21,
     "metadata": {},
     "output_type": "execute_result"
    }
   ],
   "source": [
    "p = re.compile(\".+(?=://)\") #뒤에서 부터 찾는데 스페이스도 인식\n",
    "p.findall(s)                  # 그래서 :// 인식 잘항ㄴ함       "
   ]
  },
  {
   "cell_type": "code",
   "execution_count": 14,
   "id": "8c6f9bc5-e1fd-4f98-b7ea-9395a90c2149",
   "metadata": {},
   "outputs": [
    {
     "data": {
      "text/plain": [
       "['http', 'http', 'ftp']"
      ]
     },
     "execution_count": 14,
     "metadata": {},
     "output_type": "execute_result"
    }
   ],
   "source": [
    "p = re.compile(\"\\w+(?=:)\")\n",
    "re.findall(p, s) "
   ]
  },
  {
   "cell_type": "code",
   "execution_count": 25,
   "id": "755b0f16-9cfa-4f5b-b429-f6830329d5e8",
   "metadata": {},
   "outputs": [
    {
     "data": {
      "text/plain": [
       "['/naver.com', '/google.com', '/daum.net']"
      ]
     },
     "execution_count": 25,
     "metadata": {},
     "output_type": "execute_result"
    }
   ],
   "source": [
    "p = re.compile('(?<=/)\\S+')\n",
    "p.findall(s) "
   ]
  },
  {
   "cell_type": "code",
   "execution_count": 1,
   "id": "6bca791f-b083-4301-826d-9075b1d7d78b",
   "metadata": {},
   "outputs": [
    {
     "ename": "NameError",
     "evalue": "name 're' is not defined",
     "output_type": "error",
     "traceback": [
      "\u001b[1;31m---------------------------------------------------------------------------\u001b[0m",
      "\u001b[1;31mNameError\u001b[0m                                 Traceback (most recent call last)",
      "Input \u001b[1;32mIn [1]\u001b[0m, in \u001b[0;36m<cell line: 1>\u001b[1;34m()\u001b[0m\n\u001b[1;32m----> 1\u001b[0m p \u001b[38;5;241m=\u001b[39m \u001b[43mre\u001b[49m\u001b[38;5;241m.\u001b[39mcompile(\u001b[38;5;124m'\u001b[39m\u001b[38;5;124m(?<=://)\u001b[39m\u001b[38;5;124m\\\u001b[39m\u001b[38;5;124mw+\u001b[39m\u001b[38;5;124m'\u001b[39m) \u001b[38;5;66;03m# 스에이스가 아닌것 찾음. 은 포함 안됨 \u001b[39;00m\n\u001b[0;32m      2\u001b[0m p\u001b[38;5;241m.\u001b[39mfindall(s)\n",
      "\u001b[1;31mNameError\u001b[0m: name 're' is not defined"
     ]
    }
   ],
   "source": [
    "p = re.compile('(?<=://)\\w+') # 스에이스가 아닌것 찾음. 은 포함 안됨 \n",
    "p.findall(s)                        "
   ]
  },
  {
   "cell_type": "code",
   "execution_count": 47,
   "id": "a9cb02ed-3218-45e2-af15-47ce7b173e2a",
   "metadata": {},
   "outputs": [],
   "source": [
    "data = '''안녕하세요 그리고 그리고 안녕하세요 또또 안녕하세요 그런데 그런데 인녕하세요 끝 끝'''"
   ]
  },
  {
   "cell_type": "code",
   "execution_count": 29,
   "id": "68a943e4-fba2-4019-81c7-08b32c36d772",
   "metadata": {},
   "outputs": [
    {
     "data": {
      "text/plain": [
       "[]"
      ]
     },
     "execution_count": 29,
     "metadata": {},
     "output_type": "execute_result"
    }
   ],
   "source": [
    "p= re.compile(\"/\")\n",
    "p.findall(data)"
   ]
  },
  {
   "cell_type": "code",
   "execution_count": 48,
   "id": "b3c1372d-bddb-4ba1-b7b5-7add03806793",
   "metadata": {},
   "outputs": [
    {
     "name": "stdout",
     "output_type": "stream",
     "text": [
      "<re.Match object; span=(6, 13), match='그리고 그리고'>\n",
      "<re.Match object; span=(29, 36), match='그런데 그런데'>\n",
      "<re.Match object; span=(43, 46), match='끝 끝'>\n"
     ]
    }
   ],
   "source": [
    "p = re.compile(r\"(?P<repeat>\\w+)\\s+(?P=repeat)\") # 그룹 이름 지어주기\n",
    "\n",
    "for i in p.finditer(data):\n",
    "    print(i) "
   ]
  },
  {
   "cell_type": "code",
   "execution_count": null,
   "id": "ed448550-3b18-47fc-b7b4-402458eea9dd",
   "metadata": {},
   "outputs": [],
   "source": []
  },
  {
   "cell_type": "code",
   "execution_count": 38,
   "id": "aee6b9a1-aaa8-464d-8a12-4615def1eb17",
   "metadata": {},
   "outputs": [
    {
     "data": {
      "text/plain": [
       "{'그런데', '그리고', '또또', '안녕하세요', '인녕하세요'}"
      ]
     },
     "execution_count": 38,
     "metadata": {},
     "output_type": "execute_result"
    }
   ],
   "source": [
    "data = re.findall(\"\\w+\\S\", data)\n",
    "set(sorted(data)) "
   ]
  },
  {
   "cell_type": "code",
   "execution_count": 43,
   "id": "973f912c-2cbb-48cf-b371-159caae532e8",
   "metadata": {},
   "outputs": [
    {
     "data": {
      "text/plain": [
       "{'그런데', '그리고', '끝', '또또', '안녕하세요', '인녕하세요'}"
      ]
     },
     "execution_count": 43,
     "metadata": {},
     "output_type": "execute_result"
    }
   ],
   "source": [
    "data = re.findall(\"\\w+\", data)\n",
    "set(sorted(data)) "
   ]
  },
  {
   "cell_type": "code",
   "execution_count": 45,
   "id": "35670564-923f-4806-a97f-77e134cf6388",
   "metadata": {},
   "outputs": [
    {
     "data": {
      "text/plain": [
       "{'그런데', '그리고', '끝', '또또', '안녕하세요', '인녕하세요'}"
      ]
     },
     "execution_count": 45,
     "metadata": {},
     "output_type": "execute_result"
    }
   ],
   "source": [
    "data = re.findall(\"\\w*\\S\", data)\n",
    "set(data) "
   ]
  },
  {
   "cell_type": "code",
   "execution_count": 5,
   "id": "28954779-3d81-4abd-bb49-21295d81cefe",
   "metadata": {},
   "outputs": [],
   "source": [
    "import urllib.request as req\n",
    "import re"
   ]
  },
  {
   "cell_type": "code",
   "execution_count": 53,
   "id": "5c8a789e-92ac-4d21-aa4f-dcfaf5cc2f21",
   "metadata": {},
   "outputs": [
    {
     "data": {
      "text/plain": [
       "<http.client.HTTPResponse at 0x1753ee502b0>"
      ]
     },
     "execution_count": 53,
     "metadata": {},
     "output_type": "execute_result"
    }
   ],
   "source": [
    "req.urlopen(\"http://daum.net\") # 들어가는지 응답 봄, 접근함 "
   ]
  },
  {
   "cell_type": "code",
   "execution_count": 55,
   "id": "22382fad-e6da-4a0a-8543-983a69111e55",
   "metadata": {},
   "outputs": [
    {
     "ename": "SyntaxError",
     "evalue": "invalid syntax (1765858542.py, line 1)",
     "output_type": "error",
     "traceback": [
      "\u001b[1;36m  Input \u001b[1;32mIn [55]\u001b[1;36m\u001b[0m\n\u001b[1;33m    req.urlopen(\"http://daum.net\").read(). # 코드 가져옴\u001b[0m\n\u001b[1;37m                                           ^\u001b[0m\n\u001b[1;31mSyntaxError\u001b[0m\u001b[1;31m:\u001b[0m invalid syntax\n"
     ]
    }
   ],
   "source": [
    "req.urlopen(\"http://daum.net\").read(). # 코드 가져옴 읽을수 없음"
   ]
  },
  {
   "cell_type": "code",
   "execution_count": 6,
   "id": "f3450953-77ae-4654-8ba7-62ab9680c535",
   "metadata": {},
   "outputs": [],
   "source": [
    "data= req.urlopen(\"http://daum.net\").read().decode('utf-8')"
   ]
  },
  {
   "cell_type": "code",
   "execution_count": 58,
   "id": "b83a1e12-1391-4da6-9e7d-3c4aa6b3c022",
   "metadata": {},
   "outputs": [
    {
     "ename": "SyntaxError",
     "evalue": "invalid syntax (1519389772.py, line 1)",
     "output_type": "error",
     "traceback": [
      "\u001b[1;36m  Input \u001b[1;32mIn [58]\u001b[1;36m\u001b[0m\n\u001b[1;33m    data.\u001b[0m\n\u001b[1;37m         ^\u001b[0m\n\u001b[1;31mSyntaxError\u001b[0m\u001b[1;31m:\u001b[0m invalid syntax\n"
     ]
    }
   ],
   "source": [
    "data."
   ]
  },
  {
   "cell_type": "code",
   "execution_count": 79,
   "id": "3a7a98b0-dea1-4289-87f5-a24d2617e612",
   "metadata": {},
   "outputs": [
    {
     "name": "stdout",
     "output_type": "stream",
     "text": [
      "['https://t1.daumcdn.net/kas/static/na.min.js', 'http://tktapi.melon.com/kmt/landing.js', 'http://tktapi.melon.com/kmt/landing.js', 'http://tktapi.melon.com/kmt/landing.js', 'http://tktapi.melon.com/kmt/landing.js', 'https://t1.daumcdn.net/tiara/js/v1/tiara.min.js', 'https://t1.daumcdn.net/kas/static/ba.min.js']\n",
      "['https://t1.daumcdn.net/kas/static/na.min.js', 'http://tktapi.melon.com/kmt/landing.js', 'http://tktapi.melon.com/kmt/landing.js', 'http://tktapi.melon.com/kmt/landing.js', 'http://tktapi.melon.com/kmt/landing.js', 'https://t1.daumcdn.net/tiara/js/v1/tiara.min.js', 'https://t1.daumcdn.net/kas/static/ba.min.js']\n",
      "['https://t1.daumcdn.net/kas/static/na.min.js', 'http://tktapi.melon.com/kmt/landing.js', 'http://tktapi.melon.com/kmt/landing.js', 'http://tktapi.melon.com/kmt/landing.js', 'http://tktapi.melon.com/kmt/landing.js', 'https://t1.daumcdn.net/tiara/js/v1/tiara.min.js', 'https://t1.daumcdn.net/kas/static/ba.min.js']\n",
      "['https://t1.daumcdn.net/kas/static/na.min.js', 'http://tktapi.melon.com/kmt/landing.js', 'http://tktapi.melon.com/kmt/landing.js', 'http://tktapi.melon.com/kmt/landing.js', 'http://tktapi.melon.com/kmt/landing.js', 'https://t1.daumcdn.net/tiara/js/v1/tiara.min.js', 'https://t1.daumcdn.net/kas/static/ba.min.js']\n",
      "['https://t1.daumcdn.net/kas/static/na.min.js', 'http://tktapi.melon.com/kmt/landing.js', 'http://tktapi.melon.com/kmt/landing.js', 'http://tktapi.melon.com/kmt/landing.js', 'http://tktapi.melon.com/kmt/landing.js', 'https://t1.daumcdn.net/tiara/js/v1/tiara.min.js', 'https://t1.daumcdn.net/kas/static/ba.min.js']\n",
      "['https://t1.daumcdn.net/kas/static/na.min.js', 'http://tktapi.melon.com/kmt/landing.js', 'http://tktapi.melon.com/kmt/landing.js', 'http://tktapi.melon.com/kmt/landing.js', 'http://tktapi.melon.com/kmt/landing.js', 'https://t1.daumcdn.net/tiara/js/v1/tiara.min.js', 'https://t1.daumcdn.net/kas/static/ba.min.js']\n",
      "['https://t1.daumcdn.net/kas/static/na.min.js', 'http://tktapi.melon.com/kmt/landing.js', 'http://tktapi.melon.com/kmt/landing.js', 'http://tktapi.melon.com/kmt/landing.js', 'http://tktapi.melon.com/kmt/landing.js', 'https://t1.daumcdn.net/tiara/js/v1/tiara.min.js', 'https://t1.daumcdn.net/kas/static/ba.min.js']\n"
     ]
    }
   ],
   "source": [
    "p= re.compile(\"http[:./\\w]*[.]{1}js\")\n",
    "li = p.findall(data)\n",
    "for i in li:\n",
    "    print(li)"
   ]
  },
  {
   "cell_type": "code",
   "execution_count": 7,
   "id": "752f9001-c68a-4976-84ad-c98dc000b32d",
   "metadata": {},
   "outputs": [
    {
     "data": {
      "text/plain": [
       "['https://t1.daumcdn.net/kas/static/na.min.js',\n",
       " 'http://tktapi.melon.com/kmt/landing.js',\n",
       " 'http://tktapi.melon.com/kmt/landing.js',\n",
       " 'http://tktapi.melon.com/kmt/landing.js',\n",
       " 'http://tktapi.melon.com/kmt/landing.js',\n",
       " 'https://t1.daumcdn.net/tiara/js/v1/tiara.min.js',\n",
       " 'https://t1.daumcdn.net/kas/static/ba.min.js']"
      ]
     },
     "execution_count": 7,
     "metadata": {},
     "output_type": "execute_result"
    }
   ],
   "source": [
    "p = re.compile(\"http[:./\\w]*[.]js\")\n",
    "p.findall(data)"
   ]
  },
  {
   "cell_type": "code",
   "execution_count": 83,
   "id": "06f8ee9f-05a1-493d-a4ed-8f26a0c8324c",
   "metadata": {},
   "outputs": [
    {
     "name": "stdout",
     "output_type": "stream",
     "text": [
      "['https://t1.daumcdn.net/kas/static/na.min.js', 'http://tktapi.melon.com/kmt/landing.js', 'http://tktapi.melon.com/kmt/landing.js', 'http://tktapi.melon.com/kmt/landing.js', 'http://tktapi.melon.com/kmt/landing.js', 'https://t1.daumcdn.net/tiara/js/v1/tiara.min.js', 'https://t1.daumcdn.net/kas/static/ba.min.js']\n",
      "['https://t1.daumcdn.net/kas/static/na.min.js', 'http://tktapi.melon.com/kmt/landing.js', 'http://tktapi.melon.com/kmt/landing.js', 'http://tktapi.melon.com/kmt/landing.js', 'http://tktapi.melon.com/kmt/landing.js', 'https://t1.daumcdn.net/tiara/js/v1/tiara.min.js', 'https://t1.daumcdn.net/kas/static/ba.min.js']\n",
      "['https://t1.daumcdn.net/kas/static/na.min.js', 'http://tktapi.melon.com/kmt/landing.js', 'http://tktapi.melon.com/kmt/landing.js', 'http://tktapi.melon.com/kmt/landing.js', 'http://tktapi.melon.com/kmt/landing.js', 'https://t1.daumcdn.net/tiara/js/v1/tiara.min.js', 'https://t1.daumcdn.net/kas/static/ba.min.js']\n",
      "['https://t1.daumcdn.net/kas/static/na.min.js', 'http://tktapi.melon.com/kmt/landing.js', 'http://tktapi.melon.com/kmt/landing.js', 'http://tktapi.melon.com/kmt/landing.js', 'http://tktapi.melon.com/kmt/landing.js', 'https://t1.daumcdn.net/tiara/js/v1/tiara.min.js', 'https://t1.daumcdn.net/kas/static/ba.min.js']\n",
      "['https://t1.daumcdn.net/kas/static/na.min.js', 'http://tktapi.melon.com/kmt/landing.js', 'http://tktapi.melon.com/kmt/landing.js', 'http://tktapi.melon.com/kmt/landing.js', 'http://tktapi.melon.com/kmt/landing.js', 'https://t1.daumcdn.net/tiara/js/v1/tiara.min.js', 'https://t1.daumcdn.net/kas/static/ba.min.js']\n",
      "['https://t1.daumcdn.net/kas/static/na.min.js', 'http://tktapi.melon.com/kmt/landing.js', 'http://tktapi.melon.com/kmt/landing.js', 'http://tktapi.melon.com/kmt/landing.js', 'http://tktapi.melon.com/kmt/landing.js', 'https://t1.daumcdn.net/tiara/js/v1/tiara.min.js', 'https://t1.daumcdn.net/kas/static/ba.min.js']\n",
      "['https://t1.daumcdn.net/kas/static/na.min.js', 'http://tktapi.melon.com/kmt/landing.js', 'http://tktapi.melon.com/kmt/landing.js', 'http://tktapi.melon.com/kmt/landing.js', 'http://tktapi.melon.com/kmt/landing.js', 'https://t1.daumcdn.net/tiara/js/v1/tiara.min.js', 'https://t1.daumcdn.net/kas/static/ba.min.js']\n"
     ]
    }
   ],
   "source": [
    "p= re.compile(\"htt[:./\\w]*[.]{1}js\")# .or / or w 가 있음\n",
    "li = p.findall(data)\n",
    "for i in li:\n",
    "    print(li)"
   ]
  },
  {
   "cell_type": "code",
   "execution_count": 76,
   "id": "7c1704d3-1f47-46cc-8cbf-40a1d1be41a2",
   "metadata": {},
   "outputs": [
    {
     "name": "stdout",
     "output_type": "stream",
     "text": [
      "https://t1.daumcdn.net/kas/static/na.min.js\n",
      "https://t1.daumcdn.net/tiara/js/v1/tiara.min.js\n",
      "https://t1.daumcdn.net/top/tiller-pc/lib/1636937121956/polyfill.min.js\n",
      "https://t1.daumcdn.net/top/tiller-pc/h/production/20220915_111213/index.js\n",
      "https://t1.daumcdn.net/kas/static/ba.min.js\n",
      "https://t1.daumcdn.net/top/tiller-pc/1655174491872/tiller-pc-suggest.js\n"
     ]
    }
   ],
   "source": [
    "p = re.compile(\"https://\\S+[.]js\")\n",
    "li = re.findall(p, data)\n",
    "for i in li:\n",
    "    print(i) "
   ]
  },
  {
   "cell_type": "code",
   "execution_count": 78,
   "id": "5a6a7413-e41f-48cf-907d-0104f792b800",
   "metadata": {},
   "outputs": [],
   "source": [
    "p = re.compile(\"http://.*[.]js$\") # 달러는 한문장으로 잡아서 js로 잡음\n",
    "li = p.findall(data)\n",
    "for i in li:\n",
    "    print(i) \n"
   ]
  },
  {
   "cell_type": "code",
   "execution_count": 80,
   "id": "0a30b1f9-4c84-4bd1-9dec-922db4da83b6",
   "metadata": {},
   "outputs": [
    {
     "name": "stdout",
     "output_type": "stream",
     "text": [
      "https://t1.daumcdn.net/kas/static/na.min.js\n",
      "https://t1.daumcdn.net/tiara/js/v1/tiara.min.js\n",
      "https://t1.daumcdn.net/top/tiller-pc/lib/1636937121956/polyfill.min.js\n",
      "https://t1.daumcdn.net/top/tiller-pc/h/production/20220915_111213/index.js\n",
      "https://t1.daumcdn.net/kas/static/ba.min.js\n",
      "https://t1.daumcdn.net/top/tiller-pc/1655174491872/tiller-pc-suggest.js\n"
     ]
    }
   ],
   "source": [
    "p = re.compile(\"https://\\S+[.]js\")\n",
    "li = re.findall(p, data)\n",
    "for i in li:\n",
    "    print(i) "
   ]
  },
  {
   "cell_type": "code",
   "execution_count": 8,
   "id": "4663ac4b-d086-430d-8d79-8a39cf800cf6",
   "metadata": {},
   "outputs": [],
   "source": [
    "data = \"\"\"<div class=\"faZHB\"><a href=\"#\" target=\"_self\" role=\"button\" aria-expanded=\"true\" class=\"M_704\" style=\"display: block;\"><span class=\"WoYOw\">이른 아침 문을 여는 빵집입니다. 아침식사로 빵을 사러 가기엔 좋지만 매장안에서 드실 공간은 없어요. 이 빵집은 특이하게도 물 또는 커피를 무료로 텀블러에 담아갈수 있습니다.  가볍게 아침을 해결하고자 하는 여행자나 현지인은 들러보면 좋을 장소입니다.  참고로, 식빵 나오는 시간은 오전11시~12시 입니다. 빵 가격은 가성비 괜찮은 편이고 맛은 무난합니다. </span></a></div><div class=\"faZHB\"><a href=\"#\" target=\"_self\" role=\"button\" aria-expanded=\"false\" class=\"M_704\" style=\"display: block;\"><span class=\"WoYOw\">우연히 들어갔는데 사장님이 따뜻하고 친절하셔서 제주도 이미지마저 좋게 느껴졌어요. 그리고 무엇보다 빵이 정말 맛있어요. 제주도에서 원탑입니다!!! 여기보다 두배는 ...</span><span class=\"_3_09q\"><svg xmlns=\"\n",
    "http://www.w3.org/2000/svg\n",
    "\" viewBox=\"0 0 12 7\" class=\"_3Dnsh\" aria-hidden=\"true\"><path d=\"M11.47.52a.74.74 0 0 0-1.04 0l-4.4 4.45v.01L1.57.52A.74.74 0 1 0 .53 1.57l5.12 5.08a.5.5 0 0 0 .7 0l5.12-5.08a.74.74 0 0 0 0-1.05z\"></path></svg><span class=\"place_blind\">내용 더보기</span></span></a></div><div class=\"faZHB\"><a href=\"#\" target=\"_self\" role=\"button\" aria-expanded=\"false\" class=\"M_704\" style=\"display: block;\"><span class=\"WoYOw\">맛집검색하다가 스쳐지나갔는데 숙소근처에 있길래 들렸어요!!  시식하는빵도 있고  빵구매하는데 서비스로 흰색찹살떡??도 주시고 친절하세요! 인절미빵 강추입니다!  ...</span><span class=\"_3_09q\"><svg xmlns=\"\n",
    "http://www.w3.org/2000/svg\n",
    "\" viewBox=\"0 0 12 7\" class=\"_3Dnsh\" aria-hidden=\"true\"><path d=\"M11.47.52a.74.74 0 0 0-1.04 0l-4.4 4.45v.01L1.57.52A.74.74 0 1 0 .53 1.57l5.12 5.08a.5.5 0 0 0 .7 0l5.12-5.08a.74.74 0 0 0 0-1.05z\"></path></svg><span class=\"place_blind\">내용 더보기</span></span></a></div><div class=\"faZHB\"><a href=\"#\" target=\"_self\" role=\"button\" aria-expanded=\"false\" class=\"M_704\" style=\"display: block;\"><span class=\"WoYOw\">인절미빵. 먹물치즈빵? 제일 맛있었고 대파빵은 삼겹살을 부르는 꽤 매운 맛이었어요! 빵이 대체로 다~~~~맛있고 친절하십니다 주차는 근처 공영주차장에 하면 됩니다 다...</span><span class=\"_3_09q\"><svg xmlns=\"\n",
    "http://www.w3.org/2000/svg\n",
    "\" viewBox=\"0 0 12 7\" class=\"_3Dnsh\" aria-hidden=\"true\"><path d=\"M11.47.52a.74.74 0 0 0-1.04 0l-4.4 4.45v.01L1.57.52A.74.74 0 1 0 .53 1.57l5.12 5.08a.5.5 0 0 0 .7 0l5.12-5.08a.74.74 0 0 0 0-1.05z\"></path></svg><span class=\"place_blind\">내용 더보기</span></span></a></div><div class=\"faZHB\"><a href=\"#\" target=\"_self\" role=\"button\" aria-expanded=\"false\" class=\"M_704\" style=\"display: block;\"><span class=\"WoYOw\">사진을 제대로 못찍엇는데 뒤에 비닐로 싸진 빵들이에요 ㅋㅋㅋ  여기 진짜 촤고에요 보니 동네찐로컬맛집같아요 빵종류도 많고 각 빵마다 시식빵이 있는데 크기가 넘 커서...</span><span class=\"_3_09q\"><svg xmlns=\"\n",
    "http://www.w3.org/2000/svg\n",
    "\" viewBox=\"0 0 12 7\" class=\"_3Dnsh\" aria-hidden=\"true\"><path d=\"M11.47.52a.74.74 0 0 0-1.04 0l-4.4 4.45v.01L1.57.52A.74.74 0 1 0 .53 1.57l5.12 5.08a.5.5 0 0 0 .7 0l5.12-5.08a.74.74 0 0 0 0-1.05z\"></path></svg><span class=\"place_blind\">내용 더보기</span></span></a></div><div class=\"faZHB\"><a href=\"#\" target=\"_self\" role=\"button\" aria-expanded=\"false\" class=\"M_704\" style=\"display: block;\"><span class=\"WoYOw\">성산 여행하는 동안 두번이나 방문했어요 빵도 특색있고 하나하나 다 맛있고 사장님도 직원분도 친절하시고  커피도 무료로 먹을수 있게 해주시고 살때마다 서비스빵을 주...</span><span class=\"_3_09q\"><svg xmlns=\"\n",
    "http://www.w3.org/2000/svg\n",
    "\" viewBox=\"0 0 12 7\" class=\"_3Dnsh\" aria-hidden=\"true\"><path d=\"M11.47.52a.74.74 0 0 0-1.04 0l-4.4 4.45v.01L1.57.52A.74.74 0 1 0 .53 1.57l5.12 5.08a.5.5 0 0 0 .7 0l5.12-5.08a.74.74 0 0 0 0-1.05z\"></path></svg><span class=\"place_blind\">내용 더보기</span></span></a></div><div class=\"faZHB\"><a href=\"#\" target=\"_self\" role=\"button\" aria-expanded=\"false\" class=\"M_704\" style=\"display: block;\"><span class=\"WoYOw\">사장님 너무 친절하시고 빵이 진짜 맛있어요.. 미친 맛,,,,🥹가격이 타 빵집보다 훠얼씬 저렴한데  맛이 훠얼씬 맛있네요,,,??!?! 저희 동네에 있었음 매일 가고싶네요ㅠㅠㅠ …</span><span class=\"_3_09q\"><svg xmlns=\"\n",
    "http://www.w3.org/2000/svg\n",
    "\" viewBox=\"0 0 12 7\" class=\"_3Dnsh\" aria-hidden=\"true\"><path d=\"M11.47.52a.74.74 0 0 0-1.04 0l-4.4 4.45v.01L1.57.52A.74.74 0 1 0 .53 1.57l5.12 5.08a.5.5 0 0 0 .7 0l5.12-5.08a.74.74 0 0 0 0-1.05z\"></path></svg><span class=\"place_blind\">내용 더보기</span></span></a></div><div class=\"faZHB\"><a href=\"#\" target=\"_self\" role=\"button\" aria-expanded=\"false\" class=\"M_704\" style=\"display: block;\"><span class=\"WoYOw\">재료를 아끼지 않으세요 눚은시간 방문했는데도 손님들이 꽤 왔어요 마늘바게트에는 소스를 아끼지 않았고 다른빵들도 크림이 듬뿍 들어 있었어요 서비스도 주시고 시식…</span><span class=\"_3_09q\"><svg xmlns=\"\n",
    "http://www.w3.org/2000/svg\n",
    "\" viewBox=\"0 0 12 7\" class=\"_3Dnsh\" aria-hidden=\"true\"><path d=\"M11.47.52a.74.74 0 0 0-1.04 0l-4.4 4.45v.01L1.57.52A.74.74 0 1 0 .53 1.57l5.12 5.08a.5.5 0 0 0 .7 0l5.12-5.08a.74.74 0 0 0 0-1.05z\"></path></svg><span class=\"place_blind\">내용 더보기</span></span></a></div>\"\"\" "
   ]
  },
  {
   "cell_type": "code",
   "execution_count": 100,
   "id": "9f5bd247-9be2-49be-a61d-d6a7d4331617",
   "metadata": {},
   "outputs": [
    {
     "name": "stdout",
     "output_type": "stream",
     "text": [
      "이른\n",
      "아침\n",
      "문을\n",
      "여는\n",
      "빵집입니다\n",
      "아침식사로\n",
      "빵을\n",
      "사러\n",
      "가기엔\n",
      "좋지만\n",
      "매장안에서\n",
      "드실\n",
      "공간은\n",
      "없어요\n",
      "이\n",
      "빵집은\n",
      "특이하게도\n",
      "물\n",
      "또는\n",
      "커피를\n",
      "무료로\n",
      "텀블러에\n",
      "담아갈수\n",
      "있습니다\n",
      "가볍게\n",
      "아침을\n",
      "해결하고자\n",
      "하는\n",
      "여행자나\n",
      "현지인은\n",
      "들러보면\n",
      "좋을\n",
      "장소입니다\n",
      "참고로\n",
      "식빵\n",
      "나오는\n",
      "시간은\n",
      "오전\n",
      "시\n",
      "시\n",
      "입니다\n",
      "빵\n",
      "가격은\n",
      "가성비\n",
      "괜찮은\n",
      "편이고\n",
      "맛은\n",
      "무난합니다\n",
      "우연히\n",
      "들어갔는데\n",
      "사장님이\n",
      "따뜻하고\n",
      "친절하셔서\n",
      "제주도\n",
      "이미지마저\n",
      "좋게\n",
      "느껴졌어요\n",
      "그리고\n",
      "무엇보다\n",
      "빵이\n",
      "정말\n",
      "맛있어요\n",
      "제주도에서\n",
      "원탑입니다\n",
      "여기보다\n",
      "두배는\n",
      "내용\n",
      "더보기\n",
      "맛집검색하다가\n",
      "스쳐지나갔는데\n",
      "숙소근처에\n",
      "있길래\n",
      "들렸어요\n",
      "시식하는빵도\n",
      "있고\n",
      "빵구매하는데\n",
      "서비스로\n",
      "흰색찹살떡\n",
      "도\n",
      "주시고\n",
      "친절하세요\n",
      "인절미빵\n",
      "강추입니다\n",
      "내용\n",
      "더보기\n",
      "인절미빵\n",
      "먹물치즈빵\n",
      "제일\n",
      "맛있었고\n",
      "대파빵은\n",
      "삼겹살을\n",
      "부르는\n",
      "꽤\n",
      "매운\n",
      "맛이었어요\n",
      "빵이\n",
      "대체로\n",
      "다\n",
      "맛있고\n",
      "친절하십니다\n",
      "주차는\n",
      "근처\n",
      "공영주차장에\n",
      "하면\n",
      "됩니다\n",
      "다\n",
      "내용\n",
      "더보기\n",
      "사진을\n",
      "제대로\n",
      "못찍엇는데\n",
      "뒤에\n",
      "비닐로\n",
      "싸진\n",
      "빵들이에요\n",
      "여기\n",
      "진짜\n",
      "촤고에요\n",
      "보니\n",
      "동네찐로컬맛집같아요\n",
      "빵종류도\n",
      "많고\n",
      "각\n",
      "빵마다\n",
      "시식빵이\n",
      "있는데\n",
      "크기가\n",
      "넘\n",
      "커서\n",
      "내용\n",
      "더보기\n",
      "성산\n",
      "여행하는\n",
      "동안\n",
      "두번이나\n",
      "방문했어요\n",
      "빵도\n",
      "특색있고\n",
      "하나하나\n",
      "다\n",
      "맛있고\n",
      "사장님도\n",
      "직원분도\n",
      "친절하시고\n",
      "커피도\n",
      "무료로\n",
      "먹을수\n",
      "있게\n",
      "해주시고\n",
      "살때마다\n",
      "서비스빵을\n",
      "주\n",
      "내용\n",
      "더보기\n",
      "사장님\n",
      "너무\n",
      "친절하시고\n",
      "빵이\n",
      "진짜\n",
      "맛있어요\n",
      "미친\n",
      "맛\n",
      "가격이\n",
      "타\n",
      "빵집보다\n",
      "훠얼씬\n",
      "저렴한데\n",
      "맛이\n",
      "훠얼씬\n",
      "맛있네요\n",
      "저희\n",
      "동네에\n",
      "있었음\n",
      "매일\n",
      "가고싶네요\n",
      "내용\n",
      "더보기\n",
      "재료를\n",
      "아끼지\n",
      "않으세요\n",
      "눚은시간\n",
      "방문했는데도\n",
      "손님들이\n",
      "꽤\n",
      "왔어요\n",
      "마늘바게트에는\n",
      "소스를\n",
      "아끼지\n",
      "않았고\n",
      "다른빵들도\n",
      "크림이\n",
      "듬뿍\n",
      "들어\n",
      "있었어요\n",
      "서비스도\n",
      "주시고\n",
      "시식\n",
      "내용\n",
      "더보기\n"
     ]
    }
   ],
   "source": [
    "p = re.compile(\"[가-힣]+\")\n",
    "r = p.findall(data)\n",
    "\n",
    "for i in r:\n",
    "    print(i) "
   ]
  },
  {
   "cell_type": "code",
   "execution_count": 115,
   "id": "a32ec474-d1cd-461f-8cf1-114e2980d8d7",
   "metadata": {},
   "outputs": [
    {
     "data": {
      "text/plain": [
       "['이른 아침 문을 여는 빵집입니다. 아침식사로 빵을 사러 가기엔 좋지만 매장안에서 드실 공간은 없어요. 이 빵집은 특이하게도 물 또는 커피를 무료로 텀블러에 담아갈수 있습니다.  가볍게 아침을 해결하고자 하는 여행자나 현지인은 들러보면 좋을 장소입니다.  참고로, 식빵 나오는 시간은 오전11시~12시 입니다. 빵 가격은 가성비 괜찮은 편이고 맛은 무난합니다. </span></a></div><div class=\"faZHB\"><a href=\"#\" target=\"_self\" role=\"button\" aria-expanded=\"false\" class=\"M_704\" style=\"display: block;\"><span class=\"WoYOw\">우연히 들어갔는데 사장님이 따뜻하고 친절하셔서 제주도 이미지마저 좋게 느껴졌어요. 그리고 무엇보다 빵이 정말 맛있어요. 제주도에서 원탑입니다!!! 여기보다 두배는',\n",
       " '내용 더보기</span></span></a></div><div class=\"faZHB\"><a href=\"#\" target=\"_self\" role=\"button\" aria-expanded=\"false\" class=\"M_704\" style=\"display: block;\"><span class=\"WoYOw\">맛집검색하다가 스쳐지나갔는데 숙소근처에 있길래 들렸어요!!  시식하는빵도 있고  빵구매하는데 서비스로 흰색찹살떡??도 주시고 친절하세요! 인절미빵 강추입니다',\n",
       " '내용 더보기</span></span></a></div><div class=\"faZHB\"><a href=\"#\" target=\"_self\" role=\"button\" aria-expanded=\"false\" class=\"M_704\" style=\"display: block;\"><span class=\"WoYOw\">인절미빵. 먹물치즈빵? 제일 맛있었고 대파빵은 삼겹살을 부르는 꽤 매운 맛이었어요! 빵이 대체로 다~~~~맛있고 친절하십니다 주차는 근처 공영주차장에 하면 됩니다 다',\n",
       " '내용 더보기</span></span></a></div><div class=\"faZHB\"><a href=\"#\" target=\"_self\" role=\"button\" aria-expanded=\"false\" class=\"M_704\" style=\"display: block;\"><span class=\"WoYOw\">사진을 제대로 못찍엇는데 뒤에 비닐로 싸진 빵들이에요 ㅋㅋㅋ  여기 진짜 촤고에요 보니 동네찐로컬맛집같아요 빵종류도 많고 각 빵마다 시식빵이 있는데 크기가 넘 커서',\n",
       " '내용 더보기</span></span></a></div><div class=\"faZHB\"><a href=\"#\" target=\"_self\" role=\"button\" aria-expanded=\"false\" class=\"M_704\" style=\"display: block;\"><span class=\"WoYOw\">성산 여행하는 동안 두번이나 방문했어요 빵도 특색있고 하나하나 다 맛있고 사장님도 직원분도 친절하시고  커피도 무료로 먹을수 있게 해주시고 살때마다 서비스빵을 주',\n",
       " '내용 더보기</span></span></a></div><div class=\"faZHB\"><a href=\"#\" target=\"_self\" role=\"button\" aria-expanded=\"false\" class=\"M_704\" style=\"display: block;\"><span class=\"WoYOw\">사장님 너무 친절하시고 빵이 진짜 맛있어요.. 미친 맛,,,,\\U0001f979가격이 타 빵집보다 훠얼씬 저렴한데  맛이 훠얼씬 맛있네요,,,??!?! 저희 동네에 있었음 매일 가고싶네요',\n",
       " '내용 더보기</span></span></a></div><div class=\"faZHB\"><a href=\"#\" target=\"_self\" role=\"button\" aria-expanded=\"false\" class=\"M_704\" style=\"display: block;\"><span class=\"WoYOw\">재료를 아끼지 않으세요 눚은시간 방문했는데도 손님들이 꽤 왔어요 마늘바게트에는 소스를 아끼지 않았고 다른빵들도 크림이 듬뿍 들어 있었어요 서비스도 주시고 시식',\n",
       " '내용 더보기']"
      ]
     },
     "execution_count": 115,
     "metadata": {},
     "output_type": "execute_result"
    }
   ],
   "source": [
    "p = re.compile(\"[가-힣].+[가-힣]\")# 한글과 한글 사이에 뭐가 있어도 좋아\n",
    "li = p.findall(data)\n",
    "li "
   ]
  },
  {
   "cell_type": "code",
   "execution_count": 108,
   "id": "1bdf09ac-b92c-434c-83e9-3bbc2815e91c",
   "metadata": {},
   "outputs": [
    {
     "data": {
      "text/plain": [
       "['이른 아침 문을 여는 빵집입니다',\n",
       " '아침식사로 빵을 사러 가기엔 좋지만 매장안에서 드실 공간은 없어요',\n",
       " '이 빵집은 특이하게도 물 또는 커피를 무료로 텀블러에 담아갈수 있습니다',\n",
       " '가볍게 아침을 해결하고자 하는 여행자나 현지인은 들러보면 좋을 장소입니다',\n",
       " '참고로',\n",
       " '식빵 나오는 시간은 오전11시',\n",
       " '시 입니다',\n",
       " '빵 가격은 가성비 괜찮은 편이고 맛은 무난합니다',\n",
       " '우연히 들어갔는데 사장님이 따뜻하고 친절하셔서 제주도 이미지마저 좋게 느껴졌어요',\n",
       " '그리고 무엇보다 빵이 정말 맛있어요',\n",
       " '제주도에서 원탑입니다',\n",
       " '여기보다 두배는 ',\n",
       " '내용 더보기',\n",
       " '맛집검색하다가 스쳐지나갔는데 숙소근처에 있길래 들렸어요',\n",
       " '시식하는빵도 있고  빵구매하는데 서비스로 흰색찹살떡',\n",
       " '도 주시고 친절하세요',\n",
       " '인절미빵 강추입니다',\n",
       " '내용 더보기',\n",
       " '인절미빵',\n",
       " '먹물치즈빵',\n",
       " '제일 맛있었고 대파빵은 삼겹살을 부르는 꽤 매운 맛이었어요',\n",
       " '빵이 대체로 다',\n",
       " '맛있고 친절하십니다 주차는 근처 공영주차장에 하면 됩니다 다',\n",
       " '내용 더보기',\n",
       " '사진을 제대로 못찍엇는데 뒤에 비닐로 싸진 빵들이에요 ㅋㅋㅋ  여기 진짜 촤고에요 보니 동네찐로컬맛집같아요 빵종류도 많고 각 빵마다 시식빵이 있는데 크기가 넘 커서',\n",
       " '내용 더보기',\n",
       " '성산 여행하는 동안 두번이나 방문했어요 빵도 특색있고 하나하나 다 맛있고 사장님도 직원분도 친절하시고  커피도 무료로 먹을수 있게 해주시고 살때마다 서비스빵을 주',\n",
       " '내용 더보기',\n",
       " '사장님 너무 친절하시고 빵이 진짜 맛있어요',\n",
       " '미친 맛',\n",
       " '가격이 타 빵집보다 훠얼씬 저렴한데  맛이 훠얼씬 맛있네요',\n",
       " '저희 동네에 있었음 매일 가고싶네요ㅠㅠㅠ ',\n",
       " '내용 더보기',\n",
       " '재료를 아끼지 않으세요 눚은시간 방문했는데도 손님들이 꽤 왔어요 마늘바게트에는 소스를 아끼지 않았고 다른빵들도 크림이 듬뿍 들어 있었어요 서비스도 주시고 시식',\n",
       " '내용 더보기']"
      ]
     },
     "execution_count": 108,
     "metadata": {},
     "output_type": "execute_result"
    }
   ],
   "source": [
    "p = re.compile(\"[가-힣][\\d\\w\\s]*\")\n",
    "li = p.findall(data)\n",
    "li "
   ]
  },
  {
   "cell_type": "code",
   "execution_count": 110,
   "id": "e1eb6d49-0111-4176-8c30-8c0bbb276147",
   "metadata": {},
   "outputs": [
    {
     "data": {
      "text/plain": [
       "['이른 아침 문을 여는 빵집입니다',\n",
       " '아침식사로 빵을 사러 가기엔 좋지만 매장안에서 드실 공간은 없어요',\n",
       " '이 빵집은 특이하게도 물 또는 커피를 무료로 텀블러에 담아갈수 있습니다',\n",
       " '가볍게 아침을 해결하고자 하는 여행자나 현지인은 들러보면 좋을 장소입니다',\n",
       " '참고로',\n",
       " '식빵 나오는 시간은 오전11시',\n",
       " '시 입니다',\n",
       " '빵 가격은 가성비 괜찮은 편이고 맛은 무난합니다',\n",
       " '우연히 들어갔는데 사장님이 따뜻하고 친절하셔서 제주도 이미지마저 좋게 느껴졌어요',\n",
       " '그리고 무엇보다 빵이 정말 맛있어요',\n",
       " '제주도에서 원탑입니다',\n",
       " '여기보다 두배는 ',\n",
       " '내용 더보기',\n",
       " '맛집검색하다가 스쳐지나갔는데 숙소근처에 있길래 들렸어요',\n",
       " '시식하는빵도 있고  빵구매하는데 서비스로 흰색찹살떡',\n",
       " '도 주시고 친절하세요',\n",
       " '인절미빵 강추입니다',\n",
       " '내용 더보기',\n",
       " '인절미빵',\n",
       " '먹물치즈빵',\n",
       " '제일 맛있었고 대파빵은 삼겹살을 부르는 꽤 매운 맛이었어요',\n",
       " '빵이 대체로 다',\n",
       " '맛있고 친절하십니다 주차는 근처 공영주차장에 하면 됩니다 다',\n",
       " '내용 더보기',\n",
       " '사진을 제대로 못찍엇는데 뒤에 비닐로 싸진 빵들이에요 ㅋㅋㅋ  여기 진짜 촤고에요 보니 동네찐로컬맛집같아요 빵종류도 많고 각 빵마다 시식빵이 있는데 크기가 넘 커서',\n",
       " '내용 더보기',\n",
       " '성산 여행하는 동안 두번이나 방문했어요 빵도 특색있고 하나하나 다 맛있고 사장님도 직원분도 친절하시고  커피도 무료로 먹을수 있게 해주시고 살때마다 서비스빵을 주',\n",
       " '내용 더보기',\n",
       " '사장님 너무 친절하시고 빵이 진짜 맛있어요',\n",
       " '미친 맛',\n",
       " '가격이 타 빵집보다 훠얼씬 저렴한데  맛이 훠얼씬 맛있네요',\n",
       " '저희 동네에 있었음 매일 가고싶네요ㅠㅠㅠ ',\n",
       " '내용 더보기',\n",
       " '재료를 아끼지 않으세요 눚은시간 방문했는데도 손님들이 꽤 왔어요 마늘바게트에는 소스를 아끼지 않았고 다른빵들도 크림이 듬뿍 들어 있었어요 서비스도 주시고 시식',\n",
       " '내용 더보기']"
      ]
     },
     "execution_count": 110,
     "metadata": {},
     "output_type": "execute_result"
    }
   ],
   "source": [
    "p = re.compile(\"[가-힣][\\d\\w\\s]*\")\n",
    "li = p.findall(data)\n",
    "li "
   ]
  },
  {
   "cell_type": "code",
   "execution_count": 124,
   "id": "d1f625e5-e68b-42b7-a9c8-8a441ce060af",
   "metadata": {},
   "outputs": [
    {
     "data": {
      "text/plain": [
       "'      704   이른 아침 문을 여는 빵집입니다. 아침식사로 빵을 사러 가기엔 좋지만 매장안에서 드실 공간은 없어요. 이 빵집은 특이하게도 물 또는 커피를 무료로 텀블러에 담아갈수 있습니다.  가볍게 아침을 해결하고자 하는 여행자나 현지인은 들러보면 좋을 장소입니다.  참고로 식빵 나오는 시간은 오전11시~12시 입니다. 빵 가격은 가성비 괜찮은 편이고 맛은 무난합니다.       704   우연히 들어갔는데 사장님이 따뜻하고 친절하셔서 제주도 이미지마저 좋게 느껴졌어요. 그리고 무엇보다 빵이 정말 맛있어요. 제주도에서 원탑입니다 여기보다 두배는 ... 309 \\n.3.2000\\n 0 0 12 7 3  11.47.52.74.74 0 0 01.04 04.4 4.45.011.57.52.74.74 0 1 0 .53 1.575.12 5.08.5.5 0 0 0 .7 05.125.08.74.74 0 0 0 01.05 내용 더보기      704   맛집검색하다가 스쳐지나갔는데 숙소근처에 있길래 들렸어요  시식하는빵도 있고  빵구매하는데 서비스로 흰색찹살떡도 주시고 친절하세요 인절미빵 강추입니다  ... 309 \\n.3.2000\\n 0 0 12 7 3  11.47.52.74.74 0 0 01.04 04.4 4.45.011.57.52.74.74 0 1 0 .53 1.575.12 5.08.5.5 0 0 0 .7 05.125.08.74.74 0 0 0 01.05 내용 더보기      704   인절미빵. 먹물치즈빵 제일 맛있었고 대파빵은 삼겹살을 부르는 꽤 매운 맛이었어요 빵이 대체로 다~~~~맛있고 친절하십니다 주차는 근처 공영주차장에 하면 됩니다 다... 309 \\n.3.2000\\n 0 0 12 7 3  11.47.52.74.74 0 0 01.04 04.4 4.45.011.57.52.74.74 0 1 0 .53 1.575.12 5.08.5.5 0 0 0 .7 05.125.08.74.74 0 0 0 01.05 내용 더보기      704   사진을 제대로 못찍엇는데 뒤에 비닐로 싸진 빵들이에요   여기 진짜 촤고에요 보니 동네찐로컬맛집같아요 빵종류도 많고 각 빵마다 시식빵이 있는데 크기가 넘 커서... 309 \\n.3.2000\\n 0 0 12 7 3  11.47.52.74.74 0 0 01.04 04.4 4.45.011.57.52.74.74 0 1 0 .53 1.575.12 5.08.5.5 0 0 0 .7 05.125.08.74.74 0 0 0 01.05 내용 더보기      704   성산 여행하는 동안 두번이나 방문했어요 빵도 특색있고 하나하나 다 맛있고 사장님도 직원분도 친절하시고  커피도 무료로 먹을수 있게 해주시고 살때마다 서비스빵을 주... 309 \\n.3.2000\\n 0 0 12 7 3  11.47.52.74.74 0 0 01.04 04.4 4.45.011.57.52.74.74 0 1 0 .53 1.575.12 5.08.5.5 0 0 0 .7 05.125.08.74.74 0 0 0 01.05 내용 더보기      704   사장님 너무 친절하시고 빵이 진짜 맛있어요.. 미친 맛가격이 타 빵집보다 훠얼씬 저렴한데  맛이 훠얼씬 맛있네요 저희 동네에 있었음 매일 가고싶네요  309 \\n.3.2000\\n 0 0 12 7 3  11.47.52.74.74 0 0 01.04 04.4 4.45.011.57.52.74.74 0 1 0 .53 1.575.12 5.08.5.5 0 0 0 .7 05.125.08.74.74 0 0 0 01.05 내용 더보기      704   재료를 아끼지 않으세요 눚은시간 방문했는데도 손님들이 꽤 왔어요 마늘바게트에는 소스를 아끼지 않았고 다른빵들도 크림이 듬뿍 들어 있었어요 서비스도 주시고 시식 309 \\n.3.2000\\n 0 0 12 7 3  11.47.52.74.74 0 0 01.04 04.4 4.45.011.57.52.74.74 0 1 0 .53 1.575.12 5.08.5.5 0 0 0 .7 05.125.08.74.74 0 0 0 01.05 내용 더보기'"
      ]
     },
     "execution_count": 124,
     "metadata": {},
     "output_type": "execute_result"
    }
   ],
   "source": [
    "p = re.compile(\"[^가-힣0-9\\s.~]\") # 한글아닌것 숫자 아닌것 스페이스 아닌것 고름\n",
    "new_data =p.sub(\"\", data) # 공백을 데이터로 대체함 \n",
    "new_data"
   ]
  },
  {
   "cell_type": "code",
   "execution_count": 10,
   "id": "8f0cbf58-b86e-41d5-b94c-e63bab551766",
   "metadata": {},
   "outputs": [
    {
     "ename": "SyntaxError",
     "evalue": "invalid syntax (1935119054.py, line 2)",
     "output_type": "error",
     "traceback": [
      "\u001b[1;36m  Input \u001b[1;32mIn [10]\u001b[1;36m\u001b[0m\n\u001b[1;33m    p.findall(data).\u001b[0m\n\u001b[1;37m                    ^\u001b[0m\n\u001b[1;31mSyntaxError\u001b[0m\u001b[1;31m:\u001b[0m invalid syntax\n"
     ]
    }
   ],
   "source": [
    "p = re.compile(\"[^가-힣0-9\\s.~]\")\n",
    "p.findall(data)."
   ]
  },
  {
   "cell_type": "code",
   "execution_count": 122,
   "id": "536ad07e-004f-4848-bf88-b8053b6c664e",
   "metadata": {},
   "outputs": [
    {
     "name": "stdout",
     "output_type": "stream",
     "text": [
      "      \n",
      "   이른 아침 문을 여는 빵집입니다. 아침식사로 빵을 사러 가기엔 좋지만 매장안에서 드실 공간은 없어요. 이 빵집은 특이하게도 물 또는 커피를 무료로 텀블러에 담아갈수 있습니다.  가볍게 아침을 해결하고자 하는 여행자나 현지인은 들러보면 좋을 장소입니다.  참고로 식빵 나오는 시간은 오전\n",
      "시~\n",
      "시 입니다. 빵 가격은 가성비 괜찮은 편이고 맛은 무난합니다.       \n",
      "   우연히 들어갔는데 사장님이 따뜻하고 친절하셔서 제주도 이미지마저 좋게 느껴졌어요. 그리고 무엇보다 빵이 정말 맛있어요. 제주도에서 원탑입니다 여기보다 두배는 ... \n",
      " \n",
      ".\n",
      ".\n",
      "\n",
      " \n",
      "  \n",
      ".\n",
      ".\n",
      ".\n",
      ".\n",
      ".\n",
      ".\n",
      ".\n",
      ".\n",
      ".\n",
      ".\n",
      ".\n",
      ".\n",
      " .\n",
      ".\n",
      ".\n",
      ".\n",
      ".\n",
      ".\n",
      " .\n",
      ".\n",
      ".\n",
      ".\n",
      ".\n",
      ".\n",
      " 내용 더보기      \n",
      "   맛집검색하다가 스쳐지나갔는데 숙소근처에 있길래 들렸어요  시식하는빵도 있고  빵구매하는데 서비스로 흰색찹살떡도 주시고 친절하세요 인절미빵 강추입니다  ... \n",
      " \n",
      ".\n",
      ".\n",
      "\n",
      " \n",
      "  \n",
      ".\n",
      ".\n",
      ".\n",
      ".\n",
      ".\n",
      ".\n",
      ".\n",
      ".\n",
      ".\n",
      ".\n",
      ".\n",
      ".\n",
      " .\n",
      ".\n",
      ".\n",
      ".\n",
      ".\n",
      ".\n",
      " .\n",
      ".\n",
      ".\n",
      ".\n",
      ".\n",
      ".\n",
      " 내용 더보기      \n",
      "   인절미빵. 먹물치즈빵 제일 맛있었고 대파빵은 삼겹살을 부르는 꽤 매운 맛이었어요 빵이 대체로 다~~~~맛있고 친절하십니다 주차는 근처 공영주차장에 하면 됩니다 다... \n",
      " \n",
      ".\n",
      ".\n",
      "\n",
      " \n",
      "  \n",
      ".\n",
      ".\n",
      ".\n",
      ".\n",
      ".\n",
      ".\n",
      ".\n",
      ".\n",
      ".\n",
      ".\n",
      ".\n",
      ".\n",
      " .\n",
      ".\n",
      ".\n",
      ".\n",
      ".\n",
      ".\n",
      " .\n",
      ".\n",
      ".\n",
      ".\n",
      ".\n",
      ".\n",
      " 내용 더보기      \n",
      "   사진을 제대로 못찍엇는데 뒤에 비닐로 싸진 빵들이에요   여기 진짜 촤고에요 보니 동네찐로컬맛집같아요 빵종류도 많고 각 빵마다 시식빵이 있는데 크기가 넘 커서... \n",
      " \n",
      ".\n",
      ".\n",
      "\n",
      " \n",
      "  \n",
      ".\n",
      ".\n",
      ".\n",
      ".\n",
      ".\n",
      ".\n",
      ".\n",
      ".\n",
      ".\n",
      ".\n",
      ".\n",
      ".\n",
      " .\n",
      ".\n",
      ".\n",
      ".\n",
      ".\n",
      ".\n",
      " .\n",
      ".\n",
      ".\n",
      ".\n",
      ".\n",
      ".\n",
      " 내용 더보기      \n",
      "   성산 여행하는 동안 두번이나 방문했어요 빵도 특색있고 하나하나 다 맛있고 사장님도 직원분도 친절하시고  커피도 무료로 먹을수 있게 해주시고 살때마다 서비스빵을 주... \n",
      " \n",
      ".\n",
      ".\n",
      "\n",
      " \n",
      "  \n",
      ".\n",
      ".\n",
      ".\n",
      ".\n",
      ".\n",
      ".\n",
      ".\n",
      ".\n",
      ".\n",
      ".\n",
      ".\n",
      ".\n",
      " .\n",
      ".\n",
      ".\n",
      ".\n",
      ".\n",
      ".\n",
      " .\n",
      ".\n",
      ".\n",
      ".\n",
      ".\n",
      ".\n",
      " 내용 더보기      \n",
      "   사장님 너무 친절하시고 빵이 진짜 맛있어요.. 미친 맛가격이 타 빵집보다 훠얼씬 저렴한데  맛이 훠얼씬 맛있네요 저희 동네에 있었음 매일 가고싶네요  \n",
      " \n",
      ".\n",
      ".\n",
      "\n",
      " \n",
      "  \n",
      ".\n",
      ".\n",
      ".\n",
      ".\n",
      ".\n",
      ".\n",
      ".\n",
      ".\n",
      ".\n",
      ".\n",
      ".\n",
      ".\n",
      " .\n",
      ".\n",
      ".\n",
      ".\n",
      ".\n",
      ".\n",
      " .\n",
      ".\n",
      ".\n",
      ".\n",
      ".\n",
      ".\n",
      " 내용 더보기      \n",
      "   재료를 아끼지 않으세요 눚은시간 방문했는데도 손님들이 꽤 왔어요 마늘바게트에는 소스를 아끼지 않았고 다른빵들도 크림이 듬뿍 들어 있었어요 서비스도 주시고 시식 \n",
      " \n",
      ".\n",
      ".\n",
      "\n",
      " \n",
      "  \n",
      ".\n",
      ".\n",
      ".\n",
      ".\n",
      ".\n",
      ".\n",
      ".\n",
      ".\n",
      ".\n",
      ".\n",
      ".\n",
      ".\n",
      " .\n",
      ".\n",
      ".\n",
      ".\n",
      ".\n",
      ".\n",
      " .\n",
      ".\n",
      ".\n",
      ".\n",
      ".\n",
      ".\n",
      " 내용 더보기\n"
     ]
    }
   ],
   "source": [
    "p = re.compile(\"[가-힣\\s.~!]+\")\n",
    "li = p.findall(data)\n",
    "\n",
    "for i in li:\n",
    "    if i != ' ':\n",
    "        print(i) "
   ]
  },
  {
   "cell_type": "markdown",
   "id": "77785b5c-c5ee-4471-85f1-524d979e776c",
   "metadata": {},
   "source": [
    "- 자주쓰이는 패턴"
   ]
  },
  {
   "cell_type": "markdown",
   "id": "78a2015e-8943-43cd-b4cd-58d921d57526",
   "metadata": {},
   "source": [
    "- 전화번호"
   ]
  },
  {
   "cell_type": "code",
   "execution_count": null,
   "id": "d875cc67-0ee9-46b1-83af-0be725416230",
   "metadata": {},
   "outputs": [],
   "source": [
    "p=re.compile(\"010[-]\\d{4}[-]\\d{4}\")"
   ]
  },
  {
   "cell_type": "markdown",
   "id": "176d55d3-dce1-41ee-88ef-c533d7ea6001",
   "metadata": {},
   "source": [
    "- 이메일"
   ]
  },
  {
   "cell_type": "code",
   "execution_count": 129,
   "id": "a39a5633-58e5-47bd-8efe-59e4553ac934",
   "metadata": {},
   "outputs": [
    {
     "data": {
      "text/plain": [
       "['123llo@daum.net']"
      ]
     },
     "execution_count": 129,
     "metadata": {},
     "output_type": "execute_result"
    }
   ],
   "source": [
    "a= \"123llo@daum.net\"\n",
    "p=re.compile(\"\\w+@\\w+[.]\\w+\")\n",
    "p.findall(a)\n",
    "p=re.compile(\"[A-z0-9]+@[A-z0-9]+[.][a-z.]+\")\n"
   ]
  },
  {
   "cell_type": "markdown",
   "id": "1bc9ae08-0f56-490f-8c5a-4a5250c6adaf",
   "metadata": {},
   "source": [
    "- 주민번호 "
   ]
  },
  {
   "cell_type": "code",
   "execution_count": 133,
   "id": "56dc5695-2bd6-4dd5-a6db-2547b4009a64",
   "metadata": {},
   "outputs": [],
   "source": [
    "a= \"123456-1234567\"\n",
    "p.findall(a)\n",
    "p = re.compile(\"\\d{6}[-][123456]\\d{6}\") # 주민번호 뒷자리 는 1-6 까지 외국인 번호\n"
   ]
  },
  {
   "cell_type": "raw",
   "id": "b0e666a8-833c-474e-bf10-7516e81a4a56",
   "metadata": {},
   "source": [
    "re.멀티라인 해주면 여러줄을 각각 한줄로 봐서 처리함 "
   ]
  },
  {
   "cell_type": "code",
   "execution_count": 12,
   "id": "2fc418fb-b62e-4b8c-9901-37500c70548f",
   "metadata": {},
   "outputs": [
    {
     "data": {
      "text/plain": [
       "['http', 'https', 'ftp']"
      ]
     },
     "execution_count": 12,
     "metadata": {},
     "output_type": "execute_result"
    }
   ],
   "source": [
    "text = '''\n",
    "http://www.google.com/\n",
    "\n",
    "https://mail.google.com/\n",
    "\n",
    "ftp://ftp.google.com/\n",
    "\n",
    "''' \n",
    "\n",
    "p = re.compile(\"\\w+(?=:)\")\n",
    "p.findall(text)"
   ]
  },
  {
   "cell_type": "code",
   "execution_count": 144,
   "id": "52b8bdae-5cdb-4499-840a-f8a384bfd04d",
   "metadata": {},
   "outputs": [
    {
     "data": {
      "text/plain": [
       "['http:', 'https:', 'ftp:']"
      ]
     },
     "execution_count": 144,
     "metadata": {},
     "output_type": "execute_result"
    }
   ],
   "source": [
    "p = re.compile(\".*:\") \n",
    "p.findall(text)"
   ]
  },
  {
   "cell_type": "code",
   "execution_count": 148,
   "id": "54cb51d5-a3b3-4c91-b3ea-795eea2e0944",
   "metadata": {},
   "outputs": [
    {
     "data": {
      "text/plain": [
       "['http:', 'https:', 'ftp:']"
      ]
     },
     "execution_count": 148,
     "metadata": {},
     "output_type": "execute_result"
    }
   ],
   "source": [
    "\n",
    "p = re.compile(\"\\S+(?=//)\")# :은 문자가 아니라서 \\w안됨\n",
    "p.findall(text)"
   ]
  },
  {
   "cell_type": "code",
   "execution_count": 149,
   "id": "be3a6f12-ff48-42a6-9021-694b0322a56d",
   "metadata": {},
   "outputs": [
    {
     "data": {
      "text/plain": [
       "['http', 'https', 'ftp']"
      ]
     },
     "execution_count": 149,
     "metadata": {},
     "output_type": "execute_result"
    }
   ],
   "source": [
    "p = re.compile(\".+(?=:)\")\n",
    "p.findall(text)"
   ]
  },
  {
   "cell_type": "code",
   "execution_count": 156,
   "id": "9a62c5b1-4f0d-4d46-b421-8244969094d9",
   "metadata": {},
   "outputs": [
    {
     "data": {
      "text/plain": [
       "['50.24', '35.25', '100']"
      ]
     },
     "execution_count": 156,
     "metadata": {},
     "output_type": "execute_result"
    }
   ],
   "source": [
    "text = '''apple: $50.24\n",
    "banana: $35.25\n",
    "pizza: $100\n",
    "''' \n",
    "p = re.compile(\"(?<=[$]).+\")\n",
    "p.findall(text)\n"
   ]
  },
  {
   "cell_type": "code",
   "execution_count": 158,
   "id": "cb757907-b92b-4ab0-8dc7-5eabb804feb9",
   "metadata": {},
   "outputs": [
    {
     "data": {
      "text/plain": [
       "['$50.24', '$35.25', '$100']"
      ]
     },
     "execution_count": 158,
     "metadata": {},
     "output_type": "execute_result"
    }
   ],
   "source": [
    "p = re.compile(\"\\$.+\") # \\ escape\n",
    "p.findall(text) \n"
   ]
  },
  {
   "cell_type": "code",
   "execution_count": 160,
   "id": "532101a3-6fa8-4540-b71d-bd409a570bee",
   "metadata": {},
   "outputs": [
    {
     "data": {
      "text/plain": [
       "['이른 아침 문을 여는 빵집입니다',\n",
       " '아침식사로 빵을 사러 가기엔 좋지만 매장안에서 드실 공간은 없어요',\n",
       " '이 빵집은 특이하게도 물 또는 커피를 무료로 텀블러에 담아갈수 있습니다',\n",
       " '가볍게 아침을 해결하고자 하는 여행자나 현지인은 들러보면 좋을 장소입니다',\n",
       " '참고로 식빵 나오는 시간은 오전시시 입니다']"
      ]
     },
     "execution_count": 160,
     "metadata": {},
     "output_type": "execute_result"
    }
   ],
   "source": [
    "text = '''<p>이른 아침 문을 여는 빵집입니다</p>\n",
    "<h1>아침식사로 빵을 사러 가기엔 좋지만 매장안에서 드실 공간은 없어요</h1>\n",
    "<h5>이 빵집은 특이하게도 물 또는 커피를 무료로 텀블러에 담아갈수 있습니다</h5>\n",
    "<p>가볍게 아침을 해결하고자 하는 여행자나 현지인은 들러보면 좋을 장소입니다</p>\n",
    "<p>참고로 식빵 나오는 시간은 오전시시 입니다</pp>\n",
    "''' \n",
    "p = re.compile(\"[가-힣][\\w\\s\\d]*\") \n",
    "p.findall(text) "
   ]
  },
  {
   "cell_type": "code",
   "execution_count": 164,
   "id": "713a8a0e-7e67-49d0-9982-e7d2525ed8e4",
   "metadata": {},
   "outputs": [
    {
     "data": {
      "text/plain": [
       "['이른 아침 문을 여는 빵집입니다',\n",
       " '가볍게 아침을 해결하고자 하는 여행자나 현지인은 들러보면 좋을 장소입니다',\n",
       " '참고로 식빵 나오는 시간은 오전시시 입니다']"
      ]
     },
     "execution_count": 164,
     "metadata": {},
     "output_type": "execute_result"
    }
   ],
   "source": [
    "p = re.compile(\"(?<=<p>).+(?=<)\") \n",
    "p.findall(text)"
   ]
  },
  {
   "cell_type": "code",
   "execution_count": 13,
   "id": "a3a03e75-71de-4c61-a78a-5b914876d788",
   "metadata": {},
   "outputs": [],
   "source": [
    "def add_array(n):\n",
    "    array1 =np.array(range(1,n+1))\n",
    "    array2 =np.array(range(1,n+1))\n",
    "    array3= array1+array2\n",
    "    \n",
    "    return array3\n",
    "    "
   ]
  },
  {
   "cell_type": "code",
   "execution_count": 148,
   "id": "f4738e45-d09b-470d-b923-1d8474f58068",
   "metadata": {},
   "outputs": [
    {
     "data": {
      "text/plain": [
       "array([  2,   4,   6,   8,  10,  12,  14,  16,  18,  20,  22,  24,  26,\n",
       "        28,  30,  32,  34,  36,  38,  40,  42,  44,  46,  48,  50,  52,\n",
       "        54,  56,  58,  60,  62,  64,  66,  68,  70,  72,  74,  76,  78,\n",
       "        80,  82,  84,  86,  88,  90,  92,  94,  96,  98, 100, 102, 104,\n",
       "       106, 108, 110, 112, 114, 116, 118, 120, 122, 124, 126, 128, 130,\n",
       "       132, 134, 136, 138, 140, 142, 144, 146, 148, 150, 152, 154, 156,\n",
       "       158, 160, 162, 164, 166, 168, 170, 172, 174, 176, 178, 180, 182,\n",
       "       184, 186, 188, 190, 192, 194, 196, 198, 200])"
      ]
     },
     "execution_count": 148,
     "metadata": {},
     "output_type": "execute_result"
    }
   ],
   "source": [
    "def add_array():\n",
    "    array1 =np.array(range(1,100+1))\n",
    "    array2 =np.array(range(1,100+1))\n",
    "    array3= array1+array2\n",
    "    \n",
    "    return array3\n",
    "\n",
    "add_array()"
   ]
  },
  {
   "cell_type": "code",
   "execution_count": null,
   "id": "4f6c4bd6-7c08-48a3-a919-272beb61e45d",
   "metadata": {},
   "outputs": [],
   "source": []
  },
  {
   "cell_type": "code",
   "execution_count": null,
   "id": "57d29bbd-b704-42e6-a642-a9c52f872467",
   "metadata": {},
   "outputs": [],
   "source": [
    "numpy numerical python  array  배열 \n",
    "2d 이차원 \n",
    "axis 축 2행 3열 (2,3) 액시스 0 y축 2행/액시스 1 x 축 3열\n",
    "3차원 액시스 0 z축 0번 y측 1번  x축2번 \n",
    "배열 차원 shape 하고 튜플로 표시 \n",
    "(3, )- 1차원표현 1 행 표현 \n",
    "매트릭스는 2차원 3차원은 array "
   ]
  },
  {
   "cell_type": "code",
   "execution_count": null,
   "id": "e2c7bccb-bd11-46bb-b146-d5f42265520f",
   "metadata": {},
   "outputs": [],
   "source": [
    "넘파이 빠르다. 정교한 브로드케스팅 반복문 안씀 "
   ]
  },
  {
   "cell_type": "code",
   "execution_count": 40,
   "id": "ac916280-e075-4123-ac11-55e0ae59dd15",
   "metadata": {},
   "outputs": [],
   "source": [
    "import numpy as np"
   ]
  },
  {
   "cell_type": "markdown",
   "id": "25f0191a-ad9a-4dae-8637-3b76d12d483b",
   "metadata": {},
   "source": [
    "# 배열 만들기 "
   ]
  },
  {
   "cell_type": "code",
   "execution_count": null,
   "id": "e622f351-bc53-4a7b-bbcd-e90925a19dd3",
   "metadata": {},
   "outputs": [],
   "source": [
    "a= np.array([1,2,3,4]) #숫자가 두개이상이면 항상 묶음 "
   ]
  },
  {
   "cell_type": "code",
   "execution_count": 15,
   "id": "10a16ba6-8404-4442-ba3f-199507f8b375",
   "metadata": {},
   "outputs": [
    {
     "ename": "NameError",
     "evalue": "name 'a' is not defined",
     "output_type": "error",
     "traceback": [
      "\u001b[1;31m---------------------------------------------------------------------------\u001b[0m",
      "\u001b[1;31mNameError\u001b[0m                                 Traceback (most recent call last)",
      "Input \u001b[1;32mIn [15]\u001b[0m, in \u001b[0;36m<cell line: 1>\u001b[1;34m()\u001b[0m\n\u001b[1;32m----> 1\u001b[0m \u001b[43ma\u001b[49m\u001b[38;5;241m.\u001b[39mshape\n",
      "\u001b[1;31mNameError\u001b[0m: name 'a' is not defined"
     ]
    }
   ],
   "source": [
    "a.shape #1차원중에 4개\n"
   ]
  },
  {
   "cell_type": "code",
   "execution_count": 23,
   "id": "977b7581-7911-43b0-9ef1-cd3dc2cd750e",
   "metadata": {},
   "outputs": [
    {
     "ename": "NameError",
     "evalue": "name 'a' is not defined",
     "output_type": "error",
     "traceback": [
      "\u001b[1;31m---------------------------------------------------------------------------\u001b[0m",
      "\u001b[1;31mNameError\u001b[0m                                 Traceback (most recent call last)",
      "Input \u001b[1;32mIn [23]\u001b[0m, in \u001b[0;36m<cell line: 1>\u001b[1;34m()\u001b[0m\n\u001b[1;32m----> 1\u001b[0m \u001b[38;5;28mprint\u001b[39m(\u001b[43ma\u001b[49m\u001b[38;5;241m.\u001b[39msize)\n",
      "\u001b[1;31mNameError\u001b[0m: name 'a' is not defined"
     ]
    }
   ],
   "source": [
    "print(a.size)"
   ]
  },
  {
   "cell_type": "code",
   "execution_count": null,
   "id": "c8272eb8-719a-46ee-a509-ae1bf1626ff6",
   "metadata": {},
   "outputs": [],
   "source": [
    "print(a.dtype) #데이터 타닙 "
   ]
  },
  {
   "cell_type": "code",
   "execution_count": null,
   "id": "02a2a4ad-3a5d-4cbe-9bc2-04349b1e7632",
   "metadata": {},
   "outputs": [],
   "source": [
    "a= np.array([1,2,3,4.0])\n",
    "a.dtype"
   ]
  },
  {
   "cell_type": "code",
   "execution_count": null,
   "id": "f572c3eb-b27e-4ac3-aa24-a20399fe4d05",
   "metadata": {},
   "outputs": [],
   "source": [
    "a= np.array([1,2,3,4.0], dtype ='int')\n",
    "a.dtype"
   ]
  },
  {
   "cell_type": "code",
   "execution_count": null,
   "id": "1bd6be48-0540-4118-b09b-aba0f6de1061",
   "metadata": {},
   "outputs": [],
   "source": [
    "a= np.array([1,2,3], dtype ='float')\n",
    "a.dtype\n",
    "# 64 float은 8바이트"
   ]
  },
  {
   "cell_type": "code",
   "execution_count": null,
   "id": "8614a8b4-099d-43ac-97e9-e309f5537d85",
   "metadata": {},
   "outputs": [],
   "source": [
    "a= np.array([1,2,3], dtype ='float32')\n",
    "a.dtype # 불필요없는 비트 버림 "
   ]
  },
  {
   "cell_type": "code",
   "execution_count": null,
   "id": "904c9a3b-5951-4ef6-b176-15de04f03ef7",
   "metadata": {},
   "outputs": [],
   "source": [
    "a= np.array([1,2,3], dtype ='float16') # 16이하는 안됨\n"
   ]
  },
  {
   "cell_type": "code",
   "execution_count": null,
   "id": "7be6ef46-62a5-42dd-a401-4c0e72be2ecc",
   "metadata": {},
   "outputs": [],
   "source": [
    "a= np.array([1,2,3], dtype ='int8')"
   ]
  },
  {
   "cell_type": "code",
   "execution_count": null,
   "id": "7bc76686-7dc9-4b11-b4e3-a209028a0a08",
   "metadata": {},
   "outputs": [],
   "source": [
    "uint8 0~255 음수 쓸일 없다."
   ]
  },
  {
   "cell_type": "code",
   "execution_count": null,
   "id": "2662f19e-9af0-48c9-a56d-5a8902e76da3",
   "metadata": {},
   "outputs": [],
   "source": [
    "array 객체속성 3가지  shape, dtype, size \n"
   ]
  },
  {
   "cell_type": "code",
   "execution_count": null,
   "id": "f4de0118-3bb7-49e7-83d3-ecd3732f1715",
   "metadata": {},
   "outputs": [],
   "source": [
    "numpy 데이터 타입 bool, complex number, int, str, list \n"
   ]
  },
  {
   "cell_type": "code",
   "execution_count": null,
   "id": "53d01160-bcdf-4fbe-ba37-d5630a7d7495",
   "metadata": {},
   "outputs": [],
   "source": [
    "list1 =[1,2,3,4]\n",
    "list2 =[1,2,3,4]\n",
    "list3= []\n",
    "for i in range(4): # 반복문은 하나하나 가져옴\n",
    "    list3.append(list1[i]+ list2[i])\n",
    "list3 "
   ]
  },
  {
   "cell_type": "code",
   "execution_count": null,
   "id": "279666be-7e66-4e35-a36b-6877118e7d69",
   "metadata": {},
   "outputs": [],
   "source": [
    "array1 =np.array([1,2,3,4])\n",
    "array2 =np.array([1,2,3,4])"
   ]
  },
  {
   "cell_type": "code",
   "execution_count": null,
   "id": "a802f3b3-944a-4d50-bbea-40722bfd54da",
   "metadata": {},
   "outputs": [],
   "source": [
    "array3 =array1 +array2"
   ]
  },
  {
   "cell_type": "code",
   "execution_count": 44,
   "id": "fbc662a7-9793-4eeb-bea1-4f507b40b855",
   "metadata": {},
   "outputs": [],
   "source": [
    "def add_list(n):\n",
    "    li1 = list(range(1, n+1))\n",
    "    li2 = list(range(1, n+1))\n",
    "    \n",
    "    li3 =[]\n",
    "    for i in range(n):\n",
    "        li3.append(li1[i] +li2[i])\n",
    "        \n",
    "    return li3   "
   ]
  },
  {
   "cell_type": "code",
   "execution_count": 48,
   "id": "d1d33e05-1156-4bef-bf60-819b72e678ce",
   "metadata": {
    "tags": []
   },
   "outputs": [],
   "source": [
    "def add_list():\n",
    "    li1 = list(range(10000))\n",
    "    li2 = list(range(10000))\n",
    "    \n",
    "    li3 =[]\n",
    "    for i in range(10000):\n",
    "        li3.append(li1[i] +li2[i])\n",
    "        \n",
    "    return li3   "
   ]
  },
  {
   "cell_type": "code",
   "execution_count": 33,
   "id": "4da1ed4b-ad31-4d78-acda-a75d96802750",
   "metadata": {},
   "outputs": [
    {
     "data": {
      "text/plain": [
       "[2, 4, 6, 8, 10, 12, 14, 16, 18, 20]"
      ]
     },
     "execution_count": 33,
     "metadata": {},
     "output_type": "execute_result"
    }
   ],
   "source": [
    "add_list(10)"
   ]
  },
  {
   "cell_type": "code",
   "execution_count": 19,
   "id": "a69180f8-8980-47c6-afdd-03046c3f9adf",
   "metadata": {},
   "outputs": [],
   "source": [
    "import timeit"
   ]
  },
  {
   "cell_type": "code",
   "execution_count": 49,
   "id": "b8b8700e-b7e8-4112-9312-aed69a02ebe0",
   "metadata": {},
   "outputs": [
    {
     "data": {
      "text/plain": [
       "array([    0,     2,     4, ..., 19994, 19996, 19998])"
      ]
     },
     "execution_count": 49,
     "metadata": {},
     "output_type": "execute_result"
    }
   ],
   "source": [
    "def add_array():\n",
    "    array1 =np.array(range(10000))\n",
    "    array2 =np.array(range(10000))\n",
    "    array3= array1+array2\n",
    "    return array3\n",
    "\n",
    "add_array()"
   ]
  },
  {
   "cell_type": "code",
   "execution_count": 50,
   "id": "15d7294f-c690-4feb-bf33-24ff0665c307",
   "metadata": {},
   "outputs": [
    {
     "name": "stdout",
     "output_type": "stream",
     "text": [
      "0.11626239999895915\n"
     ]
    }
   ],
   "source": [
    "print(timeit.timeit(add_array, number= 100))"
   ]
  },
  {
   "cell_type": "code",
   "execution_count": 55,
   "id": "e7aaee5c-1ab7-40e2-aa65-672a2375ac00",
   "metadata": {},
   "outputs": [],
   "source": [
    "def add_list():\n",
    "    li1 = list(range(10000))\n",
    "    li2 = list(range(10000))\n",
    "    \n",
    "    li3 =[]\n",
    "    for i in range(10000):\n",
    "        li3.append(li1[i] +li2[i])\n",
    "        \n",
    "    return li3   "
   ]
  },
  {
   "cell_type": "code",
   "execution_count": null,
   "id": "4ba20182-4e13-4398-8b1c-ce9341fd1fd5",
   "metadata": {},
   "outputs": [],
   "source": []
  },
  {
   "cell_type": "code",
   "execution_count": 52,
   "id": "e9510b4b-8732-4a7a-83f7-1f4e05822f5e",
   "metadata": {},
   "outputs": [
    {
     "name": "stdout",
     "output_type": "stream",
     "text": [
      "0.1020398000109708\n"
     ]
    }
   ],
   "source": [
    "print(timeit.timeit(add_list, number =100))"
   ]
  },
  {
   "cell_type": "code",
   "execution_count": 57,
   "id": "b70e1c14-3b13-4297-9b37-d8ea6b53f20e",
   "metadata": {},
   "outputs": [
    {
     "name": "stdout",
     "output_type": "stream",
     "text": [
      "1.1321941000060178\n",
      "0.9075548999971943\n"
     ]
    }
   ],
   "source": [
    "print(timeit.timeit(add_array, number= 1000))\n",
    "print(timeit.timeit(add_list, number =1000))"
   ]
  },
  {
   "cell_type": "markdown",
   "id": "f768bdd8-41c0-4957-9d3b-2d71964a7173",
   "metadata": {},
   "source": [
    "- 2차원 만들기"
   ]
  },
  {
   "cell_type": "code",
   "execution_count": 63,
   "id": "fa86ca1b-e7f0-4055-b324-9c1093a06012",
   "metadata": {},
   "outputs": [
    {
     "data": {
      "text/plain": [
       "array([[1, 2, 3, 4],\n",
       "       [5, 6, 7, 8]])"
      ]
     },
     "execution_count": 63,
     "metadata": {},
     "output_type": "execute_result"
    }
   ],
   "source": [
    "np.array([[1,2,3,4],[5,6,7,8]]) #2차원 중첩리스트"
   ]
  },
  {
   "cell_type": "code",
   "execution_count": 64,
   "id": "cb4aa995-5738-4851-b780-7d88a2b0450e",
   "metadata": {},
   "outputs": [
    {
     "data": {
      "text/plain": [
       "array([0, 1, 2, 3, 4, 5, 6, 7, 8, 9])"
      ]
     },
     "execution_count": 64,
     "metadata": {},
     "output_type": "execute_result"
    }
   ],
   "source": [
    "np.arange(10)"
   ]
  },
  {
   "cell_type": "code",
   "execution_count": 65,
   "id": "37057173-085d-4554-bfad-96c2c06a791e",
   "metadata": {},
   "outputs": [
    {
     "data": {
      "text/plain": [
       "array([[0, 1, 2, 3, 4],\n",
       "       [5, 6, 7, 8, 9]])"
      ]
     },
     "execution_count": 65,
     "metadata": {},
     "output_type": "execute_result"
    }
   ],
   "source": [
    "np.arange(10).reshape(  (2,5)  ) # 2행 5열 쉐이프 2x5니 "
   ]
  },
  {
   "cell_type": "code",
   "execution_count": 66,
   "id": "3264762b-601a-44fd-af12-5de84ff0365a",
   "metadata": {},
   "outputs": [
    {
     "data": {
      "text/plain": [
       "array([[0, 1],\n",
       "       [2, 3],\n",
       "       [4, 5],\n",
       "       [6, 7],\n",
       "       [8, 9]])"
      ]
     },
     "execution_count": 66,
     "metadata": {},
     "output_type": "execute_result"
    }
   ],
   "source": [
    "np.arange(10).reshape(  (5,2)  )"
   ]
  },
  {
   "cell_type": "markdown",
   "id": "eee8bf85-47b3-40af-b9fc-846111f684ba",
   "metadata": {},
   "source": []
  },
  {
   "cell_type": "code",
   "execution_count": 67,
   "id": "16a78d95-16a5-4e9d-9756-ad523256c5a3",
   "metadata": {},
   "outputs": [
    {
     "data": {
      "text/plain": [
       "array([[ 0,  1,  2,  3],\n",
       "       [ 4,  5,  6,  7],\n",
       "       [ 8,  9, 10, 11]])"
      ]
     },
     "execution_count": 67,
     "metadata": {},
     "output_type": "execute_result"
    }
   ],
   "source": [
    "np.arange(12).reshape(3, 4)"
   ]
  },
  {
   "cell_type": "code",
   "execution_count": 68,
   "id": "5d49e3ae-c17b-497b-91fa-90a5e6f59b14",
   "metadata": {},
   "outputs": [
    {
     "data": {
      "text/plain": [
       "array([[ 0,  1,  2,  3],\n",
       "       [ 4,  5,  6,  7],\n",
       "       [ 8,  9, 10, 11]])"
      ]
     },
     "execution_count": 68,
     "metadata": {},
     "output_type": "execute_result"
    }
   ],
   "source": [
    "np.arange(12).reshape(3, -1) # -1은 자동으로 계산"
   ]
  },
  {
   "cell_type": "code",
   "execution_count": 69,
   "id": "e3fcecdc-d5ea-4fad-9586-70bdfd345eac",
   "metadata": {},
   "outputs": [
    {
     "ename": "ValueError",
     "evalue": "cannot reshape array of size 12 into shape (3,)",
     "output_type": "error",
     "traceback": [
      "\u001b[1;31m---------------------------------------------------------------------------\u001b[0m",
      "\u001b[1;31mValueError\u001b[0m                                Traceback (most recent call last)",
      "Input \u001b[1;32mIn [69]\u001b[0m, in \u001b[0;36m<cell line: 1>\u001b[1;34m()\u001b[0m\n\u001b[1;32m----> 1\u001b[0m \u001b[43mnp\u001b[49m\u001b[38;5;241;43m.\u001b[39;49m\u001b[43marange\u001b[49m\u001b[43m(\u001b[49m\u001b[38;5;241;43m12\u001b[39;49m\u001b[43m)\u001b[49m\u001b[38;5;241;43m.\u001b[39;49m\u001b[43mreshape\u001b[49m\u001b[43m(\u001b[49m\u001b[38;5;241;43m3\u001b[39;49m\u001b[43m,\u001b[49m\u001b[43m \u001b[49m\u001b[43m)\u001b[49m\n",
      "\u001b[1;31mValueError\u001b[0m: cannot reshape array of size 12 into shape (3,)"
     ]
    }
   ],
   "source": [
    "np.arange(12).reshape(3, ) # -1은 자동으로 계산"
   ]
  },
  {
   "cell_type": "code",
   "execution_count": 77,
   "id": "169db109-e56d-4bc4-b5c5-d6cdb0706092",
   "metadata": {},
   "outputs": [
    {
     "data": {
      "text/plain": [
       "array([[[ 0,  1,  2,  3],\n",
       "        [ 4,  5,  6,  7],\n",
       "        [ 8,  9, 10, 11]],\n",
       "\n",
       "       [[12, 13, 14, 15],\n",
       "        [16, 17, 18, 19],\n",
       "        [20, 21, 22, 23]]])"
      ]
     },
     "execution_count": 77,
     "metadata": {},
     "output_type": "execute_result"
    }
   ],
   "source": [
    "np.arange(24).reshape(2,3,4) # 3행 4열이 두개 나옴 2가 z축이니까 3이 y/ 4는x\n",
    "# 종이가 2장 겹침 "
   ]
  },
  {
   "cell_type": "code",
   "execution_count": 78,
   "id": "6d4e1576-e2b2-4381-a28e-a24f454d1df2",
   "metadata": {},
   "outputs": [
    {
     "data": {
      "text/plain": [
       "array([[[ 0,  1,  2],\n",
       "        [ 3,  4,  5],\n",
       "        [ 6,  7,  8],\n",
       "        [ 9, 10, 11]],\n",
       "\n",
       "       [[12, 13, 14],\n",
       "        [15, 16, 17],\n",
       "        [18, 19, 20],\n",
       "        [21, 22, 23]],\n",
       "\n",
       "       [[24, 25, 26],\n",
       "        [27, 28, 29],\n",
       "        [30, 31, 32],\n",
       "        [33, 34, 35]]])"
      ]
     },
     "execution_count": 78,
     "metadata": {},
     "output_type": "execute_result"
    }
   ],
   "source": [
    "np.arange(36).reshape(3,4,3)"
   ]
  },
  {
   "cell_type": "code",
   "execution_count": 79,
   "id": "2b9846fc-f144-4b19-a4bb-cf85d34403d0",
   "metadata": {},
   "outputs": [
    {
     "ename": "SyntaxError",
     "evalue": "invalid syntax (1120010251.py, line 1)",
     "output_type": "error",
     "traceback": [
      "\u001b[1;36m  Input \u001b[1;32mIn [79]\u001b[1;36m\u001b[0m\n\u001b[1;33m    element wise 원소들 끼리 계산 가능하다.\u001b[0m\n\u001b[1;37m            ^\u001b[0m\n\u001b[1;31mSyntaxError\u001b[0m\u001b[1;31m:\u001b[0m invalid syntax\n"
     ]
    }
   ],
   "source": [
    "element wise 원소들 끼리 계산 가능하다. \n",
    "리스트 연산은 반복문 돌리지만 넘파이 어레이는 원소 바로 더할 수 있다."
   ]
  },
  {
   "cell_type": "code",
   "execution_count": 83,
   "id": "5710784f-780d-4007-ab83-79dce0b923d3",
   "metadata": {},
   "outputs": [
    {
     "name": "stdout",
     "output_type": "stream",
     "text": [
      "[[1 2]\n",
      " [3 4]]\n",
      "[[5 6]\n",
      " [7 8]]\n",
      "[[ 6  8]\n",
      " [10 12]]\n"
     ]
    },
    {
     "data": {
      "text/plain": [
       "array([[    1,    64],\n",
       "       [ 2187, 65536]])"
      ]
     },
     "execution_count": 83,
     "metadata": {},
     "output_type": "execute_result"
    }
   ],
   "source": [
    "a = np.array([[1,2],[3,4]])\n",
    "b = np.array([[5,6],[7,8]])\n",
    "print(a)\n",
    "print(b)\n",
    "print(a+b)\n",
    "a**b"
   ]
  },
  {
   "cell_type": "code",
   "execution_count": 84,
   "id": "93dac90f-333e-40ea-8aaf-4cb24c2249d1",
   "metadata": {},
   "outputs": [
    {
     "name": "stdout",
     "output_type": "stream",
     "text": [
      "[[1 2]\n",
      " [3 4]]\n"
     ]
    }
   ],
   "source": [
    "print(a)\n",
    "c =np. array([5,6])"
   ]
  },
  {
   "cell_type": "code",
   "execution_count": 86,
   "id": "7089ac4c-de55-4a8f-be08-0255cc5149ea",
   "metadata": {},
   "outputs": [
    {
     "data": {
      "text/plain": [
       "array([[1, 2],\n",
       "       [3, 4]])"
      ]
     },
     "execution_count": 86,
     "metadata": {},
     "output_type": "execute_result"
    }
   ],
   "source": [
    "a"
   ]
  },
  {
   "cell_type": "code",
   "execution_count": 87,
   "id": "23984a78-407e-49ca-a91b-38008dbb2a4f",
   "metadata": {},
   "outputs": [
    {
     "data": {
      "text/plain": [
       "array([5, 6])"
      ]
     },
     "execution_count": 87,
     "metadata": {},
     "output_type": "execute_result"
    }
   ],
   "source": [
    "c "
   ]
  },
  {
   "cell_type": "code",
   "execution_count": 88,
   "id": "05fa0b05-40d8-4631-97cc-e8df70846473",
   "metadata": {},
   "outputs": [
    {
     "data": {
      "text/plain": [
       "array([[ 6,  8],\n",
       "       [ 8, 10]])"
      ]
     },
     "execution_count": 88,
     "metadata": {},
     "output_type": "execute_result"
    }
   ],
   "source": [
    "a+c # 5,6을 자동으로 맞춰서 함 "
   ]
  },
  {
   "cell_type": "code",
   "execution_count": 89,
   "id": "a8570f26-36b3-41c3-9f13-615738134f2a",
   "metadata": {},
   "outputs": [
    {
     "data": {
      "text/plain": [
       "array([[6, 7],\n",
       "       [8, 9]])"
      ]
     },
     "execution_count": 89,
     "metadata": {},
     "output_type": "execute_result"
    }
   ],
   "source": [
    "d =np. array([5])\n",
    "a+d"
   ]
  },
  {
   "cell_type": "code",
   "execution_count": 91,
   "id": "99a5ad79-a73d-44cd-a18f-070fa8f0b0bf",
   "metadata": {},
   "outputs": [
    {
     "data": {
      "text/plain": [
       "array([[6, 7],\n",
       "       [8, 9]])"
      ]
     },
     "execution_count": 91,
     "metadata": {},
     "output_type": "execute_result"
    }
   ],
   "source": [
    "a+5 # 정수 5를 array로 만듬 "
   ]
  },
  {
   "cell_type": "code",
   "execution_count": 92,
   "id": "2cfd78fe-cca3-405d-bb9b-312bcd5cf115",
   "metadata": {},
   "outputs": [
    {
     "ename": "ValueError",
     "evalue": "operands could not be broadcast together with shapes (2,2) (3,) ",
     "output_type": "error",
     "traceback": [
      "\u001b[1;31m---------------------------------------------------------------------------\u001b[0m",
      "\u001b[1;31mValueError\u001b[0m                                Traceback (most recent call last)",
      "Input \u001b[1;32mIn [92]\u001b[0m, in \u001b[0;36m<cell line: 1>\u001b[1;34m()\u001b[0m\n\u001b[1;32m----> 1\u001b[0m \u001b[43ma\u001b[49m\u001b[43m \u001b[49m\u001b[38;5;241;43m+\u001b[39;49m\u001b[43m \u001b[49m\u001b[43mnp\u001b[49m\u001b[38;5;241;43m.\u001b[39;49m\u001b[43marray\u001b[49m\u001b[43m(\u001b[49m\u001b[43m[\u001b[49m\u001b[38;5;241;43m5\u001b[39;49m\u001b[43m,\u001b[49m\u001b[38;5;241;43m6\u001b[39;49m\u001b[43m,\u001b[49m\u001b[38;5;241;43m7\u001b[39;49m\u001b[43m]\u001b[49m\u001b[43m)\u001b[49m\n",
      "\u001b[1;31mValueError\u001b[0m: operands could not be broadcast together with shapes (2,2) (3,) "
     ]
    }
   ],
   "source": [
    "a + np.array([5,6,7])"
   ]
  },
  {
   "cell_type": "code",
   "execution_count": 99,
   "id": "138b209f-dc0d-444d-b1ef-f8482434994c",
   "metadata": {},
   "outputs": [
    {
     "data": {
      "text/plain": [
       "array([[ 6,  7,  8,  9],\n",
       "       [ 9, 10, 11, 12]])"
      ]
     },
     "execution_count": 99,
     "metadata": {},
     "output_type": "execute_result"
    }
   ],
   "source": [
    "f = np.array([[1,2,3,4],[4,5,6,7]])\n",
    "g =np.array([5]) #5가 가로세로 맞춰줘서 늘림\n",
    "f+g             "
   ]
  },
  {
   "cell_type": "code",
   "execution_count": 100,
   "id": "dc6b7e00-92f8-46af-b2b2-9b7bca4e88fa",
   "metadata": {},
   "outputs": [
    {
     "ename": "SyntaxError",
     "evalue": "invalid decimal literal (2225825507.py, line 1)",
     "output_type": "error",
     "traceback": [
      "\u001b[1;36m  Input \u001b[1;32mIn [100]\u001b[1;36m\u001b[0m\n\u001b[1;33m    a[:,1] 행은 전부다 열은 1열 보기\u001b[0m\n\u001b[1;37m                     ^\u001b[0m\n\u001b[1;31mSyntaxError\u001b[0m\u001b[1;31m:\u001b[0m invalid decimal literal\n"
     ]
    }
   ],
   "source": [
    "a[:,1] 행은 전부다 열은 1열 보기 \n",
    "a[1, :] 1행 열 다봄 -1행다보기 = a[1]=a[1,] !=a[,1]"
   ]
  },
  {
   "cell_type": "code",
   "execution_count": 101,
   "id": "95cdbfd2-bef9-45b4-96ec-1b291c7dc8ca",
   "metadata": {},
   "outputs": [
    {
     "ename": "NameError",
     "evalue": "name 'var' is not defined",
     "output_type": "error",
     "traceback": [
      "\u001b[1;31m---------------------------------------------------------------------------\u001b[0m",
      "\u001b[1;31mNameError\u001b[0m                                 Traceback (most recent call last)",
      "Input \u001b[1;32mIn [101]\u001b[0m, in \u001b[0;36m<cell line: 1>\u001b[1;34m()\u001b[0m\n\u001b[1;32m----> 1\u001b[0m \u001b[43mvar\u001b[49m[낮음, 높음, 스텝]\n",
      "\u001b[1;31mNameError\u001b[0m: name 'var' is not defined"
     ]
    }
   ],
   "source": [
    "var[낮음, 높음, 스텝]\n"
   ]
  },
  {
   "cell_type": "code",
   "execution_count": 110,
   "id": "46b8e044-c8b8-404d-b8cb-c92c1056cb42",
   "metadata": {},
   "outputs": [
    {
     "data": {
      "text/plain": [
       "array([ 5, 17])"
      ]
     },
     "execution_count": 110,
     "metadata": {},
     "output_type": "execute_result"
    }
   ],
   "source": [
    "a= np.arange(25).reshape(5,5)\n",
    "a[4,:]\n",
    "a[:,1]\n",
    "a[(1,3), (0,2)]"
   ]
  },
  {
   "cell_type": "code",
   "execution_count": 147,
   "id": "3d32868f-a00a-4e53-8477-baa9693bb689",
   "metadata": {},
   "outputs": [
    {
     "name": "stdout",
     "output_type": "stream",
     "text": [
      "[20 21 22 23 24]\n",
      "[[ 1  3]\n",
      " [ 6  8]\n",
      " [11 13]\n",
      " [16 18]\n",
      " [21 23]]\n",
      "[[ 5  7]\n",
      " [15 17]]\n"
     ]
    }
   ],
   "source": [
    "print(a[4])\n",
    "print(a[:,1::2])\n",
    "print(a[1::2,0: 3 :2]) # 0열에서 3열까지인데 2칸 건너띔"
   ]
  },
  {
   "cell_type": "code",
   "execution_count": 149,
   "id": "449c913d-de89-4af3-a721-b2cfb6ead645",
   "metadata": {},
   "outputs": [
    {
     "data": {
      "text/plain": [
       "array([[ 0,  1,  2,  3,  4],\n",
       "       [ 5,  6,  7,  8,  9],\n",
       "       [10, 11, 12, 13, 14],\n",
       "       [15, 16, 17, 18, 19],\n",
       "       [20, 21, 22, 23, 24]])"
      ]
     },
     "execution_count": 149,
     "metadata": {},
     "output_type": "execute_result"
    }
   ],
   "source": [
    "a= np.arange(25).reshape(5,5)\n",
    "a"
   ]
  },
  {
   "cell_type": "code",
   "execution_count": 150,
   "id": "dc1ffc60-3f30-478a-aefa-f289d08cfa59",
   "metadata": {},
   "outputs": [
    {
     "ename": "SyntaxError",
     "evalue": "invalid syntax (3368840061.py, line 1)",
     "output_type": "error",
     "traceback": [
      "\u001b[1;36m  Input \u001b[1;32mIn [150]\u001b[1;36m\u001b[0m\n\u001b[1;33m    z차원 y행 x열\u001b[0m\n\u001b[1;37m        ^\u001b[0m\n\u001b[1;31mSyntaxError\u001b[0m\u001b[1;31m:\u001b[0m invalid syntax\n"
     ]
    }
   ],
   "source": [
    "z차원 y행 x열"
   ]
  },
  {
   "cell_type": "code",
   "execution_count": 158,
   "id": "9edd91f3-6c68-473b-b438-50e1cf303c55",
   "metadata": {},
   "outputs": [
    {
     "data": {
      "text/plain": [
       "array([[ 5, 12],\n",
       "       [21, 32]])"
      ]
     },
     "execution_count": 158,
     "metadata": {},
     "output_type": "execute_result"
    }
   ],
   "source": [
    "a= np.array([[1,2], [3,4]])\n",
    "b= np.array([[5,6],[7,8]])\n",
    "a*b"
   ]
  },
  {
   "cell_type": "code",
   "execution_count": 152,
   "id": "f034051d-09c3-4ead-a20d-f51c2ee48a2b",
   "metadata": {},
   "outputs": [
    {
     "data": {
      "text/plain": [
       "array([ 5, 12, 21, 32])"
      ]
     },
     "execution_count": 152,
     "metadata": {},
     "output_type": "execute_result"
    }
   ],
   "source": [
    "a= np.array([1,2, 3,4])\n",
    "b= np.array([5,6,7,8])\n",
    "a*b"
   ]
  },
  {
   "cell_type": "code",
   "execution_count": 163,
   "id": "d4f6aaa4-6cf7-4b4f-9978-534d7c135bd7",
   "metadata": {},
   "outputs": [
    {
     "data": {
      "text/plain": [
       "array([[19, 22],\n",
       "       [43, 50]])"
      ]
     },
     "execution_count": 163,
     "metadata": {},
     "output_type": "execute_result"
    }
   ],
   "source": [
    "np.matmul(a,b)"
   ]
  },
  {
   "cell_type": "code",
   "execution_count": 160,
   "id": "4e1d53bb-bfef-4609-8ebf-592ae67397ec",
   "metadata": {},
   "outputs": [
    {
     "data": {
      "text/plain": [
       "array([[19, 22],\n",
       "       [43, 50]])"
      ]
     },
     "execution_count": 160,
     "metadata": {},
     "output_type": "execute_result"
    }
   ],
   "source": [
    "a@b "
   ]
  },
  {
   "cell_type": "code",
   "execution_count": 162,
   "id": "296dd0df-a05e-4f35-bf83-7e34a0ff7e7e",
   "metadata": {},
   "outputs": [
    {
     "data": {
      "text/plain": [
       "array([[19, 22],\n",
       "       [43, 50]])"
      ]
     },
     "execution_count": 162,
     "metadata": {},
     "output_type": "execute_result"
    }
   ],
   "source": [
    "np.dot(a,b)"
   ]
  },
  {
   "cell_type": "code",
   "execution_count": 165,
   "id": "91dd5a98-a72b-4b1b-bad3-424f887d5234",
   "metadata": {},
   "outputs": [
    {
     "name": "stdout",
     "output_type": "stream",
     "text": [
      "[[21 23 25]\n",
      " [41 43 45]]\n"
     ]
    }
   ],
   "source": [
    "import numpy as np \n",
    "\n",
    "a= np.arange(50).reshape(5,10)\n",
    "\n",
    "print(a[2:5:2, 1:6:2])"
   ]
  },
  {
   "cell_type": "code",
   "execution_count": null,
   "id": "40b57197-b26e-4950-8460-ac12921dd999",
   "metadata": {},
   "outputs": [],
   "source": []
  }
 ],
 "metadata": {
  "kernelspec": {
   "display_name": "Python 3 (ipykernel)",
   "language": "python",
   "name": "python3"
  },
  "language_info": {
   "codemirror_mode": {
    "name": "ipython",
    "version": 3
   },
   "file_extension": ".py",
   "mimetype": "text/x-python",
   "name": "python",
   "nbconvert_exporter": "python",
   "pygments_lexer": "ipython3",
   "version": "3.9.12"
  }
 },
 "nbformat": 4,
 "nbformat_minor": 5
}
