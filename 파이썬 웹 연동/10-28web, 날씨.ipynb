{
 "cells": [
  {
   "cell_type": "markdown",
   "id": "96ca03fc-c6cf-4f03-b19b-f994d86f94b7",
   "metadata": {},
   "source": [
    "# 정리"
   ]
  },
  {
   "cell_type": "code",
   "execution_count": null,
   "id": "5c4a3012-ae16-47fa-949f-90c188a4c42f",
   "metadata": {},
   "outputs": [],
   "source": [
    "1. text를 뽑아내려고 합니다.  (____)를 완성해주세요.\n",
    "\n",
    "soup.select('dl.mileage_section1 > dd> span')(_____)\n",
    "soup.select_one('dl.mileage_section2 > dd')(_____)\n",
    "\n",
    "답 : \n",
    "    \n",
    "[0].get_text()\n",
    ".text\n",
    "\n",
    "---------------------------------------------------\n",
    "\n",
    "e=driver.find_elements(By.CLASS_NAME, \"input_text\") \n",
    "\n",
    "2. 아이디와 비밀번호의 class 명이 \"input_text\"로 같을 떄 아이디 = 'a' 와 비밀번호 = 'b' 를 각각 입력해주세요.\n",
    "\n",
    "답 : \n",
    "    \n",
    "e[0].clear()\n",
    "e[0].send_keys(\"a\")\n",
    "e[1].clear()\n",
    "e[1].send_keys(\"b\")\n",
    "\n",
    "\n",
    "----------------------------------------------------\n",
    "import requests\n",
    "from bs4 import BeautifulSoup\n",
    "\n",
    "url = \"https://ko.wikipedia.org/wiki/%EB%8C%80%ED%95%9C%EB%AF%BC%EA%B5%AD%EC%9D%98_%EB%8C%80%ED%86%B5%EB%A0%B9_%EB%AA%A9%EB%A1%9D\"\n",
    "html =requests.get(url).text # 네이버 \n",
    "soup = BeautifulSoup(html, 'html.parser')\n",
    "names = soup.select('td:nth-child(3) > b > a') \n",
    "\n",
    "\n",
    "3. 위의 코드를 활용하여 각 대통령의 이름만 출력해주세요.\n",
    "\n",
    "import requests\n",
    "from bs4 import BeautifulSoup\n",
    "\n",
    "답 : \n",
    "    \n",
    "[name.attrs['title'] for name in names]\n",
    "\n",
    "\n",
    "\n",
    "\n",
    "# 다른 이가 한것 \n",
    "\n",
    "driver = \n",
    "webdriver.Chrome\n",
    "(\"chromedriver.exe\")\n",
    "# driver.get('https://www.daum.net/')\n",
    "\n",
    "header = {\"User-Agent\" : \"Mozilla/5.0 (Windows NT 10.0; Win64; x64; rv:106.0) Gecko/20100101 Firefox/106.0\"}\n",
    "\n",
    "driver.get('https://nid.naver.com/nidlogin.login?mode=form&url=https%3A%2F%2Fwww.naver.com')\n",
    "\n",
    "# ID 창에 ID 입력하기\n",
    "from selenium.webdriver.common.by import By\n",
    "driver.find_element(By.ID, 'id').send_keys(\"choongang402\") \n",
    "\n",
    "from selenium.webdriver.common.keys import Keys\n",
    "\n",
    "e=driver.find_elements(By.CLASS_NAME, \"input_text\") # 엘리맨츠s라서 두개가 생성\n",
    "e[1].clear()\n",
    "e[1].send_keys(\"a\")\n",
    "e[1].send_keys(Keys.ENTER)"
   ]
  },
  {
   "cell_type": "code",
   "execution_count": 1,
   "id": "a248a2a5-1460-45a6-a759-58570191e205",
   "metadata": {},
   "outputs": [],
   "source": [
    "# 복습문제"
   ]
  },
  {
   "cell_type": "code",
   "execution_count": null,
   "id": "7319ca99-3d78-4017-b019-6c1347e06f8f",
   "metadata": {},
   "outputs": [],
   "source": [
    "다음 빈칸에 알맞은 라이브러리명을 적으세요 \n",
    "requests, urllib.request는 HTTP 요청을 보낼 수 있도록 기능을 제공하는 라이브러리이다.\n",
    "\n",
    "Beatifulsoup은 웹페이지의 정보를 쉽게 스크랩할 수 있도록 기능을 제공하는 라이브러리이다. \n",
    "\n",
    "URL 처리 시 한글이 포함되어 있는 경우 한글을 잘 인식하도록 해주는 함수는 무엇인가요?\n",
    "quote_plus\n",
    "\n",
    "()동적으로 변한느 웹 페이지의 데이터들까지 설정하여 크롤링할 수 있다. - webdriver \n",
    "\n",
    "driver =webdriver.Chrome('chromedriver.exe')\n",
    "driver.get(url)\n",
    "time.sleep(5)\n",
    "html=driver.page_source\n",
    "soup=BeautifulSoup(html, 'html.parser')\n",
    "images = soup.find_all(class_ = '_image _listImage')\n",
    "\n",
    "로봇으로 요청을 했을 경우, 정보를 주지 않는 곳도 있다. \n",
    "웹브라우저 정보를 header에 담아보낸다. 정보는{\"User-Agent\": }\n",
    "\n",
    "requests.urlopen(url).read()\n",
    "requests.get(url).text\n",
    "\n",
    "html : hypertext markup language \n",
    "\n",
    "HTML에서 페이지 이동시 url, 에 데이터를 포함하여 전달해서 쓰는 방식을 (get  )방식. -\n",
    "\n",
    "\n",
    "images=soup.find_all(class=\"_image _listImage\") 를 수정해 주세요 . \n",
    "\n",
    "images=soup.find_all(class_=\"_image _listImage\")\n",
    "\n",
    "\n",
    "soup.find_all(class_ = 'tit_main fn_tit_u')\n",
    "soup.select('.tit_main.fn_tit_u')\n",
    "soup.select(\"#newsColl > div.cont_divider > ul \")\n",
    "\n",
    "\n"
   ]
  },
  {
   "cell_type": "code",
   "execution_count": 1,
   "id": "33b88255-9cbd-413f-b0b1-002df32a376c",
   "metadata": {},
   "outputs": [],
   "source": [
    "from urllib import request\n",
    "from bs4 import BeautifulSoup\n",
    "import requests\n",
    "from urllib.request import urlopen, urlretrieve\n",
    "from urllib.parse import quote_plus\n",
    "import selenium\n",
    "from selenium import webdriver #webdriver 구글 서치 후 다운"
   ]
  },
  {
   "cell_type": "markdown",
   "id": "9472b868-d40f-46ef-8989-ca35614d4110",
   "metadata": {},
   "source": [
    "## 역대 대통령 이름 뽑기 "
   ]
  },
  {
   "cell_type": "code",
   "execution_count": 53,
   "id": "366e1e82-3eb6-4517-bb29-77c71ef8eb7c",
   "metadata": {},
   "outputs": [
    {
     "data": {
      "text/plain": [
       "[]"
      ]
     },
     "execution_count": 53,
     "metadata": {},
     "output_type": "execute_result"
    }
   ],
   "source": [
    "url = \"https://ko.wikipedia.org/wiki/%EB%8C%80%ED%95%9C%EB%AF%BC%EA%B5%AD%EC%9D%98_%EB%8C%80%ED%86%B5%EB%A0%B9_%EB%AA%A9%EB%A1%9D\"\n",
    "html =requests.get(url).text # 네이버 \n",
    "url2=quote_plus(\"\")\n",
    "soup=BeautifulSoup(html,  'html.parser')\n",
    "title = soup.find_all(class_ = \"title=\")\n",
    "title \n",
    "# 이건 안됨 "
   ]
  },
  {
   "cell_type": "code",
   "execution_count": 54,
   "id": "d4927c83-f581-41a8-bad2-64eef079802c",
   "metadata": {
    "collapsed": true,
    "jupyter": {
     "outputs_hidden": true
    },
    "tags": []
   },
   "outputs": [
    {
     "data": {
      "text/plain": [
       "'<!DOCTYPE html>\\n<html class=\"client-nojs\" lang=\"ko\" dir=\"ltr\">\\n<head>\\n<meta charset=\"UTF-8\"/>\\n<title>대한민국의 대통령 목록 - 위키백과, 우리 모두의 백과사전</title>\\n<script>document.documentElement.className=\"client-js\";RLCONF={\"wgBreakFrames\":false,\"wgSeparatorTransformTable\":[\"\",\"\"],\"wgDigitTransformTable\":[\"\",\"\"],\"wgDefaultDateFormat\":\"ko\",\"wgMonthNames\":[\"\",\"1월\",\"2월\",\"3월\",\"4월\",\"5월\",\"6월\",\"7월\",\"8월\",\"9월\",\"10월\",\"11월\",\"12월\"],\"wgRequestId\":\"c8c45647-d6c8-4b17-b85b-ffc38642de13\",\"wgCSPNonce\":false,\"wgCanonicalNamespace\":\"\",\"wgCanonicalSpecialPageName\":false,\"wgNamespaceNumber\":0,\"wgPageName\":\"대한민국의_대통령_목록\",\"wgTitle\":\"대한민국의 대통령 목록\",\"wgCurRevisionId\":33430829,\"wgRevisionId\":33430829,\"wgArticleId\":319386,\"wgIsArticle\":true,\"wgIsRedirect\":false,\"wgAction\":\"view\",\"wgUserName\":null,\"wgUserGroups\":[\"*\"],\"wgCategories\":[\"타임라인을 사용하는 문서\",\"위키데이터 속성 P373을 사용하는 문서\",\"준보호 문서\",\"대한민국의 대통령\",\"대한민국 정치에 관한 목록\",\"대통령 목록\",\"대한민국 사람 목록\"],\"wgPageContentLanguage\":\"ko\",\"wgPageContentModel\":\"wikitext\",\\n\"wgRelevantPageName\":\"대한민국의_대통령_목록\",\"wgRelevantArticleId\":319386,\"wgIsProbablyEditable\":false,\"wgRelevantPageIsProbablyEditable\":false,\"wgRestrictionEdit\":[\"autoconfirmed\"],\"wgRestrictionMove\":[\"autoconfirmed\"],\"wgVisualEditor\":{\"pageLanguageCode\":\"ko\",\"pageLanguageDir\":\"ltr\",\"pageVariantFallbacks\":\"ko\"},\"wgMFDisplayWikibaseDescriptions\":{\"search\":true,\"watchlist\":true,\"tagline\":true,\"nearby\":true},\"wgWMESchemaEditAttemptStepOversample\":false,\"wgWMEPageLength\":10000,\"wgNoticeProject\":\"wikipedia\",\"wgVector2022PreviewPages\":[],\"wgMediaViewerOnClick\":true,\"wgMediaViewerEnabledByDefault\":true,\"wgPopupsFlags\":10,\"wgULSCurrentAutonym\":\"한국어\",\"wgEditSubmitButtonLabelPublish\":true,\"wgCentralAuthMobileDomain\":false,\"wgULSPosition\":\"interlanguage\",\"wgULSisCompactLinksEnabled\":true,\"wgWikibaseItemId\":\"Q498932\",\"GEHomepageSuggestedEditsEnableTopics\":true,\"wgGETopicsMatchModeEnabled\":false,\"wgGEStructuredTaskRejectionReasonTextInputEnabled\":false};RLSTATE={\\n\"skins.vector.user.styles\":\"ready\",\"ext.gadget.SectionFont\":\"ready\",\"ext.globalCssJs.user.styles\":\"ready\",\"site.styles\":\"ready\",\"user.styles\":\"ready\",\"skins.vector.user\":\"ready\",\"ext.globalCssJs.user\":\"ready\",\"user\":\"ready\",\"user.options\":\"loading\",\"ext.cite.styles\":\"ready\",\"ext.timeline.styles\":\"ready\",\"mediawiki.ui.button\":\"ready\",\"skins.vector.styles\":\"ready\",\"skins.vector.icons\":\"ready\",\"mediawiki.ui.icon\":\"ready\",\"jquery.tablesorter.styles\":\"ready\",\"jquery.makeCollapsible.styles\":\"ready\",\"ext.visualEditor.desktopArticleTarget.noscript\":\"ready\",\"ext.wikimediaBadges\":\"ready\",\"ext.uls.interlanguage\":\"ready\",\"wikibase.client.init\":\"ready\"};RLPAGEMODULES=[\"ext.cite.ux-enhancements\",\"site\",\"mediawiki.page.ready\",\"jquery.tablesorter\",\"jquery.makeCollapsible\",\"mediawiki.toc\",\"skins.vector.js\",\"skins.vector.es6\",\"mmv.head\",\"mmv.bootstrap.autostart\",\"ext.visualEditor.desktopArticleTarget.init\",\"ext.visualEditor.targetLoader\",\"ext.eventLogging\",\"ext.wikimediaEvents\",\"ext.navigationTiming\",\\n\"ext.cx.eventlogging.campaigns\",\"ext.centralNotice.geoIP\",\"ext.centralNotice.startUp\",\"ext.gadget.directcommons\",\"ext.gadget.ReferenceTooltips\",\"ext.gadget.edittools\",\"ext.gadget.refToolbar\",\"ext.gadget.siteNotice\",\"ext.gadget.scrollUpButton\",\"ext.gadget.strikethroughTOC\",\"ext.gadget.switcher\",\"ext.centralauth.centralautologin\",\"ext.popups\",\"ext.uls.compactlinks\",\"ext.uls.interface\",\"ext.cx.uls.quick.actions\",\"ext.growthExperiments.SuggestedEditSession\"];</script>\\n<script>(RLQ=window.RLQ||[]).push(function(){mw.loader.implement(\"user.options@12s5i\",function($,jQuery,require,module){mw.user.tokens.set({\"patrolToken\":\"+\\\\\\\\\",\"watchToken\":\"+\\\\\\\\\",\"csrfToken\":\"+\\\\\\\\\"});});});</script>\\n<link rel=\"stylesheet\" href=\"/w/load.php?lang=ko&amp;modules=ext.cite.styles%7Cext.timeline.styles%7Cext.uls.interlanguage%7Cext.visualEditor.desktopArticleTarget.noscript%7Cext.wikimediaBadges%7Cjquery.makeCollapsible.styles%7Cjquery.tablesorter.styles%7Cmediawiki.ui.button%2Cicon%7Cskins.vector.icons%2Cstyles%7Cwikibase.client.init&amp;only=styles&amp;skin=vector-2022\"/>\\n<script async=\"\" src=\"/w/load.php?lang=ko&amp;modules=startup&amp;only=scripts&amp;raw=1&amp;skin=vector-2022\"></script>\\n<meta name=\"ResourceLoaderDynamicStyles\" content=\"\"/>\\n<link rel=\"stylesheet\" href=\"/w/load.php?lang=ko&amp;modules=ext.gadget.SectionFont&amp;only=styles&amp;skin=vector-2022\"/>\\n<link rel=\"stylesheet\" href=\"/w/load.php?lang=ko&amp;modules=site.styles&amp;only=styles&amp;skin=vector-2022\"/>\\n<meta name=\"generator\" content=\"MediaWiki 1.40.0-wmf.6\"/>\\n<meta name=\"referrer\" content=\"origin\"/>\\n<meta name=\"referrer\" content=\"origin-when-crossorigin\"/>\\n<meta name=\"referrer\" content=\"origin-when-cross-origin\"/>\\n<meta name=\"robots\" content=\"max-image-preview:standard\"/>\\n<meta name=\"format-detection\" content=\"telephone=no\"/>\\n<meta name=\"viewport\" content=\"width=1000\"/>\\n<meta property=\"og:title\" content=\"대한민국의 대통령 목록 - 위키백과, 우리 모두의 백과사전\"/>\\n<meta property=\"og:type\" content=\"website\"/>\\n<link rel=\"preconnect\" href=\"//upload.wikimedia.org\"/>\\n<link rel=\"alternate\" media=\"only screen and (max-width: 720px)\" href=\"//ko.m.wikipedia.org/wiki/%EB%8C%80%ED%95%9C%EB%AF%BC%EA%B5%AD%EC%9D%98_%EB%8C%80%ED%86%B5%EB%A0%B9_%EB%AA%A9%EB%A1%9D\"/>\\n<link rel=\"apple-touch-icon\" href=\"/static/apple-touch/wikipedia.png\"/>\\n<link rel=\"icon\" href=\"/static/favicon/wikipedia.ico\"/>\\n<link rel=\"search\" type=\"application/opensearchdescription+xml\" href=\"/w/opensearch_desc.php\" title=\"위키백과 (ko)\"/>\\n<link rel=\"EditURI\" type=\"application/rsd+xml\" href=\"//ko.wikipedia.org/w/api.php?action=rsd\"/>\\n<link rel=\"license\" href=\"https://creativecommons.org/licenses/by-sa/3.0/\"/>\\n<link rel=\"canonical\" href=\"https://ko.wikipedia.org/wiki/%EB%8C%80%ED%95%9C%EB%AF%BC%EA%B5%AD%EC%9D%98_%EB%8C%80%ED%86%B5%EB%A0%B9_%EB%AA%A9%EB%A1%9D\"/>\\n<link rel=\"dns-prefetch\" href=\"//meta.wikimedia.org\" />\\n<link rel=\"dns-prefetch\" href=\"//login.wikimedia.org\"/>\\n</head>\\n<body class=\"skin-vector skin-vector-search-vue vector-toc-not-collapsed mediawiki ltr sitedir-ltr mw-hide-empty-elt ns-0 ns-subject page-대한민국의_대통령_목록 rootpage-대한민국의_대통령_목록 skin-vector-2022 action-view vector-feature-language-in-header-enabled vector-feature-language-in-main-page-header-disabled vector-feature-language-alert-in-sidebar-enabled vector-feature-sticky-header-disabled vector-feature-sticky-header-edit-disabled vector-feature-table-of-contents-legacy-toc-disabled vector-feature-visual-enhancement-next-disabled vector-feature-article-tools-disabled\"><div class=\"mw-page-container\">\\n\\t<a class=\"mw-jump-link\" href=\"#bodyContent\">본문으로 이동</a>\\n\\t<div class=\"mw-page-container-inner\">\\n\\t\\t<input\\n\\t\\t\\ttype=\"checkbox\"\\n\\t\\t\\tid=\"mw-sidebar-checkbox\"\\n\\t\\t\\tclass=\"mw-checkbox-hack-checkbox\"\\n\\t\\t\\t>\\n\\t\\t<header class=\"mw-header\">\\n\\t\\t\\t<div class=\"mw-header-aside\">\\n\\t\\t\\t<label\\n\\t\\t\\t\\tid=\"mw-sidebar-button\"\\n\\t\\t\\t\\tclass=\"mw-checkbox-hack-button mw-ui-icon mw-ui-button mw-ui-quiet mw-ui-icon-element\"\\n\\t\\t\\t\\tfor=\"mw-sidebar-checkbox\"\\n\\t\\t\\t\\trole=\"button\"\\n\\t\\t\\t\\taria-controls=\"mw-panel\"\\n\\t\\t\\t\\tdata-event-name=\"ui.sidebar\"\\n\\t\\t\\t\\ttabindex=\"0\"\\n\\t\\t\\t\\ttitle=\"주 메뉴\">\\n\\t\\t\\t\\t<span>사이드바 토글</span>\\n\\t\\t\\t</label>\\n\\t\\t\\t\\n<a href=\"/wiki/%EC%9C%84%ED%82%A4%EB%B0%B1%EA%B3%BC:%EB%8C%80%EB%AC%B8\" class=\"mw-logo\">\\n\\t<img class=\"mw-logo-icon\" src=\"/static/images/icons/wikipedia.png\" alt=\"\"\\n\\t\\taria-hidden=\"true\" height=\"50\" width=\"50\">\\n\\t<span class=\"mw-logo-container\">\\n\\t\\t<img class=\"mw-logo-wordmark\" alt=\"위키백과\"\\n\\t\\t\\tsrc=\"/static/images/mobile/copyright/wikipedia-wordmark-ko.svg\" style=\"width: 6.625em; height: 1.5625em;\">\\n\\t\\t<img class=\"mw-logo-tagline\"\\n\\t\\t\\talt=\"\"\\n\\t\\t\\tsrc=\"/static/images/mobile/copyright/wikipedia-tagline-ko.svg\" width=\"106\" height=\"11\" style=\"width: 6.625em; height: 0.6875em;\">\\n\\t</span>\\n</a>\\n\\n\\t\\t\\t</div>\\n\\t\\t\\t<div class=\"mw-header-content\">\\n\\t\\t\\t\\n<div id=\"p-search\" role=\"search\" class=\"vector-search-box-vue  vector-search-box-collapses  vector-search-box-show-thumbnail vector-search-box-auto-expand-width vector-search-box\">\\n\\t<a href=\"/wiki/%ED%8A%B9%EC%88%98:%EA%B2%80%EC%83%89\"\\n\\t\\n\\t\\t\\n\\t\\t\\n\\t\\t\\n\\t\\ttitle=\"위키백과 검색 [f]\"\\n\\t\\taccesskey=\"f\"\\n\\t\\tclass=\"mw-ui-button mw-ui-quiet mw-ui-icon mw-ui-icon-element mw-ui-icon-wikimedia-search search-toggle\">\\n\\t\\t<span>검색</span>\\n\\t</a>\\n\\t\\n\\t<div>\\n\\t\\t<form action=\"/w/index.php\" id=\"searchform\"\\n\\t\\t\\tclass=\"vector-search-box-form\">\\n\\t\\t\\t<div id=\"simpleSearch\"\\n\\t\\t\\t\\tclass=\"vector-search-box-inner\"\\n\\t\\t\\t\\t data-search-loc=\"header-moved\">\\n\\t\\t\\t\\t<input class=\"vector-search-box-input\"\\n\\t\\t\\t\\t\\t type=\"search\" name=\"search\" placeholder=\"위키백과 검색\" aria-label=\"위키백과 검색\" autocapitalize=\"sentences\" title=\"위키백과 검색 [f]\" accesskey=\"f\" id=\"searchInput\"\\n\\t\\t\\t\\t>\\n\\t\\t\\t\\t<input type=\"hidden\" name=\"title\" value=\"특수:검색\">\\n\\t\\t\\t\\t<input id=\"mw-searchButton\"\\n\\t\\t\\t\\t\\t class=\"searchButton mw-fallbackSearchButton\" type=\"submit\" name=\"fulltext\" title=\"이 문자열이 포함된 문서 검색\" value=\"검색\">\\n\\t\\t\\t\\t<input id=\"searchButton\"\\n\\t\\t\\t\\t\\t class=\"searchButton\" type=\"submit\" name=\"go\" title=\"이 이름의 문서가 존재하면 그 문서로 바로 가기\" value=\"보기\">\\n\\t\\t\\t</div>\\n\\t\\t</form>\\n\\t</div>\\n</div>\\n\\n\\t\\t\\t<nav class=\"vector-user-links\" aria-label=\"개인 도구\" role=\"navigation\" >\\n\\t\\n\\n<div id=\"p-vector-user-menu-overflow\" class=\"vector-menu mw-portlet mw-portlet-vector-user-menu-overflow vector-user-menu-overflow\"  >\\n\\t<div class=\"vector-menu-content\">\\n\\t\\t\\n\\t\\t<ul class=\"vector-menu-content-list\"><li id=\"pt-createaccount-2\" class=\"user-links-collapsible-item mw-list-item\"><a href=\"/w/index.php?title=%ED%8A%B9%EC%88%98:%EA%B3%84%EC%A0%95%EB%A7%8C%EB%93%A4%EA%B8%B0&amp;returnto=%EB%8C%80%ED%95%9C%EB%AF%BC%EA%B5%AD%EC%9D%98+%EB%8C%80%ED%86%B5%EB%A0%B9+%EB%AA%A9%EB%A1%9D\" title=\"계정을 만들고 로그인하는 것이 좋습니다. 하지만 필수는 아닙니다\"><span>계정 만들기</span></a></li></ul>\\n\\t\\t\\n\\t</div>\\n</div>\\n\\n\\t\\n\\n<div id=\"p-personal\" class=\"vector-menu mw-portlet mw-portlet-personal vector-user-menu vector-user-menu-logged-out vector-menu-dropdown\"  title=\"더 많은 옵션\" >\\n\\t<input type=\"checkbox\"\\n\\t\\tid=\"p-personal-checkbox\"\\n\\t\\trole=\"button\"\\n\\t\\taria-haspopup=\"true\"\\n\\t\\tdata-event-name=\"ui.dropdown-p-personal\"\\n\\t\\tclass=\"vector-menu-checkbox\"\\n\\t\\t\\n\\t\\t\\n\\t/>\\n\\t<label\\n\\t\\tid=\"p-personal-label\"\\n\\t\\tfor=\"p-personal-checkbox\"\\n\\t\\tclass=\"vector-menu-heading mw-ui-button mw-ui-quiet mw-ui-icon mw-ui-icon-element mw-ui-icon-ellipsis mw-ui-icon-wikimedia-ellipsis\"\\n\\t\\t\\n\\t>\\n\\t\\t<span class=\"vector-menu-heading-label\">개인 도구</span>\\n\\t</label>\\n\\t<div class=\"vector-menu-content\">\\n\\t\\t<div class=\"vector-user-menu-create-account\"><a href=\"/w/index.php?title=%ED%8A%B9%EC%88%98:%EA%B3%84%EC%A0%95%EB%A7%8C%EB%93%A4%EA%B8%B0&amp;returnto=%EB%8C%80%ED%95%9C%EB%AF%BC%EA%B5%AD%EC%9D%98+%EB%8C%80%ED%86%B5%EB%A0%B9+%EB%AA%A9%EB%A1%9D\" class=\"vector-menu-content-item user-links-collapsible-item\" title=\"계정을 만들고 로그인하는 것이 좋습니다. 하지만 필수는 아닙니다\"><span class=\"mw-ui-icon mw-ui-icon-userAdd mw-ui-icon-wikimedia-userAdd\"></span> <span>계정 만들기</span></a></div>\\n<div class=\"vector-user-menu-login\"><a href=\"/w/index.php?title=%ED%8A%B9%EC%88%98:%EB%A1%9C%EA%B7%B8%EC%9D%B8&amp;returnto=%EB%8C%80%ED%95%9C%EB%AF%BC%EA%B5%AD%EC%9D%98+%EB%8C%80%ED%86%B5%EB%A0%B9+%EB%AA%A9%EB%A1%9D\" class=\"vector-menu-content-item vector-menu-content-item-login\" title=\"위키백과에 로그인하면 여러가지 편리한 기능을 사용할 수 있습니다. [o]\" accesskey=\"o\"><span class=\"mw-ui-icon mw-ui-icon-logIn mw-ui-icon-wikimedia-logIn\"></span> <span>로그인</span></a></div>\\n<div class=\"vector-user-menu-anon-editor\">\\n\\t<p>\\n\\t\\t로그아웃한 편집자를 위한 문서 <a href=\"/wiki/%EB%8F%84%EC%9B%80%EB%A7%90:%EC%86%8C%EA%B0%9C\" aria-label=\"편집에 관해 더 알아보기\"><span>더 알아보기</span></a>\\n\\t</p>\\n</div>\\n\\n\\t\\t<ul class=\"vector-menu-content-list\"><li id=\"pt-anontalk\" class=\"mw-list-item\"><a href=\"/wiki/%ED%8A%B9%EC%88%98:%EB%82%B4%EC%82%AC%EC%9A%A9%EC%9E%90%ED%86%A0%EB%A1%A0\" title=\"현재 사용하는 IP 주소에 대한 토론 문서 [n]\" accesskey=\"n\"><span>토론</span></a></li><li id=\"pt-anoncontribs\" class=\"mw-list-item\"><a href=\"/wiki/%ED%8A%B9%EC%88%98:%EB%82%B4%EA%B8%B0%EC%97%AC\" title=\"이 IP 주소의 편집 목록 [y]\" accesskey=\"y\"><span>기여</span></a></li></ul>\\n\\t\\t\\n\\t</div>\\n</div>\\n\\n</nav>\\n\\n\\t\\t\\t</div>\\n\\t\\t</header>\\n\\t\\t<div class=\"vector-sidebar-container \">\\n\\t\\t\\t<div id=\"mw-navigation\">\\n\\t\\t\\t\\t\\n\\n<nav id=\"mw-panel\" class=\"mw-sidebar\" aria-label=\"사이트\" role=\"navigation\">\\n\\t\\n\\n<div id=\"p-navigation\" class=\"vector-menu mw-portlet mw-portlet-navigation vector-menu-portal portal\"  >\\n\\t<div\\n\\t\\tid=\"p-navigation-label\"\\n\\t\\tclass=\"vector-menu-heading \"\\n\\t\\t\\n\\t>\\n\\t\\t<span class=\"vector-menu-heading-label\">둘러보기</span>\\n\\t</div>\\n\\t<div class=\"vector-menu-content\">\\n\\t\\t\\n\\t\\t<ul class=\"vector-menu-content-list\"><li id=\"n-mainpage-description\" class=\"mw-list-item\"><a href=\"/wiki/%EC%9C%84%ED%82%A4%EB%B0%B1%EA%B3%BC:%EB%8C%80%EB%AC%B8\" title=\"대문으로 가기 [z]\" accesskey=\"z\"><span>대문</span></a></li><li id=\"n-recentchanges\" class=\"mw-list-item\"><a href=\"/wiki/%ED%8A%B9%EC%88%98:%EC%B5%9C%EA%B7%BC%EB%B0%94%EB%80%9C\" title=\"위키의 최근 바뀐 목록 [r]\" accesskey=\"r\"><span>최근 바뀜</span></a></li><li id=\"n-currentevents\" class=\"mw-list-item\"><a href=\"/wiki/%ED%8F%AC%ED%84%B8:%EC%9A%94%EC%A6%98_%ED%99%94%EC%A0%9C\" title=\"최근의 소식 알아 보기\"><span>요즘 화제</span></a></li><li id=\"n-randompage\" class=\"mw-list-item\"><a href=\"/wiki/%ED%8A%B9%EC%88%98:%EC%9E%84%EC%9D%98%EB%AC%B8%EC%84%9C\" title=\"무작위로 선택된 문서 불러오기 [x]\" accesskey=\"x\"><span>임의의 문서로</span></a></li><li id=\"n-sitesupport\" class=\"mw-list-item\"><a href=\"//donate.wikimedia.org/wiki/Special:FundraiserRedirector?utm_source=donate&amp;utm_medium=sidebar&amp;utm_campaign=C13_ko.wikipedia.org&amp;uselang=ko\" title=\"지원을 기다립니다\"><span>기부</span></a></li></ul>\\n\\t\\t\\n\\t</div>\\n</div>\\n\\n\\t\\n\\t\\n\\n<div id=\"p-사용자_모임\" class=\"vector-menu mw-portlet mw-portlet-사용자_모임 vector-menu-portal portal\"  >\\n\\t<div\\n\\t\\tid=\"p-사용자_모임-label\"\\n\\t\\tclass=\"vector-menu-heading \"\\n\\t\\t\\n\\t>\\n\\t\\t<span class=\"vector-menu-heading-label\">사용자 모임</span>\\n\\t</div>\\n\\t<div class=\"vector-menu-content\">\\n\\t\\t\\n\\t\\t<ul class=\"vector-menu-content-list\"><li id=\"n-projectchat\" class=\"mw-list-item\"><a href=\"/wiki/%EC%9C%84%ED%82%A4%EB%B0%B1%EA%B3%BC:%EC%82%AC%EB%9E%91%EB%B0%A9\"><span>사랑방</span></a></li><li id=\"n-portal\" class=\"mw-list-item\"><a href=\"/wiki/%EC%9C%84%ED%82%A4%EB%B0%B1%EA%B3%BC:%EC%82%AC%EC%9A%A9%EC%9E%90_%EB%AA%A8%EC%9E%84\" title=\"위키백과 참여자를 위한 토론/대화 공간입니다.\"><span>사용자 모임</span></a></li><li id=\"n-request\" class=\"mw-list-item\"><a href=\"/wiki/%EC%9C%84%ED%82%A4%EB%B0%B1%EA%B3%BC:%EC%9A%94%EC%B2%AD\"><span>관리 요청</span></a></li></ul>\\n\\t\\t\\n\\t</div>\\n</div>\\n\\n\\n<div id=\"p-편집_안내\" class=\"vector-menu mw-portlet mw-portlet-편집_안내 vector-menu-portal portal\"  >\\n\\t<div\\n\\t\\tid=\"p-편집_안내-label\"\\n\\t\\tclass=\"vector-menu-heading \"\\n\\t\\t\\n\\t>\\n\\t\\t<span class=\"vector-menu-heading-label\">편집 안내</span>\\n\\t</div>\\n\\t<div class=\"vector-menu-content\">\\n\\t\\t\\n\\t\\t<ul class=\"vector-menu-content-list\"><li id=\"n-help\" class=\"mw-list-item\"><a href=\"/wiki/%EC%9C%84%ED%82%A4%EB%B0%B1%EA%B3%BC:%EB%8F%84%EC%9B%80%EB%A7%90\" title=\"도움말\"><span>도움말</span></a></li><li id=\"n-policy\" class=\"mw-list-item\"><a href=\"/wiki/%EC%9C%84%ED%82%A4%EB%B0%B1%EA%B3%BC:%EC%A0%95%EC%B1%85%EA%B3%BC_%EC%A7%80%EC%B9%A8\"><span>정책과 지침</span></a></li><li id=\"n-qna\" class=\"mw-list-item\"><a href=\"/wiki/%EC%9C%84%ED%82%A4%EB%B0%B1%EA%B3%BC:%EC%A7%88%EB%AC%B8%EB%B0%A9\"><span>질문방</span></a></li></ul>\\n\\t\\t\\n\\t</div>\\n</div>\\n\\n\\n<div id=\"p-tb\" class=\"vector-menu mw-portlet mw-portlet-tb vector-menu-portal portal\"  >\\n\\t<div\\n\\t\\tid=\"p-tb-label\"\\n\\t\\tclass=\"vector-menu-heading \"\\n\\t\\t\\n\\t>\\n\\t\\t<span class=\"vector-menu-heading-label\">도구</span>\\n\\t</div>\\n\\t<div class=\"vector-menu-content\">\\n\\t\\t\\n\\t\\t<ul class=\"vector-menu-content-list\"><li id=\"t-whatlinkshere\" class=\"mw-list-item\"><a href=\"/wiki/%ED%8A%B9%EC%88%98:%EA%B0%80%EB%A6%AC%ED%82%A4%EB%8A%94%EB%AC%B8%EC%84%9C/%EB%8C%80%ED%95%9C%EB%AF%BC%EA%B5%AD%EC%9D%98_%EB%8C%80%ED%86%B5%EB%A0%B9_%EB%AA%A9%EB%A1%9D\" title=\"여기를 가리키는 모든 위키 문서의 목록 [j]\" accesskey=\"j\"><span>여기를 가리키는 문서</span></a></li><li id=\"t-recentchangeslinked\" class=\"mw-list-item\"><a href=\"/wiki/%ED%8A%B9%EC%88%98:%EB%A7%81%ED%81%AC%EC%B5%9C%EA%B7%BC%EB%B0%94%EB%80%9C/%EB%8C%80%ED%95%9C%EB%AF%BC%EA%B5%AD%EC%9D%98_%EB%8C%80%ED%86%B5%EB%A0%B9_%EB%AA%A9%EB%A1%9D\" rel=\"nofollow\" title=\"이 문서에서 링크한 문서의 최근 바뀜 [k]\" accesskey=\"k\"><span>가리키는 글의 최근 바뀜</span></a></li><li id=\"t-upload\" class=\"mw-list-item\"><a href=\"/wiki/위키백과:파일_올리기\" title=\"파일 올리기 [u]\" accesskey=\"u\"><span>파일 올리기</span></a></li><li id=\"t-specialpages\" class=\"mw-list-item\"><a href=\"/wiki/%ED%8A%B9%EC%88%98:%ED%8A%B9%EC%88%98%EB%AC%B8%EC%84%9C\" title=\"모든 특수 문서의 목록 [q]\" accesskey=\"q\"><span>특수 문서 목록</span></a></li><li id=\"t-permalink\" class=\"mw-list-item\"><a href=\"/w/index.php?title=%EB%8C%80%ED%95%9C%EB%AF%BC%EA%B5%AD%EC%9D%98_%EB%8C%80%ED%86%B5%EB%A0%B9_%EB%AA%A9%EB%A1%9D&amp;oldid=33430829\" title=\"문서의 이 판에 대한 고유링크\"><span>고유 링크</span></a></li><li id=\"t-info\" class=\"mw-list-item\"><a href=\"/w/index.php?title=%EB%8C%80%ED%95%9C%EB%AF%BC%EA%B5%AD%EC%9D%98_%EB%8C%80%ED%86%B5%EB%A0%B9_%EB%AA%A9%EB%A1%9D&amp;action=info\" title=\"이 문서에 대한 자세한 정보\"><span>문서 정보</span></a></li><li id=\"t-cite\" class=\"mw-list-item\"><a href=\"/w/index.php?title=%ED%8A%B9%EC%88%98:%EC%9D%B4%EB%AC%B8%EC%84%9C%EC%9D%B8%EC%9A%A9&amp;page=%EB%8C%80%ED%95%9C%EB%AF%BC%EA%B5%AD%EC%9D%98_%EB%8C%80%ED%86%B5%EB%A0%B9_%EB%AA%A9%EB%A1%9D&amp;id=33430829&amp;wpFormIdentifier=titleform\" title=\"이 문서를 인용하는 방법에 대한 정보\"><span>이 문서 인용하기</span></a></li><li id=\"t-wikibase\" class=\"mw-list-item\"><a href=\"https://www.wikidata.org/wiki/Special:EntityPage/Q498932\" title=\"데이터 저장소에 연결된 항목을 가리키는 링크 [g]\" accesskey=\"g\"><span>위키데이터 항목</span></a></li></ul>\\n\\t\\t\\n\\t</div>\\n</div>\\n\\n\\n<div id=\"p-coll-print_export\" class=\"vector-menu mw-portlet mw-portlet-coll-print_export vector-menu-portal portal\"  >\\n\\t<div\\n\\t\\tid=\"p-coll-print_export-label\"\\n\\t\\tclass=\"vector-menu-heading \"\\n\\t\\t\\n\\t>\\n\\t\\t<span class=\"vector-menu-heading-label\">인쇄/내보내기</span>\\n\\t</div>\\n\\t<div class=\"vector-menu-content\">\\n\\t\\t\\n\\t\\t<ul class=\"vector-menu-content-list\"><li id=\"coll-create_a_book\" class=\"mw-list-item\"><a href=\"/w/index.php?title=%ED%8A%B9%EC%88%98:%EC%B1%85&amp;bookcmd=book_creator&amp;referer=%EB%8C%80%ED%95%9C%EB%AF%BC%EA%B5%AD%EC%9D%98+%EB%8C%80%ED%86%B5%EB%A0%B9+%EB%AA%A9%EB%A1%9D\"><span>책 만들기</span></a></li><li id=\"coll-download-as-rl\" class=\"mw-list-item\"><a href=\"/w/index.php?title=%ED%8A%B9%EC%88%98:DownloadAsPdf&amp;page=%EB%8C%80%ED%95%9C%EB%AF%BC%EA%B5%AD%EC%9D%98_%EB%8C%80%ED%86%B5%EB%A0%B9_%EB%AA%A9%EB%A1%9D&amp;action=show-download-screen\"><span>PDF로 다운로드</span></a></li><li id=\"t-print\" class=\"mw-list-item\"><a href=\"/w/index.php?title=%EB%8C%80%ED%95%9C%EB%AF%BC%EA%B5%AD%EC%9D%98_%EB%8C%80%ED%86%B5%EB%A0%B9_%EB%AA%A9%EB%A1%9D&amp;printable=yes\" title=\"이 문서의 인쇄용 판 [p]\" accesskey=\"p\"><span>인쇄용 판</span></a></li></ul>\\n\\t\\t\\n\\t</div>\\n</div>\\n\\n\\n<div id=\"p-wikibase-otherprojects\" class=\"vector-menu mw-portlet mw-portlet-wikibase-otherprojects vector-menu-portal portal\"  >\\n\\t<div\\n\\t\\tid=\"p-wikibase-otherprojects-label\"\\n\\t\\tclass=\"vector-menu-heading \"\\n\\t\\t\\n\\t>\\n\\t\\t<span class=\"vector-menu-heading-label\">다른 프로젝트</span>\\n\\t</div>\\n\\t<div class=\"vector-menu-content\">\\n\\t\\t\\n\\t\\t<ul class=\"vector-menu-content-list\"><li class=\"wb-otherproject-link wb-otherproject-commons mw-list-item\"><a href=\"https://commons.wikimedia.org/wiki/Category:Presidents_of_South_Korea\" hreflang=\"en\"><span>위키미디어 공용</span></a></li></ul>\\n\\t\\t\\n\\t</div>\\n</div>\\n\\n\\t\\n<div class=\"mw-sidebar-action \">\\n\\t<div class=\"mw-sidebar-action-item vector-menu-portal\">\\n\\t\\t<div class=\"mw-sidebar-action-heading vector-menu-heading\">언어</div>\\n\\t\\t<div class=\"mw-sidebar-action-content vector-menu-content\">\\n\\t\\t\\t<div class=\"mw-message-box-notice vector-language-sidebar-alert mw-message-box\">이 위키백과에서 언어 링크는 문서 제목 건너편의 문서 최상단에 있습니다. <a href=\"#p-lang-btn\">최상단으로 이동합니다</a>.</div>\\n\\t\\t</div>\\n\\t</div>\\n</div>\\n\\n</nav>\\n\\n\\t\\t\\t</div>\\n\\t\\t</div>\\n\\t\\t<div class=\"vector-sitenotice-container\">\\n\\t\\t\\t<div id=\"siteNotice\"><!-- CentralNotice --><!--esi <esi:include src=\"/esitest-fa8a495983347898/content\" /> --> </div>\\n\\t\\t</div>\\n\\t\\t<input type=\"checkbox\" id=\"vector-toc-collapsed-checkbox\" class=\"mw-checkbox-hack-checkbox\">\\n\\t\\t<div class=\"mw-table-of-contents-container\">\\n\\t\\t\\t<div class=\"vector-sticky-toc-container\">\\n\\t\\t\\t\\t<nav id=\"mw-panel-toc\" class=\"sidebar-toc\" role=\"navigation\" aria-labelledby=\"sidebar-toc-label\" data-event-name=\"ui.sidebar-toc\">\\n\\t\\t\\t<div id=\"sidebar-toc-label\" class=\"sidebar-toc-header\">\\n\\t\\t\\t\\t<p class=\"sidebar-toc-title\">\\n\\t\\t\\t\\t목차\\n\\t\\t\\t\\t<button class=\"vector-toc-uncollapse-button\">사이드바로 이동</button>\\n\\t\\t\\t\\t<button class=\"vector-toc-collapse-button\">숨기기</button>\\n\\t\\t\\t\\t</p>\\n\\t\\t\\t</div>\\n\\t\\t\\t<ul class=\"sidebar-toc-contents\" id=\"mw-panel-toc-list\">\\n\\t\\t\\t\\t<li id=\"toc-mw-content-text\"\\n\\t\\t\\t\\t\\tclass=\"sidebar-toc-list-item sidebar-toc-level-1\">\\n\\t\\t\\t\\t\\t<a href=\"#\" class=\"sidebar-toc-link\">\\n\\t\\t\\t\\t\\t\\t<div class=\"sidebar-toc-text\">처음 위치</div>\\n\\t\\t\\t\\t\\t</a>\\n\\t\\t\\t\\t</li>\\n\\t\\t\\t\\t<li id=\"toc-역대_대통령_목록\"\\n\\t\\t\\tclass=\"sidebar-toc-list-item sidebar-toc-level-1 sidebar-toc-list-item-expanded\">\\n\\t\\t\\t<a class=\"sidebar-toc-link\" href=\"#역대_대통령_목록\">\\n\\t\\t\\t\\t<div class=\"sidebar-toc-text\">\\n\\t\\t\\t\\t<span class=\"sidebar-toc-numb\">1</span>역대 대통령 목록</div>\\n\\t\\t\\t</a>\\n\\t\\t\\t\\n\\t\\t\\t<ul id=\"toc-역대_대통령_목록-sublist\" class=\"sidebar-toc-list\">\\n\\t\\t\\t</ul>\\n\\t\\t</li>\\n\\t\\t<li id=\"toc-시계열\"\\n\\t\\t\\tclass=\"sidebar-toc-list-item sidebar-toc-level-1 sidebar-toc-list-item-expanded\">\\n\\t\\t\\t<a class=\"sidebar-toc-link\" href=\"#시계열\">\\n\\t\\t\\t\\t<div class=\"sidebar-toc-text\">\\n\\t\\t\\t\\t<span class=\"sidebar-toc-numb\">2</span>시계열</div>\\n\\t\\t\\t</a>\\n\\t\\t\\t\\n\\t\\t\\t<ul id=\"toc-시계열-sublist\" class=\"sidebar-toc-list\">\\n\\t\\t\\t</ul>\\n\\t\\t</li>\\n\\t\\t<li id=\"toc-생존_중인_전직_대통령\"\\n\\t\\t\\tclass=\"sidebar-toc-list-item sidebar-toc-level-1 sidebar-toc-list-item-expanded\">\\n\\t\\t\\t<a class=\"sidebar-toc-link\" href=\"#생존_중인_전직_대통령\">\\n\\t\\t\\t\\t<div class=\"sidebar-toc-text\">\\n\\t\\t\\t\\t<span class=\"sidebar-toc-numb\">3</span>생존 중인 전직 대통령</div>\\n\\t\\t\\t</a>\\n\\t\\t\\t\\n\\t\\t\\t<ul id=\"toc-생존_중인_전직_대통령-sublist\" class=\"sidebar-toc-list\">\\n\\t\\t\\t</ul>\\n\\t\\t</li>\\n\\t\\t<li id=\"toc-기록\"\\n\\t\\t\\tclass=\"sidebar-toc-list-item sidebar-toc-level-1 sidebar-toc-list-item-expanded\">\\n\\t\\t\\t<a class=\"sidebar-toc-link\" href=\"#기록\">\\n\\t\\t\\t\\t<div class=\"sidebar-toc-text\">\\n\\t\\t\\t\\t<span class=\"sidebar-toc-numb\">4</span>기록</div>\\n\\t\\t\\t</a>\\n\\t\\t\\t\\n\\t\\t\\t\\t<button aria-controls=\"toc-기록-sublist\" class=\"mw-ui-icon mw-ui-icon-wikimedia-expand mw-ui-icon-small sidebar-toc-toggle\">\\n\\t\\t\\t\\t\\t기록 하위분류 토글하기\\n\\t\\t\\t\\t</button>\\n\\t\\t\\t\\n\\t\\t\\t<ul id=\"toc-기록-sublist\" class=\"sidebar-toc-list\">\\n\\t\\t\\t\\t<li id=\"toc-재직일_수\"\\n\\t\\t\\tclass=\"sidebar-toc-list-item sidebar-toc-level-2\">\\n\\t\\t\\t<a class=\"sidebar-toc-link\" href=\"#재직일_수\">\\n\\t\\t\\t\\t<div class=\"sidebar-toc-text\">\\n\\t\\t\\t\\t<span class=\"sidebar-toc-numb\">4.1</span>재직일 수</div>\\n\\t\\t\\t</a>\\n\\t\\t\\t\\n\\t\\t\\t<ul id=\"toc-재직일_수-sublist\" class=\"sidebar-toc-list\">\\n\\t\\t\\t</ul>\\n\\t\\t</li>\\n\\t\\t<li id=\"toc-권한대행_재직일_수\"\\n\\t\\t\\tclass=\"sidebar-toc-list-item sidebar-toc-level-2\">\\n\\t\\t\\t<a class=\"sidebar-toc-link\" href=\"#권한대행_재직일_수\">\\n\\t\\t\\t\\t<div class=\"sidebar-toc-text\">\\n\\t\\t\\t\\t<span class=\"sidebar-toc-numb\">4.2</span>권한대행 재직일 수</div>\\n\\t\\t\\t</a>\\n\\t\\t\\t\\n\\t\\t\\t<ul id=\"toc-권한대행_재직일_수-sublist\" class=\"sidebar-toc-list\">\\n\\t\\t\\t</ul>\\n\\t\\t</li>\\n\\t</ul>\\n\\t\\t</li>\\n\\t\\t<li id=\"toc-같이_보기\"\\n\\t\\t\\tclass=\"sidebar-toc-list-item sidebar-toc-level-1 sidebar-toc-list-item-expanded\">\\n\\t\\t\\t<a class=\"sidebar-toc-link\" href=\"#같이_보기\">\\n\\t\\t\\t\\t<div class=\"sidebar-toc-text\">\\n\\t\\t\\t\\t<span class=\"sidebar-toc-numb\">5</span>같이 보기</div>\\n\\t\\t\\t</a>\\n\\t\\t\\t\\n\\t\\t\\t<ul id=\"toc-같이_보기-sublist\" class=\"sidebar-toc-list\">\\n\\t\\t\\t</ul>\\n\\t\\t</li>\\n\\t\\t<li id=\"toc-각주\"\\n\\t\\t\\tclass=\"sidebar-toc-list-item sidebar-toc-level-1 sidebar-toc-list-item-expanded\">\\n\\t\\t\\t<a class=\"sidebar-toc-link\" href=\"#각주\">\\n\\t\\t\\t\\t<div class=\"sidebar-toc-text\">\\n\\t\\t\\t\\t<span class=\"sidebar-toc-numb\">6</span>각주</div>\\n\\t\\t\\t</a>\\n\\t\\t\\t\\n\\t\\t\\t<ul id=\"toc-각주-sublist\" class=\"sidebar-toc-list\">\\n\\t\\t\\t</ul>\\n\\t\\t</li>\\n\\t</ul>\\n\\t\\t</nav>\\n\\t</div>\\n\\t\\t</div>\\n\\t\\t<div class=\"mw-content-container\">\\n\\t\\t\\t<main id=\"content\" class=\"mw-body\" role=\"main\">\\n\\t\\t\\t\\t<header class=\"mw-body-header vector-page-titlebar\">\\n\\t\\t\\t\\t\\t<label\\n\\t\\t\\t\\t\\t\\tid=\"vector-toc-collapsed-button\"\\n\\t\\t\\t\\t\\t\\tclass=\"mw-ui-button mw-ui-quiet mw-ui-icon mw-ui-icon-element mw-ui-icon-wikimedia-listBullet mw-checkbox-hack-button\"\\n\\t\\t\\t\\t\\t\\tfor=\"vector-toc-collapsed-checkbox\"\\n\\t\\t\\t\\t\\t\\trole=\"button\"\\n\\t\\t\\t\\t\\t\\taria-controls=\"toc-toggle-list\"\\n\\t\\t\\t\\t\\t\\tdata-event-name=\"vector.toc-toggle-list\"\\n\\t\\t\\t\\t\\t\\ttabindex=\"0\"\\n\\t\\t\\t\\t\\t\\ttitle=\"목차\">\\n\\t\\t\\t\\t\\t\\t목차 토글\\n\\t\\t\\t\\t\\t</label>\\n\\t\\t\\t\\t\\n\\t\\t\\t\\t    <h1 id=\"firstHeading\" class=\"firstHeading mw-first-heading\"><span class=\"mw-page-title-main\">대한민국의 대통령 목록</span></h1>\\n\\t\\t\\t\\t\\n\\t\\t\\t\\t            \\n            \\n            <div id=\"p-lang-btn\" class=\"vector-menu mw-portlet mw-portlet-lang vector-menu-dropdown-noicon vector-menu-dropdown\"  >\\n            \\t<input type=\"checkbox\"\\n            \\t\\tid=\"p-lang-btn-checkbox\"\\n            \\t\\trole=\"button\"\\n            \\t\\taria-haspopup=\"true\"\\n            \\t\\tdata-event-name=\"ui.dropdown-p-lang-btn\"\\n            \\t\\tclass=\"vector-menu-checkbox  mw-interlanguage-selector \"\\n            \\t\\taria-label=\"다른 언어로 문서를 방문합니다. 30개 언어로 읽을 수 있습니다\"\\n            \\t\\t\\n            \\t/>\\n            \\t<label\\n            \\t\\tid=\"p-lang-btn-label\"\\n            \\t\\tfor=\"p-lang-btn-checkbox\"\\n            \\t\\tclass=\"vector-menu-heading mw-ui-progressive mw-portlet-lang-heading-30 mw-ui-button mw-ui-quiet\"\\n            \\t\\t\\n            \\t>\\n            \\t\\t<span class=\"mw-ui-icon mw-ui-icon-language-progressive mw-ui-icon-wikimedia-language-progressive\"></span><span class=\"vector-menu-heading-label\">30개 언어</span>\\n            \\t</label>\\n            \\t<div class=\"vector-menu-content\">\\n            \\t\\t\\n            \\t\\t<ul class=\"vector-menu-content-list\"><li class=\"interlanguage-link interwiki-ar mw-list-item\"><a href=\"https://ar.wikipedia.org/wiki/%D9%82%D8%A7%D8%A6%D9%85%D8%A9_%D8%B1%D8%A4%D8%B3%D8%A7%D8%A1_%D9%83%D9%88%D8%B1%D9%8A%D8%A7_%D8%A7%D9%84%D8%AC%D9%86%D9%88%D8%A8%D9%8A%D8%A9\" title=\"قائمة رؤساء كوريا الجنوبية – 아랍어\" lang=\"ar\" hreflang=\"ar\" class=\"interlanguage-link-target\"><span>العربية</span></a></li><li class=\"interlanguage-link interwiki-cs mw-list-item\"><a href=\"https://cs.wikipedia.org/wiki/Seznam_prezident%C5%AF_Ji%C5%BEn%C3%AD_Koreje\" title=\"Seznam prezidentů Jižní Koreje – 체코어\" lang=\"cs\" hreflang=\"cs\" class=\"interlanguage-link-target\"><span>Čeština</span></a></li><li class=\"interlanguage-link interwiki-de mw-list-item\"><a href=\"https://de.wikipedia.org/wiki/Liste_der_Pr%C3%A4sidenten_der_Republik_Korea\" title=\"Liste der Präsidenten der Republik Korea – 독일어\" lang=\"de\" hreflang=\"de\" class=\"interlanguage-link-target\"><span>Deutsch</span></a></li><li class=\"interlanguage-link interwiki-en mw-list-item\"><a href=\"https://en.wikipedia.org/wiki/List_of_presidents_of_South_Korea\" title=\"List of presidents of South Korea – 영어\" lang=\"en\" hreflang=\"en\" class=\"interlanguage-link-target\"><span>English</span></a></li><li class=\"interlanguage-link interwiki-es mw-list-item\"><a href=\"https://es.wikipedia.org/wiki/Anexo:Presidentes_de_Corea_del_Sur\" title=\"Anexo:Presidentes de Corea del Sur – 스페인어\" lang=\"es\" hreflang=\"es\" class=\"interlanguage-link-target\"><span>Español</span></a></li><li class=\"interlanguage-link interwiki-fa mw-list-item\"><a href=\"https://fa.wikipedia.org/wiki/%D9%81%D9%87%D8%B1%D8%B3%D8%AA_%D8%B1%D8%A6%DB%8C%D8%B3%E2%80%8C%D8%AC%D9%85%D9%87%D9%88%D8%B1%D9%87%D8%A7%DB%8C_%DA%A9%D8%B1%D9%87_%D8%AC%D9%86%D9%88%D8%A8%DB%8C\" title=\"فهرست رئیس\\u200cجمهورهای کره جنوبی – 페르시아어\" lang=\"fa\" hreflang=\"fa\" class=\"interlanguage-link-target\"><span>فارسی</span></a></li><li class=\"interlanguage-link interwiki-fi mw-list-item\"><a href=\"https://fi.wikipedia.org/wiki/Luettelo_Korean_tasavallan_presidenteist%C3%A4\" title=\"Luettelo Korean tasavallan presidenteistä – 핀란드어\" lang=\"fi\" hreflang=\"fi\" class=\"interlanguage-link-target\"><span>Suomi</span></a></li><li class=\"interlanguage-link interwiki-fr mw-list-item\"><a href=\"https://fr.wikipedia.org/wiki/Liste_des_pr%C3%A9sidents_de_la_R%C3%A9publique_de_Cor%C3%A9e\" title=\"Liste des présidents de la République de Corée – 프랑스어\" lang=\"fr\" hreflang=\"fr\" class=\"interlanguage-link-target\"><span>Français</span></a></li><li class=\"interlanguage-link interwiki-gl mw-list-item\"><a href=\"https://gl.wikipedia.org/wiki/Lista_de_presidentes_de_Corea_do_Sur\" title=\"Lista de presidentes de Corea do Sur – 갈리시아어\" lang=\"gl\" hreflang=\"gl\" class=\"interlanguage-link-target\"><span>Galego</span></a></li><li class=\"interlanguage-link interwiki-hu mw-list-item\"><a href=\"https://hu.wikipedia.org/wiki/D%C3%A9l-Korea_eln%C3%B6keinek_list%C3%A1ja\" title=\"Dél-Korea elnökeinek listája – 헝가리어\" lang=\"hu\" hreflang=\"hu\" class=\"interlanguage-link-target\"><span>Magyar</span></a></li><li class=\"interlanguage-link interwiki-id mw-list-item\"><a href=\"https://id.wikipedia.org/wiki/Daftar_presiden_Korea_Selatan\" title=\"Daftar presiden Korea Selatan – 인도네시아어\" lang=\"id\" hreflang=\"id\" class=\"interlanguage-link-target\"><span>Bahasa Indonesia</span></a></li><li class=\"interlanguage-link interwiki-io mw-list-item\"><a href=\"https://io.wikipedia.org/wiki/Listo_pri_prezidanti_di_Sud-Korea\" title=\"Listo pri prezidanti di Sud-Korea – 이도어\" lang=\"io\" hreflang=\"io\" class=\"interlanguage-link-target\"><span>Ido</span></a></li><li class=\"interlanguage-link interwiki-it mw-list-item\"><a href=\"https://it.wikipedia.org/wiki/Presidenti_della_Corea_del_Sud\" title=\"Presidenti della Corea del Sud – 이탈리아어\" lang=\"it\" hreflang=\"it\" class=\"interlanguage-link-target\"><span>Italiano</span></a></li><li class=\"interlanguage-link interwiki-kk mw-list-item\"><a href=\"https://kk.wikipedia.org/wiki/%D0%9A%D0%BE%D1%80%D0%B5%D1%8F_%D0%A0%D0%B5%D1%81%D0%BF%D1%83%D0%B1%D0%BB%D0%B8%D0%BA%D0%B0%D1%81%D1%8B%D0%BD%D1%8B%D2%A3_%D0%BF%D1%80%D0%B5%D0%B7%D0%B8%D0%B4%D0%B5%D0%BD%D1%82%D1%82%D0%B5%D1%80%D1%96%D0%BD%D1%96%D2%A3_%D1%82%D1%96%D0%B7%D1%96%D0%BC%D1%96\" title=\"Корея Республикасының президенттерінің тізімі – 카자흐어\" lang=\"kk\" hreflang=\"kk\" class=\"interlanguage-link-target\"><span>Қазақша</span></a></li><li class=\"interlanguage-link interwiki-la mw-list-item\"><a href=\"https://la.wikipedia.org/wiki/Index_praesidum_Rei_publicae_Coreanae\" title=\"Index praesidum Rei publicae Coreanae – 라틴어\" lang=\"la\" hreflang=\"la\" class=\"interlanguage-link-target\"><span>Latina</span></a></li><li class=\"interlanguage-link interwiki-lt mw-list-item\"><a href=\"https://lt.wikipedia.org/wiki/S%C4%85ra%C5%A1as:Piet%C5%B3_Kor%C4%97jos_prezidentai\" title=\"Sąrašas:Pietų Korėjos prezidentai – 리투아니아어\" lang=\"lt\" hreflang=\"lt\" class=\"interlanguage-link-target\"><span>Lietuvių</span></a></li><li class=\"interlanguage-link interwiki-nl mw-list-item\"><a href=\"https://nl.wikipedia.org/wiki/Lijst_van_presidenten_van_Zuid-Korea\" title=\"Lijst van presidenten van Zuid-Korea – 네덜란드어\" lang=\"nl\" hreflang=\"nl\" class=\"interlanguage-link-target\"><span>Nederlands</span></a></li><li class=\"interlanguage-link interwiki-no mw-list-item\"><a href=\"https://no.wikipedia.org/wiki/Liste_over_S%C3%B8r-Koreas_presidenter\" title=\"Liste over Sør-Koreas presidenter – 노르웨이어(보크말)\" lang=\"nb\" hreflang=\"nb\" class=\"interlanguage-link-target\"><span>Norsk bokmål</span></a></li><li class=\"interlanguage-link interwiki-oc mw-list-item\"><a href=\"https://oc.wikipedia.org/wiki/Lista_dels_presidents_de_la_Cor%C3%A8a_del_Sud\" title=\"Lista dels presidents de la Corèa del Sud – 오크어\" lang=\"oc\" hreflang=\"oc\" class=\"interlanguage-link-target\"><span>Occitan</span></a></li><li class=\"interlanguage-link interwiki-pt mw-list-item\"><a href=\"https://pt.wikipedia.org/wiki/Lista_de_presidentes_da_Coreia_do_Sul\" title=\"Lista de presidentes da Coreia do Sul – 포르투갈어\" lang=\"pt\" hreflang=\"pt\" class=\"interlanguage-link-target\"><span>Português</span></a></li><li class=\"interlanguage-link interwiki-ru badge-Q17506997 badge-featuredlist mw-list-item\" title=\"알찬 목록\"><a href=\"https://ru.wikipedia.org/wiki/%D0%A1%D0%BF%D0%B8%D1%81%D0%BE%D0%BA_%D0%B3%D0%BB%D0%B0%D0%B2_%D0%A0%D0%B5%D1%81%D0%BF%D1%83%D0%B1%D0%BB%D0%B8%D0%BA%D0%B8_%D0%9A%D0%BE%D1%80%D0%B5%D1%8F\" title=\"Список глав Республики Корея – 러시아어\" lang=\"ru\" hreflang=\"ru\" class=\"interlanguage-link-target\"><span>Русский</span></a></li><li class=\"interlanguage-link interwiki-simple mw-list-item\"><a href=\"https://simple.wikipedia.org/wiki/List_of_presidents_of_South_Korea\" title=\"List of presidents of South Korea – Simple English\" lang=\"en-simple\" hreflang=\"en-simple\" class=\"interlanguage-link-target\"><span>Simple English</span></a></li><li class=\"interlanguage-link interwiki-sk mw-list-item\"><a href=\"https://sk.wikipedia.org/wiki/Zoznam_prezidentov_K%C3%B3rejskej_republiky\" title=\"Zoznam prezidentov Kórejskej republiky – 슬로바키아어\" lang=\"sk\" hreflang=\"sk\" class=\"interlanguage-link-target\"><span>Slovenčina</span></a></li><li class=\"interlanguage-link interwiki-sv mw-list-item\"><a href=\"https://sv.wikipedia.org/wiki/Lista_%C3%B6ver_Sydkoreas_presidenter\" title=\"Lista över Sydkoreas presidenter – 스웨덴어\" lang=\"sv\" hreflang=\"sv\" class=\"interlanguage-link-target\"><span>Svenska</span></a></li><li class=\"interlanguage-link interwiki-th mw-list-item\"><a href=\"https://th.wikipedia.org/wiki/%E0%B8%A3%E0%B8%B2%E0%B8%A2%E0%B8%99%E0%B8%B2%E0%B8%A1%E0%B8%9B%E0%B8%A3%E0%B8%B0%E0%B8%98%E0%B8%B2%E0%B8%99%E0%B8%B2%E0%B8%98%E0%B8%B4%E0%B8%9A%E0%B8%94%E0%B8%B5%E0%B9%80%E0%B8%81%E0%B8%B2%E0%B8%AB%E0%B8%A5%E0%B8%B5%E0%B9%83%E0%B8%95%E0%B9%89\" title=\"รายนามประธานาธิบดีเกาหลีใต้ – 태국어\" lang=\"th\" hreflang=\"th\" class=\"interlanguage-link-target\"><span>ไทย</span></a></li><li class=\"interlanguage-link interwiki-tr mw-list-item\"><a href=\"https://tr.wikipedia.org/wiki/G%C3%BCney_Kore_cumhurba%C5%9Fkanlar%C4%B1_listesi\" title=\"Güney Kore cumhurbaşkanları listesi – 터키어\" lang=\"tr\" hreflang=\"tr\" class=\"interlanguage-link-target\"><span>Türkçe</span></a></li><li class=\"interlanguage-link interwiki-uk mw-list-item\"><a href=\"https://uk.wikipedia.org/wiki/%D0%A1%D0%BF%D0%B8%D1%81%D0%BE%D0%BA_%D0%BF%D1%80%D0%B5%D0%B7%D0%B8%D0%B4%D0%B5%D0%BD%D1%82%D1%96%D0%B2_%D0%9F%D1%96%D0%B2%D0%B4%D0%B5%D0%BD%D0%BD%D0%BE%D1%97_%D0%9A%D0%BE%D1%80%D0%B5%D1%97\" title=\"Список президентів Південної Кореї – 우크라이나어\" lang=\"uk\" hreflang=\"uk\" class=\"interlanguage-link-target\"><span>Українська</span></a></li><li class=\"interlanguage-link interwiki-vi mw-list-item\"><a href=\"https://vi.wikipedia.org/wiki/Danh_s%C3%A1ch_t%E1%BB%95ng_th%E1%BB%91ng_H%C3%A0n_Qu%E1%BB%91c\" title=\"Danh sách tổng thống Hàn Quốc – 베트남어\" lang=\"vi\" hreflang=\"vi\" class=\"interlanguage-link-target\"><span>Tiếng Việt</span></a></li><li class=\"interlanguage-link interwiki-xmf mw-list-item\"><a href=\"https://xmf.wikipedia.org/wiki/%E1%83%9D%E1%83%91%E1%83%9F%E1%83%90%E1%83%97%E1%83%94_%E1%83%99%E1%83%9D%E1%83%A0%E1%83%94%E1%83%90%E1%83%A8_%E1%83%9E%E1%83%A0%E1%83%94%E1%83%96%E1%83%98%E1%83%93%E1%83%94%E1%83%9C%E1%83%A2%E1%83%98\" title=\"ობჟათე კორეაშ პრეზიდენტი – Mingrelian\" lang=\"xmf\" hreflang=\"xmf\" class=\"interlanguage-link-target\"><span>მარგალური</span></a></li><li class=\"interlanguage-link interwiki-zh mw-list-item\"><a href=\"https://zh.wikipedia.org/wiki/%E9%9F%93%E5%9C%8B%E7%B8%BD%E7%B5%B1%E5%88%97%E8%A1%A8\" title=\"韓國總統列表 – 중국어\" lang=\"zh\" hreflang=\"zh\" class=\"interlanguage-link-target\"><span>中文</span></a></li></ul>\\n            \\t\\t<div class=\"after-portlet after-portlet-lang\"><span class=\"wb-langlinks-edit wb-langlinks-link\"><a href=\"https://www.wikidata.org/wiki/Special:EntityPage/Q498932#sitelinks-wikipedia\" title=\"언어 간 링크 편집\" class=\"wbc-editpage\">링크 편집</a></span></div>\\n            \\t</div>\\n            </div>\\n\\n\\t\\t\\t\\t</header>\\n\\t\\t\\t\\t<div class=\"vector-article-toolbar\">\\n\\t\\t\\t\\t\\t<div class=\"mw-article-toolbar-container\">\\n\\t\\t\\t\\t\\t\\t<div id=\"left-navigation\">\\n\\t\\t\\t\\t\\t\\t\\t<nav aria-label=\"이름공간\">\\n\\t\\t\\t\\t\\t\\t\\t\\t\\n\\n<div id=\"p-associated-pages\" class=\"vector-menu mw-portlet mw-portlet-associated-pages vector-menu-tabs\"  >\\n\\t<div class=\"vector-menu-content\">\\n\\t\\t\\n\\t\\t<ul class=\"vector-menu-content-list\"><li id=\"ca-nstab-main\" class=\"selected vector-tab-noicon mw-list-item\"><a href=\"/wiki/%EB%8C%80%ED%95%9C%EB%AF%BC%EA%B5%AD%EC%9D%98_%EB%8C%80%ED%86%B5%EB%A0%B9_%EB%AA%A9%EB%A1%9D\" title=\"본문 보기 [c]\" accesskey=\"c\"><span>문서</span></a></li><li id=\"ca-talk\" class=\"vector-tab-noicon mw-list-item\"><a href=\"/wiki/%ED%86%A0%EB%A1%A0:%EB%8C%80%ED%95%9C%EB%AF%BC%EA%B5%AD%EC%9D%98_%EB%8C%80%ED%86%B5%EB%A0%B9_%EB%AA%A9%EB%A1%9D\" rel=\"discussion\" title=\"문서의 내용에 대한 토론 문서 [t]\" accesskey=\"t\"><span>토론</span></a></li></ul>\\n\\t\\t\\n\\t</div>\\n</div>\\n\\n\\t\\t\\t\\t\\t\\t\\t\\t\\n\\n<div id=\"p-variants\" class=\"vector-menu mw-portlet mw-portlet-variants emptyPortlet vector-menu-dropdown-noicon vector-menu-dropdown\"  >\\n\\t<input type=\"checkbox\"\\n\\t\\tid=\"p-variants-checkbox\"\\n\\t\\trole=\"button\"\\n\\t\\taria-haspopup=\"true\"\\n\\t\\tdata-event-name=\"ui.dropdown-p-variants\"\\n\\t\\tclass=\"vector-menu-checkbox\"\\n\\t\\taria-label=\"언어 변종 바꾸기\"\\n\\t\\t\\n\\t/>\\n\\t<label\\n\\t\\tid=\"p-variants-label\"\\n\\t\\tfor=\"p-variants-checkbox\"\\n\\t\\tclass=\"vector-menu-heading \"\\n\\t\\t\\n\\t>\\n\\t\\t<span class=\"vector-menu-heading-label\">한국어</span>\\n\\t</label>\\n\\t<div class=\"vector-menu-content\">\\n\\t\\t\\n\\t\\t<ul class=\"vector-menu-content-list\"></ul>\\n\\t\\t\\n\\t</div>\\n</div>\\n\\n\\t\\t\\t\\t\\t\\t\\t</nav>\\n\\t\\t\\t\\t\\t\\t</div>\\n\\t\\t\\t\\t\\t\\t<div id=\"right-navigation\" class=\"vector-collapsible\">\\n\\t\\t\\t\\t\\t\\t\\t<nav aria-label=\"보기\">\\n\\t\\t\\t\\t\\t\\t\\t\\t\\n\\t\\t\\t\\t\\n\\t\\t\\t\\t<div id=\"p-views\" class=\"vector-menu mw-portlet mw-portlet-views vector-menu-tabs\"  >\\n\\t\\t\\t\\t\\t<div class=\"vector-menu-content\">\\n\\t\\t\\t\\t\\t\\t\\n\\t\\t\\t\\t\\t\\t<ul class=\"vector-menu-content-list\"><li id=\"ca-view\" class=\"selected vector-tab-noicon mw-list-item\"><a href=\"/wiki/%EB%8C%80%ED%95%9C%EB%AF%BC%EA%B5%AD%EC%9D%98_%EB%8C%80%ED%86%B5%EB%A0%B9_%EB%AA%A9%EB%A1%9D\"><span>읽기</span></a></li><li id=\"ca-viewsource\" class=\"vector-tab-noicon mw-list-item\"><a href=\"/w/index.php?title=%EB%8C%80%ED%95%9C%EB%AF%BC%EA%B5%AD%EC%9D%98_%EB%8C%80%ED%86%B5%EB%A0%B9_%EB%AA%A9%EB%A1%9D&amp;action=edit\" title=\"이 문서가 보호되어 있습니다.&#10;문서의 원본을 볼 수 있습니다. [e]\" accesskey=\"e\"><span>원본 보기</span></a></li><li id=\"ca-history\" class=\"vector-tab-noicon mw-list-item\"><a href=\"/w/index.php?title=%EB%8C%80%ED%95%9C%EB%AF%BC%EA%B5%AD%EC%9D%98_%EB%8C%80%ED%86%B5%EB%A0%B9_%EB%AA%A9%EB%A1%9D&amp;action=history\" title=\"이 문서의 과거 편집 내역입니다. [h]\" accesskey=\"h\"><span>역사 보기</span></a></li></ul>\\n\\t\\t\\t\\t\\t\\t\\n\\t\\t\\t\\t\\t</div>\\n\\t\\t\\t\\t</div>\\n\\t\\t\\t</nav>\\n\\t\\t\\t\\t\\n\\t\\t\\t\\t\\t\\t\\t<nav aria-label=\"더 많은 옵션\">\\n\\t\\t\\t\\t\\t\\t\\t\\t\\n\\t\\t\\t\\t\\n\\t\\t\\t\\t<div id=\"p-cactions\" class=\"vector-menu mw-portlet mw-portlet-cactions emptyPortlet vector-menu-dropdown-noicon vector-menu-dropdown vector-has-collapsible-items\"  title=\"더 많은 옵션\" >\\n\\t\\t\\t\\t\\t<input type=\"checkbox\"\\n\\t\\t\\t\\t\\t\\tid=\"p-cactions-checkbox\"\\n\\t\\t\\t\\t\\t\\trole=\"button\"\\n\\t\\t\\t\\t\\t\\taria-haspopup=\"true\"\\n\\t\\t\\t\\t\\t\\tdata-event-name=\"ui.dropdown-p-cactions\"\\n\\t\\t\\t\\t\\t\\tclass=\"vector-menu-checkbox\"\\n\\t\\t\\t\\t\\t\\t\\n\\t\\t\\t\\t\\t\\t\\n\\t\\t\\t\\t\\t/>\\n\\t\\t\\t\\t\\t<label\\n\\t\\t\\t\\t\\t\\tid=\"p-cactions-label\"\\n\\t\\t\\t\\t\\t\\tfor=\"p-cactions-checkbox\"\\n\\t\\t\\t\\t\\t\\tclass=\"vector-menu-heading \"\\n\\t\\t\\t\\t\\t\\t\\n\\t\\t\\t\\t\\t>\\n\\t\\t\\t\\t\\t\\t<span class=\"vector-menu-heading-label\">더 보기</span>\\n\\t\\t\\t\\t\\t</label>\\n\\t\\t\\t\\t\\t<div class=\"vector-menu-content\">\\n\\t\\t\\t\\t\\t\\t\\n\\t\\t\\t\\t\\t\\t<ul class=\"vector-menu-content-list\"><li id=\"ca-more-view\" class=\"selected vector-more-collapsible-item mw-list-item\"><a href=\"/wiki/%EB%8C%80%ED%95%9C%EB%AF%BC%EA%B5%AD%EC%9D%98_%EB%8C%80%ED%86%B5%EB%A0%B9_%EB%AA%A9%EB%A1%9D\"><span>읽기</span></a></li><li id=\"ca-more-viewsource\" class=\"vector-more-collapsible-item mw-list-item\"><a href=\"/w/index.php?title=%EB%8C%80%ED%95%9C%EB%AF%BC%EA%B5%AD%EC%9D%98_%EB%8C%80%ED%86%B5%EB%A0%B9_%EB%AA%A9%EB%A1%9D&amp;action=edit\"><span>원본 보기</span></a></li><li id=\"ca-more-history\" class=\"vector-more-collapsible-item mw-list-item\"><a href=\"/w/index.php?title=%EB%8C%80%ED%95%9C%EB%AF%BC%EA%B5%AD%EC%9D%98_%EB%8C%80%ED%86%B5%EB%A0%B9_%EB%AA%A9%EB%A1%9D&amp;action=history\"><span>역사 보기</span></a></li></ul>\\n\\t\\t\\t\\t\\t\\t\\n\\t\\t\\t\\t\\t</div>\\n\\t\\t\\t\\t</div>\\n\\t\\t\\t</nav>\\n\\t\\t\\t\\t\\t\\t</div>\\n\\t\\t\\t\\t\\t</div>\\n\\t\\t\\t\\t</div>\\n\\t\\t\\t\\t<div id=\"bodyContent\" class=\"vector-body\" aria-labelledby=\"firstHeading\" data-mw-ve-target-container>\\n\\t\\t\\t\\t\\t<div class=\"mw-body-subheader\">\\n\\t\\t\\t\\t\\t        <div class=\"mw-indicators\">\\n        <div id=\"mw-indicator-protected-icon\" class=\"mw-indicator\"><div class=\"mw-parser-output\"><a href=\"/wiki/%EC%9C%84%ED%82%A4%EB%B0%B1%EA%B3%BC:%EB%B3%B4%ED%98%B8_%EC%A0%95%EC%B1%85#준보호\" title=\"이 페이지는 지속적인 문서 훼손 또는 정책 위반 등으로 인하여 영구적으로&#160;준보호되어 있습니다.\"><img alt=\"이 페이지는 지속적인 문서 훼손 또는 정책 위반 등으로 인하여 영구적으로&#160;준보호되어 있습니다.\" src=\"//upload.wikimedia.org/wikipedia/commons/thumb/1/1b/Semi-protection-shackle.svg/20px-Semi-protection-shackle.svg.png\" decoding=\"async\" width=\"20\" height=\"20\" srcset=\"//upload.wikimedia.org/wikipedia/commons/thumb/1/1b/Semi-protection-shackle.svg/30px-Semi-protection-shackle.svg.png 1.5x, //upload.wikimedia.org/wikipedia/commons/thumb/1/1b/Semi-protection-shackle.svg/40px-Semi-protection-shackle.svg.png 2x\" data-file-width=\"512\" data-file-height=\"512\" /></a></div></div>\\n        </div>\\n\\n\\t\\t\\t\\t\\t    <div id=\"siteSub\" class=\"noprint\">위키백과, 우리 모두의 백과사전.</div>\\n\\t\\t\\t\\t\\t</div>\\n\\t\\t\\t\\t\\t<div id=\"contentSub\"></div>\\n\\t\\t\\t\\t\\t\\n\\t\\t\\t\\t\\t\\n\\t\\t\\t\\t\\t<div id=\"mw-content-text\" class=\"mw-body-content mw-content-ltr\" lang=\"ko\" dir=\"ltr\"><div class=\"mw-parser-output\"><p><span class=\"nowrap\"></span>\\n\\n<b>대한민국의 대통령 목록</b>은 <a href=\"/wiki/%EB%8C%80%ED%95%9C%EB%AF%BC%EA%B5%AD%EC%9D%98_%EB%8C%80%ED%86%B5%EB%A0%B9\" title=\"대한민국의 대통령\">대한민국의 대통령</a>의 명단이다. <a href=\"/wiki/%EB%8C%80%ED%95%9C%EB%AF%BC%EA%B5%AD_%ED%97%8C%EB%B2%95\" title=\"대한민국 헌법\">헌법</a>에 따라 현행 대통령 임기는 5년 단임제이다.<sup id=\"cite_ref-1\" class=\"reference\"><a href=\"#cite_note-1\">&#91;1&#93;</a></sup>\\n</p>\\n<meta property=\"mw:PageProp/toc\" />\\n<h2><span id=\".EC.97.AD.EB.8C.80_.EB.8C.80.ED.86.B5.EB.A0.B9_.EB.AA.A9.EB.A1.9D\"></span><span class=\"mw-headline\" id=\"역대_대통령_목록\">역대 대통령 목록</span></h2>\\n<div class=\"legend\" style=\"-webkit-column-break-inside: avoid;page-break-inside: avoid;break-inside: avoid-column\"><span class=\"legend-color\" style=\"display:inline-block; width:1.3em; height:1.3em; margin:1px 0; border:1px solid #AAAAAA; background-color: #004EA2; color:black; font-size:100%; text-align:center;\">&#160;</span>&#160;민주당계 정당</div>\\n<div class=\"legend\" style=\"-webkit-column-break-inside: avoid;page-break-inside: avoid;break-inside: avoid-column\"><span class=\"legend-color\" style=\"display:inline-block; width:1.3em; height:1.3em; margin:1px 0; border:1px solid #AAAAAA; background-color: #E61E2B; color:black; font-size:100%; text-align:center;\">&#160;</span>&#160;보수주의 정당</div>\\n<table class=\"wikitable\" width=\"100%\" style=\"text-align: center;\">\\n<tbody><tr>\\n<th rowspan=\"2\">대</th>\\n<th colspan=\"3\">대통령</th>\\n<th colspan=\"2\">임기</th>\\n<th rowspan=\"2\">득표율</th>\\n<th rowspan=\"2\">정당\\n</th></tr>\\n<tr>\\n<th>사진</th>\\n<th colspan=\"2\">이름</th>\\n<th>취임일</th>\\n<th>퇴임일\\n</th></tr>\\n<tr>\\n<td width=\"20\"><b>1</b>\\n</td>\\n<td width=\"70\" rowspan=\"3\"><a href=\"/wiki/%ED%8C%8C%EC%9D%BC:Rhee_Syng-Man_in_1948.jpg\" class=\"image\"><img alt=\"Rhee Syng-Man in 1948.jpg\" src=\"//upload.wikimedia.org/wikipedia/commons/thumb/4/46/Rhee_Syng-Man_in_1948.jpg/100px-Rhee_Syng-Man_in_1948.jpg\" decoding=\"async\" width=\"100\" height=\"133\" srcset=\"//upload.wikimedia.org/wikipedia/commons/thumb/4/46/Rhee_Syng-Man_in_1948.jpg/150px-Rhee_Syng-Man_in_1948.jpg 1.5x, //upload.wikimedia.org/wikipedia/commons/thumb/4/46/Rhee_Syng-Man_in_1948.jpg/200px-Rhee_Syng-Man_in_1948.jpg 2x\" data-file-width=\"921\" data-file-height=\"1229\" /></a>\\n</td>\\n<td width=\"100\" rowspan=\"3\"><b><a href=\"/wiki/%EC%9D%B4%EC%8A%B9%EB%A7%8C\" title=\"이승만\">이승만</a></b><br /><small>(1875~1965)</small>\\n</td>\\n<td width=\"5\" rowspan=\"3\" style=\"background:#E61E2B\">\\n</td>\\n<td width=\"130\">1948년 7월 24일\\n</td>\\n<td width=\"130\">1952년 8월 14일\\n</td>\\n<td width=\"150\"><a href=\"/wiki/%EB%8C%80%ED%95%9C%EB%AF%BC%EA%B5%AD_%EC%A0%9C1%EB%8C%80_%EB%8C%80%ED%86%B5%EB%A0%B9_%EC%84%A0%EA%B1%B0\" title=\"대한민국 제1대 대통령 선거\">1948년 대선</a><br />&#160;&#160;— 91.8%<small>(국회 간선, 180표)</small>\\n</td>\\n<td width=\"160\" rowspan=\"3\"><a href=\"/wiki/%EB%8C%80%ED%95%9C%EB%8F%85%EB%A6%BD%EC%B4%89%EC%84%B1%EA%B5%AD%EB%AF%BC%ED%9A%8C\" title=\"대한독립촉성국민회\">대한독립촉성국민회</a><small>(1948~1951)</small><br /><a href=\"/wiki/%EC%9E%90%EC%9C%A0%EB%8B%B9_(%EB%8C%80%ED%95%9C%EB%AF%BC%EA%B5%AD)\" title=\"자유당 (대한민국)\">자유당</a><small>(1951~1960)</small>\\n</td></tr>\\n<tr>\\n<td><b>2</b>\\n</td>\\n<td>1952년 8월 15일\\n</td>\\n<td>1956년 8월 14일\\n</td>\\n<td><a href=\"/wiki/%EB%8C%80%ED%95%9C%EB%AF%BC%EA%B5%AD_%EC%A0%9C2%EB%8C%80_%EB%8C%80%ED%86%B5%EB%A0%B9_%EC%84%A0%EA%B1%B0\" title=\"대한민국 제2대 대통령 선거\">1952년 대선</a><br />&#160;&#160;— 74.6%<small>(직선, 5,238,769표)</small>\\n</td></tr>\\n<tr>\\n<td><b>3</b>\\n</td>\\n<td>1956년 8월 15일\\n</td>\\n<td>1960년 4월 27일\\n</td>\\n<td><a href=\"/wiki/%EB%8C%80%ED%95%9C%EB%AF%BC%EA%B5%AD_%EC%A0%9C3%EB%8C%80_%EB%8C%80%ED%86%B5%EB%A0%B9_%EC%84%A0%EA%B1%B0\" title=\"대한민국 제3대 대통령 선거\">1956년 대선</a><br />&#160;&#160;— 70.0%<small>(직선, 5,046,437표)</small>\\n</td></tr>\\n<tr>\\n<td colspan=\"8\" style=\"background:#EEEEEE;\"><a href=\"/wiki/%ED%97%88%EC%A0%95\" title=\"허정\">허정</a> <a href=\"/wiki/%EB%8C%80%ED%95%9C%EB%AF%BC%EA%B5%AD_%EC%99%B8%EB%AC%B4%EB%B6%80\" title=\"대한민국 외무부\">외무부 장관</a>이 권한대행<small>(1960년 4월 27일~1960년 6월 15일)</small>\\n</td></tr>\\n<tr>\\n<td colspan=\"8\" style=\"background:#EEEEEE;\"><a href=\"/wiki/%EA%B3%BD%EC%83%81%ED%9B%88\" title=\"곽상훈\">곽상훈</a> <a href=\"/wiki/%EB%8C%80%ED%95%9C%EB%AF%BC%EA%B5%AD%EC%9D%98_%EA%B5%AD%ED%9A%8C%EC%9D%98%EC%9E%A5\" title=\"대한민국의 국회의장\">민의원 의장</a>이 권한대행<small>(1960년 6월 16일~1960년 6월 23일)</small>\\n</td></tr>\\n<tr>\\n<td colspan=\"8\" style=\"background:#EEEEEE;\"><a href=\"/wiki/%ED%97%88%EC%A0%95\" title=\"허정\">허정</a> <a href=\"/wiki/%EB%8C%80%ED%95%9C%EB%AF%BC%EA%B5%AD%EC%9D%98_%EA%B5%AD%EB%AC%B4%EC%B4%9D%EB%A6%AC\" title=\"대한민국의 국무총리\">국무총리</a>가 권한대행<small>(1960년 6월 23일~1960년 8월 7일)</small>\\n</td></tr>\\n<tr>\\n<td colspan=\"8\" style=\"background:#EEEEEE;\"><a href=\"/wiki/%EB%B0%B1%EB%82%99%EC%A4%80\" title=\"백낙준\">백낙준</a> <a href=\"/wiki/%EB%8C%80%ED%95%9C%EB%AF%BC%EA%B5%AD%EC%9D%98_%EA%B5%AD%ED%9A%8C%EC%9D%98%EC%9E%A5\" title=\"대한민국의 국회의장\">참의원 의장</a>이 권한대행<small>(1960년 8월 8일~1960년 8월 12일)</small>\\n</td></tr>\\n<tr>\\n<td><b>4</b>\\n</td>\\n<td><a href=\"/wiki/%ED%8C%8C%EC%9D%BC:Yun_Posun_1.jpg\" class=\"image\"><img alt=\"Yun Posun 1.jpg\" src=\"//upload.wikimedia.org/wikipedia/commons/thumb/4/42/Yun_Posun_1.jpg/100px-Yun_Posun_1.jpg\" decoding=\"async\" width=\"100\" height=\"147\" srcset=\"//upload.wikimedia.org/wikipedia/commons/4/42/Yun_Posun_1.jpg 1.5x\" data-file-width=\"122\" data-file-height=\"179\" /></a>\\n</td>\\n<td><b><a href=\"/wiki/%EC%9C%A4%EB%B3%B4%EC%84%A0\" title=\"윤보선\">윤보선</a></b><br /><small>(1897~1990)</small>\\n</td>\\n<td style=\"background:#004EA2\">\\n</td>\\n<td>1960년 8월 12일\\n</td>\\n<td>1962년 3월 22일\\n</td>\\n<td><a href=\"/wiki/%EB%8C%80%ED%95%9C%EB%AF%BC%EA%B5%AD_%EC%A0%9C4%EB%8C%80_%EB%8C%80%ED%86%B5%EB%A0%B9_%EC%84%A0%EA%B1%B0\" title=\"대한민국 제4대 대통령 선거\">1960년 대선</a><br />&#160;&#160;— 79.1%<small>(국회 간선, 208표)</small>\\n</td>\\n<td>무소속<small>(1960~1962)</small>\\n</td></tr>\\n<tr>\\n<td colspan=\"8\" style=\"background:#EEEEEE;\"><a href=\"/wiki/%EB%B0%95%EC%A0%95%ED%9D%AC\" title=\"박정희\">박정희</a> <a href=\"/wiki/%EA%B5%AD%EA%B0%80%EC%9E%AC%EA%B1%B4%EC%B5%9C%EA%B3%A0%ED%9A%8C%EC%9D%98\" title=\"국가재건최고회의\">국가재건최고회의 의장</a>이 권한대행<small>(1962년 3월 22일~1963년 12월 16일)</small>\\n</td></tr>\\n<tr>\\n<td><b>5</b>\\n</td>\\n<td rowspan=\"5\"><a href=\"/wiki/%ED%8C%8C%EC%9D%BC:Park_Chung-hee.jpg\" class=\"image\"><img alt=\"Park Chung-hee.jpg\" src=\"//upload.wikimedia.org/wikipedia/commons/thumb/2/29/Park_Chung-hee.jpg/100px-Park_Chung-hee.jpg\" decoding=\"async\" width=\"100\" height=\"111\" srcset=\"//upload.wikimedia.org/wikipedia/commons/thumb/2/29/Park_Chung-hee.jpg/150px-Park_Chung-hee.jpg 1.5x, //upload.wikimedia.org/wikipedia/commons/thumb/2/29/Park_Chung-hee.jpg/200px-Park_Chung-hee.jpg 2x\" data-file-width=\"764\" data-file-height=\"848\" /></a>\\n</td>\\n<td rowspan=\"5\"><b><a href=\"/wiki/%EB%B0%95%EC%A0%95%ED%9D%AC\" title=\"박정희\">박정희</a></b><br /><small>(1917~1979)</small>\\n</td>\\n<td rowspan=\"5\" style=\"background:#E61E2B\">\\n</td>\\n<td>1963년 12월 17일\\n</td>\\n<td>1967년 6월 30일\\n</td>\\n<td><a href=\"/wiki/%EB%8C%80%ED%95%9C%EB%AF%BC%EA%B5%AD_%EC%A0%9C5%EB%8C%80_%EB%8C%80%ED%86%B5%EB%A0%B9_%EC%84%A0%EA%B1%B0\" title=\"대한민국 제5대 대통령 선거\">1963년 대선</a><br />&#160;&#160;— 46.6%<small>(직선, 4,702,640표)</small>\\n</td>\\n<td rowspan=\"5\"><a href=\"/wiki/%EB%AF%BC%EC%A3%BC%EA%B3%B5%ED%99%94%EB%8B%B9_(%EB%8C%80%ED%95%9C%EB%AF%BC%EA%B5%AD)\" title=\"민주공화당 (대한민국)\">민주공화당</a><small>(1963~1979)</small>\\n</td></tr>\\n<tr>\\n<td><b>6</b>\\n</td>\\n<td>1967년 7월 1일\\n</td>\\n<td>1971년 6월 30일\\n</td>\\n<td><a href=\"/wiki/%EB%8C%80%ED%95%9C%EB%AF%BC%EA%B5%AD_%EC%A0%9C6%EB%8C%80_%EB%8C%80%ED%86%B5%EB%A0%B9_%EC%84%A0%EA%B1%B0\" title=\"대한민국 제6대 대통령 선거\">1967년 대선</a><br />&#160;&#160;— 51.4%<small>(직선, 5,688,666표)</small>\\n</td></tr>\\n<tr>\\n<td><b>7</b>\\n</td>\\n<td>1971년 7월 1일\\n</td>\\n<td>1972년 12월 26일\\n</td>\\n<td><a href=\"/wiki/%EB%8C%80%ED%95%9C%EB%AF%BC%EA%B5%AD_%EC%A0%9C7%EB%8C%80_%EB%8C%80%ED%86%B5%EB%A0%B9_%EC%84%A0%EA%B1%B0\" title=\"대한민국 제7대 대통령 선거\">1971년 대선</a><br />&#160;&#160;— 53.2%<small>(직선, 6,342,828표)</small>\\n</td></tr>\\n<tr>\\n<td><b>8</b>\\n</td>\\n<td>1972년 12월 27일\\n</td>\\n<td>1978년 12월 26일\\n</td>\\n<td><a href=\"/wiki/%EB%8C%80%ED%95%9C%EB%AF%BC%EA%B5%AD_%EC%A0%9C8%EB%8C%80_%EB%8C%80%ED%86%B5%EB%A0%B9_%EC%84%A0%EA%B1%B0\" title=\"대한민국 제8대 대통령 선거\">1972년 대선</a><br />&#160;&#160;— 99.9%<small>(대의원 간선, 2,357표)</small>\\n</td></tr>\\n<tr>\\n<td><b>9</b>\\n</td>\\n<td>1978년 12월 27일\\n</td>\\n<td>1979년 10월 26일\\n</td>\\n<td><a href=\"/wiki/%EB%8C%80%ED%95%9C%EB%AF%BC%EA%B5%AD_%EC%A0%9C9%EB%8C%80_%EB%8C%80%ED%86%B5%EB%A0%B9_%EC%84%A0%EA%B1%B0\" title=\"대한민국 제9대 대통령 선거\">1978년 대선</a><br />&#160;&#160;— 99.8%<small>(대의원 간선, 2,577표)</small>\\n</td></tr>\\n<tr>\\n<td colspan=\"8\" style=\"background:#EEEEEE;\"><a href=\"/wiki/%EC%B5%9C%EA%B7%9C%ED%95%98\" title=\"최규하\">최규하</a> <a href=\"/wiki/%EB%8C%80%ED%95%9C%EB%AF%BC%EA%B5%AD%EC%9D%98_%EA%B5%AD%EB%AC%B4%EC%B4%9D%EB%A6%AC\" title=\"대한민국의 국무총리\">국무총리</a>가 권한대행<small>(1979년 10월 26일~1979년 12월 6일)</small>\\n</td></tr>\\n<tr>\\n<td><b>10</b>\\n</td>\\n<td><a href=\"/wiki/%ED%8C%8C%EC%9D%BC:1970%E5%9A%B4%E5%AE%B6%E6%B7%A6%E9%99%A2%E9%95%B7%E6%8E%A5%E8%A6%8B%E9%9F%93%E5%9C%8B%E5%A4%96%E9%95%B7%E5%B4%94%E5%9C%AD%E5%A4%8F.jpg\" class=\"image\"><img alt=\"1970嚴家淦院長接見韓國外長崔圭夏.jpg\" src=\"//upload.wikimedia.org/wikipedia/commons/thumb/2/29/1970%E5%9A%B4%E5%AE%B6%E6%B7%A6%E9%99%A2%E9%95%B7%E6%8E%A5%E8%A6%8B%E9%9F%93%E5%9C%8B%E5%A4%96%E9%95%B7%E5%B4%94%E5%9C%AD%E5%A4%8F.jpg/100px-1970%E5%9A%B4%E5%AE%B6%E6%B7%A6%E9%99%A2%E9%95%B7%E6%8E%A5%E8%A6%8B%E9%9F%93%E5%9C%8B%E5%A4%96%E9%95%B7%E5%B4%94%E5%9C%AD%E5%A4%8F.jpg\" decoding=\"async\" width=\"100\" height=\"139\" srcset=\"//upload.wikimedia.org/wikipedia/commons/2/29/1970%E5%9A%B4%E5%AE%B6%E6%B7%A6%E9%99%A2%E9%95%B7%E6%8E%A5%E8%A6%8B%E9%9F%93%E5%9C%8B%E5%A4%96%E9%95%B7%E5%B4%94%E5%9C%AD%E5%A4%8F.jpg 1.5x\" data-file-width=\"149\" data-file-height=\"207\" /></a>\\n</td>\\n<td><b><a href=\"/wiki/%EC%B5%9C%EA%B7%9C%ED%95%98\" title=\"최규하\">최규하</a></b><br /><small>(1919~2006)</small>\\n</td>\\n<td style=\"background:#808080;\">\\n</td>\\n<td>1979년 12월 6일\\n</td>\\n<td>1980년 8월 16일\\n</td>\\n<td><a href=\"/wiki/%EB%8C%80%ED%95%9C%EB%AF%BC%EA%B5%AD_%EC%A0%9C10%EB%8C%80_%EB%8C%80%ED%86%B5%EB%A0%B9_%EC%84%A0%EA%B1%B0\" title=\"대한민국 제10대 대통령 선거\">1979년 대선</a><br />&#160;&#160;— 96.3%<small>(대의원 간선, 2,465표)</small>\\n</td>\\n<td>무소속<small>(1979~1980)</small>\\n</td></tr>\\n<tr>\\n<td colspan=\"8\" style=\"background:#EEEEEE;\"><a href=\"/wiki/%EB%B0%95%EC%B6%A9%ED%9B%88\" title=\"박충훈\">박충훈</a> <a href=\"/wiki/%EB%8C%80%ED%95%9C%EB%AF%BC%EA%B5%AD%EC%9D%98_%EA%B5%AD%EB%AC%B4%EC%B4%9D%EB%A6%AC\" title=\"대한민국의 국무총리\">국무총리 서리</a>가 권한대행<small>(1980년 8월 16일~1980년 8월 27일)</small>\\n</td></tr>\\n<tr>\\n<td><b>11</b>\\n</td>\\n<td rowspan=\"2\"><a href=\"/wiki/%ED%8C%8C%EC%9D%BC:Chun_Doo-hwan_1983_(cropped).JPEG\" class=\"image\"><img alt=\"Chun Doo-hwan 1983 (cropped).JPEG\" src=\"//upload.wikimedia.org/wikipedia/commons/thumb/0/03/Chun_Doo-hwan_1983_%28cropped%29.JPEG/100px-Chun_Doo-hwan_1983_%28cropped%29.JPEG\" decoding=\"async\" width=\"100\" height=\"146\" srcset=\"//upload.wikimedia.org/wikipedia/commons/thumb/0/03/Chun_Doo-hwan_1983_%28cropped%29.JPEG/150px-Chun_Doo-hwan_1983_%28cropped%29.JPEG 1.5x, //upload.wikimedia.org/wikipedia/commons/thumb/0/03/Chun_Doo-hwan_1983_%28cropped%29.JPEG/200px-Chun_Doo-hwan_1983_%28cropped%29.JPEG 2x\" data-file-width=\"298\" data-file-height=\"434\" /></a>\\n</td>\\n<td rowspan=\"2\"><b><a href=\"/wiki/%EC%A0%84%EB%91%90%ED%99%98\" title=\"전두환\">전두환</a></b><br /><small>(1931~2021)</small>\\n</td>\\n<td rowspan=\"2\" style=\"background:#E61E2B\">\\n</td>\\n<td>1980년 8월 27일\\n</td>\\n<td>1981년 2월 24일\\n</td>\\n<td><a href=\"/wiki/%EB%8C%80%ED%95%9C%EB%AF%BC%EA%B5%AD_%EC%A0%9C11%EB%8C%80_%EB%8C%80%ED%86%B5%EB%A0%B9_%EC%84%A0%EA%B1%B0\" title=\"대한민국 제11대 대통령 선거\">1980년 대선</a><br />&#160;&#160;— 99.4%<small>(대의원 간선, 2,524표)</small>\\n</td>\\n<td rowspan=\"2\">무소속<small>(1980~1981)</small><br /><a href=\"/wiki/%EB%AF%BC%EC%A3%BC%EC%A0%95%EC%9D%98%EB%8B%B9\" title=\"민주정의당\">민주정의당</a><small>(1981~1988)</small>\\n</td></tr>\\n<tr>\\n<td><b>12</b>\\n</td>\\n<td>1981년 2월 25일\\n</td>\\n<td>1988년 2월 24일\\n</td>\\n<td><a href=\"/wiki/%EB%8C%80%ED%95%9C%EB%AF%BC%EA%B5%AD_%EC%A0%9C12%EB%8C%80_%EB%8C%80%ED%86%B5%EB%A0%B9_%EC%84%A0%EA%B1%B0\" title=\"대한민국 제12대 대통령 선거\">1981년 대선</a><br />&#160;&#160;— 90.1%<small>(선거인단 간선, 4,755표)</small>\\n</td></tr>\\n<tr>\\n<td><b>13</b>\\n</td>\\n<td><a href=\"/wiki/%ED%8C%8C%EC%9D%BC:Roh_Tae-woo_-_cropped,_1989-Mar-13.jpg\" class=\"image\"><img alt=\"Roh Tae-woo - cropped, 1989-Mar-13.jpg\" src=\"//upload.wikimedia.org/wikipedia/commons/thumb/b/b9/Roh_Tae-woo_-_cropped%2C_1989-Mar-13.jpg/100px-Roh_Tae-woo_-_cropped%2C_1989-Mar-13.jpg\" decoding=\"async\" width=\"100\" height=\"126\" srcset=\"//upload.wikimedia.org/wikipedia/commons/thumb/b/b9/Roh_Tae-woo_-_cropped%2C_1989-Mar-13.jpg/150px-Roh_Tae-woo_-_cropped%2C_1989-Mar-13.jpg 1.5x, //upload.wikimedia.org/wikipedia/commons/thumb/b/b9/Roh_Tae-woo_-_cropped%2C_1989-Mar-13.jpg/200px-Roh_Tae-woo_-_cropped%2C_1989-Mar-13.jpg 2x\" data-file-width=\"617\" data-file-height=\"775\" /></a>\\n</td>\\n<td><b><a href=\"/wiki/%EB%85%B8%ED%83%9C%EC%9A%B0\" title=\"노태우\">노태우</a></b><br /><small>(1932~2021)</small>\\n</td>\\n<td style=\"background:#E61E2B\">\\n</td>\\n<td>1988년 2월 25일\\n</td>\\n<td>1993년 2월 24일\\n</td>\\n<td><a href=\"/wiki/%EB%8C%80%ED%95%9C%EB%AF%BC%EA%B5%AD_%EC%A0%9C13%EB%8C%80_%EB%8C%80%ED%86%B5%EB%A0%B9_%EC%84%A0%EA%B1%B0\" title=\"대한민국 제13대 대통령 선거\">1987년 대선</a><br />&#160;&#160;— 36.6%<small>(직선, 8,282,738표)</small>\\n</td>\\n<td><a href=\"/wiki/%EB%AF%BC%EC%A3%BC%EC%A0%95%EC%9D%98%EB%8B%B9\" title=\"민주정의당\">민주정의당</a><small>(1988~1990)</small><br /><a href=\"/wiki/%EC%8B%A0%ED%95%9C%EA%B5%AD%EB%8B%B9\" title=\"신한국당\">민주자유당</a><small>(1990~1992)</small><br />무소속<small>(1992~1993)</small>\\n</td></tr>\\n<tr>\\n<td><b>14</b>\\n</td>\\n<td><a href=\"/wiki/%ED%8C%8C%EC%9D%BC:Kim_Young-sam_presidential_portrait.jpg\" class=\"image\"><img alt=\"Kim Young-sam presidential portrait.jpg\" src=\"//upload.wikimedia.org/wikipedia/commons/thumb/8/8d/Kim_Young-sam_presidential_portrait.jpg/100px-Kim_Young-sam_presidential_portrait.jpg\" decoding=\"async\" width=\"100\" height=\"136\" srcset=\"//upload.wikimedia.org/wikipedia/commons/thumb/8/8d/Kim_Young-sam_presidential_portrait.jpg/150px-Kim_Young-sam_presidential_portrait.jpg 1.5x, //upload.wikimedia.org/wikipedia/commons/thumb/8/8d/Kim_Young-sam_presidential_portrait.jpg/200px-Kim_Young-sam_presidential_portrait.jpg 2x\" data-file-width=\"4856\" data-file-height=\"6621\" /></a>\\n</td>\\n<td><b><a href=\"/wiki/%EA%B9%80%EC%98%81%EC%82%BC\" title=\"김영삼\">김영삼</a></b><br /><small>(1927~2015)</small>\\n</td>\\n<td style=\"background:#E61E2B\">\\n</td>\\n<td>1993년 2월 25일\\n</td>\\n<td>1998년 2월 24일\\n</td>\\n<td><a href=\"/wiki/%EB%8C%80%ED%95%9C%EB%AF%BC%EA%B5%AD_%EC%A0%9C14%EB%8C%80_%EB%8C%80%ED%86%B5%EB%A0%B9_%EC%84%A0%EA%B1%B0\" title=\"대한민국 제14대 대통령 선거\">1992년 대선</a><br />&#160;&#160;— 42.0%<small>(직선, 9,977,332표)</small>\\n</td>\\n<td><a href=\"/wiki/%EC%8B%A0%ED%95%9C%EA%B5%AD%EB%8B%B9\" title=\"신한국당\">민주자유당</a><small>(1993~1995)</small><br /><a href=\"/wiki/%EC%8B%A0%ED%95%9C%EA%B5%AD%EB%8B%B9\" title=\"신한국당\">신한국당</a><small>(1995~1997)</small><br />무소속<small>(1997~1998)</small>\\n</td></tr>\\n<tr>\\n<td><b>15</b>\\n</td>\\n<td><a href=\"/wiki/%ED%8C%8C%EC%9D%BC:Kim_Dae-jung_presidential_portrait.jpg\" class=\"image\"><img alt=\"Kim Dae-jung presidential portrait.jpg\" src=\"//upload.wikimedia.org/wikipedia/commons/thumb/d/d2/Kim_Dae-jung_presidential_portrait.jpg/100px-Kim_Dae-jung_presidential_portrait.jpg\" decoding=\"async\" width=\"100\" height=\"120\" srcset=\"//upload.wikimedia.org/wikipedia/commons/thumb/d/d2/Kim_Dae-jung_presidential_portrait.jpg/150px-Kim_Dae-jung_presidential_portrait.jpg 1.5x, //upload.wikimedia.org/wikipedia/commons/thumb/d/d2/Kim_Dae-jung_presidential_portrait.jpg/200px-Kim_Dae-jung_presidential_portrait.jpg 2x\" data-file-width=\"5000\" data-file-height=\"6000\" /></a>\\n</td>\\n<td><b><a href=\"/wiki/%EA%B9%80%EB%8C%80%EC%A4%91\" title=\"김대중\">김대중</a></b><br /><small>(1924~2009)</small>\\n</td>\\n<td style=\"background:#004EA2\">\\n</td>\\n<td>1998년 2월 25일\\n</td>\\n<td>2003년 2월 24일\\n</td>\\n<td><a href=\"/wiki/%EB%8C%80%ED%95%9C%EB%AF%BC%EA%B5%AD_%EC%A0%9C15%EB%8C%80_%EB%8C%80%ED%86%B5%EB%A0%B9_%EC%84%A0%EA%B1%B0\" title=\"대한민국 제15대 대통령 선거\">1997년 대선</a><br />&#160;&#160;— 40.3%<small>(직선, 10,326,275표)</small>\\n</td>\\n<td><a href=\"/wiki/%EC%83%88%EC%A0%95%EC%B9%98%EA%B5%AD%EB%AF%BC%ED%9A%8C%EC%9D%98\" title=\"새정치국민회의\">새정치국민회의</a><small>(1998~2000)</small><br /><a href=\"/wiki/%EB%AF%BC%EC%A3%BC%EB%8B%B9_(%EB%8C%80%ED%95%9C%EB%AF%BC%EA%B5%AD,_2000%EB%85%84)\" title=\"민주당 (대한민국, 2000년)\">새천년민주당</a><small>(2000~2002)</small><br />무소속<small>(2002~2003)</small>\\n</td></tr>\\n<tr>\\n<td rowspan=\"3\"><b>16</b>\\n</td>\\n<td rowspan=\"3\"><a href=\"/wiki/%ED%8C%8C%EC%9D%BC:Roh_Moo-hyun_presidential_portrait.jpg\" class=\"image\"><img alt=\"Roh Moo-hyun presidential portrait.jpg\" src=\"//upload.wikimedia.org/wikipedia/commons/thumb/3/30/Roh_Moo-hyun_presidential_portrait.jpg/100px-Roh_Moo-hyun_presidential_portrait.jpg\" decoding=\"async\" width=\"100\" height=\"126\" srcset=\"//upload.wikimedia.org/wikipedia/commons/thumb/3/30/Roh_Moo-hyun_presidential_portrait.jpg/150px-Roh_Moo-hyun_presidential_portrait.jpg 1.5x, //upload.wikimedia.org/wikipedia/commons/thumb/3/30/Roh_Moo-hyun_presidential_portrait.jpg/200px-Roh_Moo-hyun_presidential_portrait.jpg 2x\" data-file-width=\"1093\" data-file-height=\"1381\" /></a>\\n</td>\\n<td rowspan=\"3\"><b><a href=\"/wiki/%EB%85%B8%EB%AC%B4%ED%98%84\" title=\"노무현\">노무현</a></b><br /><small>(1946~2009)</small>\\n</td>\\n<td rowspan=\"3\" style=\"background:#004EA2\">\\n</td>\\n<td>2003년 2월 25일\\n</td>\\n<td>2004년 3월 12일\\n</td>\\n<td><a href=\"/wiki/%EB%8C%80%ED%95%9C%EB%AF%BC%EA%B5%AD_%EC%A0%9C16%EB%8C%80_%EB%8C%80%ED%86%B5%EB%A0%B9_%EC%84%A0%EA%B1%B0\" title=\"대한민국 제16대 대통령 선거\">2002년 대선</a><br />&#160;&#160;— 48.9%<small>(직선, 12,014,277표)</small>\\n</td>\\n<td><a href=\"/wiki/%EC%83%88%EC%B2%9C%EB%85%84%EB%AF%BC%EC%A3%BC%EB%8B%B9\" class=\"mw-redirect\" title=\"새천년민주당\">새천년민주당</a><small>(2003)</small><br />무소속<small>(2003~2004)</small>\\n</td></tr>\\n<tr>\\n<td colspan=\"4\" style=\"background:#EEEEEE;\"><a href=\"/wiki/%EA%B3%A0%EA%B1%B4\" title=\"고건\">고건</a> <a href=\"/wiki/%EB%8C%80%ED%95%9C%EB%AF%BC%EA%B5%AD%EC%9D%98_%EA%B5%AD%EB%AC%B4%EC%B4%9D%EB%A6%AC\" title=\"대한민국의 국무총리\">국무총리</a>가 권한대행<small>(2004년 3월 12일~2004년 5월 14일)</small>\\n</td></tr>\\n<tr>\\n<td>2004년 5월 14일\\n</td>\\n<td>2008년 2월 24일\\n</td>\\n<td>탄핵 소추 기각\\n</td>\\n<td>무소속<small>(2004)</small><br /><a href=\"/wiki/%EC%97%B4%EB%A6%B0%EC%9A%B0%EB%A6%AC%EB%8B%B9\" title=\"열린우리당\">열린우리당</a><small>(2004~2007)</small><br />무소속<small>(2007~2008)</small>\\n</td></tr>\\n<tr>\\n<td><b>17</b>\\n</td>\\n<td><a href=\"/wiki/%ED%8C%8C%EC%9D%BC:Lee_Myung-bak_presidential_portrait.jpg\" class=\"image\"><img alt=\"Lee Myung-bak presidential portrait.jpg\" src=\"//upload.wikimedia.org/wikipedia/commons/thumb/0/04/Lee_Myung-bak_presidential_portrait.jpg/100px-Lee_Myung-bak_presidential_portrait.jpg\" decoding=\"async\" width=\"100\" height=\"125\" srcset=\"//upload.wikimedia.org/wikipedia/commons/thumb/0/04/Lee_Myung-bak_presidential_portrait.jpg/150px-Lee_Myung-bak_presidential_portrait.jpg 1.5x, //upload.wikimedia.org/wikipedia/commons/thumb/0/04/Lee_Myung-bak_presidential_portrait.jpg/200px-Lee_Myung-bak_presidential_portrait.jpg 2x\" data-file-width=\"700\" data-file-height=\"876\" /></a>\\n</td>\\n<td><b><a href=\"/wiki/%EC%9D%B4%EB%AA%85%EB%B0%95\" title=\"이명박\">이명박</a></b><br /><small>(1941~)</small>\\n</td>\\n<td style=\"background:#E61E2B\">\\n</td>\\n<td>2008년 2월 25일\\n</td>\\n<td>2013년 2월 24일\\n</td>\\n<td><a href=\"/wiki/%EB%8C%80%ED%95%9C%EB%AF%BC%EA%B5%AD_%EC%A0%9C17%EB%8C%80_%EB%8C%80%ED%86%B5%EB%A0%B9_%EC%84%A0%EA%B1%B0\" title=\"대한민국 제17대 대통령 선거\">2007년 대선</a><br />&#160;&#160;— 48.7%<small>(직선, 11,492,389표)</small>\\n</td>\\n<td><a href=\"/wiki/%EC%9E%90%EC%9C%A0%ED%95%9C%EA%B5%AD%EB%8B%B9\" title=\"자유한국당\">한나라당</a><small>(2008~2012)</small><br /><a href=\"/wiki/%EC%9E%90%EC%9C%A0%ED%95%9C%EA%B5%AD%EB%8B%B9\" title=\"자유한국당\">새누리당</a><small>(2012~2013)</small>\\n</td></tr>\\n<tr>\\n<td rowspan=\"2\"><b>18</b>\\n</td>\\n<td rowspan=\"2\"><a href=\"/wiki/%ED%8C%8C%EC%9D%BC:Park_Geun-hye_presidential_portrait.png\" class=\"image\"><img alt=\"Park Geun-hye presidential portrait.png\" src=\"//upload.wikimedia.org/wikipedia/commons/thumb/5/52/Park_Geun-hye_presidential_portrait.png/100px-Park_Geun-hye_presidential_portrait.png\" decoding=\"async\" width=\"100\" height=\"132\" srcset=\"//upload.wikimedia.org/wikipedia/commons/thumb/5/52/Park_Geun-hye_presidential_portrait.png/150px-Park_Geun-hye_presidential_portrait.png 1.5x, //upload.wikimedia.org/wikipedia/commons/thumb/5/52/Park_Geun-hye_presidential_portrait.png/200px-Park_Geun-hye_presidential_portrait.png 2x\" data-file-width=\"972\" data-file-height=\"1280\" /></a>\\n</td>\\n<td rowspan=\"2\"><b><a href=\"/wiki/%EB%B0%95%EA%B7%BC%ED%98%9C\" title=\"박근혜\">박근혜</a></b><br /><small>(1952~)</small>\\n</td>\\n<td rowspan=\"2\" style=\"background:#E61E2B\">\\n</td>\\n<td>2013년 2월 25일\\n</td>\\n<td>2017년 3월 10일\\n</td>\\n<td><a href=\"/wiki/%EB%8C%80%ED%95%9C%EB%AF%BC%EA%B5%AD_%EC%A0%9C18%EB%8C%80_%EB%8C%80%ED%86%B5%EB%A0%B9_%EC%84%A0%EA%B1%B0\" title=\"대한민국 제18대 대통령 선거\">2012년 대선</a><br />&#160;&#160;— 51.6%<small>(직선, 15,773,128표)</small>\\n</td>\\n<td><a href=\"/wiki/%EC%9E%90%EC%9C%A0%ED%95%9C%EA%B5%AD%EB%8B%B9\" title=\"자유한국당\">새누리당</a><small>(2013~2017)</small><br /><a href=\"/wiki/%EC%9E%90%EC%9C%A0%ED%95%9C%EA%B5%AD%EB%8B%B9\" title=\"자유한국당\">자유한국당</a><small>(2017)</small>\\n</td></tr>\\n<tr>\\n<td colspan=\"4\" style=\"background:#EEEEEE;\"><a href=\"/wiki/%ED%99%A9%EA%B5%90%EC%95%88\" title=\"황교안\">황교안</a> <a href=\"/wiki/%EB%8C%80%ED%95%9C%EB%AF%BC%EA%B5%AD%EC%9D%98_%EA%B5%AD%EB%AC%B4%EC%B4%9D%EB%A6%AC\" title=\"대한민국의 국무총리\">국무총리</a>가 권한대행<small>(2016년 12월 9일~2017년 3월 10일)</small>\\n</td></tr>\\n<tr>\\n<td colspan=\"8\" style=\"background:#EEEEEE;\"><a href=\"/wiki/%ED%99%A9%EA%B5%90%EC%95%88\" title=\"황교안\">황교안</a> <a href=\"/wiki/%EB%8C%80%ED%95%9C%EB%AF%BC%EA%B5%AD%EC%9D%98_%EA%B5%AD%EB%AC%B4%EC%B4%9D%EB%A6%AC\" title=\"대한민국의 국무총리\">국무총리</a>가 권한대행<small>(2017년 3월 10일~2017년 5월 10일)</small>\\n</td></tr>\\n<tr>\\n<td><b>19</b>\\n</td>\\n<td><a href=\"/wiki/%ED%8C%8C%EC%9D%BC:Moon_Jae-in_(2017-10-01)_cropped.jpg\" class=\"image\"><img alt=\"Moon Jae-in (2017-10-01) cropped.jpg\" src=\"//upload.wikimedia.org/wikipedia/commons/thumb/c/c9/Moon_Jae-in_%282017-10-01%29_cropped.jpg/100px-Moon_Jae-in_%282017-10-01%29_cropped.jpg\" decoding=\"async\" width=\"100\" height=\"140\" srcset=\"//upload.wikimedia.org/wikipedia/commons/thumb/c/c9/Moon_Jae-in_%282017-10-01%29_cropped.jpg/150px-Moon_Jae-in_%282017-10-01%29_cropped.jpg 1.5x, //upload.wikimedia.org/wikipedia/commons/thumb/c/c9/Moon_Jae-in_%282017-10-01%29_cropped.jpg/200px-Moon_Jae-in_%282017-10-01%29_cropped.jpg 2x\" data-file-width=\"354\" data-file-height=\"496\" /></a>\\n</td>\\n<td><b><a href=\"/wiki/%EB%AC%B8%EC%9E%AC%EC%9D%B8\" title=\"문재인\">문재인</a></b><br /><small>(1953~)</small>\\n</td>\\n<td style=\"background:#004EA2\">\\n</td>\\n<td>2017년 5월 10일\\n</td>\\n<td>2022년 5월 9일\\n</td>\\n<td><a href=\"/wiki/%EB%8C%80%ED%95%9C%EB%AF%BC%EA%B5%AD_%EC%A0%9C19%EB%8C%80_%EB%8C%80%ED%86%B5%EB%A0%B9_%EC%84%A0%EA%B1%B0\" title=\"대한민국 제19대 대통령 선거\">2017년 대선</a> <br />&#160;&#160;— 41.1%<small>(직선, 13,423,800표)</small>\\n</td>\\n<td><a href=\"/wiki/%EB%8D%94%EB%B6%88%EC%96%B4%EB%AF%BC%EC%A3%BC%EB%8B%B9\" title=\"더불어민주당\">더불어민주당</a><small>(2017~2022)</small>\\n</td></tr>\\n<tr>\\n<td><b>20</b>\\n</td>\\n<td><a href=\"/wiki/%ED%8C%8C%EC%9D%BC:South_Korea_President_Yoon_Suk_Yeol_portrait.jpg\" class=\"image\"><img alt=\"South Korea President Yoon Suk Yeol portrait.jpg\" src=\"//upload.wikimedia.org/wikipedia/commons/thumb/6/6a/South_Korea_President_Yoon_Suk_Yeol_portrait.jpg/100px-South_Korea_President_Yoon_Suk_Yeol_portrait.jpg\" decoding=\"async\" width=\"100\" height=\"125\" srcset=\"//upload.wikimedia.org/wikipedia/commons/thumb/6/6a/South_Korea_President_Yoon_Suk_Yeol_portrait.jpg/150px-South_Korea_President_Yoon_Suk_Yeol_portrait.jpg 1.5x, //upload.wikimedia.org/wikipedia/commons/thumb/6/6a/South_Korea_President_Yoon_Suk_Yeol_portrait.jpg/200px-South_Korea_President_Yoon_Suk_Yeol_portrait.jpg 2x\" data-file-width=\"3070\" data-file-height=\"3837\" /></a>\\n</td>\\n<td><b><a href=\"/wiki/%EC%9C%A4%EC%84%9D%EC%97%B4\" title=\"윤석열\">윤석열</a></b><br /><small>(1960~)</small>\\n</td>\\n<td style=\"background:#E61E2B\">\\n</td>\\n<td>2022년 5월 10일\\n</td>\\n<td>\\n</td>\\n<td><a href=\"/wiki/%EB%8C%80%ED%95%9C%EB%AF%BC%EA%B5%AD_%EC%A0%9C20%EB%8C%80_%EB%8C%80%ED%86%B5%EB%A0%B9_%EC%84%A0%EA%B1%B0\" title=\"대한민국 제20대 대통령 선거\">2022년 대선</a> <br />&#160;&#160;— 48.6%<small>(직선, 16,394,815표)</small>\\n</td>\\n<td><a href=\"/wiki/%EA%B5%AD%EB%AF%BC%EC%9D%98%ED%9E%98\" title=\"국민의힘\">국민의힘</a><small>(2022~)</small>\\n</td></tr></tbody></table>\\n<h2><span id=\".EC.8B.9C.EA.B3.84.EC.97.B4\"></span><span class=\"mw-headline\" id=\"시계열\">시계열</span></h2>\\n<div class=\"timeline-wrapper\"><map name=\"timeline_n56eq45w147yktodqccmm02tosp79fi\"><area shape=\"rect\" href=\"/wiki/%EC%9C%A4%EC%84%9D%EC%97%B4\" coords=\"889,242,1014,266\" title=\"윤석열\" alt=\"윤석열\" /><area shape=\"rect\" href=\"/wiki/%EB%AC%B8%EC%9E%AC%EC%9D%B8\" coords=\"882,223,994,247\" title=\"문재인\" alt=\"문재인\" /><area shape=\"rect\" href=\"/wiki/%EB%B0%95%EA%B7%BC%ED%98%9C\" coords=\"821,205,946,229\" title=\"박근혜\" alt=\"박근혜\" /><area shape=\"rect\" href=\"/wiki/%EC%9D%B4%EB%AA%85%EB%B0%95\" coords=\"774,186,899,210\" title=\"이명박\" alt=\"이명박\" /><area shape=\"rect\" href=\"/wiki/%EB%85%B8%EB%AC%B4%ED%98%84\" coords=\"715,168,834,192\" title=\"노무현\" alt=\"노무현\" /><area shape=\"rect\" href=\"/wiki/%EA%B9%80%EB%8C%80%EC%A4%91\" coords=\"657,150,775,174\" title=\"김대중\" alt=\"김대중\" /><area shape=\"rect\" href=\"/wiki/%EA%B9%80%EC%98%81%EC%82%BC\" coords=\"598,131,723,155\" title=\"김영삼\" alt=\"김영삼\" /><area shape=\"rect\" href=\"/wiki/%EB%85%B8%ED%83%9C%EC%9A%B0\" coords=\"539,113,651,137\" title=\"노태우\" alt=\"노태우\" /><area shape=\"rect\" href=\"/wiki/%EC%A0%84%EB%91%90%ED%99%98\" coords=\"481,94,606,118\" title=\"전두환\" alt=\"전두환\" /><area shape=\"rect\" href=\"/wiki/%EC%B5%9C%EA%B7%9C%ED%95%98\" coords=\"392,76,511,100\" title=\"최규하\" alt=\"최규하\" /><area shape=\"rect\" href=\"/wiki/%EB%B0%95%EC%A0%95%ED%9D%AC\" coords=\"383,57,514,81\" title=\"박정희\" alt=\"박정희\" /><area shape=\"rect\" href=\"/wiki/%EC%9C%A4%EB%B3%B4%EC%84%A0\" coords=\"176,39,281,63\" title=\"윤보선\" alt=\"윤보선\" /><area shape=\"rect\" href=\"/wiki/%EC%9D%B4%EC%8A%B9%EB%A7%8C\" coords=\"154,20,279,44\" title=\"이승만\" alt=\"이승만\" /></map><img usemap=\"#timeline_n56eq45w147yktodqccmm02tosp79fi\" src=\"//upload.wikimedia.org/wikipedia/ko/timeline/n56eq45w147yktodqccmm02tosp79fi.png\" /></div>\\n<h2><span id=\".EC.83.9D.EC.A1.B4_.EC.A4.91.EC.9D.B8_.EC.A0.84.EC.A7.81_.EB.8C.80.ED.86.B5.EB.A0.B9\"></span><span class=\"mw-headline\" id=\"생존_중인_전직_대통령\">생존 중인 전직 대통령</span></h2>\\n<table class=\"wikitable\">\\n<tbody><tr>\\n<th class=\"unsortable\">성명</th>\\n<th>재임 기간</th>\\n<th>생년월일\\n</th></tr>\\n<tr>\\n<td><a href=\"/wiki/%EC%9D%B4%EB%AA%85%EB%B0%95\" title=\"이명박\">이명박</a>\\n</td>\\n<td>2008년 ~ 2013년\\n</td>\\n<td>1941년 12월 19일<span style=\"display:none\">(<span class=\"bday\">1941-12-19</span>)</span>(80세)\\n</td></tr>\\n<tr>\\n<td><a href=\"/wiki/%EB%B0%95%EA%B7%BC%ED%98%9C\" title=\"박근혜\">박근혜</a>\\n</td>\\n<td>2013년 ~ 2017년\\n</td>\\n<td>1952년 2월 2일<span style=\"display:none\">(<span class=\"bday\">1952-02-02</span>)</span>(70세)\\n</td></tr>\\n<tr>\\n<td><a href=\"/wiki/%EB%AC%B8%EC%9E%AC%EC%9D%B8\" title=\"문재인\">문재인</a>\\n</td>\\n<td>2017년 ~ 2022년\\n</td>\\n<td>1953년 1월 24일<span style=\"display:none\">(<span class=\"bday\">1953-01-24</span>)</span>(69세)\\n</td></tr></tbody></table>\\n<h2><span id=\".EA.B8.B0.EB.A1.9D\"></span><span class=\"mw-headline\" id=\"기록\">기록</span></h2>\\n<h3><span id=\".EC.9E.AC.EC.A7.81.EC.9D.BC_.EC.88.98\"></span><span class=\"mw-headline\" id=\"재직일_수\">재직일 수</span></h3>\\n<ul><li>이승만: 4273일(11년 8개월 11일)</li>\\n<li>윤보선: 588일(1년 7개월 10일)</li>\\n<li>박정희: 5793일(15년 10개월 9일)</li>\\n<li>최규하: 255일(8개월 10일)</li>\\n<li>전두환: 2733일(7년 5개월 23일)</li>\\n<li>노태우: 1827일(5년)</li>\\n<li>김영삼: 1826일(5년)</li>\\n<li>김대중: 1825일(5년)</li>\\n<li>노무현: 1826일(5년)<sup id=\"cite_ref-:0_2-0\" class=\"reference\"><a href=\"#cite_note-:0-2\">&#91;2&#93;</a></sup></li>\\n<li>이명박: 1827일(5년)</li>\\n<li>박근혜: 1474일(4년 13일)<sup id=\"cite_ref-:0_2-1\" class=\"reference\"><a href=\"#cite_note-:0-2\">&#91;2&#93;</a></sup></li>\\n<li>문재인: 1825일(5년)</li></ul>\\n<h3><span id=\".EA.B6.8C.ED.95.9C.EB.8C.80.ED.96.89_.EC.9E.AC.EC.A7.81.EC.9D.BC_.EC.88.98\"></span><span class=\"mw-headline\" id=\"권한대행_재직일_수\">권한대행 재직일 수</span></h3>\\n<ul><li>박정희: 633일(1년 8개월 23일)</li>\\n<li>황교안: 153일(5개월 2일)</li>\\n<li>허정: 96일(3개월 6일)</li>\\n<li>고건: 64일(2개월 4일)</li>\\n<li>최규하: 44일(1개월 14일)</li>\\n<li>박충훈: 17일</li>\\n<li>곽상훈: 8일</li>\\n<li>백낙준: 5일</li></ul>\\n<h2><span id=\".EA.B0.99.EC.9D.B4_.EB.B3.B4.EA.B8.B0\"></span><span class=\"mw-headline\" id=\"같이_보기\">같이 보기</span></h2>\\n<ul><li><a href=\"/wiki/%EB%8C%80%ED%95%9C%EB%AF%BC%EA%B5%AD%EC%9D%98_%EB%8C%80%ED%86%B5%EB%A0%B9\" title=\"대한민국의 대통령\">대한민국의 대통령</a></li>\\n<li><a href=\"/wiki/%EB%8C%80%ED%95%9C%EB%AF%BC%EA%B5%AD%EC%9D%98_%EA%B5%AD%EB%AC%B4%EC%B4%9D%EB%A6%AC\" title=\"대한민국의 국무총리\">대한민국의 국무총리</a></li>\\n<li><a href=\"/wiki/%EB%8C%80%ED%95%9C%EB%AF%BC%EA%B5%AD%EC%9D%98_%EB%B6%80%ED%86%B5%EB%A0%B9\" title=\"대한민국의 부통령\">대한민국의 부통령</a></li>\\n<li><a href=\"/wiki/%EB%8C%80%ED%95%9C%EB%AF%BC%EA%B5%AD_%EC%9E%84%EC%8B%9C_%EC%A0%95%EB%B6%80%EC%9D%98_%EC%88%98%EB%B0%98_%EB%AA%A9%EB%A1%9D\" class=\"mw-redirect\" title=\"대한민국 임시 정부의 수반 목록\">대한민국 임시 정부의 수반 목록</a></li>\\n<li><a href=\"/wiki/%EB%8C%80%ED%95%9C%EB%AF%BC%EA%B5%AD%EC%9D%98_%EB%B6%80%ED%86%B5%EB%A0%B9_%EB%AA%A9%EB%A1%9D\" class=\"mw-redirect\" title=\"대한민국의 부통령 목록\">대한민국의 부통령 목록</a></li>\\n<li><a href=\"/wiki/%EB%8C%80%ED%95%9C%EB%AF%BC%EA%B5%AD%EC%9D%98_%EA%B5%AD%EB%AC%B4%EC%B4%9D%EB%A6%AC_%EB%AA%A9%EB%A1%9D\" class=\"mw-redirect\" title=\"대한민국의 국무총리 목록\">대한민국의 국무총리 목록</a></li>\\n<li><a href=\"/wiki/%EB%8C%80%ED%95%9C%EB%AF%BC%EA%B5%AD%EC%9D%98_%EB%8C%80%ED%86%B5%EB%A0%B9_%EC%84%A0%EA%B1%B0\" title=\"대한민국의 대통령 선거\">대한민국의 대통령 선거</a></li>\\n<li><a href=\"/wiki/%EB%8C%80%ED%95%9C%EB%AF%BC%EA%B5%AD%EC%9D%98_%EB%8C%80%ED%86%B5%EB%A0%B9_%EB%B0%B0%EC%9A%B0%EC%9E%90\" title=\"대한민국의 대통령 배우자\">대한민국의 대통령 배우자</a></li></ul>\\n<h2><span id=\".EA.B0.81.EC.A3.BC\"></span><span class=\"mw-headline\" id=\"각주\">각주</span></h2>\\n<div class=\"reflist\" style=\"list-style-type: decimal;\">\\n<div class=\"mw-references-wrap\"><ol class=\"references\">\\n<li id=\"cite_note-1\"><span class=\"mw-cite-backlink\"><a href=\"#cite_ref-1\">↑</a></span> <span class=\"reference-text\">대한민국헌법 제70조 대통령의 임기는 5년으로 하며, 중임할 수 없다.</span>\\n</li>\\n<li id=\"cite_note-:0-2\"><span class=\"mw-cite-backlink\">↑ <sup><a href=\"#cite_ref-:0_2-0\">가</a></sup> <sup><a href=\"#cite_ref-:0_2-1\">나</a></sup></span> <span class=\"reference-text\">직무정지 기간 포함</span>\\n</li>\\n</ol></div></div>\\n<div role=\"navigation\" class=\"navbox\" aria-labelledby=\"대한민국의_역대_대통령(목록)\" style=\"padding:3px\"><table class=\"nowraplinks hlist mw-collapsible autocollapse navbox-inner\" style=\"border-spacing:0;background:transparent;color:inherit\"><tbody><tr><th scope=\"col\" class=\"navbox-title\" colspan=\"4\" style=\"background:#003179; color:#FFC300; font-size: 9.5pt\"><div class=\"plainlinks hlist navbar mini\"><ul><li class=\"nv-view\"><a href=\"/wiki/%ED%8B%80:%EB%8C%80%ED%95%9C%EB%AF%BC%EA%B5%AD%EC%9D%98_%EC%97%AD%EB%8C%80_%EB%8C%80%ED%86%B5%EB%A0%B9\" title=\"틀:대한민국의 역대 대통령\"><abbr title=\"이 틀을 보기\" style=\";background:#003179; color:#FFC300; font-size: 9.5pt;background:none transparent;border:none;-moz-box-shadow:none;-webkit-box-shadow:none;box-shadow:none; padding:0;\">v</abbr></a></li><li class=\"nv-talk\"><a href=\"/wiki/%ED%8B%80%ED%86%A0%EB%A1%A0:%EB%8C%80%ED%95%9C%EB%AF%BC%EA%B5%AD%EC%9D%98_%EC%97%AD%EB%8C%80_%EB%8C%80%ED%86%B5%EB%A0%B9\" title=\"틀토론:대한민국의 역대 대통령\"><abbr title=\"이 틀에 대한 토론\" style=\";background:#003179; color:#FFC300; font-size: 9.5pt;background:none transparent;border:none;-moz-box-shadow:none;-webkit-box-shadow:none;box-shadow:none; padding:0;\">t</abbr></a></li><li class=\"nv-edit\"><a class=\"external text\" href=\"https://ko.wikipedia.org/w/index.php?title=%ED%8B%80:%EB%8C%80%ED%95%9C%EB%AF%BC%EA%B5%AD%EC%9D%98_%EC%97%AD%EB%8C%80_%EB%8C%80%ED%86%B5%EB%A0%B9&amp;action=edit\"><abbr title=\"이 틀을 편집하기\" style=\";background:#003179; color:#FFC300; font-size: 9.5pt;background:none transparent;border:none;-moz-box-shadow:none;-webkit-box-shadow:none;box-shadow:none; padding:0;\">e</abbr></a></li></ul></div><div id=\"대한민국의_역대_대통령(목록)\" style=\"font-size:114%;margin:0 4em\"><a href=\"/wiki/%EB%8C%80%ED%95%9C%EB%AF%BC%EA%B5%AD\" title=\"대한민국\"><span style=\"color:#FFC300;\">대한민국의</span></a> <a href=\"/wiki/%EB%8C%80%ED%95%9C%EB%AF%BC%EA%B5%AD%EC%9D%98_%EB%8C%80%ED%86%B5%EB%A0%B9\" title=\"대한민국의 대통령\"><span style=\"color:#FFC300;\">역대 대통령</span></a><span style=\"color:#FFC300;\">(</span><a class=\"mw-selflink selflink\"><span style=\"color:#FFC300;\">목록</span></a><span style=\"color:#FFC300;\">)</span></div></th></tr><tr><td class=\"navbox-image\" rowspan=\"2\" style=\"width:1px;padding:0px 2px 0px 0px\"><div><a href=\"/wiki/%ED%8C%8C%EC%9D%BC:Flag_of_the_President_of_South_Korea.svg\" class=\"image\"><img alt=\"Flag of the President of South Korea.svg\" src=\"//upload.wikimedia.org/wikipedia/commons/thumb/f/f9/Flag_of_the_President_of_South_Korea.svg/160px-Flag_of_the_President_of_South_Korea.svg.png\" decoding=\"async\" width=\"160\" height=\"107\" srcset=\"//upload.wikimedia.org/wikipedia/commons/thumb/f/f9/Flag_of_the_President_of_South_Korea.svg/240px-Flag_of_the_President_of_South_Korea.svg.png 1.5x, //upload.wikimedia.org/wikipedia/commons/thumb/f/f9/Flag_of_the_President_of_South_Korea.svg/320px-Flag_of_the_President_of_South_Korea.svg.png 2x\" data-file-width=\"600\" data-file-height=\"400\" /></a></div></td><td colspan=\"2\" class=\"navbox-list navbox-odd\" style=\"width:100%;padding:0px\"><div style=\"padding:0em 0.25em\">\\n<ul><li><span style=\"font-size: 9.5pt\">1·2·3 <a href=\"/wiki/%EC%9D%B4%EC%8A%B9%EB%A7%8C\" title=\"이승만\">이승만</a></span></li>\\n<li><span style=\"font-size: 9.5pt\">4 <a href=\"/wiki/%EC%9C%A4%EB%B3%B4%EC%84%A0\" title=\"윤보선\">윤보선</a></span></li>\\n<li><span style=\"font-size: 9.5pt\">5·6·7·8·9 <a href=\"/wiki/%EB%B0%95%EC%A0%95%ED%9D%AC\" title=\"박정희\">박정희</a></span></li>\\n<li><span style=\"font-size: 9.5pt\">10 <a href=\"/wiki/%EC%B5%9C%EA%B7%9C%ED%95%98\" title=\"최규하\">최규하</a></span></li>\\n<li><span style=\"font-size: 9.5pt\">11·12 <a href=\"/wiki/%EC%A0%84%EB%91%90%ED%99%98\" title=\"전두환\">전두환</a></span></li>\\n<li><span style=\"font-size: 9.5pt\">13 <a href=\"/wiki/%EB%85%B8%ED%83%9C%EC%9A%B0\" title=\"노태우\">노태우</a></span></li></ul>\\n</div></td><td class=\"navbox-image\" rowspan=\"2\" style=\"width:1px;padding:0px 0px 0px 2px\"><div><a href=\"/wiki/%ED%8C%8C%EC%9D%BC:Seal_of_the_President_of_the_Republic_of_Korea.svg\" class=\"image\" title=\"대한민국 대통령 문장\"><img alt=\"대한민국 대통령 문장\" src=\"//upload.wikimedia.org/wikipedia/commons/thumb/2/28/Seal_of_the_President_of_the_Republic_of_Korea.svg/130px-Seal_of_the_President_of_the_Republic_of_Korea.svg.png\" decoding=\"async\" width=\"130\" height=\"130\" srcset=\"//upload.wikimedia.org/wikipedia/commons/thumb/2/28/Seal_of_the_President_of_the_Republic_of_Korea.svg/195px-Seal_of_the_President_of_the_Republic_of_Korea.svg.png 1.5x, //upload.wikimedia.org/wikipedia/commons/thumb/2/28/Seal_of_the_President_of_the_Republic_of_Korea.svg/260px-Seal_of_the_President_of_the_Republic_of_Korea.svg.png 2x\" data-file-width=\"350\" data-file-height=\"350\" /></a></div></td></tr><tr><td colspan=\"2\" class=\"navbox-list navbox-even\" style=\"width:100%;padding:0px\"><div style=\"padding:0em 0.25em\">\\n<ul><li><span style=\"font-size: 9.5pt\">14 <a href=\"/wiki/%EA%B9%80%EC%98%81%EC%82%BC\" title=\"김영삼\">김영삼</a></span></li>\\n<li><span style=\"font-size: 9.5pt\">15 <a href=\"/wiki/%EA%B9%80%EB%8C%80%EC%A4%91\" title=\"김대중\">김대중</a></span></li>\\n<li><span style=\"font-size: 9.5pt\">16 <a href=\"/wiki/%EB%85%B8%EB%AC%B4%ED%98%84\" title=\"노무현\">노무현</a></span></li>\\n<li><span style=\"font-size: 9.5pt\">17 <a href=\"/wiki/%EC%9D%B4%EB%AA%85%EB%B0%95\" title=\"이명박\">이명박</a></span></li>\\n<li><span style=\"font-size: 9.5pt\">18 <a href=\"/wiki/%EB%B0%95%EA%B7%BC%ED%98%9C\" title=\"박근혜\">박근혜</a></span></li>\\n<li><span style=\"font-size: 9.5pt\">19 <a href=\"/wiki/%EB%AC%B8%EC%9E%AC%EC%9D%B8\" title=\"문재인\">문재인</a></span></li>\\n<li><span style=\"font-size: 9.5pt\">20 <a href=\"/wiki/%EC%9C%A4%EC%84%9D%EC%97%B4\" title=\"윤석열\">윤석열</a></span></li></ul>\\n</div></td></tr><tr><td class=\"navbox-abovebelow\" colspan=\"4\" style=\"background:#e9e6d6; font-size: 9.5pt\"><div>\\n<ul><li><a href=\"/wiki/%ED%8B%80:%EA%B3%A0%EC%A1%B0%EC%84%A0%EC%9D%98_%EC%99%95\" title=\"틀:고조선의 왕\">고조선</a></li>\\n<li><a href=\"/wiki/%ED%8B%80:%EB%B6%80%EC%97%AC%EC%9D%98_%EC%99%95\" title=\"틀:부여의 왕\">부여</a></li>\\n<li><a href=\"/wiki/%ED%8B%80:%EA%B3%A0%EA%B5%AC%EB%A0%A4%EC%9D%98_%EC%99%95\" title=\"틀:고구려의 왕\">고구려</a></li>\\n<li><a href=\"/wiki/%ED%8B%80:%EB%B0%B1%EC%A0%9C%EC%9D%98_%EC%99%95\" class=\"mw-redirect\" title=\"틀:백제의 왕\">백제</a></li>\\n<li><a href=\"/wiki/%ED%8B%80:%EC%8B%A0%EB%9D%BC%EC%9D%98_%EC%99%95\" title=\"틀:신라의 왕\">신라</a></li>\\n<li><a href=\"/wiki/%ED%8B%80:%EA%B0%80%EC%95%BC%EC%9D%98_%EC%99%95\" title=\"틀:가야의 왕\">가야</a></li>\\n<li><a href=\"/wiki/%ED%8B%80:%ED%83%90%EB%9D%BC%EC%9D%98_%EA%B5%B0%EC%A3%BC\" title=\"틀:탐라의 군주\">탐라</a></li>\\n<li><a href=\"/wiki/%ED%8B%80:%EB%B0%9C%ED%95%B4%EC%9D%98_%EC%99%95\" title=\"틀:발해의 왕\">발해</a></li>\\n<li><a href=\"/wiki/%ED%8B%80:%ED%9B%84%EC%82%BC%EA%B5%AD%EC%9D%98_%EC%99%95\" title=\"틀:후삼국의 왕\">후삼국</a></li>\\n<li><a href=\"/wiki/%ED%8B%80:%EA%B3%A0%EB%A0%A4%EC%9D%98_%EC%99%95\" class=\"mw-redirect\" title=\"틀:고려의 왕\">고려</a></li>\\n<li><a href=\"/wiki/%ED%8B%80:%EC%A1%B0%EC%84%A0%EC%9D%98_%EC%99%95\" class=\"mw-redirect\" title=\"틀:조선의 왕\">조선</a></li>\\n<li><a href=\"/wiki/%ED%8B%80:%EB%8C%80%ED%95%9C%EC%A0%9C%EA%B5%AD%EC%9D%98_%ED%99%A9%EC%A0%9C\" title=\"틀:대한제국의 황제\">대한제국</a></li>\\n<li><a href=\"/wiki/%ED%8B%80:%EC%9D%BC%EC%A0%9C%EA%B0%95%EC%A0%90%EA%B8%B0%EC%9D%98_%ED%86%B5%EC%B9%98%EC%9E%90\" title=\"틀:일제강점기의 통치자\">일제강점기</a></li>\\n<li><a href=\"/wiki/%ED%8B%80:%EB%8C%80%ED%95%9C%EB%AF%BC%EA%B5%AD_%EC%9E%84%EC%8B%9C%EC%A0%95%EB%B6%80%EC%9D%98_%EC%88%98%EB%B0%98\" title=\"틀:대한민국 임시정부의 수반\">대한민국 임시정부</a></li>\\n<li><a href=\"/wiki/%ED%8B%80:%EB%8C%80%ED%95%9C%EB%AF%BC%EA%B5%AD%EC%9D%98_%EC%97%AD%EB%8C%80_%EB%8C%80%ED%86%B5%EB%A0%B9\" title=\"틀:대한민국의 역대 대통령\">대한민국</a></li>\\n<li><a href=\"/wiki/%ED%8B%80:%EC%A1%B0%EC%84%A0%EB%AF%BC%EC%A3%BC%EC%A3%BC%EC%9D%98%EC%9D%B8%EB%AF%BC%EA%B3%B5%ED%99%94%EA%B5%AD%EC%9D%98_%EA%B5%AD%EA%B0%80%EC%88%98%EB%B0%98\" title=\"틀:조선민주주의인민공화국의 국가수반\">조선민주주의인민공화국</a></li></ul>\\n</div></td></tr></tbody></table></div>\\n<div role=\"navigation\" class=\"navbox\" aria-labelledby=\"대한민국의_대통령과_3부요인_및_헌법기관장\" style=\"padding:3px\"><table class=\"nowraplinks mw-collapsible autocollapse navbox-inner\" style=\"border-spacing:0;background:transparent;color:inherit\"><tbody><tr><th scope=\"col\" class=\"navbox-title\" colspan=\"2\"><div class=\"plainlinks hlist navbar mini\"><ul><li class=\"nv-view\"><a href=\"/wiki/%ED%8B%80:%EB%8C%80%ED%95%9C%EB%AF%BC%EA%B5%AD%EC%9D%98_%EB%8C%80%ED%86%B5%EB%A0%B9%EA%B3%BC_3%EB%B6%80%EC%9A%94%EC%9D%B8_%EB%B0%8F_%ED%97%8C%EB%B2%95%EA%B8%B0%EA%B4%80%EC%9E%A5\" title=\"틀:대한민국의 대통령과 3부요인 및 헌법기관장\"><abbr title=\"이 틀을 보기\" style=\";;background:none transparent;border:none;-moz-box-shadow:none;-webkit-box-shadow:none;box-shadow:none; padding:0;\">v</abbr></a></li><li class=\"nv-talk\"><a href=\"/wiki/%ED%8B%80%ED%86%A0%EB%A1%A0:%EB%8C%80%ED%95%9C%EB%AF%BC%EA%B5%AD%EC%9D%98_%EB%8C%80%ED%86%B5%EB%A0%B9%EA%B3%BC_3%EB%B6%80%EC%9A%94%EC%9D%B8_%EB%B0%8F_%ED%97%8C%EB%B2%95%EA%B8%B0%EA%B4%80%EC%9E%A5\" title=\"틀토론:대한민국의 대통령과 3부요인 및 헌법기관장\"><abbr title=\"이 틀에 대한 토론\" style=\";;background:none transparent;border:none;-moz-box-shadow:none;-webkit-box-shadow:none;box-shadow:none; padding:0;\">t</abbr></a></li><li class=\"nv-edit\"><a class=\"external text\" href=\"https://ko.wikipedia.org/w/index.php?title=%ED%8B%80:%EB%8C%80%ED%95%9C%EB%AF%BC%EA%B5%AD%EC%9D%98_%EB%8C%80%ED%86%B5%EB%A0%B9%EA%B3%BC_3%EB%B6%80%EC%9A%94%EC%9D%B8_%EB%B0%8F_%ED%97%8C%EB%B2%95%EA%B8%B0%EA%B4%80%EC%9E%A5&amp;action=edit\"><abbr title=\"이 틀을 편집하기\" style=\";;background:none transparent;border:none;-moz-box-shadow:none;-webkit-box-shadow:none;box-shadow:none; padding:0;\">e</abbr></a></li></ul></div><div id=\"대한민국의_대통령과_3부요인_및_헌법기관장\" style=\"font-size:114%;margin:0 4em\">대한민국의 대통령과 3부요인 및 헌법기관장</div></th></tr><tr><td colspan=\"2\" class=\"navbox-list navbox-odd hlist\" style=\"width:100%;padding:0px\"><div style=\"padding:0em 0.25em\">\\n<ul><li><a href=\"/wiki/%EB%8C%80%ED%95%9C%EB%AF%BC%EA%B5%AD%EC%9D%98_%EB%8C%80%ED%86%B5%EB%A0%B9\" title=\"대한민국의 대통령\">대통령</a>(<a href=\"/wiki/%EC%9C%A4%EC%84%9D%EC%97%B4\" title=\"윤석열\">윤석열</a>)</li>\\n<li><a href=\"/wiki/%EB%8C%80%ED%95%9C%EB%AF%BC%EA%B5%AD%EC%9D%98_%EA%B5%AD%ED%9A%8C%EC%9D%98%EC%9E%A5\" title=\"대한민국의 국회의장\">국회의장</a>(<a href=\"/wiki/%EA%B9%80%EC%A7%84%ED%91%9C_(%EC%A0%95%EC%B9%98%EC%9D%B8)\" title=\"김진표 (정치인)\">김진표</a>)</li>\\n<li><a href=\"/wiki/%EB%8C%80%ED%95%9C%EB%AF%BC%EA%B5%AD%EC%9D%98_%EB%8C%80%EB%B2%95%EC%9B%90%EC%9E%A5\" title=\"대한민국의 대법원장\">대법원장</a>(<a href=\"/wiki/%EA%B9%80%EB%AA%85%EC%88%98_(%EB%B2%95%EC%A1%B0%EC%9D%B8)\" title=\"김명수 (법조인)\">김명수</a>)</li>\\n<li><a href=\"/wiki/%EB%8C%80%ED%95%9C%EB%AF%BC%EA%B5%AD%EC%9D%98_%ED%97%8C%EB%B2%95%EC%9E%AC%ED%8C%90%EC%86%8C%EC%9E%A5\" title=\"대한민국의 헌법재판소장\">헌법재판소장</a>(<a href=\"/wiki/%EC%9C%A0%EB%82%A8%EC%84%9D_(%EB%B2%95%EC%A1%B0%EC%9D%B8)\" title=\"유남석 (법조인)\">유남석</a>)</li>\\n<li><a href=\"/wiki/%EB%8C%80%ED%95%9C%EB%AF%BC%EA%B5%AD%EC%9D%98_%EA%B5%AD%EB%AC%B4%EC%B4%9D%EB%A6%AC\" title=\"대한민국의 국무총리\">국무총리</a>(<a href=\"/wiki/%ED%95%9C%EB%8D%95%EC%88%98\" title=\"한덕수\">한덕수</a>)</li>\\n<li><a href=\"/wiki/%EB%8C%80%ED%95%9C%EB%AF%BC%EA%B5%AD%EC%9D%98_%EC%A4%91%EC%95%99%EC%84%A0%EA%B1%B0%EA%B4%80%EB%A6%AC%EC%9C%84%EC%9B%90%ED%9A%8C_%EC%9C%84%EC%9B%90%EC%9E%A5\" title=\"대한민국의 중앙선거관리위원회 위원장\">중앙선거관리위원장</a>(<a href=\"/wiki/%EB%85%B8%ED%83%9C%EC%95%85\" title=\"노태악\">노태악</a>)</li></ul>\\n</div></td></tr></tbody></table></div>\\n<!-- \\nNewPP limit report\\nParsed by mw1452\\nCached time: 20221024045011\\nCache expiry: 3600\\nReduced expiry: true\\nComplications: [show‐toc]\\nCPU time usage: 0.161 seconds\\nReal time usage: 0.459 seconds\\nPreprocessor visited node count: 1156/1000000\\nPost‐expand include size: 22727/2097152 bytes\\nTemplate argument size: 1157/2097152 bytes\\nHighest expansion depth: 12/100\\nExpensive parser function count: 0/500\\nUnstrip recursion depth: 0/20\\nUnstrip post‐expand size: 2587/5000000 bytes\\nLua time usage: 0.021/10.000 seconds\\nLua memory usage: 1394494/52428800 bytes\\nNumber of Wikibase entities loaded: 1/400\\n-->\\n<!--\\nTransclusion expansion time report (%,ms,calls,template)\\n100.00%  392.251      1 -total\\n 27.14%  106.444      1 틀:위키데이터_속성_추적\\n 11.41%   44.759      1 틀:준보호-무기한\\n 10.88%   42.693      1 틀:보호-메타\\n 10.08%   39.539      1 틀:상단_아이콘\\n  7.69%   30.172      1 틀:Category_handler\\n  3.68%   14.431      2 틀:둘러보기_상자\\n  3.57%   14.017      3 틀:출생일과_나이\\n  3.40%   13.325      1 틀:대한민국의_역대_대통령\\n  2.16%    8.472      3 틀:출생일\\n-->\\n\\n<!-- Saved in parser cache with key kowiki:pcache:idhash:319386-0!canonical and timestamp 20221024045010 and revision id 33430829.\\n -->\\n</div><noscript><img src=\"//ko.wikipedia.org/wiki/Special:CentralAutoLogin/start?type=1x1\" alt=\"\" title=\"\" width=\"1\" height=\"1\" style=\"border: none; position: absolute;\" /></noscript>\\n<div class=\"printfooter\" data-nosnippet=\"\">원본 주소 \"<a dir=\"ltr\" href=\"https://ko.wikipedia.org/w/index.php?title=대한민국의_대통령_목록&amp;oldid=33430829\">https://ko.wikipedia.org/w/index.php?title=대한민국의_대통령_목록&amp;oldid=33430829</a>\"</div></div>\\n\\t\\t\\t\\t\\t<div id=\"catlinks\" class=\"catlinks\" data-mw=\"interface\"><div id=\"mw-normal-catlinks\" class=\"mw-normal-catlinks\"><a href=\"/wiki/%ED%8A%B9%EC%88%98:%EB%B6%84%EB%A5%98\" title=\"특수:분류\">분류</a>: <ul><li><a href=\"/wiki/%EB%B6%84%EB%A5%98:%EB%8C%80%ED%95%9C%EB%AF%BC%EA%B5%AD%EC%9D%98_%EB%8C%80%ED%86%B5%EB%A0%B9\" title=\"분류:대한민국의 대통령\">대한민국의 대통령</a></li><li><a href=\"/wiki/%EB%B6%84%EB%A5%98:%EB%8C%80%ED%95%9C%EB%AF%BC%EA%B5%AD_%EC%A0%95%EC%B9%98%EC%97%90_%EA%B4%80%ED%95%9C_%EB%AA%A9%EB%A1%9D\" title=\"분류:대한민국 정치에 관한 목록\">대한민국 정치에 관한 목록</a></li><li><a href=\"/wiki/%EB%B6%84%EB%A5%98:%EB%8C%80%ED%86%B5%EB%A0%B9_%EB%AA%A9%EB%A1%9D\" title=\"분류:대통령 목록\">대통령 목록</a></li><li><a href=\"/wiki/%EB%B6%84%EB%A5%98:%EB%8C%80%ED%95%9C%EB%AF%BC%EA%B5%AD_%EC%82%AC%EB%9E%8C_%EB%AA%A9%EB%A1%9D\" title=\"분류:대한민국 사람 목록\">대한민국 사람 목록</a></li></ul></div><div id=\"mw-hidden-catlinks\" class=\"mw-hidden-catlinks mw-hidden-cats-hidden\">숨은 분류: <ul><li><a href=\"/wiki/%EB%B6%84%EB%A5%98:%ED%83%80%EC%9E%84%EB%9D%BC%EC%9D%B8%EC%9D%84_%EC%82%AC%EC%9A%A9%ED%95%98%EB%8A%94_%EB%AC%B8%EC%84%9C\" title=\"분류:타임라인을 사용하는 문서\">타임라인을 사용하는 문서</a></li><li><a href=\"/wiki/%EB%B6%84%EB%A5%98:%EC%9C%84%ED%82%A4%EB%8D%B0%EC%9D%B4%ED%84%B0_%EC%86%8D%EC%84%B1_P373%EC%9D%84_%EC%82%AC%EC%9A%A9%ED%95%98%EB%8A%94_%EB%AC%B8%EC%84%9C\" title=\"분류:위키데이터 속성 P373을 사용하는 문서\">위키데이터 속성 P373을 사용하는 문서</a></li><li><a href=\"/wiki/%EB%B6%84%EB%A5%98:%EC%A4%80%EB%B3%B4%ED%98%B8_%EB%AC%B8%EC%84%9C\" title=\"분류:준보호 문서\">준보호 문서</a></li></ul></div></div>\\n\\t\\t\\t\\t</div>\\n\\t\\t\\t</main>\\n\\t\\t\\t\\n\\t\\t</div>\\n\\t\\t<div class=\"mw-footer-container\">\\n\\t\\t\\t\\n<footer id=\"footer\" class=\"mw-footer\" role=\"contentinfo\" >\\n\\t<ul id=\"footer-info\">\\n\\t<li id=\"footer-info-lastmod\"> 이 문서는 2022년 10월 9일 (일) 15:26에 마지막으로 편집되었습니다.</li>\\n\\t<li id=\"footer-info-copyright\">모든 문서는 <a href=\"//ko.wikipedia.org/wiki/%EC%9C%84%ED%82%A4%EB%B0%B1%EA%B3%BC:Creative_Commons_Attribution-ShareAlike_3.0_Unported_License\">크리에이티브 커먼즈 저작자표시-동일조건변경허락 3.0</a>에 따라 사용할 수 있으며, 추가적인 조건이 적용될 수 있습니다. 자세한 내용은 <a href=\"//wikimediafoundation.org/wiki/Terms_of_Use/ko\">이용 약관</a>을 참고하십시오.<br />Wikipedia®는 미국 및 다른 국가에 등록되어 있는 <a class=\\'internal\\' href=\"http://www.wikimediafoundation.org\">Wikimedia Foundation, Inc.</a> 소유의 등록 상표입니다.</li>\\n</ul>\\n\\n\\t<ul id=\"footer-places\">\\n\\t<li id=\"footer-places-privacy\"><a href=\"https://foundation.wikimedia.org/wiki/Privacy_policy\">개인정보처리방침</a></li>\\n\\t<li id=\"footer-places-about\"><a href=\"/wiki/%EC%9C%84%ED%82%A4%EB%B0%B1%EA%B3%BC:%EC%86%8C%EA%B0%9C\">위키백과 소개</a></li>\\n\\t<li id=\"footer-places-disclaimers\"><a href=\"/wiki/%EC%9C%84%ED%82%A4%EB%B0%B1%EA%B3%BC:%EB%A9%B4%EC%B1%85_%EC%A1%B0%ED%95%AD\">면책 조항</a></li>\\n\\t<li id=\"footer-places-mobileview\"><a href=\"//ko.m.wikipedia.org/w/index.php?title=%EB%8C%80%ED%95%9C%EB%AF%BC%EA%B5%AD%EC%9D%98_%EB%8C%80%ED%86%B5%EB%A0%B9_%EB%AA%A9%EB%A1%9D&amp;mobileaction=toggle_view_mobile\" class=\"noprint stopMobileRedirectToggle\">모바일 보기</a></li>\\n\\t<li id=\"footer-places-developers\"><a href=\"https://developer.wikimedia.org\">개발자</a></li>\\n\\t<li id=\"footer-places-statslink\"><a href=\"https://stats.wikimedia.org/#/ko.wikipedia.org\">통계</a></li>\\n\\t<li id=\"footer-places-cookiestatement\"><a href=\"https://foundation.wikimedia.org/wiki/Cookie_statement\">쿠키 정책</a></li>\\n</ul>\\n\\n\\t<ul id=\"footer-icons\" class=\"noprint\">\\n\\t<li id=\"footer-copyrightico\"><a href=\"https://wikimediafoundation.org/\"><img src=\"/static/images/footer/wikimedia-button.png\" srcset=\"/static/images/footer/wikimedia-button-1.5x.png 1.5x, /static/images/footer/wikimedia-button-2x.png 2x\" width=\"88\" height=\"31\" alt=\"Wikimedia Foundation\" loading=\"lazy\" /></a></li>\\n\\t<li id=\"footer-poweredbyico\"><a href=\"https://www.mediawiki.org/\"><img src=\"/static/images/footer/poweredby_mediawiki_88x31.png\" alt=\"Powered by MediaWiki\" srcset=\"/static/images/footer/poweredby_mediawiki_132x47.png 1.5x, /static/images/footer/poweredby_mediawiki_176x62.png 2x\" width=\"88\" height=\"31\" loading=\"lazy\"/></a></li>\\n</ul>\\n\\n</footer>\\n\\n\\t\\t</div>\\n\\t</div> \\n</div> \\n\\n<script>(RLQ=window.RLQ||[]).push(function(){mw.config.set({\"wgPageParseReport\":{\"limitreport\":{\"cputime\":\"0.161\",\"walltime\":\"0.459\",\"ppvisitednodes\":{\"value\":1156,\"limit\":1000000},\"postexpandincludesize\":{\"value\":22727,\"limit\":2097152},\"templateargumentsize\":{\"value\":1157,\"limit\":2097152},\"expansiondepth\":{\"value\":12,\"limit\":100},\"expensivefunctioncount\":{\"value\":0,\"limit\":500},\"unstrip-depth\":{\"value\":0,\"limit\":20},\"unstrip-size\":{\"value\":2587,\"limit\":5000000},\"entityaccesscount\":{\"value\":1,\"limit\":400},\"timingprofile\":[\"100.00%  392.251      1 -total\",\" 27.14%  106.444      1 틀:위키데이터_속성_추적\",\" 11.41%   44.759      1 틀:준보호-무기한\",\" 10.88%   42.693      1 틀:보호-메타\",\" 10.08%   39.539      1 틀:상단_아이콘\",\"  7.69%   30.172      1 틀:Category_handler\",\"  3.68%   14.431      2 틀:둘러보기_상자\",\"  3.57%   14.017      3 틀:출생일과_나이\",\"  3.40%   13.325      1 틀:대한민국의_역대_대통령\",\"  2.16%    8.472      3 틀:출생일\"]},\"scribunto\":{\"limitreport-timeusage\":{\"value\":\"0.021\",\"limit\":\"10.000\"},\"limitreport-memusage\":{\"value\":1394494,\"limit\":52428800}},\"cachereport\":{\"origin\":\"mw1452\",\"timestamp\":\"20221024045011\",\"ttl\":3600,\"transientcontent\":true}}});});</script>\\n<script type=\"application/ld+json\">{\"@context\":\"https:\\\\/\\\\/schema.org\",\"@type\":\"Article\",\"name\":\"\\\\ub300\\\\ud55c\\\\ubbfc\\\\uad6d\\\\uc758 \\\\ub300\\\\ud1b5\\\\ub839 \\\\ubaa9\\\\ub85d\",\"url\":\"https:\\\\/\\\\/ko.wikipedia.org\\\\/wiki\\\\/%EB%8C%80%ED%95%9C%EB%AF%BC%EA%B5%AD%EC%9D%98_%EB%8C%80%ED%86%B5%EB%A0%B9_%EB%AA%A9%EB%A1%9D\",\"sameAs\":\"http:\\\\/\\\\/www.wikidata.org\\\\/entity\\\\/Q498932\",\"mainEntity\":\"http:\\\\/\\\\/www.wikidata.org\\\\/entity\\\\/Q498932\",\"author\":{\"@type\":\"Organization\",\"name\":\"\\\\uc704\\\\ud0a4\\\\ubbf8\\\\ub514\\\\uc5b4 \\\\ud504\\\\ub85c\\\\uc81d\\\\ud2b8 \\\\uae30\\\\uc5ec\\\\uc790\"},\"publisher\":{\"@type\":\"Organization\",\"name\":\"Wikimedia Foundation, Inc.\",\"logo\":{\"@type\":\"ImageObject\",\"url\":\"https:\\\\/\\\\/www.wikimedia.org\\\\/static\\\\/images\\\\/wmf-hor-googpub.png\"}},\"datePublished\":\"2009-04-16T12:09:06Z\",\"dateModified\":\"2022-10-09T06:26:43Z\",\"headline\":\"\\\\uc704\\\\ud0a4\\\\ubbf8\\\\ub514\\\\uc5b4 \\\\ubaa9\\\\ub85d \\\\ud56d\\\\ubaa9\"}</script><script type=\"application/ld+json\">{\"@context\":\"https:\\\\/\\\\/schema.org\",\"@type\":\"Article\",\"name\":\"\\\\ub300\\\\ud55c\\\\ubbfc\\\\uad6d\\\\uc758 \\\\ub300\\\\ud1b5\\\\ub839 \\\\ubaa9\\\\ub85d\",\"url\":\"https:\\\\/\\\\/ko.wikipedia.org\\\\/wiki\\\\/%EB%8C%80%ED%95%9C%EB%AF%BC%EA%B5%AD%EC%9D%98_%EB%8C%80%ED%86%B5%EB%A0%B9_%EB%AA%A9%EB%A1%9D\",\"sameAs\":\"http:\\\\/\\\\/www.wikidata.org\\\\/entity\\\\/Q498932\",\"mainEntity\":\"http:\\\\/\\\\/www.wikidata.org\\\\/entity\\\\/Q498932\",\"author\":{\"@type\":\"Organization\",\"name\":\"\\\\uc704\\\\ud0a4\\\\ubbf8\\\\ub514\\\\uc5b4 \\\\ud504\\\\ub85c\\\\uc81d\\\\ud2b8 \\\\uae30\\\\uc5ec\\\\uc790\"},\"publisher\":{\"@type\":\"Organization\",\"name\":\"Wikimedia Foundation, Inc.\",\"logo\":{\"@type\":\"ImageObject\",\"url\":\"https:\\\\/\\\\/www.wikimedia.org\\\\/static\\\\/images\\\\/wmf-hor-googpub.png\"}},\"datePublished\":\"2009-04-16T12:09:06Z\",\"dateModified\":\"2022-10-09T06:26:43Z\",\"headline\":\"\\\\uc704\\\\ud0a4\\\\ubbf8\\\\ub514\\\\uc5b4 \\\\ubaa9\\\\ub85d \\\\ud56d\\\\ubaa9\"}</script>\\n<script>(RLQ=window.RLQ||[]).push(function(){mw.config.set({\"wgBackendResponseTime\":99,\"wgHostname\":\"mw2408\"});});</script>\\n</body>\\n</html>'"
      ]
     },
     "execution_count": 54,
     "metadata": {},
     "output_type": "execute_result"
    }
   ],
   "source": [
    "html"
   ]
  },
  {
   "cell_type": "code",
   "execution_count": 10,
   "id": "69905eb7-ada5-41db-8510-99b5fa177dcc",
   "metadata": {
    "collapsed": true,
    "jupyter": {
     "outputs_hidden": true
    },
    "tags": []
   },
   "outputs": [
    {
     "ename": "TypeError",
     "evalue": "string indices must be integers",
     "output_type": "error",
     "traceback": [
      "\u001b[1;31m---------------------------------------------------------------------------\u001b[0m",
      "\u001b[1;31mTypeError\u001b[0m                                 Traceback (most recent call last)",
      "Input \u001b[1;32mIn [10]\u001b[0m, in \u001b[0;36m<cell line: 2>\u001b[1;34m()\u001b[0m\n\u001b[0;32m      1\u001b[0m st \u001b[38;5;241m=\u001b[39m \u001b[38;5;124m'\u001b[39m\u001b[38;5;124m[\u001b[39m\u001b[38;5;124m{\u001b[39m\u001b[38;5;124m\"\u001b[39m\u001b[38;5;124mid\u001b[39m\u001b[38;5;124m\"\u001b[39m\u001b[38;5;124m: 28, \u001b[39m\u001b[38;5;124m\"\u001b[39m\u001b[38;5;124mname\u001b[39m\u001b[38;5;124m\"\u001b[39m\u001b[38;5;124m: \u001b[39m\u001b[38;5;124m\"\u001b[39m\u001b[38;5;124mAction\u001b[39m\u001b[38;5;124m\"\u001b[39m\u001b[38;5;124m}, \u001b[39m\u001b[38;5;124m{\u001b[39m\u001b[38;5;124m\"\u001b[39m\u001b[38;5;124mid\u001b[39m\u001b[38;5;124m\"\u001b[39m\u001b[38;5;124m: 12, \u001b[39m\u001b[38;5;124m\"\u001b[39m\u001b[38;5;124mname\u001b[39m\u001b[38;5;124m\"\u001b[39m\u001b[38;5;124m: \u001b[39m\u001b[38;5;124m\"\u001b[39m\u001b[38;5;124mAdventure\u001b[39m\u001b[38;5;124m\"\u001b[39m\u001b[38;5;124m}, \u001b[39m\u001b[38;5;124m{\u001b[39m\u001b[38;5;124m\"\u001b[39m\u001b[38;5;124mid\u001b[39m\u001b[38;5;124m\"\u001b[39m\u001b[38;5;124m: 14, \u001b[39m\u001b[38;5;124m\"\u001b[39m\u001b[38;5;124mname\u001b[39m\u001b[38;5;124m\"\u001b[39m\u001b[38;5;124m: \u001b[39m\u001b[38;5;124m\"\u001b[39m\u001b[38;5;124mFantasy\u001b[39m\u001b[38;5;124m\"\u001b[39m\u001b[38;5;124m}, \u001b[39m\u001b[38;5;124m{\u001b[39m\u001b[38;5;124m\"\u001b[39m\u001b[38;5;124mid\u001b[39m\u001b[38;5;124m\"\u001b[39m\u001b[38;5;124m: 878, \u001b[39m\u001b[38;5;124m\"\u001b[39m\u001b[38;5;124mname\u001b[39m\u001b[38;5;124m\"\u001b[39m\u001b[38;5;124m: \u001b[39m\u001b[38;5;124m\"\u001b[39m\u001b[38;5;124mScience Fiction\u001b[39m\u001b[38;5;124m\"\u001b[39m\u001b[38;5;124m}]\u001b[39m\u001b[38;5;124m'\u001b[39m\n\u001b[1;32m----> 2\u001b[0m [i[\u001b[38;5;124m'\u001b[39m\u001b[38;5;124mname\u001b[39m\u001b[38;5;124m'\u001b[39m] \u001b[38;5;28;01mfor\u001b[39;00m i \u001b[38;5;129;01min\u001b[39;00m st]\n",
      "Input \u001b[1;32mIn [10]\u001b[0m, in \u001b[0;36m<listcomp>\u001b[1;34m(.0)\u001b[0m\n\u001b[0;32m      1\u001b[0m st \u001b[38;5;241m=\u001b[39m \u001b[38;5;124m'\u001b[39m\u001b[38;5;124m[\u001b[39m\u001b[38;5;124m{\u001b[39m\u001b[38;5;124m\"\u001b[39m\u001b[38;5;124mid\u001b[39m\u001b[38;5;124m\"\u001b[39m\u001b[38;5;124m: 28, \u001b[39m\u001b[38;5;124m\"\u001b[39m\u001b[38;5;124mname\u001b[39m\u001b[38;5;124m\"\u001b[39m\u001b[38;5;124m: \u001b[39m\u001b[38;5;124m\"\u001b[39m\u001b[38;5;124mAction\u001b[39m\u001b[38;5;124m\"\u001b[39m\u001b[38;5;124m}, \u001b[39m\u001b[38;5;124m{\u001b[39m\u001b[38;5;124m\"\u001b[39m\u001b[38;5;124mid\u001b[39m\u001b[38;5;124m\"\u001b[39m\u001b[38;5;124m: 12, \u001b[39m\u001b[38;5;124m\"\u001b[39m\u001b[38;5;124mname\u001b[39m\u001b[38;5;124m\"\u001b[39m\u001b[38;5;124m: \u001b[39m\u001b[38;5;124m\"\u001b[39m\u001b[38;5;124mAdventure\u001b[39m\u001b[38;5;124m\"\u001b[39m\u001b[38;5;124m}, \u001b[39m\u001b[38;5;124m{\u001b[39m\u001b[38;5;124m\"\u001b[39m\u001b[38;5;124mid\u001b[39m\u001b[38;5;124m\"\u001b[39m\u001b[38;5;124m: 14, \u001b[39m\u001b[38;5;124m\"\u001b[39m\u001b[38;5;124mname\u001b[39m\u001b[38;5;124m\"\u001b[39m\u001b[38;5;124m: \u001b[39m\u001b[38;5;124m\"\u001b[39m\u001b[38;5;124mFantasy\u001b[39m\u001b[38;5;124m\"\u001b[39m\u001b[38;5;124m}, \u001b[39m\u001b[38;5;124m{\u001b[39m\u001b[38;5;124m\"\u001b[39m\u001b[38;5;124mid\u001b[39m\u001b[38;5;124m\"\u001b[39m\u001b[38;5;124m: 878, \u001b[39m\u001b[38;5;124m\"\u001b[39m\u001b[38;5;124mname\u001b[39m\u001b[38;5;124m\"\u001b[39m\u001b[38;5;124m: \u001b[39m\u001b[38;5;124m\"\u001b[39m\u001b[38;5;124mScience Fiction\u001b[39m\u001b[38;5;124m\"\u001b[39m\u001b[38;5;124m}]\u001b[39m\u001b[38;5;124m'\u001b[39m\n\u001b[1;32m----> 2\u001b[0m [\u001b[43mi\u001b[49m\u001b[43m[\u001b[49m\u001b[38;5;124;43m'\u001b[39;49m\u001b[38;5;124;43mname\u001b[39;49m\u001b[38;5;124;43m'\u001b[39;49m\u001b[43m]\u001b[49m \u001b[38;5;28;01mfor\u001b[39;00m i \u001b[38;5;129;01min\u001b[39;00m st]\n",
      "\u001b[1;31mTypeError\u001b[0m: string indices must be integers"
     ]
    }
   ],
   "source": [
    "st = '[{\"id\": 28, \"name\": \"Action\"}, {\"id\": 12, \"name\": \"Adventure\"}, {\"id\": 14, \"name\": \"Fantasy\"}, {\"id\": 878, \"name\": \"Science Fiction\"}]'\n",
    "\n",
    "[i['name'] for i in st]  \n",
    "for i in title: # i가 title 0번 1번 다 지정해줌 \n",
    "    print(i.text , ':' , i.attrs['href'])"
   ]
  },
  {
   "cell_type": "code",
   "execution_count": null,
   "id": "d8b7b685-49bd-466a-b282-caf7a4bb123c",
   "metadata": {},
   "outputs": [],
   "source": [
    "카피 셀렉터 함\n",
    "#mw-content-text > div.mw-parser-output > table:nth-child(6) > tbody > tr:nth-child(3) > td:nth-child(3) > b > a"
   ]
  },
  {
   "cell_type": "code",
   "execution_count": 17,
   "id": "365edaca-9970-4532-9c50-2ad2e502fa6f",
   "metadata": {},
   "outputs": [
    {
     "data": {
      "text/plain": [
       "[<a href=\"/wiki/%EC%9D%B4%EC%8A%B9%EB%A7%8C\" title=\"이승만\">이승만</a>,\n",
       " <a href=\"/wiki/%EC%9C%A4%EB%B3%B4%EC%84%A0\" title=\"윤보선\">윤보선</a>,\n",
       " <a href=\"/wiki/%EB%B0%95%EC%A0%95%ED%9D%AC\" title=\"박정희\">박정희</a>,\n",
       " <a href=\"/wiki/%EC%B5%9C%EA%B7%9C%ED%95%98\" title=\"최규하\">최규하</a>,\n",
       " <a href=\"/wiki/%EC%A0%84%EB%91%90%ED%99%98\" title=\"전두환\">전두환</a>,\n",
       " <a href=\"/wiki/%EB%85%B8%ED%83%9C%EC%9A%B0\" title=\"노태우\">노태우</a>,\n",
       " <a href=\"/wiki/%EA%B9%80%EC%98%81%EC%82%BC\" title=\"김영삼\">김영삼</a>,\n",
       " <a href=\"/wiki/%EA%B9%80%EB%8C%80%EC%A4%91\" title=\"김대중\">김대중</a>,\n",
       " <a href=\"/wiki/%EB%85%B8%EB%AC%B4%ED%98%84\" title=\"노무현\">노무현</a>,\n",
       " <a href=\"/wiki/%EC%9D%B4%EB%AA%85%EB%B0%95\" title=\"이명박\">이명박</a>,\n",
       " <a href=\"/wiki/%EB%B0%95%EA%B7%BC%ED%98%9C\" title=\"박근혜\">박근혜</a>,\n",
       " <a href=\"/wiki/%EB%AC%B8%EC%9E%AC%EC%9D%B8\" title=\"문재인\">문재인</a>,\n",
       " <a href=\"/wiki/%EC%9C%A4%EC%84%9D%EC%97%B4\" title=\"윤석열\">윤석열</a>]"
      ]
     },
     "execution_count": 17,
     "metadata": {},
     "output_type": "execute_result"
    }
   ],
   "source": [
    "names = soup.select('td:nth-child(3) > b > a')\n",
    "names"
   ]
  },
  {
   "cell_type": "code",
   "execution_count": 4,
   "id": "ec0a9afc-17e0-485e-a825-59282f412242",
   "metadata": {
    "tags": []
   },
   "outputs": [
    {
     "data": {
      "text/plain": [
       "['이승만',\n",
       " '윤보선',\n",
       " '박정희',\n",
       " '최규하',\n",
       " '전두환',\n",
       " '노태우',\n",
       " '김영삼',\n",
       " '김대중',\n",
       " '노무현',\n",
       " '이명박',\n",
       " '박근혜',\n",
       " '문재인',\n",
       " '윤석열']"
      ]
     },
     "execution_count": 4,
     "metadata": {},
     "output_type": "execute_result"
    }
   ],
   "source": [
    "import requests\n",
    "from bs4 import BeautifulSoup\n",
    "import re\n",
    "\n",
    "html = requests.get(url).text\n",
    "soup = BeautifulSoup(html, 'html.parser')\n",
    "names = soup.select('td:nth-child(3) > b > a')\n",
    "pre_names = [name.attrs['title'] for name in names]\n",
    "pre_names "
   ]
  },
  {
   "cell_type": "code",
   "execution_count": 18,
   "id": "3474f666-cc2d-4d43-b0d6-0caa6223f41f",
   "metadata": {},
   "outputs": [
    {
     "name": "stdout",
     "output_type": "stream",
     "text": [
      "이승만\n",
      "윤보선\n",
      "박정희\n",
      "최규하\n",
      "전두환\n",
      "노태우\n",
      "김영삼\n",
      "김대중\n",
      "노무현\n",
      "이명박\n",
      "박근혜\n",
      "문재인\n",
      "윤석열\n"
     ]
    }
   ],
   "source": [
    "import requests\n",
    "from bs4 import BeautifulSoup\n",
    "\n",
    "url = f\"https://ko.wikipedia.org/wiki/%EB%8C%80%ED%95%9C%EB%AF%BC%EA%B5%AD%EC%9D%98_%EB%8C%80%ED%86%B5%EB%A0%B9_%EB%AA%A9%EB%A1%9D\"\n",
    "# print(url)\n",
    "html = requests.get(url)\n",
    "soup =  BeautifulSoup(html.text, 'lxml')\n",
    "# print(soup)\n",
    "all_text = soup.select('td > b > a') # td형태로는 select형태가 수월하다. \n",
    "\n",
    "for a in all_text :\n",
    "    print(a.text) "
   ]
  },
  {
   "cell_type": "code",
   "execution_count": 19,
   "id": "d6cb605c-0299-44ee-b317-220b61cc3a69",
   "metadata": {
    "collapsed": true,
    "jupyter": {
     "outputs_hidden": true
    },
    "tags": []
   },
   "outputs": [
    {
     "data": {
      "text/plain": [
       "['이승만',\n",
       " '윤보선',\n",
       " '박정희',\n",
       " '최규하',\n",
       " '전두환',\n",
       " '노태우',\n",
       " '김영삼',\n",
       " '김대중',\n",
       " '노무현',\n",
       " '이명박',\n",
       " '박근혜',\n",
       " '문재인',\n",
       " '윤석열']"
      ]
     },
     "execution_count": 19,
     "metadata": {},
     "output_type": "execute_result"
    }
   ],
   "source": [
    "url = 'https://ko.wikipedia.org/wiki/%EB%8C%80%ED%95%9C%EB%AF%BC%EA%B5%AD%EC%9D%98_%EB%8C%80%ED%86%B5%EB%A0%B9_%EB%AA%A9%EB%A1%9D'\n",
    "html = requests.get(url).text\n",
    "soup = BeautifulSoup(html, 'lxml')\n",
    "table = soup.find(class_ = 'wikitable').find_all('b') # 꼭 같은 라인에 있는 class말고 상위 class도 가능 \n",
    "name = [i.find('a') for i in table]\n",
    "name = list(filter(None, name))\n",
    "[i.text for i in name] "
   ]
  },
  {
   "cell_type": "code",
   "execution_count": 23,
   "id": "ee44fd3f-909e-4481-abe2-ce47e4162ea1",
   "metadata": {
    "collapsed": true,
    "jupyter": {
     "outputs_hidden": true
    },
    "tags": []
   },
   "outputs": [
    {
     "data": {
      "text/plain": [
       "<table class=\"wikitable\" style=\"text-align: center;\" width=\"100%\">\n",
       "<tbody><tr>\n",
       "<th rowspan=\"2\">대</th>\n",
       "<th colspan=\"3\">대통령</th>\n",
       "<th colspan=\"2\">임기</th>\n",
       "<th rowspan=\"2\">득표율</th>\n",
       "<th rowspan=\"2\">정당\n",
       "</th></tr>\n",
       "<tr>\n",
       "<th>사진</th>\n",
       "<th colspan=\"2\">이름</th>\n",
       "<th>취임일</th>\n",
       "<th>퇴임일\n",
       "</th></tr>\n",
       "<tr>\n",
       "<td width=\"20\"><b>1</b>\n",
       "</td>\n",
       "<td rowspan=\"3\" width=\"70\"><a class=\"image\" href=\"/wiki/%ED%8C%8C%EC%9D%BC:Rhee_Syng-Man_in_1948.jpg\"><img alt=\"Rhee Syng-Man in 1948.jpg\" data-file-height=\"1229\" data-file-width=\"921\" decoding=\"async\" height=\"133\" src=\"//upload.wikimedia.org/wikipedia/commons/thumb/4/46/Rhee_Syng-Man_in_1948.jpg/100px-Rhee_Syng-Man_in_1948.jpg\" srcset=\"//upload.wikimedia.org/wikipedia/commons/thumb/4/46/Rhee_Syng-Man_in_1948.jpg/150px-Rhee_Syng-Man_in_1948.jpg 1.5x, //upload.wikimedia.org/wikipedia/commons/thumb/4/46/Rhee_Syng-Man_in_1948.jpg/200px-Rhee_Syng-Man_in_1948.jpg 2x\" width=\"100\"/></a>\n",
       "</td>\n",
       "<td rowspan=\"3\" width=\"100\"><b><a href=\"/wiki/%EC%9D%B4%EC%8A%B9%EB%A7%8C\" title=\"이승만\">이승만</a></b><br/><small>(1875~1965)</small>\n",
       "</td>\n",
       "<td rowspan=\"3\" style=\"background:#E61E2B\" width=\"5\">\n",
       "</td>\n",
       "<td width=\"130\">1948년 7월 24일\n",
       "</td>\n",
       "<td width=\"130\">1952년 8월 14일\n",
       "</td>\n",
       "<td width=\"150\"><a href=\"/wiki/%EB%8C%80%ED%95%9C%EB%AF%BC%EA%B5%AD_%EC%A0%9C1%EB%8C%80_%EB%8C%80%ED%86%B5%EB%A0%B9_%EC%84%A0%EA%B1%B0\" title=\"대한민국 제1대 대통령 선거\">1948년 대선</a><br/>  — 91.8%<small>(국회 간선, 180표)</small>\n",
       "</td>\n",
       "<td rowspan=\"3\" width=\"160\"><a href=\"/wiki/%EB%8C%80%ED%95%9C%EB%8F%85%EB%A6%BD%EC%B4%89%EC%84%B1%EA%B5%AD%EB%AF%BC%ED%9A%8C\" title=\"대한독립촉성국민회\">대한독립촉성국민회</a><small>(1948~1951)</small><br/><a href=\"/wiki/%EC%9E%90%EC%9C%A0%EB%8B%B9_(%EB%8C%80%ED%95%9C%EB%AF%BC%EA%B5%AD)\" title=\"자유당 (대한민국)\">자유당</a><small>(1951~1960)</small>\n",
       "</td></tr>\n",
       "<tr>\n",
       "<td><b>2</b>\n",
       "</td>\n",
       "<td>1952년 8월 15일\n",
       "</td>\n",
       "<td>1956년 8월 14일\n",
       "</td>\n",
       "<td><a href=\"/wiki/%EB%8C%80%ED%95%9C%EB%AF%BC%EA%B5%AD_%EC%A0%9C2%EB%8C%80_%EB%8C%80%ED%86%B5%EB%A0%B9_%EC%84%A0%EA%B1%B0\" title=\"대한민국 제2대 대통령 선거\">1952년 대선</a><br/>  — 74.6%<small>(직선, 5,238,769표)</small>\n",
       "</td></tr>\n",
       "<tr>\n",
       "<td><b>3</b>\n",
       "</td>\n",
       "<td>1956년 8월 15일\n",
       "</td>\n",
       "<td>1960년 4월 27일\n",
       "</td>\n",
       "<td><a href=\"/wiki/%EB%8C%80%ED%95%9C%EB%AF%BC%EA%B5%AD_%EC%A0%9C3%EB%8C%80_%EB%8C%80%ED%86%B5%EB%A0%B9_%EC%84%A0%EA%B1%B0\" title=\"대한민국 제3대 대통령 선거\">1956년 대선</a><br/>  — 70.0%<small>(직선, 5,046,437표)</small>\n",
       "</td></tr>\n",
       "<tr>\n",
       "<td colspan=\"8\" style=\"background:#EEEEEE;\"><a href=\"/wiki/%ED%97%88%EC%A0%95\" title=\"허정\">허정</a> <a href=\"/wiki/%EB%8C%80%ED%95%9C%EB%AF%BC%EA%B5%AD_%EC%99%B8%EB%AC%B4%EB%B6%80\" title=\"대한민국 외무부\">외무부 장관</a>이 권한대행<small>(1960년 4월 27일~1960년 6월 15일)</small>\n",
       "</td></tr>\n",
       "<tr>\n",
       "<td colspan=\"8\" style=\"background:#EEEEEE;\"><a href=\"/wiki/%EA%B3%BD%EC%83%81%ED%9B%88\" title=\"곽상훈\">곽상훈</a> <a href=\"/wiki/%EB%8C%80%ED%95%9C%EB%AF%BC%EA%B5%AD%EC%9D%98_%EA%B5%AD%ED%9A%8C%EC%9D%98%EC%9E%A5\" title=\"대한민국의 국회의장\">민의원 의장</a>이 권한대행<small>(1960년 6월 16일~1960년 6월 23일)</small>\n",
       "</td></tr>\n",
       "<tr>\n",
       "<td colspan=\"8\" style=\"background:#EEEEEE;\"><a href=\"/wiki/%ED%97%88%EC%A0%95\" title=\"허정\">허정</a> <a href=\"/wiki/%EB%8C%80%ED%95%9C%EB%AF%BC%EA%B5%AD%EC%9D%98_%EA%B5%AD%EB%AC%B4%EC%B4%9D%EB%A6%AC\" title=\"대한민국의 국무총리\">국무총리</a>가 권한대행<small>(1960년 6월 23일~1960년 8월 7일)</small>\n",
       "</td></tr>\n",
       "<tr>\n",
       "<td colspan=\"8\" style=\"background:#EEEEEE;\"><a href=\"/wiki/%EB%B0%B1%EB%82%99%EC%A4%80\" title=\"백낙준\">백낙준</a> <a href=\"/wiki/%EB%8C%80%ED%95%9C%EB%AF%BC%EA%B5%AD%EC%9D%98_%EA%B5%AD%ED%9A%8C%EC%9D%98%EC%9E%A5\" title=\"대한민국의 국회의장\">참의원 의장</a>이 권한대행<small>(1960년 8월 8일~1960년 8월 12일)</small>\n",
       "</td></tr>\n",
       "<tr>\n",
       "<td><b>4</b>\n",
       "</td>\n",
       "<td><a class=\"image\" href=\"/wiki/%ED%8C%8C%EC%9D%BC:Yun_Posun_1.jpg\"><img alt=\"Yun Posun 1.jpg\" data-file-height=\"179\" data-file-width=\"122\" decoding=\"async\" height=\"147\" src=\"//upload.wikimedia.org/wikipedia/commons/thumb/4/42/Yun_Posun_1.jpg/100px-Yun_Posun_1.jpg\" srcset=\"//upload.wikimedia.org/wikipedia/commons/4/42/Yun_Posun_1.jpg 1.5x\" width=\"100\"/></a>\n",
       "</td>\n",
       "<td><b><a href=\"/wiki/%EC%9C%A4%EB%B3%B4%EC%84%A0\" title=\"윤보선\">윤보선</a></b><br/><small>(1897~1990)</small>\n",
       "</td>\n",
       "<td style=\"background:#004EA2\">\n",
       "</td>\n",
       "<td>1960년 8월 12일\n",
       "</td>\n",
       "<td>1962년 3월 22일\n",
       "</td>\n",
       "<td><a href=\"/wiki/%EB%8C%80%ED%95%9C%EB%AF%BC%EA%B5%AD_%EC%A0%9C4%EB%8C%80_%EB%8C%80%ED%86%B5%EB%A0%B9_%EC%84%A0%EA%B1%B0\" title=\"대한민국 제4대 대통령 선거\">1960년 대선</a><br/>  — 79.1%<small>(국회 간선, 208표)</small>\n",
       "</td>\n",
       "<td>무소속<small>(1960~1962)</small>\n",
       "</td></tr>\n",
       "<tr>\n",
       "<td colspan=\"8\" style=\"background:#EEEEEE;\"><a href=\"/wiki/%EB%B0%95%EC%A0%95%ED%9D%AC\" title=\"박정희\">박정희</a> <a href=\"/wiki/%EA%B5%AD%EA%B0%80%EC%9E%AC%EA%B1%B4%EC%B5%9C%EA%B3%A0%ED%9A%8C%EC%9D%98\" title=\"국가재건최고회의\">국가재건최고회의 의장</a>이 권한대행<small>(1962년 3월 22일~1963년 12월 16일)</small>\n",
       "</td></tr>\n",
       "<tr>\n",
       "<td><b>5</b>\n",
       "</td>\n",
       "<td rowspan=\"5\"><a class=\"image\" href=\"/wiki/%ED%8C%8C%EC%9D%BC:Park_Chung-hee.jpg\"><img alt=\"Park Chung-hee.jpg\" data-file-height=\"848\" data-file-width=\"764\" decoding=\"async\" height=\"111\" src=\"//upload.wikimedia.org/wikipedia/commons/thumb/2/29/Park_Chung-hee.jpg/100px-Park_Chung-hee.jpg\" srcset=\"//upload.wikimedia.org/wikipedia/commons/thumb/2/29/Park_Chung-hee.jpg/150px-Park_Chung-hee.jpg 1.5x, //upload.wikimedia.org/wikipedia/commons/thumb/2/29/Park_Chung-hee.jpg/200px-Park_Chung-hee.jpg 2x\" width=\"100\"/></a>\n",
       "</td>\n",
       "<td rowspan=\"5\"><b><a href=\"/wiki/%EB%B0%95%EC%A0%95%ED%9D%AC\" title=\"박정희\">박정희</a></b><br/><small>(1917~1979)</small>\n",
       "</td>\n",
       "<td rowspan=\"5\" style=\"background:#E61E2B\">\n",
       "</td>\n",
       "<td>1963년 12월 17일\n",
       "</td>\n",
       "<td>1967년 6월 30일\n",
       "</td>\n",
       "<td><a href=\"/wiki/%EB%8C%80%ED%95%9C%EB%AF%BC%EA%B5%AD_%EC%A0%9C5%EB%8C%80_%EB%8C%80%ED%86%B5%EB%A0%B9_%EC%84%A0%EA%B1%B0\" title=\"대한민국 제5대 대통령 선거\">1963년 대선</a><br/>  — 46.6%<small>(직선, 4,702,640표)</small>\n",
       "</td>\n",
       "<td rowspan=\"5\"><a href=\"/wiki/%EB%AF%BC%EC%A3%BC%EA%B3%B5%ED%99%94%EB%8B%B9_(%EB%8C%80%ED%95%9C%EB%AF%BC%EA%B5%AD)\" title=\"민주공화당 (대한민국)\">민주공화당</a><small>(1963~1979)</small>\n",
       "</td></tr>\n",
       "<tr>\n",
       "<td><b>6</b>\n",
       "</td>\n",
       "<td>1967년 7월 1일\n",
       "</td>\n",
       "<td>1971년 6월 30일\n",
       "</td>\n",
       "<td><a href=\"/wiki/%EB%8C%80%ED%95%9C%EB%AF%BC%EA%B5%AD_%EC%A0%9C6%EB%8C%80_%EB%8C%80%ED%86%B5%EB%A0%B9_%EC%84%A0%EA%B1%B0\" title=\"대한민국 제6대 대통령 선거\">1967년 대선</a><br/>  — 51.4%<small>(직선, 5,688,666표)</small>\n",
       "</td></tr>\n",
       "<tr>\n",
       "<td><b>7</b>\n",
       "</td>\n",
       "<td>1971년 7월 1일\n",
       "</td>\n",
       "<td>1972년 12월 26일\n",
       "</td>\n",
       "<td><a href=\"/wiki/%EB%8C%80%ED%95%9C%EB%AF%BC%EA%B5%AD_%EC%A0%9C7%EB%8C%80_%EB%8C%80%ED%86%B5%EB%A0%B9_%EC%84%A0%EA%B1%B0\" title=\"대한민국 제7대 대통령 선거\">1971년 대선</a><br/>  — 53.2%<small>(직선, 6,342,828표)</small>\n",
       "</td></tr>\n",
       "<tr>\n",
       "<td><b>8</b>\n",
       "</td>\n",
       "<td>1972년 12월 27일\n",
       "</td>\n",
       "<td>1978년 12월 26일\n",
       "</td>\n",
       "<td><a href=\"/wiki/%EB%8C%80%ED%95%9C%EB%AF%BC%EA%B5%AD_%EC%A0%9C8%EB%8C%80_%EB%8C%80%ED%86%B5%EB%A0%B9_%EC%84%A0%EA%B1%B0\" title=\"대한민국 제8대 대통령 선거\">1972년 대선</a><br/>  — 99.9%<small>(대의원 간선, 2,357표)</small>\n",
       "</td></tr>\n",
       "<tr>\n",
       "<td><b>9</b>\n",
       "</td>\n",
       "<td>1978년 12월 27일\n",
       "</td>\n",
       "<td>1979년 10월 26일\n",
       "</td>\n",
       "<td><a href=\"/wiki/%EB%8C%80%ED%95%9C%EB%AF%BC%EA%B5%AD_%EC%A0%9C9%EB%8C%80_%EB%8C%80%ED%86%B5%EB%A0%B9_%EC%84%A0%EA%B1%B0\" title=\"대한민국 제9대 대통령 선거\">1978년 대선</a><br/>  — 99.8%<small>(대의원 간선, 2,577표)</small>\n",
       "</td></tr>\n",
       "<tr>\n",
       "<td colspan=\"8\" style=\"background:#EEEEEE;\"><a href=\"/wiki/%EC%B5%9C%EA%B7%9C%ED%95%98\" title=\"최규하\">최규하</a> <a href=\"/wiki/%EB%8C%80%ED%95%9C%EB%AF%BC%EA%B5%AD%EC%9D%98_%EA%B5%AD%EB%AC%B4%EC%B4%9D%EB%A6%AC\" title=\"대한민국의 국무총리\">국무총리</a>가 권한대행<small>(1979년 10월 26일~1979년 12월 6일)</small>\n",
       "</td></tr>\n",
       "<tr>\n",
       "<td><b>10</b>\n",
       "</td>\n",
       "<td><a class=\"image\" href=\"/wiki/%ED%8C%8C%EC%9D%BC:1970%E5%9A%B4%E5%AE%B6%E6%B7%A6%E9%99%A2%E9%95%B7%E6%8E%A5%E8%A6%8B%E9%9F%93%E5%9C%8B%E5%A4%96%E9%95%B7%E5%B4%94%E5%9C%AD%E5%A4%8F.jpg\"><img alt=\"1970嚴家淦院長接見韓國外長崔圭夏.jpg\" data-file-height=\"207\" data-file-width=\"149\" decoding=\"async\" height=\"139\" src=\"//upload.wikimedia.org/wikipedia/commons/thumb/2/29/1970%E5%9A%B4%E5%AE%B6%E6%B7%A6%E9%99%A2%E9%95%B7%E6%8E%A5%E8%A6%8B%E9%9F%93%E5%9C%8B%E5%A4%96%E9%95%B7%E5%B4%94%E5%9C%AD%E5%A4%8F.jpg/100px-1970%E5%9A%B4%E5%AE%B6%E6%B7%A6%E9%99%A2%E9%95%B7%E6%8E%A5%E8%A6%8B%E9%9F%93%E5%9C%8B%E5%A4%96%E9%95%B7%E5%B4%94%E5%9C%AD%E5%A4%8F.jpg\" srcset=\"//upload.wikimedia.org/wikipedia/commons/2/29/1970%E5%9A%B4%E5%AE%B6%E6%B7%A6%E9%99%A2%E9%95%B7%E6%8E%A5%E8%A6%8B%E9%9F%93%E5%9C%8B%E5%A4%96%E9%95%B7%E5%B4%94%E5%9C%AD%E5%A4%8F.jpg 1.5x\" width=\"100\"/></a>\n",
       "</td>\n",
       "<td><b><a href=\"/wiki/%EC%B5%9C%EA%B7%9C%ED%95%98\" title=\"최규하\">최규하</a></b><br/><small>(1919~2006)</small>\n",
       "</td>\n",
       "<td style=\"background:#808080;\">\n",
       "</td>\n",
       "<td>1979년 12월 6일\n",
       "</td>\n",
       "<td>1980년 8월 16일\n",
       "</td>\n",
       "<td><a href=\"/wiki/%EB%8C%80%ED%95%9C%EB%AF%BC%EA%B5%AD_%EC%A0%9C10%EB%8C%80_%EB%8C%80%ED%86%B5%EB%A0%B9_%EC%84%A0%EA%B1%B0\" title=\"대한민국 제10대 대통령 선거\">1979년 대선</a><br/>  — 96.3%<small>(대의원 간선, 2,465표)</small>\n",
       "</td>\n",
       "<td>무소속<small>(1979~1980)</small>\n",
       "</td></tr>\n",
       "<tr>\n",
       "<td colspan=\"8\" style=\"background:#EEEEEE;\"><a href=\"/wiki/%EB%B0%95%EC%B6%A9%ED%9B%88\" title=\"박충훈\">박충훈</a> <a href=\"/wiki/%EB%8C%80%ED%95%9C%EB%AF%BC%EA%B5%AD%EC%9D%98_%EA%B5%AD%EB%AC%B4%EC%B4%9D%EB%A6%AC\" title=\"대한민국의 국무총리\">국무총리 서리</a>가 권한대행<small>(1980년 8월 16일~1980년 8월 27일)</small>\n",
       "</td></tr>\n",
       "<tr>\n",
       "<td><b>11</b>\n",
       "</td>\n",
       "<td rowspan=\"2\"><a class=\"image\" href=\"/wiki/%ED%8C%8C%EC%9D%BC:Chun_Doo-hwan_1983_(cropped).JPEG\"><img alt=\"Chun Doo-hwan 1983 (cropped).JPEG\" data-file-height=\"434\" data-file-width=\"298\" decoding=\"async\" height=\"146\" src=\"//upload.wikimedia.org/wikipedia/commons/thumb/0/03/Chun_Doo-hwan_1983_%28cropped%29.JPEG/100px-Chun_Doo-hwan_1983_%28cropped%29.JPEG\" srcset=\"//upload.wikimedia.org/wikipedia/commons/thumb/0/03/Chun_Doo-hwan_1983_%28cropped%29.JPEG/150px-Chun_Doo-hwan_1983_%28cropped%29.JPEG 1.5x, //upload.wikimedia.org/wikipedia/commons/thumb/0/03/Chun_Doo-hwan_1983_%28cropped%29.JPEG/200px-Chun_Doo-hwan_1983_%28cropped%29.JPEG 2x\" width=\"100\"/></a>\n",
       "</td>\n",
       "<td rowspan=\"2\"><b><a href=\"/wiki/%EC%A0%84%EB%91%90%ED%99%98\" title=\"전두환\">전두환</a></b><br/><small>(1931~2021)</small>\n",
       "</td>\n",
       "<td rowspan=\"2\" style=\"background:#E61E2B\">\n",
       "</td>\n",
       "<td>1980년 8월 27일\n",
       "</td>\n",
       "<td>1981년 2월 24일\n",
       "</td>\n",
       "<td><a href=\"/wiki/%EB%8C%80%ED%95%9C%EB%AF%BC%EA%B5%AD_%EC%A0%9C11%EB%8C%80_%EB%8C%80%ED%86%B5%EB%A0%B9_%EC%84%A0%EA%B1%B0\" title=\"대한민국 제11대 대통령 선거\">1980년 대선</a><br/>  — 99.4%<small>(대의원 간선, 2,524표)</small>\n",
       "</td>\n",
       "<td rowspan=\"2\">무소속<small>(1980~1981)</small><br/><a href=\"/wiki/%EB%AF%BC%EC%A3%BC%EC%A0%95%EC%9D%98%EB%8B%B9\" title=\"민주정의당\">민주정의당</a><small>(1981~1988)</small>\n",
       "</td></tr>\n",
       "<tr>\n",
       "<td><b>12</b>\n",
       "</td>\n",
       "<td>1981년 2월 25일\n",
       "</td>\n",
       "<td>1988년 2월 24일\n",
       "</td>\n",
       "<td><a href=\"/wiki/%EB%8C%80%ED%95%9C%EB%AF%BC%EA%B5%AD_%EC%A0%9C12%EB%8C%80_%EB%8C%80%ED%86%B5%EB%A0%B9_%EC%84%A0%EA%B1%B0\" title=\"대한민국 제12대 대통령 선거\">1981년 대선</a><br/>  — 90.1%<small>(선거인단 간선, 4,755표)</small>\n",
       "</td></tr>\n",
       "<tr>\n",
       "<td><b>13</b>\n",
       "</td>\n",
       "<td><a class=\"image\" href=\"/wiki/%ED%8C%8C%EC%9D%BC:Roh_Tae-woo_-_cropped,_1989-Mar-13.jpg\"><img alt=\"Roh Tae-woo - cropped, 1989-Mar-13.jpg\" data-file-height=\"775\" data-file-width=\"617\" decoding=\"async\" height=\"126\" src=\"//upload.wikimedia.org/wikipedia/commons/thumb/b/b9/Roh_Tae-woo_-_cropped%2C_1989-Mar-13.jpg/100px-Roh_Tae-woo_-_cropped%2C_1989-Mar-13.jpg\" srcset=\"//upload.wikimedia.org/wikipedia/commons/thumb/b/b9/Roh_Tae-woo_-_cropped%2C_1989-Mar-13.jpg/150px-Roh_Tae-woo_-_cropped%2C_1989-Mar-13.jpg 1.5x, //upload.wikimedia.org/wikipedia/commons/thumb/b/b9/Roh_Tae-woo_-_cropped%2C_1989-Mar-13.jpg/200px-Roh_Tae-woo_-_cropped%2C_1989-Mar-13.jpg 2x\" width=\"100\"/></a>\n",
       "</td>\n",
       "<td><b><a href=\"/wiki/%EB%85%B8%ED%83%9C%EC%9A%B0\" title=\"노태우\">노태우</a></b><br/><small>(1932~2021)</small>\n",
       "</td>\n",
       "<td style=\"background:#E61E2B\">\n",
       "</td>\n",
       "<td>1988년 2월 25일\n",
       "</td>\n",
       "<td>1993년 2월 24일\n",
       "</td>\n",
       "<td><a href=\"/wiki/%EB%8C%80%ED%95%9C%EB%AF%BC%EA%B5%AD_%EC%A0%9C13%EB%8C%80_%EB%8C%80%ED%86%B5%EB%A0%B9_%EC%84%A0%EA%B1%B0\" title=\"대한민국 제13대 대통령 선거\">1987년 대선</a><br/>  — 36.6%<small>(직선, 8,282,738표)</small>\n",
       "</td>\n",
       "<td><a href=\"/wiki/%EB%AF%BC%EC%A3%BC%EC%A0%95%EC%9D%98%EB%8B%B9\" title=\"민주정의당\">민주정의당</a><small>(1988~1990)</small><br/><a href=\"/wiki/%EC%8B%A0%ED%95%9C%EA%B5%AD%EB%8B%B9\" title=\"신한국당\">민주자유당</a><small>(1990~1992)</small><br/>무소속<small>(1992~1993)</small>\n",
       "</td></tr>\n",
       "<tr>\n",
       "<td><b>14</b>\n",
       "</td>\n",
       "<td><a class=\"image\" href=\"/wiki/%ED%8C%8C%EC%9D%BC:Kim_Young-sam_presidential_portrait.jpg\"><img alt=\"Kim Young-sam presidential portrait.jpg\" data-file-height=\"6621\" data-file-width=\"4856\" decoding=\"async\" height=\"136\" src=\"//upload.wikimedia.org/wikipedia/commons/thumb/8/8d/Kim_Young-sam_presidential_portrait.jpg/100px-Kim_Young-sam_presidential_portrait.jpg\" srcset=\"//upload.wikimedia.org/wikipedia/commons/thumb/8/8d/Kim_Young-sam_presidential_portrait.jpg/150px-Kim_Young-sam_presidential_portrait.jpg 1.5x, //upload.wikimedia.org/wikipedia/commons/thumb/8/8d/Kim_Young-sam_presidential_portrait.jpg/200px-Kim_Young-sam_presidential_portrait.jpg 2x\" width=\"100\"/></a>\n",
       "</td>\n",
       "<td><b><a href=\"/wiki/%EA%B9%80%EC%98%81%EC%82%BC\" title=\"김영삼\">김영삼</a></b><br/><small>(1927~2015)</small>\n",
       "</td>\n",
       "<td style=\"background:#E61E2B\">\n",
       "</td>\n",
       "<td>1993년 2월 25일\n",
       "</td>\n",
       "<td>1998년 2월 24일\n",
       "</td>\n",
       "<td><a href=\"/wiki/%EB%8C%80%ED%95%9C%EB%AF%BC%EA%B5%AD_%EC%A0%9C14%EB%8C%80_%EB%8C%80%ED%86%B5%EB%A0%B9_%EC%84%A0%EA%B1%B0\" title=\"대한민국 제14대 대통령 선거\">1992년 대선</a><br/>  — 42.0%<small>(직선, 9,977,332표)</small>\n",
       "</td>\n",
       "<td><a href=\"/wiki/%EC%8B%A0%ED%95%9C%EA%B5%AD%EB%8B%B9\" title=\"신한국당\">민주자유당</a><small>(1993~1995)</small><br/><a href=\"/wiki/%EC%8B%A0%ED%95%9C%EA%B5%AD%EB%8B%B9\" title=\"신한국당\">신한국당</a><small>(1995~1997)</small><br/>무소속<small>(1997~1998)</small>\n",
       "</td></tr>\n",
       "<tr>\n",
       "<td><b>15</b>\n",
       "</td>\n",
       "<td><a class=\"image\" href=\"/wiki/%ED%8C%8C%EC%9D%BC:Kim_Dae-jung_presidential_portrait.jpg\"><img alt=\"Kim Dae-jung presidential portrait.jpg\" data-file-height=\"6000\" data-file-width=\"5000\" decoding=\"async\" height=\"120\" src=\"//upload.wikimedia.org/wikipedia/commons/thumb/d/d2/Kim_Dae-jung_presidential_portrait.jpg/100px-Kim_Dae-jung_presidential_portrait.jpg\" srcset=\"//upload.wikimedia.org/wikipedia/commons/thumb/d/d2/Kim_Dae-jung_presidential_portrait.jpg/150px-Kim_Dae-jung_presidential_portrait.jpg 1.5x, //upload.wikimedia.org/wikipedia/commons/thumb/d/d2/Kim_Dae-jung_presidential_portrait.jpg/200px-Kim_Dae-jung_presidential_portrait.jpg 2x\" width=\"100\"/></a>\n",
       "</td>\n",
       "<td><b><a href=\"/wiki/%EA%B9%80%EB%8C%80%EC%A4%91\" title=\"김대중\">김대중</a></b><br/><small>(1924~2009)</small>\n",
       "</td>\n",
       "<td style=\"background:#004EA2\">\n",
       "</td>\n",
       "<td>1998년 2월 25일\n",
       "</td>\n",
       "<td>2003년 2월 24일\n",
       "</td>\n",
       "<td><a href=\"/wiki/%EB%8C%80%ED%95%9C%EB%AF%BC%EA%B5%AD_%EC%A0%9C15%EB%8C%80_%EB%8C%80%ED%86%B5%EB%A0%B9_%EC%84%A0%EA%B1%B0\" title=\"대한민국 제15대 대통령 선거\">1997년 대선</a><br/>  — 40.3%<small>(직선, 10,326,275표)</small>\n",
       "</td>\n",
       "<td><a href=\"/wiki/%EC%83%88%EC%A0%95%EC%B9%98%EA%B5%AD%EB%AF%BC%ED%9A%8C%EC%9D%98\" title=\"새정치국민회의\">새정치국민회의</a><small>(1998~2000)</small><br/><a href=\"/wiki/%EB%AF%BC%EC%A3%BC%EB%8B%B9_(%EB%8C%80%ED%95%9C%EB%AF%BC%EA%B5%AD,_2000%EB%85%84)\" title=\"민주당 (대한민국, 2000년)\">새천년민주당</a><small>(2000~2002)</small><br/>무소속<small>(2002~2003)</small>\n",
       "</td></tr>\n",
       "<tr>\n",
       "<td rowspan=\"3\"><b>16</b>\n",
       "</td>\n",
       "<td rowspan=\"3\"><a class=\"image\" href=\"/wiki/%ED%8C%8C%EC%9D%BC:Roh_Moo-hyun_presidential_portrait.jpg\"><img alt=\"Roh Moo-hyun presidential portrait.jpg\" data-file-height=\"1381\" data-file-width=\"1093\" decoding=\"async\" height=\"126\" src=\"//upload.wikimedia.org/wikipedia/commons/thumb/3/30/Roh_Moo-hyun_presidential_portrait.jpg/100px-Roh_Moo-hyun_presidential_portrait.jpg\" srcset=\"//upload.wikimedia.org/wikipedia/commons/thumb/3/30/Roh_Moo-hyun_presidential_portrait.jpg/150px-Roh_Moo-hyun_presidential_portrait.jpg 1.5x, //upload.wikimedia.org/wikipedia/commons/thumb/3/30/Roh_Moo-hyun_presidential_portrait.jpg/200px-Roh_Moo-hyun_presidential_portrait.jpg 2x\" width=\"100\"/></a>\n",
       "</td>\n",
       "<td rowspan=\"3\"><b><a href=\"/wiki/%EB%85%B8%EB%AC%B4%ED%98%84\" title=\"노무현\">노무현</a></b><br/><small>(1946~2009)</small>\n",
       "</td>\n",
       "<td rowspan=\"3\" style=\"background:#004EA2\">\n",
       "</td>\n",
       "<td>2003년 2월 25일\n",
       "</td>\n",
       "<td>2004년 3월 12일\n",
       "</td>\n",
       "<td><a href=\"/wiki/%EB%8C%80%ED%95%9C%EB%AF%BC%EA%B5%AD_%EC%A0%9C16%EB%8C%80_%EB%8C%80%ED%86%B5%EB%A0%B9_%EC%84%A0%EA%B1%B0\" title=\"대한민국 제16대 대통령 선거\">2002년 대선</a><br/>  — 48.9%<small>(직선, 12,014,277표)</small>\n",
       "</td>\n",
       "<td><a class=\"mw-redirect\" href=\"/wiki/%EC%83%88%EC%B2%9C%EB%85%84%EB%AF%BC%EC%A3%BC%EB%8B%B9\" title=\"새천년민주당\">새천년민주당</a><small>(2003)</small><br/>무소속<small>(2003~2004)</small>\n",
       "</td></tr>\n",
       "<tr>\n",
       "<td colspan=\"4\" style=\"background:#EEEEEE;\"><a href=\"/wiki/%EA%B3%A0%EA%B1%B4\" title=\"고건\">고건</a> <a href=\"/wiki/%EB%8C%80%ED%95%9C%EB%AF%BC%EA%B5%AD%EC%9D%98_%EA%B5%AD%EB%AC%B4%EC%B4%9D%EB%A6%AC\" title=\"대한민국의 국무총리\">국무총리</a>가 권한대행<small>(2004년 3월 12일~2004년 5월 14일)</small>\n",
       "</td></tr>\n",
       "<tr>\n",
       "<td>2004년 5월 14일\n",
       "</td>\n",
       "<td>2008년 2월 24일\n",
       "</td>\n",
       "<td>탄핵 소추 기각\n",
       "</td>\n",
       "<td>무소속<small>(2004)</small><br/><a href=\"/wiki/%EC%97%B4%EB%A6%B0%EC%9A%B0%EB%A6%AC%EB%8B%B9\" title=\"열린우리당\">열린우리당</a><small>(2004~2007)</small><br/>무소속<small>(2007~2008)</small>\n",
       "</td></tr>\n",
       "<tr>\n",
       "<td><b>17</b>\n",
       "</td>\n",
       "<td><a class=\"image\" href=\"/wiki/%ED%8C%8C%EC%9D%BC:Lee_Myung-bak_presidential_portrait.jpg\"><img alt=\"Lee Myung-bak presidential portrait.jpg\" data-file-height=\"876\" data-file-width=\"700\" decoding=\"async\" height=\"125\" src=\"//upload.wikimedia.org/wikipedia/commons/thumb/0/04/Lee_Myung-bak_presidential_portrait.jpg/100px-Lee_Myung-bak_presidential_portrait.jpg\" srcset=\"//upload.wikimedia.org/wikipedia/commons/thumb/0/04/Lee_Myung-bak_presidential_portrait.jpg/150px-Lee_Myung-bak_presidential_portrait.jpg 1.5x, //upload.wikimedia.org/wikipedia/commons/thumb/0/04/Lee_Myung-bak_presidential_portrait.jpg/200px-Lee_Myung-bak_presidential_portrait.jpg 2x\" width=\"100\"/></a>\n",
       "</td>\n",
       "<td><b><a href=\"/wiki/%EC%9D%B4%EB%AA%85%EB%B0%95\" title=\"이명박\">이명박</a></b><br/><small>(1941~)</small>\n",
       "</td>\n",
       "<td style=\"background:#E61E2B\">\n",
       "</td>\n",
       "<td>2008년 2월 25일\n",
       "</td>\n",
       "<td>2013년 2월 24일\n",
       "</td>\n",
       "<td><a href=\"/wiki/%EB%8C%80%ED%95%9C%EB%AF%BC%EA%B5%AD_%EC%A0%9C17%EB%8C%80_%EB%8C%80%ED%86%B5%EB%A0%B9_%EC%84%A0%EA%B1%B0\" title=\"대한민국 제17대 대통령 선거\">2007년 대선</a><br/>  — 48.7%<small>(직선, 11,492,389표)</small>\n",
       "</td>\n",
       "<td><a href=\"/wiki/%EC%9E%90%EC%9C%A0%ED%95%9C%EA%B5%AD%EB%8B%B9\" title=\"자유한국당\">한나라당</a><small>(2008~2012)</small><br/><a href=\"/wiki/%EC%9E%90%EC%9C%A0%ED%95%9C%EA%B5%AD%EB%8B%B9\" title=\"자유한국당\">새누리당</a><small>(2012~2013)</small>\n",
       "</td></tr>\n",
       "<tr>\n",
       "<td rowspan=\"2\"><b>18</b>\n",
       "</td>\n",
       "<td rowspan=\"2\"><a class=\"image\" href=\"/wiki/%ED%8C%8C%EC%9D%BC:Park_Geun-hye_presidential_portrait.png\"><img alt=\"Park Geun-hye presidential portrait.png\" data-file-height=\"1280\" data-file-width=\"972\" decoding=\"async\" height=\"132\" src=\"//upload.wikimedia.org/wikipedia/commons/thumb/5/52/Park_Geun-hye_presidential_portrait.png/100px-Park_Geun-hye_presidential_portrait.png\" srcset=\"//upload.wikimedia.org/wikipedia/commons/thumb/5/52/Park_Geun-hye_presidential_portrait.png/150px-Park_Geun-hye_presidential_portrait.png 1.5x, //upload.wikimedia.org/wikipedia/commons/thumb/5/52/Park_Geun-hye_presidential_portrait.png/200px-Park_Geun-hye_presidential_portrait.png 2x\" width=\"100\"/></a>\n",
       "</td>\n",
       "<td rowspan=\"2\"><b><a href=\"/wiki/%EB%B0%95%EA%B7%BC%ED%98%9C\" title=\"박근혜\">박근혜</a></b><br/><small>(1952~)</small>\n",
       "</td>\n",
       "<td rowspan=\"2\" style=\"background:#E61E2B\">\n",
       "</td>\n",
       "<td>2013년 2월 25일\n",
       "</td>\n",
       "<td>2017년 3월 10일\n",
       "</td>\n",
       "<td><a href=\"/wiki/%EB%8C%80%ED%95%9C%EB%AF%BC%EA%B5%AD_%EC%A0%9C18%EB%8C%80_%EB%8C%80%ED%86%B5%EB%A0%B9_%EC%84%A0%EA%B1%B0\" title=\"대한민국 제18대 대통령 선거\">2012년 대선</a><br/>  — 51.6%<small>(직선, 15,773,128표)</small>\n",
       "</td>\n",
       "<td><a href=\"/wiki/%EC%9E%90%EC%9C%A0%ED%95%9C%EA%B5%AD%EB%8B%B9\" title=\"자유한국당\">새누리당</a><small>(2013~2017)</small><br/><a href=\"/wiki/%EC%9E%90%EC%9C%A0%ED%95%9C%EA%B5%AD%EB%8B%B9\" title=\"자유한국당\">자유한국당</a><small>(2017)</small>\n",
       "</td></tr>\n",
       "<tr>\n",
       "<td colspan=\"4\" style=\"background:#EEEEEE;\"><a href=\"/wiki/%ED%99%A9%EA%B5%90%EC%95%88\" title=\"황교안\">황교안</a> <a href=\"/wiki/%EB%8C%80%ED%95%9C%EB%AF%BC%EA%B5%AD%EC%9D%98_%EA%B5%AD%EB%AC%B4%EC%B4%9D%EB%A6%AC\" title=\"대한민국의 국무총리\">국무총리</a>가 권한대행<small>(2016년 12월 9일~2017년 3월 10일)</small>\n",
       "</td></tr>\n",
       "<tr>\n",
       "<td colspan=\"8\" style=\"background:#EEEEEE;\"><a href=\"/wiki/%ED%99%A9%EA%B5%90%EC%95%88\" title=\"황교안\">황교안</a> <a href=\"/wiki/%EB%8C%80%ED%95%9C%EB%AF%BC%EA%B5%AD%EC%9D%98_%EA%B5%AD%EB%AC%B4%EC%B4%9D%EB%A6%AC\" title=\"대한민국의 국무총리\">국무총리</a>가 권한대행<small>(2017년 3월 10일~2017년 5월 10일)</small>\n",
       "</td></tr>\n",
       "<tr>\n",
       "<td><b>19</b>\n",
       "</td>\n",
       "<td><a class=\"image\" href=\"/wiki/%ED%8C%8C%EC%9D%BC:Moon_Jae-in_(2017-10-01)_cropped.jpg\"><img alt=\"Moon Jae-in (2017-10-01) cropped.jpg\" data-file-height=\"496\" data-file-width=\"354\" decoding=\"async\" height=\"140\" src=\"//upload.wikimedia.org/wikipedia/commons/thumb/c/c9/Moon_Jae-in_%282017-10-01%29_cropped.jpg/100px-Moon_Jae-in_%282017-10-01%29_cropped.jpg\" srcset=\"//upload.wikimedia.org/wikipedia/commons/thumb/c/c9/Moon_Jae-in_%282017-10-01%29_cropped.jpg/150px-Moon_Jae-in_%282017-10-01%29_cropped.jpg 1.5x, //upload.wikimedia.org/wikipedia/commons/thumb/c/c9/Moon_Jae-in_%282017-10-01%29_cropped.jpg/200px-Moon_Jae-in_%282017-10-01%29_cropped.jpg 2x\" width=\"100\"/></a>\n",
       "</td>\n",
       "<td><b><a href=\"/wiki/%EB%AC%B8%EC%9E%AC%EC%9D%B8\" title=\"문재인\">문재인</a></b><br/><small>(1953~)</small>\n",
       "</td>\n",
       "<td style=\"background:#004EA2\">\n",
       "</td>\n",
       "<td>2017년 5월 10일\n",
       "</td>\n",
       "<td>2022년 5월 9일\n",
       "</td>\n",
       "<td><a href=\"/wiki/%EB%8C%80%ED%95%9C%EB%AF%BC%EA%B5%AD_%EC%A0%9C19%EB%8C%80_%EB%8C%80%ED%86%B5%EB%A0%B9_%EC%84%A0%EA%B1%B0\" title=\"대한민국 제19대 대통령 선거\">2017년 대선</a> <br/>  — 41.1%<small>(직선, 13,423,800표)</small>\n",
       "</td>\n",
       "<td><a href=\"/wiki/%EB%8D%94%EB%B6%88%EC%96%B4%EB%AF%BC%EC%A3%BC%EB%8B%B9\" title=\"더불어민주당\">더불어민주당</a><small>(2017~2022)</small>\n",
       "</td></tr>\n",
       "<tr>\n",
       "<td><b>20</b>\n",
       "</td>\n",
       "<td><a class=\"image\" href=\"/wiki/%ED%8C%8C%EC%9D%BC:South_Korea_President_Yoon_Suk_Yeol_portrait.jpg\"><img alt=\"South Korea President Yoon Suk Yeol portrait.jpg\" data-file-height=\"3837\" data-file-width=\"3070\" decoding=\"async\" height=\"125\" src=\"//upload.wikimedia.org/wikipedia/commons/thumb/6/6a/South_Korea_President_Yoon_Suk_Yeol_portrait.jpg/100px-South_Korea_President_Yoon_Suk_Yeol_portrait.jpg\" srcset=\"//upload.wikimedia.org/wikipedia/commons/thumb/6/6a/South_Korea_President_Yoon_Suk_Yeol_portrait.jpg/150px-South_Korea_President_Yoon_Suk_Yeol_portrait.jpg 1.5x, //upload.wikimedia.org/wikipedia/commons/thumb/6/6a/South_Korea_President_Yoon_Suk_Yeol_portrait.jpg/200px-South_Korea_President_Yoon_Suk_Yeol_portrait.jpg 2x\" width=\"100\"/></a>\n",
       "</td>\n",
       "<td><b><a href=\"/wiki/%EC%9C%A4%EC%84%9D%EC%97%B4\" title=\"윤석열\">윤석열</a></b><br/><small>(1960~)</small>\n",
       "</td>\n",
       "<td style=\"background:#E61E2B\">\n",
       "</td>\n",
       "<td>2022년 5월 10일\n",
       "</td>\n",
       "<td>\n",
       "</td>\n",
       "<td><a href=\"/wiki/%EB%8C%80%ED%95%9C%EB%AF%BC%EA%B5%AD_%EC%A0%9C20%EB%8C%80_%EB%8C%80%ED%86%B5%EB%A0%B9_%EC%84%A0%EA%B1%B0\" title=\"대한민국 제20대 대통령 선거\">2022년 대선</a> <br/>  — 48.6%<small>(직선, 16,394,815표)</small>\n",
       "</td>\n",
       "<td><a href=\"/wiki/%EA%B5%AD%EB%AF%BC%EC%9D%98%ED%9E%98\" title=\"국민의힘\">국민의힘</a><small>(2022~)</small>\n",
       "</td></tr></tbody></table>"
      ]
     },
     "execution_count": 23,
     "metadata": {},
     "output_type": "execute_result"
    }
   ],
   "source": [
    "soup.find(class_ = 'wikitable')"
   ]
  },
  {
   "cell_type": "code",
   "execution_count": 20,
   "id": "cb52e9ef-f224-4a61-8479-765ac58ecfd2",
   "metadata": {
    "collapsed": true,
    "jupyter": {
     "outputs_hidden": true
    },
    "tags": []
   },
   "outputs": [
    {
     "data": {
      "text/plain": [
       "[<b>1</b>,\n",
       " <b><a href=\"/wiki/%EC%9D%B4%EC%8A%B9%EB%A7%8C\" title=\"이승만\">이승만</a></b>,\n",
       " <b>2</b>,\n",
       " <b>3</b>,\n",
       " <b>4</b>,\n",
       " <b><a href=\"/wiki/%EC%9C%A4%EB%B3%B4%EC%84%A0\" title=\"윤보선\">윤보선</a></b>,\n",
       " <b>5</b>,\n",
       " <b><a href=\"/wiki/%EB%B0%95%EC%A0%95%ED%9D%AC\" title=\"박정희\">박정희</a></b>,\n",
       " <b>6</b>,\n",
       " <b>7</b>,\n",
       " <b>8</b>,\n",
       " <b>9</b>,\n",
       " <b>10</b>,\n",
       " <b><a href=\"/wiki/%EC%B5%9C%EA%B7%9C%ED%95%98\" title=\"최규하\">최규하</a></b>,\n",
       " <b>11</b>,\n",
       " <b><a href=\"/wiki/%EC%A0%84%EB%91%90%ED%99%98\" title=\"전두환\">전두환</a></b>,\n",
       " <b>12</b>,\n",
       " <b>13</b>,\n",
       " <b><a href=\"/wiki/%EB%85%B8%ED%83%9C%EC%9A%B0\" title=\"노태우\">노태우</a></b>,\n",
       " <b>14</b>,\n",
       " <b><a href=\"/wiki/%EA%B9%80%EC%98%81%EC%82%BC\" title=\"김영삼\">김영삼</a></b>,\n",
       " <b>15</b>,\n",
       " <b><a href=\"/wiki/%EA%B9%80%EB%8C%80%EC%A4%91\" title=\"김대중\">김대중</a></b>,\n",
       " <b>16</b>,\n",
       " <b><a href=\"/wiki/%EB%85%B8%EB%AC%B4%ED%98%84\" title=\"노무현\">노무현</a></b>,\n",
       " <b>17</b>,\n",
       " <b><a href=\"/wiki/%EC%9D%B4%EB%AA%85%EB%B0%95\" title=\"이명박\">이명박</a></b>,\n",
       " <b>18</b>,\n",
       " <b><a href=\"/wiki/%EB%B0%95%EA%B7%BC%ED%98%9C\" title=\"박근혜\">박근혜</a></b>,\n",
       " <b>19</b>,\n",
       " <b><a href=\"/wiki/%EB%AC%B8%EC%9E%AC%EC%9D%B8\" title=\"문재인\">문재인</a></b>,\n",
       " <b>20</b>,\n",
       " <b><a href=\"/wiki/%EC%9C%A4%EC%84%9D%EC%97%B4\" title=\"윤석열\">윤석열</a></b>]"
      ]
     },
     "execution_count": 20,
     "metadata": {},
     "output_type": "execute_result"
    }
   ],
   "source": [
    "table = soup.find(class_ = 'wikitable').find_all('b')\n",
    "table"
   ]
  },
  {
   "cell_type": "code",
   "execution_count": 21,
   "id": "79db2470-6f76-4a15-9c01-7f2a75157091",
   "metadata": {
    "collapsed": true,
    "jupyter": {
     "outputs_hidden": true
    },
    "tags": []
   },
   "outputs": [
    {
     "data": {
      "text/plain": [
       "[None,\n",
       " <a href=\"/wiki/%EC%9D%B4%EC%8A%B9%EB%A7%8C\" title=\"이승만\">이승만</a>,\n",
       " None,\n",
       " None,\n",
       " None,\n",
       " <a href=\"/wiki/%EC%9C%A4%EB%B3%B4%EC%84%A0\" title=\"윤보선\">윤보선</a>,\n",
       " None,\n",
       " <a href=\"/wiki/%EB%B0%95%EC%A0%95%ED%9D%AC\" title=\"박정희\">박정희</a>,\n",
       " None,\n",
       " None,\n",
       " None,\n",
       " None,\n",
       " None,\n",
       " <a href=\"/wiki/%EC%B5%9C%EA%B7%9C%ED%95%98\" title=\"최규하\">최규하</a>,\n",
       " None,\n",
       " <a href=\"/wiki/%EC%A0%84%EB%91%90%ED%99%98\" title=\"전두환\">전두환</a>,\n",
       " None,\n",
       " None,\n",
       " <a href=\"/wiki/%EB%85%B8%ED%83%9C%EC%9A%B0\" title=\"노태우\">노태우</a>,\n",
       " None,\n",
       " <a href=\"/wiki/%EA%B9%80%EC%98%81%EC%82%BC\" title=\"김영삼\">김영삼</a>,\n",
       " None,\n",
       " <a href=\"/wiki/%EA%B9%80%EB%8C%80%EC%A4%91\" title=\"김대중\">김대중</a>,\n",
       " None,\n",
       " <a href=\"/wiki/%EB%85%B8%EB%AC%B4%ED%98%84\" title=\"노무현\">노무현</a>,\n",
       " None,\n",
       " <a href=\"/wiki/%EC%9D%B4%EB%AA%85%EB%B0%95\" title=\"이명박\">이명박</a>,\n",
       " None,\n",
       " <a href=\"/wiki/%EB%B0%95%EA%B7%BC%ED%98%9C\" title=\"박근혜\">박근혜</a>,\n",
       " None,\n",
       " <a href=\"/wiki/%EB%AC%B8%EC%9E%AC%EC%9D%B8\" title=\"문재인\">문재인</a>,\n",
       " None,\n",
       " <a href=\"/wiki/%EC%9C%A4%EC%84%9D%EC%97%B4\" title=\"윤석열\">윤석열</a>]"
      ]
     },
     "execution_count": 21,
     "metadata": {},
     "output_type": "execute_result"
    }
   ],
   "source": [
    "name = [i.find('a') for i in table]\n",
    "name"
   ]
  },
  {
   "cell_type": "code",
   "execution_count": 22,
   "id": "082fd929-6b65-42f6-8aee-164336ea63eb",
   "metadata": {},
   "outputs": [
    {
     "data": {
      "text/plain": [
       "[<a href=\"/wiki/%EC%9D%B4%EC%8A%B9%EB%A7%8C\" title=\"이승만\">이승만</a>,\n",
       " <a href=\"/wiki/%EC%9C%A4%EB%B3%B4%EC%84%A0\" title=\"윤보선\">윤보선</a>,\n",
       " <a href=\"/wiki/%EB%B0%95%EC%A0%95%ED%9D%AC\" title=\"박정희\">박정희</a>,\n",
       " <a href=\"/wiki/%EC%B5%9C%EA%B7%9C%ED%95%98\" title=\"최규하\">최규하</a>,\n",
       " <a href=\"/wiki/%EC%A0%84%EB%91%90%ED%99%98\" title=\"전두환\">전두환</a>,\n",
       " <a href=\"/wiki/%EB%85%B8%ED%83%9C%EC%9A%B0\" title=\"노태우\">노태우</a>,\n",
       " <a href=\"/wiki/%EA%B9%80%EC%98%81%EC%82%BC\" title=\"김영삼\">김영삼</a>,\n",
       " <a href=\"/wiki/%EA%B9%80%EB%8C%80%EC%A4%91\" title=\"김대중\">김대중</a>,\n",
       " <a href=\"/wiki/%EB%85%B8%EB%AC%B4%ED%98%84\" title=\"노무현\">노무현</a>,\n",
       " <a href=\"/wiki/%EC%9D%B4%EB%AA%85%EB%B0%95\" title=\"이명박\">이명박</a>,\n",
       " <a href=\"/wiki/%EB%B0%95%EA%B7%BC%ED%98%9C\" title=\"박근혜\">박근혜</a>,\n",
       " <a href=\"/wiki/%EB%AC%B8%EC%9E%AC%EC%9D%B8\" title=\"문재인\">문재인</a>,\n",
       " <a href=\"/wiki/%EC%9C%A4%EC%84%9D%EC%97%B4\" title=\"윤석열\">윤석열</a>]"
      ]
     },
     "execution_count": 22,
     "metadata": {},
     "output_type": "execute_result"
    }
   ],
   "source": [
    "name = list(filter(None, name)) # 이것은 none을 제외하고 name만 필터링한다. \n",
    "name"
   ]
  },
  {
   "cell_type": "markdown",
   "id": "554be2a3-0f63-4d9b-9e75-2475a9d2f60d",
   "metadata": {},
   "source": [
    "## 네이버 로그인 하기 "
   ]
  },
  {
   "cell_type": "code",
   "execution_count": 12,
   "id": "e9241737-d96c-4546-8293-c5d47cc8fb14",
   "metadata": {},
   "outputs": [
    {
     "name": "stderr",
     "output_type": "stream",
     "text": [
      "C:\\Users\\admin\\AppData\\Local\\Temp\\ipykernel_10772\\3184842697.py:1: DeprecationWarning: executable_path has been deprecated, please pass in a Service object\n",
      "  driver= webdriver.Chrome('chromedriver.exe')\n"
     ]
    }
   ],
   "source": [
    "driver= webdriver.Chrome('chromedriver.exe')"
   ]
  },
  {
   "cell_type": "code",
   "execution_count": 13,
   "id": "0af1ead4-3520-4bb2-87c3-3214bb3afac1",
   "metadata": {},
   "outputs": [],
   "source": [
    "url = \"https://accounts.kakao.com/login?continue=https%3A%2F%2Flogins.daum.net%2Faccounts%2Fksso.do%3Frescue%3Dtrue%26url%3Dhttps%253A%252F%252Fwww.daum.net\"\n",
    "driver.get(url) # 위에 것을 새로 실행 시켜야함"
   ]
  },
  {
   "cell_type": "code",
   "execution_count": null,
   "id": "eb46f5ab-e0c9-40a4-9e7a-c8d749482f10",
   "metadata": {},
   "outputs": [],
   "source": [
    "# 다른 이가 한것 \n",
    "\n",
    "driver = \n",
    "webdriver.Chrome\n",
    "(\"chromedriver.exe\")\n",
    "# driver.get('https://www.daum.net/')\n",
    "\n",
    "header = {\"User-Agent\" : \"Mozilla/5.0 (Windows NT 10.0; Win64; x64; rv:106.0) Gecko/20100101 Firefox/106.0\"}\n",
    "\n",
    "driver.get('https://nid.naver.com/nidlogin.login?mode=form&url=https%3A%2F%2Fwww.naver.com')\n",
    "\n",
    "# ID 창에 ID 입력하기\n",
    "from selenium.webdriver.common.by import By\n",
    "driver.find_element(By.ID, 'id').send_keys(\"choongang402\") "
   ]
  },
  {
   "cell_type": "code",
   "execution_count": 1,
   "id": "16d071da-ceca-4ab3-a6d4-8bd6474a0773",
   "metadata": {},
   "outputs": [
    {
     "ename": "NameError",
     "evalue": "name 'driver' is not defined",
     "output_type": "error",
     "traceback": [
      "\u001b[1;31m---------------------------------------------------------------------------\u001b[0m",
      "\u001b[1;31mNameError\u001b[0m                                 Traceback (most recent call last)",
      "Input \u001b[1;32mIn [1]\u001b[0m, in \u001b[0;36m<cell line: 1>\u001b[1;34m()\u001b[0m\n\u001b[1;32m----> 1\u001b[0m e\u001b[38;5;241m=\u001b[39m\u001b[43mdriver\u001b[49m\u001b[38;5;241m.\u001b[39mfind_element(By\u001b[38;5;241m.\u001b[39mID, \u001b[38;5;124m\"\u001b[39m\u001b[38;5;124mquery\u001b[39m\u001b[38;5;124m\"\u001b[39m) \u001b[38;5;66;03m# 아이디 칸 들어감                             \u001b[39;00m\n\u001b[0;32m      2\u001b[0m e\u001b[38;5;241m.\u001b[39mclear() \u001b[38;5;66;03m# 아이디칸 싹 지움 \u001b[39;00m\n\u001b[0;32m      3\u001b[0m e\u001b[38;5;241m.\u001b[39msend_keys(\u001b[38;5;124m\"\u001b[39m\u001b[38;5;124mselenium\u001b[39m\u001b[38;5;124m\"\u001b[39m)\n",
      "\u001b[1;31mNameError\u001b[0m: name 'driver' is not defined"
     ]
    }
   ],
   "source": []
  },
  {
   "cell_type": "code",
   "execution_count": 23,
   "id": "4c123a81-07be-4ca1-beb4-5fbb5b397ca7",
   "metadata": {},
   "outputs": [],
   "source": [
    "e=driver.find_element(By.ID, \"id\")                             \n",
    "e.send_keys(\"snfns\") "
   ]
  },
  {
   "cell_type": "code",
   "execution_count": 24,
   "id": "145a1334-b236-4a34-be82-ea77c1b0ab66",
   "metadata": {},
   "outputs": [],
   "source": [
    "e=driver.find_element(By.ID, \"pw\")  # input type =password는 문자 노출 방지                    \n",
    "e.send_keys(\"snfns\") # 클리어 안해도 잘 들어가긴 함 "
   ]
  },
  {
   "cell_type": "markdown",
   "id": "67761d42-93a7-4e53-b0b0-79eb051373c4",
   "metadata": {},
   "source": [
    "### 클래스로 지칭"
   ]
  },
  {
   "cell_type": "code",
   "execution_count": 57,
   "id": "2bc9d3b8-7e9e-4bbe-a1eb-861b853111ac",
   "metadata": {},
   "outputs": [],
   "source": [
    "from selenium.webdriver.common.keys import Keys"
   ]
  },
  {
   "cell_type": "code",
   "execution_count": 58,
   "id": "86c32171-3d4c-46e5-9f97-6a20aff6732f",
   "metadata": {},
   "outputs": [],
   "source": [
    "e=driver.find_elements(By.CLASS_NAME, \"input_text\") # 클래스로 지칭하기 \n",
    "e[0].clear()\n",
    "e[0].send_keys(\"wogns3633\")  \n",
    "e[0].send_keys(Keys.ENTER) # 엔터키 입력하기 "
   ]
  },
  {
   "cell_type": "code",
   "execution_count": 59,
   "id": "1a7bcded-a486-410f-9c04-63035c88a2e2",
   "metadata": {},
   "outputs": [],
   "source": [
    "e=driver.find_elements(By.CLASS_NAME, \"input_text\") # 엘리맨츠s라서 두개가 생성\n",
    "e[1].clear()\n",
    "e[1].send_keys(\"a\")\n",
    "e[1].send_keys(Keys.ENTER)"
   ]
  },
  {
   "cell_type": "code",
   "execution_count": 60,
   "id": "9d88741a-b8a3-4a75-8394-69af4e5fb212",
   "metadata": {},
   "outputs": [
    {
     "ename": "AttributeError",
     "evalue": "'list' object has no attribute 'send_keys'",
     "output_type": "error",
     "traceback": [
      "\u001b[1;31m---------------------------------------------------------------------------\u001b[0m",
      "\u001b[1;31mAttributeError\u001b[0m                            Traceback (most recent call last)",
      "Input \u001b[1;32mIn [60]\u001b[0m, in \u001b[0;36m<cell line: 1>\u001b[1;34m()\u001b[0m\n\u001b[1;32m----> 1\u001b[0m \u001b[43me\u001b[49m\u001b[38;5;241;43m.\u001b[39;49m\u001b[43msend_keys\u001b[49m(Keys\u001b[38;5;241m.\u001b[39mENTER)\n",
      "\u001b[1;31mAttributeError\u001b[0m: 'list' object has no attribute 'send_keys'"
     ]
    }
   ],
   "source": [
    "e.send_keys(Keys.ENTER) # s가 붙을 때는 이거는 먹히지 않음 "
   ]
  },
  {
   "cell_type": "code",
   "execution_count": 61,
   "id": "d1b4f3bc-a64a-4c42-a83e-1147e215a9cc",
   "metadata": {},
   "outputs": [
    {
     "data": {
      "text/plain": [
       "list"
      ]
     },
     "execution_count": 61,
     "metadata": {},
     "output_type": "execute_result"
    }
   ],
   "source": [
    "type(e) # e는 단순히 리스트임 안에 들어가서 접근해야 됨 "
   ]
  },
  {
   "cell_type": "code",
   "execution_count": 62,
   "id": "c3957999-5ffc-4320-9d1d-fee8f6d94e59",
   "metadata": {},
   "outputs": [
    {
     "data": {
      "text/plain": [
       "[<selenium.webdriver.remote.webelement.WebElement (session=\"7bd4cfcd7b688e926d3c301e7954c881\", element=\"f9f1cabe-a063-4713-80f5-ae9b806b1b28\")>,\n",
       " <selenium.webdriver.remote.webelement.WebElement (session=\"7bd4cfcd7b688e926d3c301e7954c881\", element=\"584aa3fa-2592-4783-ab0d-4c65e4bab97f\")>]"
      ]
     },
     "execution_count": 62,
     "metadata": {},
     "output_type": "execute_result"
    }
   ],
   "source": [
    "e"
   ]
  },
  {
   "cell_type": "markdown",
   "id": "3d92f437-0541-4c7d-9c30-db1f40dd5dcd",
   "metadata": {},
   "source": [
    "## 검색창에 글 쓰기 "
   ]
  },
  {
   "cell_type": "code",
   "execution_count": 42,
   "id": "c221f600-5de0-4065-8214-0d9507931d28",
   "metadata": {},
   "outputs": [],
   "source": [
    "e=driver.find_element(By.ID, \"query\") # 아이디 칸 들어감 # 이미 주소가 네이버창이라서                           \n",
    "e.clear() # 아이디칸 싹 지움            # 네이버 검색창 id 들어가면됨\n",
    "e.send_keys(\"우크라이나\") # 검색어 쓰기 \n",
    "e.send_keys(Keys.ENTER)  # 엔터키로 들어가기 "
   ]
  },
  {
   "cell_type": "markdown",
   "id": "f4c8ab68-d9fc-4f0e-9cbd-bcf557f0b0c6",
   "metadata": {},
   "source": [
    "## 2곳만 자동로그인하기"
   ]
  },
  {
   "cell_type": "markdown",
   "id": "6c23e741-03e7-47bf-b43a-6bda475f57c1",
   "metadata": {},
   "source": [
    "### 구글 "
   ]
  },
  {
   "cell_type": "code",
   "execution_count": 44,
   "id": "5bd5e072-b7df-4066-a00c-d29d2030b2a1",
   "metadata": {},
   "outputs": [],
   "source": [
    "from selenium.webdriver.common.by import By\n",
    "driver= webdriver.Chrome('chromedriver.exe')\n",
    "url = \"https://accounts.google.com/ServiceLogin/identifier?hl=ko&passive=true&continue=https%3A%2F%2Fwww.google.co.kr%2F&ec=GAZAmgQ&flowName=GlifWebSignIn&flowEntry=ServiceLogin\"\n",
    "driver.get(url) # 위에 것을 새로 실행 시켜야함"
   ]
  },
  {
   "cell_type": "code",
   "execution_count": 46,
   "id": "ae350a9c-a922-4a29-8a78-b8ab67971367",
   "metadata": {},
   "outputs": [],
   "source": [
    "e=driver.find_element(By.ID, \"identifierId\") # 아이디 칸 들어감                             \n",
    "e.clear() # 아이디칸 싹 지움 \n",
    "e.send_keys(\"ad\") # 내 아이디 쓰면 됨 "
   ]
  },
  {
   "cell_type": "code",
   "execution_count": 48,
   "id": "cfcced41-46e4-469b-ba42-f37b71aaf9c3",
   "metadata": {},
   "outputs": [],
   "source": [
    "e=driver.find_element(By.ID, \"identifierId\") # 아이디 칸 들어감                             \n",
    "e.clear() # 아이디칸 싹 지움 \n",
    "e.send_keys(\"wogns3633@gmail.com\") # 내 아이디 쓰면 됨 \n",
    "e.send_keys(Keys.ENTER)  # 엔터키로 들어가기"
   ]
  },
  {
   "cell_type": "markdown",
   "id": "b1c90f62-cff4-488f-a6b4-eb4d0178b9d9",
   "metadata": {},
   "source": [
    "### 다음"
   ]
  },
  {
   "cell_type": "code",
   "execution_count": 49,
   "id": "e93a30db-f037-44e2-ae5e-12af76103795",
   "metadata": {},
   "outputs": [
    {
     "name": "stderr",
     "output_type": "stream",
     "text": [
      "C:\\Users\\admin\\AppData\\Local\\Temp\\ipykernel_10772\\3302734654.py:2: DeprecationWarning: executable_path has been deprecated, please pass in a Service object\n",
      "  driver= webdriver.Chrome('chromedriver.exe')\n"
     ]
    }
   ],
   "source": [
    "from selenium.webdriver.common.by import By\n",
    "driver= webdriver.Chrome('chromedriver.exe')\n",
    "url = \"https://accounts.kakao.com/login?continue=https%3A%2F%2Flogins.daum.net%2Faccounts%2Fksso.do%3Frescue%3Dtrue%26url%3Dhttps%253A%252F%252Fwww.daum.net\"\n",
    "driver.get(url) # 위에 것을 새로 실행 시켜야함"
   ]
  },
  {
   "cell_type": "code",
   "execution_count": 51,
   "id": "d130a908-a6e5-4a6b-8016-4dc429ffc2d2",
   "metadata": {
    "tags": []
   },
   "outputs": [],
   "source": [
    "e=driver.find_element(By.ID, \"input-loginKey\") # 아이디 칸 들어감                             \n",
    "e.clear() # 아이디칸 싹 지움 \n",
    "e.send_keys(\"abcde\") # 내 아이디 쓰면 됨 \n",
    "e.send_keys(Keys.ENTER)  # 엔터키로 들어가기\n",
    "\n",
    "# 다음은 웹드라이버로 불러오는 과정에서 변현되기에 불러온 창에서 바꿔서 써야 됨 "
   ]
  },
  {
   "cell_type": "code",
   "execution_count": 52,
   "id": "4406c819-dd2d-4e5e-91b7-7128bda7d638",
   "metadata": {},
   "outputs": [],
   "source": [
    "e=driver.find_element(By.ID, \"input-password\") # 비밀번호 칸 들어감                             \n",
    "e.clear() # 아이디칸 싹 지움 \n",
    "e.send_keys(\"abcde\") # 내 비밀번호 쓰면 됨 \n",
    "e.send_keys(Keys.ENTER)  # 엔터키로 들어가기"
   ]
  },
  {
   "cell_type": "markdown",
   "id": "258732fb-0026-45a2-b580-c27979d95a1b",
   "metadata": {},
   "source": [
    "### 네이버 쇼핑가서 목록보기"
   ]
  },
  {
   "cell_type": "code",
   "execution_count": null,
   "id": "e8012d3f-d527-4697-976a-1636cd79c147",
   "metadata": {},
   "outputs": [],
   "source": [
    "from selenium.webdriver.common.by import By\n",
    "driver= webdriver.Chrome('chromedriver.exe')\n",
    "url = \"https://nid.naver.com/nidlogin.login\"\n",
    "driver.get(url) # 위에 것을 새로 실행 시켜야함"
   ]
  },
  {
   "cell_type": "code",
   "execution_count": null,
   "id": "425f6241-8ad6-4764-99e4-cdf3ccc66e98",
   "metadata": {},
   "outputs": [],
   "source": [
    "e=driver.find_element(By.ID, \"id\") # 아이디 칸 들어감                             \n",
    "e.clear() # 아이디칸 싹 지움 \n",
    "e.send_keys(\"ad\") # 내 아이디 쓰면 됨 "
   ]
  },
  {
   "cell_type": "code",
   "execution_count": 64,
   "id": "17b420d5-e175-4030-876f-b3328de84350",
   "metadata": {},
   "outputs": [],
   "source": [
    "driver.get(\"https://order.pay.naver.com/home?tabMenu=SHOPPING\")"
   ]
  },
  {
   "cell_type": "code",
   "execution_count": 65,
   "id": "2ce6014d-6f0d-46b7-b6ce-a70e08558f6a",
   "metadata": {
    "collapsed": true,
    "jupyter": {
     "outputs_hidden": true
    },
    "tags": []
   },
   "outputs": [
    {
     "data": {
      "text/plain": [
       "[<selenium.webdriver.remote.webelement.WebElement (session=\"d7ec61cfa0501667baddeb1a3c91083a\", element=\"a5fe4fdb-de71-4a88-a900-cf308292ed91\")>,\n",
       " <selenium.webdriver.remote.webelement.WebElement (session=\"d7ec61cfa0501667baddeb1a3c91083a\", element=\"6fb4e480-905d-4af6-a774-19334d06861a\")>,\n",
       " <selenium.webdriver.remote.webelement.WebElement (session=\"d7ec61cfa0501667baddeb1a3c91083a\", element=\"0ab72ae3-02ca-4677-af47-ac689e93bea0\")>,\n",
       " <selenium.webdriver.remote.webelement.WebElement (session=\"d7ec61cfa0501667baddeb1a3c91083a\", element=\"99fdf9cb-5d2b-445b-98f6-5a8b4d95960a\")>,\n",
       " <selenium.webdriver.remote.webelement.WebElement (session=\"d7ec61cfa0501667baddeb1a3c91083a\", element=\"009ae8ba-cbad-4716-a445-0ab49cf35ed0\")>,\n",
       " <selenium.webdriver.remote.webelement.WebElement (session=\"d7ec61cfa0501667baddeb1a3c91083a\", element=\"acacc405-dc96-4663-bf03-b9137e28273b\")>,\n",
       " <selenium.webdriver.remote.webelement.WebElement (session=\"d7ec61cfa0501667baddeb1a3c91083a\", element=\"f773db50-4258-420b-9378-265fe8a265e5\")>,\n",
       " <selenium.webdriver.remote.webelement.WebElement (session=\"d7ec61cfa0501667baddeb1a3c91083a\", element=\"de9a7a65-b8b0-4a43-a13e-8e8898f9e3bf\")>,\n",
       " <selenium.webdriver.remote.webelement.WebElement (session=\"d7ec61cfa0501667baddeb1a3c91083a\", element=\"9dad46f1-b127-41e4-aaa7-9816dfa2fa10\")>,\n",
       " <selenium.webdriver.remote.webelement.WebElement (session=\"d7ec61cfa0501667baddeb1a3c91083a\", element=\"5a3e3e73-3fcf-4e9e-b246-dbdfa2804dd6\")>,\n",
       " <selenium.webdriver.remote.webelement.WebElement (session=\"d7ec61cfa0501667baddeb1a3c91083a\", element=\"bdac930f-d59a-4ac3-9a5e-1121e92ac3a8\")>,\n",
       " <selenium.webdriver.remote.webelement.WebElement (session=\"d7ec61cfa0501667baddeb1a3c91083a\", element=\"28dea1db-4a2c-4f9a-8fd1-16245f31f04d\")>,\n",
       " <selenium.webdriver.remote.webelement.WebElement (session=\"d7ec61cfa0501667baddeb1a3c91083a\", element=\"a1913767-3507-494e-a3b9-c1af01cb6d24\")>,\n",
       " <selenium.webdriver.remote.webelement.WebElement (session=\"d7ec61cfa0501667baddeb1a3c91083a\", element=\"fdec2328-812a-4a3c-a352-540481193892\")>,\n",
       " <selenium.webdriver.remote.webelement.WebElement (session=\"d7ec61cfa0501667baddeb1a3c91083a\", element=\"3e426a5d-6b07-435c-86ee-46c1e17d854d\")>,\n",
       " <selenium.webdriver.remote.webelement.WebElement (session=\"d7ec61cfa0501667baddeb1a3c91083a\", element=\"461b1116-3931-40ef-9715-730d1171b0d1\")>]"
      ]
     },
     "execution_count": 65,
     "metadata": {},
     "output_type": "execute_result"
    }
   ],
   "source": [
    "e= driver.find_elements(By.CLASS_NAME, \"name\")\n",
    "e"
   ]
  },
  {
   "cell_type": "code",
   "execution_count": 69,
   "id": "2e6dd24a-c270-466d-b0ef-49a7ae45ad38",
   "metadata": {},
   "outputs": [
    {
     "data": {
      "text/plain": [
       "'철도승차권(한국철도)'"
      ]
     },
     "execution_count": 69,
     "metadata": {},
     "output_type": "execute_result"
    }
   ],
   "source": [
    "e[2].text"
   ]
  },
  {
   "cell_type": "code",
   "execution_count": 71,
   "id": "72c5ad22-509f-436f-9554-d03511540591",
   "metadata": {
    "collapsed": true,
    "jupyter": {
     "outputs_hidden": true
    },
    "tags": []
   },
   "outputs": [
    {
     "name": "stdout",
     "output_type": "stream",
     "text": [
      "철도승차권(한국철도) 외 1건\n",
      "철도승차권(한국철도)\n"
     ]
    }
   ],
   "source": [
    "for i in range(1,3):\n",
    "    print(e[i].text)"
   ]
  },
  {
   "cell_type": "code",
   "execution_count": 70,
   "id": "853e1f3b-60ae-4ed9-8b54-1999176f0713",
   "metadata": {
    "collapsed": true,
    "jupyter": {
     "outputs_hidden": true
    },
    "tags": []
   },
   "outputs": [
    {
     "name": "stdout",
     "output_type": "stream",
     "text": [
      "정재훈님\n",
      "철도승차권(한국철도) 외 1건\n",
      "철도승차권(한국철도)\n",
      "[기모추가]앨빈클로 FW신상 남녀공용 맨투맨 5종 기획전\n",
      "귀여운 햄찌 햄스터 펭귄 인형 키링\n",
      "남자잠옷반바지 수면반바지 홈웨어팬츠 파자마잠옷\n",
      "모나리자 비말 차단용 데일리 마스크 KF-AD 대형 50매 대용량\n",
      "모나리자 비말 차단용 데일리 마스크 KF-AD 대형 50매 대용량\n",
      "철도승차권(한국철도)\n",
      "철도승차권(한국철도)\n",
      "철도승차권(한국철도)\n",
      "Comfort Out Pocket Jacket J21 Black\n",
      "wide straight washed denim (3color)\n",
      "1+1 아이폰SE2 아이폰8 아이폰7 공용 에어룸 투명 젤리 케이스\n",
      "아더 데일리 오버핏 루즈핏 옥스포드 셔츠 (7color)\n",
      "철도승차권(한국철도)\n"
     ]
    }
   ],
   "source": [
    "for i in range(len(e)):\n",
    "    print(e[i].text)"
   ]
  },
  {
   "cell_type": "markdown",
   "id": "92e504b9-f6b1-47e2-8a44-b09093a2a951",
   "metadata": {},
   "source": [
    "### select로 잡기"
   ]
  },
  {
   "cell_type": "code",
   "execution_count": 79,
   "id": "21b1179a-578c-4557-94ee-4874bca5d947",
   "metadata": {
    "collapsed": true,
    "jupyter": {
     "outputs_hidden": true
    },
    "tags": []
   },
   "outputs": [
    {
     "data": {
      "text/plain": [
       "[<selenium.webdriver.remote.webelement.WebElement (session=\"d7ec61cfa0501667baddeb1a3c91083a\", element=\"39f5c9a2-4826-4469-9cb3-01303b6f596c\")>,\n",
       " <selenium.webdriver.remote.webelement.WebElement (session=\"d7ec61cfa0501667baddeb1a3c91083a\", element=\"b91c341d-e59d-43d9-a2e4-320d252c9f72\")>,\n",
       " <selenium.webdriver.remote.webelement.WebElement (session=\"d7ec61cfa0501667baddeb1a3c91083a\", element=\"6fb4e480-905d-4af6-a774-19334d06861a\")>,\n",
       " <selenium.webdriver.remote.webelement.WebElement (session=\"d7ec61cfa0501667baddeb1a3c91083a\", element=\"0ab72ae3-02ca-4677-af47-ac689e93bea0\")>,\n",
       " <selenium.webdriver.remote.webelement.WebElement (session=\"d7ec61cfa0501667baddeb1a3c91083a\", element=\"99fdf9cb-5d2b-445b-98f6-5a8b4d95960a\")>,\n",
       " <selenium.webdriver.remote.webelement.WebElement (session=\"d7ec61cfa0501667baddeb1a3c91083a\", element=\"009ae8ba-cbad-4716-a445-0ab49cf35ed0\")>,\n",
       " <selenium.webdriver.remote.webelement.WebElement (session=\"d7ec61cfa0501667baddeb1a3c91083a\", element=\"acacc405-dc96-4663-bf03-b9137e28273b\")>,\n",
       " <selenium.webdriver.remote.webelement.WebElement (session=\"d7ec61cfa0501667baddeb1a3c91083a\", element=\"f773db50-4258-420b-9378-265fe8a265e5\")>,\n",
       " <selenium.webdriver.remote.webelement.WebElement (session=\"d7ec61cfa0501667baddeb1a3c91083a\", element=\"de9a7a65-b8b0-4a43-a13e-8e8898f9e3bf\")>,\n",
       " <selenium.webdriver.remote.webelement.WebElement (session=\"d7ec61cfa0501667baddeb1a3c91083a\", element=\"9dad46f1-b127-41e4-aaa7-9816dfa2fa10\")>,\n",
       " <selenium.webdriver.remote.webelement.WebElement (session=\"d7ec61cfa0501667baddeb1a3c91083a\", element=\"5a3e3e73-3fcf-4e9e-b246-dbdfa2804dd6\")>,\n",
       " <selenium.webdriver.remote.webelement.WebElement (session=\"d7ec61cfa0501667baddeb1a3c91083a\", element=\"bdac930f-d59a-4ac3-9a5e-1121e92ac3a8\")>,\n",
       " <selenium.webdriver.remote.webelement.WebElement (session=\"d7ec61cfa0501667baddeb1a3c91083a\", element=\"28dea1db-4a2c-4f9a-8fd1-16245f31f04d\")>,\n",
       " <selenium.webdriver.remote.webelement.WebElement (session=\"d7ec61cfa0501667baddeb1a3c91083a\", element=\"a1913767-3507-494e-a3b9-c1af01cb6d24\")>,\n",
       " <selenium.webdriver.remote.webelement.WebElement (session=\"d7ec61cfa0501667baddeb1a3c91083a\", element=\"fdec2328-812a-4a3c-a352-540481193892\")>,\n",
       " <selenium.webdriver.remote.webelement.WebElement (session=\"d7ec61cfa0501667baddeb1a3c91083a\", element=\"3e426a5d-6b07-435c-86ee-46c1e17d854d\")>,\n",
       " <selenium.webdriver.remote.webelement.WebElement (session=\"d7ec61cfa0501667baddeb1a3c91083a\", element=\"461b1116-3931-40ef-9715-730d1171b0d1\")>]"
      ]
     },
     "execution_count": 79,
     "metadata": {},
     "output_type": "execute_result"
    }
   ],
   "source": [
    "e= driver.find_elements(By.CSS_SELECTOR, \"div> a> p\")\n",
    "e"
   ]
  },
  {
   "cell_type": "code",
   "execution_count": 85,
   "id": "7d859151-b03b-4e5f-9c5b-9a10c1a7d8a0",
   "metadata": {
    "collapsed": true,
    "jupyter": {
     "outputs_hidden": true
    },
    "tags": []
   },
   "outputs": [
    {
     "name": "stdout",
     "output_type": "stream",
     "text": [
      "철도승차권(한국철도) 외 1건\n",
      "철도승차권(한국철도)\n",
      "[기모추가]앨빈클로 FW신상 남녀공용 맨투맨 5종 기획전\n",
      "귀여운 햄찌 햄스터 펭귄 인형 키링\n",
      "남자잠옷반바지 수면반바지 홈웨어팬츠 파자마잠옷\n",
      "모나리자 비말 차단용 데일리 마스크 KF-AD 대형 50매 대용량\n",
      "모나리자 비말 차단용 데일리 마스크 KF-AD 대형 50매 대용량\n",
      "철도승차권(한국철도)\n",
      "철도승차권(한국철도)\n",
      "철도승차권(한국철도)\n",
      "Comfort Out Pocket Jacket J21 Black\n",
      "wide straight washed denim (3color)\n",
      "1+1 아이폰SE2 아이폰8 아이폰7 공용 에어룸 투명 젤리 케이스\n",
      "아더 데일리 오버핏 루즈핏 옥스포드 셔츠 (7color)\n",
      "철도승차권(한국철도)\n"
     ]
    }
   ],
   "source": [
    "for i in range(2, 17):\n",
    "    print(e[i].text)"
   ]
  },
  {
   "cell_type": "markdown",
   "id": "2460fa5a-123f-43e5-a9f0-247abc245926",
   "metadata": {},
   "source": [
    "## 한빛출판 로그린 후 마일리지 보기 session"
   ]
  },
  {
   "cell_type": "code",
   "execution_count": 86,
   "id": "2853cdf9-8cec-42aa-b2c6-bdbd75763f3f",
   "metadata": {},
   "outputs": [],
   "source": [
    "BeautifulSoup requests\n",
    "from bs4 import BeautifulSoup"
   ]
  },
  {
   "cell_type": "code",
   "execution_count": 87,
   "id": "ec45fcba-f036-43e5-824f-05981ef61392",
   "metadata": {},
   "outputs": [],
   "source": [
    "session =requests.session()"
   ]
  },
  {
   "cell_type": "code",
   "execution_count": 89,
   "id": "8902b6a7-4588-4bf7-bff3-d73301d12741",
   "metadata": {},
   "outputs": [
    {
     "data": {
      "text/plain": [
       "<Response [200]>"
      ]
     },
     "execution_count": 89,
     "metadata": {},
     "output_type": "execute_result"
    }
   ],
   "source": [
    "url =\"https://www.hanbit.co.kr/member/login_proc.php\" \n",
    "# 로그인할때 왜 이 url인지? \n",
    "# 로그인 페이지 중간페이지 로그인완료페이지 \n",
    "# 중간페이지 아이디 비번 받으면 처리가 이루어지는 페이지...\n",
    "# back-end 뒤에서 이루어지는 페이지 소비자가 모니터에서 봄 front-end\n",
    "# back-end가 좀 더 복잡함 \n",
    "# proc.php 중간파일의 이름이다. html대신에 넣어주면 됨 \n",
    "session.post(url, {'m_id':\"wo\", 'm_passwd':'bdt2s'})\n",
    "\n",
    "# 서버쪽에 연결됨 요청이 들어갈 때 마다.. 재가 로그인 한놈인지 안함 놈인지.."
   ]
  },
  {
   "cell_type": "code",
   "execution_count": 90,
   "id": "115839b7-ab3b-497f-b809-307457adf950",
   "metadata": {},
   "outputs": [],
   "source": [
    "resp=session.get(\"https://www.hanbit.co.kr/myhanbit/myhanbit.html\")"
   ]
  },
  {
   "cell_type": "code",
   "execution_count": 91,
   "id": "fe901ddb-24e4-44fb-a141-7ad21d7414b9",
   "metadata": {},
   "outputs": [
    {
     "data": {
      "text/plain": [
       "<bound method Response.raise_for_status of <Response [200]>>"
      ]
     },
     "execution_count": 91,
     "metadata": {},
     "output_type": "execute_result"
    }
   ],
   "source": [
    "resp.raise_for_status"
   ]
  },
  {
   "cell_type": "code",
   "execution_count": 93,
   "id": "5f9f7da8-2dac-4916-97d1-8690a80217e1",
   "metadata": {
    "tags": []
   },
   "outputs": [],
   "source": [
    "html=resp.text"
   ]
  },
  {
   "cell_type": "code",
   "execution_count": 94,
   "id": "3549e3dd-fb2e-463b-bb35-623cd623a849",
   "metadata": {
    "collapsed": true,
    "jupyter": {
     "outputs_hidden": true
    },
    "tags": []
   },
   "outputs": [
    {
     "data": {
      "text/plain": [
       "<!DOCTYPE html>\n",
       "<html lang=\"ko\">\n",
       "<head>\n",
       "<!--[if lte IE 8]>\n",
       "<script>\n",
       "  location.replace('/support/explorer_upgrade.html');\n",
       "</script>\n",
       "<![endif]-->\n",
       "<meta charset=\"utf-8\"/>\n",
       "<title>한빛출판네트워크</title>\n",
       "<link href=\"https://www.hanbit.co.kr/images/common/hanbit.ico\" rel=\"shortcut icon\"/>\n",
       "<meta content=\"IE=Edge\" http-equiv=\"X-UA-Compatible\"/>\n",
       "<meta content=\"website\" property=\"og:type\"/>\n",
       "<meta content=\"한빛출판네트워크\" property=\"og:title\"/>\n",
       "<meta content=\"더 넓은 세상, 더 나은 미래를 위한 아시아 출판 네트워크 :: 한빛미디어, 한빛아카데미, 한빛비즈, 한빛라이프, 한빛에듀\" property=\"og:description\"/>\n",
       "<meta content=\"https://www.hanbit.co.kr/images/hanbitpubnet_logo.jpg\" property=\"og:image\"/>\n",
       "<meta content=\"https://www.hanbit.co.kr/myhanbit/myhanbit.html\" property=\"og:url\"/>\n",
       "<link href=\"https://www.hanbit.co.kr/myhanbit/myhanbit.html\" rel=\"canonical\"/>\n",
       "<meta content=\"한빛미디어,한빛아카데미,한빛비즈,한빛라이프,한빛에듀,리얼타임,대관서비스,책,출판사,IT전문서,IT활용서,대학교재,경제경영,어린이/유아,실용/여행,전자책,자격증,교육,세미나,강의,ebook,정보교과서\" name=\"keywords\"/>\n",
       "<meta content=\"더 넓은 세상, 더 나은 미래를 위한 아시아 출판 네트워크 :: 한빛미디어, 한빛아카데미, 한빛비즈, 한빛라이프, 한빛에듀\" name=\"description\"/>\n",
       "<meta content=\"width=device-width,initial-scale=1.0,minimum-scale=1.0,maximum-scale=1.0\" name=\"viewport\"/>\n",
       "<meta content=\"width=1260\" name=\"viewport\"/>\n",
       "<meta content=\"yes\" name=\"apple-mobile-web-app-capable\"/>\n",
       "<meta content=\"01c29ed1852aecca7a48ac0c3e0869627bc512d8\" name=\"naver-site-verification\"/>\n",
       "<link href=\"/css/common.css?20210603093421\" rel=\"stylesheet\"/>\n",
       "<link href=\"/css/hover.css\" media=\"all\" rel=\"stylesheet\"/>\n",
       "<link href=\"/js/jquery.raty.css\" rel=\"stylesheet\"/>\n",
       "<script src=\"/js/jquery-latest.js\" type=\"text/javascript\"></script>\n",
       "<script src=\"/js/jquery-ui.js\" type=\"text/javascript\"></script>\n",
       "<script src=\"/js/jquery.event.drag-1.5.min.js\" type=\"text/javascript\"></script>\n",
       "<script src=\"/js/jquery.touchSlider.js\" type=\"text/javascript\"></script>\n",
       "<script src=\"/js/jquery.raty.js\" type=\"text/javascript\"></script>\n",
       "<script src=\"/js/main.js\" type=\"text/javascript\"></script>\n",
       "<script src=\"/lib/cheditor/cheditor.js\" type=\"text/javascript\"></script>\n",
       "<script src=\"/js/jquery.ui.datepicker-ko.js\" type=\"text/javascript\"></script>\n",
       "<script src=\"/js/engine.js\" type=\"text/javascript\"></script>\n",
       "<script src=\"/js/vue.js\" type=\"text/javascript\"></script>\n",
       "<!-- Google Analytics -->\n",
       "<script>\n",
       "(function(i,s,o,g,r,a,m){i['GoogleAnalyticsObject']=r;i[r]=i[r]||function(){\n",
       "(i[r].q=i[r].q||[]).push(arguments)},i[r].l=1*new Date();a=s.createElement(o),\n",
       "m=s.getElementsByTagName(o)[0];a.async=1;a.src=g;m.parentNode.insertBefore(a,m)\n",
       "})(window,document,'script','//www.google-analytics.com/analytics.js','ga');\n",
       "ga('create', 'UA-47080738-1', 'hanbit.co.kr');\n",
       "ga('require', 'linkid', 'linkid.js');\n",
       "ga('send', 'pageview');\n",
       "</script>\n",
       "<!-- Google Analytics -->\n",
       "<!-- Facebook Pixel Code -->\n",
       "<script>\n",
       "  !function(f,b,e,v,n,t,s)\n",
       "  {if(f.fbq)return;n=f.fbq=function(){n.callMethod?\n",
       "  n.callMethod.apply(n,arguments):n.queue.push(arguments)};\n",
       "  if(!f._fbq)f._fbq=n;n.push=n;n.loaded=!0;n.version='2.0';\n",
       "  n.queue=[];t=b.createElement(e);t.async=!0;\n",
       "  t.src=v;s=b.getElementsByTagName(e)[0];\n",
       "  s.parentNode.insertBefore(t,s)}(window, document,'script',\n",
       "  'https://connect.facebook.net/en_US/fbevents.js');\n",
       "  fbq('init', '406459623338891');\n",
       "  fbq('track', 'PageView');\n",
       "</script>\n",
       "<noscript><img height=\"1\" src=\"https://www.facebook.com/tr?id=406459623338891&amp;ev=PageView&amp;noscript=1\" style=\"display:none\" width=\"1\"/></noscript>\n",
       "<!-- End Facebook Pixel Code -->\n",
       "<!-- Google Tag Manager -->\n",
       "<script>(function(w,d,s,l,i){w[l]=w[l]||[];w[l].push({'gtm.start':\n",
       "new Date().getTime(),event:'gtm.js'});var f=d.getElementsByTagName(s)[0],\n",
       "j=d.createElement(s),dl=l!='dataLayer'?'&l='+l:'';j.async=true;j.src=\n",
       "'https://www.googletagmanager.com/gtm.js?id='+i+dl;f.parentNode.insertBefore(j,f);\n",
       "})(window,document,'script','dataLayer','GTM-W9D5PM3');</script>\n",
       "<!-- End Google Tag Manager -->\n",
       "<!-- Kakao Pixel Code -->\n",
       "<script charset=\"UTF-8\" src=\"//t1.daumcdn.net/adfit/static/kp.js\" type=\"text/javascript\"></script>\n",
       "<script type=\"text/javascript\">\n",
       "  kakaoPixel('3011392806152551233').pageView();\n",
       "</script>\n",
       "<!-- //Kakao Pixel Code -->\n",
       "</head>\n",
       "<body>\n",
       "<!-- Google Tag Manager (noscript) -->\n",
       "<noscript><iframe height=\"0\" src=\"https://www.googletagmanager.com/ns.html?id=GTM-W9D5PM3\" style=\"display:none;visibility:hidden\" width=\"0\"></iframe></noscript>\n",
       "<!-- End Google Tag Manager (noscript) -->\n",
       "<link href=\"/css/layout-hanbit.css?202206030909\" rel=\"stylesheet\"/>\n",
       "<link href=\"/css/layout-member.css\" rel=\"stylesheet\"/>\n",
       "<link href=\"/css/layout-network.css\" rel=\"stylesheet\"/>\n",
       "<link href=\"/css/layout-store.css\" rel=\"stylesheet\"/>\n",
       "<link href=\"/css/layout-myhanbit.css\" rel=\"stylesheet\"/>\n",
       "<link href=\"/css/layout-event.css\" rel=\"stylesheet\"/>\n",
       "<!-- 메뉴 바로가기 -->\n",
       "<div id=\"quick_skip_menu\">\n",
       "<a href=\"#gnb\" onclick=\"document.getElementById('gnb').tabIndex = -1;document.getElementById('gnb').focus();return false;\"><span>메뉴 바로가기</span></a>\n",
       "<a href=\"#top_search\" onclick=\"view_hover('main_search_area','','show'), document.getElementById('top_search').tabIndex = -1;document.getElementById('top_search').focus();return false;\"><span>검색 및 카테고리 바로가기</span></a>\n",
       "<a href=\"#container\" onclick=\"document.getElementById('container').tabIndex = -1;document.getElementById('container').focus();return false;\"><span>본문 바로가기</span></a>\n",
       "</div>\n",
       "<!-- //메뉴 바로가기 -->\n",
       "<!-- header -->\n",
       "<header>\n",
       "<!-- top menu -->\n",
       "<nav>\n",
       "<div id=\"wrap_nav\">\n",
       "<ul class=\"top_brand\">\n",
       "<li><a href=\"https://www.hanbit.co.kr/index.html\" name=\"hanbit_network\"><span>HOME</span></a></li>\n",
       "<li><a href=\"https://www.hanbit.co.kr/media/\">한빛미디어</a></li>\n",
       "<li><a href=\"https://www.hanbit.co.kr/academy/\">한빛아카데미</a></li>\n",
       "<li><a href=\"https://www.hanbit.co.kr/biz/\">한빛비즈</a></li>\n",
       "<li><a href=\"https://www.hanbit.co.kr/life/\">한빛라이프</a></li>\n",
       "<li><a href=\"https://www.hanbit.co.kr/edu/\">한빛에듀</a></li>\n",
       "<li><a href=\"https://www.hanbit.co.kr/realtime/\">리얼타임</a></li>\n",
       "<li><a href=\"https://www.hanbit.co.kr/textbook/\" target=\"_blank\">한빛정보교과서</a></li>\n",
       "<li><a href=\"https://www.hanbit.co.kr/rent/\" target=\"_blank\">한빛대관서비스</a></li>\n",
       "</ul>\n",
       "<ul class=\"top_menu\">\n",
       "<li><a class=\"logout\" href=\"https://www.hanbit.co.kr/member/logout.html\">로그아웃</a></li>\n",
       "<li><a class=\"edit\" href=\"https://www.hanbit.co.kr/member/member_register.html\">개인정보수정</a></li>\n",
       "<li><a class=\"myhanbit\" href=\"https://www.hanbit.co.kr/myhanbit/myhanbit.html\">마이한빛</a></li>\n",
       "<li><a class=\"cart\" href=\"https://www.hanbit.co.kr/myhanbit/cart.html\">장바구니</a></li>\n",
       "<li class=\"top_menu_store\"><a href=\"https://www.hanbit.co.kr/publisher/foreignrights.html?lang=e\" target=\"_blank\">ENGLISH</a></li>\n",
       "</ul>\n",
       "</div>\n",
       "</nav>\n",
       "<!-- //top menu -->\n",
       "<div id=\"wrap_gnb\">\n",
       "<!-- logo -->\n",
       "<h1><a href=\"https://www.hanbit.co.kr/index.html\">한빛출판네트워크</a></h1>\n",
       "<!-- //logo -->\n",
       "<!-- Menu -->\n",
       "<div id=\"gnb\" name=\"gnb\">\n",
       "<ul>\n",
       "<li><a class=\"\" href=\"https://www.hanbit.co.kr/brand/brand_submain.html\">BRAND</a></li>\n",
       "<li><a class=\"\" href=\"https://www.hanbit.co.kr/channel/channel_submain.html\">Channel.H</a></li>\n",
       "<li><a class=\"\" href=\"https://www.hanbit.co.kr/store/store_submain.html\">STORE</a></li>\n",
       "<li><a class=\"\" href=\"https://www.hanbit.co.kr/support/help_info.html\">SUPPORT</a></li>\n",
       "<li><a class=\"\" href=\"https://www.hanbit.co.kr/event/current/current_event_list.html\">EVENT</a></li>\n",
       "<li><a class=\"\" href=\"https://www.hanbit.co.kr/publisher/foreignrights.html?lang=e\" target=\"_blank\">RIGHTS</a></li>\n",
       "<li class=\"search\" id=\"top_search\"><a href=\"javascript:;\" onclick=\"view_hover('main_search_area','','show'); $('#keyword_str').focus();\"><span>SEARCH</span></a></li>\n",
       "</ul>\n",
       "</div>\n",
       "<!-- //Menu -->\n",
       "<!-- lnb -->\n",
       "<div class=\"lnb\" style=\"top:92px;\">\n",
       "<div class=\"lnb_area\">\n",
       "<!-- BRAND -->\n",
       "<!--2015-10-07 비회원 장바구니 기능 추가되면서 회원 로그인시에만 보여짐 by 이용희-->\n",
       "<ul class=\"lnb_depth1_my1\">\n",
       "<li><a class=\"\" href=\"https://www.hanbit.co.kr/myhanbit/membership.html\">한빛멤버십</a></li><span>l</span>\n",
       "<li><a class=\"\" href=\"https://www.hanbit.co.kr/myhanbit/mileage_ecoin.html\">마일리지 / 한빛이코인</a></li>\n",
       "</ul>\n",
       "<ul class=\"lnb_depth1_my2\">\n",
       "<li><a class=\"\" href=\"https://www.hanbit.co.kr/myhanbit/wishlist.html\">위시리스트</a></li><span>l</span>\n",
       "<li><a class=\"\" href=\"https://www.hanbit.co.kr/myhanbit/cart.html\">장바구니</a></li><span>l</span>\n",
       "<li><a class=\"\" href=\"https://www.hanbit.co.kr/myhanbit/order_history_list.html\">주문목록</a></li><span>l</span>\n",
       "<li><a class=\"\" href=\"https://www.hanbit.co.kr/myhanbit/coupon.html\">My 쿠폰</a></li>\n",
       "</ul>\n",
       "<ul class=\"lnb_depth1_my3\">\n",
       "<li><a class=\"\" href=\"https://www.hanbit.co.kr/myhanbit/purchase_books.html\">My Book</a></li>\n",
       "<span>l</span>\n",
       "<li><a class=\"\" href=\"https://www.hanbit.co.kr/myhanbit/my_ebook_list.html\">My eBook</a></li>\n",
       "<span>l</span>\n",
       "<li><a class=\"\" href=\"https://www.hanbit.co.kr/myhanbit/my_class_list.html\">My 강의</a></li>\n",
       "</ul>\n",
       "</div>\n",
       "</div>\n",
       "<!--// lnb -->\n",
       "</div>\n",
       "</header>\n",
       "<!-- //header -->\n",
       "<!-- 메인 검색 및 카테고리 영역 -->\n",
       "<div class=\"fixed\" id=\"main_search_area\" style=\"display:none;\">\n",
       "<div class=\"msa_wrap\">\n",
       "<!-- 검색 -->\n",
       "<div class=\"msa_srch_wrap\">\n",
       "<form onsubmit=\"return false;\">\n",
       "<fieldset class=\"msa_srch_field\">\n",
       "<legend>한빛출판네트워크 검색</legend>\n",
       "<input accesskey=\"s\" autocomplete=\"off\" class=\"srch_keyword\" id=\"keyword_str\" name=\"keyword_str\" title=\"검색어\" type=\"text\" v-model=\"keyword\"/>\n",
       "<input class=\"srch_btn\" style=\"cursor:pointer;\" type=\"submit\"/>\n",
       "</fieldset>\n",
       "</form>\n",
       "</div>\n",
       "<!-- //검색 -->\n",
       "<!-- ① 인기검색어 -->\n",
       "<div class=\"msa_srch_polular\" v-if=\"showPopularKeyword === true\">\n",
       "<h2 class=\"tit\">인기 검색어 <span>(최근 1개월간)</span></h2>\n",
       "<div class=\"popula_box\">\n",
       "<ul class=\"left\">\n",
       "<li v-for=\"keyword in leftPopularKeywordList\">\n",
       "<a :class=\"keyword.bold\">\n",
       "                  {{ keyword.number }} {{ keyword.bookName }}\n",
       "              </a>\n",
       "</li>\n",
       "</ul>\n",
       "<ul class=\"right\">\n",
       "<li v-for=\"keyword in rightPopularKeywordList\">\n",
       "<a :class=\"keyword.bold\">\n",
       "                  {{ keyword.number }} {{ keyword.bookName }}\n",
       "              </a>\n",
       "</li>\n",
       "</ul>\n",
       "</div>\n",
       "</div>\n",
       "<!-- ① 인기검색어 -->\n",
       "<!-- ② 검색결과/검색서제스쳔 -->\n",
       "<div class=\"msa_srch_suggestion\" v-if=\"showPopularKeyword === false\">\n",
       "<div class=\"sugg_left\" v-if=\"bookList.length !== 0\">\n",
       "<h3 class=\"tit\">BOOK</h3>\n",
       "<ul class=\"books_list\">\n",
       "<li v-for=\"book in bookList\"><a><p v-html=\"book.name\"></p></a></li>\n",
       "</ul>\n",
       "</div>\n",
       "<div class=\"sugg_right\">\n",
       "<div class=\"sugg_book\" v-if=\"bookList.length !== 0\">\n",
       "<table class=\"sugg_book_detail\">\n",
       "<tr>\n",
       "<td class=\"cover\">\n",
       "<a>\n",
       "<img :src=\"bookSummary.imgUrl\" class=\"b_cover\"/>\n",
       "</a>\n",
       "</td>\n",
       "<td class=\"draft\">\n",
       "<a class=\"b_title\"><strong v-html=\"bookSummary.originName\"></strong></a>\n",
       "<p class=\"b_int\">\n",
       "                {{ bookSummary.author }} 지음<br/>\n",
       "                {{ bookSummary.publishingCompany }} | {{ bookSummary.date }}\n",
       "                </p>\n",
       "<p class=\"b_type\">\n",
       "<span>{{ bookSummary.bookType }}</span>\n",
       "</p>\n",
       "</td>\n",
       "</tr>\n",
       "</table>\n",
       "</div>\n",
       "<!--\n",
       "        <div class=\"sugg_edu\" v-if=\"educationList.length !== 0\">\n",
       "          <h3 class=\"tit\">EDUCATION</h3>\n",
       "          <ul class=\"edu_list\">\n",
       "            <li v-for=\"education in educationList\">&#149; <a @click=\"clickEducationKeyword(education)\"><span v-html=\"education.title\"></span></a></li>\n",
       "          </ul>\n",
       "        </div>\n",
       "        -->\n",
       "<div class=\"sugg_cont\" v-if=\"contentList.length !== 0\">\n",
       "<h3 class=\"tit\">CONTENTS</h3>\n",
       "<ul class=\"cont_list\">\n",
       "<li v-for=\"content in contentList\"> <a><span v-html=\"content.title\"></span></a></li>\n",
       "</ul>\n",
       "</div>\n",
       "</div>\n",
       "</div>\n",
       "<!-- //② 검색결과/검색서제스쳔 -->\n",
       "<!-- 닫기 -->\n",
       "<div class=\"msa_wrap_close\">\n",
       "<a href=\"javascript:;\" onclick=\"view_hover('main_search_area','','hide')\">닫기</a>\n",
       "</div>\n",
       "<!-- //닫기 -->\n",
       "</div>\n",
       "</div>\n",
       "<script type=\"text/javascript\">\n",
       "    \"use strict\";\n",
       "\n",
       "    var common_top_search_vue = new Vue({\n",
       "        el: '#main_search_area',\n",
       "        data: {\n",
       "            //검색엔진 URL\n",
       "            searchProxyURL: \"https://search.hanbit.co.kr\",\n",
       "            //인기 검색어 show 여부\n",
       "            showPopularKeyword: true,\n",
       "            //사용자 검색 키워드\n",
       "            keyword: '',\n",
       "            //인기 검색어 리스트\n",
       "            popularKeywordList: [],\n",
       "            // 인기 검색어 리스트 (왼쪽)\n",
       "            leftPopularKeywordList: [],\n",
       "            // 인기 검색어 리스트 (오른쪽)\n",
       "            rightPopularKeywordList: [],\n",
       "            // 자동완성에서의 책 리스트\n",
       "            bookList: [],\n",
       "            // 자동완성에서의 책 정보\n",
       "            bookSummary: {\n",
       "                'imgUrl': '',\n",
       "                'link': '',\n",
       "                'name': '',\n",
       "                'author': '',\n",
       "                'publishingCompany': '',\n",
       "                'date': '',\n",
       "                'bookType': ''\n",
       "            },\n",
       "            //에듀케이션 리스트\n",
       "            educationList: [],\n",
       "            //컨텐츠 리스트\n",
       "            contentList: []\n",
       "        },\n",
       "        created: function created() {\n",
       "            // 인기 검색어 조회\n",
       "            this.getPopularKeyword();\n",
       "        },\n",
       "        methods: {\n",
       "            /**\n",
       "             * 사용자가 검색 키워드를 입력할때 발생하는 이벤트\n",
       "             */\n",
       "            typeKeyword: function typeKeyword() {\n",
       "                var self = this;\n",
       "                var keyword = $(\"#keyword_str\").val();\n",
       "\n",
       "                if (keyword.length !== 0) {\n",
       "                    //자동완성어\n",
       "                    this.findAutocompleteResult(keyword);\n",
       "                } else {\n",
       "                    //인기검색어\n",
       "                    self.showPopularKeyword = true;\n",
       "                }\n",
       "            },\n",
       "\n",
       "            /**\n",
       "             * 인기검색어 조회\n",
       "             */\n",
       "            getPopularKeyword: function getPopularKeyword() {\n",
       "                var self = this;\n",
       "                this.popularKeywordList = [];\n",
       "                $.get(this.searchProxyURL + \"/querylog/popularKeyword\").done(function (data) {\n",
       "                    if (data != null) {\n",
       "                        self.drawPopularKeyword(data);\n",
       "                    }\n",
       "                });\n",
       "            },\n",
       "\n",
       "            /**\n",
       "             * 인기 검색어 그리기\n",
       "             */\n",
       "            drawPopularKeyword: function drawPopularKeyword(popularBooks) {\n",
       "                var self = this;\n",
       "                popularBooks.forEach(function (item) {\n",
       "                    var popularBook = {\n",
       "                        bookName: item.keyword\n",
       "                    };\n",
       "                    self.popularKeywordList.push(popularBook);\n",
       "                });\n",
       "                var number = 0;\n",
       "\n",
       "                for (var _iterator = this.popularKeywordList, _isArray = Array.isArray(_iterator), _i = 0, _iterator = _isArray ? _iterator : _iterator[Symbol.iterator]();;) {\n",
       "                    var _ref;\n",
       "\n",
       "                    if (_isArray) {\n",
       "                        if (_i >= _iterator.length) break;\n",
       "                        _ref = _iterator[_i++];\n",
       "                    } else {\n",
       "                        _i = _iterator.next();\n",
       "                        if (_i.done) break;\n",
       "                        _ref = _i.value;\n",
       "                    }\n",
       "\n",
       "                    var keyword = _ref;\n",
       "                    number = number + 1;\n",
       "                    keyword.number = number.toString().length < 2 ? \"0\" + number : number;\n",
       "\n",
       "                    if (number > 5) {\n",
       "                        keyword.direction = \"right\";\n",
       "                        self.rightPopularKeywordList.push(keyword);\n",
       "                    } else {\n",
       "                        keyword.direction = \"left\";\n",
       "\n",
       "                        if (number < 4) {\n",
       "                            keyword.bold = 'active';\n",
       "                        }\n",
       "\n",
       "                        self.leftPopularKeywordList.push(keyword);\n",
       "                    }\n",
       "                }\n",
       "            },\n",
       "\n",
       "            /**\n",
       "             * 자동완성 검색 결과\n",
       "             */\n",
       "            findAutocompleteResult: function findAutocompleteResult(keyword) {\n",
       "                var self = this;\n",
       "                var param = {\n",
       "                    q: keyword,\n",
       "                    types: \"education,book,contents\",\n",
       "                    fq: keyword\n",
       "                };\n",
       "                $.post(this.searchProxyURL + \"/autocomplete/search\", param).done(function (data) {\n",
       "                    if (data != null) {\n",
       "                        var bookResult = data.booksResults;\n",
       "                        self.changeBookList(keyword, bookResult);\n",
       "                        var contentResult = data.contentsResults;\n",
       "                        self.changeContentList(keyword, contentResult);\n",
       "                        var educationResult = data.educationResults;\n",
       "                        self.changeEducationList(keyword, educationResult);\n",
       "                    }\n",
       "                });\n",
       "                this.showPopularKeyword = false;\n",
       "            },\n",
       "\n",
       "            /**\n",
       "             * 자동완성어에서 BOOK 부분에서 마우스를 올렸을 시에 발생하는 이벤트\n",
       "             * @param bookId\n",
       "             */\n",
       "            mouseOverBook: function mouseOverBook(bookId) {\n",
       "                var currentBook = this.bookList.filter(function (book) {\n",
       "                    return book.id === bookId;\n",
       "                });\n",
       "                this.changeBookSummary(currentBook[0]);\n",
       "            },\n",
       "\n",
       "            /**\n",
       "             * 책 소개 변경\n",
       "             * @param book\n",
       "             */\n",
       "            changeBookSummary: function changeBookSummary(book) {\n",
       "                if (book !== {}) {\n",
       "                    this.bookSummary.name = book.name;\n",
       "                    this.bookSummary.originName = book.originName;\n",
       "                    this.bookSummary.author = book.author;\n",
       "                    this.bookSummary.bookType = book.bookType;\n",
       "                    this.bookSummary.imgUrl = book.imgUrl;\n",
       "                    this.bookSummary.link = book.link;\n",
       "                    this.bookSummary.publishingCompany = book.publishingCompany;\n",
       "                    this.bookSummary.date = book.date;\n",
       "                    this.bookSummary.bookType = book.bookType;\n",
       "                }\n",
       "            },\n",
       "\n",
       "            /**\n",
       "             * BOOK 리스트 변경\n",
       "             */\n",
       "            changeBookList: function changeBookList(keyword, bookResultList) {\n",
       "                var self = this;\n",
       "                self.bookList = [];\n",
       "                var index = 0;\n",
       "\n",
       "                if (bookResultList != null) {\n",
       "                    for (var _iterator2 = bookResultList, _isArray2 = Array.isArray(_iterator2), _i2 = 0, _iterator2 = _isArray2 ? _iterator2 : _iterator2[Symbol.iterator]();;) {\n",
       "                        var _ref2;\n",
       "\n",
       "                        if (_isArray2) {\n",
       "                            if (_i2 >= _iterator2.length) break;\n",
       "                            _ref2 = _iterator2[_i2++];\n",
       "                        } else {\n",
       "                            _i2 = _iterator2.next();\n",
       "                            if (_i2.done) break;\n",
       "                            _ref2 = _i2.value;\n",
       "                        }\n",
       "\n",
       "                        var result = _ref2;\n",
       "\n",
       "                        if (index < 10) {\n",
       "                            var book = {};\n",
       "                            book.id = result.code;\n",
       "                            book.originName = result.title;\n",
       "                            book.name = JSON.parse(JSON.stringify(self.replaceHighlightWord(result.title, keyword)));\n",
       "                            book.link = result.code;\n",
       "                            book.imgUrl = self.getBookImageURL(result.code);\n",
       "                            book.author = result.author;\n",
       "                            book.publishingCompany = result.brand;\n",
       "                            book.date = result.pubDate;\n",
       "                            book.bookType = result.bookType;\n",
       "                            self.bookList.push(book); //책 미리보기 변경\n",
       "\n",
       "                            self.changeBookSummary(self.bookList[0]);\n",
       "                        }\n",
       "                    }\n",
       "                } else {\n",
       "                    self.initBookSummary();\n",
       "                }\n",
       "            },\n",
       "\n",
       "            /**\n",
       "             * 책 이미지 주소 가져오기\n",
       "             */\n",
       "            getBookImageURL: function getBookImageURL(bookCode) {\n",
       "                var imgURL;\n",
       "\n",
       "                if (bookCode.substr(0, 1) === \"E\") {\n",
       "                    imgURL = '/data/ebook/' + bookCode + '_m.jpg';\n",
       "                } else {\n",
       "                    imgURL = '/data/books/' + bookCode + \"_m.jpg\";\n",
       "                }\n",
       "\n",
       "                return imgURL;\n",
       "            },\n",
       "\n",
       "            /**\n",
       "             * 검색 결과가 없을 경우 책 미리보기 초기화\n",
       "             */\n",
       "            initBookSummary: function initBookSummary() {\n",
       "                this.bookSummary = {\n",
       "                    'imgUrl': '',\n",
       "                    'link': '',\n",
       "                    'name': '',\n",
       "                    'author': '',\n",
       "                    'publishingCompany': '',\n",
       "                    'date': '',\n",
       "                    'bookType': ''\n",
       "                };\n",
       "            },\n",
       "\n",
       "            /**\n",
       "             * education 리스트 변경\n",
       "             */\n",
       "            changeEducationList: function changeEducationList(keyword, educationResultList) {\n",
       "                var self = this;\n",
       "                self.educationList = [];\n",
       "                var index = 0;\n",
       "\n",
       "                if (educationResultList != null) {\n",
       "                    for (var _iterator3 = educationResultList, _isArray3 = Array.isArray(_iterator3), _i3 = 0, _iterator3 = _isArray3 ? _iterator3 : _iterator3[Symbol.iterator]();;) {\n",
       "                        var _ref3;\n",
       "\n",
       "                        if (_isArray3) {\n",
       "                            if (_i3 >= _iterator3.length) break;\n",
       "                            _ref3 = _iterator3[_i3++];\n",
       "                        } else {\n",
       "                            _i3 = _iterator3.next();\n",
       "                            if (_i3.done) break;\n",
       "                            _ref3 = _i3.value;\n",
       "                        }\n",
       "\n",
       "                        var result = _ref3;\n",
       "\n",
       "                        if (index < 3) {\n",
       "                            var content = {};\n",
       "                            content.title = JSON.parse(JSON.stringify(self.replaceHighlightWord(result.title, keyword)));\n",
       "                            content.link = result.code;\n",
       "                            self.educationList.push(content);\n",
       "                            index = index + 1;\n",
       "                        }\n",
       "                    }\n",
       "                }\n",
       "            },\n",
       "\n",
       "            /**\n",
       "             * contents 리스트 변경\n",
       "             */\n",
       "            changeContentList: function changeContentList(keyword, contentResult) {\n",
       "                var self = this;\n",
       "                self.contentList = [];\n",
       "                var index = 0;\n",
       "\n",
       "                if (contentResult != null) {\n",
       "                    for (var _iterator4 = contentResult, _isArray4 = Array.isArray(_iterator4), _i4 = 0, _iterator4 = _isArray4 ? _iterator4 : _iterator4[Symbol.iterator]();;) {\n",
       "                        var _ref4;\n",
       "\n",
       "                        if (_isArray4) {\n",
       "                            if (_i4 >= _iterator4.length) break;\n",
       "                            _ref4 = _iterator4[_i4++];\n",
       "                        } else {\n",
       "                            _i4 = _iterator4.next();\n",
       "                            if (_i4.done) break;\n",
       "                            _ref4 = _i4.value;\n",
       "                        }\n",
       "\n",
       "                        var result = _ref4;\n",
       "\n",
       "                        if (index < 7) {\n",
       "                            var content = {};\n",
       "                            content.title = JSON.parse(JSON.stringify(self.replaceHighlightWord(result.title, keyword)));\n",
       "                            content.link = result.code;\n",
       "                            self.contentList.push(content);\n",
       "                            index = index + 1;\n",
       "                        }\n",
       "                    }\n",
       "                }\n",
       "            },\n",
       "\n",
       "            /**\n",
       "             * 하이라이트 표시\n",
       "             */\n",
       "            replaceHighlightWord: function replaceHighlightWord(str, highlightKeyword) {\n",
       "                var replaceHighlightKeyword = highlightKeyword.replace(/[^a-z0-9가-힣_ ]/gi, '');\n",
       "                var regEx = new RegExp(replaceHighlightKeyword, \"gi\");\n",
       "                str = str.replace(regEx, function (a) {\n",
       "                    return '<span class=\"keysel\">' + a + '</span>';\n",
       "                });\n",
       "                return str;\n",
       "            },\n",
       "\n",
       "            /**\n",
       "             * 검색 버튼 클릭 시\n",
       "             * @param e\n",
       "             */\n",
       "            clickSearch: function clickSearch(e) {\n",
       "                if (!this.keyword || this.keyword.length === 0) {\n",
       "                    alert(\"검색어를 입력하세요\");\n",
       "                    $(\"#keyword_str\").focus();\n",
       "                    e.preventDefault();\n",
       "                } else {\n",
       "                    location.href = \"/search/search_list.html?keyword=\" + this.keyword;\n",
       "                }\n",
       "            },\n",
       "\n",
       "            /**\n",
       "             * 인기 검색어 클릭시\n",
       "             * @param book\n",
       "             */\n",
       "            clickPopularKeyword: function clickPopularKeyword(book) {\n",
       "                var searchKeyword = book.bookName;\n",
       "                location.href = \"/search/search_list.html?keyword=\" + searchKeyword;\n",
       "            },\n",
       "\n",
       "            /**\n",
       "             * 책 검색어 클릭시 책 상세로 이동\n",
       "             * @param book\n",
       "             */\n",
       "            clickBookKeyword: function clickBookKeyword(book) {\n",
       "                location.href = \"/store/books/look.php?p_code=\" + book.link;\n",
       "            },\n",
       "\n",
       "            /**\n",
       "             * 교육 클릭시 교육 상세로 이동\n",
       "             * @param education\n",
       "             */\n",
       "            clickEducationKeyword: function clickEducationKeyword(education) {\n",
       "                location.href = \"/store/education/edu_view.html?p_code=\" + education.link;\n",
       "            },\n",
       "\n",
       "            /**\n",
       "             * 컨텐츠 클릭시 컨텐츠 상세로 이동\n",
       "             * @param contents\n",
       "             */\n",
       "            clickContentKeyword: function clickContentKeyword(content) {\n",
       "                location.href = \"/channel/category/category_view.html?cms_code=\" + content.link;\n",
       "            }\n",
       "        }\n",
       "    });\n",
       "</script>\n",
       "<!-- //메인 검색 및 카테고리 영역 -->\n",
       "<!-- Contents -->\n",
       "<div id=\"container\">\n",
       "<div class=\"myhanbit_wrap\">\n",
       "<!-- 회원등급 -->\n",
       "<div class=\"sm_myinfo\">\n",
       "<div class=\"my_rating\">\n",
       "<div class=\"icon\">\n",
       "<img alt=\"\" src=\"https://www.hanbit.co.kr/images/myhanbit/rating_icon1.png\"/>\n",
       "</div>\n",
       "<p>(정재훈)님의<br/>회원 등급은 <span>일반</span> 입니다.</p>\n",
       "</div>\n",
       "</div>\n",
       "<!-- //회원등급 -->\n",
       "<!-- 마일리지/이코인 -->\n",
       "<div class=\"sm_mymileage\">\n",
       "<dl class=\"mileage_section1\">\n",
       "<dt>마일리지</dt>\n",
       "<dd><span>2,000</span> 점</dd>\n",
       "</dl>\n",
       "<dl class=\"mileage_section2\">\n",
       "<dt>한빛이코인</dt>\n",
       "<dd><span>0</span> 원</dd>\n",
       "</dl>\n",
       "</div>\n",
       "<!-- //마일리지/이코인 -->\n",
       "<!-- 최근 구매이력 -->\n",
       "<div class=\"sm_myorder\">\n",
       "<p class=\"tit\">최근 구매이력</p>\n",
       "<table border=\"0\" cellspacing=\"0\" class=\"tbl_type_list\" summary=\"최근 3개월 활동 내역 테이블\">\n",
       "<caption>최근 3개월 활동 내역</caption>\n",
       "<colgroup>\n",
       "<col width=\"110px\"/>\n",
       "<col width=\"\"/>\n",
       "<col width=\"120px\"/>\n",
       "</colgroup>\n",
       "<thead>\n",
       "<tr>\n",
       "<th scope=\"col\">주문일자</th>\n",
       "<th scope=\"col\">상품명</th>\n",
       "<th class=\"last\" scope=\"col\">주문금액</th>\n",
       "</tr>\n",
       "</thead>\n",
       "<tbody>\n",
       "</tbody>\n",
       "</table>\n",
       "</div>\n",
       "<!-- //최근 구매이력 -->\n",
       "<!-- My Book -->\n",
       "<div class=\"submain_mypagae_foot smf_l\">\n",
       "<p class=\"sm_tit\">My Book</p>\n",
       "<div class=\"smf_nodata\">리스트가 없습니다.</div>\n",
       "</div>\n",
       "<!-- //My Book -->\n",
       "<!-- My eBook -->\n",
       "<div class=\"submain_mypagae_foot smf_c\">\n",
       "<p class=\"sm_tit\">My eBook</p>\n",
       "<div class=\"smf_nodata\">리스트가 없습니다.</div>\n",
       "</div>\n",
       "<!-- //My eBook -->\n",
       "<!-- My 강의 -->\n",
       "<div class=\"submain_mypagae_foot smf_r\">\n",
       "<p class=\"sm_tit\">My 강의</p>\n",
       "<div class=\"smf_nodata\">리스트가 없습니다.</div>\n",
       "</div>\n",
       "<!-- //My 강의 -->\n",
       "</div>\n",
       "</div>\n",
       "<!-- //Contents -->\n",
       "<!-- Footer -->\n",
       "<footer>\n",
       "<!-- 공지사항 -->\n",
       "<div class=\"foot_notice\" style=\"height:6px;\"></div> <!-- //공지사항 -->\n",
       "<div class=\"foot_contents\">\n",
       "<!-- 하단 메뉴 -->\n",
       "<div class=\"foot_menu\">\n",
       "<!-- added by coffin -->\n",
       "<ul>\n",
       "<li><a href=\"https://www.hanbit.co.kr/publisher/index.html\" target=\"_blank\">회사소개</a>(<a href=\"https://www.hanbit.co.kr/publisher/index.html\" target=\"_blank\">KOR</a> | <a href=\"https://www.hanbit.co.kr/publisher/index.html?lang=e\" target=\"_blank\">ENG</a>)  <a href=\"https://www.hanbit.co.kr/publisher/contact.html?lang=k\" target=\"_blank\">약도</a></li>\n",
       "<li><a href=\"https://www.hanbit.co.kr/publisher/write.html\" target=\"_blank\">기획 및 원고 모집</a></li>\n",
       "<li><a href=\"https://www.hanbit.co.kr/publisher/career.html\" target=\"_blank\">채용</a>  입사지원 <a href=\"mailto:jobs@hanbit.co.kr\">jobs@hanbit.co.kr</a></li>\n",
       "<li><a href=\"https://www.hanbit.co.kr/publisher/foreignrights.html\" target=\"_blank\">FOREIGN RIGHTS</a></li>\n",
       "<li><a href=\"https://www.hanbit.co.kr/member/use_agreement.html\">이용약관</a>  <a href=\"https://www.hanbit.co.kr/member/privacy_policy.html\"><strong>개인정보처리방침</strong></a></li>\n",
       "<li><a href=\"https://www.hanbit.co.kr/sitemap/sitemap.html\">사이트맵</a></li>\n",
       "</ul>\n",
       "</div>\n",
       "<!-- //하단 메뉴 -->\n",
       "<!-- SNS -->\n",
       "<div class=\"foot_sns\">\n",
       "<!-- 데브레터 구독하기 -->\n",
       "<div class=\"devletter_contet\">\n",
       "<div class=\"devletter_sub\">\n",
       "<span class=\"dev_header_img\">데브레터 구독하기</span><a class=\"dev_sit_a\" href=\"/devletter/\" target=\"_blank\"><span class=\"dev_site_img\">데브레터 보러가기</span></a>\n",
       "</div>\n",
       "<form action=\"/devletter/dev_process.php\" class=\"subscribe_form\" method=\"post\">\n",
       "<fieldset class=\"subscribe_fiel\">\n",
       "<legend>구독서비스</legend>\n",
       "<input name=\"user_email\" placeholder=\"Your Email Address\" type=\"text\"/>\n",
       "<button class=\"sub_btn\" type=\"submit\"><span>구독</span></button>\n",
       "</fieldset>\n",
       "</form>\n",
       "<div class=\"main_foot_sns\">\n",
       "<ul>\n",
       "<li class=\"main_foot_facebook\"><a href=\"https://www.facebook.com/hanbitmedia\" target=\"_blank\"><span>페이스북</span></a></li>\n",
       "<li class=\"main_foot_youtube\"><a href=\"https://www.youtube.com/한빛TV\" target=\"_blank\"><span>유튜브</span></a></li>\n",
       "<li class=\"main_foot_bolg\"><a href=\"http://blog.hanbit.co.kr/\" target=\"_blank\"><span>블로그</span></a></li>\n",
       "<li class=\"main_foot_naverpost\"><a href=\"https://m.post.naver.com/hanbitstory\" target=\"_blank\"><span>네이버포스트</span></a></li>\n",
       "</ul>\n",
       "</div>\n",
       "</div>\n",
       "<!-- 데브레터 구독하기 //-->\n",
       "</div>\n",
       "<!-- //SNS -->\n",
       "<!-- 한빛 정보 -->\n",
       "<div class=\"foot_about\">\n",
       "<div class=\"foot_about_area\">\n",
       "<p><strong>한빛미디어㈜  한빛아카데미㈜  한빛비즈㈜</strong></p>\n",
       "<p>(03785) 서울 서대문구 연희로2길 62</p>\n",
       "<p>EMAIL : support@hanbit.co.kr</p>\n",
       "<p>대표이사 : 김태헌</p>\n",
       "<p>사업자등록번호 : 220-81-05665 <a href=\"http://www.ftc.go.kr/bizCommPop.do?wrkr_no=2208105665\" target=\"_blank\">[확인]</a></p>\n",
       "<p>통신판매업신고 : 2017-서울서대문-0671호</p>\n",
       "<p>호스팅제공자 : (주)누리호스팅</p>\n",
       "</div>\n",
       "</div>\n",
       "<!-- //한빛 정보 -->\n",
       "</div>\n",
       "<div class=\"copyright\">©1993-2022 Hanbit Publishing Network, Inc. All rights reserved.</div>\n",
       "</footer>\n",
       "<!-- //푸터 -->\n",
       "<div class=\"foot_download_btn\"><a href=\"https://www.hanbit.co.kr/support/supplement_list.html\">자료실</a></div>\n",
       "<!-- 공통 JS 호출 -->\n",
       "<script src=\"/js/common.js\" type=\"text/javascript\"></script>\n",
       "<!-- //공통 JS 호출 -->\n",
       "</body>\n",
       "</html>"
      ]
     },
     "execution_count": 94,
     "metadata": {},
     "output_type": "execute_result"
    }
   ],
   "source": [
    "soup=BeautifulSoup(html ,'lxml')\n",
    "soup"
   ]
  },
  {
   "cell_type": "code",
   "execution_count": null,
   "id": "cbdfdfe8-ed77-4eed-84b8-7573051d7297",
   "metadata": {},
   "outputs": [],
   "source": [
    "#container > div > div.sm_mymileage > dl.mileage_section1 > dd > span"
   ]
  },
  {
   "cell_type": "code",
   "execution_count": 104,
   "id": "3054b3fd-b588-469d-b9fb-a0884ecf2f08",
   "metadata": {},
   "outputs": [
    {
     "data": {
      "text/plain": [
       "[<span>2,000</span>]"
      ]
     },
     "execution_count": 104,
     "metadata": {},
     "output_type": "execute_result"
    }
   ],
   "source": [
    "soup.select('#container > div > div.sm_mymileage > dl.mileage_section1 > dd> span')"
   ]
  },
  {
   "cell_type": "code",
   "execution_count": 108,
   "id": "29df027d-8d92-483a-93ef-c234156c5e0e",
   "metadata": {},
   "outputs": [
    {
     "data": {
      "text/plain": [
       "'2,000'"
      ]
     },
     "execution_count": 108,
     "metadata": {},
     "output_type": "execute_result"
    }
   ],
   "source": [
    "soup.select_one('#container > div > div.sm_mymileage > dl.mileage_section1 > dd> span').text"
   ]
  },
  {
   "cell_type": "code",
   "execution_count": 110,
   "id": "d4941330-5a2a-4f4e-8287-97d66daf025a",
   "metadata": {},
   "outputs": [
    {
     "data": {
      "text/plain": [
       "'2,000'"
      ]
     },
     "execution_count": 110,
     "metadata": {},
     "output_type": "execute_result"
    }
   ],
   "source": [
    "soup.select_one(' dl.mileage_section1 > dd> span').string"
   ]
  },
  {
   "cell_type": "code",
   "execution_count": 118,
   "id": "d7146e1f-cb0d-41e1-bb69-65c1734518fb",
   "metadata": {},
   "outputs": [],
   "source": [
    "mileage=soup.select_one(' dl.mileage_section1 > dd> span').get_text()"
   ]
  },
  {
   "cell_type": "code",
   "execution_count": 113,
   "id": "9949ac28-fa0f-46df-a28f-f8d58a84b74e",
   "metadata": {},
   "outputs": [
    {
     "data": {
      "text/plain": [
       "'2,000'"
      ]
     },
     "execution_count": 113,
     "metadata": {},
     "output_type": "execute_result"
    }
   ],
   "source": [
    "soup.select('#container > div > div.sm_mymileage > dl.mileage_section1 > dd> span')[0].get_text()"
   ]
  },
  {
   "cell_type": "code",
   "execution_count": 115,
   "id": "03770e9a-f0ad-4633-a9ac-83adebee90b1",
   "metadata": {},
   "outputs": [
    {
     "data": {
      "text/plain": [
       "[<dt>한빛이코인</dt>]"
      ]
     },
     "execution_count": 115,
     "metadata": {},
     "output_type": "execute_result"
    }
   ],
   "source": [
    "soup.select(\"dl.mileage_section2 > dt\")"
   ]
  },
  {
   "cell_type": "code",
   "execution_count": 127,
   "id": "67adc104-e89d-4f67-a1be-9d54b2ee8e39",
   "metadata": {},
   "outputs": [],
   "source": [
    "ecoin=soup.select_one(\"dl.mileage_section2 > dt\").text"
   ]
  },
  {
   "cell_type": "code",
   "execution_count": 128,
   "id": "db8f24d0-3d45-48b7-afb1-c70bf4ac3404",
   "metadata": {},
   "outputs": [],
   "source": [
    "ecoind=soup.select_one(\"dl.mileage_section2 > dd\").text"
   ]
  },
  {
   "cell_type": "code",
   "execution_count": 130,
   "id": "6090053b-ab65-4996-a04d-e8703273f087",
   "metadata": {},
   "outputs": [
    {
     "name": "stdout",
     "output_type": "stream",
     "text": [
      "마일리지2,000\n",
      "한빛이코인 0 원\n"
     ]
    }
   ],
   "source": [
    "print(\"마일리지\" + mileage)\n",
    "print(ecoin +\" \"+ ecoind)"
   ]
  },
  {
   "cell_type": "markdown",
   "id": "20c8819b-657e-43b6-8fb7-cfa129ad72a3",
   "metadata": {},
   "source": [
    "## 날씨정보 : json 형식 가져오기 "
   ]
  },
  {
   "cell_type": "code",
   "execution_count": 131,
   "id": "8b6493fa-a61f-4d3a-91aa-c033799bf843",
   "metadata": {},
   "outputs": [],
   "source": [
    "import requests\n",
    "import json"
   ]
  },
  {
   "cell_type": "code",
   "execution_count": 132,
   "id": "ddb22eb6-e0e1-473a-9c13-0adf19a37fd7",
   "metadata": {},
   "outputs": [],
   "source": [
    "apikey =\"28ed8b8682f52838a0a86e00b8578fcd\"\n",
    "api = \"http://api.openweathermap.org/data/2.5/weather?q={city}&APPID={key}\"\n",
    "cities =['Seoul, KR', \"New York, US\"]"
   ]
  },
  {
   "cell_type": "code",
   "execution_count": 135,
   "id": "68ee7e04-1895-41f0-8273-7bc1ed82e673",
   "metadata": {},
   "outputs": [],
   "source": [
    "k2c = lambda k : round(k - 273.15, 1) # 우리나라 온도는 섭씨로 바꾸기"
   ]
  },
  {
   "cell_type": "code",
   "execution_count": 136,
   "id": "e1eb5a7d-b31a-4270-913d-2f97658fd2c3",
   "metadata": {
    "collapsed": true,
    "jupyter": {
     "outputs_hidden": true
    },
    "tags": []
   },
   "outputs": [
    {
     "name": "stdout",
     "output_type": "stream",
     "text": [
      "{'coord': {'lon': 126.9778, 'lat': 37.5683}, 'weather': [{'id': 801, 'main': 'Clouds', 'description': 'few clouds', 'icon': '02d'}], 'base': 'stations', 'main': {'temp': 293.04, 'feels_like': 292.13, 'temp_min': 289.84, 'temp_max': 293.81, 'pressure': 1025, 'humidity': 40}, 'visibility': 10000, 'wind': {'speed': 1.54, 'deg': 250}, 'clouds': {'all': 20}, 'dt': 1666939065, 'sys': {'type': 1, 'id': 8105, 'country': 'KR', 'sunrise': 1666907537, 'sunset': 1666946359}, 'timezone': 32400, 'id': 1835848, 'name': 'Seoul', 'cod': 200}\n",
      "\n",
      "+ 도시 = Seoul\n",
      "| 날씨 = few clouds\n",
      "| 최저 기온 = 16.7\n",
      "| 최고 기온 = 20.7\n",
      "| 습도 = 40\n",
      "| 기압 = 1025\n",
      "| 풍향 = 250\n",
      "| 풍속 = 1.54\n",
      "\n",
      "{'coord': {'lon': -74.006, 'lat': 40.7143}, 'weather': [{'id': 800, 'main': 'Clear', 'description': 'clear sky', 'icon': '01n'}], 'base': 'stations', 'main': {'temp': 282.77, 'feels_like': 279.4, 'temp_min': 279.05, 'temp_max': 284.81, 'pressure': 1029, 'humidity': 59}, 'visibility': 10000, 'wind': {'speed': 7.72, 'deg': 360}, 'clouds': {'all': 0}, 'dt': 1666939039, 'sys': {'type': 2, 'id': 2039034, 'country': 'US', 'sunrise': 1666956094, 'sunset': 1666994270}, 'timezone': -14400, 'id': 5128581, 'name': 'New York', 'cod': 200}\n",
      "\n",
      "+ 도시 = New York\n",
      "| 날씨 = clear sky\n",
      "| 최저 기온 = 5.9\n",
      "| 최고 기온 = 11.7\n",
      "| 습도 = 59\n",
      "| 기압 = 1029\n",
      "| 풍향 = 360\n",
      "| 풍속 = 7.72\n",
      "\n"
     ]
    }
   ],
   "source": [
    "for city in cities:\n",
    "    url = api.format(city= city, key= apikey)\n",
    "    req = requests.get(url)\n",
    "    data = json.loads(req.text) # 결과를 JSON 형식으로 변환하기\n",
    "    print(data)\n",
    "    print()\n",
    "    print(\"+ 도시 =\", data[\"name\"])\n",
    "    print(\"| 날씨 =\", data[\"weather\"][0][\"description\"])\n",
    "    print(\"| 최저 기온 =\", k2c(data[\"main\"][\"temp_min\"]))\n",
    "    print(\"| 최고 기온 =\", k2c(data[\"main\"][\"temp_max\"]))\n",
    "    print(\"| 습도 =\", data[\"main\"][\"humidity\"])\n",
    "    print(\"| 기압 =\", data[\"main\"][\"pressure\"])\n",
    "    print(\"| 풍향 =\", data[\"wind\"][\"deg\"])\n",
    "    print(\"| 풍속 =\", data[\"wind\"][\"speed\"])\n",
    "    print(\"\") "
   ]
  },
  {
   "cell_type": "code",
   "execution_count": 137,
   "id": "9f8519f2-9ee3-4d9d-b169-4d2a9739159f",
   "metadata": {},
   "outputs": [],
   "source": [
    "## PPT로 그럴 듯 하게 내면 됨 ... 2주간...? "
   ]
  },
  {
   "cell_type": "markdown",
   "id": "a9630aed-2323-4be4-a130-22158c0d3a06",
   "metadata": {},
   "source": [
    "## 복습문제"
   ]
  },
  {
   "cell_type": "markdown",
   "id": "4e13411a-3487-4576-85da-44ec0838d369",
   "metadata": {},
   "source": [
    "## 역대 대통령 이름"
   ]
  },
  {
   "cell_type": "code",
   "execution_count": 139,
   "id": "36910cad-8983-4932-a8db-68a3484a5c45",
   "metadata": {},
   "outputs": [
    {
     "data": {
      "text/plain": [
       "['이승만',\n",
       " '윤보선',\n",
       " '박정희',\n",
       " '최규하',\n",
       " '전두환',\n",
       " '노태우',\n",
       " '김영삼',\n",
       " '김대중',\n",
       " '노무현',\n",
       " '이명박',\n",
       " '박근혜',\n",
       " '문재인',\n",
       " '윤석열']"
      ]
     },
     "execution_count": 139,
     "metadata": {},
     "output_type": "execute_result"
    }
   ],
   "source": [
    "import requests\n",
    "from bs4 import BeautifulSoup\n",
    "\n",
    "url = \"https://ko.wikipedia.org/wiki/%EB%8C%80%ED%95%9C%EB%AF%BC%EA%B5%AD%EC%9D%98_%EB%8C%80%ED%86%B5%EB%A0%B9_%EB%AA%A9%EB%A1%9D\"\n",
    "html =requests.get(url).text # 네이버 \n",
    "soup = BeautifulSoup(html, 'html.parser')\n",
    "names = soup.select('td:nth-child(3) > b > a')\n",
    "pre_names = [name.attrs['title'] for name in names]\n",
    "pre_names "
   ]
  },
  {
   "cell_type": "code",
   "execution_count": null,
   "id": "ffdcb04f-21b9-4607-8cd4-cee917f5e149",
   "metadata": {},
   "outputs": [],
   "source": [
    "url = 'https://ko.wikipedia.org/wiki/%EB%8C%80%ED%95%9C%EB%AF%BC%EA%B5%AD%EC%9D%98_%EB%8C%80%ED%86%B5%EB%A0%B9_%EB%AA%A9%EB%A1%9D'\n",
    "html = requests.get(url).text\n",
    "soup = BeautifulSoup(html, 'lxml')\n",
    "table = soup.find(class_ = 'wikitable').find_all('b') # 꼭 같은 라인에 있는 class말고 상위 class도 가능 \n",
    "name = [i.find('a') for i in table]\n",
    "name = list(filter(None, name))\n",
    "[i.text for i in name] "
   ]
  },
  {
   "cell_type": "markdown",
   "id": "00a6ac10-6026-4680-a81d-9d8b40d799de",
   "metadata": {},
   "source": [
    "## 아이디 접근 "
   ]
  },
  {
   "cell_type": "code",
   "execution_count": null,
   "id": "200c8de5-4cd4-446c-9b8c-b450b7633111",
   "metadata": {},
   "outputs": [],
   "source": [
    "import selenium\n",
    "from selenium import webdriver #webdriver 구글 서치 후 다운\n",
    "from selenium.webdriver.common.by import By\n",
    "from selenium.webdriver.common.keys import Keys\n",
    "driver= webdriver.Chrome('chromedriver.exe')\n",
    "url = \"https://nid.naver.com/nidlogin.login\"\n",
    "driver.get(url) # 위에 것을 새로 실행 시켜야함\n",
    "e=driver.find_element(By.ID, \"id\") # 아이디 칸 들어감                             \n",
    "e.clear() # 아이디칸 싹 지움 \n",
    "e.send_keys(\"ad\") # 내 아이디 쓰면 됨 \n",
    "e=driver.find_element(By.ID, \"pw\")  # input type =password는 문자 노출 방지                    \n",
    "e.send_keys(\"snfns\")\n",
    "e.send_keys(Keys.ENTER) # 이거는 먹히지 않음 "
   ]
  },
  {
   "cell_type": "code",
   "execution_count": null,
   "id": "383df200-3afe-414b-8d45-30a3027eec9e",
   "metadata": {},
   "outputs": [],
   "source": [
    "import selenium\n",
    "from selenium import webdriver #webdriver 구글 서치 후 다운\n",
    "from selenium.webdriver.common.by import By\n",
    "from selenium.webdriver.common.keys import Keys\n",
    "driver= webdriver.Chrome('chromedriver.exe')\n",
    "url = \"https://nid.naver.com/nidlogin.login\"\n",
    "driver.get(url) # 위에 것을 새로 실행 시켜야함\n",
    "e=driver.find_elements(By.CLASS_NAME, \"input_text\") # 클래스로 지칭하기 \n",
    "e[0].clear()\n",
    "e[0].send_keys(\"f\")\n",
    "e[1].clear()\n",
    "e[1].send_keys(\"a\")\n",
    "e[1].send_keys(Keys.ENTER)"
   ]
  },
  {
   "cell_type": "code",
   "execution_count": null,
   "id": "806cb7d1-9e16-42ba-bfc2-0dc9366f3466",
   "metadata": {},
   "outputs": [],
   "source": [
    "import selenium\n",
    "from selenium import webdriver #webdriver 구글 서치 후 다운\n",
    "from selenium.webdriver.common.by import By\n",
    "from selenium.webdriver.common.keys import Keys\n",
    "\n",
    "driver= webdriver.Chrome('chromedriver.exe')\n",
    "url = \"https://accounts.kakao.com/login?continue=https%3A%2F%2Flogins.daum.net%2Faccounts%2Fksso.do%3Frescue%3Dtrue%26url%3Dhttps%253A%252F%252Fwww.daum.net\"\n",
    "driver.get(url) # 위에 것을 새로 실행 시켜야함\n",
    "e=driver.find_element(By.ID, \"input-loginKey\") # 아이디 칸 들어감                             \n",
    "e.clear() # 아이디칸 싹 지움 \n",
    "e.send_keys(\"abcde\") # 내 아이디 쓰면 됨 \n",
    "e.send_keys(Keys.ENTER)  # 엔터키로 들어가기\n",
    "e=driver.find_element(By.ID, \"input-password\") # 비밀번호 칸 들어감                             \n",
    "e.clear() # 아이디칸 싹 지움 \n",
    "e.send_keys(\"abcde\") # 내 비밀번호 쓰면 됨 \n",
    "e.send_keys(Keys.ENTER)  # 엔터키로 들어가기\n"
   ]
  },
  {
   "cell_type": "markdown",
   "id": "d4fcebf4-abaa-43e9-9c85-076dd28e04fc",
   "metadata": {},
   "source": [
    "## 검색"
   ]
  },
  {
   "cell_type": "code",
   "execution_count": null,
   "id": "033417da-83d9-4284-8328-354cae39b3e8",
   "metadata": {},
   "outputs": [],
   "source": [
    "e=driver.find_element(By.ID, \"query\") # 아이디 칸 들어감 # 이미 주소가 네이버창이라서                           \n",
    "e.clear() # 아이디칸 싹 지움            # 네이버 검색창 id 들어가면됨\n",
    "e.send_keys(\"우크라이나\") # 검색어 쓰기 \n",
    "e.send_keys(Keys.ENTER)  # 엔터키로 들어가기 "
   ]
  },
  {
   "cell_type": "markdown",
   "id": "508c3354-2097-425b-84b8-985ea6ca9703",
   "metadata": {},
   "source": [
    "## 쇼핑"
   ]
  },
  {
   "cell_type": "code",
   "execution_count": null,
   "id": "98ca04be-62eb-4783-8edc-b71734bc0702",
   "metadata": {},
   "outputs": [],
   "source": [
    "driver.get(\"https://order.pay.naver.com/home?tabMenu=SHOPPING\")\n",
    "e= driver.find_elements(By.CLASS_NAME, \"name\")\n",
    "for i in range(1,3):\n",
    "    print(e[i].text)\n"
   ]
  },
  {
   "cell_type": "code",
   "execution_count": null,
   "id": "4d600ff0-bcc3-4384-88ea-1b1c90fa68fd",
   "metadata": {},
   "outputs": [],
   "source": [
    "e= driver.find_elements(By.CSS_SELECTOR, \"div> a> p\")\n",
    "for i in range(2, 17):\n",
    "    print(e[i].text)"
   ]
  },
  {
   "cell_type": "markdown",
   "id": "054c5776-09b7-404b-9442-7e133f7b46c9",
   "metadata": {},
   "source": [
    "## session "
   ]
  },
  {
   "cell_type": "code",
   "execution_count": null,
   "id": "98e3b5db-29b0-4900-84ab-d00db80f27c1",
   "metadata": {},
   "outputs": [],
   "source": [
    "session =requests.session()\n",
    "url =\"https://www.hanbit.co.kr/member/login_proc.php\" \n",
    "session.post(url, {'m_id':\"wo\", 'm_passwd':'bdt2s'})\n",
    "resp=session.get(\"https://www.hanbit.co.kr/myhanbit/myhanbit.html\")\n",
    "html=resp.text\n",
    "soup=BeautifulSoup(html ,'lxml')\n",
    "soup.select('#container > div > div.sm_mymileage > dl.mileage_section1 > dd> span')\n",
    "soup.select('#container > div > div.sm_mymileage > dl.mileage_section1 > dd> span')[0].get_text()\n",
    "soup.select_one(\"dl.mileage_section2 > dd\").text\n"
   ]
  },
  {
   "cell_type": "markdown",
   "id": "f3fdb065-3fd6-48fc-b88b-23cc68b714b2",
   "metadata": {},
   "source": [
    "## 날씨"
   ]
  },
  {
   "cell_type": "code",
   "execution_count": null,
   "id": "cff760ec-4a13-496e-9620-478daab3375d",
   "metadata": {},
   "outputs": [],
   "source": [
    "import requests\n",
    "import json\n",
    "apikey =\"28ed8b8682f52838a0a86e00b8578fcd\"\n",
    "api = \"http://api.openweathermap.org/data/2.5/weather?q={city}&APPID={key}\"\n",
    "cities =['Seoul, KR', \"New York, US\"]\n",
    "for city in cities:\n",
    "    url = api.format(city= city, key= apikey)\n",
    "    req = requests.get(url)\n",
    "    data = json.loads(req.text) # 결과를 JSON 형식으로 변환하기\n",
    "    print(data)\n",
    "    print()\n",
    "    print(\"+ 도시 =\", data[\"name\"])\n",
    "    print(\"| 날씨 =\", data[\"weather\"][0][\"description\"])\n",
    "    print(\"| 최저 기온 =\", k2c(data[\"main\"][\"temp_min\"]))\n",
    "    print(\"| 최고 기온 =\", k2c(data[\"main\"][\"temp_max\"]))\n",
    "    print(\"| 습도 =\", data[\"main\"][\"humidity\"])\n",
    "    print(\"| 기압 =\", data[\"main\"][\"pressure\"])\n",
    "    print(\"| 풍향 =\", data[\"wind\"][\"deg\"])\n",
    "    print(\"| 풍속 =\", data[\"wind\"][\"speed\"])\n",
    "    print(\"\") "
   ]
  },
  {
   "cell_type": "code",
   "execution_count": null,
   "id": "414d2a9a-06d2-4779-9bdc-abe895a2457d",
   "metadata": {},
   "outputs": [],
   "source": [
    "1. text를 뽑아내려고 합니다.  (____)를 완성해주세요.\n",
    "\n",
    "soup.select('dl.mileage_section1 > dd> span')(_____)\n",
    "soup.select_one('dl.mileage_section2 > dd')(_____)\n",
    "\n",
    "답 : \n",
    "    \n",
    "[0].get_text()\n",
    ".text\n",
    "\n",
    "---------------------------------------------------\n",
    "\n",
    "e=driver.find_elements(By.CLASS_NAME, \"input_text\") \n",
    "\n",
    "2. 아이디와 비밀번호의 class 명이 \"input_text\"로 같을 떄 아이디 = 'a' 와 비밀번호 = 'b' 를 각각 입력해주세요.\n",
    "\n",
    "답 : \n",
    "    \n",
    "e[0].clear()\n",
    "e[0].send_keys(\"a\")\n",
    "e[1].clear()\n",
    "e[1].send_keys(\"b\")\n",
    "\n",
    "\n",
    "----------------------------------------------------\n",
    "import requests\n",
    "from bs4 import BeautifulSoup\n",
    "\n",
    "url = \"https://ko.wikipedia.org/wiki/%EB%8C%80%ED%95%9C%EB%AF%BC%EA%B5%AD%EC%9D%98_%EB%8C%80%ED%86%B5%EB%A0%B9_%EB%AA%A9%EB%A1%9D\"\n",
    "html =requests.get(url).text # 네이버 \n",
    "soup = BeautifulSoup(html, 'html.parser')\n",
    "names = soup.select('td:nth-child(3) > b > a') \n",
    "\n",
    "\n",
    "3. 위의 코드를 활용하여 각 대통령의 이름만 출력해주세요.\n",
    "\n",
    "import requests\n",
    "from bs4 import BeautifulSoup\n",
    "\n",
    "답 : \n",
    "    \n",
    "[name.attrs['title'] for name in names]\n"
   ]
  }
 ],
 "metadata": {
  "kernelspec": {
   "display_name": "Python 3 (ipykernel)",
   "language": "python",
   "name": "python3"
  },
  "language_info": {
   "codemirror_mode": {
    "name": "ipython",
    "version": 3
   },
   "file_extension": ".py",
   "mimetype": "text/x-python",
   "name": "python",
   "nbconvert_exporter": "python",
   "pygments_lexer": "ipython3",
   "version": "3.9.12"
  }
 },
 "nbformat": 4,
 "nbformat_minor": 5
}
