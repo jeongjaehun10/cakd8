{
 "cells": [
  {
   "cell_type": "markdown",
   "id": "e1b2042d-5c5e-4b47-8efa-f5c00d7a8547",
   "metadata": {},
   "source": [
    "# 정리"
   ]
  },
  {
   "cell_type": "code",
   "execution_count": null,
   "id": "5e5fe25f-55dc-481b-bf30-60448df4d182",
   "metadata": {},
   "outputs": [],
   "source": [
    "from sklearn.linear_model import LinearRegression\n",
    "model= LinearRegression(fit_intercept=True) # fit_intercept 는 절편을 맞춤 ㅣㄱ\n",
    "\n",
    "import seaborn as sns\n",
    "import matplotlib.pyplot as plt\n",
    "from scipy import stats\n",
    "from sklearn.datasets import load_boston\n",
    "import warnings\n",
    "warnings.filterwarnings('ignore')\n",
    "%matplotlib inline\n",
    "boston= load_boston()\n",
    "bostonDF=pd.DataFrame(boston.data, columns=boston.feature_names)\n",
    "rom sklearn.model_selection import train_test_split\n",
    "from sklearn.linear_model import LinearRegression\n",
    "from sklearn.metrics import mean_squared_error, r2_score\n",
    "\n",
    "y_target =bostonDF['PRICE']\n",
    "X_data=bostonDF.drop(['PRICE'], axis=1, inplace=False)\n",
    "\n",
    "X_train,X_test,y_train,y_test = train_test_split(X_data, y_target, test_size=0.3, random_state=156)\n",
    "\n",
    "lr= LinearRegression()\n",
    "lr.fit(X_train, y_train)\n",
    "from sklearn.preprocessing import PolynomialFeatures\n",
    "\n",
    "model=Pipeline([('poly', PolynomialFeatures(degree=3)), ('linear', LinearRegression())])\n",
    "x=np.arange(4).reshape(2,2)\n",
    "y=polynomial_func(X)\n",
    "model.fit(X,y)\n"
   ]
  },
  {
   "cell_type": "code",
   "execution_count": 1,
   "id": "1c02e1af-7737-49cd-bf55-1f6fa74dff7c",
   "metadata": {},
   "outputs": [],
   "source": [
    "from sklearn.preprocessing import StandardScaler"
   ]
  },
  {
   "cell_type": "code",
   "execution_count": 2,
   "id": "4a57e7c1-5ca9-4483-9904-673939efa4a7",
   "metadata": {},
   "outputs": [],
   "source": [
    "scaler =StandardScaler()"
   ]
  },
  {
   "cell_type": "code",
   "execution_count": 3,
   "id": "b694dfda-d967-47a3-b93b-5d6d93a9c377",
   "metadata": {},
   "outputs": [],
   "source": [
    "import pydataset"
   ]
  },
  {
   "cell_type": "code",
   "execution_count": 4,
   "id": "853d3b01-3319-4830-9668-3307fe3d3771",
   "metadata": {},
   "outputs": [],
   "source": [
    "mpg= pydataset.data(\"mpg\")"
   ]
  },
  {
   "cell_type": "code",
   "execution_count": 5,
   "id": "7da2d971-5a38-4d88-8891-e3672f79ba19",
   "metadata": {},
   "outputs": [],
   "source": [
    "import pandas as pd\n",
    "\n",
    "import numpy as np \n",
    "\n",
    "from sklearn.metrics import accuracy_score\n",
    "\n",
    "from sklearn.preprocessing import LabelEncoder\n",
    "\n",
    "from sklearn.tree import DecisionTreeClassifier\n",
    "\n",
    "from sklearn.ensemble import RandomForestClassifier\n",
    "\n",
    "from sklearn.linear_model import LogisticRegression"
   ]
  },
  {
   "cell_type": "code",
   "execution_count": 6,
   "id": "2cfd0dcc-1167-4c1e-bffa-20f6f911dab5",
   "metadata": {},
   "outputs": [
    {
     "data": {
      "text/plain": [
       "array([[0., 0., 0., 0., 0., 0., 0., 0., 0., 0., 0., 0., 0., 0., 0., 0.,\n",
       "        0., 0., 0., 0., 0., 0., 0., 0., 0., 0., 0., 0., 0., 0., 0., 0.,\n",
       "        0., 0., 0., 0., 0., 0., 0., 0., 0., 0., 0., 0., 0., 0., 0., 0.,\n",
       "        0., 0., 0., 0., 0., 0., 0., 0., 0., 0., 0., 0., 0., 0., 0., 0.,\n",
       "        0., 0., 0., 0., 0., 0., 0., 0., 0., 0., 0., 0., 0., 0., 0., 0.,\n",
       "        0., 0., 0., 0., 0., 0., 0., 0., 0., 0., 0., 0., 0., 0., 0., 0.,\n",
       "        0., 0., 0., 0., 0., 0., 0., 0., 0., 0., 0., 0., 0., 0., 0., 0.,\n",
       "        0., 0., 0., 0., 0., 0., 0., 0., 0., 0., 0., 0., 0., 0., 0., 0.,\n",
       "        0., 0., 0., 0., 0., 0., 0., 0., 0., 0., 0., 0., 0., 0., 0., 0.,\n",
       "        0., 0., 0., 0., 0., 0., 0., 0., 0., 0., 0., 0., 0., 0., 0., 0.,\n",
       "        0., 0., 0., 0., 0., 0., 0., 0., 0., 0., 0., 0., 0., 0., 0., 0.,\n",
       "        0., 0., 0., 0., 0., 0., 0., 0., 0., 0., 0., 0., 0., 0., 0., 0.,\n",
       "        0., 0., 0., 0., 0., 0., 0., 0., 0., 0., 0., 0., 0., 0., 0., 0.,\n",
       "        0., 0., 0., 0., 0., 0., 0., 0., 0., 0., 0., 0., 0., 0., 0., 0.,\n",
       "        0., 0., 0., 0., 0., 0., 0., 0., 0., 0.]])"
      ]
     },
     "execution_count": 6,
     "metadata": {},
     "output_type": "execute_result"
    }
   ],
   "source": [
    "scaler.fit_transform(mpg['cty'].values.reshape(1,-1))"
   ]
  },
  {
   "cell_type": "code",
   "execution_count": 7,
   "id": "bf8223b3-1bb1-47ec-b05a-0a5d077e05c2",
   "metadata": {
    "collapsed": true,
    "jupyter": {
     "outputs_hidden": true
    },
    "tags": []
   },
   "outputs": [
    {
     "data": {
      "text/plain": [
       "array([[ 0.26867626],\n",
       "       [ 0.97508351],\n",
       "       [ 0.73961443],\n",
       "       [ 0.97508351],\n",
       "       [-0.2022619 ],\n",
       "       [ 0.26867626],\n",
       "       [ 0.26867626],\n",
       "       [ 0.26867626],\n",
       "       [-0.2022619 ],\n",
       "       [ 0.73961443],\n",
       "       [ 0.50414534],\n",
       "       [-0.43773099],\n",
       "       [ 0.03320718],\n",
       "       [ 0.03320718],\n",
       "       [-0.43773099],\n",
       "       [-0.43773099],\n",
       "       [ 0.03320718],\n",
       "       [-0.2022619 ],\n",
       "       [-0.67320007],\n",
       "       [-1.37960732],\n",
       "       [-0.67320007],\n",
       "       [-0.90866915],\n",
       "       [-1.14413824],\n",
       "       [-0.2022619 ],\n",
       "       [-0.43773099],\n",
       "       [-0.2022619 ],\n",
       "       [-0.43773099],\n",
       "       [-0.43773099],\n",
       "       [-0.67320007],\n",
       "       [-1.37960732],\n",
       "       [-1.37960732],\n",
       "       [-0.67320007],\n",
       "       [ 0.50414534],\n",
       "       [ 1.21055259],\n",
       "       [ 0.26867626],\n",
       "       [ 0.26867626],\n",
       "       [ 0.03320718],\n",
       "       [ 0.26867626],\n",
       "       [ 0.03320718],\n",
       "       [-0.2022619 ],\n",
       "       [-0.2022619 ],\n",
       "       [ 0.03320718],\n",
       "       [ 0.03320718],\n",
       "       [-1.37960732],\n",
       "       [-0.43773099],\n",
       "       [-0.43773099],\n",
       "       [-0.2022619 ],\n",
       "       [-0.2022619 ],\n",
       "       [-0.43773099],\n",
       "       [-0.67320007],\n",
       "       [-0.90866915],\n",
       "       [-0.67320007],\n",
       "       [-0.67320007],\n",
       "       [-0.67320007],\n",
       "       [-1.85054548],\n",
       "       [-1.37960732],\n",
       "       [-1.37960732],\n",
       "       [-0.90866915],\n",
       "       [-0.90866915],\n",
       "       [-1.85054548],\n",
       "       [-0.90866915],\n",
       "       [-1.37960732],\n",
       "       [-0.90866915],\n",
       "       [-1.37960732],\n",
       "       [-1.14413824],\n",
       "       [-1.85054548],\n",
       "       [-0.90866915],\n",
       "       [-0.90866915],\n",
       "       [-1.14413824],\n",
       "       [-1.85054548],\n",
       "       [-1.37960732],\n",
       "       [-1.37960732],\n",
       "       [-0.90866915],\n",
       "       [-1.37960732],\n",
       "       [-1.37960732],\n",
       "       [-1.37960732],\n",
       "       [-1.14413824],\n",
       "       [-0.67320007],\n",
       "       [-0.43773099],\n",
       "       [-0.67320007],\n",
       "       [-0.90866915],\n",
       "       [-0.90866915],\n",
       "       [-0.90866915],\n",
       "       [-0.67320007],\n",
       "       [-0.67320007],\n",
       "       [-0.90866915],\n",
       "       [-0.90866915],\n",
       "       [-0.90866915],\n",
       "       [-1.37960732],\n",
       "       [-0.90866915],\n",
       "       [ 0.26867626],\n",
       "       [ 0.26867626],\n",
       "       [ 0.03320718],\n",
       "       [-0.2022619 ],\n",
       "       [-0.43773099],\n",
       "       [-0.43773099],\n",
       "       [-0.43773099],\n",
       "       [-0.43773099],\n",
       "       [-0.67320007],\n",
       "       [ 2.62336709],\n",
       "       [ 1.68149076],\n",
       "       [ 1.91695984],\n",
       "       [ 1.44602167],\n",
       "       [ 1.68149076],\n",
       "       [ 2.15242892],\n",
       "       [ 1.91695984],\n",
       "       [ 1.68149076],\n",
       "       [ 0.97508351],\n",
       "       [ 0.26867626],\n",
       "       [ 0.26867626],\n",
       "       [ 0.97508351],\n",
       "       [ 0.97508351],\n",
       "       [ 0.26867626],\n",
       "       [ 0.26867626],\n",
       "       [ 0.50414534],\n",
       "       [ 0.50414534],\n",
       "       [ 0.50414534],\n",
       "       [ 0.73961443],\n",
       "       [ 0.73961443],\n",
       "       [ 0.03320718],\n",
       "       [-0.2022619 ],\n",
       "       [ 0.03320718],\n",
       "       [ 0.03320718],\n",
       "       [-0.43773099],\n",
       "       [-0.43773099],\n",
       "       [-0.67320007],\n",
       "       [-1.85054548],\n",
       "       [-0.67320007],\n",
       "       [-0.90866915],\n",
       "       [-1.37960732],\n",
       "       [-1.37960732],\n",
       "       [-1.14413824],\n",
       "       [-1.14413824],\n",
       "       [-1.37960732],\n",
       "       [-1.37960732],\n",
       "       [-1.37960732],\n",
       "       [-1.14413824],\n",
       "       [-0.67320007],\n",
       "       [-0.90866915],\n",
       "       [-0.90866915],\n",
       "       [-0.90866915],\n",
       "       [ 0.97508351],\n",
       "       [ 0.50414534],\n",
       "       [ 1.44602167],\n",
       "       [ 1.44602167],\n",
       "       [ 0.50414534],\n",
       "       [ 0.50414534],\n",
       "       [ 0.26867626],\n",
       "       [ 0.50414534],\n",
       "       [ 0.50414534],\n",
       "       [-0.67320007],\n",
       "       [-0.43773099],\n",
       "       [-0.67320007],\n",
       "       [-1.14413824],\n",
       "       [ 0.26867626],\n",
       "       [-0.2022619 ],\n",
       "       [ 0.03320718],\n",
       "       [ 0.26867626],\n",
       "       [-0.2022619 ],\n",
       "       [ 0.26867626],\n",
       "       [ 0.26867626],\n",
       "       [ 0.73961443],\n",
       "       [ 0.50414534],\n",
       "       [ 0.73961443],\n",
       "       [ 0.26867626],\n",
       "       [ 0.97508351],\n",
       "       [ 0.50414534],\n",
       "       [ 0.50414534],\n",
       "       [ 0.50414534],\n",
       "       [ 0.73961443],\n",
       "       [ 0.73961443],\n",
       "       [ 0.50414534],\n",
       "       [ 0.73961443],\n",
       "       [-0.43773099],\n",
       "       [-0.2022619 ],\n",
       "       [-0.43773099],\n",
       "       [-0.43773099],\n",
       "       [-0.2022619 ],\n",
       "       [-0.67320007],\n",
       "       [ 0.97508351],\n",
       "       [ 0.97508351],\n",
       "       [ 0.97508351],\n",
       "       [ 0.97508351],\n",
       "       [ 0.26867626],\n",
       "       [ 0.26867626],\n",
       "       [ 0.50414534],\n",
       "       [ 0.97508351],\n",
       "       [ 0.97508351],\n",
       "       [ 0.97508351],\n",
       "       [ 1.21055259],\n",
       "       [ 0.26867626],\n",
       "       [ 0.26867626],\n",
       "       [ 0.26867626],\n",
       "       [ 1.68149076],\n",
       "       [ 1.68149076],\n",
       "       [ 2.15242892],\n",
       "       [ 2.62336709],\n",
       "       [ 2.15242892],\n",
       "       [-1.37960732],\n",
       "       [-0.90866915],\n",
       "       [-0.43773099],\n",
       "       [-0.2022619 ],\n",
       "       [ 0.03320718],\n",
       "       [-0.43773099],\n",
       "       [-0.43773099],\n",
       "       [-0.43773099],\n",
       "       [-0.2022619 ],\n",
       "       [ 0.97508351],\n",
       "       [ 0.50414534],\n",
       "       [ 0.97508351],\n",
       "       [ 1.21055259],\n",
       "       [ 0.03320718],\n",
       "       [ 3.8007125 ],\n",
       "       [ 0.97508351],\n",
       "       [ 0.50414534],\n",
       "       [ 1.21055259],\n",
       "       [ 0.97508351],\n",
       "       [ 0.97508351],\n",
       "       [ 0.97508351],\n",
       "       [-0.2022619 ],\n",
       "       [ 0.03320718],\n",
       "       [ 4.27165067],\n",
       "       [ 2.85883617],\n",
       "       [ 0.97508351],\n",
       "       [ 0.50414534],\n",
       "       [ 0.73961443],\n",
       "       [ 0.73961443],\n",
       "       [ 0.97508351],\n",
       "       [ 0.26867626],\n",
       "       [ 0.50414534],\n",
       "       [ 0.97508351],\n",
       "       [-0.2022619 ],\n",
       "       [ 0.26867626],\n",
       "       [ 0.03320718]])"
      ]
     },
     "execution_count": 7,
     "metadata": {},
     "output_type": "execute_result"
    }
   ],
   "source": [
    "scaler.fit_transform(mpg[['cty']])"
   ]
  },
  {
   "cell_type": "code",
   "execution_count": 8,
   "id": "321f865b-0ff6-4aae-8d83-106b6a34dec4",
   "metadata": {},
   "outputs": [
    {
     "data": {
      "text/plain": [
       "(234,)"
      ]
     },
     "execution_count": 8,
     "metadata": {},
     "output_type": "execute_result"
    }
   ],
   "source": [
    "mpg['cty'].values.shape"
   ]
  },
  {
   "cell_type": "code",
   "execution_count": 122,
   "id": "d016fc61-b22c-4d83-ae68-b88e1572cc8f",
   "metadata": {},
   "outputs": [
    {
     "data": {
      "text/html": [
       "<div>\n",
       "<style scoped>\n",
       "    .dataframe tbody tr th:only-of-type {\n",
       "        vertical-align: middle;\n",
       "    }\n",
       "\n",
       "    .dataframe tbody tr th {\n",
       "        vertical-align: top;\n",
       "    }\n",
       "\n",
       "    .dataframe thead th {\n",
       "        text-align: right;\n",
       "    }\n",
       "</style>\n",
       "<table border=\"1\" class=\"dataframe\">\n",
       "  <thead>\n",
       "    <tr style=\"text-align: right;\">\n",
       "      <th></th>\n",
       "      <th>manufacturer</th>\n",
       "      <th>model</th>\n",
       "      <th>displ</th>\n",
       "      <th>year</th>\n",
       "      <th>cyl</th>\n",
       "      <th>trans</th>\n",
       "      <th>drv</th>\n",
       "      <th>cty</th>\n",
       "      <th>hwy</th>\n",
       "      <th>fl</th>\n",
       "      <th>class</th>\n",
       "    </tr>\n",
       "  </thead>\n",
       "  <tbody>\n",
       "    <tr>\n",
       "      <th>1</th>\n",
       "      <td>audi</td>\n",
       "      <td>a4</td>\n",
       "      <td>1.8</td>\n",
       "      <td>1999</td>\n",
       "      <td>4</td>\n",
       "      <td>auto(l5)</td>\n",
       "      <td>f</td>\n",
       "      <td>18</td>\n",
       "      <td>29</td>\n",
       "      <td>p</td>\n",
       "      <td>compact</td>\n",
       "    </tr>\n",
       "    <tr>\n",
       "      <th>2</th>\n",
       "      <td>audi</td>\n",
       "      <td>a4</td>\n",
       "      <td>1.8</td>\n",
       "      <td>1999</td>\n",
       "      <td>4</td>\n",
       "      <td>manual(m5)</td>\n",
       "      <td>f</td>\n",
       "      <td>21</td>\n",
       "      <td>29</td>\n",
       "      <td>p</td>\n",
       "      <td>compact</td>\n",
       "    </tr>\n",
       "    <tr>\n",
       "      <th>3</th>\n",
       "      <td>audi</td>\n",
       "      <td>a4</td>\n",
       "      <td>2.0</td>\n",
       "      <td>2008</td>\n",
       "      <td>4</td>\n",
       "      <td>manual(m6)</td>\n",
       "      <td>f</td>\n",
       "      <td>20</td>\n",
       "      <td>31</td>\n",
       "      <td>p</td>\n",
       "      <td>compact</td>\n",
       "    </tr>\n",
       "    <tr>\n",
       "      <th>4</th>\n",
       "      <td>audi</td>\n",
       "      <td>a4</td>\n",
       "      <td>2.0</td>\n",
       "      <td>2008</td>\n",
       "      <td>4</td>\n",
       "      <td>auto(av)</td>\n",
       "      <td>f</td>\n",
       "      <td>21</td>\n",
       "      <td>30</td>\n",
       "      <td>p</td>\n",
       "      <td>compact</td>\n",
       "    </tr>\n",
       "    <tr>\n",
       "      <th>5</th>\n",
       "      <td>audi</td>\n",
       "      <td>a4</td>\n",
       "      <td>2.8</td>\n",
       "      <td>1999</td>\n",
       "      <td>6</td>\n",
       "      <td>auto(l5)</td>\n",
       "      <td>f</td>\n",
       "      <td>16</td>\n",
       "      <td>26</td>\n",
       "      <td>p</td>\n",
       "      <td>compact</td>\n",
       "    </tr>\n",
       "    <tr>\n",
       "      <th>...</th>\n",
       "      <td>...</td>\n",
       "      <td>...</td>\n",
       "      <td>...</td>\n",
       "      <td>...</td>\n",
       "      <td>...</td>\n",
       "      <td>...</td>\n",
       "      <td>...</td>\n",
       "      <td>...</td>\n",
       "      <td>...</td>\n",
       "      <td>...</td>\n",
       "      <td>...</td>\n",
       "    </tr>\n",
       "    <tr>\n",
       "      <th>230</th>\n",
       "      <td>volkswagen</td>\n",
       "      <td>passat</td>\n",
       "      <td>2.0</td>\n",
       "      <td>2008</td>\n",
       "      <td>4</td>\n",
       "      <td>auto(s6)</td>\n",
       "      <td>f</td>\n",
       "      <td>19</td>\n",
       "      <td>28</td>\n",
       "      <td>p</td>\n",
       "      <td>midsize</td>\n",
       "    </tr>\n",
       "    <tr>\n",
       "      <th>231</th>\n",
       "      <td>volkswagen</td>\n",
       "      <td>passat</td>\n",
       "      <td>2.0</td>\n",
       "      <td>2008</td>\n",
       "      <td>4</td>\n",
       "      <td>manual(m6)</td>\n",
       "      <td>f</td>\n",
       "      <td>21</td>\n",
       "      <td>29</td>\n",
       "      <td>p</td>\n",
       "      <td>midsize</td>\n",
       "    </tr>\n",
       "    <tr>\n",
       "      <th>232</th>\n",
       "      <td>volkswagen</td>\n",
       "      <td>passat</td>\n",
       "      <td>2.8</td>\n",
       "      <td>1999</td>\n",
       "      <td>6</td>\n",
       "      <td>auto(l5)</td>\n",
       "      <td>f</td>\n",
       "      <td>16</td>\n",
       "      <td>26</td>\n",
       "      <td>p</td>\n",
       "      <td>midsize</td>\n",
       "    </tr>\n",
       "    <tr>\n",
       "      <th>233</th>\n",
       "      <td>volkswagen</td>\n",
       "      <td>passat</td>\n",
       "      <td>2.8</td>\n",
       "      <td>1999</td>\n",
       "      <td>6</td>\n",
       "      <td>manual(m5)</td>\n",
       "      <td>f</td>\n",
       "      <td>18</td>\n",
       "      <td>26</td>\n",
       "      <td>p</td>\n",
       "      <td>midsize</td>\n",
       "    </tr>\n",
       "    <tr>\n",
       "      <th>234</th>\n",
       "      <td>volkswagen</td>\n",
       "      <td>passat</td>\n",
       "      <td>3.6</td>\n",
       "      <td>2008</td>\n",
       "      <td>6</td>\n",
       "      <td>auto(s6)</td>\n",
       "      <td>f</td>\n",
       "      <td>17</td>\n",
       "      <td>26</td>\n",
       "      <td>p</td>\n",
       "      <td>midsize</td>\n",
       "    </tr>\n",
       "  </tbody>\n",
       "</table>\n",
       "<p>234 rows × 11 columns</p>\n",
       "</div>"
      ],
      "text/plain": [
       "    manufacturer   model  displ  year  cyl       trans drv  cty  hwy fl  \\\n",
       "1           audi      a4    1.8  1999    4    auto(l5)   f   18   29  p   \n",
       "2           audi      a4    1.8  1999    4  manual(m5)   f   21   29  p   \n",
       "3           audi      a4    2.0  2008    4  manual(m6)   f   20   31  p   \n",
       "4           audi      a4    2.0  2008    4    auto(av)   f   21   30  p   \n",
       "5           audi      a4    2.8  1999    6    auto(l5)   f   16   26  p   \n",
       "..           ...     ...    ...   ...  ...         ...  ..  ...  ... ..   \n",
       "230   volkswagen  passat    2.0  2008    4    auto(s6)   f   19   28  p   \n",
       "231   volkswagen  passat    2.0  2008    4  manual(m6)   f   21   29  p   \n",
       "232   volkswagen  passat    2.8  1999    6    auto(l5)   f   16   26  p   \n",
       "233   volkswagen  passat    2.8  1999    6  manual(m5)   f   18   26  p   \n",
       "234   volkswagen  passat    3.6  2008    6    auto(s6)   f   17   26  p   \n",
       "\n",
       "       class  \n",
       "1    compact  \n",
       "2    compact  \n",
       "3    compact  \n",
       "4    compact  \n",
       "5    compact  \n",
       "..       ...  \n",
       "230  midsize  \n",
       "231  midsize  \n",
       "232  midsize  \n",
       "233  midsize  \n",
       "234  midsize  \n",
       "\n",
       "[234 rows x 11 columns]"
      ]
     },
     "execution_count": 122,
     "metadata": {},
     "output_type": "execute_result"
    }
   ],
   "source": [
    "mpg[~mpg['fl'].isna()] # True, False의 not은 ~로 함# 결측치가 아닌것들만 부름"
   ]
  },
  {
   "cell_type": "code",
   "execution_count": 11,
   "id": "25e6fabe-988a-4a1c-8cfb-6ee00e920167",
   "metadata": {},
   "outputs": [
    {
     "data": {
      "text/html": [
       "<div>\n",
       "<style scoped>\n",
       "    .dataframe tbody tr th:only-of-type {\n",
       "        vertical-align: middle;\n",
       "    }\n",
       "\n",
       "    .dataframe tbody tr th {\n",
       "        vertical-align: top;\n",
       "    }\n",
       "\n",
       "    .dataframe thead th {\n",
       "        text-align: right;\n",
       "    }\n",
       "</style>\n",
       "<table border=\"1\" class=\"dataframe\">\n",
       "  <thead>\n",
       "    <tr style=\"text-align: right;\">\n",
       "      <th></th>\n",
       "      <th>manufacturer</th>\n",
       "      <th>model</th>\n",
       "      <th>displ</th>\n",
       "      <th>year</th>\n",
       "      <th>cyl</th>\n",
       "      <th>trans</th>\n",
       "      <th>drv</th>\n",
       "      <th>cty</th>\n",
       "      <th>hwy</th>\n",
       "      <th>fl</th>\n",
       "      <th>class</th>\n",
       "    </tr>\n",
       "  </thead>\n",
       "  <tbody>\n",
       "    <tr>\n",
       "      <th>1</th>\n",
       "      <td>audi</td>\n",
       "      <td>a4</td>\n",
       "      <td>1.8</td>\n",
       "      <td>1999</td>\n",
       "      <td>4</td>\n",
       "      <td>auto(l5)</td>\n",
       "      <td>f</td>\n",
       "      <td>18</td>\n",
       "      <td>29</td>\n",
       "      <td>p</td>\n",
       "      <td>compact</td>\n",
       "    </tr>\n",
       "    <tr>\n",
       "      <th>2</th>\n",
       "      <td>audi</td>\n",
       "      <td>a4</td>\n",
       "      <td>1.8</td>\n",
       "      <td>1999</td>\n",
       "      <td>4</td>\n",
       "      <td>manual(m5)</td>\n",
       "      <td>f</td>\n",
       "      <td>21</td>\n",
       "      <td>29</td>\n",
       "      <td>p</td>\n",
       "      <td>compact</td>\n",
       "    </tr>\n",
       "    <tr>\n",
       "      <th>3</th>\n",
       "      <td>audi</td>\n",
       "      <td>a4</td>\n",
       "      <td>2.0</td>\n",
       "      <td>2008</td>\n",
       "      <td>4</td>\n",
       "      <td>manual(m6)</td>\n",
       "      <td>f</td>\n",
       "      <td>20</td>\n",
       "      <td>31</td>\n",
       "      <td>p</td>\n",
       "      <td>compact</td>\n",
       "    </tr>\n",
       "    <tr>\n",
       "      <th>4</th>\n",
       "      <td>audi</td>\n",
       "      <td>a4</td>\n",
       "      <td>2.0</td>\n",
       "      <td>2008</td>\n",
       "      <td>4</td>\n",
       "      <td>auto(av)</td>\n",
       "      <td>f</td>\n",
       "      <td>21</td>\n",
       "      <td>30</td>\n",
       "      <td>p</td>\n",
       "      <td>compact</td>\n",
       "    </tr>\n",
       "    <tr>\n",
       "      <th>5</th>\n",
       "      <td>audi</td>\n",
       "      <td>a4</td>\n",
       "      <td>2.8</td>\n",
       "      <td>1999</td>\n",
       "      <td>6</td>\n",
       "      <td>auto(l5)</td>\n",
       "      <td>f</td>\n",
       "      <td>16</td>\n",
       "      <td>26</td>\n",
       "      <td>p</td>\n",
       "      <td>compact</td>\n",
       "    </tr>\n",
       "    <tr>\n",
       "      <th>...</th>\n",
       "      <td>...</td>\n",
       "      <td>...</td>\n",
       "      <td>...</td>\n",
       "      <td>...</td>\n",
       "      <td>...</td>\n",
       "      <td>...</td>\n",
       "      <td>...</td>\n",
       "      <td>...</td>\n",
       "      <td>...</td>\n",
       "      <td>...</td>\n",
       "      <td>...</td>\n",
       "    </tr>\n",
       "    <tr>\n",
       "      <th>230</th>\n",
       "      <td>volkswagen</td>\n",
       "      <td>passat</td>\n",
       "      <td>2.0</td>\n",
       "      <td>2008</td>\n",
       "      <td>4</td>\n",
       "      <td>auto(s6)</td>\n",
       "      <td>f</td>\n",
       "      <td>19</td>\n",
       "      <td>28</td>\n",
       "      <td>p</td>\n",
       "      <td>midsize</td>\n",
       "    </tr>\n",
       "    <tr>\n",
       "      <th>231</th>\n",
       "      <td>volkswagen</td>\n",
       "      <td>passat</td>\n",
       "      <td>2.0</td>\n",
       "      <td>2008</td>\n",
       "      <td>4</td>\n",
       "      <td>manual(m6)</td>\n",
       "      <td>f</td>\n",
       "      <td>21</td>\n",
       "      <td>29</td>\n",
       "      <td>p</td>\n",
       "      <td>midsize</td>\n",
       "    </tr>\n",
       "    <tr>\n",
       "      <th>232</th>\n",
       "      <td>volkswagen</td>\n",
       "      <td>passat</td>\n",
       "      <td>2.8</td>\n",
       "      <td>1999</td>\n",
       "      <td>6</td>\n",
       "      <td>auto(l5)</td>\n",
       "      <td>f</td>\n",
       "      <td>16</td>\n",
       "      <td>26</td>\n",
       "      <td>p</td>\n",
       "      <td>midsize</td>\n",
       "    </tr>\n",
       "    <tr>\n",
       "      <th>233</th>\n",
       "      <td>volkswagen</td>\n",
       "      <td>passat</td>\n",
       "      <td>2.8</td>\n",
       "      <td>1999</td>\n",
       "      <td>6</td>\n",
       "      <td>manual(m5)</td>\n",
       "      <td>f</td>\n",
       "      <td>18</td>\n",
       "      <td>26</td>\n",
       "      <td>p</td>\n",
       "      <td>midsize</td>\n",
       "    </tr>\n",
       "    <tr>\n",
       "      <th>234</th>\n",
       "      <td>volkswagen</td>\n",
       "      <td>passat</td>\n",
       "      <td>3.6</td>\n",
       "      <td>2008</td>\n",
       "      <td>6</td>\n",
       "      <td>auto(s6)</td>\n",
       "      <td>f</td>\n",
       "      <td>17</td>\n",
       "      <td>26</td>\n",
       "      <td>p</td>\n",
       "      <td>midsize</td>\n",
       "    </tr>\n",
       "  </tbody>\n",
       "</table>\n",
       "<p>234 rows × 11 columns</p>\n",
       "</div>"
      ],
      "text/plain": [
       "    manufacturer   model  displ  year  cyl       trans drv  cty  hwy fl  \\\n",
       "1           audi      a4    1.8  1999    4    auto(l5)   f   18   29  p   \n",
       "2           audi      a4    1.8  1999    4  manual(m5)   f   21   29  p   \n",
       "3           audi      a4    2.0  2008    4  manual(m6)   f   20   31  p   \n",
       "4           audi      a4    2.0  2008    4    auto(av)   f   21   30  p   \n",
       "5           audi      a4    2.8  1999    6    auto(l5)   f   16   26  p   \n",
       "..           ...     ...    ...   ...  ...         ...  ..  ...  ... ..   \n",
       "230   volkswagen  passat    2.0  2008    4    auto(s6)   f   19   28  p   \n",
       "231   volkswagen  passat    2.0  2008    4  manual(m6)   f   21   29  p   \n",
       "232   volkswagen  passat    2.8  1999    6    auto(l5)   f   16   26  p   \n",
       "233   volkswagen  passat    2.8  1999    6  manual(m5)   f   18   26  p   \n",
       "234   volkswagen  passat    3.6  2008    6    auto(s6)   f   17   26  p   \n",
       "\n",
       "       class  \n",
       "1    compact  \n",
       "2    compact  \n",
       "3    compact  \n",
       "4    compact  \n",
       "5    compact  \n",
       "..       ...  \n",
       "230  midsize  \n",
       "231  midsize  \n",
       "232  midsize  \n",
       "233  midsize  \n",
       "234  midsize  \n",
       "\n",
       "[234 rows x 11 columns]"
      ]
     },
     "execution_count": 11,
     "metadata": {},
     "output_type": "execute_result"
    }
   ],
   "source": [
    "mpg"
   ]
  },
  {
   "cell_type": "code",
   "execution_count": 14,
   "id": "db869316-b5ab-4667-ad64-ae6742a911bf",
   "metadata": {},
   "outputs": [
    {
     "ename": "SyntaxError",
     "evalue": "invalid syntax (675358749.py, line 6)",
     "output_type": "error",
     "traceback": [
      "\u001b[1;36m  Input \u001b[1;32mIn [14]\u001b[1;36m\u001b[0m\n\u001b[1;33m    라쏘, 릿지 회귀\u001b[0m\n\u001b[1;37m              ^\u001b[0m\n\u001b[1;31mSyntaxError\u001b[0m\u001b[1;31m:\u001b[0m invalid syntax\n"
     ]
    }
   ],
   "source": [
    "회귀: 수치형\n",
    "단순회귀\n",
    "다중회위\n",
    "로지스틱회귀 \n",
    "다항회귀\n",
    "라쏘, 릿지 회귀 \n",
    "선형회귀 규제, 과적합 문제 해결위해 좀 더 줄여주기 위하여 "
   ]
  },
  {
   "cell_type": "code",
   "execution_count": 15,
   "id": "7ba0aee7-6930-4832-8bb5-260ea667bfbd",
   "metadata": {},
   "outputs": [],
   "source": [
    "import numpy as np\n",
    "import matplotlib.pyplot as plt"
   ]
  },
  {
   "cell_type": "code",
   "execution_count": 25,
   "id": "551f2b0e-af36-4594-88e7-b0dff813228e",
   "metadata": {},
   "outputs": [
    {
     "data": {
      "text/plain": [
       "<matplotlib.collections.PathCollection at 0x23e9afd4a00>"
      ]
     },
     "execution_count": 25,
     "metadata": {},
     "output_type": "execute_result"
    },
    {
     "data": {
      "image/png": "[encoded data removed]",
      "text/plain": [
       "<Figure size 432x288 with 1 Axes>"
      ]
     },
     "metadata": {
      "needs_background": "light"
     },
     "output_type": "display_data"
    }
   ],
   "source": [
    "np.random.seed(0)\n",
    "X=2*np.random.rand(100,1)\n",
    "\n",
    "y= 6+4*X+np.random.rand(100,1)\n",
    "\n",
    "plt.scatter(X,y)"
   ]
  },
  {
   "cell_type": "code",
   "execution_count": 21,
   "id": "8e5b5f8d-7897-4e74-b570-84c06cd4ecb7",
   "metadata": {},
   "outputs": [],
   "source": [
    "from sklearn.linear_model import LinearRegression"
   ]
  },
  {
   "cell_type": "code",
   "execution_count": 22,
   "id": "b43e0b38-01f0-48e7-a296-fc5beaed57d0",
   "metadata": {},
   "outputs": [],
   "source": [
    "model= LinearRegression(fit_intercept=True) # fit_intercept 는 절편을 맞춤 ㅣㄱ"
   ]
  },
  {
   "cell_type": "code",
   "execution_count": 23,
   "id": "ed9f6ae2-b7f9-43e3-8f83-bf5cad57df30",
   "metadata": {},
   "outputs": [
    {
     "data": {
      "text/plain": [
       "array([6.55808002])"
      ]
     },
     "execution_count": 23,
     "metadata": {},
     "output_type": "execute_result"
    }
   ],
   "source": [
    "lr= model.fit(X,y)\n",
    "lr.intercept_ # 절편 "
   ]
  },
  {
   "cell_type": "code",
   "execution_count": 24,
   "id": "f86f87a8-1ef3-439d-bf96-a7f4dca4830a",
   "metadata": {},
   "outputs": [
    {
     "data": {
      "text/plain": [
       "array([[3.96827553]])"
      ]
     },
     "execution_count": 24,
     "metadata": {},
     "output_type": "execute_result"
    }
   ],
   "source": [
    "lr.coef_ #계수 기울기..\n"
   ]
  },
  {
   "cell_type": "code",
   "execution_count": 26,
   "id": "a75855da-20fb-4236-b330-ec240244ec81",
   "metadata": {},
   "outputs": [
    {
     "data": {
      "text/plain": [
       "<matplotlib.collections.PathCollection at 0x23e9b357b50>"
      ]
     },
     "execution_count": 26,
     "metadata": {},
     "output_type": "execute_result"
    },
    {
     "data": {
      "image/png": "[encoded data removed]",
      "text/plain": [
       "<Figure size 432x288 with 1 Axes>"
      ]
     },
     "metadata": {
      "needs_background": "light"
     },
     "output_type": "display_data"
    }
   ],
   "source": [
    "np.random.seed(0)\n",
    "x=2*np.random.rand(100)\n",
    "\n",
    "y= 6+4*x+np.random.rand(100)\n",
    "\n",
    "plt.scatter(x,y)"
   ]
  },
  {
   "cell_type": "code",
   "execution_count": 33,
   "id": "1df225d7-8460-4460-a396-ea9ca10449f2",
   "metadata": {},
   "outputs": [
    {
     "data": {
      "text/plain": [
       "6.558080024157022"
      ]
     },
     "execution_count": 33,
     "metadata": {},
     "output_type": "execute_result"
    }
   ],
   "source": [
    "lr= model.fit(x.reshape(-1,1),y)\n",
    "lr.intercept_ # 절편 "
   ]
  },
  {
   "cell_type": "code",
   "execution_count": 34,
   "id": "4c00fa0a-83fd-4a52-8653-e29c34f91bf2",
   "metadata": {},
   "outputs": [
    {
     "data": {
      "text/plain": [
       "array([3.96827553])"
      ]
     },
     "execution_count": 34,
     "metadata": {},
     "output_type": "execute_result"
    }
   ],
   "source": [
    "lr.coef_"
   ]
  },
  {
   "cell_type": "code",
   "execution_count": 36,
   "id": "618ade6c-fe83-47c5-8af1-95e2b63b7d2a",
   "metadata": {
    "collapsed": true,
    "jupyter": {
     "outputs_hidden": true
    },
    "tags": []
   },
   "outputs": [
    {
     "data": {
      "text/plain": [
       "array([1.09762701, 1.43037873, 1.20552675, 1.08976637, 0.8473096 ,\n",
       "       1.29178823, 0.87517442, 1.783546  , 1.92732552, 0.76688304,\n",
       "       1.58345008, 1.05778984, 1.13608912, 1.85119328, 0.14207212,\n",
       "       0.1742586 , 0.04043679, 1.66523969, 1.5563135 , 1.7400243 ,\n",
       "       1.95723668, 1.59831713, 0.92295872, 1.56105835, 0.23654885,\n",
       "       1.27984204, 0.28670657, 1.88933783, 1.04369664, 0.82932388,\n",
       "       0.52911122, 1.54846738, 0.91230066, 1.1368679 , 0.0375796 ,\n",
       "       1.23527099, 1.22419145, 1.23386799, 1.88749616, 1.3636406 ,\n",
       "       0.7190158 , 0.87406391, 1.39526239, 0.12045094, 1.33353343,\n",
       "       1.34127574, 0.42076512, 0.2578526 , 0.6308567 , 0.72742154,\n",
       "       1.14039354, 0.87720303, 1.97674768, 0.20408962, 0.41775351,\n",
       "       0.32261904, 1.30621665, 0.50658321, 0.93262155, 0.48885118,\n",
       "       0.31793917, 0.22075028, 1.31265918, 0.2763659 , 0.39316472,\n",
       "       0.73745034, 1.64198646, 0.19420255, 1.67588981, 0.19219682,\n",
       "       1.95291893, 0.9373024 , 1.95352218, 1.20969104, 1.47852716,\n",
       "       0.07837558, 0.56561393, 0.24039312, 0.5922804 , 0.23745544,\n",
       "       0.63596636, 0.82852599, 0.12829499, 1.38494424, 1.13320291,\n",
       "       0.53077898, 1.04649611, 0.18788102, 1.15189299, 1.8585924 ,\n",
       "       0.6371379 , 1.33482076, 0.26359572, 1.43265441, 0.57881219,\n",
       "       0.36638272, 1.17302587, 0.04021509, 1.65788006, 0.00939095])"
      ]
     },
     "execution_count": 36,
     "metadata": {},
     "output_type": "execute_result"
    }
   ],
   "source": [
    "x"
   ]
  },
  {
   "cell_type": "code",
   "execution_count": 35,
   "id": "2205d808-919e-4ef2-b0f6-b11961095c8c",
   "metadata": {
    "collapsed": true,
    "jupyter": {
     "outputs_hidden": true
    },
    "tags": []
   },
   "outputs": [
    {
     "data": {
      "text/plain": [
       "array([[1.09762701],\n",
       "       [1.43037873],\n",
       "       [1.20552675],\n",
       "       [1.08976637],\n",
       "       [0.8473096 ],\n",
       "       [1.29178823],\n",
       "       [0.87517442],\n",
       "       [1.783546  ],\n",
       "       [1.92732552],\n",
       "       [0.76688304],\n",
       "       [1.58345008],\n",
       "       [1.05778984],\n",
       "       [1.13608912],\n",
       "       [1.85119328],\n",
       "       [0.14207212],\n",
       "       [0.1742586 ],\n",
       "       [0.04043679],\n",
       "       [1.66523969],\n",
       "       [1.5563135 ],\n",
       "       [1.7400243 ],\n",
       "       [1.95723668],\n",
       "       [1.59831713],\n",
       "       [0.92295872],\n",
       "       [1.56105835],\n",
       "       [0.23654885],\n",
       "       [1.27984204],\n",
       "       [0.28670657],\n",
       "       [1.88933783],\n",
       "       [1.04369664],\n",
       "       [0.82932388],\n",
       "       [0.52911122],\n",
       "       [1.54846738],\n",
       "       [0.91230066],\n",
       "       [1.1368679 ],\n",
       "       [0.0375796 ],\n",
       "       [1.23527099],\n",
       "       [1.22419145],\n",
       "       [1.23386799],\n",
       "       [1.88749616],\n",
       "       [1.3636406 ],\n",
       "       [0.7190158 ],\n",
       "       [0.87406391],\n",
       "       [1.39526239],\n",
       "       [0.12045094],\n",
       "       [1.33353343],\n",
       "       [1.34127574],\n",
       "       [0.42076512],\n",
       "       [0.2578526 ],\n",
       "       [0.6308567 ],\n",
       "       [0.72742154],\n",
       "       [1.14039354],\n",
       "       [0.87720303],\n",
       "       [1.97674768],\n",
       "       [0.20408962],\n",
       "       [0.41775351],\n",
       "       [0.32261904],\n",
       "       [1.30621665],\n",
       "       [0.50658321],\n",
       "       [0.93262155],\n",
       "       [0.48885118],\n",
       "       [0.31793917],\n",
       "       [0.22075028],\n",
       "       [1.31265918],\n",
       "       [0.2763659 ],\n",
       "       [0.39316472],\n",
       "       [0.73745034],\n",
       "       [1.64198646],\n",
       "       [0.19420255],\n",
       "       [1.67588981],\n",
       "       [0.19219682],\n",
       "       [1.95291893],\n",
       "       [0.9373024 ],\n",
       "       [1.95352218],\n",
       "       [1.20969104],\n",
       "       [1.47852716],\n",
       "       [0.07837558],\n",
       "       [0.56561393],\n",
       "       [0.24039312],\n",
       "       [0.5922804 ],\n",
       "       [0.23745544],\n",
       "       [0.63596636],\n",
       "       [0.82852599],\n",
       "       [0.12829499],\n",
       "       [1.38494424],\n",
       "       [1.13320291],\n",
       "       [0.53077898],\n",
       "       [1.04649611],\n",
       "       [0.18788102],\n",
       "       [1.15189299],\n",
       "       [1.8585924 ],\n",
       "       [0.6371379 ],\n",
       "       [1.33482076],\n",
       "       [0.26359572],\n",
       "       [1.43265441],\n",
       "       [0.57881219],\n",
       "       [0.36638272],\n",
       "       [1.17302587],\n",
       "       [0.04021509],\n",
       "       [1.65788006],\n",
       "       [0.00939095]])"
      ]
     },
     "execution_count": 35,
     "metadata": {},
     "output_type": "execute_result"
    }
   ],
   "source": [
    "x.reshape(-1,1)"
   ]
  },
  {
   "cell_type": "code",
   "execution_count": 37,
   "id": "84b88ae7-7215-4293-9541-8f9f8607fea1",
   "metadata": {
    "collapsed": true,
    "jupyter": {
     "outputs_hidden": true
    },
    "tags": []
   },
   "outputs": [
    {
     "data": {
      "text/plain": [
       "array([[1.09762701],\n",
       "       [1.43037873],\n",
       "       [1.20552675],\n",
       "       [1.08976637],\n",
       "       [0.8473096 ],\n",
       "       [1.29178823],\n",
       "       [0.87517442],\n",
       "       [1.783546  ],\n",
       "       [1.92732552],\n",
       "       [0.76688304],\n",
       "       [1.58345008],\n",
       "       [1.05778984],\n",
       "       [1.13608912],\n",
       "       [1.85119328],\n",
       "       [0.14207212],\n",
       "       [0.1742586 ],\n",
       "       [0.04043679],\n",
       "       [1.66523969],\n",
       "       [1.5563135 ],\n",
       "       [1.7400243 ],\n",
       "       [1.95723668],\n",
       "       [1.59831713],\n",
       "       [0.92295872],\n",
       "       [1.56105835],\n",
       "       [0.23654885],\n",
       "       [1.27984204],\n",
       "       [0.28670657],\n",
       "       [1.88933783],\n",
       "       [1.04369664],\n",
       "       [0.82932388],\n",
       "       [0.52911122],\n",
       "       [1.54846738],\n",
       "       [0.91230066],\n",
       "       [1.1368679 ],\n",
       "       [0.0375796 ],\n",
       "       [1.23527099],\n",
       "       [1.22419145],\n",
       "       [1.23386799],\n",
       "       [1.88749616],\n",
       "       [1.3636406 ],\n",
       "       [0.7190158 ],\n",
       "       [0.87406391],\n",
       "       [1.39526239],\n",
       "       [0.12045094],\n",
       "       [1.33353343],\n",
       "       [1.34127574],\n",
       "       [0.42076512],\n",
       "       [0.2578526 ],\n",
       "       [0.6308567 ],\n",
       "       [0.72742154],\n",
       "       [1.14039354],\n",
       "       [0.87720303],\n",
       "       [1.97674768],\n",
       "       [0.20408962],\n",
       "       [0.41775351],\n",
       "       [0.32261904],\n",
       "       [1.30621665],\n",
       "       [0.50658321],\n",
       "       [0.93262155],\n",
       "       [0.48885118],\n",
       "       [0.31793917],\n",
       "       [0.22075028],\n",
       "       [1.31265918],\n",
       "       [0.2763659 ],\n",
       "       [0.39316472],\n",
       "       [0.73745034],\n",
       "       [1.64198646],\n",
       "       [0.19420255],\n",
       "       [1.67588981],\n",
       "       [0.19219682],\n",
       "       [1.95291893],\n",
       "       [0.9373024 ],\n",
       "       [1.95352218],\n",
       "       [1.20969104],\n",
       "       [1.47852716],\n",
       "       [0.07837558],\n",
       "       [0.56561393],\n",
       "       [0.24039312],\n",
       "       [0.5922804 ],\n",
       "       [0.23745544],\n",
       "       [0.63596636],\n",
       "       [0.82852599],\n",
       "       [0.12829499],\n",
       "       [1.38494424],\n",
       "       [1.13320291],\n",
       "       [0.53077898],\n",
       "       [1.04649611],\n",
       "       [0.18788102],\n",
       "       [1.15189299],\n",
       "       [1.8585924 ],\n",
       "       [0.6371379 ],\n",
       "       [1.33482076],\n",
       "       [0.26359572],\n",
       "       [1.43265441],\n",
       "       [0.57881219],\n",
       "       [0.36638272],\n",
       "       [1.17302587],\n",
       "       [0.04021509],\n",
       "       [1.65788006],\n",
       "       [0.00939095]])"
      ]
     },
     "execution_count": 37,
     "metadata": {},
     "output_type": "execute_result"
    }
   ],
   "source": [
    "X[: np.newaxis]# 축을 하나 생성"
   ]
  },
  {
   "cell_type": "code",
   "execution_count": 38,
   "id": "ab51ae75-d41f-4634-aed6-1f926f19c896",
   "metadata": {},
   "outputs": [
    {
     "data": {
      "text/plain": [
       "(100, 1)"
      ]
     },
     "execution_count": 38,
     "metadata": {},
     "output_type": "execute_result"
    }
   ],
   "source": [
    "X[: np.newaxis].shape"
   ]
  },
  {
   "cell_type": "code",
   "execution_count": 63,
   "id": "37ed7565-49ad-41cd-9600-994cc417f4bb",
   "metadata": {},
   "outputs": [],
   "source": [
    "import seaborn as sns\n",
    "import matplotlib.pyplot as plt\n",
    "from scipy import stats\n",
    "from sklearn.datasets import load_boston\n",
    "import warnings\n",
    "warnings.filterwarnings('ignore')\n",
    "%matplotlib inline\n",
    "boston= load_boston()"
   ]
  },
  {
   "cell_type": "code",
   "execution_count": 54,
   "id": "c736b6db-00da-40de-a391-772492027d92",
   "metadata": {},
   "outputs": [],
   "source": [
    "bostonDF=pd.DataFrame(boston.data, columns=boston.feature_names)"
   ]
  },
  {
   "cell_type": "code",
   "execution_count": 55,
   "id": "08a8a2a0-bd21-4b6d-9c9d-bc64c5b6e617",
   "metadata": {},
   "outputs": [],
   "source": [
    "bostonDF['PRICE']=boston.target"
   ]
  },
  {
   "cell_type": "code",
   "execution_count": 66,
   "id": "fb1b2957-c2a3-45cc-8372-19de9a081409",
   "metadata": {},
   "outputs": [
    {
     "data": {
      "image/png": "[encoded data removed]",
      "text/plain": [
       "<Figure size 1152x576 with 8 Axes>"
      ]
     },
     "metadata": {
      "needs_background": "light"
     },
     "output_type": "display_data"
    }
   ],
   "source": [
    "#2개의 행과 4개의 열을 가진 subplots을 이용 axs는 4X2개의 ax를 가짐\n",
    "fig, axs =plt.subplots(figsize=(16,8), ncols=4, nrows=2)\n",
    "lm_features=['RM','ZN','INDUS','NOX','AGE','PTRATIO','LSTAT','RAD']\n",
    "\n",
    "for i, feature in enumerate(lm_features):\n",
    "    row=int(i/4)\n",
    "    col=i%4\n",
    "    #사본의 reglot을 이용해 산점도와 선형 회귀 직선을 함께 표현 \n",
    "    sns.regplot(x=feature, y=\"PRICE\", data=bostonDF, ax=axs[row][col])"
   ]
  },
  {
   "cell_type": "code",
   "execution_count": 58,
   "id": "5a4f2f35-2d16-43f9-9da4-a0a6b9f03cb2",
   "metadata": {},
   "outputs": [
    {
     "data": {
      "text/plain": [
       "0"
      ]
     },
     "execution_count": 58,
     "metadata": {},
     "output_type": "execute_result"
    }
   ],
   "source": [
    "int(1/4)"
   ]
  },
  {
   "cell_type": "code",
   "execution_count": 61,
   "id": "a5fdb6b7-0b86-43cd-aed5-e174332f9e8b",
   "metadata": {},
   "outputs": [
    {
     "data": {
      "text/plain": [
       "3"
      ]
     },
     "execution_count": 61,
     "metadata": {},
     "output_type": "execute_result"
    }
   ],
   "source": [
    "3%4"
   ]
  },
  {
   "cell_type": "code",
   "execution_count": 83,
   "id": "b42ce098-b057-4965-9339-ca561e3e9a18",
   "metadata": {},
   "outputs": [
    {
     "data": {
      "text/plain": [
       "LinearRegression()"
      ]
     },
     "execution_count": 83,
     "metadata": {},
     "output_type": "execute_result"
    }
   ],
   "source": [
    "from sklearn.model_selection import train_test_split\n",
    "from sklearn.linear_model import LinearRegression\n",
    "from sklearn.metrics import mean_squared_error, r2_score\n",
    "\n",
    "y_target =bostonDF['PRICE']\n",
    "X_data=bostonDF.drop(['PRICE'], axis=1, inplace=False)\n",
    "\n",
    "X_train,X_test,y_train,y_test = train_test_split(X_data, y_target, test_size=0.3, random_state=156)\n",
    "\n",
    "lr= LinearRegression()\n",
    "lr.fit(X_train, y_train)"
   ]
  },
  {
   "cell_type": "code",
   "execution_count": 84,
   "id": "5db0462e-b7ba-4c2a-8542-6667b566971e",
   "metadata": {},
   "outputs": [
    {
     "name": "stdout",
     "output_type": "stream",
     "text": [
      "17.29691590790215\n",
      "4.158956107955715\n",
      "0.7572263323138921\n"
     ]
    }
   ],
   "source": [
    "y_preds=lr.predict(X_test)\n",
    "mse= mean_squared_error(y_test, y_preds)\n",
    "rmse=np.sqrt(mse)\n",
    "print(mse)\n",
    "print(rmse)\n",
    "print(r2_score(y_test, y_preds))"
   ]
  },
  {
   "cell_type": "code",
   "execution_count": 85,
   "id": "1c238605-7270-4998-b715-7669002b0121",
   "metadata": {},
   "outputs": [
    {
     "name": "stdout",
     "output_type": "stream",
     "text": [
      "절편값: 40.995595172164336\n",
      "회귀계수값: [ -0.1   0.1   0.    3.  -19.8   3.4   0.   -1.7   0.4  -0.   -0.9   0.\n",
      "  -0.6]\n",
      "Index(['CRIM', 'ZN', 'INDUS', 'CHAS', 'NOX', 'RM', 'AGE', 'DIS', 'RAD', 'TAX',\n",
      "       'PTRATIO', 'B', 'LSTAT'],\n",
      "      dtype='object')\n"
     ]
    }
   ],
   "source": [
    "print(\"절편값:\", lr.intercept_)\n",
    "print(\"회귀계수값:\", np.round(lr.coef_, 1))\n",
    "print(X_train.columns)"
   ]
  },
  {
   "cell_type": "code",
   "execution_count": 73,
   "id": "15717075-7fef-4db0-a7b8-d41cf604453e",
   "metadata": {},
   "outputs": [
    {
     "data": {
      "text/plain": [
       "RM          3.4\n",
       "CHAS        3.0\n",
       "RAD         0.4\n",
       "ZN          0.1\n",
       "INDUS       0.0\n",
       "AGE         0.0\n",
       "TAX        -0.0\n",
       "B           0.0\n",
       "CRIM       -0.1\n",
       "LSTAT      -0.6\n",
       "PTRATIO    -0.9\n",
       "DIS        -1.7\n",
       "NOX       -19.8\n",
       "dtype: float64"
      ]
     },
     "execution_count": 73,
     "metadata": {},
     "output_type": "execute_result"
    }
   ],
   "source": [
    "coeff=pd.Series(data=np.round(lr.coef_,1), index=X_data.columns)\n",
    "coeff.sort_values(ascending=False)"
   ]
  },
  {
   "cell_type": "code",
   "execution_count": 80,
   "id": "d380740e-bcc5-446a-b89f-796f27cc64c8",
   "metadata": {},
   "outputs": [
    {
     "name": "stdout",
     "output_type": "stream",
     "text": [
      "5fold의 개별 negative mse scores [-12.46 -26.05 -33.07 -80.76 -33.31]\n",
      "5fold의 개별 RMSE scores [3.53 5.1  5.75 8.99 5.77]\n",
      "5fold의 개별 RMSE 5.829\n"
     ]
    }
   ],
   "source": [
    "from sklearn.model_selection import cross_val_score\n",
    "\n",
    "y_target= bostonDF['PRICE']\n",
    "X_data=bostonDF.drop(['PRICE'], axis=1, inplace=False)\n",
    "lr=LinearRegression()\n",
    "\n",
    "#cross_val_score로 5폴드 세트로 MSE를 구한 뒤 이를 기반으로 다시 RMSE를 구함\n",
    "# cross val은 클수록 좋음  0.8 0.9\n",
    "# mse score은 작을 수록 좋음  -0.8 -0.9\n",
    "neg_mse_scores =cross_val_score(lr, X_data, y_target, scoring=\"neg_mean_squared_error\", cv=5)\n",
    "rmse_scores=np.sqrt(-1*neg_mse_scores)\n",
    "avg_rmse=np.mean(rmse_scores)\n",
    "\n",
    "print(\"5fold의 개별 negative mse scores\", np.round(neg_mse_scores,2))\n",
    "print(\"5fold의 개별 RMSE scores\", np.round(rmse_scores,2))\n",
    "print(\"5fold의 개별 RMSE\",np.round(avg_rmse,3))"
   ]
  },
  {
   "cell_type": "code",
   "execution_count": 75,
   "id": "dba5309b-1b3f-465d-998a-c099757fbbc2",
   "metadata": {},
   "outputs": [
    {
     "data": {
      "text/plain": [
       "array([-12.46030057, -26.04862111, -33.07413798, -80.76237112,\n",
       "       -33.31360656])"
      ]
     },
     "execution_count": 75,
     "metadata": {},
     "output_type": "execute_result"
    }
   ],
   "source": [
    "w0 +w1X1+w2X2+w3X3+w4X4 다중회귀\n",
    "w0 +w1^1 +w2^2 +w3^3 +w4^4 다항회귀 # 방정식을 높임\n",
    "degree : 차수\n"
   ]
  },
  {
   "cell_type": "code",
   "execution_count": 86,
   "id": "7f4dae54-d07e-4aeb-abc1-b954262939fe",
   "metadata": {},
   "outputs": [],
   "source": [
    "from sklearn.preprocessing import PolynomialFeatures"
   ]
  },
  {
   "cell_type": "code",
   "execution_count": 87,
   "id": "78c4f795-52af-4f0c-aaf1-0847df326c46",
   "metadata": {},
   "outputs": [],
   "source": [
    "from sklearn.linear_model import LinearRegression\n",
    "from sklearn.pipeline import Pipeline"
   ]
  },
  {
   "cell_type": "code",
   "execution_count": 88,
   "id": "2650a573-628c-49a0-b078-ad11305b3e6d",
   "metadata": {},
   "outputs": [],
   "source": [
    "def polynomial_func(X):\n",
    "    y=1+2*X[:,0]+3*X[:,0]**2+4*X[:,0]**3\n",
    "    return y"
   ]
  },
  {
   "cell_type": "code",
   "execution_count": 100,
   "id": "1812d240-5299-4645-ad70-0bda563b13a6",
   "metadata": {},
   "outputs": [],
   "source": [
    "model=Pipeline([('poly', PolynomialFeatures(degree=3)), ('linear', LinearRegression())])"
   ]
  },
  {
   "cell_type": "code",
   "execution_count": 123,
   "id": "0f205b0b-83cf-4a8e-8738-08b91378d8b0",
   "metadata": {},
   "outputs": [
    {
     "data": {
      "text/plain": [
       "array([[0, 1],\n",
       "       [2, 3]])"
      ]
     },
     "execution_count": 123,
     "metadata": {},
     "output_type": "execute_result"
    }
   ],
   "source": [
    "x=np.arange(4).reshape(2,2)\n",
    "x"
   ]
  },
  {
   "cell_type": "code",
   "execution_count": 103,
   "id": "61467783-e02f-470e-816f-ae8119ff01d4",
   "metadata": {},
   "outputs": [
    {
     "data": {
      "text/plain": [
       "Pipeline(steps=[('poly', PolynomialFeatures(degree=3)),\n",
       "                ('linear', LinearRegression())])"
      ]
     },
     "execution_count": 103,
     "metadata": {},
     "output_type": "execute_result"
    }
   ],
   "source": [
    "x=np.arange(4).reshape(2,2)\n",
    "y=polynomial_func(X)\n",
    "model.fit(X,y)"
   ]
  },
  {
   "cell_type": "code",
   "execution_count": 104,
   "id": "abcf51bf-15a1-4fe9-8ae4-34a8f5d70e18",
   "metadata": {},
   "outputs": [
    {
     "data": {
      "text/plain": [
       "array([0., 2., 3., 4.])"
      ]
     },
     "execution_count": 104,
     "metadata": {},
     "output_type": "execute_result"
    }
   ],
   "source": [
    "model.named_steps['linear'].coef_"
   ]
  },
  {
   "cell_type": "code",
   "execution_count": 105,
   "id": "46fabe66-c866-42ad-b1b8-ab848ea57efc",
   "metadata": {},
   "outputs": [
    {
     "ename": "SyntaxError",
     "evalue": "invalid syntax (3194049159.py, line 1)",
     "output_type": "error",
     "traceback": [
      "\u001b[1;36m  Input \u001b[1;32mIn [105]\u001b[1;36m\u001b[0m\n\u001b[1;33m    1+2x+0x*x^2 3x^2\u001b[0m\n\u001b[1;37m       ^\u001b[0m\n\u001b[1;31mSyntaxError\u001b[0m\u001b[1;31m:\u001b[0m invalid syntax\n"
     ]
    }
   ],
   "source": [
    "1+2x+0x*x^2 3x^2\n",
    "1 2 3 4\n",
    "1 2 0 3 0 0 0 0 0 4\n",
    "\n",
    "degree : 1+()x + ()x^2\n",
    "a,b, ab, aa, bb\n",
    "\n",
    "degree : 1+()x + ()x^2+ ()x^3\n",
    "11a 11b  1ab,  aab abb aaa bbb\n",
    "\n"
   ]
  },
  {
   "cell_type": "code",
   "execution_count": 107,
   "id": "8614b381-3a92-46f7-b912-e9adede55d11",
   "metadata": {},
   "outputs": [
    {
     "data": {
      "text/plain": [
       "[<matplotlib.lines.Line2D at 0x23ea9992a00>]"
      ]
     },
     "execution_count": 107,
     "metadata": {},
     "output_type": "execute_result"
    },
    {
     "data": {
      "image/png": "[encoded data removed]",
      "text/plain": [
       "<Figure size 432x288 with 1 Axes>"
      ]
     },
     "metadata": {
      "needs_background": "light"
     },
     "output_type": "display_data"
    }
   ],
   "source": [
    "n_samples=30\n",
    "def true_fun(X):\n",
    "    return np.cos(1.5*np.pi*X)\n",
    "\n",
    "\n",
    "X=np.sort(np.random.rand(n_samples))\n",
    "y=true_fun(X)\n",
    "\n",
    "plt.plot(X,y)"
   ]
  },
  {
   "cell_type": "code",
   "execution_count": 108,
   "id": "2f15a6a6-4b48-4004-9bd3-a8fbdcf71b47",
   "metadata": {},
   "outputs": [
    {
     "ename": "SyntaxError",
     "evalue": "invalid syntax (3075446802.py, line 1)",
     "output_type": "error",
     "traceback": [
      "\u001b[1;36m  Input \u001b[1;32mIn [108]\u001b[1;36m\u001b[0m\n\u001b[1;33m    1찬 단순 편향 높다 분산이 낮다\u001b[0m\n\u001b[1;37m     ^\u001b[0m\n\u001b[1;31mSyntaxError\u001b[0m\u001b[1;31m:\u001b[0m invalid syntax\n"
     ]
    }
   ],
   "source": [
    "1찬 단순 편향 높다 분산이 낮다\n",
    "복잡한 그림은 편향 낮고 분산 높다. \n",
    "\n",
    "1234 \n",
    "12030004 - L2규제 제곱 \n",
    "L1규제 절대값 "
   ]
  },
  {
   "cell_type": "code",
   "execution_count": 109,
   "id": "1757e601-ce7f-4f49-844d-1e8798fbcdee",
   "metadata": {},
   "outputs": [],
   "source": [
    "from sklearn.linear_model import Ridge\n",
    "from sklearn.model_selection import cross_val_score\n",
    "\n",
    "ridge= Ridge(alpha=10)\n",
    "neg_mse_scores=cross_val_score(ridge, X_data, y_target, scoring=\"neg_mean_squared_error\",cv=5)\n",
    "rmse_scores=np.sqrt(-1*neg_mse_scores)\n",
    "avg_rmse=np.mean(rmse_scores)"
   ]
  },
  {
   "cell_type": "code",
   "execution_count": 110,
   "id": "405928d9-3eab-49d2-af9a-57bdaa1354f0",
   "metadata": {},
   "outputs": [
    {
     "name": "stdout",
     "output_type": "stream",
     "text": [
      "5fold의 개별 Negative MSE scores [-11.422 -24.294 -28.144 -74.599 -28.517]\n",
      "5fold의 개별 RMSE scores [3.38  4.929 5.305 8.637 5.34 ]\n",
      "5fold의 개별 RMSE 5.518\n"
     ]
    }
   ],
   "source": [
    "print(\"5fold의 개별 Negative MSE scores\", np.round(neg_mse_scores,3))\n",
    "print(\"5fold의 개별 RMSE scores\", np.round(rmse_scores,3))\n",
    "print(\"5fold의 개별 RMSE\",np.round(avg_rmse,3))"
   ]
  },
  {
   "cell_type": "code",
   "execution_count": 111,
   "id": "3b334e4c-95b7-4d76-8f54-b5506679b4be",
   "metadata": {},
   "outputs": [
    {
     "data": {
      "text/plain": [
       "4.158956107955715"
      ]
     },
     "execution_count": 111,
     "metadata": {},
     "output_type": "execute_result"
    }
   ],
   "source": [
    "alphas=[0, 0.1, 1, 10 ,100]\n",
    "\n",
    "for alpha in alphas:\n",
    "    ridge =Ridge(alpha=alpha)\n",
    "    \n",
    "    "
   ]
  },
  {
   "cell_type": "code",
   "execution_count": 119,
   "id": "93e3761c-7749-40eb-b707-b3341a5e51d7",
   "metadata": {},
   "outputs": [
    {
     "data": {
      "text/plain": [
       "5.518166280868973"
      ]
     },
     "execution_count": 119,
     "metadata": {},
     "output_type": "execute_result"
    }
   ],
   "source": [
    "from sklearn.linear_model import Lasso\n",
    "\n",
    "lasso= Lasso(alpha=10)\n",
    "neg_mse_scores=cross_val_score(ridge, X_data, y_target, scoring=\"neg_mean_squared_error\",cv=5)\n",
    "rmse_scores=np.sqrt(-1*neg_mse_scores)\n",
    "avg_rmse=np.mean(rmse_scores)\n",
    "np.mean(avg_rmse)"
   ]
  },
  {
   "cell_type": "code",
   "execution_count": null,
   "id": "6c247d40-9e09-4526-a83b-4e320b16c972",
   "metadata": {},
   "outputs": [],
   "source": [
    "학교 성적 = 0.4*공부시간 + 0.3*교수님 + 0.3*성적부여방식 이라고 한다면, \n",
    "공부시간의 중요도가 제일 높다고 할 수 있습니다. \n",
    "\n",
    "이런 식으로 미래에 대한 예측이 가능한 회귀를 선형 회귀라고 합니다. \n",
    "독립 변수가 하나면 단일 회귀, 독립 변수가 여러개면 다중 회귀가 되는 것이죠.\n",
    "회귀란 결국 미래를 예측하는 일입니다.\n",
    "분류는 1or0 / man or woman / a or b or c... 이런 식의 categorical한 값을 내놓는 반면,\n",
    "\n",
    "회귀는 0.422 / 1.341 / 10억.. / 51 만원... 이런 식의 수를 내놓게 됩니다.\n",
    "쉽게 말해, 질문이 \"야 이러이러면 이거 뭐냐?\"면 분류고 / \"야 이러이러면 얼마 나오겠냐?\" 하면\n",
    "회귀라고 생각해도 될 것 같습니다.\n",
    "회귀의 목적은 \"실제값을 최대한 정확하게 예측\"하는 것입니다. \n",
    "이 말을 좀 더 생각해보면 \"실제값과 예측값의 오차를 최대한 줄이는 것\"이라고 봐도 될 것입니다. \n",
    "[실제값-예측값의 최소화] \n",
    "근데 어떤 예측값은 실제값보다 크게(오차 : -) 예측했을 것이고 어떤 예측값은 작게(오차 : +)\n",
    "예측했을 것입니다. 이들을 단순하게 합하게 되면,,,? 서로 상쇄 돼서 정확한 오차 정도를 알 수가 없게되죠. 그래서 절댓값을 씌우거나 제곱을 하는 방식을 사용합니다. \n",
    "\n",
    "mean_absolute_error ​는 MAE를 뜻합니다. 말 그대로 각 오차값에 절댓값을 부여해서 측정한 error입니다.\n",
    "mean_squared_error 는 MSE를 뜻합니다. 마찬가지로 절댓값 대신 제곱을 씌워서 측정한 방식입니다.\n",
    "r2_score 는 R^2를 말합니다. 계량 경제학에서 배웠듯이.. 예측값의 분산과 실제값의 분산의 \n",
    "비율을 기반으로 오류를 측정합니다. 1에 가까울 수록 좋습니다.\n",
    "\n",
    "학교 성적 = a*공부시간 + b \n",
    "\n",
    "이렇게 나타낼 수 있을 것이고\n",
    "\n",
    "학교 성적 = a*공부시간^2+a'*공부시간 + b*교수님*공부시간 + c*교수님^2 + d # 제곱하면 2차방정식\n",
    "\n",
    "이렇게도 나타낼 수 있을 것입니다. \n",
    "\n",
    "\n",
    "첫번째 예시처럼 \"학교 성적을 하나의 직선으로 예측하고 봐야지!!(1차 방정식으로 나타내봐야지!)\" 하면\n",
    "\n",
    " \"단항회귀\" \n",
    "\n",
    "두번째 예시처럼 \"학교 성적을 다 차원 그래프의 결과로 볼거야!!(2차 방정식 이상으로 나타내봐야지!) \" 하면 \n",
    "\n",
    "\"다항회귀\" 입니다. \n",
    "\n",
    "이렇게 sklearn.linear_model의 LinearRegression을 import해주면 바로 단항회귀를 이용할 수 있습니다. \n",
    "사이킷런이 제공하는 모든 것이 그러하듯, 이 또한 fit, predict를 사용합니다.\n",
    "여기서 모델이 뽑아낸 직선 있죠? 그 직선의 절편과 회귀계수 (각 피쳐의 가중치)를 보고 싶다면 어떻게 하면 될까요? 다시 말해, \"(모델이 생각하는) 종속 변수를 결정하는 데 가장 크게 작용한 요인은 무엇일까요??\" \n",
    "\n",
    "먼저 절편은 lr의(위에서 생성한 LinearRegression() 객체) intercept_를 확인해보면 알 수 있습니다.\n",
    "\n",
    "\n",
    "이제 다항 회귀를 쓰는 방법을 알아보겠습니다. 사이킷런 자체적으로 다항식을 명시적으로 지원하지는 않습니다. 그래서 단항식을 다항식으로 바꿔주면서 다항식을 만들어줍니다. \n",
    "\n",
    "예를 들어,\n",
    "\n",
    "2x1+3x2\n",
    "이런 단항식이 있다고 해봅시다. 이를 2차(degree=2) 다항식으로 만들면 어떻게 될까요? 바로 이렇게 됩니다. \n",
    "2x1+3x2+4x1^2+6x1x2+9x2^2\n",
    "\n",
    "즉, 피쳐가 x1, x2 두개로만 표현됐던 것이 x1, x2, x1^2, x1x2 ,x2^2  이렇게 5개로 불어났습니다. \n",
    "\n",
    "그럼 만약 3차로 하면 어떻게 될까요?\n",
    "2x1+3x2+4x1^2+6x1x2+9x2^2 +8x1^3+12x1^2x2+18x1x2^2+27x2^3\n",
    "이렇게 9개의 변수로 표현할 수 있게 됩니다.\n",
    "단항식을 다항식으표현함으로써 회귀 계수 또한 기존보다 다채롭게 도출 될 수 있는 것이죠!! \n",
    "어떻게 보면, 더 데이터를 잘 표현할 수 있게 되는 것이죠.\n",
    "우리가 어떤 사람을 묘사할 때도.. \n",
    "\n",
    "\"아 걔는 머리가 길어\" 로 묘사하는 거보다\n",
    "\"아 걔는 머리가 무릎까지 내려오고, 눈이 탁구공만하고, 눈동자는 갈색이야.\" \n",
    "이런 식으로 다양한 feature로 표현하는 게 데이터를 좀 더 잘 표현하듯이 말입니다 !! \n",
    "\n",
    "어쨌든 이러한 다항식을 만들어 주기 위해...  원래는 이 과정을 하나하나 해줬어야 했지만 \n",
    "사이킷런은 Pipeline이라는 객체를 제공합니다.\n",
    "위의 PolynomialFeatures는 단항식을 다항식으로 변환해주는 클래스입니다. \n",
    "그 밑에는 위에서 보셨던 단항식 Regression이구요.\n",
    "이렇게 만들어진 객체(model)에 대해 fit을 해주기만 하면 끝납니다. \n",
    "이때 회귀 계수를 확인하고 싶으시다면\n",
    "tra_model.named_steps['linear'].coef_ 를 해주시면 됩니다! ! ! ! \n",
    "\n",
    "과소적합(Underfitting)은 훈련이 너무 덜 된 것이고,\n",
    "\n",
    "과적합(Overfitting)은 훈련이 너무 과하게 된 것입니다.\n",
    "\n",
    "이름에서도 충분히 유추가 가능하시죠? ㅎㅎ 과소 적합인 경우엔.. 그냥 단순히 훈련을 더 시키거나 분류 기준을 더 세밀하게 하도록 지시하면 되겠지만.. 오버피팅은 어떻게 극복할 수 있을까요? \n",
    "\n",
    "수능 시험을 잘 보기 위해 내신 \"내신 기출시험\"으로 준비를 해본다고 합시다.\n",
    "\n",
    "근데 어느 순간이 지나면, 즉, 내신 시험에만 익숙한 상태가 돼버리면 막상 수능 점수는 더 올라가지 않고\n",
    "내려간다는 겁니다. 내신에만 너무 익숙하다보니, 정작 수능을 볼 때 제 실력을 발휘하지 못하는 것이죠.\n",
    "\n",
    "다시 데이터로 오면 학습 데이터에만 너무 많이 익숙해진 나머지, \n",
    "낯선 데이터인 test데이터가 왔을 때 train 성능 보다 test 성능이 현저하게 낮아지는 것을 말합니다. \n",
    "\n",
    "이렇게 데이터를 구분하는 모델을 만들었을 때,\n",
    "\n",
    "과소적합된 경우에는 어느 정도 구분하긴 하지만 잘 구분한다고 하기엔 오류가 너무 많습니다.\n",
    "\n",
    "반대로 과적합(Overfitting)된 경우엔 데이터를 너무 과하게 구분해서 저런 구분선을 만들었죠.\n",
    "그럼 현재 저 데이터에서는 성능이 잘 나올 수 있으나, 다른 데이터 분포로 가게되면 오히려 성능이\n",
    "떨어지게 되는 것이죠. \n",
    "\n",
    "\n",
    "위에서, 모델에 대한 성능은 실제값과 예상값의 차이, 즉, loss가 얼마나 작냐에 따라 달려있다고 \n",
    "위에서 말씀드렸습니다. \n",
    "그림은 x축이 반복수(모의고사를 몇번 돌렸는가?) y축이 loss값인 그래프입니다. \n",
    "\n",
    "보시면 아실 수 있듯이, train set에 대한 loss는 학습이 진행되면 진행 될 수록 점차 낮아지는\n",
    "모습을 보입니다. \n",
    "그러나 validation set에 대한 loss는 함께 낮아지다가 갑자기 쭉 올라가는 모습을 보이죠!! \n",
    "이 부분이 바로 너무 학습에만 모델이 치중되다 보니 실전에서 오히려 약한 모습을 보이는\n",
    "구간이라고 할 수 있습니다. 저기 사진에 표시된 \"Sweet Spot\"이라고 된 지점,\n",
    "바로 골디락스 지점이 우리가 찾아야 하는 지점인 것입니다.\n",
    "\n",
    "너무 훈련이 안 되어있지도 않고, 그렇다고 과하게 훈련되지 않아서 실제 데이터에 적용해도 적절한 모델.\n",
    "즉, 최적의 성능을 뽑아낼 수 있는 지점입니다. 우리는 바로 저 지점을 찾을 필요가 있는 것이죠.\n",
    "\n",
    "과적합과 과소적합을 이해할 때 필요한 개념이 있습니다. 바로 편향-분산의 Trade off 관계입니다. \n",
    "\n",
    "과소적합의 경우, 모델이 한 방향으로만 치우쳐진 모습을 보실 수 있습니다.\n",
    "모델(구분선)이 데이터들을 구분하기 위해 크게 와리가리 이동을 안 한다는 의미죠.\n",
    "이렇게 한 방향으로 치우지는 정도를 바로 편향(Bias)라고 합니다. \n",
    "와리가리 하는 정도를 분산(Variance)이라고 하구요. \n",
    "(분산의 경우 그래서 모델이 통과하거나 분류한 데이터들의 분포가 크다고 하는 게 더 맞는 표현인듯 합니다.)\n",
    "\n",
    "\n",
    "그럼 과소 적합의 경우 높은 편향, 낮은 분산을 가지고 있다고 볼 수 있고,\n",
    "\n",
    "반대로, 과대적합의 경우, 모델이 데이터를 아주 정확하게 분류하기 위해 \n",
    "와리가리 요리조리 하는 것을 보실 수 있습니다. 이 경우 편향이 매우 작고, \n",
    "분산은 매우 크다고 할 수 있겠습니다. \n",
    "\n",
    "\n",
    "그럼 눈치 빠르신 분들은 이런 얘기를 할 수 있을 겁니다. \"어? 그럼 둘이 서로 반비례 할 수밖에 없는 관계\n",
    "아닌가?\"\n",
    "\n",
    "오 맞아요 정답입니다! 그\n",
    "래서 최적의 모델을 찾는다는 것은 Bias와 Variance 이 둘의 Trade off 관계를\n",
    "적절히 활용하여 Bias와 Variance가 같아지는 지점을 찾는 것과 같은 말입니다.\n",
    "\n",
    "Bias가 높고 Variance가 낮으면 과소적합,\n",
    "반대로 Bias가 낮고 Variance가 높으면 과적합, 둘 다 높으면 노답.\n",
    "\n",
    "킄... \n"
   ]
  },
  {
   "cell_type": "code",
   "execution_count": null,
   "id": "5018fc88-3abd-4080-a997-4619b6bdc0aa",
   "metadata": {},
   "outputs": [],
   "source": [
    "지난 포스팅에서 우리는 편향-분산의 관계에 대해 알아봤습니다. \n",
    "데이터를 대충 단항식으로 표현하려고 하면 오류가 매우 커지지만 회귀 계수는 낮게 나왔고,\n",
    "너무 잘 표현하려고 하면 다항식의 차수가 그만큼 높아지고, \n",
    "회귀 계수 또한 그만큼 커지는 것을 확인할 수 있었습니다. \n",
    "\n",
    "회귀 계수가 커지면 뭐가 문제일까요? 위에서 말했듯이, 회\n",
    "귀 계수가 커지면 데이터를 너무 과하게 잘 표현하려고 한다는 것이고, \n",
    "문제는 그 표현하려고 하는 데이터가 실전 데이터가 아닌 \"학습용\"데이터에 불과 하다는 것이죠.\n",
    "즉, 연습문제 특화형 모델이 되어버린다는 것입니다. 지난 시간 과적합에 대한 내용입니다. \n",
    "\n",
    "그럼, loss는 최대한 낮추되, 또 너무 잘 표현하게는 못하게 해야\n",
    "\"적절한\" 모델을 만들 수 있다는 것을 의미한다는 것을 쉽게 유추할 수 있습니다. \n",
    "\n",
    "뭐든 적당히가 제일 어렵다고 하던데... \n",
    "어떻게 적당히 모델을 규제하면서 적당히 loss를 줄일 수 있을까요? \n",
    "바로 규제(Regularization)를 통해 찾습니다.\n",
    "\n",
    "\n",
    "우리의 목표는 이제 하나가 더 추가됐습니다.\n",
    "기존은 단순하게 loss를 줄이는 것만이 목표였다면.\n",
    "이젠 회귀계수의 크기까지 적절하게 제어시켜야 합니다. 이해를 돕기 위해, \n",
    "지난 시간에 봤던 식을 다시 한번 가져오겠습니다.\n",
    "\n",
    "\n",
    "기억 나시나요? 우리의 목표는 위의 RSS를 최소화 시키는 것이었습니다. 위의 식을 단순하게 \n",
    "Min(RSS(W))​\n",
    "로 나타내겠습니다. RSS를 최소화 시키는 w를 찾는 것이 바로 목표였죠. \n",
    "\n",
    "하나 더 추가된 목표는 이 회귀 계수의 크기를 제어해야합니다. 이는 이렇게 나타낼 수 있습니다. \n",
    "\n",
    "Min(Rss(W)+alpha·||W||^2 )/  W 회귀계수\n",
    "\n",
    "이렇게 말이죠! 뒤에 alpha랑 W옆에 붙어있는 것들이 뭐길래 이것만으로 설명이 가능하다고 하는 걸까요? \n",
    "\n",
    "W오른쪽에 붙어있는 ^2와 _2는 잠시 후에 알아보는 것으로 하고, 왼쪽에 있는 alpha부터 말씀 드리겠습니다.\n",
    "\n",
    "\n",
    "우리의 목표는 RSS(W)와 alpha*W의 값을 최소화 시키는 것입니다. \n",
    "그럼 알파가 커지면? 어떻게 해야 이 둘의 합을 최소화 시킬 수 있을까요? 맞습니다.\n",
    "바로 W를 그만큼 줄여야합니다.\n",
    "알파가 커질수록 W를 줄여야 위의 식을 최소화 시킬 수 있는 것이죠.\n",
    "반대로 알파가 작아질수록 W가 마음대로 날뛰어도 그냥 그대로 나오는 겁니다. \n",
    "정리하면, 알파는 회귀계수에 대한 패널티라고 볼 수 있습니다. \n",
    "\n",
    "이제 왼쪽에 붙어있는 친구는 뭔지 알겠고 오른쪽에 있는 건 뭔 말이냐구요? \n",
    "\n",
    "알기 위해선, 릿지(Lidge)회귀와 라쏘(Lasso)회귀에 대해서 아셔야 합니다. \n",
    "\n",
    "릿지 회귀는 W에 제곱한 것에 대해 패널티를 부여하는 방식입니다\n",
    "L2규제라고도 부릅니다. 그래서 릿지 회귀를 타나내게 된다면\n",
    "\n",
    "    \n",
    "라쏘 회귀는 W의 절댓값에 대해 패널티를 부여하는 방식입니다. L1규제라고도 부릅니다. 식으로 나타내면\n",
    "Min(Rss(W)+alpha·||W||)\n",
    "\n",
    "그럼 릿지와 라쏘의 차이점은 제곱이냐 절댓값이냐 그 차이밖에 없을까요? \n",
    "매우 큰 차이가 하나 존재합니다. 바로 라쏘는 딱히 크지 않은 회귀 계수를 0으로 만들어버린다는 것이죠!! \n",
    "즉, 딱 봤을 때 뭐야 얘는 있으나 마나인데? 하면 바로 삭제를 해버린다는 것입니다.\n",
    "이 때문에 feature가 자동적으로 선택되는 특징을 가집니다. \n",
    "차원이 매우 높을 때(=feature가 매우 많을 때, 변수가 매우 많을 때) 유용하게 쓰인다고 합니다.\n",
    "이 부분은 나중에 PCA와 함께 다룰 예정입니다!! \n",
    "\n",
    "    \n",
    "릿지 회귀와 라쏘 회귀를 결합한 것이 바로\n",
    "엘라스틱넷 (Elastic Net)회귀 입니다. \n",
    "위에서 라쏘 회귀는 중요한 feature만을 남기고 나머지\n",
    "feature의 회귀계수를 0으로 만들어버린다고 했습니다. 근데 이러면 문제가 하나 발생합니다.\n",
    "이러는 경우, 알파 값이 바뀌면, \n",
    "기존에 회귀 계수 값이 0이었던 것이 회귀계수가 확 늘어버린다든가,\n",
    "반대로 있던 것이 갑자기 없어지는 경우가 발생하면 데이터를 표현할 때 어려움이 따를 수가 있다는 것이죠. \n",
    "이러한 문제점을 완화시키기 위해 라쏘 회귀에다가 릿지 회귀를 결헙한 것이 바로 엘라스틱 넷 회귀입니다.\n",
    "Min(Rss(W)+alpha1·||W||^2+alpha2·||W||\n",
    "    \n",
    "    \n",
    "로지스틱 회귀는 사실 꽤나 익숙하실 겁니다. 앞에서 했던 분류에서 상당히 많이 다뤘던 모델이거든요 ㅎㅎ\n",
    "분류에서 자주 쓰이는 이유가 로지스틱 회귀라는 것이 결국 선형회귀를 통해 분류를 해보자!\n",
    "라는 것이거든요!! 한번 어떻게 사용되길래, 그 원리는 무엇이길래 분류에까지 쓰일 수 있는 걸까요?\n",
    "\n",
    "우리가 어떤 환자에게 종양이 있을 때 악성인지 아닌지를 판단하는 모델을 만들어야 한다고 생각해봅시다. \n",
    "이걸 회귀로 만들어보려면 어떻게 해야할까요? \n",
    "종양이 악성이면1, 아니면 0 으로 분류가 가능하므로 이진 분류에 해당하는 문제라고 할 수 있겠습니다.\n",
    "categorical한 데이터를 분류해야하는 문제죠. \n",
    "\n",
    "\n",
    "여기 y축은 종양의 유무를, x축은 종양의 크기를 나타내는 그래프가 있다고 해봅시다\n",
    "종양의 크기가 클 수록 악성 종양 쪽에 분포가 더 많이 되어있는 모습입니다. \n",
    "이걸 단순하게 회귀로 나타내보려면 어떻게 해야할까요?\n",
    "\n",
    "이렇게 분류하면 좀 더 잘 분류할 수 있지 않을까요?\n",
    "\n",
    "이렇듯, 사회현상을 분석하다보면, 그 모양이 대부분 S자의 모양을 띈 경우가 많다고 합니다.\n",
    "이 s자 모양의 함수를 바로 시그모이드 함수라고 합니다. \n",
    "\n",
    "그래서 (저는) 로지스틱 회귀하면 가장 먼저 떠오르는 함수가 바로 시그모이드(Sigmoid) 함수 입니다. \n",
    "선형회귀 방식을 기반으로 하되, 시그모이드 함수를 통해 분류를 진행하는 것이 \n",
    "바로 로지스틱 회귀이기 때문입니다. \n",
    "\n",
    "시그모이드 함수는 이렇게 생겼습니다. \n",
    "보시는 바와 같이, x는 어떤 수라도 들어올 수 있지만 그 값은 무조건 0과 1사이에 들어오도록 되어있습니다. 어? 이러면 뭔가 감이 오지 않나요? \n",
    "\n",
    "바로 확률밀도 함수로 생각해볼 수도 있다는 생각 !\n",
    "들어온 x값이 1일 확률이 특정 임계를 넘으면 1로 분류하고, \n",
    "아니면 0으로 분류하는 그런 작동 방식으로 생각해볼 수 있겠습니다. \n",
    "임곗값(thresh hold)는 보통 0.5 이지만 데이터의 분포나 어떤 데이터인지에 따라 임곗값을 \n",
    "조종해준다고 합니다.\n",
    "\n",
    "    \n",
    "우리가 분류에서 사용했던 트리를 이용해서 이걸 회귀에 그대로 한번 적용시켜보자!\n",
    "해서 만든 것이 바로 회귀트리 입니다. 애초에 트리에 사용되는 알고리즘인\n",
    "CART(Classification And Regression Trees)가 분류와 회귀 모두 가능하기 때문에 애초에\n",
    "순서는 의미 없겠네요.\n",
    "아무튼 CART알고리즘은 우리가 분류 때 봤던 방식으로 분류하는 것을 말합니다.\n",
    "불평등한 정도를 나타내는 지니계수가 작은 곳으로, 정보 혼잡도가 낮은 정도를 나타내는 \n",
    "정보이득이 높은 방향으로 데이터들을 분류하고 끝에 나오는 leaf nodes에 대해 labeling을 했습니다.\n",
    "바로 여기서!! 회귀 트리와 분류 트리의 차이가 드러납니다. \n",
    "분류 트리는 마지막 결론을  \"아~ 이건 그래서 요거구나!\"를 했지만 \n",
    "회귀 트리는  \"아~ 이것들은 평균값이 이렇게구만!\"을 결론으로 내놓습니다.\n",
    "\n",
    "그런 다음, 여기서가 중요한데, 레이블을 기존엔 class로 할당 했다면(아 이건 이거네!), \n",
    "여기선 구분된 데이터끼리의 평균값을 레이블로 할당한다는 것입니다(아 얘네 평균 이거네!). \n",
    "즉, 모델의 예측값이 평균값이 되는 것이죠. 아래 그림으로 나타내면,\n",
    "\n",
    "이렇게 분류된 데이터들의 평균값을 구할 수가 있다는 것이죠. 그림의 주황색 선이 바로 평균값입니다. (이것도 제가 대충 그은 겁니다 ㅎㅎ)\n",
    "아무튼 이렇게 그어진 평균값을 예측값으로 가져갑니다. \n",
    "이런 회귀 방식은 우리가 기존에 했던 W 값을 조정함으로써 loss를 최소화 시키는 전략과는 달라보입니다.\n",
    "그래서 우리는 이런 회귀 방식을 \"비선형 회귀\" 라고 부릅니다. \n",
    "비선형이라 그런지 예측 결과도 되게 똒딲똒딲 하게 나옵니다! 한번 보시면... \n",
    "\n",
    "과적합 취약   한번 예상해보면 데이터 하나하나를 분류하느라 (트리의 깊이가 매우 깊은 것이겠죠?)\n",
    "평균 값도 데이터 하나하나에 할당이 될 것이고, 그에 따라 학습 데이터 전부를 포괄하려고 할 것입니다.\n"
   ]
  },
  {
   "cell_type": "code",
   "execution_count": null,
   "id": "2a657ad6-89fd-4de4-92bf-afdc979c6bae",
   "metadata": {},
   "outputs": [],
   "source": [
    "이때 학습률 파라미터는 적절한 값으로 사용자가 설정해줘야한다. \n",
    "학습률이 너무 작으면 최적의 w를 찾아가는데 너무 오래 걸릴 가능성이 크고, \n",
    "너무 크면 최적의 지점을 건너뛰어 버리고 발산해버릴 수도 있다. \n",
    "\n",
    "비용함수를 w에 대해 편미분하면 현재 w 위치에서 접선의 기울기와 같다. \n",
    "이 예제에서는 음수값을 갖는다. 학습률은 양수인 실수이므로 원래 w값에서\n",
    "어떤 크기의 음수만큼 빼주게 된다. 즉, 더하게 된다. 결국 w값이 커진다(오른쪽으로 이동).\n",
    "새롭게 갱신된 w에 대해서 이 공식2의 과정을 반복하면 최적의 w값을 찾을 수 있게 된다(그림6 참고). \n",
    "\n",
    "이것이 바로 경사감소법이다. 왜냐하면 점차 접선의 경사가 감소하기 때문이다. 접선의 기울기의 절대값이 0이 될때가 최적의 w값이 된다.\n",
    "\n",
    "째, 우리는 여기서 w1 값이 움직여야 할 방향은 알지만 얼마나 움직여야 하는지에\n",
    "대해서는 전혀 모른다는 엄연한 현실을 인지하게 됩니다. 하지만 하나의 단서가 있습니다.\n",
    "많은 경우 편도함수값의 절대값이 매우 크다면 편도함수를 0으로 만들어주는 w1 값은 상대적으로\n",
    "멀리 떨어져 있을 것이고 매우 작다면 상당히 가까운 곳에 있을 것이라고 합리적으로 추론은 할 수 있습니다.\n",
    "\n",
    "째, 이제는 그 비례의 정도, 즉 학습률을 정할 단계입니다. 이제 정말 막막합니다. 이는 그야말로 통밥으로 정하는 수밖에 없습니다. 조심스럽게 조금씩 움직이는 것이 그나마 안전한 선택처럼 느껴집니다. \n",
    "예컨대, 0.05는 어떨까요? 그렇다면 그 다음 시도해야 할 w1 값은 [-7-{(-3.7)x0.05}]인 -6.815입니다. "
   ]
  },
  {
   "cell_type": "code",
   "execution_count": null,
   "id": "6f71ce25-d44e-4845-857f-7baca59ce976",
   "metadata": {},
   "outputs": [],
   "source": [
    " Gradient(경사하강법)가 무엇인지 알아야합니다. 공대생 이시거나.. 회귀를 배우신 분이면 꽤나 익숙한 개념일 것이라고 생각합니다.\n",
    "제가 생각하기엔.. 오차를 줄이기 위해 노가다 하는 거랑 별 다를 바가 없습니다. 어차피 사람이 계산하는 거 아니니 컴퓨터 한테 시킨 느낌이.. 좀 쌔죠 ㅋㅋㅋ \n",
    "일단 경사하강법을 알기 전에, 비용함수, 즉, loss function을 어떻게 생각하는지를 알아야합니다. \n",
    "loss function을 구하는 방법은 너무나도 간단합니다.\n",
    "회귀를 떠올리면...\n",
    "이런 식으로 데이터들이 분포 했다고 합시다. \n",
    "그럼 우리는 x(독립 변수)와 y(종속 변수)에 대해 관계를 알아내기 위해 하나의 선을 대~~ 충 \n",
    "아무거나 찍 그었다고 해봅시다. 그럼..\n",
    "이런 식으로 나올 텐데.. 그럼 저기 분포하고 있는 실제값들(점)이랑 우리가 예상한 선과의 \n",
    "차이가 있지 않겠습니까? 그 차이가 바로 loss 입니다. 저렇게 검정색으로 표현된 만큼, \n",
    "실제 값과 우리가 예측한 값이 차이가 있다는 것이죠. 그럼 각 점마다 이렇게 차이가 나는\n",
    "오류의 \"합\"을 최소화할 수 있는 선을 그을 수만 있다면? 그럼 그 선이 두 변수의 관계를\n",
    "잘 예측해줄 수 있는 선이 되지 않을까요? 맞습니다. \n",
    "우리는 이제 loss의 합이 가장 작아지게 하는 방법을 알아볼 것입니다. \n",
    "그럼, 저 선을 우리는 식으로 어떻게 나타낼 수 있을까요? 1차 함수니까 뭐 ax+b\n",
    "loss=실제값−y\n",
    "각 loss의 합은 ∑(실제값−y)\n",
    "이 되겠죠? 근데 이 loss가 또 음수 양수 각각 나와버리면 크기를 정확하게 측정하기 어려우니까제곱해줍시다. 그런 다음 평균을 내주기 위해 n으로 나눠주면 우리가 원하는 각 값들의 loss값 합이 나오겠죠?\n",
    "RSS= 1/n*∑(실제값−y)^2\n",
    "    \n",
    "그럼 결과적으로 이렇게 나오게 되는 것입니다. 이걸 좀 있어보이게 RSS라고 말하는 것이구요! \n",
    "우리의 목적은 저 밑에 있는 저 지점을 찾으면 됩니다. \n",
    "그럼 어떻게 찾을가요? 진짜 노가다 그 자체를 합니다. 변수 값에다가 접선의 기울기를 빼주는 것이죠\n",
    "저렇게 접선의 기울기가 - 이면,\n",
    "변수값 - 기울기는 양수로 갑니다. 아래로 내려감  네, 오른쪽으로 가게 되는 것이죠. \n",
    "그럼 접선의 기울기가 +인 경우는요? 아래로 내려감 음수방향\n",
    "기울기가 작은 부분엔 쪼금씩 이동하다가 기울기가 큰 중간 부분에선 크게크게 이동하는 게 보이시나요?\n",
    "이런 원리로 최소점을 찾는 방법을 Gradient(경사하강)법이라고 합니다!\n",
    "왜 경사하강법인지 알 거 같지 않나요? ㅎㅎ \n",
    "\n",
    "​"
   ]
  }
 ],
 "metadata": {
  "kernelspec": {
   "display_name": "Python 3 (ipykernel)",
   "language": "python",
   "name": "python3"
  },
  "language_info": {
   "codemirror_mode": {
    "name": "ipython",
    "version": 3
   },
   "file_extension": ".py",
   "mimetype": "text/x-python",
   "name": "python",
   "nbconvert_exporter": "python",
   "pygments_lexer": "ipython3",
   "version": "3.9.12"
  }
 },
 "nbformat": 4,
 "nbformat_minor": 5
}
