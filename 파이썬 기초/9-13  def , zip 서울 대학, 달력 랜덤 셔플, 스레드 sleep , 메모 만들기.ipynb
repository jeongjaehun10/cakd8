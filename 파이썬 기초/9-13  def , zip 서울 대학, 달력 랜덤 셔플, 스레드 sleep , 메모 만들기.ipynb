{
 "cells": [
  {
   "cell_type": "markdown",
   "id": "dabcbcba-f73a-4394-8d03-ce1d4e1e6caf",
   "metadata": {},
   "source": [
    "# 정리"
   ]
  },
  {
   "cell_type": "code",
   "execution_count": null,
   "id": "5f828bb3-6719-43ec-abe0-480ea6456f4e",
   "metadata": {},
   "outputs": [],
   "source": [
    "num = [1,6,99,3,28,8,9,12,56,17,284]\n",
    "\n",
    "list(filter(lambda a: a%2==0, num)) #a%2==0인걸 필터해라 lambda에서\n",
    "if __name__==\"__main__\": 은 해당 모듈에서만 실행 \n",
    "import 당했을 때 실행하지 않기 위해 사용 \n",
    "__name__ 이라는 변수값이 __main__ 이라면 실행? \n",
    "class Clothes:\n",
    "    def __init__(self,color,fit):\n",
    "        self.color = color\n",
    "        self.fit = fit\n",
    "        \n",
    "    def target(self,age, gender):\n",
    "        if age <= 5:\n",
    "            self.age = \"baby\"\n",
    "        elif age <= 13:\n",
    "            self.age = 'kids'\n",
    "        elif gender == 'female':\n",
    "             self.gender = 'women'\n",
    "        elif gender == 'men':\n",
    "             self.gender = 'men' \n",
    "                \n",
    "class Clothes :\n",
    "    def __init__(self, color, fit) :\n",
    "        self.color = color\n",
    "        self.fit= fit\n",
    "    def target(self, age, gender) :\n",
    "        self.age = age\n",
    "        self.gender = gender\n",
    "        result = \"\"\n",
    "        if age <= 5 :\n",
    "            result = \"baby\"\n",
    "        elif 5 < age <= 13 :\n",
    "            result = \"kids\"\n",
    "        elif 14 <= age :\n",
    "            if gender == \"female\" :\n",
    "                result = \"women\"\n",
    "            elif gender == \"male\" :\n",
    "                result == \"men\"\n",
    "        return result \n",
    "    \n",
    "a = Clothes(\"green\", \"fat\")\n",
    "a.target(22, \"female\")\n",
    "\n",
    "class Clothes2(Clothes):\n",
    "    def __init__(self,color,fit,season): # 부모변수 + 추가변수\n",
    "        super().__init__(color,fit)# 부모변수\n",
    "        self.season = season \n",
    "        \n",
    "hex(234) #16진수로 바꿔줌 \n",
    "16진수: 1   1 - 한묶음에는 16개\n",
    "16진수 : 1  1  10진수로 17개 \n",
    "16진수 : f   f  15*16+15 =255\n",
    "16진수 2  a = 2*16 + 10=42\n",
    "\n",
    "map(함수, iterable순환 가능한)\n",
    "map은 하나하나 터치해주는 \n",
    "1대1 대응\n",
    "for i in 순환가능한 \n",
    "대표적으로 list가 있음 \n",
    "pow(2,4) # 2의 4제곱\n",
    "\n",
    "list(zip([1, 2, 3], [4, 5, 6]))\n",
    "    \n",
    "for i in zip([1, 2, 3], [4, 5, 6], ['a', 'b', 'c']):\n",
    "    print(i)        \\\n",
    "df=pd.read_excel(\"서울지역대학교위치.xlsx\")\n",
    "df\n",
    "import pickle\n",
    "with open(\"test.pickle\", \"wb\") as f: # 객체의 형태를 그대로 유지하면소 \n",
    "    pickle.dump(df, f) #파일에 저장하고 불러옴 dump는 파일 저장 \n",
    "    \n",
    "import calendar   \n",
    "\n",
    "data=[1,3,2]\n",
    "random.shuffle(data)\n",
    "data\n",
    "\n",
    "import time\n",
    "\n",
    "def long_task():\n",
    "    for i in range(5):\n",
    "        time.sleep(1)\n",
    "        print(\"working: %s\" %i) # %s 문자열 안에 변수 넣어줄떄 옆에 변수이름 씀  \n",
    "print(\"start\") # 문자열 변수 %s자리에 변수인 %i가 들어감  \n",
    "\n",
    "import threading\n",
    "def long_task():\n",
    "    for i in range(5):\n",
    "        time.sleep(1)\n",
    "        print(\"working: %s\" %i)\n",
    "print(\"start\")        \n",
    "\n",
    "threads = [] \n",
    "for i in range(5):\n",
    "    t = threading.Thread(target = long_task) # 스레드 생성한다.\n",
    "    threads.append(t)\n",
    "    \n",
    "for t in threads:\n",
    "    t.start() #스레드 실행한다. \n",
    "for t in threads:\n",
    "    t.join() # 스레드 기다린다. \n",
    "    \n",
    "print(\"End\") \n",
    "\n",
    "\n",
    "def getTotalPage(m,n):\n",
    "     if m % n == 0:\n",
    "        return m // n # 나머지가 0일때는  몫을 그대로 써줌 \n",
    "     else:\n",
    "        return m // n + 1 # 나머지가 0이 아니면 몫에다 1을 더해야함 15페이지를 10으로\n",
    "    #나누면 몫은 1이니 +1 을 더함\n",
    "    \n",
    "import sys\n",
    "import glob\n",
    "import os\n",
    "\n",
    "with open('memo.txt',sys.argv[1][1]) as f:\n",
    "     f.write(sys.argv[2]+'\\n')     \n",
    "f = open('memo.py', 'w') 처음에 빈파일을 만든다.\n",
    "f.close()\n",
    "\n",
    "\n",
    "\n",
    "import sys\n",
    "\n",
    "option = sys.argv[1]\n",
    "#memo = sys.argv[2]\n",
    "\n",
    "if option == '-a':\n",
    "    memo = sys.argv[2]\n",
    "    f =open('memo.txt', 'a', encoding = 'utf-8')\n",
    "    f.write(memo)\n",
    "    f.write('\\n')\n",
    "    f.close()\n",
    "    \n",
    "#python memo.py -a \"Life is too short\" 옵셥 a는 텍스트 파일을 만들어 준다. \n",
    "#python memo.py -a \"You need python\"  \n",
    "#argv0은 memo.py이고 argv1은 -a이고 argv2는 라이프~이다. \n",
    "\n",
    "elif option == '-v': # 옵션 v는 파일을 읽어준다. \n",
    "    f =open('memo.txt', 'r', encoding = 'utf-8')\n",
    "    memo=f.readlines()\n",
    "    print(memo)  \n",
    "    f.close()\n",
    "    \n",
    "#print(option)\n",
    "#print(memo)    "
   ]
  },
  {
   "cell_type": "code",
   "execution_count": 1,
   "id": "beb3db60-b57d-41a0-928a-b671f78416e3",
   "metadata": {},
   "outputs": [
    {
     "name": "stdout",
     "output_type": "stream",
     "text": [
      "Object `무엇인가` not found.\n",
      "Object `개수는` not found.\n"
     ]
    }
   ],
   "source": [
    "내장함수란 무엇인가?\n",
    "내장함수 개수는?"
   ]
  },
  {
   "cell_type": "code",
   "execution_count": 3,
   "id": "837cc503-6977-4d81-af77-e2bf739f06fb",
   "metadata": {},
   "outputs": [
    {
     "ename": "SyntaxError",
     "evalue": "invalid syntax (2423291822.py, line 1)",
     "output_type": "error",
     "traceback": [
      "\u001b[1;36m  Input \u001b[1;32mIn [3]\u001b[1;36m\u001b[0m\n\u001b[1;33m    dir(__builtin__). # 내장함수 갯수\u001b[0m\n\u001b[1;37m                      ^\u001b[0m\n\u001b[1;31mSyntaxError\u001b[0m\u001b[1;31m:\u001b[0m invalid syntax\n"
     ]
    }
   ],
   "source": [
    "dir(__builtin__). # 내장함수 갯수 "
   ]
  },
  {
   "cell_type": "code",
   "execution_count": 9,
   "id": "adc157de-4206-4dc6-8bd8-496883c9ce54",
   "metadata": {},
   "outputs": [
    {
     "name": "stdout",
     "output_type": "stream",
     "text": [
      "(0, 'a')\n",
      "(1, 'b')\n",
      "(2, 'c')\n"
     ]
    }
   ],
   "source": [
    "a= ['a','b','c']\n",
    "for i in enumerate(a):\n",
    "    print(i)"
   ]
  },
  {
   "cell_type": "code",
   "execution_count": 10,
   "id": "a7fc20f2-ad11-4ef8-9842-1e942e7c1191",
   "metadata": {},
   "outputs": [
    {
     "name": "stdout",
     "output_type": "stream",
     "text": [
      "1 a\n",
      "2 b\n",
      "3 c\n"
     ]
    }
   ],
   "source": [
    "a = ['a', 'b', 'c']\n",
    "for i, j in enumerate(a):\n",
    "    print(i+1, j) "
   ]
  },
  {
   "cell_type": "code",
   "execution_count": 11,
   "id": "974151e1-f047-48ea-844c-6775916a1b8d",
   "metadata": {},
   "outputs": [
    {
     "name": "stdout",
     "output_type": "stream",
     "text": [
      "{'a': 1, 'b': 2, 'c': 3}\n"
     ]
    }
   ],
   "source": [
    "a=['a','b','c']\n",
    "c = dict()\n",
    "for i,j in enumerate(a):\n",
    "    c[j] = i + 1\n",
    "print(c) "
   ]
  },
  {
   "cell_type": "code",
   "execution_count": 12,
   "id": "59aea2f1-7849-40bf-afcd-e775cbd78398",
   "metadata": {},
   "outputs": [
    {
     "ename": "NameError",
     "evalue": "name 'def__init__' is not defined",
     "output_type": "error",
     "traceback": [
      "\u001b[1;31m---------------------------------------------------------------------------\u001b[0m",
      "\u001b[1;31mNameError\u001b[0m                                 Traceback (most recent call last)",
      "Input \u001b[1;32mIn [12]\u001b[0m, in \u001b[0;36m<cell line: 6>\u001b[1;34m()\u001b[0m\n\u001b[0;32m      3\u001b[0m         \u001b[38;5;28mself\u001b[39m\u001b[38;5;241m.\u001b[39mname \u001b[38;5;241m=\u001b[39m name\n\u001b[0;32m      4\u001b[0m         \u001b[38;5;28mself\u001b[39m\u001b[38;5;241m.\u001b[39mage \u001b[38;5;241m=\u001b[39mage\n\u001b[1;32m----> 6\u001b[0m \u001b[38;5;28;01mclass\u001b[39;00m \u001b[38;5;21;01mKorean\u001b[39;00m(Person):        \n\u001b[0;32m      7\u001b[0m     def__init__(\u001b[38;5;28mself\u001b[39m, name, age)\n",
      "Input \u001b[1;32mIn [12]\u001b[0m, in \u001b[0;36mKorean\u001b[1;34m()\u001b[0m\n\u001b[0;32m      6\u001b[0m \u001b[38;5;28;01mclass\u001b[39;00m \u001b[38;5;21;01mKorean\u001b[39;00m(Person):        \n\u001b[1;32m----> 7\u001b[0m     \u001b[43mdef__init__\u001b[49m(\u001b[38;5;28mself\u001b[39m, name, age)\n",
      "\u001b[1;31mNameError\u001b[0m: name 'def__init__' is not defined"
     ]
    }
   ],
   "source": [
    "class Person:\n",
    "    def __init__(self, name, age):\n",
    "        self.name = name\n",
    "        self.age =age\n",
    "        \n",
    "class Korean(Person):        \n",
    "     def__init__(self, name, age):\n",
    "            "
   ]
  },
  {
   "cell_type": "code",
   "execution_count": 26,
   "id": "b3d869d3-551c-44fa-bf3d-539d23b49b02",
   "metadata": {},
   "outputs": [
    {
     "data": {
      "text/plain": [
       "[6, 28, 8, 12, 56, 284]"
      ]
     },
     "execution_count": 26,
     "metadata": {},
     "output_type": "execute_result"
    }
   ],
   "source": [
    "num = [1,6,99,3,28,8,9,12,56,17,284]\n",
    "\n",
    "list(filter(lambda a: a%2==0, num)) #a%2==0인걸 필터해라 lambda에서"
   ]
  },
  {
   "cell_type": "code",
   "execution_count": 1,
   "id": "bd30f475-0522-4614-806a-1d92548ff056",
   "metadata": {},
   "outputs": [
    {
     "data": {
      "text/plain": [
       "[-2, -3]"
      ]
     },
     "execution_count": 1,
     "metadata": {},
     "output_type": "execute_result"
    }
   ],
   "source": [
    "a= [1, -2, 3, 5, 8, -3]\n",
    "list(filter(lambda a: a<0, a))"
   ]
  },
  {
   "cell_type": "code",
   "execution_count": 15,
   "id": "5691c213-fc2f-4e51-ab26-f87bc6d91749",
   "metadata": {},
   "outputs": [
    {
     "name": "stdout",
     "output_type": "stream",
     "text": [
      "[6, 28, 8, 12, 56, 284]\n"
     ]
    }
   ],
   "source": [
    "num = [1,6,99,3,28,8,9,12,56,17,284] \n",
    "\n",
    "def even(i):\n",
    "    if i % 2 == 0:\n",
    "        return i\n",
    "    \n",
    "print(list(filter(even, num))) "
   ]
  },
  {
   "cell_type": "code",
   "execution_count": 16,
   "id": "c9a7dc8c-337c-46c6-b3a3-b5526524355b",
   "metadata": {},
   "outputs": [
    {
     "ename": "SyntaxError",
     "evalue": "invalid syntax (3134626668.py, line 1)",
     "output_type": "error",
     "traceback": [
      "\u001b[1;36m  Input \u001b[1;32mIn [16]\u001b[1;36m\u001b[0m\n\u001b[1;33m    클래스에 쓸 수 있는 변수 클래스 변수 지역변수 전역변수\u001b[0m\n\u001b[1;37m         ^\u001b[0m\n\u001b[1;31mSyntaxError\u001b[0m\u001b[1;31m:\u001b[0m invalid syntax\n"
     ]
    }
   ],
   "source": [
    "클래스에 쓸 수 있는 변수 클래스 변수 지역변수 전역변수"
   ]
  },
  {
   "cell_type": "code",
   "execution_count": 17,
   "id": "32152b62-9fbe-4398-834d-e7da377442f3",
   "metadata": {},
   "outputs": [
    {
     "ename": "SyntaxError",
     "evalue": "invalid syntax (1998269624.py, line 1)",
     "output_type": "error",
     "traceback": [
      "\u001b[1;36m  Input \u001b[1;32mIn [17]\u001b[1;36m\u001b[0m\n\u001b[1;33m    if __name__==\"__main__\": 은 해당 모듈에서만 실행\u001b[0m\n\u001b[1;37m                               ^\u001b[0m\n\u001b[1;31mSyntaxError\u001b[0m\u001b[1;31m:\u001b[0m invalid syntax\n"
     ]
    }
   ],
   "source": [
    "if __name__==\"__main__\": 은 해당 모듈에서만 실행 \n",
    "import 당했을 때 실행하지 않기 위해 사용 \n",
    "__name__ 이라는 변수값이 __main__ 이라면 실행? \n"
   ]
  },
  {
   "cell_type": "code",
   "execution_count": 24,
   "id": "a315d181-d0b9-4b37-beb8-94e027761e09",
   "metadata": {},
   "outputs": [
    {
     "name": "stdout",
     "output_type": "stream",
     "text": [
      "division by zero\n"
     ]
    }
   ],
   "source": [
    "try:\n",
    "    4/0\n",
    "except ZeroDivisionError as e:\n",
    "    print(e)\n"
   ]
  },
  {
   "cell_type": "code",
   "execution_count": 26,
   "id": "afdaf5e2-f839-46b2-bb68-dd2b482c31f0",
   "metadata": {},
   "outputs": [],
   "source": [
    "import sys\n",
    "sys.path.append(\"C:\\\\Users\\\\admin\\\\abc\\\\a\")"
   ]
  },
  {
   "cell_type": "code",
   "execution_count": 18,
   "id": "d2d5579e-8e16-4870-b8d5-a73d7dde756a",
   "metadata": {},
   "outputs": [],
   "source": [
    "class Clothes:\n",
    "    def __init__(self,color,fit):\n",
    "        self.color = color\n",
    "        self.fit = fit\n",
    "        \n",
    "    def target(self,age, gender):\n",
    "        if age <= 5:\n",
    "            self.age = \"baby\"\n",
    "        elif age <= 13:\n",
    "            self.age = 'kids'\n",
    "        elif gender == 'female':\n",
    "             self.gender = 'women'\n",
    "        elif gender == 'men':\n",
    "             self.gender = 'men' "
   ]
  },
  {
   "cell_type": "code",
   "execution_count": 19,
   "id": "682b873e-fc28-4a0e-8b44-6ea7c6c4f6cb",
   "metadata": {},
   "outputs": [],
   "source": [
    "a = Clothes(\"green\", \"fat\")"
   ]
  },
  {
   "cell_type": "code",
   "execution_count": 20,
   "id": "a5661df8-125d-466d-88e1-886012c1b516",
   "metadata": {},
   "outputs": [],
   "source": [
    "a.target(22, 'female')"
   ]
  },
  {
   "cell_type": "code",
   "execution_count": 21,
   "id": "0ca3690b-7414-45b2-8661-d58869e6f2ad",
   "metadata": {},
   "outputs": [],
   "source": [
    "a.target(2, 'man')"
   ]
  },
  {
   "cell_type": "code",
   "execution_count": 22,
   "id": "74f64db8-6f18-42eb-9d83-49f657795711",
   "metadata": {},
   "outputs": [],
   "source": [
    "class Clothes :\n",
    "    def __init__(self, color, fit) :\n",
    "        self.color = color\n",
    "        self.fit= fit\n",
    "    def target(self, age, gender) :\n",
    "        self.age = age\n",
    "        self.gender = gender\n",
    "        result = \"\"\n",
    "        if age <= 5 :\n",
    "            result = \"baby\"\n",
    "        elif 5 < age <= 13 :\n",
    "            result = \"kids\"\n",
    "        elif 14 <= age :\n",
    "            if gender == \"female\" :\n",
    "                result = \"women\"\n",
    "            elif gender == \"male\" :\n",
    "                result == \"men\"\n",
    "        return result "
   ]
  },
  {
   "cell_type": "code",
   "execution_count": 23,
   "id": "474ac747-7e6a-41c4-acfc-763a4538645a",
   "metadata": {},
   "outputs": [],
   "source": [
    "a = Clothes(\"green\", \"fat\")"
   ]
  },
  {
   "cell_type": "code",
   "execution_count": 24,
   "id": "ce7d37e1-9775-404d-a207-712ad90c7ebb",
   "metadata": {},
   "outputs": [
    {
     "data": {
      "text/plain": [
       "'women'"
      ]
     },
     "execution_count": 24,
     "metadata": {},
     "output_type": "execute_result"
    }
   ],
   "source": [
    "a.target(22, \"female\")"
   ]
  },
  {
   "cell_type": "code",
   "execution_count": 10,
   "id": "0a9701e1-a270-4168-97a8-4c08456b0072",
   "metadata": {},
   "outputs": [],
   "source": [
    "class Clothes:\n",
    "    def __init__(self, color, fit):\n",
    "        self.color = color\n",
    "        self.fit= fit\n",
    "        \n",
    "    def target(self, age, gender):\n",
    "        self.age = int(age)\n",
    "        self.gender = gender\n",
    "        if self.age <= 5:\n",
    "            return 'baby'\n",
    "        elif self.age <= 13:\n",
    "            return 'kids'\n",
    "        elif self.gender == 'female':\n",
    "            return 'women'\n",
    "        else:\n",
    "            return 'man' "
   ]
  },
  {
   "cell_type": "code",
   "execution_count": 11,
   "id": "804b5724-59c0-4836-95e3-a675cede2b56",
   "metadata": {},
   "outputs": [],
   "source": [
    "class Clothes:\n",
    "    def __init__(self,color,fit):\n",
    "        self.color = color\n",
    "        self.fit= fit        \n",
    "        \n",
    "    def target(self,age,gender):\n",
    "        if age <= 5:\n",
    "            self.age = 'baby'\n",
    "        elif age <= 13:\n",
    "            self.age = 'kids'\n",
    "        elif age > 13 and gender == 'female':\n",
    "            self.age = 'adult'\n",
    "            self.gender = 'wemen'\n",
    "        else:\n",
    "            self.age = 'adult'\n",
    "            self.gender = 'men' "
   ]
  },
  {
   "cell_type": "code",
   "execution_count": 12,
   "id": "0ec4d860-6791-44b3-9aed-43335056cc88",
   "metadata": {},
   "outputs": [],
   "source": [
    "a = Clothes(\"green\", \"fat\")"
   ]
  },
  {
   "cell_type": "code",
   "execution_count": 13,
   "id": "659b729b-8bcf-4258-a3ce-d2c0d74cc5ec",
   "metadata": {},
   "outputs": [],
   "source": [
    "a.target(22, 'female')"
   ]
  },
  {
   "cell_type": "code",
   "execution_count": 48,
   "id": "84096903-428c-4fef-8924-1059dc376e10",
   "metadata": {},
   "outputs": [],
   "source": [
    "class Clothes2(Clothes):\n",
    "    def __init__(self, season, color, fit):\n",
    "        super().__init__(color, fit)\n",
    "        self.season = season"
   ]
  },
  {
   "cell_type": "code",
   "execution_count": 49,
   "id": "6d568593-2794-4a8e-859b-f51ee35ca717",
   "metadata": {},
   "outputs": [],
   "source": [
    "class Clothes2(Clothes):\n",
    "    def __init__(self,color,fit,season): # 부모변수 + 추가변수\n",
    "        super().__init__(color,fit)# 부모변수\n",
    "        self.season = season "
   ]
  },
  {
   "cell_type": "code",
   "execution_count": 52,
   "id": "1b4254c6-6d85-4029-a0a6-4e248eea9d49",
   "metadata": {},
   "outputs": [
    {
     "ename": "TypeError",
     "evalue": "'int' object is not subscriptable",
     "output_type": "error",
     "traceback": [
      "\u001b[1;31m---------------------------------------------------------------------------\u001b[0m",
      "\u001b[1;31mTypeError\u001b[0m                                 Traceback (most recent call last)",
      "Input \u001b[1;32mIn [52]\u001b[0m, in \u001b[0;36m<cell line: 5>\u001b[1;34m()\u001b[0m\n\u001b[0;32m      1\u001b[0m \u001b[38;5;28mid\u001b[39m\u001b[38;5;241m=\u001b[39m [\u001b[38;5;124m'\u001b[39m\u001b[38;5;124m970212-1054321\u001b[39m\u001b[38;5;124m'\u001b[39m,\u001b[38;5;124m'\u001b[39m\u001b[38;5;124m010101-2054321\u001b[39m\u001b[38;5;124m'\u001b[39m,\u001b[38;5;124m'\u001b[39m\u001b[38;5;124m020202-1065432\u001b[39m\u001b[38;5;124m'\u001b[39m,\u001b[38;5;124m'\u001b[39m\u001b[38;5;124m220908-1044444\u001b[39m\u001b[38;5;124m'\u001b[39m]\n\u001b[0;32m      3\u001b[0m id_male \u001b[38;5;241m=\u001b[39m [  ] \n\u001b[1;32m----> 5\u001b[0m id_male \u001b[38;5;241m=\u001b[39m \u001b[38;5;28;43mlist\u001b[39;49m\u001b[43m(\u001b[49m\u001b[38;5;28;43mfilter\u001b[39;49m\u001b[43m(\u001b[49m\u001b[38;5;28;43;01mlambda\u001b[39;49;00m\u001b[43m \u001b[49m\u001b[43ma\u001b[49m\u001b[43m \u001b[49m\u001b[43m:\u001b[49m\u001b[43m \u001b[49m\u001b[38;5;28;43mlen\u001b[39;49m\u001b[43m(\u001b[49m\u001b[43ma\u001b[49m\u001b[43m)\u001b[49m\u001b[43m[\u001b[49m\u001b[38;5;241;43m7\u001b[39;49m\u001b[43m]\u001b[49m\u001b[38;5;241;43m==\u001b[39;49m\u001b[38;5;124;43m'\u001b[39;49m\u001b[38;5;124;43m1\u001b[39;49m\u001b[38;5;124;43m'\u001b[39;49m\u001b[43m,\u001b[49m\u001b[43m \u001b[49m\u001b[38;5;28;43mid\u001b[39;49m\u001b[43m)\u001b[49m\u001b[43m)\u001b[49m\n\u001b[0;32m      7\u001b[0m id_male\n",
      "Input \u001b[1;32mIn [52]\u001b[0m, in \u001b[0;36m<lambda>\u001b[1;34m(a)\u001b[0m\n\u001b[0;32m      1\u001b[0m \u001b[38;5;28mid\u001b[39m\u001b[38;5;241m=\u001b[39m [\u001b[38;5;124m'\u001b[39m\u001b[38;5;124m970212-1054321\u001b[39m\u001b[38;5;124m'\u001b[39m,\u001b[38;5;124m'\u001b[39m\u001b[38;5;124m010101-2054321\u001b[39m\u001b[38;5;124m'\u001b[39m,\u001b[38;5;124m'\u001b[39m\u001b[38;5;124m020202-1065432\u001b[39m\u001b[38;5;124m'\u001b[39m,\u001b[38;5;124m'\u001b[39m\u001b[38;5;124m220908-1044444\u001b[39m\u001b[38;5;124m'\u001b[39m]\n\u001b[0;32m      3\u001b[0m id_male \u001b[38;5;241m=\u001b[39m [  ] \n\u001b[1;32m----> 5\u001b[0m id_male \u001b[38;5;241m=\u001b[39m \u001b[38;5;28mlist\u001b[39m(\u001b[38;5;28mfilter\u001b[39m(\u001b[38;5;28;01mlambda\u001b[39;00m a : \u001b[38;5;28;43mlen\u001b[39;49m\u001b[43m(\u001b[49m\u001b[43ma\u001b[49m\u001b[43m)\u001b[49m\u001b[43m[\u001b[49m\u001b[38;5;241;43m7\u001b[39;49m\u001b[43m]\u001b[49m\u001b[38;5;241m==\u001b[39m\u001b[38;5;124m'\u001b[39m\u001b[38;5;124m1\u001b[39m\u001b[38;5;124m'\u001b[39m, \u001b[38;5;28mid\u001b[39m))\n\u001b[0;32m      7\u001b[0m id_male\n",
      "\u001b[1;31mTypeError\u001b[0m: 'int' object is not subscriptable"
     ]
    }
   ],
   "source": [
    "id= ['970212-1054321','010101-2054321','020202-1065432','220908-1044444']\n",
    "\n",
    "id_male = [  ] \n",
    "\n",
    "id_male = list(filter(lambda a : len(a)[7]=='1', id))\n",
    "\n",
    "id_male "
   ]
  },
  {
   "cell_type": "code",
   "execution_count": 14,
   "id": "8a539514-e64d-4ec0-94f9-d1898619e412",
   "metadata": {},
   "outputs": [
    {
     "data": {
      "text/plain": [
       "['970212-1054321', '020202-1065432', '220908-1044444']"
      ]
     },
     "execution_count": 14,
     "metadata": {},
     "output_type": "execute_result"
    }
   ],
   "source": [
    "id= ['970212-1054321','010101-2054321','020202-1065432','220908-1044444']\n",
    "\n",
    "id_male = list(filter(lambda id : id[7] == '1',id)) # 각각의 abcd 가 8번째 자리에 1\n",
    "\n",
    "id_male "
   ]
  },
  {
   "cell_type": "code",
   "execution_count": 16,
   "id": "4d8693b6-e7b7-4f75-9e74-b70b4b72924a",
   "metadata": {},
   "outputs": [
    {
     "ename": "IndexError",
     "evalue": "list index out of range",
     "output_type": "error",
     "traceback": [
      "\u001b[1;31m---------------------------------------------------------------------------\u001b[0m",
      "\u001b[1;31mIndexError\u001b[0m                                Traceback (most recent call last)",
      "Input \u001b[1;32mIn [16]\u001b[0m, in \u001b[0;36m<cell line: 2>\u001b[1;34m()\u001b[0m\n\u001b[0;32m      1\u001b[0m \u001b[38;5;28mid\u001b[39m\u001b[38;5;241m=\u001b[39m [\u001b[38;5;124m'\u001b[39m\u001b[38;5;124m970212-1054321\u001b[39m\u001b[38;5;124m'\u001b[39m,\u001b[38;5;124m'\u001b[39m\u001b[38;5;124m010101-2054321\u001b[39m\u001b[38;5;124m'\u001b[39m,\u001b[38;5;124m'\u001b[39m\u001b[38;5;124m020202-1065432\u001b[39m\u001b[38;5;124m'\u001b[39m,\u001b[38;5;124m'\u001b[39m\u001b[38;5;124m220908-1044444\u001b[39m\u001b[38;5;124m'\u001b[39m]\n\u001b[1;32m----> 2\u001b[0m \u001b[38;5;28;43mid\u001b[39;49m\u001b[43m[\u001b[49m\u001b[38;5;241;43m7\u001b[39;49m\u001b[43m]\u001b[49m\n",
      "\u001b[1;31mIndexError\u001b[0m: list index out of range"
     ]
    }
   ],
   "source": [
    "id= ['970212-1054321','010101-2054321','020202-1065432','220908-1044444']\n",
    "id[7]"
   ]
  },
  {
   "cell_type": "code",
   "execution_count": 54,
   "id": "c41839d4-0f37-43b5-b8c6-a6f44919bc0b",
   "metadata": {},
   "outputs": [
    {
     "data": {
      "text/plain": [
       "['970212-1054321', '020202-1065432', '220908-1044444']"
      ]
     },
     "execution_count": 54,
     "metadata": {},
     "output_type": "execute_result"
    }
   ],
   "source": [
    "id_male = list(filter(lambda id : int(id[7]) == 1,id))\n",
    "\n",
    "id_male "
   ]
  },
  {
   "cell_type": "code",
   "execution_count": 55,
   "id": "1e8b6071-b000-4ecc-8182-215cc653445e",
   "metadata": {},
   "outputs": [
    {
     "data": {
      "text/plain": [
       "'0xea'"
      ]
     },
     "execution_count": 55,
     "metadata": {},
     "output_type": "execute_result"
    }
   ],
   "source": [
    "hex(234) #16진수로 바꿔줌 "
   ]
  },
  {
   "cell_type": "code",
   "execution_count": 56,
   "id": "7b50d06a-a7f8-4060-bb74-2c8c44050ae2",
   "metadata": {},
   "outputs": [
    {
     "data": {
      "text/plain": [
       "'0x3'"
      ]
     },
     "execution_count": 56,
     "metadata": {},
     "output_type": "execute_result"
    }
   ],
   "source": [
    "hex(3) #0x는 16 진수다. 16진수로 3 "
   ]
  },
  {
   "cell_type": "code",
   "execution_count": 57,
   "id": "fa5c033f-42cb-438a-84fb-1b2e04f346ab",
   "metadata": {},
   "outputs": [
    {
     "data": {
      "text/plain": [
       "'0x9'"
      ]
     },
     "execution_count": 57,
     "metadata": {},
     "output_type": "execute_result"
    }
   ],
   "source": [
    "hex(9) #16진수로 9"
   ]
  },
  {
   "cell_type": "code",
   "execution_count": 58,
   "id": "3280d086-9357-40b2-b764-7fc3ba8d6f7e",
   "metadata": {},
   "outputs": [
    {
     "data": {
      "text/plain": [
       "'0xa'"
      ]
     },
     "execution_count": 58,
     "metadata": {},
     "output_type": "execute_result"
    }
   ],
   "source": [
    "hex(10) # a는 10"
   ]
  },
  {
   "cell_type": "code",
   "execution_count": 155,
   "id": "f09f633d-7a8d-47f8-8dd8-e22f61eb8ee3",
   "metadata": {},
   "outputs": [
    {
     "data": {
      "text/plain": [
       "'0x10'"
      ]
     },
     "execution_count": 155,
     "metadata": {},
     "output_type": "execute_result"
    }
   ],
   "source": [
    "hex(16)"
   ]
  },
  {
   "cell_type": "code",
   "execution_count": 60,
   "id": "511feadb-271e-499a-bbe5-4a260e3eb082",
   "metadata": {},
   "outputs": [
    {
     "ename": "SyntaxError",
     "evalue": "invalid decimal literal (1006228380.py, line 1)",
     "output_type": "error",
     "traceback": [
      "\u001b[1;36m  Input \u001b[1;32mIn [60]\u001b[1;36m\u001b[0m\n\u001b[1;33m    10진수 : 1 1 # 큰묶음한개는 안에 10게\u001b[0m\n\u001b[1;37m     ^\u001b[0m\n\u001b[1;31mSyntaxError\u001b[0m\u001b[1;31m:\u001b[0m invalid decimal literal\n"
     ]
    }
   ],
   "source": [
    "10진수 : 1 1 # 큰묶음한개는 안에 10게"
   ]
  },
  {
   "cell_type": "code",
   "execution_count": 61,
   "id": "349918bf-b606-48af-abe9-b37e8284587c",
   "metadata": {},
   "outputs": [
    {
     "ename": "SyntaxError",
     "evalue": "invalid decimal literal (2743325681.py, line 1)",
     "output_type": "error",
     "traceback": [
      "\u001b[1;36m  Input \u001b[1;32mIn [61]\u001b[1;36m\u001b[0m\n\u001b[1;33m    16진수: 1   1 - 한묶음에는 16개\u001b[0m\n\u001b[1;37m     ^\u001b[0m\n\u001b[1;31mSyntaxError\u001b[0m\u001b[1;31m:\u001b[0m invalid decimal literal\n"
     ]
    }
   ],
   "source": [
    "16진수: 1   1 - 한묶음에는 16개\n",
    "16진수 : 1  1  10진수로 17개 \n",
    "16진수 : f   f  15*16+15 =255\n",
    "16진수 2  a = 2*16 + 10=42\n",
    "\n"
   ]
  },
  {
   "cell_type": "code",
   "execution_count": 62,
   "id": "5c311f3c-2e39-48e5-8f98-b4bc0c2d396c",
   "metadata": {},
   "outputs": [
    {
     "name": "stdin",
     "output_type": "stream",
     "text": [
      "enter:  10\n"
     ]
    }
   ],
   "source": [
    "b= input(\"enter: \") # 한칸 띄어야 함"
   ]
  },
  {
   "cell_type": "code",
   "execution_count": 63,
   "id": "20d9abf2-bd42-4a26-aea9-18110ce510ed",
   "metadata": {},
   "outputs": [
    {
     "data": {
      "text/plain": [
       "3"
      ]
     },
     "execution_count": 63,
     "metadata": {},
     "output_type": "execute_result"
    }
   ],
   "source": [
    "int('11',2)  # 2진수로 표현된 11을 10진수로 변환 "
   ]
  },
  {
   "cell_type": "code",
   "execution_count": 64,
   "id": "542c541e-581a-4ca6-97dc-ec95d50b665e",
   "metadata": {},
   "outputs": [
    {
     "data": {
      "text/plain": [
       "255"
      ]
     },
     "execution_count": 64,
     "metadata": {},
     "output_type": "execute_result"
    }
   ],
   "source": [
    "int('ff', base=16)"
   ]
  },
  {
   "cell_type": "code",
   "execution_count": 65,
   "id": "e0a4fc6b-14b9-40e9-b796-0461c507cb93",
   "metadata": {},
   "outputs": [
    {
     "data": {
      "text/plain": [
       "255"
      ]
     },
     "execution_count": 65,
     "metadata": {},
     "output_type": "execute_result"
    }
   ],
   "source": [
    "int('0xff', base=16)"
   ]
  },
  {
   "cell_type": "code",
   "execution_count": 66,
   "id": "ed4e23af-9a2d-4e35-9427-6094ff0422a5",
   "metadata": {},
   "outputs": [
    {
     "data": {
      "text/plain": [
       "15"
      ]
     },
     "execution_count": 66,
     "metadata": {},
     "output_type": "execute_result"
    }
   ],
   "source": [
    "int('1111',2)"
   ]
  },
  {
   "cell_type": "code",
   "execution_count": 67,
   "id": "bed07cfe-69ed-474f-98c1-a10b5722de48",
   "metadata": {},
   "outputs": [
    {
     "data": {
      "text/plain": [
       "['p', 'y', 'h', 't', 'o', 'n']"
      ]
     },
     "execution_count": 67,
     "metadata": {},
     "output_type": "execute_result"
    }
   ],
   "source": [
    "list(\"pyhton\")"
   ]
  },
  {
   "cell_type": "code",
   "execution_count": 68,
   "id": "bb2de735-9bc6-4c0c-8be0-a168d638b846",
   "metadata": {},
   "outputs": [
    {
     "ename": "SyntaxError",
     "evalue": "invalid syntax. Perhaps you forgot a comma? (1942024413.py, line 1)",
     "output_type": "error",
     "traceback": [
      "\u001b[1;36m  Input \u001b[1;32mIn [68]\u001b[1;36m\u001b[0m\n\u001b[1;33m    map(함수, iterable순환 가능한)\u001b[0m\n\u001b[1;37m            ^\u001b[0m\n\u001b[1;31mSyntaxError\u001b[0m\u001b[1;31m:\u001b[0m invalid syntax. Perhaps you forgot a comma?\n"
     ]
    }
   ],
   "source": [
    "map(함수, iterable순환 가능한)\n",
    "map은 하나하나 터치해주는 \n",
    "1대1 대응\n",
    "for i in 순환가능한 \n",
    "대표적으로 list가 있음 \n"
   ]
  },
  {
   "cell_type": "code",
   "execution_count": 69,
   "id": "5a85d02e-1e23-47ec-856e-2d76975ec8eb",
   "metadata": {},
   "outputs": [],
   "source": [
    "def two_times(x):\n",
    "    return x*2"
   ]
  },
  {
   "cell_type": "code",
   "execution_count": 71,
   "id": "ef0ca205-65e5-4933-8648-fe8e6c5735b1",
   "metadata": {},
   "outputs": [
    {
     "data": {
      "text/plain": [
       "<map at 0x12371e8c0a0>"
      ]
     },
     "execution_count": 71,
     "metadata": {},
     "output_type": "execute_result"
    }
   ],
   "source": [
    "map(two_times, [1,2,3,4]) #16진수로 표현됨"
   ]
  },
  {
   "cell_type": "code",
   "execution_count": 72,
   "id": "c3f7973c-7a8c-49cb-a949-6b742267a3c5",
   "metadata": {},
   "outputs": [
    {
     "data": {
      "text/plain": [
       "[2, 4, 6, 8]"
      ]
     },
     "execution_count": 72,
     "metadata": {},
     "output_type": "execute_result"
    }
   ],
   "source": [
    "list(map(two_times, [1,2,3,4]))"
   ]
  },
  {
   "cell_type": "code",
   "execution_count": 73,
   "id": "b2aa789f-714b-457c-98cc-bffd6855c37c",
   "metadata": {},
   "outputs": [
    {
     "data": {
      "text/plain": [
       "['11', '22', '33', '44']"
      ]
     },
     "execution_count": 73,
     "metadata": {},
     "output_type": "execute_result"
    }
   ],
   "source": [
    "list(map(two_times, [\"1\",\"2\",\"3\",\"4\"])) # 문자열이라서 두개 써줌 "
   ]
  },
  {
   "cell_type": "code",
   "execution_count": 74,
   "id": "9d276eed-b585-4a3d-9a2e-ecd031641d21",
   "metadata": {},
   "outputs": [
    {
     "data": {
      "text/plain": [
       "[1, 2, 3, 4]"
      ]
     },
     "execution_count": 74,
     "metadata": {},
     "output_type": "execute_result"
    }
   ],
   "source": [
    "list(map(int, [\"1\",\"2\",\"3\",\"4\"])) "
   ]
  },
  {
   "cell_type": "code",
   "execution_count": 75,
   "id": "12049533-3807-422d-b323-605d7970d758",
   "metadata": {},
   "outputs": [
    {
     "ename": "SyntaxError",
     "evalue": "invalid syntax (3043086061.py, line 1)",
     "output_type": "error",
     "traceback": [
      "\u001b[1;36m  Input \u001b[1;32mIn [75]\u001b[1;36m\u001b[0m\n\u001b[1;33m    max(순회가능한) 순회가능한 자료형 입력 받아 최댓값 돌려줌\u001b[0m\n\u001b[1;37m               ^\u001b[0m\n\u001b[1;31mSyntaxError\u001b[0m\u001b[1;31m:\u001b[0m invalid syntax\n"
     ]
    }
   ],
   "source": [
    "max(순회가능한) 순회가능한 자료형 입력 받아 최댓값 돌려줌 "
   ]
  },
  {
   "cell_type": "code",
   "execution_count": 17,
   "id": "00279158-ee95-47d2-87a6-0db7c7d36afe",
   "metadata": {},
   "outputs": [
    {
     "data": {
      "text/plain": [
       "str"
      ]
     },
     "execution_count": 17,
     "metadata": {},
     "output_type": "execute_result"
    }
   ],
   "source": [
    "type(\"python\")"
   ]
  },
  {
   "cell_type": "code",
   "execution_count": 76,
   "id": "e8eec864-bd2c-4943-a46c-305a81d9ff01",
   "metadata": {},
   "outputs": [
    {
     "name": "stdout",
     "output_type": "stream",
     "text": [
      "p\n",
      "y\n",
      "t\n",
      "h\n",
      "o\n",
      "n\n"
     ]
    }
   ],
   "source": [
    "for i in \"python\":\n",
    "    print(i)"
   ]
  },
  {
   "cell_type": "code",
   "execution_count": 78,
   "id": "b1e1e0ab-fbbd-4d3e-a414-497e70d70106",
   "metadata": {},
   "outputs": [
    {
     "data": {
      "text/plain": [
       "['__add__',\n",
       " '__class__',\n",
       " '__contains__',\n",
       " '__delattr__',\n",
       " '__dir__',\n",
       " '__doc__',\n",
       " '__eq__',\n",
       " '__format__',\n",
       " '__ge__',\n",
       " '__getattribute__',\n",
       " '__getitem__',\n",
       " '__getnewargs__',\n",
       " '__gt__',\n",
       " '__hash__',\n",
       " '__init__',\n",
       " '__init_subclass__',\n",
       " '__iter__',\n",
       " '__le__',\n",
       " '__len__',\n",
       " '__lt__',\n",
       " '__mod__',\n",
       " '__mul__',\n",
       " '__ne__',\n",
       " '__new__',\n",
       " '__reduce__',\n",
       " '__reduce_ex__',\n",
       " '__repr__',\n",
       " '__rmod__',\n",
       " '__rmul__',\n",
       " '__setattr__',\n",
       " '__sizeof__',\n",
       " '__str__',\n",
       " '__subclasshook__',\n",
       " 'capitalize',\n",
       " 'casefold',\n",
       " 'center',\n",
       " 'count',\n",
       " 'encode',\n",
       " 'endswith',\n",
       " 'expandtabs',\n",
       " 'find',\n",
       " 'format',\n",
       " 'format_map',\n",
       " 'index',\n",
       " 'isalnum',\n",
       " 'isalpha',\n",
       " 'isascii',\n",
       " 'isdecimal',\n",
       " 'isdigit',\n",
       " 'isidentifier',\n",
       " 'islower',\n",
       " 'isnumeric',\n",
       " 'isprintable',\n",
       " 'isspace',\n",
       " 'istitle',\n",
       " 'isupper',\n",
       " 'join',\n",
       " 'ljust',\n",
       " 'lower',\n",
       " 'lstrip',\n",
       " 'maketrans',\n",
       " 'partition',\n",
       " 'removeprefix',\n",
       " 'removesuffix',\n",
       " 'replace',\n",
       " 'rfind',\n",
       " 'rindex',\n",
       " 'rjust',\n",
       " 'rpartition',\n",
       " 'rsplit',\n",
       " 'rstrip',\n",
       " 'split',\n",
       " 'splitlines',\n",
       " 'startswith',\n",
       " 'strip',\n",
       " 'swapcase',\n",
       " 'title',\n",
       " 'translate',\n",
       " 'upper',\n",
       " 'zfill']"
      ]
     },
     "execution_count": 78,
     "metadata": {},
     "output_type": "execute_result"
    }
   ],
   "source": [
    "dir(\"python\") # iter 가 있음 "
   ]
  },
  {
   "cell_type": "code",
   "execution_count": 79,
   "id": "20446d94-2bcb-454b-ac0b-67a548d2ff2d",
   "metadata": {},
   "outputs": [
    {
     "data": {
      "text/plain": [
       "'0o42'"
      ]
     },
     "execution_count": 79,
     "metadata": {},
     "output_type": "execute_result"
    }
   ],
   "source": [
    "oct(34) # 8진수 0o는 8진수 8진수는 잘 안쓰임"
   ]
  },
  {
   "cell_type": "code",
   "execution_count": 80,
   "id": "372c7bcb-1771-4ad8-9618-6fe8a3b03ec9",
   "metadata": {},
   "outputs": [],
   "source": [
    "# 바이너리는 소리 영화 동영상 등 읽을 때"
   ]
  },
  {
   "cell_type": "code",
   "execution_count": 83,
   "id": "6effe0fd-a66c-4c4c-8f84-9c3e276d15d9",
   "metadata": {},
   "outputs": [
    {
     "ename": "SyntaxError",
     "evalue": "invalid syntax (854260401.py, line 1)",
     "output_type": "error",
     "traceback": [
      "\u001b[1;36m  Input \u001b[1;32mIn [83]\u001b[1;36m\u001b[0m\n\u001b[1;33m    ord('c') 아스키 코드 ASCII 아메리칸 스탠다드 미국 표준\u001b[0m\n\u001b[1;37m             ^\u001b[0m\n\u001b[1;31mSyntaxError\u001b[0m\u001b[1;31m:\u001b[0m invalid syntax\n"
     ]
    }
   ],
   "source": [
    "ord('c') 아스키 코드 ASCII 아메리칸 스탠다드 미국 표준 "
   ]
  },
  {
   "cell_type": "code",
   "execution_count": 84,
   "id": "96ae5c1a-19ce-4f6a-bbbc-ca6d1a1c281c",
   "metadata": {},
   "outputs": [
    {
     "data": {
      "text/plain": [
       "16"
      ]
     },
     "execution_count": 84,
     "metadata": {},
     "output_type": "execute_result"
    }
   ],
   "source": [
    "pow(2,4) # 2의 4제곱"
   ]
  },
  {
   "cell_type": "code",
   "execution_count": 85,
   "id": "d9cd3c4b-5ab0-4db1-af21-dcdf37c6a5f5",
   "metadata": {},
   "outputs": [
    {
     "ename": "NameError",
     "evalue": "name 'start' is not defined",
     "output_type": "error",
     "traceback": [
      "\u001b[1;31m---------------------------------------------------------------------------\u001b[0m",
      "\u001b[1;31mNameError\u001b[0m                                 Traceback (most recent call last)",
      "Input \u001b[1;32mIn [85]\u001b[0m, in \u001b[0;36m<cell line: 1>\u001b[1;34m()\u001b[0m\n\u001b[1;32m----> 1\u001b[0m \u001b[38;5;28mrange\u001b[39m(\u001b[43mstart\u001b[49m , stop, step)\n",
      "\u001b[1;31mNameError\u001b[0m: name 'start' is not defined"
     ]
    }
   ],
   "source": [
    "range(start , stop, step)# 스탑만 있어도 됨 "
   ]
  },
  {
   "cell_type": "code",
   "execution_count": 86,
   "id": "b9367681-a6ac-4137-8dea-c5d1b8ee82a1",
   "metadata": {},
   "outputs": [
    {
     "data": {
      "text/plain": [
       "3.14"
      ]
     },
     "execution_count": 86,
     "metadata": {},
     "output_type": "execute_result"
    }
   ],
   "source": [
    "round(3.141592, 2)"
   ]
  },
  {
   "cell_type": "code",
   "execution_count": 87,
   "id": "dc674d18-d6be-4291-ac02-dc010e802f6e",
   "metadata": {},
   "outputs": [
    {
     "data": {
      "text/plain": [
       "[1, 2, 4]"
      ]
     },
     "execution_count": 87,
     "metadata": {},
     "output_type": "execute_result"
    }
   ],
   "source": [
    "sorted([1,2,4])"
   ]
  },
  {
   "cell_type": "code",
   "execution_count": 88,
   "id": "f0f0ee03-9e0b-4123-bab5-685a5d16c20a",
   "metadata": {},
   "outputs": [
    {
     "data": {
      "text/plain": [
       "6"
      ]
     },
     "execution_count": 88,
     "metadata": {},
     "output_type": "execute_result"
    }
   ],
   "source": [
    "sum([1,2,3])"
   ]
  },
  {
   "cell_type": "code",
   "execution_count": 89,
   "id": "03447ff1-5f1f-40c2-b079-8ded423067fa",
   "metadata": {},
   "outputs": [
    {
     "ename": "TypeError",
     "evalue": "can only concatenate list (not \"int\") to list",
     "output_type": "error",
     "traceback": [
      "\u001b[1;31m---------------------------------------------------------------------------\u001b[0m",
      "\u001b[1;31mTypeError\u001b[0m                                 Traceback (most recent call last)",
      "Input \u001b[1;32mIn [89]\u001b[0m, in \u001b[0;36m<cell line: 1>\u001b[1;34m()\u001b[0m\n\u001b[1;32m----> 1\u001b[0m \u001b[38;5;28;43msum\u001b[39;49m\u001b[43m(\u001b[49m\u001b[43m[\u001b[49m\u001b[38;5;241;43m1\u001b[39;49m\u001b[43m,\u001b[49m\u001b[38;5;241;43m2\u001b[39;49m\u001b[43m,\u001b[49m\u001b[38;5;241;43m3\u001b[39;49m\u001b[43m]\u001b[49m\u001b[43m,\u001b[49m\u001b[43m \u001b[49m\u001b[43m[\u001b[49m\u001b[38;5;241;43m4\u001b[39;49m\u001b[43m,\u001b[49m\u001b[38;5;241;43m5\u001b[39;49m\u001b[43m,\u001b[49m\u001b[38;5;241;43m6\u001b[39;49m\u001b[43m]\u001b[49m\u001b[43m)\u001b[49m\n",
      "\u001b[1;31mTypeError\u001b[0m: can only concatenate list (not \"int\") to list"
     ]
    }
   ],
   "source": [
    "sum([1,2,3], [4,5,6])"
   ]
  },
  {
   "cell_type": "code",
   "execution_count": 27,
   "id": "ac778762-988c-4751-935c-31ceca288984",
   "metadata": {},
   "outputs": [
    {
     "ename": "TypeError",
     "evalue": "Field elements must be 2- or 3-tuples, got '4'",
     "output_type": "error",
     "traceback": [
      "\u001b[1;31m---------------------------------------------------------------------------\u001b[0m",
      "\u001b[1;31mTypeError\u001b[0m                                 Traceback (most recent call last)",
      "Input \u001b[1;32mIn [27]\u001b[0m, in \u001b[0;36m<cell line: 2>\u001b[1;34m()\u001b[0m\n\u001b[0;32m      1\u001b[0m \u001b[38;5;28;01mimport\u001b[39;00m \u001b[38;5;21;01mnumpy\u001b[39;00m \u001b[38;5;28;01mas\u001b[39;00m \u001b[38;5;21;01mnp\u001b[39;00m\n\u001b[1;32m----> 2\u001b[0m np\u001b[38;5;241m.\u001b[39msum(\u001b[43mnp\u001b[49m\u001b[38;5;241;43m.\u001b[39;49m\u001b[43marray\u001b[49m\u001b[43m(\u001b[49m\u001b[43m[\u001b[49m\u001b[38;5;241;43m1\u001b[39;49m\u001b[43m,\u001b[49m\u001b[38;5;241;43m2\u001b[39;49m\u001b[43m,\u001b[49m\u001b[38;5;241;43m3\u001b[39;49m\u001b[43m]\u001b[49m\u001b[43m,\u001b[49m\u001b[43m \u001b[49m\u001b[43m[\u001b[49m\u001b[38;5;241;43m4\u001b[39;49m\u001b[43m,\u001b[49m\u001b[38;5;241;43m5\u001b[39;49m\u001b[43m,\u001b[49m\u001b[38;5;241;43m6\u001b[39;49m\u001b[43m]\u001b[49m\u001b[43m)\u001b[49m)\n",
      "\u001b[1;31mTypeError\u001b[0m: Field elements must be 2- or 3-tuples, got '4'"
     ]
    }
   ],
   "source": [
    "import numpy as np\n",
    "np.sum(np.array([1,2,3], [4,5,6]))"
   ]
  },
  {
   "cell_type": "code",
   "execution_count": 34,
   "id": "ac718f35-c1b7-401e-bc85-b8b61815d353",
   "metadata": {},
   "outputs": [
    {
     "ename": "TypeError",
     "evalue": "Field elements must be 2- or 3-tuples, got '4'",
     "output_type": "error",
     "traceback": [
      "\u001b[1;31m---------------------------------------------------------------------------\u001b[0m",
      "\u001b[1;31mTypeError\u001b[0m                                 Traceback (most recent call last)",
      "Input \u001b[1;32mIn [34]\u001b[0m, in \u001b[0;36m<cell line: 2>\u001b[1;34m()\u001b[0m\n\u001b[0;32m      1\u001b[0m \u001b[38;5;28;01mimport\u001b[39;00m \u001b[38;5;21;01mnumpy\u001b[39;00m \u001b[38;5;28;01mas\u001b[39;00m \u001b[38;5;21;01mnp\u001b[39;00m\n\u001b[1;32m----> 2\u001b[0m \u001b[43mnp\u001b[49m\u001b[38;5;241;43m.\u001b[39;49m\u001b[43marray\u001b[49m\u001b[43m(\u001b[49m\u001b[43m[\u001b[49m\u001b[38;5;241;43m1\u001b[39;49m\u001b[43m,\u001b[49m\u001b[38;5;241;43m2\u001b[39;49m\u001b[43m,\u001b[49m\u001b[38;5;241;43m3\u001b[39;49m\u001b[43m]\u001b[49m\u001b[43m,\u001b[49m\u001b[43m \u001b[49m\u001b[43m[\u001b[49m\u001b[38;5;241;43m4\u001b[39;49m\u001b[43m,\u001b[49m\u001b[38;5;241;43m5\u001b[39;49m\u001b[43m,\u001b[49m\u001b[38;5;241;43m6\u001b[39;49m\u001b[43m]\u001b[49m\u001b[43m)\u001b[49m\n",
      "\u001b[1;31mTypeError\u001b[0m: Field elements must be 2- or 3-tuples, got '4'"
     ]
    }
   ],
   "source": [
    "import numpy as np\n",
    "np.array([1,2,3], [4,5,6])"
   ]
  },
  {
   "cell_type": "code",
   "execution_count": 20,
   "id": "a27ce93e-2cdf-475f-bd73-efeecf7a5253",
   "metadata": {},
   "outputs": [
    {
     "ename": "TypeError",
     "evalue": "Field elements must be 2- or 3-tuples, got '4'",
     "output_type": "error",
     "traceback": [
      "\u001b[1;31m---------------------------------------------------------------------------\u001b[0m",
      "\u001b[1;31mTypeError\u001b[0m                                 Traceback (most recent call last)",
      "Input \u001b[1;32mIn [20]\u001b[0m, in \u001b[0;36m<cell line: 3>\u001b[1;34m()\u001b[0m\n\u001b[0;32m      1\u001b[0m \u001b[38;5;28;01mimport\u001b[39;00m \u001b[38;5;21;01mnumpy\u001b[39;00m \u001b[38;5;28;01mas\u001b[39;00m \u001b[38;5;21;01mnp\u001b[39;00m\n\u001b[0;32m      2\u001b[0m np\u001b[38;5;241m.\u001b[39marray([\u001b[38;5;241m1\u001b[39m, \u001b[38;5;241m-\u001b[39m\u001b[38;5;241m3\u001b[39m, \u001b[38;5;241m2\u001b[39m, \u001b[38;5;241m0\u001b[39m, \u001b[38;5;241m-\u001b[39m\u001b[38;5;241m5\u001b[39m, \u001b[38;5;241m6\u001b[39m])\n\u001b[1;32m----> 3\u001b[0m \u001b[43mnp\u001b[49m\u001b[38;5;241;43m.\u001b[39;49m\u001b[43marray\u001b[49m\u001b[43m(\u001b[49m\u001b[43m[\u001b[49m\u001b[38;5;241;43m1\u001b[39;49m\u001b[43m,\u001b[49m\u001b[43m \u001b[49m\u001b[38;5;241;43m2\u001b[39;49m\u001b[43m,\u001b[49m\u001b[43m \u001b[49m\u001b[38;5;241;43m3\u001b[39;49m\u001b[43m]\u001b[49m\u001b[43m,\u001b[49m\u001b[43m \u001b[49m\u001b[43m[\u001b[49m\u001b[38;5;241;43m4\u001b[39;49m\u001b[43m,\u001b[49m\u001b[43m \u001b[49m\u001b[38;5;241;43m5\u001b[39;49m\u001b[43m,\u001b[49m\u001b[43m \u001b[49m\u001b[38;5;241;43m6\u001b[39;49m\u001b[43m]\u001b[49m\u001b[43m)\u001b[49m\n",
      "\u001b[1;31mTypeError\u001b[0m: Field elements must be 2- or 3-tuples, got '4'"
     ]
    }
   ],
   "source": [
    "import numpy as np\n",
    "np.array([1, -3, 2, 0, -5, 6])\n",
    "np.array([1, 2, 3], [4, 5, 6])"
   ]
  },
  {
   "cell_type": "code",
   "execution_count": 98,
   "id": "2569125d-7198-46ce-b596-f1b39d0ca4e8",
   "metadata": {},
   "outputs": [
    {
     "ename": "NameError",
     "evalue": "name 'iterable' is not defined",
     "output_type": "error",
     "traceback": [
      "\u001b[1;31m---------------------------------------------------------------------------\u001b[0m",
      "\u001b[1;31mNameError\u001b[0m                                 Traceback (most recent call last)",
      "Input \u001b[1;32mIn [98]\u001b[0m, in \u001b[0;36m<cell line: 1>\u001b[1;34m()\u001b[0m\n\u001b[1;32m----> 1\u001b[0m \u001b[38;5;28mzip\u001b[39m(\u001b[43miterable\u001b[49m) \n\u001b[0;32m      2\u001b[0m z\n",
      "\u001b[1;31mNameError\u001b[0m: name 'iterable' is not defined"
     ]
    }
   ],
   "source": [
    "zip(iterable) \n",
    "z"
   ]
  },
  {
   "cell_type": "code",
   "execution_count": 101,
   "id": "e106cb11-589a-4dde-960f-6cd971f37f63",
   "metadata": {},
   "outputs": [
    {
     "data": {
      "text/plain": [
       "<zip at 0x123739bf680>"
      ]
     },
     "execution_count": 101,
     "metadata": {},
     "output_type": "execute_result"
    }
   ],
   "source": [
    "zip([1, 2, 3], [4, 5, 6]) # 인덱스 순서대로 자름"
   ]
  },
  {
   "cell_type": "code",
   "execution_count": 35,
   "id": "d7b3faa2-edc8-4a7c-8a32-fcec72e7df2b",
   "metadata": {},
   "outputs": [
    {
     "data": {
      "text/plain": [
       "[(1, 4), (2, 5), (3, 6)]"
      ]
     },
     "execution_count": 35,
     "metadata": {},
     "output_type": "execute_result"
    }
   ],
   "source": [
    "list(zip([1, 2, 3], [4, 5, 6]))"
   ]
  },
  {
   "cell_type": "code",
   "execution_count": 100,
   "id": "a3ec3268-4afb-4782-8c03-95f04332ad3c",
   "metadata": {},
   "outputs": [
    {
     "name": "stdout",
     "output_type": "stream",
     "text": [
      "(1, 4)\n",
      "(2, 5)\n",
      "(3, 6)\n"
     ]
    }
   ],
   "source": [
    "for i in zip([1, 2, 3], [4, 5, 6]):\n",
    "    print(i)"
   ]
  },
  {
   "cell_type": "code",
   "execution_count": 102,
   "id": "ef483975-d3ac-4522-9c94-33febb6c432a",
   "metadata": {},
   "outputs": [
    {
     "name": "stdout",
     "output_type": "stream",
     "text": [
      "(1, 4, 'a')\n",
      "(2, 5, 'b')\n",
      "(3, 6, 'c')\n"
     ]
    }
   ],
   "source": [
    "for i in zip([1, 2, 3], [4, 5, 6], ['a', 'b', 'c']):\n",
    "    print(i)"
   ]
  },
  {
   "cell_type": "code",
   "execution_count": 103,
   "id": "101e1df2-6a3b-4618-ac1a-575b978d59e0",
   "metadata": {},
   "outputs": [
    {
     "name": "stdout",
     "output_type": "stream",
     "text": [
      "1 4 a\n",
      "2 5 b\n",
      "3 6 c\n"
     ]
    }
   ],
   "source": [
    "for i, j, k in zip([1, 2, 3], [4, 5, 6], ['a', 'b', 'c']):\n",
    "    print(i, j, k)"
   ]
  },
  {
   "cell_type": "code",
   "execution_count": 1,
   "id": "167caff6-8e4e-4eed-99b2-7ef7cfafd07c",
   "metadata": {},
   "outputs": [
    {
     "name": "stdout",
     "output_type": "stream",
     "text": [
      "Requirement already satisfied: folium in c:\\users\\admin\\appdata\\local\\programs\\python\\python310\\lib\\site-packages (0.12.1.post1)\n",
      "Requirement already satisfied: requests in c:\\users\\admin\\appdata\\local\\programs\\python\\python310\\lib\\site-packages (from folium) (2.28.1)\n",
      "Requirement already satisfied: jinja2>=2.9 in c:\\users\\admin\\appdata\\local\\programs\\python\\python310\\lib\\site-packages (from folium) (3.1.2)\n",
      "Requirement already satisfied: numpy in c:\\users\\admin\\appdata\\local\\programs\\python\\python310\\lib\\site-packages (from folium) (1.23.2)\n",
      "Requirement already satisfied: branca>=0.3.0 in c:\\users\\admin\\appdata\\local\\programs\\python\\python310\\lib\\site-packages (from folium) (0.5.0)\n",
      "Requirement already satisfied: MarkupSafe>=2.0 in c:\\users\\admin\\appdata\\local\\programs\\python\\python310\\lib\\site-packages (from jinja2>=2.9->folium) (2.1.1)\n",
      "Requirement already satisfied: charset-normalizer<3,>=2 in c:\\users\\admin\\appdata\\local\\programs\\python\\python310\\lib\\site-packages (from requests->folium) (2.1.1)\n",
      "Requirement already satisfied: urllib3<1.27,>=1.21.1 in c:\\users\\admin\\appdata\\local\\programs\\python\\python310\\lib\\site-packages (from requests->folium) (1.26.12)\n",
      "Requirement already satisfied: certifi>=2017.4.17 in c:\\users\\admin\\appdata\\local\\programs\\python\\python310\\lib\\site-packages (from requests->folium) (2022.6.15)\n",
      "Requirement already satisfied: idna<4,>=2.5 in c:\\users\\admin\\appdata\\local\\programs\\python\\python310\\lib\\site-packages (from requests->folium) (3.3)\n",
      "Note: you may need to restart the kernel to use updated packages.\n"
     ]
    },
    {
     "name": "stderr",
     "output_type": "stream",
     "text": [
      "\n",
      "[notice] A new release of pip available: 22.2.1 -> 22.2.2\n",
      "[notice] To update, run: python.exe -m pip install --upgrade pip\n"
     ]
    }
   ],
   "source": [
    "pip install folium"
   ]
  },
  {
   "cell_type": "code",
   "execution_count": 157,
   "id": "63790f97-9bb8-4a63-a2b6-ab15fdbdc9ff",
   "metadata": {},
   "outputs": [],
   "source": [
    "import folium\n",
    "import pandas as pd"
   ]
  },
  {
   "cell_type": "code",
   "execution_count": 160,
   "id": "6a5198bc-a50b-4eb6-bfec-ef59bbb9b099",
   "metadata": {},
   "outputs": [
    {
     "name": "stdout",
     "output_type": "stream",
     "text": [
      "Note: you may need to restart the kernel to use updated packages.\n"
     ]
    },
    {
     "name": "stderr",
     "output_type": "stream",
     "text": [
      "ERROR: Invalid requirement: '#'\n",
      "\n",
      "[notice] A new release of pip available: 22.2.1 -> 22.2.2\n",
      "[notice] To update, run: python.exe -m pip install --upgrade pip\n"
     ]
    }
   ],
   "source": [
    "pip install pandas # 위에 오류시 "
   ]
  },
  {
   "cell_type": "code",
   "execution_count": 161,
   "id": "aecb13c7-71cd-45d5-a8c5-abd486db213c",
   "metadata": {},
   "outputs": [
    {
     "ename": "FileNotFoundError",
     "evalue": "[Errno 2] No such file or directory: '서울 대학교 위치'",
     "output_type": "error",
     "traceback": [
      "\u001b[1;31m---------------------------------------------------------------------------\u001b[0m",
      "\u001b[1;31mFileNotFoundError\u001b[0m                         Traceback (most recent call last)",
      "Input \u001b[1;32mIn [161]\u001b[0m, in \u001b[0;36m<cell line: 1>\u001b[1;34m()\u001b[0m\n\u001b[1;32m----> 1\u001b[0m \u001b[43mpd\u001b[49m\u001b[38;5;241;43m.\u001b[39;49m\u001b[43mread_excel\u001b[49m\u001b[43m(\u001b[49m\u001b[38;5;124;43m\"\u001b[39;49m\u001b[38;5;124;43m서울 대학교 위치\u001b[39;49m\u001b[38;5;124;43m\"\u001b[39;49m\u001b[43m)\u001b[49m\n",
      "File \u001b[1;32m~\\AppData\\Local\\Programs\\Python\\Python310\\lib\\site-packages\\pandas\\util\\_decorators.py:311\u001b[0m, in \u001b[0;36mdeprecate_nonkeyword_arguments.<locals>.decorate.<locals>.wrapper\u001b[1;34m(*args, **kwargs)\u001b[0m\n\u001b[0;32m    305\u001b[0m \u001b[38;5;28;01mif\u001b[39;00m \u001b[38;5;28mlen\u001b[39m(args) \u001b[38;5;241m>\u001b[39m num_allow_args:\n\u001b[0;32m    306\u001b[0m     warnings\u001b[38;5;241m.\u001b[39mwarn(\n\u001b[0;32m    307\u001b[0m         msg\u001b[38;5;241m.\u001b[39mformat(arguments\u001b[38;5;241m=\u001b[39marguments),\n\u001b[0;32m    308\u001b[0m         \u001b[38;5;167;01mFutureWarning\u001b[39;00m,\n\u001b[0;32m    309\u001b[0m         stacklevel\u001b[38;5;241m=\u001b[39mstacklevel,\n\u001b[0;32m    310\u001b[0m     )\n\u001b[1;32m--> 311\u001b[0m \u001b[38;5;28;01mreturn\u001b[39;00m func(\u001b[38;5;241m*\u001b[39margs, \u001b[38;5;241m*\u001b[39m\u001b[38;5;241m*\u001b[39mkwargs)\n",
      "File \u001b[1;32m~\\AppData\\Local\\Programs\\Python\\Python310\\lib\\site-packages\\pandas\\io\\excel\\_base.py:457\u001b[0m, in \u001b[0;36mread_excel\u001b[1;34m(io, sheet_name, header, names, index_col, usecols, squeeze, dtype, engine, converters, true_values, false_values, skiprows, nrows, na_values, keep_default_na, na_filter, verbose, parse_dates, date_parser, thousands, decimal, comment, skipfooter, convert_float, mangle_dupe_cols, storage_options)\u001b[0m\n\u001b[0;32m    455\u001b[0m \u001b[38;5;28;01mif\u001b[39;00m \u001b[38;5;129;01mnot\u001b[39;00m \u001b[38;5;28misinstance\u001b[39m(io, ExcelFile):\n\u001b[0;32m    456\u001b[0m     should_close \u001b[38;5;241m=\u001b[39m \u001b[38;5;28;01mTrue\u001b[39;00m\n\u001b[1;32m--> 457\u001b[0m     io \u001b[38;5;241m=\u001b[39m \u001b[43mExcelFile\u001b[49m\u001b[43m(\u001b[49m\u001b[43mio\u001b[49m\u001b[43m,\u001b[49m\u001b[43m \u001b[49m\u001b[43mstorage_options\u001b[49m\u001b[38;5;241;43m=\u001b[39;49m\u001b[43mstorage_options\u001b[49m\u001b[43m,\u001b[49m\u001b[43m \u001b[49m\u001b[43mengine\u001b[49m\u001b[38;5;241;43m=\u001b[39;49m\u001b[43mengine\u001b[49m\u001b[43m)\u001b[49m\n\u001b[0;32m    458\u001b[0m \u001b[38;5;28;01melif\u001b[39;00m engine \u001b[38;5;129;01mand\u001b[39;00m engine \u001b[38;5;241m!=\u001b[39m io\u001b[38;5;241m.\u001b[39mengine:\n\u001b[0;32m    459\u001b[0m     \u001b[38;5;28;01mraise\u001b[39;00m \u001b[38;5;167;01mValueError\u001b[39;00m(\n\u001b[0;32m    460\u001b[0m         \u001b[38;5;124m\"\u001b[39m\u001b[38;5;124mEngine should not be specified when passing \u001b[39m\u001b[38;5;124m\"\u001b[39m\n\u001b[0;32m    461\u001b[0m         \u001b[38;5;124m\"\u001b[39m\u001b[38;5;124man ExcelFile - ExcelFile already has the engine set\u001b[39m\u001b[38;5;124m\"\u001b[39m\n\u001b[0;32m    462\u001b[0m     )\n",
      "File \u001b[1;32m~\\AppData\\Local\\Programs\\Python\\Python310\\lib\\site-packages\\pandas\\io\\excel\\_base.py:1376\u001b[0m, in \u001b[0;36mExcelFile.__init__\u001b[1;34m(self, path_or_buffer, engine, storage_options)\u001b[0m\n\u001b[0;32m   1374\u001b[0m     ext \u001b[38;5;241m=\u001b[39m \u001b[38;5;124m\"\u001b[39m\u001b[38;5;124mxls\u001b[39m\u001b[38;5;124m\"\u001b[39m\n\u001b[0;32m   1375\u001b[0m \u001b[38;5;28;01melse\u001b[39;00m:\n\u001b[1;32m-> 1376\u001b[0m     ext \u001b[38;5;241m=\u001b[39m \u001b[43minspect_excel_format\u001b[49m\u001b[43m(\u001b[49m\n\u001b[0;32m   1377\u001b[0m \u001b[43m        \u001b[49m\u001b[43mcontent_or_path\u001b[49m\u001b[38;5;241;43m=\u001b[39;49m\u001b[43mpath_or_buffer\u001b[49m\u001b[43m,\u001b[49m\u001b[43m \u001b[49m\u001b[43mstorage_options\u001b[49m\u001b[38;5;241;43m=\u001b[39;49m\u001b[43mstorage_options\u001b[49m\n\u001b[0;32m   1378\u001b[0m \u001b[43m    \u001b[49m\u001b[43m)\u001b[49m\n\u001b[0;32m   1379\u001b[0m     \u001b[38;5;28;01mif\u001b[39;00m ext \u001b[38;5;129;01mis\u001b[39;00m \u001b[38;5;28;01mNone\u001b[39;00m:\n\u001b[0;32m   1380\u001b[0m         \u001b[38;5;28;01mraise\u001b[39;00m \u001b[38;5;167;01mValueError\u001b[39;00m(\n\u001b[0;32m   1381\u001b[0m             \u001b[38;5;124m\"\u001b[39m\u001b[38;5;124mExcel file format cannot be determined, you must specify \u001b[39m\u001b[38;5;124m\"\u001b[39m\n\u001b[0;32m   1382\u001b[0m             \u001b[38;5;124m\"\u001b[39m\u001b[38;5;124man engine manually.\u001b[39m\u001b[38;5;124m\"\u001b[39m\n\u001b[0;32m   1383\u001b[0m         )\n",
      "File \u001b[1;32m~\\AppData\\Local\\Programs\\Python\\Python310\\lib\\site-packages\\pandas\\io\\excel\\_base.py:1250\u001b[0m, in \u001b[0;36minspect_excel_format\u001b[1;34m(content_or_path, storage_options)\u001b[0m\n\u001b[0;32m   1247\u001b[0m \u001b[38;5;28;01mif\u001b[39;00m \u001b[38;5;28misinstance\u001b[39m(content_or_path, \u001b[38;5;28mbytes\u001b[39m):\n\u001b[0;32m   1248\u001b[0m     content_or_path \u001b[38;5;241m=\u001b[39m BytesIO(content_or_path)\n\u001b[1;32m-> 1250\u001b[0m \u001b[38;5;28;01mwith\u001b[39;00m \u001b[43mget_handle\u001b[49m\u001b[43m(\u001b[49m\n\u001b[0;32m   1251\u001b[0m \u001b[43m    \u001b[49m\u001b[43mcontent_or_path\u001b[49m\u001b[43m,\u001b[49m\u001b[43m \u001b[49m\u001b[38;5;124;43m\"\u001b[39;49m\u001b[38;5;124;43mrb\u001b[39;49m\u001b[38;5;124;43m\"\u001b[39;49m\u001b[43m,\u001b[49m\u001b[43m \u001b[49m\u001b[43mstorage_options\u001b[49m\u001b[38;5;241;43m=\u001b[39;49m\u001b[43mstorage_options\u001b[49m\u001b[43m,\u001b[49m\u001b[43m \u001b[49m\u001b[43mis_text\u001b[49m\u001b[38;5;241;43m=\u001b[39;49m\u001b[38;5;28;43;01mFalse\u001b[39;49;00m\n\u001b[0;32m   1252\u001b[0m \u001b[43m\u001b[49m\u001b[43m)\u001b[49m \u001b[38;5;28;01mas\u001b[39;00m handle:\n\u001b[0;32m   1253\u001b[0m     stream \u001b[38;5;241m=\u001b[39m handle\u001b[38;5;241m.\u001b[39mhandle\n\u001b[0;32m   1254\u001b[0m     stream\u001b[38;5;241m.\u001b[39mseek(\u001b[38;5;241m0\u001b[39m)\n",
      "File \u001b[1;32m~\\AppData\\Local\\Programs\\Python\\Python310\\lib\\site-packages\\pandas\\io\\common.py:795\u001b[0m, in \u001b[0;36mget_handle\u001b[1;34m(path_or_buf, mode, encoding, compression, memory_map, is_text, errors, storage_options)\u001b[0m\n\u001b[0;32m    786\u001b[0m         handle \u001b[38;5;241m=\u001b[39m \u001b[38;5;28mopen\u001b[39m(\n\u001b[0;32m    787\u001b[0m             handle,\n\u001b[0;32m    788\u001b[0m             ioargs\u001b[38;5;241m.\u001b[39mmode,\n\u001b[1;32m   (...)\u001b[0m\n\u001b[0;32m    791\u001b[0m             newline\u001b[38;5;241m=\u001b[39m\u001b[38;5;124m\"\u001b[39m\u001b[38;5;124m\"\u001b[39m,\n\u001b[0;32m    792\u001b[0m         )\n\u001b[0;32m    793\u001b[0m     \u001b[38;5;28;01melse\u001b[39;00m:\n\u001b[0;32m    794\u001b[0m         \u001b[38;5;66;03m# Binary mode\u001b[39;00m\n\u001b[1;32m--> 795\u001b[0m         handle \u001b[38;5;241m=\u001b[39m \u001b[38;5;28;43mopen\u001b[39;49m\u001b[43m(\u001b[49m\u001b[43mhandle\u001b[49m\u001b[43m,\u001b[49m\u001b[43m \u001b[49m\u001b[43mioargs\u001b[49m\u001b[38;5;241;43m.\u001b[39;49m\u001b[43mmode\u001b[49m\u001b[43m)\u001b[49m\n\u001b[0;32m    796\u001b[0m     handles\u001b[38;5;241m.\u001b[39mappend(handle)\n\u001b[0;32m    798\u001b[0m \u001b[38;5;66;03m# Convert BytesIO or file objects passed with an encoding\u001b[39;00m\n",
      "\u001b[1;31mFileNotFoundError\u001b[0m: [Errno 2] No such file or directory: '서울 대학교 위치'"
     ]
    }
   ],
   "source": [
    "pd.read_excel(\"서울 대학교 위치\")"
   ]
  },
  {
   "cell_type": "code",
   "execution_count": 8,
   "id": "3003c138-02bf-4532-996b-78b1de634812",
   "metadata": {},
   "outputs": [
    {
     "data": {
      "text/plain": [
       "'C:\\\\Users\\\\admin'"
      ]
     },
     "execution_count": 8,
     "metadata": {},
     "output_type": "execute_result"
    }
   ],
   "source": [
    "import os\n",
    "os.getcwd()"
   ]
  },
  {
   "cell_type": "code",
   "execution_count": 16,
   "id": "f9ac5865-fa5a-46bf-a389-c23d606a51bc",
   "metadata": {},
   "outputs": [
    {
     "name": "stdout",
     "output_type": "stream",
     "text": [
      "Note: you may need to restart the kernel to use updated packages.\n"
     ]
    },
    {
     "name": "stderr",
     "output_type": "stream",
     "text": [
      "ERROR: Invalid requirement: '#'\n",
      "\n",
      "[notice] A new release of pip available: 22.2.1 -> 22.2.2\n",
      "[notice] To update, run: python.exe -m pip install --upgrade pip\n"
     ]
    }
   ],
   "source": [
    "pip install openpyxl # 파일 읽기"
   ]
  },
  {
   "cell_type": "code",
   "execution_count": 162,
   "id": "f704aad0-401f-461a-9229-70ba8100d2a2",
   "metadata": {},
   "outputs": [
    {
     "data": {
      "text/html": [
       "<div>\n",
       "<style scoped>\n",
       "    .dataframe tbody tr th:only-of-type {\n",
       "        vertical-align: middle;\n",
       "    }\n",
       "\n",
       "    .dataframe tbody tr th {\n",
       "        vertical-align: top;\n",
       "    }\n",
       "\n",
       "    .dataframe thead th {\n",
       "        text-align: right;\n",
       "    }\n",
       "</style>\n",
       "<table border=\"1\" class=\"dataframe\">\n",
       "  <thead>\n",
       "    <tr style=\"text-align: right;\">\n",
       "      <th></th>\n",
       "      <th>대학교</th>\n",
       "      <th>위도</th>\n",
       "      <th>경도</th>\n",
       "    </tr>\n",
       "  </thead>\n",
       "  <tbody>\n",
       "    <tr>\n",
       "      <th>0</th>\n",
       "      <td>KAIST 서울캠퍼스</td>\n",
       "      <td>37.592573</td>\n",
       "      <td>127.046737</td>\n",
       "    </tr>\n",
       "    <tr>\n",
       "      <th>1</th>\n",
       "      <td>KC대학교</td>\n",
       "      <td>37.548345</td>\n",
       "      <td>126.854797</td>\n",
       "    </tr>\n",
       "    <tr>\n",
       "      <th>2</th>\n",
       "      <td>가톨릭대학교(성신교정)</td>\n",
       "      <td>37.585922</td>\n",
       "      <td>127.004328</td>\n",
       "    </tr>\n",
       "    <tr>\n",
       "      <th>3</th>\n",
       "      <td>가톨릭대학교(성의교정)</td>\n",
       "      <td>37.499623</td>\n",
       "      <td>127.006065</td>\n",
       "    </tr>\n",
       "    <tr>\n",
       "      <th>4</th>\n",
       "      <td>감리교신학대학교</td>\n",
       "      <td>37.567645</td>\n",
       "      <td>126.961610</td>\n",
       "    </tr>\n",
       "    <tr>\n",
       "      <th>5</th>\n",
       "      <td>건국대학교</td>\n",
       "      <td>37.540762</td>\n",
       "      <td>127.079343</td>\n",
       "    </tr>\n",
       "    <tr>\n",
       "      <th>6</th>\n",
       "      <td>경기대학교 서울캠퍼스</td>\n",
       "      <td>37.300485</td>\n",
       "      <td>127.035833</td>\n",
       "    </tr>\n",
       "    <tr>\n",
       "      <th>7</th>\n",
       "      <td>경희대학교 서울캠퍼스</td>\n",
       "      <td>37.596195</td>\n",
       "      <td>127.052544</td>\n",
       "    </tr>\n",
       "    <tr>\n",
       "      <th>8</th>\n",
       "      <td>고려대학교</td>\n",
       "      <td>37.590192</td>\n",
       "      <td>127.033184</td>\n",
       "    </tr>\n",
       "    <tr>\n",
       "      <th>9</th>\n",
       "      <td>광운대학교</td>\n",
       "      <td>37.619496</td>\n",
       "      <td>127.059696</td>\n",
       "    </tr>\n",
       "    <tr>\n",
       "      <th>10</th>\n",
       "      <td>국민대학교</td>\n",
       "      <td>37.609641</td>\n",
       "      <td>126.997697</td>\n",
       "    </tr>\n",
       "    <tr>\n",
       "      <th>11</th>\n",
       "      <td>덕성여자대학교</td>\n",
       "      <td>37.651199</td>\n",
       "      <td>127.016160</td>\n",
       "    </tr>\n",
       "    <tr>\n",
       "      <th>12</th>\n",
       "      <td>동국대학교</td>\n",
       "      <td>37.557477</td>\n",
       "      <td>127.002052</td>\n",
       "    </tr>\n",
       "    <tr>\n",
       "      <th>13</th>\n",
       "      <td>동덕여자대학교</td>\n",
       "      <td>37.606320</td>\n",
       "      <td>127.041808</td>\n",
       "    </tr>\n",
       "    <tr>\n",
       "      <th>14</th>\n",
       "      <td>명지대학교 서울캠퍼스</td>\n",
       "      <td>37.580205</td>\n",
       "      <td>126.923445</td>\n",
       "    </tr>\n",
       "    <tr>\n",
       "      <th>15</th>\n",
       "      <td>삼육대학교</td>\n",
       "      <td>37.642952</td>\n",
       "      <td>127.105476</td>\n",
       "    </tr>\n",
       "    <tr>\n",
       "      <th>16</th>\n",
       "      <td>상명대학교 서울캠퍼스</td>\n",
       "      <td>37.602638</td>\n",
       "      <td>126.955252</td>\n",
       "    </tr>\n",
       "    <tr>\n",
       "      <th>17</th>\n",
       "      <td>서강대학교</td>\n",
       "      <td>37.550944</td>\n",
       "      <td>126.941002</td>\n",
       "    </tr>\n",
       "    <tr>\n",
       "      <th>18</th>\n",
       "      <td>서경대학교</td>\n",
       "      <td>37.615095</td>\n",
       "      <td>127.013111</td>\n",
       "    </tr>\n",
       "    <tr>\n",
       "      <th>19</th>\n",
       "      <td>서울과학기술대학교</td>\n",
       "      <td>37.631668</td>\n",
       "      <td>127.077481</td>\n",
       "    </tr>\n",
       "    <tr>\n",
       "      <th>20</th>\n",
       "      <td>서울교육대학교</td>\n",
       "      <td>37.489961</td>\n",
       "      <td>127.016412</td>\n",
       "    </tr>\n",
       "    <tr>\n",
       "      <th>21</th>\n",
       "      <td>서울기독대학교</td>\n",
       "      <td>37.600923</td>\n",
       "      <td>126.912382</td>\n",
       "    </tr>\n",
       "    <tr>\n",
       "      <th>22</th>\n",
       "      <td>서울대학교</td>\n",
       "      <td>37.459882</td>\n",
       "      <td>126.951905</td>\n",
       "    </tr>\n",
       "    <tr>\n",
       "      <th>23</th>\n",
       "      <td>서울시립대학교</td>\n",
       "      <td>37.583866</td>\n",
       "      <td>127.058777</td>\n",
       "    </tr>\n",
       "    <tr>\n",
       "      <th>24</th>\n",
       "      <td>서울여자대학교</td>\n",
       "      <td>37.628113</td>\n",
       "      <td>127.090457</td>\n",
       "    </tr>\n",
       "    <tr>\n",
       "      <th>25</th>\n",
       "      <td>서울한영대학교</td>\n",
       "      <td>37.496541</td>\n",
       "      <td>126.851262</td>\n",
       "    </tr>\n",
       "    <tr>\n",
       "      <th>26</th>\n",
       "      <td>성공회대학교</td>\n",
       "      <td>37.487232</td>\n",
       "      <td>126.825320</td>\n",
       "    </tr>\n",
       "    <tr>\n",
       "      <th>27</th>\n",
       "      <td>성균관대학교 서울캠퍼스</td>\n",
       "      <td>37.588227</td>\n",
       "      <td>126.993606</td>\n",
       "    </tr>\n",
       "    <tr>\n",
       "      <th>28</th>\n",
       "      <td>성신여자대학교</td>\n",
       "      <td>37.591310</td>\n",
       "      <td>127.022131</td>\n",
       "    </tr>\n",
       "    <tr>\n",
       "      <th>29</th>\n",
       "      <td>세종대학교</td>\n",
       "      <td>37.550260</td>\n",
       "      <td>127.073139</td>\n",
       "    </tr>\n",
       "    <tr>\n",
       "      <th>30</th>\n",
       "      <td>숙명여자대학교</td>\n",
       "      <td>37.546364</td>\n",
       "      <td>126.964831</td>\n",
       "    </tr>\n",
       "    <tr>\n",
       "      <th>31</th>\n",
       "      <td>숭실대학교</td>\n",
       "      <td>37.496311</td>\n",
       "      <td>126.957460</td>\n",
       "    </tr>\n",
       "    <tr>\n",
       "      <th>32</th>\n",
       "      <td>연세대학교</td>\n",
       "      <td>37.565784</td>\n",
       "      <td>126.938572</td>\n",
       "    </tr>\n",
       "    <tr>\n",
       "      <th>33</th>\n",
       "      <td>육군사관학교</td>\n",
       "      <td>37.623819</td>\n",
       "      <td>127.098878</td>\n",
       "    </tr>\n",
       "    <tr>\n",
       "      <th>34</th>\n",
       "      <td>이화여자대학교</td>\n",
       "      <td>37.564308</td>\n",
       "      <td>126.950179</td>\n",
       "    </tr>\n",
       "    <tr>\n",
       "      <th>35</th>\n",
       "      <td>장로회신학대학교</td>\n",
       "      <td>37.550511</td>\n",
       "      <td>127.103458</td>\n",
       "    </tr>\n",
       "    <tr>\n",
       "      <th>36</th>\n",
       "      <td>중앙대학교 서울캠퍼스</td>\n",
       "      <td>37.505088</td>\n",
       "      <td>126.957101</td>\n",
       "    </tr>\n",
       "    <tr>\n",
       "      <th>37</th>\n",
       "      <td>총신대학교</td>\n",
       "      <td>37.488623</td>\n",
       "      <td>126.966817</td>\n",
       "    </tr>\n",
       "    <tr>\n",
       "      <th>38</th>\n",
       "      <td>추계예술대학교</td>\n",
       "      <td>37.562452</td>\n",
       "      <td>126.953417</td>\n",
       "    </tr>\n",
       "    <tr>\n",
       "      <th>39</th>\n",
       "      <td>한국방송통신대학교</td>\n",
       "      <td>37.578613</td>\n",
       "      <td>127.003291</td>\n",
       "    </tr>\n",
       "    <tr>\n",
       "      <th>40</th>\n",
       "      <td>한국성서대학교</td>\n",
       "      <td>37.648749</td>\n",
       "      <td>127.064320</td>\n",
       "    </tr>\n",
       "    <tr>\n",
       "      <th>41</th>\n",
       "      <td>한국예술종합학교</td>\n",
       "      <td>37.604997</td>\n",
       "      <td>127.056740</td>\n",
       "    </tr>\n",
       "    <tr>\n",
       "      <th>42</th>\n",
       "      <td>한국외국어대학교</td>\n",
       "      <td>37.597319</td>\n",
       "      <td>127.057843</td>\n",
       "    </tr>\n",
       "    <tr>\n",
       "      <th>43</th>\n",
       "      <td>한국체육대학교</td>\n",
       "      <td>37.519627</td>\n",
       "      <td>127.130984</td>\n",
       "    </tr>\n",
       "    <tr>\n",
       "      <th>44</th>\n",
       "      <td>한성대학교</td>\n",
       "      <td>37.581785</td>\n",
       "      <td>127.010369</td>\n",
       "    </tr>\n",
       "    <tr>\n",
       "      <th>45</th>\n",
       "      <td>한양대학교</td>\n",
       "      <td>37.557232</td>\n",
       "      <td>127.045322</td>\n",
       "    </tr>\n",
       "    <tr>\n",
       "      <th>46</th>\n",
       "      <td>홍익대학교</td>\n",
       "      <td>37.551464</td>\n",
       "      <td>126.925011</td>\n",
       "    </tr>\n",
       "  </tbody>\n",
       "</table>\n",
       "</div>"
      ],
      "text/plain": [
       "               대학교         위도          경도\n",
       "0     KAIST 서울캠퍼스   37.592573  127.046737\n",
       "1            KC대학교  37.548345  126.854797\n",
       "2     가톨릭대학교(성신교정)  37.585922  127.004328\n",
       "3     가톨릭대학교(성의교정)  37.499623  127.006065\n",
       "4         감리교신학대학교  37.567645  126.961610\n",
       "5            건국대학교  37.540762  127.079343\n",
       "6     경기대학교 서울캠퍼스   37.300485  127.035833\n",
       "7     경희대학교 서울캠퍼스   37.596195  127.052544\n",
       "8            고려대학교  37.590192  127.033184\n",
       "9            광운대학교  37.619496  127.059696\n",
       "10           국민대학교  37.609641  126.997697\n",
       "11         덕성여자대학교  37.651199  127.016160\n",
       "12           동국대학교  37.557477  127.002052\n",
       "13         동덕여자대학교  37.606320  127.041808\n",
       "14    명지대학교 서울캠퍼스   37.580205  126.923445\n",
       "15           삼육대학교  37.642952  127.105476\n",
       "16    상명대학교 서울캠퍼스   37.602638  126.955252\n",
       "17           서강대학교  37.550944  126.941002\n",
       "18           서경대학교  37.615095  127.013111\n",
       "19       서울과학기술대학교  37.631668  127.077481\n",
       "20         서울교육대학교  37.489961  127.016412\n",
       "21         서울기독대학교  37.600923  126.912382\n",
       "22           서울대학교  37.459882  126.951905\n",
       "23         서울시립대학교  37.583866  127.058777\n",
       "24         서울여자대학교  37.628113  127.090457\n",
       "25         서울한영대학교  37.496541  126.851262\n",
       "26          성공회대학교  37.487232  126.825320\n",
       "27  성균관대학교 서울캠퍼스    37.588227  126.993606\n",
       "28         성신여자대학교  37.591310  127.022131\n",
       "29           세종대학교  37.550260  127.073139\n",
       "30         숙명여자대학교  37.546364  126.964831\n",
       "31           숭실대학교  37.496311  126.957460\n",
       "32           연세대학교  37.565784  126.938572\n",
       "33          육군사관학교  37.623819  127.098878\n",
       "34         이화여자대학교  37.564308  126.950179\n",
       "35        장로회신학대학교  37.550511  127.103458\n",
       "36    중앙대학교 서울캠퍼스   37.505088  126.957101\n",
       "37           총신대학교  37.488623  126.966817\n",
       "38         추계예술대학교  37.562452  126.953417\n",
       "39       한국방송통신대학교  37.578613  127.003291\n",
       "40         한국성서대학교  37.648749  127.064320\n",
       "41        한국예술종합학교  37.604997  127.056740\n",
       "42        한국외국어대학교  37.597319  127.057843\n",
       "43         한국체육대학교  37.519627  127.130984\n",
       "44           한성대학교  37.581785  127.010369\n",
       "45           한양대학교  37.557232  127.045322\n",
       "46           홍익대학교  37.551464  126.925011"
      ]
     },
     "execution_count": 162,
     "metadata": {},
     "output_type": "execute_result"
    }
   ],
   "source": [
    "df=pd.read_excel(\"서울지역대학교위치.xlsx\")\n",
    "df"
   ]
  },
  {
   "cell_type": "code",
   "execution_count": 163,
   "id": "8b1fcb72-08a7-43dd-9054-544ea7e8191b",
   "metadata": {},
   "outputs": [
    {
     "data": {
      "text/plain": [
       "0       KAIST 서울캠퍼스 \n",
       "1              KC대학교\n",
       "2       가톨릭대학교(성신교정)\n",
       "3       가톨릭대학교(성의교정)\n",
       "4           감리교신학대학교\n",
       "5              건국대학교\n",
       "6       경기대학교 서울캠퍼스 \n",
       "7       경희대학교 서울캠퍼스 \n",
       "8              고려대학교\n",
       "9              광운대학교\n",
       "10             국민대학교\n",
       "11           덕성여자대학교\n",
       "12             동국대학교\n",
       "13           동덕여자대학교\n",
       "14      명지대학교 서울캠퍼스 \n",
       "15             삼육대학교\n",
       "16      상명대학교 서울캠퍼스 \n",
       "17             서강대학교\n",
       "18             서경대학교\n",
       "19         서울과학기술대학교\n",
       "20           서울교육대학교\n",
       "21           서울기독대학교\n",
       "22             서울대학교\n",
       "23           서울시립대학교\n",
       "24           서울여자대학교\n",
       "25           서울한영대학교\n",
       "26            성공회대학교\n",
       "27    성균관대학교 서울캠퍼스  \n",
       "28           성신여자대학교\n",
       "29             세종대학교\n",
       "30           숙명여자대학교\n",
       "31             숭실대학교\n",
       "32             연세대학교\n",
       "33            육군사관학교\n",
       "34           이화여자대학교\n",
       "35          장로회신학대학교\n",
       "36      중앙대학교 서울캠퍼스 \n",
       "37             총신대학교\n",
       "38           추계예술대학교\n",
       "39         한국방송통신대학교\n",
       "40           한국성서대학교\n",
       "41          한국예술종합학교\n",
       "42          한국외국어대학교\n",
       "43           한국체육대학교\n",
       "44             한성대학교\n",
       "45             한양대학교\n",
       "46             홍익대학교\n",
       "Name: 대학교, dtype: object"
      ]
     },
     "execution_count": 163,
     "metadata": {},
     "output_type": "execute_result"
    }
   ],
   "source": [
    "df.대학교 # 칼럼에 접근"
   ]
  },
  {
   "cell_type": "code",
   "execution_count": 17,
   "id": "35bfb94e-f01c-421c-930b-a07db7d6ee9a",
   "metadata": {},
   "outputs": [
    {
     "data": {
      "text/plain": [
       "0     37.592573\n",
       "1     37.548345\n",
       "2     37.585922\n",
       "3     37.499623\n",
       "4     37.567645\n",
       "5     37.540762\n",
       "6     37.300485\n",
       "7     37.596195\n",
       "8     37.590192\n",
       "9     37.619496\n",
       "10    37.609641\n",
       "11    37.651199\n",
       "12    37.557477\n",
       "13    37.606320\n",
       "14    37.580205\n",
       "15    37.642952\n",
       "16    37.602638\n",
       "17    37.550944\n",
       "18    37.615095\n",
       "19    37.631668\n",
       "20    37.489961\n",
       "21    37.600923\n",
       "22    37.459882\n",
       "23    37.583866\n",
       "24    37.628113\n",
       "25    37.496541\n",
       "26    37.487232\n",
       "27    37.588227\n",
       "28    37.591310\n",
       "29    37.550260\n",
       "30    37.546364\n",
       "31    37.496311\n",
       "32    37.565784\n",
       "33    37.623819\n",
       "34    37.564308\n",
       "35    37.550511\n",
       "36    37.505088\n",
       "37    37.488623\n",
       "38    37.562452\n",
       "39    37.578613\n",
       "40    37.648749\n",
       "41    37.604997\n",
       "42    37.597319\n",
       "43    37.519627\n",
       "44    37.581785\n",
       "45    37.557232\n",
       "46    37.551464\n",
       "Name: 위도, dtype: float64"
      ]
     },
     "execution_count": 17,
     "metadata": {},
     "output_type": "execute_result"
    }
   ],
   "source": [
    "df.위도"
   ]
  },
  {
   "cell_type": "code",
   "execution_count": 18,
   "id": "bf1c4c84-ac2e-4226-a63c-e0869dd709e3",
   "metadata": {},
   "outputs": [
    {
     "name": "stdout",
     "output_type": "stream",
     "text": [
      "KAIST 서울캠퍼스  37.592573 127.046737\n",
      "KC대학교 37.5483449 126.8547974\n",
      "가톨릭대학교(성신교정) 37.5859218 127.0043275\n",
      "가톨릭대학교(성의교정) 37.4996227 127.0060653\n",
      "감리교신학대학교 37.5676455 126.96161\n",
      "건국대학교 37.5407625 127.0793428\n",
      "경기대학교 서울캠퍼스  37.30048499999999 127.035833\n",
      "경희대학교 서울캠퍼스  37.5961951 127.052544\n",
      "고려대학교 37.59019162 127.03318417123\n",
      "광운대학교 37.6194965 127.0596958\n",
      "국민대학교 37.6096409 126.997697\n",
      "덕성여자대학교 37.6511988 127.0161604\n",
      "동국대학교 37.5574771 127.0020518\n",
      "동덕여자대학교 37.6063202 127.041808\n",
      "명지대학교 서울캠퍼스  37.5802046 126.9234451\n",
      "삼육대학교 37.6429515 127.1054757\n",
      "상명대학교 서울캠퍼스  37.602638 126.955252\n",
      "서강대학교 37.5509442 126.9410023\n",
      "서경대학교 37.615095 127.0131113\n",
      "서울과학기술대학교 37.6316684 127.0774813\n",
      "서울교육대학교 37.4899615 127.0164124\n",
      "서울기독대학교 37.6009228 126.9123818\n",
      "서울대학교 37.459882 126.9519053\n",
      "서울시립대학교 37.5838657 127.0587771\n",
      "서울여자대학교 37.6281126 127.0904568\n",
      "서울한영대학교 37.4965411 126.8512616\n",
      "성공회대학교 37.4872325 126.8253202\n",
      "성균관대학교 서울캠퍼스   37.588227 126.993606\n",
      "성신여자대학교 37.5913103 127.0221312\n",
      "세종대학교 37.5502596 127.073139\n",
      "숙명여자대학교 37.5463644 126.9648311\n",
      "숭실대학교 37.4963111 126.9574596\n",
      "연세대학교 37.565784 126.938572\n",
      "육군사관학교 37.6238188 127.0988783\n",
      "이화여자대학교 37.5643079 126.9501786\n",
      "장로회신학대학교 37.5505112 127.1034577\n",
      "중앙대학교 서울캠퍼스  37.5050881 126.9571012\n",
      "총신대학교 37.4886232 126.9668169\n",
      "추계예술대학교 37.5624515 126.9534165\n",
      "한국방송통신대학교 37.5786127 127.0032905\n",
      "한국성서대학교 37.6487485 127.0643199\n",
      "한국예술종합학교 37.6049973 127.0567397\n",
      "한국외국어대학교 37.597319 127.057843\n",
      "한국체육대학교 37.5196266 127.1309837\n",
      "한성대학교 37.5817849 127.010369\n",
      "한양대학교 37.5572321 127.0453219\n",
      "홍익대학교 37.5514642 126.9250106\n"
     ]
    }
   ],
   "source": [
    "for i,j,k in zip(df.대학교, df.위도, df.경도):\n",
    "    print(i,j,k)"
   ]
  },
  {
   "cell_type": "code",
   "execution_count": 21,
   "id": "2a6feeea-4357-47a1-9645-17f3d6c941d8",
   "metadata": {},
   "outputs": [],
   "source": [
    "seoul_map = folium.Map(location=[37.55, 126.98], zoom_start =12)"
   ]
  },
  {
   "cell_type": "code",
   "execution_count": 20,
   "id": "c5a4ec0f-c623-4c42-a39b-5cf4e8257a2d",
   "metadata": {},
   "outputs": [
    {
     "data": {
      "text/html": [
       "<div style=\"width:100%;\"><div style=\"position:relative;width:100%;height:0;padding-bottom:60%;\"><span style=\"color:#565656\">Make this Notebook Trusted to load map: File -> Trust Notebook</span><iframe srcdoc=\"&lt;!DOCTYPE html&gt;\n",
       "&lt;head&gt;    \n",
       "    &lt;meta http-equiv=&quot;content-type&quot; content=&quot;text/html; charset=UTF-8&quot; /&gt;\n",
       "    \n",
       "        &lt;script&gt;\n",
       "            L_NO_TOUCH = false;\n",
       "            L_DISABLE_3D = false;\n",
       "        &lt;/script&gt;\n",
       "    \n",
       "    &lt;style&gt;html, body {width: 100%;height: 100%;margin: 0;padding: 0;}&lt;/style&gt;\n",
       "    &lt;style&gt;#map {position:absolute;top:0;bottom:0;right:0;left:0;}&lt;/style&gt;\n",
       "    &lt;script src=&quot;https://cdn.jsdelivr.net/npm/leaflet@1.6.0/dist/leaflet.js&quot;&gt;&lt;/script&gt;\n",
       "    &lt;script src=&quot;https://code.jquery.com/jquery-1.12.4.min.js&quot;&gt;&lt;/script&gt;\n",
       "    &lt;script src=&quot;https://maxcdn.bootstrapcdn.com/bootstrap/3.2.0/js/bootstrap.min.js&quot;&gt;&lt;/script&gt;\n",
       "    &lt;script src=&quot;https://cdnjs.cloudflare.com/ajax/libs/Leaflet.awesome-markers/2.0.2/leaflet.awesome-markers.js&quot;&gt;&lt;/script&gt;\n",
       "    &lt;link rel=&quot;stylesheet&quot; href=&quot;https://cdn.jsdelivr.net/npm/leaflet@1.6.0/dist/leaflet.css&quot;/&gt;\n",
       "    &lt;link rel=&quot;stylesheet&quot; href=&quot;https://maxcdn.bootstrapcdn.com/bootstrap/3.2.0/css/bootstrap.min.css&quot;/&gt;\n",
       "    &lt;link rel=&quot;stylesheet&quot; href=&quot;https://maxcdn.bootstrapcdn.com/bootstrap/3.2.0/css/bootstrap-theme.min.css&quot;/&gt;\n",
       "    &lt;link rel=&quot;stylesheet&quot; href=&quot;https://maxcdn.bootstrapcdn.com/font-awesome/4.6.3/css/font-awesome.min.css&quot;/&gt;\n",
       "    &lt;link rel=&quot;stylesheet&quot; href=&quot;https://cdnjs.cloudflare.com/ajax/libs/Leaflet.awesome-markers/2.0.2/leaflet.awesome-markers.css&quot;/&gt;\n",
       "    &lt;link rel=&quot;stylesheet&quot; href=&quot;https://cdn.jsdelivr.net/gh/python-visualization/folium/folium/templates/leaflet.awesome.rotate.min.css&quot;/&gt;\n",
       "    \n",
       "            &lt;meta name=&quot;viewport&quot; content=&quot;width=device-width,\n",
       "                initial-scale=1.0, maximum-scale=1.0, user-scalable=no&quot; /&gt;\n",
       "            &lt;style&gt;\n",
       "                #map_cd7c6e2680c4989636ea3f0aa275a98c {\n",
       "                    position: relative;\n",
       "                    width: 100.0%;\n",
       "                    height: 100.0%;\n",
       "                    left: 0.0%;\n",
       "                    top: 0.0%;\n",
       "                }\n",
       "            &lt;/style&gt;\n",
       "        \n",
       "&lt;/head&gt;\n",
       "&lt;body&gt;    \n",
       "    \n",
       "            &lt;div class=&quot;folium-map&quot; id=&quot;map_cd7c6e2680c4989636ea3f0aa275a98c&quot; &gt;&lt;/div&gt;\n",
       "        \n",
       "&lt;/body&gt;\n",
       "&lt;script&gt;    \n",
       "    \n",
       "            var map_cd7c6e2680c4989636ea3f0aa275a98c = L.map(\n",
       "                &quot;map_cd7c6e2680c4989636ea3f0aa275a98c&quot;,\n",
       "                {\n",
       "                    center: [37.5802046, 126.9234451],\n",
       "                    crs: L.CRS.EPSG3857,\n",
       "                    zoom: 12,\n",
       "                    zoomControl: true,\n",
       "                    preferCanvas: false,\n",
       "                }\n",
       "            );\n",
       "\n",
       "            \n",
       "\n",
       "        \n",
       "    \n",
       "            var tile_layer_83e5e23a6c6b72adaa469fce2592a33b = L.tileLayer(\n",
       "                &quot;https://{s}.tile.openstreetmap.org/{z}/{x}/{y}.png&quot;,\n",
       "                {&quot;attribution&quot;: &quot;Data by \\u0026copy; \\u003ca href=\\&quot;http://openstreetmap.org\\&quot;\\u003eOpenStreetMap\\u003c/a\\u003e, under \\u003ca href=\\&quot;http://www.openstreetmap.org/copyright\\&quot;\\u003eODbL\\u003c/a\\u003e.&quot;, &quot;detectRetina&quot;: false, &quot;maxNativeZoom&quot;: 18, &quot;maxZoom&quot;: 18, &quot;minZoom&quot;: 0, &quot;noWrap&quot;: false, &quot;opacity&quot;: 1, &quot;subdomains&quot;: &quot;abc&quot;, &quot;tms&quot;: false}\n",
       "            ).addTo(map_cd7c6e2680c4989636ea3f0aa275a98c);\n",
       "        \n",
       "&lt;/script&gt;\" style=\"position:absolute;width:100%;height:100%;left:0;top:0;border:none !important;\" allowfullscreen webkitallowfullscreen mozallowfullscreen></iframe></div></div>"
      ],
      "text/plain": [
       "<folium.folium.Map at 0x1e0b47e2fb0>"
      ]
     },
     "execution_count": 20,
     "metadata": {},
     "output_type": "execute_result"
    }
   ],
   "source": [
    "folium.Map(location=[37.5802046, 126.9234451], zoom_start =12)"
   ]
  },
  {
   "cell_type": "code",
   "execution_count": 23,
   "id": "490f7d3e-0525-4ba2-892c-282b40514bee",
   "metadata": {},
   "outputs": [],
   "source": [
    "for name, lat, long in zip(df.대학교, df.위도, df.경도):\n",
    "    folium.Marker([lat, long], tooltip= name).add_to(seoul_map)"
   ]
  },
  {
   "cell_type": "code",
   "execution_count": 24,
   "id": "bd430c20-0543-414b-839e-fa696f348681",
   "metadata": {},
   "outputs": [
    {
     "data": {
      "text/html": [
       "<div style=\"width:100%;\"><div style=\"position:relative;width:100%;height:0;padding-bottom:60%;\"><span style=\"color:#565656\">Make this Notebook Trusted to load map: File -> Trust Notebook</span><iframe srcdoc=\"&lt;!DOCTYPE html&gt;\n",
       "&lt;head&gt;    \n",
       "    &lt;meta http-equiv=&quot;content-type&quot; content=&quot;text/html; charset=UTF-8&quot; /&gt;\n",
       "    \n",
       "        &lt;script&gt;\n",
       "            L_NO_TOUCH = false;\n",
       "            L_DISABLE_3D = false;\n",
       "        &lt;/script&gt;\n",
       "    \n",
       "    &lt;style&gt;html, body {width: 100%;height: 100%;margin: 0;padding: 0;}&lt;/style&gt;\n",
       "    &lt;style&gt;#map {position:absolute;top:0;bottom:0;right:0;left:0;}&lt;/style&gt;\n",
       "    &lt;script src=&quot;https://cdn.jsdelivr.net/npm/leaflet@1.6.0/dist/leaflet.js&quot;&gt;&lt;/script&gt;\n",
       "    &lt;script src=&quot;https://code.jquery.com/jquery-1.12.4.min.js&quot;&gt;&lt;/script&gt;\n",
       "    &lt;script src=&quot;https://maxcdn.bootstrapcdn.com/bootstrap/3.2.0/js/bootstrap.min.js&quot;&gt;&lt;/script&gt;\n",
       "    &lt;script src=&quot;https://cdnjs.cloudflare.com/ajax/libs/Leaflet.awesome-markers/2.0.2/leaflet.awesome-markers.js&quot;&gt;&lt;/script&gt;\n",
       "    &lt;link rel=&quot;stylesheet&quot; href=&quot;https://cdn.jsdelivr.net/npm/leaflet@1.6.0/dist/leaflet.css&quot;/&gt;\n",
       "    &lt;link rel=&quot;stylesheet&quot; href=&quot;https://maxcdn.bootstrapcdn.com/bootstrap/3.2.0/css/bootstrap.min.css&quot;/&gt;\n",
       "    &lt;link rel=&quot;stylesheet&quot; href=&quot;https://maxcdn.bootstrapcdn.com/bootstrap/3.2.0/css/bootstrap-theme.min.css&quot;/&gt;\n",
       "    &lt;link rel=&quot;stylesheet&quot; href=&quot;https://maxcdn.bootstrapcdn.com/font-awesome/4.6.3/css/font-awesome.min.css&quot;/&gt;\n",
       "    &lt;link rel=&quot;stylesheet&quot; href=&quot;https://cdnjs.cloudflare.com/ajax/libs/Leaflet.awesome-markers/2.0.2/leaflet.awesome-markers.css&quot;/&gt;\n",
       "    &lt;link rel=&quot;stylesheet&quot; href=&quot;https://cdn.jsdelivr.net/gh/python-visualization/folium/folium/templates/leaflet.awesome.rotate.min.css&quot;/&gt;\n",
       "    \n",
       "            &lt;meta name=&quot;viewport&quot; content=&quot;width=device-width,\n",
       "                initial-scale=1.0, maximum-scale=1.0, user-scalable=no&quot; /&gt;\n",
       "            &lt;style&gt;\n",
       "                #map_3e750f25d2607b5eb5279f584399bf24 {\n",
       "                    position: relative;\n",
       "                    width: 100.0%;\n",
       "                    height: 100.0%;\n",
       "                    left: 0.0%;\n",
       "                    top: 0.0%;\n",
       "                }\n",
       "            &lt;/style&gt;\n",
       "        \n",
       "&lt;/head&gt;\n",
       "&lt;body&gt;    \n",
       "    \n",
       "            &lt;div class=&quot;folium-map&quot; id=&quot;map_3e750f25d2607b5eb5279f584399bf24&quot; &gt;&lt;/div&gt;\n",
       "        \n",
       "&lt;/body&gt;\n",
       "&lt;script&gt;    \n",
       "    \n",
       "            var map_3e750f25d2607b5eb5279f584399bf24 = L.map(\n",
       "                &quot;map_3e750f25d2607b5eb5279f584399bf24&quot;,\n",
       "                {\n",
       "                    center: [37.55, 126.98],\n",
       "                    crs: L.CRS.EPSG3857,\n",
       "                    zoom: 12,\n",
       "                    zoomControl: true,\n",
       "                    preferCanvas: false,\n",
       "                }\n",
       "            );\n",
       "\n",
       "            \n",
       "\n",
       "        \n",
       "    \n",
       "            var tile_layer_96672ef838cbc20a1bd461a50e9a565b = L.tileLayer(\n",
       "                &quot;https://{s}.tile.openstreetmap.org/{z}/{x}/{y}.png&quot;,\n",
       "                {&quot;attribution&quot;: &quot;Data by \\u0026copy; \\u003ca href=\\&quot;http://openstreetmap.org\\&quot;\\u003eOpenStreetMap\\u003c/a\\u003e, under \\u003ca href=\\&quot;http://www.openstreetmap.org/copyright\\&quot;\\u003eODbL\\u003c/a\\u003e.&quot;, &quot;detectRetina&quot;: false, &quot;maxNativeZoom&quot;: 18, &quot;maxZoom&quot;: 18, &quot;minZoom&quot;: 0, &quot;noWrap&quot;: false, &quot;opacity&quot;: 1, &quot;subdomains&quot;: &quot;abc&quot;, &quot;tms&quot;: false}\n",
       "            ).addTo(map_3e750f25d2607b5eb5279f584399bf24);\n",
       "        \n",
       "    \n",
       "            var marker_404e323e796d857944fd057c840c248a = L.marker(\n",
       "                [37.592573, 127.046737],\n",
       "                {}\n",
       "            ).addTo(map_3e750f25d2607b5eb5279f584399bf24);\n",
       "        \n",
       "    \n",
       "            marker_404e323e796d857944fd057c840c248a.bindTooltip(\n",
       "                `&lt;div&gt;\n",
       "                     KAIST 서울캠퍼스 \n",
       "                 &lt;/div&gt;`,\n",
       "                {&quot;sticky&quot;: true}\n",
       "            );\n",
       "        \n",
       "    \n",
       "            var marker_b55a72f7ca5c7bf27fc0f3b49cae8331 = L.marker(\n",
       "                [37.5483449, 126.8547974],\n",
       "                {}\n",
       "            ).addTo(map_3e750f25d2607b5eb5279f584399bf24);\n",
       "        \n",
       "    \n",
       "            marker_b55a72f7ca5c7bf27fc0f3b49cae8331.bindTooltip(\n",
       "                `&lt;div&gt;\n",
       "                     KC대학교\n",
       "                 &lt;/div&gt;`,\n",
       "                {&quot;sticky&quot;: true}\n",
       "            );\n",
       "        \n",
       "    \n",
       "            var marker_92c806e7c260584c8ef5062340fbb44b = L.marker(\n",
       "                [37.5859218, 127.0043275],\n",
       "                {}\n",
       "            ).addTo(map_3e750f25d2607b5eb5279f584399bf24);\n",
       "        \n",
       "    \n",
       "            marker_92c806e7c260584c8ef5062340fbb44b.bindTooltip(\n",
       "                `&lt;div&gt;\n",
       "                     가톨릭대학교(성신교정)\n",
       "                 &lt;/div&gt;`,\n",
       "                {&quot;sticky&quot;: true}\n",
       "            );\n",
       "        \n",
       "    \n",
       "            var marker_b7186e8ad05a4b202b2cc70b0adae859 = L.marker(\n",
       "                [37.4996227, 127.0060653],\n",
       "                {}\n",
       "            ).addTo(map_3e750f25d2607b5eb5279f584399bf24);\n",
       "        \n",
       "    \n",
       "            marker_b7186e8ad05a4b202b2cc70b0adae859.bindTooltip(\n",
       "                `&lt;div&gt;\n",
       "                     가톨릭대학교(성의교정)\n",
       "                 &lt;/div&gt;`,\n",
       "                {&quot;sticky&quot;: true}\n",
       "            );\n",
       "        \n",
       "    \n",
       "            var marker_59853892a2fe5b109a7ad81c7058cd52 = L.marker(\n",
       "                [37.5676455, 126.96161],\n",
       "                {}\n",
       "            ).addTo(map_3e750f25d2607b5eb5279f584399bf24);\n",
       "        \n",
       "    \n",
       "            marker_59853892a2fe5b109a7ad81c7058cd52.bindTooltip(\n",
       "                `&lt;div&gt;\n",
       "                     감리교신학대학교\n",
       "                 &lt;/div&gt;`,\n",
       "                {&quot;sticky&quot;: true}\n",
       "            );\n",
       "        \n",
       "    \n",
       "            var marker_78fd68379834e2d46fdab207ed3ba678 = L.marker(\n",
       "                [37.5407625, 127.0793428],\n",
       "                {}\n",
       "            ).addTo(map_3e750f25d2607b5eb5279f584399bf24);\n",
       "        \n",
       "    \n",
       "            marker_78fd68379834e2d46fdab207ed3ba678.bindTooltip(\n",
       "                `&lt;div&gt;\n",
       "                     건국대학교\n",
       "                 &lt;/div&gt;`,\n",
       "                {&quot;sticky&quot;: true}\n",
       "            );\n",
       "        \n",
       "    \n",
       "            var marker_ac1b751da044e4866b47984b75c3261f = L.marker(\n",
       "                [37.30048499999999, 127.035833],\n",
       "                {}\n",
       "            ).addTo(map_3e750f25d2607b5eb5279f584399bf24);\n",
       "        \n",
       "    \n",
       "            marker_ac1b751da044e4866b47984b75c3261f.bindTooltip(\n",
       "                `&lt;div&gt;\n",
       "                     경기대학교 서울캠퍼스 \n",
       "                 &lt;/div&gt;`,\n",
       "                {&quot;sticky&quot;: true}\n",
       "            );\n",
       "        \n",
       "    \n",
       "            var marker_1d8d70836071ae45df4b72519bf3a388 = L.marker(\n",
       "                [37.5961951, 127.052544],\n",
       "                {}\n",
       "            ).addTo(map_3e750f25d2607b5eb5279f584399bf24);\n",
       "        \n",
       "    \n",
       "            marker_1d8d70836071ae45df4b72519bf3a388.bindTooltip(\n",
       "                `&lt;div&gt;\n",
       "                     경희대학교 서울캠퍼스 \n",
       "                 &lt;/div&gt;`,\n",
       "                {&quot;sticky&quot;: true}\n",
       "            );\n",
       "        \n",
       "    \n",
       "            var marker_e765a23658981411d9524a284eac70e4 = L.marker(\n",
       "                [37.59019162, 127.03318417123],\n",
       "                {}\n",
       "            ).addTo(map_3e750f25d2607b5eb5279f584399bf24);\n",
       "        \n",
       "    \n",
       "            marker_e765a23658981411d9524a284eac70e4.bindTooltip(\n",
       "                `&lt;div&gt;\n",
       "                     고려대학교\n",
       "                 &lt;/div&gt;`,\n",
       "                {&quot;sticky&quot;: true}\n",
       "            );\n",
       "        \n",
       "    \n",
       "            var marker_da1ef91f20dac7cb5ec738750be6d956 = L.marker(\n",
       "                [37.6194965, 127.0596958],\n",
       "                {}\n",
       "            ).addTo(map_3e750f25d2607b5eb5279f584399bf24);\n",
       "        \n",
       "    \n",
       "            marker_da1ef91f20dac7cb5ec738750be6d956.bindTooltip(\n",
       "                `&lt;div&gt;\n",
       "                     광운대학교\n",
       "                 &lt;/div&gt;`,\n",
       "                {&quot;sticky&quot;: true}\n",
       "            );\n",
       "        \n",
       "    \n",
       "            var marker_e48210475e0a607f03d7acd2d305ae11 = L.marker(\n",
       "                [37.6096409, 126.997697],\n",
       "                {}\n",
       "            ).addTo(map_3e750f25d2607b5eb5279f584399bf24);\n",
       "        \n",
       "    \n",
       "            marker_e48210475e0a607f03d7acd2d305ae11.bindTooltip(\n",
       "                `&lt;div&gt;\n",
       "                     국민대학교\n",
       "                 &lt;/div&gt;`,\n",
       "                {&quot;sticky&quot;: true}\n",
       "            );\n",
       "        \n",
       "    \n",
       "            var marker_eb385f4872a9d9d7e4d709a4f799e010 = L.marker(\n",
       "                [37.6511988, 127.0161604],\n",
       "                {}\n",
       "            ).addTo(map_3e750f25d2607b5eb5279f584399bf24);\n",
       "        \n",
       "    \n",
       "            marker_eb385f4872a9d9d7e4d709a4f799e010.bindTooltip(\n",
       "                `&lt;div&gt;\n",
       "                     덕성여자대학교\n",
       "                 &lt;/div&gt;`,\n",
       "                {&quot;sticky&quot;: true}\n",
       "            );\n",
       "        \n",
       "    \n",
       "            var marker_61b4ffd5fdc9329cd19e1b40d816a373 = L.marker(\n",
       "                [37.5574771, 127.0020518],\n",
       "                {}\n",
       "            ).addTo(map_3e750f25d2607b5eb5279f584399bf24);\n",
       "        \n",
       "    \n",
       "            marker_61b4ffd5fdc9329cd19e1b40d816a373.bindTooltip(\n",
       "                `&lt;div&gt;\n",
       "                     동국대학교\n",
       "                 &lt;/div&gt;`,\n",
       "                {&quot;sticky&quot;: true}\n",
       "            );\n",
       "        \n",
       "    \n",
       "            var marker_4530f19b1ec6ba0b7f1a0edef0566e9c = L.marker(\n",
       "                [37.6063202, 127.041808],\n",
       "                {}\n",
       "            ).addTo(map_3e750f25d2607b5eb5279f584399bf24);\n",
       "        \n",
       "    \n",
       "            marker_4530f19b1ec6ba0b7f1a0edef0566e9c.bindTooltip(\n",
       "                `&lt;div&gt;\n",
       "                     동덕여자대학교\n",
       "                 &lt;/div&gt;`,\n",
       "                {&quot;sticky&quot;: true}\n",
       "            );\n",
       "        \n",
       "    \n",
       "            var marker_b5d5853686723ba56e80ba4618001f41 = L.marker(\n",
       "                [37.5802046, 126.9234451],\n",
       "                {}\n",
       "            ).addTo(map_3e750f25d2607b5eb5279f584399bf24);\n",
       "        \n",
       "    \n",
       "            marker_b5d5853686723ba56e80ba4618001f41.bindTooltip(\n",
       "                `&lt;div&gt;\n",
       "                     명지대학교 서울캠퍼스 \n",
       "                 &lt;/div&gt;`,\n",
       "                {&quot;sticky&quot;: true}\n",
       "            );\n",
       "        \n",
       "    \n",
       "            var marker_019b676d26679421a1ec57131288fc1e = L.marker(\n",
       "                [37.6429515, 127.1054757],\n",
       "                {}\n",
       "            ).addTo(map_3e750f25d2607b5eb5279f584399bf24);\n",
       "        \n",
       "    \n",
       "            marker_019b676d26679421a1ec57131288fc1e.bindTooltip(\n",
       "                `&lt;div&gt;\n",
       "                     삼육대학교\n",
       "                 &lt;/div&gt;`,\n",
       "                {&quot;sticky&quot;: true}\n",
       "            );\n",
       "        \n",
       "    \n",
       "            var marker_8a90af474739742028867464692b54d7 = L.marker(\n",
       "                [37.602638, 126.955252],\n",
       "                {}\n",
       "            ).addTo(map_3e750f25d2607b5eb5279f584399bf24);\n",
       "        \n",
       "    \n",
       "            marker_8a90af474739742028867464692b54d7.bindTooltip(\n",
       "                `&lt;div&gt;\n",
       "                     상명대학교 서울캠퍼스 \n",
       "                 &lt;/div&gt;`,\n",
       "                {&quot;sticky&quot;: true}\n",
       "            );\n",
       "        \n",
       "    \n",
       "            var marker_cb078a2edb357b044eb2def1e7f9e014 = L.marker(\n",
       "                [37.5509442, 126.9410023],\n",
       "                {}\n",
       "            ).addTo(map_3e750f25d2607b5eb5279f584399bf24);\n",
       "        \n",
       "    \n",
       "            marker_cb078a2edb357b044eb2def1e7f9e014.bindTooltip(\n",
       "                `&lt;div&gt;\n",
       "                     서강대학교\n",
       "                 &lt;/div&gt;`,\n",
       "                {&quot;sticky&quot;: true}\n",
       "            );\n",
       "        \n",
       "    \n",
       "            var marker_f3f6fc589d422ae36a3d0eb6598a2b18 = L.marker(\n",
       "                [37.615095, 127.0131113],\n",
       "                {}\n",
       "            ).addTo(map_3e750f25d2607b5eb5279f584399bf24);\n",
       "        \n",
       "    \n",
       "            marker_f3f6fc589d422ae36a3d0eb6598a2b18.bindTooltip(\n",
       "                `&lt;div&gt;\n",
       "                     서경대학교\n",
       "                 &lt;/div&gt;`,\n",
       "                {&quot;sticky&quot;: true}\n",
       "            );\n",
       "        \n",
       "    \n",
       "            var marker_09820fd6a0dd390c9bfce974c6feba3e = L.marker(\n",
       "                [37.6316684, 127.0774813],\n",
       "                {}\n",
       "            ).addTo(map_3e750f25d2607b5eb5279f584399bf24);\n",
       "        \n",
       "    \n",
       "            marker_09820fd6a0dd390c9bfce974c6feba3e.bindTooltip(\n",
       "                `&lt;div&gt;\n",
       "                     서울과학기술대학교\n",
       "                 &lt;/div&gt;`,\n",
       "                {&quot;sticky&quot;: true}\n",
       "            );\n",
       "        \n",
       "    \n",
       "            var marker_0dcbcbcb3c4e03488197914913523ff2 = L.marker(\n",
       "                [37.4899615, 127.0164124],\n",
       "                {}\n",
       "            ).addTo(map_3e750f25d2607b5eb5279f584399bf24);\n",
       "        \n",
       "    \n",
       "            marker_0dcbcbcb3c4e03488197914913523ff2.bindTooltip(\n",
       "                `&lt;div&gt;\n",
       "                     서울교육대학교\n",
       "                 &lt;/div&gt;`,\n",
       "                {&quot;sticky&quot;: true}\n",
       "            );\n",
       "        \n",
       "    \n",
       "            var marker_519b65bf7df621d84d00c025d62b4e14 = L.marker(\n",
       "                [37.6009228, 126.9123818],\n",
       "                {}\n",
       "            ).addTo(map_3e750f25d2607b5eb5279f584399bf24);\n",
       "        \n",
       "    \n",
       "            marker_519b65bf7df621d84d00c025d62b4e14.bindTooltip(\n",
       "                `&lt;div&gt;\n",
       "                     서울기독대학교\n",
       "                 &lt;/div&gt;`,\n",
       "                {&quot;sticky&quot;: true}\n",
       "            );\n",
       "        \n",
       "    \n",
       "            var marker_6d26a0d8c85c259408c9276fff6261e2 = L.marker(\n",
       "                [37.459882, 126.9519053],\n",
       "                {}\n",
       "            ).addTo(map_3e750f25d2607b5eb5279f584399bf24);\n",
       "        \n",
       "    \n",
       "            marker_6d26a0d8c85c259408c9276fff6261e2.bindTooltip(\n",
       "                `&lt;div&gt;\n",
       "                     서울대학교\n",
       "                 &lt;/div&gt;`,\n",
       "                {&quot;sticky&quot;: true}\n",
       "            );\n",
       "        \n",
       "    \n",
       "            var marker_02b43d0b2e58f577c8f2eb5e83b20f75 = L.marker(\n",
       "                [37.5838657, 127.0587771],\n",
       "                {}\n",
       "            ).addTo(map_3e750f25d2607b5eb5279f584399bf24);\n",
       "        \n",
       "    \n",
       "            marker_02b43d0b2e58f577c8f2eb5e83b20f75.bindTooltip(\n",
       "                `&lt;div&gt;\n",
       "                     서울시립대학교\n",
       "                 &lt;/div&gt;`,\n",
       "                {&quot;sticky&quot;: true}\n",
       "            );\n",
       "        \n",
       "    \n",
       "            var marker_80d846a96788a69828beebd743a48817 = L.marker(\n",
       "                [37.6281126, 127.0904568],\n",
       "                {}\n",
       "            ).addTo(map_3e750f25d2607b5eb5279f584399bf24);\n",
       "        \n",
       "    \n",
       "            marker_80d846a96788a69828beebd743a48817.bindTooltip(\n",
       "                `&lt;div&gt;\n",
       "                     서울여자대학교\n",
       "                 &lt;/div&gt;`,\n",
       "                {&quot;sticky&quot;: true}\n",
       "            );\n",
       "        \n",
       "    \n",
       "            var marker_36d7ce4dacc2ed61348a8ece3761ebbc = L.marker(\n",
       "                [37.4965411, 126.8512616],\n",
       "                {}\n",
       "            ).addTo(map_3e750f25d2607b5eb5279f584399bf24);\n",
       "        \n",
       "    \n",
       "            marker_36d7ce4dacc2ed61348a8ece3761ebbc.bindTooltip(\n",
       "                `&lt;div&gt;\n",
       "                     서울한영대학교\n",
       "                 &lt;/div&gt;`,\n",
       "                {&quot;sticky&quot;: true}\n",
       "            );\n",
       "        \n",
       "    \n",
       "            var marker_e5ff4d53bc066e9d9edb4feb1df020a7 = L.marker(\n",
       "                [37.4872325, 126.8253202],\n",
       "                {}\n",
       "            ).addTo(map_3e750f25d2607b5eb5279f584399bf24);\n",
       "        \n",
       "    \n",
       "            marker_e5ff4d53bc066e9d9edb4feb1df020a7.bindTooltip(\n",
       "                `&lt;div&gt;\n",
       "                     성공회대학교\n",
       "                 &lt;/div&gt;`,\n",
       "                {&quot;sticky&quot;: true}\n",
       "            );\n",
       "        \n",
       "    \n",
       "            var marker_f285b2dd3f09e0e6fd8cad43a926b68a = L.marker(\n",
       "                [37.588227, 126.993606],\n",
       "                {}\n",
       "            ).addTo(map_3e750f25d2607b5eb5279f584399bf24);\n",
       "        \n",
       "    \n",
       "            marker_f285b2dd3f09e0e6fd8cad43a926b68a.bindTooltip(\n",
       "                `&lt;div&gt;\n",
       "                     성균관대학교 서울캠퍼스  \n",
       "                 &lt;/div&gt;`,\n",
       "                {&quot;sticky&quot;: true}\n",
       "            );\n",
       "        \n",
       "    \n",
       "            var marker_fb5fe934a1c5e81b5c8d5fdcdd109098 = L.marker(\n",
       "                [37.5913103, 127.0221312],\n",
       "                {}\n",
       "            ).addTo(map_3e750f25d2607b5eb5279f584399bf24);\n",
       "        \n",
       "    \n",
       "            marker_fb5fe934a1c5e81b5c8d5fdcdd109098.bindTooltip(\n",
       "                `&lt;div&gt;\n",
       "                     성신여자대학교\n",
       "                 &lt;/div&gt;`,\n",
       "                {&quot;sticky&quot;: true}\n",
       "            );\n",
       "        \n",
       "    \n",
       "            var marker_9e653eacc0e1245d3364e93b14b73a2d = L.marker(\n",
       "                [37.5502596, 127.073139],\n",
       "                {}\n",
       "            ).addTo(map_3e750f25d2607b5eb5279f584399bf24);\n",
       "        \n",
       "    \n",
       "            marker_9e653eacc0e1245d3364e93b14b73a2d.bindTooltip(\n",
       "                `&lt;div&gt;\n",
       "                     세종대학교\n",
       "                 &lt;/div&gt;`,\n",
       "                {&quot;sticky&quot;: true}\n",
       "            );\n",
       "        \n",
       "    \n",
       "            var marker_89f8d5a2c5adb326bb29a36a8f26c70d = L.marker(\n",
       "                [37.5463644, 126.9648311],\n",
       "                {}\n",
       "            ).addTo(map_3e750f25d2607b5eb5279f584399bf24);\n",
       "        \n",
       "    \n",
       "            marker_89f8d5a2c5adb326bb29a36a8f26c70d.bindTooltip(\n",
       "                `&lt;div&gt;\n",
       "                     숙명여자대학교\n",
       "                 &lt;/div&gt;`,\n",
       "                {&quot;sticky&quot;: true}\n",
       "            );\n",
       "        \n",
       "    \n",
       "            var marker_f464faecc3d46e87d0fc767ecb1e86f5 = L.marker(\n",
       "                [37.4963111, 126.9574596],\n",
       "                {}\n",
       "            ).addTo(map_3e750f25d2607b5eb5279f584399bf24);\n",
       "        \n",
       "    \n",
       "            marker_f464faecc3d46e87d0fc767ecb1e86f5.bindTooltip(\n",
       "                `&lt;div&gt;\n",
       "                     숭실대학교\n",
       "                 &lt;/div&gt;`,\n",
       "                {&quot;sticky&quot;: true}\n",
       "            );\n",
       "        \n",
       "    \n",
       "            var marker_395f2c365b1d70d119fc938f61e59ab4 = L.marker(\n",
       "                [37.565784, 126.938572],\n",
       "                {}\n",
       "            ).addTo(map_3e750f25d2607b5eb5279f584399bf24);\n",
       "        \n",
       "    \n",
       "            marker_395f2c365b1d70d119fc938f61e59ab4.bindTooltip(\n",
       "                `&lt;div&gt;\n",
       "                     연세대학교\n",
       "                 &lt;/div&gt;`,\n",
       "                {&quot;sticky&quot;: true}\n",
       "            );\n",
       "        \n",
       "    \n",
       "            var marker_baf77ba94afd33e27290a3b8478886a7 = L.marker(\n",
       "                [37.6238188, 127.0988783],\n",
       "                {}\n",
       "            ).addTo(map_3e750f25d2607b5eb5279f584399bf24);\n",
       "        \n",
       "    \n",
       "            marker_baf77ba94afd33e27290a3b8478886a7.bindTooltip(\n",
       "                `&lt;div&gt;\n",
       "                     육군사관학교\n",
       "                 &lt;/div&gt;`,\n",
       "                {&quot;sticky&quot;: true}\n",
       "            );\n",
       "        \n",
       "    \n",
       "            var marker_0797013b06ef0950333e6e4739116812 = L.marker(\n",
       "                [37.5643079, 126.9501786],\n",
       "                {}\n",
       "            ).addTo(map_3e750f25d2607b5eb5279f584399bf24);\n",
       "        \n",
       "    \n",
       "            marker_0797013b06ef0950333e6e4739116812.bindTooltip(\n",
       "                `&lt;div&gt;\n",
       "                     이화여자대학교\n",
       "                 &lt;/div&gt;`,\n",
       "                {&quot;sticky&quot;: true}\n",
       "            );\n",
       "        \n",
       "    \n",
       "            var marker_76dc4656f63a7d9dfa2d6e9acbe1c823 = L.marker(\n",
       "                [37.5505112, 127.1034577],\n",
       "                {}\n",
       "            ).addTo(map_3e750f25d2607b5eb5279f584399bf24);\n",
       "        \n",
       "    \n",
       "            marker_76dc4656f63a7d9dfa2d6e9acbe1c823.bindTooltip(\n",
       "                `&lt;div&gt;\n",
       "                     장로회신학대학교\n",
       "                 &lt;/div&gt;`,\n",
       "                {&quot;sticky&quot;: true}\n",
       "            );\n",
       "        \n",
       "    \n",
       "            var marker_6212ae43197a66b8305edde07654c13d = L.marker(\n",
       "                [37.5050881, 126.9571012],\n",
       "                {}\n",
       "            ).addTo(map_3e750f25d2607b5eb5279f584399bf24);\n",
       "        \n",
       "    \n",
       "            marker_6212ae43197a66b8305edde07654c13d.bindTooltip(\n",
       "                `&lt;div&gt;\n",
       "                     중앙대학교 서울캠퍼스 \n",
       "                 &lt;/div&gt;`,\n",
       "                {&quot;sticky&quot;: true}\n",
       "            );\n",
       "        \n",
       "    \n",
       "            var marker_f8c275cceee077cda54f50cee1a0be69 = L.marker(\n",
       "                [37.4886232, 126.9668169],\n",
       "                {}\n",
       "            ).addTo(map_3e750f25d2607b5eb5279f584399bf24);\n",
       "        \n",
       "    \n",
       "            marker_f8c275cceee077cda54f50cee1a0be69.bindTooltip(\n",
       "                `&lt;div&gt;\n",
       "                     총신대학교\n",
       "                 &lt;/div&gt;`,\n",
       "                {&quot;sticky&quot;: true}\n",
       "            );\n",
       "        \n",
       "    \n",
       "            var marker_85dbe5e3103b8c56e565c44e3838242c = L.marker(\n",
       "                [37.5624515, 126.9534165],\n",
       "                {}\n",
       "            ).addTo(map_3e750f25d2607b5eb5279f584399bf24);\n",
       "        \n",
       "    \n",
       "            marker_85dbe5e3103b8c56e565c44e3838242c.bindTooltip(\n",
       "                `&lt;div&gt;\n",
       "                     추계예술대학교\n",
       "                 &lt;/div&gt;`,\n",
       "                {&quot;sticky&quot;: true}\n",
       "            );\n",
       "        \n",
       "    \n",
       "            var marker_b82b53785725465911e43f846f743cfe = L.marker(\n",
       "                [37.5786127, 127.0032905],\n",
       "                {}\n",
       "            ).addTo(map_3e750f25d2607b5eb5279f584399bf24);\n",
       "        \n",
       "    \n",
       "            marker_b82b53785725465911e43f846f743cfe.bindTooltip(\n",
       "                `&lt;div&gt;\n",
       "                     한국방송통신대학교\n",
       "                 &lt;/div&gt;`,\n",
       "                {&quot;sticky&quot;: true}\n",
       "            );\n",
       "        \n",
       "    \n",
       "            var marker_e176791a90ce777b8888c7b5b5ddba1f = L.marker(\n",
       "                [37.6487485, 127.0643199],\n",
       "                {}\n",
       "            ).addTo(map_3e750f25d2607b5eb5279f584399bf24);\n",
       "        \n",
       "    \n",
       "            marker_e176791a90ce777b8888c7b5b5ddba1f.bindTooltip(\n",
       "                `&lt;div&gt;\n",
       "                     한국성서대학교\n",
       "                 &lt;/div&gt;`,\n",
       "                {&quot;sticky&quot;: true}\n",
       "            );\n",
       "        \n",
       "    \n",
       "            var marker_d287a886d3bac391054bd481a420308f = L.marker(\n",
       "                [37.6049973, 127.0567397],\n",
       "                {}\n",
       "            ).addTo(map_3e750f25d2607b5eb5279f584399bf24);\n",
       "        \n",
       "    \n",
       "            marker_d287a886d3bac391054bd481a420308f.bindTooltip(\n",
       "                `&lt;div&gt;\n",
       "                     한국예술종합학교\n",
       "                 &lt;/div&gt;`,\n",
       "                {&quot;sticky&quot;: true}\n",
       "            );\n",
       "        \n",
       "    \n",
       "            var marker_72fda2a4073ffffeb2cd0dde455c9b9d = L.marker(\n",
       "                [37.597319, 127.057843],\n",
       "                {}\n",
       "            ).addTo(map_3e750f25d2607b5eb5279f584399bf24);\n",
       "        \n",
       "    \n",
       "            marker_72fda2a4073ffffeb2cd0dde455c9b9d.bindTooltip(\n",
       "                `&lt;div&gt;\n",
       "                     한국외국어대학교\n",
       "                 &lt;/div&gt;`,\n",
       "                {&quot;sticky&quot;: true}\n",
       "            );\n",
       "        \n",
       "    \n",
       "            var marker_e0659219795bf29760ba141d37b207c1 = L.marker(\n",
       "                [37.5196266, 127.1309837],\n",
       "                {}\n",
       "            ).addTo(map_3e750f25d2607b5eb5279f584399bf24);\n",
       "        \n",
       "    \n",
       "            marker_e0659219795bf29760ba141d37b207c1.bindTooltip(\n",
       "                `&lt;div&gt;\n",
       "                     한국체육대학교\n",
       "                 &lt;/div&gt;`,\n",
       "                {&quot;sticky&quot;: true}\n",
       "            );\n",
       "        \n",
       "    \n",
       "            var marker_89d97c28a9017add4b168b66206c5b45 = L.marker(\n",
       "                [37.5817849, 127.010369],\n",
       "                {}\n",
       "            ).addTo(map_3e750f25d2607b5eb5279f584399bf24);\n",
       "        \n",
       "    \n",
       "            marker_89d97c28a9017add4b168b66206c5b45.bindTooltip(\n",
       "                `&lt;div&gt;\n",
       "                     한성대학교\n",
       "                 &lt;/div&gt;`,\n",
       "                {&quot;sticky&quot;: true}\n",
       "            );\n",
       "        \n",
       "    \n",
       "            var marker_3d81047a0d9ccfbe9310014d09ad4776 = L.marker(\n",
       "                [37.5572321, 127.0453219],\n",
       "                {}\n",
       "            ).addTo(map_3e750f25d2607b5eb5279f584399bf24);\n",
       "        \n",
       "    \n",
       "            marker_3d81047a0d9ccfbe9310014d09ad4776.bindTooltip(\n",
       "                `&lt;div&gt;\n",
       "                     한양대학교\n",
       "                 &lt;/div&gt;`,\n",
       "                {&quot;sticky&quot;: true}\n",
       "            );\n",
       "        \n",
       "    \n",
       "            var marker_fef12527260d1e56689c6cc941f14761 = L.marker(\n",
       "                [37.5514642, 126.9250106],\n",
       "                {}\n",
       "            ).addTo(map_3e750f25d2607b5eb5279f584399bf24);\n",
       "        \n",
       "    \n",
       "            marker_fef12527260d1e56689c6cc941f14761.bindTooltip(\n",
       "                `&lt;div&gt;\n",
       "                     홍익대학교\n",
       "                 &lt;/div&gt;`,\n",
       "                {&quot;sticky&quot;: true}\n",
       "            );\n",
       "        \n",
       "&lt;/script&gt;\" style=\"position:absolute;width:100%;height:100%;left:0;top:0;border:none !important;\" allowfullscreen webkitallowfullscreen mozallowfullscreen></iframe></div></div>"
      ],
      "text/plain": [
       "<folium.folium.Map at 0x1e0b47e1960>"
      ]
     },
     "execution_count": 24,
     "metadata": {},
     "output_type": "execute_result"
    }
   ],
   "source": [
    "seoul_map"
   ]
  },
  {
   "cell_type": "markdown",
   "id": "23f69b0b-1f78-4807-9906-f738a13c660b",
   "metadata": {},
   "source": [
    "- 최소 코드"
   ]
  },
  {
   "cell_type": "code",
   "execution_count": 167,
   "id": "2030aeac-8501-4dd2-b12f-a6963e382c00",
   "metadata": {},
   "outputs": [
    {
     "data": {
      "text/html": [
       "<div style=\"width:100%;\"><div style=\"position:relative;width:100%;height:0;padding-bottom:60%;\"><span style=\"color:#565656\">Make this Notebook Trusted to load map: File -> Trust Notebook</span><iframe srcdoc=\"&lt;!DOCTYPE html&gt;\n",
       "&lt;head&gt;    \n",
       "    &lt;meta http-equiv=&quot;content-type&quot; content=&quot;text/html; charset=UTF-8&quot; /&gt;\n",
       "    \n",
       "        &lt;script&gt;\n",
       "            L_NO_TOUCH = false;\n",
       "            L_DISABLE_3D = false;\n",
       "        &lt;/script&gt;\n",
       "    \n",
       "    &lt;style&gt;html, body {width: 100%;height: 100%;margin: 0;padding: 0;}&lt;/style&gt;\n",
       "    &lt;style&gt;#map {position:absolute;top:0;bottom:0;right:0;left:0;}&lt;/style&gt;\n",
       "    &lt;script src=&quot;https://cdn.jsdelivr.net/npm/leaflet@1.6.0/dist/leaflet.js&quot;&gt;&lt;/script&gt;\n",
       "    &lt;script src=&quot;https://code.jquery.com/jquery-1.12.4.min.js&quot;&gt;&lt;/script&gt;\n",
       "    &lt;script src=&quot;https://maxcdn.bootstrapcdn.com/bootstrap/3.2.0/js/bootstrap.min.js&quot;&gt;&lt;/script&gt;\n",
       "    &lt;script src=&quot;https://cdnjs.cloudflare.com/ajax/libs/Leaflet.awesome-markers/2.0.2/leaflet.awesome-markers.js&quot;&gt;&lt;/script&gt;\n",
       "    &lt;link rel=&quot;stylesheet&quot; href=&quot;https://cdn.jsdelivr.net/npm/leaflet@1.6.0/dist/leaflet.css&quot;/&gt;\n",
       "    &lt;link rel=&quot;stylesheet&quot; href=&quot;https://maxcdn.bootstrapcdn.com/bootstrap/3.2.0/css/bootstrap.min.css&quot;/&gt;\n",
       "    &lt;link rel=&quot;stylesheet&quot; href=&quot;https://maxcdn.bootstrapcdn.com/bootstrap/3.2.0/css/bootstrap-theme.min.css&quot;/&gt;\n",
       "    &lt;link rel=&quot;stylesheet&quot; href=&quot;https://maxcdn.bootstrapcdn.com/font-awesome/4.6.3/css/font-awesome.min.css&quot;/&gt;\n",
       "    &lt;link rel=&quot;stylesheet&quot; href=&quot;https://cdnjs.cloudflare.com/ajax/libs/Leaflet.awesome-markers/2.0.2/leaflet.awesome-markers.css&quot;/&gt;\n",
       "    &lt;link rel=&quot;stylesheet&quot; href=&quot;https://cdn.jsdelivr.net/gh/python-visualization/folium/folium/templates/leaflet.awesome.rotate.min.css&quot;/&gt;\n",
       "    \n",
       "            &lt;meta name=&quot;viewport&quot; content=&quot;width=device-width,\n",
       "                initial-scale=1.0, maximum-scale=1.0, user-scalable=no&quot; /&gt;\n",
       "            &lt;style&gt;\n",
       "                #map_700a5232e57bcca54b08b0798cdded27 {\n",
       "                    position: relative;\n",
       "                    width: 100.0%;\n",
       "                    height: 100.0%;\n",
       "                    left: 0.0%;\n",
       "                    top: 0.0%;\n",
       "                }\n",
       "            &lt;/style&gt;\n",
       "        \n",
       "&lt;/head&gt;\n",
       "&lt;body&gt;    \n",
       "    \n",
       "            &lt;div class=&quot;folium-map&quot; id=&quot;map_700a5232e57bcca54b08b0798cdded27&quot; &gt;&lt;/div&gt;\n",
       "        \n",
       "&lt;/body&gt;\n",
       "&lt;script&gt;    \n",
       "    \n",
       "            var map_700a5232e57bcca54b08b0798cdded27 = L.map(\n",
       "                &quot;map_700a5232e57bcca54b08b0798cdded27&quot;,\n",
       "                {\n",
       "                    center: [37.55, 126.98],\n",
       "                    crs: L.CRS.EPSG3857,\n",
       "                    zoom: 12,\n",
       "                    zoomControl: true,\n",
       "                    preferCanvas: false,\n",
       "                }\n",
       "            );\n",
       "\n",
       "            \n",
       "\n",
       "        \n",
       "    \n",
       "            var tile_layer_065afe2c7d61331023109f232b4baab7 = L.tileLayer(\n",
       "                &quot;https://{s}.tile.openstreetmap.org/{z}/{x}/{y}.png&quot;,\n",
       "                {&quot;attribution&quot;: &quot;Data by \\u0026copy; \\u003ca href=\\&quot;http://openstreetmap.org\\&quot;\\u003eOpenStreetMap\\u003c/a\\u003e, under \\u003ca href=\\&quot;http://www.openstreetmap.org/copyright\\&quot;\\u003eODbL\\u003c/a\\u003e.&quot;, &quot;detectRetina&quot;: false, &quot;maxNativeZoom&quot;: 18, &quot;maxZoom&quot;: 18, &quot;minZoom&quot;: 0, &quot;noWrap&quot;: false, &quot;opacity&quot;: 1, &quot;subdomains&quot;: &quot;abc&quot;, &quot;tms&quot;: false}\n",
       "            ).addTo(map_700a5232e57bcca54b08b0798cdded27);\n",
       "        \n",
       "    \n",
       "            var marker_ecc0d8301c343ac83d81a8a377b6d0eb = L.marker(\n",
       "                [37.592573, 127.046737],\n",
       "                {}\n",
       "            ).addTo(map_700a5232e57bcca54b08b0798cdded27);\n",
       "        \n",
       "    \n",
       "            marker_ecc0d8301c343ac83d81a8a377b6d0eb.bindTooltip(\n",
       "                `&lt;div&gt;\n",
       "                     KAIST 서울캠퍼스 \n",
       "                 &lt;/div&gt;`,\n",
       "                {&quot;sticky&quot;: true}\n",
       "            );\n",
       "        \n",
       "    \n",
       "            var marker_a6abd696c42a558601ebfdfe463bf830 = L.marker(\n",
       "                [37.5483449, 126.8547974],\n",
       "                {}\n",
       "            ).addTo(map_700a5232e57bcca54b08b0798cdded27);\n",
       "        \n",
       "    \n",
       "            marker_a6abd696c42a558601ebfdfe463bf830.bindTooltip(\n",
       "                `&lt;div&gt;\n",
       "                     KC대학교\n",
       "                 &lt;/div&gt;`,\n",
       "                {&quot;sticky&quot;: true}\n",
       "            );\n",
       "        \n",
       "    \n",
       "            var marker_2b6b625a0ce96f88ecbb95b12b672071 = L.marker(\n",
       "                [37.5859218, 127.0043275],\n",
       "                {}\n",
       "            ).addTo(map_700a5232e57bcca54b08b0798cdded27);\n",
       "        \n",
       "    \n",
       "            marker_2b6b625a0ce96f88ecbb95b12b672071.bindTooltip(\n",
       "                `&lt;div&gt;\n",
       "                     가톨릭대학교(성신교정)\n",
       "                 &lt;/div&gt;`,\n",
       "                {&quot;sticky&quot;: true}\n",
       "            );\n",
       "        \n",
       "    \n",
       "            var marker_3ed595a6aa4551f88f43dfd1d9f752c4 = L.marker(\n",
       "                [37.4996227, 127.0060653],\n",
       "                {}\n",
       "            ).addTo(map_700a5232e57bcca54b08b0798cdded27);\n",
       "        \n",
       "    \n",
       "            marker_3ed595a6aa4551f88f43dfd1d9f752c4.bindTooltip(\n",
       "                `&lt;div&gt;\n",
       "                     가톨릭대학교(성의교정)\n",
       "                 &lt;/div&gt;`,\n",
       "                {&quot;sticky&quot;: true}\n",
       "            );\n",
       "        \n",
       "    \n",
       "            var marker_21455df3230f16aaea3b37f211ae8dee = L.marker(\n",
       "                [37.5676455, 126.96161],\n",
       "                {}\n",
       "            ).addTo(map_700a5232e57bcca54b08b0798cdded27);\n",
       "        \n",
       "    \n",
       "            marker_21455df3230f16aaea3b37f211ae8dee.bindTooltip(\n",
       "                `&lt;div&gt;\n",
       "                     감리교신학대학교\n",
       "                 &lt;/div&gt;`,\n",
       "                {&quot;sticky&quot;: true}\n",
       "            );\n",
       "        \n",
       "    \n",
       "            var marker_5d2309a7df1e65d7959b3a25bd7ad0f3 = L.marker(\n",
       "                [37.5407625, 127.0793428],\n",
       "                {}\n",
       "            ).addTo(map_700a5232e57bcca54b08b0798cdded27);\n",
       "        \n",
       "    \n",
       "            marker_5d2309a7df1e65d7959b3a25bd7ad0f3.bindTooltip(\n",
       "                `&lt;div&gt;\n",
       "                     건국대학교\n",
       "                 &lt;/div&gt;`,\n",
       "                {&quot;sticky&quot;: true}\n",
       "            );\n",
       "        \n",
       "    \n",
       "            var marker_a7e5f1025cafa72cf1764da82b0df295 = L.marker(\n",
       "                [37.30048499999999, 127.035833],\n",
       "                {}\n",
       "            ).addTo(map_700a5232e57bcca54b08b0798cdded27);\n",
       "        \n",
       "    \n",
       "            marker_a7e5f1025cafa72cf1764da82b0df295.bindTooltip(\n",
       "                `&lt;div&gt;\n",
       "                     경기대학교 서울캠퍼스 \n",
       "                 &lt;/div&gt;`,\n",
       "                {&quot;sticky&quot;: true}\n",
       "            );\n",
       "        \n",
       "    \n",
       "            var marker_2239611debbaf5a09ef43cf7aede3061 = L.marker(\n",
       "                [37.5961951, 127.052544],\n",
       "                {}\n",
       "            ).addTo(map_700a5232e57bcca54b08b0798cdded27);\n",
       "        \n",
       "    \n",
       "            marker_2239611debbaf5a09ef43cf7aede3061.bindTooltip(\n",
       "                `&lt;div&gt;\n",
       "                     경희대학교 서울캠퍼스 \n",
       "                 &lt;/div&gt;`,\n",
       "                {&quot;sticky&quot;: true}\n",
       "            );\n",
       "        \n",
       "    \n",
       "            var marker_36d3ff1775a76cc3ec4e3b79637ab0b6 = L.marker(\n",
       "                [37.59019162, 127.03318417123],\n",
       "                {}\n",
       "            ).addTo(map_700a5232e57bcca54b08b0798cdded27);\n",
       "        \n",
       "    \n",
       "            marker_36d3ff1775a76cc3ec4e3b79637ab0b6.bindTooltip(\n",
       "                `&lt;div&gt;\n",
       "                     고려대학교\n",
       "                 &lt;/div&gt;`,\n",
       "                {&quot;sticky&quot;: true}\n",
       "            );\n",
       "        \n",
       "    \n",
       "            var marker_34f46158f265457f2a418e038b4df216 = L.marker(\n",
       "                [37.6194965, 127.0596958],\n",
       "                {}\n",
       "            ).addTo(map_700a5232e57bcca54b08b0798cdded27);\n",
       "        \n",
       "    \n",
       "            marker_34f46158f265457f2a418e038b4df216.bindTooltip(\n",
       "                `&lt;div&gt;\n",
       "                     광운대학교\n",
       "                 &lt;/div&gt;`,\n",
       "                {&quot;sticky&quot;: true}\n",
       "            );\n",
       "        \n",
       "    \n",
       "            var marker_b8e28da83e93f2e6949c408a525be1da = L.marker(\n",
       "                [37.6096409, 126.997697],\n",
       "                {}\n",
       "            ).addTo(map_700a5232e57bcca54b08b0798cdded27);\n",
       "        \n",
       "    \n",
       "            marker_b8e28da83e93f2e6949c408a525be1da.bindTooltip(\n",
       "                `&lt;div&gt;\n",
       "                     국민대학교\n",
       "                 &lt;/div&gt;`,\n",
       "                {&quot;sticky&quot;: true}\n",
       "            );\n",
       "        \n",
       "    \n",
       "            var marker_b0194403c8e8832ddc372811f3c395b9 = L.marker(\n",
       "                [37.6511988, 127.0161604],\n",
       "                {}\n",
       "            ).addTo(map_700a5232e57bcca54b08b0798cdded27);\n",
       "        \n",
       "    \n",
       "            marker_b0194403c8e8832ddc372811f3c395b9.bindTooltip(\n",
       "                `&lt;div&gt;\n",
       "                     덕성여자대학교\n",
       "                 &lt;/div&gt;`,\n",
       "                {&quot;sticky&quot;: true}\n",
       "            );\n",
       "        \n",
       "    \n",
       "            var marker_901f41587fcfa67223bff371ce567291 = L.marker(\n",
       "                [37.5574771, 127.0020518],\n",
       "                {}\n",
       "            ).addTo(map_700a5232e57bcca54b08b0798cdded27);\n",
       "        \n",
       "    \n",
       "            marker_901f41587fcfa67223bff371ce567291.bindTooltip(\n",
       "                `&lt;div&gt;\n",
       "                     동국대학교\n",
       "                 &lt;/div&gt;`,\n",
       "                {&quot;sticky&quot;: true}\n",
       "            );\n",
       "        \n",
       "    \n",
       "            var marker_049063b8e56f55e8ce231262d59598a5 = L.marker(\n",
       "                [37.6063202, 127.041808],\n",
       "                {}\n",
       "            ).addTo(map_700a5232e57bcca54b08b0798cdded27);\n",
       "        \n",
       "    \n",
       "            marker_049063b8e56f55e8ce231262d59598a5.bindTooltip(\n",
       "                `&lt;div&gt;\n",
       "                     동덕여자대학교\n",
       "                 &lt;/div&gt;`,\n",
       "                {&quot;sticky&quot;: true}\n",
       "            );\n",
       "        \n",
       "    \n",
       "            var marker_4ae0f85d6f815c8899aeacf9a2022b1e = L.marker(\n",
       "                [37.5802046, 126.9234451],\n",
       "                {}\n",
       "            ).addTo(map_700a5232e57bcca54b08b0798cdded27);\n",
       "        \n",
       "    \n",
       "            marker_4ae0f85d6f815c8899aeacf9a2022b1e.bindTooltip(\n",
       "                `&lt;div&gt;\n",
       "                     명지대학교 서울캠퍼스 \n",
       "                 &lt;/div&gt;`,\n",
       "                {&quot;sticky&quot;: true}\n",
       "            );\n",
       "        \n",
       "    \n",
       "            var marker_87ddeac3d298b422852686d4f995a894 = L.marker(\n",
       "                [37.6429515, 127.1054757],\n",
       "                {}\n",
       "            ).addTo(map_700a5232e57bcca54b08b0798cdded27);\n",
       "        \n",
       "    \n",
       "            marker_87ddeac3d298b422852686d4f995a894.bindTooltip(\n",
       "                `&lt;div&gt;\n",
       "                     삼육대학교\n",
       "                 &lt;/div&gt;`,\n",
       "                {&quot;sticky&quot;: true}\n",
       "            );\n",
       "        \n",
       "    \n",
       "            var marker_ead15892aca44762f56d4a0635d3e29f = L.marker(\n",
       "                [37.602638, 126.955252],\n",
       "                {}\n",
       "            ).addTo(map_700a5232e57bcca54b08b0798cdded27);\n",
       "        \n",
       "    \n",
       "            marker_ead15892aca44762f56d4a0635d3e29f.bindTooltip(\n",
       "                `&lt;div&gt;\n",
       "                     상명대학교 서울캠퍼스 \n",
       "                 &lt;/div&gt;`,\n",
       "                {&quot;sticky&quot;: true}\n",
       "            );\n",
       "        \n",
       "    \n",
       "            var marker_9625e289f8b70bfacea1c0ed5f0a6afc = L.marker(\n",
       "                [37.5509442, 126.9410023],\n",
       "                {}\n",
       "            ).addTo(map_700a5232e57bcca54b08b0798cdded27);\n",
       "        \n",
       "    \n",
       "            marker_9625e289f8b70bfacea1c0ed5f0a6afc.bindTooltip(\n",
       "                `&lt;div&gt;\n",
       "                     서강대학교\n",
       "                 &lt;/div&gt;`,\n",
       "                {&quot;sticky&quot;: true}\n",
       "            );\n",
       "        \n",
       "    \n",
       "            var marker_9b006c9f8eb910183a2b765b7bcbb3d0 = L.marker(\n",
       "                [37.615095, 127.0131113],\n",
       "                {}\n",
       "            ).addTo(map_700a5232e57bcca54b08b0798cdded27);\n",
       "        \n",
       "    \n",
       "            marker_9b006c9f8eb910183a2b765b7bcbb3d0.bindTooltip(\n",
       "                `&lt;div&gt;\n",
       "                     서경대학교\n",
       "                 &lt;/div&gt;`,\n",
       "                {&quot;sticky&quot;: true}\n",
       "            );\n",
       "        \n",
       "    \n",
       "            var marker_b065a2ce208297bd15f3b282cec0ba6b = L.marker(\n",
       "                [37.6316684, 127.0774813],\n",
       "                {}\n",
       "            ).addTo(map_700a5232e57bcca54b08b0798cdded27);\n",
       "        \n",
       "    \n",
       "            marker_b065a2ce208297bd15f3b282cec0ba6b.bindTooltip(\n",
       "                `&lt;div&gt;\n",
       "                     서울과학기술대학교\n",
       "                 &lt;/div&gt;`,\n",
       "                {&quot;sticky&quot;: true}\n",
       "            );\n",
       "        \n",
       "    \n",
       "            var marker_bf6ba8886ec38c16dd10f12e06794554 = L.marker(\n",
       "                [37.4899615, 127.0164124],\n",
       "                {}\n",
       "            ).addTo(map_700a5232e57bcca54b08b0798cdded27);\n",
       "        \n",
       "    \n",
       "            marker_bf6ba8886ec38c16dd10f12e06794554.bindTooltip(\n",
       "                `&lt;div&gt;\n",
       "                     서울교육대학교\n",
       "                 &lt;/div&gt;`,\n",
       "                {&quot;sticky&quot;: true}\n",
       "            );\n",
       "        \n",
       "    \n",
       "            var marker_766bf492ab28d69cad22dd0fff486451 = L.marker(\n",
       "                [37.6009228, 126.9123818],\n",
       "                {}\n",
       "            ).addTo(map_700a5232e57bcca54b08b0798cdded27);\n",
       "        \n",
       "    \n",
       "            marker_766bf492ab28d69cad22dd0fff486451.bindTooltip(\n",
       "                `&lt;div&gt;\n",
       "                     서울기독대학교\n",
       "                 &lt;/div&gt;`,\n",
       "                {&quot;sticky&quot;: true}\n",
       "            );\n",
       "        \n",
       "    \n",
       "            var marker_d7d560e980980ec3c79b69fc9dcaed0f = L.marker(\n",
       "                [37.459882, 126.9519053],\n",
       "                {}\n",
       "            ).addTo(map_700a5232e57bcca54b08b0798cdded27);\n",
       "        \n",
       "    \n",
       "            marker_d7d560e980980ec3c79b69fc9dcaed0f.bindTooltip(\n",
       "                `&lt;div&gt;\n",
       "                     서울대학교\n",
       "                 &lt;/div&gt;`,\n",
       "                {&quot;sticky&quot;: true}\n",
       "            );\n",
       "        \n",
       "    \n",
       "            var marker_a45d3ec9d3e94a7417f7db6e1e310048 = L.marker(\n",
       "                [37.5838657, 127.0587771],\n",
       "                {}\n",
       "            ).addTo(map_700a5232e57bcca54b08b0798cdded27);\n",
       "        \n",
       "    \n",
       "            marker_a45d3ec9d3e94a7417f7db6e1e310048.bindTooltip(\n",
       "                `&lt;div&gt;\n",
       "                     서울시립대학교\n",
       "                 &lt;/div&gt;`,\n",
       "                {&quot;sticky&quot;: true}\n",
       "            );\n",
       "        \n",
       "    \n",
       "            var marker_5b17b8d2d4fa73db6b8e0069b3a081a0 = L.marker(\n",
       "                [37.6281126, 127.0904568],\n",
       "                {}\n",
       "            ).addTo(map_700a5232e57bcca54b08b0798cdded27);\n",
       "        \n",
       "    \n",
       "            marker_5b17b8d2d4fa73db6b8e0069b3a081a0.bindTooltip(\n",
       "                `&lt;div&gt;\n",
       "                     서울여자대학교\n",
       "                 &lt;/div&gt;`,\n",
       "                {&quot;sticky&quot;: true}\n",
       "            );\n",
       "        \n",
       "    \n",
       "            var marker_2cadf4db432195d67a90b3e737c4e7eb = L.marker(\n",
       "                [37.4965411, 126.8512616],\n",
       "                {}\n",
       "            ).addTo(map_700a5232e57bcca54b08b0798cdded27);\n",
       "        \n",
       "    \n",
       "            marker_2cadf4db432195d67a90b3e737c4e7eb.bindTooltip(\n",
       "                `&lt;div&gt;\n",
       "                     서울한영대학교\n",
       "                 &lt;/div&gt;`,\n",
       "                {&quot;sticky&quot;: true}\n",
       "            );\n",
       "        \n",
       "    \n",
       "            var marker_d5ce1564836beb6c2f66b594a0ae1c66 = L.marker(\n",
       "                [37.4872325, 126.8253202],\n",
       "                {}\n",
       "            ).addTo(map_700a5232e57bcca54b08b0798cdded27);\n",
       "        \n",
       "    \n",
       "            marker_d5ce1564836beb6c2f66b594a0ae1c66.bindTooltip(\n",
       "                `&lt;div&gt;\n",
       "                     성공회대학교\n",
       "                 &lt;/div&gt;`,\n",
       "                {&quot;sticky&quot;: true}\n",
       "            );\n",
       "        \n",
       "    \n",
       "            var marker_9c9917a5d2715dbd8ee1b72af460ee28 = L.marker(\n",
       "                [37.588227, 126.993606],\n",
       "                {}\n",
       "            ).addTo(map_700a5232e57bcca54b08b0798cdded27);\n",
       "        \n",
       "    \n",
       "            marker_9c9917a5d2715dbd8ee1b72af460ee28.bindTooltip(\n",
       "                `&lt;div&gt;\n",
       "                     성균관대학교 서울캠퍼스  \n",
       "                 &lt;/div&gt;`,\n",
       "                {&quot;sticky&quot;: true}\n",
       "            );\n",
       "        \n",
       "    \n",
       "            var marker_dcbbba0cb1d53270ec23103c4497561c = L.marker(\n",
       "                [37.5913103, 127.0221312],\n",
       "                {}\n",
       "            ).addTo(map_700a5232e57bcca54b08b0798cdded27);\n",
       "        \n",
       "    \n",
       "            marker_dcbbba0cb1d53270ec23103c4497561c.bindTooltip(\n",
       "                `&lt;div&gt;\n",
       "                     성신여자대학교\n",
       "                 &lt;/div&gt;`,\n",
       "                {&quot;sticky&quot;: true}\n",
       "            );\n",
       "        \n",
       "    \n",
       "            var marker_1eebacb8f11e16b17fe6902303fa02f8 = L.marker(\n",
       "                [37.5502596, 127.073139],\n",
       "                {}\n",
       "            ).addTo(map_700a5232e57bcca54b08b0798cdded27);\n",
       "        \n",
       "    \n",
       "            marker_1eebacb8f11e16b17fe6902303fa02f8.bindTooltip(\n",
       "                `&lt;div&gt;\n",
       "                     세종대학교\n",
       "                 &lt;/div&gt;`,\n",
       "                {&quot;sticky&quot;: true}\n",
       "            );\n",
       "        \n",
       "    \n",
       "            var marker_051d9fe296791b31f7d29ce66864ee7c = L.marker(\n",
       "                [37.5463644, 126.9648311],\n",
       "                {}\n",
       "            ).addTo(map_700a5232e57bcca54b08b0798cdded27);\n",
       "        \n",
       "    \n",
       "            marker_051d9fe296791b31f7d29ce66864ee7c.bindTooltip(\n",
       "                `&lt;div&gt;\n",
       "                     숙명여자대학교\n",
       "                 &lt;/div&gt;`,\n",
       "                {&quot;sticky&quot;: true}\n",
       "            );\n",
       "        \n",
       "    \n",
       "            var marker_29cbe11add26b281a4276a8fbc17367a = L.marker(\n",
       "                [37.4963111, 126.9574596],\n",
       "                {}\n",
       "            ).addTo(map_700a5232e57bcca54b08b0798cdded27);\n",
       "        \n",
       "    \n",
       "            marker_29cbe11add26b281a4276a8fbc17367a.bindTooltip(\n",
       "                `&lt;div&gt;\n",
       "                     숭실대학교\n",
       "                 &lt;/div&gt;`,\n",
       "                {&quot;sticky&quot;: true}\n",
       "            );\n",
       "        \n",
       "    \n",
       "            var marker_6b8d234bf495e6a890f98aaa45a73c1b = L.marker(\n",
       "                [37.565784, 126.938572],\n",
       "                {}\n",
       "            ).addTo(map_700a5232e57bcca54b08b0798cdded27);\n",
       "        \n",
       "    \n",
       "            marker_6b8d234bf495e6a890f98aaa45a73c1b.bindTooltip(\n",
       "                `&lt;div&gt;\n",
       "                     연세대학교\n",
       "                 &lt;/div&gt;`,\n",
       "                {&quot;sticky&quot;: true}\n",
       "            );\n",
       "        \n",
       "    \n",
       "            var marker_822945f3af5da3dca559b711cd6b3a44 = L.marker(\n",
       "                [37.6238188, 127.0988783],\n",
       "                {}\n",
       "            ).addTo(map_700a5232e57bcca54b08b0798cdded27);\n",
       "        \n",
       "    \n",
       "            marker_822945f3af5da3dca559b711cd6b3a44.bindTooltip(\n",
       "                `&lt;div&gt;\n",
       "                     육군사관학교\n",
       "                 &lt;/div&gt;`,\n",
       "                {&quot;sticky&quot;: true}\n",
       "            );\n",
       "        \n",
       "    \n",
       "            var marker_eb60a6bbf5c213ea599bdeea3a9a2500 = L.marker(\n",
       "                [37.5643079, 126.9501786],\n",
       "                {}\n",
       "            ).addTo(map_700a5232e57bcca54b08b0798cdded27);\n",
       "        \n",
       "    \n",
       "            marker_eb60a6bbf5c213ea599bdeea3a9a2500.bindTooltip(\n",
       "                `&lt;div&gt;\n",
       "                     이화여자대학교\n",
       "                 &lt;/div&gt;`,\n",
       "                {&quot;sticky&quot;: true}\n",
       "            );\n",
       "        \n",
       "    \n",
       "            var marker_205ae719f71fb2491d030ac6b40d3b0d = L.marker(\n",
       "                [37.5505112, 127.1034577],\n",
       "                {}\n",
       "            ).addTo(map_700a5232e57bcca54b08b0798cdded27);\n",
       "        \n",
       "    \n",
       "            marker_205ae719f71fb2491d030ac6b40d3b0d.bindTooltip(\n",
       "                `&lt;div&gt;\n",
       "                     장로회신학대학교\n",
       "                 &lt;/div&gt;`,\n",
       "                {&quot;sticky&quot;: true}\n",
       "            );\n",
       "        \n",
       "    \n",
       "            var marker_657f09aadaf95bf62af7a8d81ae0a6db = L.marker(\n",
       "                [37.5050881, 126.9571012],\n",
       "                {}\n",
       "            ).addTo(map_700a5232e57bcca54b08b0798cdded27);\n",
       "        \n",
       "    \n",
       "            marker_657f09aadaf95bf62af7a8d81ae0a6db.bindTooltip(\n",
       "                `&lt;div&gt;\n",
       "                     중앙대학교 서울캠퍼스 \n",
       "                 &lt;/div&gt;`,\n",
       "                {&quot;sticky&quot;: true}\n",
       "            );\n",
       "        \n",
       "    \n",
       "            var marker_9b374f5d6532cbc5d2c445dbd7a38856 = L.marker(\n",
       "                [37.4886232, 126.9668169],\n",
       "                {}\n",
       "            ).addTo(map_700a5232e57bcca54b08b0798cdded27);\n",
       "        \n",
       "    \n",
       "            marker_9b374f5d6532cbc5d2c445dbd7a38856.bindTooltip(\n",
       "                `&lt;div&gt;\n",
       "                     총신대학교\n",
       "                 &lt;/div&gt;`,\n",
       "                {&quot;sticky&quot;: true}\n",
       "            );\n",
       "        \n",
       "    \n",
       "            var marker_76cbcf83127f725a5fc8791426a0fb03 = L.marker(\n",
       "                [37.5624515, 126.9534165],\n",
       "                {}\n",
       "            ).addTo(map_700a5232e57bcca54b08b0798cdded27);\n",
       "        \n",
       "    \n",
       "            marker_76cbcf83127f725a5fc8791426a0fb03.bindTooltip(\n",
       "                `&lt;div&gt;\n",
       "                     추계예술대학교\n",
       "                 &lt;/div&gt;`,\n",
       "                {&quot;sticky&quot;: true}\n",
       "            );\n",
       "        \n",
       "    \n",
       "            var marker_11bc6d7af56ccdd88a343cd758ba0a41 = L.marker(\n",
       "                [37.5786127, 127.0032905],\n",
       "                {}\n",
       "            ).addTo(map_700a5232e57bcca54b08b0798cdded27);\n",
       "        \n",
       "    \n",
       "            marker_11bc6d7af56ccdd88a343cd758ba0a41.bindTooltip(\n",
       "                `&lt;div&gt;\n",
       "                     한국방송통신대학교\n",
       "                 &lt;/div&gt;`,\n",
       "                {&quot;sticky&quot;: true}\n",
       "            );\n",
       "        \n",
       "    \n",
       "            var marker_8b7f6ea4f44609f48c29d01d6763276e = L.marker(\n",
       "                [37.6487485, 127.0643199],\n",
       "                {}\n",
       "            ).addTo(map_700a5232e57bcca54b08b0798cdded27);\n",
       "        \n",
       "    \n",
       "            marker_8b7f6ea4f44609f48c29d01d6763276e.bindTooltip(\n",
       "                `&lt;div&gt;\n",
       "                     한국성서대학교\n",
       "                 &lt;/div&gt;`,\n",
       "                {&quot;sticky&quot;: true}\n",
       "            );\n",
       "        \n",
       "    \n",
       "            var marker_4fe6b0fdf0361c6b026a7845352fa815 = L.marker(\n",
       "                [37.6049973, 127.0567397],\n",
       "                {}\n",
       "            ).addTo(map_700a5232e57bcca54b08b0798cdded27);\n",
       "        \n",
       "    \n",
       "            marker_4fe6b0fdf0361c6b026a7845352fa815.bindTooltip(\n",
       "                `&lt;div&gt;\n",
       "                     한국예술종합학교\n",
       "                 &lt;/div&gt;`,\n",
       "                {&quot;sticky&quot;: true}\n",
       "            );\n",
       "        \n",
       "    \n",
       "            var marker_80d206955216106e3ef482874f954d6e = L.marker(\n",
       "                [37.597319, 127.057843],\n",
       "                {}\n",
       "            ).addTo(map_700a5232e57bcca54b08b0798cdded27);\n",
       "        \n",
       "    \n",
       "            marker_80d206955216106e3ef482874f954d6e.bindTooltip(\n",
       "                `&lt;div&gt;\n",
       "                     한국외국어대학교\n",
       "                 &lt;/div&gt;`,\n",
       "                {&quot;sticky&quot;: true}\n",
       "            );\n",
       "        \n",
       "    \n",
       "            var marker_d6c105c8b78eb18b677c6466171d301f = L.marker(\n",
       "                [37.5196266, 127.1309837],\n",
       "                {}\n",
       "            ).addTo(map_700a5232e57bcca54b08b0798cdded27);\n",
       "        \n",
       "    \n",
       "            marker_d6c105c8b78eb18b677c6466171d301f.bindTooltip(\n",
       "                `&lt;div&gt;\n",
       "                     한국체육대학교\n",
       "                 &lt;/div&gt;`,\n",
       "                {&quot;sticky&quot;: true}\n",
       "            );\n",
       "        \n",
       "    \n",
       "            var marker_69ca9b5e08c4fea9ff8ccb614004fd93 = L.marker(\n",
       "                [37.5817849, 127.010369],\n",
       "                {}\n",
       "            ).addTo(map_700a5232e57bcca54b08b0798cdded27);\n",
       "        \n",
       "    \n",
       "            marker_69ca9b5e08c4fea9ff8ccb614004fd93.bindTooltip(\n",
       "                `&lt;div&gt;\n",
       "                     한성대학교\n",
       "                 &lt;/div&gt;`,\n",
       "                {&quot;sticky&quot;: true}\n",
       "            );\n",
       "        \n",
       "    \n",
       "            var marker_7a33f3c9c18fdb87e753572c09bc692f = L.marker(\n",
       "                [37.5572321, 127.0453219],\n",
       "                {}\n",
       "            ).addTo(map_700a5232e57bcca54b08b0798cdded27);\n",
       "        \n",
       "    \n",
       "            marker_7a33f3c9c18fdb87e753572c09bc692f.bindTooltip(\n",
       "                `&lt;div&gt;\n",
       "                     한양대학교\n",
       "                 &lt;/div&gt;`,\n",
       "                {&quot;sticky&quot;: true}\n",
       "            );\n",
       "        \n",
       "    \n",
       "            var marker_68903daa6cc929e6ab0dda36c9642cea = L.marker(\n",
       "                [37.5514642, 126.9250106],\n",
       "                {}\n",
       "            ).addTo(map_700a5232e57bcca54b08b0798cdded27);\n",
       "        \n",
       "    \n",
       "            marker_68903daa6cc929e6ab0dda36c9642cea.bindTooltip(\n",
       "                `&lt;div&gt;\n",
       "                     홍익대학교\n",
       "                 &lt;/div&gt;`,\n",
       "                {&quot;sticky&quot;: true}\n",
       "            );\n",
       "        \n",
       "&lt;/script&gt;\" style=\"position:absolute;width:100%;height:100%;left:0;top:0;border:none !important;\" allowfullscreen webkitallowfullscreen mozallowfullscreen></iframe></div></div>"
      ],
      "text/plain": [
       "<folium.folium.Map at 0x21970272da0>"
      ]
     },
     "execution_count": 167,
     "metadata": {},
     "output_type": "execute_result"
    }
   ],
   "source": [
    "import folium\n",
    "import pandas as pd\n",
    "df=pd.read_excel(\"서울지역대학교위치.xlsx\")\n",
    "seoul_map = folium.Map(location=[37.55, 126.98], zoom_start =12)\n",
    "\n",
    "for name, lat, long in zip(df.대학교, df.위도, df.경도):\n",
    "    folium.Marker([lat, long], tooltip= name).add_to(seoul_map)\n",
    "seoul_map    "
   ]
  },
  {
   "cell_type": "code",
   "execution_count": 25,
   "id": "4f6ace59-ff70-4649-8e2a-1edf3f382f4a",
   "metadata": {},
   "outputs": [
    {
     "ename": "SyntaxError",
     "evalue": "invalid syntax (1782693444.py, line 1)",
     "output_type": "error",
     "traceback": [
      "\u001b[1;36m  Input \u001b[1;32mIn [25]\u001b[1;36m\u001b[0m\n\u001b[1;33m    sys 시스템\u001b[0m\n\u001b[1;37m        ^\u001b[0m\n\u001b[1;31mSyntaxError\u001b[0m\u001b[1;31m:\u001b[0m invalid syntax\n"
     ]
    }
   ],
   "source": [
    "sys 시스템"
   ]
  },
  {
   "cell_type": "code",
   "execution_count": 26,
   "id": "04c3c25f-49e1-4baf-894a-2a3e822ccdd7",
   "metadata": {},
   "outputs": [],
   "source": [
    "import sys"
   ]
  },
  {
   "cell_type": "code",
   "execution_count": 28,
   "id": "3204daaa-5bef-4b68-9490-39c93ee24b33",
   "metadata": {},
   "outputs": [
    {
     "data": {
      "text/plain": [
       "['C:\\\\Users\\\\admin',\n",
       " 'C:\\\\Users\\\\admin\\\\AppData\\\\Local\\\\Programs\\\\Python\\\\Python310\\\\python310.zip',\n",
       " 'C:\\\\Users\\\\admin\\\\AppData\\\\Local\\\\Programs\\\\Python\\\\Python310\\\\DLLs',\n",
       " 'C:\\\\Users\\\\admin\\\\AppData\\\\Local\\\\Programs\\\\Python\\\\Python310\\\\lib',\n",
       " 'C:\\\\Users\\\\admin\\\\AppData\\\\Local\\\\Programs\\\\Python\\\\Python310',\n",
       " '',\n",
       " 'C:\\\\Users\\\\admin\\\\AppData\\\\Local\\\\Programs\\\\Python\\\\Python310\\\\lib\\\\site-packages',\n",
       " 'C:\\\\Users\\\\admin\\\\AppData\\\\Local\\\\Programs\\\\Python\\\\Python310\\\\lib\\\\site-packages\\\\win32',\n",
       " 'C:\\\\Users\\\\admin\\\\AppData\\\\Local\\\\Programs\\\\Python\\\\Python310\\\\lib\\\\site-packages\\\\win32\\\\lib',\n",
       " 'C:\\\\Users\\\\admin\\\\AppData\\\\Local\\\\Programs\\\\Python\\\\Python310\\\\lib\\\\site-packages\\\\Pythonwin']"
      ]
     },
     "execution_count": 28,
     "metadata": {},
     "output_type": "execute_result"
    }
   ],
   "source": [
    "sys.path # 가로가 없는 것은 변수"
   ]
  },
  {
   "cell_type": "code",
   "execution_count": 29,
   "id": "5c28c415-cd91-4b46-b87f-47e9b3931154",
   "metadata": {},
   "outputs": [
    {
     "ename": "TypeError",
     "evalue": "list.append() takes exactly one argument (0 given)",
     "output_type": "error",
     "traceback": [
      "\u001b[1;31m---------------------------------------------------------------------------\u001b[0m",
      "\u001b[1;31mTypeError\u001b[0m                                 Traceback (most recent call last)",
      "Input \u001b[1;32mIn [29]\u001b[0m, in \u001b[0;36m<cell line: 1>\u001b[1;34m()\u001b[0m\n\u001b[1;32m----> 1\u001b[0m \u001b[43msys\u001b[49m\u001b[38;5;241;43m.\u001b[39;49m\u001b[43mpath\u001b[49m\u001b[38;5;241;43m.\u001b[39;49m\u001b[43mappend\u001b[49m\u001b[43m(\u001b[49m\u001b[43m)\u001b[49m\n",
      "\u001b[1;31mTypeError\u001b[0m: list.append() takes exactly one argument (0 given)"
     ]
    }
   ],
   "source": [
    "sys.path.append()"
   ]
  },
  {
   "cell_type": "code",
   "execution_count": 30,
   "id": "4a3e9969-dd28-4d50-ac0e-f8dc115d2d4e",
   "metadata": {},
   "outputs": [
    {
     "ename": "SyntaxError",
     "evalue": "invalid decimal literal (128389300.py, line 1)",
     "output_type": "error",
     "traceback": [
      "\u001b[1;36m  Input \u001b[1;32mIn [30]\u001b[1;36m\u001b[0m\n\u001b[1;33m    sys.argv[1:] 뒤에 있는 것들 1부터 끝까지\u001b[0m\n\u001b[1;37m                          ^\u001b[0m\n\u001b[1;31mSyntaxError\u001b[0m\u001b[1;31m:\u001b[0m invalid decimal literal\n"
     ]
    }
   ],
   "source": [
    "sys.argv[1:] 뒤에 있는 것들 1부터 끝까지 \n",
    "sys.py 111, aaa, bbb, ccc"
   ]
  },
  {
   "cell_type": "code",
   "execution_count": null,
   "id": "6082f6a9-744d-47ef-9484-c9eaf3251ae2",
   "metadata": {},
   "outputs": [],
   "source": [
    "import os"
   ]
  },
  {
   "cell_type": "code",
   "execution_count": null,
   "id": "5ebc8c99-d5ef-49c6-8ca6-d82c178fc432",
   "metadata": {},
   "outputs": [],
   "source": [
    "os.environ"
   ]
  },
  {
   "cell_type": "code",
   "execution_count": 2,
   "id": "7ee6cda3-5744-4a20-9944-4709ca027088",
   "metadata": {},
   "outputs": [
    {
     "ename": "NameError",
     "evalue": "name 'os' is not defined",
     "output_type": "error",
     "traceback": [
      "\u001b[1;31m---------------------------------------------------------------------------\u001b[0m",
      "\u001b[1;31mNameError\u001b[0m                                 Traceback (most recent call last)",
      "Input \u001b[1;32mIn [2]\u001b[0m, in \u001b[0;36m<cell line: 1>\u001b[1;34m()\u001b[0m\n\u001b[1;32m----> 1\u001b[0m \u001b[43mos\u001b[49m\u001b[38;5;241m.\u001b[39mchdir()\n",
      "\u001b[1;31mNameError\u001b[0m: name 'os' is not defined"
     ]
    }
   ],
   "source": [
    "os.chdir()"
   ]
  },
  {
   "cell_type": "code",
   "execution_count": 3,
   "id": "69d741db-3b1d-4730-8f3a-4befd4596812",
   "metadata": {},
   "outputs": [
    {
     "ename": "NameError",
     "evalue": "name 'os' is not defined",
     "output_type": "error",
     "traceback": [
      "\u001b[1;31m---------------------------------------------------------------------------\u001b[0m",
      "\u001b[1;31mNameError\u001b[0m                                 Traceback (most recent call last)",
      "Input \u001b[1;32mIn [3]\u001b[0m, in \u001b[0;36m<cell line: 1>\u001b[1;34m()\u001b[0m\n\u001b[1;32m----> 1\u001b[0m \u001b[43mos\u001b[49m\u001b[38;5;241m.\u001b[39msystem(\u001b[38;5;124m\"\u001b[39m\u001b[38;5;124mdir\u001b[39m\u001b[38;5;124m\"\u001b[39m)\n",
      "\u001b[1;31mNameError\u001b[0m: name 'os' is not defined"
     ]
    }
   ],
   "source": [
    "os.system(\"dir\")"
   ]
  },
  {
   "cell_type": "code",
   "execution_count": 4,
   "id": "794c27c6-ea59-4b70-8697-60227b48768b",
   "metadata": {},
   "outputs": [
    {
     "name": "stdout",
     "output_type": "stream",
     "text": [
      " C 드라이브의 볼륨에는 이름이 없습니다.\n",
      " 볼륨 일련 번호: 682B-EDCF\n",
      "\n",
      " C:\\Users\\admin 디렉터리\n",
      "\n",
      "2022-09-13  오전 11:37    <DIR>          .\n",
      "2022-09-13  오전 11:37    <DIR>          ..\n",
      "2022-09-01  오전 11:25    <DIR>          .idlerc\n",
      "2022-09-13  오전 08:52    <DIR>          .ipynb_checkpoints\n",
      "2022-09-01  오전 11:20    <DIR>          .ipython\n",
      "2022-09-01  오전 11:25    <DIR>          .jupyter\n",
      "2022-09-01  오후 12:38    <DIR>          .matplotlib\n",
      "2022-09-05  오후 01:55           322,258 1.ipynb\n",
      "2022-08-12  오후 02:17    <DIR>          3D Objects\n",
      "2022-09-08  오후 05:11            70,126 4.ipynb\n",
      "2022-09-08  오후 12:46            68,664 5.ipynb\n",
      "2022-09-08  오후 05:48            53,625 6.ipynb\n",
      "2022-09-13  오전 11:37           119,423 7.ipynb\n",
      "2022-09-08  오후 12:28               146 a.txt\n",
      "2022-09-08  오후 02:12    <DIR>          abc\n",
      "2022-09-08  오후 02:36                16 adc\n",
      "2022-08-12  오후 02:17    <DIR>          Contacts\n",
      "2022-08-29  오후 05:41    <DIR>          Desktop\n",
      "2022-08-25  오후 02:43    <DIR>          Documents\n",
      "2022-09-08  오후 01:49    <DIR>          Downloads\n",
      "2022-08-12  오후 02:17    <DIR>          Favorites\n",
      "2022-08-12  오후 02:17    <DIR>          Links\n",
      "2022-08-12  오후 02:17    <DIR>          Music\n",
      "2022-09-08  오전 09:30                70 new.txt\n",
      "2022-09-07  오전 10:25                80 new1.txt\n",
      "2022-09-07  오후 04:03                42 new2.txt\n",
      "2022-09-07  오후 04:08               140 new3.txt\n",
      "2022-08-12  오후 02:19    <DIR>          OneDrive\n",
      "2022-09-07  오후 05:48                36 people.txt\n",
      "2022-08-12  오후 02:19    <DIR>          Pictures\n",
      "2022-08-12  오후 02:17    <DIR>          Saved Games\n",
      "2022-08-12  오후 02:19    <DIR>          Searches\n",
      "2022-09-07  오전 11:53               194 sys,py\n",
      "2022-09-07  오전 11:56                83 test,py.txt\n",
      "2022-09-07  오후 04:38                37 test.py\n",
      "2022-09-07  오후 05:38               181 test.txt\n",
      "2022-09-07  오후 04:38                37 test1.py\n",
      "2022-09-08  오후 04:36            84,593 Untitled.ipynb\n",
      "2022-09-02  오후 06:04           105,972 Untitled1.ipynb\n",
      "2022-08-24  오후 04:00    <DIR>          Videos\n",
      "2022-08-23  오전 11:15    <DIR>          WR\n",
      "2022-09-08  오전 11:49    <DIR>          __pycache__\n",
      "2022-09-08  오전 09:50               146 구구단.txt\n",
      "2022-09-13  오전 10:51            10,942 서울지역대학교위치.xlsx\n",
      "              21개 파일             836,811 바이트\n",
      "              23개 디렉터리  950,081,249,280 바이트 남음\n"
     ]
    }
   ],
   "source": [
    "!dir"
   ]
  },
  {
   "cell_type": "code",
   "execution_count": 5,
   "id": "ea98c6ec-1914-44b2-912b-90a774725b89",
   "metadata": {},
   "outputs": [
    {
     "ename": "NameError",
     "evalue": "name 'os' is not defined",
     "output_type": "error",
     "traceback": [
      "\u001b[1;31m---------------------------------------------------------------------------\u001b[0m",
      "\u001b[1;31mNameError\u001b[0m                                 Traceback (most recent call last)",
      "Input \u001b[1;32mIn [5]\u001b[0m, in \u001b[0;36m<cell line: 1>\u001b[1;34m()\u001b[0m\n\u001b[1;32m----> 1\u001b[0m \u001b[43mos\u001b[49m,rmdir()\n",
      "\u001b[1;31mNameError\u001b[0m: name 'os' is not defined"
     ]
    }
   ],
   "source": [
    "os,rmdir()"
   ]
  },
  {
   "cell_type": "code",
   "execution_count": 6,
   "id": "b8618fe8-f258-4d04-8c8d-73d29cb4d95e",
   "metadata": {},
   "outputs": [
    {
     "ename": "NameError",
     "evalue": "name 'pickle' is not defined",
     "output_type": "error",
     "traceback": [
      "\u001b[1;31m---------------------------------------------------------------------------\u001b[0m",
      "\u001b[1;31mNameError\u001b[0m                                 Traceback (most recent call last)",
      "Input \u001b[1;32mIn [6]\u001b[0m, in \u001b[0;36m<cell line: 1>\u001b[1;34m()\u001b[0m\n\u001b[1;32m----> 1\u001b[0m \u001b[43mpickle\u001b[49m()\n",
      "\u001b[1;31mNameError\u001b[0m: name 'pickle' is not defined"
     ]
    }
   ],
   "source": [
    "pickle() # 객체의 형태를 그대로 유지하면소 파일에 저장하고 불러옴"
   ]
  },
  {
   "cell_type": "code",
   "execution_count": 18,
   "id": "4f805b0f-29cd-408f-b883-b01d89b216bb",
   "metadata": {},
   "outputs": [],
   "source": [
    "df.to_csv(\"aaaaaa.csv\")"
   ]
  },
  {
   "cell_type": "code",
   "execution_count": 24,
   "id": "1661d02d-08a2-47e0-8e9a-056f21b5099e",
   "metadata": {},
   "outputs": [],
   "source": [
    "df.to_excel(\"bbbb.xlsx\")"
   ]
  },
  {
   "cell_type": "code",
   "execution_count": 21,
   "id": "9db4399b-2c28-402e-b7f2-c620ac3f5f95",
   "metadata": {},
   "outputs": [],
   "source": [
    "import pickle\n",
    "with open(\"test.pickle\", \"wb\") as f: # 객체의 형태를 그대로 유지하면소 \n",
    "    pickle.dump(df, f) #파일에 저장하고 불러옴 dump는 파일 저장 "
   ]
  },
  {
   "cell_type": "code",
   "execution_count": 23,
   "id": "73a5d0ca-efc9-4384-b218-5469bff075d3",
   "metadata": {},
   "outputs": [
    {
     "name": "stdout",
     "output_type": "stream",
     "text": [
      "               대학교         위도          경도\n",
      "0     KAIST 서울캠퍼스   37.592573  127.046737\n",
      "1            KC대학교  37.548345  126.854797\n",
      "2     가톨릭대학교(성신교정)  37.585922  127.004328\n",
      "3     가톨릭대학교(성의교정)  37.499623  127.006065\n",
      "4         감리교신학대학교  37.567645  126.961610\n",
      "5            건국대학교  37.540762  127.079343\n",
      "6     경기대학교 서울캠퍼스   37.300485  127.035833\n",
      "7     경희대학교 서울캠퍼스   37.596195  127.052544\n",
      "8            고려대학교  37.590192  127.033184\n",
      "9            광운대학교  37.619496  127.059696\n",
      "10           국민대학교  37.609641  126.997697\n",
      "11         덕성여자대학교  37.651199  127.016160\n",
      "12           동국대학교  37.557477  127.002052\n",
      "13         동덕여자대학교  37.606320  127.041808\n",
      "14    명지대학교 서울캠퍼스   37.580205  126.923445\n",
      "15           삼육대학교  37.642952  127.105476\n",
      "16    상명대학교 서울캠퍼스   37.602638  126.955252\n",
      "17           서강대학교  37.550944  126.941002\n",
      "18           서경대학교  37.615095  127.013111\n",
      "19       서울과학기술대학교  37.631668  127.077481\n",
      "20         서울교육대학교  37.489961  127.016412\n",
      "21         서울기독대학교  37.600923  126.912382\n",
      "22           서울대학교  37.459882  126.951905\n",
      "23         서울시립대학교  37.583866  127.058777\n",
      "24         서울여자대학교  37.628113  127.090457\n",
      "25         서울한영대학교  37.496541  126.851262\n",
      "26          성공회대학교  37.487232  126.825320\n",
      "27  성균관대학교 서울캠퍼스    37.588227  126.993606\n",
      "28         성신여자대학교  37.591310  127.022131\n",
      "29           세종대학교  37.550260  127.073139\n",
      "30         숙명여자대학교  37.546364  126.964831\n",
      "31           숭실대학교  37.496311  126.957460\n",
      "32           연세대학교  37.565784  126.938572\n",
      "33          육군사관학교  37.623819  127.098878\n",
      "34         이화여자대학교  37.564308  126.950179\n",
      "35        장로회신학대학교  37.550511  127.103458\n",
      "36    중앙대학교 서울캠퍼스   37.505088  126.957101\n",
      "37           총신대학교  37.488623  126.966817\n",
      "38         추계예술대학교  37.562452  126.953417\n",
      "39       한국방송통신대학교  37.578613  127.003291\n",
      "40         한국성서대학교  37.648749  127.064320\n",
      "41        한국예술종합학교  37.604997  127.056740\n",
      "42        한국외국어대학교  37.597319  127.057843\n",
      "43         한국체육대학교  37.519627  127.130984\n",
      "44           한성대학교  37.581785  127.010369\n",
      "45           한양대학교  37.557232  127.045322\n",
      "46           홍익대학교  37.551464  126.925011\n"
     ]
    }
   ],
   "source": [
    "with open(\"test.pickle\", \"rb\") as f:\n",
    "    data =pickle.load(f) # laod는 파일 읽어오기 \n",
    "print(data)"
   ]
  },
  {
   "cell_type": "code",
   "execution_count": 170,
   "id": "a9ebeb72-fd55-41b0-980f-1028a70f5aef",
   "metadata": {},
   "outputs": [
    {
     "data": {
      "text/plain": [
       "'memo2.txt'"
      ]
     },
     "execution_count": 170,
     "metadata": {},
     "output_type": "execute_result"
    }
   ],
   "source": [
    "import shutil\n",
    "shutil.copy(\"memo.txt\", \"memo2.txt\")"
   ]
  },
  {
   "cell_type": "code",
   "execution_count": 172,
   "id": "a55e2965-cec7-4b68-8a89-61ef4039f30e",
   "metadata": {},
   "outputs": [],
   "source": [
    "import glob"
   ]
  },
  {
   "cell_type": "code",
   "execution_count": 175,
   "id": "f475ef33-b126-43c2-806b-9b04ca9e5a64",
   "metadata": {},
   "outputs": [
    {
     "data": {
      "text/plain": [
       "['C:/users\\\\admin']"
      ]
     },
     "execution_count": 175,
     "metadata": {},
     "output_type": "execute_result"
    }
   ],
   "source": [
    "glob.glob(\"C:/users/admin*\")"
   ]
  },
  {
   "cell_type": "code",
   "execution_count": 23,
   "id": "9c487da4-1aed-4171-8bf8-8fd3d4d2ca52",
   "metadata": {},
   "outputs": [
    {
     "data": {
      "text/plain": [
       "['C:/users/admin\\\\a.txt',\n",
       " 'C:/users/admin\\\\aaaaaa.csv',\n",
       " 'C:/users/admin\\\\abc',\n",
       " 'C:/users/admin\\\\adc',\n",
       " 'C:/users/admin\\\\AppData',\n",
       " 'C:/users/admin\\\\Application Data']"
      ]
     },
     "execution_count": 23,
     "metadata": {},
     "output_type": "execute_result"
    }
   ],
   "source": [
    "glob.glob(\"C:/users/admin/a*\") # a로 시작하는 파일 찾기 "
   ]
  },
  {
   "cell_type": "code",
   "execution_count": 24,
   "id": "80fe5b59-9a67-4600-ade0-c6f6819a20ea",
   "metadata": {},
   "outputs": [
    {
     "data": {
      "text/plain": [
       "['C:/users/admin\\\\aaaaaa.csv']"
      ]
     },
     "execution_count": 24,
     "metadata": {},
     "output_type": "execute_result"
    }
   ],
   "source": [
    "glob.glob(\"C:/users/admin/*.csv\") "
   ]
  },
  {
   "cell_type": "code",
   "execution_count": 26,
   "id": "072f8b76-d958-46fb-a5a3-306794a594d1",
   "metadata": {},
   "outputs": [],
   "source": [
    "import time"
   ]
  },
  {
   "cell_type": "code",
   "execution_count": 27,
   "id": "224b5ca8-222a-4bf7-b7fa-3c5e8684f4cf",
   "metadata": {},
   "outputs": [
    {
     "data": {
      "text/plain": [
       "1663045629.013904"
      ]
     },
     "execution_count": 27,
     "metadata": {},
     "output_type": "execute_result"
    }
   ],
   "source": [
    "time.time() # 70년도 부터 초셈"
   ]
  },
  {
   "cell_type": "code",
   "execution_count": 28,
   "id": "a8c97d91-d42a-451c-bdd3-7992f57aba82",
   "metadata": {},
   "outputs": [
    {
     "data": {
      "text/plain": [
       "27717428.884917412"
      ]
     },
     "execution_count": 28,
     "metadata": {},
     "output_type": "execute_result"
    }
   ],
   "source": [
    "(time.time()/60) #-분으로 "
   ]
  },
  {
   "cell_type": "code",
   "execution_count": 31,
   "id": "bef9dd56-f68f-4065-8e39-7e2303cb5c0e",
   "metadata": {},
   "outputs": [
    {
     "data": {
      "text/plain": [
       "53.467264402974415"
      ]
     },
     "execution_count": 31,
     "metadata": {},
     "output_type": "execute_result"
    }
   ],
   "source": [
    "((((time.time()/60)/60)/24)/30)/12# 분 시간 하루 한달 년"
   ]
  },
  {
   "cell_type": "code",
   "execution_count": 32,
   "id": "c649033c-019c-4bd6-b42b-969cc920d8f9",
   "metadata": {},
   "outputs": [
    {
     "data": {
      "text/plain": [
       "time.struct_time(tm_year=2022, tm_mon=9, tm_mday=13, tm_hour=14, tm_min=10, tm_sec=9, tm_wday=1, tm_yday=256, tm_isdst=0)"
      ]
     },
     "execution_count": 32,
     "metadata": {},
     "output_type": "execute_result"
    }
   ],
   "source": [
    "time.localtime(time.time())"
   ]
  },
  {
   "cell_type": "code",
   "execution_count": 33,
   "id": "9e192d83-cdef-4ad0-b8b5-498e1fd20a73",
   "metadata": {},
   "outputs": [
    {
     "data": {
      "text/plain": [
       "2022"
      ]
     },
     "execution_count": 33,
     "metadata": {},
     "output_type": "execute_result"
    }
   ],
   "source": [
    "time.localtime(time.time()).tm_year"
   ]
  },
  {
   "cell_type": "code",
   "execution_count": 34,
   "id": "0932036e-035a-4665-ad37-35176d6b1f20",
   "metadata": {},
   "outputs": [
    {
     "ename": "SyntaxError",
     "evalue": "invalid syntax (3793909200.py, line 1)",
     "output_type": "error",
     "traceback": [
      "\u001b[1;36m  Input \u001b[1;32mIn [34]\u001b[1;36m\u001b[0m\n\u001b[1;33m    str f time 시간에서 부터 문자 반환\u001b[0m\n\u001b[1;37m        ^\u001b[0m\n\u001b[1;31mSyntaxError\u001b[0m\u001b[1;31m:\u001b[0m invalid syntax\n"
     ]
    }
   ],
   "source": [
    "str f time 시간에서 부터 문자 반환"
   ]
  },
  {
   "cell_type": "code",
   "execution_count": 36,
   "id": "67d4e042-75b0-45d3-825a-ec0502a6cc91",
   "metadata": {},
   "outputs": [
    {
     "data": {
      "text/plain": [
       "'09/13/22'"
      ]
     },
     "execution_count": 36,
     "metadata": {},
     "output_type": "execute_result"
    }
   ],
   "source": [
    "now = time.localtime(time.time())\n",
    "time.strftime('%x' ,now)"
   ]
  },
  {
   "cell_type": "code",
   "execution_count": 37,
   "id": "1c686454-76d5-467c-ad1a-30f267b7037b",
   "metadata": {},
   "outputs": [
    {
     "data": {
      "text/plain": [
       "'14:14:00'"
      ]
     },
     "execution_count": 37,
     "metadata": {},
     "output_type": "execute_result"
    }
   ],
   "source": [
    "now = time.localtime(time.time())\n",
    "time.strftime('%X' ,now)"
   ]
  },
  {
   "cell_type": "code",
   "execution_count": 179,
   "id": "4bf141e1-1891-47b4-bcc9-13c036ca4afa",
   "metadata": {},
   "outputs": [
    {
     "data": {
      "text/plain": [
       "'09/13/22, 14:14:00'"
      ]
     },
     "execution_count": 179,
     "metadata": {},
     "output_type": "execute_result"
    }
   ],
   "source": [
    "time.strftime('%x, %X' ,now)"
   ]
  },
  {
   "cell_type": "code",
   "execution_count": 183,
   "id": "5e4616d0-8575-41e7-90fe-3be221ba1826",
   "metadata": {},
   "outputs": [
    {
     "data": {
      "text/plain": [
       "time.struct_time(tm_year=2022, tm_mon=9, tm_mday=13, tm_hour=14, tm_min=13, tm_sec=13, tm_wday=1, tm_yday=256, tm_isdst=-1)"
      ]
     },
     "execution_count": 183,
     "metadata": {},
     "output_type": "execute_result"
    }
   ],
   "source": [
    "time.strptime('2022-09-13 02:13:13 PM','%Y-%m-%d %I:%M:%S %p') #\n",
    "#문자를 TIME으로"
   ]
  },
  {
   "cell_type": "code",
   "execution_count": 139,
   "id": "a3d5b36d-4797-425a-8818-78c998cac961",
   "metadata": {},
   "outputs": [
    {
     "name": "stdout",
     "output_type": "stream",
     "text": [
      "Hello\n",
      "Hello\n",
      "Hello\n"
     ]
    },
    {
     "ename": "KeyboardInterrupt",
     "evalue": "",
     "output_type": "error",
     "traceback": [
      "\u001b[1;31m---------------------------------------------------------------------------\u001b[0m",
      "\u001b[1;31mKeyboardInterrupt\u001b[0m                         Traceback (most recent call last)",
      "Input \u001b[1;32mIn [139]\u001b[0m, in \u001b[0;36m<cell line: 1>\u001b[1;34m()\u001b[0m\n\u001b[0;32m      1\u001b[0m \u001b[38;5;28;01mwhile\u001b[39;00m \u001b[38;5;28;01mTrue\u001b[39;00m:\n\u001b[0;32m      2\u001b[0m     \u001b[38;5;28mprint\u001b[39m(\u001b[38;5;124m\"\u001b[39m\u001b[38;5;124mHello\u001b[39m\u001b[38;5;124m\"\u001b[39m)\n\u001b[1;32m----> 3\u001b[0m     \u001b[43mtime\u001b[49m\u001b[38;5;241;43m.\u001b[39;49m\u001b[43msleep\u001b[49m\u001b[43m(\u001b[49m\u001b[38;5;241;43m1\u001b[39;49m\u001b[43m)\u001b[49m\n",
      "\u001b[1;31mKeyboardInterrupt\u001b[0m: "
     ]
    }
   ],
   "source": [
    "while True:\n",
    "    print(\"Hello\")\n",
    "    time.sleep(1)"
   ]
  },
  {
   "cell_type": "code",
   "execution_count": 43,
   "id": "8b22149e-9b82-4223-8ee7-6eeb18c06b34",
   "metadata": {},
   "outputs": [],
   "source": [
    "import calendar"
   ]
  },
  {
   "cell_type": "code",
   "execution_count": 44,
   "id": "ae1112b5-8ea5-4aea-952d-c07cc903983c",
   "metadata": {},
   "outputs": [
    {
     "data": {
      "text/plain": [
       "'                                  2022\\n\\n      January                   February                   March\\nMo Tu We Th Fr Sa Su      Mo Tu We Th Fr Sa Su      Mo Tu We Th Fr Sa Su\\n                1  2          1  2  3  4  5  6          1  2  3  4  5  6\\n 3  4  5  6  7  8  9       7  8  9 10 11 12 13       7  8  9 10 11 12 13\\n10 11 12 13 14 15 16      14 15 16 17 18 19 20      14 15 16 17 18 19 20\\n17 18 19 20 21 22 23      21 22 23 24 25 26 27      21 22 23 24 25 26 27\\n24 25 26 27 28 29 30      28                        28 29 30 31\\n31\\n\\n       April                      May                       June\\nMo Tu We Th Fr Sa Su      Mo Tu We Th Fr Sa Su      Mo Tu We Th Fr Sa Su\\n             1  2  3                         1             1  2  3  4  5\\n 4  5  6  7  8  9 10       2  3  4  5  6  7  8       6  7  8  9 10 11 12\\n11 12 13 14 15 16 17       9 10 11 12 13 14 15      13 14 15 16 17 18 19\\n18 19 20 21 22 23 24      16 17 18 19 20 21 22      20 21 22 23 24 25 26\\n25 26 27 28 29 30         23 24 25 26 27 28 29      27 28 29 30\\n                          30 31\\n\\n        July                     August                  September\\nMo Tu We Th Fr Sa Su      Mo Tu We Th Fr Sa Su      Mo Tu We Th Fr Sa Su\\n             1  2  3       1  2  3  4  5  6  7                1  2  3  4\\n 4  5  6  7  8  9 10       8  9 10 11 12 13 14       5  6  7  8  9 10 11\\n11 12 13 14 15 16 17      15 16 17 18 19 20 21      12 13 14 15 16 17 18\\n18 19 20 21 22 23 24      22 23 24 25 26 27 28      19 20 21 22 23 24 25\\n25 26 27 28 29 30 31      29 30 31                  26 27 28 29 30\\n\\n      October                   November                  December\\nMo Tu We Th Fr Sa Su      Mo Tu We Th Fr Sa Su      Mo Tu We Th Fr Sa Su\\n                1  2          1  2  3  4  5  6                1  2  3  4\\n 3  4  5  6  7  8  9       7  8  9 10 11 12 13       5  6  7  8  9 10 11\\n10 11 12 13 14 15 16      14 15 16 17 18 19 20      12 13 14 15 16 17 18\\n17 18 19 20 21 22 23      21 22 23 24 25 26 27      19 20 21 22 23 24 25\\n24 25 26 27 28 29 30      28 29 30                  26 27 28 29 30 31\\n31\\n'"
      ]
     },
     "execution_count": 44,
     "metadata": {},
     "output_type": "execute_result"
    }
   ],
   "source": [
    "calendar.calendar(2022)"
   ]
  },
  {
   "cell_type": "code",
   "execution_count": 45,
   "id": "dbb43e46-1fd7-4dbe-8d79-7c762ffabf30",
   "metadata": {},
   "outputs": [
    {
     "name": "stdout",
     "output_type": "stream",
     "text": [
      "   September 2022\n",
      "Mo Tu We Th Fr Sa Su\n",
      "          1  2  3  4\n",
      " 5  6  7  8  9 10 11\n",
      "12 13 14 15 16 17 18\n",
      "19 20 21 22 23 24 25\n",
      "26 27 28 29 30\n"
     ]
    }
   ],
   "source": [
    "calendar.prmonth(2022, 9)"
   ]
  },
  {
   "cell_type": "code",
   "execution_count": 46,
   "id": "14d3837b-af70-4d8a-a3dc-1f570bb876be",
   "metadata": {},
   "outputs": [
    {
     "data": {
      "text/plain": [
       "1"
      ]
     },
     "execution_count": 46,
     "metadata": {},
     "output_type": "execute_result"
    }
   ],
   "source": [
    "calendar.weekday(2022, 9, 13 #화요일은 1의 값"
   ]
  },
  {
   "cell_type": "code",
   "execution_count": 47,
   "id": "b415cffe-52c3-41ea-a8bc-9484e3dcc381",
   "metadata": {},
   "outputs": [
    {
     "data": {
      "text/plain": [
       "6"
      ]
     },
     "execution_count": 47,
     "metadata": {},
     "output_type": "execute_result"
    }
   ],
   "source": [
    "calendar.weekday(2022, 9, 11)"
   ]
  },
  {
   "cell_type": "markdown",
   "id": "397c22c5-84f1-4f87-8a66-7f2419886ee5",
   "metadata": {},
   "source": [
    "- random"
   ]
  },
  {
   "cell_type": "code",
   "execution_count": 37,
   "id": "a0b38d19-e73d-4a25-bb29-1fe7b351d8f1",
   "metadata": {},
   "outputs": [],
   "source": [
    "import random"
   ]
  },
  {
   "cell_type": "code",
   "execution_count": 54,
   "id": "79a3a9ee-5dfc-4265-9bfe-a9c6824b26d6",
   "metadata": {},
   "outputs": [
    {
     "data": {
      "text/plain": [
       "3"
      ]
     },
     "execution_count": 54,
     "metadata": {},
     "output_type": "execute_result"
    }
   ],
   "source": [
    "random.randint(1,5)"
   ]
  },
  {
   "cell_type": "code",
   "execution_count": 55,
   "id": "2478731e-6cff-406a-bcdd-e1ace8366ac2",
   "metadata": {},
   "outputs": [
    {
     "data": {
      "text/plain": [
       "[5, 10, 16, 18, 3, 8, 3, 12, 15, 20]"
      ]
     },
     "execution_count": 55,
     "metadata": {},
     "output_type": "execute_result"
    }
   ],
   "source": [
    "li =[]\n",
    "for i in range(10):# 10번 반복 \n",
    "    li.append(random.randint(1,20))\n",
    "li    "
   ]
  },
  {
   "cell_type": "code",
   "execution_count": 46,
   "id": "b925e972-f98b-49e4-9eac-18868a229a32",
   "metadata": {},
   "outputs": [
    {
     "data": {
      "text/plain": [
       "[51, 31, 7, 16, 32, 10, 12, 23, 54, 38]"
      ]
     },
     "execution_count": 46,
     "metadata": {},
     "output_type": "execute_result"
    }
   ],
   "source": [
    "li = []\n",
    "for _ in range(10):\n",
    "    a = random.randint(1, 55)\n",
    "    if a in li: \n",
    "        continue# 반복 되는 숫자가 있으면 위로 다시 올라감 \n",
    "    li.append(a)\n",
    "li "
   ]
  },
  {
   "cell_type": "code",
   "execution_count": 63,
   "id": "23705f25-14b8-429f-8c46-186b2e276592",
   "metadata": {},
   "outputs": [
    {
     "data": {
      "text/plain": [
       "10"
      ]
     },
     "execution_count": 63,
     "metadata": {},
     "output_type": "execute_result"
    }
   ],
   "source": [
    "random.choice([1,2,3,10])"
   ]
  },
  {
   "cell_type": "code",
   "execution_count": 64,
   "id": "702e9ff4-094c-43c2-b375-9770ad148cc0",
   "metadata": {},
   "outputs": [
    {
     "data": {
      "text/plain": [
       "2"
      ]
     },
     "execution_count": 64,
     "metadata": {},
     "output_type": "execute_result"
    }
   ],
   "source": [
    "random.choice(range(5))"
   ]
  },
  {
   "cell_type": "code",
   "execution_count": 67,
   "id": "df88e36f-c945-406f-81c3-163e5fe68e3e",
   "metadata": {},
   "outputs": [
    {
     "data": {
      "text/plain": [
       "0.23111592431394057"
      ]
     },
     "execution_count": 67,
     "metadata": {},
     "output_type": "execute_result"
    }
   ],
   "source": [
    "random.random() # 0과 1 사이의 소숫값\n"
   ]
  },
  {
   "cell_type": "code",
   "execution_count": 68,
   "id": "cf741138-fd67-48af-a05b-4e87749c2f92",
   "metadata": {},
   "outputs": [
    {
     "data": {
      "text/plain": [
       "0.5760157177783971"
      ]
     },
     "execution_count": 68,
     "metadata": {},
     "output_type": "execute_result"
    }
   ],
   "source": [
    "np.random.random()"
   ]
  },
  {
   "cell_type": "code",
   "execution_count": 71,
   "id": "b5bd0abc-2438-40a1-be34-c34288ac4cf0",
   "metadata": {},
   "outputs": [
    {
     "data": {
      "text/plain": [
       "[1, 3, 2]"
      ]
     },
     "execution_count": 71,
     "metadata": {},
     "output_type": "execute_result"
    }
   ],
   "source": [
    "data=[1,3,2]\n",
    "random.shuffle(data)\n",
    "data"
   ]
  },
  {
   "cell_type": "code",
   "execution_count": 73,
   "id": "30f805fc-61f2-456c-a6f6-348fea206ac7",
   "metadata": {},
   "outputs": [],
   "source": [
    "import webbrowser"
   ]
  },
  {
   "cell_type": "code",
   "execution_count": 74,
   "id": "b427ee49-0b59-48de-8f5e-dc845d97f15f",
   "metadata": {},
   "outputs": [
    {
     "data": {
      "text/plain": [
       "True"
      ]
     },
     "execution_count": 74,
     "metadata": {},
     "output_type": "execute_result"
    }
   ],
   "source": [
    "webbrowser.open(\"www.naver.com\")"
   ]
  },
  {
   "cell_type": "code",
   "execution_count": 75,
   "id": "ffe06a71-3792-49a1-9294-5d2825826eaa",
   "metadata": {},
   "outputs": [
    {
     "ename": "NameError",
     "evalue": "name 'Selenium' is not defined",
     "output_type": "error",
     "traceback": [
      "\u001b[1;31m---------------------------------------------------------------------------\u001b[0m",
      "\u001b[1;31mNameError\u001b[0m                                 Traceback (most recent call last)",
      "Input \u001b[1;32mIn [75]\u001b[0m, in \u001b[0;36m<cell line: 1>\u001b[1;34m()\u001b[0m\n\u001b[1;32m----> 1\u001b[0m \u001b[43mSelenium\u001b[49m\n",
      "\u001b[1;31mNameError\u001b[0m: name 'Selenium' is not defined"
     ]
    }
   ],
   "source": [
    "Selenium"
   ]
  },
  {
   "cell_type": "code",
   "execution_count": 76,
   "id": "9daaec67-304e-4d47-b5c5-5556058805f0",
   "metadata": {},
   "outputs": [
    {
     "ename": "NameError",
     "evalue": "name 'Thread' is not defined",
     "output_type": "error",
     "traceback": [
      "\u001b[1;31m---------------------------------------------------------------------------\u001b[0m",
      "\u001b[1;31mNameError\u001b[0m                                 Traceback (most recent call last)",
      "Input \u001b[1;32mIn [76]\u001b[0m, in \u001b[0;36m<cell line: 1>\u001b[1;34m()\u001b[0m\n\u001b[1;32m----> 1\u001b[0m \u001b[43mThread\u001b[49m\n",
      "\u001b[1;31mNameError\u001b[0m: name 'Thread' is not defined"
     ]
    }
   ],
   "source": [
    "Thread# 프로세스 안에 작은 프로세스 "
   ]
  },
  {
   "cell_type": "code",
   "execution_count": 135,
   "id": "6d4238cc-eab9-4597-967b-d491d502d62e",
   "metadata": {},
   "outputs": [],
   "source": [
    "import time\n",
    "\n",
    "def long_task():\n",
    "    for i in range(5):\n",
    "        time.sleep(1)\n",
    "    "
   ]
  },
  {
   "cell_type": "code",
   "execution_count": 140,
   "id": "7e7e86e9-e243-4ac1-9576-695f64493aed",
   "metadata": {},
   "outputs": [
    {
     "name": "stdout",
     "output_type": "stream",
     "text": [
      "start\n"
     ]
    }
   ],
   "source": [
    "import time\n",
    "\n",
    "def long_task():\n",
    "    for i in range(5):\n",
    "        time.sleep(1)\n",
    "        print(\"working: %s\" %i) # %s 문자열 안에 변수 넣어줄떄 옆에 변수이름 씀  \n",
    "print(\"start\") # 문자열 변수 %s자리에 변수인 %i가 들어감         \n",
    "        "
   ]
  },
  {
   "cell_type": "code",
   "execution_count": 141,
   "id": "68a6db2f-50b2-4353-9c16-0e27605b1cb8",
   "metadata": {},
   "outputs": [
    {
     "name": "stdout",
     "output_type": "stream",
     "text": [
      "working: 0\n",
      "working: 1\n",
      "working: 2\n",
      "working: 3\n",
      "working: 4\n"
     ]
    }
   ],
   "source": [
    "long_task()"
   ]
  },
  {
   "cell_type": "code",
   "execution_count": 142,
   "id": "eb6e1d19-6386-4ff0-8964-a85c984a9dde",
   "metadata": {},
   "outputs": [
    {
     "name": "stdout",
     "output_type": "stream",
     "text": [
      "start\n"
     ]
    }
   ],
   "source": [
    "import time\n",
    "\n",
    "def long_task():\n",
    "    for i in range(5):\n",
    "        time.sleep(1)\n",
    "        print(\"working: %s\" %i)\n",
    "print(\"start\")        \n",
    "        "
   ]
  },
  {
   "cell_type": "code",
   "execution_count": 129,
   "id": "5ad8ebce-dac5-4b54-93b5-dbc237842fb2",
   "metadata": {},
   "outputs": [
    {
     "name": "stdout",
     "output_type": "stream",
     "text": [
      "start\n",
      "working: 0\n",
      "working: 1\n",
      "working: 2\n",
      "working: 3\n",
      "working: 4\n",
      "working: 0\n",
      "working: 1\n",
      "working: 2\n",
      "working: 3\n",
      "working: 4\n",
      "working: 0\n",
      "working: 1\n",
      "working: 2\n",
      "working: 3\n",
      "working: 4\n",
      "working: 0\n",
      "working: 1\n",
      "working: 2\n",
      "working: 3\n"
     ]
    },
    {
     "ename": "KeyboardInterrupt",
     "evalue": "",
     "output_type": "error",
     "traceback": [
      "\u001b[1;31m---------------------------------------------------------------------------\u001b[0m",
      "\u001b[1;31mKeyboardInterrupt\u001b[0m                         Traceback (most recent call last)",
      "Input \u001b[1;32mIn [129]\u001b[0m, in \u001b[0;36m<cell line: 9>\u001b[1;34m()\u001b[0m\n\u001b[0;32m      7\u001b[0m \u001b[38;5;28mprint\u001b[39m(\u001b[38;5;124m\"\u001b[39m\u001b[38;5;124mstart\u001b[39m\u001b[38;5;124m\"\u001b[39m)        \n\u001b[0;32m      9\u001b[0m \u001b[38;5;28;01mfor\u001b[39;00m i \u001b[38;5;129;01min\u001b[39;00m \u001b[38;5;28mrange\u001b[39m(\u001b[38;5;241m5\u001b[39m):\n\u001b[1;32m---> 10\u001b[0m     \u001b[43mlong_task\u001b[49m\u001b[43m(\u001b[49m\u001b[43m)\u001b[49m\n\u001b[0;32m     11\u001b[0m \u001b[38;5;28mprint\u001b[39m(\u001b[38;5;124m\"\u001b[39m\u001b[38;5;124mEnd\u001b[39m\u001b[38;5;124m\"\u001b[39m)\n",
      "Input \u001b[1;32mIn [129]\u001b[0m, in \u001b[0;36mlong_task\u001b[1;34m()\u001b[0m\n\u001b[0;32m      3\u001b[0m \u001b[38;5;28;01mdef\u001b[39;00m \u001b[38;5;21mlong_task\u001b[39m():\n\u001b[0;32m      4\u001b[0m     \u001b[38;5;28;01mfor\u001b[39;00m i \u001b[38;5;129;01min\u001b[39;00m \u001b[38;5;28mrange\u001b[39m(\u001b[38;5;241m5\u001b[39m):\n\u001b[1;32m----> 5\u001b[0m         \u001b[43mtime\u001b[49m\u001b[38;5;241;43m.\u001b[39;49m\u001b[43msleep\u001b[49m\u001b[43m(\u001b[49m\u001b[38;5;241;43m1\u001b[39;49m\u001b[43m)\u001b[49m\n\u001b[0;32m      6\u001b[0m         \u001b[38;5;28mprint\u001b[39m(\u001b[38;5;124m\"\u001b[39m\u001b[38;5;124mworking: \u001b[39m\u001b[38;5;132;01m%s\u001b[39;00m\u001b[38;5;124m\"\u001b[39m \u001b[38;5;241m%\u001b[39mi)\n",
      "\u001b[1;31mKeyboardInterrupt\u001b[0m: "
     ]
    }
   ],
   "source": [
    "import time\n",
    "\n",
    "def long_task():\n",
    "    for i in range(5):\n",
    "        time.sleep(1)\n",
    "        print(\"working: %s\" %i)\n",
    "print(\"start\")        \n",
    "        \n",
    "for i in range(5): # 위의 long task를 5번 실행 \n",
    "    long_task()\n",
    "print(\"End\")    "
   ]
  },
  {
   "cell_type": "code",
   "execution_count": 128,
   "id": "ba9446e8-cae6-435b-8f39-2a164bd3e11a",
   "metadata": {},
   "outputs": [
    {
     "name": "stdout",
     "output_type": "stream",
     "text": [
      "start\n",
      "End\n",
      "working 0\n",
      "working 0\n",
      "working 0\n",
      "working 0\n",
      "working 0\n",
      "working 1\n",
      "working 1\n",
      "working 1\n",
      "working 1\n",
      "working 1\n",
      "working 2\n",
      "working 2\n",
      "working 2\n",
      "working 2\n",
      "working 2\n",
      "working 3\n",
      "working 3\n",
      "working 3\n",
      "working 3\n",
      "working 3\n",
      "working 4\n",
      "working 4\n",
      "working 4\n",
      "working 4\n",
      "working 4\n"
     ]
    }
   ],
   "source": [
    "import time\n",
    "import threading\n",
    "\n",
    "def long_task():\n",
    "    for i in range(5):\n",
    "        time.sleep(1)\n",
    "        print(\"working: %s\" %i)\n",
    "print(\"start\")        \n",
    "\n",
    "\n",
    "threads = [] #스레드 생성\n",
    "for i in range(5):\n",
    "    t = threading.Thread(target = long_task) # 스레드 생성한다.\n",
    "    threads.append(t)\n",
    "    \n",
    "for t in threads:\n",
    "    t.start() #스레드 실행한다. \n",
    "    \n",
    "print(\"End\")    "
   ]
  },
  {
   "cell_type": "code",
   "execution_count": 127,
   "id": "a727a547-ab7c-4de3-8dee-71a6404f4bfc",
   "metadata": {},
   "outputs": [
    {
     "name": "stdout",
     "output_type": "stream",
     "text": [
      "start\n",
      "working: 0\n",
      "working: 0\n",
      "working: 0\n",
      "working: 0\n",
      "working: 0\n",
      "working: 1working: 1\n",
      "working: 1\n",
      "\n",
      "working: 1\n",
      "working: 1\n",
      "working: 2working: 2\n",
      "working: 2\n",
      "\n",
      "working: 2\n",
      "working: 2\n",
      "working: 3working: 3\n",
      "working: 3\n",
      "\n",
      "working: 3\n",
      "working: 3\n",
      "working: 4working: 4\n",
      "working: 4\n",
      "working: 4\n",
      "working: 4\n",
      "\n",
      "End\n"
     ]
    }
   ],
   "source": [
    "import time\n",
    "import threading\n",
    "def long_task():\n",
    "    for i in range(5):\n",
    "        time.sleep(1)\n",
    "        print(\"working: %s\" %i)\n",
    "print(\"start\")        \n",
    "\n",
    "threads = [] \n",
    "for i in range(5):\n",
    "    t = threading.Thread(target = long_task) # 스레드 생성한다.\n",
    "    threads.append(t)\n",
    "    \n",
    "for t in threads:\n",
    "    t.start() #스레드 실행한다. \n",
    "for t in threads:\n",
    "    t.join() # 스레드 기다린다. \n",
    "    \n",
    "print(\"End\")    "
   ]
  },
  {
   "cell_type": "code",
   "execution_count": 93,
   "id": "c1d1d494-9dac-449c-9104-958cfc565ed3",
   "metadata": {},
   "outputs": [
    {
     "name": "stdout",
     "output_type": "stream",
     "text": [
      "2 X 1 = 2\n",
      "2 X 2 = 4\n",
      "2 X 3 = 6\n",
      "2 X 4 = 8\n",
      "2 X 5 = 10\n",
      "2 X 6 = 12\n",
      "2 X 7 = 14\n",
      "2 X 8 = 16\n",
      "2 X 9 = 18\n",
      "\n",
      "3 X 1 = 3\n",
      "3 X 2 = 6\n",
      "3 X 3 = 9\n",
      "3 X 4 = 12\n",
      "3 X 5 = 15\n",
      "3 X 6 = 18\n",
      "3 X 7 = 21\n",
      "3 X 8 = 24\n",
      "3 X 9 = 27\n",
      "\n",
      "4 X 1 = 4\n",
      "4 X 2 = 8\n",
      "4 X 3 = 12\n",
      "4 X 4 = 16\n",
      "4 X 5 = 20\n",
      "4 X 6 = 24\n",
      "4 X 7 = 28\n",
      "4 X 8 = 32\n",
      "4 X 9 = 36\n",
      "\n",
      "5 X 1 = 5\n",
      "5 X 2 = 10\n",
      "5 X 3 = 15\n",
      "5 X 4 = 20\n",
      "5 X 5 = 25\n",
      "5 X 6 = 30\n",
      "5 X 7 = 35\n",
      "5 X 8 = 40\n",
      "5 X 9 = 45\n",
      "\n",
      "6 X 1 = 6\n",
      "6 X 2 = 12\n",
      "6 X 3 = 18\n",
      "6 X 4 = 24\n",
      "6 X 5 = 30\n",
      "6 X 6 = 36\n",
      "6 X 7 = 42\n",
      "6 X 8 = 48\n",
      "6 X 9 = 54\n",
      "\n",
      "7 X 1 = 7\n",
      "7 X 2 = 14\n",
      "7 X 3 = 21\n",
      "7 X 4 = 28\n",
      "7 X 5 = 35\n",
      "7 X 6 = 42\n",
      "7 X 7 = 49\n",
      "7 X 8 = 56\n",
      "7 X 9 = 63\n",
      "\n",
      "8 X 1 = 8\n",
      "8 X 2 = 16\n",
      "8 X 3 = 24\n",
      "8 X 4 = 32\n",
      "8 X 5 = 40\n",
      "8 X 6 = 48\n",
      "8 X 7 = 56\n",
      "8 X 8 = 64\n",
      "8 X 9 = 72\n",
      "\n",
      "9 X 1 = 9\n",
      "9 X 2 = 18\n",
      "9 X 3 = 27\n",
      "9 X 4 = 36\n",
      "9 X 5 = 45\n",
      "9 X 6 = 54\n",
      "9 X 7 = 63\n",
      "9 X 8 = 72\n",
      "9 X 9 = 81\n",
      "\n"
     ]
    }
   ],
   "source": [
    "for i in range(2,10):\n",
    "    for j in range(1,10):\n",
    "        print(f'{i} X {j} = {i * j}')\n",
    "    print() "
   ]
  },
  {
   "cell_type": "code",
   "execution_count": 92,
   "id": "999eca0a-e14e-4441-879d-ae81bc6d82a2",
   "metadata": {},
   "outputs": [],
   "source": [
    "li = []\n",
    "def GuGu(x):\n",
    "    for i in range(1,10):\n",
    "        li.append(x*i)\n",
    "    print(li) "
   ]
  },
  {
   "cell_type": "code",
   "execution_count": 94,
   "id": "e617da1f-745a-4468-b6b4-88d1d4e93b70",
   "metadata": {},
   "outputs": [
    {
     "data": {
      "text/plain": [
       "[2, 4, 6, 8, 10, 12, 14, 16, 18]"
      ]
     },
     "execution_count": 94,
     "metadata": {},
     "output_type": "execute_result"
    }
   ],
   "source": [
    "def GuGu(n):\n",
    "    li = []\n",
    "    for i in range(1, 10):\n",
    "        li.append(n * i)\n",
    "    return li\n",
    "\n",
    "GuGu(2) "
   ]
  },
  {
   "cell_type": "code",
   "execution_count": 102,
   "id": "2eca1519-bd8c-441e-bba4-7f5f434c4e34",
   "metadata": {},
   "outputs": [
    {
     "name": "stdout",
     "output_type": "stream",
     "text": [
      "2418\n"
     ]
    }
   ],
   "source": [
    "sum=0\n",
    "i=0\n",
    "for i in range(1,101):\n",
    "    if i%3 ==0:\n",
    "        sum += i\n",
    "    elif i%5 ==0:\n",
    "         sum += i\n",
    "print(sum)       "
   ]
  },
  {
   "cell_type": "code",
   "execution_count": 103,
   "id": "80c7cfad-604d-4efd-b78c-53b529d1ccf7",
   "metadata": {},
   "outputs": [
    {
     "name": "stdout",
     "output_type": "stream",
     "text": [
      "2418\n"
     ]
    }
   ],
   "source": [
    "i = 0\n",
    "total = 0\n",
    "while i < 100:\n",
    "    i += 1\n",
    "    if i%3 == 0 or i%5 == 0:\n",
    "        total += i\n",
    "        \n",
    "print(total) "
   ]
  },
  {
   "cell_type": "code",
   "execution_count": 114,
   "id": "d6164c5e-c2c0-4005-bb62-f1cae9b594bc",
   "metadata": {},
   "outputs": [],
   "source": [
    "def sum_3_5():\n",
    "  number = [i for i in range(1,101) if i % 3 == 0 or i % 5 == 0]\n",
    "  return sum(number) "
   ]
  },
  {
   "cell_type": "code",
   "execution_count": 115,
   "id": "e8f7139f-4fca-4810-86c9-897bba86292f",
   "metadata": {},
   "outputs": [
    {
     "ename": "TypeError",
     "evalue": "'int' object is not callable",
     "output_type": "error",
     "traceback": [
      "\u001b[1;31m---------------------------------------------------------------------------\u001b[0m",
      "\u001b[1;31mTypeError\u001b[0m                                 Traceback (most recent call last)",
      "Input \u001b[1;32mIn [115]\u001b[0m, in \u001b[0;36m<cell line: 1>\u001b[1;34m()\u001b[0m\n\u001b[1;32m----> 1\u001b[0m \u001b[43msum_3_5\u001b[49m\u001b[43m(\u001b[49m\u001b[43m)\u001b[49m\n",
      "Input \u001b[1;32mIn [114]\u001b[0m, in \u001b[0;36msum_3_5\u001b[1;34m()\u001b[0m\n\u001b[0;32m      1\u001b[0m \u001b[38;5;28;01mdef\u001b[39;00m \u001b[38;5;21msum_3_5\u001b[39m():\n\u001b[0;32m      2\u001b[0m   number \u001b[38;5;241m=\u001b[39m [i \u001b[38;5;28;01mfor\u001b[39;00m i \u001b[38;5;129;01min\u001b[39;00m \u001b[38;5;28mrange\u001b[39m(\u001b[38;5;241m1\u001b[39m,\u001b[38;5;241m101\u001b[39m) \u001b[38;5;28;01mif\u001b[39;00m i \u001b[38;5;241m%\u001b[39m \u001b[38;5;241m3\u001b[39m \u001b[38;5;241m==\u001b[39m \u001b[38;5;241m0\u001b[39m \u001b[38;5;129;01mor\u001b[39;00m i \u001b[38;5;241m%\u001b[39m \u001b[38;5;241m5\u001b[39m \u001b[38;5;241m==\u001b[39m \u001b[38;5;241m0\u001b[39m]\n\u001b[1;32m----> 3\u001b[0m   \u001b[38;5;28;01mreturn\u001b[39;00m \u001b[38;5;28;43msum\u001b[39;49m\u001b[43m(\u001b[49m\u001b[43mnumber\u001b[49m\u001b[43m)\u001b[49m\n",
      "\u001b[1;31mTypeError\u001b[0m: 'int' object is not callable"
     ]
    }
   ],
   "source": [
    "sum_3_5()"
   ]
  },
  {
   "cell_type": "code",
   "execution_count": 112,
   "id": "8c2530f5-8956-4636-a661-c85dafd13a02",
   "metadata": {},
   "outputs": [
    {
     "ename": "TypeError",
     "evalue": "'int' object is not callable",
     "output_type": "error",
     "traceback": [
      "\u001b[1;31m---------------------------------------------------------------------------\u001b[0m",
      "\u001b[1;31mTypeError\u001b[0m                                 Traceback (most recent call last)",
      "Input \u001b[1;32mIn [112]\u001b[0m, in \u001b[0;36m<cell line: 4>\u001b[1;34m()\u001b[0m\n\u001b[0;32m      2\u001b[0m     result \u001b[38;5;241m=\u001b[39m [i \u001b[38;5;28;01mfor\u001b[39;00m i \u001b[38;5;129;01min\u001b[39;00m \u001b[38;5;28mrange\u001b[39m(\u001b[38;5;241m1\u001b[39m,\u001b[38;5;241m100\u001b[39m\u001b[38;5;241m+\u001b[39m\u001b[38;5;241m1\u001b[39m) \u001b[38;5;28;01mif\u001b[39;00m i \u001b[38;5;241m%\u001b[39m \u001b[38;5;241m3\u001b[39m \u001b[38;5;241m==\u001b[39m \u001b[38;5;241m0\u001b[39m \u001b[38;5;129;01mor\u001b[39;00m i \u001b[38;5;241m%\u001b[39m \u001b[38;5;241m5\u001b[39m \u001b[38;5;241m==\u001b[39m \u001b[38;5;241m0\u001b[39m]\n\u001b[0;32m      3\u001b[0m     \u001b[38;5;28;01mreturn\u001b[39;00m \u001b[38;5;28msum\u001b[39m(result) \n\u001b[1;32m----> 4\u001b[0m \u001b[43mhap\u001b[49m\u001b[43m(\u001b[49m\u001b[43m)\u001b[49m\n",
      "Input \u001b[1;32mIn [112]\u001b[0m, in \u001b[0;36mhap\u001b[1;34m()\u001b[0m\n\u001b[0;32m      1\u001b[0m \u001b[38;5;28;01mdef\u001b[39;00m \u001b[38;5;21mhap\u001b[39m():\n\u001b[0;32m      2\u001b[0m     result \u001b[38;5;241m=\u001b[39m [i \u001b[38;5;28;01mfor\u001b[39;00m i \u001b[38;5;129;01min\u001b[39;00m \u001b[38;5;28mrange\u001b[39m(\u001b[38;5;241m1\u001b[39m,\u001b[38;5;241m100\u001b[39m\u001b[38;5;241m+\u001b[39m\u001b[38;5;241m1\u001b[39m) \u001b[38;5;28;01mif\u001b[39;00m i \u001b[38;5;241m%\u001b[39m \u001b[38;5;241m3\u001b[39m \u001b[38;5;241m==\u001b[39m \u001b[38;5;241m0\u001b[39m \u001b[38;5;129;01mor\u001b[39;00m i \u001b[38;5;241m%\u001b[39m \u001b[38;5;241m5\u001b[39m \u001b[38;5;241m==\u001b[39m \u001b[38;5;241m0\u001b[39m]\n\u001b[1;32m----> 3\u001b[0m     \u001b[38;5;28;01mreturn\u001b[39;00m \u001b[38;5;28;43msum\u001b[39;49m\u001b[43m(\u001b[49m\u001b[43mresult\u001b[49m\u001b[43m)\u001b[49m\n",
      "\u001b[1;31mTypeError\u001b[0m: 'int' object is not callable"
     ]
    }
   ],
   "source": [
    "def hap():\n",
    "    result = [i for i in range(1,100+1) if i % 3 == 0 or i % 5 == 0]\n",
    "    return sum(result) \n",
    "hap() "
   ]
  },
  {
   "cell_type": "code",
   "execution_count": 113,
   "id": "d3128c71-b8e6-437c-9674-0743719d57c0",
   "metadata": {},
   "outputs": [
    {
     "name": "stdout",
     "output_type": "stream",
     "text": [
      "2418\n"
     ]
    }
   ],
   "source": [
    "total = 0\n",
    "for i in range(1,101):\n",
    "    if (i % 3 == 0) or (i % 5 == 0):\n",
    "        total += i\n",
    "print(total)"
   ]
  },
  {
   "cell_type": "code",
   "execution_count": 110,
   "id": "83865294-c628-43f0-89e9-e8b07f02a3ae",
   "metadata": {},
   "outputs": [
    {
     "name": "stdout",
     "output_type": "stream",
     "text": [
      "2418\n"
     ]
    }
   ],
   "source": [
    "result = 0\n",
    "for i in range(1,101):\n",
    "    if i % 3 == 0 or i % 5 == 0:\n",
    "        result += i\n",
    "print(result) "
   ]
  },
  {
   "cell_type": "code",
   "execution_count": 118,
   "id": "8b2690b7-8e12-40e7-a2ce-577f9b5876b5",
   "metadata": {},
   "outputs": [],
   "source": [
    "def getTotalPage(m,n):\n",
    "     if m % n == 0:\n",
    "        return m // n # 나머지가 0일때는  몫을 그대로 써줌 \n",
    "     else:\n",
    "        return m // n + 1 # 나머지가 0이 아니면 몫에다 1을 더해야함 15페이지를 10으로\n",
    "    #나누면 몫은 1이니 +1 을 더함"
   ]
  },
  {
   "cell_type": "code",
   "execution_count": 119,
   "id": "4cd441b2-34e1-4b09-a47f-574527d0e6ee",
   "metadata": {},
   "outputs": [],
   "source": [
    "def getTotalPage(m, n):\n",
    "    total_page = m // n +1  # 몫을 구해서 1더함 \n",
    "    return total_page "
   ]
  },
  {
   "cell_type": "code",
   "execution_count": 120,
   "id": "36e5d025-4124-4882-8746-c77ebea464c4",
   "metadata": {},
   "outputs": [],
   "source": [
    "def getTotalPage(m, n):\n",
    "    pages = m // n + 1\n",
    "    if m % n == 0:\n",
    "        pages -= 1\n",
    "    return pages "
   ]
  },
  {
   "cell_type": "code",
   "execution_count": 122,
   "id": "dd38d6d2-1506-4fc0-be76-2481a9044262",
   "metadata": {},
   "outputs": [
    {
     "data": {
      "text/plain": [
       "'C:\\\\Users\\\\admin'"
      ]
     },
     "execution_count": 122,
     "metadata": {},
     "output_type": "execute_result"
    }
   ],
   "source": [
    "import os\n",
    "os.getcwd()"
   ]
  },
  {
   "cell_type": "code",
   "execution_count": 123,
   "id": "51fb82be-3b2a-4802-b4be-28f8d92482dc",
   "metadata": {},
   "outputs": [],
   "source": [
    "import sys"
   ]
  },
  {
   "cell_type": "code",
   "execution_count": 124,
   "id": "5a95647e-576e-4c9b-8db3-1f71c169928d",
   "metadata": {},
   "outputs": [
    {
     "name": "stdout",
     "output_type": "stream",
     "text": [
      "-f\n",
      "C:\\Users\\admin\\AppData\\Roaming\\jupyter\\runtime\\kernel-80aefb23-0f45-423f-9e5d-ba7949572756.json\n"
     ]
    }
   ],
   "source": [
    "option = sys.argv[1]\n",
    "memo =sys.argv[2]\n",
    "\n",
    "print(option)\n",
    "print(memo)"
   ]
  },
  {
   "cell_type": "code",
   "execution_count": 151,
   "id": "22271156-cb6f-4a25-9feb-536f2db141ed",
   "metadata": {},
   "outputs": [
    {
     "ename": "ValueError",
     "evalue": "invalid mode: 'f'",
     "output_type": "error",
     "traceback": [
      "\u001b[1;31m---------------------------------------------------------------------------\u001b[0m",
      "\u001b[1;31mValueError\u001b[0m                                Traceback (most recent call last)",
      "Input \u001b[1;32mIn [151]\u001b[0m, in \u001b[0;36m<cell line: 5>\u001b[1;34m()\u001b[0m\n\u001b[0;32m      2\u001b[0m \u001b[38;5;28;01mimport\u001b[39;00m \u001b[38;5;21;01mglob\u001b[39;00m\n\u001b[0;32m      3\u001b[0m \u001b[38;5;28;01mimport\u001b[39;00m \u001b[38;5;21;01mos\u001b[39;00m\n\u001b[1;32m----> 5\u001b[0m \u001b[38;5;28;01mwith\u001b[39;00m \u001b[38;5;28;43mopen\u001b[39;49m\u001b[43m(\u001b[49m\u001b[38;5;124;43m'\u001b[39;49m\u001b[38;5;124;43mmemo.txt\u001b[39;49m\u001b[38;5;124;43m'\u001b[39;49m\u001b[43m,\u001b[49m\u001b[43msys\u001b[49m\u001b[38;5;241;43m.\u001b[39;49m\u001b[43margv\u001b[49m\u001b[43m[\u001b[49m\u001b[38;5;241;43m1\u001b[39;49m\u001b[43m]\u001b[49m\u001b[43m[\u001b[49m\u001b[38;5;241;43m1\u001b[39;49m\u001b[43m]\u001b[49m\u001b[43m)\u001b[49m \u001b[38;5;28;01mas\u001b[39;00m f:\n\u001b[0;32m      6\u001b[0m      f\u001b[38;5;241m.\u001b[39mwrite(sys\u001b[38;5;241m.\u001b[39margv[\u001b[38;5;241m2\u001b[39m]\u001b[38;5;241m+\u001b[39m\u001b[38;5;124m'\u001b[39m\u001b[38;5;130;01m\\n\u001b[39;00m\u001b[38;5;124m'\u001b[39m)\n",
      "\u001b[1;31mValueError\u001b[0m: invalid mode: 'f'"
     ]
    }
   ],
   "source": [
    "import sys\n",
    "import glob\n",
    "import os\n",
    "\n",
    "with open('memo.txt',sys.argv[1][1]) as f:\n",
    "     f.write(sys.argv[2]+'\\n') "
   ]
  },
  {
   "cell_type": "code",
   "execution_count": 150,
   "id": "f1b3087c-0dbd-49d6-9a3e-71c59a22cfda",
   "metadata": {},
   "outputs": [
    {
     "ename": "ValueError",
     "evalue": "invalid mode: 'f'",
     "output_type": "error",
     "traceback": [
      "\u001b[1;31m---------------------------------------------------------------------------\u001b[0m",
      "\u001b[1;31mValueError\u001b[0m                                Traceback (most recent call last)",
      "Input \u001b[1;32mIn [150]\u001b[0m, in \u001b[0;36m<cell line: 3>\u001b[1;34m()\u001b[0m\n\u001b[0;32m      1\u001b[0m \u001b[38;5;28;01mimport\u001b[39;00m \u001b[38;5;21;01msys\u001b[39;00m\n\u001b[1;32m----> 3\u001b[0m \u001b[38;5;28;01mwith\u001b[39;00m \u001b[38;5;28;43mopen\u001b[39;49m\u001b[43m(\u001b[49m\u001b[38;5;124;43m'\u001b[39;49m\u001b[38;5;124;43mmemo.txt\u001b[39;49m\u001b[38;5;124;43m'\u001b[39;49m\u001b[43m,\u001b[49m\u001b[43msys\u001b[49m\u001b[38;5;241;43m.\u001b[39;49m\u001b[43margv\u001b[49m\u001b[43m[\u001b[49m\u001b[38;5;241;43m1\u001b[39;49m\u001b[43m]\u001b[49m\u001b[43m[\u001b[49m\u001b[38;5;241;43m1\u001b[39;49m\u001b[43m]\u001b[49m\u001b[43m)\u001b[49m \u001b[38;5;28;01mas\u001b[39;00m f:\n\u001b[0;32m      4\u001b[0m   f\u001b[38;5;241m.\u001b[39mwrite(sys\u001b[38;5;241m.\u001b[39margv[\u001b[38;5;241m2\u001b[39m]\u001b[38;5;241m+\u001b[39m\u001b[38;5;124m'\u001b[39m\u001b[38;5;130;01m\\n\u001b[39;00m\u001b[38;5;124m'\u001b[39m)\n",
      "\u001b[1;31mValueError\u001b[0m: invalid mode: 'f'"
     ]
    }
   ],
   "source": [
    "import sys\n",
    "\n",
    "with open('memo.txt',sys.argv[1][1]) as f:\n",
    "  f.write(sys.argv[2]+'\\n') "
   ]
  },
  {
   "cell_type": "code",
   "execution_count": 153,
   "id": "50e425f6-73fd-4022-85b7-c201bd2e11a6",
   "metadata": {},
   "outputs": [],
   "source": [
    "with open(\"memo.py\", 'w')as f:\n",
    "    f.write(\"Life is too short\\n\")\n",
    "    f.write(\"You need python\")\n",
    "f.close() "
   ]
  },
  {
   "cell_type": "code",
   "execution_count": 154,
   "id": "06b99018-af18-43b3-a0e8-367952498c32",
   "metadata": {},
   "outputs": [
    {
     "ename": "SyntaxError",
     "evalue": "invalid syntax (1759062383.py, line 1)",
     "output_type": "error",
     "traceback": [
      "\u001b[1;36m  Input \u001b[1;32mIn [154]\u001b[1;36m\u001b[0m\n\u001b[1;33m    f = open('memo.py', 'w') 처음에 빈파일을 만든다.\u001b[0m\n\u001b[1;37m                             ^\u001b[0m\n\u001b[1;31mSyntaxError\u001b[0m\u001b[1;31m:\u001b[0m invalid syntax\n"
     ]
    }
   ],
   "source": [
    "f = open('memo.py', 'w') 처음에 빈파일을 만든다.\n",
    "f.close()\n",
    "\n",
    "\n",
    "\n",
    "import sys\n",
    "\n",
    "option = sys.argv[1]\n",
    "#memo = sys.argv[2]\n",
    "\n",
    "if option == '-a':\n",
    "    memo = sys.argv[2]\n",
    "    f =open('memo.txt', 'a', encoding = 'utf-8')\n",
    "    f.write(memo)\n",
    "    f.write('\\n')\n",
    "    f.close()\n",
    "    \n",
    "#python memo.py -a \"Life is too short\" 옵셥 a는 텍스트 파일을 만들어 준다. \n",
    "#python memo.py -a \"You need python\"  \n",
    "#argv0은 memo.py이고 argv1은 -a이고 argv2는 라이프~이다. \n",
    "\n",
    "elif option == '-v': # 옵션 v는 파일을 읽어준다. \n",
    "    f =open('memo.txt', 'r', encoding = 'utf-8')\n",
    "    memo=f.readlines()\n",
    "    print(memo)  \n",
    "    f.close()\n",
    "    \n",
    "#print(option)\n",
    "#print(memo)"
   ]
  },
  {
   "cell_type": "code",
   "execution_count": null,
   "id": "291245dd-8d4c-4aa7-8ac0-de4d8e13ab29",
   "metadata": {},
   "outputs": [],
   "source": []
  }
 ],
 "metadata": {
  "kernelspec": {
   "display_name": "Python 3 (ipykernel)",
   "language": "python",
   "name": "python3"
  },
  "language_info": {
   "codemirror_mode": {
    "name": "ipython",
    "version": 3
   },
   "file_extension": ".py",
   "mimetype": "text/x-python",
   "name": "python",
   "nbconvert_exporter": "python",
   "pygments_lexer": "ipython3",
   "version": "3.9.12"
  }
 },
 "nbformat": 4,
 "nbformat_minor": 5
}
